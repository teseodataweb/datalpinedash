{
 "cells": [
  {
   "cell_type": "markdown",
   "metadata": {},
   "source": [
    "# **Mercado salarial**"
   ]
  },
  {
   "cell_type": "code",
   "execution_count": 1,
   "metadata": {},
   "outputs": [
    {
     "name": "stdout",
     "output_type": "stream",
     "text": [
      "Lista de DataFrames filtrados:\n"
     ]
    },
    {
     "data": {
      "text/plain": [
       "['df_salarios_pachuca']"
      ]
     },
     "execution_count": 1,
     "metadata": {},
     "output_type": "execute_result"
    }
   ],
   "source": [
    "# Manejo de datos\n",
    "import os # Directorios\n",
    "import pandas as pd # Manipulación df\n",
    "# Gráficas\n",
    "import plotly.graph_objects as go #Para obtener librería usar: pip install plotly\n",
    "from plotly.subplots import make_subplots\n",
    "import plotly.io as pio # Exportar gráfica\n",
    "\n",
    "# Obtener el directorio actual de trabajo\n",
    "directorio_actual = os.getcwd()\n",
    "\n",
    "# Directorio donde se encuentran los archivos JSON (ruta relativa)\n",
    "directorio_json = os.path.join(directorio_actual, '../../db/datos_json')\n",
    "\n",
    "# Obtener la lista de archivos JSON en el directorio\n",
    "archivos_json = os.listdir(directorio_json)\n",
    "\n",
    "# Cargar los archivos JSON y crear DataFrames\n",
    "for archivo in archivos_json:\n",
    "    nombre_tabla = archivo.replace('datos_', '').replace('.json', '')\n",
    "    ruta_json = os.path.join(directorio_json, archivo)\n",
    "    globals()[f\"df_{nombre_tabla}\"] = pd.read_json(ruta_json)\n",
    "\n",
    "# Obtener todos los nombres de las variables globales\n",
    "nombres_variables_globales = list(globals().keys())\n",
    "\n",
    "# Filtrar los nombres que comienzan con \"df_\", contienen \"alfa_q\" y \"pachuca\"\n",
    "nombres_df_filtrados = [\n",
    "    nombre for nombre in nombres_variables_globales \n",
    "    # Caso de cuando no son las alfa q\n",
    "    if nombre.startswith(\"df_\") and \"salarios\" in nombre and \"pachuca\" in nombre\n",
    "\n",
    "    #if nombre.startswith(\"df_\") and \"tulancingo\" in nombre    \n",
    "    #and (\"alfa_q\" in nombre or \"jul_2023\" in nombre or \"sep_2023\" in nombre or \"feb_2024\" in nombre or \"mar_2024\" in nombre or \"may_2024\" in nombre)\n",
    "]\n",
    "\n",
    "# Imprimir la lista de DataFrames filtrados\n",
    "print(\"Lista de DataFrames filtrados:\")\n",
    "nombres_df_filtrados"
   ]
  },
  {
   "cell_type": "markdown",
   "metadata": {},
   "source": [
    "# 1. Volumen del mercado salarial de parejas"
   ]
  },
  {
   "cell_type": "code",
   "execution_count": 2,
   "metadata": {},
   "outputs": [],
   "source": [
    "# Seleccionar las columnas 'id' y 'categoria'\n",
    "df = df_salarios_pachuca[['id_salarios','Volumen', 'Pareja','Categoria_Pareja']]"
   ]
  },
  {
   "cell_type": "code",
   "execution_count": 3,
   "metadata": {},
   "outputs": [
    {
     "name": "stdout",
     "output_type": "stream",
     "text": [
      "DataFrame para Categoria_Pareja 'A':\n",
      "     id_salarios     Volumen   Pareja Categoria_Pareja\n",
      "330          331  62760000.0  50700.0                A\n",
      "DataFrame para Categoria_Pareja 'A1':\n",
      "     id_salarios     Volumen    Pareja Categoria_Pareja\n",
      "331          332  7140000.00  57460.00               A1\n",
      "332          333  7223929.11  58413.59               A1\n",
      "DataFrame para Categoria_Pareja 'B':\n",
      "     id_salarios    Volumen   Pareja Categoria_Pareja\n",
      "329          330  5160000.0  43602.0                B\n",
      "DataFrame para Categoria_Pareja 'C':\n",
      "     id_salarios      Volumen    Pareja Categoria_Pareja\n",
      "321          322  10512000.00  30420.00                C\n",
      "322          323   8406999.99  30819.59                C\n",
      "323          324  18620000.00  33800.00                C\n",
      "DataFrame para Categoria_Pareja 'C1':\n",
      "     id_salarios      Volumen    Pareja Categoria_Pareja\n",
      "324          325  16963500.00  36335.00               C1\n",
      "325          326  40704876.35  36436.04               C1\n",
      "326          327  23070629.63  37381.94               C1\n",
      "327          328   7959599.99  37679.90               C1\n",
      "328          329  30080790.73  37966.05               C1\n",
      "DataFrame para Categoria_Pareja 'D':\n",
      "     id_salarios      Volumen    Pareja Categoria_Pareja\n",
      "301          302   3384800.01  20141.94                D\n",
      "302          303   2652000.00  20280.00                D\n",
      "303          304  15552000.00  20280.00                D\n",
      "304          305  11393599.98  20929.55                D\n",
      "305          306  44314332.83  21036.86                D\n",
      "306          307  30545784.06  21708.32                D\n",
      "307          308   6174000.00  22295.00                D\n",
      "308          309  32687550.09  22658.72                D\n",
      "309          310  11040000.00  23322.00                D\n",
      "310          311  21350999.97  24748.42                D\n",
      "311          312  18936000.06  24846.15                D\n",
      "DataFrame para Categoria_Pareja 'D1':\n",
      "     id_salarios      Volumen    Pareja Categoria_Pareja\n",
      "312          313   3405000.00  25350.00               D1\n",
      "313          314   3825000.00  25350.00               D1\n",
      "314          315  24059180.26  26873.77               D1\n",
      "315          316  76742152.72  26991.52               D1\n",
      "316          317  95612000.02  27415.05               D1\n",
      "317          318  12019000.00  28730.00               D1\n",
      "318          319  16632400.00  29068.00               D1\n",
      "319          320  20134493.69  29207.98               D1\n",
      "320          321  31683441.30  29259.57               D1\n",
      "DataFrame para Categoria_Pareja 'E':\n",
      "     id_salarios       Volumen    Pareja Categoria_Pareja\n",
      "240          241  1.126485e+07  12227.10                E\n",
      "241          242  2.818811e+07  12271.48                E\n",
      "242          243  1.264630e+06  12353.90                E\n",
      "243          244  2.105550e+07  12355.49                E\n",
      "244          245  6.653015e+06  12410.15                E\n",
      "245          246  2.190711e+07  12448.90                E\n",
      "246          247  4.877232e+06  12564.82                E\n",
      "247          248  6.340205e+07  12623.64                E\n",
      "248          249  7.384802e+07  12685.83                E\n",
      "249          250  1.114520e+08  12701.72                E\n",
      "250          251  6.300360e+06  13080.60                E\n",
      "251          252  1.507902e+07  13210.76                E\n",
      "252          253  1.593706e+06  13399.81                E\n",
      "253          254  2.096871e+07  13479.32                E\n",
      "254          255  4.334308e+07  13529.70                E\n",
      "255          256  4.838890e+07  13530.32                E\n",
      "256          257  1.254719e+07  13733.65                E\n",
      "257          258  1.209160e+06  13807.30                E\n",
      "258          259  1.000820e+07  14189.48                E\n",
      "259          260  6.586646e+06  14271.07                E\n",
      "260          261  1.903045e+06  14293.99                E\n",
      "261          262  4.127666e+07  14323.93                E\n",
      "262          263  2.488048e+07  14444.52                E\n",
      "263          264  4.262160e+06  14522.28                E\n",
      "264          265  7.146600e+06  14534.00                E\n",
      "265          266  4.128000e+06  14534.00                E\n",
      "266          267  1.696108e+08  14676.27                E\n",
      "267          268  2.234441e+07  14687.69                E\n",
      "268          269  1.639891e+07  14948.31                E\n",
      "269          270  7.343381e+06  15190.10                E\n",
      "270          271  8.648209e+07  15376.61                E\n",
      "271          272  6.718320e+06  15532.09                E\n",
      "272          273  2.161247e+07  15676.00                E\n",
      "273          274  5.636966e+06  15694.35                E\n",
      "274          275  1.205979e+07  15860.74                E\n",
      "275          276  1.733760e+07  15889.67                E\n",
      "DataFrame para Categoria_Pareja 'E1':\n",
      "     id_salarios       Volumen    Pareja Categoria_Pareja\n",
      "276          277  1.327680e+07  16015.55               E1\n",
      "277          278  2.755955e+07  16066.11               E1\n",
      "278          279  3.092689e+07  16091.88               E1\n",
      "279          280  1.366835e+07  16221.57               E1\n",
      "280          281  2.044800e+06  16224.00               E1\n",
      "281          282  1.646400e+06  16562.00               E1\n",
      "282          283  1.300800e+07  16742.97               E1\n",
      "283          284  1.125600e+07  16834.19               E1\n",
      "284          285  2.590000e+06  16900.00               E1\n",
      "285          286  7.310000e+06  16900.00               E1\n",
      "286          287  4.813150e+06  17052.88               E1\n",
      "287          288  7.226580e+06  17081.01               E1\n",
      "288          289  4.462301e+06  17139.29               E1\n",
      "289          290  9.337020e+06  17207.81               E1\n",
      "290          291  6.106820e+06  17229.59               E1\n",
      "291          292  1.767857e+07  17360.13               E1\n",
      "292          293  5.460140e+07  17361.50               E1\n",
      "293          294  2.150500e+07  17472.81               E1\n",
      "294          295  1.786650e+07  17792.80               E1\n",
      "295          296  4.730000e+06  18590.00               E1\n",
      "296          297  3.242673e+07  18729.04               E1\n",
      "297          298  1.152240e+07  18942.47               E1\n",
      "298          299  1.208526e+08  19114.74               E1\n",
      "299          300  1.958392e+07  19583.92               E1\n",
      "300          301  2.414880e+06  19620.90               E1\n",
      "DataFrame para Categoria_Pareja 'F':\n",
      "     id_salarios      Volumen   Pareja Categoria_Pareja\n",
      "56            57  10888570.00  5034.66                F\n",
      "57            58    570000.00  5070.00                F\n",
      "58            59   2349000.00  5070.00                F\n",
      "59            60   1248000.00  5070.00                F\n",
      "60            61    960000.00  5070.00                F\n",
      "..           ...          ...      ...              ...\n",
      "139          140  63465585.44  7841.56                F\n",
      "140          141   5011040.00  7855.90                F\n",
      "141          142  11782236.94  7904.72                F\n",
      "142          143  64348287.77  7944.23                F\n",
      "143          144   3333900.96  7946.82                F\n",
      "\n",
      "[88 rows x 4 columns]\n",
      "DataFrame para Categoria_Pareja 'F1':\n",
      "     id_salarios       Volumen    Pareja Categoria_Pareja\n",
      "144          145  2.506664e+07   8066.00               F1\n",
      "145          146  2.760000e+06   8083.88               F1\n",
      "146          147  2.109300e+07   8090.60               F1\n",
      "147          148  4.155407e+06   8090.60               F1\n",
      "148          149  3.115907e+06   8101.36               F1\n",
      "..           ...           ...       ...              ...\n",
      "235          236  1.046500e+07  11830.00               F1\n",
      "236          237  2.296000e+06  11830.00               F1\n",
      "237          238  1.046490e+07  11845.73               F1\n",
      "238          239  7.511350e+06  11863.72               F1\n",
      "239          240  2.214070e+08  11897.17               F1\n",
      "\n",
      "[96 rows x 4 columns]\n",
      "DataFrame para Categoria_Pareja 'G':\n",
      "    id_salarios       Volumen   Pareja Categoria_Pareja\n",
      "0             1  1.122300e+06   412.86                G\n",
      "1             2  6.090617e+06  1166.10                G\n",
      "2             3  2.746934e+05  1381.64                G\n",
      "3             4  5.687460e+05  1645.86                G\n",
      "4             5  7.170000e+05  1690.00                G\n",
      "5             6  8.170000e+05  1690.00                G\n",
      "6             7  9.520000e+05  1690.00                G\n",
      "7             8  1.519985e+08  1780.75                G\n",
      "8             9  5.010040e+05  2085.46                G\n",
      "9            10  1.609396e+07  2085.80                G\n",
      "10           11  1.537680e+06  2180.10                G\n",
      "11           12  8.528000e+05  2197.00                G\n",
      "12           13  7.878000e+05  2197.00                G\n",
      "13           14  5.645441e+05  2244.89                G\n",
      "14           15  5.684000e+05  2366.00                G\n",
      "15           16  1.029348e+06  2464.02                G\n",
      "16           17  1.883400e+06  2473.15                G\n",
      "17           18  2.250000e+05  2535.00                G\n",
      "18           19  9.885000e+05  2535.00                G\n",
      "19           20  3.150000e+05  2535.00                G\n",
      "20           21  3.477173e+06  2648.23                G\n",
      "21           22  1.983684e+06  2652.24                G\n",
      "22           23  4.235070e+06  2668.63                G\n",
      "23           24  2.426791e+07  2798.55                G\n",
      "24           25  1.000000e+06  2811.98                G\n",
      "25           26  3.785041e+07  3096.48                G\n",
      "26           27  6.012482e+07  3186.99                G\n",
      "27           28  9.273380e+06  3205.57                G\n",
      "28           29  2.790742e+06  3217.16                G\n",
      "29           30  1.007208e+07  3223.83                G\n",
      "30           31  7.372503e+07  3268.85                G\n",
      "31           32  3.560000e+05  3380.00                G\n",
      "32           33  3.732000e+06  3380.00                G\n",
      "33           34  3.697026e+07  3450.59                G\n",
      "34           35  8.647730e+06  3468.94                G\n",
      "35           36  2.038200e+06  3493.47                G\n",
      "36           37  1.264960e+07  3579.68                G\n",
      "37           38  2.500026e+06  3589.67                G\n",
      "38           39  3.719500e+05  3633.50                G\n",
      "39           40  1.330420e+06  3766.18                G\n",
      "40           41  7.717905e+06  3849.84                G\n",
      "41           42  4.897291e+07  4121.31                G\n",
      "42           43  1.484280e+06  4201.73                G\n",
      "43           44  2.907000e+06  4279.47                G\n",
      "44           45  2.829525e+07  4287.93                G\n",
      "45           46  1.566000e+06  4289.37                G\n",
      "46           47  2.652805e+07  4317.03                G\n",
      "47           48  6.484648e+08  4330.77                G\n",
      "48           49  8.404350e+06  4405.51                G\n",
      "49           50  1.344949e+06  4500.92                G\n",
      "50           51  1.427043e+07  4575.42                G\n",
      "51           52  3.408000e+06  4578.31                G\n",
      "52           53  5.192250e+06  4589.38                G\n",
      "53           54  8.412950e+05  4723.55                G\n",
      "54           55  5.862570e+08  4870.37                G\n",
      "55           56  4.661741e+07  4988.82                G\n"
     ]
    }
   ],
   "source": [
    "# Crea un diccionario para almacenar los DataFrames de cada categoría única\n",
    "dataframes_por_categoria = {}\n",
    "\n",
    "# Itera sobre los grupos creados por groupby()\n",
    "for categoria, grupo in df.groupby('Categoria_Pareja'):\n",
    "    # Almacena el DataFrame del grupo en el diccionario\n",
    "    dataframes_por_categoria[categoria] = grupo\n",
    "\n",
    "# Itera sobre las claves del diccionario dataframes_por_categoria\n",
    "for categoria in dataframes_por_categoria:\n",
    "    # Imprime la categoría actual\n",
    "    print(\"DataFrame para Categoria_Pareja '{}':\".format(categoria))\n",
    "    # Imprime el DataFrame correspondiente a la categoría actual\n",
    "    print(dataframes_por_categoria[categoria])\n"
   ]
  },
  {
   "cell_type": "code",
   "execution_count": 4,
   "metadata": {},
   "outputs": [
    {
     "name": "stdout",
     "output_type": "stream",
     "text": [
      "DataFrame con las sumas del volumen por categoría:\n"
     ]
    },
    {
     "data": {
      "text/html": [
       "<div>\n",
       "<style scoped>\n",
       "    .dataframe tbody tr th:only-of-type {\n",
       "        vertical-align: middle;\n",
       "    }\n",
       "\n",
       "    .dataframe tbody tr th {\n",
       "        vertical-align: top;\n",
       "    }\n",
       "\n",
       "    .dataframe thead th {\n",
       "        text-align: right;\n",
       "    }\n",
       "</style>\n",
       "<table border=\"1\" class=\"dataframe\">\n",
       "  <thead>\n",
       "    <tr style=\"text-align: right;\">\n",
       "      <th></th>\n",
       "      <th>Suma_Volumen</th>\n",
       "    </tr>\n",
       "  </thead>\n",
       "  <tbody>\n",
       "    <tr>\n",
       "      <th>G</th>\n",
       "      <td>1,917,556,675.26</td>\n",
       "    </tr>\n",
       "    <tr>\n",
       "      <th>F</th>\n",
       "      <td>4,638,065,608.63</td>\n",
       "    </tr>\n",
       "    <tr>\n",
       "      <th>F1</th>\n",
       "      <td>4,190,311,696.11</td>\n",
       "    </tr>\n",
       "    <tr>\n",
       "      <th>E</th>\n",
       "      <td>959,079,093.57</td>\n",
       "    </tr>\n",
       "    <tr>\n",
       "      <th>E1</th>\n",
       "      <td>458,414,693.48</td>\n",
       "    </tr>\n",
       "    <tr>\n",
       "      <th>D</th>\n",
       "      <td>198,031,067.00</td>\n",
       "    </tr>\n",
       "    <tr>\n",
       "      <th>D1</th>\n",
       "      <td>284,112,667.99</td>\n",
       "    </tr>\n",
       "    <tr>\n",
       "      <th>C</th>\n",
       "      <td>37,538,999.99</td>\n",
       "    </tr>\n",
       "    <tr>\n",
       "      <th>C1</th>\n",
       "      <td>118,779,396.70</td>\n",
       "    </tr>\n",
       "    <tr>\n",
       "      <th>B</th>\n",
       "      <td>5,160,000.00</td>\n",
       "    </tr>\n",
       "    <tr>\n",
       "      <th>B1</th>\n",
       "      <td>0.00</td>\n",
       "    </tr>\n",
       "    <tr>\n",
       "      <th>A</th>\n",
       "      <td>62,760,000.00</td>\n",
       "    </tr>\n",
       "    <tr>\n",
       "      <th>A1</th>\n",
       "      <td>14,363,929.11</td>\n",
       "    </tr>\n",
       "    <tr>\n",
       "      <th>S</th>\n",
       "      <td>0.00</td>\n",
       "    </tr>\n",
       "  </tbody>\n",
       "</table>\n",
       "</div>"
      ],
      "text/plain": [
       "       Suma_Volumen\n",
       "G  1,917,556,675.26\n",
       "F  4,638,065,608.63\n",
       "F1 4,190,311,696.11\n",
       "E    959,079,093.57\n",
       "E1   458,414,693.48\n",
       "D    198,031,067.00\n",
       "D1   284,112,667.99\n",
       "C     37,538,999.99\n",
       "C1   118,779,396.70\n",
       "B      5,160,000.00\n",
       "B1             0.00\n",
       "A     62,760,000.00\n",
       "A1    14,363,929.11\n",
       "S              0.00"
      ]
     },
     "execution_count": 4,
     "metadata": {},
     "output_type": "execute_result"
    }
   ],
   "source": [
    "sumas_volumen_por_categoria = {}\n",
    "\n",
    "# Itera sobre el diccionario de DataFrames\n",
    "for categoria, df in dataframes_por_categoria.items():\n",
    "    suma_volumen = df['Volumen'].sum() # Calcula la suma del volumen para cada DataFrame    \n",
    "    sumas_volumen_por_categoria[categoria] = suma_volumen # Guarda la suma del volumen en el diccionario\n",
    "\n",
    "# Convierte el diccionario de sumas en un DataFrame\n",
    "df_sumas_volumen = pd.DataFrame.from_dict(sumas_volumen_por_categoria, orient='index', columns=['Suma_Volumen'])\n",
    "# Mantener orden\n",
    "nuevo_orden = ['G', 'F', 'F1', 'E', 'E1', 'D', 'D1', 'C', 'C1', 'B', 'B1', 'A', 'A1', 'S']\n",
    "df_sumas_volumen = df_sumas_volumen.reindex(nuevo_orden)\n",
    "df_sumas_volumen['Suma_Volumen'] = df_sumas_volumen['Suma_Volumen'].fillna(0)\n",
    "\n",
    "#pd.set_option('display.float_format', lambda x: '%.2f' % x) # Mostar números sin notación científica\n",
    "pd.options.display.float_format = '{:,.2f}'.format # Mostrar comas como separadores de miles y dos decimales\n",
    "\n",
    "print(\"DataFrame con las sumas del volumen por categoría:\")\n",
    "df_sumas_volumen"
   ]
  },
  {
   "cell_type": "code",
   "execution_count": 5,
   "metadata": {},
   "outputs": [
    {
     "data": {
      "text/html": [
       "<div>\n",
       "<style scoped>\n",
       "    .dataframe tbody tr th:only-of-type {\n",
       "        vertical-align: middle;\n",
       "    }\n",
       "\n",
       "    .dataframe tbody tr th {\n",
       "        vertical-align: top;\n",
       "    }\n",
       "\n",
       "    .dataframe thead th {\n",
       "        text-align: right;\n",
       "    }\n",
       "</style>\n",
       "<table border=\"1\" class=\"dataframe\">\n",
       "  <thead>\n",
       "    <tr style=\"text-align: right;\">\n",
       "      <th></th>\n",
       "      <th>Suma_Volumen</th>\n",
       "      <th>Label</th>\n",
       "    </tr>\n",
       "  </thead>\n",
       "  <tbody>\n",
       "    <tr>\n",
       "      <th>G</th>\n",
       "      <td>1,917,556,675.26</td>\n",
       "      <td>G [Menor a 5000 mil]</td>\n",
       "    </tr>\n",
       "    <tr>\n",
       "      <th>F</th>\n",
       "      <td>4,638,065,608.63</td>\n",
       "      <td>F [5 mil-8 mil]</td>\n",
       "    </tr>\n",
       "    <tr>\n",
       "      <th>F1</th>\n",
       "      <td>4,190,311,696.11</td>\n",
       "      <td>F1 [8 mil-12mil]</td>\n",
       "    </tr>\n",
       "    <tr>\n",
       "      <th>E</th>\n",
       "      <td>959,079,093.57</td>\n",
       "      <td>E [12 mil-16mil]</td>\n",
       "    </tr>\n",
       "    <tr>\n",
       "      <th>E1</th>\n",
       "      <td>458,414,693.48</td>\n",
       "      <td>E1 [16 mil-20 mil]</td>\n",
       "    </tr>\n",
       "    <tr>\n",
       "      <th>D</th>\n",
       "      <td>198,031,067.00</td>\n",
       "      <td>D [20 mil -25 mil]</td>\n",
       "    </tr>\n",
       "    <tr>\n",
       "      <th>D1</th>\n",
       "      <td>284,112,667.99</td>\n",
       "      <td>D1 [25 mil-30mil]</td>\n",
       "    </tr>\n",
       "    <tr>\n",
       "      <th>C</th>\n",
       "      <td>37,538,999.99</td>\n",
       "      <td>C [30 mil-35 mil]</td>\n",
       "    </tr>\n",
       "    <tr>\n",
       "      <th>C1</th>\n",
       "      <td>118,779,396.70</td>\n",
       "      <td>C1 [35 mil-40 mil]</td>\n",
       "    </tr>\n",
       "    <tr>\n",
       "      <th>B</th>\n",
       "      <td>5,160,000.00</td>\n",
       "      <td>B [40 mil-45 mil]</td>\n",
       "    </tr>\n",
       "    <tr>\n",
       "      <th>B1</th>\n",
       "      <td>0.00</td>\n",
       "      <td>B1 [45 mil-50 mil]</td>\n",
       "    </tr>\n",
       "    <tr>\n",
       "      <th>A</th>\n",
       "      <td>62,760,000.00</td>\n",
       "      <td>A [50 mil-55 mil]</td>\n",
       "    </tr>\n",
       "    <tr>\n",
       "      <th>A1</th>\n",
       "      <td>14,363,929.11</td>\n",
       "      <td>A1 [55 mil-60 mil]</td>\n",
       "    </tr>\n",
       "    <tr>\n",
       "      <th>S</th>\n",
       "      <td>0.00</td>\n",
       "      <td>S+ [Mayor a 60 mil]</td>\n",
       "    </tr>\n",
       "  </tbody>\n",
       "</table>\n",
       "</div>"
      ],
      "text/plain": [
       "       Suma_Volumen                 Label\n",
       "G  1,917,556,675.26  G [Menor a 5000 mil]\n",
       "F  4,638,065,608.63       F [5 mil-8 mil]\n",
       "F1 4,190,311,696.11      F1 [8 mil-12mil]\n",
       "E    959,079,093.57      E [12 mil-16mil]\n",
       "E1   458,414,693.48    E1 [16 mil-20 mil]\n",
       "D    198,031,067.00    D [20 mil -25 mil]\n",
       "D1   284,112,667.99     D1 [25 mil-30mil]\n",
       "C     37,538,999.99     C [30 mil-35 mil]\n",
       "C1   118,779,396.70    C1 [35 mil-40 mil]\n",
       "B      5,160,000.00     B [40 mil-45 mil]\n",
       "B1             0.00    B1 [45 mil-50 mil]\n",
       "A     62,760,000.00     A [50 mil-55 mil]\n",
       "A1    14,363,929.11    A1 [55 mil-60 mil]\n",
       "S              0.00   S+ [Mayor a 60 mil]"
      ]
     },
     "execution_count": 5,
     "metadata": {},
     "output_type": "execute_result"
    }
   ],
   "source": [
    "df_volumen_ms_parejas = df_sumas_volumen[['Suma_Volumen']]\n",
    "#df_volumen_ms_parejas['Label'] = ['<5000 G','<5-8K F','8-12K F1','12-16K E','16-20K E1','20-25K D','25-30K D1','30-35K C','35-40K C1','40-45K B','45-50K B1','50-55K A','55-60K A1','60K S+']\n",
    "df_volumen_ms_parejas['Label'] = [\n",
    "    'G [Menor a 5000 mil]',\n",
    "    'F [5 mil-8 mil]',\n",
    "    'F1 [8 mil-12mil]',\n",
    "    'E [12 mil-16mil]',\n",
    "    'E1 [16 mil-20 mil]',\n",
    "    'D [20 mil -25 mil]',\n",
    "    'D1 [25 mil-30mil]',\n",
    "    'C [30 mil-35 mil]',\n",
    "    'C1 [35 mil-40 mil]',\n",
    "    'B [40 mil-45 mil]',\n",
    "    'B1 [45 mil-50 mil]',\n",
    "    'A [50 mil-55 mil]',\n",
    "    'A1 [55 mil-60 mil]',\n",
    "    'S+ [Mayor a 60 mil]'\n",
    "]\n",
    "df_volumen_ms_parejas"
   ]
  },
  {
   "cell_type": "code",
   "execution_count": 6,
   "metadata": {},
   "outputs": [
    {
     "data": {
      "application/vnd.plotly.v1+json": {
       "config": {
        "plotlyServerURL": "https://plot.ly"
       },
       "data": [
        {
         "marker": {
          "color": [
           "#2962ff",
           "#9500ff",
           "#ff0059",
           "#ff8c00",
           "#b4e600",
           "#2EC2A2",
           "#E50CB6",
           "#4225CF",
           "#2CBA4D",
           "#2962ff",
           "#9500ff",
           "#ff0059"
          ]
         },
         "text": [
          "1,917,556,675.26",
          "4,638,065,608.63",
          "4,190,311,696.11",
          "959,079,093.57",
          "458,414,693.48",
          "198,031,067.00",
          "284,112,667.99",
          "37,538,999.99",
          "118,779,396.70",
          "5,160,000.00",
          "0.00",
          "62,760,000.00",
          "14,363,929.11",
          "0.00"
         ],
         "textposition": "outside",
         "type": "bar",
         "x": [
          "G [Menor a 5000 mil]",
          "F [5 mil-8 mil]",
          "F1 [8 mil-12mil]",
          "E [12 mil-16mil]",
          "E1 [16 mil-20 mil]",
          "D [20 mil -25 mil]",
          "D1 [25 mil-30mil]",
          "C [30 mil-35 mil]",
          "C1 [35 mil-40 mil]",
          "B [40 mil-45 mil]",
          "B1 [45 mil-50 mil]",
          "A [50 mil-55 mil]",
          "A1 [55 mil-60 mil]",
          "S+ [Mayor a 60 mil]"
         ],
         "y": [
          1917556675.2600002,
          4638065608.63,
          4190311696.11,
          959079093.5699999,
          458414693.48,
          198031067,
          284112667.99,
          37538999.99,
          118779396.7,
          5160000,
          0,
          62760000,
          14363929.11,
          0
         ]
        }
       ],
       "layout": {
        "margin": {
         "b": 10,
         "l": 10,
         "r": 10,
         "t": 10
        },
        "plot_bgcolor": "rgba(0,0,0,0)",
        "template": {
         "data": {
          "bar": [
           {
            "error_x": {
             "color": "#2a3f5f"
            },
            "error_y": {
             "color": "#2a3f5f"
            },
            "marker": {
             "line": {
              "color": "#E5ECF6",
              "width": 0.5
             },
             "pattern": {
              "fillmode": "overlay",
              "size": 10,
              "solidity": 0.2
             }
            },
            "type": "bar"
           }
          ],
          "barpolar": [
           {
            "marker": {
             "line": {
              "color": "#E5ECF6",
              "width": 0.5
             },
             "pattern": {
              "fillmode": "overlay",
              "size": 10,
              "solidity": 0.2
             }
            },
            "type": "barpolar"
           }
          ],
          "carpet": [
           {
            "aaxis": {
             "endlinecolor": "#2a3f5f",
             "gridcolor": "white",
             "linecolor": "white",
             "minorgridcolor": "white",
             "startlinecolor": "#2a3f5f"
            },
            "baxis": {
             "endlinecolor": "#2a3f5f",
             "gridcolor": "white",
             "linecolor": "white",
             "minorgridcolor": "white",
             "startlinecolor": "#2a3f5f"
            },
            "type": "carpet"
           }
          ],
          "choropleth": [
           {
            "colorbar": {
             "outlinewidth": 0,
             "ticks": ""
            },
            "type": "choropleth"
           }
          ],
          "contour": [
           {
            "colorbar": {
             "outlinewidth": 0,
             "ticks": ""
            },
            "colorscale": [
             [
              0,
              "#0d0887"
             ],
             [
              0.1111111111111111,
              "#46039f"
             ],
             [
              0.2222222222222222,
              "#7201a8"
             ],
             [
              0.3333333333333333,
              "#9c179e"
             ],
             [
              0.4444444444444444,
              "#bd3786"
             ],
             [
              0.5555555555555556,
              "#d8576b"
             ],
             [
              0.6666666666666666,
              "#ed7953"
             ],
             [
              0.7777777777777778,
              "#fb9f3a"
             ],
             [
              0.8888888888888888,
              "#fdca26"
             ],
             [
              1,
              "#f0f921"
             ]
            ],
            "type": "contour"
           }
          ],
          "contourcarpet": [
           {
            "colorbar": {
             "outlinewidth": 0,
             "ticks": ""
            },
            "type": "contourcarpet"
           }
          ],
          "heatmap": [
           {
            "colorbar": {
             "outlinewidth": 0,
             "ticks": ""
            },
            "colorscale": [
             [
              0,
              "#0d0887"
             ],
             [
              0.1111111111111111,
              "#46039f"
             ],
             [
              0.2222222222222222,
              "#7201a8"
             ],
             [
              0.3333333333333333,
              "#9c179e"
             ],
             [
              0.4444444444444444,
              "#bd3786"
             ],
             [
              0.5555555555555556,
              "#d8576b"
             ],
             [
              0.6666666666666666,
              "#ed7953"
             ],
             [
              0.7777777777777778,
              "#fb9f3a"
             ],
             [
              0.8888888888888888,
              "#fdca26"
             ],
             [
              1,
              "#f0f921"
             ]
            ],
            "type": "heatmap"
           }
          ],
          "heatmapgl": [
           {
            "colorbar": {
             "outlinewidth": 0,
             "ticks": ""
            },
            "colorscale": [
             [
              0,
              "#0d0887"
             ],
             [
              0.1111111111111111,
              "#46039f"
             ],
             [
              0.2222222222222222,
              "#7201a8"
             ],
             [
              0.3333333333333333,
              "#9c179e"
             ],
             [
              0.4444444444444444,
              "#bd3786"
             ],
             [
              0.5555555555555556,
              "#d8576b"
             ],
             [
              0.6666666666666666,
              "#ed7953"
             ],
             [
              0.7777777777777778,
              "#fb9f3a"
             ],
             [
              0.8888888888888888,
              "#fdca26"
             ],
             [
              1,
              "#f0f921"
             ]
            ],
            "type": "heatmapgl"
           }
          ],
          "histogram": [
           {
            "marker": {
             "pattern": {
              "fillmode": "overlay",
              "size": 10,
              "solidity": 0.2
             }
            },
            "type": "histogram"
           }
          ],
          "histogram2d": [
           {
            "colorbar": {
             "outlinewidth": 0,
             "ticks": ""
            },
            "colorscale": [
             [
              0,
              "#0d0887"
             ],
             [
              0.1111111111111111,
              "#46039f"
             ],
             [
              0.2222222222222222,
              "#7201a8"
             ],
             [
              0.3333333333333333,
              "#9c179e"
             ],
             [
              0.4444444444444444,
              "#bd3786"
             ],
             [
              0.5555555555555556,
              "#d8576b"
             ],
             [
              0.6666666666666666,
              "#ed7953"
             ],
             [
              0.7777777777777778,
              "#fb9f3a"
             ],
             [
              0.8888888888888888,
              "#fdca26"
             ],
             [
              1,
              "#f0f921"
             ]
            ],
            "type": "histogram2d"
           }
          ],
          "histogram2dcontour": [
           {
            "colorbar": {
             "outlinewidth": 0,
             "ticks": ""
            },
            "colorscale": [
             [
              0,
              "#0d0887"
             ],
             [
              0.1111111111111111,
              "#46039f"
             ],
             [
              0.2222222222222222,
              "#7201a8"
             ],
             [
              0.3333333333333333,
              "#9c179e"
             ],
             [
              0.4444444444444444,
              "#bd3786"
             ],
             [
              0.5555555555555556,
              "#d8576b"
             ],
             [
              0.6666666666666666,
              "#ed7953"
             ],
             [
              0.7777777777777778,
              "#fb9f3a"
             ],
             [
              0.8888888888888888,
              "#fdca26"
             ],
             [
              1,
              "#f0f921"
             ]
            ],
            "type": "histogram2dcontour"
           }
          ],
          "mesh3d": [
           {
            "colorbar": {
             "outlinewidth": 0,
             "ticks": ""
            },
            "type": "mesh3d"
           }
          ],
          "parcoords": [
           {
            "line": {
             "colorbar": {
              "outlinewidth": 0,
              "ticks": ""
             }
            },
            "type": "parcoords"
           }
          ],
          "pie": [
           {
            "automargin": true,
            "type": "pie"
           }
          ],
          "scatter": [
           {
            "fillpattern": {
             "fillmode": "overlay",
             "size": 10,
             "solidity": 0.2
            },
            "type": "scatter"
           }
          ],
          "scatter3d": [
           {
            "line": {
             "colorbar": {
              "outlinewidth": 0,
              "ticks": ""
             }
            },
            "marker": {
             "colorbar": {
              "outlinewidth": 0,
              "ticks": ""
             }
            },
            "type": "scatter3d"
           }
          ],
          "scattercarpet": [
           {
            "marker": {
             "colorbar": {
              "outlinewidth": 0,
              "ticks": ""
             }
            },
            "type": "scattercarpet"
           }
          ],
          "scattergeo": [
           {
            "marker": {
             "colorbar": {
              "outlinewidth": 0,
              "ticks": ""
             }
            },
            "type": "scattergeo"
           }
          ],
          "scattergl": [
           {
            "marker": {
             "colorbar": {
              "outlinewidth": 0,
              "ticks": ""
             }
            },
            "type": "scattergl"
           }
          ],
          "scattermapbox": [
           {
            "marker": {
             "colorbar": {
              "outlinewidth": 0,
              "ticks": ""
             }
            },
            "type": "scattermapbox"
           }
          ],
          "scatterpolar": [
           {
            "marker": {
             "colorbar": {
              "outlinewidth": 0,
              "ticks": ""
             }
            },
            "type": "scatterpolar"
           }
          ],
          "scatterpolargl": [
           {
            "marker": {
             "colorbar": {
              "outlinewidth": 0,
              "ticks": ""
             }
            },
            "type": "scatterpolargl"
           }
          ],
          "scatterternary": [
           {
            "marker": {
             "colorbar": {
              "outlinewidth": 0,
              "ticks": ""
             }
            },
            "type": "scatterternary"
           }
          ],
          "surface": [
           {
            "colorbar": {
             "outlinewidth": 0,
             "ticks": ""
            },
            "colorscale": [
             [
              0,
              "#0d0887"
             ],
             [
              0.1111111111111111,
              "#46039f"
             ],
             [
              0.2222222222222222,
              "#7201a8"
             ],
             [
              0.3333333333333333,
              "#9c179e"
             ],
             [
              0.4444444444444444,
              "#bd3786"
             ],
             [
              0.5555555555555556,
              "#d8576b"
             ],
             [
              0.6666666666666666,
              "#ed7953"
             ],
             [
              0.7777777777777778,
              "#fb9f3a"
             ],
             [
              0.8888888888888888,
              "#fdca26"
             ],
             [
              1,
              "#f0f921"
             ]
            ],
            "type": "surface"
           }
          ],
          "table": [
           {
            "cells": {
             "fill": {
              "color": "#EBF0F8"
             },
             "line": {
              "color": "white"
             }
            },
            "header": {
             "fill": {
              "color": "#C8D4E3"
             },
             "line": {
              "color": "white"
             }
            },
            "type": "table"
           }
          ]
         },
         "layout": {
          "annotationdefaults": {
           "arrowcolor": "#2a3f5f",
           "arrowhead": 0,
           "arrowwidth": 1
          },
          "autotypenumbers": "strict",
          "coloraxis": {
           "colorbar": {
            "outlinewidth": 0,
            "ticks": ""
           }
          },
          "colorscale": {
           "diverging": [
            [
             0,
             "#8e0152"
            ],
            [
             0.1,
             "#c51b7d"
            ],
            [
             0.2,
             "#de77ae"
            ],
            [
             0.3,
             "#f1b6da"
            ],
            [
             0.4,
             "#fde0ef"
            ],
            [
             0.5,
             "#f7f7f7"
            ],
            [
             0.6,
             "#e6f5d0"
            ],
            [
             0.7,
             "#b8e186"
            ],
            [
             0.8,
             "#7fbc41"
            ],
            [
             0.9,
             "#4d9221"
            ],
            [
             1,
             "#276419"
            ]
           ],
           "sequential": [
            [
             0,
             "#0d0887"
            ],
            [
             0.1111111111111111,
             "#46039f"
            ],
            [
             0.2222222222222222,
             "#7201a8"
            ],
            [
             0.3333333333333333,
             "#9c179e"
            ],
            [
             0.4444444444444444,
             "#bd3786"
            ],
            [
             0.5555555555555556,
             "#d8576b"
            ],
            [
             0.6666666666666666,
             "#ed7953"
            ],
            [
             0.7777777777777778,
             "#fb9f3a"
            ],
            [
             0.8888888888888888,
             "#fdca26"
            ],
            [
             1,
             "#f0f921"
            ]
           ],
           "sequentialminus": [
            [
             0,
             "#0d0887"
            ],
            [
             0.1111111111111111,
             "#46039f"
            ],
            [
             0.2222222222222222,
             "#7201a8"
            ],
            [
             0.3333333333333333,
             "#9c179e"
            ],
            [
             0.4444444444444444,
             "#bd3786"
            ],
            [
             0.5555555555555556,
             "#d8576b"
            ],
            [
             0.6666666666666666,
             "#ed7953"
            ],
            [
             0.7777777777777778,
             "#fb9f3a"
            ],
            [
             0.8888888888888888,
             "#fdca26"
            ],
            [
             1,
             "#f0f921"
            ]
           ]
          },
          "colorway": [
           "#636efa",
           "#EF553B",
           "#00cc96",
           "#ab63fa",
           "#FFA15A",
           "#19d3f3",
           "#FF6692",
           "#B6E880",
           "#FF97FF",
           "#FECB52"
          ],
          "font": {
           "color": "#2a3f5f"
          },
          "geo": {
           "bgcolor": "white",
           "lakecolor": "white",
           "landcolor": "#E5ECF6",
           "showlakes": true,
           "showland": true,
           "subunitcolor": "white"
          },
          "hoverlabel": {
           "align": "left"
          },
          "hovermode": "closest",
          "mapbox": {
           "style": "light"
          },
          "paper_bgcolor": "white",
          "plot_bgcolor": "#E5ECF6",
          "polar": {
           "angularaxis": {
            "gridcolor": "white",
            "linecolor": "white",
            "ticks": ""
           },
           "bgcolor": "#E5ECF6",
           "radialaxis": {
            "gridcolor": "white",
            "linecolor": "white",
            "ticks": ""
           }
          },
          "scene": {
           "xaxis": {
            "backgroundcolor": "#E5ECF6",
            "gridcolor": "white",
            "gridwidth": 2,
            "linecolor": "white",
            "showbackground": true,
            "ticks": "",
            "zerolinecolor": "white"
           },
           "yaxis": {
            "backgroundcolor": "#E5ECF6",
            "gridcolor": "white",
            "gridwidth": 2,
            "linecolor": "white",
            "showbackground": true,
            "ticks": "",
            "zerolinecolor": "white"
           },
           "zaxis": {
            "backgroundcolor": "#E5ECF6",
            "gridcolor": "white",
            "gridwidth": 2,
            "linecolor": "white",
            "showbackground": true,
            "ticks": "",
            "zerolinecolor": "white"
           }
          },
          "shapedefaults": {
           "line": {
            "color": "#2a3f5f"
           }
          },
          "ternary": {
           "aaxis": {
            "gridcolor": "white",
            "linecolor": "white",
            "ticks": ""
           },
           "baxis": {
            "gridcolor": "white",
            "linecolor": "white",
            "ticks": ""
           },
           "bgcolor": "#E5ECF6",
           "caxis": {
            "gridcolor": "white",
            "linecolor": "white",
            "ticks": ""
           }
          },
          "title": {
           "x": 0.05
          },
          "xaxis": {
           "automargin": true,
           "gridcolor": "white",
           "linecolor": "white",
           "ticks": "",
           "title": {
            "standoff": 15
           },
           "zerolinecolor": "white",
           "zerolinewidth": 2
          },
          "yaxis": {
           "automargin": true,
           "gridcolor": "white",
           "linecolor": "white",
           "ticks": "",
           "title": {
            "standoff": 15
           },
           "zerolinecolor": "white",
           "zerolinewidth": 2
          }
         }
        },
        "title": {
         "x": 0.5
        },
        "yaxis": {
         "gridcolor": "#dddcda",
         "gridwidth": 1,
         "ticktext": [
          "$1,000,000,000",
          "$2,000,000,000",
          "$3,000,000,000",
          "$4,000,000,000",
          "$5,000,000,000"
         ],
         "tickvals": [
          1000000000,
          2000000000,
          3000000000,
          4000000000,
          5000000000
         ]
        }
       }
      }
     },
     "metadata": {},
     "output_type": "display_data"
    }
   ],
   "source": [
    "pd.options.display.float_format = '{:,.2f}'.format # Mostrar comas como separadores de miles y dos decimales\n",
    "colores = ['#2962ff', '#9500ff', '#ff0059', '#ff8c00', '#b4e600', '#2EC2A2','#E50CB6','#4225CF','#2CBA4D','#2962ff', '#9500ff', '#ff0059']\n",
    "\n",
    "fig = go.Figure()\n",
    "fig.add_trace(go.Bar(\n",
    "    x=df_volumen_ms_parejas['Label'],  # Eje x: Categoría\n",
    "    y=df_volumen_ms_parejas['Suma_Volumen'],  # Eje y: Cantidad\n",
    "    text=df_volumen_ms_parejas['Suma_Volumen'].apply(lambda x: '{:,.2f}'.format(x)),  # Texto con el formato deseado\n",
    "    textposition='outside',  # Posición del texto (parte superior de las barras)\n",
    "    marker_color=colores,  # Especifica los colores de las barras\n",
    "))\n",
    "fig.update_layout(\n",
    "    #title='Volumen del mercado salarial de parejas',  # Título de la gráfica\n",
    "    title_x=0.5,\n",
    "    yaxis=dict(\n",
    "        #title='Total valor',  # Título del eje y\n",
    "        tickvals=[1000000000, 2000000000, 3000000000, 4000000000, 5000000000],  # Posiciones de las líneas del eje y\n",
    "        ticktext=['$1,000,000,000', '$2,000,000,000', '$3,000,000,000', '$4,000,000,000', '$5,000,000,000'],  # Etiquetas de las líneas del eje y\n",
    "        gridcolor='#dddcda', # Color de las líneas que dividen los rangos del eje Y\n",
    "        gridwidth=1, # Ancho de las líneas que dividen los rangos del eje Y\n",
    "    ),\n",
    "    margin=dict(l=10, r=10, t=10, b=10),  # Ajusta los márgenes (left, right, top, bottom)        \n",
    "    plot_bgcolor='rgba(0,0,0,0)',  # Color de fondo del gráfico\n",
    ")\n",
    "\n",
    "# Exportar gráfica como archivo HTML\n",
    "def guardar_grafico_como_html(fig, nombre_archivo,  carpeta='assets/graficas'):\n",
    "    # Crear la carpeta si no existe\n",
    "    if not os.path.exists(carpeta):\n",
    "        os.makedirs(carpeta)\n",
    "    \n",
    "    # Gráfica como archivo HTML en la carpeta especificada\n",
    "    pio.write_html(fig, f'{carpeta}/{nombre_archivo}.html')\n",
    "\n",
    "# Exportar\n",
    "guardar_grafico_como_html(fig, 'g_bar_mercadosalario_parejas_vol',  carpeta='assets/graficas')\n",
    "\n",
    "fig.show()"
   ]
  },
  {
   "cell_type": "markdown",
   "metadata": {},
   "source": [
    "# 2. Mercado salario por pareja"
   ]
  },
  {
   "cell_type": "code",
   "execution_count": 49,
   "metadata": {},
   "outputs": [],
   "source": [
    "df = df_salarios_pachuca[['id_salarios','Volumen', 'Pareja','Categoria_Pareja']]"
   ]
  },
  {
   "cell_type": "code",
   "execution_count": 50,
   "metadata": {},
   "outputs": [
    {
     "data": {
      "text/plain": [
       "(96, 4)"
      ]
     },
     "execution_count": 50,
     "metadata": {},
     "output_type": "execute_result"
    }
   ],
   "source": [
    "registros_categoria_A = df[df['Categoria_Pareja'] == 'F1']\n",
    "registros_categoria_A.shape"
   ]
  },
  {
   "cell_type": "code",
   "execution_count": 51,
   "metadata": {},
   "outputs": [
    {
     "data": {
      "text/html": [
       "<div>\n",
       "<style scoped>\n",
       "    .dataframe tbody tr th:only-of-type {\n",
       "        vertical-align: middle;\n",
       "    }\n",
       "\n",
       "    .dataframe tbody tr th {\n",
       "        vertical-align: top;\n",
       "    }\n",
       "\n",
       "    .dataframe thead th {\n",
       "        text-align: right;\n",
       "    }\n",
       "</style>\n",
       "<table border=\"1\" class=\"dataframe\">\n",
       "  <thead>\n",
       "    <tr style=\"text-align: right;\">\n",
       "      <th></th>\n",
       "      <th>Categoria_Pareja</th>\n",
       "      <th>numero_registros</th>\n",
       "    </tr>\n",
       "  </thead>\n",
       "  <tbody>\n",
       "    <tr>\n",
       "      <th>0</th>\n",
       "      <td>G</td>\n",
       "      <td>56.00</td>\n",
       "    </tr>\n",
       "    <tr>\n",
       "      <th>1</th>\n",
       "      <td>F</td>\n",
       "      <td>88.00</td>\n",
       "    </tr>\n",
       "    <tr>\n",
       "      <th>2</th>\n",
       "      <td>F1</td>\n",
       "      <td>96.00</td>\n",
       "    </tr>\n",
       "    <tr>\n",
       "      <th>3</th>\n",
       "      <td>E</td>\n",
       "      <td>36.00</td>\n",
       "    </tr>\n",
       "    <tr>\n",
       "      <th>4</th>\n",
       "      <td>E1</td>\n",
       "      <td>25.00</td>\n",
       "    </tr>\n",
       "    <tr>\n",
       "      <th>5</th>\n",
       "      <td>D</td>\n",
       "      <td>11.00</td>\n",
       "    </tr>\n",
       "    <tr>\n",
       "      <th>6</th>\n",
       "      <td>D1</td>\n",
       "      <td>9.00</td>\n",
       "    </tr>\n",
       "    <tr>\n",
       "      <th>7</th>\n",
       "      <td>C</td>\n",
       "      <td>3.00</td>\n",
       "    </tr>\n",
       "    <tr>\n",
       "      <th>8</th>\n",
       "      <td>C1</td>\n",
       "      <td>5.00</td>\n",
       "    </tr>\n",
       "    <tr>\n",
       "      <th>9</th>\n",
       "      <td>B</td>\n",
       "      <td>1.00</td>\n",
       "    </tr>\n",
       "    <tr>\n",
       "      <th>10</th>\n",
       "      <td>B1</td>\n",
       "      <td>0.00</td>\n",
       "    </tr>\n",
       "    <tr>\n",
       "      <th>11</th>\n",
       "      <td>A</td>\n",
       "      <td>1.00</td>\n",
       "    </tr>\n",
       "    <tr>\n",
       "      <th>12</th>\n",
       "      <td>A1</td>\n",
       "      <td>2.00</td>\n",
       "    </tr>\n",
       "    <tr>\n",
       "      <th>13</th>\n",
       "      <td>S</td>\n",
       "      <td>0.00</td>\n",
       "    </tr>\n",
       "  </tbody>\n",
       "</table>\n",
       "</div>"
      ],
      "text/plain": [
       "   Categoria_Pareja  numero_registros\n",
       "0                 G             56.00\n",
       "1                 F             88.00\n",
       "2                F1             96.00\n",
       "3                 E             36.00\n",
       "4                E1             25.00\n",
       "5                 D             11.00\n",
       "6                D1              9.00\n",
       "7                 C              3.00\n",
       "8                C1              5.00\n",
       "9                 B              1.00\n",
       "10               B1              0.00\n",
       "11                A              1.00\n",
       "12               A1              2.00\n",
       "13                S              0.00"
      ]
     },
     "execution_count": 51,
     "metadata": {},
     "output_type": "execute_result"
    }
   ],
   "source": [
    "numero_registros_por_categoria = {}\n",
    "# Itera dataframes_por_categoria que contiene cada grupo de categorías por pareja\n",
    "for categoria in dataframes_por_categoria:\n",
    "    numero_registros = len(dataframes_por_categoria[categoria]) # Número de registros para el DataFrame correspondiente a la categoría actual\n",
    "    numero_registros_por_categoria[categoria] = numero_registros # Almacena en el diccionario \n",
    "\n",
    "# Convertir el diccionario en un DataFrame\n",
    "posiciones_salariosparejas = pd.DataFrame(list(numero_registros_por_categoria.items()), columns=['Categoria_Pareja', 'numero_registros'])\n",
    "# Mantener orden\n",
    "nuevo_orden = ['G', 'F', 'F1', 'E', 'E1', 'D', 'D1', 'C', 'C1', 'B', 'B1', 'A', 'A1', 'S']\n",
    "posiciones_salariosparejas = posiciones_salariosparejas.set_index('Categoria_Pareja').reindex(nuevo_orden).fillna(0).reset_index()\n",
    "posiciones_salariosparejas"
   ]
  },
  {
   "cell_type": "code",
   "execution_count": 52,
   "metadata": {},
   "outputs": [],
   "source": [
    "reemplazos = {\n",
    "    'G': 'G [Menor a 5000 mil]',\n",
    "    'F': 'F [5 mil-8 mil]',\n",
    "    'F1': 'F1 [8 mil-12mil]',\n",
    "    'E': 'E [12 mil-16mil]',\n",
    "    'E1': 'E1 [16 mil-20 mil]',\n",
    "    'D': 'D [20 mil -25 mil]',\n",
    "    'D1': 'D1 [25 mil-30mil]',\n",
    "    'C': 'C [30 mil-35 mil]',\n",
    "    'C1': 'C1 [35 mil-40 mil]',\n",
    "    'B': 'B [40 mil-45 mil]',\n",
    "    'B1': 'B1 [45 mil-50 mil]',\n",
    "    'A': 'A [50 mil-55 mil]',\n",
    "    'A1': 'A1 [55 mil-60 mil]',\n",
    "    'S': 'S+ [Mayor a 60 mil]'\n",
    "}\n",
    "\n",
    "# Reemplazar los valores en la columna 'Categoria_Pareja'\n",
    "posiciones_salariosparejas['Categoria_Pareja'] = posiciones_salariosparejas['Categoria_Pareja'].replace(reemplazos)\n"
   ]
  },
  {
   "cell_type": "code",
   "execution_count": 53,
   "metadata": {},
   "outputs": [
    {
     "data": {
      "text/html": [
       "<div>\n",
       "<style scoped>\n",
       "    .dataframe tbody tr th:only-of-type {\n",
       "        vertical-align: middle;\n",
       "    }\n",
       "\n",
       "    .dataframe tbody tr th {\n",
       "        vertical-align: top;\n",
       "    }\n",
       "\n",
       "    .dataframe thead th {\n",
       "        text-align: right;\n",
       "    }\n",
       "</style>\n",
       "<table border=\"1\" class=\"dataframe\">\n",
       "  <thead>\n",
       "    <tr style=\"text-align: right;\">\n",
       "      <th></th>\n",
       "      <th>Categoria_Pareja</th>\n",
       "      <th>numero_registros</th>\n",
       "      <th>porcentaje</th>\n",
       "    </tr>\n",
       "  </thead>\n",
       "  <tbody>\n",
       "    <tr>\n",
       "      <th>0</th>\n",
       "      <td>G [Menor a 5000 mil]</td>\n",
       "      <td>56.00</td>\n",
       "      <td>16.82</td>\n",
       "    </tr>\n",
       "    <tr>\n",
       "      <th>1</th>\n",
       "      <td>F [5 mil-8 mil]</td>\n",
       "      <td>88.00</td>\n",
       "      <td>26.43</td>\n",
       "    </tr>\n",
       "    <tr>\n",
       "      <th>2</th>\n",
       "      <td>F1 [8 mil-12mil]</td>\n",
       "      <td>96.00</td>\n",
       "      <td>28.83</td>\n",
       "    </tr>\n",
       "    <tr>\n",
       "      <th>3</th>\n",
       "      <td>E [12 mil-16mil]</td>\n",
       "      <td>36.00</td>\n",
       "      <td>10.81</td>\n",
       "    </tr>\n",
       "    <tr>\n",
       "      <th>4</th>\n",
       "      <td>E1 [16 mil-20 mil]</td>\n",
       "      <td>25.00</td>\n",
       "      <td>7.51</td>\n",
       "    </tr>\n",
       "    <tr>\n",
       "      <th>5</th>\n",
       "      <td>D [20 mil -25 mil]</td>\n",
       "      <td>11.00</td>\n",
       "      <td>3.30</td>\n",
       "    </tr>\n",
       "    <tr>\n",
       "      <th>6</th>\n",
       "      <td>D1 [25 mil-30mil]</td>\n",
       "      <td>9.00</td>\n",
       "      <td>2.70</td>\n",
       "    </tr>\n",
       "    <tr>\n",
       "      <th>7</th>\n",
       "      <td>C [30 mil-35 mil]</td>\n",
       "      <td>3.00</td>\n",
       "      <td>0.90</td>\n",
       "    </tr>\n",
       "    <tr>\n",
       "      <th>8</th>\n",
       "      <td>C1 [35 mil-40 mil]</td>\n",
       "      <td>5.00</td>\n",
       "      <td>1.50</td>\n",
       "    </tr>\n",
       "    <tr>\n",
       "      <th>9</th>\n",
       "      <td>B [40 mil-45 mil]</td>\n",
       "      <td>1.00</td>\n",
       "      <td>0.30</td>\n",
       "    </tr>\n",
       "    <tr>\n",
       "      <th>10</th>\n",
       "      <td>B1 [45 mil-50 mil]</td>\n",
       "      <td>0.00</td>\n",
       "      <td>0.00</td>\n",
       "    </tr>\n",
       "    <tr>\n",
       "      <th>11</th>\n",
       "      <td>A [50 mil-55 mil]</td>\n",
       "      <td>1.00</td>\n",
       "      <td>0.30</td>\n",
       "    </tr>\n",
       "    <tr>\n",
       "      <th>12</th>\n",
       "      <td>A1 [55 mil-60 mil]</td>\n",
       "      <td>2.00</td>\n",
       "      <td>0.60</td>\n",
       "    </tr>\n",
       "    <tr>\n",
       "      <th>13</th>\n",
       "      <td>S+ [Mayor a 60 mil]</td>\n",
       "      <td>0.00</td>\n",
       "      <td>0.00</td>\n",
       "    </tr>\n",
       "  </tbody>\n",
       "</table>\n",
       "</div>"
      ],
      "text/plain": [
       "        Categoria_Pareja  numero_registros  porcentaje\n",
       "0   G [Menor a 5000 mil]             56.00       16.82\n",
       "1        F [5 mil-8 mil]             88.00       26.43\n",
       "2       F1 [8 mil-12mil]             96.00       28.83\n",
       "3       E [12 mil-16mil]             36.00       10.81\n",
       "4     E1 [16 mil-20 mil]             25.00        7.51\n",
       "5     D [20 mil -25 mil]             11.00        3.30\n",
       "6      D1 [25 mil-30mil]              9.00        2.70\n",
       "7      C [30 mil-35 mil]              3.00        0.90\n",
       "8     C1 [35 mil-40 mil]              5.00        1.50\n",
       "9      B [40 mil-45 mil]              1.00        0.30\n",
       "10    B1 [45 mil-50 mil]              0.00        0.00\n",
       "11     A [50 mil-55 mil]              1.00        0.30\n",
       "12    A1 [55 mil-60 mil]              2.00        0.60\n",
       "13   S+ [Mayor a 60 mil]              0.00        0.00"
      ]
     },
     "execution_count": 53,
     "metadata": {},
     "output_type": "execute_result"
    }
   ],
   "source": [
    "total_registros = posiciones_salariosparejas['numero_registros'].sum() # Calcular el total de registros en el DataFrame\n",
    "# Calculamos el porcentaje que representa cada numero_registros en relación al total de registros en el df\n",
    "posiciones_salariosparejas['porcentaje'] = (posiciones_salariosparejas['numero_registros'] / total_registros) * 100\n",
    "posiciones_salariosparejas"
   ]
  },
  {
   "cell_type": "code",
   "execution_count": 54,
   "metadata": {},
   "outputs": [
    {
     "data": {
      "application/vnd.plotly.v1+json": {
       "config": {
        "plotlyServerURL": "https://plot.ly"
       },
       "data": [
        {
         "marker": {
          "color": [
           "#2962ff",
           "#9500ff",
           "#ff0059",
           "#ff8c00",
           "#b4e600",
           "#2EC2A2",
           "#E50CB6",
           "#4225CF",
           "#2CBA4D",
           "#2962ff",
           "#9500ff",
           "#ff0059",
           "#ff8c00",
           "#b4e600"
          ]
         },
         "text": [
          "16.82%",
          "26.43%",
          "28.83%",
          "10.81%",
          "7.51%",
          "3.30%",
          "2.70%",
          "0.90%",
          "1.50%",
          "0.30%",
          "0.00%",
          "0.30%",
          "0.60%",
          "0.00%"
         ],
         "textposition": "outside",
         "type": "bar",
         "x": [
          "G [Menor a 5000 mil]",
          "F [5 mil-8 mil]",
          "F1 [8 mil-12mil]",
          "E [12 mil-16mil]",
          "E1 [16 mil-20 mil]",
          "D [20 mil -25 mil]",
          "D1 [25 mil-30mil]",
          "C [30 mil-35 mil]",
          "C1 [35 mil-40 mil]",
          "B [40 mil-45 mil]",
          "B1 [45 mil-50 mil]",
          "A [50 mil-55 mil]",
          "A1 [55 mil-60 mil]",
          "S+ [Mayor a 60 mil]"
         ],
         "y": [
          16.816816816816818,
          26.426426426426424,
          28.82882882882883,
          10.81081081081081,
          7.5075075075075075,
          3.303303303303303,
          2.7027027027027026,
          0.9009009009009009,
          1.5015015015015014,
          0.3003003003003003,
          0,
          0.3003003003003003,
          0.6006006006006006,
          0
         ]
        }
       ],
       "layout": {
        "margin": {
         "b": 10,
         "l": 10,
         "r": 10,
         "t": 10
        },
        "plot_bgcolor": "rgba(0,0,0,0)",
        "template": {
         "data": {
          "bar": [
           {
            "error_x": {
             "color": "#2a3f5f"
            },
            "error_y": {
             "color": "#2a3f5f"
            },
            "marker": {
             "line": {
              "color": "#E5ECF6",
              "width": 0.5
             },
             "pattern": {
              "fillmode": "overlay",
              "size": 10,
              "solidity": 0.2
             }
            },
            "type": "bar"
           }
          ],
          "barpolar": [
           {
            "marker": {
             "line": {
              "color": "#E5ECF6",
              "width": 0.5
             },
             "pattern": {
              "fillmode": "overlay",
              "size": 10,
              "solidity": 0.2
             }
            },
            "type": "barpolar"
           }
          ],
          "carpet": [
           {
            "aaxis": {
             "endlinecolor": "#2a3f5f",
             "gridcolor": "white",
             "linecolor": "white",
             "minorgridcolor": "white",
             "startlinecolor": "#2a3f5f"
            },
            "baxis": {
             "endlinecolor": "#2a3f5f",
             "gridcolor": "white",
             "linecolor": "white",
             "minorgridcolor": "white",
             "startlinecolor": "#2a3f5f"
            },
            "type": "carpet"
           }
          ],
          "choropleth": [
           {
            "colorbar": {
             "outlinewidth": 0,
             "ticks": ""
            },
            "type": "choropleth"
           }
          ],
          "contour": [
           {
            "colorbar": {
             "outlinewidth": 0,
             "ticks": ""
            },
            "colorscale": [
             [
              0,
              "#0d0887"
             ],
             [
              0.1111111111111111,
              "#46039f"
             ],
             [
              0.2222222222222222,
              "#7201a8"
             ],
             [
              0.3333333333333333,
              "#9c179e"
             ],
             [
              0.4444444444444444,
              "#bd3786"
             ],
             [
              0.5555555555555556,
              "#d8576b"
             ],
             [
              0.6666666666666666,
              "#ed7953"
             ],
             [
              0.7777777777777778,
              "#fb9f3a"
             ],
             [
              0.8888888888888888,
              "#fdca26"
             ],
             [
              1,
              "#f0f921"
             ]
            ],
            "type": "contour"
           }
          ],
          "contourcarpet": [
           {
            "colorbar": {
             "outlinewidth": 0,
             "ticks": ""
            },
            "type": "contourcarpet"
           }
          ],
          "heatmap": [
           {
            "colorbar": {
             "outlinewidth": 0,
             "ticks": ""
            },
            "colorscale": [
             [
              0,
              "#0d0887"
             ],
             [
              0.1111111111111111,
              "#46039f"
             ],
             [
              0.2222222222222222,
              "#7201a8"
             ],
             [
              0.3333333333333333,
              "#9c179e"
             ],
             [
              0.4444444444444444,
              "#bd3786"
             ],
             [
              0.5555555555555556,
              "#d8576b"
             ],
             [
              0.6666666666666666,
              "#ed7953"
             ],
             [
              0.7777777777777778,
              "#fb9f3a"
             ],
             [
              0.8888888888888888,
              "#fdca26"
             ],
             [
              1,
              "#f0f921"
             ]
            ],
            "type": "heatmap"
           }
          ],
          "heatmapgl": [
           {
            "colorbar": {
             "outlinewidth": 0,
             "ticks": ""
            },
            "colorscale": [
             [
              0,
              "#0d0887"
             ],
             [
              0.1111111111111111,
              "#46039f"
             ],
             [
              0.2222222222222222,
              "#7201a8"
             ],
             [
              0.3333333333333333,
              "#9c179e"
             ],
             [
              0.4444444444444444,
              "#bd3786"
             ],
             [
              0.5555555555555556,
              "#d8576b"
             ],
             [
              0.6666666666666666,
              "#ed7953"
             ],
             [
              0.7777777777777778,
              "#fb9f3a"
             ],
             [
              0.8888888888888888,
              "#fdca26"
             ],
             [
              1,
              "#f0f921"
             ]
            ],
            "type": "heatmapgl"
           }
          ],
          "histogram": [
           {
            "marker": {
             "pattern": {
              "fillmode": "overlay",
              "size": 10,
              "solidity": 0.2
             }
            },
            "type": "histogram"
           }
          ],
          "histogram2d": [
           {
            "colorbar": {
             "outlinewidth": 0,
             "ticks": ""
            },
            "colorscale": [
             [
              0,
              "#0d0887"
             ],
             [
              0.1111111111111111,
              "#46039f"
             ],
             [
              0.2222222222222222,
              "#7201a8"
             ],
             [
              0.3333333333333333,
              "#9c179e"
             ],
             [
              0.4444444444444444,
              "#bd3786"
             ],
             [
              0.5555555555555556,
              "#d8576b"
             ],
             [
              0.6666666666666666,
              "#ed7953"
             ],
             [
              0.7777777777777778,
              "#fb9f3a"
             ],
             [
              0.8888888888888888,
              "#fdca26"
             ],
             [
              1,
              "#f0f921"
             ]
            ],
            "type": "histogram2d"
           }
          ],
          "histogram2dcontour": [
           {
            "colorbar": {
             "outlinewidth": 0,
             "ticks": ""
            },
            "colorscale": [
             [
              0,
              "#0d0887"
             ],
             [
              0.1111111111111111,
              "#46039f"
             ],
             [
              0.2222222222222222,
              "#7201a8"
             ],
             [
              0.3333333333333333,
              "#9c179e"
             ],
             [
              0.4444444444444444,
              "#bd3786"
             ],
             [
              0.5555555555555556,
              "#d8576b"
             ],
             [
              0.6666666666666666,
              "#ed7953"
             ],
             [
              0.7777777777777778,
              "#fb9f3a"
             ],
             [
              0.8888888888888888,
              "#fdca26"
             ],
             [
              1,
              "#f0f921"
             ]
            ],
            "type": "histogram2dcontour"
           }
          ],
          "mesh3d": [
           {
            "colorbar": {
             "outlinewidth": 0,
             "ticks": ""
            },
            "type": "mesh3d"
           }
          ],
          "parcoords": [
           {
            "line": {
             "colorbar": {
              "outlinewidth": 0,
              "ticks": ""
             }
            },
            "type": "parcoords"
           }
          ],
          "pie": [
           {
            "automargin": true,
            "type": "pie"
           }
          ],
          "scatter": [
           {
            "fillpattern": {
             "fillmode": "overlay",
             "size": 10,
             "solidity": 0.2
            },
            "type": "scatter"
           }
          ],
          "scatter3d": [
           {
            "line": {
             "colorbar": {
              "outlinewidth": 0,
              "ticks": ""
             }
            },
            "marker": {
             "colorbar": {
              "outlinewidth": 0,
              "ticks": ""
             }
            },
            "type": "scatter3d"
           }
          ],
          "scattercarpet": [
           {
            "marker": {
             "colorbar": {
              "outlinewidth": 0,
              "ticks": ""
             }
            },
            "type": "scattercarpet"
           }
          ],
          "scattergeo": [
           {
            "marker": {
             "colorbar": {
              "outlinewidth": 0,
              "ticks": ""
             }
            },
            "type": "scattergeo"
           }
          ],
          "scattergl": [
           {
            "marker": {
             "colorbar": {
              "outlinewidth": 0,
              "ticks": ""
             }
            },
            "type": "scattergl"
           }
          ],
          "scattermapbox": [
           {
            "marker": {
             "colorbar": {
              "outlinewidth": 0,
              "ticks": ""
             }
            },
            "type": "scattermapbox"
           }
          ],
          "scatterpolar": [
           {
            "marker": {
             "colorbar": {
              "outlinewidth": 0,
              "ticks": ""
             }
            },
            "type": "scatterpolar"
           }
          ],
          "scatterpolargl": [
           {
            "marker": {
             "colorbar": {
              "outlinewidth": 0,
              "ticks": ""
             }
            },
            "type": "scatterpolargl"
           }
          ],
          "scatterternary": [
           {
            "marker": {
             "colorbar": {
              "outlinewidth": 0,
              "ticks": ""
             }
            },
            "type": "scatterternary"
           }
          ],
          "surface": [
           {
            "colorbar": {
             "outlinewidth": 0,
             "ticks": ""
            },
            "colorscale": [
             [
              0,
              "#0d0887"
             ],
             [
              0.1111111111111111,
              "#46039f"
             ],
             [
              0.2222222222222222,
              "#7201a8"
             ],
             [
              0.3333333333333333,
              "#9c179e"
             ],
             [
              0.4444444444444444,
              "#bd3786"
             ],
             [
              0.5555555555555556,
              "#d8576b"
             ],
             [
              0.6666666666666666,
              "#ed7953"
             ],
             [
              0.7777777777777778,
              "#fb9f3a"
             ],
             [
              0.8888888888888888,
              "#fdca26"
             ],
             [
              1,
              "#f0f921"
             ]
            ],
            "type": "surface"
           }
          ],
          "table": [
           {
            "cells": {
             "fill": {
              "color": "#EBF0F8"
             },
             "line": {
              "color": "white"
             }
            },
            "header": {
             "fill": {
              "color": "#C8D4E3"
             },
             "line": {
              "color": "white"
             }
            },
            "type": "table"
           }
          ]
         },
         "layout": {
          "annotationdefaults": {
           "arrowcolor": "#2a3f5f",
           "arrowhead": 0,
           "arrowwidth": 1
          },
          "autotypenumbers": "strict",
          "coloraxis": {
           "colorbar": {
            "outlinewidth": 0,
            "ticks": ""
           }
          },
          "colorscale": {
           "diverging": [
            [
             0,
             "#8e0152"
            ],
            [
             0.1,
             "#c51b7d"
            ],
            [
             0.2,
             "#de77ae"
            ],
            [
             0.3,
             "#f1b6da"
            ],
            [
             0.4,
             "#fde0ef"
            ],
            [
             0.5,
             "#f7f7f7"
            ],
            [
             0.6,
             "#e6f5d0"
            ],
            [
             0.7,
             "#b8e186"
            ],
            [
             0.8,
             "#7fbc41"
            ],
            [
             0.9,
             "#4d9221"
            ],
            [
             1,
             "#276419"
            ]
           ],
           "sequential": [
            [
             0,
             "#0d0887"
            ],
            [
             0.1111111111111111,
             "#46039f"
            ],
            [
             0.2222222222222222,
             "#7201a8"
            ],
            [
             0.3333333333333333,
             "#9c179e"
            ],
            [
             0.4444444444444444,
             "#bd3786"
            ],
            [
             0.5555555555555556,
             "#d8576b"
            ],
            [
             0.6666666666666666,
             "#ed7953"
            ],
            [
             0.7777777777777778,
             "#fb9f3a"
            ],
            [
             0.8888888888888888,
             "#fdca26"
            ],
            [
             1,
             "#f0f921"
            ]
           ],
           "sequentialminus": [
            [
             0,
             "#0d0887"
            ],
            [
             0.1111111111111111,
             "#46039f"
            ],
            [
             0.2222222222222222,
             "#7201a8"
            ],
            [
             0.3333333333333333,
             "#9c179e"
            ],
            [
             0.4444444444444444,
             "#bd3786"
            ],
            [
             0.5555555555555556,
             "#d8576b"
            ],
            [
             0.6666666666666666,
             "#ed7953"
            ],
            [
             0.7777777777777778,
             "#fb9f3a"
            ],
            [
             0.8888888888888888,
             "#fdca26"
            ],
            [
             1,
             "#f0f921"
            ]
           ]
          },
          "colorway": [
           "#636efa",
           "#EF553B",
           "#00cc96",
           "#ab63fa",
           "#FFA15A",
           "#19d3f3",
           "#FF6692",
           "#B6E880",
           "#FF97FF",
           "#FECB52"
          ],
          "font": {
           "color": "#2a3f5f"
          },
          "geo": {
           "bgcolor": "white",
           "lakecolor": "white",
           "landcolor": "#E5ECF6",
           "showlakes": true,
           "showland": true,
           "subunitcolor": "white"
          },
          "hoverlabel": {
           "align": "left"
          },
          "hovermode": "closest",
          "mapbox": {
           "style": "light"
          },
          "paper_bgcolor": "white",
          "plot_bgcolor": "#E5ECF6",
          "polar": {
           "angularaxis": {
            "gridcolor": "white",
            "linecolor": "white",
            "ticks": ""
           },
           "bgcolor": "#E5ECF6",
           "radialaxis": {
            "gridcolor": "white",
            "linecolor": "white",
            "ticks": ""
           }
          },
          "scene": {
           "xaxis": {
            "backgroundcolor": "#E5ECF6",
            "gridcolor": "white",
            "gridwidth": 2,
            "linecolor": "white",
            "showbackground": true,
            "ticks": "",
            "zerolinecolor": "white"
           },
           "yaxis": {
            "backgroundcolor": "#E5ECF6",
            "gridcolor": "white",
            "gridwidth": 2,
            "linecolor": "white",
            "showbackground": true,
            "ticks": "",
            "zerolinecolor": "white"
           },
           "zaxis": {
            "backgroundcolor": "#E5ECF6",
            "gridcolor": "white",
            "gridwidth": 2,
            "linecolor": "white",
            "showbackground": true,
            "ticks": "",
            "zerolinecolor": "white"
           }
          },
          "shapedefaults": {
           "line": {
            "color": "#2a3f5f"
           }
          },
          "ternary": {
           "aaxis": {
            "gridcolor": "white",
            "linecolor": "white",
            "ticks": ""
           },
           "baxis": {
            "gridcolor": "white",
            "linecolor": "white",
            "ticks": ""
           },
           "bgcolor": "#E5ECF6",
           "caxis": {
            "gridcolor": "white",
            "linecolor": "white",
            "ticks": ""
           }
          },
          "title": {
           "x": 0.05
          },
          "xaxis": {
           "automargin": true,
           "gridcolor": "white",
           "linecolor": "white",
           "ticks": "",
           "title": {
            "standoff": 15
           },
           "zerolinecolor": "white",
           "zerolinewidth": 2
          },
          "yaxis": {
           "automargin": true,
           "gridcolor": "white",
           "linecolor": "white",
           "ticks": "",
           "title": {
            "standoff": 15
           },
           "zerolinecolor": "white",
           "zerolinewidth": 2
          }
         }
        },
        "title": {
         "x": 0.5
        },
        "yaxis": {
         "gridcolor": "#dddcda",
         "gridwidth": 1
        }
       }
      }
     },
     "metadata": {},
     "output_type": "display_data"
    }
   ],
   "source": [
    "colores = ['#2962ff', '#9500ff', '#ff0059', '#ff8c00', '#b4e600', '#2EC2A2','#E50CB6','#4225CF','#2CBA4D','#2962ff', '#9500ff', '#ff0059', '#ff8c00', '#b4e600']\n",
    "\n",
    "fig = go.Figure()\n",
    "fig.add_trace(go.Bar(\n",
    "    x=posiciones_salariosparejas['Categoria_Pareja'],  # Eje x: Categoría\n",
    "    y=posiciones_salariosparejas['porcentaje'],  # Eje y: porcentaje\n",
    "    text=posiciones_salariosparejas['porcentaje'].apply(lambda x: f'{x:.2f}%'),  # Texto con el formato deseado\n",
    "    textposition='outside',  # Posición del texto (parte superior de las barras)\n",
    "    marker_color=colores,  # Especifica los colores de las barras\n",
    "))\n",
    "fig.update_layout(\n",
    "    #title='Mercado salario por pareja',  # Título de la gráfica\n",
    "    title_x=0.5,\n",
    "    yaxis=dict(\n",
    "        #title='%',  # Título del eje y\n",
    "        gridcolor='#dddcda', # Color de las líneas que dividen los rangos del eje Y\n",
    "        gridwidth=1, # Ancho de las líneas que dividen los rangos del eje Y\n",
    "    ),margin=dict(l=10, r=10, t=10, b=10),  # Ajusta los márgenes (left, right, top, bottom)        \n",
    "    plot_bgcolor='rgba(0,0,0,0)',  # Color de fondo del gráfico\n",
    ")\n",
    "\n",
    "# Exportar gráfica como archivo HTML\n",
    "def guardar_grafico_como_html(fig, nombre_archivo,  carpeta='assets/graficas'):\n",
    "    if not os.path.exists(carpeta): \n",
    "        os.makedirs(carpeta) # Crear la carpeta si no existe\n",
    "    \n",
    "    # Gráfica como archivo HTML en la carpeta especificada\n",
    "    pio.write_html(fig, f'{carpeta}/{nombre_archivo}.html')\n",
    "\n",
    "# Exportar\n",
    "guardar_grafico_como_html(fig, 'g_bar_mercadosalario_parejas',  carpeta='assets/graficas')\n",
    "\n",
    "fig.show()"
   ]
  },
  {
   "cell_type": "markdown",
   "metadata": {},
   "source": [
    "# 3. Mercado salario por persona"
   ]
  },
  {
   "cell_type": "code",
   "execution_count": 62,
   "metadata": {},
   "outputs": [],
   "source": [
    "df = df_salarios_pachuca[['id_salarios','Salario_Variable','Categoria']]"
   ]
  },
  {
   "cell_type": "code",
   "execution_count": 63,
   "metadata": {},
   "outputs": [
    {
     "name": "stdout",
     "output_type": "stream",
     "text": [
      "DataFrame para Categoria 'C':\n",
      "     id_salarios  Salario_Variable Categoria\n",
      "330          331         30,000.00         C\n",
      "331          332         34,000.00         C\n",
      "332          333         34,564.25         C\n",
      "DataFrame para Categoria 'D':\n",
      "     id_salarios  Salario_Variable Categoria\n",
      "323          324         20,000.00         D\n",
      "324          325         21,500.00         D\n",
      "325          326         21,559.79         D\n",
      "326          327         22,119.49         D\n",
      "327          328         22,295.80         D\n",
      "328          329         22,465.12         D\n",
      "DataFrame para Categoria 'D1':\n",
      "     id_salarios  Salario_Variable Categoria\n",
      "329          330         25,800.00        D1\n",
      "DataFrame para Categoria 'E':\n",
      "     id_salarios  Salario_Variable Categoria\n",
      "302          303         12,000.00         E\n",
      "303          304         12,000.00         E\n",
      "304          305         12,384.35         E\n",
      "305          306         12,447.85         E\n",
      "306          307         12,845.16         E\n",
      "307          308         13,192.31         E\n",
      "308          309         13,407.53         E\n",
      "309          310         13,800.00         E\n",
      "310          311         14,644.03         E\n",
      "311          312         14,701.86         E\n",
      "312          313         15,000.00         E\n",
      "313          314         15,000.00         E\n",
      "314          315         15,901.64         E\n",
      "315          316         15,971.31         E\n",
      "DataFrame para Categoria 'E1':\n",
      "     id_salarios  Salario_Variable Categoria\n",
      "316          317         16,221.92        E1\n",
      "317          318         17,000.00        E1\n",
      "318          319         17,200.00        E1\n",
      "319          320         17,282.83        E1\n",
      "320          321         17,313.36        E1\n",
      "321          322         18,000.00        E1\n",
      "322          323         18,236.44        E1\n",
      "DataFrame para Categoria 'F':\n",
      "     id_salarios  Salario_Variable Categoria\n",
      "155          156          5,000.00         F\n",
      "156          157          5,047.45         F\n",
      "157          158          5,068.92         F\n",
      "158          159          5,147.45         F\n",
      "159          160          5,160.00         F\n",
      "..           ...               ...       ...\n",
      "249          250          7,515.81         F\n",
      "250          251          7,740.00         F\n",
      "251          252          7,817.02         F\n",
      "252          253          7,928.88         F\n",
      "253          254          7,975.93         F\n",
      "\n",
      "[99 rows x 3 columns]\n",
      "DataFrame para Categoria 'F1':\n",
      "     id_salarios  Salario_Variable Categoria\n",
      "254          255          8,005.74        F1\n",
      "255          256          8,006.11        F1\n",
      "256          257          8,126.42        F1\n",
      "257          258          8,170.00        F1\n",
      "258          259          8,396.14        F1\n",
      "259          260          8,444.42        F1\n",
      "260          261          8,457.98        F1\n",
      "261          262          8,475.70        F1\n",
      "262          263          8,547.06        F1\n",
      "263          264          8,593.06        F1\n",
      "264          265          8,600.00        F1\n",
      "265          266          8,600.00        F1\n",
      "266          267          8,684.18        F1\n",
      "267          268          8,690.94        F1\n",
      "268          269          8,845.15        F1\n",
      "269          270          8,988.23        F1\n",
      "270          271          9,098.59        F1\n",
      "271          272          9,190.59        F1\n",
      "272          273          9,275.74        F1\n",
      "273          274          9,286.60        F1\n",
      "274          275          9,385.05        F1\n",
      "275          276          9,402.17        F1\n",
      "276          277          9,476.66        F1\n",
      "277          278          9,506.57        F1\n",
      "278          279          9,521.83        F1\n",
      "279          280          9,598.56        F1\n",
      "280          281          9,600.00        F1\n",
      "281          282          9,800.00        F1\n",
      "282          283          9,907.08        F1\n",
      "283          284          9,961.06        F1\n",
      "284          285         10,000.00        F1\n",
      "285          286         10,000.00        F1\n",
      "286          287         10,090.46        F1\n",
      "287          288         10,107.10        F1\n",
      "288          289         10,141.59        F1\n",
      "289          290         10,182.14        F1\n",
      "290          291         10,195.03        F1\n",
      "291          292         10,272.26        F1\n",
      "292          293         10,273.08        F1\n",
      "293          294         10,338.94        F1\n",
      "294          295         10,528.29        F1\n",
      "295          296         11,000.00        F1\n",
      "296          297         11,082.27        F1\n",
      "297          298         11,208.56        F1\n",
      "298          299         11,310.50        F1\n",
      "299          300         11,588.12        F1\n",
      "300          301         11,610.00        F1\n",
      "301          302         11,918.31        F1\n",
      "DataFrame para Categoria 'G':\n",
      "     id_salarios  Salario_Variable Categoria\n",
      "0              1            244.30         G\n",
      "1              2            690.00         G\n",
      "2              3            817.54         G\n",
      "3              4            973.88         G\n",
      "4              5          1,000.00         G\n",
      "..           ...               ...       ...\n",
      "150          151          4,873.37         G\n",
      "151          152          4,884.58         G\n",
      "152          153          4,942.98         G\n",
      "153          154          4,957.99         G\n",
      "154          155          4,971.56         G\n",
      "\n",
      "[155 rows x 3 columns]\n"
     ]
    }
   ],
   "source": [
    "# Crea un diccionario para almacenar los DataFrames de cada categoría única\n",
    "dataframes_por_categoria = {}\n",
    "\n",
    "# Itera sobre los grupos creados por groupby()\n",
    "for categoria, grupo in df.groupby('Categoria'):\n",
    "    # Almacena el DataFrame del grupo en el diccionario\n",
    "    dataframes_por_categoria[categoria] = grupo\n",
    "\n",
    "# Itera sobre las claves del diccionario dataframes_por_categoria\n",
    "for categoria in dataframes_por_categoria:\n",
    "    # Imprime la categoría actual\n",
    "    print(\"DataFrame para Categoria '{}':\".format(categoria))\n",
    "    # Imprime el DataFrame correspondiente a la categoría actual\n",
    "    print(dataframes_por_categoria[categoria])\n"
   ]
  },
  {
   "cell_type": "code",
   "execution_count": 64,
   "metadata": {},
   "outputs": [
    {
     "data": {
      "text/html": [
       "<div>\n",
       "<style scoped>\n",
       "    .dataframe tbody tr th:only-of-type {\n",
       "        vertical-align: middle;\n",
       "    }\n",
       "\n",
       "    .dataframe tbody tr th {\n",
       "        vertical-align: top;\n",
       "    }\n",
       "\n",
       "    .dataframe thead th {\n",
       "        text-align: right;\n",
       "    }\n",
       "</style>\n",
       "<table border=\"1\" class=\"dataframe\">\n",
       "  <thead>\n",
       "    <tr style=\"text-align: right;\">\n",
       "      <th></th>\n",
       "      <th>Categoria</th>\n",
       "      <th>numero_registros</th>\n",
       "    </tr>\n",
       "  </thead>\n",
       "  <tbody>\n",
       "    <tr>\n",
       "      <th>0</th>\n",
       "      <td>G</td>\n",
       "      <td>155.00</td>\n",
       "    </tr>\n",
       "    <tr>\n",
       "      <th>1</th>\n",
       "      <td>F</td>\n",
       "      <td>99.00</td>\n",
       "    </tr>\n",
       "    <tr>\n",
       "      <th>2</th>\n",
       "      <td>F1</td>\n",
       "      <td>48.00</td>\n",
       "    </tr>\n",
       "    <tr>\n",
       "      <th>3</th>\n",
       "      <td>E</td>\n",
       "      <td>14.00</td>\n",
       "    </tr>\n",
       "    <tr>\n",
       "      <th>4</th>\n",
       "      <td>E1</td>\n",
       "      <td>7.00</td>\n",
       "    </tr>\n",
       "    <tr>\n",
       "      <th>5</th>\n",
       "      <td>D</td>\n",
       "      <td>6.00</td>\n",
       "    </tr>\n",
       "    <tr>\n",
       "      <th>6</th>\n",
       "      <td>D1</td>\n",
       "      <td>1.00</td>\n",
       "    </tr>\n",
       "    <tr>\n",
       "      <th>7</th>\n",
       "      <td>C</td>\n",
       "      <td>3.00</td>\n",
       "    </tr>\n",
       "    <tr>\n",
       "      <th>8</th>\n",
       "      <td>C1</td>\n",
       "      <td>0.00</td>\n",
       "    </tr>\n",
       "    <tr>\n",
       "      <th>9</th>\n",
       "      <td>B</td>\n",
       "      <td>0.00</td>\n",
       "    </tr>\n",
       "    <tr>\n",
       "      <th>10</th>\n",
       "      <td>B1</td>\n",
       "      <td>0.00</td>\n",
       "    </tr>\n",
       "    <tr>\n",
       "      <th>11</th>\n",
       "      <td>A</td>\n",
       "      <td>0.00</td>\n",
       "    </tr>\n",
       "    <tr>\n",
       "      <th>12</th>\n",
       "      <td>A1</td>\n",
       "      <td>0.00</td>\n",
       "    </tr>\n",
       "    <tr>\n",
       "      <th>13</th>\n",
       "      <td>S</td>\n",
       "      <td>0.00</td>\n",
       "    </tr>\n",
       "  </tbody>\n",
       "</table>\n",
       "</div>"
      ],
      "text/plain": [
       "   Categoria  numero_registros\n",
       "0          G            155.00\n",
       "1          F             99.00\n",
       "2         F1             48.00\n",
       "3          E             14.00\n",
       "4         E1              7.00\n",
       "5          D              6.00\n",
       "6         D1              1.00\n",
       "7          C              3.00\n",
       "8         C1              0.00\n",
       "9          B              0.00\n",
       "10        B1              0.00\n",
       "11         A              0.00\n",
       "12        A1              0.00\n",
       "13         S              0.00"
      ]
     },
     "execution_count": 64,
     "metadata": {},
     "output_type": "execute_result"
    }
   ],
   "source": [
    "numero_registros_por_categoria = {}\n",
    "# Itera dataframes_por_categoria que contiene cada grupo de categorías por pareja\n",
    "for categoria in dataframes_por_categoria:\n",
    "    numero_registros = len(dataframes_por_categoria[categoria]) # Número de registros para el DataFrame correspondiente a la categoría actual\n",
    "    numero_registros_por_categoria[categoria] = numero_registros # Almacena en el diccionario \n",
    "\n",
    "# Convertir el diccionario en un DataFrame\n",
    "posiciones_salariospersona = pd.DataFrame(list(numero_registros_por_categoria.items()), columns=['Categoria', 'numero_registros'])\n",
    "# Mantener orden\n",
    "nuevo_orden = ['G', 'F', 'F1', 'E', 'E1', 'D', 'D1', 'C', 'C1', 'B', 'B1', 'A', 'A1', 'S']\n",
    "posiciones_salariospersona = posiciones_salariospersona.set_index('Categoria').reindex(nuevo_orden).fillna(0).reset_index()\n",
    "posiciones_salariospersona"
   ]
  },
  {
   "cell_type": "code",
   "execution_count": 65,
   "metadata": {},
   "outputs": [],
   "source": [
    "reemplazos = {\n",
    "    'G': 'G [Menor a 5000 mil]',\n",
    "    'F': 'F [5 mil-8 mil]',\n",
    "    'F1': 'F1 [8 mil-12mil]',\n",
    "    'E': 'E [12 mil-16mil]',\n",
    "    'E1': 'E1 [16 mil-20 mil]',\n",
    "    'D': 'D [20 mil -25 mil]',\n",
    "    'D1': 'D1 [25 mil-30mil]',\n",
    "    'C': 'C [30 mil-35 mil]',\n",
    "    'C1': 'C1 [35 mil-40 mil]',\n",
    "    'B': 'B [40 mil-45 mil]',\n",
    "    'B1': 'B1 [45 mil-50 mil]',\n",
    "    'A': 'A [50 mil-55 mil]',\n",
    "    'A1': 'A1 [55 mil-60 mil]',\n",
    "    'S': 'S+ [Mayor a 60 mil]'\n",
    "}\n",
    "\n",
    "# Reemplazar los valores en la columna 'Categoria_Pareja'\n",
    "posiciones_salariospersona['Categoria'] = posiciones_salariospersona['Categoria'].replace(reemplazos)\n"
   ]
  },
  {
   "cell_type": "code",
   "execution_count": 66,
   "metadata": {},
   "outputs": [
    {
     "data": {
      "text/html": [
       "<div>\n",
       "<style scoped>\n",
       "    .dataframe tbody tr th:only-of-type {\n",
       "        vertical-align: middle;\n",
       "    }\n",
       "\n",
       "    .dataframe tbody tr th {\n",
       "        vertical-align: top;\n",
       "    }\n",
       "\n",
       "    .dataframe thead th {\n",
       "        text-align: right;\n",
       "    }\n",
       "</style>\n",
       "<table border=\"1\" class=\"dataframe\">\n",
       "  <thead>\n",
       "    <tr style=\"text-align: right;\">\n",
       "      <th></th>\n",
       "      <th>Categoria</th>\n",
       "      <th>numero_registros</th>\n",
       "      <th>porcentaje</th>\n",
       "    </tr>\n",
       "  </thead>\n",
       "  <tbody>\n",
       "    <tr>\n",
       "      <th>0</th>\n",
       "      <td>G [Menor a 5000 mil]</td>\n",
       "      <td>155.00</td>\n",
       "      <td>46.55</td>\n",
       "    </tr>\n",
       "    <tr>\n",
       "      <th>1</th>\n",
       "      <td>F [5 mil-8 mil]</td>\n",
       "      <td>99.00</td>\n",
       "      <td>29.73</td>\n",
       "    </tr>\n",
       "    <tr>\n",
       "      <th>2</th>\n",
       "      <td>F1 [8 mil-12mil]</td>\n",
       "      <td>48.00</td>\n",
       "      <td>14.41</td>\n",
       "    </tr>\n",
       "    <tr>\n",
       "      <th>3</th>\n",
       "      <td>E [12 mil-16mil]</td>\n",
       "      <td>14.00</td>\n",
       "      <td>4.20</td>\n",
       "    </tr>\n",
       "    <tr>\n",
       "      <th>4</th>\n",
       "      <td>E1 [16 mil-20 mil]</td>\n",
       "      <td>7.00</td>\n",
       "      <td>2.10</td>\n",
       "    </tr>\n",
       "    <tr>\n",
       "      <th>5</th>\n",
       "      <td>D [20 mil -25 mil]</td>\n",
       "      <td>6.00</td>\n",
       "      <td>1.80</td>\n",
       "    </tr>\n",
       "    <tr>\n",
       "      <th>6</th>\n",
       "      <td>D1 [25 mil-30mil]</td>\n",
       "      <td>1.00</td>\n",
       "      <td>0.30</td>\n",
       "    </tr>\n",
       "    <tr>\n",
       "      <th>7</th>\n",
       "      <td>C [30 mil-35 mil]</td>\n",
       "      <td>3.00</td>\n",
       "      <td>0.90</td>\n",
       "    </tr>\n",
       "    <tr>\n",
       "      <th>8</th>\n",
       "      <td>C1 [35 mil-40 mil]</td>\n",
       "      <td>0.00</td>\n",
       "      <td>0.00</td>\n",
       "    </tr>\n",
       "    <tr>\n",
       "      <th>9</th>\n",
       "      <td>B [40 mil-45 mil]</td>\n",
       "      <td>0.00</td>\n",
       "      <td>0.00</td>\n",
       "    </tr>\n",
       "    <tr>\n",
       "      <th>10</th>\n",
       "      <td>B1 [45 mil-50 mil]</td>\n",
       "      <td>0.00</td>\n",
       "      <td>0.00</td>\n",
       "    </tr>\n",
       "    <tr>\n",
       "      <th>11</th>\n",
       "      <td>A [50 mil-55 mil]</td>\n",
       "      <td>0.00</td>\n",
       "      <td>0.00</td>\n",
       "    </tr>\n",
       "    <tr>\n",
       "      <th>12</th>\n",
       "      <td>A1 [55 mil-60 mil]</td>\n",
       "      <td>0.00</td>\n",
       "      <td>0.00</td>\n",
       "    </tr>\n",
       "    <tr>\n",
       "      <th>13</th>\n",
       "      <td>S+ [Mayor a 60 mil]</td>\n",
       "      <td>0.00</td>\n",
       "      <td>0.00</td>\n",
       "    </tr>\n",
       "  </tbody>\n",
       "</table>\n",
       "</div>"
      ],
      "text/plain": [
       "               Categoria  numero_registros  porcentaje\n",
       "0   G [Menor a 5000 mil]            155.00       46.55\n",
       "1        F [5 mil-8 mil]             99.00       29.73\n",
       "2       F1 [8 mil-12mil]             48.00       14.41\n",
       "3       E [12 mil-16mil]             14.00        4.20\n",
       "4     E1 [16 mil-20 mil]              7.00        2.10\n",
       "5     D [20 mil -25 mil]              6.00        1.80\n",
       "6      D1 [25 mil-30mil]              1.00        0.30\n",
       "7      C [30 mil-35 mil]              3.00        0.90\n",
       "8     C1 [35 mil-40 mil]              0.00        0.00\n",
       "9      B [40 mil-45 mil]              0.00        0.00\n",
       "10    B1 [45 mil-50 mil]              0.00        0.00\n",
       "11     A [50 mil-55 mil]              0.00        0.00\n",
       "12    A1 [55 mil-60 mil]              0.00        0.00\n",
       "13   S+ [Mayor a 60 mil]              0.00        0.00"
      ]
     },
     "execution_count": 66,
     "metadata": {},
     "output_type": "execute_result"
    }
   ],
   "source": [
    "#posiciones_salariospersona['Categoria'] = ['<5000 G', '<5-8K F', '8-12K F1', '12-16K E', '16-20K E1', '20-25K D', '25-30K D1', '30-35K C', '35-40K C1', '40-45K B', '45-50K B1', '50-55K A', '55-60K A1', '60K S+']\n",
    "total_registros = posiciones_salariospersona['numero_registros'].sum() # Calcular el total de registros en el DataFrame\n",
    "# Calculamos el porcentaje que representa cada numero_registros en relación al total de registros en el df\n",
    "posiciones_salariospersona['porcentaje'] = (posiciones_salariospersona['numero_registros'] / total_registros) * 100\n",
    "posiciones_salariospersona"
   ]
  },
  {
   "cell_type": "code",
   "execution_count": 67,
   "metadata": {},
   "outputs": [
    {
     "data": {
      "application/vnd.plotly.v1+json": {
       "config": {
        "plotlyServerURL": "https://plot.ly"
       },
       "data": [
        {
         "marker": {
          "color": [
           "#2962ff",
           "#9500ff",
           "#ff0059",
           "#ff8c00",
           "#b4e600",
           "#2EC2A2",
           "#E50CB6",
           "#4225CF",
           "#2CBA4D",
           "#2962ff",
           "#9500ff",
           "#ff0059",
           "#ff8c00",
           "#b4e600"
          ]
         },
         "text": [
          "46.55%",
          "29.73%",
          "14.41%",
          "4.20%",
          "2.10%",
          "1.80%",
          "0.30%",
          "0.90%",
          "0.00%",
          "0.00%",
          "0.00%",
          "0.00%",
          "0.00%",
          "0.00%"
         ],
         "textposition": "outside",
         "type": "bar",
         "x": [
          "G [Menor a 5000 mil]",
          "F [5 mil-8 mil]",
          "F1 [8 mil-12mil]",
          "E [12 mil-16mil]",
          "E1 [16 mil-20 mil]",
          "D [20 mil -25 mil]",
          "D1 [25 mil-30mil]",
          "C [30 mil-35 mil]",
          "C1 [35 mil-40 mil]",
          "B [40 mil-45 mil]",
          "B1 [45 mil-50 mil]",
          "A [50 mil-55 mil]",
          "A1 [55 mil-60 mil]",
          "S+ [Mayor a 60 mil]"
         ],
         "y": [
          46.546546546546544,
          29.72972972972973,
          14.414414414414415,
          4.2042042042042045,
          2.1021021021021022,
          1.8018018018018018,
          0.3003003003003003,
          0.9009009009009009,
          0,
          0,
          0,
          0,
          0,
          0
         ]
        }
       ],
       "layout": {
        "margin": {
         "b": 10,
         "l": 10,
         "r": 10,
         "t": 10
        },
        "plot_bgcolor": "rgba(0,0,0,0)",
        "template": {
         "data": {
          "bar": [
           {
            "error_x": {
             "color": "#2a3f5f"
            },
            "error_y": {
             "color": "#2a3f5f"
            },
            "marker": {
             "line": {
              "color": "#E5ECF6",
              "width": 0.5
             },
             "pattern": {
              "fillmode": "overlay",
              "size": 10,
              "solidity": 0.2
             }
            },
            "type": "bar"
           }
          ],
          "barpolar": [
           {
            "marker": {
             "line": {
              "color": "#E5ECF6",
              "width": 0.5
             },
             "pattern": {
              "fillmode": "overlay",
              "size": 10,
              "solidity": 0.2
             }
            },
            "type": "barpolar"
           }
          ],
          "carpet": [
           {
            "aaxis": {
             "endlinecolor": "#2a3f5f",
             "gridcolor": "white",
             "linecolor": "white",
             "minorgridcolor": "white",
             "startlinecolor": "#2a3f5f"
            },
            "baxis": {
             "endlinecolor": "#2a3f5f",
             "gridcolor": "white",
             "linecolor": "white",
             "minorgridcolor": "white",
             "startlinecolor": "#2a3f5f"
            },
            "type": "carpet"
           }
          ],
          "choropleth": [
           {
            "colorbar": {
             "outlinewidth": 0,
             "ticks": ""
            },
            "type": "choropleth"
           }
          ],
          "contour": [
           {
            "colorbar": {
             "outlinewidth": 0,
             "ticks": ""
            },
            "colorscale": [
             [
              0,
              "#0d0887"
             ],
             [
              0.1111111111111111,
              "#46039f"
             ],
             [
              0.2222222222222222,
              "#7201a8"
             ],
             [
              0.3333333333333333,
              "#9c179e"
             ],
             [
              0.4444444444444444,
              "#bd3786"
             ],
             [
              0.5555555555555556,
              "#d8576b"
             ],
             [
              0.6666666666666666,
              "#ed7953"
             ],
             [
              0.7777777777777778,
              "#fb9f3a"
             ],
             [
              0.8888888888888888,
              "#fdca26"
             ],
             [
              1,
              "#f0f921"
             ]
            ],
            "type": "contour"
           }
          ],
          "contourcarpet": [
           {
            "colorbar": {
             "outlinewidth": 0,
             "ticks": ""
            },
            "type": "contourcarpet"
           }
          ],
          "heatmap": [
           {
            "colorbar": {
             "outlinewidth": 0,
             "ticks": ""
            },
            "colorscale": [
             [
              0,
              "#0d0887"
             ],
             [
              0.1111111111111111,
              "#46039f"
             ],
             [
              0.2222222222222222,
              "#7201a8"
             ],
             [
              0.3333333333333333,
              "#9c179e"
             ],
             [
              0.4444444444444444,
              "#bd3786"
             ],
             [
              0.5555555555555556,
              "#d8576b"
             ],
             [
              0.6666666666666666,
              "#ed7953"
             ],
             [
              0.7777777777777778,
              "#fb9f3a"
             ],
             [
              0.8888888888888888,
              "#fdca26"
             ],
             [
              1,
              "#f0f921"
             ]
            ],
            "type": "heatmap"
           }
          ],
          "heatmapgl": [
           {
            "colorbar": {
             "outlinewidth": 0,
             "ticks": ""
            },
            "colorscale": [
             [
              0,
              "#0d0887"
             ],
             [
              0.1111111111111111,
              "#46039f"
             ],
             [
              0.2222222222222222,
              "#7201a8"
             ],
             [
              0.3333333333333333,
              "#9c179e"
             ],
             [
              0.4444444444444444,
              "#bd3786"
             ],
             [
              0.5555555555555556,
              "#d8576b"
             ],
             [
              0.6666666666666666,
              "#ed7953"
             ],
             [
              0.7777777777777778,
              "#fb9f3a"
             ],
             [
              0.8888888888888888,
              "#fdca26"
             ],
             [
              1,
              "#f0f921"
             ]
            ],
            "type": "heatmapgl"
           }
          ],
          "histogram": [
           {
            "marker": {
             "pattern": {
              "fillmode": "overlay",
              "size": 10,
              "solidity": 0.2
             }
            },
            "type": "histogram"
           }
          ],
          "histogram2d": [
           {
            "colorbar": {
             "outlinewidth": 0,
             "ticks": ""
            },
            "colorscale": [
             [
              0,
              "#0d0887"
             ],
             [
              0.1111111111111111,
              "#46039f"
             ],
             [
              0.2222222222222222,
              "#7201a8"
             ],
             [
              0.3333333333333333,
              "#9c179e"
             ],
             [
              0.4444444444444444,
              "#bd3786"
             ],
             [
              0.5555555555555556,
              "#d8576b"
             ],
             [
              0.6666666666666666,
              "#ed7953"
             ],
             [
              0.7777777777777778,
              "#fb9f3a"
             ],
             [
              0.8888888888888888,
              "#fdca26"
             ],
             [
              1,
              "#f0f921"
             ]
            ],
            "type": "histogram2d"
           }
          ],
          "histogram2dcontour": [
           {
            "colorbar": {
             "outlinewidth": 0,
             "ticks": ""
            },
            "colorscale": [
             [
              0,
              "#0d0887"
             ],
             [
              0.1111111111111111,
              "#46039f"
             ],
             [
              0.2222222222222222,
              "#7201a8"
             ],
             [
              0.3333333333333333,
              "#9c179e"
             ],
             [
              0.4444444444444444,
              "#bd3786"
             ],
             [
              0.5555555555555556,
              "#d8576b"
             ],
             [
              0.6666666666666666,
              "#ed7953"
             ],
             [
              0.7777777777777778,
              "#fb9f3a"
             ],
             [
              0.8888888888888888,
              "#fdca26"
             ],
             [
              1,
              "#f0f921"
             ]
            ],
            "type": "histogram2dcontour"
           }
          ],
          "mesh3d": [
           {
            "colorbar": {
             "outlinewidth": 0,
             "ticks": ""
            },
            "type": "mesh3d"
           }
          ],
          "parcoords": [
           {
            "line": {
             "colorbar": {
              "outlinewidth": 0,
              "ticks": ""
             }
            },
            "type": "parcoords"
           }
          ],
          "pie": [
           {
            "automargin": true,
            "type": "pie"
           }
          ],
          "scatter": [
           {
            "fillpattern": {
             "fillmode": "overlay",
             "size": 10,
             "solidity": 0.2
            },
            "type": "scatter"
           }
          ],
          "scatter3d": [
           {
            "line": {
             "colorbar": {
              "outlinewidth": 0,
              "ticks": ""
             }
            },
            "marker": {
             "colorbar": {
              "outlinewidth": 0,
              "ticks": ""
             }
            },
            "type": "scatter3d"
           }
          ],
          "scattercarpet": [
           {
            "marker": {
             "colorbar": {
              "outlinewidth": 0,
              "ticks": ""
             }
            },
            "type": "scattercarpet"
           }
          ],
          "scattergeo": [
           {
            "marker": {
             "colorbar": {
              "outlinewidth": 0,
              "ticks": ""
             }
            },
            "type": "scattergeo"
           }
          ],
          "scattergl": [
           {
            "marker": {
             "colorbar": {
              "outlinewidth": 0,
              "ticks": ""
             }
            },
            "type": "scattergl"
           }
          ],
          "scattermapbox": [
           {
            "marker": {
             "colorbar": {
              "outlinewidth": 0,
              "ticks": ""
             }
            },
            "type": "scattermapbox"
           }
          ],
          "scatterpolar": [
           {
            "marker": {
             "colorbar": {
              "outlinewidth": 0,
              "ticks": ""
             }
            },
            "type": "scatterpolar"
           }
          ],
          "scatterpolargl": [
           {
            "marker": {
             "colorbar": {
              "outlinewidth": 0,
              "ticks": ""
             }
            },
            "type": "scatterpolargl"
           }
          ],
          "scatterternary": [
           {
            "marker": {
             "colorbar": {
              "outlinewidth": 0,
              "ticks": ""
             }
            },
            "type": "scatterternary"
           }
          ],
          "surface": [
           {
            "colorbar": {
             "outlinewidth": 0,
             "ticks": ""
            },
            "colorscale": [
             [
              0,
              "#0d0887"
             ],
             [
              0.1111111111111111,
              "#46039f"
             ],
             [
              0.2222222222222222,
              "#7201a8"
             ],
             [
              0.3333333333333333,
              "#9c179e"
             ],
             [
              0.4444444444444444,
              "#bd3786"
             ],
             [
              0.5555555555555556,
              "#d8576b"
             ],
             [
              0.6666666666666666,
              "#ed7953"
             ],
             [
              0.7777777777777778,
              "#fb9f3a"
             ],
             [
              0.8888888888888888,
              "#fdca26"
             ],
             [
              1,
              "#f0f921"
             ]
            ],
            "type": "surface"
           }
          ],
          "table": [
           {
            "cells": {
             "fill": {
              "color": "#EBF0F8"
             },
             "line": {
              "color": "white"
             }
            },
            "header": {
             "fill": {
              "color": "#C8D4E3"
             },
             "line": {
              "color": "white"
             }
            },
            "type": "table"
           }
          ]
         },
         "layout": {
          "annotationdefaults": {
           "arrowcolor": "#2a3f5f",
           "arrowhead": 0,
           "arrowwidth": 1
          },
          "autotypenumbers": "strict",
          "coloraxis": {
           "colorbar": {
            "outlinewidth": 0,
            "ticks": ""
           }
          },
          "colorscale": {
           "diverging": [
            [
             0,
             "#8e0152"
            ],
            [
             0.1,
             "#c51b7d"
            ],
            [
             0.2,
             "#de77ae"
            ],
            [
             0.3,
             "#f1b6da"
            ],
            [
             0.4,
             "#fde0ef"
            ],
            [
             0.5,
             "#f7f7f7"
            ],
            [
             0.6,
             "#e6f5d0"
            ],
            [
             0.7,
             "#b8e186"
            ],
            [
             0.8,
             "#7fbc41"
            ],
            [
             0.9,
             "#4d9221"
            ],
            [
             1,
             "#276419"
            ]
           ],
           "sequential": [
            [
             0,
             "#0d0887"
            ],
            [
             0.1111111111111111,
             "#46039f"
            ],
            [
             0.2222222222222222,
             "#7201a8"
            ],
            [
             0.3333333333333333,
             "#9c179e"
            ],
            [
             0.4444444444444444,
             "#bd3786"
            ],
            [
             0.5555555555555556,
             "#d8576b"
            ],
            [
             0.6666666666666666,
             "#ed7953"
            ],
            [
             0.7777777777777778,
             "#fb9f3a"
            ],
            [
             0.8888888888888888,
             "#fdca26"
            ],
            [
             1,
             "#f0f921"
            ]
           ],
           "sequentialminus": [
            [
             0,
             "#0d0887"
            ],
            [
             0.1111111111111111,
             "#46039f"
            ],
            [
             0.2222222222222222,
             "#7201a8"
            ],
            [
             0.3333333333333333,
             "#9c179e"
            ],
            [
             0.4444444444444444,
             "#bd3786"
            ],
            [
             0.5555555555555556,
             "#d8576b"
            ],
            [
             0.6666666666666666,
             "#ed7953"
            ],
            [
             0.7777777777777778,
             "#fb9f3a"
            ],
            [
             0.8888888888888888,
             "#fdca26"
            ],
            [
             1,
             "#f0f921"
            ]
           ]
          },
          "colorway": [
           "#636efa",
           "#EF553B",
           "#00cc96",
           "#ab63fa",
           "#FFA15A",
           "#19d3f3",
           "#FF6692",
           "#B6E880",
           "#FF97FF",
           "#FECB52"
          ],
          "font": {
           "color": "#2a3f5f"
          },
          "geo": {
           "bgcolor": "white",
           "lakecolor": "white",
           "landcolor": "#E5ECF6",
           "showlakes": true,
           "showland": true,
           "subunitcolor": "white"
          },
          "hoverlabel": {
           "align": "left"
          },
          "hovermode": "closest",
          "mapbox": {
           "style": "light"
          },
          "paper_bgcolor": "white",
          "plot_bgcolor": "#E5ECF6",
          "polar": {
           "angularaxis": {
            "gridcolor": "white",
            "linecolor": "white",
            "ticks": ""
           },
           "bgcolor": "#E5ECF6",
           "radialaxis": {
            "gridcolor": "white",
            "linecolor": "white",
            "ticks": ""
           }
          },
          "scene": {
           "xaxis": {
            "backgroundcolor": "#E5ECF6",
            "gridcolor": "white",
            "gridwidth": 2,
            "linecolor": "white",
            "showbackground": true,
            "ticks": "",
            "zerolinecolor": "white"
           },
           "yaxis": {
            "backgroundcolor": "#E5ECF6",
            "gridcolor": "white",
            "gridwidth": 2,
            "linecolor": "white",
            "showbackground": true,
            "ticks": "",
            "zerolinecolor": "white"
           },
           "zaxis": {
            "backgroundcolor": "#E5ECF6",
            "gridcolor": "white",
            "gridwidth": 2,
            "linecolor": "white",
            "showbackground": true,
            "ticks": "",
            "zerolinecolor": "white"
           }
          },
          "shapedefaults": {
           "line": {
            "color": "#2a3f5f"
           }
          },
          "ternary": {
           "aaxis": {
            "gridcolor": "white",
            "linecolor": "white",
            "ticks": ""
           },
           "baxis": {
            "gridcolor": "white",
            "linecolor": "white",
            "ticks": ""
           },
           "bgcolor": "#E5ECF6",
           "caxis": {
            "gridcolor": "white",
            "linecolor": "white",
            "ticks": ""
           }
          },
          "title": {
           "x": 0.05
          },
          "xaxis": {
           "automargin": true,
           "gridcolor": "white",
           "linecolor": "white",
           "ticks": "",
           "title": {
            "standoff": 15
           },
           "zerolinecolor": "white",
           "zerolinewidth": 2
          },
          "yaxis": {
           "automargin": true,
           "gridcolor": "white",
           "linecolor": "white",
           "ticks": "",
           "title": {
            "standoff": 15
           },
           "zerolinecolor": "white",
           "zerolinewidth": 2
          }
         }
        },
        "title": {
         "x": 0.5
        },
        "yaxis": {
         "gridcolor": "#dddcda",
         "gridwidth": 1,
         "title": {
          "text": "%"
         }
        }
       }
      }
     },
     "metadata": {},
     "output_type": "display_data"
    }
   ],
   "source": [
    "colores = ['#2962ff', '#9500ff', '#ff0059', '#ff8c00', '#b4e600', '#2EC2A2','#E50CB6','#4225CF','#2CBA4D','#2962ff', '#9500ff', '#ff0059', '#ff8c00', '#b4e600']\n",
    "\n",
    "fig = go.Figure()\n",
    "fig.add_trace(go.Bar(\n",
    "    x=posiciones_salariospersona['Categoria'],  # Eje x: Categoría\n",
    "    y=posiciones_salariospersona['porcentaje'],  # Eje y: porcentaje\n",
    "    text=posiciones_salariospersona['porcentaje'].apply(lambda x: f'{x:.2f}%'),  # Texto con el formato deseado\n",
    "    textposition='outside',  # Posición del texto (parte superior de las barras)\n",
    "    marker_color=colores,  # Especifica los colores de las barras\n",
    "))\n",
    "fig.update_layout(\n",
    "    #title='Mercado Salario por persona',  # Título de la gráfica\n",
    "    title_x=0.5,\n",
    "    yaxis=dict(\n",
    "        title='%',  # Título del eje y\n",
    "        gridcolor='#dddcda', # Color de las líneas que dividen los rangos del eje Y\n",
    "        gridwidth=1, # Ancho de las líneas que dividen los rangos del eje Y\n",
    "    ),margin=dict(l=10, r=10, t=10, b=10),  # Ajusta los márgenes (left, right, top, bottom)        \n",
    "    plot_bgcolor='rgba(0,0,0,0)',  # Color de fondo del gráfico\n",
    ")\n",
    "\n",
    "# Exportar gráfica como archivo HTML\n",
    "def guardar_grafico_como_html(fig, nombre_archivo, carpeta='assets/graficas'):\n",
    "    if not os.path.exists(carpeta): \n",
    "        os.makedirs(carpeta) # Crear la carpeta si no existe\n",
    "    \n",
    "    # Gráfica como archivo HTML en la carpeta especificada\n",
    "    pio.write_html(fig, f'{carpeta}/{nombre_archivo}.html')\n",
    "\n",
    "# Exportar\n",
    "guardar_grafico_como_html(fig, 'g_bar_mercadosalario_persona', carpeta='assets/graficas')\n",
    "\n",
    "fig.show()"
   ]
  }
 ],
 "metadata": {
  "kernelspec": {
   "display_name": "base",
   "language": "python",
   "name": "python3"
  },
  "language_info": {
   "codemirror_mode": {
    "name": "ipython",
    "version": 3
   },
   "file_extension": ".py",
   "mimetype": "text/x-python",
   "name": "python",
   "nbconvert_exporter": "python",
   "pygments_lexer": "ipython3",
   "version": "3.9.13"
  }
 },
 "nbformat": 4,
 "nbformat_minor": 2
}
