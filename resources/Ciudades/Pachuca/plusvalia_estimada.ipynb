{
 "cells": [
  {
   "cell_type": "markdown",
   "metadata": {},
   "source": [
    "# Plusvalía estimada"
   ]
  },
  {
   "cell_type": "code",
   "execution_count": 1,
   "metadata": {},
   "outputs": [
    {
     "name": "stdout",
     "output_type": "stream",
     "text": [
      "Lista de DataFrames filtrados:\n"
     ]
    },
    {
     "data": {
      "text/plain": [
       "['df_alfa_agosto_2024_pachuca',\n",
       " 'df_alfa_febrero_2024_pachuca',\n",
       " 'df_alfa_julio_2024_pachuca',\n",
       " 'df_alfa_junio_2024_pachuca',\n",
       " 'df_alfa_marzo_2024_pachuca',\n",
       " 'df_alfa_mayo_2024_pachuca',\n",
       " 'df_alfa_q_feb_2023_pachuca',\n",
       " 'df_alfa_q_jul_2023_pachuca',\n",
       " 'df_alfa_q_jun_2023_pachuca',\n",
       " 'df_alfa_q_mar_2023_pachuca',\n",
       " 'df_alfa_q_nov_2022_pachuca',\n",
       " 'df_alfa_q_oct_2022_pachuca',\n",
       " 'df_alfa_q_sep_2023_pachuca']"
      ]
     },
     "execution_count": 1,
     "metadata": {},
     "output_type": "execute_result"
    }
   ],
   "source": [
    "# Manejo de datos\n",
    "import os # Directorios\n",
    "import pandas as pd # Manipulación df\n",
    "import numpy as np\n",
    "\n",
    "# Gráficas\n",
    "import plotly.graph_objects as go #Para obtener librería usar: pip install plotly\n",
    "from plotly.subplots import make_subplots\n",
    "import plotly.io as pio # Exportar gráfica\n",
    "\n",
    "# Obtener el directorio actual de trabajo\n",
    "directorio_actual = os.getcwd()\n",
    "\n",
    "# Directorio donde se encuentran los archivos JSON (ruta relativa)\n",
    "directorio_json = os.path.join(directorio_actual, '../../db/datos_json')\n",
    "\n",
    "# Obtener la lista de archivos JSON en el directorio\n",
    "archivos_json = os.listdir(directorio_json)\n",
    "\n",
    "# Cargar los archivos JSON y crear DataFrames\n",
    "for archivo in archivos_json:\n",
    "    nombre_tabla = archivo.replace('datos_', '').replace('.json', '')\n",
    "    ruta_json = os.path.join(directorio_json, archivo)\n",
    "    globals()[f\"df_{nombre_tabla}\"] = pd.read_json(ruta_json)\n",
    "\n",
    "# Obtener todos los nombres de las variables globales\n",
    "nombres_variables_globales = list(globals().keys())\n",
    "\n",
    "# Filtrar los nombres que comienzan con \"df_\", contienen \"alfa_q\" y \"pachuca\"\n",
    "nombres_df_filtrados = [\n",
    "    nombre for nombre in nombres_variables_globales \n",
    "    # Caso de cuando no son las alfa q\n",
    "    if nombre.startswith(\"df_\") and \"pachuca\" in nombre and \"alfa\" in nombre \n",
    "    and 'df_alfa_abril_2024_pachuca' not in nombre\n",
    "]\n",
    "\n",
    "# Imprimir la lista de DataFrames filtrados\n",
    "print(\"Lista de DataFrames filtrados:\")\n",
    "nombres_df_filtrados"
   ]
  },
  {
   "cell_type": "code",
   "execution_count": 2,
   "metadata": {},
   "outputs": [
    {
     "name": "stdout",
     "output_type": "stream",
     "text": [
      "Columnas renombradas en los DataFrames filtrados.\n",
      "Importadas\n"
     ]
    }
   ],
   "source": [
    "# Iterar sobre cada DataFrame en la lista filtrada\n",
    "for nombre_df in nombres_df_filtrados:\n",
    "    # Obtener el DataFrame usando globals()\n",
    "    df = globals()[nombre_df]\n",
    "    \n",
    "    df.rename(columns={'Precio':'precio',}, inplace=True)\n",
    "        # Asignar el DataFrame modificado de nuevo a la variable global\n",
    "    globals()[nombre_df] = df \n",
    "\n",
    "# Imprimir confirmación\n",
    "print(\"Columnas renombradas en los DataFrames filtrados.\")\n",
    "\n",
    "# Crear una lista de DataFrames seleccionados con las columnas específicas\n",
    "dataframes_list = []\n",
    "for nombre_df in nombres_df_filtrados:\n",
    "    # Seleccionar las columnas 'id' y 'categoria'\n",
    "    segment_df = globals()[nombre_df][['precio','precio']]\n",
    "    # Añadir el DataFrame a la lista\n",
    "    dataframes_list.append(segment_df)\n",
    "print(\"Importadas\")\n"
   ]
  },
  {
   "cell_type": "markdown",
   "metadata": {},
   "source": [
    "# Plusvalía *ESTIMADA* [Anual]"
   ]
  },
  {
   "cell_type": "code",
   "execution_count": 3,
   "metadata": {},
   "outputs": [
    {
     "name": "stdout",
     "output_type": "stream",
     "text": [
      "    precio_promedio mes   año\n",
      "0      3.338049e+06   8  2024\n",
      "1      3.289913e+06   2  2024\n",
      "2      3.395784e+06   7  2024\n",
      "3      3.212817e+06   6  2024\n",
      "4      3.374739e+06   3  2024\n",
      "5      3.224496e+06   5  2024\n",
      "6      9.800427e+05   2  2023\n",
      "7      9.766772e+05   7  2023\n",
      "8      9.864817e+05   6  2023\n",
      "9      9.774028e+05   3  2023\n",
      "10     9.740661e+05  11  2022\n",
      "11     9.769314e+05  10  2022\n",
      "12     9.881478e+05   9  2023\n"
     ]
    },
    {
     "name": "stderr",
     "output_type": "stream",
     "text": [
      "C:\\Users\\yoe11\\AppData\\Local\\Temp\\ipykernel_3768\\3462637469.py:36: FutureWarning: The behavior of DataFrame concatenation with empty or all-NA entries is deprecated. In a future version, this will no longer exclude empty or all-NA columns when determining the result dtypes. To retain the old behavior, exclude the relevant entries before the concat operation.\n",
      "  df_resultados = pd.concat([df_resultados, pd.DataFrame({'precio_promedio': [precio_promedio], 'mes': [mes], 'año': [ano]})], ignore_index=True)\n"
     ]
    }
   ],
   "source": [
    "import re\n",
    "# Función para extraer mes y año del nombre del DataFrame\n",
    "def extraer_mes_y_ano(nombre):\n",
    "    # Expresión regular para capturar tanto meses completos como abreviados\n",
    "    match = re.search(r'(ene|feb|mar|abr|may|jun|jul|ago|sep|oct|nov|dic|enero|febrero|marzo|abril|mayo|junio|julio|agosto|septiembre|octubre|noviembre|diciembre)_(\\d{4})', nombre)\n",
    "    if match:\n",
    "        mes = match.group(1).lower()  # Mes en texto\n",
    "        ano = int(match.group(2))  # Año en formato numérico\n",
    "        return mes, ano\n",
    "    return None, None\n",
    "\n",
    "# Diccionario de traducción de meses de texto a números\n",
    "meses_dict = {\n",
    "    'ene': 1, 'feb': 2, 'mar': 3, 'abr': 4, 'may': 5, 'jun': 6,\n",
    "    'jul': 7, 'ago': 8, 'sep': 9, 'oct': 10, 'nov': 11, 'dic': 12,\n",
    "    'enero': 1, 'febrero': 2, 'marzo': 3, 'abril': 4, 'mayo': 5, 'junio': 6,\n",
    "    'julio': 7, 'agosto': 8, 'septiembre': 9, 'octubre': 10, 'noviembre': 11, 'diciembre': 12\n",
    "}\n",
    "\n",
    "# DataFrame para almacenar resultados\n",
    "df_resultados = pd.DataFrame(columns=['precio_promedio', 'mes', 'año'])\n",
    "\n",
    "for nombre_df in nombres_df_filtrados:\n",
    "    # Obtener el DataFrame por su nombre en el entorno\n",
    "    df = globals()[nombre_df]\n",
    "    \n",
    "    # Extraer mes y año del nombre del DataFrame\n",
    "    mes_str, ano = extraer_mes_y_ano(nombre_df)\n",
    "    \n",
    "    # Verificar que se haya extraído el mes y el año correctamente\n",
    "    if mes_str is not None and ano is not None:\n",
    "        mes = meses_dict.get(mes_str)  # Convertir el nombre del mes en su número correspondiente\n",
    "        \n",
    "        # Calcular el promedio del precio y añadir columnas de mes y año\n",
    "        precio_promedio = df['precio'].mean()  # Calcula el promedio del precio en el DataFrame actual\n",
    "        df_resultados = pd.concat([df_resultados, pd.DataFrame({'precio_promedio': [precio_promedio], 'mes': [mes], 'año': [ano]})], ignore_index=True)\n",
    "\n",
    "# Resultado final\n",
    "print(df_resultados)"
   ]
  },
  {
   "cell_type": "code",
   "execution_count": 4,
   "metadata": {},
   "outputs": [
    {
     "data": {
      "text/html": [
       "<style>#sk-container-id-1 {\n",
       "  /* Definition of color scheme common for light and dark mode */\n",
       "  --sklearn-color-text: black;\n",
       "  --sklearn-color-line: gray;\n",
       "  /* Definition of color scheme for unfitted estimators */\n",
       "  --sklearn-color-unfitted-level-0: #fff5e6;\n",
       "  --sklearn-color-unfitted-level-1: #f6e4d2;\n",
       "  --sklearn-color-unfitted-level-2: #ffe0b3;\n",
       "  --sklearn-color-unfitted-level-3: chocolate;\n",
       "  /* Definition of color scheme for fitted estimators */\n",
       "  --sklearn-color-fitted-level-0: #f0f8ff;\n",
       "  --sklearn-color-fitted-level-1: #d4ebff;\n",
       "  --sklearn-color-fitted-level-2: #b3dbfd;\n",
       "  --sklearn-color-fitted-level-3: cornflowerblue;\n",
       "\n",
       "  /* Specific color for light theme */\n",
       "  --sklearn-color-text-on-default-background: var(--sg-text-color, var(--theme-code-foreground, var(--jp-content-font-color1, black)));\n",
       "  --sklearn-color-background: var(--sg-background-color, var(--theme-background, var(--jp-layout-color0, white)));\n",
       "  --sklearn-color-border-box: var(--sg-text-color, var(--theme-code-foreground, var(--jp-content-font-color1, black)));\n",
       "  --sklearn-color-icon: #696969;\n",
       "\n",
       "  @media (prefers-color-scheme: dark) {\n",
       "    /* Redefinition of color scheme for dark theme */\n",
       "    --sklearn-color-text-on-default-background: var(--sg-text-color, var(--theme-code-foreground, var(--jp-content-font-color1, white)));\n",
       "    --sklearn-color-background: var(--sg-background-color, var(--theme-background, var(--jp-layout-color0, #111)));\n",
       "    --sklearn-color-border-box: var(--sg-text-color, var(--theme-code-foreground, var(--jp-content-font-color1, white)));\n",
       "    --sklearn-color-icon: #878787;\n",
       "  }\n",
       "}\n",
       "\n",
       "#sk-container-id-1 {\n",
       "  color: var(--sklearn-color-text);\n",
       "}\n",
       "\n",
       "#sk-container-id-1 pre {\n",
       "  padding: 0;\n",
       "}\n",
       "\n",
       "#sk-container-id-1 input.sk-hidden--visually {\n",
       "  border: 0;\n",
       "  clip: rect(1px 1px 1px 1px);\n",
       "  clip: rect(1px, 1px, 1px, 1px);\n",
       "  height: 1px;\n",
       "  margin: -1px;\n",
       "  overflow: hidden;\n",
       "  padding: 0;\n",
       "  position: absolute;\n",
       "  width: 1px;\n",
       "}\n",
       "\n",
       "#sk-container-id-1 div.sk-dashed-wrapped {\n",
       "  border: 1px dashed var(--sklearn-color-line);\n",
       "  margin: 0 0.4em 0.5em 0.4em;\n",
       "  box-sizing: border-box;\n",
       "  padding-bottom: 0.4em;\n",
       "  background-color: var(--sklearn-color-background);\n",
       "}\n",
       "\n",
       "#sk-container-id-1 div.sk-container {\n",
       "  /* jupyter's `normalize.less` sets `[hidden] { display: none; }`\n",
       "     but bootstrap.min.css set `[hidden] { display: none !important; }`\n",
       "     so we also need the `!important` here to be able to override the\n",
       "     default hidden behavior on the sphinx rendered scikit-learn.org.\n",
       "     See: https://github.com/scikit-learn/scikit-learn/issues/21755 */\n",
       "  display: inline-block !important;\n",
       "  position: relative;\n",
       "}\n",
       "\n",
       "#sk-container-id-1 div.sk-text-repr-fallback {\n",
       "  display: none;\n",
       "}\n",
       "\n",
       "div.sk-parallel-item,\n",
       "div.sk-serial,\n",
       "div.sk-item {\n",
       "  /* draw centered vertical line to link estimators */\n",
       "  background-image: linear-gradient(var(--sklearn-color-text-on-default-background), var(--sklearn-color-text-on-default-background));\n",
       "  background-size: 2px 100%;\n",
       "  background-repeat: no-repeat;\n",
       "  background-position: center center;\n",
       "}\n",
       "\n",
       "/* Parallel-specific style estimator block */\n",
       "\n",
       "#sk-container-id-1 div.sk-parallel-item::after {\n",
       "  content: \"\";\n",
       "  width: 100%;\n",
       "  border-bottom: 2px solid var(--sklearn-color-text-on-default-background);\n",
       "  flex-grow: 1;\n",
       "}\n",
       "\n",
       "#sk-container-id-1 div.sk-parallel {\n",
       "  display: flex;\n",
       "  align-items: stretch;\n",
       "  justify-content: center;\n",
       "  background-color: var(--sklearn-color-background);\n",
       "  position: relative;\n",
       "}\n",
       "\n",
       "#sk-container-id-1 div.sk-parallel-item {\n",
       "  display: flex;\n",
       "  flex-direction: column;\n",
       "}\n",
       "\n",
       "#sk-container-id-1 div.sk-parallel-item:first-child::after {\n",
       "  align-self: flex-end;\n",
       "  width: 50%;\n",
       "}\n",
       "\n",
       "#sk-container-id-1 div.sk-parallel-item:last-child::after {\n",
       "  align-self: flex-start;\n",
       "  width: 50%;\n",
       "}\n",
       "\n",
       "#sk-container-id-1 div.sk-parallel-item:only-child::after {\n",
       "  width: 0;\n",
       "}\n",
       "\n",
       "/* Serial-specific style estimator block */\n",
       "\n",
       "#sk-container-id-1 div.sk-serial {\n",
       "  display: flex;\n",
       "  flex-direction: column;\n",
       "  align-items: center;\n",
       "  background-color: var(--sklearn-color-background);\n",
       "  padding-right: 1em;\n",
       "  padding-left: 1em;\n",
       "}\n",
       "\n",
       "\n",
       "/* Toggleable style: style used for estimator/Pipeline/ColumnTransformer box that is\n",
       "clickable and can be expanded/collapsed.\n",
       "- Pipeline and ColumnTransformer use this feature and define the default style\n",
       "- Estimators will overwrite some part of the style using the `sk-estimator` class\n",
       "*/\n",
       "\n",
       "/* Pipeline and ColumnTransformer style (default) */\n",
       "\n",
       "#sk-container-id-1 div.sk-toggleable {\n",
       "  /* Default theme specific background. It is overwritten whether we have a\n",
       "  specific estimator or a Pipeline/ColumnTransformer */\n",
       "  background-color: var(--sklearn-color-background);\n",
       "}\n",
       "\n",
       "/* Toggleable label */\n",
       "#sk-container-id-1 label.sk-toggleable__label {\n",
       "  cursor: pointer;\n",
       "  display: block;\n",
       "  width: 100%;\n",
       "  margin-bottom: 0;\n",
       "  padding: 0.5em;\n",
       "  box-sizing: border-box;\n",
       "  text-align: center;\n",
       "}\n",
       "\n",
       "#sk-container-id-1 label.sk-toggleable__label-arrow:before {\n",
       "  /* Arrow on the left of the label */\n",
       "  content: \"▸\";\n",
       "  float: left;\n",
       "  margin-right: 0.25em;\n",
       "  color: var(--sklearn-color-icon);\n",
       "}\n",
       "\n",
       "#sk-container-id-1 label.sk-toggleable__label-arrow:hover:before {\n",
       "  color: var(--sklearn-color-text);\n",
       "}\n",
       "\n",
       "/* Toggleable content - dropdown */\n",
       "\n",
       "#sk-container-id-1 div.sk-toggleable__content {\n",
       "  max-height: 0;\n",
       "  max-width: 0;\n",
       "  overflow: hidden;\n",
       "  text-align: left;\n",
       "  /* unfitted */\n",
       "  background-color: var(--sklearn-color-unfitted-level-0);\n",
       "}\n",
       "\n",
       "#sk-container-id-1 div.sk-toggleable__content.fitted {\n",
       "  /* fitted */\n",
       "  background-color: var(--sklearn-color-fitted-level-0);\n",
       "}\n",
       "\n",
       "#sk-container-id-1 div.sk-toggleable__content pre {\n",
       "  margin: 0.2em;\n",
       "  border-radius: 0.25em;\n",
       "  color: var(--sklearn-color-text);\n",
       "  /* unfitted */\n",
       "  background-color: var(--sklearn-color-unfitted-level-0);\n",
       "}\n",
       "\n",
       "#sk-container-id-1 div.sk-toggleable__content.fitted pre {\n",
       "  /* unfitted */\n",
       "  background-color: var(--sklearn-color-fitted-level-0);\n",
       "}\n",
       "\n",
       "#sk-container-id-1 input.sk-toggleable__control:checked~div.sk-toggleable__content {\n",
       "  /* Expand drop-down */\n",
       "  max-height: 200px;\n",
       "  max-width: 100%;\n",
       "  overflow: auto;\n",
       "}\n",
       "\n",
       "#sk-container-id-1 input.sk-toggleable__control:checked~label.sk-toggleable__label-arrow:before {\n",
       "  content: \"▾\";\n",
       "}\n",
       "\n",
       "/* Pipeline/ColumnTransformer-specific style */\n",
       "\n",
       "#sk-container-id-1 div.sk-label input.sk-toggleable__control:checked~label.sk-toggleable__label {\n",
       "  color: var(--sklearn-color-text);\n",
       "  background-color: var(--sklearn-color-unfitted-level-2);\n",
       "}\n",
       "\n",
       "#sk-container-id-1 div.sk-label.fitted input.sk-toggleable__control:checked~label.sk-toggleable__label {\n",
       "  background-color: var(--sklearn-color-fitted-level-2);\n",
       "}\n",
       "\n",
       "/* Estimator-specific style */\n",
       "\n",
       "/* Colorize estimator box */\n",
       "#sk-container-id-1 div.sk-estimator input.sk-toggleable__control:checked~label.sk-toggleable__label {\n",
       "  /* unfitted */\n",
       "  background-color: var(--sklearn-color-unfitted-level-2);\n",
       "}\n",
       "\n",
       "#sk-container-id-1 div.sk-estimator.fitted input.sk-toggleable__control:checked~label.sk-toggleable__label {\n",
       "  /* fitted */\n",
       "  background-color: var(--sklearn-color-fitted-level-2);\n",
       "}\n",
       "\n",
       "#sk-container-id-1 div.sk-label label.sk-toggleable__label,\n",
       "#sk-container-id-1 div.sk-label label {\n",
       "  /* The background is the default theme color */\n",
       "  color: var(--sklearn-color-text-on-default-background);\n",
       "}\n",
       "\n",
       "/* On hover, darken the color of the background */\n",
       "#sk-container-id-1 div.sk-label:hover label.sk-toggleable__label {\n",
       "  color: var(--sklearn-color-text);\n",
       "  background-color: var(--sklearn-color-unfitted-level-2);\n",
       "}\n",
       "\n",
       "/* Label box, darken color on hover, fitted */\n",
       "#sk-container-id-1 div.sk-label.fitted:hover label.sk-toggleable__label.fitted {\n",
       "  color: var(--sklearn-color-text);\n",
       "  background-color: var(--sklearn-color-fitted-level-2);\n",
       "}\n",
       "\n",
       "/* Estimator label */\n",
       "\n",
       "#sk-container-id-1 div.sk-label label {\n",
       "  font-family: monospace;\n",
       "  font-weight: bold;\n",
       "  display: inline-block;\n",
       "  line-height: 1.2em;\n",
       "}\n",
       "\n",
       "#sk-container-id-1 div.sk-label-container {\n",
       "  text-align: center;\n",
       "}\n",
       "\n",
       "/* Estimator-specific */\n",
       "#sk-container-id-1 div.sk-estimator {\n",
       "  font-family: monospace;\n",
       "  border: 1px dotted var(--sklearn-color-border-box);\n",
       "  border-radius: 0.25em;\n",
       "  box-sizing: border-box;\n",
       "  margin-bottom: 0.5em;\n",
       "  /* unfitted */\n",
       "  background-color: var(--sklearn-color-unfitted-level-0);\n",
       "}\n",
       "\n",
       "#sk-container-id-1 div.sk-estimator.fitted {\n",
       "  /* fitted */\n",
       "  background-color: var(--sklearn-color-fitted-level-0);\n",
       "}\n",
       "\n",
       "/* on hover */\n",
       "#sk-container-id-1 div.sk-estimator:hover {\n",
       "  /* unfitted */\n",
       "  background-color: var(--sklearn-color-unfitted-level-2);\n",
       "}\n",
       "\n",
       "#sk-container-id-1 div.sk-estimator.fitted:hover {\n",
       "  /* fitted */\n",
       "  background-color: var(--sklearn-color-fitted-level-2);\n",
       "}\n",
       "\n",
       "/* Specification for estimator info (e.g. \"i\" and \"?\") */\n",
       "\n",
       "/* Common style for \"i\" and \"?\" */\n",
       "\n",
       ".sk-estimator-doc-link,\n",
       "a:link.sk-estimator-doc-link,\n",
       "a:visited.sk-estimator-doc-link {\n",
       "  float: right;\n",
       "  font-size: smaller;\n",
       "  line-height: 1em;\n",
       "  font-family: monospace;\n",
       "  background-color: var(--sklearn-color-background);\n",
       "  border-radius: 1em;\n",
       "  height: 1em;\n",
       "  width: 1em;\n",
       "  text-decoration: none !important;\n",
       "  margin-left: 1ex;\n",
       "  /* unfitted */\n",
       "  border: var(--sklearn-color-unfitted-level-1) 1pt solid;\n",
       "  color: var(--sklearn-color-unfitted-level-1);\n",
       "}\n",
       "\n",
       ".sk-estimator-doc-link.fitted,\n",
       "a:link.sk-estimator-doc-link.fitted,\n",
       "a:visited.sk-estimator-doc-link.fitted {\n",
       "  /* fitted */\n",
       "  border: var(--sklearn-color-fitted-level-1) 1pt solid;\n",
       "  color: var(--sklearn-color-fitted-level-1);\n",
       "}\n",
       "\n",
       "/* On hover */\n",
       "div.sk-estimator:hover .sk-estimator-doc-link:hover,\n",
       ".sk-estimator-doc-link:hover,\n",
       "div.sk-label-container:hover .sk-estimator-doc-link:hover,\n",
       ".sk-estimator-doc-link:hover {\n",
       "  /* unfitted */\n",
       "  background-color: var(--sklearn-color-unfitted-level-3);\n",
       "  color: var(--sklearn-color-background);\n",
       "  text-decoration: none;\n",
       "}\n",
       "\n",
       "div.sk-estimator.fitted:hover .sk-estimator-doc-link.fitted:hover,\n",
       ".sk-estimator-doc-link.fitted:hover,\n",
       "div.sk-label-container:hover .sk-estimator-doc-link.fitted:hover,\n",
       ".sk-estimator-doc-link.fitted:hover {\n",
       "  /* fitted */\n",
       "  background-color: var(--sklearn-color-fitted-level-3);\n",
       "  color: var(--sklearn-color-background);\n",
       "  text-decoration: none;\n",
       "}\n",
       "\n",
       "/* Span, style for the box shown on hovering the info icon */\n",
       ".sk-estimator-doc-link span {\n",
       "  display: none;\n",
       "  z-index: 9999;\n",
       "  position: relative;\n",
       "  font-weight: normal;\n",
       "  right: .2ex;\n",
       "  padding: .5ex;\n",
       "  margin: .5ex;\n",
       "  width: min-content;\n",
       "  min-width: 20ex;\n",
       "  max-width: 50ex;\n",
       "  color: var(--sklearn-color-text);\n",
       "  box-shadow: 2pt 2pt 4pt #999;\n",
       "  /* unfitted */\n",
       "  background: var(--sklearn-color-unfitted-level-0);\n",
       "  border: .5pt solid var(--sklearn-color-unfitted-level-3);\n",
       "}\n",
       "\n",
       ".sk-estimator-doc-link.fitted span {\n",
       "  /* fitted */\n",
       "  background: var(--sklearn-color-fitted-level-0);\n",
       "  border: var(--sklearn-color-fitted-level-3);\n",
       "}\n",
       "\n",
       ".sk-estimator-doc-link:hover span {\n",
       "  display: block;\n",
       "}\n",
       "\n",
       "/* \"?\"-specific style due to the `<a>` HTML tag */\n",
       "\n",
       "#sk-container-id-1 a.estimator_doc_link {\n",
       "  float: right;\n",
       "  font-size: 1rem;\n",
       "  line-height: 1em;\n",
       "  font-family: monospace;\n",
       "  background-color: var(--sklearn-color-background);\n",
       "  border-radius: 1rem;\n",
       "  height: 1rem;\n",
       "  width: 1rem;\n",
       "  text-decoration: none;\n",
       "  /* unfitted */\n",
       "  color: var(--sklearn-color-unfitted-level-1);\n",
       "  border: var(--sklearn-color-unfitted-level-1) 1pt solid;\n",
       "}\n",
       "\n",
       "#sk-container-id-1 a.estimator_doc_link.fitted {\n",
       "  /* fitted */\n",
       "  border: var(--sklearn-color-fitted-level-1) 1pt solid;\n",
       "  color: var(--sklearn-color-fitted-level-1);\n",
       "}\n",
       "\n",
       "/* On hover */\n",
       "#sk-container-id-1 a.estimator_doc_link:hover {\n",
       "  /* unfitted */\n",
       "  background-color: var(--sklearn-color-unfitted-level-3);\n",
       "  color: var(--sklearn-color-background);\n",
       "  text-decoration: none;\n",
       "}\n",
       "\n",
       "#sk-container-id-1 a.estimator_doc_link.fitted:hover {\n",
       "  /* fitted */\n",
       "  background-color: var(--sklearn-color-fitted-level-3);\n",
       "}\n",
       "</style><div id=\"sk-container-id-1\" class=\"sk-top-container\"><div class=\"sk-text-repr-fallback\"><pre>LinearRegression()</pre><b>In a Jupyter environment, please rerun this cell to show the HTML representation or trust the notebook. <br />On GitHub, the HTML representation is unable to render, please try loading this page with nbviewer.org.</b></div><div class=\"sk-container\" hidden><div class=\"sk-item\"><div class=\"sk-estimator fitted sk-toggleable\"><input class=\"sk-toggleable__control sk-hidden--visually\" id=\"sk-estimator-id-1\" type=\"checkbox\" checked><label for=\"sk-estimator-id-1\" class=\"sk-toggleable__label fitted sk-toggleable__label-arrow fitted\">&nbsp;&nbsp;LinearRegression<a class=\"sk-estimator-doc-link fitted\" rel=\"noreferrer\" target=\"_blank\" href=\"https://scikit-learn.org/1.5/modules/generated/sklearn.linear_model.LinearRegression.html\">?<span>Documentation for LinearRegression</span></a><span class=\"sk-estimator-doc-link fitted\">i<span>Fitted</span></span></label><div class=\"sk-toggleable__content fitted\"><pre>LinearRegression()</pre></div> </div></div></div></div>"
      ],
      "text/plain": [
       "LinearRegression()"
      ]
     },
     "execution_count": 4,
     "metadata": {},
     "output_type": "execute_result"
    }
   ],
   "source": [
    "from sklearn.model_selection import train_test_split\n",
    "from sklearn.linear_model import LinearRegression\n",
    "from sklearn.preprocessing import MinMaxScaler\n",
    "\n",
    "# Preparar datos para el modelo\n",
    "X = df_resultados[['año', 'mes']]\n",
    "y = df_resultados['precio_promedio']\n",
    "\n",
    "# Normalizar los datos de X\n",
    "scaler = MinMaxScaler()\n",
    "X_scaled = scaler.fit_transform(X)\n",
    "\n",
    "# Dividir los datos escalados en conjuntos de entrenamiento y prueba\n",
    "X_train, X_test, y_train, y_test = train_test_split(X_scaled, y, test_size=0.2, random_state=42)\n",
    "\n",
    "# Inicializar y entrenar el modelo de regresión lineal con datos escalados\n",
    "modelo = LinearRegression()\n",
    "modelo.fit(X_train, y_train)"
   ]
  },
  {
   "cell_type": "code",
   "execution_count": 5,
   "metadata": {},
   "outputs": [
    {
     "name": "stderr",
     "output_type": "stream",
     "text": [
      "c:\\Users\\yoe11\\anaconda3\\envs\\newst\\Lib\\site-packages\\sklearn\\base.py:486: UserWarning: X has feature names, but LinearRegression was fitted without feature names\n",
      "  warnings.warn(\n"
     ]
    },
    {
     "data": {
      "text/html": [
       "<div>\n",
       "<style scoped>\n",
       "    .dataframe tbody tr th:only-of-type {\n",
       "        vertical-align: middle;\n",
       "    }\n",
       "\n",
       "    .dataframe tbody tr th {\n",
       "        vertical-align: top;\n",
       "    }\n",
       "\n",
       "    .dataframe thead th {\n",
       "        text-align: right;\n",
       "    }\n",
       "</style>\n",
       "<table border=\"1\" class=\"dataframe\">\n",
       "  <thead>\n",
       "    <tr style=\"text-align: right;\">\n",
       "      <th></th>\n",
       "      <th>año</th>\n",
       "      <th>precio_promedio</th>\n",
       "    </tr>\n",
       "  </thead>\n",
       "  <tbody>\n",
       "    <tr>\n",
       "      <th>0</th>\n",
       "      <td>2022</td>\n",
       "      <td>9.754988e+05</td>\n",
       "    </tr>\n",
       "    <tr>\n",
       "      <th>1</th>\n",
       "      <td>2023</td>\n",
       "      <td>9.881478e+05</td>\n",
       "    </tr>\n",
       "    <tr>\n",
       "      <th>2</th>\n",
       "      <td>2024</td>\n",
       "      <td>7.201005e+09</td>\n",
       "    </tr>\n",
       "    <tr>\n",
       "      <th>3</th>\n",
       "      <td>2025</td>\n",
       "      <td>7.206642e+09</td>\n",
       "    </tr>\n",
       "    <tr>\n",
       "      <th>4</th>\n",
       "      <td>2026</td>\n",
       "      <td>7.210199e+09</td>\n",
       "    </tr>\n",
       "  </tbody>\n",
       "</table>\n",
       "</div>"
      ],
      "text/plain": [
       "    año  precio_promedio\n",
       "0  2022     9.754988e+05\n",
       "1  2023     9.881478e+05\n",
       "2  2024     7.201005e+09\n",
       "3  2025     7.206642e+09\n",
       "4  2026     7.210199e+09"
      ]
     },
     "execution_count": 5,
     "metadata": {},
     "output_type": "execute_result"
    }
   ],
   "source": [
    "# DF con todas las combinaciones posibles de año y mes para 2023 FALTANTES (AUG-DEC)\n",
    "fechas_2023 = pd.DataFrame({'año': np.repeat(2023, 4),\n",
    "                            'mes': range(8, 12)})\n",
    "# DF con todas las combinaciones posibles de año y mes para 2024-2026\n",
    "fechas_2024_2026 = pd.DataFrame({'año': np.repeat(range(2024, 2027), 12),\n",
    "                                  'mes': np.tile(range(1, 13), 3)})\n",
    "nuevas_fechas = pd.concat([fechas_2023, fechas_2024_2026]) # Concatenamos \n",
    "\n",
    "# Realizamos predicciones con el modelo entrenado\n",
    "predicciones = modelo.predict(nuevas_fechas)\n",
    "\n",
    "# Redondear las predicciones a números enteros\n",
    "predicciones_enteros = np.round(predicciones).astype(int)\n",
    "\n",
    "# Agregamos las predicciones redondeadas al DataFrame de nuevas fechas\n",
    "nuevas_fechas['precio_promedio'] = predicciones_enteros\n",
    "\n",
    "nueva_conteo_pachuca = pd.concat([df_resultados, nuevas_fechas], ignore_index=True)\n",
    "nueva_conteo_pachuca = nueva_conteo_pachuca.groupby('año')['precio_promedio'].median().reset_index()\n",
    "# Agregar una nueva columna 'vivienda' con el valor 'Usada'\n",
    "nueva_conteo_pachuca.head()"
   ]
  },
  {
   "cell_type": "code",
   "execution_count": 6,
   "metadata": {},
   "outputs": [
    {
     "name": "stdout",
     "output_type": "stream",
     "text": [
      "Estimación de registros en 2024: 1000961\n",
      "Estimación de registros en 2025: 1013940\n",
      "Estimación de registros en 2026: 1027087\n"
     ]
    }
   ],
   "source": [
    "# Valores conocidos\n",
    "registros_2022 = 9.754988e+05\n",
    "registros_2023 = 9.881478e+05\n",
    "\n",
    "# Calcula la tasa de cambio porcentual de 2022 a 2023\n",
    "tasa_cambio = (registros_2023 - registros_2022) / registros_2022\n",
    "\n",
    "# Aplica la misma tasa de cambio para estimar 2024, 2025, y 2026 completo\n",
    "estimacion_2024 = registros_2023 * (1 + tasa_cambio)\n",
    "estimacion_2025 = estimacion_2024 * (1 + tasa_cambio)\n",
    "estimacion_2026 = estimacion_2025 * (1 + tasa_cambio)\n",
    "\n",
    "print(\"Estimación de registros en 2024:\", round(estimacion_2024))\n",
    "print(\"Estimación de registros en 2025:\", round(estimacion_2025))\n",
    "print(\"Estimación de registros en 2026:\", round(estimacion_2026))"
   ]
  },
  {
   "cell_type": "code",
   "execution_count": 7,
   "metadata": {},
   "outputs": [
    {
     "name": "stdout",
     "output_type": "stream",
     "text": [
      "    año  precio_promedio\n",
      "0  2022     9.754988e+05\n",
      "1  2023     9.881478e+05\n",
      "2  2024     1.000961e+06\n",
      "3  2025     1.013940e+06\n",
      "4  2026     1.027087e+06\n"
     ]
    }
   ],
   "source": [
    "# Remover comas y convertir la columna 'montos' a enteros\n",
    "#nueva_conteo_pachuca['precio_promedio'] = nueva_conteo_pachuca['precio_promedio'].replace({',': ''}, regex=True).astype(float).astype(int)\n",
    "# Ahora intenta realizar la sustitución\n",
    "nueva_conteo_pachuca.loc[nueva_conteo_pachuca['año'] == 2024, 'precio_promedio'] = 1000961\n",
    "nueva_conteo_pachuca.loc[nueva_conteo_pachuca['año'] == 2025, 'precio_promedio'] = 1013940\n",
    "nueva_conteo_pachuca.loc[nueva_conteo_pachuca['año'] == 2026, 'precio_promedio'] = 1027087\n",
    "total_todos = nueva_conteo_pachuca.copy()\n",
    "# Verifica el cambio en el DataFrame\n",
    "print(total_todos)\n"
   ]
  },
  {
   "cell_type": "code",
   "execution_count": 8,
   "metadata": {},
   "outputs": [
    {
     "data": {
      "application/vnd.plotly.v1+json": {
       "config": {
        "plotlyServerURL": "https://plot.ly"
       },
       "data": [
        {
         "marker": {
          "color": "blue"
         },
         "mode": "markers+lines",
         "type": "scatter",
         "x": [
          2022,
          2023,
          2024,
          2025,
          2026
         ],
         "y": [
          975498.7539988551,
          988147.8476481598,
          1000961,
          1013940,
          1027087
         ]
        }
       ],
       "layout": {
        "annotations": [
         {
          "font": {
           "color": "black",
           "size": 12
          },
          "showarrow": false,
          "text": "$975,498.75",
          "textangle": 0,
          "x": 2022,
          "xshift": 0,
          "y": 975498.7539988551,
          "yshift": 17
         },
         {
          "font": {
           "color": "black",
           "size": 12
          },
          "showarrow": false,
          "text": "$988,147.85",
          "textangle": 0,
          "x": 2023,
          "xshift": 0,
          "y": 988147.8476481598,
          "yshift": 17
         },
         {
          "font": {
           "color": "black",
           "size": 12
          },
          "showarrow": false,
          "text": "$1,000,961.00",
          "textangle": 0,
          "x": 2024,
          "xshift": 0,
          "y": 1000961,
          "yshift": 17
         },
         {
          "font": {
           "color": "black",
           "size": 12
          },
          "showarrow": false,
          "text": "$1,013,940.00",
          "textangle": 0,
          "x": 2025,
          "xshift": 0,
          "y": 1013940,
          "yshift": 17
         },
         {
          "font": {
           "color": "black",
           "size": 12
          },
          "showarrow": false,
          "text": "$1,027,087.00",
          "textangle": 0,
          "x": 2026,
          "xshift": 0,
          "y": 1027087,
          "yshift": 17
         }
        ],
        "margin": {
         "b": 10,
         "l": 10,
         "r": 10,
         "t": 10
        },
        "plot_bgcolor": "rgba(0,0,0,0)",
        "template": {
         "data": {
          "bar": [
           {
            "error_x": {
             "color": "#2a3f5f"
            },
            "error_y": {
             "color": "#2a3f5f"
            },
            "marker": {
             "line": {
              "color": "#E5ECF6",
              "width": 0.5
             },
             "pattern": {
              "fillmode": "overlay",
              "size": 10,
              "solidity": 0.2
             }
            },
            "type": "bar"
           }
          ],
          "barpolar": [
           {
            "marker": {
             "line": {
              "color": "#E5ECF6",
              "width": 0.5
             },
             "pattern": {
              "fillmode": "overlay",
              "size": 10,
              "solidity": 0.2
             }
            },
            "type": "barpolar"
           }
          ],
          "carpet": [
           {
            "aaxis": {
             "endlinecolor": "#2a3f5f",
             "gridcolor": "white",
             "linecolor": "white",
             "minorgridcolor": "white",
             "startlinecolor": "#2a3f5f"
            },
            "baxis": {
             "endlinecolor": "#2a3f5f",
             "gridcolor": "white",
             "linecolor": "white",
             "minorgridcolor": "white",
             "startlinecolor": "#2a3f5f"
            },
            "type": "carpet"
           }
          ],
          "choropleth": [
           {
            "colorbar": {
             "outlinewidth": 0,
             "ticks": ""
            },
            "type": "choropleth"
           }
          ],
          "contour": [
           {
            "colorbar": {
             "outlinewidth": 0,
             "ticks": ""
            },
            "colorscale": [
             [
              0,
              "#0d0887"
             ],
             [
              0.1111111111111111,
              "#46039f"
             ],
             [
              0.2222222222222222,
              "#7201a8"
             ],
             [
              0.3333333333333333,
              "#9c179e"
             ],
             [
              0.4444444444444444,
              "#bd3786"
             ],
             [
              0.5555555555555556,
              "#d8576b"
             ],
             [
              0.6666666666666666,
              "#ed7953"
             ],
             [
              0.7777777777777778,
              "#fb9f3a"
             ],
             [
              0.8888888888888888,
              "#fdca26"
             ],
             [
              1,
              "#f0f921"
             ]
            ],
            "type": "contour"
           }
          ],
          "contourcarpet": [
           {
            "colorbar": {
             "outlinewidth": 0,
             "ticks": ""
            },
            "type": "contourcarpet"
           }
          ],
          "heatmap": [
           {
            "colorbar": {
             "outlinewidth": 0,
             "ticks": ""
            },
            "colorscale": [
             [
              0,
              "#0d0887"
             ],
             [
              0.1111111111111111,
              "#46039f"
             ],
             [
              0.2222222222222222,
              "#7201a8"
             ],
             [
              0.3333333333333333,
              "#9c179e"
             ],
             [
              0.4444444444444444,
              "#bd3786"
             ],
             [
              0.5555555555555556,
              "#d8576b"
             ],
             [
              0.6666666666666666,
              "#ed7953"
             ],
             [
              0.7777777777777778,
              "#fb9f3a"
             ],
             [
              0.8888888888888888,
              "#fdca26"
             ],
             [
              1,
              "#f0f921"
             ]
            ],
            "type": "heatmap"
           }
          ],
          "heatmapgl": [
           {
            "colorbar": {
             "outlinewidth": 0,
             "ticks": ""
            },
            "colorscale": [
             [
              0,
              "#0d0887"
             ],
             [
              0.1111111111111111,
              "#46039f"
             ],
             [
              0.2222222222222222,
              "#7201a8"
             ],
             [
              0.3333333333333333,
              "#9c179e"
             ],
             [
              0.4444444444444444,
              "#bd3786"
             ],
             [
              0.5555555555555556,
              "#d8576b"
             ],
             [
              0.6666666666666666,
              "#ed7953"
             ],
             [
              0.7777777777777778,
              "#fb9f3a"
             ],
             [
              0.8888888888888888,
              "#fdca26"
             ],
             [
              1,
              "#f0f921"
             ]
            ],
            "type": "heatmapgl"
           }
          ],
          "histogram": [
           {
            "marker": {
             "pattern": {
              "fillmode": "overlay",
              "size": 10,
              "solidity": 0.2
             }
            },
            "type": "histogram"
           }
          ],
          "histogram2d": [
           {
            "colorbar": {
             "outlinewidth": 0,
             "ticks": ""
            },
            "colorscale": [
             [
              0,
              "#0d0887"
             ],
             [
              0.1111111111111111,
              "#46039f"
             ],
             [
              0.2222222222222222,
              "#7201a8"
             ],
             [
              0.3333333333333333,
              "#9c179e"
             ],
             [
              0.4444444444444444,
              "#bd3786"
             ],
             [
              0.5555555555555556,
              "#d8576b"
             ],
             [
              0.6666666666666666,
              "#ed7953"
             ],
             [
              0.7777777777777778,
              "#fb9f3a"
             ],
             [
              0.8888888888888888,
              "#fdca26"
             ],
             [
              1,
              "#f0f921"
             ]
            ],
            "type": "histogram2d"
           }
          ],
          "histogram2dcontour": [
           {
            "colorbar": {
             "outlinewidth": 0,
             "ticks": ""
            },
            "colorscale": [
             [
              0,
              "#0d0887"
             ],
             [
              0.1111111111111111,
              "#46039f"
             ],
             [
              0.2222222222222222,
              "#7201a8"
             ],
             [
              0.3333333333333333,
              "#9c179e"
             ],
             [
              0.4444444444444444,
              "#bd3786"
             ],
             [
              0.5555555555555556,
              "#d8576b"
             ],
             [
              0.6666666666666666,
              "#ed7953"
             ],
             [
              0.7777777777777778,
              "#fb9f3a"
             ],
             [
              0.8888888888888888,
              "#fdca26"
             ],
             [
              1,
              "#f0f921"
             ]
            ],
            "type": "histogram2dcontour"
           }
          ],
          "mesh3d": [
           {
            "colorbar": {
             "outlinewidth": 0,
             "ticks": ""
            },
            "type": "mesh3d"
           }
          ],
          "parcoords": [
           {
            "line": {
             "colorbar": {
              "outlinewidth": 0,
              "ticks": ""
             }
            },
            "type": "parcoords"
           }
          ],
          "pie": [
           {
            "automargin": true,
            "type": "pie"
           }
          ],
          "scatter": [
           {
            "fillpattern": {
             "fillmode": "overlay",
             "size": 10,
             "solidity": 0.2
            },
            "type": "scatter"
           }
          ],
          "scatter3d": [
           {
            "line": {
             "colorbar": {
              "outlinewidth": 0,
              "ticks": ""
             }
            },
            "marker": {
             "colorbar": {
              "outlinewidth": 0,
              "ticks": ""
             }
            },
            "type": "scatter3d"
           }
          ],
          "scattercarpet": [
           {
            "marker": {
             "colorbar": {
              "outlinewidth": 0,
              "ticks": ""
             }
            },
            "type": "scattercarpet"
           }
          ],
          "scattergeo": [
           {
            "marker": {
             "colorbar": {
              "outlinewidth": 0,
              "ticks": ""
             }
            },
            "type": "scattergeo"
           }
          ],
          "scattergl": [
           {
            "marker": {
             "colorbar": {
              "outlinewidth": 0,
              "ticks": ""
             }
            },
            "type": "scattergl"
           }
          ],
          "scattermapbox": [
           {
            "marker": {
             "colorbar": {
              "outlinewidth": 0,
              "ticks": ""
             }
            },
            "type": "scattermapbox"
           }
          ],
          "scatterpolar": [
           {
            "marker": {
             "colorbar": {
              "outlinewidth": 0,
              "ticks": ""
             }
            },
            "type": "scatterpolar"
           }
          ],
          "scatterpolargl": [
           {
            "marker": {
             "colorbar": {
              "outlinewidth": 0,
              "ticks": ""
             }
            },
            "type": "scatterpolargl"
           }
          ],
          "scatterternary": [
           {
            "marker": {
             "colorbar": {
              "outlinewidth": 0,
              "ticks": ""
             }
            },
            "type": "scatterternary"
           }
          ],
          "surface": [
           {
            "colorbar": {
             "outlinewidth": 0,
             "ticks": ""
            },
            "colorscale": [
             [
              0,
              "#0d0887"
             ],
             [
              0.1111111111111111,
              "#46039f"
             ],
             [
              0.2222222222222222,
              "#7201a8"
             ],
             [
              0.3333333333333333,
              "#9c179e"
             ],
             [
              0.4444444444444444,
              "#bd3786"
             ],
             [
              0.5555555555555556,
              "#d8576b"
             ],
             [
              0.6666666666666666,
              "#ed7953"
             ],
             [
              0.7777777777777778,
              "#fb9f3a"
             ],
             [
              0.8888888888888888,
              "#fdca26"
             ],
             [
              1,
              "#f0f921"
             ]
            ],
            "type": "surface"
           }
          ],
          "table": [
           {
            "cells": {
             "fill": {
              "color": "#EBF0F8"
             },
             "line": {
              "color": "white"
             }
            },
            "header": {
             "fill": {
              "color": "#C8D4E3"
             },
             "line": {
              "color": "white"
             }
            },
            "type": "table"
           }
          ]
         },
         "layout": {
          "annotationdefaults": {
           "arrowcolor": "#2a3f5f",
           "arrowhead": 0,
           "arrowwidth": 1
          },
          "autotypenumbers": "strict",
          "coloraxis": {
           "colorbar": {
            "outlinewidth": 0,
            "ticks": ""
           }
          },
          "colorscale": {
           "diverging": [
            [
             0,
             "#8e0152"
            ],
            [
             0.1,
             "#c51b7d"
            ],
            [
             0.2,
             "#de77ae"
            ],
            [
             0.3,
             "#f1b6da"
            ],
            [
             0.4,
             "#fde0ef"
            ],
            [
             0.5,
             "#f7f7f7"
            ],
            [
             0.6,
             "#e6f5d0"
            ],
            [
             0.7,
             "#b8e186"
            ],
            [
             0.8,
             "#7fbc41"
            ],
            [
             0.9,
             "#4d9221"
            ],
            [
             1,
             "#276419"
            ]
           ],
           "sequential": [
            [
             0,
             "#0d0887"
            ],
            [
             0.1111111111111111,
             "#46039f"
            ],
            [
             0.2222222222222222,
             "#7201a8"
            ],
            [
             0.3333333333333333,
             "#9c179e"
            ],
            [
             0.4444444444444444,
             "#bd3786"
            ],
            [
             0.5555555555555556,
             "#d8576b"
            ],
            [
             0.6666666666666666,
             "#ed7953"
            ],
            [
             0.7777777777777778,
             "#fb9f3a"
            ],
            [
             0.8888888888888888,
             "#fdca26"
            ],
            [
             1,
             "#f0f921"
            ]
           ],
           "sequentialminus": [
            [
             0,
             "#0d0887"
            ],
            [
             0.1111111111111111,
             "#46039f"
            ],
            [
             0.2222222222222222,
             "#7201a8"
            ],
            [
             0.3333333333333333,
             "#9c179e"
            ],
            [
             0.4444444444444444,
             "#bd3786"
            ],
            [
             0.5555555555555556,
             "#d8576b"
            ],
            [
             0.6666666666666666,
             "#ed7953"
            ],
            [
             0.7777777777777778,
             "#fb9f3a"
            ],
            [
             0.8888888888888888,
             "#fdca26"
            ],
            [
             1,
             "#f0f921"
            ]
           ]
          },
          "colorway": [
           "#636efa",
           "#EF553B",
           "#00cc96",
           "#ab63fa",
           "#FFA15A",
           "#19d3f3",
           "#FF6692",
           "#B6E880",
           "#FF97FF",
           "#FECB52"
          ],
          "font": {
           "color": "#2a3f5f"
          },
          "geo": {
           "bgcolor": "white",
           "lakecolor": "white",
           "landcolor": "#E5ECF6",
           "showlakes": true,
           "showland": true,
           "subunitcolor": "white"
          },
          "hoverlabel": {
           "align": "left"
          },
          "hovermode": "closest",
          "mapbox": {
           "style": "light"
          },
          "paper_bgcolor": "white",
          "plot_bgcolor": "#E5ECF6",
          "polar": {
           "angularaxis": {
            "gridcolor": "white",
            "linecolor": "white",
            "ticks": ""
           },
           "bgcolor": "#E5ECF6",
           "radialaxis": {
            "gridcolor": "white",
            "linecolor": "white",
            "ticks": ""
           }
          },
          "scene": {
           "xaxis": {
            "backgroundcolor": "#E5ECF6",
            "gridcolor": "white",
            "gridwidth": 2,
            "linecolor": "white",
            "showbackground": true,
            "ticks": "",
            "zerolinecolor": "white"
           },
           "yaxis": {
            "backgroundcolor": "#E5ECF6",
            "gridcolor": "white",
            "gridwidth": 2,
            "linecolor": "white",
            "showbackground": true,
            "ticks": "",
            "zerolinecolor": "white"
           },
           "zaxis": {
            "backgroundcolor": "#E5ECF6",
            "gridcolor": "white",
            "gridwidth": 2,
            "linecolor": "white",
            "showbackground": true,
            "ticks": "",
            "zerolinecolor": "white"
           }
          },
          "shapedefaults": {
           "line": {
            "color": "#2a3f5f"
           }
          },
          "ternary": {
           "aaxis": {
            "gridcolor": "white",
            "linecolor": "white",
            "ticks": ""
           },
           "baxis": {
            "gridcolor": "white",
            "linecolor": "white",
            "ticks": ""
           },
           "bgcolor": "#E5ECF6",
           "caxis": {
            "gridcolor": "white",
            "linecolor": "white",
            "ticks": ""
           }
          },
          "title": {
           "x": 0.05
          },
          "xaxis": {
           "automargin": true,
           "gridcolor": "white",
           "linecolor": "white",
           "ticks": "",
           "title": {
            "standoff": 15
           },
           "zerolinecolor": "white",
           "zerolinewidth": 2
          },
          "yaxis": {
           "automargin": true,
           "gridcolor": "white",
           "linecolor": "white",
           "ticks": "",
           "title": {
            "standoff": 15
           },
           "zerolinecolor": "white",
           "zerolinewidth": 2
          }
         }
        },
        "xaxis": {
         "gridcolor": "#dddcda",
         "tickmode": "array",
         "ticktext": [
          2022,
          2023,
          2024,
          2025,
          2026
         ],
         "tickvals": [
          2022,
          2023,
          2024,
          2025,
          2026
         ]
        },
        "yaxis": {
         "gridcolor": "#dddcda",
         "gridwidth": 1,
         "title": {
          "text": "Monto"
         }
        }
       }
      }
     },
     "metadata": {},
     "output_type": "display_data"
    }
   ],
   "source": [
    "# Datos\n",
    "año = total_todos['año']\n",
    "promedio = total_todos['precio_promedio']\n",
    "\n",
    "# Crear una función para formatear los valores grandes en palabras en español\n",
    "def formatear_numero(valor):\n",
    "    if valor >= 1_000_000_000_000:\n",
    "        return f'{valor / 1_000_000_000:.2f} billones'\n",
    "    elif valor >= 1_000_000_000:\n",
    "        return f'{valor / 1_000_000_000:.0f} mil millones'  # Mil millones\n",
    "    elif valor >= 1_000_000:\n",
    "        return f'{valor / 1_000_000:.0f} millones'  # Millones\n",
    "    elif valor >= 1_000:\n",
    "        return f'{valor / 1_000:.0f} mil'  # Mil\n",
    "    else:\n",
    "        return str(valor)\n",
    "# Configurar los valores y el texto del eje Y\n",
    "tickvals = [4150000000000, 4160000000000, 4170000000000]\n",
    "ticktext = [formatear_numero(val) for val in tickvals]\n",
    "\n",
    "fig = go.Figure()\n",
    "fig.add_trace(go.Scatter(\n",
    "    x=año,\n",
    "    y=promedio,\n",
    "    mode='markers+lines',\n",
    "    marker=dict(color='blue'),\n",
    "))\n",
    "# Agregar anotaciones para mostrar los valores encima de los puntos\n",
    "for a, p in zip(año, promedio):\n",
    "    fig.add_annotation(\n",
    "        x=a,\n",
    "        y=p,\n",
    "        text=f\"${p:,.2f}\",  # Formatear el valor del promedio como moneda\n",
    "        showarrow=False,\n",
    "        font=dict(color='black', size=12),\n",
    "        xshift=0,\n",
    "        yshift=17,\n",
    "        textangle=0\n",
    "    )\n",
    "# Actualizar diseño\n",
    "fig.update_layout(\n",
    "    #title='Plusvalía estimada',   \n",
    "    yaxis=dict(\n",
    "        title=\"Monto\",\n",
    "        gridwidth=1,  # Ancho de las líneas de la cuadrícula\n",
    "        gridcolor='#dddcda', \n",
    "\n",
    "    ),\n",
    "    xaxis=dict(\n",
    "        gridcolor='#dddcda', \n",
    "        tickmode='array',\n",
    "        tickvals=año,\n",
    "        ticktext=año\n",
    "    ),\n",
    "    plot_bgcolor='rgba(0,0,0,0)',\n",
    "        margin=dict(l=10, r=10, t=10, b=10)\n",
    "\n",
    ")\n",
    "# Exportar gráfica como archivo HTML\n",
    "def guardar_grafico_como_html(fig, nombre_archivo, carpeta='graficas'):\n",
    "    # Crear la carpeta si no existe\n",
    "    if not os.path.exists(carpeta):\n",
    "        os.makedirs(carpeta)\n",
    "    \n",
    "    # Gráfica como archivo HTML en la carpeta especificada\n",
    "    pio.write_html(fig, f'{carpeta}/{nombre_archivo}.html')\n",
    "\n",
    "guardar_grafico_como_html(fig, 'g_scatt_plusvaliaestimada', carpeta='graficas')\n",
    "fig.show()"
   ]
  },
  {
   "cell_type": "markdown",
   "metadata": {},
   "source": [
    "# Plusvalía *ESTIMADA* [Mensual]"
   ]
  },
  {
   "cell_type": "code",
   "execution_count": 9,
   "metadata": {},
   "outputs": [
    {
     "name": "stdout",
     "output_type": "stream",
     "text": [
      "    precio_promedio mes   año\n",
      "0      3.338049e+06   8  2024\n",
      "1      3.289913e+06   2  2024\n",
      "2      3.395784e+06   7  2024\n",
      "3      3.212817e+06   6  2024\n",
      "4      3.374739e+06   3  2024\n",
      "5      3.224496e+06   5  2024\n",
      "6      9.800427e+05   2  2023\n",
      "7      9.766772e+05   7  2023\n",
      "8      9.864817e+05   6  2023\n",
      "9      9.774028e+05   3  2023\n",
      "10     9.740661e+05  11  2022\n",
      "11     9.769314e+05  10  2022\n",
      "12     9.881478e+05   9  2023\n"
     ]
    },
    {
     "name": "stderr",
     "output_type": "stream",
     "text": [
      "C:\\Users\\yoe11\\AppData\\Local\\Temp\\ipykernel_3768\\3462637469.py:36: FutureWarning:\n",
      "\n",
      "The behavior of DataFrame concatenation with empty or all-NA entries is deprecated. In a future version, this will no longer exclude empty or all-NA columns when determining the result dtypes. To retain the old behavior, exclude the relevant entries before the concat operation.\n",
      "\n"
     ]
    }
   ],
   "source": [
    "import re\n",
    "# Función para extraer mes y año del nombre del DataFrame\n",
    "def extraer_mes_y_ano(nombre):\n",
    "    # Expresión regular para capturar tanto meses completos como abreviados\n",
    "    match = re.search(r'(ene|feb|mar|abr|may|jun|jul|ago|sep|oct|nov|dic|enero|febrero|marzo|abril|mayo|junio|julio|agosto|septiembre|octubre|noviembre|diciembre)_(\\d{4})', nombre)\n",
    "    if match:\n",
    "        mes = match.group(1).lower()  # Mes en texto\n",
    "        ano = int(match.group(2))  # Año en formato numérico\n",
    "        return mes, ano\n",
    "    return None, None\n",
    "\n",
    "# Diccionario de traducción de meses de texto a números\n",
    "meses_dict = {\n",
    "    'ene': 1, 'feb': 2, 'mar': 3, 'abr': 4, 'may': 5, 'jun': 6,\n",
    "    'jul': 7, 'ago': 8, 'sep': 9, 'oct': 10, 'nov': 11, 'dic': 12,\n",
    "    'enero': 1, 'febrero': 2, 'marzo': 3, 'abril': 4, 'mayo': 5, 'junio': 6,\n",
    "    'julio': 7, 'agosto': 8, 'septiembre': 9, 'octubre': 10, 'noviembre': 11, 'diciembre': 12\n",
    "}\n",
    "\n",
    "# DataFrame para almacenar resultados\n",
    "df_resultados = pd.DataFrame(columns=['precio_promedio', 'mes', 'año'])\n",
    "\n",
    "for nombre_df in nombres_df_filtrados:\n",
    "    # Obtener el DataFrame por su nombre en el entorno\n",
    "    df = globals()[nombre_df]\n",
    "    \n",
    "    # Extraer mes y año del nombre del DataFrame\n",
    "    mes_str, ano = extraer_mes_y_ano(nombre_df)\n",
    "    \n",
    "    # Verificar que se haya extraído el mes y el año correctamente\n",
    "    if mes_str is not None and ano is not None:\n",
    "        mes = meses_dict.get(mes_str)  # Convertir el nombre del mes en su número correspondiente\n",
    "        \n",
    "        # Calcular el promedio del precio y añadir columnas de mes y año\n",
    "        precio_promedio = df['precio'].mean()  # Calcula el promedio del precio en el DataFrame actual\n",
    "        df_resultados = pd.concat([df_resultados, pd.DataFrame({'precio_promedio': [precio_promedio], 'mes': [mes], 'año': [ano]})], ignore_index=True)\n",
    "\n",
    "# Resultado final\n",
    "print(df_resultados)"
   ]
  },
  {
   "cell_type": "code",
   "execution_count": 10,
   "metadata": {},
   "outputs": [
    {
     "data": {
      "text/html": [
       "<div>\n",
       "<style scoped>\n",
       "    .dataframe tbody tr th:only-of-type {\n",
       "        vertical-align: middle;\n",
       "    }\n",
       "\n",
       "    .dataframe tbody tr th {\n",
       "        vertical-align: top;\n",
       "    }\n",
       "\n",
       "    .dataframe thead th {\n",
       "        text-align: right;\n",
       "    }\n",
       "</style>\n",
       "<table border=\"1\" class=\"dataframe\">\n",
       "  <thead>\n",
       "    <tr style=\"text-align: right;\">\n",
       "      <th></th>\n",
       "      <th>precio_promedio</th>\n",
       "      <th>mes</th>\n",
       "      <th>año</th>\n",
       "    </tr>\n",
       "  </thead>\n",
       "  <tbody>\n",
       "    <tr>\n",
       "      <th>0</th>\n",
       "      <td>3.338049e+06</td>\n",
       "      <td>8</td>\n",
       "      <td>2024</td>\n",
       "    </tr>\n",
       "    <tr>\n",
       "      <th>1</th>\n",
       "      <td>3.289913e+06</td>\n",
       "      <td>2</td>\n",
       "      <td>2024</td>\n",
       "    </tr>\n",
       "    <tr>\n",
       "      <th>2</th>\n",
       "      <td>3.395784e+06</td>\n",
       "      <td>7</td>\n",
       "      <td>2024</td>\n",
       "    </tr>\n",
       "    <tr>\n",
       "      <th>3</th>\n",
       "      <td>3.212817e+06</td>\n",
       "      <td>6</td>\n",
       "      <td>2024</td>\n",
       "    </tr>\n",
       "    <tr>\n",
       "      <th>4</th>\n",
       "      <td>3.374739e+06</td>\n",
       "      <td>3</td>\n",
       "      <td>2024</td>\n",
       "    </tr>\n",
       "    <tr>\n",
       "      <th>5</th>\n",
       "      <td>3.224496e+06</td>\n",
       "      <td>5</td>\n",
       "      <td>2024</td>\n",
       "    </tr>\n",
       "  </tbody>\n",
       "</table>\n",
       "</div>"
      ],
      "text/plain": [
       "   precio_promedio mes   año\n",
       "0     3.338049e+06   8  2024\n",
       "1     3.289913e+06   2  2024\n",
       "2     3.395784e+06   7  2024\n",
       "3     3.212817e+06   6  2024\n",
       "4     3.374739e+06   3  2024\n",
       "5     3.224496e+06   5  2024"
      ]
     },
     "execution_count": 10,
     "metadata": {},
     "output_type": "execute_result"
    }
   ],
   "source": [
    "df_resultados = df_resultados[~df_resultados['año'].isin([2022, 2023]) ]#& (df_resultados['mes'] != 4)]\n",
    "df_resultados"
   ]
  },
  {
   "cell_type": "code",
   "execution_count": 11,
   "metadata": {},
   "outputs": [
    {
     "data": {
      "text/html": [
       "<style>#sk-container-id-2 {\n",
       "  /* Definition of color scheme common for light and dark mode */\n",
       "  --sklearn-color-text: black;\n",
       "  --sklearn-color-line: gray;\n",
       "  /* Definition of color scheme for unfitted estimators */\n",
       "  --sklearn-color-unfitted-level-0: #fff5e6;\n",
       "  --sklearn-color-unfitted-level-1: #f6e4d2;\n",
       "  --sklearn-color-unfitted-level-2: #ffe0b3;\n",
       "  --sklearn-color-unfitted-level-3: chocolate;\n",
       "  /* Definition of color scheme for fitted estimators */\n",
       "  --sklearn-color-fitted-level-0: #f0f8ff;\n",
       "  --sklearn-color-fitted-level-1: #d4ebff;\n",
       "  --sklearn-color-fitted-level-2: #b3dbfd;\n",
       "  --sklearn-color-fitted-level-3: cornflowerblue;\n",
       "\n",
       "  /* Specific color for light theme */\n",
       "  --sklearn-color-text-on-default-background: var(--sg-text-color, var(--theme-code-foreground, var(--jp-content-font-color1, black)));\n",
       "  --sklearn-color-background: var(--sg-background-color, var(--theme-background, var(--jp-layout-color0, white)));\n",
       "  --sklearn-color-border-box: var(--sg-text-color, var(--theme-code-foreground, var(--jp-content-font-color1, black)));\n",
       "  --sklearn-color-icon: #696969;\n",
       "\n",
       "  @media (prefers-color-scheme: dark) {\n",
       "    /* Redefinition of color scheme for dark theme */\n",
       "    --sklearn-color-text-on-default-background: var(--sg-text-color, var(--theme-code-foreground, var(--jp-content-font-color1, white)));\n",
       "    --sklearn-color-background: var(--sg-background-color, var(--theme-background, var(--jp-layout-color0, #111)));\n",
       "    --sklearn-color-border-box: var(--sg-text-color, var(--theme-code-foreground, var(--jp-content-font-color1, white)));\n",
       "    --sklearn-color-icon: #878787;\n",
       "  }\n",
       "}\n",
       "\n",
       "#sk-container-id-2 {\n",
       "  color: var(--sklearn-color-text);\n",
       "}\n",
       "\n",
       "#sk-container-id-2 pre {\n",
       "  padding: 0;\n",
       "}\n",
       "\n",
       "#sk-container-id-2 input.sk-hidden--visually {\n",
       "  border: 0;\n",
       "  clip: rect(1px 1px 1px 1px);\n",
       "  clip: rect(1px, 1px, 1px, 1px);\n",
       "  height: 1px;\n",
       "  margin: -1px;\n",
       "  overflow: hidden;\n",
       "  padding: 0;\n",
       "  position: absolute;\n",
       "  width: 1px;\n",
       "}\n",
       "\n",
       "#sk-container-id-2 div.sk-dashed-wrapped {\n",
       "  border: 1px dashed var(--sklearn-color-line);\n",
       "  margin: 0 0.4em 0.5em 0.4em;\n",
       "  box-sizing: border-box;\n",
       "  padding-bottom: 0.4em;\n",
       "  background-color: var(--sklearn-color-background);\n",
       "}\n",
       "\n",
       "#sk-container-id-2 div.sk-container {\n",
       "  /* jupyter's `normalize.less` sets `[hidden] { display: none; }`\n",
       "     but bootstrap.min.css set `[hidden] { display: none !important; }`\n",
       "     so we also need the `!important` here to be able to override the\n",
       "     default hidden behavior on the sphinx rendered scikit-learn.org.\n",
       "     See: https://github.com/scikit-learn/scikit-learn/issues/21755 */\n",
       "  display: inline-block !important;\n",
       "  position: relative;\n",
       "}\n",
       "\n",
       "#sk-container-id-2 div.sk-text-repr-fallback {\n",
       "  display: none;\n",
       "}\n",
       "\n",
       "div.sk-parallel-item,\n",
       "div.sk-serial,\n",
       "div.sk-item {\n",
       "  /* draw centered vertical line to link estimators */\n",
       "  background-image: linear-gradient(var(--sklearn-color-text-on-default-background), var(--sklearn-color-text-on-default-background));\n",
       "  background-size: 2px 100%;\n",
       "  background-repeat: no-repeat;\n",
       "  background-position: center center;\n",
       "}\n",
       "\n",
       "/* Parallel-specific style estimator block */\n",
       "\n",
       "#sk-container-id-2 div.sk-parallel-item::after {\n",
       "  content: \"\";\n",
       "  width: 100%;\n",
       "  border-bottom: 2px solid var(--sklearn-color-text-on-default-background);\n",
       "  flex-grow: 1;\n",
       "}\n",
       "\n",
       "#sk-container-id-2 div.sk-parallel {\n",
       "  display: flex;\n",
       "  align-items: stretch;\n",
       "  justify-content: center;\n",
       "  background-color: var(--sklearn-color-background);\n",
       "  position: relative;\n",
       "}\n",
       "\n",
       "#sk-container-id-2 div.sk-parallel-item {\n",
       "  display: flex;\n",
       "  flex-direction: column;\n",
       "}\n",
       "\n",
       "#sk-container-id-2 div.sk-parallel-item:first-child::after {\n",
       "  align-self: flex-end;\n",
       "  width: 50%;\n",
       "}\n",
       "\n",
       "#sk-container-id-2 div.sk-parallel-item:last-child::after {\n",
       "  align-self: flex-start;\n",
       "  width: 50%;\n",
       "}\n",
       "\n",
       "#sk-container-id-2 div.sk-parallel-item:only-child::after {\n",
       "  width: 0;\n",
       "}\n",
       "\n",
       "/* Serial-specific style estimator block */\n",
       "\n",
       "#sk-container-id-2 div.sk-serial {\n",
       "  display: flex;\n",
       "  flex-direction: column;\n",
       "  align-items: center;\n",
       "  background-color: var(--sklearn-color-background);\n",
       "  padding-right: 1em;\n",
       "  padding-left: 1em;\n",
       "}\n",
       "\n",
       "\n",
       "/* Toggleable style: style used for estimator/Pipeline/ColumnTransformer box that is\n",
       "clickable and can be expanded/collapsed.\n",
       "- Pipeline and ColumnTransformer use this feature and define the default style\n",
       "- Estimators will overwrite some part of the style using the `sk-estimator` class\n",
       "*/\n",
       "\n",
       "/* Pipeline and ColumnTransformer style (default) */\n",
       "\n",
       "#sk-container-id-2 div.sk-toggleable {\n",
       "  /* Default theme specific background. It is overwritten whether we have a\n",
       "  specific estimator or a Pipeline/ColumnTransformer */\n",
       "  background-color: var(--sklearn-color-background);\n",
       "}\n",
       "\n",
       "/* Toggleable label */\n",
       "#sk-container-id-2 label.sk-toggleable__label {\n",
       "  cursor: pointer;\n",
       "  display: block;\n",
       "  width: 100%;\n",
       "  margin-bottom: 0;\n",
       "  padding: 0.5em;\n",
       "  box-sizing: border-box;\n",
       "  text-align: center;\n",
       "}\n",
       "\n",
       "#sk-container-id-2 label.sk-toggleable__label-arrow:before {\n",
       "  /* Arrow on the left of the label */\n",
       "  content: \"▸\";\n",
       "  float: left;\n",
       "  margin-right: 0.25em;\n",
       "  color: var(--sklearn-color-icon);\n",
       "}\n",
       "\n",
       "#sk-container-id-2 label.sk-toggleable__label-arrow:hover:before {\n",
       "  color: var(--sklearn-color-text);\n",
       "}\n",
       "\n",
       "/* Toggleable content - dropdown */\n",
       "\n",
       "#sk-container-id-2 div.sk-toggleable__content {\n",
       "  max-height: 0;\n",
       "  max-width: 0;\n",
       "  overflow: hidden;\n",
       "  text-align: left;\n",
       "  /* unfitted */\n",
       "  background-color: var(--sklearn-color-unfitted-level-0);\n",
       "}\n",
       "\n",
       "#sk-container-id-2 div.sk-toggleable__content.fitted {\n",
       "  /* fitted */\n",
       "  background-color: var(--sklearn-color-fitted-level-0);\n",
       "}\n",
       "\n",
       "#sk-container-id-2 div.sk-toggleable__content pre {\n",
       "  margin: 0.2em;\n",
       "  border-radius: 0.25em;\n",
       "  color: var(--sklearn-color-text);\n",
       "  /* unfitted */\n",
       "  background-color: var(--sklearn-color-unfitted-level-0);\n",
       "}\n",
       "\n",
       "#sk-container-id-2 div.sk-toggleable__content.fitted pre {\n",
       "  /* unfitted */\n",
       "  background-color: var(--sklearn-color-fitted-level-0);\n",
       "}\n",
       "\n",
       "#sk-container-id-2 input.sk-toggleable__control:checked~div.sk-toggleable__content {\n",
       "  /* Expand drop-down */\n",
       "  max-height: 200px;\n",
       "  max-width: 100%;\n",
       "  overflow: auto;\n",
       "}\n",
       "\n",
       "#sk-container-id-2 input.sk-toggleable__control:checked~label.sk-toggleable__label-arrow:before {\n",
       "  content: \"▾\";\n",
       "}\n",
       "\n",
       "/* Pipeline/ColumnTransformer-specific style */\n",
       "\n",
       "#sk-container-id-2 div.sk-label input.sk-toggleable__control:checked~label.sk-toggleable__label {\n",
       "  color: var(--sklearn-color-text);\n",
       "  background-color: var(--sklearn-color-unfitted-level-2);\n",
       "}\n",
       "\n",
       "#sk-container-id-2 div.sk-label.fitted input.sk-toggleable__control:checked~label.sk-toggleable__label {\n",
       "  background-color: var(--sklearn-color-fitted-level-2);\n",
       "}\n",
       "\n",
       "/* Estimator-specific style */\n",
       "\n",
       "/* Colorize estimator box */\n",
       "#sk-container-id-2 div.sk-estimator input.sk-toggleable__control:checked~label.sk-toggleable__label {\n",
       "  /* unfitted */\n",
       "  background-color: var(--sklearn-color-unfitted-level-2);\n",
       "}\n",
       "\n",
       "#sk-container-id-2 div.sk-estimator.fitted input.sk-toggleable__control:checked~label.sk-toggleable__label {\n",
       "  /* fitted */\n",
       "  background-color: var(--sklearn-color-fitted-level-2);\n",
       "}\n",
       "\n",
       "#sk-container-id-2 div.sk-label label.sk-toggleable__label,\n",
       "#sk-container-id-2 div.sk-label label {\n",
       "  /* The background is the default theme color */\n",
       "  color: var(--sklearn-color-text-on-default-background);\n",
       "}\n",
       "\n",
       "/* On hover, darken the color of the background */\n",
       "#sk-container-id-2 div.sk-label:hover label.sk-toggleable__label {\n",
       "  color: var(--sklearn-color-text);\n",
       "  background-color: var(--sklearn-color-unfitted-level-2);\n",
       "}\n",
       "\n",
       "/* Label box, darken color on hover, fitted */\n",
       "#sk-container-id-2 div.sk-label.fitted:hover label.sk-toggleable__label.fitted {\n",
       "  color: var(--sklearn-color-text);\n",
       "  background-color: var(--sklearn-color-fitted-level-2);\n",
       "}\n",
       "\n",
       "/* Estimator label */\n",
       "\n",
       "#sk-container-id-2 div.sk-label label {\n",
       "  font-family: monospace;\n",
       "  font-weight: bold;\n",
       "  display: inline-block;\n",
       "  line-height: 1.2em;\n",
       "}\n",
       "\n",
       "#sk-container-id-2 div.sk-label-container {\n",
       "  text-align: center;\n",
       "}\n",
       "\n",
       "/* Estimator-specific */\n",
       "#sk-container-id-2 div.sk-estimator {\n",
       "  font-family: monospace;\n",
       "  border: 1px dotted var(--sklearn-color-border-box);\n",
       "  border-radius: 0.25em;\n",
       "  box-sizing: border-box;\n",
       "  margin-bottom: 0.5em;\n",
       "  /* unfitted */\n",
       "  background-color: var(--sklearn-color-unfitted-level-0);\n",
       "}\n",
       "\n",
       "#sk-container-id-2 div.sk-estimator.fitted {\n",
       "  /* fitted */\n",
       "  background-color: var(--sklearn-color-fitted-level-0);\n",
       "}\n",
       "\n",
       "/* on hover */\n",
       "#sk-container-id-2 div.sk-estimator:hover {\n",
       "  /* unfitted */\n",
       "  background-color: var(--sklearn-color-unfitted-level-2);\n",
       "}\n",
       "\n",
       "#sk-container-id-2 div.sk-estimator.fitted:hover {\n",
       "  /* fitted */\n",
       "  background-color: var(--sklearn-color-fitted-level-2);\n",
       "}\n",
       "\n",
       "/* Specification for estimator info (e.g. \"i\" and \"?\") */\n",
       "\n",
       "/* Common style for \"i\" and \"?\" */\n",
       "\n",
       ".sk-estimator-doc-link,\n",
       "a:link.sk-estimator-doc-link,\n",
       "a:visited.sk-estimator-doc-link {\n",
       "  float: right;\n",
       "  font-size: smaller;\n",
       "  line-height: 1em;\n",
       "  font-family: monospace;\n",
       "  background-color: var(--sklearn-color-background);\n",
       "  border-radius: 1em;\n",
       "  height: 1em;\n",
       "  width: 1em;\n",
       "  text-decoration: none !important;\n",
       "  margin-left: 1ex;\n",
       "  /* unfitted */\n",
       "  border: var(--sklearn-color-unfitted-level-1) 1pt solid;\n",
       "  color: var(--sklearn-color-unfitted-level-1);\n",
       "}\n",
       "\n",
       ".sk-estimator-doc-link.fitted,\n",
       "a:link.sk-estimator-doc-link.fitted,\n",
       "a:visited.sk-estimator-doc-link.fitted {\n",
       "  /* fitted */\n",
       "  border: var(--sklearn-color-fitted-level-1) 1pt solid;\n",
       "  color: var(--sklearn-color-fitted-level-1);\n",
       "}\n",
       "\n",
       "/* On hover */\n",
       "div.sk-estimator:hover .sk-estimator-doc-link:hover,\n",
       ".sk-estimator-doc-link:hover,\n",
       "div.sk-label-container:hover .sk-estimator-doc-link:hover,\n",
       ".sk-estimator-doc-link:hover {\n",
       "  /* unfitted */\n",
       "  background-color: var(--sklearn-color-unfitted-level-3);\n",
       "  color: var(--sklearn-color-background);\n",
       "  text-decoration: none;\n",
       "}\n",
       "\n",
       "div.sk-estimator.fitted:hover .sk-estimator-doc-link.fitted:hover,\n",
       ".sk-estimator-doc-link.fitted:hover,\n",
       "div.sk-label-container:hover .sk-estimator-doc-link.fitted:hover,\n",
       ".sk-estimator-doc-link.fitted:hover {\n",
       "  /* fitted */\n",
       "  background-color: var(--sklearn-color-fitted-level-3);\n",
       "  color: var(--sklearn-color-background);\n",
       "  text-decoration: none;\n",
       "}\n",
       "\n",
       "/* Span, style for the box shown on hovering the info icon */\n",
       ".sk-estimator-doc-link span {\n",
       "  display: none;\n",
       "  z-index: 9999;\n",
       "  position: relative;\n",
       "  font-weight: normal;\n",
       "  right: .2ex;\n",
       "  padding: .5ex;\n",
       "  margin: .5ex;\n",
       "  width: min-content;\n",
       "  min-width: 20ex;\n",
       "  max-width: 50ex;\n",
       "  color: var(--sklearn-color-text);\n",
       "  box-shadow: 2pt 2pt 4pt #999;\n",
       "  /* unfitted */\n",
       "  background: var(--sklearn-color-unfitted-level-0);\n",
       "  border: .5pt solid var(--sklearn-color-unfitted-level-3);\n",
       "}\n",
       "\n",
       ".sk-estimator-doc-link.fitted span {\n",
       "  /* fitted */\n",
       "  background: var(--sklearn-color-fitted-level-0);\n",
       "  border: var(--sklearn-color-fitted-level-3);\n",
       "}\n",
       "\n",
       ".sk-estimator-doc-link:hover span {\n",
       "  display: block;\n",
       "}\n",
       "\n",
       "/* \"?\"-specific style due to the `<a>` HTML tag */\n",
       "\n",
       "#sk-container-id-2 a.estimator_doc_link {\n",
       "  float: right;\n",
       "  font-size: 1rem;\n",
       "  line-height: 1em;\n",
       "  font-family: monospace;\n",
       "  background-color: var(--sklearn-color-background);\n",
       "  border-radius: 1rem;\n",
       "  height: 1rem;\n",
       "  width: 1rem;\n",
       "  text-decoration: none;\n",
       "  /* unfitted */\n",
       "  color: var(--sklearn-color-unfitted-level-1);\n",
       "  border: var(--sklearn-color-unfitted-level-1) 1pt solid;\n",
       "}\n",
       "\n",
       "#sk-container-id-2 a.estimator_doc_link.fitted {\n",
       "  /* fitted */\n",
       "  border: var(--sklearn-color-fitted-level-1) 1pt solid;\n",
       "  color: var(--sklearn-color-fitted-level-1);\n",
       "}\n",
       "\n",
       "/* On hover */\n",
       "#sk-container-id-2 a.estimator_doc_link:hover {\n",
       "  /* unfitted */\n",
       "  background-color: var(--sklearn-color-unfitted-level-3);\n",
       "  color: var(--sklearn-color-background);\n",
       "  text-decoration: none;\n",
       "}\n",
       "\n",
       "#sk-container-id-2 a.estimator_doc_link.fitted:hover {\n",
       "  /* fitted */\n",
       "  background-color: var(--sklearn-color-fitted-level-3);\n",
       "}\n",
       "</style><div id=\"sk-container-id-2\" class=\"sk-top-container\"><div class=\"sk-text-repr-fallback\"><pre>LinearRegression()</pre><b>In a Jupyter environment, please rerun this cell to show the HTML representation or trust the notebook. <br />On GitHub, the HTML representation is unable to render, please try loading this page with nbviewer.org.</b></div><div class=\"sk-container\" hidden><div class=\"sk-item\"><div class=\"sk-estimator fitted sk-toggleable\"><input class=\"sk-toggleable__control sk-hidden--visually\" id=\"sk-estimator-id-2\" type=\"checkbox\" checked><label for=\"sk-estimator-id-2\" class=\"sk-toggleable__label fitted sk-toggleable__label-arrow fitted\">&nbsp;&nbsp;LinearRegression<a class=\"sk-estimator-doc-link fitted\" rel=\"noreferrer\" target=\"_blank\" href=\"https://scikit-learn.org/1.5/modules/generated/sklearn.linear_model.LinearRegression.html\">?<span>Documentation for LinearRegression</span></a><span class=\"sk-estimator-doc-link fitted\">i<span>Fitted</span></span></label><div class=\"sk-toggleable__content fitted\"><pre>LinearRegression()</pre></div> </div></div></div></div>"
      ],
      "text/plain": [
       "LinearRegression()"
      ]
     },
     "execution_count": 11,
     "metadata": {},
     "output_type": "execute_result"
    }
   ],
   "source": [
    "from sklearn.model_selection import train_test_split\n",
    "from sklearn.linear_model import LinearRegression\n",
    "from sklearn.preprocessing import MinMaxScaler\n",
    "\n",
    "# Preparar datos para el modelo\n",
    "X = df_resultados[['año', 'mes']]\n",
    "y = df_resultados['precio_promedio']\n",
    "\n",
    "# Normalizar los datos de X\n",
    "scaler = MinMaxScaler()\n",
    "X_scaled = scaler.fit_transform(X)\n",
    "\n",
    "# Dividir los datos escalados en conjuntos de entrenamiento y prueba\n",
    "X_train, X_test, y_train, y_test = train_test_split(X_scaled, y, test_size=0.2, random_state=42)\n",
    "\n",
    "# Inicializar y entrenar el modelo de regresión lineal con datos escalados\n",
    "modelo = LinearRegression()\n",
    "modelo.fit(X_train, y_train)"
   ]
  },
  {
   "cell_type": "code",
   "execution_count": 12,
   "metadata": {},
   "outputs": [
    {
     "name": "stderr",
     "output_type": "stream",
     "text": [
      "c:\\Users\\yoe11\\anaconda3\\envs\\newst\\Lib\\site-packages\\sklearn\\base.py:486: UserWarning:\n",
      "\n",
      "X has feature names, but LinearRegression was fitted without feature names\n",
      "\n"
     ]
    },
    {
     "data": {
      "text/html": [
       "<div>\n",
       "<style scoped>\n",
       "    .dataframe tbody tr th:only-of-type {\n",
       "        vertical-align: middle;\n",
       "    }\n",
       "\n",
       "    .dataframe tbody tr th {\n",
       "        vertical-align: top;\n",
       "    }\n",
       "\n",
       "    .dataframe thead th {\n",
       "        text-align: right;\n",
       "    }\n",
       "</style>\n",
       "<table border=\"1\" class=\"dataframe\">\n",
       "  <thead>\n",
       "    <tr style=\"text-align: right;\">\n",
       "      <th></th>\n",
       "      <th>año</th>\n",
       "      <th>mes</th>\n",
       "      <th>precio_promedio</th>\n",
       "    </tr>\n",
       "  </thead>\n",
       "  <tbody>\n",
       "    <tr>\n",
       "      <th>0</th>\n",
       "      <td>2024</td>\n",
       "      <td>1</td>\n",
       "      <td>3.287172e+06</td>\n",
       "    </tr>\n",
       "    <tr>\n",
       "      <th>1</th>\n",
       "      <td>2024</td>\n",
       "      <td>2</td>\n",
       "      <td>3.289913e+06</td>\n",
       "    </tr>\n",
       "    <tr>\n",
       "      <th>2</th>\n",
       "      <td>2024</td>\n",
       "      <td>3</td>\n",
       "      <td>3.374739e+06</td>\n",
       "    </tr>\n",
       "    <tr>\n",
       "      <th>3</th>\n",
       "      <td>2024</td>\n",
       "      <td>5</td>\n",
       "      <td>3.224496e+06</td>\n",
       "    </tr>\n",
       "    <tr>\n",
       "      <th>4</th>\n",
       "      <td>2024</td>\n",
       "      <td>6</td>\n",
       "      <td>3.212817e+06</td>\n",
       "    </tr>\n",
       "    <tr>\n",
       "      <th>5</th>\n",
       "      <td>2024</td>\n",
       "      <td>7</td>\n",
       "      <td>3.395784e+06</td>\n",
       "    </tr>\n",
       "    <tr>\n",
       "      <th>6</th>\n",
       "      <td>2024</td>\n",
       "      <td>8</td>\n",
       "      <td>3.338049e+06</td>\n",
       "    </tr>\n",
       "    <tr>\n",
       "      <th>7</th>\n",
       "      <td>2024</td>\n",
       "      <td>9</td>\n",
       "      <td>3.029065e+06</td>\n",
       "    </tr>\n",
       "    <tr>\n",
       "      <th>8</th>\n",
       "      <td>2024</td>\n",
       "      <td>10</td>\n",
       "      <td>2.996802e+06</td>\n",
       "    </tr>\n",
       "    <tr>\n",
       "      <th>9</th>\n",
       "      <td>2024</td>\n",
       "      <td>11</td>\n",
       "      <td>2.964539e+06</td>\n",
       "    </tr>\n",
       "    <tr>\n",
       "      <th>10</th>\n",
       "      <td>2024</td>\n",
       "      <td>12</td>\n",
       "      <td>2.932276e+06</td>\n",
       "    </tr>\n",
       "    <tr>\n",
       "      <th>11</th>\n",
       "      <td>2025</td>\n",
       "      <td>1</td>\n",
       "      <td>3.287172e+06</td>\n",
       "    </tr>\n",
       "    <tr>\n",
       "      <th>12</th>\n",
       "      <td>2025</td>\n",
       "      <td>2</td>\n",
       "      <td>3.254908e+06</td>\n",
       "    </tr>\n",
       "    <tr>\n",
       "      <th>13</th>\n",
       "      <td>2025</td>\n",
       "      <td>3</td>\n",
       "      <td>3.222645e+06</td>\n",
       "    </tr>\n",
       "    <tr>\n",
       "      <th>14</th>\n",
       "      <td>2025</td>\n",
       "      <td>4</td>\n",
       "      <td>3.190382e+06</td>\n",
       "    </tr>\n",
       "    <tr>\n",
       "      <th>15</th>\n",
       "      <td>2025</td>\n",
       "      <td>5</td>\n",
       "      <td>3.158119e+06</td>\n",
       "    </tr>\n",
       "    <tr>\n",
       "      <th>16</th>\n",
       "      <td>2025</td>\n",
       "      <td>6</td>\n",
       "      <td>3.125855e+06</td>\n",
       "    </tr>\n",
       "    <tr>\n",
       "      <th>17</th>\n",
       "      <td>2025</td>\n",
       "      <td>7</td>\n",
       "      <td>3.093592e+06</td>\n",
       "    </tr>\n",
       "    <tr>\n",
       "      <th>18</th>\n",
       "      <td>2025</td>\n",
       "      <td>8</td>\n",
       "      <td>3.061329e+06</td>\n",
       "    </tr>\n",
       "    <tr>\n",
       "      <th>19</th>\n",
       "      <td>2025</td>\n",
       "      <td>9</td>\n",
       "      <td>3.029065e+06</td>\n",
       "    </tr>\n",
       "    <tr>\n",
       "      <th>20</th>\n",
       "      <td>2025</td>\n",
       "      <td>10</td>\n",
       "      <td>2.996802e+06</td>\n",
       "    </tr>\n",
       "    <tr>\n",
       "      <th>21</th>\n",
       "      <td>2025</td>\n",
       "      <td>11</td>\n",
       "      <td>2.964539e+06</td>\n",
       "    </tr>\n",
       "    <tr>\n",
       "      <th>22</th>\n",
       "      <td>2025</td>\n",
       "      <td>12</td>\n",
       "      <td>2.932276e+06</td>\n",
       "    </tr>\n",
       "    <tr>\n",
       "      <th>23</th>\n",
       "      <td>2026</td>\n",
       "      <td>1</td>\n",
       "      <td>3.287172e+06</td>\n",
       "    </tr>\n",
       "    <tr>\n",
       "      <th>24</th>\n",
       "      <td>2026</td>\n",
       "      <td>2</td>\n",
       "      <td>3.254908e+06</td>\n",
       "    </tr>\n",
       "    <tr>\n",
       "      <th>25</th>\n",
       "      <td>2026</td>\n",
       "      <td>3</td>\n",
       "      <td>3.222645e+06</td>\n",
       "    </tr>\n",
       "    <tr>\n",
       "      <th>26</th>\n",
       "      <td>2026</td>\n",
       "      <td>4</td>\n",
       "      <td>3.190382e+06</td>\n",
       "    </tr>\n",
       "    <tr>\n",
       "      <th>27</th>\n",
       "      <td>2026</td>\n",
       "      <td>5</td>\n",
       "      <td>3.158119e+06</td>\n",
       "    </tr>\n",
       "    <tr>\n",
       "      <th>28</th>\n",
       "      <td>2026</td>\n",
       "      <td>6</td>\n",
       "      <td>3.125855e+06</td>\n",
       "    </tr>\n",
       "    <tr>\n",
       "      <th>29</th>\n",
       "      <td>2026</td>\n",
       "      <td>7</td>\n",
       "      <td>3.093592e+06</td>\n",
       "    </tr>\n",
       "    <tr>\n",
       "      <th>30</th>\n",
       "      <td>2026</td>\n",
       "      <td>8</td>\n",
       "      <td>3.061329e+06</td>\n",
       "    </tr>\n",
       "    <tr>\n",
       "      <th>31</th>\n",
       "      <td>2026</td>\n",
       "      <td>9</td>\n",
       "      <td>3.029065e+06</td>\n",
       "    </tr>\n",
       "    <tr>\n",
       "      <th>32</th>\n",
       "      <td>2026</td>\n",
       "      <td>10</td>\n",
       "      <td>2.996802e+06</td>\n",
       "    </tr>\n",
       "    <tr>\n",
       "      <th>33</th>\n",
       "      <td>2026</td>\n",
       "      <td>11</td>\n",
       "      <td>2.964539e+06</td>\n",
       "    </tr>\n",
       "    <tr>\n",
       "      <th>34</th>\n",
       "      <td>2026</td>\n",
       "      <td>12</td>\n",
       "      <td>2.932276e+06</td>\n",
       "    </tr>\n",
       "  </tbody>\n",
       "</table>\n",
       "</div>"
      ],
      "text/plain": [
       "     año  mes  precio_promedio\n",
       "0   2024    1     3.287172e+06\n",
       "1   2024    2     3.289913e+06\n",
       "2   2024    3     3.374739e+06\n",
       "3   2024    5     3.224496e+06\n",
       "4   2024    6     3.212817e+06\n",
       "5   2024    7     3.395784e+06\n",
       "6   2024    8     3.338049e+06\n",
       "7   2024    9     3.029065e+06\n",
       "8   2024   10     2.996802e+06\n",
       "9   2024   11     2.964539e+06\n",
       "10  2024   12     2.932276e+06\n",
       "11  2025    1     3.287172e+06\n",
       "12  2025    2     3.254908e+06\n",
       "13  2025    3     3.222645e+06\n",
       "14  2025    4     3.190382e+06\n",
       "15  2025    5     3.158119e+06\n",
       "16  2025    6     3.125855e+06\n",
       "17  2025    7     3.093592e+06\n",
       "18  2025    8     3.061329e+06\n",
       "19  2025    9     3.029065e+06\n",
       "20  2025   10     2.996802e+06\n",
       "21  2025   11     2.964539e+06\n",
       "22  2025   12     2.932276e+06\n",
       "23  2026    1     3.287172e+06\n",
       "24  2026    2     3.254908e+06\n",
       "25  2026    3     3.222645e+06\n",
       "26  2026    4     3.190382e+06\n",
       "27  2026    5     3.158119e+06\n",
       "28  2026    6     3.125855e+06\n",
       "29  2026    7     3.093592e+06\n",
       "30  2026    8     3.061329e+06\n",
       "31  2026    9     3.029065e+06\n",
       "32  2026   10     2.996802e+06\n",
       "33  2026   11     2.964539e+06\n",
       "34  2026   12     2.932276e+06"
      ]
     },
     "execution_count": 12,
     "metadata": {},
     "output_type": "execute_result"
    }
   ],
   "source": [
    "# DF con todas las combinaciones posibles de año y mes para 2023 FALTANTES (AUG-DEC)\n",
    "fechas_2023 = pd.DataFrame({'año': np.repeat(2024, 1),\n",
    "                            'mes': range(1, 2)})\n",
    "fechas_2024 = pd.DataFrame({'año': np.repeat(2024, 4),\n",
    "                            'mes': range(9, 13)})\n",
    "# DF con todas las combinaciones posibles de año y mes para 2024-2026\n",
    "fechas_2024_2026 = pd.DataFrame({'año': np.repeat(range(2025, 2027), 12),\n",
    "                                  'mes': np.tile(range(1, 13), 2)})\n",
    "nuevas_fechas = pd.concat([fechas_2023,fechas_2024, fechas_2024_2026]) # Concatenamos \n",
    "\n",
    "# Realizamos predicciones con el modelo entrenado\n",
    "predicciones = modelo.predict(nuevas_fechas)\n",
    "\n",
    "# Redondear las predicciones a números enteros\n",
    "predicciones_enteros = np.round(predicciones).astype(int)\n",
    "\n",
    "# Agregamos las predicciones redondeadas al DataFrame de nuevas fechas\n",
    "nuevas_fechas['precio_promedio'] = predicciones_enteros\n",
    "\n",
    "nueva_conteo_pachuca = pd.concat([df_resultados, nuevas_fechas], ignore_index=True)\n",
    "#nueva_conteo_pachuca = nueva_conteo_pachuca.groupby('año')['precio_promedio'].median().reset_index()\n",
    "nueva_conteo_pachuca = nueva_conteo_pachuca.groupby(['año', 'mes'])['precio_promedio'].median().reset_index()\n",
    "\n",
    "# Agregar una nueva columna 'vivienda' con el valor 'Usada'\n",
    "total_todos = nueva_conteo_pachuca.copy()\n",
    "nueva_conteo_pachuca"
   ]
  },
  {
   "cell_type": "code",
   "execution_count": 13,
   "metadata": {},
   "outputs": [
    {
     "name": "stdout",
     "output_type": "stream",
     "text": [
      "Estimación de registros en 2024: 1000961\n",
      "Estimación de registros en 2025: 1013940\n",
      "Estimación de registros en 2026: 1027087\n"
     ]
    }
   ],
   "source": [
    "# Valores conocidos\n",
    "registros_2022 = 9.754988e+05\n",
    "registros_2023 = 9.881478e+05\n",
    "\n",
    "# Calcula la tasa de cambio porcentual de 2022 a 2023\n",
    "tasa_cambio = (registros_2023 - registros_2022) / registros_2022\n",
    "\n",
    "# Aplica la misma tasa de cambio para estimar 2024, 2025, y 2026 completo\n",
    "estimacion_2024 = registros_2023 * (1 + tasa_cambio)\n",
    "estimacion_2025 = estimacion_2024 * (1 + tasa_cambio)\n",
    "estimacion_2026 = estimacion_2025 * (1 + tasa_cambio)\n",
    "\n",
    "print(\"Estimación de registros en 2024:\", round(estimacion_2024))\n",
    "print(\"Estimación de registros en 2025:\", round(estimacion_2025))\n",
    "print(\"Estimación de registros en 2026:\", round(estimacion_2026))"
   ]
  },
  {
   "cell_type": "code",
   "execution_count": 14,
   "metadata": {},
   "outputs": [
    {
     "data": {
      "text/html": [
       "<div>\n",
       "<style scoped>\n",
       "    .dataframe tbody tr th:only-of-type {\n",
       "        vertical-align: middle;\n",
       "    }\n",
       "\n",
       "    .dataframe tbody tr th {\n",
       "        vertical-align: top;\n",
       "    }\n",
       "\n",
       "    .dataframe thead th {\n",
       "        text-align: right;\n",
       "    }\n",
       "</style>\n",
       "<table border=\"1\" class=\"dataframe\">\n",
       "  <thead>\n",
       "    <tr style=\"text-align: right;\">\n",
       "      <th></th>\n",
       "      <th>año</th>\n",
       "      <th>mes</th>\n",
       "      <th>precio_promedio</th>\n",
       "      <th>label</th>\n",
       "    </tr>\n",
       "  </thead>\n",
       "  <tbody>\n",
       "    <tr>\n",
       "      <th>0</th>\n",
       "      <td>2024</td>\n",
       "      <td>1</td>\n",
       "      <td>3.287172e+06</td>\n",
       "      <td>enero-2024</td>\n",
       "    </tr>\n",
       "    <tr>\n",
       "      <th>1</th>\n",
       "      <td>2024</td>\n",
       "      <td>2</td>\n",
       "      <td>3.289913e+06</td>\n",
       "      <td>febrero-2024</td>\n",
       "    </tr>\n",
       "    <tr>\n",
       "      <th>2</th>\n",
       "      <td>2024</td>\n",
       "      <td>3</td>\n",
       "      <td>3.374739e+06</td>\n",
       "      <td>marzo-2024</td>\n",
       "    </tr>\n",
       "    <tr>\n",
       "      <th>3</th>\n",
       "      <td>2024</td>\n",
       "      <td>5</td>\n",
       "      <td>3.224496e+06</td>\n",
       "      <td>mayo-2024</td>\n",
       "    </tr>\n",
       "    <tr>\n",
       "      <th>4</th>\n",
       "      <td>2024</td>\n",
       "      <td>6</td>\n",
       "      <td>3.212817e+06</td>\n",
       "      <td>junio-2024</td>\n",
       "    </tr>\n",
       "    <tr>\n",
       "      <th>5</th>\n",
       "      <td>2024</td>\n",
       "      <td>7</td>\n",
       "      <td>3.395784e+06</td>\n",
       "      <td>julio-2024</td>\n",
       "    </tr>\n",
       "    <tr>\n",
       "      <th>6</th>\n",
       "      <td>2024</td>\n",
       "      <td>8</td>\n",
       "      <td>3.338049e+06</td>\n",
       "      <td>agosto-2024</td>\n",
       "    </tr>\n",
       "    <tr>\n",
       "      <th>7</th>\n",
       "      <td>2024</td>\n",
       "      <td>9</td>\n",
       "      <td>3.029065e+06</td>\n",
       "      <td>septiembre-2024</td>\n",
       "    </tr>\n",
       "    <tr>\n",
       "      <th>8</th>\n",
       "      <td>2024</td>\n",
       "      <td>10</td>\n",
       "      <td>2.996802e+06</td>\n",
       "      <td>octubre-2024</td>\n",
       "    </tr>\n",
       "    <tr>\n",
       "      <th>9</th>\n",
       "      <td>2024</td>\n",
       "      <td>11</td>\n",
       "      <td>2.964539e+06</td>\n",
       "      <td>noviembre-2024</td>\n",
       "    </tr>\n",
       "    <tr>\n",
       "      <th>10</th>\n",
       "      <td>2024</td>\n",
       "      <td>12</td>\n",
       "      <td>2.932276e+06</td>\n",
       "      <td>diciembre-2024</td>\n",
       "    </tr>\n",
       "    <tr>\n",
       "      <th>11</th>\n",
       "      <td>2025</td>\n",
       "      <td>1</td>\n",
       "      <td>3.287172e+06</td>\n",
       "      <td>enero-2025</td>\n",
       "    </tr>\n",
       "    <tr>\n",
       "      <th>12</th>\n",
       "      <td>2025</td>\n",
       "      <td>2</td>\n",
       "      <td>3.254908e+06</td>\n",
       "      <td>febrero-2025</td>\n",
       "    </tr>\n",
       "    <tr>\n",
       "      <th>13</th>\n",
       "      <td>2025</td>\n",
       "      <td>3</td>\n",
       "      <td>3.222645e+06</td>\n",
       "      <td>marzo-2025</td>\n",
       "    </tr>\n",
       "    <tr>\n",
       "      <th>14</th>\n",
       "      <td>2025</td>\n",
       "      <td>4</td>\n",
       "      <td>3.190382e+06</td>\n",
       "      <td>abril-2025</td>\n",
       "    </tr>\n",
       "    <tr>\n",
       "      <th>15</th>\n",
       "      <td>2025</td>\n",
       "      <td>5</td>\n",
       "      <td>3.158119e+06</td>\n",
       "      <td>mayo-2025</td>\n",
       "    </tr>\n",
       "    <tr>\n",
       "      <th>16</th>\n",
       "      <td>2025</td>\n",
       "      <td>6</td>\n",
       "      <td>3.125855e+06</td>\n",
       "      <td>junio-2025</td>\n",
       "    </tr>\n",
       "    <tr>\n",
       "      <th>17</th>\n",
       "      <td>2025</td>\n",
       "      <td>7</td>\n",
       "      <td>3.093592e+06</td>\n",
       "      <td>julio-2025</td>\n",
       "    </tr>\n",
       "    <tr>\n",
       "      <th>18</th>\n",
       "      <td>2025</td>\n",
       "      <td>8</td>\n",
       "      <td>3.061329e+06</td>\n",
       "      <td>agosto-2025</td>\n",
       "    </tr>\n",
       "    <tr>\n",
       "      <th>19</th>\n",
       "      <td>2025</td>\n",
       "      <td>9</td>\n",
       "      <td>3.029065e+06</td>\n",
       "      <td>septiembre-2025</td>\n",
       "    </tr>\n",
       "    <tr>\n",
       "      <th>20</th>\n",
       "      <td>2025</td>\n",
       "      <td>10</td>\n",
       "      <td>2.996802e+06</td>\n",
       "      <td>octubre-2025</td>\n",
       "    </tr>\n",
       "    <tr>\n",
       "      <th>21</th>\n",
       "      <td>2025</td>\n",
       "      <td>11</td>\n",
       "      <td>2.964539e+06</td>\n",
       "      <td>noviembre-2025</td>\n",
       "    </tr>\n",
       "    <tr>\n",
       "      <th>22</th>\n",
       "      <td>2025</td>\n",
       "      <td>12</td>\n",
       "      <td>2.932276e+06</td>\n",
       "      <td>diciembre-2025</td>\n",
       "    </tr>\n",
       "    <tr>\n",
       "      <th>23</th>\n",
       "      <td>2026</td>\n",
       "      <td>1</td>\n",
       "      <td>3.287172e+06</td>\n",
       "      <td>enero-2026</td>\n",
       "    </tr>\n",
       "    <tr>\n",
       "      <th>24</th>\n",
       "      <td>2026</td>\n",
       "      <td>2</td>\n",
       "      <td>3.254908e+06</td>\n",
       "      <td>febrero-2026</td>\n",
       "    </tr>\n",
       "    <tr>\n",
       "      <th>25</th>\n",
       "      <td>2026</td>\n",
       "      <td>3</td>\n",
       "      <td>3.222645e+06</td>\n",
       "      <td>marzo-2026</td>\n",
       "    </tr>\n",
       "    <tr>\n",
       "      <th>26</th>\n",
       "      <td>2026</td>\n",
       "      <td>4</td>\n",
       "      <td>3.190382e+06</td>\n",
       "      <td>abril-2026</td>\n",
       "    </tr>\n",
       "    <tr>\n",
       "      <th>27</th>\n",
       "      <td>2026</td>\n",
       "      <td>5</td>\n",
       "      <td>3.158119e+06</td>\n",
       "      <td>mayo-2026</td>\n",
       "    </tr>\n",
       "    <tr>\n",
       "      <th>28</th>\n",
       "      <td>2026</td>\n",
       "      <td>6</td>\n",
       "      <td>3.125855e+06</td>\n",
       "      <td>junio-2026</td>\n",
       "    </tr>\n",
       "    <tr>\n",
       "      <th>29</th>\n",
       "      <td>2026</td>\n",
       "      <td>7</td>\n",
       "      <td>3.093592e+06</td>\n",
       "      <td>julio-2026</td>\n",
       "    </tr>\n",
       "    <tr>\n",
       "      <th>30</th>\n",
       "      <td>2026</td>\n",
       "      <td>8</td>\n",
       "      <td>3.061329e+06</td>\n",
       "      <td>agosto-2026</td>\n",
       "    </tr>\n",
       "    <tr>\n",
       "      <th>31</th>\n",
       "      <td>2026</td>\n",
       "      <td>9</td>\n",
       "      <td>3.029065e+06</td>\n",
       "      <td>septiembre-2026</td>\n",
       "    </tr>\n",
       "    <tr>\n",
       "      <th>32</th>\n",
       "      <td>2026</td>\n",
       "      <td>10</td>\n",
       "      <td>2.996802e+06</td>\n",
       "      <td>octubre-2026</td>\n",
       "    </tr>\n",
       "    <tr>\n",
       "      <th>33</th>\n",
       "      <td>2026</td>\n",
       "      <td>11</td>\n",
       "      <td>2.964539e+06</td>\n",
       "      <td>noviembre-2026</td>\n",
       "    </tr>\n",
       "    <tr>\n",
       "      <th>34</th>\n",
       "      <td>2026</td>\n",
       "      <td>12</td>\n",
       "      <td>2.932276e+06</td>\n",
       "      <td>diciembre-2026</td>\n",
       "    </tr>\n",
       "  </tbody>\n",
       "</table>\n",
       "</div>"
      ],
      "text/plain": [
       "     año  mes  precio_promedio            label\n",
       "0   2024    1     3.287172e+06       enero-2024\n",
       "1   2024    2     3.289913e+06     febrero-2024\n",
       "2   2024    3     3.374739e+06       marzo-2024\n",
       "3   2024    5     3.224496e+06        mayo-2024\n",
       "4   2024    6     3.212817e+06       junio-2024\n",
       "5   2024    7     3.395784e+06       julio-2024\n",
       "6   2024    8     3.338049e+06      agosto-2024\n",
       "7   2024    9     3.029065e+06  septiembre-2024\n",
       "8   2024   10     2.996802e+06     octubre-2024\n",
       "9   2024   11     2.964539e+06   noviembre-2024\n",
       "10  2024   12     2.932276e+06   diciembre-2024\n",
       "11  2025    1     3.287172e+06       enero-2025\n",
       "12  2025    2     3.254908e+06     febrero-2025\n",
       "13  2025    3     3.222645e+06       marzo-2025\n",
       "14  2025    4     3.190382e+06       abril-2025\n",
       "15  2025    5     3.158119e+06        mayo-2025\n",
       "16  2025    6     3.125855e+06       junio-2025\n",
       "17  2025    7     3.093592e+06       julio-2025\n",
       "18  2025    8     3.061329e+06      agosto-2025\n",
       "19  2025    9     3.029065e+06  septiembre-2025\n",
       "20  2025   10     2.996802e+06     octubre-2025\n",
       "21  2025   11     2.964539e+06   noviembre-2025\n",
       "22  2025   12     2.932276e+06   diciembre-2025\n",
       "23  2026    1     3.287172e+06       enero-2026\n",
       "24  2026    2     3.254908e+06     febrero-2026\n",
       "25  2026    3     3.222645e+06       marzo-2026\n",
       "26  2026    4     3.190382e+06       abril-2026\n",
       "27  2026    5     3.158119e+06        mayo-2026\n",
       "28  2026    6     3.125855e+06       junio-2026\n",
       "29  2026    7     3.093592e+06       julio-2026\n",
       "30  2026    8     3.061329e+06      agosto-2026\n",
       "31  2026    9     3.029065e+06  septiembre-2026\n",
       "32  2026   10     2.996802e+06     octubre-2026\n",
       "33  2026   11     2.964539e+06   noviembre-2026\n",
       "34  2026   12     2.932276e+06   diciembre-2026"
      ]
     },
     "execution_count": 14,
     "metadata": {},
     "output_type": "execute_result"
    }
   ],
   "source": [
    "meses_dict_invertido = {v: k for k, v in meses_dict.items()}\n",
    "nueva_conteo_pachuca['label'] = nueva_conteo_pachuca['mes'].apply(lambda x: meses_dict_invertido[x]) + '-' + nueva_conteo_pachuca['año'].astype(str)\n",
    "nueva_conteo_pachuca = nueva_conteo_pachuca.sort_values(by=['año', 'mes'])\n",
    "nueva_conteo_pachuca"
   ]
  },
  {
   "cell_type": "code",
   "execution_count": 15,
   "metadata": {},
   "outputs": [
    {
     "data": {
      "application/vnd.plotly.v1+json": {
       "config": {
        "plotlyServerURL": "https://plot.ly"
       },
       "data": [
        {
         "marker": {
          "color": "blue"
         },
         "mode": "markers+lines",
         "type": "scatter",
         "x": [
          "enero-2024",
          "febrero-2024",
          "marzo-2024",
          "mayo-2024",
          "junio-2024",
          "julio-2024",
          "agosto-2024",
          "septiembre-2024",
          "octubre-2024",
          "noviembre-2024",
          "diciembre-2024",
          "enero-2025",
          "febrero-2025",
          "marzo-2025",
          "abril-2025",
          "mayo-2025",
          "junio-2025",
          "julio-2025",
          "agosto-2025",
          "septiembre-2025",
          "octubre-2025",
          "noviembre-2025",
          "diciembre-2025",
          "enero-2026",
          "febrero-2026",
          "marzo-2026",
          "abril-2026",
          "mayo-2026",
          "junio-2026",
          "julio-2026",
          "agosto-2026",
          "septiembre-2026",
          "octubre-2026",
          "noviembre-2026",
          "diciembre-2026"
         ],
         "y": [
          3287172,
          3289913.081751055,
          3374738.8693217174,
          3224495.76910299,
          3212817.3876923076,
          3395784.4117980716,
          3338049.0504978662,
          3029065,
          2996802,
          2964539,
          2932276,
          3287172,
          3254908,
          3222645,
          3190382,
          3158119,
          3125855,
          3093592,
          3061329,
          3029065,
          2996802,
          2964539,
          2932276,
          3287172,
          3254908,
          3222645,
          3190382,
          3158119,
          3125855,
          3093592,
          3061329,
          3029065,
          2996802,
          2964539,
          2932276
         ]
        }
       ],
       "layout": {
        "annotations": [
         {
          "font": {
           "color": "black",
           "size": 12
          },
          "showarrow": false,
          "text": "$3,287,172.00",
          "textangle": 0,
          "x": "enero-2024",
          "xshift": 0,
          "y": 3287172,
          "yshift": 17
         },
         {
          "font": {
           "color": "black",
           "size": 12
          },
          "showarrow": false,
          "text": "$3,289,913.08",
          "textangle": 0,
          "x": "febrero-2024",
          "xshift": 0,
          "y": 3289913.081751055,
          "yshift": 17
         },
         {
          "font": {
           "color": "black",
           "size": 12
          },
          "showarrow": false,
          "text": "$3,374,738.87",
          "textangle": 0,
          "x": "marzo-2024",
          "xshift": 0,
          "y": 3374738.8693217174,
          "yshift": 17
         },
         {
          "font": {
           "color": "black",
           "size": 12
          },
          "showarrow": false,
          "text": "$3,224,495.77",
          "textangle": 0,
          "x": "mayo-2024",
          "xshift": 0,
          "y": 3224495.76910299,
          "yshift": 17
         },
         {
          "font": {
           "color": "black",
           "size": 12
          },
          "showarrow": false,
          "text": "$3,212,817.39",
          "textangle": 0,
          "x": "junio-2024",
          "xshift": 0,
          "y": 3212817.3876923076,
          "yshift": 17
         },
         {
          "font": {
           "color": "black",
           "size": 12
          },
          "showarrow": false,
          "text": "$3,395,784.41",
          "textangle": 0,
          "x": "julio-2024",
          "xshift": 0,
          "y": 3395784.4117980716,
          "yshift": 17
         },
         {
          "font": {
           "color": "black",
           "size": 12
          },
          "showarrow": false,
          "text": "$3,338,049.05",
          "textangle": 0,
          "x": "agosto-2024",
          "xshift": 0,
          "y": 3338049.0504978662,
          "yshift": 17
         },
         {
          "font": {
           "color": "black",
           "size": 12
          },
          "showarrow": false,
          "text": "$3,029,065.00",
          "textangle": 0,
          "x": "septiembre-2024",
          "xshift": 0,
          "y": 3029065,
          "yshift": 17
         },
         {
          "font": {
           "color": "black",
           "size": 12
          },
          "showarrow": false,
          "text": "$2,996,802.00",
          "textangle": 0,
          "x": "octubre-2024",
          "xshift": 0,
          "y": 2996802,
          "yshift": 17
         },
         {
          "font": {
           "color": "black",
           "size": 12
          },
          "showarrow": false,
          "text": "$2,964,539.00",
          "textangle": 0,
          "x": "noviembre-2024",
          "xshift": 0,
          "y": 2964539,
          "yshift": 17
         },
         {
          "font": {
           "color": "black",
           "size": 12
          },
          "showarrow": false,
          "text": "$2,932,276.00",
          "textangle": 0,
          "x": "diciembre-2024",
          "xshift": 0,
          "y": 2932276,
          "yshift": 17
         },
         {
          "font": {
           "color": "black",
           "size": 12
          },
          "showarrow": false,
          "text": "$3,287,172.00",
          "textangle": 0,
          "x": "enero-2025",
          "xshift": 0,
          "y": 3287172,
          "yshift": 17
         },
         {
          "font": {
           "color": "black",
           "size": 12
          },
          "showarrow": false,
          "text": "$3,254,908.00",
          "textangle": 0,
          "x": "febrero-2025",
          "xshift": 0,
          "y": 3254908,
          "yshift": 17
         },
         {
          "font": {
           "color": "black",
           "size": 12
          },
          "showarrow": false,
          "text": "$3,222,645.00",
          "textangle": 0,
          "x": "marzo-2025",
          "xshift": 0,
          "y": 3222645,
          "yshift": 17
         },
         {
          "font": {
           "color": "black",
           "size": 12
          },
          "showarrow": false,
          "text": "$3,190,382.00",
          "textangle": 0,
          "x": "abril-2025",
          "xshift": 0,
          "y": 3190382,
          "yshift": 17
         },
         {
          "font": {
           "color": "black",
           "size": 12
          },
          "showarrow": false,
          "text": "$3,158,119.00",
          "textangle": 0,
          "x": "mayo-2025",
          "xshift": 0,
          "y": 3158119,
          "yshift": 17
         },
         {
          "font": {
           "color": "black",
           "size": 12
          },
          "showarrow": false,
          "text": "$3,125,855.00",
          "textangle": 0,
          "x": "junio-2025",
          "xshift": 0,
          "y": 3125855,
          "yshift": 17
         },
         {
          "font": {
           "color": "black",
           "size": 12
          },
          "showarrow": false,
          "text": "$3,093,592.00",
          "textangle": 0,
          "x": "julio-2025",
          "xshift": 0,
          "y": 3093592,
          "yshift": 17
         },
         {
          "font": {
           "color": "black",
           "size": 12
          },
          "showarrow": false,
          "text": "$3,061,329.00",
          "textangle": 0,
          "x": "agosto-2025",
          "xshift": 0,
          "y": 3061329,
          "yshift": 17
         },
         {
          "font": {
           "color": "black",
           "size": 12
          },
          "showarrow": false,
          "text": "$3,029,065.00",
          "textangle": 0,
          "x": "septiembre-2025",
          "xshift": 0,
          "y": 3029065,
          "yshift": 17
         },
         {
          "font": {
           "color": "black",
           "size": 12
          },
          "showarrow": false,
          "text": "$2,996,802.00",
          "textangle": 0,
          "x": "octubre-2025",
          "xshift": 0,
          "y": 2996802,
          "yshift": 17
         },
         {
          "font": {
           "color": "black",
           "size": 12
          },
          "showarrow": false,
          "text": "$2,964,539.00",
          "textangle": 0,
          "x": "noviembre-2025",
          "xshift": 0,
          "y": 2964539,
          "yshift": 17
         },
         {
          "font": {
           "color": "black",
           "size": 12
          },
          "showarrow": false,
          "text": "$2,932,276.00",
          "textangle": 0,
          "x": "diciembre-2025",
          "xshift": 0,
          "y": 2932276,
          "yshift": 17
         },
         {
          "font": {
           "color": "black",
           "size": 12
          },
          "showarrow": false,
          "text": "$3,287,172.00",
          "textangle": 0,
          "x": "enero-2026",
          "xshift": 0,
          "y": 3287172,
          "yshift": 17
         },
         {
          "font": {
           "color": "black",
           "size": 12
          },
          "showarrow": false,
          "text": "$3,254,908.00",
          "textangle": 0,
          "x": "febrero-2026",
          "xshift": 0,
          "y": 3254908,
          "yshift": 17
         },
         {
          "font": {
           "color": "black",
           "size": 12
          },
          "showarrow": false,
          "text": "$3,222,645.00",
          "textangle": 0,
          "x": "marzo-2026",
          "xshift": 0,
          "y": 3222645,
          "yshift": 17
         },
         {
          "font": {
           "color": "black",
           "size": 12
          },
          "showarrow": false,
          "text": "$3,190,382.00",
          "textangle": 0,
          "x": "abril-2026",
          "xshift": 0,
          "y": 3190382,
          "yshift": 17
         },
         {
          "font": {
           "color": "black",
           "size": 12
          },
          "showarrow": false,
          "text": "$3,158,119.00",
          "textangle": 0,
          "x": "mayo-2026",
          "xshift": 0,
          "y": 3158119,
          "yshift": 17
         },
         {
          "font": {
           "color": "black",
           "size": 12
          },
          "showarrow": false,
          "text": "$3,125,855.00",
          "textangle": 0,
          "x": "junio-2026",
          "xshift": 0,
          "y": 3125855,
          "yshift": 17
         },
         {
          "font": {
           "color": "black",
           "size": 12
          },
          "showarrow": false,
          "text": "$3,093,592.00",
          "textangle": 0,
          "x": "julio-2026",
          "xshift": 0,
          "y": 3093592,
          "yshift": 17
         },
         {
          "font": {
           "color": "black",
           "size": 12
          },
          "showarrow": false,
          "text": "$3,061,329.00",
          "textangle": 0,
          "x": "agosto-2026",
          "xshift": 0,
          "y": 3061329,
          "yshift": 17
         },
         {
          "font": {
           "color": "black",
           "size": 12
          },
          "showarrow": false,
          "text": "$3,029,065.00",
          "textangle": 0,
          "x": "septiembre-2026",
          "xshift": 0,
          "y": 3029065,
          "yshift": 17
         },
         {
          "font": {
           "color": "black",
           "size": 12
          },
          "showarrow": false,
          "text": "$2,996,802.00",
          "textangle": 0,
          "x": "octubre-2026",
          "xshift": 0,
          "y": 2996802,
          "yshift": 17
         },
         {
          "font": {
           "color": "black",
           "size": 12
          },
          "showarrow": false,
          "text": "$2,964,539.00",
          "textangle": 0,
          "x": "noviembre-2026",
          "xshift": 0,
          "y": 2964539,
          "yshift": 17
         },
         {
          "font": {
           "color": "black",
           "size": 12
          },
          "showarrow": false,
          "text": "$2,932,276.00",
          "textangle": 0,
          "x": "diciembre-2026",
          "xshift": 0,
          "y": 2932276,
          "yshift": 17
         }
        ],
        "margin": {
         "b": 10,
         "l": 10,
         "r": 10,
         "t": 10
        },
        "plot_bgcolor": "rgba(0,0,0,0)",
        "template": {
         "data": {
          "bar": [
           {
            "error_x": {
             "color": "#2a3f5f"
            },
            "error_y": {
             "color": "#2a3f5f"
            },
            "marker": {
             "line": {
              "color": "#E5ECF6",
              "width": 0.5
             },
             "pattern": {
              "fillmode": "overlay",
              "size": 10,
              "solidity": 0.2
             }
            },
            "type": "bar"
           }
          ],
          "barpolar": [
           {
            "marker": {
             "line": {
              "color": "#E5ECF6",
              "width": 0.5
             },
             "pattern": {
              "fillmode": "overlay",
              "size": 10,
              "solidity": 0.2
             }
            },
            "type": "barpolar"
           }
          ],
          "carpet": [
           {
            "aaxis": {
             "endlinecolor": "#2a3f5f",
             "gridcolor": "white",
             "linecolor": "white",
             "minorgridcolor": "white",
             "startlinecolor": "#2a3f5f"
            },
            "baxis": {
             "endlinecolor": "#2a3f5f",
             "gridcolor": "white",
             "linecolor": "white",
             "minorgridcolor": "white",
             "startlinecolor": "#2a3f5f"
            },
            "type": "carpet"
           }
          ],
          "choropleth": [
           {
            "colorbar": {
             "outlinewidth": 0,
             "ticks": ""
            },
            "type": "choropleth"
           }
          ],
          "contour": [
           {
            "colorbar": {
             "outlinewidth": 0,
             "ticks": ""
            },
            "colorscale": [
             [
              0,
              "#0d0887"
             ],
             [
              0.1111111111111111,
              "#46039f"
             ],
             [
              0.2222222222222222,
              "#7201a8"
             ],
             [
              0.3333333333333333,
              "#9c179e"
             ],
             [
              0.4444444444444444,
              "#bd3786"
             ],
             [
              0.5555555555555556,
              "#d8576b"
             ],
             [
              0.6666666666666666,
              "#ed7953"
             ],
             [
              0.7777777777777778,
              "#fb9f3a"
             ],
             [
              0.8888888888888888,
              "#fdca26"
             ],
             [
              1,
              "#f0f921"
             ]
            ],
            "type": "contour"
           }
          ],
          "contourcarpet": [
           {
            "colorbar": {
             "outlinewidth": 0,
             "ticks": ""
            },
            "type": "contourcarpet"
           }
          ],
          "heatmap": [
           {
            "colorbar": {
             "outlinewidth": 0,
             "ticks": ""
            },
            "colorscale": [
             [
              0,
              "#0d0887"
             ],
             [
              0.1111111111111111,
              "#46039f"
             ],
             [
              0.2222222222222222,
              "#7201a8"
             ],
             [
              0.3333333333333333,
              "#9c179e"
             ],
             [
              0.4444444444444444,
              "#bd3786"
             ],
             [
              0.5555555555555556,
              "#d8576b"
             ],
             [
              0.6666666666666666,
              "#ed7953"
             ],
             [
              0.7777777777777778,
              "#fb9f3a"
             ],
             [
              0.8888888888888888,
              "#fdca26"
             ],
             [
              1,
              "#f0f921"
             ]
            ],
            "type": "heatmap"
           }
          ],
          "heatmapgl": [
           {
            "colorbar": {
             "outlinewidth": 0,
             "ticks": ""
            },
            "colorscale": [
             [
              0,
              "#0d0887"
             ],
             [
              0.1111111111111111,
              "#46039f"
             ],
             [
              0.2222222222222222,
              "#7201a8"
             ],
             [
              0.3333333333333333,
              "#9c179e"
             ],
             [
              0.4444444444444444,
              "#bd3786"
             ],
             [
              0.5555555555555556,
              "#d8576b"
             ],
             [
              0.6666666666666666,
              "#ed7953"
             ],
             [
              0.7777777777777778,
              "#fb9f3a"
             ],
             [
              0.8888888888888888,
              "#fdca26"
             ],
             [
              1,
              "#f0f921"
             ]
            ],
            "type": "heatmapgl"
           }
          ],
          "histogram": [
           {
            "marker": {
             "pattern": {
              "fillmode": "overlay",
              "size": 10,
              "solidity": 0.2
             }
            },
            "type": "histogram"
           }
          ],
          "histogram2d": [
           {
            "colorbar": {
             "outlinewidth": 0,
             "ticks": ""
            },
            "colorscale": [
             [
              0,
              "#0d0887"
             ],
             [
              0.1111111111111111,
              "#46039f"
             ],
             [
              0.2222222222222222,
              "#7201a8"
             ],
             [
              0.3333333333333333,
              "#9c179e"
             ],
             [
              0.4444444444444444,
              "#bd3786"
             ],
             [
              0.5555555555555556,
              "#d8576b"
             ],
             [
              0.6666666666666666,
              "#ed7953"
             ],
             [
              0.7777777777777778,
              "#fb9f3a"
             ],
             [
              0.8888888888888888,
              "#fdca26"
             ],
             [
              1,
              "#f0f921"
             ]
            ],
            "type": "histogram2d"
           }
          ],
          "histogram2dcontour": [
           {
            "colorbar": {
             "outlinewidth": 0,
             "ticks": ""
            },
            "colorscale": [
             [
              0,
              "#0d0887"
             ],
             [
              0.1111111111111111,
              "#46039f"
             ],
             [
              0.2222222222222222,
              "#7201a8"
             ],
             [
              0.3333333333333333,
              "#9c179e"
             ],
             [
              0.4444444444444444,
              "#bd3786"
             ],
             [
              0.5555555555555556,
              "#d8576b"
             ],
             [
              0.6666666666666666,
              "#ed7953"
             ],
             [
              0.7777777777777778,
              "#fb9f3a"
             ],
             [
              0.8888888888888888,
              "#fdca26"
             ],
             [
              1,
              "#f0f921"
             ]
            ],
            "type": "histogram2dcontour"
           }
          ],
          "mesh3d": [
           {
            "colorbar": {
             "outlinewidth": 0,
             "ticks": ""
            },
            "type": "mesh3d"
           }
          ],
          "parcoords": [
           {
            "line": {
             "colorbar": {
              "outlinewidth": 0,
              "ticks": ""
             }
            },
            "type": "parcoords"
           }
          ],
          "pie": [
           {
            "automargin": true,
            "type": "pie"
           }
          ],
          "scatter": [
           {
            "fillpattern": {
             "fillmode": "overlay",
             "size": 10,
             "solidity": 0.2
            },
            "type": "scatter"
           }
          ],
          "scatter3d": [
           {
            "line": {
             "colorbar": {
              "outlinewidth": 0,
              "ticks": ""
             }
            },
            "marker": {
             "colorbar": {
              "outlinewidth": 0,
              "ticks": ""
             }
            },
            "type": "scatter3d"
           }
          ],
          "scattercarpet": [
           {
            "marker": {
             "colorbar": {
              "outlinewidth": 0,
              "ticks": ""
             }
            },
            "type": "scattercarpet"
           }
          ],
          "scattergeo": [
           {
            "marker": {
             "colorbar": {
              "outlinewidth": 0,
              "ticks": ""
             }
            },
            "type": "scattergeo"
           }
          ],
          "scattergl": [
           {
            "marker": {
             "colorbar": {
              "outlinewidth": 0,
              "ticks": ""
             }
            },
            "type": "scattergl"
           }
          ],
          "scattermapbox": [
           {
            "marker": {
             "colorbar": {
              "outlinewidth": 0,
              "ticks": ""
             }
            },
            "type": "scattermapbox"
           }
          ],
          "scatterpolar": [
           {
            "marker": {
             "colorbar": {
              "outlinewidth": 0,
              "ticks": ""
             }
            },
            "type": "scatterpolar"
           }
          ],
          "scatterpolargl": [
           {
            "marker": {
             "colorbar": {
              "outlinewidth": 0,
              "ticks": ""
             }
            },
            "type": "scatterpolargl"
           }
          ],
          "scatterternary": [
           {
            "marker": {
             "colorbar": {
              "outlinewidth": 0,
              "ticks": ""
             }
            },
            "type": "scatterternary"
           }
          ],
          "surface": [
           {
            "colorbar": {
             "outlinewidth": 0,
             "ticks": ""
            },
            "colorscale": [
             [
              0,
              "#0d0887"
             ],
             [
              0.1111111111111111,
              "#46039f"
             ],
             [
              0.2222222222222222,
              "#7201a8"
             ],
             [
              0.3333333333333333,
              "#9c179e"
             ],
             [
              0.4444444444444444,
              "#bd3786"
             ],
             [
              0.5555555555555556,
              "#d8576b"
             ],
             [
              0.6666666666666666,
              "#ed7953"
             ],
             [
              0.7777777777777778,
              "#fb9f3a"
             ],
             [
              0.8888888888888888,
              "#fdca26"
             ],
             [
              1,
              "#f0f921"
             ]
            ],
            "type": "surface"
           }
          ],
          "table": [
           {
            "cells": {
             "fill": {
              "color": "#EBF0F8"
             },
             "line": {
              "color": "white"
             }
            },
            "header": {
             "fill": {
              "color": "#C8D4E3"
             },
             "line": {
              "color": "white"
             }
            },
            "type": "table"
           }
          ]
         },
         "layout": {
          "annotationdefaults": {
           "arrowcolor": "#2a3f5f",
           "arrowhead": 0,
           "arrowwidth": 1
          },
          "autotypenumbers": "strict",
          "coloraxis": {
           "colorbar": {
            "outlinewidth": 0,
            "ticks": ""
           }
          },
          "colorscale": {
           "diverging": [
            [
             0,
             "#8e0152"
            ],
            [
             0.1,
             "#c51b7d"
            ],
            [
             0.2,
             "#de77ae"
            ],
            [
             0.3,
             "#f1b6da"
            ],
            [
             0.4,
             "#fde0ef"
            ],
            [
             0.5,
             "#f7f7f7"
            ],
            [
             0.6,
             "#e6f5d0"
            ],
            [
             0.7,
             "#b8e186"
            ],
            [
             0.8,
             "#7fbc41"
            ],
            [
             0.9,
             "#4d9221"
            ],
            [
             1,
             "#276419"
            ]
           ],
           "sequential": [
            [
             0,
             "#0d0887"
            ],
            [
             0.1111111111111111,
             "#46039f"
            ],
            [
             0.2222222222222222,
             "#7201a8"
            ],
            [
             0.3333333333333333,
             "#9c179e"
            ],
            [
             0.4444444444444444,
             "#bd3786"
            ],
            [
             0.5555555555555556,
             "#d8576b"
            ],
            [
             0.6666666666666666,
             "#ed7953"
            ],
            [
             0.7777777777777778,
             "#fb9f3a"
            ],
            [
             0.8888888888888888,
             "#fdca26"
            ],
            [
             1,
             "#f0f921"
            ]
           ],
           "sequentialminus": [
            [
             0,
             "#0d0887"
            ],
            [
             0.1111111111111111,
             "#46039f"
            ],
            [
             0.2222222222222222,
             "#7201a8"
            ],
            [
             0.3333333333333333,
             "#9c179e"
            ],
            [
             0.4444444444444444,
             "#bd3786"
            ],
            [
             0.5555555555555556,
             "#d8576b"
            ],
            [
             0.6666666666666666,
             "#ed7953"
            ],
            [
             0.7777777777777778,
             "#fb9f3a"
            ],
            [
             0.8888888888888888,
             "#fdca26"
            ],
            [
             1,
             "#f0f921"
            ]
           ]
          },
          "colorway": [
           "#636efa",
           "#EF553B",
           "#00cc96",
           "#ab63fa",
           "#FFA15A",
           "#19d3f3",
           "#FF6692",
           "#B6E880",
           "#FF97FF",
           "#FECB52"
          ],
          "font": {
           "color": "#2a3f5f"
          },
          "geo": {
           "bgcolor": "white",
           "lakecolor": "white",
           "landcolor": "#E5ECF6",
           "showlakes": true,
           "showland": true,
           "subunitcolor": "white"
          },
          "hoverlabel": {
           "align": "left"
          },
          "hovermode": "closest",
          "mapbox": {
           "style": "light"
          },
          "paper_bgcolor": "white",
          "plot_bgcolor": "#E5ECF6",
          "polar": {
           "angularaxis": {
            "gridcolor": "white",
            "linecolor": "white",
            "ticks": ""
           },
           "bgcolor": "#E5ECF6",
           "radialaxis": {
            "gridcolor": "white",
            "linecolor": "white",
            "ticks": ""
           }
          },
          "scene": {
           "xaxis": {
            "backgroundcolor": "#E5ECF6",
            "gridcolor": "white",
            "gridwidth": 2,
            "linecolor": "white",
            "showbackground": true,
            "ticks": "",
            "zerolinecolor": "white"
           },
           "yaxis": {
            "backgroundcolor": "#E5ECF6",
            "gridcolor": "white",
            "gridwidth": 2,
            "linecolor": "white",
            "showbackground": true,
            "ticks": "",
            "zerolinecolor": "white"
           },
           "zaxis": {
            "backgroundcolor": "#E5ECF6",
            "gridcolor": "white",
            "gridwidth": 2,
            "linecolor": "white",
            "showbackground": true,
            "ticks": "",
            "zerolinecolor": "white"
           }
          },
          "shapedefaults": {
           "line": {
            "color": "#2a3f5f"
           }
          },
          "ternary": {
           "aaxis": {
            "gridcolor": "white",
            "linecolor": "white",
            "ticks": ""
           },
           "baxis": {
            "gridcolor": "white",
            "linecolor": "white",
            "ticks": ""
           },
           "bgcolor": "#E5ECF6",
           "caxis": {
            "gridcolor": "white",
            "linecolor": "white",
            "ticks": ""
           }
          },
          "title": {
           "x": 0.05
          },
          "xaxis": {
           "automargin": true,
           "gridcolor": "white",
           "linecolor": "white",
           "ticks": "",
           "title": {
            "standoff": 15
           },
           "zerolinecolor": "white",
           "zerolinewidth": 2
          },
          "yaxis": {
           "automargin": true,
           "gridcolor": "white",
           "linecolor": "white",
           "ticks": "",
           "title": {
            "standoff": 15
           },
           "zerolinecolor": "white",
           "zerolinewidth": 2
          }
         }
        },
        "xaxis": {
         "gridcolor": "#dddcda",
         "tickmode": "array",
         "ticktext": [
          "enero-2024",
          "febrero-2024",
          "marzo-2024",
          "mayo-2024",
          "junio-2024",
          "julio-2024",
          "agosto-2024",
          "septiembre-2024",
          "octubre-2024",
          "noviembre-2024",
          "diciembre-2024",
          "enero-2025",
          "febrero-2025",
          "marzo-2025",
          "abril-2025",
          "mayo-2025",
          "junio-2025",
          "julio-2025",
          "agosto-2025",
          "septiembre-2025",
          "octubre-2025",
          "noviembre-2025",
          "diciembre-2025",
          "enero-2026",
          "febrero-2026",
          "marzo-2026",
          "abril-2026",
          "mayo-2026",
          "junio-2026",
          "julio-2026",
          "agosto-2026",
          "septiembre-2026",
          "octubre-2026",
          "noviembre-2026",
          "diciembre-2026"
         ],
         "tickvals": [
          "enero-2024",
          "febrero-2024",
          "marzo-2024",
          "mayo-2024",
          "junio-2024",
          "julio-2024",
          "agosto-2024",
          "septiembre-2024",
          "octubre-2024",
          "noviembre-2024",
          "diciembre-2024",
          "enero-2025",
          "febrero-2025",
          "marzo-2025",
          "abril-2025",
          "mayo-2025",
          "junio-2025",
          "julio-2025",
          "agosto-2025",
          "septiembre-2025",
          "octubre-2025",
          "noviembre-2025",
          "diciembre-2025",
          "enero-2026",
          "febrero-2026",
          "marzo-2026",
          "abril-2026",
          "mayo-2026",
          "junio-2026",
          "julio-2026",
          "agosto-2026",
          "septiembre-2026",
          "octubre-2026",
          "noviembre-2026",
          "diciembre-2026"
         ]
        },
        "yaxis": {
         "gridcolor": "#dddcda",
         "gridwidth": 1,
         "title": {
          "text": "Monto"
         }
        }
       }
      }
     },
     "metadata": {},
     "output_type": "display_data"
    }
   ],
   "source": [
    "# Datos\n",
    "año = nueva_conteo_pachuca['label']\n",
    "promedio = nueva_conteo_pachuca['precio_promedio']\n",
    "\n",
    "# Crear una función para formatear los valores grandes en palabras en español\n",
    "def formatear_numero(valor):\n",
    "    if valor >= 1_000_000_000_000:\n",
    "        return f'{valor / 1_000_000_000:.2f} billones'\n",
    "    elif valor >= 1_000_000_000:\n",
    "        return f'{valor / 1_000_000_000:.0f} mil millones'  # Mil millones\n",
    "    elif valor >= 1_000_000:\n",
    "        return f'{valor / 1_000_000:.0f} millones'  # Millones\n",
    "    elif valor >= 1_000:\n",
    "        return f'{valor / 1_000:.0f} mil'  # Mil\n",
    "    else:\n",
    "        return str(valor)\n",
    "# Configurar los valores y el texto del eje Y\n",
    "tickvals = [4150000000000, 4160000000000, 4170000000000]\n",
    "ticktext = [formatear_numero(val) for val in tickvals]\n",
    "\n",
    "fig = go.Figure()\n",
    "fig.add_trace(go.Scatter(\n",
    "    x=año,\n",
    "    y=promedio,\n",
    "    mode='markers+lines',\n",
    "    marker=dict(color='blue'),\n",
    "))\n",
    "# Agregar anotaciones para mostrar los valores encima de los puntos\n",
    "for a, p in zip(año, promedio):\n",
    "    fig.add_annotation(\n",
    "        x=a,\n",
    "        y=p,\n",
    "        text=f\"${p:,.2f}\",  # Formatear el valor del promedio como moneda\n",
    "        showarrow=False,\n",
    "        font=dict(color='black', size=12),\n",
    "        xshift=0,\n",
    "        yshift=17,\n",
    "        textangle=0\n",
    "    )\n",
    "# Actualizar diseño\n",
    "fig.update_layout(\n",
    "    #title='Plusvalía estimada',   \n",
    "    yaxis=dict(\n",
    "        title=\"Monto\",\n",
    "        gridwidth=1,  # Ancho de las líneas de la cuadrícula\n",
    "        gridcolor='#dddcda', \n",
    "\n",
    "    ),\n",
    "    xaxis=dict(\n",
    "        gridcolor='#dddcda', \n",
    "        tickmode='array',\n",
    "        tickvals=año,\n",
    "        ticktext=año\n",
    "    ),\n",
    "    plot_bgcolor='rgba(0,0,0,0)',\n",
    "        margin=dict(l=10, r=10, t=10, b=10)\n",
    "\n",
    ")\n",
    "# Exportar gráfica como archivo HTML\n",
    "def guardar_grafico_como_html(fig, nombre_archivo, carpeta='graficas'):\n",
    "    # Crear la carpeta si no existe\n",
    "    if not os.path.exists(carpeta):\n",
    "        os.makedirs(carpeta)\n",
    "    \n",
    "    # Gráfica como archivo HTML en la carpeta especificada\n",
    "    pio.write_html(fig, f'{carpeta}/{nombre_archivo}.html')\n",
    "\n",
    "guardar_grafico_como_html(fig, 'g_scatt_plusvaliaestimada', carpeta='graficas')\n",
    "fig.show()"
   ]
  },
  {
   "cell_type": "markdown",
   "metadata": {},
   "source": [
    "# Plusvalía *PROMEDIO*"
   ]
  },
  {
   "cell_type": "code",
   "execution_count": 16,
   "metadata": {},
   "outputs": [
    {
     "name": "stderr",
     "output_type": "stream",
     "text": [
      "C:\\Users\\yoe11\\AppData\\Local\\Temp\\ipykernel_3768\\3103264345.py:8: FutureWarning:\n",
      "\n",
      "A value is trying to be set on a copy of a DataFrame or Series through chained assignment using an inplace method.\n",
      "The behavior will change in pandas 3.0. This inplace method will never work because the intermediate object on which we are setting values always behaves as a copy.\n",
      "\n",
      "For example, when doing 'df[col].method(value, inplace=True)', try using 'df.method({col: value}, inplace=True)' or df[col] = df[col].method(value) instead, to perform the operation inplace on the original object.\n",
      "\n",
      "\n",
      "\n"
     ]
    },
    {
     "data": {
      "text/html": [
       "<div>\n",
       "<style scoped>\n",
       "    .dataframe tbody tr th:only-of-type {\n",
       "        vertical-align: middle;\n",
       "    }\n",
       "\n",
       "    .dataframe tbody tr th {\n",
       "        vertical-align: top;\n",
       "    }\n",
       "\n",
       "    .dataframe thead th {\n",
       "        text-align: right;\n",
       "    }\n",
       "</style>\n",
       "<table border=\"1\" class=\"dataframe\">\n",
       "  <thead>\n",
       "    <tr style=\"text-align: right;\">\n",
       "      <th></th>\n",
       "      <th>precio_promedio</th>\n",
       "      <th>mes</th>\n",
       "      <th>año</th>\n",
       "      <th>incremento_anual</th>\n",
       "    </tr>\n",
       "  </thead>\n",
       "  <tbody>\n",
       "    <tr>\n",
       "      <th>0</th>\n",
       "      <td>3.338049e+06</td>\n",
       "      <td>8</td>\n",
       "      <td>2024</td>\n",
       "      <td>0.0</td>\n",
       "    </tr>\n",
       "    <tr>\n",
       "      <th>1</th>\n",
       "      <td>3.289913e+06</td>\n",
       "      <td>2</td>\n",
       "      <td>2024</td>\n",
       "      <td>-1.0</td>\n",
       "    </tr>\n",
       "    <tr>\n",
       "      <th>2</th>\n",
       "      <td>3.395784e+06</td>\n",
       "      <td>7</td>\n",
       "      <td>2024</td>\n",
       "      <td>3.0</td>\n",
       "    </tr>\n",
       "    <tr>\n",
       "      <th>3</th>\n",
       "      <td>3.212817e+06</td>\n",
       "      <td>6</td>\n",
       "      <td>2024</td>\n",
       "      <td>-5.0</td>\n",
       "    </tr>\n",
       "    <tr>\n",
       "      <th>4</th>\n",
       "      <td>3.374739e+06</td>\n",
       "      <td>3</td>\n",
       "      <td>2024</td>\n",
       "      <td>5.0</td>\n",
       "    </tr>\n",
       "  </tbody>\n",
       "</table>\n",
       "</div>"
      ],
      "text/plain": [
       "   precio_promedio mes   año  incremento_anual\n",
       "0     3.338049e+06   8  2024               0.0\n",
       "1     3.289913e+06   2  2024              -1.0\n",
       "2     3.395784e+06   7  2024               3.0\n",
       "3     3.212817e+06   6  2024              -5.0\n",
       "4     3.374739e+06   3  2024               5.0"
      ]
     },
     "execution_count": 16,
     "metadata": {},
     "output_type": "execute_result"
    }
   ],
   "source": [
    "# Ordenar el DataFrame por año\n",
    "df_resultados = df_resultados.sort_values(by='año').reset_index(drop=True)\n",
    "\n",
    "# Calcular el cambio porcentual anual en la columna 'precio_promedio'\n",
    "df_resultados['incremento_anual'] = df_resultados['precio_promedio'].pct_change().round(2) * 100\n",
    "\n",
    "# Rellenar con 0 en el primer año, ya que no tiene año anterior para calcular el cambio\n",
    "df_resultados['incremento_anual'].fillna(0, inplace=True)\n",
    "\n",
    "# Mostrar el resultado\n",
    "df_resultados.head()\n"
   ]
  },
  {
   "cell_type": "code",
   "execution_count": 17,
   "metadata": {},
   "outputs": [
    {
     "data": {
      "text/plain": [
       "np.float64(-0.3333333333333333)"
      ]
     },
     "execution_count": 17,
     "metadata": {},
     "output_type": "execute_result"
    }
   ],
   "source": [
    "dfsg = df_resultados[df_resultados['año']==2024]\n",
    "dfsg['incremento_anual'].mean()"
   ]
  },
  {
   "cell_type": "code",
   "execution_count": 18,
   "metadata": {},
   "outputs": [
    {
     "data": {
      "text/html": [
       "<style>#sk-container-id-3 {\n",
       "  /* Definition of color scheme common for light and dark mode */\n",
       "  --sklearn-color-text: black;\n",
       "  --sklearn-color-line: gray;\n",
       "  /* Definition of color scheme for unfitted estimators */\n",
       "  --sklearn-color-unfitted-level-0: #fff5e6;\n",
       "  --sklearn-color-unfitted-level-1: #f6e4d2;\n",
       "  --sklearn-color-unfitted-level-2: #ffe0b3;\n",
       "  --sklearn-color-unfitted-level-3: chocolate;\n",
       "  /* Definition of color scheme for fitted estimators */\n",
       "  --sklearn-color-fitted-level-0: #f0f8ff;\n",
       "  --sklearn-color-fitted-level-1: #d4ebff;\n",
       "  --sklearn-color-fitted-level-2: #b3dbfd;\n",
       "  --sklearn-color-fitted-level-3: cornflowerblue;\n",
       "\n",
       "  /* Specific color for light theme */\n",
       "  --sklearn-color-text-on-default-background: var(--sg-text-color, var(--theme-code-foreground, var(--jp-content-font-color1, black)));\n",
       "  --sklearn-color-background: var(--sg-background-color, var(--theme-background, var(--jp-layout-color0, white)));\n",
       "  --sklearn-color-border-box: var(--sg-text-color, var(--theme-code-foreground, var(--jp-content-font-color1, black)));\n",
       "  --sklearn-color-icon: #696969;\n",
       "\n",
       "  @media (prefers-color-scheme: dark) {\n",
       "    /* Redefinition of color scheme for dark theme */\n",
       "    --sklearn-color-text-on-default-background: var(--sg-text-color, var(--theme-code-foreground, var(--jp-content-font-color1, white)));\n",
       "    --sklearn-color-background: var(--sg-background-color, var(--theme-background, var(--jp-layout-color0, #111)));\n",
       "    --sklearn-color-border-box: var(--sg-text-color, var(--theme-code-foreground, var(--jp-content-font-color1, white)));\n",
       "    --sklearn-color-icon: #878787;\n",
       "  }\n",
       "}\n",
       "\n",
       "#sk-container-id-3 {\n",
       "  color: var(--sklearn-color-text);\n",
       "}\n",
       "\n",
       "#sk-container-id-3 pre {\n",
       "  padding: 0;\n",
       "}\n",
       "\n",
       "#sk-container-id-3 input.sk-hidden--visually {\n",
       "  border: 0;\n",
       "  clip: rect(1px 1px 1px 1px);\n",
       "  clip: rect(1px, 1px, 1px, 1px);\n",
       "  height: 1px;\n",
       "  margin: -1px;\n",
       "  overflow: hidden;\n",
       "  padding: 0;\n",
       "  position: absolute;\n",
       "  width: 1px;\n",
       "}\n",
       "\n",
       "#sk-container-id-3 div.sk-dashed-wrapped {\n",
       "  border: 1px dashed var(--sklearn-color-line);\n",
       "  margin: 0 0.4em 0.5em 0.4em;\n",
       "  box-sizing: border-box;\n",
       "  padding-bottom: 0.4em;\n",
       "  background-color: var(--sklearn-color-background);\n",
       "}\n",
       "\n",
       "#sk-container-id-3 div.sk-container {\n",
       "  /* jupyter's `normalize.less` sets `[hidden] { display: none; }`\n",
       "     but bootstrap.min.css set `[hidden] { display: none !important; }`\n",
       "     so we also need the `!important` here to be able to override the\n",
       "     default hidden behavior on the sphinx rendered scikit-learn.org.\n",
       "     See: https://github.com/scikit-learn/scikit-learn/issues/21755 */\n",
       "  display: inline-block !important;\n",
       "  position: relative;\n",
       "}\n",
       "\n",
       "#sk-container-id-3 div.sk-text-repr-fallback {\n",
       "  display: none;\n",
       "}\n",
       "\n",
       "div.sk-parallel-item,\n",
       "div.sk-serial,\n",
       "div.sk-item {\n",
       "  /* draw centered vertical line to link estimators */\n",
       "  background-image: linear-gradient(var(--sklearn-color-text-on-default-background), var(--sklearn-color-text-on-default-background));\n",
       "  background-size: 2px 100%;\n",
       "  background-repeat: no-repeat;\n",
       "  background-position: center center;\n",
       "}\n",
       "\n",
       "/* Parallel-specific style estimator block */\n",
       "\n",
       "#sk-container-id-3 div.sk-parallel-item::after {\n",
       "  content: \"\";\n",
       "  width: 100%;\n",
       "  border-bottom: 2px solid var(--sklearn-color-text-on-default-background);\n",
       "  flex-grow: 1;\n",
       "}\n",
       "\n",
       "#sk-container-id-3 div.sk-parallel {\n",
       "  display: flex;\n",
       "  align-items: stretch;\n",
       "  justify-content: center;\n",
       "  background-color: var(--sklearn-color-background);\n",
       "  position: relative;\n",
       "}\n",
       "\n",
       "#sk-container-id-3 div.sk-parallel-item {\n",
       "  display: flex;\n",
       "  flex-direction: column;\n",
       "}\n",
       "\n",
       "#sk-container-id-3 div.sk-parallel-item:first-child::after {\n",
       "  align-self: flex-end;\n",
       "  width: 50%;\n",
       "}\n",
       "\n",
       "#sk-container-id-3 div.sk-parallel-item:last-child::after {\n",
       "  align-self: flex-start;\n",
       "  width: 50%;\n",
       "}\n",
       "\n",
       "#sk-container-id-3 div.sk-parallel-item:only-child::after {\n",
       "  width: 0;\n",
       "}\n",
       "\n",
       "/* Serial-specific style estimator block */\n",
       "\n",
       "#sk-container-id-3 div.sk-serial {\n",
       "  display: flex;\n",
       "  flex-direction: column;\n",
       "  align-items: center;\n",
       "  background-color: var(--sklearn-color-background);\n",
       "  padding-right: 1em;\n",
       "  padding-left: 1em;\n",
       "}\n",
       "\n",
       "\n",
       "/* Toggleable style: style used for estimator/Pipeline/ColumnTransformer box that is\n",
       "clickable and can be expanded/collapsed.\n",
       "- Pipeline and ColumnTransformer use this feature and define the default style\n",
       "- Estimators will overwrite some part of the style using the `sk-estimator` class\n",
       "*/\n",
       "\n",
       "/* Pipeline and ColumnTransformer style (default) */\n",
       "\n",
       "#sk-container-id-3 div.sk-toggleable {\n",
       "  /* Default theme specific background. It is overwritten whether we have a\n",
       "  specific estimator or a Pipeline/ColumnTransformer */\n",
       "  background-color: var(--sklearn-color-background);\n",
       "}\n",
       "\n",
       "/* Toggleable label */\n",
       "#sk-container-id-3 label.sk-toggleable__label {\n",
       "  cursor: pointer;\n",
       "  display: block;\n",
       "  width: 100%;\n",
       "  margin-bottom: 0;\n",
       "  padding: 0.5em;\n",
       "  box-sizing: border-box;\n",
       "  text-align: center;\n",
       "}\n",
       "\n",
       "#sk-container-id-3 label.sk-toggleable__label-arrow:before {\n",
       "  /* Arrow on the left of the label */\n",
       "  content: \"▸\";\n",
       "  float: left;\n",
       "  margin-right: 0.25em;\n",
       "  color: var(--sklearn-color-icon);\n",
       "}\n",
       "\n",
       "#sk-container-id-3 label.sk-toggleable__label-arrow:hover:before {\n",
       "  color: var(--sklearn-color-text);\n",
       "}\n",
       "\n",
       "/* Toggleable content - dropdown */\n",
       "\n",
       "#sk-container-id-3 div.sk-toggleable__content {\n",
       "  max-height: 0;\n",
       "  max-width: 0;\n",
       "  overflow: hidden;\n",
       "  text-align: left;\n",
       "  /* unfitted */\n",
       "  background-color: var(--sklearn-color-unfitted-level-0);\n",
       "}\n",
       "\n",
       "#sk-container-id-3 div.sk-toggleable__content.fitted {\n",
       "  /* fitted */\n",
       "  background-color: var(--sklearn-color-fitted-level-0);\n",
       "}\n",
       "\n",
       "#sk-container-id-3 div.sk-toggleable__content pre {\n",
       "  margin: 0.2em;\n",
       "  border-radius: 0.25em;\n",
       "  color: var(--sklearn-color-text);\n",
       "  /* unfitted */\n",
       "  background-color: var(--sklearn-color-unfitted-level-0);\n",
       "}\n",
       "\n",
       "#sk-container-id-3 div.sk-toggleable__content.fitted pre {\n",
       "  /* unfitted */\n",
       "  background-color: var(--sklearn-color-fitted-level-0);\n",
       "}\n",
       "\n",
       "#sk-container-id-3 input.sk-toggleable__control:checked~div.sk-toggleable__content {\n",
       "  /* Expand drop-down */\n",
       "  max-height: 200px;\n",
       "  max-width: 100%;\n",
       "  overflow: auto;\n",
       "}\n",
       "\n",
       "#sk-container-id-3 input.sk-toggleable__control:checked~label.sk-toggleable__label-arrow:before {\n",
       "  content: \"▾\";\n",
       "}\n",
       "\n",
       "/* Pipeline/ColumnTransformer-specific style */\n",
       "\n",
       "#sk-container-id-3 div.sk-label input.sk-toggleable__control:checked~label.sk-toggleable__label {\n",
       "  color: var(--sklearn-color-text);\n",
       "  background-color: var(--sklearn-color-unfitted-level-2);\n",
       "}\n",
       "\n",
       "#sk-container-id-3 div.sk-label.fitted input.sk-toggleable__control:checked~label.sk-toggleable__label {\n",
       "  background-color: var(--sklearn-color-fitted-level-2);\n",
       "}\n",
       "\n",
       "/* Estimator-specific style */\n",
       "\n",
       "/* Colorize estimator box */\n",
       "#sk-container-id-3 div.sk-estimator input.sk-toggleable__control:checked~label.sk-toggleable__label {\n",
       "  /* unfitted */\n",
       "  background-color: var(--sklearn-color-unfitted-level-2);\n",
       "}\n",
       "\n",
       "#sk-container-id-3 div.sk-estimator.fitted input.sk-toggleable__control:checked~label.sk-toggleable__label {\n",
       "  /* fitted */\n",
       "  background-color: var(--sklearn-color-fitted-level-2);\n",
       "}\n",
       "\n",
       "#sk-container-id-3 div.sk-label label.sk-toggleable__label,\n",
       "#sk-container-id-3 div.sk-label label {\n",
       "  /* The background is the default theme color */\n",
       "  color: var(--sklearn-color-text-on-default-background);\n",
       "}\n",
       "\n",
       "/* On hover, darken the color of the background */\n",
       "#sk-container-id-3 div.sk-label:hover label.sk-toggleable__label {\n",
       "  color: var(--sklearn-color-text);\n",
       "  background-color: var(--sklearn-color-unfitted-level-2);\n",
       "}\n",
       "\n",
       "/* Label box, darken color on hover, fitted */\n",
       "#sk-container-id-3 div.sk-label.fitted:hover label.sk-toggleable__label.fitted {\n",
       "  color: var(--sklearn-color-text);\n",
       "  background-color: var(--sklearn-color-fitted-level-2);\n",
       "}\n",
       "\n",
       "/* Estimator label */\n",
       "\n",
       "#sk-container-id-3 div.sk-label label {\n",
       "  font-family: monospace;\n",
       "  font-weight: bold;\n",
       "  display: inline-block;\n",
       "  line-height: 1.2em;\n",
       "}\n",
       "\n",
       "#sk-container-id-3 div.sk-label-container {\n",
       "  text-align: center;\n",
       "}\n",
       "\n",
       "/* Estimator-specific */\n",
       "#sk-container-id-3 div.sk-estimator {\n",
       "  font-family: monospace;\n",
       "  border: 1px dotted var(--sklearn-color-border-box);\n",
       "  border-radius: 0.25em;\n",
       "  box-sizing: border-box;\n",
       "  margin-bottom: 0.5em;\n",
       "  /* unfitted */\n",
       "  background-color: var(--sklearn-color-unfitted-level-0);\n",
       "}\n",
       "\n",
       "#sk-container-id-3 div.sk-estimator.fitted {\n",
       "  /* fitted */\n",
       "  background-color: var(--sklearn-color-fitted-level-0);\n",
       "}\n",
       "\n",
       "/* on hover */\n",
       "#sk-container-id-3 div.sk-estimator:hover {\n",
       "  /* unfitted */\n",
       "  background-color: var(--sklearn-color-unfitted-level-2);\n",
       "}\n",
       "\n",
       "#sk-container-id-3 div.sk-estimator.fitted:hover {\n",
       "  /* fitted */\n",
       "  background-color: var(--sklearn-color-fitted-level-2);\n",
       "}\n",
       "\n",
       "/* Specification for estimator info (e.g. \"i\" and \"?\") */\n",
       "\n",
       "/* Common style for \"i\" and \"?\" */\n",
       "\n",
       ".sk-estimator-doc-link,\n",
       "a:link.sk-estimator-doc-link,\n",
       "a:visited.sk-estimator-doc-link {\n",
       "  float: right;\n",
       "  font-size: smaller;\n",
       "  line-height: 1em;\n",
       "  font-family: monospace;\n",
       "  background-color: var(--sklearn-color-background);\n",
       "  border-radius: 1em;\n",
       "  height: 1em;\n",
       "  width: 1em;\n",
       "  text-decoration: none !important;\n",
       "  margin-left: 1ex;\n",
       "  /* unfitted */\n",
       "  border: var(--sklearn-color-unfitted-level-1) 1pt solid;\n",
       "  color: var(--sklearn-color-unfitted-level-1);\n",
       "}\n",
       "\n",
       ".sk-estimator-doc-link.fitted,\n",
       "a:link.sk-estimator-doc-link.fitted,\n",
       "a:visited.sk-estimator-doc-link.fitted {\n",
       "  /* fitted */\n",
       "  border: var(--sklearn-color-fitted-level-1) 1pt solid;\n",
       "  color: var(--sklearn-color-fitted-level-1);\n",
       "}\n",
       "\n",
       "/* On hover */\n",
       "div.sk-estimator:hover .sk-estimator-doc-link:hover,\n",
       ".sk-estimator-doc-link:hover,\n",
       "div.sk-label-container:hover .sk-estimator-doc-link:hover,\n",
       ".sk-estimator-doc-link:hover {\n",
       "  /* unfitted */\n",
       "  background-color: var(--sklearn-color-unfitted-level-3);\n",
       "  color: var(--sklearn-color-background);\n",
       "  text-decoration: none;\n",
       "}\n",
       "\n",
       "div.sk-estimator.fitted:hover .sk-estimator-doc-link.fitted:hover,\n",
       ".sk-estimator-doc-link.fitted:hover,\n",
       "div.sk-label-container:hover .sk-estimator-doc-link.fitted:hover,\n",
       ".sk-estimator-doc-link.fitted:hover {\n",
       "  /* fitted */\n",
       "  background-color: var(--sklearn-color-fitted-level-3);\n",
       "  color: var(--sklearn-color-background);\n",
       "  text-decoration: none;\n",
       "}\n",
       "\n",
       "/* Span, style for the box shown on hovering the info icon */\n",
       ".sk-estimator-doc-link span {\n",
       "  display: none;\n",
       "  z-index: 9999;\n",
       "  position: relative;\n",
       "  font-weight: normal;\n",
       "  right: .2ex;\n",
       "  padding: .5ex;\n",
       "  margin: .5ex;\n",
       "  width: min-content;\n",
       "  min-width: 20ex;\n",
       "  max-width: 50ex;\n",
       "  color: var(--sklearn-color-text);\n",
       "  box-shadow: 2pt 2pt 4pt #999;\n",
       "  /* unfitted */\n",
       "  background: var(--sklearn-color-unfitted-level-0);\n",
       "  border: .5pt solid var(--sklearn-color-unfitted-level-3);\n",
       "}\n",
       "\n",
       ".sk-estimator-doc-link.fitted span {\n",
       "  /* fitted */\n",
       "  background: var(--sklearn-color-fitted-level-0);\n",
       "  border: var(--sklearn-color-fitted-level-3);\n",
       "}\n",
       "\n",
       ".sk-estimator-doc-link:hover span {\n",
       "  display: block;\n",
       "}\n",
       "\n",
       "/* \"?\"-specific style due to the `<a>` HTML tag */\n",
       "\n",
       "#sk-container-id-3 a.estimator_doc_link {\n",
       "  float: right;\n",
       "  font-size: 1rem;\n",
       "  line-height: 1em;\n",
       "  font-family: monospace;\n",
       "  background-color: var(--sklearn-color-background);\n",
       "  border-radius: 1rem;\n",
       "  height: 1rem;\n",
       "  width: 1rem;\n",
       "  text-decoration: none;\n",
       "  /* unfitted */\n",
       "  color: var(--sklearn-color-unfitted-level-1);\n",
       "  border: var(--sklearn-color-unfitted-level-1) 1pt solid;\n",
       "}\n",
       "\n",
       "#sk-container-id-3 a.estimator_doc_link.fitted {\n",
       "  /* fitted */\n",
       "  border: var(--sklearn-color-fitted-level-1) 1pt solid;\n",
       "  color: var(--sklearn-color-fitted-level-1);\n",
       "}\n",
       "\n",
       "/* On hover */\n",
       "#sk-container-id-3 a.estimator_doc_link:hover {\n",
       "  /* unfitted */\n",
       "  background-color: var(--sklearn-color-unfitted-level-3);\n",
       "  color: var(--sklearn-color-background);\n",
       "  text-decoration: none;\n",
       "}\n",
       "\n",
       "#sk-container-id-3 a.estimator_doc_link.fitted:hover {\n",
       "  /* fitted */\n",
       "  background-color: var(--sklearn-color-fitted-level-3);\n",
       "}\n",
       "</style><div id=\"sk-container-id-3\" class=\"sk-top-container\"><div class=\"sk-text-repr-fallback\"><pre>LinearRegression()</pre><b>In a Jupyter environment, please rerun this cell to show the HTML representation or trust the notebook. <br />On GitHub, the HTML representation is unable to render, please try loading this page with nbviewer.org.</b></div><div class=\"sk-container\" hidden><div class=\"sk-item\"><div class=\"sk-estimator fitted sk-toggleable\"><input class=\"sk-toggleable__control sk-hidden--visually\" id=\"sk-estimator-id-3\" type=\"checkbox\" checked><label for=\"sk-estimator-id-3\" class=\"sk-toggleable__label fitted sk-toggleable__label-arrow fitted\">&nbsp;&nbsp;LinearRegression<a class=\"sk-estimator-doc-link fitted\" rel=\"noreferrer\" target=\"_blank\" href=\"https://scikit-learn.org/1.5/modules/generated/sklearn.linear_model.LinearRegression.html\">?<span>Documentation for LinearRegression</span></a><span class=\"sk-estimator-doc-link fitted\">i<span>Fitted</span></span></label><div class=\"sk-toggleable__content fitted\"><pre>LinearRegression()</pre></div> </div></div></div></div>"
      ],
      "text/plain": [
       "LinearRegression()"
      ]
     },
     "execution_count": 18,
     "metadata": {},
     "output_type": "execute_result"
    }
   ],
   "source": [
    "from sklearn.model_selection import train_test_split\n",
    "from sklearn.linear_model import LinearRegression\n",
    "from sklearn.preprocessing import MinMaxScaler\n",
    "\n",
    "# Preparar datos para el modelo\n",
    "X = df_resultados[['año', 'mes']]\n",
    "y = df_resultados['incremento_anual']\n",
    "\n",
    "# Normalizar los datos de X\n",
    "scaler = MinMaxScaler()\n",
    "X_scaled = scaler.fit_transform(X)\n",
    "\n",
    "# Dividir los datos escalados en conjuntos de entrenamiento y prueba\n",
    "X_train, X_test, y_train, y_test = train_test_split(X_scaled, y, test_size=0.2, random_state=42)\n",
    "\n",
    "# Inicializar y entrenar el modelo de regresión lineal con datos escalados\n",
    "modelo = LinearRegression()\n",
    "modelo.fit(X_train, y_train)"
   ]
  },
  {
   "cell_type": "code",
   "execution_count": 19,
   "metadata": {},
   "outputs": [
    {
     "name": "stderr",
     "output_type": "stream",
     "text": [
      "c:\\Users\\yoe11\\anaconda3\\envs\\newst\\Lib\\site-packages\\sklearn\\base.py:486: UserWarning:\n",
      "\n",
      "X has feature names, but LinearRegression was fitted without feature names\n",
      "\n"
     ]
    },
    {
     "data": {
      "text/html": [
       "<div>\n",
       "<style scoped>\n",
       "    .dataframe tbody tr th:only-of-type {\n",
       "        vertical-align: middle;\n",
       "    }\n",
       "\n",
       "    .dataframe tbody tr th {\n",
       "        vertical-align: top;\n",
       "    }\n",
       "\n",
       "    .dataframe thead th {\n",
       "        text-align: right;\n",
       "    }\n",
       "</style>\n",
       "<table border=\"1\" class=\"dataframe\">\n",
       "  <thead>\n",
       "    <tr style=\"text-align: right;\">\n",
       "      <th></th>\n",
       "      <th>año</th>\n",
       "      <th>incremento_anual</th>\n",
       "    </tr>\n",
       "  </thead>\n",
       "  <tbody>\n",
       "    <tr>\n",
       "      <th>0</th>\n",
       "      <td>2024</td>\n",
       "      <td>-24.2</td>\n",
       "    </tr>\n",
       "    <tr>\n",
       "      <th>1</th>\n",
       "      <td>2025</td>\n",
       "      <td>-36.0</td>\n",
       "    </tr>\n",
       "    <tr>\n",
       "      <th>2</th>\n",
       "      <td>2026</td>\n",
       "      <td>-36.0</td>\n",
       "    </tr>\n",
       "  </tbody>\n",
       "</table>\n",
       "</div>"
      ],
      "text/plain": [
       "    año  incremento_anual\n",
       "0  2024             -24.2\n",
       "1  2025             -36.0\n",
       "2  2026             -36.0"
      ]
     },
     "execution_count": 19,
     "metadata": {},
     "output_type": "execute_result"
    }
   ],
   "source": [
    "# DF con todas las combinaciones posibles de año y mes para 2023 FALTANTES (AUG-DEC)\n",
    "fechas_2023 = pd.DataFrame({'año': np.repeat(2024, 4),\n",
    "                            'mes': range(9, 13)})\n",
    "\n",
    "# DF con todas las combinaciones posibles de año y mes para 2024-2026\n",
    "fechas_2024_2026 = pd.DataFrame({'año': np.repeat(range(2025, 2027), 12),\n",
    "                                  'mes': np.tile(range(1, 13), 2)})\n",
    "                                  \n",
    "nuevas_fechas = pd.concat([fechas_2023, fechas_2024_2026]) # Concatenamos \n",
    "# Realizamos predicciones con el modelo entrenado\n",
    "predicciones = modelo.predict(nuevas_fechas[['año', 'mes']])  # Asegurarse de que se están pasando las columnas correctas\n",
    "\n",
    "# Redondear las predicciones a números enteros\n",
    "predicciones_enteros = np.round(predicciones).astype(int)\n",
    "\n",
    "# Limitar las predicciones a un máximo de 100%\n",
    "predicciones_enteros = np.where(predicciones_enteros > 100, 100, predicciones_enteros)\n",
    "\n",
    "# Agregamos las predicciones redondeadas al DataFrame de nuevas fechas\n",
    "nuevas_fechas['incremento_anual'] = predicciones_enteros\n",
    "\n",
    "nueva_conteo_pachuca = pd.concat([df_resultados, nuevas_fechas], ignore_index=True)\n",
    "nueva_conteo_pachuca = nueva_conteo_pachuca.groupby('año')['incremento_anual'].mean().reset_index()\n",
    "# Agregar una nueva columna 'vivienda' con el valor 'Usada'\n",
    "nueva_conteo_pachuca.head()"
   ]
  },
  {
   "cell_type": "markdown",
   "metadata": {},
   "source": [
    "# Plusvalía *ESTIMADA* [Mensual]"
   ]
  },
  {
   "cell_type": "code",
   "execution_count": 20,
   "metadata": {},
   "outputs": [
    {
     "name": "stdout",
     "output_type": "stream",
     "text": [
      "    precio_promedio mes   año\n",
      "0      3.338049e+06   8  2024\n",
      "1      3.289913e+06   2  2024\n",
      "2      3.395784e+06   7  2024\n",
      "3      3.212817e+06   6  2024\n",
      "4      3.374739e+06   3  2024\n",
      "5      3.224496e+06   5  2024\n",
      "6      9.800427e+05   2  2023\n",
      "7      9.766772e+05   7  2023\n",
      "8      9.864817e+05   6  2023\n",
      "9      9.774028e+05   3  2023\n",
      "10     9.740661e+05  11  2022\n",
      "11     9.769314e+05  10  2022\n",
      "12     9.881478e+05   9  2023\n"
     ]
    },
    {
     "name": "stderr",
     "output_type": "stream",
     "text": [
      "C:\\Users\\yoe11\\AppData\\Local\\Temp\\ipykernel_3768\\3462637469.py:36: FutureWarning:\n",
      "\n",
      "The behavior of DataFrame concatenation with empty or all-NA entries is deprecated. In a future version, this will no longer exclude empty or all-NA columns when determining the result dtypes. To retain the old behavior, exclude the relevant entries before the concat operation.\n",
      "\n"
     ]
    }
   ],
   "source": [
    "import re\n",
    "# Función para extraer mes y año del nombre del DataFrame\n",
    "def extraer_mes_y_ano(nombre):\n",
    "    # Expresión regular para capturar tanto meses completos como abreviados\n",
    "    match = re.search(r'(ene|feb|mar|abr|may|jun|jul|ago|sep|oct|nov|dic|enero|febrero|marzo|abril|mayo|junio|julio|agosto|septiembre|octubre|noviembre|diciembre)_(\\d{4})', nombre)\n",
    "    if match:\n",
    "        mes = match.group(1).lower()  # Mes en texto\n",
    "        ano = int(match.group(2))  # Año en formato numérico\n",
    "        return mes, ano\n",
    "    return None, None\n",
    "\n",
    "# Diccionario de traducción de meses de texto a números\n",
    "meses_dict = {\n",
    "    'ene': 1, 'feb': 2, 'mar': 3, 'abr': 4, 'may': 5, 'jun': 6,\n",
    "    'jul': 7, 'ago': 8, 'sep': 9, 'oct': 10, 'nov': 11, 'dic': 12,\n",
    "    'enero': 1, 'febrero': 2, 'marzo': 3, 'abril': 4, 'mayo': 5, 'junio': 6,\n",
    "    'julio': 7, 'agosto': 8, 'septiembre': 9, 'octubre': 10, 'noviembre': 11, 'diciembre': 12\n",
    "}\n",
    "\n",
    "# DataFrame para almacenar resultados\n",
    "df_resultados = pd.DataFrame(columns=['precio_promedio', 'mes', 'año'])\n",
    "\n",
    "for nombre_df in nombres_df_filtrados:\n",
    "    # Obtener el DataFrame por su nombre en el entorno\n",
    "    df = globals()[nombre_df]\n",
    "    \n",
    "    # Extraer mes y año del nombre del DataFrame\n",
    "    mes_str, ano = extraer_mes_y_ano(nombre_df)\n",
    "    \n",
    "    # Verificar que se haya extraído el mes y el año correctamente\n",
    "    if mes_str is not None and ano is not None:\n",
    "        mes = meses_dict.get(mes_str)  # Convertir el nombre del mes en su número correspondiente\n",
    "        \n",
    "        # Calcular el promedio del precio y añadir columnas de mes y año\n",
    "        precio_promedio = df['precio'].mean()  # Calcula el promedio del precio en el DataFrame actual\n",
    "        df_resultados = pd.concat([df_resultados, pd.DataFrame({'precio_promedio': [precio_promedio], 'mes': [mes], 'año': [ano]})], ignore_index=True)\n",
    "\n",
    "# Resultado final\n",
    "print(df_resultados)"
   ]
  },
  {
   "cell_type": "code",
   "execution_count": 21,
   "metadata": {},
   "outputs": [
    {
     "data": {
      "text/html": [
       "<div>\n",
       "<style scoped>\n",
       "    .dataframe tbody tr th:only-of-type {\n",
       "        vertical-align: middle;\n",
       "    }\n",
       "\n",
       "    .dataframe tbody tr th {\n",
       "        vertical-align: top;\n",
       "    }\n",
       "\n",
       "    .dataframe thead th {\n",
       "        text-align: right;\n",
       "    }\n",
       "</style>\n",
       "<table border=\"1\" class=\"dataframe\">\n",
       "  <thead>\n",
       "    <tr style=\"text-align: right;\">\n",
       "      <th></th>\n",
       "      <th>precio_promedio</th>\n",
       "      <th>mes</th>\n",
       "      <th>año</th>\n",
       "    </tr>\n",
       "  </thead>\n",
       "  <tbody>\n",
       "    <tr>\n",
       "      <th>0</th>\n",
       "      <td>3.338049e+06</td>\n",
       "      <td>8</td>\n",
       "      <td>2024</td>\n",
       "    </tr>\n",
       "    <tr>\n",
       "      <th>1</th>\n",
       "      <td>3.289913e+06</td>\n",
       "      <td>2</td>\n",
       "      <td>2024</td>\n",
       "    </tr>\n",
       "    <tr>\n",
       "      <th>2</th>\n",
       "      <td>3.395784e+06</td>\n",
       "      <td>7</td>\n",
       "      <td>2024</td>\n",
       "    </tr>\n",
       "    <tr>\n",
       "      <th>3</th>\n",
       "      <td>3.212817e+06</td>\n",
       "      <td>6</td>\n",
       "      <td>2024</td>\n",
       "    </tr>\n",
       "    <tr>\n",
       "      <th>4</th>\n",
       "      <td>3.374739e+06</td>\n",
       "      <td>3</td>\n",
       "      <td>2024</td>\n",
       "    </tr>\n",
       "    <tr>\n",
       "      <th>5</th>\n",
       "      <td>3.224496e+06</td>\n",
       "      <td>5</td>\n",
       "      <td>2024</td>\n",
       "    </tr>\n",
       "  </tbody>\n",
       "</table>\n",
       "</div>"
      ],
      "text/plain": [
       "   precio_promedio mes   año\n",
       "0     3.338049e+06   8  2024\n",
       "1     3.289913e+06   2  2024\n",
       "2     3.395784e+06   7  2024\n",
       "3     3.212817e+06   6  2024\n",
       "4     3.374739e+06   3  2024\n",
       "5     3.224496e+06   5  2024"
      ]
     },
     "execution_count": 21,
     "metadata": {},
     "output_type": "execute_result"
    }
   ],
   "source": [
    "df_resultados = df_resultados[~df_resultados['año'].isin([2022, 2023]) ]#& (df_resultados['mes'] != 4)]\n",
    "df_resultados"
   ]
  },
  {
   "cell_type": "code",
   "execution_count": 22,
   "metadata": {},
   "outputs": [
    {
     "data": {
      "text/html": [
       "<style>#sk-container-id-4 {\n",
       "  /* Definition of color scheme common for light and dark mode */\n",
       "  --sklearn-color-text: black;\n",
       "  --sklearn-color-line: gray;\n",
       "  /* Definition of color scheme for unfitted estimators */\n",
       "  --sklearn-color-unfitted-level-0: #fff5e6;\n",
       "  --sklearn-color-unfitted-level-1: #f6e4d2;\n",
       "  --sklearn-color-unfitted-level-2: #ffe0b3;\n",
       "  --sklearn-color-unfitted-level-3: chocolate;\n",
       "  /* Definition of color scheme for fitted estimators */\n",
       "  --sklearn-color-fitted-level-0: #f0f8ff;\n",
       "  --sklearn-color-fitted-level-1: #d4ebff;\n",
       "  --sklearn-color-fitted-level-2: #b3dbfd;\n",
       "  --sklearn-color-fitted-level-3: cornflowerblue;\n",
       "\n",
       "  /* Specific color for light theme */\n",
       "  --sklearn-color-text-on-default-background: var(--sg-text-color, var(--theme-code-foreground, var(--jp-content-font-color1, black)));\n",
       "  --sklearn-color-background: var(--sg-background-color, var(--theme-background, var(--jp-layout-color0, white)));\n",
       "  --sklearn-color-border-box: var(--sg-text-color, var(--theme-code-foreground, var(--jp-content-font-color1, black)));\n",
       "  --sklearn-color-icon: #696969;\n",
       "\n",
       "  @media (prefers-color-scheme: dark) {\n",
       "    /* Redefinition of color scheme for dark theme */\n",
       "    --sklearn-color-text-on-default-background: var(--sg-text-color, var(--theme-code-foreground, var(--jp-content-font-color1, white)));\n",
       "    --sklearn-color-background: var(--sg-background-color, var(--theme-background, var(--jp-layout-color0, #111)));\n",
       "    --sklearn-color-border-box: var(--sg-text-color, var(--theme-code-foreground, var(--jp-content-font-color1, white)));\n",
       "    --sklearn-color-icon: #878787;\n",
       "  }\n",
       "}\n",
       "\n",
       "#sk-container-id-4 {\n",
       "  color: var(--sklearn-color-text);\n",
       "}\n",
       "\n",
       "#sk-container-id-4 pre {\n",
       "  padding: 0;\n",
       "}\n",
       "\n",
       "#sk-container-id-4 input.sk-hidden--visually {\n",
       "  border: 0;\n",
       "  clip: rect(1px 1px 1px 1px);\n",
       "  clip: rect(1px, 1px, 1px, 1px);\n",
       "  height: 1px;\n",
       "  margin: -1px;\n",
       "  overflow: hidden;\n",
       "  padding: 0;\n",
       "  position: absolute;\n",
       "  width: 1px;\n",
       "}\n",
       "\n",
       "#sk-container-id-4 div.sk-dashed-wrapped {\n",
       "  border: 1px dashed var(--sklearn-color-line);\n",
       "  margin: 0 0.4em 0.5em 0.4em;\n",
       "  box-sizing: border-box;\n",
       "  padding-bottom: 0.4em;\n",
       "  background-color: var(--sklearn-color-background);\n",
       "}\n",
       "\n",
       "#sk-container-id-4 div.sk-container {\n",
       "  /* jupyter's `normalize.less` sets `[hidden] { display: none; }`\n",
       "     but bootstrap.min.css set `[hidden] { display: none !important; }`\n",
       "     so we also need the `!important` here to be able to override the\n",
       "     default hidden behavior on the sphinx rendered scikit-learn.org.\n",
       "     See: https://github.com/scikit-learn/scikit-learn/issues/21755 */\n",
       "  display: inline-block !important;\n",
       "  position: relative;\n",
       "}\n",
       "\n",
       "#sk-container-id-4 div.sk-text-repr-fallback {\n",
       "  display: none;\n",
       "}\n",
       "\n",
       "div.sk-parallel-item,\n",
       "div.sk-serial,\n",
       "div.sk-item {\n",
       "  /* draw centered vertical line to link estimators */\n",
       "  background-image: linear-gradient(var(--sklearn-color-text-on-default-background), var(--sklearn-color-text-on-default-background));\n",
       "  background-size: 2px 100%;\n",
       "  background-repeat: no-repeat;\n",
       "  background-position: center center;\n",
       "}\n",
       "\n",
       "/* Parallel-specific style estimator block */\n",
       "\n",
       "#sk-container-id-4 div.sk-parallel-item::after {\n",
       "  content: \"\";\n",
       "  width: 100%;\n",
       "  border-bottom: 2px solid var(--sklearn-color-text-on-default-background);\n",
       "  flex-grow: 1;\n",
       "}\n",
       "\n",
       "#sk-container-id-4 div.sk-parallel {\n",
       "  display: flex;\n",
       "  align-items: stretch;\n",
       "  justify-content: center;\n",
       "  background-color: var(--sklearn-color-background);\n",
       "  position: relative;\n",
       "}\n",
       "\n",
       "#sk-container-id-4 div.sk-parallel-item {\n",
       "  display: flex;\n",
       "  flex-direction: column;\n",
       "}\n",
       "\n",
       "#sk-container-id-4 div.sk-parallel-item:first-child::after {\n",
       "  align-self: flex-end;\n",
       "  width: 50%;\n",
       "}\n",
       "\n",
       "#sk-container-id-4 div.sk-parallel-item:last-child::after {\n",
       "  align-self: flex-start;\n",
       "  width: 50%;\n",
       "}\n",
       "\n",
       "#sk-container-id-4 div.sk-parallel-item:only-child::after {\n",
       "  width: 0;\n",
       "}\n",
       "\n",
       "/* Serial-specific style estimator block */\n",
       "\n",
       "#sk-container-id-4 div.sk-serial {\n",
       "  display: flex;\n",
       "  flex-direction: column;\n",
       "  align-items: center;\n",
       "  background-color: var(--sklearn-color-background);\n",
       "  padding-right: 1em;\n",
       "  padding-left: 1em;\n",
       "}\n",
       "\n",
       "\n",
       "/* Toggleable style: style used for estimator/Pipeline/ColumnTransformer box that is\n",
       "clickable and can be expanded/collapsed.\n",
       "- Pipeline and ColumnTransformer use this feature and define the default style\n",
       "- Estimators will overwrite some part of the style using the `sk-estimator` class\n",
       "*/\n",
       "\n",
       "/* Pipeline and ColumnTransformer style (default) */\n",
       "\n",
       "#sk-container-id-4 div.sk-toggleable {\n",
       "  /* Default theme specific background. It is overwritten whether we have a\n",
       "  specific estimator or a Pipeline/ColumnTransformer */\n",
       "  background-color: var(--sklearn-color-background);\n",
       "}\n",
       "\n",
       "/* Toggleable label */\n",
       "#sk-container-id-4 label.sk-toggleable__label {\n",
       "  cursor: pointer;\n",
       "  display: block;\n",
       "  width: 100%;\n",
       "  margin-bottom: 0;\n",
       "  padding: 0.5em;\n",
       "  box-sizing: border-box;\n",
       "  text-align: center;\n",
       "}\n",
       "\n",
       "#sk-container-id-4 label.sk-toggleable__label-arrow:before {\n",
       "  /* Arrow on the left of the label */\n",
       "  content: \"▸\";\n",
       "  float: left;\n",
       "  margin-right: 0.25em;\n",
       "  color: var(--sklearn-color-icon);\n",
       "}\n",
       "\n",
       "#sk-container-id-4 label.sk-toggleable__label-arrow:hover:before {\n",
       "  color: var(--sklearn-color-text);\n",
       "}\n",
       "\n",
       "/* Toggleable content - dropdown */\n",
       "\n",
       "#sk-container-id-4 div.sk-toggleable__content {\n",
       "  max-height: 0;\n",
       "  max-width: 0;\n",
       "  overflow: hidden;\n",
       "  text-align: left;\n",
       "  /* unfitted */\n",
       "  background-color: var(--sklearn-color-unfitted-level-0);\n",
       "}\n",
       "\n",
       "#sk-container-id-4 div.sk-toggleable__content.fitted {\n",
       "  /* fitted */\n",
       "  background-color: var(--sklearn-color-fitted-level-0);\n",
       "}\n",
       "\n",
       "#sk-container-id-4 div.sk-toggleable__content pre {\n",
       "  margin: 0.2em;\n",
       "  border-radius: 0.25em;\n",
       "  color: var(--sklearn-color-text);\n",
       "  /* unfitted */\n",
       "  background-color: var(--sklearn-color-unfitted-level-0);\n",
       "}\n",
       "\n",
       "#sk-container-id-4 div.sk-toggleable__content.fitted pre {\n",
       "  /* unfitted */\n",
       "  background-color: var(--sklearn-color-fitted-level-0);\n",
       "}\n",
       "\n",
       "#sk-container-id-4 input.sk-toggleable__control:checked~div.sk-toggleable__content {\n",
       "  /* Expand drop-down */\n",
       "  max-height: 200px;\n",
       "  max-width: 100%;\n",
       "  overflow: auto;\n",
       "}\n",
       "\n",
       "#sk-container-id-4 input.sk-toggleable__control:checked~label.sk-toggleable__label-arrow:before {\n",
       "  content: \"▾\";\n",
       "}\n",
       "\n",
       "/* Pipeline/ColumnTransformer-specific style */\n",
       "\n",
       "#sk-container-id-4 div.sk-label input.sk-toggleable__control:checked~label.sk-toggleable__label {\n",
       "  color: var(--sklearn-color-text);\n",
       "  background-color: var(--sklearn-color-unfitted-level-2);\n",
       "}\n",
       "\n",
       "#sk-container-id-4 div.sk-label.fitted input.sk-toggleable__control:checked~label.sk-toggleable__label {\n",
       "  background-color: var(--sklearn-color-fitted-level-2);\n",
       "}\n",
       "\n",
       "/* Estimator-specific style */\n",
       "\n",
       "/* Colorize estimator box */\n",
       "#sk-container-id-4 div.sk-estimator input.sk-toggleable__control:checked~label.sk-toggleable__label {\n",
       "  /* unfitted */\n",
       "  background-color: var(--sklearn-color-unfitted-level-2);\n",
       "}\n",
       "\n",
       "#sk-container-id-4 div.sk-estimator.fitted input.sk-toggleable__control:checked~label.sk-toggleable__label {\n",
       "  /* fitted */\n",
       "  background-color: var(--sklearn-color-fitted-level-2);\n",
       "}\n",
       "\n",
       "#sk-container-id-4 div.sk-label label.sk-toggleable__label,\n",
       "#sk-container-id-4 div.sk-label label {\n",
       "  /* The background is the default theme color */\n",
       "  color: var(--sklearn-color-text-on-default-background);\n",
       "}\n",
       "\n",
       "/* On hover, darken the color of the background */\n",
       "#sk-container-id-4 div.sk-label:hover label.sk-toggleable__label {\n",
       "  color: var(--sklearn-color-text);\n",
       "  background-color: var(--sklearn-color-unfitted-level-2);\n",
       "}\n",
       "\n",
       "/* Label box, darken color on hover, fitted */\n",
       "#sk-container-id-4 div.sk-label.fitted:hover label.sk-toggleable__label.fitted {\n",
       "  color: var(--sklearn-color-text);\n",
       "  background-color: var(--sklearn-color-fitted-level-2);\n",
       "}\n",
       "\n",
       "/* Estimator label */\n",
       "\n",
       "#sk-container-id-4 div.sk-label label {\n",
       "  font-family: monospace;\n",
       "  font-weight: bold;\n",
       "  display: inline-block;\n",
       "  line-height: 1.2em;\n",
       "}\n",
       "\n",
       "#sk-container-id-4 div.sk-label-container {\n",
       "  text-align: center;\n",
       "}\n",
       "\n",
       "/* Estimator-specific */\n",
       "#sk-container-id-4 div.sk-estimator {\n",
       "  font-family: monospace;\n",
       "  border: 1px dotted var(--sklearn-color-border-box);\n",
       "  border-radius: 0.25em;\n",
       "  box-sizing: border-box;\n",
       "  margin-bottom: 0.5em;\n",
       "  /* unfitted */\n",
       "  background-color: var(--sklearn-color-unfitted-level-0);\n",
       "}\n",
       "\n",
       "#sk-container-id-4 div.sk-estimator.fitted {\n",
       "  /* fitted */\n",
       "  background-color: var(--sklearn-color-fitted-level-0);\n",
       "}\n",
       "\n",
       "/* on hover */\n",
       "#sk-container-id-4 div.sk-estimator:hover {\n",
       "  /* unfitted */\n",
       "  background-color: var(--sklearn-color-unfitted-level-2);\n",
       "}\n",
       "\n",
       "#sk-container-id-4 div.sk-estimator.fitted:hover {\n",
       "  /* fitted */\n",
       "  background-color: var(--sklearn-color-fitted-level-2);\n",
       "}\n",
       "\n",
       "/* Specification for estimator info (e.g. \"i\" and \"?\") */\n",
       "\n",
       "/* Common style for \"i\" and \"?\" */\n",
       "\n",
       ".sk-estimator-doc-link,\n",
       "a:link.sk-estimator-doc-link,\n",
       "a:visited.sk-estimator-doc-link {\n",
       "  float: right;\n",
       "  font-size: smaller;\n",
       "  line-height: 1em;\n",
       "  font-family: monospace;\n",
       "  background-color: var(--sklearn-color-background);\n",
       "  border-radius: 1em;\n",
       "  height: 1em;\n",
       "  width: 1em;\n",
       "  text-decoration: none !important;\n",
       "  margin-left: 1ex;\n",
       "  /* unfitted */\n",
       "  border: var(--sklearn-color-unfitted-level-1) 1pt solid;\n",
       "  color: var(--sklearn-color-unfitted-level-1);\n",
       "}\n",
       "\n",
       ".sk-estimator-doc-link.fitted,\n",
       "a:link.sk-estimator-doc-link.fitted,\n",
       "a:visited.sk-estimator-doc-link.fitted {\n",
       "  /* fitted */\n",
       "  border: var(--sklearn-color-fitted-level-1) 1pt solid;\n",
       "  color: var(--sklearn-color-fitted-level-1);\n",
       "}\n",
       "\n",
       "/* On hover */\n",
       "div.sk-estimator:hover .sk-estimator-doc-link:hover,\n",
       ".sk-estimator-doc-link:hover,\n",
       "div.sk-label-container:hover .sk-estimator-doc-link:hover,\n",
       ".sk-estimator-doc-link:hover {\n",
       "  /* unfitted */\n",
       "  background-color: var(--sklearn-color-unfitted-level-3);\n",
       "  color: var(--sklearn-color-background);\n",
       "  text-decoration: none;\n",
       "}\n",
       "\n",
       "div.sk-estimator.fitted:hover .sk-estimator-doc-link.fitted:hover,\n",
       ".sk-estimator-doc-link.fitted:hover,\n",
       "div.sk-label-container:hover .sk-estimator-doc-link.fitted:hover,\n",
       ".sk-estimator-doc-link.fitted:hover {\n",
       "  /* fitted */\n",
       "  background-color: var(--sklearn-color-fitted-level-3);\n",
       "  color: var(--sklearn-color-background);\n",
       "  text-decoration: none;\n",
       "}\n",
       "\n",
       "/* Span, style for the box shown on hovering the info icon */\n",
       ".sk-estimator-doc-link span {\n",
       "  display: none;\n",
       "  z-index: 9999;\n",
       "  position: relative;\n",
       "  font-weight: normal;\n",
       "  right: .2ex;\n",
       "  padding: .5ex;\n",
       "  margin: .5ex;\n",
       "  width: min-content;\n",
       "  min-width: 20ex;\n",
       "  max-width: 50ex;\n",
       "  color: var(--sklearn-color-text);\n",
       "  box-shadow: 2pt 2pt 4pt #999;\n",
       "  /* unfitted */\n",
       "  background: var(--sklearn-color-unfitted-level-0);\n",
       "  border: .5pt solid var(--sklearn-color-unfitted-level-3);\n",
       "}\n",
       "\n",
       ".sk-estimator-doc-link.fitted span {\n",
       "  /* fitted */\n",
       "  background: var(--sklearn-color-fitted-level-0);\n",
       "  border: var(--sklearn-color-fitted-level-3);\n",
       "}\n",
       "\n",
       ".sk-estimator-doc-link:hover span {\n",
       "  display: block;\n",
       "}\n",
       "\n",
       "/* \"?\"-specific style due to the `<a>` HTML tag */\n",
       "\n",
       "#sk-container-id-4 a.estimator_doc_link {\n",
       "  float: right;\n",
       "  font-size: 1rem;\n",
       "  line-height: 1em;\n",
       "  font-family: monospace;\n",
       "  background-color: var(--sklearn-color-background);\n",
       "  border-radius: 1rem;\n",
       "  height: 1rem;\n",
       "  width: 1rem;\n",
       "  text-decoration: none;\n",
       "  /* unfitted */\n",
       "  color: var(--sklearn-color-unfitted-level-1);\n",
       "  border: var(--sklearn-color-unfitted-level-1) 1pt solid;\n",
       "}\n",
       "\n",
       "#sk-container-id-4 a.estimator_doc_link.fitted {\n",
       "  /* fitted */\n",
       "  border: var(--sklearn-color-fitted-level-1) 1pt solid;\n",
       "  color: var(--sklearn-color-fitted-level-1);\n",
       "}\n",
       "\n",
       "/* On hover */\n",
       "#sk-container-id-4 a.estimator_doc_link:hover {\n",
       "  /* unfitted */\n",
       "  background-color: var(--sklearn-color-unfitted-level-3);\n",
       "  color: var(--sklearn-color-background);\n",
       "  text-decoration: none;\n",
       "}\n",
       "\n",
       "#sk-container-id-4 a.estimator_doc_link.fitted:hover {\n",
       "  /* fitted */\n",
       "  background-color: var(--sklearn-color-fitted-level-3);\n",
       "}\n",
       "</style><div id=\"sk-container-id-4\" class=\"sk-top-container\"><div class=\"sk-text-repr-fallback\"><pre>LinearRegression()</pre><b>In a Jupyter environment, please rerun this cell to show the HTML representation or trust the notebook. <br />On GitHub, the HTML representation is unable to render, please try loading this page with nbviewer.org.</b></div><div class=\"sk-container\" hidden><div class=\"sk-item\"><div class=\"sk-estimator fitted sk-toggleable\"><input class=\"sk-toggleable__control sk-hidden--visually\" id=\"sk-estimator-id-4\" type=\"checkbox\" checked><label for=\"sk-estimator-id-4\" class=\"sk-toggleable__label fitted sk-toggleable__label-arrow fitted\">&nbsp;&nbsp;LinearRegression<a class=\"sk-estimator-doc-link fitted\" rel=\"noreferrer\" target=\"_blank\" href=\"https://scikit-learn.org/1.5/modules/generated/sklearn.linear_model.LinearRegression.html\">?<span>Documentation for LinearRegression</span></a><span class=\"sk-estimator-doc-link fitted\">i<span>Fitted</span></span></label><div class=\"sk-toggleable__content fitted\"><pre>LinearRegression()</pre></div> </div></div></div></div>"
      ],
      "text/plain": [
       "LinearRegression()"
      ]
     },
     "execution_count": 22,
     "metadata": {},
     "output_type": "execute_result"
    }
   ],
   "source": [
    "from sklearn.model_selection import train_test_split\n",
    "from sklearn.linear_model import LinearRegression\n",
    "from sklearn.preprocessing import MinMaxScaler\n",
    "\n",
    "# Preparar datos para el modelo\n",
    "X = df_resultados[['año', 'mes']]\n",
    "y = df_resultados['precio_promedio']\n",
    "\n",
    "# Normalizar los datos de X\n",
    "scaler = MinMaxScaler()\n",
    "X_scaled = scaler.fit_transform(X)\n",
    "\n",
    "# Dividir los datos escalados en conjuntos de entrenamiento y prueba\n",
    "X_train, X_test, y_train, y_test = train_test_split(X_scaled, y, test_size=0.2, random_state=42)\n",
    "\n",
    "# Inicializar y entrenar el modelo de regresión lineal con datos escalados\n",
    "modelo = LinearRegression()\n",
    "modelo.fit(X_train, y_train)"
   ]
  },
  {
   "cell_type": "code",
   "execution_count": 23,
   "metadata": {},
   "outputs": [
    {
     "name": "stderr",
     "output_type": "stream",
     "text": [
      "c:\\Users\\yoe11\\anaconda3\\envs\\newst\\Lib\\site-packages\\sklearn\\base.py:486: UserWarning:\n",
      "\n",
      "X has feature names, but LinearRegression was fitted without feature names\n",
      "\n"
     ]
    },
    {
     "data": {
      "text/html": [
       "<div>\n",
       "<style scoped>\n",
       "    .dataframe tbody tr th:only-of-type {\n",
       "        vertical-align: middle;\n",
       "    }\n",
       "\n",
       "    .dataframe tbody tr th {\n",
       "        vertical-align: top;\n",
       "    }\n",
       "\n",
       "    .dataframe thead th {\n",
       "        text-align: right;\n",
       "    }\n",
       "</style>\n",
       "<table border=\"1\" class=\"dataframe\">\n",
       "  <thead>\n",
       "    <tr style=\"text-align: right;\">\n",
       "      <th></th>\n",
       "      <th>año</th>\n",
       "      <th>mes</th>\n",
       "      <th>precio_promedio</th>\n",
       "    </tr>\n",
       "  </thead>\n",
       "  <tbody>\n",
       "    <tr>\n",
       "      <th>0</th>\n",
       "      <td>2024</td>\n",
       "      <td>1</td>\n",
       "      <td>3.287172e+06</td>\n",
       "    </tr>\n",
       "    <tr>\n",
       "      <th>1</th>\n",
       "      <td>2024</td>\n",
       "      <td>2</td>\n",
       "      <td>3.289913e+06</td>\n",
       "    </tr>\n",
       "    <tr>\n",
       "      <th>2</th>\n",
       "      <td>2024</td>\n",
       "      <td>3</td>\n",
       "      <td>3.374739e+06</td>\n",
       "    </tr>\n",
       "    <tr>\n",
       "      <th>3</th>\n",
       "      <td>2024</td>\n",
       "      <td>5</td>\n",
       "      <td>3.224496e+06</td>\n",
       "    </tr>\n",
       "    <tr>\n",
       "      <th>4</th>\n",
       "      <td>2024</td>\n",
       "      <td>6</td>\n",
       "      <td>3.212817e+06</td>\n",
       "    </tr>\n",
       "    <tr>\n",
       "      <th>5</th>\n",
       "      <td>2024</td>\n",
       "      <td>7</td>\n",
       "      <td>3.395784e+06</td>\n",
       "    </tr>\n",
       "    <tr>\n",
       "      <th>6</th>\n",
       "      <td>2024</td>\n",
       "      <td>8</td>\n",
       "      <td>3.338049e+06</td>\n",
       "    </tr>\n",
       "    <tr>\n",
       "      <th>7</th>\n",
       "      <td>2024</td>\n",
       "      <td>9</td>\n",
       "      <td>3.029065e+06</td>\n",
       "    </tr>\n",
       "    <tr>\n",
       "      <th>8</th>\n",
       "      <td>2024</td>\n",
       "      <td>10</td>\n",
       "      <td>2.996802e+06</td>\n",
       "    </tr>\n",
       "    <tr>\n",
       "      <th>9</th>\n",
       "      <td>2024</td>\n",
       "      <td>11</td>\n",
       "      <td>2.964539e+06</td>\n",
       "    </tr>\n",
       "    <tr>\n",
       "      <th>10</th>\n",
       "      <td>2024</td>\n",
       "      <td>12</td>\n",
       "      <td>2.932276e+06</td>\n",
       "    </tr>\n",
       "    <tr>\n",
       "      <th>11</th>\n",
       "      <td>2025</td>\n",
       "      <td>1</td>\n",
       "      <td>3.287172e+06</td>\n",
       "    </tr>\n",
       "    <tr>\n",
       "      <th>12</th>\n",
       "      <td>2025</td>\n",
       "      <td>2</td>\n",
       "      <td>3.254908e+06</td>\n",
       "    </tr>\n",
       "    <tr>\n",
       "      <th>13</th>\n",
       "      <td>2025</td>\n",
       "      <td>3</td>\n",
       "      <td>3.222645e+06</td>\n",
       "    </tr>\n",
       "    <tr>\n",
       "      <th>14</th>\n",
       "      <td>2025</td>\n",
       "      <td>4</td>\n",
       "      <td>3.190382e+06</td>\n",
       "    </tr>\n",
       "    <tr>\n",
       "      <th>15</th>\n",
       "      <td>2025</td>\n",
       "      <td>5</td>\n",
       "      <td>3.158119e+06</td>\n",
       "    </tr>\n",
       "    <tr>\n",
       "      <th>16</th>\n",
       "      <td>2025</td>\n",
       "      <td>6</td>\n",
       "      <td>3.125855e+06</td>\n",
       "    </tr>\n",
       "    <tr>\n",
       "      <th>17</th>\n",
       "      <td>2025</td>\n",
       "      <td>7</td>\n",
       "      <td>3.093592e+06</td>\n",
       "    </tr>\n",
       "    <tr>\n",
       "      <th>18</th>\n",
       "      <td>2025</td>\n",
       "      <td>8</td>\n",
       "      <td>3.061329e+06</td>\n",
       "    </tr>\n",
       "    <tr>\n",
       "      <th>19</th>\n",
       "      <td>2025</td>\n",
       "      <td>9</td>\n",
       "      <td>3.029065e+06</td>\n",
       "    </tr>\n",
       "    <tr>\n",
       "      <th>20</th>\n",
       "      <td>2025</td>\n",
       "      <td>10</td>\n",
       "      <td>2.996802e+06</td>\n",
       "    </tr>\n",
       "    <tr>\n",
       "      <th>21</th>\n",
       "      <td>2025</td>\n",
       "      <td>11</td>\n",
       "      <td>2.964539e+06</td>\n",
       "    </tr>\n",
       "    <tr>\n",
       "      <th>22</th>\n",
       "      <td>2025</td>\n",
       "      <td>12</td>\n",
       "      <td>2.932276e+06</td>\n",
       "    </tr>\n",
       "    <tr>\n",
       "      <th>23</th>\n",
       "      <td>2026</td>\n",
       "      <td>1</td>\n",
       "      <td>3.287172e+06</td>\n",
       "    </tr>\n",
       "    <tr>\n",
       "      <th>24</th>\n",
       "      <td>2026</td>\n",
       "      <td>2</td>\n",
       "      <td>3.254908e+06</td>\n",
       "    </tr>\n",
       "    <tr>\n",
       "      <th>25</th>\n",
       "      <td>2026</td>\n",
       "      <td>3</td>\n",
       "      <td>3.222645e+06</td>\n",
       "    </tr>\n",
       "    <tr>\n",
       "      <th>26</th>\n",
       "      <td>2026</td>\n",
       "      <td>4</td>\n",
       "      <td>3.190382e+06</td>\n",
       "    </tr>\n",
       "    <tr>\n",
       "      <th>27</th>\n",
       "      <td>2026</td>\n",
       "      <td>5</td>\n",
       "      <td>3.158119e+06</td>\n",
       "    </tr>\n",
       "    <tr>\n",
       "      <th>28</th>\n",
       "      <td>2026</td>\n",
       "      <td>6</td>\n",
       "      <td>3.125855e+06</td>\n",
       "    </tr>\n",
       "    <tr>\n",
       "      <th>29</th>\n",
       "      <td>2026</td>\n",
       "      <td>7</td>\n",
       "      <td>3.093592e+06</td>\n",
       "    </tr>\n",
       "    <tr>\n",
       "      <th>30</th>\n",
       "      <td>2026</td>\n",
       "      <td>8</td>\n",
       "      <td>3.061329e+06</td>\n",
       "    </tr>\n",
       "    <tr>\n",
       "      <th>31</th>\n",
       "      <td>2026</td>\n",
       "      <td>9</td>\n",
       "      <td>3.029065e+06</td>\n",
       "    </tr>\n",
       "    <tr>\n",
       "      <th>32</th>\n",
       "      <td>2026</td>\n",
       "      <td>10</td>\n",
       "      <td>2.996802e+06</td>\n",
       "    </tr>\n",
       "    <tr>\n",
       "      <th>33</th>\n",
       "      <td>2026</td>\n",
       "      <td>11</td>\n",
       "      <td>2.964539e+06</td>\n",
       "    </tr>\n",
       "    <tr>\n",
       "      <th>34</th>\n",
       "      <td>2026</td>\n",
       "      <td>12</td>\n",
       "      <td>2.932276e+06</td>\n",
       "    </tr>\n",
       "  </tbody>\n",
       "</table>\n",
       "</div>"
      ],
      "text/plain": [
       "     año  mes  precio_promedio\n",
       "0   2024    1     3.287172e+06\n",
       "1   2024    2     3.289913e+06\n",
       "2   2024    3     3.374739e+06\n",
       "3   2024    5     3.224496e+06\n",
       "4   2024    6     3.212817e+06\n",
       "5   2024    7     3.395784e+06\n",
       "6   2024    8     3.338049e+06\n",
       "7   2024    9     3.029065e+06\n",
       "8   2024   10     2.996802e+06\n",
       "9   2024   11     2.964539e+06\n",
       "10  2024   12     2.932276e+06\n",
       "11  2025    1     3.287172e+06\n",
       "12  2025    2     3.254908e+06\n",
       "13  2025    3     3.222645e+06\n",
       "14  2025    4     3.190382e+06\n",
       "15  2025    5     3.158119e+06\n",
       "16  2025    6     3.125855e+06\n",
       "17  2025    7     3.093592e+06\n",
       "18  2025    8     3.061329e+06\n",
       "19  2025    9     3.029065e+06\n",
       "20  2025   10     2.996802e+06\n",
       "21  2025   11     2.964539e+06\n",
       "22  2025   12     2.932276e+06\n",
       "23  2026    1     3.287172e+06\n",
       "24  2026    2     3.254908e+06\n",
       "25  2026    3     3.222645e+06\n",
       "26  2026    4     3.190382e+06\n",
       "27  2026    5     3.158119e+06\n",
       "28  2026    6     3.125855e+06\n",
       "29  2026    7     3.093592e+06\n",
       "30  2026    8     3.061329e+06\n",
       "31  2026    9     3.029065e+06\n",
       "32  2026   10     2.996802e+06\n",
       "33  2026   11     2.964539e+06\n",
       "34  2026   12     2.932276e+06"
      ]
     },
     "execution_count": 23,
     "metadata": {},
     "output_type": "execute_result"
    }
   ],
   "source": [
    "# DF con todas las combinaciones posibles de año y mes para 2023 FALTANTES (AUG-DEC)\n",
    "fechas_2023 = pd.DataFrame({'año': np.repeat(2024, 1),\n",
    "                            'mes': range(1, 2)})\n",
    "fechas_2024 = pd.DataFrame({'año': np.repeat(2024, 4),\n",
    "                            'mes': range(9, 13)})\n",
    "# DF con todas las combinaciones posibles de año y mes para 2024-2026\n",
    "fechas_2024_2026 = pd.DataFrame({'año': np.repeat(range(2025, 2027), 12),\n",
    "                                  'mes': np.tile(range(1, 13), 2)})\n",
    "nuevas_fechas = pd.concat([fechas_2023,fechas_2024, fechas_2024_2026]) # Concatenamos \n",
    "\n",
    "# Realizamos predicciones con el modelo entrenado\n",
    "predicciones = modelo.predict(nuevas_fechas)\n",
    "\n",
    "# Redondear las predicciones a números enteros\n",
    "predicciones_enteros = np.round(predicciones).astype(int)\n",
    "\n",
    "# Agregamos las predicciones redondeadas al DataFrame de nuevas fechas\n",
    "nuevas_fechas['precio_promedio'] = predicciones_enteros\n",
    "\n",
    "nueva_conteo_pachuca = pd.concat([df_resultados, nuevas_fechas], ignore_index=True)\n",
    "#nueva_conteo_pachuca = nueva_conteo_pachuca.groupby('año')['precio_promedio'].median().reset_index()\n",
    "nueva_conteo_pachuca = nueva_conteo_pachuca.groupby(['año', 'mes'])['precio_promedio'].median().reset_index()\n",
    "\n",
    "# Agregar una nueva columna 'vivienda' con el valor 'Usada'\n",
    "total_todos = nueva_conteo_pachuca.copy()\n",
    "nueva_conteo_pachuca"
   ]
  },
  {
   "cell_type": "code",
   "execution_count": 24,
   "metadata": {},
   "outputs": [
    {
     "name": "stdout",
     "output_type": "stream",
     "text": [
      "Estimación de registros en 2024: 1000961\n",
      "Estimación de registros en 2025: 1013940\n",
      "Estimación de registros en 2026: 1027087\n"
     ]
    }
   ],
   "source": [
    "# Valores conocidos\n",
    "registros_2022 = 9.754988e+05\n",
    "registros_2023 = 9.881478e+05\n",
    "\n",
    "# Calcula la tasa de cambio porcentual de 2022 a 2023\n",
    "tasa_cambio = (registros_2023 - registros_2022) / registros_2022\n",
    "\n",
    "# Aplica la misma tasa de cambio para estimar 2024, 2025, y 2026 completo\n",
    "estimacion_2024 = registros_2023 * (1 + tasa_cambio)\n",
    "estimacion_2025 = estimacion_2024 * (1 + tasa_cambio)\n",
    "estimacion_2026 = estimacion_2025 * (1 + tasa_cambio)\n",
    "\n",
    "print(\"Estimación de registros en 2024:\", round(estimacion_2024))\n",
    "print(\"Estimación de registros en 2025:\", round(estimacion_2025))\n",
    "print(\"Estimación de registros en 2026:\", round(estimacion_2026))"
   ]
  },
  {
   "cell_type": "code",
   "execution_count": 25,
   "metadata": {},
   "outputs": [
    {
     "data": {
      "text/html": [
       "<div>\n",
       "<style scoped>\n",
       "    .dataframe tbody tr th:only-of-type {\n",
       "        vertical-align: middle;\n",
       "    }\n",
       "\n",
       "    .dataframe tbody tr th {\n",
       "        vertical-align: top;\n",
       "    }\n",
       "\n",
       "    .dataframe thead th {\n",
       "        text-align: right;\n",
       "    }\n",
       "</style>\n",
       "<table border=\"1\" class=\"dataframe\">\n",
       "  <thead>\n",
       "    <tr style=\"text-align: right;\">\n",
       "      <th></th>\n",
       "      <th>año</th>\n",
       "      <th>mes</th>\n",
       "      <th>precio_promedio</th>\n",
       "      <th>label</th>\n",
       "    </tr>\n",
       "  </thead>\n",
       "  <tbody>\n",
       "    <tr>\n",
       "      <th>0</th>\n",
       "      <td>2024</td>\n",
       "      <td>1</td>\n",
       "      <td>3.287172e+06</td>\n",
       "      <td>enero-2024</td>\n",
       "    </tr>\n",
       "    <tr>\n",
       "      <th>1</th>\n",
       "      <td>2024</td>\n",
       "      <td>2</td>\n",
       "      <td>3.289913e+06</td>\n",
       "      <td>febrero-2024</td>\n",
       "    </tr>\n",
       "    <tr>\n",
       "      <th>2</th>\n",
       "      <td>2024</td>\n",
       "      <td>3</td>\n",
       "      <td>3.374739e+06</td>\n",
       "      <td>marzo-2024</td>\n",
       "    </tr>\n",
       "    <tr>\n",
       "      <th>3</th>\n",
       "      <td>2024</td>\n",
       "      <td>5</td>\n",
       "      <td>3.224496e+06</td>\n",
       "      <td>mayo-2024</td>\n",
       "    </tr>\n",
       "    <tr>\n",
       "      <th>4</th>\n",
       "      <td>2024</td>\n",
       "      <td>6</td>\n",
       "      <td>3.212817e+06</td>\n",
       "      <td>junio-2024</td>\n",
       "    </tr>\n",
       "    <tr>\n",
       "      <th>5</th>\n",
       "      <td>2024</td>\n",
       "      <td>7</td>\n",
       "      <td>3.395784e+06</td>\n",
       "      <td>julio-2024</td>\n",
       "    </tr>\n",
       "    <tr>\n",
       "      <th>6</th>\n",
       "      <td>2024</td>\n",
       "      <td>8</td>\n",
       "      <td>3.338049e+06</td>\n",
       "      <td>agosto-2024</td>\n",
       "    </tr>\n",
       "    <tr>\n",
       "      <th>7</th>\n",
       "      <td>2024</td>\n",
       "      <td>9</td>\n",
       "      <td>3.029065e+06</td>\n",
       "      <td>septiembre-2024</td>\n",
       "    </tr>\n",
       "    <tr>\n",
       "      <th>8</th>\n",
       "      <td>2024</td>\n",
       "      <td>10</td>\n",
       "      <td>2.996802e+06</td>\n",
       "      <td>octubre-2024</td>\n",
       "    </tr>\n",
       "    <tr>\n",
       "      <th>9</th>\n",
       "      <td>2024</td>\n",
       "      <td>11</td>\n",
       "      <td>2.964539e+06</td>\n",
       "      <td>noviembre-2024</td>\n",
       "    </tr>\n",
       "    <tr>\n",
       "      <th>10</th>\n",
       "      <td>2024</td>\n",
       "      <td>12</td>\n",
       "      <td>2.932276e+06</td>\n",
       "      <td>diciembre-2024</td>\n",
       "    </tr>\n",
       "    <tr>\n",
       "      <th>11</th>\n",
       "      <td>2025</td>\n",
       "      <td>1</td>\n",
       "      <td>3.287172e+06</td>\n",
       "      <td>enero-2025</td>\n",
       "    </tr>\n",
       "    <tr>\n",
       "      <th>12</th>\n",
       "      <td>2025</td>\n",
       "      <td>2</td>\n",
       "      <td>3.254908e+06</td>\n",
       "      <td>febrero-2025</td>\n",
       "    </tr>\n",
       "    <tr>\n",
       "      <th>13</th>\n",
       "      <td>2025</td>\n",
       "      <td>3</td>\n",
       "      <td>3.222645e+06</td>\n",
       "      <td>marzo-2025</td>\n",
       "    </tr>\n",
       "    <tr>\n",
       "      <th>14</th>\n",
       "      <td>2025</td>\n",
       "      <td>4</td>\n",
       "      <td>3.190382e+06</td>\n",
       "      <td>abril-2025</td>\n",
       "    </tr>\n",
       "    <tr>\n",
       "      <th>15</th>\n",
       "      <td>2025</td>\n",
       "      <td>5</td>\n",
       "      <td>3.158119e+06</td>\n",
       "      <td>mayo-2025</td>\n",
       "    </tr>\n",
       "    <tr>\n",
       "      <th>16</th>\n",
       "      <td>2025</td>\n",
       "      <td>6</td>\n",
       "      <td>3.125855e+06</td>\n",
       "      <td>junio-2025</td>\n",
       "    </tr>\n",
       "    <tr>\n",
       "      <th>17</th>\n",
       "      <td>2025</td>\n",
       "      <td>7</td>\n",
       "      <td>3.093592e+06</td>\n",
       "      <td>julio-2025</td>\n",
       "    </tr>\n",
       "    <tr>\n",
       "      <th>18</th>\n",
       "      <td>2025</td>\n",
       "      <td>8</td>\n",
       "      <td>3.061329e+06</td>\n",
       "      <td>agosto-2025</td>\n",
       "    </tr>\n",
       "    <tr>\n",
       "      <th>19</th>\n",
       "      <td>2025</td>\n",
       "      <td>9</td>\n",
       "      <td>3.029065e+06</td>\n",
       "      <td>septiembre-2025</td>\n",
       "    </tr>\n",
       "    <tr>\n",
       "      <th>20</th>\n",
       "      <td>2025</td>\n",
       "      <td>10</td>\n",
       "      <td>2.996802e+06</td>\n",
       "      <td>octubre-2025</td>\n",
       "    </tr>\n",
       "    <tr>\n",
       "      <th>21</th>\n",
       "      <td>2025</td>\n",
       "      <td>11</td>\n",
       "      <td>2.964539e+06</td>\n",
       "      <td>noviembre-2025</td>\n",
       "    </tr>\n",
       "    <tr>\n",
       "      <th>22</th>\n",
       "      <td>2025</td>\n",
       "      <td>12</td>\n",
       "      <td>2.932276e+06</td>\n",
       "      <td>diciembre-2025</td>\n",
       "    </tr>\n",
       "    <tr>\n",
       "      <th>23</th>\n",
       "      <td>2026</td>\n",
       "      <td>1</td>\n",
       "      <td>3.287172e+06</td>\n",
       "      <td>enero-2026</td>\n",
       "    </tr>\n",
       "    <tr>\n",
       "      <th>24</th>\n",
       "      <td>2026</td>\n",
       "      <td>2</td>\n",
       "      <td>3.254908e+06</td>\n",
       "      <td>febrero-2026</td>\n",
       "    </tr>\n",
       "    <tr>\n",
       "      <th>25</th>\n",
       "      <td>2026</td>\n",
       "      <td>3</td>\n",
       "      <td>3.222645e+06</td>\n",
       "      <td>marzo-2026</td>\n",
       "    </tr>\n",
       "    <tr>\n",
       "      <th>26</th>\n",
       "      <td>2026</td>\n",
       "      <td>4</td>\n",
       "      <td>3.190382e+06</td>\n",
       "      <td>abril-2026</td>\n",
       "    </tr>\n",
       "    <tr>\n",
       "      <th>27</th>\n",
       "      <td>2026</td>\n",
       "      <td>5</td>\n",
       "      <td>3.158119e+06</td>\n",
       "      <td>mayo-2026</td>\n",
       "    </tr>\n",
       "    <tr>\n",
       "      <th>28</th>\n",
       "      <td>2026</td>\n",
       "      <td>6</td>\n",
       "      <td>3.125855e+06</td>\n",
       "      <td>junio-2026</td>\n",
       "    </tr>\n",
       "    <tr>\n",
       "      <th>29</th>\n",
       "      <td>2026</td>\n",
       "      <td>7</td>\n",
       "      <td>3.093592e+06</td>\n",
       "      <td>julio-2026</td>\n",
       "    </tr>\n",
       "    <tr>\n",
       "      <th>30</th>\n",
       "      <td>2026</td>\n",
       "      <td>8</td>\n",
       "      <td>3.061329e+06</td>\n",
       "      <td>agosto-2026</td>\n",
       "    </tr>\n",
       "    <tr>\n",
       "      <th>31</th>\n",
       "      <td>2026</td>\n",
       "      <td>9</td>\n",
       "      <td>3.029065e+06</td>\n",
       "      <td>septiembre-2026</td>\n",
       "    </tr>\n",
       "    <tr>\n",
       "      <th>32</th>\n",
       "      <td>2026</td>\n",
       "      <td>10</td>\n",
       "      <td>2.996802e+06</td>\n",
       "      <td>octubre-2026</td>\n",
       "    </tr>\n",
       "    <tr>\n",
       "      <th>33</th>\n",
       "      <td>2026</td>\n",
       "      <td>11</td>\n",
       "      <td>2.964539e+06</td>\n",
       "      <td>noviembre-2026</td>\n",
       "    </tr>\n",
       "    <tr>\n",
       "      <th>34</th>\n",
       "      <td>2026</td>\n",
       "      <td>12</td>\n",
       "      <td>2.932276e+06</td>\n",
       "      <td>diciembre-2026</td>\n",
       "    </tr>\n",
       "  </tbody>\n",
       "</table>\n",
       "</div>"
      ],
      "text/plain": [
       "     año  mes  precio_promedio            label\n",
       "0   2024    1     3.287172e+06       enero-2024\n",
       "1   2024    2     3.289913e+06     febrero-2024\n",
       "2   2024    3     3.374739e+06       marzo-2024\n",
       "3   2024    5     3.224496e+06        mayo-2024\n",
       "4   2024    6     3.212817e+06       junio-2024\n",
       "5   2024    7     3.395784e+06       julio-2024\n",
       "6   2024    8     3.338049e+06      agosto-2024\n",
       "7   2024    9     3.029065e+06  septiembre-2024\n",
       "8   2024   10     2.996802e+06     octubre-2024\n",
       "9   2024   11     2.964539e+06   noviembre-2024\n",
       "10  2024   12     2.932276e+06   diciembre-2024\n",
       "11  2025    1     3.287172e+06       enero-2025\n",
       "12  2025    2     3.254908e+06     febrero-2025\n",
       "13  2025    3     3.222645e+06       marzo-2025\n",
       "14  2025    4     3.190382e+06       abril-2025\n",
       "15  2025    5     3.158119e+06        mayo-2025\n",
       "16  2025    6     3.125855e+06       junio-2025\n",
       "17  2025    7     3.093592e+06       julio-2025\n",
       "18  2025    8     3.061329e+06      agosto-2025\n",
       "19  2025    9     3.029065e+06  septiembre-2025\n",
       "20  2025   10     2.996802e+06     octubre-2025\n",
       "21  2025   11     2.964539e+06   noviembre-2025\n",
       "22  2025   12     2.932276e+06   diciembre-2025\n",
       "23  2026    1     3.287172e+06       enero-2026\n",
       "24  2026    2     3.254908e+06     febrero-2026\n",
       "25  2026    3     3.222645e+06       marzo-2026\n",
       "26  2026    4     3.190382e+06       abril-2026\n",
       "27  2026    5     3.158119e+06        mayo-2026\n",
       "28  2026    6     3.125855e+06       junio-2026\n",
       "29  2026    7     3.093592e+06       julio-2026\n",
       "30  2026    8     3.061329e+06      agosto-2026\n",
       "31  2026    9     3.029065e+06  septiembre-2026\n",
       "32  2026   10     2.996802e+06     octubre-2026\n",
       "33  2026   11     2.964539e+06   noviembre-2026\n",
       "34  2026   12     2.932276e+06   diciembre-2026"
      ]
     },
     "execution_count": 25,
     "metadata": {},
     "output_type": "execute_result"
    }
   ],
   "source": [
    "meses_dict_invertido = {v: k for k, v in meses_dict.items()}\n",
    "nueva_conteo_pachuca['label'] = nueva_conteo_pachuca['mes'].apply(lambda x: meses_dict_invertido[x]) + '-' + nueva_conteo_pachuca['año'].astype(str)\n",
    "nueva_conteo_pachuca = nueva_conteo_pachuca.sort_values(by=['año', 'mes'])\n",
    "nueva_conteo_pachuca"
   ]
  },
  {
   "cell_type": "code",
   "execution_count": 26,
   "metadata": {},
   "outputs": [
    {
     "data": {
      "application/vnd.plotly.v1+json": {
       "config": {
        "plotlyServerURL": "https://plot.ly"
       },
       "data": [
        {
         "marker": {
          "color": "blue"
         },
         "mode": "markers+lines",
         "type": "scatter",
         "x": [
          "enero-2024",
          "febrero-2024",
          "marzo-2024",
          "mayo-2024",
          "junio-2024",
          "julio-2024",
          "agosto-2024",
          "septiembre-2024",
          "octubre-2024",
          "noviembre-2024",
          "diciembre-2024",
          "enero-2025",
          "febrero-2025",
          "marzo-2025",
          "abril-2025",
          "mayo-2025",
          "junio-2025",
          "julio-2025",
          "agosto-2025",
          "septiembre-2025",
          "octubre-2025",
          "noviembre-2025",
          "diciembre-2025",
          "enero-2026",
          "febrero-2026",
          "marzo-2026",
          "abril-2026",
          "mayo-2026",
          "junio-2026",
          "julio-2026",
          "agosto-2026",
          "septiembre-2026",
          "octubre-2026",
          "noviembre-2026",
          "diciembre-2026"
         ],
         "y": [
          3287172,
          3289913.081751055,
          3374738.8693217174,
          3224495.76910299,
          3212817.3876923076,
          3395784.4117980716,
          3338049.0504978662,
          3029065,
          2996802,
          2964539,
          2932276,
          3287172,
          3254908,
          3222645,
          3190382,
          3158119,
          3125855,
          3093592,
          3061329,
          3029065,
          2996802,
          2964539,
          2932276,
          3287172,
          3254908,
          3222645,
          3190382,
          3158119,
          3125855,
          3093592,
          3061329,
          3029065,
          2996802,
          2964539,
          2932276
         ]
        }
       ],
       "layout": {
        "annotations": [
         {
          "font": {
           "color": "black",
           "size": 12
          },
          "showarrow": false,
          "text": "$3,287,172.00",
          "textangle": 0,
          "x": "enero-2024",
          "xshift": 0,
          "y": 3287172,
          "yshift": 17
         },
         {
          "font": {
           "color": "black",
           "size": 12
          },
          "showarrow": false,
          "text": "$3,289,913.08",
          "textangle": 0,
          "x": "febrero-2024",
          "xshift": 0,
          "y": 3289913.081751055,
          "yshift": 17
         },
         {
          "font": {
           "color": "black",
           "size": 12
          },
          "showarrow": false,
          "text": "$3,374,738.87",
          "textangle": 0,
          "x": "marzo-2024",
          "xshift": 0,
          "y": 3374738.8693217174,
          "yshift": 17
         },
         {
          "font": {
           "color": "black",
           "size": 12
          },
          "showarrow": false,
          "text": "$3,224,495.77",
          "textangle": 0,
          "x": "mayo-2024",
          "xshift": 0,
          "y": 3224495.76910299,
          "yshift": 17
         },
         {
          "font": {
           "color": "black",
           "size": 12
          },
          "showarrow": false,
          "text": "$3,212,817.39",
          "textangle": 0,
          "x": "junio-2024",
          "xshift": 0,
          "y": 3212817.3876923076,
          "yshift": 17
         },
         {
          "font": {
           "color": "black",
           "size": 12
          },
          "showarrow": false,
          "text": "$3,395,784.41",
          "textangle": 0,
          "x": "julio-2024",
          "xshift": 0,
          "y": 3395784.4117980716,
          "yshift": 17
         },
         {
          "font": {
           "color": "black",
           "size": 12
          },
          "showarrow": false,
          "text": "$3,338,049.05",
          "textangle": 0,
          "x": "agosto-2024",
          "xshift": 0,
          "y": 3338049.0504978662,
          "yshift": 17
         },
         {
          "font": {
           "color": "black",
           "size": 12
          },
          "showarrow": false,
          "text": "$3,029,065.00",
          "textangle": 0,
          "x": "septiembre-2024",
          "xshift": 0,
          "y": 3029065,
          "yshift": 17
         },
         {
          "font": {
           "color": "black",
           "size": 12
          },
          "showarrow": false,
          "text": "$2,996,802.00",
          "textangle": 0,
          "x": "octubre-2024",
          "xshift": 0,
          "y": 2996802,
          "yshift": 17
         },
         {
          "font": {
           "color": "black",
           "size": 12
          },
          "showarrow": false,
          "text": "$2,964,539.00",
          "textangle": 0,
          "x": "noviembre-2024",
          "xshift": 0,
          "y": 2964539,
          "yshift": 17
         },
         {
          "font": {
           "color": "black",
           "size": 12
          },
          "showarrow": false,
          "text": "$2,932,276.00",
          "textangle": 0,
          "x": "diciembre-2024",
          "xshift": 0,
          "y": 2932276,
          "yshift": 17
         },
         {
          "font": {
           "color": "black",
           "size": 12
          },
          "showarrow": false,
          "text": "$3,287,172.00",
          "textangle": 0,
          "x": "enero-2025",
          "xshift": 0,
          "y": 3287172,
          "yshift": 17
         },
         {
          "font": {
           "color": "black",
           "size": 12
          },
          "showarrow": false,
          "text": "$3,254,908.00",
          "textangle": 0,
          "x": "febrero-2025",
          "xshift": 0,
          "y": 3254908,
          "yshift": 17
         },
         {
          "font": {
           "color": "black",
           "size": 12
          },
          "showarrow": false,
          "text": "$3,222,645.00",
          "textangle": 0,
          "x": "marzo-2025",
          "xshift": 0,
          "y": 3222645,
          "yshift": 17
         },
         {
          "font": {
           "color": "black",
           "size": 12
          },
          "showarrow": false,
          "text": "$3,190,382.00",
          "textangle": 0,
          "x": "abril-2025",
          "xshift": 0,
          "y": 3190382,
          "yshift": 17
         },
         {
          "font": {
           "color": "black",
           "size": 12
          },
          "showarrow": false,
          "text": "$3,158,119.00",
          "textangle": 0,
          "x": "mayo-2025",
          "xshift": 0,
          "y": 3158119,
          "yshift": 17
         },
         {
          "font": {
           "color": "black",
           "size": 12
          },
          "showarrow": false,
          "text": "$3,125,855.00",
          "textangle": 0,
          "x": "junio-2025",
          "xshift": 0,
          "y": 3125855,
          "yshift": 17
         },
         {
          "font": {
           "color": "black",
           "size": 12
          },
          "showarrow": false,
          "text": "$3,093,592.00",
          "textangle": 0,
          "x": "julio-2025",
          "xshift": 0,
          "y": 3093592,
          "yshift": 17
         },
         {
          "font": {
           "color": "black",
           "size": 12
          },
          "showarrow": false,
          "text": "$3,061,329.00",
          "textangle": 0,
          "x": "agosto-2025",
          "xshift": 0,
          "y": 3061329,
          "yshift": 17
         },
         {
          "font": {
           "color": "black",
           "size": 12
          },
          "showarrow": false,
          "text": "$3,029,065.00",
          "textangle": 0,
          "x": "septiembre-2025",
          "xshift": 0,
          "y": 3029065,
          "yshift": 17
         },
         {
          "font": {
           "color": "black",
           "size": 12
          },
          "showarrow": false,
          "text": "$2,996,802.00",
          "textangle": 0,
          "x": "octubre-2025",
          "xshift": 0,
          "y": 2996802,
          "yshift": 17
         },
         {
          "font": {
           "color": "black",
           "size": 12
          },
          "showarrow": false,
          "text": "$2,964,539.00",
          "textangle": 0,
          "x": "noviembre-2025",
          "xshift": 0,
          "y": 2964539,
          "yshift": 17
         },
         {
          "font": {
           "color": "black",
           "size": 12
          },
          "showarrow": false,
          "text": "$2,932,276.00",
          "textangle": 0,
          "x": "diciembre-2025",
          "xshift": 0,
          "y": 2932276,
          "yshift": 17
         },
         {
          "font": {
           "color": "black",
           "size": 12
          },
          "showarrow": false,
          "text": "$3,287,172.00",
          "textangle": 0,
          "x": "enero-2026",
          "xshift": 0,
          "y": 3287172,
          "yshift": 17
         },
         {
          "font": {
           "color": "black",
           "size": 12
          },
          "showarrow": false,
          "text": "$3,254,908.00",
          "textangle": 0,
          "x": "febrero-2026",
          "xshift": 0,
          "y": 3254908,
          "yshift": 17
         },
         {
          "font": {
           "color": "black",
           "size": 12
          },
          "showarrow": false,
          "text": "$3,222,645.00",
          "textangle": 0,
          "x": "marzo-2026",
          "xshift": 0,
          "y": 3222645,
          "yshift": 17
         },
         {
          "font": {
           "color": "black",
           "size": 12
          },
          "showarrow": false,
          "text": "$3,190,382.00",
          "textangle": 0,
          "x": "abril-2026",
          "xshift": 0,
          "y": 3190382,
          "yshift": 17
         },
         {
          "font": {
           "color": "black",
           "size": 12
          },
          "showarrow": false,
          "text": "$3,158,119.00",
          "textangle": 0,
          "x": "mayo-2026",
          "xshift": 0,
          "y": 3158119,
          "yshift": 17
         },
         {
          "font": {
           "color": "black",
           "size": 12
          },
          "showarrow": false,
          "text": "$3,125,855.00",
          "textangle": 0,
          "x": "junio-2026",
          "xshift": 0,
          "y": 3125855,
          "yshift": 17
         },
         {
          "font": {
           "color": "black",
           "size": 12
          },
          "showarrow": false,
          "text": "$3,093,592.00",
          "textangle": 0,
          "x": "julio-2026",
          "xshift": 0,
          "y": 3093592,
          "yshift": 17
         },
         {
          "font": {
           "color": "black",
           "size": 12
          },
          "showarrow": false,
          "text": "$3,061,329.00",
          "textangle": 0,
          "x": "agosto-2026",
          "xshift": 0,
          "y": 3061329,
          "yshift": 17
         },
         {
          "font": {
           "color": "black",
           "size": 12
          },
          "showarrow": false,
          "text": "$3,029,065.00",
          "textangle": 0,
          "x": "septiembre-2026",
          "xshift": 0,
          "y": 3029065,
          "yshift": 17
         },
         {
          "font": {
           "color": "black",
           "size": 12
          },
          "showarrow": false,
          "text": "$2,996,802.00",
          "textangle": 0,
          "x": "octubre-2026",
          "xshift": 0,
          "y": 2996802,
          "yshift": 17
         },
         {
          "font": {
           "color": "black",
           "size": 12
          },
          "showarrow": false,
          "text": "$2,964,539.00",
          "textangle": 0,
          "x": "noviembre-2026",
          "xshift": 0,
          "y": 2964539,
          "yshift": 17
         },
         {
          "font": {
           "color": "black",
           "size": 12
          },
          "showarrow": false,
          "text": "$2,932,276.00",
          "textangle": 0,
          "x": "diciembre-2026",
          "xshift": 0,
          "y": 2932276,
          "yshift": 17
         }
        ],
        "margin": {
         "b": 10,
         "l": 10,
         "r": 10,
         "t": 10
        },
        "plot_bgcolor": "rgba(0,0,0,0)",
        "template": {
         "data": {
          "bar": [
           {
            "error_x": {
             "color": "#2a3f5f"
            },
            "error_y": {
             "color": "#2a3f5f"
            },
            "marker": {
             "line": {
              "color": "#E5ECF6",
              "width": 0.5
             },
             "pattern": {
              "fillmode": "overlay",
              "size": 10,
              "solidity": 0.2
             }
            },
            "type": "bar"
           }
          ],
          "barpolar": [
           {
            "marker": {
             "line": {
              "color": "#E5ECF6",
              "width": 0.5
             },
             "pattern": {
              "fillmode": "overlay",
              "size": 10,
              "solidity": 0.2
             }
            },
            "type": "barpolar"
           }
          ],
          "carpet": [
           {
            "aaxis": {
             "endlinecolor": "#2a3f5f",
             "gridcolor": "white",
             "linecolor": "white",
             "minorgridcolor": "white",
             "startlinecolor": "#2a3f5f"
            },
            "baxis": {
             "endlinecolor": "#2a3f5f",
             "gridcolor": "white",
             "linecolor": "white",
             "minorgridcolor": "white",
             "startlinecolor": "#2a3f5f"
            },
            "type": "carpet"
           }
          ],
          "choropleth": [
           {
            "colorbar": {
             "outlinewidth": 0,
             "ticks": ""
            },
            "type": "choropleth"
           }
          ],
          "contour": [
           {
            "colorbar": {
             "outlinewidth": 0,
             "ticks": ""
            },
            "colorscale": [
             [
              0,
              "#0d0887"
             ],
             [
              0.1111111111111111,
              "#46039f"
             ],
             [
              0.2222222222222222,
              "#7201a8"
             ],
             [
              0.3333333333333333,
              "#9c179e"
             ],
             [
              0.4444444444444444,
              "#bd3786"
             ],
             [
              0.5555555555555556,
              "#d8576b"
             ],
             [
              0.6666666666666666,
              "#ed7953"
             ],
             [
              0.7777777777777778,
              "#fb9f3a"
             ],
             [
              0.8888888888888888,
              "#fdca26"
             ],
             [
              1,
              "#f0f921"
             ]
            ],
            "type": "contour"
           }
          ],
          "contourcarpet": [
           {
            "colorbar": {
             "outlinewidth": 0,
             "ticks": ""
            },
            "type": "contourcarpet"
           }
          ],
          "heatmap": [
           {
            "colorbar": {
             "outlinewidth": 0,
             "ticks": ""
            },
            "colorscale": [
             [
              0,
              "#0d0887"
             ],
             [
              0.1111111111111111,
              "#46039f"
             ],
             [
              0.2222222222222222,
              "#7201a8"
             ],
             [
              0.3333333333333333,
              "#9c179e"
             ],
             [
              0.4444444444444444,
              "#bd3786"
             ],
             [
              0.5555555555555556,
              "#d8576b"
             ],
             [
              0.6666666666666666,
              "#ed7953"
             ],
             [
              0.7777777777777778,
              "#fb9f3a"
             ],
             [
              0.8888888888888888,
              "#fdca26"
             ],
             [
              1,
              "#f0f921"
             ]
            ],
            "type": "heatmap"
           }
          ],
          "heatmapgl": [
           {
            "colorbar": {
             "outlinewidth": 0,
             "ticks": ""
            },
            "colorscale": [
             [
              0,
              "#0d0887"
             ],
             [
              0.1111111111111111,
              "#46039f"
             ],
             [
              0.2222222222222222,
              "#7201a8"
             ],
             [
              0.3333333333333333,
              "#9c179e"
             ],
             [
              0.4444444444444444,
              "#bd3786"
             ],
             [
              0.5555555555555556,
              "#d8576b"
             ],
             [
              0.6666666666666666,
              "#ed7953"
             ],
             [
              0.7777777777777778,
              "#fb9f3a"
             ],
             [
              0.8888888888888888,
              "#fdca26"
             ],
             [
              1,
              "#f0f921"
             ]
            ],
            "type": "heatmapgl"
           }
          ],
          "histogram": [
           {
            "marker": {
             "pattern": {
              "fillmode": "overlay",
              "size": 10,
              "solidity": 0.2
             }
            },
            "type": "histogram"
           }
          ],
          "histogram2d": [
           {
            "colorbar": {
             "outlinewidth": 0,
             "ticks": ""
            },
            "colorscale": [
             [
              0,
              "#0d0887"
             ],
             [
              0.1111111111111111,
              "#46039f"
             ],
             [
              0.2222222222222222,
              "#7201a8"
             ],
             [
              0.3333333333333333,
              "#9c179e"
             ],
             [
              0.4444444444444444,
              "#bd3786"
             ],
             [
              0.5555555555555556,
              "#d8576b"
             ],
             [
              0.6666666666666666,
              "#ed7953"
             ],
             [
              0.7777777777777778,
              "#fb9f3a"
             ],
             [
              0.8888888888888888,
              "#fdca26"
             ],
             [
              1,
              "#f0f921"
             ]
            ],
            "type": "histogram2d"
           }
          ],
          "histogram2dcontour": [
           {
            "colorbar": {
             "outlinewidth": 0,
             "ticks": ""
            },
            "colorscale": [
             [
              0,
              "#0d0887"
             ],
             [
              0.1111111111111111,
              "#46039f"
             ],
             [
              0.2222222222222222,
              "#7201a8"
             ],
             [
              0.3333333333333333,
              "#9c179e"
             ],
             [
              0.4444444444444444,
              "#bd3786"
             ],
             [
              0.5555555555555556,
              "#d8576b"
             ],
             [
              0.6666666666666666,
              "#ed7953"
             ],
             [
              0.7777777777777778,
              "#fb9f3a"
             ],
             [
              0.8888888888888888,
              "#fdca26"
             ],
             [
              1,
              "#f0f921"
             ]
            ],
            "type": "histogram2dcontour"
           }
          ],
          "mesh3d": [
           {
            "colorbar": {
             "outlinewidth": 0,
             "ticks": ""
            },
            "type": "mesh3d"
           }
          ],
          "parcoords": [
           {
            "line": {
             "colorbar": {
              "outlinewidth": 0,
              "ticks": ""
             }
            },
            "type": "parcoords"
           }
          ],
          "pie": [
           {
            "automargin": true,
            "type": "pie"
           }
          ],
          "scatter": [
           {
            "fillpattern": {
             "fillmode": "overlay",
             "size": 10,
             "solidity": 0.2
            },
            "type": "scatter"
           }
          ],
          "scatter3d": [
           {
            "line": {
             "colorbar": {
              "outlinewidth": 0,
              "ticks": ""
             }
            },
            "marker": {
             "colorbar": {
              "outlinewidth": 0,
              "ticks": ""
             }
            },
            "type": "scatter3d"
           }
          ],
          "scattercarpet": [
           {
            "marker": {
             "colorbar": {
              "outlinewidth": 0,
              "ticks": ""
             }
            },
            "type": "scattercarpet"
           }
          ],
          "scattergeo": [
           {
            "marker": {
             "colorbar": {
              "outlinewidth": 0,
              "ticks": ""
             }
            },
            "type": "scattergeo"
           }
          ],
          "scattergl": [
           {
            "marker": {
             "colorbar": {
              "outlinewidth": 0,
              "ticks": ""
             }
            },
            "type": "scattergl"
           }
          ],
          "scattermapbox": [
           {
            "marker": {
             "colorbar": {
              "outlinewidth": 0,
              "ticks": ""
             }
            },
            "type": "scattermapbox"
           }
          ],
          "scatterpolar": [
           {
            "marker": {
             "colorbar": {
              "outlinewidth": 0,
              "ticks": ""
             }
            },
            "type": "scatterpolar"
           }
          ],
          "scatterpolargl": [
           {
            "marker": {
             "colorbar": {
              "outlinewidth": 0,
              "ticks": ""
             }
            },
            "type": "scatterpolargl"
           }
          ],
          "scatterternary": [
           {
            "marker": {
             "colorbar": {
              "outlinewidth": 0,
              "ticks": ""
             }
            },
            "type": "scatterternary"
           }
          ],
          "surface": [
           {
            "colorbar": {
             "outlinewidth": 0,
             "ticks": ""
            },
            "colorscale": [
             [
              0,
              "#0d0887"
             ],
             [
              0.1111111111111111,
              "#46039f"
             ],
             [
              0.2222222222222222,
              "#7201a8"
             ],
             [
              0.3333333333333333,
              "#9c179e"
             ],
             [
              0.4444444444444444,
              "#bd3786"
             ],
             [
              0.5555555555555556,
              "#d8576b"
             ],
             [
              0.6666666666666666,
              "#ed7953"
             ],
             [
              0.7777777777777778,
              "#fb9f3a"
             ],
             [
              0.8888888888888888,
              "#fdca26"
             ],
             [
              1,
              "#f0f921"
             ]
            ],
            "type": "surface"
           }
          ],
          "table": [
           {
            "cells": {
             "fill": {
              "color": "#EBF0F8"
             },
             "line": {
              "color": "white"
             }
            },
            "header": {
             "fill": {
              "color": "#C8D4E3"
             },
             "line": {
              "color": "white"
             }
            },
            "type": "table"
           }
          ]
         },
         "layout": {
          "annotationdefaults": {
           "arrowcolor": "#2a3f5f",
           "arrowhead": 0,
           "arrowwidth": 1
          },
          "autotypenumbers": "strict",
          "coloraxis": {
           "colorbar": {
            "outlinewidth": 0,
            "ticks": ""
           }
          },
          "colorscale": {
           "diverging": [
            [
             0,
             "#8e0152"
            ],
            [
             0.1,
             "#c51b7d"
            ],
            [
             0.2,
             "#de77ae"
            ],
            [
             0.3,
             "#f1b6da"
            ],
            [
             0.4,
             "#fde0ef"
            ],
            [
             0.5,
             "#f7f7f7"
            ],
            [
             0.6,
             "#e6f5d0"
            ],
            [
             0.7,
             "#b8e186"
            ],
            [
             0.8,
             "#7fbc41"
            ],
            [
             0.9,
             "#4d9221"
            ],
            [
             1,
             "#276419"
            ]
           ],
           "sequential": [
            [
             0,
             "#0d0887"
            ],
            [
             0.1111111111111111,
             "#46039f"
            ],
            [
             0.2222222222222222,
             "#7201a8"
            ],
            [
             0.3333333333333333,
             "#9c179e"
            ],
            [
             0.4444444444444444,
             "#bd3786"
            ],
            [
             0.5555555555555556,
             "#d8576b"
            ],
            [
             0.6666666666666666,
             "#ed7953"
            ],
            [
             0.7777777777777778,
             "#fb9f3a"
            ],
            [
             0.8888888888888888,
             "#fdca26"
            ],
            [
             1,
             "#f0f921"
            ]
           ],
           "sequentialminus": [
            [
             0,
             "#0d0887"
            ],
            [
             0.1111111111111111,
             "#46039f"
            ],
            [
             0.2222222222222222,
             "#7201a8"
            ],
            [
             0.3333333333333333,
             "#9c179e"
            ],
            [
             0.4444444444444444,
             "#bd3786"
            ],
            [
             0.5555555555555556,
             "#d8576b"
            ],
            [
             0.6666666666666666,
             "#ed7953"
            ],
            [
             0.7777777777777778,
             "#fb9f3a"
            ],
            [
             0.8888888888888888,
             "#fdca26"
            ],
            [
             1,
             "#f0f921"
            ]
           ]
          },
          "colorway": [
           "#636efa",
           "#EF553B",
           "#00cc96",
           "#ab63fa",
           "#FFA15A",
           "#19d3f3",
           "#FF6692",
           "#B6E880",
           "#FF97FF",
           "#FECB52"
          ],
          "font": {
           "color": "#2a3f5f"
          },
          "geo": {
           "bgcolor": "white",
           "lakecolor": "white",
           "landcolor": "#E5ECF6",
           "showlakes": true,
           "showland": true,
           "subunitcolor": "white"
          },
          "hoverlabel": {
           "align": "left"
          },
          "hovermode": "closest",
          "mapbox": {
           "style": "light"
          },
          "paper_bgcolor": "white",
          "plot_bgcolor": "#E5ECF6",
          "polar": {
           "angularaxis": {
            "gridcolor": "white",
            "linecolor": "white",
            "ticks": ""
           },
           "bgcolor": "#E5ECF6",
           "radialaxis": {
            "gridcolor": "white",
            "linecolor": "white",
            "ticks": ""
           }
          },
          "scene": {
           "xaxis": {
            "backgroundcolor": "#E5ECF6",
            "gridcolor": "white",
            "gridwidth": 2,
            "linecolor": "white",
            "showbackground": true,
            "ticks": "",
            "zerolinecolor": "white"
           },
           "yaxis": {
            "backgroundcolor": "#E5ECF6",
            "gridcolor": "white",
            "gridwidth": 2,
            "linecolor": "white",
            "showbackground": true,
            "ticks": "",
            "zerolinecolor": "white"
           },
           "zaxis": {
            "backgroundcolor": "#E5ECF6",
            "gridcolor": "white",
            "gridwidth": 2,
            "linecolor": "white",
            "showbackground": true,
            "ticks": "",
            "zerolinecolor": "white"
           }
          },
          "shapedefaults": {
           "line": {
            "color": "#2a3f5f"
           }
          },
          "ternary": {
           "aaxis": {
            "gridcolor": "white",
            "linecolor": "white",
            "ticks": ""
           },
           "baxis": {
            "gridcolor": "white",
            "linecolor": "white",
            "ticks": ""
           },
           "bgcolor": "#E5ECF6",
           "caxis": {
            "gridcolor": "white",
            "linecolor": "white",
            "ticks": ""
           }
          },
          "title": {
           "x": 0.05
          },
          "xaxis": {
           "automargin": true,
           "gridcolor": "white",
           "linecolor": "white",
           "ticks": "",
           "title": {
            "standoff": 15
           },
           "zerolinecolor": "white",
           "zerolinewidth": 2
          },
          "yaxis": {
           "automargin": true,
           "gridcolor": "white",
           "linecolor": "white",
           "ticks": "",
           "title": {
            "standoff": 15
           },
           "zerolinecolor": "white",
           "zerolinewidth": 2
          }
         }
        },
        "xaxis": {
         "gridcolor": "#dddcda",
         "tickmode": "array",
         "ticktext": [
          "enero-2024",
          "febrero-2024",
          "marzo-2024",
          "mayo-2024",
          "junio-2024",
          "julio-2024",
          "agosto-2024",
          "septiembre-2024",
          "octubre-2024",
          "noviembre-2024",
          "diciembre-2024",
          "enero-2025",
          "febrero-2025",
          "marzo-2025",
          "abril-2025",
          "mayo-2025",
          "junio-2025",
          "julio-2025",
          "agosto-2025",
          "septiembre-2025",
          "octubre-2025",
          "noviembre-2025",
          "diciembre-2025",
          "enero-2026",
          "febrero-2026",
          "marzo-2026",
          "abril-2026",
          "mayo-2026",
          "junio-2026",
          "julio-2026",
          "agosto-2026",
          "septiembre-2026",
          "octubre-2026",
          "noviembre-2026",
          "diciembre-2026"
         ],
         "tickvals": [
          "enero-2024",
          "febrero-2024",
          "marzo-2024",
          "mayo-2024",
          "junio-2024",
          "julio-2024",
          "agosto-2024",
          "septiembre-2024",
          "octubre-2024",
          "noviembre-2024",
          "diciembre-2024",
          "enero-2025",
          "febrero-2025",
          "marzo-2025",
          "abril-2025",
          "mayo-2025",
          "junio-2025",
          "julio-2025",
          "agosto-2025",
          "septiembre-2025",
          "octubre-2025",
          "noviembre-2025",
          "diciembre-2025",
          "enero-2026",
          "febrero-2026",
          "marzo-2026",
          "abril-2026",
          "mayo-2026",
          "junio-2026",
          "julio-2026",
          "agosto-2026",
          "septiembre-2026",
          "octubre-2026",
          "noviembre-2026",
          "diciembre-2026"
         ]
        },
        "yaxis": {
         "gridcolor": "#dddcda",
         "gridwidth": 1,
         "title": {
          "text": "Monto"
         }
        }
       }
      }
     },
     "metadata": {},
     "output_type": "display_data"
    }
   ],
   "source": [
    "# Datos\n",
    "año = nueva_conteo_pachuca['label']\n",
    "promedio = nueva_conteo_pachuca['precio_promedio']\n",
    "\n",
    "# Crear una función para formatear los valores grandes en palabras en español\n",
    "def formatear_numero(valor):\n",
    "    if valor >= 1_000_000_000_000:\n",
    "        return f'{valor / 1_000_000_000:.2f} billones'\n",
    "    elif valor >= 1_000_000_000:\n",
    "        return f'{valor / 1_000_000_000:.0f} mil millones'  # Mil millones\n",
    "    elif valor >= 1_000_000:\n",
    "        return f'{valor / 1_000_000:.0f} millones'  # Millones\n",
    "    elif valor >= 1_000:\n",
    "        return f'{valor / 1_000:.0f} mil'  # Mil\n",
    "    else:\n",
    "        return str(valor)\n",
    "# Configurar los valores y el texto del eje Y\n",
    "tickvals = [4150000000000, 4160000000000, 4170000000000]\n",
    "ticktext = [formatear_numero(val) for val in tickvals]\n",
    "\n",
    "fig = go.Figure()\n",
    "fig.add_trace(go.Scatter(\n",
    "    x=año,\n",
    "    y=promedio,\n",
    "    mode='markers+lines',\n",
    "    marker=dict(color='blue'),\n",
    "))\n",
    "# Agregar anotaciones para mostrar los valores encima de los puntos\n",
    "for a, p in zip(año, promedio):\n",
    "    fig.add_annotation(\n",
    "        x=a,\n",
    "        y=p,\n",
    "        text=f\"${p:,.2f}\",  # Formatear el valor del promedio como moneda\n",
    "        showarrow=False,\n",
    "        font=dict(color='black', size=12),\n",
    "        xshift=0,\n",
    "        yshift=17,\n",
    "        textangle=0\n",
    "    )\n",
    "# Actualizar diseño\n",
    "fig.update_layout(\n",
    "    #title='Plusvalía estimada',   \n",
    "    yaxis=dict(\n",
    "        title=\"Monto\",\n",
    "        gridwidth=1,  # Ancho de las líneas de la cuadrícula\n",
    "        gridcolor='#dddcda', \n",
    "\n",
    "    ),\n",
    "    xaxis=dict(\n",
    "        gridcolor='#dddcda', \n",
    "        tickmode='array',\n",
    "        tickvals=año,\n",
    "        ticktext=año\n",
    "    ),\n",
    "    plot_bgcolor='rgba(0,0,0,0)',\n",
    "        margin=dict(l=10, r=10, t=10, b=10)\n",
    "\n",
    ")\n",
    "# Exportar gráfica como archivo HTML\n",
    "def guardar_grafico_como_html(fig, nombre_archivo, carpeta='graficas'):\n",
    "    # Crear la carpeta si no existe\n",
    "    if not os.path.exists(carpeta):\n",
    "        os.makedirs(carpeta)\n",
    "    \n",
    "    # Gráfica como archivo HTML en la carpeta especificada\n",
    "    pio.write_html(fig, f'{carpeta}/{nombre_archivo}.html')\n",
    "\n",
    "guardar_grafico_como_html(fig, 'g_scatt_plusvaliaestimada', carpeta='graficas')\n",
    "fig.show()"
   ]
  },
  {
   "cell_type": "markdown",
   "metadata": {},
   "source": [
    "# LAMUDI"
   ]
  },
  {
   "cell_type": "code",
   "execution_count": 53,
   "metadata": {},
   "outputs": [
    {
     "name": "stdout",
     "output_type": "stream",
     "text": [
      "     mes   año    value_x    value_y   promedio\n",
      "0    Abr  2024  2650000.0  2650000.0  2650000.0\n",
      "1    Ago  2024  3250000.0  2900000.0  3075000.0\n",
      "2    Dic  2023  2850000.0  2646000.0  2748000.0\n",
      "3    Ene  2024  2800000.0  2646000.0  2723000.0\n",
      "4    Feb  2024  3100000.0  2646000.0  2873000.0\n",
      "5    Jul  2024  3034197.0  2850000.0  2942098.5\n",
      "6    Jun  2024  2833000.0  2800000.0  2816500.0\n",
      "7    Mar  2024  2850000.0  2646000.0  2748000.0\n",
      "8    May  2024  2650000.0  2750000.0  2700000.0\n",
      "9    Nov  2023  2850000.0  2646000.0  2748000.0\n",
      "10   Oct  2023  3080000.0  2590000.0  2835000.0\n",
      "11   Oct  2024  3242316.0  2985000.0  3113658.0\n",
      "12  Sept  2024  3200000.0  2950000.0  3075000.0\n"
     ]
    }
   ],
   "source": [
    "import pandas as pd\n",
    "\n",
    "# Crear un DataFrame para los datos de precio promedio de casas\n",
    "df_casas = pd.DataFrame([\n",
    "    {\"label\":\"Oct 23\",\"mes\":\"Oct\",\"año\":\"2023\",\"value\":3080000},\n",
    "    {\"label\":\"Nov 23\",\"mes\":\"Nov\",\"año\":\"2023\",\"value\":2850000},\n",
    "    {\"label\":\"Dic 23\",\"mes\":\"Dic\",\"año\":\"2023\",\"value\":2850000},\n",
    "    {\"label\":\"Ene 24\",\"mes\":\"Ene\",\"año\":\"2024\",\"value\":2800000},\n",
    "    {\"label\":\"Feb 24\",\"mes\":\"Feb\",\"año\":\"2024\",\"value\":3100000},\n",
    "    {\"label\":\"Mar 24\",\"mes\":\"Mar\",\"año\":\"2024\",\"value\":2850000},\n",
    "    {\"label\":\"Abr 24\",\"mes\":\"Abr\",\"año\":\"2024\",\"value\":2650000},\n",
    "    {\"label\":\"May 24\",\"mes\":\"May\",\"año\":\"2024\",\"value\":2650000},\n",
    "    {\"label\":\"Jun 24\",\"mes\":\"Jun\",\"año\":\"2024\",\"value\":2833000},\n",
    "    {\"label\":\"Jul 24\",\"mes\":\"Jul\",\"año\":\"2024\",\"value\":3034197},\n",
    "    {\"label\":\"Ago 24\",\"mes\":\"Ago\",\"año\":\"2024\",\"value\":3250000},\n",
    "    {\"label\":\"Sept 24\",\"mes\":\"Sept\",\"año\":\"2024\",\"value\":3200000},\n",
    "    {\"label\":\"Oct 24\",\"mes\":\"Oct\",\"año\":\"2024\",\"value\":3242316}\n",
    "])\n",
    "\n",
    "# Crear un DataFrame para los datos de precio promedio de departamentos\n",
    "df_departamentos = pd.DataFrame([\n",
    "    {\"label\":\"Oct 23\",\"mes\":\"Oct\",\"año\":\"2023\",\"value\":2590000},\n",
    "    {\"label\":\"Nov 23\",\"mes\":\"Nov\",\"año\":\"2023\",\"value\":2646000},\n",
    "    {\"label\":\"Dic 23\",\"mes\":\"Dic\",\"año\":\"2023\",\"value\":2646000},\n",
    "    {\"label\":\"Ene 24\",\"mes\":\"Ene\",\"año\":\"2024\",\"value\":2646000},\n",
    "    {\"label\":\"Feb 24\",\"mes\":\"Feb\",\"año\":\"2024\",\"value\":2646000},\n",
    "    {\"label\":\"Mar 24\",\"mes\":\"Mar\",\"año\":\"2024\",\"value\":2646000},\n",
    "    {\"label\":\"Abr 24\",\"mes\":\"Abr\",\"año\":\"2024\",\"value\":2650000},\n",
    "    {\"label\":\"May 24\",\"mes\":\"May\",\"año\":\"2024\",\"value\":2750000},\n",
    "    {\"label\":\"Jun 24\",\"mes\":\"Jun\",\"año\":\"2024\",\"value\":2800000},\n",
    "    {\"label\":\"Jul 24\",\"mes\":\"Jul\",\"año\":\"2024\",\"value\":2850000},\n",
    "    {\"label\":\"Ago 24\",\"mes\":\"Ago\",\"año\":\"2024\",\"value\":2900000},\n",
    "    {\"label\":\"Sept 24\",\"mes\":\"Sept\",\"año\":\"2024\",\"value\":2950000},\n",
    "    {\"label\":\"Oct 24\",\"mes\":\"Oct\",\"año\":\"2024\",\"value\":2985000}\n",
    "])\n",
    "\n",
    "# Calcular el promedio de los datos por label único, incluyendo mes y año\n",
    "df_promedio = pd.merge(df_casas.groupby(['mes', 'año'])['value'].mean().reset_index(),\n",
    "                       df_departamentos.groupby(['mes', 'año'])['value'].mean().reset_index(),\n",
    "                       on=['mes', 'año'], how='inner')\n",
    "\n",
    "df_promedio['promedio'] = (df_promedio['value_x'] + df_promedio['value_y']) / 2\n",
    "\n",
    "# Mostrar el DataFrame\n",
    "print(df_promedio)"
   ]
  },
  {
   "cell_type": "code",
   "execution_count": 54,
   "metadata": {},
   "outputs": [
    {
     "data": {
      "text/html": [
       "<div>\n",
       "<style scoped>\n",
       "    .dataframe tbody tr th:only-of-type {\n",
       "        vertical-align: middle;\n",
       "    }\n",
       "\n",
       "    .dataframe tbody tr th {\n",
       "        vertical-align: top;\n",
       "    }\n",
       "\n",
       "    .dataframe thead th {\n",
       "        text-align: right;\n",
       "    }\n",
       "</style>\n",
       "<table border=\"1\" class=\"dataframe\">\n",
       "  <thead>\n",
       "    <tr style=\"text-align: right;\">\n",
       "      <th></th>\n",
       "      <th>mes</th>\n",
       "      <th>año</th>\n",
       "      <th>value_x</th>\n",
       "      <th>value_y</th>\n",
       "      <th>promedio</th>\n",
       "      <th>label</th>\n",
       "      <th>mes_numero</th>\n",
       "    </tr>\n",
       "  </thead>\n",
       "  <tbody>\n",
       "    <tr>\n",
       "      <th>0</th>\n",
       "      <td>Oct</td>\n",
       "      <td>2023</td>\n",
       "      <td>3080000.0</td>\n",
       "      <td>2590000.0</td>\n",
       "      <td>2835000.0</td>\n",
       "      <td>Oct-2023</td>\n",
       "      <td>10</td>\n",
       "    </tr>\n",
       "    <tr>\n",
       "      <th>1</th>\n",
       "      <td>Nov</td>\n",
       "      <td>2023</td>\n",
       "      <td>2850000.0</td>\n",
       "      <td>2646000.0</td>\n",
       "      <td>2748000.0</td>\n",
       "      <td>Nov-2023</td>\n",
       "      <td>11</td>\n",
       "    </tr>\n",
       "    <tr>\n",
       "      <th>2</th>\n",
       "      <td>Dic</td>\n",
       "      <td>2023</td>\n",
       "      <td>2850000.0</td>\n",
       "      <td>2646000.0</td>\n",
       "      <td>2748000.0</td>\n",
       "      <td>Dic-2023</td>\n",
       "      <td>12</td>\n",
       "    </tr>\n",
       "    <tr>\n",
       "      <th>3</th>\n",
       "      <td>Ene</td>\n",
       "      <td>2024</td>\n",
       "      <td>2800000.0</td>\n",
       "      <td>2646000.0</td>\n",
       "      <td>2723000.0</td>\n",
       "      <td>Ene-2024</td>\n",
       "      <td>1</td>\n",
       "    </tr>\n",
       "    <tr>\n",
       "      <th>4</th>\n",
       "      <td>Oct</td>\n",
       "      <td>2024</td>\n",
       "      <td>3242316.0</td>\n",
       "      <td>2985000.0</td>\n",
       "      <td>3113658.0</td>\n",
       "      <td>Oct-2024</td>\n",
       "      <td>10</td>\n",
       "    </tr>\n",
       "    <tr>\n",
       "      <th>5</th>\n",
       "      <td>Feb</td>\n",
       "      <td>2024</td>\n",
       "      <td>3100000.0</td>\n",
       "      <td>2646000.0</td>\n",
       "      <td>2873000.0</td>\n",
       "      <td>Feb-2024</td>\n",
       "      <td>2</td>\n",
       "    </tr>\n",
       "    <tr>\n",
       "      <th>6</th>\n",
       "      <td>Mar</td>\n",
       "      <td>2024</td>\n",
       "      <td>2850000.0</td>\n",
       "      <td>2646000.0</td>\n",
       "      <td>2748000.0</td>\n",
       "      <td>Mar-2024</td>\n",
       "      <td>3</td>\n",
       "    </tr>\n",
       "    <tr>\n",
       "      <th>7</th>\n",
       "      <td>Abr</td>\n",
       "      <td>2024</td>\n",
       "      <td>2650000.0</td>\n",
       "      <td>2650000.0</td>\n",
       "      <td>2650000.0</td>\n",
       "      <td>Abr-2024</td>\n",
       "      <td>4</td>\n",
       "    </tr>\n",
       "    <tr>\n",
       "      <th>8</th>\n",
       "      <td>May</td>\n",
       "      <td>2024</td>\n",
       "      <td>2650000.0</td>\n",
       "      <td>2750000.0</td>\n",
       "      <td>2700000.0</td>\n",
       "      <td>May-2024</td>\n",
       "      <td>5</td>\n",
       "    </tr>\n",
       "    <tr>\n",
       "      <th>9</th>\n",
       "      <td>Jun</td>\n",
       "      <td>2024</td>\n",
       "      <td>2833000.0</td>\n",
       "      <td>2800000.0</td>\n",
       "      <td>2816500.0</td>\n",
       "      <td>Jun-2024</td>\n",
       "      <td>6</td>\n",
       "    </tr>\n",
       "    <tr>\n",
       "      <th>10</th>\n",
       "      <td>Jul</td>\n",
       "      <td>2024</td>\n",
       "      <td>3034197.0</td>\n",
       "      <td>2850000.0</td>\n",
       "      <td>2942098.5</td>\n",
       "      <td>Jul-2024</td>\n",
       "      <td>7</td>\n",
       "    </tr>\n",
       "    <tr>\n",
       "      <th>11</th>\n",
       "      <td>Ago</td>\n",
       "      <td>2024</td>\n",
       "      <td>3250000.0</td>\n",
       "      <td>2900000.0</td>\n",
       "      <td>3075000.0</td>\n",
       "      <td>Ago-2024</td>\n",
       "      <td>8</td>\n",
       "    </tr>\n",
       "    <tr>\n",
       "      <th>12</th>\n",
       "      <td>Sept</td>\n",
       "      <td>2024</td>\n",
       "      <td>3200000.0</td>\n",
       "      <td>2950000.0</td>\n",
       "      <td>3075000.0</td>\n",
       "      <td>Sept-2024</td>\n",
       "      <td>9</td>\n",
       "    </tr>\n",
       "  </tbody>\n",
       "</table>\n",
       "</div>"
      ],
      "text/plain": [
       "     mes   año    value_x    value_y   promedio      label mes_numero\n",
       "0    Oct  2023  3080000.0  2590000.0  2835000.0   Oct-2023         10\n",
       "1    Nov  2023  2850000.0  2646000.0  2748000.0   Nov-2023         11\n",
       "2    Dic  2023  2850000.0  2646000.0  2748000.0   Dic-2023         12\n",
       "3    Ene  2024  2800000.0  2646000.0  2723000.0   Ene-2024          1\n",
       "4    Oct  2024  3242316.0  2985000.0  3113658.0   Oct-2024         10\n",
       "5    Feb  2024  3100000.0  2646000.0  2873000.0   Feb-2024          2\n",
       "6    Mar  2024  2850000.0  2646000.0  2748000.0   Mar-2024          3\n",
       "7    Abr  2024  2650000.0  2650000.0  2650000.0   Abr-2024          4\n",
       "8    May  2024  2650000.0  2750000.0  2700000.0   May-2024          5\n",
       "9    Jun  2024  2833000.0  2800000.0  2816500.0   Jun-2024          6\n",
       "10   Jul  2024  3034197.0  2850000.0  2942098.5   Jul-2024          7\n",
       "11   Ago  2024  3250000.0  2900000.0  3075000.0   Ago-2024          8\n",
       "12  Sept  2024  3200000.0  2950000.0  3075000.0  Sept-2024          9"
      ]
     },
     "execution_count": 54,
     "metadata": {},
     "output_type": "execute_result"
    }
   ],
   "source": [
    "df_promedio['label'] = df_promedio['mes'] + '-' + df_promedio['año']\n",
    "df_promedio['mes_numero'] = df_promedio['mes'].map({'Ene': '1', 'Feb': '2', 'Mar': '3', 'Abr': '4', 'May': '5', 'Jun': '6', 'Jul': '7', 'Ago': '8', 'Sept': '9', 'Oct': '10', 'Nov': '11', 'Dic': '12'})\n",
    "df_promedio = df_promedio.sort_values(by=['año', 'mes_numero']).reset_index(drop=True)\n",
    "df_promedio"
   ]
  },
  {
   "cell_type": "code",
   "execution_count": 55,
   "metadata": {},
   "outputs": [
    {
     "name": "stdout",
     "output_type": "stream",
     "text": [
      "<class 'pandas.core.frame.DataFrame'>\n",
      "RangeIndex: 13 entries, 0 to 12\n",
      "Data columns (total 7 columns):\n",
      " #   Column      Non-Null Count  Dtype  \n",
      "---  ------      --------------  -----  \n",
      " 0   mes         13 non-null     object \n",
      " 1   año         13 non-null     int64  \n",
      " 2   value_x     13 non-null     float64\n",
      " 3   value_y     13 non-null     float64\n",
      " 4   promedio    13 non-null     float64\n",
      " 5   label       13 non-null     object \n",
      " 6   mes_numero  13 non-null     int64  \n",
      "dtypes: float64(3), int64(2), object(2)\n",
      "memory usage: 860.0+ bytes\n"
     ]
    }
   ],
   "source": [
    "df_promedio['mes_numero'] = df_promedio['mes_numero'].astype(int)\n",
    "df_promedio['año'] = df_promedio['año'].astype(int)\n",
    "df_promedio = df_promedio.sort_values(by=['año', 'mes_numero']).reset_index(drop=True)\n",
    "\n",
    "df_promedio.info()"
   ]
  },
  {
   "cell_type": "code",
   "execution_count": 56,
   "metadata": {},
   "outputs": [
    {
     "data": {
      "application/vnd.plotly.v1+json": {
       "config": {
        "plotlyServerURL": "https://plot.ly"
       },
       "data": [
        {
         "marker": {
          "color": "blue"
         },
         "mode": "markers+lines",
         "type": "scatter",
         "x": [
          "Oct-2023",
          "Nov-2023",
          "Dic-2023",
          "Ene-2024",
          "Feb-2024",
          "Mar-2024",
          "Abr-2024",
          "May-2024",
          "Jun-2024",
          "Jul-2024",
          "Ago-2024",
          "Sept-2024",
          "Oct-2024"
         ],
         "y": [
          2835000,
          2748000,
          2748000,
          2723000,
          2873000,
          2748000,
          2650000,
          2700000,
          2816500,
          2942098.5,
          3075000,
          3075000,
          3113658
         ]
        }
       ],
       "layout": {
        "annotations": [
         {
          "font": {
           "color": "black",
           "size": 12
          },
          "showarrow": false,
          "text": "$2,835,000.00",
          "textangle": 0,
          "x": "Oct-2023",
          "xshift": 0,
          "y": 2835000,
          "yshift": 17
         },
         {
          "font": {
           "color": "black",
           "size": 12
          },
          "showarrow": false,
          "text": "$2,748,000.00",
          "textangle": 0,
          "x": "Nov-2023",
          "xshift": 0,
          "y": 2748000,
          "yshift": 17
         },
         {
          "font": {
           "color": "black",
           "size": 12
          },
          "showarrow": false,
          "text": "$2,748,000.00",
          "textangle": 0,
          "x": "Dic-2023",
          "xshift": 0,
          "y": 2748000,
          "yshift": 17
         },
         {
          "font": {
           "color": "black",
           "size": 12
          },
          "showarrow": false,
          "text": "$2,723,000.00",
          "textangle": 0,
          "x": "Ene-2024",
          "xshift": 0,
          "y": 2723000,
          "yshift": 17
         },
         {
          "font": {
           "color": "black",
           "size": 12
          },
          "showarrow": false,
          "text": "$2,873,000.00",
          "textangle": 0,
          "x": "Feb-2024",
          "xshift": 0,
          "y": 2873000,
          "yshift": 17
         },
         {
          "font": {
           "color": "black",
           "size": 12
          },
          "showarrow": false,
          "text": "$2,748,000.00",
          "textangle": 0,
          "x": "Mar-2024",
          "xshift": 0,
          "y": 2748000,
          "yshift": 17
         },
         {
          "font": {
           "color": "black",
           "size": 12
          },
          "showarrow": false,
          "text": "$2,650,000.00",
          "textangle": 0,
          "x": "Abr-2024",
          "xshift": 0,
          "y": 2650000,
          "yshift": 17
         },
         {
          "font": {
           "color": "black",
           "size": 12
          },
          "showarrow": false,
          "text": "$2,700,000.00",
          "textangle": 0,
          "x": "May-2024",
          "xshift": 0,
          "y": 2700000,
          "yshift": 17
         },
         {
          "font": {
           "color": "black",
           "size": 12
          },
          "showarrow": false,
          "text": "$2,816,500.00",
          "textangle": 0,
          "x": "Jun-2024",
          "xshift": 0,
          "y": 2816500,
          "yshift": 17
         },
         {
          "font": {
           "color": "black",
           "size": 12
          },
          "showarrow": false,
          "text": "$2,942,098.50",
          "textangle": 0,
          "x": "Jul-2024",
          "xshift": 0,
          "y": 2942098.5,
          "yshift": 17
         },
         {
          "font": {
           "color": "black",
           "size": 12
          },
          "showarrow": false,
          "text": "$3,075,000.00",
          "textangle": 0,
          "x": "Ago-2024",
          "xshift": 0,
          "y": 3075000,
          "yshift": 17
         },
         {
          "font": {
           "color": "black",
           "size": 12
          },
          "showarrow": false,
          "text": "$3,075,000.00",
          "textangle": 0,
          "x": "Sept-2024",
          "xshift": 0,
          "y": 3075000,
          "yshift": 17
         },
         {
          "font": {
           "color": "black",
           "size": 12
          },
          "showarrow": false,
          "text": "$3,113,658.00",
          "textangle": 0,
          "x": "Oct-2024",
          "xshift": 0,
          "y": 3113658,
          "yshift": 17
         }
        ],
        "margin": {
         "b": 10,
         "l": 10,
         "r": 10,
         "t": 10
        },
        "plot_bgcolor": "rgba(0,0,0,0)",
        "template": {
         "data": {
          "bar": [
           {
            "error_x": {
             "color": "#2a3f5f"
            },
            "error_y": {
             "color": "#2a3f5f"
            },
            "marker": {
             "line": {
              "color": "#E5ECF6",
              "width": 0.5
             },
             "pattern": {
              "fillmode": "overlay",
              "size": 10,
              "solidity": 0.2
             }
            },
            "type": "bar"
           }
          ],
          "barpolar": [
           {
            "marker": {
             "line": {
              "color": "#E5ECF6",
              "width": 0.5
             },
             "pattern": {
              "fillmode": "overlay",
              "size": 10,
              "solidity": 0.2
             }
            },
            "type": "barpolar"
           }
          ],
          "carpet": [
           {
            "aaxis": {
             "endlinecolor": "#2a3f5f",
             "gridcolor": "white",
             "linecolor": "white",
             "minorgridcolor": "white",
             "startlinecolor": "#2a3f5f"
            },
            "baxis": {
             "endlinecolor": "#2a3f5f",
             "gridcolor": "white",
             "linecolor": "white",
             "minorgridcolor": "white",
             "startlinecolor": "#2a3f5f"
            },
            "type": "carpet"
           }
          ],
          "choropleth": [
           {
            "colorbar": {
             "outlinewidth": 0,
             "ticks": ""
            },
            "type": "choropleth"
           }
          ],
          "contour": [
           {
            "colorbar": {
             "outlinewidth": 0,
             "ticks": ""
            },
            "colorscale": [
             [
              0,
              "#0d0887"
             ],
             [
              0.1111111111111111,
              "#46039f"
             ],
             [
              0.2222222222222222,
              "#7201a8"
             ],
             [
              0.3333333333333333,
              "#9c179e"
             ],
             [
              0.4444444444444444,
              "#bd3786"
             ],
             [
              0.5555555555555556,
              "#d8576b"
             ],
             [
              0.6666666666666666,
              "#ed7953"
             ],
             [
              0.7777777777777778,
              "#fb9f3a"
             ],
             [
              0.8888888888888888,
              "#fdca26"
             ],
             [
              1,
              "#f0f921"
             ]
            ],
            "type": "contour"
           }
          ],
          "contourcarpet": [
           {
            "colorbar": {
             "outlinewidth": 0,
             "ticks": ""
            },
            "type": "contourcarpet"
           }
          ],
          "heatmap": [
           {
            "colorbar": {
             "outlinewidth": 0,
             "ticks": ""
            },
            "colorscale": [
             [
              0,
              "#0d0887"
             ],
             [
              0.1111111111111111,
              "#46039f"
             ],
             [
              0.2222222222222222,
              "#7201a8"
             ],
             [
              0.3333333333333333,
              "#9c179e"
             ],
             [
              0.4444444444444444,
              "#bd3786"
             ],
             [
              0.5555555555555556,
              "#d8576b"
             ],
             [
              0.6666666666666666,
              "#ed7953"
             ],
             [
              0.7777777777777778,
              "#fb9f3a"
             ],
             [
              0.8888888888888888,
              "#fdca26"
             ],
             [
              1,
              "#f0f921"
             ]
            ],
            "type": "heatmap"
           }
          ],
          "heatmapgl": [
           {
            "colorbar": {
             "outlinewidth": 0,
             "ticks": ""
            },
            "colorscale": [
             [
              0,
              "#0d0887"
             ],
             [
              0.1111111111111111,
              "#46039f"
             ],
             [
              0.2222222222222222,
              "#7201a8"
             ],
             [
              0.3333333333333333,
              "#9c179e"
             ],
             [
              0.4444444444444444,
              "#bd3786"
             ],
             [
              0.5555555555555556,
              "#d8576b"
             ],
             [
              0.6666666666666666,
              "#ed7953"
             ],
             [
              0.7777777777777778,
              "#fb9f3a"
             ],
             [
              0.8888888888888888,
              "#fdca26"
             ],
             [
              1,
              "#f0f921"
             ]
            ],
            "type": "heatmapgl"
           }
          ],
          "histogram": [
           {
            "marker": {
             "pattern": {
              "fillmode": "overlay",
              "size": 10,
              "solidity": 0.2
             }
            },
            "type": "histogram"
           }
          ],
          "histogram2d": [
           {
            "colorbar": {
             "outlinewidth": 0,
             "ticks": ""
            },
            "colorscale": [
             [
              0,
              "#0d0887"
             ],
             [
              0.1111111111111111,
              "#46039f"
             ],
             [
              0.2222222222222222,
              "#7201a8"
             ],
             [
              0.3333333333333333,
              "#9c179e"
             ],
             [
              0.4444444444444444,
              "#bd3786"
             ],
             [
              0.5555555555555556,
              "#d8576b"
             ],
             [
              0.6666666666666666,
              "#ed7953"
             ],
             [
              0.7777777777777778,
              "#fb9f3a"
             ],
             [
              0.8888888888888888,
              "#fdca26"
             ],
             [
              1,
              "#f0f921"
             ]
            ],
            "type": "histogram2d"
           }
          ],
          "histogram2dcontour": [
           {
            "colorbar": {
             "outlinewidth": 0,
             "ticks": ""
            },
            "colorscale": [
             [
              0,
              "#0d0887"
             ],
             [
              0.1111111111111111,
              "#46039f"
             ],
             [
              0.2222222222222222,
              "#7201a8"
             ],
             [
              0.3333333333333333,
              "#9c179e"
             ],
             [
              0.4444444444444444,
              "#bd3786"
             ],
             [
              0.5555555555555556,
              "#d8576b"
             ],
             [
              0.6666666666666666,
              "#ed7953"
             ],
             [
              0.7777777777777778,
              "#fb9f3a"
             ],
             [
              0.8888888888888888,
              "#fdca26"
             ],
             [
              1,
              "#f0f921"
             ]
            ],
            "type": "histogram2dcontour"
           }
          ],
          "mesh3d": [
           {
            "colorbar": {
             "outlinewidth": 0,
             "ticks": ""
            },
            "type": "mesh3d"
           }
          ],
          "parcoords": [
           {
            "line": {
             "colorbar": {
              "outlinewidth": 0,
              "ticks": ""
             }
            },
            "type": "parcoords"
           }
          ],
          "pie": [
           {
            "automargin": true,
            "type": "pie"
           }
          ],
          "scatter": [
           {
            "fillpattern": {
             "fillmode": "overlay",
             "size": 10,
             "solidity": 0.2
            },
            "type": "scatter"
           }
          ],
          "scatter3d": [
           {
            "line": {
             "colorbar": {
              "outlinewidth": 0,
              "ticks": ""
             }
            },
            "marker": {
             "colorbar": {
              "outlinewidth": 0,
              "ticks": ""
             }
            },
            "type": "scatter3d"
           }
          ],
          "scattercarpet": [
           {
            "marker": {
             "colorbar": {
              "outlinewidth": 0,
              "ticks": ""
             }
            },
            "type": "scattercarpet"
           }
          ],
          "scattergeo": [
           {
            "marker": {
             "colorbar": {
              "outlinewidth": 0,
              "ticks": ""
             }
            },
            "type": "scattergeo"
           }
          ],
          "scattergl": [
           {
            "marker": {
             "colorbar": {
              "outlinewidth": 0,
              "ticks": ""
             }
            },
            "type": "scattergl"
           }
          ],
          "scattermapbox": [
           {
            "marker": {
             "colorbar": {
              "outlinewidth": 0,
              "ticks": ""
             }
            },
            "type": "scattermapbox"
           }
          ],
          "scatterpolar": [
           {
            "marker": {
             "colorbar": {
              "outlinewidth": 0,
              "ticks": ""
             }
            },
            "type": "scatterpolar"
           }
          ],
          "scatterpolargl": [
           {
            "marker": {
             "colorbar": {
              "outlinewidth": 0,
              "ticks": ""
             }
            },
            "type": "scatterpolargl"
           }
          ],
          "scatterternary": [
           {
            "marker": {
             "colorbar": {
              "outlinewidth": 0,
              "ticks": ""
             }
            },
            "type": "scatterternary"
           }
          ],
          "surface": [
           {
            "colorbar": {
             "outlinewidth": 0,
             "ticks": ""
            },
            "colorscale": [
             [
              0,
              "#0d0887"
             ],
             [
              0.1111111111111111,
              "#46039f"
             ],
             [
              0.2222222222222222,
              "#7201a8"
             ],
             [
              0.3333333333333333,
              "#9c179e"
             ],
             [
              0.4444444444444444,
              "#bd3786"
             ],
             [
              0.5555555555555556,
              "#d8576b"
             ],
             [
              0.6666666666666666,
              "#ed7953"
             ],
             [
              0.7777777777777778,
              "#fb9f3a"
             ],
             [
              0.8888888888888888,
              "#fdca26"
             ],
             [
              1,
              "#f0f921"
             ]
            ],
            "type": "surface"
           }
          ],
          "table": [
           {
            "cells": {
             "fill": {
              "color": "#EBF0F8"
             },
             "line": {
              "color": "white"
             }
            },
            "header": {
             "fill": {
              "color": "#C8D4E3"
             },
             "line": {
              "color": "white"
             }
            },
            "type": "table"
           }
          ]
         },
         "layout": {
          "annotationdefaults": {
           "arrowcolor": "#2a3f5f",
           "arrowhead": 0,
           "arrowwidth": 1
          },
          "autotypenumbers": "strict",
          "coloraxis": {
           "colorbar": {
            "outlinewidth": 0,
            "ticks": ""
           }
          },
          "colorscale": {
           "diverging": [
            [
             0,
             "#8e0152"
            ],
            [
             0.1,
             "#c51b7d"
            ],
            [
             0.2,
             "#de77ae"
            ],
            [
             0.3,
             "#f1b6da"
            ],
            [
             0.4,
             "#fde0ef"
            ],
            [
             0.5,
             "#f7f7f7"
            ],
            [
             0.6,
             "#e6f5d0"
            ],
            [
             0.7,
             "#b8e186"
            ],
            [
             0.8,
             "#7fbc41"
            ],
            [
             0.9,
             "#4d9221"
            ],
            [
             1,
             "#276419"
            ]
           ],
           "sequential": [
            [
             0,
             "#0d0887"
            ],
            [
             0.1111111111111111,
             "#46039f"
            ],
            [
             0.2222222222222222,
             "#7201a8"
            ],
            [
             0.3333333333333333,
             "#9c179e"
            ],
            [
             0.4444444444444444,
             "#bd3786"
            ],
            [
             0.5555555555555556,
             "#d8576b"
            ],
            [
             0.6666666666666666,
             "#ed7953"
            ],
            [
             0.7777777777777778,
             "#fb9f3a"
            ],
            [
             0.8888888888888888,
             "#fdca26"
            ],
            [
             1,
             "#f0f921"
            ]
           ],
           "sequentialminus": [
            [
             0,
             "#0d0887"
            ],
            [
             0.1111111111111111,
             "#46039f"
            ],
            [
             0.2222222222222222,
             "#7201a8"
            ],
            [
             0.3333333333333333,
             "#9c179e"
            ],
            [
             0.4444444444444444,
             "#bd3786"
            ],
            [
             0.5555555555555556,
             "#d8576b"
            ],
            [
             0.6666666666666666,
             "#ed7953"
            ],
            [
             0.7777777777777778,
             "#fb9f3a"
            ],
            [
             0.8888888888888888,
             "#fdca26"
            ],
            [
             1,
             "#f0f921"
            ]
           ]
          },
          "colorway": [
           "#636efa",
           "#EF553B",
           "#00cc96",
           "#ab63fa",
           "#FFA15A",
           "#19d3f3",
           "#FF6692",
           "#B6E880",
           "#FF97FF",
           "#FECB52"
          ],
          "font": {
           "color": "#2a3f5f"
          },
          "geo": {
           "bgcolor": "white",
           "lakecolor": "white",
           "landcolor": "#E5ECF6",
           "showlakes": true,
           "showland": true,
           "subunitcolor": "white"
          },
          "hoverlabel": {
           "align": "left"
          },
          "hovermode": "closest",
          "mapbox": {
           "style": "light"
          },
          "paper_bgcolor": "white",
          "plot_bgcolor": "#E5ECF6",
          "polar": {
           "angularaxis": {
            "gridcolor": "white",
            "linecolor": "white",
            "ticks": ""
           },
           "bgcolor": "#E5ECF6",
           "radialaxis": {
            "gridcolor": "white",
            "linecolor": "white",
            "ticks": ""
           }
          },
          "scene": {
           "xaxis": {
            "backgroundcolor": "#E5ECF6",
            "gridcolor": "white",
            "gridwidth": 2,
            "linecolor": "white",
            "showbackground": true,
            "ticks": "",
            "zerolinecolor": "white"
           },
           "yaxis": {
            "backgroundcolor": "#E5ECF6",
            "gridcolor": "white",
            "gridwidth": 2,
            "linecolor": "white",
            "showbackground": true,
            "ticks": "",
            "zerolinecolor": "white"
           },
           "zaxis": {
            "backgroundcolor": "#E5ECF6",
            "gridcolor": "white",
            "gridwidth": 2,
            "linecolor": "white",
            "showbackground": true,
            "ticks": "",
            "zerolinecolor": "white"
           }
          },
          "shapedefaults": {
           "line": {
            "color": "#2a3f5f"
           }
          },
          "ternary": {
           "aaxis": {
            "gridcolor": "white",
            "linecolor": "white",
            "ticks": ""
           },
           "baxis": {
            "gridcolor": "white",
            "linecolor": "white",
            "ticks": ""
           },
           "bgcolor": "#E5ECF6",
           "caxis": {
            "gridcolor": "white",
            "linecolor": "white",
            "ticks": ""
           }
          },
          "title": {
           "x": 0.05
          },
          "xaxis": {
           "automargin": true,
           "gridcolor": "white",
           "linecolor": "white",
           "ticks": "",
           "title": {
            "standoff": 15
           },
           "zerolinecolor": "white",
           "zerolinewidth": 2
          },
          "yaxis": {
           "automargin": true,
           "gridcolor": "white",
           "linecolor": "white",
           "ticks": "",
           "title": {
            "standoff": 15
           },
           "zerolinecolor": "white",
           "zerolinewidth": 2
          }
         }
        },
        "xaxis": {
         "gridcolor": "#dddcda",
         "tickmode": "array",
         "ticktext": [
          "Oct-2023",
          "Nov-2023",
          "Dic-2023",
          "Ene-2024",
          "Feb-2024",
          "Mar-2024",
          "Abr-2024",
          "May-2024",
          "Jun-2024",
          "Jul-2024",
          "Ago-2024",
          "Sept-2024",
          "Oct-2024"
         ],
         "tickvals": [
          "Oct-2023",
          "Nov-2023",
          "Dic-2023",
          "Ene-2024",
          "Feb-2024",
          "Mar-2024",
          "Abr-2024",
          "May-2024",
          "Jun-2024",
          "Jul-2024",
          "Ago-2024",
          "Sept-2024",
          "Oct-2024"
         ]
        },
        "yaxis": {
         "gridcolor": "#dddcda",
         "gridwidth": 1,
         "title": {
          "text": "Monto"
         }
        }
       }
      }
     },
     "metadata": {},
     "output_type": "display_data"
    }
   ],
   "source": [
    "# Datos\n",
    "año = df_promedio['label']\n",
    "promedio = df_promedio['promedio']\n",
    "\n",
    "# Crear una función para formatear los valores grandes en palabras en español\n",
    "def formatear_numero(valor):\n",
    "    if valor >= 1_000_000_000_000:\n",
    "        return f'{valor / 1_000_000_000:.2f} billones'\n",
    "    elif valor >= 1_000_000_000:\n",
    "        return f'{valor / 1_000_000_000:.0f} mil millones'  # Mil millones\n",
    "    elif valor >= 1_000_000:\n",
    "        return f'{valor / 1_000_000:.0f} millones'  # Millones\n",
    "    elif valor >= 1_000:\n",
    "        return f'{valor / 1_000:.0f} mil'  # Mil\n",
    "    else:\n",
    "        return str(valor)\n",
    "# Configurar los valores y el texto del eje Y\n",
    "tickvals = [2500000000,3000000000,3200000000]\n",
    "ticktext = [formatear_numero(val) for val in tickvals]\n",
    "\n",
    "fig = go.Figure()\n",
    "fig.add_trace(go.Scatter(\n",
    "    x=año,\n",
    "    y=promedio,\n",
    "    mode='markers+lines',\n",
    "    marker=dict(color='blue'),\n",
    "))\n",
    "# Agregar anotaciones para mostrar los valores encima de los puntos\n",
    "for a, p in zip(año, promedio):\n",
    "    fig.add_annotation(\n",
    "        x=a,\n",
    "        y=p,\n",
    "        text=f\"${p:,.2f}\",  # Formatear el valor del promedio como moneda\n",
    "        showarrow=False,\n",
    "        font=dict(color='black', size=12),\n",
    "        xshift=0,\n",
    "        yshift=17,\n",
    "        textangle=0\n",
    "    )\n",
    "# Actualizar diseño\n",
    "fig.update_layout(\n",
    "    #title='Plusvalía estimada',   \n",
    "    yaxis=dict(\n",
    "        title=\"Monto\",\n",
    "        gridwidth=1,  # Ancho de las líneas de la cuadrícula\n",
    "        gridcolor='#dddcda', \n",
    "\n",
    "    ),\n",
    "    xaxis=dict(\n",
    "        gridcolor='#dddcda', \n",
    "        tickmode='array',\n",
    "        tickvals=año,\n",
    "        ticktext=año\n",
    "    ),\n",
    "    plot_bgcolor='rgba(0,0,0,0)',\n",
    "        margin=dict(l=10, r=10, t=10, b=10)\n",
    ")\n",
    "fig.show()"
   ]
  },
  {
   "cell_type": "code",
   "execution_count": 57,
   "metadata": {},
   "outputs": [
    {
     "data": {
      "text/html": [
       "<div>\n",
       "<style scoped>\n",
       "    .dataframe tbody tr th:only-of-type {\n",
       "        vertical-align: middle;\n",
       "    }\n",
       "\n",
       "    .dataframe tbody tr th {\n",
       "        vertical-align: top;\n",
       "    }\n",
       "\n",
       "    .dataframe thead th {\n",
       "        text-align: right;\n",
       "    }\n",
       "</style>\n",
       "<table border=\"1\" class=\"dataframe\">\n",
       "  <thead>\n",
       "    <tr style=\"text-align: right;\">\n",
       "      <th></th>\n",
       "      <th>mes</th>\n",
       "      <th>año</th>\n",
       "      <th>value_x</th>\n",
       "      <th>value_y</th>\n",
       "      <th>promedio</th>\n",
       "      <th>label</th>\n",
       "      <th>mes_numero</th>\n",
       "      <th>cambio_porcentual</th>\n",
       "    </tr>\n",
       "  </thead>\n",
       "  <tbody>\n",
       "    <tr>\n",
       "      <th>0</th>\n",
       "      <td>Oct</td>\n",
       "      <td>2023</td>\n",
       "      <td>3080000.0</td>\n",
       "      <td>2590000.0</td>\n",
       "      <td>2835000.0</td>\n",
       "      <td>Oct-2023</td>\n",
       "      <td>10</td>\n",
       "      <td>NaN</td>\n",
       "    </tr>\n",
       "    <tr>\n",
       "      <th>1</th>\n",
       "      <td>Nov</td>\n",
       "      <td>2023</td>\n",
       "      <td>2850000.0</td>\n",
       "      <td>2646000.0</td>\n",
       "      <td>2748000.0</td>\n",
       "      <td>Nov-2023</td>\n",
       "      <td>11</td>\n",
       "      <td>-0.030688</td>\n",
       "    </tr>\n",
       "    <tr>\n",
       "      <th>2</th>\n",
       "      <td>Dic</td>\n",
       "      <td>2023</td>\n",
       "      <td>2850000.0</td>\n",
       "      <td>2646000.0</td>\n",
       "      <td>2748000.0</td>\n",
       "      <td>Dic-2023</td>\n",
       "      <td>12</td>\n",
       "      <td>0.000000</td>\n",
       "    </tr>\n",
       "    <tr>\n",
       "      <th>3</th>\n",
       "      <td>Ene</td>\n",
       "      <td>2024</td>\n",
       "      <td>2800000.0</td>\n",
       "      <td>2646000.0</td>\n",
       "      <td>2723000.0</td>\n",
       "      <td>Ene-2024</td>\n",
       "      <td>1</td>\n",
       "      <td>-0.009098</td>\n",
       "    </tr>\n",
       "    <tr>\n",
       "      <th>4</th>\n",
       "      <td>Feb</td>\n",
       "      <td>2024</td>\n",
       "      <td>3100000.0</td>\n",
       "      <td>2646000.0</td>\n",
       "      <td>2873000.0</td>\n",
       "      <td>Feb-2024</td>\n",
       "      <td>2</td>\n",
       "      <td>0.055086</td>\n",
       "    </tr>\n",
       "    <tr>\n",
       "      <th>5</th>\n",
       "      <td>Mar</td>\n",
       "      <td>2024</td>\n",
       "      <td>2850000.0</td>\n",
       "      <td>2646000.0</td>\n",
       "      <td>2748000.0</td>\n",
       "      <td>Mar-2024</td>\n",
       "      <td>3</td>\n",
       "      <td>-0.043509</td>\n",
       "    </tr>\n",
       "    <tr>\n",
       "      <th>6</th>\n",
       "      <td>Abr</td>\n",
       "      <td>2024</td>\n",
       "      <td>2650000.0</td>\n",
       "      <td>2650000.0</td>\n",
       "      <td>2650000.0</td>\n",
       "      <td>Abr-2024</td>\n",
       "      <td>4</td>\n",
       "      <td>-0.035662</td>\n",
       "    </tr>\n",
       "    <tr>\n",
       "      <th>7</th>\n",
       "      <td>May</td>\n",
       "      <td>2024</td>\n",
       "      <td>2650000.0</td>\n",
       "      <td>2750000.0</td>\n",
       "      <td>2700000.0</td>\n",
       "      <td>May-2024</td>\n",
       "      <td>5</td>\n",
       "      <td>0.018868</td>\n",
       "    </tr>\n",
       "    <tr>\n",
       "      <th>8</th>\n",
       "      <td>Jun</td>\n",
       "      <td>2024</td>\n",
       "      <td>2833000.0</td>\n",
       "      <td>2800000.0</td>\n",
       "      <td>2816500.0</td>\n",
       "      <td>Jun-2024</td>\n",
       "      <td>6</td>\n",
       "      <td>0.043148</td>\n",
       "    </tr>\n",
       "    <tr>\n",
       "      <th>9</th>\n",
       "      <td>Jul</td>\n",
       "      <td>2024</td>\n",
       "      <td>3034197.0</td>\n",
       "      <td>2850000.0</td>\n",
       "      <td>2942098.5</td>\n",
       "      <td>Jul-2024</td>\n",
       "      <td>7</td>\n",
       "      <td>0.044594</td>\n",
       "    </tr>\n",
       "    <tr>\n",
       "      <th>10</th>\n",
       "      <td>Ago</td>\n",
       "      <td>2024</td>\n",
       "      <td>3250000.0</td>\n",
       "      <td>2900000.0</td>\n",
       "      <td>3075000.0</td>\n",
       "      <td>Ago-2024</td>\n",
       "      <td>8</td>\n",
       "      <td>0.045172</td>\n",
       "    </tr>\n",
       "    <tr>\n",
       "      <th>11</th>\n",
       "      <td>Sept</td>\n",
       "      <td>2024</td>\n",
       "      <td>3200000.0</td>\n",
       "      <td>2950000.0</td>\n",
       "      <td>3075000.0</td>\n",
       "      <td>Sept-2024</td>\n",
       "      <td>9</td>\n",
       "      <td>0.000000</td>\n",
       "    </tr>\n",
       "    <tr>\n",
       "      <th>12</th>\n",
       "      <td>Oct</td>\n",
       "      <td>2024</td>\n",
       "      <td>3242316.0</td>\n",
       "      <td>2985000.0</td>\n",
       "      <td>3113658.0</td>\n",
       "      <td>Oct-2024</td>\n",
       "      <td>10</td>\n",
       "      <td>0.012572</td>\n",
       "    </tr>\n",
       "  </tbody>\n",
       "</table>\n",
       "</div>"
      ],
      "text/plain": [
       "     mes   año    value_x    value_y   promedio      label  mes_numero  \\\n",
       "0    Oct  2023  3080000.0  2590000.0  2835000.0   Oct-2023          10   \n",
       "1    Nov  2023  2850000.0  2646000.0  2748000.0   Nov-2023          11   \n",
       "2    Dic  2023  2850000.0  2646000.0  2748000.0   Dic-2023          12   \n",
       "3    Ene  2024  2800000.0  2646000.0  2723000.0   Ene-2024           1   \n",
       "4    Feb  2024  3100000.0  2646000.0  2873000.0   Feb-2024           2   \n",
       "5    Mar  2024  2850000.0  2646000.0  2748000.0   Mar-2024           3   \n",
       "6    Abr  2024  2650000.0  2650000.0  2650000.0   Abr-2024           4   \n",
       "7    May  2024  2650000.0  2750000.0  2700000.0   May-2024           5   \n",
       "8    Jun  2024  2833000.0  2800000.0  2816500.0   Jun-2024           6   \n",
       "9    Jul  2024  3034197.0  2850000.0  2942098.5   Jul-2024           7   \n",
       "10   Ago  2024  3250000.0  2900000.0  3075000.0   Ago-2024           8   \n",
       "11  Sept  2024  3200000.0  2950000.0  3075000.0  Sept-2024           9   \n",
       "12   Oct  2024  3242316.0  2985000.0  3113658.0   Oct-2024          10   \n",
       "\n",
       "    cambio_porcentual  \n",
       "0                 NaN  \n",
       "1           -0.030688  \n",
       "2            0.000000  \n",
       "3           -0.009098  \n",
       "4            0.055086  \n",
       "5           -0.043509  \n",
       "6           -0.035662  \n",
       "7            0.018868  \n",
       "8            0.043148  \n",
       "9            0.044594  \n",
       "10           0.045172  \n",
       "11           0.000000  \n",
       "12           0.012572  "
      ]
     },
     "execution_count": 57,
     "metadata": {},
     "output_type": "execute_result"
    }
   ],
   "source": [
    "df_promedio['cambio_porcentual'] = df_promedio['promedio'].pct_change()\n",
    "df_promedio"
   ]
  },
  {
   "cell_type": "code",
   "execution_count": 58,
   "metadata": {},
   "outputs": [
    {
     "data": {
      "text/plain": [
       "np.float64(0.008373672434973453)"
      ]
     },
     "execution_count": 58,
     "metadata": {},
     "output_type": "execute_result"
    }
   ],
   "source": [
    "df_promedio['cambio_porcentual'].mean()"
   ]
  },
  {
   "cell_type": "code",
   "execution_count": 59,
   "metadata": {},
   "outputs": [
    {
     "name": "stdout",
     "output_type": "stream",
     "text": [
      "Estimación de registros en 1/2024: 2771011\n",
      "Estimación de registros en 2/2024: 2794214\n",
      "Estimación de registros en 3/2024: 2817612\n",
      "Estimación de registros en 4/2024: 2841206\n",
      "Estimación de registros en 5/2024: 2864997\n",
      "Estimación de registros en 6/2024: 2888988\n",
      "Estimación de registros en 7/2024: 2913179\n",
      "Estimación de registros en 8/2024: 2937573\n",
      "Estimación de registros en 9/2024: 2962172\n",
      "Estimación de registros en 10/2024: 2986976\n",
      "Estimación de registros en 11/2024: 3011988\n",
      "Estimación de registros en 12/2024: 3037209\n",
      "Estimación de registros en 1/2025: 2771011\n",
      "Estimación de registros en 2/2025: 2794214\n",
      "Estimación de registros en 3/2025: 2817612\n",
      "Estimación de registros en 4/2025: 2841206\n",
      "Estimación de registros en 5/2025: 2864997\n",
      "Estimación de registros en 6/2025: 2888988\n",
      "Estimación de registros en 7/2025: 2913179\n",
      "Estimación de registros en 8/2025: 2937573\n",
      "Estimación de registros en 9/2025: 2962172\n",
      "Estimación de registros en 10/2025: 2986976\n",
      "Estimación de registros en 11/2025: 3011988\n",
      "Estimación de registros en 12/2025: 3037209\n",
      "Estimación de registros en 1/2026: 2771011\n",
      "Estimación de registros en 2/2026: 2794214\n",
      "Estimación de registros en 3/2026: 2817612\n",
      "Estimación de registros en 4/2026: 2841206\n",
      "Estimación de registros en 5/2026: 2864997\n",
      "Estimación de registros en 6/2026: 2888988\n",
      "Estimación de registros en 7/2026: 2913179\n",
      "Estimación de registros en 8/2026: 2937573\n",
      "Estimación de registros en 9/2026: 2962172\n",
      "Estimación de registros en 10/2026: 2986976\n",
      "Estimación de registros en 11/2026: 3011988\n",
      "Estimación de registros en 12/2026: 3037209\n"
     ]
    }
   ],
   "source": [
    "tasa_cambio = df_promedio['cambio_porcentual'].mean()\n",
    "\n",
    "# Aplica la misma tasa de cambio para estimar cada mes de 2024, 2025, y 2026\n",
    "estimaciones = {}\n",
    "ultimo_promedio = df_promedio[df_promedio['año'] == 2023]['promedio'].iloc[-1]  # Obtener el último promedio de 2023\n",
    "for año in [2024, 2025, 2026]:\n",
    "    for mes in range(1, 13):  # Itera sobre los 12 meses del año\n",
    "        if año == 2024 and mes == 1:\n",
    "            estimaciones[(mes, año)] = ultimo_promedio * (1 + tasa_cambio)\n",
    "        else:\n",
    "            if (mes-1, año) in estimaciones:\n",
    "                estimaciones[(mes, año)] = estimaciones[(mes-1, año)] * (1 + tasa_cambio)\n",
    "            else:\n",
    "                estimaciones[(mes, año)] = ultimo_promedio * (1 + tasa_cambio)\n",
    "\n",
    "# Imprime las estimaciones para cada mes de 2024, 2025, y 2026\n",
    "for año in [2024, 2025, 2026]:\n",
    "    for mes in range(1, 13):\n",
    "        print(f\"Estimación de registros en {mes}/{año}: {round(estimaciones[(mes, año)])}\")"
   ]
  },
  {
   "cell_type": "code",
   "execution_count": 60,
   "metadata": {},
   "outputs": [
    {
     "data": {
      "text/html": [
       "<div>\n",
       "<style scoped>\n",
       "    .dataframe tbody tr th:only-of-type {\n",
       "        vertical-align: middle;\n",
       "    }\n",
       "\n",
       "    .dataframe tbody tr th {\n",
       "        vertical-align: top;\n",
       "    }\n",
       "\n",
       "    .dataframe thead th {\n",
       "        text-align: right;\n",
       "    }\n",
       "</style>\n",
       "<table border=\"1\" class=\"dataframe\">\n",
       "  <thead>\n",
       "    <tr style=\"text-align: right;\">\n",
       "      <th></th>\n",
       "      <th>mes</th>\n",
       "      <th>año</th>\n",
       "      <th>value_x</th>\n",
       "      <th>value_y</th>\n",
       "      <th>promedio</th>\n",
       "      <th>label</th>\n",
       "      <th>mes_numero</th>\n",
       "      <th>cambio_porcentual</th>\n",
       "    </tr>\n",
       "  </thead>\n",
       "  <tbody>\n",
       "    <tr>\n",
       "      <th>0</th>\n",
       "      <td>Oct</td>\n",
       "      <td>2023</td>\n",
       "      <td>3080000.0</td>\n",
       "      <td>2590000.0</td>\n",
       "      <td>2835000.0</td>\n",
       "      <td>Oct-2023</td>\n",
       "      <td>10</td>\n",
       "      <td>NaN</td>\n",
       "    </tr>\n",
       "    <tr>\n",
       "      <th>1</th>\n",
       "      <td>Nov</td>\n",
       "      <td>2023</td>\n",
       "      <td>2850000.0</td>\n",
       "      <td>2646000.0</td>\n",
       "      <td>2748000.0</td>\n",
       "      <td>Nov-2023</td>\n",
       "      <td>11</td>\n",
       "      <td>-0.030688</td>\n",
       "    </tr>\n",
       "    <tr>\n",
       "      <th>2</th>\n",
       "      <td>Dic</td>\n",
       "      <td>2023</td>\n",
       "      <td>2850000.0</td>\n",
       "      <td>2646000.0</td>\n",
       "      <td>2748000.0</td>\n",
       "      <td>Dic-2023</td>\n",
       "      <td>12</td>\n",
       "      <td>0.000000</td>\n",
       "    </tr>\n",
       "    <tr>\n",
       "      <th>3</th>\n",
       "      <td>Ene</td>\n",
       "      <td>2024</td>\n",
       "      <td>2800000.0</td>\n",
       "      <td>2646000.0</td>\n",
       "      <td>2723000.0</td>\n",
       "      <td>Ene-2024</td>\n",
       "      <td>1</td>\n",
       "      <td>-0.009098</td>\n",
       "    </tr>\n",
       "    <tr>\n",
       "      <th>4</th>\n",
       "      <td>Feb</td>\n",
       "      <td>2024</td>\n",
       "      <td>3100000.0</td>\n",
       "      <td>2646000.0</td>\n",
       "      <td>2873000.0</td>\n",
       "      <td>Feb-2024</td>\n",
       "      <td>2</td>\n",
       "      <td>0.055086</td>\n",
       "    </tr>\n",
       "    <tr>\n",
       "      <th>5</th>\n",
       "      <td>Mar</td>\n",
       "      <td>2024</td>\n",
       "      <td>2850000.0</td>\n",
       "      <td>2646000.0</td>\n",
       "      <td>2748000.0</td>\n",
       "      <td>Mar-2024</td>\n",
       "      <td>3</td>\n",
       "      <td>-0.043509</td>\n",
       "    </tr>\n",
       "    <tr>\n",
       "      <th>6</th>\n",
       "      <td>Abr</td>\n",
       "      <td>2024</td>\n",
       "      <td>2650000.0</td>\n",
       "      <td>2650000.0</td>\n",
       "      <td>2650000.0</td>\n",
       "      <td>Abr-2024</td>\n",
       "      <td>4</td>\n",
       "      <td>-0.035662</td>\n",
       "    </tr>\n",
       "    <tr>\n",
       "      <th>7</th>\n",
       "      <td>May</td>\n",
       "      <td>2024</td>\n",
       "      <td>2650000.0</td>\n",
       "      <td>2750000.0</td>\n",
       "      <td>2700000.0</td>\n",
       "      <td>May-2024</td>\n",
       "      <td>5</td>\n",
       "      <td>0.018868</td>\n",
       "    </tr>\n",
       "    <tr>\n",
       "      <th>8</th>\n",
       "      <td>Jun</td>\n",
       "      <td>2024</td>\n",
       "      <td>2833000.0</td>\n",
       "      <td>2800000.0</td>\n",
       "      <td>2816500.0</td>\n",
       "      <td>Jun-2024</td>\n",
       "      <td>6</td>\n",
       "      <td>0.043148</td>\n",
       "    </tr>\n",
       "    <tr>\n",
       "      <th>9</th>\n",
       "      <td>Jul</td>\n",
       "      <td>2024</td>\n",
       "      <td>3034197.0</td>\n",
       "      <td>2850000.0</td>\n",
       "      <td>2942098.5</td>\n",
       "      <td>Jul-2024</td>\n",
       "      <td>7</td>\n",
       "      <td>0.044594</td>\n",
       "    </tr>\n",
       "    <tr>\n",
       "      <th>10</th>\n",
       "      <td>Ago</td>\n",
       "      <td>2024</td>\n",
       "      <td>3250000.0</td>\n",
       "      <td>2900000.0</td>\n",
       "      <td>3075000.0</td>\n",
       "      <td>Ago-2024</td>\n",
       "      <td>8</td>\n",
       "      <td>0.045172</td>\n",
       "    </tr>\n",
       "    <tr>\n",
       "      <th>11</th>\n",
       "      <td>Sept</td>\n",
       "      <td>2024</td>\n",
       "      <td>3200000.0</td>\n",
       "      <td>2950000.0</td>\n",
       "      <td>3075000.0</td>\n",
       "      <td>Sept-2024</td>\n",
       "      <td>9</td>\n",
       "      <td>0.000000</td>\n",
       "    </tr>\n",
       "    <tr>\n",
       "      <th>12</th>\n",
       "      <td>Oct</td>\n",
       "      <td>2024</td>\n",
       "      <td>3242316.0</td>\n",
       "      <td>2985000.0</td>\n",
       "      <td>3113658.0</td>\n",
       "      <td>Oct-2024</td>\n",
       "      <td>10</td>\n",
       "      <td>0.012572</td>\n",
       "    </tr>\n",
       "    <tr>\n",
       "      <th>13</th>\n",
       "      <td>Nov</td>\n",
       "      <td>2024</td>\n",
       "      <td>NaN</td>\n",
       "      <td>NaN</td>\n",
       "      <td>3011988.0</td>\n",
       "      <td>Nov-2024</td>\n",
       "      <td>11</td>\n",
       "      <td>NaN</td>\n",
       "    </tr>\n",
       "    <tr>\n",
       "      <th>14</th>\n",
       "      <td>Dic</td>\n",
       "      <td>2024</td>\n",
       "      <td>NaN</td>\n",
       "      <td>NaN</td>\n",
       "      <td>3037209.0</td>\n",
       "      <td>Dic-2024</td>\n",
       "      <td>12</td>\n",
       "      <td>NaN</td>\n",
       "    </tr>\n",
       "    <tr>\n",
       "      <th>15</th>\n",
       "      <td>Ene</td>\n",
       "      <td>2025</td>\n",
       "      <td>NaN</td>\n",
       "      <td>NaN</td>\n",
       "      <td>2771011.0</td>\n",
       "      <td>Ene-2025</td>\n",
       "      <td>1</td>\n",
       "      <td>NaN</td>\n",
       "    </tr>\n",
       "    <tr>\n",
       "      <th>16</th>\n",
       "      <td>Feb</td>\n",
       "      <td>2025</td>\n",
       "      <td>NaN</td>\n",
       "      <td>NaN</td>\n",
       "      <td>2794214.0</td>\n",
       "      <td>Feb-2025</td>\n",
       "      <td>2</td>\n",
       "      <td>NaN</td>\n",
       "    </tr>\n",
       "    <tr>\n",
       "      <th>17</th>\n",
       "      <td>Mar</td>\n",
       "      <td>2025</td>\n",
       "      <td>NaN</td>\n",
       "      <td>NaN</td>\n",
       "      <td>2817612.0</td>\n",
       "      <td>Mar-2025</td>\n",
       "      <td>3</td>\n",
       "      <td>NaN</td>\n",
       "    </tr>\n",
       "    <tr>\n",
       "      <th>18</th>\n",
       "      <td>Abr</td>\n",
       "      <td>2025</td>\n",
       "      <td>NaN</td>\n",
       "      <td>NaN</td>\n",
       "      <td>2841206.0</td>\n",
       "      <td>Abr-2025</td>\n",
       "      <td>4</td>\n",
       "      <td>NaN</td>\n",
       "    </tr>\n",
       "    <tr>\n",
       "      <th>19</th>\n",
       "      <td>May</td>\n",
       "      <td>2025</td>\n",
       "      <td>NaN</td>\n",
       "      <td>NaN</td>\n",
       "      <td>2864997.0</td>\n",
       "      <td>May-2025</td>\n",
       "      <td>5</td>\n",
       "      <td>NaN</td>\n",
       "    </tr>\n",
       "    <tr>\n",
       "      <th>20</th>\n",
       "      <td>Jun</td>\n",
       "      <td>2025</td>\n",
       "      <td>NaN</td>\n",
       "      <td>NaN</td>\n",
       "      <td>2888988.0</td>\n",
       "      <td>Jun-2025</td>\n",
       "      <td>6</td>\n",
       "      <td>NaN</td>\n",
       "    </tr>\n",
       "    <tr>\n",
       "      <th>21</th>\n",
       "      <td>Jul</td>\n",
       "      <td>2025</td>\n",
       "      <td>NaN</td>\n",
       "      <td>NaN</td>\n",
       "      <td>2913179.0</td>\n",
       "      <td>Jul-2025</td>\n",
       "      <td>7</td>\n",
       "      <td>NaN</td>\n",
       "    </tr>\n",
       "    <tr>\n",
       "      <th>22</th>\n",
       "      <td>Ago</td>\n",
       "      <td>2025</td>\n",
       "      <td>NaN</td>\n",
       "      <td>NaN</td>\n",
       "      <td>2937573.0</td>\n",
       "      <td>Ago-2025</td>\n",
       "      <td>8</td>\n",
       "      <td>NaN</td>\n",
       "    </tr>\n",
       "    <tr>\n",
       "      <th>23</th>\n",
       "      <td>Sep</td>\n",
       "      <td>2025</td>\n",
       "      <td>NaN</td>\n",
       "      <td>NaN</td>\n",
       "      <td>2962172.0</td>\n",
       "      <td>Sep-2025</td>\n",
       "      <td>9</td>\n",
       "      <td>NaN</td>\n",
       "    </tr>\n",
       "    <tr>\n",
       "      <th>24</th>\n",
       "      <td>Oct</td>\n",
       "      <td>2025</td>\n",
       "      <td>NaN</td>\n",
       "      <td>NaN</td>\n",
       "      <td>2986976.0</td>\n",
       "      <td>Oct-2025</td>\n",
       "      <td>10</td>\n",
       "      <td>NaN</td>\n",
       "    </tr>\n",
       "    <tr>\n",
       "      <th>25</th>\n",
       "      <td>Nov</td>\n",
       "      <td>2025</td>\n",
       "      <td>NaN</td>\n",
       "      <td>NaN</td>\n",
       "      <td>3011988.0</td>\n",
       "      <td>Nov-2025</td>\n",
       "      <td>11</td>\n",
       "      <td>NaN</td>\n",
       "    </tr>\n",
       "    <tr>\n",
       "      <th>26</th>\n",
       "      <td>Dic</td>\n",
       "      <td>2025</td>\n",
       "      <td>NaN</td>\n",
       "      <td>NaN</td>\n",
       "      <td>3037209.0</td>\n",
       "      <td>Dic-2025</td>\n",
       "      <td>12</td>\n",
       "      <td>NaN</td>\n",
       "    </tr>\n",
       "    <tr>\n",
       "      <th>27</th>\n",
       "      <td>Ene</td>\n",
       "      <td>2026</td>\n",
       "      <td>NaN</td>\n",
       "      <td>NaN</td>\n",
       "      <td>2771011.0</td>\n",
       "      <td>Ene-2026</td>\n",
       "      <td>1</td>\n",
       "      <td>NaN</td>\n",
       "    </tr>\n",
       "    <tr>\n",
       "      <th>28</th>\n",
       "      <td>Feb</td>\n",
       "      <td>2026</td>\n",
       "      <td>NaN</td>\n",
       "      <td>NaN</td>\n",
       "      <td>2794214.0</td>\n",
       "      <td>Feb-2026</td>\n",
       "      <td>2</td>\n",
       "      <td>NaN</td>\n",
       "    </tr>\n",
       "    <tr>\n",
       "      <th>29</th>\n",
       "      <td>Mar</td>\n",
       "      <td>2026</td>\n",
       "      <td>NaN</td>\n",
       "      <td>NaN</td>\n",
       "      <td>2817612.0</td>\n",
       "      <td>Mar-2026</td>\n",
       "      <td>3</td>\n",
       "      <td>NaN</td>\n",
       "    </tr>\n",
       "  </tbody>\n",
       "</table>\n",
       "</div>"
      ],
      "text/plain": [
       "     mes   año    value_x    value_y   promedio      label  mes_numero  \\\n",
       "0    Oct  2023  3080000.0  2590000.0  2835000.0   Oct-2023          10   \n",
       "1    Nov  2023  2850000.0  2646000.0  2748000.0   Nov-2023          11   \n",
       "2    Dic  2023  2850000.0  2646000.0  2748000.0   Dic-2023          12   \n",
       "3    Ene  2024  2800000.0  2646000.0  2723000.0   Ene-2024           1   \n",
       "4    Feb  2024  3100000.0  2646000.0  2873000.0   Feb-2024           2   \n",
       "5    Mar  2024  2850000.0  2646000.0  2748000.0   Mar-2024           3   \n",
       "6    Abr  2024  2650000.0  2650000.0  2650000.0   Abr-2024           4   \n",
       "7    May  2024  2650000.0  2750000.0  2700000.0   May-2024           5   \n",
       "8    Jun  2024  2833000.0  2800000.0  2816500.0   Jun-2024           6   \n",
       "9    Jul  2024  3034197.0  2850000.0  2942098.5   Jul-2024           7   \n",
       "10   Ago  2024  3250000.0  2900000.0  3075000.0   Ago-2024           8   \n",
       "11  Sept  2024  3200000.0  2950000.0  3075000.0  Sept-2024           9   \n",
       "12   Oct  2024  3242316.0  2985000.0  3113658.0   Oct-2024          10   \n",
       "13   Nov  2024        NaN        NaN  3011988.0   Nov-2024          11   \n",
       "14   Dic  2024        NaN        NaN  3037209.0   Dic-2024          12   \n",
       "15   Ene  2025        NaN        NaN  2771011.0   Ene-2025           1   \n",
       "16   Feb  2025        NaN        NaN  2794214.0   Feb-2025           2   \n",
       "17   Mar  2025        NaN        NaN  2817612.0   Mar-2025           3   \n",
       "18   Abr  2025        NaN        NaN  2841206.0   Abr-2025           4   \n",
       "19   May  2025        NaN        NaN  2864997.0   May-2025           5   \n",
       "20   Jun  2025        NaN        NaN  2888988.0   Jun-2025           6   \n",
       "21   Jul  2025        NaN        NaN  2913179.0   Jul-2025           7   \n",
       "22   Ago  2025        NaN        NaN  2937573.0   Ago-2025           8   \n",
       "23   Sep  2025        NaN        NaN  2962172.0   Sep-2025           9   \n",
       "24   Oct  2025        NaN        NaN  2986976.0   Oct-2025          10   \n",
       "25   Nov  2025        NaN        NaN  3011988.0   Nov-2025          11   \n",
       "26   Dic  2025        NaN        NaN  3037209.0   Dic-2025          12   \n",
       "27   Ene  2026        NaN        NaN  2771011.0   Ene-2026           1   \n",
       "28   Feb  2026        NaN        NaN  2794214.0   Feb-2026           2   \n",
       "29   Mar  2026        NaN        NaN  2817612.0   Mar-2026           3   \n",
       "\n",
       "    cambio_porcentual  \n",
       "0                 NaN  \n",
       "1           -0.030688  \n",
       "2            0.000000  \n",
       "3           -0.009098  \n",
       "4            0.055086  \n",
       "5           -0.043509  \n",
       "6           -0.035662  \n",
       "7            0.018868  \n",
       "8            0.043148  \n",
       "9            0.044594  \n",
       "10           0.045172  \n",
       "11           0.000000  \n",
       "12           0.012572  \n",
       "13                NaN  \n",
       "14                NaN  \n",
       "15                NaN  \n",
       "16                NaN  \n",
       "17                NaN  \n",
       "18                NaN  \n",
       "19                NaN  \n",
       "20                NaN  \n",
       "21                NaN  \n",
       "22                NaN  \n",
       "23                NaN  \n",
       "24                NaN  \n",
       "25                NaN  \n",
       "26                NaN  \n",
       "27                NaN  \n",
       "28                NaN  \n",
       "29                NaN  "
      ]
     },
     "execution_count": 60,
     "metadata": {},
     "output_type": "execute_result"
    }
   ],
   "source": [
    "df_promedio_proyección = df_promedio.copy()\n",
    "\n",
    "# Crear un DataFrame temporal para agregar los nuevos registros\n",
    "df_temporal = pd.DataFrame([\n",
    "    {'mes': 'Nov', 'año': 2024, 'promedio': 3011988, 'label': 'Nov-2024', 'mes_numero': 11},\n",
    "    {'mes': 'Dic', 'año': 2024, 'promedio': 3037209, 'label': 'Dic-2024', 'mes_numero': 12},\n",
    "    {'mes': 'Ene', 'año': 2025, 'promedio': 2771011, 'label': 'Ene-2025', 'mes_numero': 1},\n",
    "    {'mes': 'Feb', 'año': 2025, 'promedio': 2794214, 'label': 'Feb-2025', 'mes_numero': 2},\n",
    "    {'mes': 'Mar', 'año': 2025, 'promedio': 2817612, 'label': 'Mar-2025', 'mes_numero': 3},\n",
    "    {'mes': 'Abr', 'año': 2025, 'promedio': 2841206, 'label': 'Abr-2025', 'mes_numero': 4},\n",
    "    {'mes': 'May', 'año': 2025, 'promedio': 2864997, 'label': 'May-2025', 'mes_numero': 5},\n",
    "    {'mes': 'Jun', 'año': 2025, 'promedio': 2888988, 'label': 'Jun-2025', 'mes_numero': 6},\n",
    "    {'mes': 'Jul', 'año': 2025, 'promedio': 2913179, 'label': 'Jul-2025', 'mes_numero': 7},\n",
    "    {'mes': 'Ago', 'año': 2025, 'promedio': 2937573, 'label': 'Ago-2025', 'mes_numero': 8},\n",
    "    {'mes': 'Sep', 'año': 2025, 'promedio': 2962172, 'label': 'Sep-2025', 'mes_numero': 9},\n",
    "    {'mes': 'Oct', 'año': 2025, 'promedio': 2986976, 'label': 'Oct-2025', 'mes_numero': 10},\n",
    "    {'mes': 'Nov', 'año': 2025, 'promedio': 3011988, 'label': 'Nov-2025', 'mes_numero': 11},\n",
    "    {'mes': 'Dic', 'año': 2025, 'promedio': 3037209, 'label': 'Dic-2025', 'mes_numero': 12},\n",
    "    {'mes': 'Ene', 'año': 2026, 'promedio': 2771011, 'label': 'Ene-2026', 'mes_numero': 1},\n",
    "    {'mes': 'Feb', 'año': 2026, 'promedio': 2794214, 'label': 'Feb-2026', 'mes_numero': 2},\n",
    "    {'mes': 'Mar', 'año': 2026, 'promedio': 2817612, 'label': 'Mar-2026', 'mes_numero': 3}\n",
    "], columns=['mes', 'año', 'promedio', 'label', 'mes_numero'])\n",
    "\n",
    "# Concatenar el DataFrame temporal al DataFrame original\n",
    "df_promedio_proyección = pd.concat([df_promedio_proyección, df_temporal], ignore_index=True)\n",
    "\n",
    "df_promedio_proyección"
   ]
  },
  {
   "cell_type": "code",
   "execution_count": 61,
   "metadata": {},
   "outputs": [
    {
     "data": {
      "application/vnd.plotly.v1+json": {
       "config": {
        "plotlyServerURL": "https://plot.ly"
       },
       "data": [
        {
         "marker": {
          "color": "blue"
         },
         "mode": "markers+lines",
         "type": "scatter",
         "x": [
          "Oct-2023",
          "Nov-2023",
          "Dic-2023",
          "Ene-2024",
          "Feb-2024",
          "Mar-2024",
          "Abr-2024",
          "May-2024",
          "Jun-2024",
          "Jul-2024",
          "Ago-2024",
          "Sept-2024",
          "Oct-2024",
          "Nov-2024",
          "Dic-2024",
          "Ene-2025",
          "Feb-2025",
          "Mar-2025",
          "Abr-2025",
          "May-2025",
          "Jun-2025",
          "Jul-2025",
          "Ago-2025",
          "Sep-2025",
          "Oct-2025",
          "Nov-2025",
          "Dic-2025",
          "Ene-2026",
          "Feb-2026",
          "Mar-2026"
         ],
         "y": [
          2835000,
          2748000,
          2748000,
          2723000,
          2873000,
          2748000,
          2650000,
          2700000,
          2816500,
          2942098.5,
          3075000,
          3075000,
          3113658,
          3011988,
          3037209,
          2771011,
          2794214,
          2817612,
          2841206,
          2864997,
          2888988,
          2913179,
          2937573,
          2962172,
          2986976,
          3011988,
          3037209,
          2771011,
          2794214,
          2817612
         ]
        }
       ],
       "layout": {
        "annotations": [
         {
          "font": {
           "color": "black",
           "size": 12
          },
          "showarrow": false,
          "text": "$2,835,000.00",
          "textangle": 0,
          "x": "Oct-2023",
          "xshift": 0,
          "y": 2835000,
          "yshift": 17
         },
         {
          "font": {
           "color": "black",
           "size": 12
          },
          "showarrow": false,
          "text": "$2,748,000.00",
          "textangle": 0,
          "x": "Nov-2023",
          "xshift": 0,
          "y": 2748000,
          "yshift": 17
         },
         {
          "font": {
           "color": "black",
           "size": 12
          },
          "showarrow": false,
          "text": "$2,748,000.00",
          "textangle": 0,
          "x": "Dic-2023",
          "xshift": 0,
          "y": 2748000,
          "yshift": 17
         },
         {
          "font": {
           "color": "black",
           "size": 12
          },
          "showarrow": false,
          "text": "$2,723,000.00",
          "textangle": 0,
          "x": "Ene-2024",
          "xshift": 0,
          "y": 2723000,
          "yshift": 17
         },
         {
          "font": {
           "color": "black",
           "size": 12
          },
          "showarrow": false,
          "text": "$2,873,000.00",
          "textangle": 0,
          "x": "Feb-2024",
          "xshift": 0,
          "y": 2873000,
          "yshift": 17
         },
         {
          "font": {
           "color": "black",
           "size": 12
          },
          "showarrow": false,
          "text": "$2,748,000.00",
          "textangle": 0,
          "x": "Mar-2024",
          "xshift": 0,
          "y": 2748000,
          "yshift": 17
         },
         {
          "font": {
           "color": "black",
           "size": 12
          },
          "showarrow": false,
          "text": "$2,650,000.00",
          "textangle": 0,
          "x": "Abr-2024",
          "xshift": 0,
          "y": 2650000,
          "yshift": 17
         },
         {
          "font": {
           "color": "black",
           "size": 12
          },
          "showarrow": false,
          "text": "$2,700,000.00",
          "textangle": 0,
          "x": "May-2024",
          "xshift": 0,
          "y": 2700000,
          "yshift": 17
         },
         {
          "font": {
           "color": "black",
           "size": 12
          },
          "showarrow": false,
          "text": "$2,816,500.00",
          "textangle": 0,
          "x": "Jun-2024",
          "xshift": 0,
          "y": 2816500,
          "yshift": 17
         },
         {
          "font": {
           "color": "black",
           "size": 12
          },
          "showarrow": false,
          "text": "$2,942,098.50",
          "textangle": 0,
          "x": "Jul-2024",
          "xshift": 0,
          "y": 2942098.5,
          "yshift": 17
         },
         {
          "font": {
           "color": "black",
           "size": 12
          },
          "showarrow": false,
          "text": "$3,075,000.00",
          "textangle": 0,
          "x": "Ago-2024",
          "xshift": 0,
          "y": 3075000,
          "yshift": 17
         },
         {
          "font": {
           "color": "black",
           "size": 12
          },
          "showarrow": false,
          "text": "$3,075,000.00",
          "textangle": 0,
          "x": "Sept-2024",
          "xshift": 0,
          "y": 3075000,
          "yshift": 17
         },
         {
          "font": {
           "color": "black",
           "size": 12
          },
          "showarrow": false,
          "text": "$3,113,658.00",
          "textangle": 0,
          "x": "Oct-2024",
          "xshift": 0,
          "y": 3113658,
          "yshift": 17
         },
         {
          "font": {
           "color": "black",
           "size": 12
          },
          "showarrow": false,
          "text": "$3,011,988.00",
          "textangle": 0,
          "x": "Nov-2024",
          "xshift": 0,
          "y": 3011988,
          "yshift": 17
         },
         {
          "font": {
           "color": "black",
           "size": 12
          },
          "showarrow": false,
          "text": "$3,037,209.00",
          "textangle": 0,
          "x": "Dic-2024",
          "xshift": 0,
          "y": 3037209,
          "yshift": 17
         },
         {
          "font": {
           "color": "black",
           "size": 12
          },
          "showarrow": false,
          "text": "$2,771,011.00",
          "textangle": 0,
          "x": "Ene-2025",
          "xshift": 0,
          "y": 2771011,
          "yshift": 17
         },
         {
          "font": {
           "color": "black",
           "size": 12
          },
          "showarrow": false,
          "text": "$2,794,214.00",
          "textangle": 0,
          "x": "Feb-2025",
          "xshift": 0,
          "y": 2794214,
          "yshift": 17
         },
         {
          "font": {
           "color": "black",
           "size": 12
          },
          "showarrow": false,
          "text": "$2,817,612.00",
          "textangle": 0,
          "x": "Mar-2025",
          "xshift": 0,
          "y": 2817612,
          "yshift": 17
         },
         {
          "font": {
           "color": "black",
           "size": 12
          },
          "showarrow": false,
          "text": "$2,841,206.00",
          "textangle": 0,
          "x": "Abr-2025",
          "xshift": 0,
          "y": 2841206,
          "yshift": 17
         },
         {
          "font": {
           "color": "black",
           "size": 12
          },
          "showarrow": false,
          "text": "$2,864,997.00",
          "textangle": 0,
          "x": "May-2025",
          "xshift": 0,
          "y": 2864997,
          "yshift": 17
         },
         {
          "font": {
           "color": "black",
           "size": 12
          },
          "showarrow": false,
          "text": "$2,888,988.00",
          "textangle": 0,
          "x": "Jun-2025",
          "xshift": 0,
          "y": 2888988,
          "yshift": 17
         },
         {
          "font": {
           "color": "black",
           "size": 12
          },
          "showarrow": false,
          "text": "$2,913,179.00",
          "textangle": 0,
          "x": "Jul-2025",
          "xshift": 0,
          "y": 2913179,
          "yshift": 17
         },
         {
          "font": {
           "color": "black",
           "size": 12
          },
          "showarrow": false,
          "text": "$2,937,573.00",
          "textangle": 0,
          "x": "Ago-2025",
          "xshift": 0,
          "y": 2937573,
          "yshift": 17
         },
         {
          "font": {
           "color": "black",
           "size": 12
          },
          "showarrow": false,
          "text": "$2,962,172.00",
          "textangle": 0,
          "x": "Sep-2025",
          "xshift": 0,
          "y": 2962172,
          "yshift": 17
         },
         {
          "font": {
           "color": "black",
           "size": 12
          },
          "showarrow": false,
          "text": "$2,986,976.00",
          "textangle": 0,
          "x": "Oct-2025",
          "xshift": 0,
          "y": 2986976,
          "yshift": 17
         },
         {
          "font": {
           "color": "black",
           "size": 12
          },
          "showarrow": false,
          "text": "$3,011,988.00",
          "textangle": 0,
          "x": "Nov-2025",
          "xshift": 0,
          "y": 3011988,
          "yshift": 17
         },
         {
          "font": {
           "color": "black",
           "size": 12
          },
          "showarrow": false,
          "text": "$3,037,209.00",
          "textangle": 0,
          "x": "Dic-2025",
          "xshift": 0,
          "y": 3037209,
          "yshift": 17
         },
         {
          "font": {
           "color": "black",
           "size": 12
          },
          "showarrow": false,
          "text": "$2,771,011.00",
          "textangle": 0,
          "x": "Ene-2026",
          "xshift": 0,
          "y": 2771011,
          "yshift": 17
         },
         {
          "font": {
           "color": "black",
           "size": 12
          },
          "showarrow": false,
          "text": "$2,794,214.00",
          "textangle": 0,
          "x": "Feb-2026",
          "xshift": 0,
          "y": 2794214,
          "yshift": 17
         },
         {
          "font": {
           "color": "black",
           "size": 12
          },
          "showarrow": false,
          "text": "$2,817,612.00",
          "textangle": 0,
          "x": "Mar-2026",
          "xshift": 0,
          "y": 2817612,
          "yshift": 17
         }
        ],
        "margin": {
         "b": 10,
         "l": 10,
         "r": 10,
         "t": 10
        },
        "plot_bgcolor": "rgba(0,0,0,0)",
        "template": {
         "data": {
          "bar": [
           {
            "error_x": {
             "color": "#2a3f5f"
            },
            "error_y": {
             "color": "#2a3f5f"
            },
            "marker": {
             "line": {
              "color": "#E5ECF6",
              "width": 0.5
             },
             "pattern": {
              "fillmode": "overlay",
              "size": 10,
              "solidity": 0.2
             }
            },
            "type": "bar"
           }
          ],
          "barpolar": [
           {
            "marker": {
             "line": {
              "color": "#E5ECF6",
              "width": 0.5
             },
             "pattern": {
              "fillmode": "overlay",
              "size": 10,
              "solidity": 0.2
             }
            },
            "type": "barpolar"
           }
          ],
          "carpet": [
           {
            "aaxis": {
             "endlinecolor": "#2a3f5f",
             "gridcolor": "white",
             "linecolor": "white",
             "minorgridcolor": "white",
             "startlinecolor": "#2a3f5f"
            },
            "baxis": {
             "endlinecolor": "#2a3f5f",
             "gridcolor": "white",
             "linecolor": "white",
             "minorgridcolor": "white",
             "startlinecolor": "#2a3f5f"
            },
            "type": "carpet"
           }
          ],
          "choropleth": [
           {
            "colorbar": {
             "outlinewidth": 0,
             "ticks": ""
            },
            "type": "choropleth"
           }
          ],
          "contour": [
           {
            "colorbar": {
             "outlinewidth": 0,
             "ticks": ""
            },
            "colorscale": [
             [
              0,
              "#0d0887"
             ],
             [
              0.1111111111111111,
              "#46039f"
             ],
             [
              0.2222222222222222,
              "#7201a8"
             ],
             [
              0.3333333333333333,
              "#9c179e"
             ],
             [
              0.4444444444444444,
              "#bd3786"
             ],
             [
              0.5555555555555556,
              "#d8576b"
             ],
             [
              0.6666666666666666,
              "#ed7953"
             ],
             [
              0.7777777777777778,
              "#fb9f3a"
             ],
             [
              0.8888888888888888,
              "#fdca26"
             ],
             [
              1,
              "#f0f921"
             ]
            ],
            "type": "contour"
           }
          ],
          "contourcarpet": [
           {
            "colorbar": {
             "outlinewidth": 0,
             "ticks": ""
            },
            "type": "contourcarpet"
           }
          ],
          "heatmap": [
           {
            "colorbar": {
             "outlinewidth": 0,
             "ticks": ""
            },
            "colorscale": [
             [
              0,
              "#0d0887"
             ],
             [
              0.1111111111111111,
              "#46039f"
             ],
             [
              0.2222222222222222,
              "#7201a8"
             ],
             [
              0.3333333333333333,
              "#9c179e"
             ],
             [
              0.4444444444444444,
              "#bd3786"
             ],
             [
              0.5555555555555556,
              "#d8576b"
             ],
             [
              0.6666666666666666,
              "#ed7953"
             ],
             [
              0.7777777777777778,
              "#fb9f3a"
             ],
             [
              0.8888888888888888,
              "#fdca26"
             ],
             [
              1,
              "#f0f921"
             ]
            ],
            "type": "heatmap"
           }
          ],
          "heatmapgl": [
           {
            "colorbar": {
             "outlinewidth": 0,
             "ticks": ""
            },
            "colorscale": [
             [
              0,
              "#0d0887"
             ],
             [
              0.1111111111111111,
              "#46039f"
             ],
             [
              0.2222222222222222,
              "#7201a8"
             ],
             [
              0.3333333333333333,
              "#9c179e"
             ],
             [
              0.4444444444444444,
              "#bd3786"
             ],
             [
              0.5555555555555556,
              "#d8576b"
             ],
             [
              0.6666666666666666,
              "#ed7953"
             ],
             [
              0.7777777777777778,
              "#fb9f3a"
             ],
             [
              0.8888888888888888,
              "#fdca26"
             ],
             [
              1,
              "#f0f921"
             ]
            ],
            "type": "heatmapgl"
           }
          ],
          "histogram": [
           {
            "marker": {
             "pattern": {
              "fillmode": "overlay",
              "size": 10,
              "solidity": 0.2
             }
            },
            "type": "histogram"
           }
          ],
          "histogram2d": [
           {
            "colorbar": {
             "outlinewidth": 0,
             "ticks": ""
            },
            "colorscale": [
             [
              0,
              "#0d0887"
             ],
             [
              0.1111111111111111,
              "#46039f"
             ],
             [
              0.2222222222222222,
              "#7201a8"
             ],
             [
              0.3333333333333333,
              "#9c179e"
             ],
             [
              0.4444444444444444,
              "#bd3786"
             ],
             [
              0.5555555555555556,
              "#d8576b"
             ],
             [
              0.6666666666666666,
              "#ed7953"
             ],
             [
              0.7777777777777778,
              "#fb9f3a"
             ],
             [
              0.8888888888888888,
              "#fdca26"
             ],
             [
              1,
              "#f0f921"
             ]
            ],
            "type": "histogram2d"
           }
          ],
          "histogram2dcontour": [
           {
            "colorbar": {
             "outlinewidth": 0,
             "ticks": ""
            },
            "colorscale": [
             [
              0,
              "#0d0887"
             ],
             [
              0.1111111111111111,
              "#46039f"
             ],
             [
              0.2222222222222222,
              "#7201a8"
             ],
             [
              0.3333333333333333,
              "#9c179e"
             ],
             [
              0.4444444444444444,
              "#bd3786"
             ],
             [
              0.5555555555555556,
              "#d8576b"
             ],
             [
              0.6666666666666666,
              "#ed7953"
             ],
             [
              0.7777777777777778,
              "#fb9f3a"
             ],
             [
              0.8888888888888888,
              "#fdca26"
             ],
             [
              1,
              "#f0f921"
             ]
            ],
            "type": "histogram2dcontour"
           }
          ],
          "mesh3d": [
           {
            "colorbar": {
             "outlinewidth": 0,
             "ticks": ""
            },
            "type": "mesh3d"
           }
          ],
          "parcoords": [
           {
            "line": {
             "colorbar": {
              "outlinewidth": 0,
              "ticks": ""
             }
            },
            "type": "parcoords"
           }
          ],
          "pie": [
           {
            "automargin": true,
            "type": "pie"
           }
          ],
          "scatter": [
           {
            "fillpattern": {
             "fillmode": "overlay",
             "size": 10,
             "solidity": 0.2
            },
            "type": "scatter"
           }
          ],
          "scatter3d": [
           {
            "line": {
             "colorbar": {
              "outlinewidth": 0,
              "ticks": ""
             }
            },
            "marker": {
             "colorbar": {
              "outlinewidth": 0,
              "ticks": ""
             }
            },
            "type": "scatter3d"
           }
          ],
          "scattercarpet": [
           {
            "marker": {
             "colorbar": {
              "outlinewidth": 0,
              "ticks": ""
             }
            },
            "type": "scattercarpet"
           }
          ],
          "scattergeo": [
           {
            "marker": {
             "colorbar": {
              "outlinewidth": 0,
              "ticks": ""
             }
            },
            "type": "scattergeo"
           }
          ],
          "scattergl": [
           {
            "marker": {
             "colorbar": {
              "outlinewidth": 0,
              "ticks": ""
             }
            },
            "type": "scattergl"
           }
          ],
          "scattermapbox": [
           {
            "marker": {
             "colorbar": {
              "outlinewidth": 0,
              "ticks": ""
             }
            },
            "type": "scattermapbox"
           }
          ],
          "scatterpolar": [
           {
            "marker": {
             "colorbar": {
              "outlinewidth": 0,
              "ticks": ""
             }
            },
            "type": "scatterpolar"
           }
          ],
          "scatterpolargl": [
           {
            "marker": {
             "colorbar": {
              "outlinewidth": 0,
              "ticks": ""
             }
            },
            "type": "scatterpolargl"
           }
          ],
          "scatterternary": [
           {
            "marker": {
             "colorbar": {
              "outlinewidth": 0,
              "ticks": ""
             }
            },
            "type": "scatterternary"
           }
          ],
          "surface": [
           {
            "colorbar": {
             "outlinewidth": 0,
             "ticks": ""
            },
            "colorscale": [
             [
              0,
              "#0d0887"
             ],
             [
              0.1111111111111111,
              "#46039f"
             ],
             [
              0.2222222222222222,
              "#7201a8"
             ],
             [
              0.3333333333333333,
              "#9c179e"
             ],
             [
              0.4444444444444444,
              "#bd3786"
             ],
             [
              0.5555555555555556,
              "#d8576b"
             ],
             [
              0.6666666666666666,
              "#ed7953"
             ],
             [
              0.7777777777777778,
              "#fb9f3a"
             ],
             [
              0.8888888888888888,
              "#fdca26"
             ],
             [
              1,
              "#f0f921"
             ]
            ],
            "type": "surface"
           }
          ],
          "table": [
           {
            "cells": {
             "fill": {
              "color": "#EBF0F8"
             },
             "line": {
              "color": "white"
             }
            },
            "header": {
             "fill": {
              "color": "#C8D4E3"
             },
             "line": {
              "color": "white"
             }
            },
            "type": "table"
           }
          ]
         },
         "layout": {
          "annotationdefaults": {
           "arrowcolor": "#2a3f5f",
           "arrowhead": 0,
           "arrowwidth": 1
          },
          "autotypenumbers": "strict",
          "coloraxis": {
           "colorbar": {
            "outlinewidth": 0,
            "ticks": ""
           }
          },
          "colorscale": {
           "diverging": [
            [
             0,
             "#8e0152"
            ],
            [
             0.1,
             "#c51b7d"
            ],
            [
             0.2,
             "#de77ae"
            ],
            [
             0.3,
             "#f1b6da"
            ],
            [
             0.4,
             "#fde0ef"
            ],
            [
             0.5,
             "#f7f7f7"
            ],
            [
             0.6,
             "#e6f5d0"
            ],
            [
             0.7,
             "#b8e186"
            ],
            [
             0.8,
             "#7fbc41"
            ],
            [
             0.9,
             "#4d9221"
            ],
            [
             1,
             "#276419"
            ]
           ],
           "sequential": [
            [
             0,
             "#0d0887"
            ],
            [
             0.1111111111111111,
             "#46039f"
            ],
            [
             0.2222222222222222,
             "#7201a8"
            ],
            [
             0.3333333333333333,
             "#9c179e"
            ],
            [
             0.4444444444444444,
             "#bd3786"
            ],
            [
             0.5555555555555556,
             "#d8576b"
            ],
            [
             0.6666666666666666,
             "#ed7953"
            ],
            [
             0.7777777777777778,
             "#fb9f3a"
            ],
            [
             0.8888888888888888,
             "#fdca26"
            ],
            [
             1,
             "#f0f921"
            ]
           ],
           "sequentialminus": [
            [
             0,
             "#0d0887"
            ],
            [
             0.1111111111111111,
             "#46039f"
            ],
            [
             0.2222222222222222,
             "#7201a8"
            ],
            [
             0.3333333333333333,
             "#9c179e"
            ],
            [
             0.4444444444444444,
             "#bd3786"
            ],
            [
             0.5555555555555556,
             "#d8576b"
            ],
            [
             0.6666666666666666,
             "#ed7953"
            ],
            [
             0.7777777777777778,
             "#fb9f3a"
            ],
            [
             0.8888888888888888,
             "#fdca26"
            ],
            [
             1,
             "#f0f921"
            ]
           ]
          },
          "colorway": [
           "#636efa",
           "#EF553B",
           "#00cc96",
           "#ab63fa",
           "#FFA15A",
           "#19d3f3",
           "#FF6692",
           "#B6E880",
           "#FF97FF",
           "#FECB52"
          ],
          "font": {
           "color": "#2a3f5f"
          },
          "geo": {
           "bgcolor": "white",
           "lakecolor": "white",
           "landcolor": "#E5ECF6",
           "showlakes": true,
           "showland": true,
           "subunitcolor": "white"
          },
          "hoverlabel": {
           "align": "left"
          },
          "hovermode": "closest",
          "mapbox": {
           "style": "light"
          },
          "paper_bgcolor": "white",
          "plot_bgcolor": "#E5ECF6",
          "polar": {
           "angularaxis": {
            "gridcolor": "white",
            "linecolor": "white",
            "ticks": ""
           },
           "bgcolor": "#E5ECF6",
           "radialaxis": {
            "gridcolor": "white",
            "linecolor": "white",
            "ticks": ""
           }
          },
          "scene": {
           "xaxis": {
            "backgroundcolor": "#E5ECF6",
            "gridcolor": "white",
            "gridwidth": 2,
            "linecolor": "white",
            "showbackground": true,
            "ticks": "",
            "zerolinecolor": "white"
           },
           "yaxis": {
            "backgroundcolor": "#E5ECF6",
            "gridcolor": "white",
            "gridwidth": 2,
            "linecolor": "white",
            "showbackground": true,
            "ticks": "",
            "zerolinecolor": "white"
           },
           "zaxis": {
            "backgroundcolor": "#E5ECF6",
            "gridcolor": "white",
            "gridwidth": 2,
            "linecolor": "white",
            "showbackground": true,
            "ticks": "",
            "zerolinecolor": "white"
           }
          },
          "shapedefaults": {
           "line": {
            "color": "#2a3f5f"
           }
          },
          "ternary": {
           "aaxis": {
            "gridcolor": "white",
            "linecolor": "white",
            "ticks": ""
           },
           "baxis": {
            "gridcolor": "white",
            "linecolor": "white",
            "ticks": ""
           },
           "bgcolor": "#E5ECF6",
           "caxis": {
            "gridcolor": "white",
            "linecolor": "white",
            "ticks": ""
           }
          },
          "title": {
           "x": 0.05
          },
          "xaxis": {
           "automargin": true,
           "gridcolor": "white",
           "linecolor": "white",
           "ticks": "",
           "title": {
            "standoff": 15
           },
           "zerolinecolor": "white",
           "zerolinewidth": 2
          },
          "yaxis": {
           "automargin": true,
           "gridcolor": "white",
           "linecolor": "white",
           "ticks": "",
           "title": {
            "standoff": 15
           },
           "zerolinecolor": "white",
           "zerolinewidth": 2
          }
         }
        },
        "xaxis": {
         "gridcolor": "#dddcda",
         "tickmode": "array",
         "ticktext": [
          "Oct-2023",
          "Nov-2023",
          "Dic-2023",
          "Ene-2024",
          "Feb-2024",
          "Mar-2024",
          "Abr-2024",
          "May-2024",
          "Jun-2024",
          "Jul-2024",
          "Ago-2024",
          "Sept-2024",
          "Oct-2024",
          "Nov-2024",
          "Dic-2024",
          "Ene-2025",
          "Feb-2025",
          "Mar-2025",
          "Abr-2025",
          "May-2025",
          "Jun-2025",
          "Jul-2025",
          "Ago-2025",
          "Sep-2025",
          "Oct-2025",
          "Nov-2025",
          "Dic-2025",
          "Ene-2026",
          "Feb-2026",
          "Mar-2026"
         ],
         "tickvals": [
          "Oct-2023",
          "Nov-2023",
          "Dic-2023",
          "Ene-2024",
          "Feb-2024",
          "Mar-2024",
          "Abr-2024",
          "May-2024",
          "Jun-2024",
          "Jul-2024",
          "Ago-2024",
          "Sept-2024",
          "Oct-2024",
          "Nov-2024",
          "Dic-2024",
          "Ene-2025",
          "Feb-2025",
          "Mar-2025",
          "Abr-2025",
          "May-2025",
          "Jun-2025",
          "Jul-2025",
          "Ago-2025",
          "Sep-2025",
          "Oct-2025",
          "Nov-2025",
          "Dic-2025",
          "Ene-2026",
          "Feb-2026",
          "Mar-2026"
         ]
        },
        "yaxis": {
         "gridcolor": "#dddcda",
         "gridwidth": 1,
         "title": {
          "text": "Monto"
         }
        }
       }
      }
     },
     "metadata": {},
     "output_type": "display_data"
    }
   ],
   "source": [
    "# Datos\n",
    "año = df_promedio_proyección['label']\n",
    "promedio = df_promedio_proyección['promedio']\n",
    "\n",
    "# Crear una función para formatear los valores grandes en palabras en español\n",
    "def formatear_numero(valor):\n",
    "    if valor >= 1_000_000_000_000:\n",
    "        return f'{valor / 1_000_000_000:.2f} billones'\n",
    "    elif valor >= 1_000_000_000:\n",
    "        return f'{valor / 1_000_000_000:.0f} mil millones'  # Mil millones\n",
    "    elif valor >= 1_000_000:\n",
    "        return f'{valor / 1_000_000:.0f} millones'  # Millones\n",
    "    elif valor >= 1_000:\n",
    "        return f'{valor / 1_000:.0f} mil'  # Mil\n",
    "    else:\n",
    "        return str(valor)\n",
    "# Configurar los valores y el texto del eje Y\n",
    "tickvals = [2500000000,3000000000,3200000000]\n",
    "ticktext = [formatear_numero(val) for val in tickvals]\n",
    "\n",
    "fig = go.Figure()\n",
    "fig.add_trace(go.Scatter(\n",
    "    x=año,\n",
    "    y=promedio,\n",
    "    mode='markers+lines',\n",
    "    marker=dict(color='blue'),\n",
    "))\n",
    "# Agregar anotaciones para mostrar los valores encima de los puntos\n",
    "for a, p in zip(año, promedio):\n",
    "    fig.add_annotation(\n",
    "        x=a,\n",
    "        y=p,\n",
    "        text=f\"${p:,.2f}\",  # Formatear el valor del promedio como moneda\n",
    "        showarrow=False,\n",
    "        font=dict(color='black', size=12),\n",
    "        xshift=0,\n",
    "        yshift=17,\n",
    "        textangle=0\n",
    "    )\n",
    "# Actualizar diseño\n",
    "fig.update_layout(\n",
    "    #title='Plusvalía estimada',   \n",
    "    yaxis=dict(\n",
    "        title=\"Monto\",\n",
    "        gridwidth=1,  # Ancho de las líneas de la cuadrícula\n",
    "        gridcolor='#dddcda', \n",
    "\n",
    "    ),\n",
    "    xaxis=dict(\n",
    "        gridcolor='#dddcda', \n",
    "        tickmode='array',\n",
    "        tickvals=año,\n",
    "        ticktext=año\n",
    "    ),\n",
    "    plot_bgcolor='rgba(0,0,0,0)',\n",
    "        margin=dict(l=10, r=10, t=10, b=10)\n",
    ")\n",
    "fig.show()"
   ]
  },
  {
   "cell_type": "code",
   "execution_count": 62,
   "metadata": {},
   "outputs": [
    {
     "data": {
      "text/html": [
       "<div>\n",
       "<style scoped>\n",
       "    .dataframe tbody tr th:only-of-type {\n",
       "        vertical-align: middle;\n",
       "    }\n",
       "\n",
       "    .dataframe tbody tr th {\n",
       "        vertical-align: top;\n",
       "    }\n",
       "\n",
       "    .dataframe thead th {\n",
       "        text-align: right;\n",
       "    }\n",
       "</style>\n",
       "<table border=\"1\" class=\"dataframe\">\n",
       "  <thead>\n",
       "    <tr style=\"text-align: right;\">\n",
       "      <th></th>\n",
       "      <th>mes</th>\n",
       "      <th>año</th>\n",
       "      <th>value_x</th>\n",
       "      <th>value_y</th>\n",
       "      <th>promedio</th>\n",
       "      <th>label</th>\n",
       "      <th>mes_numero</th>\n",
       "      <th>cambio_porcentual</th>\n",
       "    </tr>\n",
       "  </thead>\n",
       "  <tbody>\n",
       "    <tr>\n",
       "      <th>0</th>\n",
       "      <td>Oct</td>\n",
       "      <td>2023</td>\n",
       "      <td>3080000.0</td>\n",
       "      <td>2590000.0</td>\n",
       "      <td>2835000.0</td>\n",
       "      <td>Oct-2023</td>\n",
       "      <td>10</td>\n",
       "      <td>NaN</td>\n",
       "    </tr>\n",
       "    <tr>\n",
       "      <th>1</th>\n",
       "      <td>Nov</td>\n",
       "      <td>2023</td>\n",
       "      <td>2850000.0</td>\n",
       "      <td>2646000.0</td>\n",
       "      <td>2748000.0</td>\n",
       "      <td>Nov-2023</td>\n",
       "      <td>11</td>\n",
       "      <td>-0.030688</td>\n",
       "    </tr>\n",
       "    <tr>\n",
       "      <th>2</th>\n",
       "      <td>Dic</td>\n",
       "      <td>2023</td>\n",
       "      <td>2850000.0</td>\n",
       "      <td>2646000.0</td>\n",
       "      <td>2748000.0</td>\n",
       "      <td>Dic-2023</td>\n",
       "      <td>12</td>\n",
       "      <td>0.000000</td>\n",
       "    </tr>\n",
       "    <tr>\n",
       "      <th>3</th>\n",
       "      <td>Ene</td>\n",
       "      <td>2024</td>\n",
       "      <td>2800000.0</td>\n",
       "      <td>2646000.0</td>\n",
       "      <td>2723000.0</td>\n",
       "      <td>Ene-2024</td>\n",
       "      <td>1</td>\n",
       "      <td>-0.009098</td>\n",
       "    </tr>\n",
       "    <tr>\n",
       "      <th>4</th>\n",
       "      <td>Feb</td>\n",
       "      <td>2024</td>\n",
       "      <td>3100000.0</td>\n",
       "      <td>2646000.0</td>\n",
       "      <td>2873000.0</td>\n",
       "      <td>Feb-2024</td>\n",
       "      <td>2</td>\n",
       "      <td>0.055086</td>\n",
       "    </tr>\n",
       "    <tr>\n",
       "      <th>5</th>\n",
       "      <td>Mar</td>\n",
       "      <td>2024</td>\n",
       "      <td>2850000.0</td>\n",
       "      <td>2646000.0</td>\n",
       "      <td>2748000.0</td>\n",
       "      <td>Mar-2024</td>\n",
       "      <td>3</td>\n",
       "      <td>-0.043509</td>\n",
       "    </tr>\n",
       "    <tr>\n",
       "      <th>6</th>\n",
       "      <td>Abr</td>\n",
       "      <td>2024</td>\n",
       "      <td>2650000.0</td>\n",
       "      <td>2650000.0</td>\n",
       "      <td>2650000.0</td>\n",
       "      <td>Abr-2024</td>\n",
       "      <td>4</td>\n",
       "      <td>-0.035662</td>\n",
       "    </tr>\n",
       "    <tr>\n",
       "      <th>7</th>\n",
       "      <td>May</td>\n",
       "      <td>2024</td>\n",
       "      <td>2650000.0</td>\n",
       "      <td>2750000.0</td>\n",
       "      <td>2700000.0</td>\n",
       "      <td>May-2024</td>\n",
       "      <td>5</td>\n",
       "      <td>0.018868</td>\n",
       "    </tr>\n",
       "    <tr>\n",
       "      <th>8</th>\n",
       "      <td>Jun</td>\n",
       "      <td>2024</td>\n",
       "      <td>2833000.0</td>\n",
       "      <td>2800000.0</td>\n",
       "      <td>2816500.0</td>\n",
       "      <td>Jun-2024</td>\n",
       "      <td>6</td>\n",
       "      <td>0.043148</td>\n",
       "    </tr>\n",
       "    <tr>\n",
       "      <th>9</th>\n",
       "      <td>Jul</td>\n",
       "      <td>2024</td>\n",
       "      <td>3034197.0</td>\n",
       "      <td>2850000.0</td>\n",
       "      <td>2942098.5</td>\n",
       "      <td>Jul-2024</td>\n",
       "      <td>7</td>\n",
       "      <td>0.044594</td>\n",
       "    </tr>\n",
       "    <tr>\n",
       "      <th>10</th>\n",
       "      <td>Ago</td>\n",
       "      <td>2024</td>\n",
       "      <td>3250000.0</td>\n",
       "      <td>2900000.0</td>\n",
       "      <td>3075000.0</td>\n",
       "      <td>Ago-2024</td>\n",
       "      <td>8</td>\n",
       "      <td>0.045172</td>\n",
       "    </tr>\n",
       "    <tr>\n",
       "      <th>11</th>\n",
       "      <td>Sept</td>\n",
       "      <td>2024</td>\n",
       "      <td>3200000.0</td>\n",
       "      <td>2950000.0</td>\n",
       "      <td>3075000.0</td>\n",
       "      <td>Sept-2024</td>\n",
       "      <td>9</td>\n",
       "      <td>0.000000</td>\n",
       "    </tr>\n",
       "    <tr>\n",
       "      <th>12</th>\n",
       "      <td>Oct</td>\n",
       "      <td>2024</td>\n",
       "      <td>3242316.0</td>\n",
       "      <td>2985000.0</td>\n",
       "      <td>3113658.0</td>\n",
       "      <td>Oct-2024</td>\n",
       "      <td>10</td>\n",
       "      <td>0.012572</td>\n",
       "    </tr>\n",
       "  </tbody>\n",
       "</table>\n",
       "</div>"
      ],
      "text/plain": [
       "     mes   año    value_x    value_y   promedio      label  mes_numero  \\\n",
       "0    Oct  2023  3080000.0  2590000.0  2835000.0   Oct-2023          10   \n",
       "1    Nov  2023  2850000.0  2646000.0  2748000.0   Nov-2023          11   \n",
       "2    Dic  2023  2850000.0  2646000.0  2748000.0   Dic-2023          12   \n",
       "3    Ene  2024  2800000.0  2646000.0  2723000.0   Ene-2024           1   \n",
       "4    Feb  2024  3100000.0  2646000.0  2873000.0   Feb-2024           2   \n",
       "5    Mar  2024  2850000.0  2646000.0  2748000.0   Mar-2024           3   \n",
       "6    Abr  2024  2650000.0  2650000.0  2650000.0   Abr-2024           4   \n",
       "7    May  2024  2650000.0  2750000.0  2700000.0   May-2024           5   \n",
       "8    Jun  2024  2833000.0  2800000.0  2816500.0   Jun-2024           6   \n",
       "9    Jul  2024  3034197.0  2850000.0  2942098.5   Jul-2024           7   \n",
       "10   Ago  2024  3250000.0  2900000.0  3075000.0   Ago-2024           8   \n",
       "11  Sept  2024  3200000.0  2950000.0  3075000.0  Sept-2024           9   \n",
       "12   Oct  2024  3242316.0  2985000.0  3113658.0   Oct-2024          10   \n",
       "\n",
       "    cambio_porcentual  \n",
       "0                 NaN  \n",
       "1           -0.030688  \n",
       "2            0.000000  \n",
       "3           -0.009098  \n",
       "4            0.055086  \n",
       "5           -0.043509  \n",
       "6           -0.035662  \n",
       "7            0.018868  \n",
       "8            0.043148  \n",
       "9            0.044594  \n",
       "10           0.045172  \n",
       "11           0.000000  \n",
       "12           0.012572  "
      ]
     },
     "execution_count": 62,
     "metadata": {},
     "output_type": "execute_result"
    }
   ],
   "source": [
    "df_promedio"
   ]
  },
  {
   "cell_type": "code",
   "execution_count": 63,
   "metadata": {},
   "outputs": [
    {
     "name": "stdout",
     "output_type": "stream",
     "text": [
      "    mes   año      promedio    label\n",
      "0     1  2024  3.152802e+06   1-2024\n",
      "1     2  2024  3.152802e+06   2-2024\n",
      "2     3  2024  3.056049e+06   3-2024\n",
      "3     4  2024  3.056049e+06   4-2024\n",
      "4     5  2024  3.028247e+06   5-2024\n",
      "5     6  2024  3.195062e+06   6-2024\n",
      "6     7  2024  3.056049e+06   7-2024\n",
      "7     8  2024  2.947064e+06   8-2024\n",
      "8     9  2024  3.002669e+06   9-2024\n",
      "9    10  2024  3.132228e+06  10-2024\n",
      "10   11  2024  3.271906e+06  11-2024\n",
      "11   12  2024  3.419706e+06  12-2024\n",
      "12    1  2025  3.462697e+06   1-2025\n",
      "13    2  2025  3.462697e+06   2-2025\n",
      "14    3  2025  3.356435e+06   3-2025\n",
      "15    4  2025  3.356435e+06   4-2025\n",
      "16    5  2025  3.325899e+06   5-2025\n",
      "17    6  2025  3.509111e+06   6-2025\n",
      "18    7  2025  3.356435e+06   7-2025\n",
      "19    8  2025  3.236737e+06   8-2025\n",
      "20    9  2025  3.297807e+06   9-2025\n",
      "21   10  2025  3.440101e+06  10-2025\n",
      "22   11  2025  3.593509e+06  11-2025\n",
      "23   12  2025  3.755836e+06  12-2025\n",
      "24    1  2026  3.803053e+06   1-2026\n",
      "25    2  2026  3.803053e+06   2-2026\n",
      "26    3  2026  3.686346e+06   3-2026\n",
      "27    4  2026  3.686346e+06   4-2026\n",
      "28    5  2026  3.652809e+06   5-2026\n",
      "29    6  2026  3.854029e+06   6-2026\n",
      "30    7  2026  3.686346e+06   7-2026\n",
      "31    8  2026  3.554882e+06   8-2026\n",
      "32    9  2026  3.621955e+06   9-2026\n",
      "33   10  2026  3.778236e+06  10-2026\n",
      "34   11  2026  3.946722e+06  11-2026\n",
      "35   12  2026  4.125005e+06  12-2026\n"
     ]
    }
   ],
   "source": [
    "# Crear un nuevo DataFrame para las proyecciones\n",
    "nuevos_meses = []\n",
    "ultimo_promedio = df_promedio['promedio'].iloc[-1]  # Obtener el último promedio de la tabla existente\n",
    "\n",
    "# Proyectar hasta diciembre de 2026\n",
    "for año in range(2024, 2027):\n",
    "    for mes in range(1, 13):  # Iterar sobre los 12 meses\n",
    "        # Calcular el nuevo promedio usando el cambio porcentual del mes anterior\n",
    "        if mes == 1 and año == 2024:\n",
    "            # Para enero de 2024, usar el último promedio de 2023\n",
    "            nuevo_promedio = ultimo_promedio * (1 + df_promedio['cambio_porcentual'].iloc[-1] if not pd.isna(df_promedio['cambio_porcentual'].iloc[-1]) else 0)\n",
    "        else:\n",
    "            # Para otros meses, usar el promedio del mes anterior\n",
    "            if mes == 1:\n",
    "                # Si es enero, usar el promedio de diciembre del año anterior\n",
    "                nuevo_promedio = ultimo_promedio * (1 + df_promedio['cambio_porcentual'].iloc[-1] if not pd.isna(df_promedio['cambio_porcentual'].iloc[-1]) else 0)\n",
    "            else:\n",
    "                # Usar el cambio porcentual del mes anterior\n",
    "                if not pd.isna(df_promedio['cambio_porcentual'].iloc[mes - 2]):\n",
    "                    nuevo_promedio = ultimo_promedio * (1 + df_promedio['cambio_porcentual'].iloc[mes - 2])\n",
    "                else:\n",
    "                    nuevo_promedio = ultimo_promedio  # Si no hay cambio, mantener el último promedio\n",
    "\n",
    "        # Agregar el nuevo mes y año al DataFrame\n",
    "        nuevos_meses.append({'mes': mes, 'año': año, 'promedio': nuevo_promedio})\n",
    "        ultimo_promedio = nuevo_promedio  # Actualizar el último promedio\n",
    "\n",
    "# Convertir la lista a un DataFrame\n",
    "df_proyecciones = pd.DataFrame(nuevos_meses)\n",
    "\n",
    "# Crear una etiqueta para el mes\n",
    "df_proyecciones['label'] = df_proyecciones['mes'].astype(str) + '-' + df_proyecciones['año'].astype(str)\n",
    "\n",
    "# Mostrar el DataFrame de proyecciones\n",
    "print(df_proyecciones)"
   ]
  },
  {
   "cell_type": "code",
   "execution_count": 64,
   "metadata": {},
   "outputs": [],
   "source": [
    "df_proyecciones_24 = df_proyecciones[df_proyecciones['año'] == 2024]"
   ]
  },
  {
   "cell_type": "code",
   "execution_count": 65,
   "metadata": {},
   "outputs": [
    {
     "data": {
      "application/vnd.plotly.v1+json": {
       "config": {
        "plotlyServerURL": "https://plot.ly"
       },
       "data": [
        {
         "marker": {
          "color": "blue"
         },
         "mode": "markers+lines",
         "type": "scatter",
         "x": [
          "1-2024",
          "2-2024",
          "3-2024",
          "4-2024",
          "5-2024",
          "6-2024",
          "7-2024",
          "8-2024",
          "9-2024",
          "10-2024",
          "11-2024",
          "12-2024"
         ],
         "y": [
          3152801.9970614635,
          3152801.9970614635,
          3056049.343183387,
          3056049.343183387,
          3028246.8564368133,
          3195061.7769162557,
          3056049.343183387,
          2947063.595136818,
          3002668.5686299657,
          3132228.1568689994,
          3271906.182134581,
          3419705.869828572
         ]
        }
       ],
       "layout": {
        "annotations": [
         {
          "font": {
           "color": "black",
           "size": 12
          },
          "showarrow": false,
          "text": "$3,152,802.00",
          "textangle": 0,
          "x": "1-2024",
          "xshift": 0,
          "y": 3152801.9970614635,
          "yshift": 17
         },
         {
          "font": {
           "color": "black",
           "size": 12
          },
          "showarrow": false,
          "text": "$3,152,802.00",
          "textangle": 0,
          "x": "2-2024",
          "xshift": 0,
          "y": 3152801.9970614635,
          "yshift": 17
         },
         {
          "font": {
           "color": "black",
           "size": 12
          },
          "showarrow": false,
          "text": "$3,056,049.34",
          "textangle": 0,
          "x": "3-2024",
          "xshift": 0,
          "y": 3056049.343183387,
          "yshift": 17
         },
         {
          "font": {
           "color": "black",
           "size": 12
          },
          "showarrow": false,
          "text": "$3,056,049.34",
          "textangle": 0,
          "x": "4-2024",
          "xshift": 0,
          "y": 3056049.343183387,
          "yshift": 17
         },
         {
          "font": {
           "color": "black",
           "size": 12
          },
          "showarrow": false,
          "text": "$3,028,246.86",
          "textangle": 0,
          "x": "5-2024",
          "xshift": 0,
          "y": 3028246.8564368133,
          "yshift": 17
         },
         {
          "font": {
           "color": "black",
           "size": 12
          },
          "showarrow": false,
          "text": "$3,195,061.78",
          "textangle": 0,
          "x": "6-2024",
          "xshift": 0,
          "y": 3195061.7769162557,
          "yshift": 17
         },
         {
          "font": {
           "color": "black",
           "size": 12
          },
          "showarrow": false,
          "text": "$3,056,049.34",
          "textangle": 0,
          "x": "7-2024",
          "xshift": 0,
          "y": 3056049.343183387,
          "yshift": 17
         },
         {
          "font": {
           "color": "black",
           "size": 12
          },
          "showarrow": false,
          "text": "$2,947,063.60",
          "textangle": 0,
          "x": "8-2024",
          "xshift": 0,
          "y": 2947063.595136818,
          "yshift": 17
         },
         {
          "font": {
           "color": "black",
           "size": 12
          },
          "showarrow": false,
          "text": "$3,002,668.57",
          "textangle": 0,
          "x": "9-2024",
          "xshift": 0,
          "y": 3002668.5686299657,
          "yshift": 17
         },
         {
          "font": {
           "color": "black",
           "size": 12
          },
          "showarrow": false,
          "text": "$3,132,228.16",
          "textangle": 0,
          "x": "10-2024",
          "xshift": 0,
          "y": 3132228.1568689994,
          "yshift": 17
         },
         {
          "font": {
           "color": "black",
           "size": 12
          },
          "showarrow": false,
          "text": "$3,271,906.18",
          "textangle": 0,
          "x": "11-2024",
          "xshift": 0,
          "y": 3271906.182134581,
          "yshift": 17
         },
         {
          "font": {
           "color": "black",
           "size": 12
          },
          "showarrow": false,
          "text": "$3,419,705.87",
          "textangle": 0,
          "x": "12-2024",
          "xshift": 0,
          "y": 3419705.869828572,
          "yshift": 17
         }
        ],
        "margin": {
         "b": 10,
         "l": 10,
         "r": 10,
         "t": 10
        },
        "plot_bgcolor": "rgba(0,0,0,0)",
        "template": {
         "data": {
          "bar": [
           {
            "error_x": {
             "color": "#2a3f5f"
            },
            "error_y": {
             "color": "#2a3f5f"
            },
            "marker": {
             "line": {
              "color": "#E5ECF6",
              "width": 0.5
             },
             "pattern": {
              "fillmode": "overlay",
              "size": 10,
              "solidity": 0.2
             }
            },
            "type": "bar"
           }
          ],
          "barpolar": [
           {
            "marker": {
             "line": {
              "color": "#E5ECF6",
              "width": 0.5
             },
             "pattern": {
              "fillmode": "overlay",
              "size": 10,
              "solidity": 0.2
             }
            },
            "type": "barpolar"
           }
          ],
          "carpet": [
           {
            "aaxis": {
             "endlinecolor": "#2a3f5f",
             "gridcolor": "white",
             "linecolor": "white",
             "minorgridcolor": "white",
             "startlinecolor": "#2a3f5f"
            },
            "baxis": {
             "endlinecolor": "#2a3f5f",
             "gridcolor": "white",
             "linecolor": "white",
             "minorgridcolor": "white",
             "startlinecolor": "#2a3f5f"
            },
            "type": "carpet"
           }
          ],
          "choropleth": [
           {
            "colorbar": {
             "outlinewidth": 0,
             "ticks": ""
            },
            "type": "choropleth"
           }
          ],
          "contour": [
           {
            "colorbar": {
             "outlinewidth": 0,
             "ticks": ""
            },
            "colorscale": [
             [
              0,
              "#0d0887"
             ],
             [
              0.1111111111111111,
              "#46039f"
             ],
             [
              0.2222222222222222,
              "#7201a8"
             ],
             [
              0.3333333333333333,
              "#9c179e"
             ],
             [
              0.4444444444444444,
              "#bd3786"
             ],
             [
              0.5555555555555556,
              "#d8576b"
             ],
             [
              0.6666666666666666,
              "#ed7953"
             ],
             [
              0.7777777777777778,
              "#fb9f3a"
             ],
             [
              0.8888888888888888,
              "#fdca26"
             ],
             [
              1,
              "#f0f921"
             ]
            ],
            "type": "contour"
           }
          ],
          "contourcarpet": [
           {
            "colorbar": {
             "outlinewidth": 0,
             "ticks": ""
            },
            "type": "contourcarpet"
           }
          ],
          "heatmap": [
           {
            "colorbar": {
             "outlinewidth": 0,
             "ticks": ""
            },
            "colorscale": [
             [
              0,
              "#0d0887"
             ],
             [
              0.1111111111111111,
              "#46039f"
             ],
             [
              0.2222222222222222,
              "#7201a8"
             ],
             [
              0.3333333333333333,
              "#9c179e"
             ],
             [
              0.4444444444444444,
              "#bd3786"
             ],
             [
              0.5555555555555556,
              "#d8576b"
             ],
             [
              0.6666666666666666,
              "#ed7953"
             ],
             [
              0.7777777777777778,
              "#fb9f3a"
             ],
             [
              0.8888888888888888,
              "#fdca26"
             ],
             [
              1,
              "#f0f921"
             ]
            ],
            "type": "heatmap"
           }
          ],
          "heatmapgl": [
           {
            "colorbar": {
             "outlinewidth": 0,
             "ticks": ""
            },
            "colorscale": [
             [
              0,
              "#0d0887"
             ],
             [
              0.1111111111111111,
              "#46039f"
             ],
             [
              0.2222222222222222,
              "#7201a8"
             ],
             [
              0.3333333333333333,
              "#9c179e"
             ],
             [
              0.4444444444444444,
              "#bd3786"
             ],
             [
              0.5555555555555556,
              "#d8576b"
             ],
             [
              0.6666666666666666,
              "#ed7953"
             ],
             [
              0.7777777777777778,
              "#fb9f3a"
             ],
             [
              0.8888888888888888,
              "#fdca26"
             ],
             [
              1,
              "#f0f921"
             ]
            ],
            "type": "heatmapgl"
           }
          ],
          "histogram": [
           {
            "marker": {
             "pattern": {
              "fillmode": "overlay",
              "size": 10,
              "solidity": 0.2
             }
            },
            "type": "histogram"
           }
          ],
          "histogram2d": [
           {
            "colorbar": {
             "outlinewidth": 0,
             "ticks": ""
            },
            "colorscale": [
             [
              0,
              "#0d0887"
             ],
             [
              0.1111111111111111,
              "#46039f"
             ],
             [
              0.2222222222222222,
              "#7201a8"
             ],
             [
              0.3333333333333333,
              "#9c179e"
             ],
             [
              0.4444444444444444,
              "#bd3786"
             ],
             [
              0.5555555555555556,
              "#d8576b"
             ],
             [
              0.6666666666666666,
              "#ed7953"
             ],
             [
              0.7777777777777778,
              "#fb9f3a"
             ],
             [
              0.8888888888888888,
              "#fdca26"
             ],
             [
              1,
              "#f0f921"
             ]
            ],
            "type": "histogram2d"
           }
          ],
          "histogram2dcontour": [
           {
            "colorbar": {
             "outlinewidth": 0,
             "ticks": ""
            },
            "colorscale": [
             [
              0,
              "#0d0887"
             ],
             [
              0.1111111111111111,
              "#46039f"
             ],
             [
              0.2222222222222222,
              "#7201a8"
             ],
             [
              0.3333333333333333,
              "#9c179e"
             ],
             [
              0.4444444444444444,
              "#bd3786"
             ],
             [
              0.5555555555555556,
              "#d8576b"
             ],
             [
              0.6666666666666666,
              "#ed7953"
             ],
             [
              0.7777777777777778,
              "#fb9f3a"
             ],
             [
              0.8888888888888888,
              "#fdca26"
             ],
             [
              1,
              "#f0f921"
             ]
            ],
            "type": "histogram2dcontour"
           }
          ],
          "mesh3d": [
           {
            "colorbar": {
             "outlinewidth": 0,
             "ticks": ""
            },
            "type": "mesh3d"
           }
          ],
          "parcoords": [
           {
            "line": {
             "colorbar": {
              "outlinewidth": 0,
              "ticks": ""
             }
            },
            "type": "parcoords"
           }
          ],
          "pie": [
           {
            "automargin": true,
            "type": "pie"
           }
          ],
          "scatter": [
           {
            "fillpattern": {
             "fillmode": "overlay",
             "size": 10,
             "solidity": 0.2
            },
            "type": "scatter"
           }
          ],
          "scatter3d": [
           {
            "line": {
             "colorbar": {
              "outlinewidth": 0,
              "ticks": ""
             }
            },
            "marker": {
             "colorbar": {
              "outlinewidth": 0,
              "ticks": ""
             }
            },
            "type": "scatter3d"
           }
          ],
          "scattercarpet": [
           {
            "marker": {
             "colorbar": {
              "outlinewidth": 0,
              "ticks": ""
             }
            },
            "type": "scattercarpet"
           }
          ],
          "scattergeo": [
           {
            "marker": {
             "colorbar": {
              "outlinewidth": 0,
              "ticks": ""
             }
            },
            "type": "scattergeo"
           }
          ],
          "scattergl": [
           {
            "marker": {
             "colorbar": {
              "outlinewidth": 0,
              "ticks": ""
             }
            },
            "type": "scattergl"
           }
          ],
          "scattermapbox": [
           {
            "marker": {
             "colorbar": {
              "outlinewidth": 0,
              "ticks": ""
             }
            },
            "type": "scattermapbox"
           }
          ],
          "scatterpolar": [
           {
            "marker": {
             "colorbar": {
              "outlinewidth": 0,
              "ticks": ""
             }
            },
            "type": "scatterpolar"
           }
          ],
          "scatterpolargl": [
           {
            "marker": {
             "colorbar": {
              "outlinewidth": 0,
              "ticks": ""
             }
            },
            "type": "scatterpolargl"
           }
          ],
          "scatterternary": [
           {
            "marker": {
             "colorbar": {
              "outlinewidth": 0,
              "ticks": ""
             }
            },
            "type": "scatterternary"
           }
          ],
          "surface": [
           {
            "colorbar": {
             "outlinewidth": 0,
             "ticks": ""
            },
            "colorscale": [
             [
              0,
              "#0d0887"
             ],
             [
              0.1111111111111111,
              "#46039f"
             ],
             [
              0.2222222222222222,
              "#7201a8"
             ],
             [
              0.3333333333333333,
              "#9c179e"
             ],
             [
              0.4444444444444444,
              "#bd3786"
             ],
             [
              0.5555555555555556,
              "#d8576b"
             ],
             [
              0.6666666666666666,
              "#ed7953"
             ],
             [
              0.7777777777777778,
              "#fb9f3a"
             ],
             [
              0.8888888888888888,
              "#fdca26"
             ],
             [
              1,
              "#f0f921"
             ]
            ],
            "type": "surface"
           }
          ],
          "table": [
           {
            "cells": {
             "fill": {
              "color": "#EBF0F8"
             },
             "line": {
              "color": "white"
             }
            },
            "header": {
             "fill": {
              "color": "#C8D4E3"
             },
             "line": {
              "color": "white"
             }
            },
            "type": "table"
           }
          ]
         },
         "layout": {
          "annotationdefaults": {
           "arrowcolor": "#2a3f5f",
           "arrowhead": 0,
           "arrowwidth": 1
          },
          "autotypenumbers": "strict",
          "coloraxis": {
           "colorbar": {
            "outlinewidth": 0,
            "ticks": ""
           }
          },
          "colorscale": {
           "diverging": [
            [
             0,
             "#8e0152"
            ],
            [
             0.1,
             "#c51b7d"
            ],
            [
             0.2,
             "#de77ae"
            ],
            [
             0.3,
             "#f1b6da"
            ],
            [
             0.4,
             "#fde0ef"
            ],
            [
             0.5,
             "#f7f7f7"
            ],
            [
             0.6,
             "#e6f5d0"
            ],
            [
             0.7,
             "#b8e186"
            ],
            [
             0.8,
             "#7fbc41"
            ],
            [
             0.9,
             "#4d9221"
            ],
            [
             1,
             "#276419"
            ]
           ],
           "sequential": [
            [
             0,
             "#0d0887"
            ],
            [
             0.1111111111111111,
             "#46039f"
            ],
            [
             0.2222222222222222,
             "#7201a8"
            ],
            [
             0.3333333333333333,
             "#9c179e"
            ],
            [
             0.4444444444444444,
             "#bd3786"
            ],
            [
             0.5555555555555556,
             "#d8576b"
            ],
            [
             0.6666666666666666,
             "#ed7953"
            ],
            [
             0.7777777777777778,
             "#fb9f3a"
            ],
            [
             0.8888888888888888,
             "#fdca26"
            ],
            [
             1,
             "#f0f921"
            ]
           ],
           "sequentialminus": [
            [
             0,
             "#0d0887"
            ],
            [
             0.1111111111111111,
             "#46039f"
            ],
            [
             0.2222222222222222,
             "#7201a8"
            ],
            [
             0.3333333333333333,
             "#9c179e"
            ],
            [
             0.4444444444444444,
             "#bd3786"
            ],
            [
             0.5555555555555556,
             "#d8576b"
            ],
            [
             0.6666666666666666,
             "#ed7953"
            ],
            [
             0.7777777777777778,
             "#fb9f3a"
            ],
            [
             0.8888888888888888,
             "#fdca26"
            ],
            [
             1,
             "#f0f921"
            ]
           ]
          },
          "colorway": [
           "#636efa",
           "#EF553B",
           "#00cc96",
           "#ab63fa",
           "#FFA15A",
           "#19d3f3",
           "#FF6692",
           "#B6E880",
           "#FF97FF",
           "#FECB52"
          ],
          "font": {
           "color": "#2a3f5f"
          },
          "geo": {
           "bgcolor": "white",
           "lakecolor": "white",
           "landcolor": "#E5ECF6",
           "showlakes": true,
           "showland": true,
           "subunitcolor": "white"
          },
          "hoverlabel": {
           "align": "left"
          },
          "hovermode": "closest",
          "mapbox": {
           "style": "light"
          },
          "paper_bgcolor": "white",
          "plot_bgcolor": "#E5ECF6",
          "polar": {
           "angularaxis": {
            "gridcolor": "white",
            "linecolor": "white",
            "ticks": ""
           },
           "bgcolor": "#E5ECF6",
           "radialaxis": {
            "gridcolor": "white",
            "linecolor": "white",
            "ticks": ""
           }
          },
          "scene": {
           "xaxis": {
            "backgroundcolor": "#E5ECF6",
            "gridcolor": "white",
            "gridwidth": 2,
            "linecolor": "white",
            "showbackground": true,
            "ticks": "",
            "zerolinecolor": "white"
           },
           "yaxis": {
            "backgroundcolor": "#E5ECF6",
            "gridcolor": "white",
            "gridwidth": 2,
            "linecolor": "white",
            "showbackground": true,
            "ticks": "",
            "zerolinecolor": "white"
           },
           "zaxis": {
            "backgroundcolor": "#E5ECF6",
            "gridcolor": "white",
            "gridwidth": 2,
            "linecolor": "white",
            "showbackground": true,
            "ticks": "",
            "zerolinecolor": "white"
           }
          },
          "shapedefaults": {
           "line": {
            "color": "#2a3f5f"
           }
          },
          "ternary": {
           "aaxis": {
            "gridcolor": "white",
            "linecolor": "white",
            "ticks": ""
           },
           "baxis": {
            "gridcolor": "white",
            "linecolor": "white",
            "ticks": ""
           },
           "bgcolor": "#E5ECF6",
           "caxis": {
            "gridcolor": "white",
            "linecolor": "white",
            "ticks": ""
           }
          },
          "title": {
           "x": 0.05
          },
          "xaxis": {
           "automargin": true,
           "gridcolor": "white",
           "linecolor": "white",
           "ticks": "",
           "title": {
            "standoff": 15
           },
           "zerolinecolor": "white",
           "zerolinewidth": 2
          },
          "yaxis": {
           "automargin": true,
           "gridcolor": "white",
           "linecolor": "white",
           "ticks": "",
           "title": {
            "standoff": 15
           },
           "zerolinecolor": "white",
           "zerolinewidth": 2
          }
         }
        },
        "xaxis": {
         "gridcolor": "#dddcda",
         "tickmode": "array",
         "ticktext": [
          "1-2024",
          "2-2024",
          "3-2024",
          "4-2024",
          "5-2024",
          "6-2024",
          "7-2024",
          "8-2024",
          "9-2024",
          "10-2024",
          "11-2024",
          "12-2024"
         ],
         "tickvals": [
          "1-2024",
          "2-2024",
          "3-2024",
          "4-2024",
          "5-2024",
          "6-2024",
          "7-2024",
          "8-2024",
          "9-2024",
          "10-2024",
          "11-2024",
          "12-2024"
         ]
        },
        "yaxis": {
         "gridcolor": "#dddcda",
         "gridwidth": 1,
         "title": {
          "text": "Monto"
         }
        }
       }
      }
     },
     "metadata": {},
     "output_type": "display_data"
    }
   ],
   "source": [
    "# Datos\n",
    "año = df_proyecciones_24['label']\n",
    "promedio = df_proyecciones_24['promedio']\n",
    "\n",
    "# Crear una función para formatear los valores grandes en palabras en español\n",
    "def formatear_numero(valor):\n",
    "    if valor >= 1_000_000_000_000:\n",
    "        return f'{valor / 1_000_000_000:.2f} billones'\n",
    "    elif valor >= 1_000_000_000:\n",
    "        return f'{valor / 1_000_000_000:.0f} mil millones'  # Mil millones\n",
    "    elif valor >= 1_000_000:\n",
    "        return f'{valor / 1_000_000:.0f} millones'  # Millones\n",
    "    elif valor >= 1_000:\n",
    "        return f'{valor / 1_000:.0f} mil'  # Mil\n",
    "    else:\n",
    "        return str(valor)\n",
    "# Configurar los valores y el texto del eje Y\n",
    "tickvals = [2500000000,3000000000,3200000000]\n",
    "ticktext = [formatear_numero(val) for val in tickvals]\n",
    "\n",
    "fig = go.Figure()\n",
    "fig.add_trace(go.Scatter(\n",
    "    x=año,\n",
    "    y=promedio,\n",
    "    mode='markers+lines',\n",
    "    marker=dict(color='blue'),\n",
    "))\n",
    "# Agregar anotaciones para mostrar los valores encima de los puntos\n",
    "for a, p in zip(año, promedio):\n",
    "    fig.add_annotation(\n",
    "        x=a,\n",
    "        y=p,\n",
    "        text=f\"${p:,.2f}\",  # Formatear el valor del promedio como moneda\n",
    "        showarrow=False,\n",
    "        font=dict(color='black', size=12),\n",
    "        xshift=0,\n",
    "        yshift=17,\n",
    "        textangle=0\n",
    "    )\n",
    "# Actualizar diseño\n",
    "fig.update_layout(\n",
    "    #title='Plusvalía estimada',   \n",
    "    yaxis=dict(\n",
    "        title=\"Monto\",\n",
    "        gridwidth=1,  # Ancho de las líneas de la cuadrícula\n",
    "        gridcolor='#dddcda', \n",
    "\n",
    "    ),\n",
    "    xaxis=dict(\n",
    "        gridcolor='#dddcda', \n",
    "        tickmode='array',\n",
    "        tickvals=año,\n",
    "        ticktext=año\n",
    "    ),\n",
    "    plot_bgcolor='rgba(0,0,0,0)',\n",
    "        margin=dict(l=10, r=10, t=10, b=10)\n",
    ")\n",
    "\n",
    "# Exportar gráfica como archivo HTML\n",
    "def guardar_grafico_como_html(fig, nombre_archivo, carpeta='assets/graficas'):\n",
    "    # Crear la carpeta si no existe\n",
    "    if not os.path.exists(carpeta):\n",
    "        os.makedirs(carpeta)\n",
    "    \n",
    "    # Configuración personalizada para la gráfica\n",
    "    config = {\n",
    "        'displaylogo': False,  # Ocultar el logo de Plotly\n",
    "        'modeBarButtonsToRemove': [\n",
    "            'toImage',       # Botón para guardar como imagen\n",
    "            'select2d',      # Box select\n",
    "            'lasso2d',       # Lasso select\n",
    "            'resetScale2d',  # Reset Axes\n",
    "        ]\n",
    "    }\n",
    "\n",
    "    # Guardar la gráfica como archivo HTML\n",
    "    pio.write_html(fig, f'{carpeta}/{nombre_archivo}.html', config=config)\n",
    "\n",
    "guardar_grafico_como_html(fig, 'g_scatt_plusvaliaestimada_mes24', carpeta='assets/graficas')\n",
    "fig.show()"
   ]
  },
  {
   "cell_type": "code",
   "execution_count": 66,
   "metadata": {},
   "outputs": [
    {
     "data": {
      "text/html": [
       "<div>\n",
       "<style scoped>\n",
       "    .dataframe tbody tr th:only-of-type {\n",
       "        vertical-align: middle;\n",
       "    }\n",
       "\n",
       "    .dataframe tbody tr th {\n",
       "        vertical-align: top;\n",
       "    }\n",
       "\n",
       "    .dataframe thead th {\n",
       "        text-align: right;\n",
       "    }\n",
       "</style>\n",
       "<table border=\"1\" class=\"dataframe\">\n",
       "  <thead>\n",
       "    <tr style=\"text-align: right;\">\n",
       "      <th></th>\n",
       "      <th>año</th>\n",
       "      <th>promedio</th>\n",
       "    </tr>\n",
       "  </thead>\n",
       "  <tbody>\n",
       "    <tr>\n",
       "      <th>0</th>\n",
       "      <td>2024</td>\n",
       "      <td>3.122553e+06</td>\n",
       "    </tr>\n",
       "    <tr>\n",
       "      <th>1</th>\n",
       "      <td>2025</td>\n",
       "      <td>3.429475e+06</td>\n",
       "    </tr>\n",
       "    <tr>\n",
       "      <th>2</th>\n",
       "      <td>2026</td>\n",
       "      <td>3.766565e+06</td>\n",
       "    </tr>\n",
       "  </tbody>\n",
       "</table>\n",
       "</div>"
      ],
      "text/plain": [
       "    año      promedio\n",
       "0  2024  3.122553e+06\n",
       "1  2025  3.429475e+06\n",
       "2  2026  3.766565e+06"
      ]
     },
     "execution_count": 66,
     "metadata": {},
     "output_type": "execute_result"
    }
   ],
   "source": [
    "nueva_conteo_pachuca = df_proyecciones.groupby('año')['promedio'].mean().reset_index()\n",
    "nueva_conteo_pachuca"
   ]
  },
  {
   "cell_type": "code",
   "execution_count": 67,
   "metadata": {},
   "outputs": [
    {
     "data": {
      "application/vnd.plotly.v1+json": {
       "config": {
        "plotlyServerURL": "https://plot.ly"
       },
       "data": [
        {
         "marker": {
          "color": "blue"
         },
         "mode": "markers+lines",
         "type": "scatter",
         "x": [
          2024,
          2025,
          2026
         ],
         "y": [
          3122552.752468758,
          3429474.9058717345,
          3766565.071064118
         ]
        }
       ],
       "layout": {
        "annotations": [
         {
          "font": {
           "color": "black",
           "size": 12
          },
          "showarrow": false,
          "text": "$3,122,552.75",
          "textangle": 0,
          "x": 2024,
          "xshift": 0,
          "y": 3122552.752468758,
          "yshift": 17
         },
         {
          "font": {
           "color": "black",
           "size": 12
          },
          "showarrow": false,
          "text": "$3,429,474.91",
          "textangle": 0,
          "x": 2025,
          "xshift": 0,
          "y": 3429474.9058717345,
          "yshift": 17
         },
         {
          "font": {
           "color": "black",
           "size": 12
          },
          "showarrow": false,
          "text": "$3,766,565.07",
          "textangle": 0,
          "x": 2026,
          "xshift": 0,
          "y": 3766565.071064118,
          "yshift": 17
         }
        ],
        "margin": {
         "b": 10,
         "l": 10,
         "r": 10,
         "t": 10
        },
        "plot_bgcolor": "rgba(0,0,0,0)",
        "template": {
         "data": {
          "bar": [
           {
            "error_x": {
             "color": "#2a3f5f"
            },
            "error_y": {
             "color": "#2a3f5f"
            },
            "marker": {
             "line": {
              "color": "#E5ECF6",
              "width": 0.5
             },
             "pattern": {
              "fillmode": "overlay",
              "size": 10,
              "solidity": 0.2
             }
            },
            "type": "bar"
           }
          ],
          "barpolar": [
           {
            "marker": {
             "line": {
              "color": "#E5ECF6",
              "width": 0.5
             },
             "pattern": {
              "fillmode": "overlay",
              "size": 10,
              "solidity": 0.2
             }
            },
            "type": "barpolar"
           }
          ],
          "carpet": [
           {
            "aaxis": {
             "endlinecolor": "#2a3f5f",
             "gridcolor": "white",
             "linecolor": "white",
             "minorgridcolor": "white",
             "startlinecolor": "#2a3f5f"
            },
            "baxis": {
             "endlinecolor": "#2a3f5f",
             "gridcolor": "white",
             "linecolor": "white",
             "minorgridcolor": "white",
             "startlinecolor": "#2a3f5f"
            },
            "type": "carpet"
           }
          ],
          "choropleth": [
           {
            "colorbar": {
             "outlinewidth": 0,
             "ticks": ""
            },
            "type": "choropleth"
           }
          ],
          "contour": [
           {
            "colorbar": {
             "outlinewidth": 0,
             "ticks": ""
            },
            "colorscale": [
             [
              0,
              "#0d0887"
             ],
             [
              0.1111111111111111,
              "#46039f"
             ],
             [
              0.2222222222222222,
              "#7201a8"
             ],
             [
              0.3333333333333333,
              "#9c179e"
             ],
             [
              0.4444444444444444,
              "#bd3786"
             ],
             [
              0.5555555555555556,
              "#d8576b"
             ],
             [
              0.6666666666666666,
              "#ed7953"
             ],
             [
              0.7777777777777778,
              "#fb9f3a"
             ],
             [
              0.8888888888888888,
              "#fdca26"
             ],
             [
              1,
              "#f0f921"
             ]
            ],
            "type": "contour"
           }
          ],
          "contourcarpet": [
           {
            "colorbar": {
             "outlinewidth": 0,
             "ticks": ""
            },
            "type": "contourcarpet"
           }
          ],
          "heatmap": [
           {
            "colorbar": {
             "outlinewidth": 0,
             "ticks": ""
            },
            "colorscale": [
             [
              0,
              "#0d0887"
             ],
             [
              0.1111111111111111,
              "#46039f"
             ],
             [
              0.2222222222222222,
              "#7201a8"
             ],
             [
              0.3333333333333333,
              "#9c179e"
             ],
             [
              0.4444444444444444,
              "#bd3786"
             ],
             [
              0.5555555555555556,
              "#d8576b"
             ],
             [
              0.6666666666666666,
              "#ed7953"
             ],
             [
              0.7777777777777778,
              "#fb9f3a"
             ],
             [
              0.8888888888888888,
              "#fdca26"
             ],
             [
              1,
              "#f0f921"
             ]
            ],
            "type": "heatmap"
           }
          ],
          "heatmapgl": [
           {
            "colorbar": {
             "outlinewidth": 0,
             "ticks": ""
            },
            "colorscale": [
             [
              0,
              "#0d0887"
             ],
             [
              0.1111111111111111,
              "#46039f"
             ],
             [
              0.2222222222222222,
              "#7201a8"
             ],
             [
              0.3333333333333333,
              "#9c179e"
             ],
             [
              0.4444444444444444,
              "#bd3786"
             ],
             [
              0.5555555555555556,
              "#d8576b"
             ],
             [
              0.6666666666666666,
              "#ed7953"
             ],
             [
              0.7777777777777778,
              "#fb9f3a"
             ],
             [
              0.8888888888888888,
              "#fdca26"
             ],
             [
              1,
              "#f0f921"
             ]
            ],
            "type": "heatmapgl"
           }
          ],
          "histogram": [
           {
            "marker": {
             "pattern": {
              "fillmode": "overlay",
              "size": 10,
              "solidity": 0.2
             }
            },
            "type": "histogram"
           }
          ],
          "histogram2d": [
           {
            "colorbar": {
             "outlinewidth": 0,
             "ticks": ""
            },
            "colorscale": [
             [
              0,
              "#0d0887"
             ],
             [
              0.1111111111111111,
              "#46039f"
             ],
             [
              0.2222222222222222,
              "#7201a8"
             ],
             [
              0.3333333333333333,
              "#9c179e"
             ],
             [
              0.4444444444444444,
              "#bd3786"
             ],
             [
              0.5555555555555556,
              "#d8576b"
             ],
             [
              0.6666666666666666,
              "#ed7953"
             ],
             [
              0.7777777777777778,
              "#fb9f3a"
             ],
             [
              0.8888888888888888,
              "#fdca26"
             ],
             [
              1,
              "#f0f921"
             ]
            ],
            "type": "histogram2d"
           }
          ],
          "histogram2dcontour": [
           {
            "colorbar": {
             "outlinewidth": 0,
             "ticks": ""
            },
            "colorscale": [
             [
              0,
              "#0d0887"
             ],
             [
              0.1111111111111111,
              "#46039f"
             ],
             [
              0.2222222222222222,
              "#7201a8"
             ],
             [
              0.3333333333333333,
              "#9c179e"
             ],
             [
              0.4444444444444444,
              "#bd3786"
             ],
             [
              0.5555555555555556,
              "#d8576b"
             ],
             [
              0.6666666666666666,
              "#ed7953"
             ],
             [
              0.7777777777777778,
              "#fb9f3a"
             ],
             [
              0.8888888888888888,
              "#fdca26"
             ],
             [
              1,
              "#f0f921"
             ]
            ],
            "type": "histogram2dcontour"
           }
          ],
          "mesh3d": [
           {
            "colorbar": {
             "outlinewidth": 0,
             "ticks": ""
            },
            "type": "mesh3d"
           }
          ],
          "parcoords": [
           {
            "line": {
             "colorbar": {
              "outlinewidth": 0,
              "ticks": ""
             }
            },
            "type": "parcoords"
           }
          ],
          "pie": [
           {
            "automargin": true,
            "type": "pie"
           }
          ],
          "scatter": [
           {
            "fillpattern": {
             "fillmode": "overlay",
             "size": 10,
             "solidity": 0.2
            },
            "type": "scatter"
           }
          ],
          "scatter3d": [
           {
            "line": {
             "colorbar": {
              "outlinewidth": 0,
              "ticks": ""
             }
            },
            "marker": {
             "colorbar": {
              "outlinewidth": 0,
              "ticks": ""
             }
            },
            "type": "scatter3d"
           }
          ],
          "scattercarpet": [
           {
            "marker": {
             "colorbar": {
              "outlinewidth": 0,
              "ticks": ""
             }
            },
            "type": "scattercarpet"
           }
          ],
          "scattergeo": [
           {
            "marker": {
             "colorbar": {
              "outlinewidth": 0,
              "ticks": ""
             }
            },
            "type": "scattergeo"
           }
          ],
          "scattergl": [
           {
            "marker": {
             "colorbar": {
              "outlinewidth": 0,
              "ticks": ""
             }
            },
            "type": "scattergl"
           }
          ],
          "scattermapbox": [
           {
            "marker": {
             "colorbar": {
              "outlinewidth": 0,
              "ticks": ""
             }
            },
            "type": "scattermapbox"
           }
          ],
          "scatterpolar": [
           {
            "marker": {
             "colorbar": {
              "outlinewidth": 0,
              "ticks": ""
             }
            },
            "type": "scatterpolar"
           }
          ],
          "scatterpolargl": [
           {
            "marker": {
             "colorbar": {
              "outlinewidth": 0,
              "ticks": ""
             }
            },
            "type": "scatterpolargl"
           }
          ],
          "scatterternary": [
           {
            "marker": {
             "colorbar": {
              "outlinewidth": 0,
              "ticks": ""
             }
            },
            "type": "scatterternary"
           }
          ],
          "surface": [
           {
            "colorbar": {
             "outlinewidth": 0,
             "ticks": ""
            },
            "colorscale": [
             [
              0,
              "#0d0887"
             ],
             [
              0.1111111111111111,
              "#46039f"
             ],
             [
              0.2222222222222222,
              "#7201a8"
             ],
             [
              0.3333333333333333,
              "#9c179e"
             ],
             [
              0.4444444444444444,
              "#bd3786"
             ],
             [
              0.5555555555555556,
              "#d8576b"
             ],
             [
              0.6666666666666666,
              "#ed7953"
             ],
             [
              0.7777777777777778,
              "#fb9f3a"
             ],
             [
              0.8888888888888888,
              "#fdca26"
             ],
             [
              1,
              "#f0f921"
             ]
            ],
            "type": "surface"
           }
          ],
          "table": [
           {
            "cells": {
             "fill": {
              "color": "#EBF0F8"
             },
             "line": {
              "color": "white"
             }
            },
            "header": {
             "fill": {
              "color": "#C8D4E3"
             },
             "line": {
              "color": "white"
             }
            },
            "type": "table"
           }
          ]
         },
         "layout": {
          "annotationdefaults": {
           "arrowcolor": "#2a3f5f",
           "arrowhead": 0,
           "arrowwidth": 1
          },
          "autotypenumbers": "strict",
          "coloraxis": {
           "colorbar": {
            "outlinewidth": 0,
            "ticks": ""
           }
          },
          "colorscale": {
           "diverging": [
            [
             0,
             "#8e0152"
            ],
            [
             0.1,
             "#c51b7d"
            ],
            [
             0.2,
             "#de77ae"
            ],
            [
             0.3,
             "#f1b6da"
            ],
            [
             0.4,
             "#fde0ef"
            ],
            [
             0.5,
             "#f7f7f7"
            ],
            [
             0.6,
             "#e6f5d0"
            ],
            [
             0.7,
             "#b8e186"
            ],
            [
             0.8,
             "#7fbc41"
            ],
            [
             0.9,
             "#4d9221"
            ],
            [
             1,
             "#276419"
            ]
           ],
           "sequential": [
            [
             0,
             "#0d0887"
            ],
            [
             0.1111111111111111,
             "#46039f"
            ],
            [
             0.2222222222222222,
             "#7201a8"
            ],
            [
             0.3333333333333333,
             "#9c179e"
            ],
            [
             0.4444444444444444,
             "#bd3786"
            ],
            [
             0.5555555555555556,
             "#d8576b"
            ],
            [
             0.6666666666666666,
             "#ed7953"
            ],
            [
             0.7777777777777778,
             "#fb9f3a"
            ],
            [
             0.8888888888888888,
             "#fdca26"
            ],
            [
             1,
             "#f0f921"
            ]
           ],
           "sequentialminus": [
            [
             0,
             "#0d0887"
            ],
            [
             0.1111111111111111,
             "#46039f"
            ],
            [
             0.2222222222222222,
             "#7201a8"
            ],
            [
             0.3333333333333333,
             "#9c179e"
            ],
            [
             0.4444444444444444,
             "#bd3786"
            ],
            [
             0.5555555555555556,
             "#d8576b"
            ],
            [
             0.6666666666666666,
             "#ed7953"
            ],
            [
             0.7777777777777778,
             "#fb9f3a"
            ],
            [
             0.8888888888888888,
             "#fdca26"
            ],
            [
             1,
             "#f0f921"
            ]
           ]
          },
          "colorway": [
           "#636efa",
           "#EF553B",
           "#00cc96",
           "#ab63fa",
           "#FFA15A",
           "#19d3f3",
           "#FF6692",
           "#B6E880",
           "#FF97FF",
           "#FECB52"
          ],
          "font": {
           "color": "#2a3f5f"
          },
          "geo": {
           "bgcolor": "white",
           "lakecolor": "white",
           "landcolor": "#E5ECF6",
           "showlakes": true,
           "showland": true,
           "subunitcolor": "white"
          },
          "hoverlabel": {
           "align": "left"
          },
          "hovermode": "closest",
          "mapbox": {
           "style": "light"
          },
          "paper_bgcolor": "white",
          "plot_bgcolor": "#E5ECF6",
          "polar": {
           "angularaxis": {
            "gridcolor": "white",
            "linecolor": "white",
            "ticks": ""
           },
           "bgcolor": "#E5ECF6",
           "radialaxis": {
            "gridcolor": "white",
            "linecolor": "white",
            "ticks": ""
           }
          },
          "scene": {
           "xaxis": {
            "backgroundcolor": "#E5ECF6",
            "gridcolor": "white",
            "gridwidth": 2,
            "linecolor": "white",
            "showbackground": true,
            "ticks": "",
            "zerolinecolor": "white"
           },
           "yaxis": {
            "backgroundcolor": "#E5ECF6",
            "gridcolor": "white",
            "gridwidth": 2,
            "linecolor": "white",
            "showbackground": true,
            "ticks": "",
            "zerolinecolor": "white"
           },
           "zaxis": {
            "backgroundcolor": "#E5ECF6",
            "gridcolor": "white",
            "gridwidth": 2,
            "linecolor": "white",
            "showbackground": true,
            "ticks": "",
            "zerolinecolor": "white"
           }
          },
          "shapedefaults": {
           "line": {
            "color": "#2a3f5f"
           }
          },
          "ternary": {
           "aaxis": {
            "gridcolor": "white",
            "linecolor": "white",
            "ticks": ""
           },
           "baxis": {
            "gridcolor": "white",
            "linecolor": "white",
            "ticks": ""
           },
           "bgcolor": "#E5ECF6",
           "caxis": {
            "gridcolor": "white",
            "linecolor": "white",
            "ticks": ""
           }
          },
          "title": {
           "x": 0.05
          },
          "xaxis": {
           "automargin": true,
           "gridcolor": "white",
           "linecolor": "white",
           "ticks": "",
           "title": {
            "standoff": 15
           },
           "zerolinecolor": "white",
           "zerolinewidth": 2
          },
          "yaxis": {
           "automargin": true,
           "gridcolor": "white",
           "linecolor": "white",
           "ticks": "",
           "title": {
            "standoff": 15
           },
           "zerolinecolor": "white",
           "zerolinewidth": 2
          }
         }
        },
        "xaxis": {
         "gridcolor": "#dddcda",
         "tickmode": "array",
         "ticktext": [
          2024,
          2025,
          2026
         ],
         "tickvals": [
          2024,
          2025,
          2026
         ]
        },
        "yaxis": {
         "gridcolor": "#dddcda",
         "gridwidth": 1,
         "title": {
          "text": "Monto"
         }
        }
       }
      }
     },
     "metadata": {},
     "output_type": "display_data"
    }
   ],
   "source": [
    "# Datos\n",
    "año = nueva_conteo_pachuca['año']\n",
    "promedio = nueva_conteo_pachuca['promedio']\n",
    "\n",
    "# Crear una función para formatear los valores grandes en palabras en español\n",
    "def formatear_numero(valor):\n",
    "    if valor >= 1_000_000_000_000:\n",
    "        return f'{valor / 1_000_000_000:.2f} billones'\n",
    "    elif valor >= 1_000_000_000:\n",
    "        return f'{valor / 1_000_000_000:.0f} mil millones'  # Mil millones\n",
    "    elif valor >= 1_000_000:\n",
    "        return f'{valor / 1_000_000:.0f} millones'  # Millones\n",
    "    elif valor >= 1_000:\n",
    "        return f'{valor / 1_000:.0f} mil'  # Mil\n",
    "    else:\n",
    "        return str(valor)\n",
    "# Configurar los valores y el texto del eje Y\n",
    "tickvals = [3094139, 3398268, 3732291]  # Valores enteros de promedio\n",
    "ticktext = [formatear_numero(val) for val in tickvals]\n",
    "\n",
    "fig = go.Figure()\n",
    "fig.add_trace(go.Scatter(\n",
    "    x=año,\n",
    "    y=promedio,\n",
    "    mode='markers+lines',\n",
    "    marker=dict(color='blue'),\n",
    "))\n",
    "# Agregar anotaciones para mostrar los valores encima de los puntos\n",
    "for a, p in zip(año, promedio):\n",
    "    fig.add_annotation(\n",
    "        x=a,\n",
    "        y=p,\n",
    "        text=f\"${p:,.2f}\",  # Formatear el valor del promedio como moneda\n",
    "        showarrow=False,\n",
    "        font=dict(color='black', size=12),\n",
    "        xshift=0,\n",
    "        yshift=17,\n",
    "        textangle=0\n",
    "    )\n",
    "# Actualizar diseño\n",
    "fig.update_layout(\n",
    "    #title='Plusvalía estimada',   \n",
    "    yaxis=dict(\n",
    "        title=\"Monto\",\n",
    "        gridwidth=1,  # Ancho de las líneas de la cuadrícula\n",
    "        gridcolor='#dddcda', \n",
    "\n",
    "    ),\n",
    "    xaxis=dict(\n",
    "        gridcolor='#dddcda', \n",
    "        tickmode='array',\n",
    "        tickvals=año,\n",
    "        ticktext=año\n",
    "    ),\n",
    "    plot_bgcolor='rgba(0,0,0,0)',\n",
    "        margin=dict(l=10, r=10, t=10, b=10)\n",
    ")\n",
    "\n",
    "\n",
    "# Exportar gráfica como archivo HTML\n",
    "def guardar_grafico_como_html(fig, nombre_archivo, carpeta='assets/graficas'):\n",
    "    # Crear la carpeta si no existe\n",
    "    if not os.path.exists(carpeta):\n",
    "        os.makedirs(carpeta)\n",
    "    \n",
    "    # Configuración personalizada para la gráfica\n",
    "    config = {\n",
    "        'displaylogo': False,  # Ocultar el logo de Plotly\n",
    "        'modeBarButtonsToRemove': [\n",
    "            'toImage',       # Botón para guardar como imagen\n",
    "            'select2d',      # Box select\n",
    "            'lasso2d',       # Lasso select\n",
    "            'resetScale2d',  # Reset Axes\n",
    "        ]\n",
    "    }\n",
    "\n",
    "    # Guardar la gráfica como archivo HTML\n",
    "    pio.write_html(fig, f'{carpeta}/{nombre_archivo}.html', config=config)\n",
    "\n",
    "guardar_grafico_como_html(fig, 'g_scatt_plusvaliaestimada_ano', carpeta='assets/graficas')\n",
    "fig.show()"
   ]
  },
  {
   "cell_type": "markdown",
   "metadata": {},
   "source": [
    "# Plusvalía *ESTIMADA* [Mensual]"
   ]
  },
  {
   "cell_type": "code",
   "execution_count": 68,
   "metadata": {},
   "outputs": [
    {
     "name": "stderr",
     "output_type": "stream",
     "text": [
      "C:\\Users\\yoe11\\AppData\\Local\\Temp\\ipykernel_3768\\3462637469.py:36: FutureWarning:\n",
      "\n",
      "The behavior of DataFrame concatenation with empty or all-NA entries is deprecated. In a future version, this will no longer exclude empty or all-NA columns when determining the result dtypes. To retain the old behavior, exclude the relevant entries before the concat operation.\n",
      "\n"
     ]
    },
    {
     "name": "stdout",
     "output_type": "stream",
     "text": [
      "    precio_promedio mes   año\n",
      "0      3.338049e+06   8  2024\n",
      "1      3.289913e+06   2  2024\n",
      "2      3.395784e+06   7  2024\n",
      "3      3.212817e+06   6  2024\n",
      "4      3.374739e+06   3  2024\n",
      "5      3.224496e+06   5  2024\n",
      "6      9.800427e+05   2  2023\n",
      "7      9.766772e+05   7  2023\n",
      "8      9.864817e+05   6  2023\n",
      "9      9.774028e+05   3  2023\n",
      "10     9.740661e+05  11  2022\n",
      "11     9.769314e+05  10  2022\n",
      "12     9.881478e+05   9  2023\n"
     ]
    }
   ],
   "source": [
    "import re\n",
    "# Función para extraer mes y año del nombre del DataFrame\n",
    "def extraer_mes_y_ano(nombre):\n",
    "    # Expresión regular para capturar tanto meses completos como abreviados\n",
    "    match = re.search(r'(ene|feb|mar|abr|may|jun|jul|ago|sep|oct|nov|dic|enero|febrero|marzo|abril|mayo|junio|julio|agosto|septiembre|octubre|noviembre|diciembre)_(\\d{4})', nombre)\n",
    "    if match:\n",
    "        mes = match.group(1).lower()  # Mes en texto\n",
    "        ano = int(match.group(2))  # Año en formato numérico\n",
    "        return mes, ano\n",
    "    return None, None\n",
    "\n",
    "# Diccionario de traducción de meses de texto a números\n",
    "meses_dict = {\n",
    "    'ene': 1, 'feb': 2, 'mar': 3, 'abr': 4, 'may': 5, 'jun': 6,\n",
    "    'jul': 7, 'ago': 8, 'sep': 9, 'oct': 10, 'nov': 11, 'dic': 12,\n",
    "    'enero': 1, 'febrero': 2, 'marzo': 3, 'abril': 4, 'mayo': 5, 'junio': 6,\n",
    "    'julio': 7, 'agosto': 8, 'septiembre': 9, 'octubre': 10, 'noviembre': 11, 'diciembre': 12\n",
    "}\n",
    "\n",
    "# DataFrame para almacenar resultados\n",
    "df_resultados = pd.DataFrame(columns=['precio_promedio', 'mes', 'año'])\n",
    "\n",
    "for nombre_df in nombres_df_filtrados:\n",
    "    # Obtener el DataFrame por su nombre en el entorno\n",
    "    df = globals()[nombre_df]\n",
    "    \n",
    "    # Extraer mes y año del nombre del DataFrame\n",
    "    mes_str, ano = extraer_mes_y_ano(nombre_df)\n",
    "    \n",
    "    # Verificar que se haya extraído el mes y el año correctamente\n",
    "    if mes_str is not None and ano is not None:\n",
    "        mes = meses_dict.get(mes_str)  # Convertir el nombre del mes en su número correspondiente\n",
    "        \n",
    "        # Calcular el promedio del precio y añadir columnas de mes y año\n",
    "        precio_promedio = df['precio'].mean()  # Calcula el promedio del precio en el DataFrame actual\n",
    "        df_resultados = pd.concat([df_resultados, pd.DataFrame({'precio_promedio': [precio_promedio], 'mes': [mes], 'año': [ano]})], ignore_index=True)\n",
    "\n",
    "# Resultado final\n",
    "print(df_resultados)"
   ]
  },
  {
   "cell_type": "code",
   "execution_count": 69,
   "metadata": {},
   "outputs": [
    {
     "data": {
      "text/html": [
       "<div>\n",
       "<style scoped>\n",
       "    .dataframe tbody tr th:only-of-type {\n",
       "        vertical-align: middle;\n",
       "    }\n",
       "\n",
       "    .dataframe tbody tr th {\n",
       "        vertical-align: top;\n",
       "    }\n",
       "\n",
       "    .dataframe thead th {\n",
       "        text-align: right;\n",
       "    }\n",
       "</style>\n",
       "<table border=\"1\" class=\"dataframe\">\n",
       "  <thead>\n",
       "    <tr style=\"text-align: right;\">\n",
       "      <th></th>\n",
       "      <th>precio_promedio</th>\n",
       "      <th>mes</th>\n",
       "      <th>año</th>\n",
       "    </tr>\n",
       "  </thead>\n",
       "  <tbody>\n",
       "    <tr>\n",
       "      <th>0</th>\n",
       "      <td>3.338049e+06</td>\n",
       "      <td>8</td>\n",
       "      <td>2024</td>\n",
       "    </tr>\n",
       "    <tr>\n",
       "      <th>1</th>\n",
       "      <td>3.289913e+06</td>\n",
       "      <td>2</td>\n",
       "      <td>2024</td>\n",
       "    </tr>\n",
       "    <tr>\n",
       "      <th>2</th>\n",
       "      <td>3.395784e+06</td>\n",
       "      <td>7</td>\n",
       "      <td>2024</td>\n",
       "    </tr>\n",
       "    <tr>\n",
       "      <th>3</th>\n",
       "      <td>3.212817e+06</td>\n",
       "      <td>6</td>\n",
       "      <td>2024</td>\n",
       "    </tr>\n",
       "    <tr>\n",
       "      <th>4</th>\n",
       "      <td>3.374739e+06</td>\n",
       "      <td>3</td>\n",
       "      <td>2024</td>\n",
       "    </tr>\n",
       "    <tr>\n",
       "      <th>5</th>\n",
       "      <td>3.224496e+06</td>\n",
       "      <td>5</td>\n",
       "      <td>2024</td>\n",
       "    </tr>\n",
       "  </tbody>\n",
       "</table>\n",
       "</div>"
      ],
      "text/plain": [
       "   precio_promedio mes   año\n",
       "0     3.338049e+06   8  2024\n",
       "1     3.289913e+06   2  2024\n",
       "2     3.395784e+06   7  2024\n",
       "3     3.212817e+06   6  2024\n",
       "4     3.374739e+06   3  2024\n",
       "5     3.224496e+06   5  2024"
      ]
     },
     "execution_count": 69,
     "metadata": {},
     "output_type": "execute_result"
    }
   ],
   "source": [
    "df_resultados = df_resultados[~df_resultados['año'].isin([2022, 2023]) ]#& (df_resultados['mes'] != 4)]\n",
    "df_resultados"
   ]
  },
  {
   "cell_type": "code",
   "execution_count": 70,
   "metadata": {},
   "outputs": [
    {
     "data": {
      "text/html": [
       "<style>#sk-container-id-6 {\n",
       "  /* Definition of color scheme common for light and dark mode */\n",
       "  --sklearn-color-text: black;\n",
       "  --sklearn-color-line: gray;\n",
       "  /* Definition of color scheme for unfitted estimators */\n",
       "  --sklearn-color-unfitted-level-0: #fff5e6;\n",
       "  --sklearn-color-unfitted-level-1: #f6e4d2;\n",
       "  --sklearn-color-unfitted-level-2: #ffe0b3;\n",
       "  --sklearn-color-unfitted-level-3: chocolate;\n",
       "  /* Definition of color scheme for fitted estimators */\n",
       "  --sklearn-color-fitted-level-0: #f0f8ff;\n",
       "  --sklearn-color-fitted-level-1: #d4ebff;\n",
       "  --sklearn-color-fitted-level-2: #b3dbfd;\n",
       "  --sklearn-color-fitted-level-3: cornflowerblue;\n",
       "\n",
       "  /* Specific color for light theme */\n",
       "  --sklearn-color-text-on-default-background: var(--sg-text-color, var(--theme-code-foreground, var(--jp-content-font-color1, black)));\n",
       "  --sklearn-color-background: var(--sg-background-color, var(--theme-background, var(--jp-layout-color0, white)));\n",
       "  --sklearn-color-border-box: var(--sg-text-color, var(--theme-code-foreground, var(--jp-content-font-color1, black)));\n",
       "  --sklearn-color-icon: #696969;\n",
       "\n",
       "  @media (prefers-color-scheme: dark) {\n",
       "    /* Redefinition of color scheme for dark theme */\n",
       "    --sklearn-color-text-on-default-background: var(--sg-text-color, var(--theme-code-foreground, var(--jp-content-font-color1, white)));\n",
       "    --sklearn-color-background: var(--sg-background-color, var(--theme-background, var(--jp-layout-color0, #111)));\n",
       "    --sklearn-color-border-box: var(--sg-text-color, var(--theme-code-foreground, var(--jp-content-font-color1, white)));\n",
       "    --sklearn-color-icon: #878787;\n",
       "  }\n",
       "}\n",
       "\n",
       "#sk-container-id-6 {\n",
       "  color: var(--sklearn-color-text);\n",
       "}\n",
       "\n",
       "#sk-container-id-6 pre {\n",
       "  padding: 0;\n",
       "}\n",
       "\n",
       "#sk-container-id-6 input.sk-hidden--visually {\n",
       "  border: 0;\n",
       "  clip: rect(1px 1px 1px 1px);\n",
       "  clip: rect(1px, 1px, 1px, 1px);\n",
       "  height: 1px;\n",
       "  margin: -1px;\n",
       "  overflow: hidden;\n",
       "  padding: 0;\n",
       "  position: absolute;\n",
       "  width: 1px;\n",
       "}\n",
       "\n",
       "#sk-container-id-6 div.sk-dashed-wrapped {\n",
       "  border: 1px dashed var(--sklearn-color-line);\n",
       "  margin: 0 0.4em 0.5em 0.4em;\n",
       "  box-sizing: border-box;\n",
       "  padding-bottom: 0.4em;\n",
       "  background-color: var(--sklearn-color-background);\n",
       "}\n",
       "\n",
       "#sk-container-id-6 div.sk-container {\n",
       "  /* jupyter's `normalize.less` sets `[hidden] { display: none; }`\n",
       "     but bootstrap.min.css set `[hidden] { display: none !important; }`\n",
       "     so we also need the `!important` here to be able to override the\n",
       "     default hidden behavior on the sphinx rendered scikit-learn.org.\n",
       "     See: https://github.com/scikit-learn/scikit-learn/issues/21755 */\n",
       "  display: inline-block !important;\n",
       "  position: relative;\n",
       "}\n",
       "\n",
       "#sk-container-id-6 div.sk-text-repr-fallback {\n",
       "  display: none;\n",
       "}\n",
       "\n",
       "div.sk-parallel-item,\n",
       "div.sk-serial,\n",
       "div.sk-item {\n",
       "  /* draw centered vertical line to link estimators */\n",
       "  background-image: linear-gradient(var(--sklearn-color-text-on-default-background), var(--sklearn-color-text-on-default-background));\n",
       "  background-size: 2px 100%;\n",
       "  background-repeat: no-repeat;\n",
       "  background-position: center center;\n",
       "}\n",
       "\n",
       "/* Parallel-specific style estimator block */\n",
       "\n",
       "#sk-container-id-6 div.sk-parallel-item::after {\n",
       "  content: \"\";\n",
       "  width: 100%;\n",
       "  border-bottom: 2px solid var(--sklearn-color-text-on-default-background);\n",
       "  flex-grow: 1;\n",
       "}\n",
       "\n",
       "#sk-container-id-6 div.sk-parallel {\n",
       "  display: flex;\n",
       "  align-items: stretch;\n",
       "  justify-content: center;\n",
       "  background-color: var(--sklearn-color-background);\n",
       "  position: relative;\n",
       "}\n",
       "\n",
       "#sk-container-id-6 div.sk-parallel-item {\n",
       "  display: flex;\n",
       "  flex-direction: column;\n",
       "}\n",
       "\n",
       "#sk-container-id-6 div.sk-parallel-item:first-child::after {\n",
       "  align-self: flex-end;\n",
       "  width: 50%;\n",
       "}\n",
       "\n",
       "#sk-container-id-6 div.sk-parallel-item:last-child::after {\n",
       "  align-self: flex-start;\n",
       "  width: 50%;\n",
       "}\n",
       "\n",
       "#sk-container-id-6 div.sk-parallel-item:only-child::after {\n",
       "  width: 0;\n",
       "}\n",
       "\n",
       "/* Serial-specific style estimator block */\n",
       "\n",
       "#sk-container-id-6 div.sk-serial {\n",
       "  display: flex;\n",
       "  flex-direction: column;\n",
       "  align-items: center;\n",
       "  background-color: var(--sklearn-color-background);\n",
       "  padding-right: 1em;\n",
       "  padding-left: 1em;\n",
       "}\n",
       "\n",
       "\n",
       "/* Toggleable style: style used for estimator/Pipeline/ColumnTransformer box that is\n",
       "clickable and can be expanded/collapsed.\n",
       "- Pipeline and ColumnTransformer use this feature and define the default style\n",
       "- Estimators will overwrite some part of the style using the `sk-estimator` class\n",
       "*/\n",
       "\n",
       "/* Pipeline and ColumnTransformer style (default) */\n",
       "\n",
       "#sk-container-id-6 div.sk-toggleable {\n",
       "  /* Default theme specific background. It is overwritten whether we have a\n",
       "  specific estimator or a Pipeline/ColumnTransformer */\n",
       "  background-color: var(--sklearn-color-background);\n",
       "}\n",
       "\n",
       "/* Toggleable label */\n",
       "#sk-container-id-6 label.sk-toggleable__label {\n",
       "  cursor: pointer;\n",
       "  display: block;\n",
       "  width: 100%;\n",
       "  margin-bottom: 0;\n",
       "  padding: 0.5em;\n",
       "  box-sizing: border-box;\n",
       "  text-align: center;\n",
       "}\n",
       "\n",
       "#sk-container-id-6 label.sk-toggleable__label-arrow:before {\n",
       "  /* Arrow on the left of the label */\n",
       "  content: \"▸\";\n",
       "  float: left;\n",
       "  margin-right: 0.25em;\n",
       "  color: var(--sklearn-color-icon);\n",
       "}\n",
       "\n",
       "#sk-container-id-6 label.sk-toggleable__label-arrow:hover:before {\n",
       "  color: var(--sklearn-color-text);\n",
       "}\n",
       "\n",
       "/* Toggleable content - dropdown */\n",
       "\n",
       "#sk-container-id-6 div.sk-toggleable__content {\n",
       "  max-height: 0;\n",
       "  max-width: 0;\n",
       "  overflow: hidden;\n",
       "  text-align: left;\n",
       "  /* unfitted */\n",
       "  background-color: var(--sklearn-color-unfitted-level-0);\n",
       "}\n",
       "\n",
       "#sk-container-id-6 div.sk-toggleable__content.fitted {\n",
       "  /* fitted */\n",
       "  background-color: var(--sklearn-color-fitted-level-0);\n",
       "}\n",
       "\n",
       "#sk-container-id-6 div.sk-toggleable__content pre {\n",
       "  margin: 0.2em;\n",
       "  border-radius: 0.25em;\n",
       "  color: var(--sklearn-color-text);\n",
       "  /* unfitted */\n",
       "  background-color: var(--sklearn-color-unfitted-level-0);\n",
       "}\n",
       "\n",
       "#sk-container-id-6 div.sk-toggleable__content.fitted pre {\n",
       "  /* unfitted */\n",
       "  background-color: var(--sklearn-color-fitted-level-0);\n",
       "}\n",
       "\n",
       "#sk-container-id-6 input.sk-toggleable__control:checked~div.sk-toggleable__content {\n",
       "  /* Expand drop-down */\n",
       "  max-height: 200px;\n",
       "  max-width: 100%;\n",
       "  overflow: auto;\n",
       "}\n",
       "\n",
       "#sk-container-id-6 input.sk-toggleable__control:checked~label.sk-toggleable__label-arrow:before {\n",
       "  content: \"▾\";\n",
       "}\n",
       "\n",
       "/* Pipeline/ColumnTransformer-specific style */\n",
       "\n",
       "#sk-container-id-6 div.sk-label input.sk-toggleable__control:checked~label.sk-toggleable__label {\n",
       "  color: var(--sklearn-color-text);\n",
       "  background-color: var(--sklearn-color-unfitted-level-2);\n",
       "}\n",
       "\n",
       "#sk-container-id-6 div.sk-label.fitted input.sk-toggleable__control:checked~label.sk-toggleable__label {\n",
       "  background-color: var(--sklearn-color-fitted-level-2);\n",
       "}\n",
       "\n",
       "/* Estimator-specific style */\n",
       "\n",
       "/* Colorize estimator box */\n",
       "#sk-container-id-6 div.sk-estimator input.sk-toggleable__control:checked~label.sk-toggleable__label {\n",
       "  /* unfitted */\n",
       "  background-color: var(--sklearn-color-unfitted-level-2);\n",
       "}\n",
       "\n",
       "#sk-container-id-6 div.sk-estimator.fitted input.sk-toggleable__control:checked~label.sk-toggleable__label {\n",
       "  /* fitted */\n",
       "  background-color: var(--sklearn-color-fitted-level-2);\n",
       "}\n",
       "\n",
       "#sk-container-id-6 div.sk-label label.sk-toggleable__label,\n",
       "#sk-container-id-6 div.sk-label label {\n",
       "  /* The background is the default theme color */\n",
       "  color: var(--sklearn-color-text-on-default-background);\n",
       "}\n",
       "\n",
       "/* On hover, darken the color of the background */\n",
       "#sk-container-id-6 div.sk-label:hover label.sk-toggleable__label {\n",
       "  color: var(--sklearn-color-text);\n",
       "  background-color: var(--sklearn-color-unfitted-level-2);\n",
       "}\n",
       "\n",
       "/* Label box, darken color on hover, fitted */\n",
       "#sk-container-id-6 div.sk-label.fitted:hover label.sk-toggleable__label.fitted {\n",
       "  color: var(--sklearn-color-text);\n",
       "  background-color: var(--sklearn-color-fitted-level-2);\n",
       "}\n",
       "\n",
       "/* Estimator label */\n",
       "\n",
       "#sk-container-id-6 div.sk-label label {\n",
       "  font-family: monospace;\n",
       "  font-weight: bold;\n",
       "  display: inline-block;\n",
       "  line-height: 1.2em;\n",
       "}\n",
       "\n",
       "#sk-container-id-6 div.sk-label-container {\n",
       "  text-align: center;\n",
       "}\n",
       "\n",
       "/* Estimator-specific */\n",
       "#sk-container-id-6 div.sk-estimator {\n",
       "  font-family: monospace;\n",
       "  border: 1px dotted var(--sklearn-color-border-box);\n",
       "  border-radius: 0.25em;\n",
       "  box-sizing: border-box;\n",
       "  margin-bottom: 0.5em;\n",
       "  /* unfitted */\n",
       "  background-color: var(--sklearn-color-unfitted-level-0);\n",
       "}\n",
       "\n",
       "#sk-container-id-6 div.sk-estimator.fitted {\n",
       "  /* fitted */\n",
       "  background-color: var(--sklearn-color-fitted-level-0);\n",
       "}\n",
       "\n",
       "/* on hover */\n",
       "#sk-container-id-6 div.sk-estimator:hover {\n",
       "  /* unfitted */\n",
       "  background-color: var(--sklearn-color-unfitted-level-2);\n",
       "}\n",
       "\n",
       "#sk-container-id-6 div.sk-estimator.fitted:hover {\n",
       "  /* fitted */\n",
       "  background-color: var(--sklearn-color-fitted-level-2);\n",
       "}\n",
       "\n",
       "/* Specification for estimator info (e.g. \"i\" and \"?\") */\n",
       "\n",
       "/* Common style for \"i\" and \"?\" */\n",
       "\n",
       ".sk-estimator-doc-link,\n",
       "a:link.sk-estimator-doc-link,\n",
       "a:visited.sk-estimator-doc-link {\n",
       "  float: right;\n",
       "  font-size: smaller;\n",
       "  line-height: 1em;\n",
       "  font-family: monospace;\n",
       "  background-color: var(--sklearn-color-background);\n",
       "  border-radius: 1em;\n",
       "  height: 1em;\n",
       "  width: 1em;\n",
       "  text-decoration: none !important;\n",
       "  margin-left: 1ex;\n",
       "  /* unfitted */\n",
       "  border: var(--sklearn-color-unfitted-level-1) 1pt solid;\n",
       "  color: var(--sklearn-color-unfitted-level-1);\n",
       "}\n",
       "\n",
       ".sk-estimator-doc-link.fitted,\n",
       "a:link.sk-estimator-doc-link.fitted,\n",
       "a:visited.sk-estimator-doc-link.fitted {\n",
       "  /* fitted */\n",
       "  border: var(--sklearn-color-fitted-level-1) 1pt solid;\n",
       "  color: var(--sklearn-color-fitted-level-1);\n",
       "}\n",
       "\n",
       "/* On hover */\n",
       "div.sk-estimator:hover .sk-estimator-doc-link:hover,\n",
       ".sk-estimator-doc-link:hover,\n",
       "div.sk-label-container:hover .sk-estimator-doc-link:hover,\n",
       ".sk-estimator-doc-link:hover {\n",
       "  /* unfitted */\n",
       "  background-color: var(--sklearn-color-unfitted-level-3);\n",
       "  color: var(--sklearn-color-background);\n",
       "  text-decoration: none;\n",
       "}\n",
       "\n",
       "div.sk-estimator.fitted:hover .sk-estimator-doc-link.fitted:hover,\n",
       ".sk-estimator-doc-link.fitted:hover,\n",
       "div.sk-label-container:hover .sk-estimator-doc-link.fitted:hover,\n",
       ".sk-estimator-doc-link.fitted:hover {\n",
       "  /* fitted */\n",
       "  background-color: var(--sklearn-color-fitted-level-3);\n",
       "  color: var(--sklearn-color-background);\n",
       "  text-decoration: none;\n",
       "}\n",
       "\n",
       "/* Span, style for the box shown on hovering the info icon */\n",
       ".sk-estimator-doc-link span {\n",
       "  display: none;\n",
       "  z-index: 9999;\n",
       "  position: relative;\n",
       "  font-weight: normal;\n",
       "  right: .2ex;\n",
       "  padding: .5ex;\n",
       "  margin: .5ex;\n",
       "  width: min-content;\n",
       "  min-width: 20ex;\n",
       "  max-width: 50ex;\n",
       "  color: var(--sklearn-color-text);\n",
       "  box-shadow: 2pt 2pt 4pt #999;\n",
       "  /* unfitted */\n",
       "  background: var(--sklearn-color-unfitted-level-0);\n",
       "  border: .5pt solid var(--sklearn-color-unfitted-level-3);\n",
       "}\n",
       "\n",
       ".sk-estimator-doc-link.fitted span {\n",
       "  /* fitted */\n",
       "  background: var(--sklearn-color-fitted-level-0);\n",
       "  border: var(--sklearn-color-fitted-level-3);\n",
       "}\n",
       "\n",
       ".sk-estimator-doc-link:hover span {\n",
       "  display: block;\n",
       "}\n",
       "\n",
       "/* \"?\"-specific style due to the `<a>` HTML tag */\n",
       "\n",
       "#sk-container-id-6 a.estimator_doc_link {\n",
       "  float: right;\n",
       "  font-size: 1rem;\n",
       "  line-height: 1em;\n",
       "  font-family: monospace;\n",
       "  background-color: var(--sklearn-color-background);\n",
       "  border-radius: 1rem;\n",
       "  height: 1rem;\n",
       "  width: 1rem;\n",
       "  text-decoration: none;\n",
       "  /* unfitted */\n",
       "  color: var(--sklearn-color-unfitted-level-1);\n",
       "  border: var(--sklearn-color-unfitted-level-1) 1pt solid;\n",
       "}\n",
       "\n",
       "#sk-container-id-6 a.estimator_doc_link.fitted {\n",
       "  /* fitted */\n",
       "  border: var(--sklearn-color-fitted-level-1) 1pt solid;\n",
       "  color: var(--sklearn-color-fitted-level-1);\n",
       "}\n",
       "\n",
       "/* On hover */\n",
       "#sk-container-id-6 a.estimator_doc_link:hover {\n",
       "  /* unfitted */\n",
       "  background-color: var(--sklearn-color-unfitted-level-3);\n",
       "  color: var(--sklearn-color-background);\n",
       "  text-decoration: none;\n",
       "}\n",
       "\n",
       "#sk-container-id-6 a.estimator_doc_link.fitted:hover {\n",
       "  /* fitted */\n",
       "  background-color: var(--sklearn-color-fitted-level-3);\n",
       "}\n",
       "</style><div id=\"sk-container-id-6\" class=\"sk-top-container\"><div class=\"sk-text-repr-fallback\"><pre>LinearRegression()</pre><b>In a Jupyter environment, please rerun this cell to show the HTML representation or trust the notebook. <br />On GitHub, the HTML representation is unable to render, please try loading this page with nbviewer.org.</b></div><div class=\"sk-container\" hidden><div class=\"sk-item\"><div class=\"sk-estimator fitted sk-toggleable\"><input class=\"sk-toggleable__control sk-hidden--visually\" id=\"sk-estimator-id-6\" type=\"checkbox\" checked><label for=\"sk-estimator-id-6\" class=\"sk-toggleable__label fitted sk-toggleable__label-arrow fitted\">&nbsp;&nbsp;LinearRegression<a class=\"sk-estimator-doc-link fitted\" rel=\"noreferrer\" target=\"_blank\" href=\"https://scikit-learn.org/1.5/modules/generated/sklearn.linear_model.LinearRegression.html\">?<span>Documentation for LinearRegression</span></a><span class=\"sk-estimator-doc-link fitted\">i<span>Fitted</span></span></label><div class=\"sk-toggleable__content fitted\"><pre>LinearRegression()</pre></div> </div></div></div></div>"
      ],
      "text/plain": [
       "LinearRegression()"
      ]
     },
     "execution_count": 70,
     "metadata": {},
     "output_type": "execute_result"
    }
   ],
   "source": [
    "from sklearn.model_selection import train_test_split\n",
    "from sklearn.linear_model import LinearRegression\n",
    "from sklearn.preprocessing import MinMaxScaler\n",
    "\n",
    "# Preparar datos para el modelo\n",
    "X = df_resultados[['año', 'mes']]\n",
    "y = df_resultados['precio_promedio']\n",
    "\n",
    "# Normalizar los datos de X\n",
    "scaler = MinMaxScaler()\n",
    "X_scaled = scaler.fit_transform(X)\n",
    "\n",
    "# Dividir los datos escalados en conjuntos de entrenamiento y prueba\n",
    "X_train, X_test, y_train, y_test = train_test_split(X_scaled, y, test_size=0.2, random_state=42)\n",
    "\n",
    "# Inicializar y entrenar el modelo de regresión lineal con datos escalados\n",
    "modelo = LinearRegression()\n",
    "modelo.fit(X_train, y_train)"
   ]
  },
  {
   "cell_type": "code",
   "execution_count": 71,
   "metadata": {},
   "outputs": [
    {
     "name": "stderr",
     "output_type": "stream",
     "text": [
      "c:\\Users\\yoe11\\anaconda3\\envs\\newst\\Lib\\site-packages\\sklearn\\base.py:486: UserWarning:\n",
      "\n",
      "X has feature names, but LinearRegression was fitted without feature names\n",
      "\n"
     ]
    },
    {
     "data": {
      "text/html": [
       "<div>\n",
       "<style scoped>\n",
       "    .dataframe tbody tr th:only-of-type {\n",
       "        vertical-align: middle;\n",
       "    }\n",
       "\n",
       "    .dataframe tbody tr th {\n",
       "        vertical-align: top;\n",
       "    }\n",
       "\n",
       "    .dataframe thead th {\n",
       "        text-align: right;\n",
       "    }\n",
       "</style>\n",
       "<table border=\"1\" class=\"dataframe\">\n",
       "  <thead>\n",
       "    <tr style=\"text-align: right;\">\n",
       "      <th></th>\n",
       "      <th>año</th>\n",
       "      <th>mes</th>\n",
       "      <th>precio_promedio</th>\n",
       "    </tr>\n",
       "  </thead>\n",
       "  <tbody>\n",
       "    <tr>\n",
       "      <th>0</th>\n",
       "      <td>2024</td>\n",
       "      <td>1</td>\n",
       "      <td>3.287172e+06</td>\n",
       "    </tr>\n",
       "    <tr>\n",
       "      <th>1</th>\n",
       "      <td>2024</td>\n",
       "      <td>2</td>\n",
       "      <td>3.289913e+06</td>\n",
       "    </tr>\n",
       "    <tr>\n",
       "      <th>2</th>\n",
       "      <td>2024</td>\n",
       "      <td>3</td>\n",
       "      <td>3.374739e+06</td>\n",
       "    </tr>\n",
       "    <tr>\n",
       "      <th>3</th>\n",
       "      <td>2024</td>\n",
       "      <td>5</td>\n",
       "      <td>3.224496e+06</td>\n",
       "    </tr>\n",
       "    <tr>\n",
       "      <th>4</th>\n",
       "      <td>2024</td>\n",
       "      <td>6</td>\n",
       "      <td>3.212817e+06</td>\n",
       "    </tr>\n",
       "    <tr>\n",
       "      <th>5</th>\n",
       "      <td>2024</td>\n",
       "      <td>7</td>\n",
       "      <td>3.395784e+06</td>\n",
       "    </tr>\n",
       "    <tr>\n",
       "      <th>6</th>\n",
       "      <td>2024</td>\n",
       "      <td>8</td>\n",
       "      <td>3.338049e+06</td>\n",
       "    </tr>\n",
       "    <tr>\n",
       "      <th>7</th>\n",
       "      <td>2024</td>\n",
       "      <td>9</td>\n",
       "      <td>3.029065e+06</td>\n",
       "    </tr>\n",
       "    <tr>\n",
       "      <th>8</th>\n",
       "      <td>2024</td>\n",
       "      <td>10</td>\n",
       "      <td>2.996802e+06</td>\n",
       "    </tr>\n",
       "    <tr>\n",
       "      <th>9</th>\n",
       "      <td>2024</td>\n",
       "      <td>11</td>\n",
       "      <td>2.964539e+06</td>\n",
       "    </tr>\n",
       "    <tr>\n",
       "      <th>10</th>\n",
       "      <td>2024</td>\n",
       "      <td>12</td>\n",
       "      <td>2.932276e+06</td>\n",
       "    </tr>\n",
       "    <tr>\n",
       "      <th>11</th>\n",
       "      <td>2025</td>\n",
       "      <td>1</td>\n",
       "      <td>3.287172e+06</td>\n",
       "    </tr>\n",
       "    <tr>\n",
       "      <th>12</th>\n",
       "      <td>2025</td>\n",
       "      <td>2</td>\n",
       "      <td>3.254908e+06</td>\n",
       "    </tr>\n",
       "    <tr>\n",
       "      <th>13</th>\n",
       "      <td>2025</td>\n",
       "      <td>3</td>\n",
       "      <td>3.222645e+06</td>\n",
       "    </tr>\n",
       "    <tr>\n",
       "      <th>14</th>\n",
       "      <td>2025</td>\n",
       "      <td>4</td>\n",
       "      <td>3.190382e+06</td>\n",
       "    </tr>\n",
       "    <tr>\n",
       "      <th>15</th>\n",
       "      <td>2025</td>\n",
       "      <td>5</td>\n",
       "      <td>3.158119e+06</td>\n",
       "    </tr>\n",
       "    <tr>\n",
       "      <th>16</th>\n",
       "      <td>2025</td>\n",
       "      <td>6</td>\n",
       "      <td>3.125855e+06</td>\n",
       "    </tr>\n",
       "    <tr>\n",
       "      <th>17</th>\n",
       "      <td>2025</td>\n",
       "      <td>7</td>\n",
       "      <td>3.093592e+06</td>\n",
       "    </tr>\n",
       "    <tr>\n",
       "      <th>18</th>\n",
       "      <td>2025</td>\n",
       "      <td>8</td>\n",
       "      <td>3.061329e+06</td>\n",
       "    </tr>\n",
       "    <tr>\n",
       "      <th>19</th>\n",
       "      <td>2025</td>\n",
       "      <td>9</td>\n",
       "      <td>3.029065e+06</td>\n",
       "    </tr>\n",
       "    <tr>\n",
       "      <th>20</th>\n",
       "      <td>2025</td>\n",
       "      <td>10</td>\n",
       "      <td>2.996802e+06</td>\n",
       "    </tr>\n",
       "    <tr>\n",
       "      <th>21</th>\n",
       "      <td>2025</td>\n",
       "      <td>11</td>\n",
       "      <td>2.964539e+06</td>\n",
       "    </tr>\n",
       "    <tr>\n",
       "      <th>22</th>\n",
       "      <td>2025</td>\n",
       "      <td>12</td>\n",
       "      <td>2.932276e+06</td>\n",
       "    </tr>\n",
       "    <tr>\n",
       "      <th>23</th>\n",
       "      <td>2026</td>\n",
       "      <td>1</td>\n",
       "      <td>3.287172e+06</td>\n",
       "    </tr>\n",
       "    <tr>\n",
       "      <th>24</th>\n",
       "      <td>2026</td>\n",
       "      <td>2</td>\n",
       "      <td>3.254908e+06</td>\n",
       "    </tr>\n",
       "    <tr>\n",
       "      <th>25</th>\n",
       "      <td>2026</td>\n",
       "      <td>3</td>\n",
       "      <td>3.222645e+06</td>\n",
       "    </tr>\n",
       "    <tr>\n",
       "      <th>26</th>\n",
       "      <td>2026</td>\n",
       "      <td>4</td>\n",
       "      <td>3.190382e+06</td>\n",
       "    </tr>\n",
       "    <tr>\n",
       "      <th>27</th>\n",
       "      <td>2026</td>\n",
       "      <td>5</td>\n",
       "      <td>3.158119e+06</td>\n",
       "    </tr>\n",
       "    <tr>\n",
       "      <th>28</th>\n",
       "      <td>2026</td>\n",
       "      <td>6</td>\n",
       "      <td>3.125855e+06</td>\n",
       "    </tr>\n",
       "    <tr>\n",
       "      <th>29</th>\n",
       "      <td>2026</td>\n",
       "      <td>7</td>\n",
       "      <td>3.093592e+06</td>\n",
       "    </tr>\n",
       "    <tr>\n",
       "      <th>30</th>\n",
       "      <td>2026</td>\n",
       "      <td>8</td>\n",
       "      <td>3.061329e+06</td>\n",
       "    </tr>\n",
       "    <tr>\n",
       "      <th>31</th>\n",
       "      <td>2026</td>\n",
       "      <td>9</td>\n",
       "      <td>3.029065e+06</td>\n",
       "    </tr>\n",
       "    <tr>\n",
       "      <th>32</th>\n",
       "      <td>2026</td>\n",
       "      <td>10</td>\n",
       "      <td>2.996802e+06</td>\n",
       "    </tr>\n",
       "    <tr>\n",
       "      <th>33</th>\n",
       "      <td>2026</td>\n",
       "      <td>11</td>\n",
       "      <td>2.964539e+06</td>\n",
       "    </tr>\n",
       "    <tr>\n",
       "      <th>34</th>\n",
       "      <td>2026</td>\n",
       "      <td>12</td>\n",
       "      <td>2.932276e+06</td>\n",
       "    </tr>\n",
       "  </tbody>\n",
       "</table>\n",
       "</div>"
      ],
      "text/plain": [
       "     año  mes  precio_promedio\n",
       "0   2024    1     3.287172e+06\n",
       "1   2024    2     3.289913e+06\n",
       "2   2024    3     3.374739e+06\n",
       "3   2024    5     3.224496e+06\n",
       "4   2024    6     3.212817e+06\n",
       "5   2024    7     3.395784e+06\n",
       "6   2024    8     3.338049e+06\n",
       "7   2024    9     3.029065e+06\n",
       "8   2024   10     2.996802e+06\n",
       "9   2024   11     2.964539e+06\n",
       "10  2024   12     2.932276e+06\n",
       "11  2025    1     3.287172e+06\n",
       "12  2025    2     3.254908e+06\n",
       "13  2025    3     3.222645e+06\n",
       "14  2025    4     3.190382e+06\n",
       "15  2025    5     3.158119e+06\n",
       "16  2025    6     3.125855e+06\n",
       "17  2025    7     3.093592e+06\n",
       "18  2025    8     3.061329e+06\n",
       "19  2025    9     3.029065e+06\n",
       "20  2025   10     2.996802e+06\n",
       "21  2025   11     2.964539e+06\n",
       "22  2025   12     2.932276e+06\n",
       "23  2026    1     3.287172e+06\n",
       "24  2026    2     3.254908e+06\n",
       "25  2026    3     3.222645e+06\n",
       "26  2026    4     3.190382e+06\n",
       "27  2026    5     3.158119e+06\n",
       "28  2026    6     3.125855e+06\n",
       "29  2026    7     3.093592e+06\n",
       "30  2026    8     3.061329e+06\n",
       "31  2026    9     3.029065e+06\n",
       "32  2026   10     2.996802e+06\n",
       "33  2026   11     2.964539e+06\n",
       "34  2026   12     2.932276e+06"
      ]
     },
     "execution_count": 71,
     "metadata": {},
     "output_type": "execute_result"
    }
   ],
   "source": [
    "# DF con todas las combinaciones posibles de año y mes para 2023 FALTANTES (AUG-DEC)\n",
    "fechas_2023 = pd.DataFrame({'año': np.repeat(2024, 1),\n",
    "                            'mes': range(1, 2)})\n",
    "fechas_2024 = pd.DataFrame({'año': np.repeat(2024, 4),\n",
    "                            'mes': range(9, 13)})\n",
    "# DF con todas las combinaciones posibles de año y mes para 2024-2026\n",
    "fechas_2024_2026 = pd.DataFrame({'año': np.repeat(range(2025, 2027), 12),\n",
    "                                  'mes': np.tile(range(1, 13), 2)})\n",
    "nuevas_fechas = pd.concat([fechas_2023,fechas_2024, fechas_2024_2026]) # Concatenamos \n",
    "\n",
    "# Realizamos predicciones con el modelo entrenado\n",
    "predicciones = modelo.predict(nuevas_fechas)\n",
    "\n",
    "# Redondear las predicciones a números enteros\n",
    "predicciones_enteros = np.round(predicciones).astype(int)\n",
    "\n",
    "# Agregamos las predicciones redondeadas al DataFrame de nuevas fechas\n",
    "nuevas_fechas['precio_promedio'] = predicciones_enteros\n",
    "\n",
    "nueva_conteo_pachuca = pd.concat([df_resultados, nuevas_fechas], ignore_index=True)\n",
    "#nueva_conteo_pachuca = nueva_conteo_pachuca.groupby('año')['precio_promedio'].median().reset_index()\n",
    "nueva_conteo_pachuca = nueva_conteo_pachuca.groupby(['año', 'mes'])['precio_promedio'].median().reset_index()\n",
    "\n",
    "# Agregar una nueva columna 'vivienda' con el valor 'Usada'\n",
    "total_todos = nueva_conteo_pachuca.copy()\n",
    "nueva_conteo_pachuca"
   ]
  },
  {
   "cell_type": "code",
   "execution_count": 72,
   "metadata": {},
   "outputs": [
    {
     "name": "stdout",
     "output_type": "stream",
     "text": [
      "Estimación de registros en 2024: 1000961\n",
      "Estimación de registros en 2025: 1013940\n",
      "Estimación de registros en 2026: 1027087\n"
     ]
    }
   ],
   "source": [
    "# Valores conocidos\n",
    "registros_2022 = 9.754988e+05\n",
    "registros_2023 = 9.881478e+05\n",
    "\n",
    "# Calcula la tasa de cambio porcentual de 2022 a 2023\n",
    "tasa_cambio = (registros_2023 - registros_2022) / registros_2022\n",
    "\n",
    "# Aplica la misma tasa de cambio para estimar 2024, 2025, y 2026 completo\n",
    "estimacion_2024 = registros_2023 * (1 + tasa_cambio)\n",
    "estimacion_2025 = estimacion_2024 * (1 + tasa_cambio)\n",
    "estimacion_2026 = estimacion_2025 * (1 + tasa_cambio)\n",
    "\n",
    "print(\"Estimación de registros en 2024:\", round(estimacion_2024))\n",
    "print(\"Estimación de registros en 2025:\", round(estimacion_2025))\n",
    "print(\"Estimación de registros en 2026:\", round(estimacion_2026))"
   ]
  },
  {
   "cell_type": "code",
   "execution_count": 73,
   "metadata": {},
   "outputs": [
    {
     "data": {
      "text/html": [
       "<div>\n",
       "<style scoped>\n",
       "    .dataframe tbody tr th:only-of-type {\n",
       "        vertical-align: middle;\n",
       "    }\n",
       "\n",
       "    .dataframe tbody tr th {\n",
       "        vertical-align: top;\n",
       "    }\n",
       "\n",
       "    .dataframe thead th {\n",
       "        text-align: right;\n",
       "    }\n",
       "</style>\n",
       "<table border=\"1\" class=\"dataframe\">\n",
       "  <thead>\n",
       "    <tr style=\"text-align: right;\">\n",
       "      <th></th>\n",
       "      <th>año</th>\n",
       "      <th>mes</th>\n",
       "      <th>precio_promedio</th>\n",
       "      <th>label</th>\n",
       "    </tr>\n",
       "  </thead>\n",
       "  <tbody>\n",
       "    <tr>\n",
       "      <th>0</th>\n",
       "      <td>2024</td>\n",
       "      <td>1</td>\n",
       "      <td>3.287172e+06</td>\n",
       "      <td>enero-2024</td>\n",
       "    </tr>\n",
       "    <tr>\n",
       "      <th>1</th>\n",
       "      <td>2024</td>\n",
       "      <td>2</td>\n",
       "      <td>3.289913e+06</td>\n",
       "      <td>febrero-2024</td>\n",
       "    </tr>\n",
       "    <tr>\n",
       "      <th>2</th>\n",
       "      <td>2024</td>\n",
       "      <td>3</td>\n",
       "      <td>3.374739e+06</td>\n",
       "      <td>marzo-2024</td>\n",
       "    </tr>\n",
       "    <tr>\n",
       "      <th>3</th>\n",
       "      <td>2024</td>\n",
       "      <td>5</td>\n",
       "      <td>3.224496e+06</td>\n",
       "      <td>mayo-2024</td>\n",
       "    </tr>\n",
       "    <tr>\n",
       "      <th>4</th>\n",
       "      <td>2024</td>\n",
       "      <td>6</td>\n",
       "      <td>3.212817e+06</td>\n",
       "      <td>junio-2024</td>\n",
       "    </tr>\n",
       "    <tr>\n",
       "      <th>5</th>\n",
       "      <td>2024</td>\n",
       "      <td>7</td>\n",
       "      <td>3.395784e+06</td>\n",
       "      <td>julio-2024</td>\n",
       "    </tr>\n",
       "    <tr>\n",
       "      <th>6</th>\n",
       "      <td>2024</td>\n",
       "      <td>8</td>\n",
       "      <td>3.338049e+06</td>\n",
       "      <td>agosto-2024</td>\n",
       "    </tr>\n",
       "    <tr>\n",
       "      <th>7</th>\n",
       "      <td>2024</td>\n",
       "      <td>9</td>\n",
       "      <td>3.029065e+06</td>\n",
       "      <td>septiembre-2024</td>\n",
       "    </tr>\n",
       "    <tr>\n",
       "      <th>8</th>\n",
       "      <td>2024</td>\n",
       "      <td>10</td>\n",
       "      <td>2.996802e+06</td>\n",
       "      <td>octubre-2024</td>\n",
       "    </tr>\n",
       "    <tr>\n",
       "      <th>9</th>\n",
       "      <td>2024</td>\n",
       "      <td>11</td>\n",
       "      <td>2.964539e+06</td>\n",
       "      <td>noviembre-2024</td>\n",
       "    </tr>\n",
       "    <tr>\n",
       "      <th>10</th>\n",
       "      <td>2024</td>\n",
       "      <td>12</td>\n",
       "      <td>2.932276e+06</td>\n",
       "      <td>diciembre-2024</td>\n",
       "    </tr>\n",
       "    <tr>\n",
       "      <th>11</th>\n",
       "      <td>2025</td>\n",
       "      <td>1</td>\n",
       "      <td>3.287172e+06</td>\n",
       "      <td>enero-2025</td>\n",
       "    </tr>\n",
       "    <tr>\n",
       "      <th>12</th>\n",
       "      <td>2025</td>\n",
       "      <td>2</td>\n",
       "      <td>3.254908e+06</td>\n",
       "      <td>febrero-2025</td>\n",
       "    </tr>\n",
       "    <tr>\n",
       "      <th>13</th>\n",
       "      <td>2025</td>\n",
       "      <td>3</td>\n",
       "      <td>3.222645e+06</td>\n",
       "      <td>marzo-2025</td>\n",
       "    </tr>\n",
       "    <tr>\n",
       "      <th>14</th>\n",
       "      <td>2025</td>\n",
       "      <td>4</td>\n",
       "      <td>3.190382e+06</td>\n",
       "      <td>abril-2025</td>\n",
       "    </tr>\n",
       "    <tr>\n",
       "      <th>15</th>\n",
       "      <td>2025</td>\n",
       "      <td>5</td>\n",
       "      <td>3.158119e+06</td>\n",
       "      <td>mayo-2025</td>\n",
       "    </tr>\n",
       "    <tr>\n",
       "      <th>16</th>\n",
       "      <td>2025</td>\n",
       "      <td>6</td>\n",
       "      <td>3.125855e+06</td>\n",
       "      <td>junio-2025</td>\n",
       "    </tr>\n",
       "    <tr>\n",
       "      <th>17</th>\n",
       "      <td>2025</td>\n",
       "      <td>7</td>\n",
       "      <td>3.093592e+06</td>\n",
       "      <td>julio-2025</td>\n",
       "    </tr>\n",
       "    <tr>\n",
       "      <th>18</th>\n",
       "      <td>2025</td>\n",
       "      <td>8</td>\n",
       "      <td>3.061329e+06</td>\n",
       "      <td>agosto-2025</td>\n",
       "    </tr>\n",
       "    <tr>\n",
       "      <th>19</th>\n",
       "      <td>2025</td>\n",
       "      <td>9</td>\n",
       "      <td>3.029065e+06</td>\n",
       "      <td>septiembre-2025</td>\n",
       "    </tr>\n",
       "    <tr>\n",
       "      <th>20</th>\n",
       "      <td>2025</td>\n",
       "      <td>10</td>\n",
       "      <td>2.996802e+06</td>\n",
       "      <td>octubre-2025</td>\n",
       "    </tr>\n",
       "    <tr>\n",
       "      <th>21</th>\n",
       "      <td>2025</td>\n",
       "      <td>11</td>\n",
       "      <td>2.964539e+06</td>\n",
       "      <td>noviembre-2025</td>\n",
       "    </tr>\n",
       "    <tr>\n",
       "      <th>22</th>\n",
       "      <td>2025</td>\n",
       "      <td>12</td>\n",
       "      <td>2.932276e+06</td>\n",
       "      <td>diciembre-2025</td>\n",
       "    </tr>\n",
       "    <tr>\n",
       "      <th>23</th>\n",
       "      <td>2026</td>\n",
       "      <td>1</td>\n",
       "      <td>3.287172e+06</td>\n",
       "      <td>enero-2026</td>\n",
       "    </tr>\n",
       "    <tr>\n",
       "      <th>24</th>\n",
       "      <td>2026</td>\n",
       "      <td>2</td>\n",
       "      <td>3.254908e+06</td>\n",
       "      <td>febrero-2026</td>\n",
       "    </tr>\n",
       "    <tr>\n",
       "      <th>25</th>\n",
       "      <td>2026</td>\n",
       "      <td>3</td>\n",
       "      <td>3.222645e+06</td>\n",
       "      <td>marzo-2026</td>\n",
       "    </tr>\n",
       "    <tr>\n",
       "      <th>26</th>\n",
       "      <td>2026</td>\n",
       "      <td>4</td>\n",
       "      <td>3.190382e+06</td>\n",
       "      <td>abril-2026</td>\n",
       "    </tr>\n",
       "    <tr>\n",
       "      <th>27</th>\n",
       "      <td>2026</td>\n",
       "      <td>5</td>\n",
       "      <td>3.158119e+06</td>\n",
       "      <td>mayo-2026</td>\n",
       "    </tr>\n",
       "    <tr>\n",
       "      <th>28</th>\n",
       "      <td>2026</td>\n",
       "      <td>6</td>\n",
       "      <td>3.125855e+06</td>\n",
       "      <td>junio-2026</td>\n",
       "    </tr>\n",
       "    <tr>\n",
       "      <th>29</th>\n",
       "      <td>2026</td>\n",
       "      <td>7</td>\n",
       "      <td>3.093592e+06</td>\n",
       "      <td>julio-2026</td>\n",
       "    </tr>\n",
       "    <tr>\n",
       "      <th>30</th>\n",
       "      <td>2026</td>\n",
       "      <td>8</td>\n",
       "      <td>3.061329e+06</td>\n",
       "      <td>agosto-2026</td>\n",
       "    </tr>\n",
       "    <tr>\n",
       "      <th>31</th>\n",
       "      <td>2026</td>\n",
       "      <td>9</td>\n",
       "      <td>3.029065e+06</td>\n",
       "      <td>septiembre-2026</td>\n",
       "    </tr>\n",
       "    <tr>\n",
       "      <th>32</th>\n",
       "      <td>2026</td>\n",
       "      <td>10</td>\n",
       "      <td>2.996802e+06</td>\n",
       "      <td>octubre-2026</td>\n",
       "    </tr>\n",
       "    <tr>\n",
       "      <th>33</th>\n",
       "      <td>2026</td>\n",
       "      <td>11</td>\n",
       "      <td>2.964539e+06</td>\n",
       "      <td>noviembre-2026</td>\n",
       "    </tr>\n",
       "    <tr>\n",
       "      <th>34</th>\n",
       "      <td>2026</td>\n",
       "      <td>12</td>\n",
       "      <td>2.932276e+06</td>\n",
       "      <td>diciembre-2026</td>\n",
       "    </tr>\n",
       "  </tbody>\n",
       "</table>\n",
       "</div>"
      ],
      "text/plain": [
       "     año  mes  precio_promedio            label\n",
       "0   2024    1     3.287172e+06       enero-2024\n",
       "1   2024    2     3.289913e+06     febrero-2024\n",
       "2   2024    3     3.374739e+06       marzo-2024\n",
       "3   2024    5     3.224496e+06        mayo-2024\n",
       "4   2024    6     3.212817e+06       junio-2024\n",
       "5   2024    7     3.395784e+06       julio-2024\n",
       "6   2024    8     3.338049e+06      agosto-2024\n",
       "7   2024    9     3.029065e+06  septiembre-2024\n",
       "8   2024   10     2.996802e+06     octubre-2024\n",
       "9   2024   11     2.964539e+06   noviembre-2024\n",
       "10  2024   12     2.932276e+06   diciembre-2024\n",
       "11  2025    1     3.287172e+06       enero-2025\n",
       "12  2025    2     3.254908e+06     febrero-2025\n",
       "13  2025    3     3.222645e+06       marzo-2025\n",
       "14  2025    4     3.190382e+06       abril-2025\n",
       "15  2025    5     3.158119e+06        mayo-2025\n",
       "16  2025    6     3.125855e+06       junio-2025\n",
       "17  2025    7     3.093592e+06       julio-2025\n",
       "18  2025    8     3.061329e+06      agosto-2025\n",
       "19  2025    9     3.029065e+06  septiembre-2025\n",
       "20  2025   10     2.996802e+06     octubre-2025\n",
       "21  2025   11     2.964539e+06   noviembre-2025\n",
       "22  2025   12     2.932276e+06   diciembre-2025\n",
       "23  2026    1     3.287172e+06       enero-2026\n",
       "24  2026    2     3.254908e+06     febrero-2026\n",
       "25  2026    3     3.222645e+06       marzo-2026\n",
       "26  2026    4     3.190382e+06       abril-2026\n",
       "27  2026    5     3.158119e+06        mayo-2026\n",
       "28  2026    6     3.125855e+06       junio-2026\n",
       "29  2026    7     3.093592e+06       julio-2026\n",
       "30  2026    8     3.061329e+06      agosto-2026\n",
       "31  2026    9     3.029065e+06  septiembre-2026\n",
       "32  2026   10     2.996802e+06     octubre-2026\n",
       "33  2026   11     2.964539e+06   noviembre-2026\n",
       "34  2026   12     2.932276e+06   diciembre-2026"
      ]
     },
     "execution_count": 73,
     "metadata": {},
     "output_type": "execute_result"
    }
   ],
   "source": [
    "meses_dict_invertido = {v: k for k, v in meses_dict.items()}\n",
    "nueva_conteo_pachuca['label'] = nueva_conteo_pachuca['mes'].apply(lambda x: meses_dict_invertido[x]) + '-' + nueva_conteo_pachuca['año'].astype(str)\n",
    "nueva_conteo_pachuca = nueva_conteo_pachuca.sort_values(by=['año', 'mes'])\n",
    "nueva_conteo_pachuca"
   ]
  },
  {
   "cell_type": "code",
   "execution_count": 74,
   "metadata": {},
   "outputs": [
    {
     "data": {
      "application/vnd.plotly.v1+json": {
       "config": {
        "plotlyServerURL": "https://plot.ly"
       },
       "data": [
        {
         "marker": {
          "color": "blue"
         },
         "mode": "markers+lines",
         "type": "scatter",
         "x": [
          "enero-2024",
          "febrero-2024",
          "marzo-2024",
          "mayo-2024",
          "junio-2024",
          "julio-2024",
          "agosto-2024",
          "septiembre-2024",
          "octubre-2024",
          "noviembre-2024",
          "diciembre-2024",
          "enero-2025",
          "febrero-2025",
          "marzo-2025",
          "abril-2025",
          "mayo-2025",
          "junio-2025",
          "julio-2025",
          "agosto-2025",
          "septiembre-2025",
          "octubre-2025",
          "noviembre-2025",
          "diciembre-2025",
          "enero-2026",
          "febrero-2026",
          "marzo-2026",
          "abril-2026",
          "mayo-2026",
          "junio-2026",
          "julio-2026",
          "agosto-2026",
          "septiembre-2026",
          "octubre-2026",
          "noviembre-2026",
          "diciembre-2026"
         ],
         "y": [
          3287172,
          3289913.081751055,
          3374738.8693217174,
          3224495.76910299,
          3212817.3876923076,
          3395784.4117980716,
          3338049.0504978662,
          3029065,
          2996802,
          2964539,
          2932276,
          3287172,
          3254908,
          3222645,
          3190382,
          3158119,
          3125855,
          3093592,
          3061329,
          3029065,
          2996802,
          2964539,
          2932276,
          3287172,
          3254908,
          3222645,
          3190382,
          3158119,
          3125855,
          3093592,
          3061329,
          3029065,
          2996802,
          2964539,
          2932276
         ]
        }
       ],
       "layout": {
        "annotations": [
         {
          "font": {
           "color": "black",
           "size": 12
          },
          "showarrow": false,
          "text": "$3,287,172.00",
          "textangle": 0,
          "x": "enero-2024",
          "xshift": 0,
          "y": 3287172,
          "yshift": 17
         },
         {
          "font": {
           "color": "black",
           "size": 12
          },
          "showarrow": false,
          "text": "$3,289,913.08",
          "textangle": 0,
          "x": "febrero-2024",
          "xshift": 0,
          "y": 3289913.081751055,
          "yshift": 17
         },
         {
          "font": {
           "color": "black",
           "size": 12
          },
          "showarrow": false,
          "text": "$3,374,738.87",
          "textangle": 0,
          "x": "marzo-2024",
          "xshift": 0,
          "y": 3374738.8693217174,
          "yshift": 17
         },
         {
          "font": {
           "color": "black",
           "size": 12
          },
          "showarrow": false,
          "text": "$3,224,495.77",
          "textangle": 0,
          "x": "mayo-2024",
          "xshift": 0,
          "y": 3224495.76910299,
          "yshift": 17
         },
         {
          "font": {
           "color": "black",
           "size": 12
          },
          "showarrow": false,
          "text": "$3,212,817.39",
          "textangle": 0,
          "x": "junio-2024",
          "xshift": 0,
          "y": 3212817.3876923076,
          "yshift": 17
         },
         {
          "font": {
           "color": "black",
           "size": 12
          },
          "showarrow": false,
          "text": "$3,395,784.41",
          "textangle": 0,
          "x": "julio-2024",
          "xshift": 0,
          "y": 3395784.4117980716,
          "yshift": 17
         },
         {
          "font": {
           "color": "black",
           "size": 12
          },
          "showarrow": false,
          "text": "$3,338,049.05",
          "textangle": 0,
          "x": "agosto-2024",
          "xshift": 0,
          "y": 3338049.0504978662,
          "yshift": 17
         },
         {
          "font": {
           "color": "black",
           "size": 12
          },
          "showarrow": false,
          "text": "$3,029,065.00",
          "textangle": 0,
          "x": "septiembre-2024",
          "xshift": 0,
          "y": 3029065,
          "yshift": 17
         },
         {
          "font": {
           "color": "black",
           "size": 12
          },
          "showarrow": false,
          "text": "$2,996,802.00",
          "textangle": 0,
          "x": "octubre-2024",
          "xshift": 0,
          "y": 2996802,
          "yshift": 17
         },
         {
          "font": {
           "color": "black",
           "size": 12
          },
          "showarrow": false,
          "text": "$2,964,539.00",
          "textangle": 0,
          "x": "noviembre-2024",
          "xshift": 0,
          "y": 2964539,
          "yshift": 17
         },
         {
          "font": {
           "color": "black",
           "size": 12
          },
          "showarrow": false,
          "text": "$2,932,276.00",
          "textangle": 0,
          "x": "diciembre-2024",
          "xshift": 0,
          "y": 2932276,
          "yshift": 17
         },
         {
          "font": {
           "color": "black",
           "size": 12
          },
          "showarrow": false,
          "text": "$3,287,172.00",
          "textangle": 0,
          "x": "enero-2025",
          "xshift": 0,
          "y": 3287172,
          "yshift": 17
         },
         {
          "font": {
           "color": "black",
           "size": 12
          },
          "showarrow": false,
          "text": "$3,254,908.00",
          "textangle": 0,
          "x": "febrero-2025",
          "xshift": 0,
          "y": 3254908,
          "yshift": 17
         },
         {
          "font": {
           "color": "black",
           "size": 12
          },
          "showarrow": false,
          "text": "$3,222,645.00",
          "textangle": 0,
          "x": "marzo-2025",
          "xshift": 0,
          "y": 3222645,
          "yshift": 17
         },
         {
          "font": {
           "color": "black",
           "size": 12
          },
          "showarrow": false,
          "text": "$3,190,382.00",
          "textangle": 0,
          "x": "abril-2025",
          "xshift": 0,
          "y": 3190382,
          "yshift": 17
         },
         {
          "font": {
           "color": "black",
           "size": 12
          },
          "showarrow": false,
          "text": "$3,158,119.00",
          "textangle": 0,
          "x": "mayo-2025",
          "xshift": 0,
          "y": 3158119,
          "yshift": 17
         },
         {
          "font": {
           "color": "black",
           "size": 12
          },
          "showarrow": false,
          "text": "$3,125,855.00",
          "textangle": 0,
          "x": "junio-2025",
          "xshift": 0,
          "y": 3125855,
          "yshift": 17
         },
         {
          "font": {
           "color": "black",
           "size": 12
          },
          "showarrow": false,
          "text": "$3,093,592.00",
          "textangle": 0,
          "x": "julio-2025",
          "xshift": 0,
          "y": 3093592,
          "yshift": 17
         },
         {
          "font": {
           "color": "black",
           "size": 12
          },
          "showarrow": false,
          "text": "$3,061,329.00",
          "textangle": 0,
          "x": "agosto-2025",
          "xshift": 0,
          "y": 3061329,
          "yshift": 17
         },
         {
          "font": {
           "color": "black",
           "size": 12
          },
          "showarrow": false,
          "text": "$3,029,065.00",
          "textangle": 0,
          "x": "septiembre-2025",
          "xshift": 0,
          "y": 3029065,
          "yshift": 17
         },
         {
          "font": {
           "color": "black",
           "size": 12
          },
          "showarrow": false,
          "text": "$2,996,802.00",
          "textangle": 0,
          "x": "octubre-2025",
          "xshift": 0,
          "y": 2996802,
          "yshift": 17
         },
         {
          "font": {
           "color": "black",
           "size": 12
          },
          "showarrow": false,
          "text": "$2,964,539.00",
          "textangle": 0,
          "x": "noviembre-2025",
          "xshift": 0,
          "y": 2964539,
          "yshift": 17
         },
         {
          "font": {
           "color": "black",
           "size": 12
          },
          "showarrow": false,
          "text": "$2,932,276.00",
          "textangle": 0,
          "x": "diciembre-2025",
          "xshift": 0,
          "y": 2932276,
          "yshift": 17
         },
         {
          "font": {
           "color": "black",
           "size": 12
          },
          "showarrow": false,
          "text": "$3,287,172.00",
          "textangle": 0,
          "x": "enero-2026",
          "xshift": 0,
          "y": 3287172,
          "yshift": 17
         },
         {
          "font": {
           "color": "black",
           "size": 12
          },
          "showarrow": false,
          "text": "$3,254,908.00",
          "textangle": 0,
          "x": "febrero-2026",
          "xshift": 0,
          "y": 3254908,
          "yshift": 17
         },
         {
          "font": {
           "color": "black",
           "size": 12
          },
          "showarrow": false,
          "text": "$3,222,645.00",
          "textangle": 0,
          "x": "marzo-2026",
          "xshift": 0,
          "y": 3222645,
          "yshift": 17
         },
         {
          "font": {
           "color": "black",
           "size": 12
          },
          "showarrow": false,
          "text": "$3,190,382.00",
          "textangle": 0,
          "x": "abril-2026",
          "xshift": 0,
          "y": 3190382,
          "yshift": 17
         },
         {
          "font": {
           "color": "black",
           "size": 12
          },
          "showarrow": false,
          "text": "$3,158,119.00",
          "textangle": 0,
          "x": "mayo-2026",
          "xshift": 0,
          "y": 3158119,
          "yshift": 17
         },
         {
          "font": {
           "color": "black",
           "size": 12
          },
          "showarrow": false,
          "text": "$3,125,855.00",
          "textangle": 0,
          "x": "junio-2026",
          "xshift": 0,
          "y": 3125855,
          "yshift": 17
         },
         {
          "font": {
           "color": "black",
           "size": 12
          },
          "showarrow": false,
          "text": "$3,093,592.00",
          "textangle": 0,
          "x": "julio-2026",
          "xshift": 0,
          "y": 3093592,
          "yshift": 17
         },
         {
          "font": {
           "color": "black",
           "size": 12
          },
          "showarrow": false,
          "text": "$3,061,329.00",
          "textangle": 0,
          "x": "agosto-2026",
          "xshift": 0,
          "y": 3061329,
          "yshift": 17
         },
         {
          "font": {
           "color": "black",
           "size": 12
          },
          "showarrow": false,
          "text": "$3,029,065.00",
          "textangle": 0,
          "x": "septiembre-2026",
          "xshift": 0,
          "y": 3029065,
          "yshift": 17
         },
         {
          "font": {
           "color": "black",
           "size": 12
          },
          "showarrow": false,
          "text": "$2,996,802.00",
          "textangle": 0,
          "x": "octubre-2026",
          "xshift": 0,
          "y": 2996802,
          "yshift": 17
         },
         {
          "font": {
           "color": "black",
           "size": 12
          },
          "showarrow": false,
          "text": "$2,964,539.00",
          "textangle": 0,
          "x": "noviembre-2026",
          "xshift": 0,
          "y": 2964539,
          "yshift": 17
         },
         {
          "font": {
           "color": "black",
           "size": 12
          },
          "showarrow": false,
          "text": "$2,932,276.00",
          "textangle": 0,
          "x": "diciembre-2026",
          "xshift": 0,
          "y": 2932276,
          "yshift": 17
         }
        ],
        "margin": {
         "b": 10,
         "l": 10,
         "r": 10,
         "t": 10
        },
        "plot_bgcolor": "rgba(0,0,0,0)",
        "template": {
         "data": {
          "bar": [
           {
            "error_x": {
             "color": "#2a3f5f"
            },
            "error_y": {
             "color": "#2a3f5f"
            },
            "marker": {
             "line": {
              "color": "#E5ECF6",
              "width": 0.5
             },
             "pattern": {
              "fillmode": "overlay",
              "size": 10,
              "solidity": 0.2
             }
            },
            "type": "bar"
           }
          ],
          "barpolar": [
           {
            "marker": {
             "line": {
              "color": "#E5ECF6",
              "width": 0.5
             },
             "pattern": {
              "fillmode": "overlay",
              "size": 10,
              "solidity": 0.2
             }
            },
            "type": "barpolar"
           }
          ],
          "carpet": [
           {
            "aaxis": {
             "endlinecolor": "#2a3f5f",
             "gridcolor": "white",
             "linecolor": "white",
             "minorgridcolor": "white",
             "startlinecolor": "#2a3f5f"
            },
            "baxis": {
             "endlinecolor": "#2a3f5f",
             "gridcolor": "white",
             "linecolor": "white",
             "minorgridcolor": "white",
             "startlinecolor": "#2a3f5f"
            },
            "type": "carpet"
           }
          ],
          "choropleth": [
           {
            "colorbar": {
             "outlinewidth": 0,
             "ticks": ""
            },
            "type": "choropleth"
           }
          ],
          "contour": [
           {
            "colorbar": {
             "outlinewidth": 0,
             "ticks": ""
            },
            "colorscale": [
             [
              0,
              "#0d0887"
             ],
             [
              0.1111111111111111,
              "#46039f"
             ],
             [
              0.2222222222222222,
              "#7201a8"
             ],
             [
              0.3333333333333333,
              "#9c179e"
             ],
             [
              0.4444444444444444,
              "#bd3786"
             ],
             [
              0.5555555555555556,
              "#d8576b"
             ],
             [
              0.6666666666666666,
              "#ed7953"
             ],
             [
              0.7777777777777778,
              "#fb9f3a"
             ],
             [
              0.8888888888888888,
              "#fdca26"
             ],
             [
              1,
              "#f0f921"
             ]
            ],
            "type": "contour"
           }
          ],
          "contourcarpet": [
           {
            "colorbar": {
             "outlinewidth": 0,
             "ticks": ""
            },
            "type": "contourcarpet"
           }
          ],
          "heatmap": [
           {
            "colorbar": {
             "outlinewidth": 0,
             "ticks": ""
            },
            "colorscale": [
             [
              0,
              "#0d0887"
             ],
             [
              0.1111111111111111,
              "#46039f"
             ],
             [
              0.2222222222222222,
              "#7201a8"
             ],
             [
              0.3333333333333333,
              "#9c179e"
             ],
             [
              0.4444444444444444,
              "#bd3786"
             ],
             [
              0.5555555555555556,
              "#d8576b"
             ],
             [
              0.6666666666666666,
              "#ed7953"
             ],
             [
              0.7777777777777778,
              "#fb9f3a"
             ],
             [
              0.8888888888888888,
              "#fdca26"
             ],
             [
              1,
              "#f0f921"
             ]
            ],
            "type": "heatmap"
           }
          ],
          "heatmapgl": [
           {
            "colorbar": {
             "outlinewidth": 0,
             "ticks": ""
            },
            "colorscale": [
             [
              0,
              "#0d0887"
             ],
             [
              0.1111111111111111,
              "#46039f"
             ],
             [
              0.2222222222222222,
              "#7201a8"
             ],
             [
              0.3333333333333333,
              "#9c179e"
             ],
             [
              0.4444444444444444,
              "#bd3786"
             ],
             [
              0.5555555555555556,
              "#d8576b"
             ],
             [
              0.6666666666666666,
              "#ed7953"
             ],
             [
              0.7777777777777778,
              "#fb9f3a"
             ],
             [
              0.8888888888888888,
              "#fdca26"
             ],
             [
              1,
              "#f0f921"
             ]
            ],
            "type": "heatmapgl"
           }
          ],
          "histogram": [
           {
            "marker": {
             "pattern": {
              "fillmode": "overlay",
              "size": 10,
              "solidity": 0.2
             }
            },
            "type": "histogram"
           }
          ],
          "histogram2d": [
           {
            "colorbar": {
             "outlinewidth": 0,
             "ticks": ""
            },
            "colorscale": [
             [
              0,
              "#0d0887"
             ],
             [
              0.1111111111111111,
              "#46039f"
             ],
             [
              0.2222222222222222,
              "#7201a8"
             ],
             [
              0.3333333333333333,
              "#9c179e"
             ],
             [
              0.4444444444444444,
              "#bd3786"
             ],
             [
              0.5555555555555556,
              "#d8576b"
             ],
             [
              0.6666666666666666,
              "#ed7953"
             ],
             [
              0.7777777777777778,
              "#fb9f3a"
             ],
             [
              0.8888888888888888,
              "#fdca26"
             ],
             [
              1,
              "#f0f921"
             ]
            ],
            "type": "histogram2d"
           }
          ],
          "histogram2dcontour": [
           {
            "colorbar": {
             "outlinewidth": 0,
             "ticks": ""
            },
            "colorscale": [
             [
              0,
              "#0d0887"
             ],
             [
              0.1111111111111111,
              "#46039f"
             ],
             [
              0.2222222222222222,
              "#7201a8"
             ],
             [
              0.3333333333333333,
              "#9c179e"
             ],
             [
              0.4444444444444444,
              "#bd3786"
             ],
             [
              0.5555555555555556,
              "#d8576b"
             ],
             [
              0.6666666666666666,
              "#ed7953"
             ],
             [
              0.7777777777777778,
              "#fb9f3a"
             ],
             [
              0.8888888888888888,
              "#fdca26"
             ],
             [
              1,
              "#f0f921"
             ]
            ],
            "type": "histogram2dcontour"
           }
          ],
          "mesh3d": [
           {
            "colorbar": {
             "outlinewidth": 0,
             "ticks": ""
            },
            "type": "mesh3d"
           }
          ],
          "parcoords": [
           {
            "line": {
             "colorbar": {
              "outlinewidth": 0,
              "ticks": ""
             }
            },
            "type": "parcoords"
           }
          ],
          "pie": [
           {
            "automargin": true,
            "type": "pie"
           }
          ],
          "scatter": [
           {
            "fillpattern": {
             "fillmode": "overlay",
             "size": 10,
             "solidity": 0.2
            },
            "type": "scatter"
           }
          ],
          "scatter3d": [
           {
            "line": {
             "colorbar": {
              "outlinewidth": 0,
              "ticks": ""
             }
            },
            "marker": {
             "colorbar": {
              "outlinewidth": 0,
              "ticks": ""
             }
            },
            "type": "scatter3d"
           }
          ],
          "scattercarpet": [
           {
            "marker": {
             "colorbar": {
              "outlinewidth": 0,
              "ticks": ""
             }
            },
            "type": "scattercarpet"
           }
          ],
          "scattergeo": [
           {
            "marker": {
             "colorbar": {
              "outlinewidth": 0,
              "ticks": ""
             }
            },
            "type": "scattergeo"
           }
          ],
          "scattergl": [
           {
            "marker": {
             "colorbar": {
              "outlinewidth": 0,
              "ticks": ""
             }
            },
            "type": "scattergl"
           }
          ],
          "scattermapbox": [
           {
            "marker": {
             "colorbar": {
              "outlinewidth": 0,
              "ticks": ""
             }
            },
            "type": "scattermapbox"
           }
          ],
          "scatterpolar": [
           {
            "marker": {
             "colorbar": {
              "outlinewidth": 0,
              "ticks": ""
             }
            },
            "type": "scatterpolar"
           }
          ],
          "scatterpolargl": [
           {
            "marker": {
             "colorbar": {
              "outlinewidth": 0,
              "ticks": ""
             }
            },
            "type": "scatterpolargl"
           }
          ],
          "scatterternary": [
           {
            "marker": {
             "colorbar": {
              "outlinewidth": 0,
              "ticks": ""
             }
            },
            "type": "scatterternary"
           }
          ],
          "surface": [
           {
            "colorbar": {
             "outlinewidth": 0,
             "ticks": ""
            },
            "colorscale": [
             [
              0,
              "#0d0887"
             ],
             [
              0.1111111111111111,
              "#46039f"
             ],
             [
              0.2222222222222222,
              "#7201a8"
             ],
             [
              0.3333333333333333,
              "#9c179e"
             ],
             [
              0.4444444444444444,
              "#bd3786"
             ],
             [
              0.5555555555555556,
              "#d8576b"
             ],
             [
              0.6666666666666666,
              "#ed7953"
             ],
             [
              0.7777777777777778,
              "#fb9f3a"
             ],
             [
              0.8888888888888888,
              "#fdca26"
             ],
             [
              1,
              "#f0f921"
             ]
            ],
            "type": "surface"
           }
          ],
          "table": [
           {
            "cells": {
             "fill": {
              "color": "#EBF0F8"
             },
             "line": {
              "color": "white"
             }
            },
            "header": {
             "fill": {
              "color": "#C8D4E3"
             },
             "line": {
              "color": "white"
             }
            },
            "type": "table"
           }
          ]
         },
         "layout": {
          "annotationdefaults": {
           "arrowcolor": "#2a3f5f",
           "arrowhead": 0,
           "arrowwidth": 1
          },
          "autotypenumbers": "strict",
          "coloraxis": {
           "colorbar": {
            "outlinewidth": 0,
            "ticks": ""
           }
          },
          "colorscale": {
           "diverging": [
            [
             0,
             "#8e0152"
            ],
            [
             0.1,
             "#c51b7d"
            ],
            [
             0.2,
             "#de77ae"
            ],
            [
             0.3,
             "#f1b6da"
            ],
            [
             0.4,
             "#fde0ef"
            ],
            [
             0.5,
             "#f7f7f7"
            ],
            [
             0.6,
             "#e6f5d0"
            ],
            [
             0.7,
             "#b8e186"
            ],
            [
             0.8,
             "#7fbc41"
            ],
            [
             0.9,
             "#4d9221"
            ],
            [
             1,
             "#276419"
            ]
           ],
           "sequential": [
            [
             0,
             "#0d0887"
            ],
            [
             0.1111111111111111,
             "#46039f"
            ],
            [
             0.2222222222222222,
             "#7201a8"
            ],
            [
             0.3333333333333333,
             "#9c179e"
            ],
            [
             0.4444444444444444,
             "#bd3786"
            ],
            [
             0.5555555555555556,
             "#d8576b"
            ],
            [
             0.6666666666666666,
             "#ed7953"
            ],
            [
             0.7777777777777778,
             "#fb9f3a"
            ],
            [
             0.8888888888888888,
             "#fdca26"
            ],
            [
             1,
             "#f0f921"
            ]
           ],
           "sequentialminus": [
            [
             0,
             "#0d0887"
            ],
            [
             0.1111111111111111,
             "#46039f"
            ],
            [
             0.2222222222222222,
             "#7201a8"
            ],
            [
             0.3333333333333333,
             "#9c179e"
            ],
            [
             0.4444444444444444,
             "#bd3786"
            ],
            [
             0.5555555555555556,
             "#d8576b"
            ],
            [
             0.6666666666666666,
             "#ed7953"
            ],
            [
             0.7777777777777778,
             "#fb9f3a"
            ],
            [
             0.8888888888888888,
             "#fdca26"
            ],
            [
             1,
             "#f0f921"
            ]
           ]
          },
          "colorway": [
           "#636efa",
           "#EF553B",
           "#00cc96",
           "#ab63fa",
           "#FFA15A",
           "#19d3f3",
           "#FF6692",
           "#B6E880",
           "#FF97FF",
           "#FECB52"
          ],
          "font": {
           "color": "#2a3f5f"
          },
          "geo": {
           "bgcolor": "white",
           "lakecolor": "white",
           "landcolor": "#E5ECF6",
           "showlakes": true,
           "showland": true,
           "subunitcolor": "white"
          },
          "hoverlabel": {
           "align": "left"
          },
          "hovermode": "closest",
          "mapbox": {
           "style": "light"
          },
          "paper_bgcolor": "white",
          "plot_bgcolor": "#E5ECF6",
          "polar": {
           "angularaxis": {
            "gridcolor": "white",
            "linecolor": "white",
            "ticks": ""
           },
           "bgcolor": "#E5ECF6",
           "radialaxis": {
            "gridcolor": "white",
            "linecolor": "white",
            "ticks": ""
           }
          },
          "scene": {
           "xaxis": {
            "backgroundcolor": "#E5ECF6",
            "gridcolor": "white",
            "gridwidth": 2,
            "linecolor": "white",
            "showbackground": true,
            "ticks": "",
            "zerolinecolor": "white"
           },
           "yaxis": {
            "backgroundcolor": "#E5ECF6",
            "gridcolor": "white",
            "gridwidth": 2,
            "linecolor": "white",
            "showbackground": true,
            "ticks": "",
            "zerolinecolor": "white"
           },
           "zaxis": {
            "backgroundcolor": "#E5ECF6",
            "gridcolor": "white",
            "gridwidth": 2,
            "linecolor": "white",
            "showbackground": true,
            "ticks": "",
            "zerolinecolor": "white"
           }
          },
          "shapedefaults": {
           "line": {
            "color": "#2a3f5f"
           }
          },
          "ternary": {
           "aaxis": {
            "gridcolor": "white",
            "linecolor": "white",
            "ticks": ""
           },
           "baxis": {
            "gridcolor": "white",
            "linecolor": "white",
            "ticks": ""
           },
           "bgcolor": "#E5ECF6",
           "caxis": {
            "gridcolor": "white",
            "linecolor": "white",
            "ticks": ""
           }
          },
          "title": {
           "x": 0.05
          },
          "xaxis": {
           "automargin": true,
           "gridcolor": "white",
           "linecolor": "white",
           "ticks": "",
           "title": {
            "standoff": 15
           },
           "zerolinecolor": "white",
           "zerolinewidth": 2
          },
          "yaxis": {
           "automargin": true,
           "gridcolor": "white",
           "linecolor": "white",
           "ticks": "",
           "title": {
            "standoff": 15
           },
           "zerolinecolor": "white",
           "zerolinewidth": 2
          }
         }
        },
        "xaxis": {
         "gridcolor": "#dddcda",
         "tickmode": "array",
         "ticktext": [
          "enero-2024",
          "febrero-2024",
          "marzo-2024",
          "mayo-2024",
          "junio-2024",
          "julio-2024",
          "agosto-2024",
          "septiembre-2024",
          "octubre-2024",
          "noviembre-2024",
          "diciembre-2024",
          "enero-2025",
          "febrero-2025",
          "marzo-2025",
          "abril-2025",
          "mayo-2025",
          "junio-2025",
          "julio-2025",
          "agosto-2025",
          "septiembre-2025",
          "octubre-2025",
          "noviembre-2025",
          "diciembre-2025",
          "enero-2026",
          "febrero-2026",
          "marzo-2026",
          "abril-2026",
          "mayo-2026",
          "junio-2026",
          "julio-2026",
          "agosto-2026",
          "septiembre-2026",
          "octubre-2026",
          "noviembre-2026",
          "diciembre-2026"
         ],
         "tickvals": [
          "enero-2024",
          "febrero-2024",
          "marzo-2024",
          "mayo-2024",
          "junio-2024",
          "julio-2024",
          "agosto-2024",
          "septiembre-2024",
          "octubre-2024",
          "noviembre-2024",
          "diciembre-2024",
          "enero-2025",
          "febrero-2025",
          "marzo-2025",
          "abril-2025",
          "mayo-2025",
          "junio-2025",
          "julio-2025",
          "agosto-2025",
          "septiembre-2025",
          "octubre-2025",
          "noviembre-2025",
          "diciembre-2025",
          "enero-2026",
          "febrero-2026",
          "marzo-2026",
          "abril-2026",
          "mayo-2026",
          "junio-2026",
          "julio-2026",
          "agosto-2026",
          "septiembre-2026",
          "octubre-2026",
          "noviembre-2026",
          "diciembre-2026"
         ]
        },
        "yaxis": {
         "gridcolor": "#dddcda",
         "gridwidth": 1,
         "title": {
          "text": "Monto"
         }
        }
       }
      }
     },
     "metadata": {},
     "output_type": "display_data"
    }
   ],
   "source": [
    "# Datos\n",
    "año = nueva_conteo_pachuca['label']\n",
    "promedio = nueva_conteo_pachuca['precio_promedio']\n",
    "\n",
    "# Crear una función para formatear los valores grandes en palabras en español\n",
    "def formatear_numero(valor):\n",
    "    if valor >= 1_000_000_000_000:\n",
    "        return f'{valor / 1_000_000_000:.2f} billones'\n",
    "    elif valor >= 1_000_000_000:\n",
    "        return f'{valor / 1_000_000_000:.0f} mil millones'  # Mil millones\n",
    "    elif valor >= 1_000_000:\n",
    "        return f'{valor / 1_000_000:.0f} millones'  # Millones\n",
    "    elif valor >= 1_000:\n",
    "        return f'{valor / 1_000:.0f} mil'  # Mil\n",
    "    else:\n",
    "        return str(valor)\n",
    "# Configurar los valores y el texto del eje Y\n",
    "tickvals = [4150000000000, 4160000000000, 4170000000000]\n",
    "ticktext = [formatear_numero(val) for val in tickvals]\n",
    "\n",
    "fig = go.Figure()\n",
    "fig.add_trace(go.Scatter(\n",
    "    x=año,\n",
    "    y=promedio,\n",
    "    mode='markers+lines',\n",
    "    marker=dict(color='blue'),\n",
    "))\n",
    "# Agregar anotaciones para mostrar los valores encima de los puntos\n",
    "for a, p in zip(año, promedio):\n",
    "    fig.add_annotation(\n",
    "        x=a,\n",
    "        y=p,\n",
    "        text=f\"${p:,.2f}\",  # Formatear el valor del promedio como moneda\n",
    "        showarrow=False,\n",
    "        font=dict(color='black', size=12),\n",
    "        xshift=0,\n",
    "        yshift=17,\n",
    "        textangle=0\n",
    "    )\n",
    "# Actualizar diseño\n",
    "fig.update_layout(\n",
    "    #title='Plusvalía estimada',   \n",
    "    yaxis=dict(\n",
    "        title=\"Monto\",\n",
    "        gridwidth=1,  # Ancho de las líneas de la cuadrícula\n",
    "        gridcolor='#dddcda', \n",
    "\n",
    "    ),\n",
    "    xaxis=dict(\n",
    "        gridcolor='#dddcda', \n",
    "        tickmode='array',\n",
    "        tickvals=año,\n",
    "        ticktext=año\n",
    "    ),\n",
    "    plot_bgcolor='rgba(0,0,0,0)',\n",
    "        margin=dict(l=10, r=10, t=10, b=10)\n",
    "\n",
    ")\n",
    "# Exportar gráfica como archivo HTML\n",
    "def guardar_grafico_como_html(fig, nombre_archivo, carpeta='graficas'):\n",
    "    # Crear la carpeta si no existe\n",
    "    if not os.path.exists(carpeta):\n",
    "        os.makedirs(carpeta)\n",
    "    \n",
    "    # Gráfica como archivo HTML en la carpeta especificada\n",
    "    pio.write_html(fig, f'{carpeta}/{nombre_archivo}.html')\n",
    "\n",
    "guardar_grafico_como_html(fig, 'g_scatt_plusvaliaestimada', carpeta='graficas')\n",
    "fig.show()"
   ]
  },
  {
   "cell_type": "code",
   "execution_count": 75,
   "metadata": {},
   "outputs": [
    {
     "name": "stdout",
     "output_type": "stream",
     "text": [
      "Estimación de registros en 2024: 9656\n"
     ]
    }
   ],
   "source": [
    "# Valores conocidos\n",
    "registros_2022 = 12163\n",
    "registros_2023 = 10837\n",
    "\n",
    "# Calcula la tasa de cambio porcentual de 2022 a 2023\n",
    "tasa_cambio = (registros_2023 - registros_2022) / registros_2022\n",
    "\n",
    "# Aplica la misma tasa de cambio para estimar 2024 completo\n",
    "estimacion_2024 = registros_2023 * (1 + tasa_cambio)\n",
    "\n",
    "print(\"Estimación de registros en 2024:\", round(estimacion_2024))\n"
   ]
  },
  {
   "cell_type": "code",
   "execution_count": 76,
   "metadata": {},
   "outputs": [
    {
     "name": "stderr",
     "output_type": "stream",
     "text": [
      "c:\\Users\\yoe11\\anaconda3\\envs\\newst\\Lib\\site-packages\\sklearn\\base.py:486: UserWarning:\n",
      "\n",
      "X has feature names, but LinearRegression was fitted without feature names\n",
      "\n"
     ]
    }
   ],
   "source": [
    "from sklearn.model_selection import train_test_split\n",
    "from sklearn.linear_model import LinearRegression\n",
    "from sklearn.preprocessing import MinMaxScaler\n",
    "\n",
    "# Preparar datos para el modelo\n",
    "X = df_promedio[['mes_numero', 'año']]\n",
    "y = df_promedio['promedio']\n",
    "\n",
    "# Normalizar los datos de X\n",
    "scaler = MinMaxScaler()\n",
    "X_scaled = scaler.fit_transform(X)\n",
    "\n",
    "# Dividir los datos escalados en conjuntos de entrenamiento y prueba\n",
    "X_train, X_test, y_train, y_test = train_test_split(X_scaled, y, test_size=0.2, random_state=42)\n",
    "\n",
    "# Inicializar y entrenar el modelo de regresión lineal con datos escalados\n",
    "modelo = LinearRegression()\n",
    "modelo.fit(X_train, y_train)\n",
    "\n",
    "# Crear un DataFrame con todas las combinaciones posibles de año y mes para 2026\n",
    "fechas_2026 = pd.DataFrame({'año': np.repeat(2026, 12),\n",
    "                            'mes_numero': range(1, 13)})\n",
    "\n",
    "# Realizar predicciones con el modelo entrenado\n",
    "predicciones_2026 = modelo.predict(fechas_2026)\n",
    "\n",
    "# Agregar las predicciones al DataFrame de 2026\n",
    "fechas_2026['promedio'] = predicciones_2026\n",
    "total_pachuca = fechas_2026.copy()\n",
    "# Unir el DataFrame de 2026 con el DataFrame total\n",
    "#total_pachuca = pd.concat([df_promedio, fechas_2026], ignore_index=True)\n",
    "\n",
    "# Calcular la mediana de 'promedio' para cada año y mes\n",
    "total_todos_pachuca = total_pachuca.groupby(['año', 'mes_numero'])['promedio'].median().reset_index()\n"
   ]
  },
  {
   "cell_type": "code",
   "execution_count": 77,
   "metadata": {},
   "outputs": [
    {
     "data": {
      "text/html": [
       "<div>\n",
       "<style scoped>\n",
       "    .dataframe tbody tr th:only-of-type {\n",
       "        vertical-align: middle;\n",
       "    }\n",
       "\n",
       "    .dataframe tbody tr th {\n",
       "        vertical-align: top;\n",
       "    }\n",
       "\n",
       "    .dataframe thead th {\n",
       "        text-align: right;\n",
       "    }\n",
       "</style>\n",
       "<table border=\"1\" class=\"dataframe\">\n",
       "  <thead>\n",
       "    <tr style=\"text-align: right;\">\n",
       "      <th></th>\n",
       "      <th>mes</th>\n",
       "      <th>año</th>\n",
       "      <th>value_x</th>\n",
       "      <th>value_y</th>\n",
       "      <th>promedio</th>\n",
       "      <th>label</th>\n",
       "      <th>mes_numero</th>\n",
       "      <th>cambio_porcentual</th>\n",
       "    </tr>\n",
       "  </thead>\n",
       "  <tbody>\n",
       "    <tr>\n",
       "      <th>0</th>\n",
       "      <td>Oct</td>\n",
       "      <td>2023</td>\n",
       "      <td>3080000.0</td>\n",
       "      <td>2590000.0</td>\n",
       "      <td>2.835000e+06</td>\n",
       "      <td>10-2023</td>\n",
       "      <td>10</td>\n",
       "      <td>NaN</td>\n",
       "    </tr>\n",
       "    <tr>\n",
       "      <th>1</th>\n",
       "      <td>Nov</td>\n",
       "      <td>2023</td>\n",
       "      <td>2850000.0</td>\n",
       "      <td>2646000.0</td>\n",
       "      <td>2.748000e+06</td>\n",
       "      <td>11-2023</td>\n",
       "      <td>11</td>\n",
       "      <td>-0.030688</td>\n",
       "    </tr>\n",
       "    <tr>\n",
       "      <th>2</th>\n",
       "      <td>Dic</td>\n",
       "      <td>2023</td>\n",
       "      <td>2850000.0</td>\n",
       "      <td>2646000.0</td>\n",
       "      <td>2.748000e+06</td>\n",
       "      <td>12-2023</td>\n",
       "      <td>12</td>\n",
       "      <td>0.000000</td>\n",
       "    </tr>\n",
       "    <tr>\n",
       "      <th>3</th>\n",
       "      <td>Ene</td>\n",
       "      <td>2024</td>\n",
       "      <td>2800000.0</td>\n",
       "      <td>2646000.0</td>\n",
       "      <td>2.723000e+06</td>\n",
       "      <td>1-2024</td>\n",
       "      <td>1</td>\n",
       "      <td>-0.009098</td>\n",
       "    </tr>\n",
       "    <tr>\n",
       "      <th>4</th>\n",
       "      <td>Feb</td>\n",
       "      <td>2024</td>\n",
       "      <td>3100000.0</td>\n",
       "      <td>2646000.0</td>\n",
       "      <td>2.873000e+06</td>\n",
       "      <td>2-2024</td>\n",
       "      <td>2</td>\n",
       "      <td>0.055086</td>\n",
       "    </tr>\n",
       "    <tr>\n",
       "      <th>5</th>\n",
       "      <td>Mar</td>\n",
       "      <td>2024</td>\n",
       "      <td>2850000.0</td>\n",
       "      <td>2646000.0</td>\n",
       "      <td>2.748000e+06</td>\n",
       "      <td>3-2024</td>\n",
       "      <td>3</td>\n",
       "      <td>-0.043509</td>\n",
       "    </tr>\n",
       "    <tr>\n",
       "      <th>6</th>\n",
       "      <td>Abr</td>\n",
       "      <td>2024</td>\n",
       "      <td>2650000.0</td>\n",
       "      <td>2650000.0</td>\n",
       "      <td>2.650000e+06</td>\n",
       "      <td>4-2024</td>\n",
       "      <td>4</td>\n",
       "      <td>-0.035662</td>\n",
       "    </tr>\n",
       "    <tr>\n",
       "      <th>7</th>\n",
       "      <td>May</td>\n",
       "      <td>2024</td>\n",
       "      <td>2650000.0</td>\n",
       "      <td>2750000.0</td>\n",
       "      <td>2.700000e+06</td>\n",
       "      <td>5-2024</td>\n",
       "      <td>5</td>\n",
       "      <td>0.018868</td>\n",
       "    </tr>\n",
       "    <tr>\n",
       "      <th>8</th>\n",
       "      <td>Jun</td>\n",
       "      <td>2024</td>\n",
       "      <td>2833000.0</td>\n",
       "      <td>2800000.0</td>\n",
       "      <td>2.816500e+06</td>\n",
       "      <td>6-2024</td>\n",
       "      <td>6</td>\n",
       "      <td>0.043148</td>\n",
       "    </tr>\n",
       "    <tr>\n",
       "      <th>9</th>\n",
       "      <td>Jul</td>\n",
       "      <td>2024</td>\n",
       "      <td>3034197.0</td>\n",
       "      <td>2850000.0</td>\n",
       "      <td>2.942098e+06</td>\n",
       "      <td>7-2024</td>\n",
       "      <td>7</td>\n",
       "      <td>0.044594</td>\n",
       "    </tr>\n",
       "    <tr>\n",
       "      <th>10</th>\n",
       "      <td>Ago</td>\n",
       "      <td>2024</td>\n",
       "      <td>3250000.0</td>\n",
       "      <td>2900000.0</td>\n",
       "      <td>3.075000e+06</td>\n",
       "      <td>8-2024</td>\n",
       "      <td>8</td>\n",
       "      <td>0.045172</td>\n",
       "    </tr>\n",
       "    <tr>\n",
       "      <th>11</th>\n",
       "      <td>Sept</td>\n",
       "      <td>2024</td>\n",
       "      <td>3200000.0</td>\n",
       "      <td>2950000.0</td>\n",
       "      <td>3.075000e+06</td>\n",
       "      <td>9-2024</td>\n",
       "      <td>9</td>\n",
       "      <td>0.000000</td>\n",
       "    </tr>\n",
       "    <tr>\n",
       "      <th>12</th>\n",
       "      <td>Oct</td>\n",
       "      <td>2024</td>\n",
       "      <td>3242316.0</td>\n",
       "      <td>2985000.0</td>\n",
       "      <td>3.113658e+06</td>\n",
       "      <td>10-2024</td>\n",
       "      <td>10</td>\n",
       "      <td>0.012572</td>\n",
       "    </tr>\n",
       "    <tr>\n",
       "      <th>13</th>\n",
       "      <td>NaN</td>\n",
       "      <td>2026</td>\n",
       "      <td>NaN</td>\n",
       "      <td>NaN</td>\n",
       "      <td>9.538316e+08</td>\n",
       "      <td>1-2026</td>\n",
       "      <td>1</td>\n",
       "      <td>NaN</td>\n",
       "    </tr>\n",
       "    <tr>\n",
       "      <th>14</th>\n",
       "      <td>NaN</td>\n",
       "      <td>2026</td>\n",
       "      <td>NaN</td>\n",
       "      <td>NaN</td>\n",
       "      <td>9.542037e+08</td>\n",
       "      <td>2-2026</td>\n",
       "      <td>2</td>\n",
       "      <td>NaN</td>\n",
       "    </tr>\n",
       "    <tr>\n",
       "      <th>15</th>\n",
       "      <td>NaN</td>\n",
       "      <td>2026</td>\n",
       "      <td>NaN</td>\n",
       "      <td>NaN</td>\n",
       "      <td>9.545759e+08</td>\n",
       "      <td>3-2026</td>\n",
       "      <td>3</td>\n",
       "      <td>NaN</td>\n",
       "    </tr>\n",
       "    <tr>\n",
       "      <th>16</th>\n",
       "      <td>NaN</td>\n",
       "      <td>2026</td>\n",
       "      <td>NaN</td>\n",
       "      <td>NaN</td>\n",
       "      <td>9.549480e+08</td>\n",
       "      <td>4-2026</td>\n",
       "      <td>4</td>\n",
       "      <td>NaN</td>\n",
       "    </tr>\n",
       "    <tr>\n",
       "      <th>17</th>\n",
       "      <td>NaN</td>\n",
       "      <td>2026</td>\n",
       "      <td>NaN</td>\n",
       "      <td>NaN</td>\n",
       "      <td>9.553202e+08</td>\n",
       "      <td>5-2026</td>\n",
       "      <td>5</td>\n",
       "      <td>NaN</td>\n",
       "    </tr>\n",
       "    <tr>\n",
       "      <th>18</th>\n",
       "      <td>NaN</td>\n",
       "      <td>2026</td>\n",
       "      <td>NaN</td>\n",
       "      <td>NaN</td>\n",
       "      <td>9.556923e+08</td>\n",
       "      <td>6-2026</td>\n",
       "      <td>6</td>\n",
       "      <td>NaN</td>\n",
       "    </tr>\n",
       "    <tr>\n",
       "      <th>19</th>\n",
       "      <td>NaN</td>\n",
       "      <td>2026</td>\n",
       "      <td>NaN</td>\n",
       "      <td>NaN</td>\n",
       "      <td>9.560645e+08</td>\n",
       "      <td>7-2026</td>\n",
       "      <td>7</td>\n",
       "      <td>NaN</td>\n",
       "    </tr>\n",
       "    <tr>\n",
       "      <th>20</th>\n",
       "      <td>NaN</td>\n",
       "      <td>2026</td>\n",
       "      <td>NaN</td>\n",
       "      <td>NaN</td>\n",
       "      <td>9.564366e+08</td>\n",
       "      <td>8-2026</td>\n",
       "      <td>8</td>\n",
       "      <td>NaN</td>\n",
       "    </tr>\n",
       "    <tr>\n",
       "      <th>21</th>\n",
       "      <td>NaN</td>\n",
       "      <td>2026</td>\n",
       "      <td>NaN</td>\n",
       "      <td>NaN</td>\n",
       "      <td>9.568088e+08</td>\n",
       "      <td>9-2026</td>\n",
       "      <td>9</td>\n",
       "      <td>NaN</td>\n",
       "    </tr>\n",
       "    <tr>\n",
       "      <th>22</th>\n",
       "      <td>NaN</td>\n",
       "      <td>2026</td>\n",
       "      <td>NaN</td>\n",
       "      <td>NaN</td>\n",
       "      <td>9.571809e+08</td>\n",
       "      <td>10-2026</td>\n",
       "      <td>10</td>\n",
       "      <td>NaN</td>\n",
       "    </tr>\n",
       "    <tr>\n",
       "      <th>23</th>\n",
       "      <td>NaN</td>\n",
       "      <td>2026</td>\n",
       "      <td>NaN</td>\n",
       "      <td>NaN</td>\n",
       "      <td>9.575531e+08</td>\n",
       "      <td>11-2026</td>\n",
       "      <td>11</td>\n",
       "      <td>NaN</td>\n",
       "    </tr>\n",
       "    <tr>\n",
       "      <th>24</th>\n",
       "      <td>NaN</td>\n",
       "      <td>2026</td>\n",
       "      <td>NaN</td>\n",
       "      <td>NaN</td>\n",
       "      <td>9.579252e+08</td>\n",
       "      <td>12-2026</td>\n",
       "      <td>12</td>\n",
       "      <td>NaN</td>\n",
       "    </tr>\n",
       "  </tbody>\n",
       "</table>\n",
       "</div>"
      ],
      "text/plain": [
       "     mes   año    value_x    value_y      promedio    label  mes_numero  \\\n",
       "0    Oct  2023  3080000.0  2590000.0  2.835000e+06  10-2023          10   \n",
       "1    Nov  2023  2850000.0  2646000.0  2.748000e+06  11-2023          11   \n",
       "2    Dic  2023  2850000.0  2646000.0  2.748000e+06  12-2023          12   \n",
       "3    Ene  2024  2800000.0  2646000.0  2.723000e+06   1-2024           1   \n",
       "4    Feb  2024  3100000.0  2646000.0  2.873000e+06   2-2024           2   \n",
       "5    Mar  2024  2850000.0  2646000.0  2.748000e+06   3-2024           3   \n",
       "6    Abr  2024  2650000.0  2650000.0  2.650000e+06   4-2024           4   \n",
       "7    May  2024  2650000.0  2750000.0  2.700000e+06   5-2024           5   \n",
       "8    Jun  2024  2833000.0  2800000.0  2.816500e+06   6-2024           6   \n",
       "9    Jul  2024  3034197.0  2850000.0  2.942098e+06   7-2024           7   \n",
       "10   Ago  2024  3250000.0  2900000.0  3.075000e+06   8-2024           8   \n",
       "11  Sept  2024  3200000.0  2950000.0  3.075000e+06   9-2024           9   \n",
       "12   Oct  2024  3242316.0  2985000.0  3.113658e+06  10-2024          10   \n",
       "13   NaN  2026        NaN        NaN  9.538316e+08   1-2026           1   \n",
       "14   NaN  2026        NaN        NaN  9.542037e+08   2-2026           2   \n",
       "15   NaN  2026        NaN        NaN  9.545759e+08   3-2026           3   \n",
       "16   NaN  2026        NaN        NaN  9.549480e+08   4-2026           4   \n",
       "17   NaN  2026        NaN        NaN  9.553202e+08   5-2026           5   \n",
       "18   NaN  2026        NaN        NaN  9.556923e+08   6-2026           6   \n",
       "19   NaN  2026        NaN        NaN  9.560645e+08   7-2026           7   \n",
       "20   NaN  2026        NaN        NaN  9.564366e+08   8-2026           8   \n",
       "21   NaN  2026        NaN        NaN  9.568088e+08   9-2026           9   \n",
       "22   NaN  2026        NaN        NaN  9.571809e+08  10-2026          10   \n",
       "23   NaN  2026        NaN        NaN  9.575531e+08  11-2026          11   \n",
       "24   NaN  2026        NaN        NaN  9.579252e+08  12-2026          12   \n",
       "\n",
       "    cambio_porcentual  \n",
       "0                 NaN  \n",
       "1           -0.030688  \n",
       "2            0.000000  \n",
       "3           -0.009098  \n",
       "4            0.055086  \n",
       "5           -0.043509  \n",
       "6           -0.035662  \n",
       "7            0.018868  \n",
       "8            0.043148  \n",
       "9            0.044594  \n",
       "10           0.045172  \n",
       "11           0.000000  \n",
       "12           0.012572  \n",
       "13                NaN  \n",
       "14                NaN  \n",
       "15                NaN  \n",
       "16                NaN  \n",
       "17                NaN  \n",
       "18                NaN  \n",
       "19                NaN  \n",
       "20                NaN  \n",
       "21                NaN  \n",
       "22                NaN  \n",
       "23                NaN  \n",
       "24                NaN  "
      ]
     },
     "execution_count": 77,
     "metadata": {},
     "output_type": "execute_result"
    }
   ],
   "source": [
    "totales = pd.concat([df_promedio, total_todos_pachuca], ignore_index=True)\n",
    "totales['label'] = totales['mes_numero'].astype(str) + '-' + totales['año'].astype(str)\n",
    "\n",
    "totales"
   ]
  },
  {
   "cell_type": "code",
   "execution_count": 78,
   "metadata": {},
   "outputs": [
    {
     "data": {
      "application/vnd.plotly.v1+json": {
       "config": {
        "plotlyServerURL": "https://plot.ly"
       },
       "data": [
        {
         "marker": {
          "color": "blue"
         },
         "mode": "markers+lines",
         "type": "scatter",
         "x": [
          "10-2023",
          "11-2023",
          "12-2023",
          "1-2024",
          "2-2024",
          "3-2024",
          "4-2024",
          "5-2024",
          "6-2024",
          "7-2024",
          "8-2024",
          "9-2024",
          "10-2024",
          "1-2026",
          "2-2026",
          "3-2026",
          "4-2026",
          "5-2026",
          "6-2026",
          "7-2026",
          "8-2026",
          "9-2026",
          "10-2026",
          "11-2026",
          "12-2026"
         ],
         "y": [
          2835000,
          2748000,
          2748000,
          2723000,
          2873000,
          2748000,
          2650000,
          2700000,
          2816500,
          2942098.5,
          3075000,
          3075000,
          3113658,
          953831587.8298277,
          954203735.5277245,
          954575883.2256212,
          954948030.923518,
          955320178.6214147,
          955692326.3193115,
          956064474.0172082,
          956436621.7151049,
          956808769.4130017,
          957180917.1108985,
          957553064.8087952,
          957925212.5066919
         ]
        }
       ],
       "layout": {
        "annotations": [
         {
          "font": {
           "color": "black",
           "size": 12
          },
          "showarrow": false,
          "text": "$2,835,000.00",
          "textangle": 0,
          "x": "10-2023",
          "xshift": 0,
          "y": 2835000,
          "yshift": 17
         },
         {
          "font": {
           "color": "black",
           "size": 12
          },
          "showarrow": false,
          "text": "$2,748,000.00",
          "textangle": 0,
          "x": "11-2023",
          "xshift": 0,
          "y": 2748000,
          "yshift": 17
         },
         {
          "font": {
           "color": "black",
           "size": 12
          },
          "showarrow": false,
          "text": "$2,748,000.00",
          "textangle": 0,
          "x": "12-2023",
          "xshift": 0,
          "y": 2748000,
          "yshift": 17
         },
         {
          "font": {
           "color": "black",
           "size": 12
          },
          "showarrow": false,
          "text": "$2,723,000.00",
          "textangle": 0,
          "x": "1-2024",
          "xshift": 0,
          "y": 2723000,
          "yshift": 17
         },
         {
          "font": {
           "color": "black",
           "size": 12
          },
          "showarrow": false,
          "text": "$2,873,000.00",
          "textangle": 0,
          "x": "2-2024",
          "xshift": 0,
          "y": 2873000,
          "yshift": 17
         },
         {
          "font": {
           "color": "black",
           "size": 12
          },
          "showarrow": false,
          "text": "$2,748,000.00",
          "textangle": 0,
          "x": "3-2024",
          "xshift": 0,
          "y": 2748000,
          "yshift": 17
         },
         {
          "font": {
           "color": "black",
           "size": 12
          },
          "showarrow": false,
          "text": "$2,650,000.00",
          "textangle": 0,
          "x": "4-2024",
          "xshift": 0,
          "y": 2650000,
          "yshift": 17
         },
         {
          "font": {
           "color": "black",
           "size": 12
          },
          "showarrow": false,
          "text": "$2,700,000.00",
          "textangle": 0,
          "x": "5-2024",
          "xshift": 0,
          "y": 2700000,
          "yshift": 17
         },
         {
          "font": {
           "color": "black",
           "size": 12
          },
          "showarrow": false,
          "text": "$2,816,500.00",
          "textangle": 0,
          "x": "6-2024",
          "xshift": 0,
          "y": 2816500,
          "yshift": 17
         },
         {
          "font": {
           "color": "black",
           "size": 12
          },
          "showarrow": false,
          "text": "$2,942,098.50",
          "textangle": 0,
          "x": "7-2024",
          "xshift": 0,
          "y": 2942098.5,
          "yshift": 17
         },
         {
          "font": {
           "color": "black",
           "size": 12
          },
          "showarrow": false,
          "text": "$3,075,000.00",
          "textangle": 0,
          "x": "8-2024",
          "xshift": 0,
          "y": 3075000,
          "yshift": 17
         },
         {
          "font": {
           "color": "black",
           "size": 12
          },
          "showarrow": false,
          "text": "$3,075,000.00",
          "textangle": 0,
          "x": "9-2024",
          "xshift": 0,
          "y": 3075000,
          "yshift": 17
         },
         {
          "font": {
           "color": "black",
           "size": 12
          },
          "showarrow": false,
          "text": "$3,113,658.00",
          "textangle": 0,
          "x": "10-2024",
          "xshift": 0,
          "y": 3113658,
          "yshift": 17
         },
         {
          "font": {
           "color": "black",
           "size": 12
          },
          "showarrow": false,
          "text": "$953,831,587.83",
          "textangle": 0,
          "x": "1-2026",
          "xshift": 0,
          "y": 953831587.8298277,
          "yshift": 17
         },
         {
          "font": {
           "color": "black",
           "size": 12
          },
          "showarrow": false,
          "text": "$954,203,735.53",
          "textangle": 0,
          "x": "2-2026",
          "xshift": 0,
          "y": 954203735.5277245,
          "yshift": 17
         },
         {
          "font": {
           "color": "black",
           "size": 12
          },
          "showarrow": false,
          "text": "$954,575,883.23",
          "textangle": 0,
          "x": "3-2026",
          "xshift": 0,
          "y": 954575883.2256212,
          "yshift": 17
         },
         {
          "font": {
           "color": "black",
           "size": 12
          },
          "showarrow": false,
          "text": "$954,948,030.92",
          "textangle": 0,
          "x": "4-2026",
          "xshift": 0,
          "y": 954948030.923518,
          "yshift": 17
         },
         {
          "font": {
           "color": "black",
           "size": 12
          },
          "showarrow": false,
          "text": "$955,320,178.62",
          "textangle": 0,
          "x": "5-2026",
          "xshift": 0,
          "y": 955320178.6214147,
          "yshift": 17
         },
         {
          "font": {
           "color": "black",
           "size": 12
          },
          "showarrow": false,
          "text": "$955,692,326.32",
          "textangle": 0,
          "x": "6-2026",
          "xshift": 0,
          "y": 955692326.3193115,
          "yshift": 17
         },
         {
          "font": {
           "color": "black",
           "size": 12
          },
          "showarrow": false,
          "text": "$956,064,474.02",
          "textangle": 0,
          "x": "7-2026",
          "xshift": 0,
          "y": 956064474.0172082,
          "yshift": 17
         },
         {
          "font": {
           "color": "black",
           "size": 12
          },
          "showarrow": false,
          "text": "$956,436,621.72",
          "textangle": 0,
          "x": "8-2026",
          "xshift": 0,
          "y": 956436621.7151049,
          "yshift": 17
         },
         {
          "font": {
           "color": "black",
           "size": 12
          },
          "showarrow": false,
          "text": "$956,808,769.41",
          "textangle": 0,
          "x": "9-2026",
          "xshift": 0,
          "y": 956808769.4130017,
          "yshift": 17
         },
         {
          "font": {
           "color": "black",
           "size": 12
          },
          "showarrow": false,
          "text": "$957,180,917.11",
          "textangle": 0,
          "x": "10-2026",
          "xshift": 0,
          "y": 957180917.1108985,
          "yshift": 17
         },
         {
          "font": {
           "color": "black",
           "size": 12
          },
          "showarrow": false,
          "text": "$957,553,064.81",
          "textangle": 0,
          "x": "11-2026",
          "xshift": 0,
          "y": 957553064.8087952,
          "yshift": 17
         },
         {
          "font": {
           "color": "black",
           "size": 12
          },
          "showarrow": false,
          "text": "$957,925,212.51",
          "textangle": 0,
          "x": "12-2026",
          "xshift": 0,
          "y": 957925212.5066919,
          "yshift": 17
         }
        ],
        "margin": {
         "b": 10,
         "l": 10,
         "r": 10,
         "t": 10
        },
        "plot_bgcolor": "rgba(0,0,0,0)",
        "template": {
         "data": {
          "bar": [
           {
            "error_x": {
             "color": "#2a3f5f"
            },
            "error_y": {
             "color": "#2a3f5f"
            },
            "marker": {
             "line": {
              "color": "#E5ECF6",
              "width": 0.5
             },
             "pattern": {
              "fillmode": "overlay",
              "size": 10,
              "solidity": 0.2
             }
            },
            "type": "bar"
           }
          ],
          "barpolar": [
           {
            "marker": {
             "line": {
              "color": "#E5ECF6",
              "width": 0.5
             },
             "pattern": {
              "fillmode": "overlay",
              "size": 10,
              "solidity": 0.2
             }
            },
            "type": "barpolar"
           }
          ],
          "carpet": [
           {
            "aaxis": {
             "endlinecolor": "#2a3f5f",
             "gridcolor": "white",
             "linecolor": "white",
             "minorgridcolor": "white",
             "startlinecolor": "#2a3f5f"
            },
            "baxis": {
             "endlinecolor": "#2a3f5f",
             "gridcolor": "white",
             "linecolor": "white",
             "minorgridcolor": "white",
             "startlinecolor": "#2a3f5f"
            },
            "type": "carpet"
           }
          ],
          "choropleth": [
           {
            "colorbar": {
             "outlinewidth": 0,
             "ticks": ""
            },
            "type": "choropleth"
           }
          ],
          "contour": [
           {
            "colorbar": {
             "outlinewidth": 0,
             "ticks": ""
            },
            "colorscale": [
             [
              0,
              "#0d0887"
             ],
             [
              0.1111111111111111,
              "#46039f"
             ],
             [
              0.2222222222222222,
              "#7201a8"
             ],
             [
              0.3333333333333333,
              "#9c179e"
             ],
             [
              0.4444444444444444,
              "#bd3786"
             ],
             [
              0.5555555555555556,
              "#d8576b"
             ],
             [
              0.6666666666666666,
              "#ed7953"
             ],
             [
              0.7777777777777778,
              "#fb9f3a"
             ],
             [
              0.8888888888888888,
              "#fdca26"
             ],
             [
              1,
              "#f0f921"
             ]
            ],
            "type": "contour"
           }
          ],
          "contourcarpet": [
           {
            "colorbar": {
             "outlinewidth": 0,
             "ticks": ""
            },
            "type": "contourcarpet"
           }
          ],
          "heatmap": [
           {
            "colorbar": {
             "outlinewidth": 0,
             "ticks": ""
            },
            "colorscale": [
             [
              0,
              "#0d0887"
             ],
             [
              0.1111111111111111,
              "#46039f"
             ],
             [
              0.2222222222222222,
              "#7201a8"
             ],
             [
              0.3333333333333333,
              "#9c179e"
             ],
             [
              0.4444444444444444,
              "#bd3786"
             ],
             [
              0.5555555555555556,
              "#d8576b"
             ],
             [
              0.6666666666666666,
              "#ed7953"
             ],
             [
              0.7777777777777778,
              "#fb9f3a"
             ],
             [
              0.8888888888888888,
              "#fdca26"
             ],
             [
              1,
              "#f0f921"
             ]
            ],
            "type": "heatmap"
           }
          ],
          "heatmapgl": [
           {
            "colorbar": {
             "outlinewidth": 0,
             "ticks": ""
            },
            "colorscale": [
             [
              0,
              "#0d0887"
             ],
             [
              0.1111111111111111,
              "#46039f"
             ],
             [
              0.2222222222222222,
              "#7201a8"
             ],
             [
              0.3333333333333333,
              "#9c179e"
             ],
             [
              0.4444444444444444,
              "#bd3786"
             ],
             [
              0.5555555555555556,
              "#d8576b"
             ],
             [
              0.6666666666666666,
              "#ed7953"
             ],
             [
              0.7777777777777778,
              "#fb9f3a"
             ],
             [
              0.8888888888888888,
              "#fdca26"
             ],
             [
              1,
              "#f0f921"
             ]
            ],
            "type": "heatmapgl"
           }
          ],
          "histogram": [
           {
            "marker": {
             "pattern": {
              "fillmode": "overlay",
              "size": 10,
              "solidity": 0.2
             }
            },
            "type": "histogram"
           }
          ],
          "histogram2d": [
           {
            "colorbar": {
             "outlinewidth": 0,
             "ticks": ""
            },
            "colorscale": [
             [
              0,
              "#0d0887"
             ],
             [
              0.1111111111111111,
              "#46039f"
             ],
             [
              0.2222222222222222,
              "#7201a8"
             ],
             [
              0.3333333333333333,
              "#9c179e"
             ],
             [
              0.4444444444444444,
              "#bd3786"
             ],
             [
              0.5555555555555556,
              "#d8576b"
             ],
             [
              0.6666666666666666,
              "#ed7953"
             ],
             [
              0.7777777777777778,
              "#fb9f3a"
             ],
             [
              0.8888888888888888,
              "#fdca26"
             ],
             [
              1,
              "#f0f921"
             ]
            ],
            "type": "histogram2d"
           }
          ],
          "histogram2dcontour": [
           {
            "colorbar": {
             "outlinewidth": 0,
             "ticks": ""
            },
            "colorscale": [
             [
              0,
              "#0d0887"
             ],
             [
              0.1111111111111111,
              "#46039f"
             ],
             [
              0.2222222222222222,
              "#7201a8"
             ],
             [
              0.3333333333333333,
              "#9c179e"
             ],
             [
              0.4444444444444444,
              "#bd3786"
             ],
             [
              0.5555555555555556,
              "#d8576b"
             ],
             [
              0.6666666666666666,
              "#ed7953"
             ],
             [
              0.7777777777777778,
              "#fb9f3a"
             ],
             [
              0.8888888888888888,
              "#fdca26"
             ],
             [
              1,
              "#f0f921"
             ]
            ],
            "type": "histogram2dcontour"
           }
          ],
          "mesh3d": [
           {
            "colorbar": {
             "outlinewidth": 0,
             "ticks": ""
            },
            "type": "mesh3d"
           }
          ],
          "parcoords": [
           {
            "line": {
             "colorbar": {
              "outlinewidth": 0,
              "ticks": ""
             }
            },
            "type": "parcoords"
           }
          ],
          "pie": [
           {
            "automargin": true,
            "type": "pie"
           }
          ],
          "scatter": [
           {
            "fillpattern": {
             "fillmode": "overlay",
             "size": 10,
             "solidity": 0.2
            },
            "type": "scatter"
           }
          ],
          "scatter3d": [
           {
            "line": {
             "colorbar": {
              "outlinewidth": 0,
              "ticks": ""
             }
            },
            "marker": {
             "colorbar": {
              "outlinewidth": 0,
              "ticks": ""
             }
            },
            "type": "scatter3d"
           }
          ],
          "scattercarpet": [
           {
            "marker": {
             "colorbar": {
              "outlinewidth": 0,
              "ticks": ""
             }
            },
            "type": "scattercarpet"
           }
          ],
          "scattergeo": [
           {
            "marker": {
             "colorbar": {
              "outlinewidth": 0,
              "ticks": ""
             }
            },
            "type": "scattergeo"
           }
          ],
          "scattergl": [
           {
            "marker": {
             "colorbar": {
              "outlinewidth": 0,
              "ticks": ""
             }
            },
            "type": "scattergl"
           }
          ],
          "scattermapbox": [
           {
            "marker": {
             "colorbar": {
              "outlinewidth": 0,
              "ticks": ""
             }
            },
            "type": "scattermapbox"
           }
          ],
          "scatterpolar": [
           {
            "marker": {
             "colorbar": {
              "outlinewidth": 0,
              "ticks": ""
             }
            },
            "type": "scatterpolar"
           }
          ],
          "scatterpolargl": [
           {
            "marker": {
             "colorbar": {
              "outlinewidth": 0,
              "ticks": ""
             }
            },
            "type": "scatterpolargl"
           }
          ],
          "scatterternary": [
           {
            "marker": {
             "colorbar": {
              "outlinewidth": 0,
              "ticks": ""
             }
            },
            "type": "scatterternary"
           }
          ],
          "surface": [
           {
            "colorbar": {
             "outlinewidth": 0,
             "ticks": ""
            },
            "colorscale": [
             [
              0,
              "#0d0887"
             ],
             [
              0.1111111111111111,
              "#46039f"
             ],
             [
              0.2222222222222222,
              "#7201a8"
             ],
             [
              0.3333333333333333,
              "#9c179e"
             ],
             [
              0.4444444444444444,
              "#bd3786"
             ],
             [
              0.5555555555555556,
              "#d8576b"
             ],
             [
              0.6666666666666666,
              "#ed7953"
             ],
             [
              0.7777777777777778,
              "#fb9f3a"
             ],
             [
              0.8888888888888888,
              "#fdca26"
             ],
             [
              1,
              "#f0f921"
             ]
            ],
            "type": "surface"
           }
          ],
          "table": [
           {
            "cells": {
             "fill": {
              "color": "#EBF0F8"
             },
             "line": {
              "color": "white"
             }
            },
            "header": {
             "fill": {
              "color": "#C8D4E3"
             },
             "line": {
              "color": "white"
             }
            },
            "type": "table"
           }
          ]
         },
         "layout": {
          "annotationdefaults": {
           "arrowcolor": "#2a3f5f",
           "arrowhead": 0,
           "arrowwidth": 1
          },
          "autotypenumbers": "strict",
          "coloraxis": {
           "colorbar": {
            "outlinewidth": 0,
            "ticks": ""
           }
          },
          "colorscale": {
           "diverging": [
            [
             0,
             "#8e0152"
            ],
            [
             0.1,
             "#c51b7d"
            ],
            [
             0.2,
             "#de77ae"
            ],
            [
             0.3,
             "#f1b6da"
            ],
            [
             0.4,
             "#fde0ef"
            ],
            [
             0.5,
             "#f7f7f7"
            ],
            [
             0.6,
             "#e6f5d0"
            ],
            [
             0.7,
             "#b8e186"
            ],
            [
             0.8,
             "#7fbc41"
            ],
            [
             0.9,
             "#4d9221"
            ],
            [
             1,
             "#276419"
            ]
           ],
           "sequential": [
            [
             0,
             "#0d0887"
            ],
            [
             0.1111111111111111,
             "#46039f"
            ],
            [
             0.2222222222222222,
             "#7201a8"
            ],
            [
             0.3333333333333333,
             "#9c179e"
            ],
            [
             0.4444444444444444,
             "#bd3786"
            ],
            [
             0.5555555555555556,
             "#d8576b"
            ],
            [
             0.6666666666666666,
             "#ed7953"
            ],
            [
             0.7777777777777778,
             "#fb9f3a"
            ],
            [
             0.8888888888888888,
             "#fdca26"
            ],
            [
             1,
             "#f0f921"
            ]
           ],
           "sequentialminus": [
            [
             0,
             "#0d0887"
            ],
            [
             0.1111111111111111,
             "#46039f"
            ],
            [
             0.2222222222222222,
             "#7201a8"
            ],
            [
             0.3333333333333333,
             "#9c179e"
            ],
            [
             0.4444444444444444,
             "#bd3786"
            ],
            [
             0.5555555555555556,
             "#d8576b"
            ],
            [
             0.6666666666666666,
             "#ed7953"
            ],
            [
             0.7777777777777778,
             "#fb9f3a"
            ],
            [
             0.8888888888888888,
             "#fdca26"
            ],
            [
             1,
             "#f0f921"
            ]
           ]
          },
          "colorway": [
           "#636efa",
           "#EF553B",
           "#00cc96",
           "#ab63fa",
           "#FFA15A",
           "#19d3f3",
           "#FF6692",
           "#B6E880",
           "#FF97FF",
           "#FECB52"
          ],
          "font": {
           "color": "#2a3f5f"
          },
          "geo": {
           "bgcolor": "white",
           "lakecolor": "white",
           "landcolor": "#E5ECF6",
           "showlakes": true,
           "showland": true,
           "subunitcolor": "white"
          },
          "hoverlabel": {
           "align": "left"
          },
          "hovermode": "closest",
          "mapbox": {
           "style": "light"
          },
          "paper_bgcolor": "white",
          "plot_bgcolor": "#E5ECF6",
          "polar": {
           "angularaxis": {
            "gridcolor": "white",
            "linecolor": "white",
            "ticks": ""
           },
           "bgcolor": "#E5ECF6",
           "radialaxis": {
            "gridcolor": "white",
            "linecolor": "white",
            "ticks": ""
           }
          },
          "scene": {
           "xaxis": {
            "backgroundcolor": "#E5ECF6",
            "gridcolor": "white",
            "gridwidth": 2,
            "linecolor": "white",
            "showbackground": true,
            "ticks": "",
            "zerolinecolor": "white"
           },
           "yaxis": {
            "backgroundcolor": "#E5ECF6",
            "gridcolor": "white",
            "gridwidth": 2,
            "linecolor": "white",
            "showbackground": true,
            "ticks": "",
            "zerolinecolor": "white"
           },
           "zaxis": {
            "backgroundcolor": "#E5ECF6",
            "gridcolor": "white",
            "gridwidth": 2,
            "linecolor": "white",
            "showbackground": true,
            "ticks": "",
            "zerolinecolor": "white"
           }
          },
          "shapedefaults": {
           "line": {
            "color": "#2a3f5f"
           }
          },
          "ternary": {
           "aaxis": {
            "gridcolor": "white",
            "linecolor": "white",
            "ticks": ""
           },
           "baxis": {
            "gridcolor": "white",
            "linecolor": "white",
            "ticks": ""
           },
           "bgcolor": "#E5ECF6",
           "caxis": {
            "gridcolor": "white",
            "linecolor": "white",
            "ticks": ""
           }
          },
          "title": {
           "x": 0.05
          },
          "xaxis": {
           "automargin": true,
           "gridcolor": "white",
           "linecolor": "white",
           "ticks": "",
           "title": {
            "standoff": 15
           },
           "zerolinecolor": "white",
           "zerolinewidth": 2
          },
          "yaxis": {
           "automargin": true,
           "gridcolor": "white",
           "linecolor": "white",
           "ticks": "",
           "title": {
            "standoff": 15
           },
           "zerolinecolor": "white",
           "zerolinewidth": 2
          }
         }
        },
        "xaxis": {
         "gridcolor": "#dddcda",
         "tickmode": "array",
         "ticktext": [
          "10-2023",
          "11-2023",
          "12-2023",
          "1-2024",
          "2-2024",
          "3-2024",
          "4-2024",
          "5-2024",
          "6-2024",
          "7-2024",
          "8-2024",
          "9-2024",
          "10-2024",
          "1-2026",
          "2-2026",
          "3-2026",
          "4-2026",
          "5-2026",
          "6-2026",
          "7-2026",
          "8-2026",
          "9-2026",
          "10-2026",
          "11-2026",
          "12-2026"
         ],
         "tickvals": [
          "10-2023",
          "11-2023",
          "12-2023",
          "1-2024",
          "2-2024",
          "3-2024",
          "4-2024",
          "5-2024",
          "6-2024",
          "7-2024",
          "8-2024",
          "9-2024",
          "10-2024",
          "1-2026",
          "2-2026",
          "3-2026",
          "4-2026",
          "5-2026",
          "6-2026",
          "7-2026",
          "8-2026",
          "9-2026",
          "10-2026",
          "11-2026",
          "12-2026"
         ]
        },
        "yaxis": {
         "gridcolor": "#dddcda",
         "gridwidth": 1,
         "title": {
          "text": "Monto"
         }
        }
       }
      }
     },
     "metadata": {},
     "output_type": "display_data"
    }
   ],
   "source": [
    "# Datos\n",
    "año = totales['label']\n",
    "promedio = totales['promedio']\n",
    "\n",
    "fig = go.Figure()\n",
    "fig.add_trace(go.Scatter(\n",
    "    x=año,\n",
    "    y=promedio,\n",
    "    mode='markers+lines',\n",
    "    marker=dict(color='blue'),\n",
    "))\n",
    "# Agregar anotaciones para mostrar los valores encima de los puntos\n",
    "for a, p in zip(año, promedio):\n",
    "    fig.add_annotation(\n",
    "        x=a,\n",
    "        y=p,\n",
    "        text=f\"${p:,.2f}\",  # Formatear el valor del promedio como moneda\n",
    "        showarrow=False,\n",
    "        font=dict(color='black', size=12),\n",
    "        xshift=0,\n",
    "        yshift=17,\n",
    "        textangle=0\n",
    "    )\n",
    "# Actualizar diseño\n",
    "fig.update_layout(\n",
    "    #title='Plusvalía estimada',   \n",
    "    yaxis=dict(\n",
    "        title=\"Monto\",\n",
    "        gridwidth=1,  # Ancho de las líneas de la cuadrícula\n",
    "        gridcolor='#dddcda', \n",
    "\n",
    "    ),\n",
    "    xaxis=dict(\n",
    "        gridcolor='#dddcda', \n",
    "        tickmode='array',\n",
    "        tickvals=año,\n",
    "        ticktext=año\n",
    "    ),\n",
    "    plot_bgcolor='rgba(0,0,0,0)',\n",
    "        margin=dict(l=10, r=10, t=10, b=10)\n",
    ")\n",
    "fig.show()"
   ]
  },
  {
   "cell_type": "code",
   "execution_count": null,
   "metadata": {},
   "outputs": [],
   "source": []
  }
 ],
 "metadata": {
  "kernelspec": {
   "display_name": "newst",
   "language": "python",
   "name": "python3"
  },
  "language_info": {
   "codemirror_mode": {
    "name": "ipython",
    "version": 3
   },
   "file_extension": ".py",
   "mimetype": "text/x-python",
   "name": "python",
   "nbconvert_exporter": "python",
   "pygments_lexer": "ipython3",
   "version": "3.12.7"
  }
 },
 "nbformat": 4,
 "nbformat_minor": 2
}
