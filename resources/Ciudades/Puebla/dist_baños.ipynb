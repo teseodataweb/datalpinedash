{
 "cells": [
  {
   "cell_type": "markdown",
   "metadata": {},
   "source": [
    "# ***Distribución BAÑOS***"
   ]
  },
  {
   "cell_type": "code",
   "execution_count": 1,
   "metadata": {},
   "outputs": [
    {
     "ename": "ImportError",
     "evalue": "DLL load failed while importing _multiarray_umath: No se puede encontrar el módulo especificado.",
     "output_type": "error",
     "traceback": [
      "\u001b[1;31m---------------------------------------------------------------------------\u001b[0m",
      "\u001b[1;31mImportError\u001b[0m                               Traceback (most recent call last)",
      "\u001b[1;31mImportError\u001b[0m: DLL load failed while importing _multiarray_umath: No se puede encontrar el módulo especificado."
     ]
    },
    {
     "name": "stdout",
     "output_type": "stream",
     "text": [
      "Lista de DataFrames filtrados:\n"
     ]
    },
    {
     "data": {
      "text/plain": [
       "['df_alfa_agosto_2024_puebla',\n",
       " 'df_alfa_febrero_2024_puebla',\n",
       " 'df_alfa_julio_2024_puebla',\n",
       " 'df_alfa_junio_2024_puebla',\n",
       " 'df_alfa_septiembre_2024_puebla',\n",
       " 'df_jul_2023_puebla',\n",
       " 'df_mar_2024_puebla',\n",
       " 'df_may_2024_puebla',\n",
       " 'df_sep_2023_puebla']"
      ]
     },
     "execution_count": 1,
     "metadata": {},
     "output_type": "execute_result"
    }
   ],
   "source": [
    "# Manejo de datos\n",
    "import os # Directorios\n",
    "import pandas as pd # Manipulación df\n",
    "# Gráficas\n",
    "import plotly.graph_objects as go #Para obtener librería usar: pip install plotly\n",
    "from plotly.subplots import make_subplots\n",
    "import plotly.io as pio # Exportar gráfica\n",
    "\n",
    "# Obtener el directorio actual de trabajo\n",
    "directorio_actual = os.getcwd()\n",
    "\n",
    "# Directorio donde se encuentran los archivos JSON (ruta relativa)\n",
    "directorio_json = os.path.join(directorio_actual, '../../db/datos_json')\n",
    "\n",
    "# Obtener la lista de archivos JSON en el directorio\n",
    "archivos_json = os.listdir(directorio_json)\n",
    "\n",
    "# Cargar los archivos JSON y crear DataFrames\n",
    "for archivo in archivos_json:\n",
    "    nombre_tabla = archivo.replace('datos_', '').replace('.json', '')\n",
    "    ruta_json = os.path.join(directorio_json, archivo)\n",
    "    globals()[f\"df_{nombre_tabla}\"] = pd.read_json(ruta_json)\n",
    "\n",
    "# Obtener todos los nombres de las variables globales\n",
    "nombres_variables_globales = list(globals().keys())\n",
    "\n",
    "# Filtrar los nombres que comienzan con \"df_\", contienen \"alfa_q\" y \"pachuca\"\n",
    "nombres_df_filtrados = [\n",
    "    nombre for nombre in nombres_variables_globales \n",
    "    # Caso de cuando no son las alfa q\n",
    "    if nombre.startswith(\"df_\")  and \"puebla\" in nombre and 'df_alfa_q_puebla' not in nombre and 'financiamientos' not in nombre and 'grupos' not in nombre and 'salarios' not in nombre and 'publicacion' not in nombre and 'df_feb_2024_puebla' not in nombre    #if nombre.startswith('df_') and 'alfa' in nombre and'puebla' in nombre and 'q' not in nombre\n",
    "]\n",
    "# Imprimir la lista de DataFrames filtrados\n",
    "print(\"Lista de DataFrames filtrados:\")\n",
    "nombres_df_filtrados"
   ]
  },
  {
   "cell_type": "code",
   "execution_count": 3,
   "metadata": {},
   "outputs": [
    {
     "data": {
      "text/plain": [
       "Index(['id', 'Categoria', 'Precio', 'propiedad', 'metros_total',\n",
       "       'metros_construido', 'precio_m2_terreno', 'precio_m2_construido',\n",
       "       'tiempo_de_publicacion', 'Estado', 'Tipo', 'Estacionamientos',\n",
       "       'Recamaras', 'Banos', 'Medio_banos', 'Banos_Total', 'Seguridad',\n",
       "       'Colonia', 'CP', 'url'],\n",
       "      dtype='object')"
      ]
     },
     "execution_count": 3,
     "metadata": {},
     "output_type": "execute_result"
    }
   ],
   "source": [
    "df_alfa_agosto_2024_puebla.columns"
   ]
  },
  {
   "cell_type": "code",
   "execution_count": 2,
   "metadata": {},
   "outputs": [
    {
     "name": "stdout",
     "output_type": "stream",
     "text": [
      "Columnas renombradas en los DataFrames filtrados.\n"
     ]
    }
   ],
   "source": [
    "# Iterar sobre cada DataFrame en la lista filtrada\n",
    "for nombre_df in nombres_df_filtrados:\n",
    "    # Obtener el DataFrame usando globals()\n",
    "    df = globals()[nombre_df]\n",
    "    \n",
    "    df.rename(columns={'Categoria':'categoria','Banos_Total':'baño_total','id_jul_23':'id','m2_contruido': 'm2_construido','m_construido': 'm2_construido','Metros_construido':'m2_construido','segmento':'categoria','Category':'categoria','m_total':'m2_total','m_construido':'m2_construido','Precio':'precio',}, inplace=True)\n",
    "        # Asignar el DataFrame modificado de nuevo a la variable global\n",
    "    globals()[nombre_df] = df \n",
    "\n",
    "# Imprimir confirmación\n",
    "print(\"Columnas renombradas en los DataFrames filtrados.\")\n"
   ]
  },
  {
   "cell_type": "code",
   "execution_count": 3,
   "metadata": {},
   "outputs": [],
   "source": [
    "# Crear una lista de DataFrames seleccionados con las columnas específicas\n",
    "dataframes_list = []\n",
    "for nombre_df in nombres_df_filtrados:\n",
    "    # Seleccionar las columnas 'id' y 'categoria'\n",
    "    segment_df = globals()[nombre_df][['id','categoria','baño_total','precio']]\n",
    "    # Añadir el DataFrame a la lista\n",
    "    dataframes_list.append(segment_df)"
   ]
  },
  {
   "cell_type": "markdown",
   "metadata": {},
   "source": [
    "## Total de baños"
   ]
  },
  {
   "cell_type": "code",
   "execution_count": 4,
   "metadata": {},
   "outputs": [],
   "source": [
    "rangos_precio = {\n",
    "    \"E1\": (0, 500000),\n",
    "    \"E2\": (500000, 750000),\n",
    "    \"E3\": (750001, 1000000),\n",
    "    \"D1\": (1000001, 1250000),\n",
    "    \"D2\": (1250001, 1500000),\n",
    "    \"D3\": (1500001, 1750000),\n",
    "    \"C1\": (1750001, 2000000),\n",
    "    \"C2\": (2000001, 2250000),\n",
    "    \"C3\": (2250001, 2500000),\n",
    "    \"B1\": (2500001, 2750000),  \n",
    "    \"B2\": (2750001, 3000000),  \n",
    "    \"B3\": (3000001, 3250000),  \n",
    "    \"A1\": (3250001, 3500000),\n",
    "    \"A2\": (3500001, 3750000),\n",
    "    \"A3\": (3750001, 4000000),\n",
    "    \"S1\": (4000001, 6000000),\n",
    "    \"S2\": (6000001, 8000000),\n",
    "    \"S3\": (8000001, 12000000),\n",
    "    \"L1\": (12000001, 14000000),\n",
    "    \"L2\": (14000001, 16000000),\n",
    "    \"L3\": (16000001, 18000000),\n",
    "    \"L+\": (18000001, 22000000),\n",
    "    \"ELITE\": (22000001, float('inf'))\n",
    "}\n",
    "\n",
    "# Función para asignar la categoría según el precio\n",
    "def asignar_categoria(precio):\n",
    "    for categoria, (limite_inferior, limite_superior) in rangos_precio.items():\n",
    "        if limite_inferior <= precio < limite_superior:\n",
    "            return categoria\n",
    "    return None  # En caso de que el precio no caiga en ningún rango (caso raro)"
   ]
  },
  {
   "cell_type": "code",
   "execution_count": 5,
   "metadata": {},
   "outputs": [
    {
     "name": "stdout",
     "output_type": "stream",
     "text": [
      "[ 1.   2.   1.5  3.5  4.   2.5  3.   4.5 31.5 21.   5.5  5.   6.  10.\n",
      "  9.   7.   8.   6.5  7.5 70.  13.  12.   8.5 17.  12.5]\n",
      "[ 1  2  3  5  4 21  6  7  9 10  8 13 70]\n",
      "[ 1.   2.   1.5  3.5  4.   2.5 11.   3.   4.5 31.5 21.   5.5  5.   6.\n",
      " 10.   9.   7.   8.   6.5  7.5 70.  13.  12.   8.5 17.  12.5]\n",
      "[ 2.   1.   3.  11.   4.  21.   5.   1.5  2.5  6.   7.   9.  10.   3.5\n",
      " 31.   8.  70.  13.  41.   5.5 17.   7.5]\n",
      "[1.  1.5 2.  4.  2.5 3.5 3.  4.5 5.  6.  5.5 7.  8.  6.5 7.5]\n",
      "[ 3  4  6  5  1  0  2  9  8  7 70 10 15]\n",
      "[1.  2.  5.  3.  4.  2.5 6.  8.  7. ]\n",
      "[ 1  2  3  5  4 21  7  6  9 10 31  8 13 70 17]\n",
      "[ 2.   1.   3.   4.   1.5  5.   0.   6.   7.   9.   8.  10.   4.5 20.\n",
      " 16. ]\n"
     ]
    }
   ],
   "source": [
    "for df in dataframes_list:\n",
    "    print (df['baño_total'].unique())\n",
    "    df = df.drop(columns=['categoria'])\n",
    "    # Asignar la categoría real a cada registro\n",
    "    df['categoria'] = df['precio'].apply(asignar_categoria)"
   ]
  },
  {
   "cell_type": "code",
   "execution_count": 6,
   "metadata": {},
   "outputs": [
    {
     "name": "stdout",
     "output_type": "stream",
     "text": [
      "[ 1.  2.  3.  4. 31. 21.  5.  6. 10.  9.  7.  8. 70. 13. 12. 17.]\n",
      "[ 1  2  3  5  4 21  6  7  9 10  8 13 70]\n",
      "[ 1.  2.  3.  4. 11. 31. 21.  5.  6. 10.  9.  7.  8. 70. 13. 12. 17.]\n",
      "[ 2.  1.  3. 11.  4. 21.  5.  6.  7.  9. 10. 31.  8. 70. 13. 41. 17.]\n",
      "[1. 2. 4. 3. 5. 6. 7. 8.]\n",
      "[ 3  4  6  5  1  0  2  9  8  7 70 10 15]\n",
      "[1. 2. 5. 3. 4. 6. 8. 7.]\n",
      "[ 1  2  3  5  4 21  7  6  9 10 31  8 13 70 17]\n",
      "[ 2.  1.  3.  4.  5.  0.  6.  7.  9.  8. 10. 20. 16.]\n"
     ]
    }
   ],
   "source": [
    "import numpy as np\n",
    "for df in dataframes_list:    \n",
    "    condition = (df['baño_total'] % 1 == 0.5) # Valores que contienen .5    \n",
    "    # Convertir al número entero anterior\n",
    "    df.loc[condition, 'baño_total'] = np.floor(df['baño_total'])    \n",
    "    print(df['baño_total'].unique())"
   ]
  },
  {
   "cell_type": "code",
   "execution_count": 7,
   "metadata": {},
   "outputs": [
    {
     "name": "stderr",
     "output_type": "stream",
     "text": [
      "C:\\Users\\yoe11\\AppData\\Local\\Temp\\ipykernel_16700\\2851665368.py:4: SettingWithCopyWarning: \n",
      "A value is trying to be set on a copy of a slice from a DataFrame.\n",
      "Try using .loc[row_indexer,col_indexer] = value instead\n",
      "\n",
      "See the caveats in the documentation: https://pandas.pydata.org/pandas-docs/stable/user_guide/indexing.html#returning-a-view-versus-a-copy\n",
      "  df.loc[:, 'segmento'] = df['categoria'].str[0]\n",
      "C:\\Users\\yoe11\\AppData\\Local\\Temp\\ipykernel_16700\\2851665368.py:5: SettingWithCopyWarning: \n",
      "A value is trying to be set on a copy of a slice from a DataFrame\n",
      "\n",
      "See the caveats in the documentation: https://pandas.pydata.org/pandas-docs/stable/user_guide/indexing.html#returning-a-view-versus-a-copy\n",
      "  df.drop(columns=['categoria'], inplace=True)\n",
      "C:\\Users\\yoe11\\AppData\\Local\\Temp\\ipykernel_16700\\2851665368.py:7: SettingWithCopyWarning: \n",
      "A value is trying to be set on a copy of a slice from a DataFrame.\n",
      "Try using .loc[row_indexer,col_indexer] = value instead\n",
      "\n",
      "See the caveats in the documentation: https://pandas.pydata.org/pandas-docs/stable/user_guide/indexing.html#returning-a-view-versus-a-copy\n",
      "  df.loc[:,'baño_total'] = df['baño_total'].clip(lower=1,upper=8) # Limitar los valores de 'baño_total' a un máximo de 8\n",
      "C:\\Users\\yoe11\\AppData\\Local\\Temp\\ipykernel_16700\\2851665368.py:4: SettingWithCopyWarning: \n",
      "A value is trying to be set on a copy of a slice from a DataFrame.\n",
      "Try using .loc[row_indexer,col_indexer] = value instead\n",
      "\n",
      "See the caveats in the documentation: https://pandas.pydata.org/pandas-docs/stable/user_guide/indexing.html#returning-a-view-versus-a-copy\n",
      "  df.loc[:, 'segmento'] = df['categoria'].str[0]\n",
      "C:\\Users\\yoe11\\AppData\\Local\\Temp\\ipykernel_16700\\2851665368.py:5: SettingWithCopyWarning: \n",
      "A value is trying to be set on a copy of a slice from a DataFrame\n",
      "\n",
      "See the caveats in the documentation: https://pandas.pydata.org/pandas-docs/stable/user_guide/indexing.html#returning-a-view-versus-a-copy\n",
      "  df.drop(columns=['categoria'], inplace=True)\n",
      "C:\\Users\\yoe11\\AppData\\Local\\Temp\\ipykernel_16700\\2851665368.py:7: SettingWithCopyWarning: \n",
      "A value is trying to be set on a copy of a slice from a DataFrame.\n",
      "Try using .loc[row_indexer,col_indexer] = value instead\n",
      "\n",
      "See the caveats in the documentation: https://pandas.pydata.org/pandas-docs/stable/user_guide/indexing.html#returning-a-view-versus-a-copy\n",
      "  df.loc[:,'baño_total'] = df['baño_total'].clip(lower=1,upper=8) # Limitar los valores de 'baño_total' a un máximo de 8\n",
      "C:\\Users\\yoe11\\AppData\\Local\\Temp\\ipykernel_16700\\2851665368.py:4: SettingWithCopyWarning: \n",
      "A value is trying to be set on a copy of a slice from a DataFrame.\n",
      "Try using .loc[row_indexer,col_indexer] = value instead\n",
      "\n",
      "See the caveats in the documentation: https://pandas.pydata.org/pandas-docs/stable/user_guide/indexing.html#returning-a-view-versus-a-copy\n",
      "  df.loc[:, 'segmento'] = df['categoria'].str[0]\n",
      "C:\\Users\\yoe11\\AppData\\Local\\Temp\\ipykernel_16700\\2851665368.py:5: SettingWithCopyWarning: \n",
      "A value is trying to be set on a copy of a slice from a DataFrame\n",
      "\n",
      "See the caveats in the documentation: https://pandas.pydata.org/pandas-docs/stable/user_guide/indexing.html#returning-a-view-versus-a-copy\n",
      "  df.drop(columns=['categoria'], inplace=True)\n",
      "C:\\Users\\yoe11\\AppData\\Local\\Temp\\ipykernel_16700\\2851665368.py:7: SettingWithCopyWarning: \n",
      "A value is trying to be set on a copy of a slice from a DataFrame.\n",
      "Try using .loc[row_indexer,col_indexer] = value instead\n",
      "\n",
      "See the caveats in the documentation: https://pandas.pydata.org/pandas-docs/stable/user_guide/indexing.html#returning-a-view-versus-a-copy\n",
      "  df.loc[:,'baño_total'] = df['baño_total'].clip(lower=1,upper=8) # Limitar los valores de 'baño_total' a un máximo de 8\n",
      "C:\\Users\\yoe11\\AppData\\Local\\Temp\\ipykernel_16700\\2851665368.py:4: SettingWithCopyWarning: \n",
      "A value is trying to be set on a copy of a slice from a DataFrame.\n",
      "Try using .loc[row_indexer,col_indexer] = value instead\n",
      "\n",
      "See the caveats in the documentation: https://pandas.pydata.org/pandas-docs/stable/user_guide/indexing.html#returning-a-view-versus-a-copy\n",
      "  df.loc[:, 'segmento'] = df['categoria'].str[0]\n",
      "C:\\Users\\yoe11\\AppData\\Local\\Temp\\ipykernel_16700\\2851665368.py:5: SettingWithCopyWarning: \n",
      "A value is trying to be set on a copy of a slice from a DataFrame\n",
      "\n",
      "See the caveats in the documentation: https://pandas.pydata.org/pandas-docs/stable/user_guide/indexing.html#returning-a-view-versus-a-copy\n",
      "  df.drop(columns=['categoria'], inplace=True)\n",
      "C:\\Users\\yoe11\\AppData\\Local\\Temp\\ipykernel_16700\\2851665368.py:7: SettingWithCopyWarning: \n",
      "A value is trying to be set on a copy of a slice from a DataFrame.\n",
      "Try using .loc[row_indexer,col_indexer] = value instead\n",
      "\n",
      "See the caveats in the documentation: https://pandas.pydata.org/pandas-docs/stable/user_guide/indexing.html#returning-a-view-versus-a-copy\n",
      "  df.loc[:,'baño_total'] = df['baño_total'].clip(lower=1,upper=8) # Limitar los valores de 'baño_total' a un máximo de 8\n",
      "C:\\Users\\yoe11\\AppData\\Local\\Temp\\ipykernel_16700\\2851665368.py:4: SettingWithCopyWarning: \n",
      "A value is trying to be set on a copy of a slice from a DataFrame.\n",
      "Try using .loc[row_indexer,col_indexer] = value instead\n",
      "\n",
      "See the caveats in the documentation: https://pandas.pydata.org/pandas-docs/stable/user_guide/indexing.html#returning-a-view-versus-a-copy\n",
      "  df.loc[:, 'segmento'] = df['categoria'].str[0]\n",
      "C:\\Users\\yoe11\\AppData\\Local\\Temp\\ipykernel_16700\\2851665368.py:5: SettingWithCopyWarning: \n",
      "A value is trying to be set on a copy of a slice from a DataFrame\n",
      "\n",
      "See the caveats in the documentation: https://pandas.pydata.org/pandas-docs/stable/user_guide/indexing.html#returning-a-view-versus-a-copy\n",
      "  df.drop(columns=['categoria'], inplace=True)\n",
      "C:\\Users\\yoe11\\AppData\\Local\\Temp\\ipykernel_16700\\2851665368.py:7: SettingWithCopyWarning: \n",
      "A value is trying to be set on a copy of a slice from a DataFrame.\n",
      "Try using .loc[row_indexer,col_indexer] = value instead\n",
      "\n",
      "See the caveats in the documentation: https://pandas.pydata.org/pandas-docs/stable/user_guide/indexing.html#returning-a-view-versus-a-copy\n",
      "  df.loc[:,'baño_total'] = df['baño_total'].clip(lower=1,upper=8) # Limitar los valores de 'baño_total' a un máximo de 8\n",
      "C:\\Users\\yoe11\\AppData\\Local\\Temp\\ipykernel_16700\\2851665368.py:4: SettingWithCopyWarning: \n",
      "A value is trying to be set on a copy of a slice from a DataFrame.\n",
      "Try using .loc[row_indexer,col_indexer] = value instead\n",
      "\n",
      "See the caveats in the documentation: https://pandas.pydata.org/pandas-docs/stable/user_guide/indexing.html#returning-a-view-versus-a-copy\n",
      "  df.loc[:, 'segmento'] = df['categoria'].str[0]\n",
      "C:\\Users\\yoe11\\AppData\\Local\\Temp\\ipykernel_16700\\2851665368.py:5: SettingWithCopyWarning: \n",
      "A value is trying to be set on a copy of a slice from a DataFrame\n",
      "\n",
      "See the caveats in the documentation: https://pandas.pydata.org/pandas-docs/stable/user_guide/indexing.html#returning-a-view-versus-a-copy\n",
      "  df.drop(columns=['categoria'], inplace=True)\n",
      "C:\\Users\\yoe11\\AppData\\Local\\Temp\\ipykernel_16700\\2851665368.py:7: SettingWithCopyWarning: \n",
      "A value is trying to be set on a copy of a slice from a DataFrame.\n",
      "Try using .loc[row_indexer,col_indexer] = value instead\n",
      "\n",
      "See the caveats in the documentation: https://pandas.pydata.org/pandas-docs/stable/user_guide/indexing.html#returning-a-view-versus-a-copy\n",
      "  df.loc[:,'baño_total'] = df['baño_total'].clip(lower=1,upper=8) # Limitar los valores de 'baño_total' a un máximo de 8\n",
      "C:\\Users\\yoe11\\AppData\\Local\\Temp\\ipykernel_16700\\2851665368.py:4: SettingWithCopyWarning: \n",
      "A value is trying to be set on a copy of a slice from a DataFrame.\n",
      "Try using .loc[row_indexer,col_indexer] = value instead\n",
      "\n",
      "See the caveats in the documentation: https://pandas.pydata.org/pandas-docs/stable/user_guide/indexing.html#returning-a-view-versus-a-copy\n",
      "  df.loc[:, 'segmento'] = df['categoria'].str[0]\n",
      "C:\\Users\\yoe11\\AppData\\Local\\Temp\\ipykernel_16700\\2851665368.py:5: SettingWithCopyWarning: \n",
      "A value is trying to be set on a copy of a slice from a DataFrame\n",
      "\n",
      "See the caveats in the documentation: https://pandas.pydata.org/pandas-docs/stable/user_guide/indexing.html#returning-a-view-versus-a-copy\n",
      "  df.drop(columns=['categoria'], inplace=True)\n",
      "C:\\Users\\yoe11\\AppData\\Local\\Temp\\ipykernel_16700\\2851665368.py:7: SettingWithCopyWarning: \n",
      "A value is trying to be set on a copy of a slice from a DataFrame.\n",
      "Try using .loc[row_indexer,col_indexer] = value instead\n",
      "\n",
      "See the caveats in the documentation: https://pandas.pydata.org/pandas-docs/stable/user_guide/indexing.html#returning-a-view-versus-a-copy\n",
      "  df.loc[:,'baño_total'] = df['baño_total'].clip(lower=1,upper=8) # Limitar los valores de 'baño_total' a un máximo de 8\n",
      "C:\\Users\\yoe11\\AppData\\Local\\Temp\\ipykernel_16700\\2851665368.py:4: SettingWithCopyWarning: \n",
      "A value is trying to be set on a copy of a slice from a DataFrame.\n",
      "Try using .loc[row_indexer,col_indexer] = value instead\n",
      "\n",
      "See the caveats in the documentation: https://pandas.pydata.org/pandas-docs/stable/user_guide/indexing.html#returning-a-view-versus-a-copy\n",
      "  df.loc[:, 'segmento'] = df['categoria'].str[0]\n",
      "C:\\Users\\yoe11\\AppData\\Local\\Temp\\ipykernel_16700\\2851665368.py:5: SettingWithCopyWarning: \n",
      "A value is trying to be set on a copy of a slice from a DataFrame\n",
      "\n",
      "See the caveats in the documentation: https://pandas.pydata.org/pandas-docs/stable/user_guide/indexing.html#returning-a-view-versus-a-copy\n",
      "  df.drop(columns=['categoria'], inplace=True)\n",
      "C:\\Users\\yoe11\\AppData\\Local\\Temp\\ipykernel_16700\\2851665368.py:7: SettingWithCopyWarning: \n",
      "A value is trying to be set on a copy of a slice from a DataFrame.\n",
      "Try using .loc[row_indexer,col_indexer] = value instead\n",
      "\n",
      "See the caveats in the documentation: https://pandas.pydata.org/pandas-docs/stable/user_guide/indexing.html#returning-a-view-versus-a-copy\n",
      "  df.loc[:,'baño_total'] = df['baño_total'].clip(lower=1,upper=8) # Limitar los valores de 'baño_total' a un máximo de 8\n",
      "C:\\Users\\yoe11\\AppData\\Local\\Temp\\ipykernel_16700\\2851665368.py:4: SettingWithCopyWarning: \n",
      "A value is trying to be set on a copy of a slice from a DataFrame.\n",
      "Try using .loc[row_indexer,col_indexer] = value instead\n",
      "\n",
      "See the caveats in the documentation: https://pandas.pydata.org/pandas-docs/stable/user_guide/indexing.html#returning-a-view-versus-a-copy\n",
      "  df.loc[:, 'segmento'] = df['categoria'].str[0]\n",
      "C:\\Users\\yoe11\\AppData\\Local\\Temp\\ipykernel_16700\\2851665368.py:5: SettingWithCopyWarning: \n",
      "A value is trying to be set on a copy of a slice from a DataFrame\n",
      "\n",
      "See the caveats in the documentation: https://pandas.pydata.org/pandas-docs/stable/user_guide/indexing.html#returning-a-view-versus-a-copy\n",
      "  df.drop(columns=['categoria'], inplace=True)\n",
      "C:\\Users\\yoe11\\AppData\\Local\\Temp\\ipykernel_16700\\2851665368.py:7: SettingWithCopyWarning: \n",
      "A value is trying to be set on a copy of a slice from a DataFrame.\n",
      "Try using .loc[row_indexer,col_indexer] = value instead\n",
      "\n",
      "See the caveats in the documentation: https://pandas.pydata.org/pandas-docs/stable/user_guide/indexing.html#returning-a-view-versus-a-copy\n",
      "  df.loc[:,'baño_total'] = df['baño_total'].clip(lower=1,upper=8) # Limitar los valores de 'baño_total' a un máximo de 8\n"
     ]
    },
    {
     "name": "stdout",
     "output_type": "stream",
     "text": [
      "Nombre del DataFrame: df_alfa_agosto_2024_puebla\n",
      "baño_total  1.0  2.0  3.0  4.0  5.0  6.0  7.0  8.0\n",
      "segmento                                          \n",
      "A            10  125   95   29    9    1    0    1\n",
      "B            26  134   71   25    3    0    0    0\n",
      "C            57  222   70    9    1    1    0    0\n",
      "D           146  195   53   13    5    0    0    0\n",
      "E           294  474  216   70   10    4    3    7\n",
      "L             0   32   44   41   26    8    2    3\n",
      "S            14  164  261  183   55   12    7    4\n",
      "Nombre del DataFrame: df_alfa_febrero_2024_puebla\n",
      "baño_total    1    2    3   4   5   6  7  8\n",
      "segmento                                   \n",
      "A           110  137   63  31   7   0  0  3\n",
      "B           113  201   78  12   1   0  1  0\n",
      "C           182  221   53   6   1   1  0  0\n",
      "D           263  223   26   3   0   0  0  1\n",
      "E           511  224  125  17   3   4  2  0\n",
      "L            22   22   17  21   9   4  1  3\n",
      "S           224  159  153  79  36  12  3  4\n",
      "Nombre del DataFrame: df_alfa_julio_2024_puebla\n",
      "baño_total  1.0  2.0  3.0  4.0  5.0  6.0  7.0  8.0\n",
      "segmento                                          \n",
      "A            25  213  112   30    9    1    0    1\n",
      "B            39  284   84   25    3    0    0    0\n",
      "C            95  421   74    9    1    1    0    0\n",
      "D           233  314   55   13    5    0    0    0\n",
      "E           424  495  228   73   10    4    3    8\n",
      "L             0   33   46   50   26    8    2    3\n",
      "S            23  266  328  203   56   13    7    4\n",
      "Nombre del DataFrame: df_alfa_junio_2024_puebla\n",
      "baño_total  1.0  2.0  3.0  4.0  5.0  6.0  7.0  8.0\n",
      "segmento                                          \n",
      "A           165  122   67   26    7    0    0    2\n",
      "B           143  173   60   23    3    0    1    0\n",
      "C           239  249   64    6    1    1    0    0\n",
      "D           313  189   29    6    5    0    0    0\n",
      "E           593  157  101   41    7    3    4    9\n",
      "L            57   23   27   22   10    5    0    2\n",
      "S           334  165  150   79   42   13    4    5\n",
      "Nombre del DataFrame: df_alfa_septiembre_2024_puebla\n",
      "baño_total  1.0  2.0  3.0  4.0  5.0  6.0  7.0  8.0\n",
      "segmento                                          \n",
      "A            14  221  102   28    6    1    0    0\n",
      "B            29  266   73   24    3    0    0    0\n",
      "C            71  353   61    7    0    1    0    0\n",
      "D           172  195   21    4    2    0    0    0\n",
      "E           203  217  121   41    9    3    2    0\n",
      "L             0   36   42   44   22    8    2    1\n",
      "S            23  274  311  195   50   11    4    2\n",
      "Nombre del DataFrame: df_jul_2023_puebla\n",
      "baño_total   1    2    3    4   5   6  7  8\n",
      "segmento                                   \n",
      "A           11   85  122   85  20   4  1  1\n",
      "B           23  116  171   63  11   2  0  0\n",
      "C           20  165  128   23   1   2  0  0\n",
      "D           60  200   56    5   0   0  0  0\n",
      "E           65   37    8    9   6   3  0  0\n",
      "L            3   11   10   30  11  12  9  7\n",
      "S           23   88  143  168  94  30  7  4\n",
      "Nombre del DataFrame: df_mar_2024_puebla\n",
      "baño_total  1.0  2.0  3.0  4.0  5.0  6.0  7.0  8.0\n",
      "segmento                                          \n",
      "A           175  158   86   35    8    1    0    0\n",
      "B           169  214  104   22    3    0    1    0\n",
      "C           215  234   69   14    1    0    0    0\n",
      "D           292  246   29    3    1    0    0    0\n",
      "E           481  203  119   23    5    0    0    0\n",
      "L            61   25   37   36   15    7    0    0\n",
      "S           303  147  175  111   41    5    0    1\n",
      "Nombre del DataFrame: df_may_2024_puebla\n",
      "baño_total    1    2    3    4   5   6   7  8\n",
      "segmento                                     \n",
      "A           205  156   88   36   7   1   0  2\n",
      "B           198  226   83   32   4   0   1  0\n",
      "C           270  270   71    9   1   0   0  0\n",
      "D           362  229   32    7   3   0   0  1\n",
      "E           692  200  102   26   6   3   2  4\n",
      "L            72   28   27   32  20  13  10  3\n",
      "S           435  173  169  102  65  17   5  7\n",
      "Nombre del DataFrame: df_sep_2023_puebla\n",
      "baño_total  1.0  2.0  3.0  4.0  5.0  6.0  7.0  8.0\n",
      "segmento                                          \n",
      "A            43  198  165   77   22    5    7    1\n",
      "B            65  166  159   69   28    8    2    0\n",
      "C            52  182   86   24   11    0    0    2\n",
      "D            83  115   31    4    0    1    0    1\n",
      "E            26    5    0    0    0    0    0    0\n",
      "S            22   97  141  189  100   45   13    8\n"
     ]
    }
   ],
   "source": [
    "def procesar_dataframes(dataframes_list, nombres_df_filtrados):\n",
    "    for i, df in enumerate(dataframes_list):\n",
    "        # Crear una nueva columna con la primera letra de la categoría\n",
    "        df.loc[:, 'segmento'] = df['categoria'].str[0]\n",
    "        df.drop(columns=['categoria'], inplace=True)\n",
    "\n",
    "        df.loc[:,'baño_total'] = df['baño_total'].clip(lower=1,upper=8) # Limitar los valores de 'baño_total' a un máximo de 8\n",
    "        #df['baño_total'] = df['baño_total'].clip(upper=8) \n",
    "        #df['baño_total'] = pd.cut(df['baño_total'], bins=bins, labels=labels, right=False)\n",
    "\n",
    "        # Agrupar y contar los datos\n",
    "        tabla = df.groupby(['segmento', 'baño_total']).size().unstack(fill_value=0)\n",
    "\n",
    "        # Imprimir el nombre del DataFrame y la tabla resultante\n",
    "        print(f\"Nombre del DataFrame: {nombres_df_filtrados[i]}\")\n",
    "        print(tabla)\n",
    "\n",
    "# Procesar los DataFrames de la lista\n",
    "procesar_dataframes(dataframes_list, nombres_df_filtrados)"
   ]
  },
  {
   "cell_type": "code",
   "execution_count": 8,
   "metadata": {},
   "outputs": [
    {
     "name": "stdout",
     "output_type": "stream",
     "text": [
      "Tabla general de frecuencia:\n",
      "baño_total     1.0     2.0     3.0     4.0    5.0    6.0   7.0   8.0\n",
      "segmento                                                            \n",
      "A            758.0  1415.0   900.0   377.0   95.0   14.0   8.0  11.0\n",
      "B            805.0  1780.0   883.0   295.0   59.0   10.0   6.0   0.0\n",
      "C           1201.0  2317.0   676.0   107.0   18.0    7.0   0.0   2.0\n",
      "D           1924.0  1906.0   332.0    58.0   21.0    1.0   0.0   3.0\n",
      "E           3289.0  2012.0  1020.0   300.0   56.0   24.0  16.0  28.0\n",
      "L            215.0   210.0   250.0   276.0  139.0   65.0  26.0  22.0\n",
      "S           1401.0  1533.0  1831.0  1309.0  539.0  158.0  50.0  39.0\n"
     ]
    }
   ],
   "source": [
    "# Crear una nueva función para sumar las tablas de todos los DataFrames\n",
    "def sumar_tablas(dataframes_list):\n",
    "    # Inicializar una tabla vacía para almacenar la suma\n",
    "    tabla_suma = None\n",
    "    \n",
    "    # Iterar sobre cada DataFrame en la lista\n",
    "    for df in dataframes_list:\n",
    "        # Agrupar y contar los datos en el DataFrame actual\n",
    "        tabla_actual = df.groupby(['segmento', 'baño_total']).size().unstack(fill_value=0)\n",
    "        \n",
    "        # Sumar la tabla actual al acumulador (tabla_suma)\n",
    "        if tabla_suma is None:\n",
    "            tabla_suma = tabla_actual\n",
    "        else:\n",
    "            tabla_suma = tabla_suma.add(tabla_actual, fill_value=0)\n",
    "    \n",
    "    # Imprimir la tabla resultante de la suma\n",
    "    print(\"Tabla general de frecuencia:\")\n",
    "    print(tabla_suma)\n",
    "\n",
    "# Llamar a la función sumar_tablas con la lista de DataFrames como argumento\n",
    "sumar_tablas(dataframes_list)"
   ]
  },
  {
   "cell_type": "code",
   "execution_count": 9,
   "metadata": {},
   "outputs": [
    {
     "name": "stderr",
     "output_type": "stream",
     "text": [
      "C:\\Users\\yoe11\\AppData\\Local\\Temp\\ipykernel_16700\\2856565146.py:11: SettingWithCopyWarning: \n",
      "A value is trying to be set on a copy of a slice from a DataFrame.\n",
      "Try using .loc[row_indexer,col_indexer] = value instead\n",
      "\n",
      "See the caveats in the documentation: https://pandas.pydata.org/pandas-docs/stable/user_guide/indexing.html#returning-a-view-versus-a-copy\n",
      "  df['segmento'] = pd.Categorical(df['segmento'], categories=orden_segmentos, ordered=True)\n",
      "C:\\Users\\yoe11\\AppData\\Local\\Temp\\ipykernel_16700\\2856565146.py:11: SettingWithCopyWarning: \n",
      "A value is trying to be set on a copy of a slice from a DataFrame.\n",
      "Try using .loc[row_indexer,col_indexer] = value instead\n",
      "\n",
      "See the caveats in the documentation: https://pandas.pydata.org/pandas-docs/stable/user_guide/indexing.html#returning-a-view-versus-a-copy\n",
      "  df['segmento'] = pd.Categorical(df['segmento'], categories=orden_segmentos, ordered=True)\n",
      "C:\\Users\\yoe11\\AppData\\Local\\Temp\\ipykernel_16700\\2856565146.py:11: SettingWithCopyWarning: \n",
      "A value is trying to be set on a copy of a slice from a DataFrame.\n",
      "Try using .loc[row_indexer,col_indexer] = value instead\n",
      "\n",
      "See the caveats in the documentation: https://pandas.pydata.org/pandas-docs/stable/user_guide/indexing.html#returning-a-view-versus-a-copy\n",
      "  df['segmento'] = pd.Categorical(df['segmento'], categories=orden_segmentos, ordered=True)\n",
      "C:\\Users\\yoe11\\AppData\\Local\\Temp\\ipykernel_16700\\2856565146.py:11: SettingWithCopyWarning: \n",
      "A value is trying to be set on a copy of a slice from a DataFrame.\n",
      "Try using .loc[row_indexer,col_indexer] = value instead\n",
      "\n",
      "See the caveats in the documentation: https://pandas.pydata.org/pandas-docs/stable/user_guide/indexing.html#returning-a-view-versus-a-copy\n",
      "  df['segmento'] = pd.Categorical(df['segmento'], categories=orden_segmentos, ordered=True)\n",
      "C:\\Users\\yoe11\\AppData\\Local\\Temp\\ipykernel_16700\\2856565146.py:11: SettingWithCopyWarning: \n",
      "A value is trying to be set on a copy of a slice from a DataFrame.\n",
      "Try using .loc[row_indexer,col_indexer] = value instead\n",
      "\n",
      "See the caveats in the documentation: https://pandas.pydata.org/pandas-docs/stable/user_guide/indexing.html#returning-a-view-versus-a-copy\n",
      "  df['segmento'] = pd.Categorical(df['segmento'], categories=orden_segmentos, ordered=True)\n",
      "C:\\Users\\yoe11\\AppData\\Local\\Temp\\ipykernel_16700\\2856565146.py:11: SettingWithCopyWarning: \n",
      "A value is trying to be set on a copy of a slice from a DataFrame.\n",
      "Try using .loc[row_indexer,col_indexer] = value instead\n",
      "\n",
      "See the caveats in the documentation: https://pandas.pydata.org/pandas-docs/stable/user_guide/indexing.html#returning-a-view-versus-a-copy\n",
      "  df['segmento'] = pd.Categorical(df['segmento'], categories=orden_segmentos, ordered=True)\n",
      "C:\\Users\\yoe11\\AppData\\Local\\Temp\\ipykernel_16700\\2856565146.py:11: SettingWithCopyWarning: \n",
      "A value is trying to be set on a copy of a slice from a DataFrame.\n",
      "Try using .loc[row_indexer,col_indexer] = value instead\n",
      "\n",
      "See the caveats in the documentation: https://pandas.pydata.org/pandas-docs/stable/user_guide/indexing.html#returning-a-view-versus-a-copy\n",
      "  df['segmento'] = pd.Categorical(df['segmento'], categories=orden_segmentos, ordered=True)\n",
      "C:\\Users\\yoe11\\AppData\\Local\\Temp\\ipykernel_16700\\2856565146.py:11: SettingWithCopyWarning: \n",
      "A value is trying to be set on a copy of a slice from a DataFrame.\n",
      "Try using .loc[row_indexer,col_indexer] = value instead\n",
      "\n",
      "See the caveats in the documentation: https://pandas.pydata.org/pandas-docs/stable/user_guide/indexing.html#returning-a-view-versus-a-copy\n",
      "  df['segmento'] = pd.Categorical(df['segmento'], categories=orden_segmentos, ordered=True)\n",
      "C:\\Users\\yoe11\\AppData\\Local\\Temp\\ipykernel_16700\\2856565146.py:11: SettingWithCopyWarning: \n",
      "A value is trying to be set on a copy of a slice from a DataFrame.\n",
      "Try using .loc[row_indexer,col_indexer] = value instead\n",
      "\n",
      "See the caveats in the documentation: https://pandas.pydata.org/pandas-docs/stable/user_guide/indexing.html#returning-a-view-versus-a-copy\n",
      "  df['segmento'] = pd.Categorical(df['segmento'], categories=orden_segmentos, ordered=True)\n"
     ]
    },
    {
     "name": "stdout",
     "output_type": "stream",
     "text": [
      "Tabla general de frecuencia:\n",
      "baño_total   1.0   2.0   3.0   4.0  5.0  6.0  7.0  8.0\n",
      "segmento                                              \n",
      "E           3289  2012  1020   300   56   24   16   28\n",
      "D           1924  1906   332    58   21    1    0    3\n",
      "C           1201  2317   676   107   18    7    0    2\n",
      "B            805  1780   883   295   59   10    6    0\n",
      "A            758  1415   900   377   95   14    8   11\n",
      "S           1401  1533  1831  1309  539  158   50   39\n",
      "L            215   210   250   276  139   65   26   22\n"
     ]
    },
    {
     "data": {
      "application/vnd.plotly.v1+json": {
       "config": {
        "plotlyServerURL": "https://plot.ly"
       },
       "data": [
        {
         "marker": {
          "color": "#2962ff"
         },
         "name": "E",
         "type": "bar",
         "x": [
          1,
          2,
          3,
          4,
          5,
          6,
          7,
          8
         ],
         "y": [
          3289,
          2012,
          1020,
          300,
          56,
          24,
          16,
          28
         ]
        },
        {
         "marker": {
          "color": "#9500ff"
         },
         "name": "D",
         "type": "bar",
         "x": [
          1,
          2,
          3,
          4,
          5,
          6,
          7,
          8
         ],
         "y": [
          1924,
          1906,
          332,
          58,
          21,
          1,
          0,
          3
         ]
        },
        {
         "marker": {
          "color": "#ff0059"
         },
         "name": "C",
         "type": "bar",
         "x": [
          1,
          2,
          3,
          4,
          5,
          6,
          7,
          8
         ],
         "y": [
          1201,
          2317,
          676,
          107,
          18,
          7,
          0,
          2
         ]
        },
        {
         "marker": {
          "color": "#ff8c00"
         },
         "name": "B",
         "type": "bar",
         "x": [
          1,
          2,
          3,
          4,
          5,
          6,
          7,
          8
         ],
         "y": [
          805,
          1780,
          883,
          295,
          59,
          10,
          6,
          0
         ]
        },
        {
         "marker": {
          "color": "#b4e600"
         },
         "name": "A",
         "type": "bar",
         "x": [
          1,
          2,
          3,
          4,
          5,
          6,
          7,
          8
         ],
         "y": [
          758,
          1415,
          900,
          377,
          95,
          14,
          8,
          11
         ]
        },
        {
         "marker": {
          "color": "#2EC2A2"
         },
         "name": "S",
         "type": "bar",
         "x": [
          1,
          2,
          3,
          4,
          5,
          6,
          7,
          8
         ],
         "y": [
          1401,
          1533,
          1831,
          1309,
          539,
          158,
          50,
          39
         ]
        },
        {
         "marker": {
          "color": "#F79CB9"
         },
         "name": "L",
         "type": "bar",
         "x": [
          1,
          2,
          3,
          4,
          5,
          6,
          7,
          8
         ],
         "y": [
          215,
          210,
          250,
          276,
          139,
          65,
          26,
          22
         ]
        }
       ],
       "layout": {
        "barmode": "group",
        "legend": {
         "orientation": "h",
         "title": {
          "text": "Segmento"
         },
         "x": 1,
         "xanchor": "right",
         "y": 1.02,
         "yanchor": "bottom"
        },
        "margin": {
         "b": 10,
         "l": 10,
         "r": 10,
         "t": 10
        },
        "plot_bgcolor": "rgba(0,0,0,0)",
        "template": {
         "data": {
          "bar": [
           {
            "error_x": {
             "color": "#2a3f5f"
            },
            "error_y": {
             "color": "#2a3f5f"
            },
            "marker": {
             "line": {
              "color": "#E5ECF6",
              "width": 0.5
             },
             "pattern": {
              "fillmode": "overlay",
              "size": 10,
              "solidity": 0.2
             }
            },
            "type": "bar"
           }
          ],
          "barpolar": [
           {
            "marker": {
             "line": {
              "color": "#E5ECF6",
              "width": 0.5
             },
             "pattern": {
              "fillmode": "overlay",
              "size": 10,
              "solidity": 0.2
             }
            },
            "type": "barpolar"
           }
          ],
          "carpet": [
           {
            "aaxis": {
             "endlinecolor": "#2a3f5f",
             "gridcolor": "white",
             "linecolor": "white",
             "minorgridcolor": "white",
             "startlinecolor": "#2a3f5f"
            },
            "baxis": {
             "endlinecolor": "#2a3f5f",
             "gridcolor": "white",
             "linecolor": "white",
             "minorgridcolor": "white",
             "startlinecolor": "#2a3f5f"
            },
            "type": "carpet"
           }
          ],
          "choropleth": [
           {
            "colorbar": {
             "outlinewidth": 0,
             "ticks": ""
            },
            "type": "choropleth"
           }
          ],
          "contour": [
           {
            "colorbar": {
             "outlinewidth": 0,
             "ticks": ""
            },
            "colorscale": [
             [
              0,
              "#0d0887"
             ],
             [
              0.1111111111111111,
              "#46039f"
             ],
             [
              0.2222222222222222,
              "#7201a8"
             ],
             [
              0.3333333333333333,
              "#9c179e"
             ],
             [
              0.4444444444444444,
              "#bd3786"
             ],
             [
              0.5555555555555556,
              "#d8576b"
             ],
             [
              0.6666666666666666,
              "#ed7953"
             ],
             [
              0.7777777777777778,
              "#fb9f3a"
             ],
             [
              0.8888888888888888,
              "#fdca26"
             ],
             [
              1,
              "#f0f921"
             ]
            ],
            "type": "contour"
           }
          ],
          "contourcarpet": [
           {
            "colorbar": {
             "outlinewidth": 0,
             "ticks": ""
            },
            "type": "contourcarpet"
           }
          ],
          "heatmap": [
           {
            "colorbar": {
             "outlinewidth": 0,
             "ticks": ""
            },
            "colorscale": [
             [
              0,
              "#0d0887"
             ],
             [
              0.1111111111111111,
              "#46039f"
             ],
             [
              0.2222222222222222,
              "#7201a8"
             ],
             [
              0.3333333333333333,
              "#9c179e"
             ],
             [
              0.4444444444444444,
              "#bd3786"
             ],
             [
              0.5555555555555556,
              "#d8576b"
             ],
             [
              0.6666666666666666,
              "#ed7953"
             ],
             [
              0.7777777777777778,
              "#fb9f3a"
             ],
             [
              0.8888888888888888,
              "#fdca26"
             ],
             [
              1,
              "#f0f921"
             ]
            ],
            "type": "heatmap"
           }
          ],
          "heatmapgl": [
           {
            "colorbar": {
             "outlinewidth": 0,
             "ticks": ""
            },
            "colorscale": [
             [
              0,
              "#0d0887"
             ],
             [
              0.1111111111111111,
              "#46039f"
             ],
             [
              0.2222222222222222,
              "#7201a8"
             ],
             [
              0.3333333333333333,
              "#9c179e"
             ],
             [
              0.4444444444444444,
              "#bd3786"
             ],
             [
              0.5555555555555556,
              "#d8576b"
             ],
             [
              0.6666666666666666,
              "#ed7953"
             ],
             [
              0.7777777777777778,
              "#fb9f3a"
             ],
             [
              0.8888888888888888,
              "#fdca26"
             ],
             [
              1,
              "#f0f921"
             ]
            ],
            "type": "heatmapgl"
           }
          ],
          "histogram": [
           {
            "marker": {
             "pattern": {
              "fillmode": "overlay",
              "size": 10,
              "solidity": 0.2
             }
            },
            "type": "histogram"
           }
          ],
          "histogram2d": [
           {
            "colorbar": {
             "outlinewidth": 0,
             "ticks": ""
            },
            "colorscale": [
             [
              0,
              "#0d0887"
             ],
             [
              0.1111111111111111,
              "#46039f"
             ],
             [
              0.2222222222222222,
              "#7201a8"
             ],
             [
              0.3333333333333333,
              "#9c179e"
             ],
             [
              0.4444444444444444,
              "#bd3786"
             ],
             [
              0.5555555555555556,
              "#d8576b"
             ],
             [
              0.6666666666666666,
              "#ed7953"
             ],
             [
              0.7777777777777778,
              "#fb9f3a"
             ],
             [
              0.8888888888888888,
              "#fdca26"
             ],
             [
              1,
              "#f0f921"
             ]
            ],
            "type": "histogram2d"
           }
          ],
          "histogram2dcontour": [
           {
            "colorbar": {
             "outlinewidth": 0,
             "ticks": ""
            },
            "colorscale": [
             [
              0,
              "#0d0887"
             ],
             [
              0.1111111111111111,
              "#46039f"
             ],
             [
              0.2222222222222222,
              "#7201a8"
             ],
             [
              0.3333333333333333,
              "#9c179e"
             ],
             [
              0.4444444444444444,
              "#bd3786"
             ],
             [
              0.5555555555555556,
              "#d8576b"
             ],
             [
              0.6666666666666666,
              "#ed7953"
             ],
             [
              0.7777777777777778,
              "#fb9f3a"
             ],
             [
              0.8888888888888888,
              "#fdca26"
             ],
             [
              1,
              "#f0f921"
             ]
            ],
            "type": "histogram2dcontour"
           }
          ],
          "mesh3d": [
           {
            "colorbar": {
             "outlinewidth": 0,
             "ticks": ""
            },
            "type": "mesh3d"
           }
          ],
          "parcoords": [
           {
            "line": {
             "colorbar": {
              "outlinewidth": 0,
              "ticks": ""
             }
            },
            "type": "parcoords"
           }
          ],
          "pie": [
           {
            "automargin": true,
            "type": "pie"
           }
          ],
          "scatter": [
           {
            "fillpattern": {
             "fillmode": "overlay",
             "size": 10,
             "solidity": 0.2
            },
            "type": "scatter"
           }
          ],
          "scatter3d": [
           {
            "line": {
             "colorbar": {
              "outlinewidth": 0,
              "ticks": ""
             }
            },
            "marker": {
             "colorbar": {
              "outlinewidth": 0,
              "ticks": ""
             }
            },
            "type": "scatter3d"
           }
          ],
          "scattercarpet": [
           {
            "marker": {
             "colorbar": {
              "outlinewidth": 0,
              "ticks": ""
             }
            },
            "type": "scattercarpet"
           }
          ],
          "scattergeo": [
           {
            "marker": {
             "colorbar": {
              "outlinewidth": 0,
              "ticks": ""
             }
            },
            "type": "scattergeo"
           }
          ],
          "scattergl": [
           {
            "marker": {
             "colorbar": {
              "outlinewidth": 0,
              "ticks": ""
             }
            },
            "type": "scattergl"
           }
          ],
          "scattermapbox": [
           {
            "marker": {
             "colorbar": {
              "outlinewidth": 0,
              "ticks": ""
             }
            },
            "type": "scattermapbox"
           }
          ],
          "scatterpolar": [
           {
            "marker": {
             "colorbar": {
              "outlinewidth": 0,
              "ticks": ""
             }
            },
            "type": "scatterpolar"
           }
          ],
          "scatterpolargl": [
           {
            "marker": {
             "colorbar": {
              "outlinewidth": 0,
              "ticks": ""
             }
            },
            "type": "scatterpolargl"
           }
          ],
          "scatterternary": [
           {
            "marker": {
             "colorbar": {
              "outlinewidth": 0,
              "ticks": ""
             }
            },
            "type": "scatterternary"
           }
          ],
          "surface": [
           {
            "colorbar": {
             "outlinewidth": 0,
             "ticks": ""
            },
            "colorscale": [
             [
              0,
              "#0d0887"
             ],
             [
              0.1111111111111111,
              "#46039f"
             ],
             [
              0.2222222222222222,
              "#7201a8"
             ],
             [
              0.3333333333333333,
              "#9c179e"
             ],
             [
              0.4444444444444444,
              "#bd3786"
             ],
             [
              0.5555555555555556,
              "#d8576b"
             ],
             [
              0.6666666666666666,
              "#ed7953"
             ],
             [
              0.7777777777777778,
              "#fb9f3a"
             ],
             [
              0.8888888888888888,
              "#fdca26"
             ],
             [
              1,
              "#f0f921"
             ]
            ],
            "type": "surface"
           }
          ],
          "table": [
           {
            "cells": {
             "fill": {
              "color": "#EBF0F8"
             },
             "line": {
              "color": "white"
             }
            },
            "header": {
             "fill": {
              "color": "#C8D4E3"
             },
             "line": {
              "color": "white"
             }
            },
            "type": "table"
           }
          ]
         },
         "layout": {
          "annotationdefaults": {
           "arrowcolor": "#2a3f5f",
           "arrowhead": 0,
           "arrowwidth": 1
          },
          "autotypenumbers": "strict",
          "coloraxis": {
           "colorbar": {
            "outlinewidth": 0,
            "ticks": ""
           }
          },
          "colorscale": {
           "diverging": [
            [
             0,
             "#8e0152"
            ],
            [
             0.1,
             "#c51b7d"
            ],
            [
             0.2,
             "#de77ae"
            ],
            [
             0.3,
             "#f1b6da"
            ],
            [
             0.4,
             "#fde0ef"
            ],
            [
             0.5,
             "#f7f7f7"
            ],
            [
             0.6,
             "#e6f5d0"
            ],
            [
             0.7,
             "#b8e186"
            ],
            [
             0.8,
             "#7fbc41"
            ],
            [
             0.9,
             "#4d9221"
            ],
            [
             1,
             "#276419"
            ]
           ],
           "sequential": [
            [
             0,
             "#0d0887"
            ],
            [
             0.1111111111111111,
             "#46039f"
            ],
            [
             0.2222222222222222,
             "#7201a8"
            ],
            [
             0.3333333333333333,
             "#9c179e"
            ],
            [
             0.4444444444444444,
             "#bd3786"
            ],
            [
             0.5555555555555556,
             "#d8576b"
            ],
            [
             0.6666666666666666,
             "#ed7953"
            ],
            [
             0.7777777777777778,
             "#fb9f3a"
            ],
            [
             0.8888888888888888,
             "#fdca26"
            ],
            [
             1,
             "#f0f921"
            ]
           ],
           "sequentialminus": [
            [
             0,
             "#0d0887"
            ],
            [
             0.1111111111111111,
             "#46039f"
            ],
            [
             0.2222222222222222,
             "#7201a8"
            ],
            [
             0.3333333333333333,
             "#9c179e"
            ],
            [
             0.4444444444444444,
             "#bd3786"
            ],
            [
             0.5555555555555556,
             "#d8576b"
            ],
            [
             0.6666666666666666,
             "#ed7953"
            ],
            [
             0.7777777777777778,
             "#fb9f3a"
            ],
            [
             0.8888888888888888,
             "#fdca26"
            ],
            [
             1,
             "#f0f921"
            ]
           ]
          },
          "colorway": [
           "#636efa",
           "#EF553B",
           "#00cc96",
           "#ab63fa",
           "#FFA15A",
           "#19d3f3",
           "#FF6692",
           "#B6E880",
           "#FF97FF",
           "#FECB52"
          ],
          "font": {
           "color": "#2a3f5f"
          },
          "geo": {
           "bgcolor": "white",
           "lakecolor": "white",
           "landcolor": "#E5ECF6",
           "showlakes": true,
           "showland": true,
           "subunitcolor": "white"
          },
          "hoverlabel": {
           "align": "left"
          },
          "hovermode": "closest",
          "mapbox": {
           "style": "light"
          },
          "paper_bgcolor": "white",
          "plot_bgcolor": "#E5ECF6",
          "polar": {
           "angularaxis": {
            "gridcolor": "white",
            "linecolor": "white",
            "ticks": ""
           },
           "bgcolor": "#E5ECF6",
           "radialaxis": {
            "gridcolor": "white",
            "linecolor": "white",
            "ticks": ""
           }
          },
          "scene": {
           "xaxis": {
            "backgroundcolor": "#E5ECF6",
            "gridcolor": "white",
            "gridwidth": 2,
            "linecolor": "white",
            "showbackground": true,
            "ticks": "",
            "zerolinecolor": "white"
           },
           "yaxis": {
            "backgroundcolor": "#E5ECF6",
            "gridcolor": "white",
            "gridwidth": 2,
            "linecolor": "white",
            "showbackground": true,
            "ticks": "",
            "zerolinecolor": "white"
           },
           "zaxis": {
            "backgroundcolor": "#E5ECF6",
            "gridcolor": "white",
            "gridwidth": 2,
            "linecolor": "white",
            "showbackground": true,
            "ticks": "",
            "zerolinecolor": "white"
           }
          },
          "shapedefaults": {
           "line": {
            "color": "#2a3f5f"
           }
          },
          "ternary": {
           "aaxis": {
            "gridcolor": "white",
            "linecolor": "white",
            "ticks": ""
           },
           "baxis": {
            "gridcolor": "white",
            "linecolor": "white",
            "ticks": ""
           },
           "bgcolor": "#E5ECF6",
           "caxis": {
            "gridcolor": "white",
            "linecolor": "white",
            "ticks": ""
           }
          },
          "title": {
           "x": 0.05
          },
          "xaxis": {
           "automargin": true,
           "gridcolor": "white",
           "linecolor": "white",
           "ticks": "",
           "title": {
            "standoff": 15
           },
           "zerolinecolor": "white",
           "zerolinewidth": 2
          },
          "yaxis": {
           "automargin": true,
           "gridcolor": "white",
           "linecolor": "white",
           "ticks": "",
           "title": {
            "standoff": 15
           },
           "zerolinecolor": "white",
           "zerolinewidth": 2
          }
         }
        },
        "xaxis": {
         "title": {
          "text": "Número de baños"
         }
        },
        "yaxis": {
         "gridcolor": "#dddcda",
         "gridwidth": 1,
         "title": {
          "text": "Número de casas"
         }
        }
       }
      }
     },
     "metadata": {},
     "output_type": "display_data"
    }
   ],
   "source": [
    "import os\n",
    "import plotly.graph_objects as go\n",
    "import plotly.io as pio\n",
    "\n",
    "colores = ['#2962ff', '#9500ff', '#ff0059', '#ff8c00', '#b4e600', '#2EC2A2','#F79CB9']\n",
    "orden_segmentos=[\"E\", \"D\", \"C\", \"B\",\"A\", \"S\", \"L\", ]\n",
    "def sumar_tablas(dataframes_list):\n",
    "    tabla_suma = None\n",
    "    for df in dataframes_list:\n",
    "        # Aplica el orden a la columna 'segmento'\n",
    "        df['segmento'] = pd.Categorical(df['segmento'], categories=orden_segmentos, ordered=True)\n",
    "        \n",
    "        tabla_actual = df.groupby(['segmento', 'baño_total']).size().unstack(fill_value=0)\n",
    "        \n",
    "        if tabla_suma is None:\n",
    "            tabla_suma = tabla_actual\n",
    "        else:\n",
    "            tabla_suma = tabla_suma.add(tabla_actual, fill_value=0)\n",
    "    \n",
    "    print(\"Tabla general de frecuencia:\")\n",
    "    print(tabla_suma)\n",
    "    \n",
    "    fig = graficar_tabla(tabla_suma)\n",
    "    guardar_grafico_como_html(fig, 'g_bar_banos', carpeta='assets/graficas') # Para guardar la gráfica como archivo HTML\n",
    "    return fig\n",
    "\n",
    "def graficar_tabla(tabla):\n",
    "    segmentos = tabla.index\n",
    "    banos = tabla.columns\n",
    "    \n",
    "    fig = go.Figure()\n",
    "    \n",
    "    for i, segmento in enumerate(segmentos):\n",
    "        color = colores[i % len(colores)]\n",
    "        fig.add_trace(go.Bar(\n",
    "            x=banos,\n",
    "            y=tabla.loc[segmento],\n",
    "            name=segmento,\n",
    "            marker_color=color\n",
    "        ))\n",
    "    \n",
    "    fig.update_layout(\n",
    "        xaxis_title=\"Número de baños\",        \n",
    "        yaxis=dict(\n",
    "            title='Número de casas',\n",
    "            gridcolor='#dddcda', # Color de las líneas que dividen los rangos del eje Y\n",
    "            gridwidth=1,\n",
    "        ),\n",
    "        legend_title=\"Segmento\",\n",
    "        margin=dict(l=10, r=10, t=10, b=10),  # Ajusta los márgenes (left, right, top, bottom)\n",
    "        barmode='group',\n",
    "        legend=dict(\n",
    "            orientation='h',  # Orientación horizontal de la leyenda\n",
    "            yanchor='bottom',  # Anclar al borde inferior\n",
    "            y=1.02,  # Colocar la leyenda justo debajo del gráfico\n",
    "            xanchor='right',\n",
    "            x=1\n",
    "        ),\n",
    "        plot_bgcolor='rgba(0,0,0,0)',  # Color de fondo del gráfico\n",
    "    )    \n",
    "    \n",
    "    fig.show()    \n",
    "    return fig\n",
    "\n",
    "# Guardar la gráfica como archivo HTML en la carpeta especificada\n",
    "def guardar_grafico_como_html(fig, nombre_archivo, carpeta='assets/graficas'):\n",
    "    # Crear la carpeta si no existe\n",
    "    if not os.path.exists(carpeta):\n",
    "        os.makedirs(carpeta)\n",
    "    \n",
    "    pio.write_html(fig, f'{carpeta}/{nombre_archivo}.html')\n",
    "\n",
    "# Llamar a la función sumar_tablas con la lista de DataFrames como argumento\n",
    "fig = sumar_tablas(dataframes_list)"
   ]
  },
  {
   "cell_type": "code",
   "execution_count": 10,
   "metadata": {},
   "outputs": [
    {
     "name": "stdout",
     "output_type": "stream",
     "text": [
      "Tabla general total de registros:\n",
      "baño_total\n",
      "1.0     9993\n",
      "2.0    11820\n",
      "3.0     6199\n",
      "4.0     2852\n",
      "5.0      967\n",
      "6.0      287\n",
      "7.0      111\n",
      "8.0      111\n",
      "dtype: int64\n"
     ]
    }
   ],
   "source": [
    "def sumar_tablas(dataframes_list):\n",
    "    tabla_suma = None\n",
    "    \n",
    "    for df in dataframes_list:\n",
    "        tabla_actual = df.groupby('baño_total').size()\n",
    "        \n",
    "        if tabla_suma is None:\n",
    "            tabla_suma = tabla_actual\n",
    "        else:\n",
    "            tabla_suma = tabla_suma.add(tabla_actual, fill_value=0)\n",
    "    \n",
    "    return tabla_suma\n",
    "\n",
    "# Llamar a la función sumar_tablas con la lista de DataFrames como argumento\n",
    "tabla_suma = sumar_tablas(dataframes_list)\n",
    "print(\"Tabla general total de registros:\")\n",
    "print(tabla_suma)\n"
   ]
  },
  {
   "cell_type": "code",
   "execution_count": 11,
   "metadata": {},
   "outputs": [
    {
     "name": "stdout",
     "output_type": "stream",
     "text": [
      "Porcentaje de cada número de baños único en relación con el total de registros: 32340\n",
      "baño_total\n",
      "1.0    30.899814\n",
      "2.0    36.549165\n",
      "3.0    19.168213\n",
      "4.0     8.818800\n",
      "5.0     2.990105\n",
      "6.0     0.887446\n",
      "7.0     0.343228\n",
      "8.0     0.343228\n",
      "dtype: float64\n"
     ]
    }
   ],
   "source": [
    "# Calcular el total de registros\n",
    "total_registros = tabla_suma.sum()\n",
    "# Calcular el porcentaje que representa cada número de baños único del total\n",
    "porcentajes = (tabla_suma / total_registros) * 100\n",
    "\n",
    "# Imprimir los porcentajes\n",
    "print(\"Porcentaje de cada número de baños único en relación con el total de registros:\", total_registros)\n",
    "print(porcentajes)\n"
   ]
  },
  {
   "cell_type": "code",
   "execution_count": 12,
   "metadata": {},
   "outputs": [
    {
     "data": {
      "application/vnd.plotly.v1+json": {
       "config": {
        "plotlyServerURL": "https://plot.ly"
       },
       "data": [
        {
         "labels": [
          1,
          2,
          3,
          4,
          5,
          6,
          7,
          8
         ],
         "marker": {
          "colors": [
           "#2962ff",
           "#9500ff",
           "#ff0059",
           "#ff8c00",
           "#b4e600",
           "#2EC2A2",
           "#F79CB9",
           "#E50CB6",
           "#4225CF"
          ]
         },
         "rotation": 45,
         "sort": false,
         "type": "pie",
         "values": [
          30.899814471243044,
          36.54916512059369,
          19.168212739641312,
          8.818800247371676,
          2.9901051329622756,
          0.8874458874458875,
          0.3432282003710575,
          0.3432282003710575
         ]
        }
       ],
       "layout": {
        "margin": {
         "b": 10,
         "l": 10,
         "r": 10,
         "t": 10
        },
        "template": {
         "data": {
          "bar": [
           {
            "error_x": {
             "color": "#2a3f5f"
            },
            "error_y": {
             "color": "#2a3f5f"
            },
            "marker": {
             "line": {
              "color": "#E5ECF6",
              "width": 0.5
             },
             "pattern": {
              "fillmode": "overlay",
              "size": 10,
              "solidity": 0.2
             }
            },
            "type": "bar"
           }
          ],
          "barpolar": [
           {
            "marker": {
             "line": {
              "color": "#E5ECF6",
              "width": 0.5
             },
             "pattern": {
              "fillmode": "overlay",
              "size": 10,
              "solidity": 0.2
             }
            },
            "type": "barpolar"
           }
          ],
          "carpet": [
           {
            "aaxis": {
             "endlinecolor": "#2a3f5f",
             "gridcolor": "white",
             "linecolor": "white",
             "minorgridcolor": "white",
             "startlinecolor": "#2a3f5f"
            },
            "baxis": {
             "endlinecolor": "#2a3f5f",
             "gridcolor": "white",
             "linecolor": "white",
             "minorgridcolor": "white",
             "startlinecolor": "#2a3f5f"
            },
            "type": "carpet"
           }
          ],
          "choropleth": [
           {
            "colorbar": {
             "outlinewidth": 0,
             "ticks": ""
            },
            "type": "choropleth"
           }
          ],
          "contour": [
           {
            "colorbar": {
             "outlinewidth": 0,
             "ticks": ""
            },
            "colorscale": [
             [
              0,
              "#0d0887"
             ],
             [
              0.1111111111111111,
              "#46039f"
             ],
             [
              0.2222222222222222,
              "#7201a8"
             ],
             [
              0.3333333333333333,
              "#9c179e"
             ],
             [
              0.4444444444444444,
              "#bd3786"
             ],
             [
              0.5555555555555556,
              "#d8576b"
             ],
             [
              0.6666666666666666,
              "#ed7953"
             ],
             [
              0.7777777777777778,
              "#fb9f3a"
             ],
             [
              0.8888888888888888,
              "#fdca26"
             ],
             [
              1,
              "#f0f921"
             ]
            ],
            "type": "contour"
           }
          ],
          "contourcarpet": [
           {
            "colorbar": {
             "outlinewidth": 0,
             "ticks": ""
            },
            "type": "contourcarpet"
           }
          ],
          "heatmap": [
           {
            "colorbar": {
             "outlinewidth": 0,
             "ticks": ""
            },
            "colorscale": [
             [
              0,
              "#0d0887"
             ],
             [
              0.1111111111111111,
              "#46039f"
             ],
             [
              0.2222222222222222,
              "#7201a8"
             ],
             [
              0.3333333333333333,
              "#9c179e"
             ],
             [
              0.4444444444444444,
              "#bd3786"
             ],
             [
              0.5555555555555556,
              "#d8576b"
             ],
             [
              0.6666666666666666,
              "#ed7953"
             ],
             [
              0.7777777777777778,
              "#fb9f3a"
             ],
             [
              0.8888888888888888,
              "#fdca26"
             ],
             [
              1,
              "#f0f921"
             ]
            ],
            "type": "heatmap"
           }
          ],
          "heatmapgl": [
           {
            "colorbar": {
             "outlinewidth": 0,
             "ticks": ""
            },
            "colorscale": [
             [
              0,
              "#0d0887"
             ],
             [
              0.1111111111111111,
              "#46039f"
             ],
             [
              0.2222222222222222,
              "#7201a8"
             ],
             [
              0.3333333333333333,
              "#9c179e"
             ],
             [
              0.4444444444444444,
              "#bd3786"
             ],
             [
              0.5555555555555556,
              "#d8576b"
             ],
             [
              0.6666666666666666,
              "#ed7953"
             ],
             [
              0.7777777777777778,
              "#fb9f3a"
             ],
             [
              0.8888888888888888,
              "#fdca26"
             ],
             [
              1,
              "#f0f921"
             ]
            ],
            "type": "heatmapgl"
           }
          ],
          "histogram": [
           {
            "marker": {
             "pattern": {
              "fillmode": "overlay",
              "size": 10,
              "solidity": 0.2
             }
            },
            "type": "histogram"
           }
          ],
          "histogram2d": [
           {
            "colorbar": {
             "outlinewidth": 0,
             "ticks": ""
            },
            "colorscale": [
             [
              0,
              "#0d0887"
             ],
             [
              0.1111111111111111,
              "#46039f"
             ],
             [
              0.2222222222222222,
              "#7201a8"
             ],
             [
              0.3333333333333333,
              "#9c179e"
             ],
             [
              0.4444444444444444,
              "#bd3786"
             ],
             [
              0.5555555555555556,
              "#d8576b"
             ],
             [
              0.6666666666666666,
              "#ed7953"
             ],
             [
              0.7777777777777778,
              "#fb9f3a"
             ],
             [
              0.8888888888888888,
              "#fdca26"
             ],
             [
              1,
              "#f0f921"
             ]
            ],
            "type": "histogram2d"
           }
          ],
          "histogram2dcontour": [
           {
            "colorbar": {
             "outlinewidth": 0,
             "ticks": ""
            },
            "colorscale": [
             [
              0,
              "#0d0887"
             ],
             [
              0.1111111111111111,
              "#46039f"
             ],
             [
              0.2222222222222222,
              "#7201a8"
             ],
             [
              0.3333333333333333,
              "#9c179e"
             ],
             [
              0.4444444444444444,
              "#bd3786"
             ],
             [
              0.5555555555555556,
              "#d8576b"
             ],
             [
              0.6666666666666666,
              "#ed7953"
             ],
             [
              0.7777777777777778,
              "#fb9f3a"
             ],
             [
              0.8888888888888888,
              "#fdca26"
             ],
             [
              1,
              "#f0f921"
             ]
            ],
            "type": "histogram2dcontour"
           }
          ],
          "mesh3d": [
           {
            "colorbar": {
             "outlinewidth": 0,
             "ticks": ""
            },
            "type": "mesh3d"
           }
          ],
          "parcoords": [
           {
            "line": {
             "colorbar": {
              "outlinewidth": 0,
              "ticks": ""
             }
            },
            "type": "parcoords"
           }
          ],
          "pie": [
           {
            "automargin": true,
            "type": "pie"
           }
          ],
          "scatter": [
           {
            "fillpattern": {
             "fillmode": "overlay",
             "size": 10,
             "solidity": 0.2
            },
            "type": "scatter"
           }
          ],
          "scatter3d": [
           {
            "line": {
             "colorbar": {
              "outlinewidth": 0,
              "ticks": ""
             }
            },
            "marker": {
             "colorbar": {
              "outlinewidth": 0,
              "ticks": ""
             }
            },
            "type": "scatter3d"
           }
          ],
          "scattercarpet": [
           {
            "marker": {
             "colorbar": {
              "outlinewidth": 0,
              "ticks": ""
             }
            },
            "type": "scattercarpet"
           }
          ],
          "scattergeo": [
           {
            "marker": {
             "colorbar": {
              "outlinewidth": 0,
              "ticks": ""
             }
            },
            "type": "scattergeo"
           }
          ],
          "scattergl": [
           {
            "marker": {
             "colorbar": {
              "outlinewidth": 0,
              "ticks": ""
             }
            },
            "type": "scattergl"
           }
          ],
          "scattermapbox": [
           {
            "marker": {
             "colorbar": {
              "outlinewidth": 0,
              "ticks": ""
             }
            },
            "type": "scattermapbox"
           }
          ],
          "scatterpolar": [
           {
            "marker": {
             "colorbar": {
              "outlinewidth": 0,
              "ticks": ""
             }
            },
            "type": "scatterpolar"
           }
          ],
          "scatterpolargl": [
           {
            "marker": {
             "colorbar": {
              "outlinewidth": 0,
              "ticks": ""
             }
            },
            "type": "scatterpolargl"
           }
          ],
          "scatterternary": [
           {
            "marker": {
             "colorbar": {
              "outlinewidth": 0,
              "ticks": ""
             }
            },
            "type": "scatterternary"
           }
          ],
          "surface": [
           {
            "colorbar": {
             "outlinewidth": 0,
             "ticks": ""
            },
            "colorscale": [
             [
              0,
              "#0d0887"
             ],
             [
              0.1111111111111111,
              "#46039f"
             ],
             [
              0.2222222222222222,
              "#7201a8"
             ],
             [
              0.3333333333333333,
              "#9c179e"
             ],
             [
              0.4444444444444444,
              "#bd3786"
             ],
             [
              0.5555555555555556,
              "#d8576b"
             ],
             [
              0.6666666666666666,
              "#ed7953"
             ],
             [
              0.7777777777777778,
              "#fb9f3a"
             ],
             [
              0.8888888888888888,
              "#fdca26"
             ],
             [
              1,
              "#f0f921"
             ]
            ],
            "type": "surface"
           }
          ],
          "table": [
           {
            "cells": {
             "fill": {
              "color": "#EBF0F8"
             },
             "line": {
              "color": "white"
             }
            },
            "header": {
             "fill": {
              "color": "#C8D4E3"
             },
             "line": {
              "color": "white"
             }
            },
            "type": "table"
           }
          ]
         },
         "layout": {
          "annotationdefaults": {
           "arrowcolor": "#2a3f5f",
           "arrowhead": 0,
           "arrowwidth": 1
          },
          "autotypenumbers": "strict",
          "coloraxis": {
           "colorbar": {
            "outlinewidth": 0,
            "ticks": ""
           }
          },
          "colorscale": {
           "diverging": [
            [
             0,
             "#8e0152"
            ],
            [
             0.1,
             "#c51b7d"
            ],
            [
             0.2,
             "#de77ae"
            ],
            [
             0.3,
             "#f1b6da"
            ],
            [
             0.4,
             "#fde0ef"
            ],
            [
             0.5,
             "#f7f7f7"
            ],
            [
             0.6,
             "#e6f5d0"
            ],
            [
             0.7,
             "#b8e186"
            ],
            [
             0.8,
             "#7fbc41"
            ],
            [
             0.9,
             "#4d9221"
            ],
            [
             1,
             "#276419"
            ]
           ],
           "sequential": [
            [
             0,
             "#0d0887"
            ],
            [
             0.1111111111111111,
             "#46039f"
            ],
            [
             0.2222222222222222,
             "#7201a8"
            ],
            [
             0.3333333333333333,
             "#9c179e"
            ],
            [
             0.4444444444444444,
             "#bd3786"
            ],
            [
             0.5555555555555556,
             "#d8576b"
            ],
            [
             0.6666666666666666,
             "#ed7953"
            ],
            [
             0.7777777777777778,
             "#fb9f3a"
            ],
            [
             0.8888888888888888,
             "#fdca26"
            ],
            [
             1,
             "#f0f921"
            ]
           ],
           "sequentialminus": [
            [
             0,
             "#0d0887"
            ],
            [
             0.1111111111111111,
             "#46039f"
            ],
            [
             0.2222222222222222,
             "#7201a8"
            ],
            [
             0.3333333333333333,
             "#9c179e"
            ],
            [
             0.4444444444444444,
             "#bd3786"
            ],
            [
             0.5555555555555556,
             "#d8576b"
            ],
            [
             0.6666666666666666,
             "#ed7953"
            ],
            [
             0.7777777777777778,
             "#fb9f3a"
            ],
            [
             0.8888888888888888,
             "#fdca26"
            ],
            [
             1,
             "#f0f921"
            ]
           ]
          },
          "colorway": [
           "#636efa",
           "#EF553B",
           "#00cc96",
           "#ab63fa",
           "#FFA15A",
           "#19d3f3",
           "#FF6692",
           "#B6E880",
           "#FF97FF",
           "#FECB52"
          ],
          "font": {
           "color": "#2a3f5f"
          },
          "geo": {
           "bgcolor": "white",
           "lakecolor": "white",
           "landcolor": "#E5ECF6",
           "showlakes": true,
           "showland": true,
           "subunitcolor": "white"
          },
          "hoverlabel": {
           "align": "left"
          },
          "hovermode": "closest",
          "mapbox": {
           "style": "light"
          },
          "paper_bgcolor": "white",
          "plot_bgcolor": "#E5ECF6",
          "polar": {
           "angularaxis": {
            "gridcolor": "white",
            "linecolor": "white",
            "ticks": ""
           },
           "bgcolor": "#E5ECF6",
           "radialaxis": {
            "gridcolor": "white",
            "linecolor": "white",
            "ticks": ""
           }
          },
          "scene": {
           "xaxis": {
            "backgroundcolor": "#E5ECF6",
            "gridcolor": "white",
            "gridwidth": 2,
            "linecolor": "white",
            "showbackground": true,
            "ticks": "",
            "zerolinecolor": "white"
           },
           "yaxis": {
            "backgroundcolor": "#E5ECF6",
            "gridcolor": "white",
            "gridwidth": 2,
            "linecolor": "white",
            "showbackground": true,
            "ticks": "",
            "zerolinecolor": "white"
           },
           "zaxis": {
            "backgroundcolor": "#E5ECF6",
            "gridcolor": "white",
            "gridwidth": 2,
            "linecolor": "white",
            "showbackground": true,
            "ticks": "",
            "zerolinecolor": "white"
           }
          },
          "shapedefaults": {
           "line": {
            "color": "#2a3f5f"
           }
          },
          "ternary": {
           "aaxis": {
            "gridcolor": "white",
            "linecolor": "white",
            "ticks": ""
           },
           "baxis": {
            "gridcolor": "white",
            "linecolor": "white",
            "ticks": ""
           },
           "bgcolor": "#E5ECF6",
           "caxis": {
            "gridcolor": "white",
            "linecolor": "white",
            "ticks": ""
           }
          },
          "title": {
           "x": 0.05
          },
          "xaxis": {
           "automargin": true,
           "gridcolor": "white",
           "linecolor": "white",
           "ticks": "",
           "title": {
            "standoff": 15
           },
           "zerolinecolor": "white",
           "zerolinewidth": 2
          },
          "yaxis": {
           "automargin": true,
           "gridcolor": "white",
           "linecolor": "white",
           "ticks": "",
           "title": {
            "standoff": 15
           },
           "zerolinecolor": "white",
           "zerolinewidth": 2
          }
         }
        },
        "title": {
         "font": {
          "size": 20
         },
         "x": 0.5
        }
       }
      }
     },
     "metadata": {},
     "output_type": "display_data"
    }
   ],
   "source": [
    "import os\n",
    "import plotly.graph_objects as go\n",
    "import plotly.io as pio\n",
    "\n",
    "# Lista de colores\n",
    "colores = ['#2962ff', '#9500ff', '#ff0059', '#ff8c00', '#b4e600', '#2EC2A2','#F79CB9','#E50CB6','#4225CF']\n",
    "\n",
    "# Función para sumar tablas\n",
    "def sumar_tablas(dataframes_list):\n",
    "    tabla_suma = None\n",
    "    \n",
    "    for df in dataframes_list:\n",
    "        tabla_actual = df.groupby('baño_total').size()\n",
    "        \n",
    "        if tabla_suma is None:\n",
    "            tabla_suma = tabla_actual\n",
    "        else:\n",
    "            tabla_suma = tabla_suma.add(tabla_actual, fill_value=0)\n",
    "    \n",
    "    return tabla_suma\n",
    "\n",
    "# Función para calcular porcentajes\n",
    "def calcular_porcentajes(tabla):\n",
    "    # Calcular los porcentajes\n",
    "    tabla_porcentajes = tabla / tabla.sum() * 100\n",
    "    return tabla_porcentajes\n",
    "\n",
    "# Llamar a la función sumar_tablas con la lista de DataFrames como argumento\n",
    "tabla_suma = sumar_tablas(dataframes_list)\n",
    "porcentajes = calcular_porcentajes(tabla_suma) # Calcular porcentajes\n",
    "\n",
    "# Crear el gráfico de pastel con colores especificados\n",
    "figURE = go.Figure(data=[go.Pie(labels=porcentajes.index, values=porcentajes, sort=False, marker=dict(colors=colores))])\n",
    "figURE.update_layout( title_x=0.5, title_font_size=20,margin=dict(l=10, r=10, t=10, b=10),  )\n",
    "figURE.update_traces(rotation=45) # Ángulo de inicio de las porciones del gráfico\n",
    "\n",
    "# Exportar gráfica como archivo HTML y mostrar la figura\n",
    "def guardar_grafico_como_html(figURE, nombre_archivo, carpeta='assets/graficas'):\n",
    "    # Crear la carpeta si no existe\n",
    "    if not os.path.exists(carpeta):\n",
    "        os.makedirs(carpeta)\n",
    "    \n",
    "    # Gráfica como archivo HTML en la carpeta especificada\n",
    "    pio.write_html(figURE, f'{carpeta}/{nombre_archivo}.html')\n",
    "\n",
    "# Exportar\n",
    "guardar_grafico_como_html(figURE, 'g_pie_banos', carpeta='assets/graficas')\n",
    "\n",
    "# Mostrar la figura\n",
    "figURE.show()"
   ]
  },
  {
   "cell_type": "code",
   "execution_count": null,
   "metadata": {},
   "outputs": [],
   "source": []
  }
 ],
 "metadata": {
  "kernelspec": {
   "display_name": "base",
   "language": "python",
   "name": "python3"
  },
  "language_info": {
   "codemirror_mode": {
    "name": "ipython",
    "version": 3
   },
   "file_extension": ".py",
   "mimetype": "text/x-python",
   "name": "python",
   "nbconvert_exporter": "python",
   "pygments_lexer": "ipython3",
   "version": "3.9.13"
  }
 },
 "nbformat": 4,
 "nbformat_minor": 2
}
