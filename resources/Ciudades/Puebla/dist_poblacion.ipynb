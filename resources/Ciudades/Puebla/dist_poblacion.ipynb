{
 "cells": [
  {
   "cell_type": "markdown",
   "metadata": {},
   "source": [
    "# **Distribución de la población por género y rango de edad**"
   ]
  },
  {
   "cell_type": "code",
   "execution_count": 1,
   "metadata": {},
   "outputs": [
    {
     "ename": "ImportError",
     "evalue": "DLL load failed while importing _multiarray_umath: No se puede encontrar el módulo especificado.",
     "output_type": "error",
     "traceback": [
      "\u001b[1;31m---------------------------------------------------------------------------\u001b[0m",
      "\u001b[1;31mImportError\u001b[0m                               Traceback (most recent call last)",
      "\u001b[1;31mImportError\u001b[0m: DLL load failed while importing _multiarray_umath: No se puede encontrar el módulo especificado."
     ]
    },
    {
     "name": "stdout",
     "output_type": "stream",
     "text": [
      "Lista de DataFrames filtrados:\n"
     ]
    },
    {
     "data": {
      "text/plain": [
       "['df_poblacion_puebla']"
      ]
     },
     "execution_count": 1,
     "metadata": {},
     "output_type": "execute_result"
    }
   ],
   "source": [
    "# Manejo de datos\n",
    "import os # Directorios\n",
    "import pandas as pd # Manipulación df\n",
    "# Gráficas\n",
    "import plotly.graph_objects as go #Para obtener librería usar: pip install plotly\n",
    "from plotly.subplots import make_subplots\n",
    "import plotly.io as pio # Exportar gráfica\n",
    "\n",
    "# Obtener el directorio actual de trabajo\n",
    "directorio_actual = os.getcwd()\n",
    "\n",
    "# Directorio donde se encuentran los archivos JSON (ruta relativa)\n",
    "directorio_json = os.path.join(directorio_actual, '../../db/datos_json')\n",
    "\n",
    "# Obtener la lista de archivos JSON en el directorio\n",
    "archivos_json = os.listdir(directorio_json)\n",
    "\n",
    "# Cargar los archivos JSON y crear DataFrames\n",
    "for archivo in archivos_json:\n",
    "    nombre_tabla = archivo.replace('datos_', '').replace('.json', '')\n",
    "    ruta_json = os.path.join(directorio_json, archivo)\n",
    "    globals()[f\"df_{nombre_tabla}\"] = pd.read_json(ruta_json)\n",
    "\n",
    "# Obtener todos los nombres de las variables globales\n",
    "nombres_variables_globales = list(globals().keys())\n",
    "\n",
    "# Filtrar los nombres que comienzan con \"df_\", contienen \"alfa_q\" y \"pachuca\"\n",
    "nombres_df_filtrados = [\n",
    "    nombre for nombre in nombres_variables_globales \n",
    "    # Caso de cuando no son las alfa q\n",
    "    if nombre.startswith(\"df_poblacion\") and ('puebla' in nombre)\n",
    "\n",
    "    #if nombre.startswith(\"df_\") and \"tulancingo\" in nombre    \n",
    "    #and (\"alfa_q\" in nombre or \"jul_2023\" in nombre or \"sep_2023\" in nombre or \"feb_2024\" in nombre or \"mar_2024\" in nombre or \"may_2024\" in nombre)\n",
    "]\n",
    "\n",
    "# Imprimir la lista de DataFrames filtrados\n",
    "print(\"Lista de DataFrames filtrados:\")\n",
    "nombres_df_filtrados"
   ]
  },
  {
   "cell_type": "code",
   "execution_count": 2,
   "metadata": {},
   "outputs": [
    {
     "name": "stdout",
     "output_type": "stream",
     "text": [
      "Columnas renombradas en los DataFrames filtrados.\n"
     ]
    }
   ],
   "source": [
    "# Iterar sobre cada DataFrame en la lista filtrada\n",
    "for nombre_df in nombres_df_filtrados:\n",
    "    # Obtener el DataFrame usando globals()\n",
    "    df = globals()[nombre_df]\n",
    "    \n",
    "    df.rename(columns={'Hombres':'hombres','Mujeres':'mujeres'}, inplace=True)\n",
    "        # Asignar el DataFrame modificado de nuevo a la variable global\n",
    "    globals()[nombre_df] = df \n",
    "\n",
    "# Imprimir confirmación\n",
    "print(\"Columnas renombradas en los DataFrames filtrados.\")\n"
   ]
  },
  {
   "cell_type": "code",
   "execution_count": 3,
   "metadata": {},
   "outputs": [],
   "source": [
    "# Crear una lista de DataFrames seleccionados con las columnas específicas\n",
    "dataframes_list = []\n",
    "for nombre_df in nombres_df_filtrados:\n",
    "    # Seleccionar las columnas 'id' y 'categoria'\n",
    "    segment_df = globals()[nombre_df][['id', 'rango', 'total', 'hombres', 'mujeres']]\n",
    "    # Añadir el DataFrame a la lista\n",
    "    dataframes_list.append(segment_df)"
   ]
  },
  {
   "cell_type": "code",
   "execution_count": 4,
   "metadata": {},
   "outputs": [
    {
     "data": {
      "text/html": [
       "<div>\n",
       "<style scoped>\n",
       "    .dataframe tbody tr th:only-of-type {\n",
       "        vertical-align: middle;\n",
       "    }\n",
       "\n",
       "    .dataframe tbody tr th {\n",
       "        vertical-align: top;\n",
       "    }\n",
       "\n",
       "    .dataframe thead th {\n",
       "        text-align: right;\n",
       "    }\n",
       "</style>\n",
       "<table border=\"1\" class=\"dataframe\">\n",
       "  <thead>\n",
       "    <tr style=\"text-align: right;\">\n",
       "      <th></th>\n",
       "      <th>id</th>\n",
       "      <th>rango</th>\n",
       "      <th>total</th>\n",
       "      <th>hombres</th>\n",
       "      <th>mujeres</th>\n",
       "    </tr>\n",
       "  </thead>\n",
       "  <tbody>\n",
       "    <tr>\n",
       "      <th>0</th>\n",
       "      <td>1</td>\n",
       "      <td>0 a 4 años</td>\n",
       "      <td>118930</td>\n",
       "      <td>60146</td>\n",
       "      <td>58784</td>\n",
       "    </tr>\n",
       "    <tr>\n",
       "      <th>1</th>\n",
       "      <td>2</td>\n",
       "      <td>10 a 14 años</td>\n",
       "      <td>129678</td>\n",
       "      <td>65953</td>\n",
       "      <td>63725</td>\n",
       "    </tr>\n",
       "    <tr>\n",
       "      <th>2</th>\n",
       "      <td>3</td>\n",
       "      <td>15 a 19 años</td>\n",
       "      <td>143052</td>\n",
       "      <td>72578</td>\n",
       "      <td>70474</td>\n",
       "    </tr>\n",
       "    <tr>\n",
       "      <th>3</th>\n",
       "      <td>4</td>\n",
       "      <td>20 a 24 años</td>\n",
       "      <td>154900</td>\n",
       "      <td>77509</td>\n",
       "      <td>77391</td>\n",
       "    </tr>\n",
       "    <tr>\n",
       "      <th>4</th>\n",
       "      <td>5</td>\n",
       "      <td>25 a 29 años</td>\n",
       "      <td>142013</td>\n",
       "      <td>69786</td>\n",
       "      <td>72227</td>\n",
       "    </tr>\n",
       "    <tr>\n",
       "      <th>5</th>\n",
       "      <td>6</td>\n",
       "      <td>30 a 34 años</td>\n",
       "      <td>125919</td>\n",
       "      <td>60006</td>\n",
       "      <td>65913</td>\n",
       "    </tr>\n",
       "    <tr>\n",
       "      <th>6</th>\n",
       "      <td>7</td>\n",
       "      <td>35 a 39 años</td>\n",
       "      <td>122634</td>\n",
       "      <td>57778</td>\n",
       "      <td>64856</td>\n",
       "    </tr>\n",
       "    <tr>\n",
       "      <th>7</th>\n",
       "      <td>8</td>\n",
       "      <td>40 a 44 años</td>\n",
       "      <td>120077</td>\n",
       "      <td>55103</td>\n",
       "      <td>64974</td>\n",
       "    </tr>\n",
       "    <tr>\n",
       "      <th>8</th>\n",
       "      <td>9</td>\n",
       "      <td>45 a 49 años</td>\n",
       "      <td>113050</td>\n",
       "      <td>52131</td>\n",
       "      <td>60919</td>\n",
       "    </tr>\n",
       "    <tr>\n",
       "      <th>9</th>\n",
       "      <td>10</td>\n",
       "      <td>5 a 9 años</td>\n",
       "      <td>124134</td>\n",
       "      <td>62979</td>\n",
       "      <td>61155</td>\n",
       "    </tr>\n",
       "    <tr>\n",
       "      <th>10</th>\n",
       "      <td>11</td>\n",
       "      <td>50 a 54 años</td>\n",
       "      <td>101491</td>\n",
       "      <td>45955</td>\n",
       "      <td>55536</td>\n",
       "    </tr>\n",
       "    <tr>\n",
       "      <th>11</th>\n",
       "      <td>12</td>\n",
       "      <td>55 a 59 años</td>\n",
       "      <td>80397</td>\n",
       "      <td>36298</td>\n",
       "      <td>44099</td>\n",
       "    </tr>\n",
       "    <tr>\n",
       "      <th>12</th>\n",
       "      <td>13</td>\n",
       "      <td>60 a 64 años</td>\n",
       "      <td>70250</td>\n",
       "      <td>31014</td>\n",
       "      <td>39236</td>\n",
       "    </tr>\n",
       "    <tr>\n",
       "      <th>13</th>\n",
       "      <td>14</td>\n",
       "      <td>65 a 69 años</td>\n",
       "      <td>52633</td>\n",
       "      <td>23209</td>\n",
       "      <td>29424</td>\n",
       "    </tr>\n",
       "    <tr>\n",
       "      <th>14</th>\n",
       "      <td>15</td>\n",
       "      <td>70 a 74 años</td>\n",
       "      <td>38484</td>\n",
       "      <td>16669</td>\n",
       "      <td>21815</td>\n",
       "    </tr>\n",
       "    <tr>\n",
       "      <th>15</th>\n",
       "      <td>16</td>\n",
       "      <td>75 a 79 años</td>\n",
       "      <td>24120</td>\n",
       "      <td>10462</td>\n",
       "      <td>13658</td>\n",
       "    </tr>\n",
       "    <tr>\n",
       "      <th>16</th>\n",
       "      <td>17</td>\n",
       "      <td>80 a 84 años</td>\n",
       "      <td>15864</td>\n",
       "      <td>6332</td>\n",
       "      <td>9532</td>\n",
       "    </tr>\n",
       "    <tr>\n",
       "      <th>17</th>\n",
       "      <td>18</td>\n",
       "      <td>85 años o más</td>\n",
       "      <td>13551</td>\n",
       "      <td>5075</td>\n",
       "      <td>8476</td>\n",
       "    </tr>\n",
       "  </tbody>\n",
       "</table>\n",
       "</div>"
      ],
      "text/plain": [
       "    id          rango   total  hombres  mujeres\n",
       "0    1     0 a 4 años  118930    60146    58784\n",
       "1    2   10 a 14 años  129678    65953    63725\n",
       "2    3   15 a 19 años  143052    72578    70474\n",
       "3    4   20 a 24 años  154900    77509    77391\n",
       "4    5   25 a 29 años  142013    69786    72227\n",
       "5    6   30 a 34 años  125919    60006    65913\n",
       "6    7   35 a 39 años  122634    57778    64856\n",
       "7    8   40 a 44 años  120077    55103    64974\n",
       "8    9   45 a 49 años  113050    52131    60919\n",
       "9   10     5 a 9 años  124134    62979    61155\n",
       "10  11   50 a 54 años  101491    45955    55536\n",
       "11  12   55 a 59 años   80397    36298    44099\n",
       "12  13   60 a 64 años   70250    31014    39236\n",
       "13  14   65 a 69 años   52633    23209    29424\n",
       "14  15   70 a 74 años   38484    16669    21815\n",
       "15  16   75 a 79 años   24120    10462    13658\n",
       "16  17   80 a 84 años   15864     6332     9532\n",
       "17  18  85 años o más   13551     5075     8476"
      ]
     },
     "execution_count": 4,
     "metadata": {},
     "output_type": "execute_result"
    }
   ],
   "source": [
    "dfs = []\n",
    "for df in dataframes_list:\n",
    "    dfs.append(df)\n",
    "dfs = pd.concat(dfs, ignore_index=True)\n",
    "dfs"
   ]
  },
  {
   "cell_type": "code",
   "execution_count": 5,
   "metadata": {},
   "outputs": [
    {
     "data": {
      "text/html": [
       "<div>\n",
       "<style scoped>\n",
       "    .dataframe tbody tr th:only-of-type {\n",
       "        vertical-align: middle;\n",
       "    }\n",
       "\n",
       "    .dataframe tbody tr th {\n",
       "        vertical-align: top;\n",
       "    }\n",
       "\n",
       "    .dataframe thead th {\n",
       "        text-align: right;\n",
       "    }\n",
       "</style>\n",
       "<table border=\"1\" class=\"dataframe\">\n",
       "  <thead>\n",
       "    <tr style=\"text-align: right;\">\n",
       "      <th></th>\n",
       "      <th>id</th>\n",
       "      <th>rango</th>\n",
       "      <th>total</th>\n",
       "      <th>hombres</th>\n",
       "      <th>mujeres</th>\n",
       "      <th>limite_inferior</th>\n",
       "      <th>ids</th>\n",
       "    </tr>\n",
       "  </thead>\n",
       "  <tbody>\n",
       "    <tr>\n",
       "      <th>0</th>\n",
       "      <td>1</td>\n",
       "      <td>0 a 4 años</td>\n",
       "      <td>118930</td>\n",
       "      <td>60146</td>\n",
       "      <td>58784</td>\n",
       "      <td>0</td>\n",
       "      <td>1</td>\n",
       "    </tr>\n",
       "    <tr>\n",
       "      <th>1</th>\n",
       "      <td>10</td>\n",
       "      <td>5 a 9 años</td>\n",
       "      <td>124134</td>\n",
       "      <td>62979</td>\n",
       "      <td>61155</td>\n",
       "      <td>5</td>\n",
       "      <td>2</td>\n",
       "    </tr>\n",
       "    <tr>\n",
       "      <th>2</th>\n",
       "      <td>2</td>\n",
       "      <td>10 a 14 años</td>\n",
       "      <td>129678</td>\n",
       "      <td>65953</td>\n",
       "      <td>63725</td>\n",
       "      <td>10</td>\n",
       "      <td>3</td>\n",
       "    </tr>\n",
       "    <tr>\n",
       "      <th>3</th>\n",
       "      <td>3</td>\n",
       "      <td>15 a 19 años</td>\n",
       "      <td>143052</td>\n",
       "      <td>72578</td>\n",
       "      <td>70474</td>\n",
       "      <td>15</td>\n",
       "      <td>4</td>\n",
       "    </tr>\n",
       "    <tr>\n",
       "      <th>4</th>\n",
       "      <td>4</td>\n",
       "      <td>20 a 24 años</td>\n",
       "      <td>154900</td>\n",
       "      <td>77509</td>\n",
       "      <td>77391</td>\n",
       "      <td>20</td>\n",
       "      <td>5</td>\n",
       "    </tr>\n",
       "    <tr>\n",
       "      <th>5</th>\n",
       "      <td>5</td>\n",
       "      <td>25 a 29 años</td>\n",
       "      <td>142013</td>\n",
       "      <td>69786</td>\n",
       "      <td>72227</td>\n",
       "      <td>25</td>\n",
       "      <td>6</td>\n",
       "    </tr>\n",
       "    <tr>\n",
       "      <th>6</th>\n",
       "      <td>6</td>\n",
       "      <td>30 a 34 años</td>\n",
       "      <td>125919</td>\n",
       "      <td>60006</td>\n",
       "      <td>65913</td>\n",
       "      <td>30</td>\n",
       "      <td>7</td>\n",
       "    </tr>\n",
       "    <tr>\n",
       "      <th>7</th>\n",
       "      <td>7</td>\n",
       "      <td>35 a 39 años</td>\n",
       "      <td>122634</td>\n",
       "      <td>57778</td>\n",
       "      <td>64856</td>\n",
       "      <td>35</td>\n",
       "      <td>8</td>\n",
       "    </tr>\n",
       "    <tr>\n",
       "      <th>8</th>\n",
       "      <td>8</td>\n",
       "      <td>40 a 44 años</td>\n",
       "      <td>120077</td>\n",
       "      <td>55103</td>\n",
       "      <td>64974</td>\n",
       "      <td>40</td>\n",
       "      <td>9</td>\n",
       "    </tr>\n",
       "    <tr>\n",
       "      <th>9</th>\n",
       "      <td>9</td>\n",
       "      <td>45 a 49 años</td>\n",
       "      <td>113050</td>\n",
       "      <td>52131</td>\n",
       "      <td>60919</td>\n",
       "      <td>45</td>\n",
       "      <td>10</td>\n",
       "    </tr>\n",
       "    <tr>\n",
       "      <th>10</th>\n",
       "      <td>11</td>\n",
       "      <td>50 a 54 años</td>\n",
       "      <td>101491</td>\n",
       "      <td>45955</td>\n",
       "      <td>55536</td>\n",
       "      <td>50</td>\n",
       "      <td>11</td>\n",
       "    </tr>\n",
       "    <tr>\n",
       "      <th>11</th>\n",
       "      <td>12</td>\n",
       "      <td>55 a 59 años</td>\n",
       "      <td>80397</td>\n",
       "      <td>36298</td>\n",
       "      <td>44099</td>\n",
       "      <td>55</td>\n",
       "      <td>12</td>\n",
       "    </tr>\n",
       "    <tr>\n",
       "      <th>12</th>\n",
       "      <td>13</td>\n",
       "      <td>60 a 64 años</td>\n",
       "      <td>70250</td>\n",
       "      <td>31014</td>\n",
       "      <td>39236</td>\n",
       "      <td>60</td>\n",
       "      <td>13</td>\n",
       "    </tr>\n",
       "    <tr>\n",
       "      <th>13</th>\n",
       "      <td>14</td>\n",
       "      <td>65 a 69 años</td>\n",
       "      <td>52633</td>\n",
       "      <td>23209</td>\n",
       "      <td>29424</td>\n",
       "      <td>65</td>\n",
       "      <td>14</td>\n",
       "    </tr>\n",
       "    <tr>\n",
       "      <th>14</th>\n",
       "      <td>15</td>\n",
       "      <td>70 a 74 años</td>\n",
       "      <td>38484</td>\n",
       "      <td>16669</td>\n",
       "      <td>21815</td>\n",
       "      <td>70</td>\n",
       "      <td>15</td>\n",
       "    </tr>\n",
       "    <tr>\n",
       "      <th>15</th>\n",
       "      <td>16</td>\n",
       "      <td>75 a 79 años</td>\n",
       "      <td>24120</td>\n",
       "      <td>10462</td>\n",
       "      <td>13658</td>\n",
       "      <td>75</td>\n",
       "      <td>16</td>\n",
       "    </tr>\n",
       "    <tr>\n",
       "      <th>16</th>\n",
       "      <td>17</td>\n",
       "      <td>80 a 84 años</td>\n",
       "      <td>15864</td>\n",
       "      <td>6332</td>\n",
       "      <td>9532</td>\n",
       "      <td>80</td>\n",
       "      <td>17</td>\n",
       "    </tr>\n",
       "    <tr>\n",
       "      <th>17</th>\n",
       "      <td>18</td>\n",
       "      <td>85 años o más</td>\n",
       "      <td>13551</td>\n",
       "      <td>5075</td>\n",
       "      <td>8476</td>\n",
       "      <td>85</td>\n",
       "      <td>18</td>\n",
       "    </tr>\n",
       "  </tbody>\n",
       "</table>\n",
       "</div>"
      ],
      "text/plain": [
       "    id          rango   total  hombres  mujeres  limite_inferior  ids\n",
       "0    1     0 a 4 años  118930    60146    58784                0    1\n",
       "1   10     5 a 9 años  124134    62979    61155                5    2\n",
       "2    2   10 a 14 años  129678    65953    63725               10    3\n",
       "3    3   15 a 19 años  143052    72578    70474               15    4\n",
       "4    4   20 a 24 años  154900    77509    77391               20    5\n",
       "5    5   25 a 29 años  142013    69786    72227               25    6\n",
       "6    6   30 a 34 años  125919    60006    65913               30    7\n",
       "7    7   35 a 39 años  122634    57778    64856               35    8\n",
       "8    8   40 a 44 años  120077    55103    64974               40    9\n",
       "9    9   45 a 49 años  113050    52131    60919               45   10\n",
       "10  11   50 a 54 años  101491    45955    55536               50   11\n",
       "11  12   55 a 59 años   80397    36298    44099               55   12\n",
       "12  13   60 a 64 años   70250    31014    39236               60   13\n",
       "13  14   65 a 69 años   52633    23209    29424               65   14\n",
       "14  15   70 a 74 años   38484    16669    21815               70   15\n",
       "15  16   75 a 79 años   24120    10462    13658               75   16\n",
       "16  17   80 a 84 años   15864     6332     9532               80   17\n",
       "17  18  85 años o más   13551     5075     8476               85   18"
      ]
     },
     "execution_count": 5,
     "metadata": {},
     "output_type": "execute_result"
    }
   ],
   "source": [
    "dfs['limite_inferior'] = df['rango'].apply(lambda x: int(x.split()[0]))\n",
    "# Ordenar el DataFrame por el límite inferior\n",
    "dfs = dfs.sort_values(by='limite_inferior').reset_index(drop=True)\n",
    "dfs['ids'] = range(1, len(dfs) + 1)\n",
    "dfs"
   ]
  },
  {
   "cell_type": "code",
   "execution_count": 6,
   "metadata": {},
   "outputs": [
    {
     "data": {
      "text/html": [
       "<div>\n",
       "<style scoped>\n",
       "    .dataframe tbody tr th:only-of-type {\n",
       "        vertical-align: middle;\n",
       "    }\n",
       "\n",
       "    .dataframe tbody tr th {\n",
       "        vertical-align: top;\n",
       "    }\n",
       "\n",
       "    .dataframe thead th {\n",
       "        text-align: right;\n",
       "    }\n",
       "</style>\n",
       "<table border=\"1\" class=\"dataframe\">\n",
       "  <thead>\n",
       "    <tr style=\"text-align: right;\">\n",
       "      <th></th>\n",
       "      <th>id</th>\n",
       "      <th>rango</th>\n",
       "      <th>total</th>\n",
       "      <th>hombres</th>\n",
       "      <th>mujeres</th>\n",
       "      <th>limite_inferior</th>\n",
       "      <th>ids</th>\n",
       "      <th>rango_amplio</th>\n",
       "    </tr>\n",
       "  </thead>\n",
       "  <tbody>\n",
       "    <tr>\n",
       "      <th>0</th>\n",
       "      <td>1</td>\n",
       "      <td>0 a 4 años</td>\n",
       "      <td>118930</td>\n",
       "      <td>60146</td>\n",
       "      <td>58784</td>\n",
       "      <td>0</td>\n",
       "      <td>1</td>\n",
       "      <td>0-19</td>\n",
       "    </tr>\n",
       "    <tr>\n",
       "      <th>1</th>\n",
       "      <td>10</td>\n",
       "      <td>5 a 9 años</td>\n",
       "      <td>124134</td>\n",
       "      <td>62979</td>\n",
       "      <td>61155</td>\n",
       "      <td>5</td>\n",
       "      <td>2</td>\n",
       "      <td>0-19</td>\n",
       "    </tr>\n",
       "    <tr>\n",
       "      <th>2</th>\n",
       "      <td>2</td>\n",
       "      <td>10 a 14 años</td>\n",
       "      <td>129678</td>\n",
       "      <td>65953</td>\n",
       "      <td>63725</td>\n",
       "      <td>10</td>\n",
       "      <td>3</td>\n",
       "      <td>0-19</td>\n",
       "    </tr>\n",
       "    <tr>\n",
       "      <th>3</th>\n",
       "      <td>3</td>\n",
       "      <td>15 a 19 años</td>\n",
       "      <td>143052</td>\n",
       "      <td>72578</td>\n",
       "      <td>70474</td>\n",
       "      <td>15</td>\n",
       "      <td>4</td>\n",
       "      <td>0-19</td>\n",
       "    </tr>\n",
       "    <tr>\n",
       "      <th>4</th>\n",
       "      <td>4</td>\n",
       "      <td>20 a 24 años</td>\n",
       "      <td>154900</td>\n",
       "      <td>77509</td>\n",
       "      <td>77391</td>\n",
       "      <td>20</td>\n",
       "      <td>5</td>\n",
       "      <td>20-34</td>\n",
       "    </tr>\n",
       "    <tr>\n",
       "      <th>5</th>\n",
       "      <td>5</td>\n",
       "      <td>25 a 29 años</td>\n",
       "      <td>142013</td>\n",
       "      <td>69786</td>\n",
       "      <td>72227</td>\n",
       "      <td>25</td>\n",
       "      <td>6</td>\n",
       "      <td>20-34</td>\n",
       "    </tr>\n",
       "    <tr>\n",
       "      <th>6</th>\n",
       "      <td>6</td>\n",
       "      <td>30 a 34 años</td>\n",
       "      <td>125919</td>\n",
       "      <td>60006</td>\n",
       "      <td>65913</td>\n",
       "      <td>30</td>\n",
       "      <td>7</td>\n",
       "      <td>20-34</td>\n",
       "    </tr>\n",
       "    <tr>\n",
       "      <th>7</th>\n",
       "      <td>7</td>\n",
       "      <td>35 a 39 años</td>\n",
       "      <td>122634</td>\n",
       "      <td>57778</td>\n",
       "      <td>64856</td>\n",
       "      <td>35</td>\n",
       "      <td>8</td>\n",
       "      <td>35-49</td>\n",
       "    </tr>\n",
       "    <tr>\n",
       "      <th>8</th>\n",
       "      <td>8</td>\n",
       "      <td>40 a 44 años</td>\n",
       "      <td>120077</td>\n",
       "      <td>55103</td>\n",
       "      <td>64974</td>\n",
       "      <td>40</td>\n",
       "      <td>9</td>\n",
       "      <td>35-49</td>\n",
       "    </tr>\n",
       "    <tr>\n",
       "      <th>9</th>\n",
       "      <td>9</td>\n",
       "      <td>45 a 49 años</td>\n",
       "      <td>113050</td>\n",
       "      <td>52131</td>\n",
       "      <td>60919</td>\n",
       "      <td>45</td>\n",
       "      <td>10</td>\n",
       "      <td>35-49</td>\n",
       "    </tr>\n",
       "    <tr>\n",
       "      <th>10</th>\n",
       "      <td>11</td>\n",
       "      <td>50 a 54 años</td>\n",
       "      <td>101491</td>\n",
       "      <td>45955</td>\n",
       "      <td>55536</td>\n",
       "      <td>50</td>\n",
       "      <td>11</td>\n",
       "      <td>50-64</td>\n",
       "    </tr>\n",
       "    <tr>\n",
       "      <th>11</th>\n",
       "      <td>12</td>\n",
       "      <td>55 a 59 años</td>\n",
       "      <td>80397</td>\n",
       "      <td>36298</td>\n",
       "      <td>44099</td>\n",
       "      <td>55</td>\n",
       "      <td>12</td>\n",
       "      <td>50-64</td>\n",
       "    </tr>\n",
       "    <tr>\n",
       "      <th>12</th>\n",
       "      <td>13</td>\n",
       "      <td>60 a 64 años</td>\n",
       "      <td>70250</td>\n",
       "      <td>31014</td>\n",
       "      <td>39236</td>\n",
       "      <td>60</td>\n",
       "      <td>13</td>\n",
       "      <td>50-64</td>\n",
       "    </tr>\n",
       "    <tr>\n",
       "      <th>13</th>\n",
       "      <td>14</td>\n",
       "      <td>65 a 69 años</td>\n",
       "      <td>52633</td>\n",
       "      <td>23209</td>\n",
       "      <td>29424</td>\n",
       "      <td>65</td>\n",
       "      <td>14</td>\n",
       "      <td>65+</td>\n",
       "    </tr>\n",
       "    <tr>\n",
       "      <th>14</th>\n",
       "      <td>15</td>\n",
       "      <td>70 a 74 años</td>\n",
       "      <td>38484</td>\n",
       "      <td>16669</td>\n",
       "      <td>21815</td>\n",
       "      <td>70</td>\n",
       "      <td>15</td>\n",
       "      <td>65+</td>\n",
       "    </tr>\n",
       "    <tr>\n",
       "      <th>15</th>\n",
       "      <td>16</td>\n",
       "      <td>75 a 79 años</td>\n",
       "      <td>24120</td>\n",
       "      <td>10462</td>\n",
       "      <td>13658</td>\n",
       "      <td>75</td>\n",
       "      <td>16</td>\n",
       "      <td>65+</td>\n",
       "    </tr>\n",
       "    <tr>\n",
       "      <th>16</th>\n",
       "      <td>17</td>\n",
       "      <td>80 a 84 años</td>\n",
       "      <td>15864</td>\n",
       "      <td>6332</td>\n",
       "      <td>9532</td>\n",
       "      <td>80</td>\n",
       "      <td>17</td>\n",
       "      <td>65+</td>\n",
       "    </tr>\n",
       "    <tr>\n",
       "      <th>17</th>\n",
       "      <td>18</td>\n",
       "      <td>85 años o más</td>\n",
       "      <td>13551</td>\n",
       "      <td>5075</td>\n",
       "      <td>8476</td>\n",
       "      <td>85</td>\n",
       "      <td>18</td>\n",
       "      <td>65+</td>\n",
       "    </tr>\n",
       "  </tbody>\n",
       "</table>\n",
       "</div>"
      ],
      "text/plain": [
       "    id          rango   total  hombres  mujeres  limite_inferior  ids  \\\n",
       "0    1     0 a 4 años  118930    60146    58784                0    1   \n",
       "1   10     5 a 9 años  124134    62979    61155                5    2   \n",
       "2    2   10 a 14 años  129678    65953    63725               10    3   \n",
       "3    3   15 a 19 años  143052    72578    70474               15    4   \n",
       "4    4   20 a 24 años  154900    77509    77391               20    5   \n",
       "5    5   25 a 29 años  142013    69786    72227               25    6   \n",
       "6    6   30 a 34 años  125919    60006    65913               30    7   \n",
       "7    7   35 a 39 años  122634    57778    64856               35    8   \n",
       "8    8   40 a 44 años  120077    55103    64974               40    9   \n",
       "9    9   45 a 49 años  113050    52131    60919               45   10   \n",
       "10  11   50 a 54 años  101491    45955    55536               50   11   \n",
       "11  12   55 a 59 años   80397    36298    44099               55   12   \n",
       "12  13   60 a 64 años   70250    31014    39236               60   13   \n",
       "13  14   65 a 69 años   52633    23209    29424               65   14   \n",
       "14  15   70 a 74 años   38484    16669    21815               70   15   \n",
       "15  16   75 a 79 años   24120    10462    13658               75   16   \n",
       "16  17   80 a 84 años   15864     6332     9532               80   17   \n",
       "17  18  85 años o más   13551     5075     8476               85   18   \n",
       "\n",
       "   rango_amplio  \n",
       "0          0-19  \n",
       "1          0-19  \n",
       "2          0-19  \n",
       "3          0-19  \n",
       "4         20-34  \n",
       "5         20-34  \n",
       "6         20-34  \n",
       "7         35-49  \n",
       "8         35-49  \n",
       "9         35-49  \n",
       "10        50-64  \n",
       "11        50-64  \n",
       "12        50-64  \n",
       "13          65+  \n",
       "14          65+  \n",
       "15          65+  \n",
       "16          65+  \n",
       "17          65+  "
      ]
     },
     "execution_count": 6,
     "metadata": {},
     "output_type": "execute_result"
    }
   ],
   "source": [
    "rangos_edad = {\n",
    "    \"0-19\": (1, 4),\n",
    "    \"20-34\": (5, 7),\n",
    "    \"35-49\": (8,10),\n",
    "    \"50-64\": (11,13),\n",
    "    \"65+\":(14, float('inf'))\n",
    "}\n",
    "# Función para asignar la categoría según el rango de edad\n",
    "def asignar_categoria(id_value):\n",
    "    # Usar directamente el valor de ids (límite inferior)\n",
    "    for categoria, (limite_inferior, limite_superior) in rangos_edad.items():\n",
    "        if limite_inferior <= id_value <= limite_superior:\n",
    "            return categoria\n",
    "    return None  # En caso de que el id no caiga en ningún rango definido\n",
    "\n",
    "# Asignar la categoría a cada registro\n",
    "dfs['rango_amplio'] = dfs['ids'].apply(asignar_categoria)\n",
    "dfs"
   ]
  },
  {
   "cell_type": "code",
   "execution_count": 7,
   "metadata": {},
   "outputs": [
    {
     "data": {
      "text/html": [
       "<div>\n",
       "<style scoped>\n",
       "    .dataframe tbody tr th:only-of-type {\n",
       "        vertical-align: middle;\n",
       "    }\n",
       "\n",
       "    .dataframe tbody tr th {\n",
       "        vertical-align: top;\n",
       "    }\n",
       "\n",
       "    .dataframe thead th {\n",
       "        text-align: right;\n",
       "    }\n",
       "</style>\n",
       "<table border=\"1\" class=\"dataframe\">\n",
       "  <thead>\n",
       "    <tr style=\"text-align: right;\">\n",
       "      <th></th>\n",
       "      <th>rango_amplio</th>\n",
       "      <th>id</th>\n",
       "      <th>rango</th>\n",
       "      <th>total</th>\n",
       "      <th>hombres</th>\n",
       "      <th>mujeres</th>\n",
       "      <th>limite_inferior</th>\n",
       "      <th>ids</th>\n",
       "    </tr>\n",
       "  </thead>\n",
       "  <tbody>\n",
       "    <tr>\n",
       "      <th>0</th>\n",
       "      <td>0-19</td>\n",
       "      <td>16</td>\n",
       "      <td>0 a 4 años5 a 9 años10 a 14 años15 a 19 años</td>\n",
       "      <td>515794</td>\n",
       "      <td>261656</td>\n",
       "      <td>254138</td>\n",
       "      <td>30</td>\n",
       "      <td>10</td>\n",
       "    </tr>\n",
       "    <tr>\n",
       "      <th>1</th>\n",
       "      <td>20-34</td>\n",
       "      <td>15</td>\n",
       "      <td>20 a 24 años25 a 29 años30 a 34 años</td>\n",
       "      <td>422832</td>\n",
       "      <td>207301</td>\n",
       "      <td>215531</td>\n",
       "      <td>75</td>\n",
       "      <td>18</td>\n",
       "    </tr>\n",
       "    <tr>\n",
       "      <th>2</th>\n",
       "      <td>35-49</td>\n",
       "      <td>24</td>\n",
       "      <td>35 a 39 años40 a 44 años45 a 49 años</td>\n",
       "      <td>355761</td>\n",
       "      <td>165012</td>\n",
       "      <td>190749</td>\n",
       "      <td>120</td>\n",
       "      <td>27</td>\n",
       "    </tr>\n",
       "    <tr>\n",
       "      <th>3</th>\n",
       "      <td>50-64</td>\n",
       "      <td>36</td>\n",
       "      <td>50 a 54 años55 a 59 años60 a 64 años</td>\n",
       "      <td>252138</td>\n",
       "      <td>113267</td>\n",
       "      <td>138871</td>\n",
       "      <td>165</td>\n",
       "      <td>36</td>\n",
       "    </tr>\n",
       "    <tr>\n",
       "      <th>4</th>\n",
       "      <td>65+</td>\n",
       "      <td>80</td>\n",
       "      <td>65 a 69 años70 a 74 años75 a 79 años80 a 84 añ...</td>\n",
       "      <td>144652</td>\n",
       "      <td>61747</td>\n",
       "      <td>82905</td>\n",
       "      <td>375</td>\n",
       "      <td>80</td>\n",
       "    </tr>\n",
       "  </tbody>\n",
       "</table>\n",
       "</div>"
      ],
      "text/plain": [
       "  rango_amplio  id                                              rango   total  \\\n",
       "0         0-19  16       0 a 4 años5 a 9 años10 a 14 años15 a 19 años  515794   \n",
       "1        20-34  15               20 a 24 años25 a 29 años30 a 34 años  422832   \n",
       "2        35-49  24               35 a 39 años40 a 44 años45 a 49 años  355761   \n",
       "3        50-64  36               50 a 54 años55 a 59 años60 a 64 años  252138   \n",
       "4          65+  80  65 a 69 años70 a 74 años75 a 79 años80 a 84 añ...  144652   \n",
       "\n",
       "   hombres  mujeres  limite_inferior  ids  \n",
       "0   261656   254138               30   10  \n",
       "1   207301   215531               75   18  \n",
       "2   165012   190749              120   27  \n",
       "3   113267   138871              165   36  \n",
       "4    61747    82905              375   80  "
      ]
     },
     "execution_count": 7,
     "metadata": {},
     "output_type": "execute_result"
    }
   ],
   "source": [
    "# Agrupar y sumar en una línea\n",
    "datos_agrupados = dfs.groupby('rango_amplio').sum(numeric_only=False).reset_index()\n",
    "datos_agrupados"
   ]
  },
  {
   "cell_type": "code",
   "execution_count": 11,
   "metadata": {},
   "outputs": [
    {
     "data": {
      "application/vnd.plotly.v1+json": {
       "config": {
        "plotlyServerURL": "https://plot.ly"
       },
       "data": [
        {
         "hoverinfo": "text",
         "marker": {
          "color": "#9500ff"
         },
         "name": "Hombres",
         "orientation": "h",
         "text": [
          "Total: 261656<br>Porcentaje: 15.5%",
          "Total: 207301<br>Porcentaje: 12.3%",
          "Total: 165012<br>Porcentaje: 9.8%",
          "Total: 113267<br>Porcentaje: 6.7%",
          "Total: 61747<br>Porcentaje: 3.7%"
         ],
         "textposition": "none",
         "type": "bar",
         "x": [
          -261656,
          -207301,
          -165012,
          -113267,
          -61747
         ],
         "y": [
          "0-19",
          "20-34",
          "35-49",
          "50-64",
          "65+"
         ]
        },
        {
         "hoverinfo": "text",
         "marker": {
          "color": "#ff0059"
         },
         "name": "Mujeres",
         "orientation": "h",
         "text": [
          "Total: 254138<br>Porcentaje: 15.0%",
          "Total: 215531<br>Porcentaje: 12.7%",
          "Total: 190749<br>Porcentaje: 11.3%",
          "Total: 138871<br>Porcentaje: 8.2%",
          "Total: 82905<br>Porcentaje: 4.9%"
         ],
         "textposition": "none",
         "type": "bar",
         "x": [
          254138,
          215531,
          190749,
          138871,
          82905
         ],
         "y": [
          "0-19",
          "20-34",
          "35-49",
          "50-64",
          "65+"
         ]
        }
       ],
       "layout": {
        "bargap": 0.35,
        "barmode": "overlay",
        "legend": {
         "font": {
          "size": 10
         },
         "orientation": "h",
         "x": 1,
         "xanchor": "right",
         "y": 1,
         "yanchor": "top"
        },
        "margin": {
         "b": 10,
         "l": 10,
         "r": 10,
         "t": 10
        },
        "plot_bgcolor": "rgba(0,0,0,0)",
        "template": {
         "data": {
          "bar": [
           {
            "error_x": {
             "color": "#2a3f5f"
            },
            "error_y": {
             "color": "#2a3f5f"
            },
            "marker": {
             "line": {
              "color": "#E5ECF6",
              "width": 0.5
             },
             "pattern": {
              "fillmode": "overlay",
              "size": 10,
              "solidity": 0.2
             }
            },
            "type": "bar"
           }
          ],
          "barpolar": [
           {
            "marker": {
             "line": {
              "color": "#E5ECF6",
              "width": 0.5
             },
             "pattern": {
              "fillmode": "overlay",
              "size": 10,
              "solidity": 0.2
             }
            },
            "type": "barpolar"
           }
          ],
          "carpet": [
           {
            "aaxis": {
             "endlinecolor": "#2a3f5f",
             "gridcolor": "white",
             "linecolor": "white",
             "minorgridcolor": "white",
             "startlinecolor": "#2a3f5f"
            },
            "baxis": {
             "endlinecolor": "#2a3f5f",
             "gridcolor": "white",
             "linecolor": "white",
             "minorgridcolor": "white",
             "startlinecolor": "#2a3f5f"
            },
            "type": "carpet"
           }
          ],
          "choropleth": [
           {
            "colorbar": {
             "outlinewidth": 0,
             "ticks": ""
            },
            "type": "choropleth"
           }
          ],
          "contour": [
           {
            "colorbar": {
             "outlinewidth": 0,
             "ticks": ""
            },
            "colorscale": [
             [
              0,
              "#0d0887"
             ],
             [
              0.1111111111111111,
              "#46039f"
             ],
             [
              0.2222222222222222,
              "#7201a8"
             ],
             [
              0.3333333333333333,
              "#9c179e"
             ],
             [
              0.4444444444444444,
              "#bd3786"
             ],
             [
              0.5555555555555556,
              "#d8576b"
             ],
             [
              0.6666666666666666,
              "#ed7953"
             ],
             [
              0.7777777777777778,
              "#fb9f3a"
             ],
             [
              0.8888888888888888,
              "#fdca26"
             ],
             [
              1,
              "#f0f921"
             ]
            ],
            "type": "contour"
           }
          ],
          "contourcarpet": [
           {
            "colorbar": {
             "outlinewidth": 0,
             "ticks": ""
            },
            "type": "contourcarpet"
           }
          ],
          "heatmap": [
           {
            "colorbar": {
             "outlinewidth": 0,
             "ticks": ""
            },
            "colorscale": [
             [
              0,
              "#0d0887"
             ],
             [
              0.1111111111111111,
              "#46039f"
             ],
             [
              0.2222222222222222,
              "#7201a8"
             ],
             [
              0.3333333333333333,
              "#9c179e"
             ],
             [
              0.4444444444444444,
              "#bd3786"
             ],
             [
              0.5555555555555556,
              "#d8576b"
             ],
             [
              0.6666666666666666,
              "#ed7953"
             ],
             [
              0.7777777777777778,
              "#fb9f3a"
             ],
             [
              0.8888888888888888,
              "#fdca26"
             ],
             [
              1,
              "#f0f921"
             ]
            ],
            "type": "heatmap"
           }
          ],
          "heatmapgl": [
           {
            "colorbar": {
             "outlinewidth": 0,
             "ticks": ""
            },
            "colorscale": [
             [
              0,
              "#0d0887"
             ],
             [
              0.1111111111111111,
              "#46039f"
             ],
             [
              0.2222222222222222,
              "#7201a8"
             ],
             [
              0.3333333333333333,
              "#9c179e"
             ],
             [
              0.4444444444444444,
              "#bd3786"
             ],
             [
              0.5555555555555556,
              "#d8576b"
             ],
             [
              0.6666666666666666,
              "#ed7953"
             ],
             [
              0.7777777777777778,
              "#fb9f3a"
             ],
             [
              0.8888888888888888,
              "#fdca26"
             ],
             [
              1,
              "#f0f921"
             ]
            ],
            "type": "heatmapgl"
           }
          ],
          "histogram": [
           {
            "marker": {
             "pattern": {
              "fillmode": "overlay",
              "size": 10,
              "solidity": 0.2
             }
            },
            "type": "histogram"
           }
          ],
          "histogram2d": [
           {
            "colorbar": {
             "outlinewidth": 0,
             "ticks": ""
            },
            "colorscale": [
             [
              0,
              "#0d0887"
             ],
             [
              0.1111111111111111,
              "#46039f"
             ],
             [
              0.2222222222222222,
              "#7201a8"
             ],
             [
              0.3333333333333333,
              "#9c179e"
             ],
             [
              0.4444444444444444,
              "#bd3786"
             ],
             [
              0.5555555555555556,
              "#d8576b"
             ],
             [
              0.6666666666666666,
              "#ed7953"
             ],
             [
              0.7777777777777778,
              "#fb9f3a"
             ],
             [
              0.8888888888888888,
              "#fdca26"
             ],
             [
              1,
              "#f0f921"
             ]
            ],
            "type": "histogram2d"
           }
          ],
          "histogram2dcontour": [
           {
            "colorbar": {
             "outlinewidth": 0,
             "ticks": ""
            },
            "colorscale": [
             [
              0,
              "#0d0887"
             ],
             [
              0.1111111111111111,
              "#46039f"
             ],
             [
              0.2222222222222222,
              "#7201a8"
             ],
             [
              0.3333333333333333,
              "#9c179e"
             ],
             [
              0.4444444444444444,
              "#bd3786"
             ],
             [
              0.5555555555555556,
              "#d8576b"
             ],
             [
              0.6666666666666666,
              "#ed7953"
             ],
             [
              0.7777777777777778,
              "#fb9f3a"
             ],
             [
              0.8888888888888888,
              "#fdca26"
             ],
             [
              1,
              "#f0f921"
             ]
            ],
            "type": "histogram2dcontour"
           }
          ],
          "mesh3d": [
           {
            "colorbar": {
             "outlinewidth": 0,
             "ticks": ""
            },
            "type": "mesh3d"
           }
          ],
          "parcoords": [
           {
            "line": {
             "colorbar": {
              "outlinewidth": 0,
              "ticks": ""
             }
            },
            "type": "parcoords"
           }
          ],
          "pie": [
           {
            "automargin": true,
            "type": "pie"
           }
          ],
          "scatter": [
           {
            "fillpattern": {
             "fillmode": "overlay",
             "size": 10,
             "solidity": 0.2
            },
            "type": "scatter"
           }
          ],
          "scatter3d": [
           {
            "line": {
             "colorbar": {
              "outlinewidth": 0,
              "ticks": ""
             }
            },
            "marker": {
             "colorbar": {
              "outlinewidth": 0,
              "ticks": ""
             }
            },
            "type": "scatter3d"
           }
          ],
          "scattercarpet": [
           {
            "marker": {
             "colorbar": {
              "outlinewidth": 0,
              "ticks": ""
             }
            },
            "type": "scattercarpet"
           }
          ],
          "scattergeo": [
           {
            "marker": {
             "colorbar": {
              "outlinewidth": 0,
              "ticks": ""
             }
            },
            "type": "scattergeo"
           }
          ],
          "scattergl": [
           {
            "marker": {
             "colorbar": {
              "outlinewidth": 0,
              "ticks": ""
             }
            },
            "type": "scattergl"
           }
          ],
          "scattermapbox": [
           {
            "marker": {
             "colorbar": {
              "outlinewidth": 0,
              "ticks": ""
             }
            },
            "type": "scattermapbox"
           }
          ],
          "scatterpolar": [
           {
            "marker": {
             "colorbar": {
              "outlinewidth": 0,
              "ticks": ""
             }
            },
            "type": "scatterpolar"
           }
          ],
          "scatterpolargl": [
           {
            "marker": {
             "colorbar": {
              "outlinewidth": 0,
              "ticks": ""
             }
            },
            "type": "scatterpolargl"
           }
          ],
          "scatterternary": [
           {
            "marker": {
             "colorbar": {
              "outlinewidth": 0,
              "ticks": ""
             }
            },
            "type": "scatterternary"
           }
          ],
          "surface": [
           {
            "colorbar": {
             "outlinewidth": 0,
             "ticks": ""
            },
            "colorscale": [
             [
              0,
              "#0d0887"
             ],
             [
              0.1111111111111111,
              "#46039f"
             ],
             [
              0.2222222222222222,
              "#7201a8"
             ],
             [
              0.3333333333333333,
              "#9c179e"
             ],
             [
              0.4444444444444444,
              "#bd3786"
             ],
             [
              0.5555555555555556,
              "#d8576b"
             ],
             [
              0.6666666666666666,
              "#ed7953"
             ],
             [
              0.7777777777777778,
              "#fb9f3a"
             ],
             [
              0.8888888888888888,
              "#fdca26"
             ],
             [
              1,
              "#f0f921"
             ]
            ],
            "type": "surface"
           }
          ],
          "table": [
           {
            "cells": {
             "fill": {
              "color": "#EBF0F8"
             },
             "line": {
              "color": "white"
             }
            },
            "header": {
             "fill": {
              "color": "#C8D4E3"
             },
             "line": {
              "color": "white"
             }
            },
            "type": "table"
           }
          ]
         },
         "layout": {
          "annotationdefaults": {
           "arrowcolor": "#2a3f5f",
           "arrowhead": 0,
           "arrowwidth": 1
          },
          "autotypenumbers": "strict",
          "coloraxis": {
           "colorbar": {
            "outlinewidth": 0,
            "ticks": ""
           }
          },
          "colorscale": {
           "diverging": [
            [
             0,
             "#8e0152"
            ],
            [
             0.1,
             "#c51b7d"
            ],
            [
             0.2,
             "#de77ae"
            ],
            [
             0.3,
             "#f1b6da"
            ],
            [
             0.4,
             "#fde0ef"
            ],
            [
             0.5,
             "#f7f7f7"
            ],
            [
             0.6,
             "#e6f5d0"
            ],
            [
             0.7,
             "#b8e186"
            ],
            [
             0.8,
             "#7fbc41"
            ],
            [
             0.9,
             "#4d9221"
            ],
            [
             1,
             "#276419"
            ]
           ],
           "sequential": [
            [
             0,
             "#0d0887"
            ],
            [
             0.1111111111111111,
             "#46039f"
            ],
            [
             0.2222222222222222,
             "#7201a8"
            ],
            [
             0.3333333333333333,
             "#9c179e"
            ],
            [
             0.4444444444444444,
             "#bd3786"
            ],
            [
             0.5555555555555556,
             "#d8576b"
            ],
            [
             0.6666666666666666,
             "#ed7953"
            ],
            [
             0.7777777777777778,
             "#fb9f3a"
            ],
            [
             0.8888888888888888,
             "#fdca26"
            ],
            [
             1,
             "#f0f921"
            ]
           ],
           "sequentialminus": [
            [
             0,
             "#0d0887"
            ],
            [
             0.1111111111111111,
             "#46039f"
            ],
            [
             0.2222222222222222,
             "#7201a8"
            ],
            [
             0.3333333333333333,
             "#9c179e"
            ],
            [
             0.4444444444444444,
             "#bd3786"
            ],
            [
             0.5555555555555556,
             "#d8576b"
            ],
            [
             0.6666666666666666,
             "#ed7953"
            ],
            [
             0.7777777777777778,
             "#fb9f3a"
            ],
            [
             0.8888888888888888,
             "#fdca26"
            ],
            [
             1,
             "#f0f921"
            ]
           ]
          },
          "colorway": [
           "#636efa",
           "#EF553B",
           "#00cc96",
           "#ab63fa",
           "#FFA15A",
           "#19d3f3",
           "#FF6692",
           "#B6E880",
           "#FF97FF",
           "#FECB52"
          ],
          "font": {
           "color": "#2a3f5f"
          },
          "geo": {
           "bgcolor": "white",
           "lakecolor": "white",
           "landcolor": "#E5ECF6",
           "showlakes": true,
           "showland": true,
           "subunitcolor": "white"
          },
          "hoverlabel": {
           "align": "left"
          },
          "hovermode": "closest",
          "mapbox": {
           "style": "light"
          },
          "paper_bgcolor": "white",
          "plot_bgcolor": "#E5ECF6",
          "polar": {
           "angularaxis": {
            "gridcolor": "white",
            "linecolor": "white",
            "ticks": ""
           },
           "bgcolor": "#E5ECF6",
           "radialaxis": {
            "gridcolor": "white",
            "linecolor": "white",
            "ticks": ""
           }
          },
          "scene": {
           "xaxis": {
            "backgroundcolor": "#E5ECF6",
            "gridcolor": "white",
            "gridwidth": 2,
            "linecolor": "white",
            "showbackground": true,
            "ticks": "",
            "zerolinecolor": "white"
           },
           "yaxis": {
            "backgroundcolor": "#E5ECF6",
            "gridcolor": "white",
            "gridwidth": 2,
            "linecolor": "white",
            "showbackground": true,
            "ticks": "",
            "zerolinecolor": "white"
           },
           "zaxis": {
            "backgroundcolor": "#E5ECF6",
            "gridcolor": "white",
            "gridwidth": 2,
            "linecolor": "white",
            "showbackground": true,
            "ticks": "",
            "zerolinecolor": "white"
           }
          },
          "shapedefaults": {
           "line": {
            "color": "#2a3f5f"
           }
          },
          "ternary": {
           "aaxis": {
            "gridcolor": "white",
            "linecolor": "white",
            "ticks": ""
           },
           "baxis": {
            "gridcolor": "white",
            "linecolor": "white",
            "ticks": ""
           },
           "bgcolor": "#E5ECF6",
           "caxis": {
            "gridcolor": "white",
            "linecolor": "white",
            "ticks": ""
           }
          },
          "title": {
           "x": 0.05
          },
          "xaxis": {
           "automargin": true,
           "gridcolor": "white",
           "linecolor": "white",
           "ticks": "",
           "title": {
            "standoff": 15
           },
           "zerolinecolor": "white",
           "zerolinewidth": 2
          },
          "yaxis": {
           "automargin": true,
           "gridcolor": "white",
           "linecolor": "white",
           "ticks": "",
           "title": {
            "standoff": 15
           },
           "zerolinecolor": "white",
           "zerolinewidth": 2
          }
         }
        },
        "xaxis": {
         "gridcolor": "#dddcda",
         "ticktext": [
          270000,
          200000,
          150000,
          100000,
          50000,
          0,
          50000,
          100000,
          150000,
          200000,
          270000
         ],
         "tickvals": [
          -270000,
          -200000,
          -150000,
          -100000,
          -50000,
          0,
          50000,
          100000,
          150000,
          200000,
          270000
         ],
         "title": {
          "text": "Población"
         }
        },
        "yaxis": {
         "title": {
          "text": "Rango de Edad"
         }
        }
       }
      }
     },
     "metadata": {},
     "output_type": "display_data"
    }
   ],
   "source": [
    "import plotly.graph_objects as go\n",
    "\n",
    "# Crear una gráfica de pirámide de población\n",
    "def crear_grafico_piramide(dfs):\n",
    "    fig = go.Figure()\n",
    "\n",
    "    # Sumar los valores de hombres y mujeres por rango amplio\n",
    "    datos_agrupados = dfs.groupby('rango_amplio').sum(numeric_only=False).reset_index()\n",
    "    \n",
    "\n",
    "    # Calcular el total de hombres y mujeres\n",
    "    total_hombres = datos_agrupados['hombres'].sum()\n",
    "    total_mujeres = datos_agrupados['mujeres'].sum()\n",
    "    total_poblacion = total_hombres + total_mujeres\n",
    "\n",
    "    # Crear texto para el hover que incluya total y porcentaje\n",
    "    text_hombres = [\n",
    "        f'Total: {row[\"hombres\"]}<br>Porcentaje: {row[\"hombres\"] / total_poblacion * 100:.1f}%'\n",
    "        for index, row in datos_agrupados.iterrows()\n",
    "    ]\n",
    "\n",
    "    text_mujeres = [\n",
    "        f'Total: {row[\"mujeres\"]}<br>Porcentaje: {row[\"mujeres\"] / total_poblacion * 100:.1f}%'\n",
    "        for index, row in datos_agrupados.iterrows()\n",
    "    ]\n",
    "\n",
    "    # Crear barras para hombres a la izquierda\n",
    "    fig.add_trace(go.Bar(\n",
    "        y=datos_agrupados['rango_amplio'],\n",
    "        x=-datos_agrupados['hombres'],  # Mantener la barra en negativo para la forma de pirámide\n",
    "        orientation='h',\n",
    "        marker=dict(color='#9500ff'),\n",
    "        text=text_hombres,\n",
    "        textposition='none',  # Ocultar el texto en las barras\n",
    "        hoverinfo='text',  # Usar solo el texto personalizado al hacer hover\n",
    "        name='Hombres'\n",
    "    ))\n",
    "\n",
    "    # Crear barras para mujeres a la derecha\n",
    "    fig.add_trace(go.Bar(\n",
    "        y=datos_agrupados['rango_amplio'],\n",
    "        x=datos_agrupados['mujeres'],\n",
    "        orientation='h',\n",
    "        marker=dict(color='#ff0059'),\n",
    "        text=text_mujeres,\n",
    "        textposition='none',  # Ocultar el texto en las barras\n",
    "        hoverinfo='text',  # Usar solo el texto personalizado al hacer hover\n",
    "        name='Mujeres'\n",
    "    ))\n",
    "\n",
    "    # Configurar el gráfico\n",
    "    fig.update_layout(\n",
    "        barmode='overlay',\n",
    "        bargap=0.35,\n",
    "        xaxis=dict(\n",
    "            title='Población',\n",
    "            gridcolor='#dddcda',  # Color de las líneas que dividen los rangos del eje Y\n",
    "            tickvals=[-270000, -200000, -150000, -100000, -50000, 0, 50000, 100000, 150000, 200000, 270000],  # Ajusta según tus datos\n",
    "            ticktext=[270000, 200000, 150000, 100000, 50000, 0, 50000, 100000, 150000, 200000, 270000]  # Etiquetas positivas\n",
    "        ),\n",
    "        plot_bgcolor='rgba(0,0,0,0)',  # Color de fondo del gráfico\n",
    "        margin=dict(l=10, r=10, t=10, b=10),  # Ajusta los márgenes (left, right, top, bottom)\n",
    "        yaxis=dict(title='Rango de Edad'),\n",
    "        legend=dict(\n",
    "            font_size=10,\n",
    "            orientation='h',\n",
    "            x=1,  # Posición horizontal (1 es el extremo derecho)\n",
    "            y=1,  # Posición vertical (1 es la parte superior)\n",
    "            xanchor='right',  # Ancla la leyenda a la derecha\n",
    "            yanchor='top'  # Ancla la leyenda en la parte superior\n",
    "        )\n",
    "    )\n",
    "\n",
    "    return fig\n",
    "\n",
    "\n",
    "def guardar_grafico_como_html(fig, nombre_archivo, carpeta='assets/graficas'):\n",
    "    if not os.path.exists(carpeta):\n",
    "        os.makedirs(carpeta)\n",
    "    pio.write_html(fig, f'{carpeta}/{nombre_archivo}.html')\n",
    "\n",
    "# Crear la figura de la pirámide de población\n",
    "fig_piramide = crear_grafico_piramide(dfs)\n",
    "fig_piramide.show()\n",
    "# Guardar la figura como archivo HTML\n",
    "guardar_grafico_como_html(fig_piramide, 'g_piramid_poblacion')"
   ]
  },
  {
   "cell_type": "code",
   "execution_count": null,
   "metadata": {},
   "outputs": [],
   "source": []
  }
 ],
 "metadata": {
  "kernelspec": {
   "display_name": "base",
   "language": "python",
   "name": "python3"
  },
  "language_info": {
   "codemirror_mode": {
    "name": "ipython",
    "version": 3
   },
   "file_extension": ".py",
   "mimetype": "text/x-python",
   "name": "python",
   "nbconvert_exporter": "python",
   "pygments_lexer": "ipython3",
   "version": "3.9.13"
  }
 },
 "nbformat": 4,
 "nbformat_minor": 2
}
