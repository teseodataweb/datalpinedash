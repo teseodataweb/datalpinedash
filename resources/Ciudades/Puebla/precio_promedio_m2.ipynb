{
 "cells": [
  {
   "cell_type": "markdown",
   "metadata": {},
   "source": [
    "# ***Precio Promedio por M2 cuadrados* Construidos oficial**"
   ]
  },
  {
   "cell_type": "code",
   "execution_count": 1,
   "metadata": {},
   "outputs": [
    {
     "name": "stdout",
     "output_type": "stream",
     "text": [
      "Lista de DataFrames filtrados:\n"
     ]
    },
    {
     "data": {
      "text/plain": [
       "['df_alfa_agosto_2024_puebla',\n",
       " 'df_alfa_febrero_2024_puebla',\n",
       " 'df_alfa_julio_2024_puebla',\n",
       " 'df_alfa_junio_2024_puebla',\n",
       " 'df_alfa_septiembre_2024_puebla',\n",
       " 'df_mar_2024_puebla',\n",
       " 'df_may_2024_puebla']"
      ]
     },
     "execution_count": 1,
     "metadata": {},
     "output_type": "execute_result"
    }
   ],
   "source": [
    "# Manejo de datos\n",
    "import os # Directorios\n",
    "import pandas as pd # Manipulación df\n",
    "# Gráficas\n",
    "import plotly.graph_objects as go #Para obtener librería usar: pip install plotly\n",
    "from plotly.subplots import make_subplots\n",
    "import plotly.io as pio # Exportar gráfica\n",
    "\n",
    "# Obtener el directorio actual de trabajo\n",
    "directorio_actual = os.getcwd()\n",
    "\n",
    "# Directorio donde se encuentran los archivos JSON (ruta relativa)\n",
    "directorio_json = os.path.join(directorio_actual, '../../db/datos_json')\n",
    "\n",
    "# Obtener la lista de archivos JSON en el directorio\n",
    "archivos_json = os.listdir(directorio_json)\n",
    "\n",
    "# Cargar los archivos JSON y crear DataFrames\n",
    "for archivo in archivos_json:\n",
    "    nombre_tabla = archivo.replace('datos_', '').replace('.json', '')\n",
    "    ruta_json = os.path.join(directorio_json, archivo)\n",
    "    globals()[f\"df_{nombre_tabla}\"] = pd.read_json(ruta_json)\n",
    "\n",
    "# Obtener todos los nombres de las variables globales\n",
    "nombres_variables_globales = list(globals().keys())\n",
    "\n",
    "# Filtrar los nombres que comienzan con \"df_\", contienen \"alfa_q\" y \"pachuca\"\n",
    "nombres_df_filtrados = [\n",
    "    nombre for nombre in nombres_variables_globales \n",
    "    # Caso de cuando no son las alfa q\n",
    "    if nombre.startswith(\"df_\")  and \"puebla\" in nombre and '2024' in nombre and 'df_alfa_q_puebla' not in nombre and 'financiamientos' not in nombre and 'grupos' not in nombre and 'salarios' not in nombre and 'publicacion' not in nombre and 'df_feb_2024_puebla' not in nombre    #if nombre.startswith('df_') and 'alfa' in nombre and'puebla' in nombre and 'q' not in nombre\n",
    "\n",
    "]\n",
    "\n",
    "# Imprimir la lista de DataFrames filtrados\n",
    "print(\"Lista de DataFrames filtrados:\")\n",
    "nombres_df_filtrados"
   ]
  },
  {
   "cell_type": "code",
   "execution_count": 2,
   "metadata": {},
   "outputs": [
    {
     "name": "stdout",
     "output_type": "stream",
     "text": [
      "Columnas renombradas en los DataFrames filtrados.\n"
     ]
    }
   ],
   "source": [
    "# Iterar sobre cada DataFrame en la lista filtrada\n",
    "for nombre_df in nombres_df_filtrados:\n",
    "    # Obtener el DataFrame usando globals()\n",
    "    df = globals()[nombre_df]\n",
    "    \n",
    "    df.rename(columns={'Precio_M2_Terreno':'precio_m2_terreno','Metros_total':'m2_total','Precio_M2_Construido':'precio_m2_construido','precio_m2_contruido':'precio_m2_construido','id_jul_23':'id','m2_contruido': 'm2_construido','m_construido': 'm2_construido','Metros_construido':'m2_construido','segmento':'categoria','Category':'categoria','m_total':'m2_total','m_construido':'m2_construido','Precio':'precio','metros_total':'m2_total','metros_construido':'m2_construido','precio_m2_terreno':'precio_m2_terreno','precio_m2_construido':'precio_m2_construido'}, inplace=True)\n",
    "        # Asignar el DataFrame modificado de nuevo a la variable global\n",
    "    globals()[nombre_df] = df \n",
    "\n",
    "# Imprimir confirmación\n",
    "print(\"Columnas renombradas en los DataFrames filtrados.\")\n"
   ]
  },
  {
   "cell_type": "code",
   "execution_count": 3,
   "metadata": {},
   "outputs": [
    {
     "data": {
      "text/plain": [
       "Index(['id', 'Q', 'categoria', 'ids', 'Propiedad', 'precio', 'm2_total',\n",
       "       'm2_construido', 'precio_m2_terreno', 'precio_m2_construido',\n",
       "       'Personas_interesadas', 'Tiempo_publicacion',\n",
       "       'Promedio_Interes_Mensual', 'Estado', 'Tipo', 'Estacionamientos',\n",
       "       'Recamaras', 'Banos', 'Medio_banos', 'Banos_Total', 'Cantidad_de_pisos',\n",
       "       'Antiguedad', 'Seguridad', 'Fraccionamiento', 'Colonia', 'CP', 'url'],\n",
       "      dtype='object')"
      ]
     },
     "execution_count": 3,
     "metadata": {},
     "output_type": "execute_result"
    }
   ],
   "source": [
    "df_may_2024_puebla.columns"
   ]
  },
  {
   "cell_type": "code",
   "execution_count": 4,
   "metadata": {},
   "outputs": [],
   "source": [
    "# Crear una lista de DataFrames seleccionados con las columnas específicas\n",
    "dataframes_list = []\n",
    "for nombre_df in nombres_df_filtrados:\n",
    "    # Seleccionar las columnas 'id' y 'categoria'\n",
    "    segment_df = globals()[nombre_df][['precio', 'm2_total','m2_construido', 'precio_m2_construido', 'precio_m2_terreno']]\n",
    "    # Añadir el DataFrame a la listaprecio_m2_construido\n",
    "    dataframes_list.append(segment_df)"
   ]
  },
  {
   "cell_type": "markdown",
   "metadata": {},
   "source": [
    "# *DF CON RANGOS DE M2_TERRENO Y SU PRECIO*"
   ]
  },
  {
   "cell_type": "code",
   "execution_count": 5,
   "metadata": {},
   "outputs": [
    {
     "name": "stdout",
     "output_type": "stream",
     "text": [
      "Primeros registros de nuevo DataFrame 1:\n",
      "       rango  precio_m2_terreno\n",
      "0    [0-100]            5957.45\n",
      "1    [0-100]            4000.00\n",
      "2  [150-200]            2086.09\n",
      "3    [0-100]            4623.66\n",
      "4  [150-200]            2166.00\n",
      "\n",
      "Primeros registros de nuevo DataFrame 2:\n",
      "       rango  precio_m2_terreno\n",
      "0  [100-150]            2800.00\n",
      "1  [100-150]            2250.00\n",
      "2  [100-150]            2250.00\n",
      "3  [150-200]            1968.75\n",
      "4  [150-200]            2133.33\n",
      "\n",
      "Primeros registros de nuevo DataFrame 3:\n",
      "     rango  precio_m2_terreno\n",
      "0  [0-100]            5957.45\n",
      "1  [0-100]            4000.00\n",
      "2  [0-100]            4000.00\n",
      "3  [0-100]            4538.46\n",
      "4  [0-100]            4429.81\n",
      "\n",
      "Primeros registros de nuevo DataFrame 4:\n",
      "       rango  precio_m2_terreno\n",
      "0    [0-100]            2921.35\n",
      "1    [0-100]            5957.45\n",
      "2    [0-100]            4538.46\n",
      "3  [100-150]            3100.00\n",
      "4  [100-150]            2250.00\n",
      "\n",
      "Primeros registros de nuevo DataFrame 5:\n",
      "       rango  precio_m2_terreno\n",
      "0    [0-100]            5957.45\n",
      "1    [0-100]            4000.00\n",
      "2    [0-100]            3823.53\n",
      "3  [100-150]            3346.08\n",
      "4  [200-250]            1568.03\n",
      "\n",
      "Primeros registros de nuevo DataFrame 6:\n",
      "     rango  precio_m2_terreno\n",
      "0  [0-100]           36060.61\n",
      "1  [0-100]           39205.88\n",
      "2  [0-100]           51470.59\n",
      "3  [0-100]           45945.95\n",
      "4  [0-100]           45945.95\n",
      "\n",
      "Primeros registros de nuevo DataFrame 7:\n",
      "     rango  precio_m2_terreno\n",
      "0  [0-100]            2397.42\n",
      "1  [0-100]            2400.00\n",
      "2  [0-100]            2121.21\n",
      "3  [0-100]            5957.45\n",
      "4  [0-100]            4538.46\n",
      "\n"
     ]
    }
   ],
   "source": [
    "new_dataframes_list = []\n",
    "\n",
    "# Definir los límites de los rangos\n",
    "rangos = [0, 100, 150, 200, 250, 300, float('inf')]\n",
    "labels = ['[0-100]', '[100-150]', '[150-200]', '[200-250]', '[250-300]', '[> 300]']\n",
    "\n",
    "# Iterar sobre cada DataFrame en la lista original\n",
    "for df in dataframes_list:\n",
    "    # Crear una copia del DataFrame\n",
    "    modified_df = df.copy()\n",
    "    # Asignar el rango correspondiente a cada valor de 'm2_construido'\n",
    "    modified_df['rango'] = pd.cut(modified_df['m2_total'], bins=rangos, labels=labels, right=False)\n",
    "    # Crear un nuevo DataFrame solo con las columnas 'rango' y 'precio_m2_terreno'\n",
    "    new_df = modified_df[['rango', 'precio_m2_terreno']].copy()\n",
    "    # Agregar el nuevo DataFrame a la lista\n",
    "    new_dataframes_list.append(new_df)\n",
    "\n",
    "# Imprimir los primeros registros de cada nuevo DataFrame\n",
    "for idx, df in enumerate(new_dataframes_list):\n",
    "    print(f\"Primeros registros de nuevo DataFrame {idx + 1}:\")\n",
    "    print(df.head())\n",
    "    print()  # Agregar una línea en blanco entre cada DataFrame\n"
   ]
  },
  {
   "cell_type": "markdown",
   "metadata": {},
   "source": [
    "### *Promedio de precio_m2_terreno por rango CADA DF* "
   ]
  },
  {
   "cell_type": "code",
   "execution_count": 6,
   "metadata": {},
   "outputs": [
    {
     "name": "stdout",
     "output_type": "stream",
     "text": [
      "Promedio de precio_m2_terreno por rango en el DataFrame 1:\n",
      "rango\n",
      "[0-100]      18271.881513\n",
      "[100-150]    18043.528650\n",
      "[150-200]    13951.799723\n",
      "[200-250]    10491.035896\n",
      "[250-300]    12685.235751\n",
      "[> 300]      15890.200257\n",
      "Name: precio_m2_terreno, dtype: float64\n",
      "\n",
      "Promedio de precio_m2_terreno por rango en el DataFrame 2:\n",
      "rango\n",
      "[0-100]      20706.172760\n",
      "[100-150]    21212.472748\n",
      "[150-200]    15999.128393\n",
      "[200-250]    12839.359882\n",
      "[250-300]    10420.642229\n",
      "[> 300]      16062.782144\n",
      "Name: precio_m2_terreno, dtype: float64\n",
      "\n",
      "Promedio de precio_m2_terreno por rango en el DataFrame 3:\n",
      "rango\n",
      "[0-100]      20242.840391\n",
      "[100-150]    20387.541337\n",
      "[150-200]    16958.211517\n",
      "[200-250]    11850.368821\n",
      "[250-300]    13696.827799\n",
      "[> 300]      15217.184838\n",
      "Name: precio_m2_terreno, dtype: float64\n",
      "\n",
      "Promedio de precio_m2_terreno por rango en el DataFrame 4:\n",
      "rango\n",
      "[0-100]      21049.711389\n",
      "[100-150]    20695.883472\n",
      "[150-200]    18497.655789\n",
      "[200-250]    14014.722348\n",
      "[250-300]    13340.902849\n",
      "[> 300]      17488.041397\n",
      "Name: precio_m2_terreno, dtype: float64\n",
      "\n",
      "Promedio de precio_m2_terreno por rango en el DataFrame 5:\n",
      "rango\n",
      "[0-100]      23026.708818\n",
      "[100-150]    23154.494014\n",
      "[150-200]    20385.282224\n",
      "[200-250]    14601.518997\n",
      "[250-300]    15622.660784\n",
      "[> 300]      16146.444726\n",
      "Name: precio_m2_terreno, dtype: float64\n",
      "\n",
      "Promedio de precio_m2_terreno por rango en el DataFrame 6:\n",
      "rango\n",
      "[0-100]      22608.289205\n",
      "[100-150]    21880.587242\n",
      "[150-200]    17889.804581\n",
      "[200-250]    14280.256158\n",
      "[250-300]    12448.194211\n",
      "[> 300]      17891.733683\n",
      "Name: precio_m2_terreno, dtype: float64\n",
      "\n",
      "Promedio de precio_m2_terreno por rango en el DataFrame 7:\n",
      "rango\n",
      "[0-100]      20646.669647\n",
      "[100-150]    21017.900655\n",
      "[150-200]    18913.017583\n",
      "[200-250]    14057.324777\n",
      "[250-300]    13603.910427\n",
      "[> 300]      18177.750848\n",
      "Name: precio_m2_terreno, dtype: float64\n",
      "\n"
     ]
    },
    {
     "name": "stderr",
     "output_type": "stream",
     "text": [
      "C:\\Users\\yoe11\\AppData\\Local\\Temp\\ipykernel_17860\\2294499642.py:5: FutureWarning: The default of observed=False is deprecated and will be changed to True in a future version of pandas. Pass observed=False to retain current behavior or observed=True to adopt the future default and silence this warning.\n",
      "  promedios_por_rango = df.groupby('rango')['precio_m2_terreno'].mean()\n"
     ]
    }
   ],
   "source": [
    "# Iterar sobre cada DataFrame modificado en new_dataframes_list\n",
    "for idx, df in enumerate(new_dataframes_list):\n",
    "    print(f\"Promedio de precio_m2_terreno por rango en el DataFrame {idx + 1}:\")\n",
    "    # Agrupar el DataFrame por la columna 'rango' y calcular el promedio de 'precio_m2_terreno' para cada grupo\n",
    "    promedios_por_rango = df.groupby('rango')['precio_m2_terreno'].mean()\n",
    "    print(promedios_por_rango)\n",
    "    print()  # Agregar una línea en blanco entre cada resultado"
   ]
  },
  {
   "cell_type": "code",
   "execution_count": 7,
   "metadata": {},
   "outputs": [
    {
     "name": "stdout",
     "output_type": "stream",
     "text": [
      "DataFrame 'rango_precio_m2':\n"
     ]
    },
    {
     "name": "stderr",
     "output_type": "stream",
     "text": [
      "C:\\Users\\yoe11\\AppData\\Local\\Temp\\ipykernel_17860\\225855980.py:6: FutureWarning: The default of observed=False is deprecated and will be changed to True in a future version of pandas. Pass observed=False to retain current behavior or observed=True to adopt the future default and silence this warning.\n",
      "  promedios_por_rango = df.groupby('rango')['precio_m2_terreno'].mean()\n"
     ]
    },
    {
     "data": {
      "text/html": [
       "<div>\n",
       "<style scoped>\n",
       "    .dataframe tbody tr th:only-of-type {\n",
       "        vertical-align: middle;\n",
       "    }\n",
       "\n",
       "    .dataframe tbody tr th {\n",
       "        vertical-align: top;\n",
       "    }\n",
       "\n",
       "    .dataframe thead th {\n",
       "        text-align: right;\n",
       "    }\n",
       "</style>\n",
       "<table border=\"1\" class=\"dataframe\">\n",
       "  <thead>\n",
       "    <tr style=\"text-align: right;\">\n",
       "      <th></th>\n",
       "      <th>DataFrame_1</th>\n",
       "      <th>DataFrame_2</th>\n",
       "      <th>DataFrame_3</th>\n",
       "      <th>DataFrame_4</th>\n",
       "      <th>DataFrame_5</th>\n",
       "      <th>DataFrame_6</th>\n",
       "      <th>DataFrame_7</th>\n",
       "    </tr>\n",
       "    <tr>\n",
       "      <th>rango</th>\n",
       "      <th></th>\n",
       "      <th></th>\n",
       "      <th></th>\n",
       "      <th></th>\n",
       "      <th></th>\n",
       "      <th></th>\n",
       "      <th></th>\n",
       "    </tr>\n",
       "  </thead>\n",
       "  <tbody>\n",
       "    <tr>\n",
       "      <th>[0-100]</th>\n",
       "      <td>18271.881513</td>\n",
       "      <td>20706.172760</td>\n",
       "      <td>20242.840391</td>\n",
       "      <td>21049.711389</td>\n",
       "      <td>23026.708818</td>\n",
       "      <td>22608.289205</td>\n",
       "      <td>20646.669647</td>\n",
       "    </tr>\n",
       "    <tr>\n",
       "      <th>[100-150]</th>\n",
       "      <td>18043.528650</td>\n",
       "      <td>21212.472748</td>\n",
       "      <td>20387.541337</td>\n",
       "      <td>20695.883472</td>\n",
       "      <td>23154.494014</td>\n",
       "      <td>21880.587242</td>\n",
       "      <td>21017.900655</td>\n",
       "    </tr>\n",
       "    <tr>\n",
       "      <th>[150-200]</th>\n",
       "      <td>13951.799723</td>\n",
       "      <td>15999.128393</td>\n",
       "      <td>16958.211517</td>\n",
       "      <td>18497.655789</td>\n",
       "      <td>20385.282224</td>\n",
       "      <td>17889.804581</td>\n",
       "      <td>18913.017583</td>\n",
       "    </tr>\n",
       "    <tr>\n",
       "      <th>[200-250]</th>\n",
       "      <td>10491.035896</td>\n",
       "      <td>12839.359882</td>\n",
       "      <td>11850.368821</td>\n",
       "      <td>14014.722348</td>\n",
       "      <td>14601.518997</td>\n",
       "      <td>14280.256158</td>\n",
       "      <td>14057.324777</td>\n",
       "    </tr>\n",
       "    <tr>\n",
       "      <th>[250-300]</th>\n",
       "      <td>12685.235751</td>\n",
       "      <td>10420.642229</td>\n",
       "      <td>13696.827799</td>\n",
       "      <td>13340.902849</td>\n",
       "      <td>15622.660784</td>\n",
       "      <td>12448.194211</td>\n",
       "      <td>13603.910427</td>\n",
       "    </tr>\n",
       "    <tr>\n",
       "      <th>[&gt; 300]</th>\n",
       "      <td>15890.200257</td>\n",
       "      <td>16062.782144</td>\n",
       "      <td>15217.184838</td>\n",
       "      <td>17488.041397</td>\n",
       "      <td>16146.444726</td>\n",
       "      <td>17891.733683</td>\n",
       "      <td>18177.750848</td>\n",
       "    </tr>\n",
       "  </tbody>\n",
       "</table>\n",
       "</div>"
      ],
      "text/plain": [
       "            DataFrame_1   DataFrame_2   DataFrame_3   DataFrame_4  \\\n",
       "rango                                                               \n",
       "[0-100]    18271.881513  20706.172760  20242.840391  21049.711389   \n",
       "[100-150]  18043.528650  21212.472748  20387.541337  20695.883472   \n",
       "[150-200]  13951.799723  15999.128393  16958.211517  18497.655789   \n",
       "[200-250]  10491.035896  12839.359882  11850.368821  14014.722348   \n",
       "[250-300]  12685.235751  10420.642229  13696.827799  13340.902849   \n",
       "[> 300]    15890.200257  16062.782144  15217.184838  17488.041397   \n",
       "\n",
       "            DataFrame_5   DataFrame_6   DataFrame_7  \n",
       "rango                                                \n",
       "[0-100]    23026.708818  22608.289205  20646.669647  \n",
       "[100-150]  23154.494014  21880.587242  21017.900655  \n",
       "[150-200]  20385.282224  17889.804581  18913.017583  \n",
       "[200-250]  14601.518997  14280.256158  14057.324777  \n",
       "[250-300]  15622.660784  12448.194211  13603.910427  \n",
       "[> 300]    16146.444726  17891.733683  18177.750848  "
      ]
     },
     "execution_count": 7,
     "metadata": {},
     "output_type": "execute_result"
    }
   ],
   "source": [
    "# Inicializar un diccionario para almacenar los promedios de precio por metro cuadrado para cada rango\n",
    "promedios_por_rango_dict = {}\n",
    "# Iterar sobre cada DataFrame modificado en new_dataframes_list\n",
    "for idx, df in enumerate(new_dataframes_list):\n",
    "    # Agrupar el DataFrame por la columna 'rango' y calcular el promedio de 'precio_m2_terreno' para cada grupo\n",
    "    promedios_por_rango = df.groupby('rango')['precio_m2_terreno'].mean()\n",
    "    # Actualizar el diccionario con los promedios calculados\n",
    "    promedios_por_rango_dict[f'DataFrame_{idx + 1}'] = promedios_por_rango\n",
    "\n",
    "# Convertir el diccionario en un DataFrame\n",
    "rango_precio_m2 = pd.DataFrame(promedios_por_rango_dict)\n",
    "print(\"DataFrame 'rango_precio_m2':\")\n",
    "rango_precio_m2"
   ]
  },
  {
   "cell_type": "code",
   "execution_count": 8,
   "metadata": {},
   "outputs": [
    {
     "name": "stdout",
     "output_type": "stream",
     "text": [
      "DataFrame 'Precio_mean_M2':\n"
     ]
    },
    {
     "data": {
      "text/html": [
       "<div>\n",
       "<style scoped>\n",
       "    .dataframe tbody tr th:only-of-type {\n",
       "        vertical-align: middle;\n",
       "    }\n",
       "\n",
       "    .dataframe tbody tr th {\n",
       "        vertical-align: top;\n",
       "    }\n",
       "\n",
       "    .dataframe thead th {\n",
       "        text-align: right;\n",
       "    }\n",
       "</style>\n",
       "<table border=\"1\" class=\"dataframe\">\n",
       "  <thead>\n",
       "    <tr style=\"text-align: right;\">\n",
       "      <th></th>\n",
       "      <th>Rango</th>\n",
       "      <th>Precio_m2_mean</th>\n",
       "    </tr>\n",
       "  </thead>\n",
       "  <tbody>\n",
       "    <tr>\n",
       "      <th>0</th>\n",
       "      <td>[0-100]</td>\n",
       "      <td>20936.039103</td>\n",
       "    </tr>\n",
       "    <tr>\n",
       "      <th>1</th>\n",
       "      <td>[100-150]</td>\n",
       "      <td>20913.201160</td>\n",
       "    </tr>\n",
       "    <tr>\n",
       "      <th>2</th>\n",
       "      <td>[150-200]</td>\n",
       "      <td>17513.557116</td>\n",
       "    </tr>\n",
       "    <tr>\n",
       "      <th>3</th>\n",
       "      <td>[200-250]</td>\n",
       "      <td>13162.083840</td>\n",
       "    </tr>\n",
       "    <tr>\n",
       "      <th>4</th>\n",
       "      <td>[250-300]</td>\n",
       "      <td>13116.910579</td>\n",
       "    </tr>\n",
       "    <tr>\n",
       "      <th>5</th>\n",
       "      <td>[&gt; 300]</td>\n",
       "      <td>16696.305413</td>\n",
       "    </tr>\n",
       "  </tbody>\n",
       "</table>\n",
       "</div>"
      ],
      "text/plain": [
       "       Rango  Precio_m2_mean\n",
       "0    [0-100]    20936.039103\n",
       "1  [100-150]    20913.201160\n",
       "2  [150-200]    17513.557116\n",
       "3  [200-250]    13162.083840\n",
       "4  [250-300]    13116.910579\n",
       "5    [> 300]    16696.305413"
      ]
     },
     "execution_count": 8,
     "metadata": {},
     "output_type": "execute_result"
    }
   ],
   "source": [
    "# Calcular el promedio general de cada rango en todas las columnas de rango_precio_m2\n",
    "promedio_general_por_rango = rango_precio_m2.mean(axis=1)\n",
    "# Crear un nuevo DataFrame 'Precio_mean_M2' con los rangos y sus promedios generales\n",
    "Precio_mean_M2 = pd.DataFrame({'Rango': promedio_general_por_rango.index, 'Precio_m2_mean': promedio_general_por_rango.values})\n",
    "\n",
    "print(\"DataFrame 'Precio_mean_M2':\")\n",
    "Precio_mean_M2"
   ]
  },
  {
   "cell_type": "markdown",
   "metadata": {},
   "source": [
    "# Gráfica"
   ]
  },
  {
   "cell_type": "code",
   "execution_count": 9,
   "metadata": {},
   "outputs": [
    {
     "data": {
      "application/vnd.plotly.v1+json": {
       "config": {
        "plotlyServerURL": "https://plot.ly"
       },
       "data": [
        {
         "marker": {
          "color": [
           "#2962ff",
           "#9500ff",
           "#ff0059",
           "#ff8c00",
           "#b4e600",
           "#2EC2A2",
           "#F79CB9"
          ]
         },
         "text": [
          "$20,936.04",
          "$20,913.20",
          "$17,513.56",
          "$13,162.08",
          "$13,116.91",
          "$16,696.31"
         ],
         "textposition": "inside",
         "type": "bar",
         "x": [
          "[0-100]",
          "[100-150]",
          "[150-200]",
          "[200-250]",
          "[250-300]",
          "[> 300]"
         ],
         "y": [
          20936.039103360556,
          20913.201159809134,
          17513.557115876847,
          13162.083839762608,
          13116.910578585253,
          16696.305413253915
         ]
        }
       ],
       "layout": {
        "height": 500,
        "margin": {
         "b": 10,
         "l": 10,
         "r": 10,
         "t": 10
        },
        "plot_bgcolor": "rgba(0,0,0,0)",
        "template": {
         "data": {
          "bar": [
           {
            "error_x": {
             "color": "#2a3f5f"
            },
            "error_y": {
             "color": "#2a3f5f"
            },
            "marker": {
             "line": {
              "color": "#E5ECF6",
              "width": 0.5
             },
             "pattern": {
              "fillmode": "overlay",
              "size": 10,
              "solidity": 0.2
             }
            },
            "type": "bar"
           }
          ],
          "barpolar": [
           {
            "marker": {
             "line": {
              "color": "#E5ECF6",
              "width": 0.5
             },
             "pattern": {
              "fillmode": "overlay",
              "size": 10,
              "solidity": 0.2
             }
            },
            "type": "barpolar"
           }
          ],
          "carpet": [
           {
            "aaxis": {
             "endlinecolor": "#2a3f5f",
             "gridcolor": "white",
             "linecolor": "white",
             "minorgridcolor": "white",
             "startlinecolor": "#2a3f5f"
            },
            "baxis": {
             "endlinecolor": "#2a3f5f",
             "gridcolor": "white",
             "linecolor": "white",
             "minorgridcolor": "white",
             "startlinecolor": "#2a3f5f"
            },
            "type": "carpet"
           }
          ],
          "choropleth": [
           {
            "colorbar": {
             "outlinewidth": 0,
             "ticks": ""
            },
            "type": "choropleth"
           }
          ],
          "contour": [
           {
            "colorbar": {
             "outlinewidth": 0,
             "ticks": ""
            },
            "colorscale": [
             [
              0,
              "#0d0887"
             ],
             [
              0.1111111111111111,
              "#46039f"
             ],
             [
              0.2222222222222222,
              "#7201a8"
             ],
             [
              0.3333333333333333,
              "#9c179e"
             ],
             [
              0.4444444444444444,
              "#bd3786"
             ],
             [
              0.5555555555555556,
              "#d8576b"
             ],
             [
              0.6666666666666666,
              "#ed7953"
             ],
             [
              0.7777777777777778,
              "#fb9f3a"
             ],
             [
              0.8888888888888888,
              "#fdca26"
             ],
             [
              1,
              "#f0f921"
             ]
            ],
            "type": "contour"
           }
          ],
          "contourcarpet": [
           {
            "colorbar": {
             "outlinewidth": 0,
             "ticks": ""
            },
            "type": "contourcarpet"
           }
          ],
          "heatmap": [
           {
            "colorbar": {
             "outlinewidth": 0,
             "ticks": ""
            },
            "colorscale": [
             [
              0,
              "#0d0887"
             ],
             [
              0.1111111111111111,
              "#46039f"
             ],
             [
              0.2222222222222222,
              "#7201a8"
             ],
             [
              0.3333333333333333,
              "#9c179e"
             ],
             [
              0.4444444444444444,
              "#bd3786"
             ],
             [
              0.5555555555555556,
              "#d8576b"
             ],
             [
              0.6666666666666666,
              "#ed7953"
             ],
             [
              0.7777777777777778,
              "#fb9f3a"
             ],
             [
              0.8888888888888888,
              "#fdca26"
             ],
             [
              1,
              "#f0f921"
             ]
            ],
            "type": "heatmap"
           }
          ],
          "heatmapgl": [
           {
            "colorbar": {
             "outlinewidth": 0,
             "ticks": ""
            },
            "colorscale": [
             [
              0,
              "#0d0887"
             ],
             [
              0.1111111111111111,
              "#46039f"
             ],
             [
              0.2222222222222222,
              "#7201a8"
             ],
             [
              0.3333333333333333,
              "#9c179e"
             ],
             [
              0.4444444444444444,
              "#bd3786"
             ],
             [
              0.5555555555555556,
              "#d8576b"
             ],
             [
              0.6666666666666666,
              "#ed7953"
             ],
             [
              0.7777777777777778,
              "#fb9f3a"
             ],
             [
              0.8888888888888888,
              "#fdca26"
             ],
             [
              1,
              "#f0f921"
             ]
            ],
            "type": "heatmapgl"
           }
          ],
          "histogram": [
           {
            "marker": {
             "pattern": {
              "fillmode": "overlay",
              "size": 10,
              "solidity": 0.2
             }
            },
            "type": "histogram"
           }
          ],
          "histogram2d": [
           {
            "colorbar": {
             "outlinewidth": 0,
             "ticks": ""
            },
            "colorscale": [
             [
              0,
              "#0d0887"
             ],
             [
              0.1111111111111111,
              "#46039f"
             ],
             [
              0.2222222222222222,
              "#7201a8"
             ],
             [
              0.3333333333333333,
              "#9c179e"
             ],
             [
              0.4444444444444444,
              "#bd3786"
             ],
             [
              0.5555555555555556,
              "#d8576b"
             ],
             [
              0.6666666666666666,
              "#ed7953"
             ],
             [
              0.7777777777777778,
              "#fb9f3a"
             ],
             [
              0.8888888888888888,
              "#fdca26"
             ],
             [
              1,
              "#f0f921"
             ]
            ],
            "type": "histogram2d"
           }
          ],
          "histogram2dcontour": [
           {
            "colorbar": {
             "outlinewidth": 0,
             "ticks": ""
            },
            "colorscale": [
             [
              0,
              "#0d0887"
             ],
             [
              0.1111111111111111,
              "#46039f"
             ],
             [
              0.2222222222222222,
              "#7201a8"
             ],
             [
              0.3333333333333333,
              "#9c179e"
             ],
             [
              0.4444444444444444,
              "#bd3786"
             ],
             [
              0.5555555555555556,
              "#d8576b"
             ],
             [
              0.6666666666666666,
              "#ed7953"
             ],
             [
              0.7777777777777778,
              "#fb9f3a"
             ],
             [
              0.8888888888888888,
              "#fdca26"
             ],
             [
              1,
              "#f0f921"
             ]
            ],
            "type": "histogram2dcontour"
           }
          ],
          "mesh3d": [
           {
            "colorbar": {
             "outlinewidth": 0,
             "ticks": ""
            },
            "type": "mesh3d"
           }
          ],
          "parcoords": [
           {
            "line": {
             "colorbar": {
              "outlinewidth": 0,
              "ticks": ""
             }
            },
            "type": "parcoords"
           }
          ],
          "pie": [
           {
            "automargin": true,
            "type": "pie"
           }
          ],
          "scatter": [
           {
            "fillpattern": {
             "fillmode": "overlay",
             "size": 10,
             "solidity": 0.2
            },
            "type": "scatter"
           }
          ],
          "scatter3d": [
           {
            "line": {
             "colorbar": {
              "outlinewidth": 0,
              "ticks": ""
             }
            },
            "marker": {
             "colorbar": {
              "outlinewidth": 0,
              "ticks": ""
             }
            },
            "type": "scatter3d"
           }
          ],
          "scattercarpet": [
           {
            "marker": {
             "colorbar": {
              "outlinewidth": 0,
              "ticks": ""
             }
            },
            "type": "scattercarpet"
           }
          ],
          "scattergeo": [
           {
            "marker": {
             "colorbar": {
              "outlinewidth": 0,
              "ticks": ""
             }
            },
            "type": "scattergeo"
           }
          ],
          "scattergl": [
           {
            "marker": {
             "colorbar": {
              "outlinewidth": 0,
              "ticks": ""
             }
            },
            "type": "scattergl"
           }
          ],
          "scattermapbox": [
           {
            "marker": {
             "colorbar": {
              "outlinewidth": 0,
              "ticks": ""
             }
            },
            "type": "scattermapbox"
           }
          ],
          "scatterpolar": [
           {
            "marker": {
             "colorbar": {
              "outlinewidth": 0,
              "ticks": ""
             }
            },
            "type": "scatterpolar"
           }
          ],
          "scatterpolargl": [
           {
            "marker": {
             "colorbar": {
              "outlinewidth": 0,
              "ticks": ""
             }
            },
            "type": "scatterpolargl"
           }
          ],
          "scatterternary": [
           {
            "marker": {
             "colorbar": {
              "outlinewidth": 0,
              "ticks": ""
             }
            },
            "type": "scatterternary"
           }
          ],
          "surface": [
           {
            "colorbar": {
             "outlinewidth": 0,
             "ticks": ""
            },
            "colorscale": [
             [
              0,
              "#0d0887"
             ],
             [
              0.1111111111111111,
              "#46039f"
             ],
             [
              0.2222222222222222,
              "#7201a8"
             ],
             [
              0.3333333333333333,
              "#9c179e"
             ],
             [
              0.4444444444444444,
              "#bd3786"
             ],
             [
              0.5555555555555556,
              "#d8576b"
             ],
             [
              0.6666666666666666,
              "#ed7953"
             ],
             [
              0.7777777777777778,
              "#fb9f3a"
             ],
             [
              0.8888888888888888,
              "#fdca26"
             ],
             [
              1,
              "#f0f921"
             ]
            ],
            "type": "surface"
           }
          ],
          "table": [
           {
            "cells": {
             "fill": {
              "color": "#EBF0F8"
             },
             "line": {
              "color": "white"
             }
            },
            "header": {
             "fill": {
              "color": "#C8D4E3"
             },
             "line": {
              "color": "white"
             }
            },
            "type": "table"
           }
          ]
         },
         "layout": {
          "annotationdefaults": {
           "arrowcolor": "#2a3f5f",
           "arrowhead": 0,
           "arrowwidth": 1
          },
          "autotypenumbers": "strict",
          "coloraxis": {
           "colorbar": {
            "outlinewidth": 0,
            "ticks": ""
           }
          },
          "colorscale": {
           "diverging": [
            [
             0,
             "#8e0152"
            ],
            [
             0.1,
             "#c51b7d"
            ],
            [
             0.2,
             "#de77ae"
            ],
            [
             0.3,
             "#f1b6da"
            ],
            [
             0.4,
             "#fde0ef"
            ],
            [
             0.5,
             "#f7f7f7"
            ],
            [
             0.6,
             "#e6f5d0"
            ],
            [
             0.7,
             "#b8e186"
            ],
            [
             0.8,
             "#7fbc41"
            ],
            [
             0.9,
             "#4d9221"
            ],
            [
             1,
             "#276419"
            ]
           ],
           "sequential": [
            [
             0,
             "#0d0887"
            ],
            [
             0.1111111111111111,
             "#46039f"
            ],
            [
             0.2222222222222222,
             "#7201a8"
            ],
            [
             0.3333333333333333,
             "#9c179e"
            ],
            [
             0.4444444444444444,
             "#bd3786"
            ],
            [
             0.5555555555555556,
             "#d8576b"
            ],
            [
             0.6666666666666666,
             "#ed7953"
            ],
            [
             0.7777777777777778,
             "#fb9f3a"
            ],
            [
             0.8888888888888888,
             "#fdca26"
            ],
            [
             1,
             "#f0f921"
            ]
           ],
           "sequentialminus": [
            [
             0,
             "#0d0887"
            ],
            [
             0.1111111111111111,
             "#46039f"
            ],
            [
             0.2222222222222222,
             "#7201a8"
            ],
            [
             0.3333333333333333,
             "#9c179e"
            ],
            [
             0.4444444444444444,
             "#bd3786"
            ],
            [
             0.5555555555555556,
             "#d8576b"
            ],
            [
             0.6666666666666666,
             "#ed7953"
            ],
            [
             0.7777777777777778,
             "#fb9f3a"
            ],
            [
             0.8888888888888888,
             "#fdca26"
            ],
            [
             1,
             "#f0f921"
            ]
           ]
          },
          "colorway": [
           "#636efa",
           "#EF553B",
           "#00cc96",
           "#ab63fa",
           "#FFA15A",
           "#19d3f3",
           "#FF6692",
           "#B6E880",
           "#FF97FF",
           "#FECB52"
          ],
          "font": {
           "color": "#2a3f5f"
          },
          "geo": {
           "bgcolor": "white",
           "lakecolor": "white",
           "landcolor": "#E5ECF6",
           "showlakes": true,
           "showland": true,
           "subunitcolor": "white"
          },
          "hoverlabel": {
           "align": "left"
          },
          "hovermode": "closest",
          "mapbox": {
           "style": "light"
          },
          "paper_bgcolor": "white",
          "plot_bgcolor": "#E5ECF6",
          "polar": {
           "angularaxis": {
            "gridcolor": "white",
            "linecolor": "white",
            "ticks": ""
           },
           "bgcolor": "#E5ECF6",
           "radialaxis": {
            "gridcolor": "white",
            "linecolor": "white",
            "ticks": ""
           }
          },
          "scene": {
           "xaxis": {
            "backgroundcolor": "#E5ECF6",
            "gridcolor": "white",
            "gridwidth": 2,
            "linecolor": "white",
            "showbackground": true,
            "ticks": "",
            "zerolinecolor": "white"
           },
           "yaxis": {
            "backgroundcolor": "#E5ECF6",
            "gridcolor": "white",
            "gridwidth": 2,
            "linecolor": "white",
            "showbackground": true,
            "ticks": "",
            "zerolinecolor": "white"
           },
           "zaxis": {
            "backgroundcolor": "#E5ECF6",
            "gridcolor": "white",
            "gridwidth": 2,
            "linecolor": "white",
            "showbackground": true,
            "ticks": "",
            "zerolinecolor": "white"
           }
          },
          "shapedefaults": {
           "line": {
            "color": "#2a3f5f"
           }
          },
          "ternary": {
           "aaxis": {
            "gridcolor": "white",
            "linecolor": "white",
            "ticks": ""
           },
           "baxis": {
            "gridcolor": "white",
            "linecolor": "white",
            "ticks": ""
           },
           "bgcolor": "#E5ECF6",
           "caxis": {
            "gridcolor": "white",
            "linecolor": "white",
            "ticks": ""
           }
          },
          "title": {
           "x": 0.05
          },
          "xaxis": {
           "automargin": true,
           "gridcolor": "white",
           "linecolor": "white",
           "ticks": "",
           "title": {
            "standoff": 15
           },
           "zerolinecolor": "white",
           "zerolinewidth": 2
          },
          "yaxis": {
           "automargin": true,
           "gridcolor": "white",
           "linecolor": "white",
           "ticks": "",
           "title": {
            "standoff": 15
           },
           "zerolinecolor": "white",
           "zerolinewidth": 2
          }
         }
        },
        "yaxis": {
         "gridcolor": "#dddcda",
         "gridwidth": 1,
         "ticktext": [
          "$0.00",
          "$5000.00",
          "$10000.00",
          "$15000.00",
          "$20000.00",
          "$25000.00"
         ],
         "tickvals": [
          0,
          5000,
          10000,
          15000,
          20000,
          25000
         ]
        }
       }
      }
     },
     "metadata": {},
     "output_type": "display_data"
    }
   ],
   "source": [
    "colores = ['#2962ff', '#9500ff', '#ff0059', '#ff8c00', '#b4e600', '#2EC2A2','#F79CB9']\n",
    "porcentajes = Precio_mean_M2['Precio_m2_mean']\n",
    "\n",
    "# Convertir la columna 'Precio_m2_mean' a números de punto flotante\n",
    "#Precio_mean_M2['Precio_m2_mean'] = Precio_mean_M2['Precio_m2_mean'].str.replace('$', '').str.replace(',', '').astype(float)\n",
    "# Convertir los valores a cadenas con el formato deseado\n",
    "textos_formateados = [f'${round(valor, 2):,.2f}' for valor in Precio_mean_M2['Precio_m2_mean']]\n",
    "\n",
    "fig = go.Figure()\n",
    "# Obtener el valor máximo redondeado al próximo múltiplo de 5000\n",
    "max_valor = int(Precio_mean_M2['Precio_m2_mean'].max() / 5000 + 1) * 5000\n",
    "\n",
    "# Agregar los datos como barras\n",
    "fig.add_trace(go.Bar(\n",
    "    x=Precio_mean_M2['Rango'],  # Eje x: Modalidades\n",
    "    y=Precio_mean_M2['Precio_m2_mean'],  # Eje y: Porcentajes\n",
    "    marker_color=colores,  # Especifica los colores de las barras\n",
    "    text=textos_formateados,  # Texto que se mostrará en las barras (porcentaje)\n",
    "    textposition='inside',  # Posición del texto (puede ser 'inside' o 'outside')\n",
    "))\n",
    "\n",
    "# Personalizar el diseño de la gráfica\n",
    "fig.update_layout(\n",
    "    #title='Precio promedio por M2 totales.',  # Título de la gráfica\n",
    "    #xaxis=dict(title='Rango'),  # Título del eje x\n",
    "    yaxis=dict(\n",
    "        #title='Precio', # Título del eje y\n",
    "        gridcolor='#dddcda', # Color de las líneas que dividen los rangos del eje Y\n",
    "        gridwidth=1,\n",
    "        tickvals=list(range(0, max_valor + 5000, 5000)),  # Valores de los ticks del eje y\n",
    "        ticktext=[f'${valor:.2f}' for valor in range(0, max_valor + 5000, 5000)]  # Textos de los ticks del eje y\n",
    "    ),  \n",
    "    plot_bgcolor='rgba(0,0,0,0)',  # Color de fondo del gráfico\n",
    "    height=500,  # Altura de la gráfica\n",
    "    margin=dict(l=10, r=10, t=10, b=10)  # Ajusta los márgenes (left, right, top, bottom)\n",
    "\n",
    ")\n",
    "\n",
    "# Exportar gráfica como archivo HTML\n",
    "def guardar_grafico_como_html(fig, nombre_archivo, carpeta='assets/graficas'):\n",
    "    # Crear la carpeta si no existe\n",
    "    if not os.path.exists(carpeta):\n",
    "        os.makedirs(carpeta)\n",
    "    # Gráfica como archivo HTML en la carpeta especificada\n",
    "    pio.write_html(fig, f'{carpeta}/{nombre_archivo}.html')\n",
    "guardar_grafico_como_html(fig, 'g_bar_PrecioPromedio_m2', carpeta='assets/graficas')\n",
    "fig.show()"
   ]
  },
  {
   "cell_type": "code",
   "execution_count": null,
   "metadata": {},
   "outputs": [],
   "source": []
  },
  {
   "cell_type": "markdown",
   "metadata": {},
   "source": [
    "# POR M2_CONSTRUCCIÓN"
   ]
  },
  {
   "cell_type": "code",
   "execution_count": 10,
   "metadata": {},
   "outputs": [
    {
     "name": "stdout",
     "output_type": "stream",
     "text": [
      "Primeros registros de nuevo DataFrame 1:\n",
      "       rango  precio_m2_construido\n",
      "0    [0-100]               5957.45\n",
      "1    [0-100]               4000.00\n",
      "2  [150-200]               1500.00\n",
      "3    [0-100]               3596.18\n",
      "4  [150-200]               1547.14\n",
      "\n",
      "Primeros registros de nuevo DataFrame 2:\n",
      "       rango  precio_m2_construido\n",
      "0  [100-150]               3783.78\n",
      "1  [100-150]               1369.57\n",
      "2  [100-150]               1369.57\n",
      "3  [150-200]               1369.57\n",
      "4  [150-200]               1600.00\n",
      "\n",
      "Primeros registros de nuevo DataFrame 3:\n",
      "     rango  precio_m2_construido\n",
      "0  [0-100]               5957.45\n",
      "1  [0-100]               4000.00\n",
      "2  [0-100]               4000.00\n",
      "3  [0-100]               4538.46\n",
      "4  [0-100]               4429.81\n",
      "\n",
      "Primeros registros de nuevo DataFrame 4:\n",
      "       rango  precio_m2_construido\n",
      "0    [0-100]               1529.41\n",
      "1    [0-100]               5957.45\n",
      "2    [0-100]               4538.46\n",
      "3  [100-150]               2583.33\n",
      "4  [100-150]               1369.57\n",
      "\n",
      "Primeros registros de nuevo DataFrame 5:\n",
      "       rango  precio_m2_construido\n",
      "0    [0-100]               5957.45\n",
      "1    [0-100]               4000.00\n",
      "2    [0-100]               3250.00\n",
      "3  [100-150]               3346.08\n",
      "4  [200-250]               1724.83\n",
      "\n",
      "Primeros registros de nuevo DataFrame 6:\n",
      "     rango  precio_m2_construido\n",
      "0  [0-100]              35522.39\n",
      "1  [0-100]              39205.88\n",
      "2  [0-100]              51470.59\n",
      "3  [0-100]              45945.95\n",
      "4  [0-100]              45945.95\n",
      "\n",
      "Primeros registros de nuevo DataFrame 7:\n",
      "     rango  precio_m2_construido\n",
      "0  [0-100]               2397.42\n",
      "1  [0-100]               2400.00\n",
      "2  [0-100]               2121.21\n",
      "3  [0-100]               5957.45\n",
      "4  [0-100]               4538.46\n",
      "\n"
     ]
    }
   ],
   "source": [
    "new_dataframes_list = []\n",
    "\n",
    "# Definir los límites de los rangos\n",
    "rangos = [0, 100, 150, 200, 250, 300, float('inf')]\n",
    "labels = ['[0-100]', '[100-150]', '[150-200]', '[200-250]', '[250-300]', '[> 300]']\n",
    "\n",
    "# Iterar sobre cada DataFrame en la lista original\n",
    "for df in dataframes_list:\n",
    "    # Crear una copia del DataFrame\n",
    "    modified_df = df.copy()\n",
    "    # Asignar el rango correspondiente a cada valor de 'm2_construido'\n",
    "    modified_df['rango'] = pd.cut(modified_df['m2_total'], bins=rangos, labels=labels, right=False)\n",
    "    # Crear un nuevo DataFrame solo con las columnas 'rango' y 'precio_m2_terreno'\n",
    "    new_df = modified_df[['rango', 'precio_m2_construido']].copy()\n",
    "    # Agregar el nuevo DataFrame a la lista\n",
    "    new_dataframes_list.append(new_df)\n",
    "\n",
    "# Imprimir los primeros registros de cada nuevo DataFrame\n",
    "for idx, df in enumerate(new_dataframes_list):\n",
    "    print(f\"Primeros registros de nuevo DataFrame {idx + 1}:\")\n",
    "    print(df.head())\n",
    "    print()  # Agregar una línea en blanco entre cada DataFrame\n"
   ]
  },
  {
   "cell_type": "markdown",
   "metadata": {},
   "source": [
    "### *Promedio de precio_m2_terreno por rango CADA DF* "
   ]
  },
  {
   "cell_type": "code",
   "execution_count": 11,
   "metadata": {},
   "outputs": [
    {
     "name": "stdout",
     "output_type": "stream",
     "text": [
      "Promedio de precio_m2_construido por rango en el DataFrame 1:\n",
      "rango\n",
      "[0-100]      13970.869119\n",
      "[100-150]    13827.560034\n",
      "[150-200]    10910.317080\n",
      "[200-250]     9468.837143\n",
      "[250-300]    12459.954560\n",
      "[> 300]      18073.958362\n",
      "Name: precio_m2_construido, dtype: float64\n",
      "\n",
      "Promedio de precio_m2_construido por rango en el DataFrame 2:\n",
      "rango\n",
      "[0-100]      18839.018043\n",
      "[100-150]    18355.062718\n",
      "[150-200]    13651.696256\n",
      "[200-250]    11836.955640\n",
      "[250-300]     9945.547229\n",
      "[> 300]      18817.652759\n",
      "Name: precio_m2_construido, dtype: float64\n",
      "\n",
      "Promedio de precio_m2_construido por rango en el DataFrame 3:\n",
      "rango\n",
      "[0-100]      18044.373681\n",
      "[100-150]    17424.994782\n",
      "[150-200]    14422.303315\n",
      "[200-250]    10934.129695\n",
      "[250-300]    13488.793014\n",
      "[> 300]      17166.495553\n",
      "Name: precio_m2_construido, dtype: float64\n",
      "\n",
      "Promedio de precio_m2_construido por rango en el DataFrame 4:\n",
      "rango\n",
      "[0-100]      18731.219915\n",
      "[100-150]    17667.959436\n",
      "[150-200]    15741.126130\n",
      "[200-250]    13196.035808\n",
      "[250-300]    12808.290430\n",
      "[> 300]      19588.818646\n",
      "Name: precio_m2_construido, dtype: float64\n",
      "\n",
      "Promedio de precio_m2_construido por rango en el DataFrame 5:\n",
      "rango\n",
      "[0-100]      20783.837711\n",
      "[100-150]    19764.278441\n",
      "[150-200]    17325.298452\n",
      "[200-250]    13654.032675\n",
      "[250-300]    15519.946013\n",
      "[> 300]      18583.019266\n",
      "Name: precio_m2_construido, dtype: float64\n",
      "\n",
      "Promedio de precio_m2_construido por rango en el DataFrame 6:\n",
      "rango\n",
      "[0-100]      20403.066188\n",
      "[100-150]    18239.595969\n",
      "[150-200]    15086.992253\n",
      "[200-250]    13069.438753\n",
      "[250-300]    11871.402339\n",
      "[> 300]      20599.602111\n",
      "Name: precio_m2_construido, dtype: float64\n",
      "\n",
      "Promedio de precio_m2_construido por rango en el DataFrame 7:\n",
      "rango\n",
      "[0-100]      18741.505172\n",
      "[100-150]    17917.298619\n",
      "[150-200]    16024.474473\n",
      "[200-250]    13295.826183\n",
      "[250-300]    13696.260948\n",
      "[> 300]      20036.577762\n",
      "Name: precio_m2_construido, dtype: float64\n",
      "\n"
     ]
    },
    {
     "name": "stderr",
     "output_type": "stream",
     "text": [
      "C:\\Users\\yoe11\\AppData\\Local\\Temp\\ipykernel_17860\\2302470058.py:5: FutureWarning:\n",
      "\n",
      "The default of observed=False is deprecated and will be changed to True in a future version of pandas. Pass observed=False to retain current behavior or observed=True to adopt the future default and silence this warning.\n",
      "\n"
     ]
    }
   ],
   "source": [
    "# Iterar sobre cada DataFrame modificado en new_dataframes_list\n",
    "for idx, df in enumerate(new_dataframes_list):\n",
    "    print(f\"Promedio de precio_m2_construido por rango en el DataFrame {idx + 1}:\")\n",
    "    # Agrupar el DataFrame por la columna 'rango' y calcular el promedio de 'precio_m2_terreno' para cada grupo\n",
    "    promedios_por_rango = df.groupby('rango')['precio_m2_construido'].mean()\n",
    "    print(promedios_por_rango)\n",
    "    print()  # Agregar una línea en blanco entre cada resultado"
   ]
  },
  {
   "cell_type": "code",
   "execution_count": 12,
   "metadata": {},
   "outputs": [
    {
     "name": "stdout",
     "output_type": "stream",
     "text": [
      "DataFrame 'rango_precio_m2':\n"
     ]
    },
    {
     "name": "stderr",
     "output_type": "stream",
     "text": [
      "C:\\Users\\yoe11\\AppData\\Local\\Temp\\ipykernel_17860\\905179478.py:6: FutureWarning:\n",
      "\n",
      "The default of observed=False is deprecated and will be changed to True in a future version of pandas. Pass observed=False to retain current behavior or observed=True to adopt the future default and silence this warning.\n",
      "\n"
     ]
    },
    {
     "data": {
      "text/html": [
       "<div>\n",
       "<style scoped>\n",
       "    .dataframe tbody tr th:only-of-type {\n",
       "        vertical-align: middle;\n",
       "    }\n",
       "\n",
       "    .dataframe tbody tr th {\n",
       "        vertical-align: top;\n",
       "    }\n",
       "\n",
       "    .dataframe thead th {\n",
       "        text-align: right;\n",
       "    }\n",
       "</style>\n",
       "<table border=\"1\" class=\"dataframe\">\n",
       "  <thead>\n",
       "    <tr style=\"text-align: right;\">\n",
       "      <th></th>\n",
       "      <th>DataFrame_1</th>\n",
       "      <th>DataFrame_2</th>\n",
       "      <th>DataFrame_3</th>\n",
       "      <th>DataFrame_4</th>\n",
       "      <th>DataFrame_5</th>\n",
       "      <th>DataFrame_6</th>\n",
       "      <th>DataFrame_7</th>\n",
       "    </tr>\n",
       "    <tr>\n",
       "      <th>rango</th>\n",
       "      <th></th>\n",
       "      <th></th>\n",
       "      <th></th>\n",
       "      <th></th>\n",
       "      <th></th>\n",
       "      <th></th>\n",
       "      <th></th>\n",
       "    </tr>\n",
       "  </thead>\n",
       "  <tbody>\n",
       "    <tr>\n",
       "      <th>[0-100]</th>\n",
       "      <td>13970.869119</td>\n",
       "      <td>18839.018043</td>\n",
       "      <td>18044.373681</td>\n",
       "      <td>18731.219915</td>\n",
       "      <td>20783.837711</td>\n",
       "      <td>20403.066188</td>\n",
       "      <td>18741.505172</td>\n",
       "    </tr>\n",
       "    <tr>\n",
       "      <th>[100-150]</th>\n",
       "      <td>13827.560034</td>\n",
       "      <td>18355.062718</td>\n",
       "      <td>17424.994782</td>\n",
       "      <td>17667.959436</td>\n",
       "      <td>19764.278441</td>\n",
       "      <td>18239.595969</td>\n",
       "      <td>17917.298619</td>\n",
       "    </tr>\n",
       "    <tr>\n",
       "      <th>[150-200]</th>\n",
       "      <td>10910.317080</td>\n",
       "      <td>13651.696256</td>\n",
       "      <td>14422.303315</td>\n",
       "      <td>15741.126130</td>\n",
       "      <td>17325.298452</td>\n",
       "      <td>15086.992253</td>\n",
       "      <td>16024.474473</td>\n",
       "    </tr>\n",
       "    <tr>\n",
       "      <th>[200-250]</th>\n",
       "      <td>9468.837143</td>\n",
       "      <td>11836.955640</td>\n",
       "      <td>10934.129695</td>\n",
       "      <td>13196.035808</td>\n",
       "      <td>13654.032675</td>\n",
       "      <td>13069.438753</td>\n",
       "      <td>13295.826183</td>\n",
       "    </tr>\n",
       "    <tr>\n",
       "      <th>[250-300]</th>\n",
       "      <td>12459.954560</td>\n",
       "      <td>9945.547229</td>\n",
       "      <td>13488.793014</td>\n",
       "      <td>12808.290430</td>\n",
       "      <td>15519.946013</td>\n",
       "      <td>11871.402339</td>\n",
       "      <td>13696.260948</td>\n",
       "    </tr>\n",
       "    <tr>\n",
       "      <th>[&gt; 300]</th>\n",
       "      <td>18073.958362</td>\n",
       "      <td>18817.652759</td>\n",
       "      <td>17166.495553</td>\n",
       "      <td>19588.818646</td>\n",
       "      <td>18583.019266</td>\n",
       "      <td>20599.602111</td>\n",
       "      <td>20036.577762</td>\n",
       "    </tr>\n",
       "  </tbody>\n",
       "</table>\n",
       "</div>"
      ],
      "text/plain": [
       "            DataFrame_1   DataFrame_2   DataFrame_3   DataFrame_4  \\\n",
       "rango                                                               \n",
       "[0-100]    13970.869119  18839.018043  18044.373681  18731.219915   \n",
       "[100-150]  13827.560034  18355.062718  17424.994782  17667.959436   \n",
       "[150-200]  10910.317080  13651.696256  14422.303315  15741.126130   \n",
       "[200-250]   9468.837143  11836.955640  10934.129695  13196.035808   \n",
       "[250-300]  12459.954560   9945.547229  13488.793014  12808.290430   \n",
       "[> 300]    18073.958362  18817.652759  17166.495553  19588.818646   \n",
       "\n",
       "            DataFrame_5   DataFrame_6   DataFrame_7  \n",
       "rango                                                \n",
       "[0-100]    20783.837711  20403.066188  18741.505172  \n",
       "[100-150]  19764.278441  18239.595969  17917.298619  \n",
       "[150-200]  17325.298452  15086.992253  16024.474473  \n",
       "[200-250]  13654.032675  13069.438753  13295.826183  \n",
       "[250-300]  15519.946013  11871.402339  13696.260948  \n",
       "[> 300]    18583.019266  20599.602111  20036.577762  "
      ]
     },
     "execution_count": 12,
     "metadata": {},
     "output_type": "execute_result"
    }
   ],
   "source": [
    "# Inicializar un diccionario para almacenar los promedios de precio por metro cuadrado para cada rango\n",
    "promedios_por_rango_dict = {}\n",
    "# Iterar sobre cada DataFrame modificado en new_dataframes_list\n",
    "for idx, df in enumerate(new_dataframes_list):\n",
    "    # Agrupar el DataFrame por la columna 'rango' y calcular el promedio de 'precio_m2_terreno' para cada grupo\n",
    "    promedios_por_rango = df.groupby('rango')['precio_m2_construido'].mean()\n",
    "    # Actualizar el diccionario con los promedios calculados\n",
    "    promedios_por_rango_dict[f'DataFrame_{idx + 1}'] = promedios_por_rango\n",
    "\n",
    "# Convertir el diccionario en un DataFrame\n",
    "rango_precio_m2 = pd.DataFrame(promedios_por_rango_dict)\n",
    "print(\"DataFrame 'rango_precio_m2':\")\n",
    "rango_precio_m2"
   ]
  },
  {
   "cell_type": "code",
   "execution_count": 13,
   "metadata": {},
   "outputs": [
    {
     "name": "stdout",
     "output_type": "stream",
     "text": [
      "DataFrame 'Precio_mean_M2':\n"
     ]
    },
    {
     "data": {
      "text/html": [
       "<div>\n",
       "<style scoped>\n",
       "    .dataframe tbody tr th:only-of-type {\n",
       "        vertical-align: middle;\n",
       "    }\n",
       "\n",
       "    .dataframe tbody tr th {\n",
       "        vertical-align: top;\n",
       "    }\n",
       "\n",
       "    .dataframe thead th {\n",
       "        text-align: right;\n",
       "    }\n",
       "</style>\n",
       "<table border=\"1\" class=\"dataframe\">\n",
       "  <thead>\n",
       "    <tr style=\"text-align: right;\">\n",
       "      <th></th>\n",
       "      <th>Rango</th>\n",
       "      <th>Precio_m2_mean</th>\n",
       "    </tr>\n",
       "  </thead>\n",
       "  <tbody>\n",
       "    <tr>\n",
       "      <th>0</th>\n",
       "      <td>[0-100]</td>\n",
       "      <td>18501.984261</td>\n",
       "    </tr>\n",
       "    <tr>\n",
       "      <th>1</th>\n",
       "      <td>[100-150]</td>\n",
       "      <td>17599.535714</td>\n",
       "    </tr>\n",
       "    <tr>\n",
       "      <th>2</th>\n",
       "      <td>[150-200]</td>\n",
       "      <td>14737.458280</td>\n",
       "    </tr>\n",
       "    <tr>\n",
       "      <th>3</th>\n",
       "      <td>[200-250]</td>\n",
       "      <td>12207.893700</td>\n",
       "    </tr>\n",
       "    <tr>\n",
       "      <th>4</th>\n",
       "      <td>[250-300]</td>\n",
       "      <td>12827.170648</td>\n",
       "    </tr>\n",
       "    <tr>\n",
       "      <th>5</th>\n",
       "      <td>[&gt; 300]</td>\n",
       "      <td>18980.874923</td>\n",
       "    </tr>\n",
       "  </tbody>\n",
       "</table>\n",
       "</div>"
      ],
      "text/plain": [
       "       Rango  Precio_m2_mean\n",
       "0    [0-100]    18501.984261\n",
       "1  [100-150]    17599.535714\n",
       "2  [150-200]    14737.458280\n",
       "3  [200-250]    12207.893700\n",
       "4  [250-300]    12827.170648\n",
       "5    [> 300]    18980.874923"
      ]
     },
     "execution_count": 13,
     "metadata": {},
     "output_type": "execute_result"
    }
   ],
   "source": [
    "# Calcular el promedio general de cada rango en todas las columnas de rango_precio_m2\n",
    "promedio_general_por_rango = rango_precio_m2.mean(axis=1)\n",
    "# Crear un nuevo DataFrame 'Precio_mean_M2' con los rangos y sus promedios generales\n",
    "Precio_mean_M2 = pd.DataFrame({'Rango': promedio_general_por_rango.index, 'Precio_m2_mean': promedio_general_por_rango.values})\n",
    "\n",
    "print(\"DataFrame 'Precio_mean_M2':\")\n",
    "Precio_mean_M2"
   ]
  },
  {
   "cell_type": "code",
   "execution_count": 14,
   "metadata": {},
   "outputs": [
    {
     "data": {
      "application/vnd.plotly.v1+json": {
       "config": {
        "plotlyServerURL": "https://plot.ly"
       },
       "data": [
        {
         "marker": {
          "color": [
           "#2962ff",
           "#9500ff",
           "#ff0059",
           "#ff8c00",
           "#b4e600",
           "#2EC2A2",
           "#F79CB9"
          ]
         },
         "text": [
          "$18,501.98",
          "$17,599.54",
          "$14,737.46",
          "$12,207.89",
          "$12,827.17",
          "$18,980.87"
         ],
         "textposition": "inside",
         "type": "bar",
         "x": [
          "[0-100]",
          "[100-150]",
          "[150-200]",
          "[200-250]",
          "[250-300]",
          "[> 300]"
         ],
         "y": [
          18501.984261239144,
          17599.535714186808,
          14737.458279786182,
          12207.893699551249,
          12827.170647583318,
          18980.87492266609
         ]
        }
       ],
       "layout": {
        "height": 500,
        "margin": {
         "b": 10,
         "l": 10,
         "r": 10,
         "t": 10
        },
        "plot_bgcolor": "rgba(0,0,0,0)",
        "template": {
         "data": {
          "bar": [
           {
            "error_x": {
             "color": "#2a3f5f"
            },
            "error_y": {
             "color": "#2a3f5f"
            },
            "marker": {
             "line": {
              "color": "#E5ECF6",
              "width": 0.5
             },
             "pattern": {
              "fillmode": "overlay",
              "size": 10,
              "solidity": 0.2
             }
            },
            "type": "bar"
           }
          ],
          "barpolar": [
           {
            "marker": {
             "line": {
              "color": "#E5ECF6",
              "width": 0.5
             },
             "pattern": {
              "fillmode": "overlay",
              "size": 10,
              "solidity": 0.2
             }
            },
            "type": "barpolar"
           }
          ],
          "carpet": [
           {
            "aaxis": {
             "endlinecolor": "#2a3f5f",
             "gridcolor": "white",
             "linecolor": "white",
             "minorgridcolor": "white",
             "startlinecolor": "#2a3f5f"
            },
            "baxis": {
             "endlinecolor": "#2a3f5f",
             "gridcolor": "white",
             "linecolor": "white",
             "minorgridcolor": "white",
             "startlinecolor": "#2a3f5f"
            },
            "type": "carpet"
           }
          ],
          "choropleth": [
           {
            "colorbar": {
             "outlinewidth": 0,
             "ticks": ""
            },
            "type": "choropleth"
           }
          ],
          "contour": [
           {
            "colorbar": {
             "outlinewidth": 0,
             "ticks": ""
            },
            "colorscale": [
             [
              0,
              "#0d0887"
             ],
             [
              0.1111111111111111,
              "#46039f"
             ],
             [
              0.2222222222222222,
              "#7201a8"
             ],
             [
              0.3333333333333333,
              "#9c179e"
             ],
             [
              0.4444444444444444,
              "#bd3786"
             ],
             [
              0.5555555555555556,
              "#d8576b"
             ],
             [
              0.6666666666666666,
              "#ed7953"
             ],
             [
              0.7777777777777778,
              "#fb9f3a"
             ],
             [
              0.8888888888888888,
              "#fdca26"
             ],
             [
              1,
              "#f0f921"
             ]
            ],
            "type": "contour"
           }
          ],
          "contourcarpet": [
           {
            "colorbar": {
             "outlinewidth": 0,
             "ticks": ""
            },
            "type": "contourcarpet"
           }
          ],
          "heatmap": [
           {
            "colorbar": {
             "outlinewidth": 0,
             "ticks": ""
            },
            "colorscale": [
             [
              0,
              "#0d0887"
             ],
             [
              0.1111111111111111,
              "#46039f"
             ],
             [
              0.2222222222222222,
              "#7201a8"
             ],
             [
              0.3333333333333333,
              "#9c179e"
             ],
             [
              0.4444444444444444,
              "#bd3786"
             ],
             [
              0.5555555555555556,
              "#d8576b"
             ],
             [
              0.6666666666666666,
              "#ed7953"
             ],
             [
              0.7777777777777778,
              "#fb9f3a"
             ],
             [
              0.8888888888888888,
              "#fdca26"
             ],
             [
              1,
              "#f0f921"
             ]
            ],
            "type": "heatmap"
           }
          ],
          "heatmapgl": [
           {
            "colorbar": {
             "outlinewidth": 0,
             "ticks": ""
            },
            "colorscale": [
             [
              0,
              "#0d0887"
             ],
             [
              0.1111111111111111,
              "#46039f"
             ],
             [
              0.2222222222222222,
              "#7201a8"
             ],
             [
              0.3333333333333333,
              "#9c179e"
             ],
             [
              0.4444444444444444,
              "#bd3786"
             ],
             [
              0.5555555555555556,
              "#d8576b"
             ],
             [
              0.6666666666666666,
              "#ed7953"
             ],
             [
              0.7777777777777778,
              "#fb9f3a"
             ],
             [
              0.8888888888888888,
              "#fdca26"
             ],
             [
              1,
              "#f0f921"
             ]
            ],
            "type": "heatmapgl"
           }
          ],
          "histogram": [
           {
            "marker": {
             "pattern": {
              "fillmode": "overlay",
              "size": 10,
              "solidity": 0.2
             }
            },
            "type": "histogram"
           }
          ],
          "histogram2d": [
           {
            "colorbar": {
             "outlinewidth": 0,
             "ticks": ""
            },
            "colorscale": [
             [
              0,
              "#0d0887"
             ],
             [
              0.1111111111111111,
              "#46039f"
             ],
             [
              0.2222222222222222,
              "#7201a8"
             ],
             [
              0.3333333333333333,
              "#9c179e"
             ],
             [
              0.4444444444444444,
              "#bd3786"
             ],
             [
              0.5555555555555556,
              "#d8576b"
             ],
             [
              0.6666666666666666,
              "#ed7953"
             ],
             [
              0.7777777777777778,
              "#fb9f3a"
             ],
             [
              0.8888888888888888,
              "#fdca26"
             ],
             [
              1,
              "#f0f921"
             ]
            ],
            "type": "histogram2d"
           }
          ],
          "histogram2dcontour": [
           {
            "colorbar": {
             "outlinewidth": 0,
             "ticks": ""
            },
            "colorscale": [
             [
              0,
              "#0d0887"
             ],
             [
              0.1111111111111111,
              "#46039f"
             ],
             [
              0.2222222222222222,
              "#7201a8"
             ],
             [
              0.3333333333333333,
              "#9c179e"
             ],
             [
              0.4444444444444444,
              "#bd3786"
             ],
             [
              0.5555555555555556,
              "#d8576b"
             ],
             [
              0.6666666666666666,
              "#ed7953"
             ],
             [
              0.7777777777777778,
              "#fb9f3a"
             ],
             [
              0.8888888888888888,
              "#fdca26"
             ],
             [
              1,
              "#f0f921"
             ]
            ],
            "type": "histogram2dcontour"
           }
          ],
          "mesh3d": [
           {
            "colorbar": {
             "outlinewidth": 0,
             "ticks": ""
            },
            "type": "mesh3d"
           }
          ],
          "parcoords": [
           {
            "line": {
             "colorbar": {
              "outlinewidth": 0,
              "ticks": ""
             }
            },
            "type": "parcoords"
           }
          ],
          "pie": [
           {
            "automargin": true,
            "type": "pie"
           }
          ],
          "scatter": [
           {
            "fillpattern": {
             "fillmode": "overlay",
             "size": 10,
             "solidity": 0.2
            },
            "type": "scatter"
           }
          ],
          "scatter3d": [
           {
            "line": {
             "colorbar": {
              "outlinewidth": 0,
              "ticks": ""
             }
            },
            "marker": {
             "colorbar": {
              "outlinewidth": 0,
              "ticks": ""
             }
            },
            "type": "scatter3d"
           }
          ],
          "scattercarpet": [
           {
            "marker": {
             "colorbar": {
              "outlinewidth": 0,
              "ticks": ""
             }
            },
            "type": "scattercarpet"
           }
          ],
          "scattergeo": [
           {
            "marker": {
             "colorbar": {
              "outlinewidth": 0,
              "ticks": ""
             }
            },
            "type": "scattergeo"
           }
          ],
          "scattergl": [
           {
            "marker": {
             "colorbar": {
              "outlinewidth": 0,
              "ticks": ""
             }
            },
            "type": "scattergl"
           }
          ],
          "scattermapbox": [
           {
            "marker": {
             "colorbar": {
              "outlinewidth": 0,
              "ticks": ""
             }
            },
            "type": "scattermapbox"
           }
          ],
          "scatterpolar": [
           {
            "marker": {
             "colorbar": {
              "outlinewidth": 0,
              "ticks": ""
             }
            },
            "type": "scatterpolar"
           }
          ],
          "scatterpolargl": [
           {
            "marker": {
             "colorbar": {
              "outlinewidth": 0,
              "ticks": ""
             }
            },
            "type": "scatterpolargl"
           }
          ],
          "scatterternary": [
           {
            "marker": {
             "colorbar": {
              "outlinewidth": 0,
              "ticks": ""
             }
            },
            "type": "scatterternary"
           }
          ],
          "surface": [
           {
            "colorbar": {
             "outlinewidth": 0,
             "ticks": ""
            },
            "colorscale": [
             [
              0,
              "#0d0887"
             ],
             [
              0.1111111111111111,
              "#46039f"
             ],
             [
              0.2222222222222222,
              "#7201a8"
             ],
             [
              0.3333333333333333,
              "#9c179e"
             ],
             [
              0.4444444444444444,
              "#bd3786"
             ],
             [
              0.5555555555555556,
              "#d8576b"
             ],
             [
              0.6666666666666666,
              "#ed7953"
             ],
             [
              0.7777777777777778,
              "#fb9f3a"
             ],
             [
              0.8888888888888888,
              "#fdca26"
             ],
             [
              1,
              "#f0f921"
             ]
            ],
            "type": "surface"
           }
          ],
          "table": [
           {
            "cells": {
             "fill": {
              "color": "#EBF0F8"
             },
             "line": {
              "color": "white"
             }
            },
            "header": {
             "fill": {
              "color": "#C8D4E3"
             },
             "line": {
              "color": "white"
             }
            },
            "type": "table"
           }
          ]
         },
         "layout": {
          "annotationdefaults": {
           "arrowcolor": "#2a3f5f",
           "arrowhead": 0,
           "arrowwidth": 1
          },
          "autotypenumbers": "strict",
          "coloraxis": {
           "colorbar": {
            "outlinewidth": 0,
            "ticks": ""
           }
          },
          "colorscale": {
           "diverging": [
            [
             0,
             "#8e0152"
            ],
            [
             0.1,
             "#c51b7d"
            ],
            [
             0.2,
             "#de77ae"
            ],
            [
             0.3,
             "#f1b6da"
            ],
            [
             0.4,
             "#fde0ef"
            ],
            [
             0.5,
             "#f7f7f7"
            ],
            [
             0.6,
             "#e6f5d0"
            ],
            [
             0.7,
             "#b8e186"
            ],
            [
             0.8,
             "#7fbc41"
            ],
            [
             0.9,
             "#4d9221"
            ],
            [
             1,
             "#276419"
            ]
           ],
           "sequential": [
            [
             0,
             "#0d0887"
            ],
            [
             0.1111111111111111,
             "#46039f"
            ],
            [
             0.2222222222222222,
             "#7201a8"
            ],
            [
             0.3333333333333333,
             "#9c179e"
            ],
            [
             0.4444444444444444,
             "#bd3786"
            ],
            [
             0.5555555555555556,
             "#d8576b"
            ],
            [
             0.6666666666666666,
             "#ed7953"
            ],
            [
             0.7777777777777778,
             "#fb9f3a"
            ],
            [
             0.8888888888888888,
             "#fdca26"
            ],
            [
             1,
             "#f0f921"
            ]
           ],
           "sequentialminus": [
            [
             0,
             "#0d0887"
            ],
            [
             0.1111111111111111,
             "#46039f"
            ],
            [
             0.2222222222222222,
             "#7201a8"
            ],
            [
             0.3333333333333333,
             "#9c179e"
            ],
            [
             0.4444444444444444,
             "#bd3786"
            ],
            [
             0.5555555555555556,
             "#d8576b"
            ],
            [
             0.6666666666666666,
             "#ed7953"
            ],
            [
             0.7777777777777778,
             "#fb9f3a"
            ],
            [
             0.8888888888888888,
             "#fdca26"
            ],
            [
             1,
             "#f0f921"
            ]
           ]
          },
          "colorway": [
           "#636efa",
           "#EF553B",
           "#00cc96",
           "#ab63fa",
           "#FFA15A",
           "#19d3f3",
           "#FF6692",
           "#B6E880",
           "#FF97FF",
           "#FECB52"
          ],
          "font": {
           "color": "#2a3f5f"
          },
          "geo": {
           "bgcolor": "white",
           "lakecolor": "white",
           "landcolor": "#E5ECF6",
           "showlakes": true,
           "showland": true,
           "subunitcolor": "white"
          },
          "hoverlabel": {
           "align": "left"
          },
          "hovermode": "closest",
          "mapbox": {
           "style": "light"
          },
          "paper_bgcolor": "white",
          "plot_bgcolor": "#E5ECF6",
          "polar": {
           "angularaxis": {
            "gridcolor": "white",
            "linecolor": "white",
            "ticks": ""
           },
           "bgcolor": "#E5ECF6",
           "radialaxis": {
            "gridcolor": "white",
            "linecolor": "white",
            "ticks": ""
           }
          },
          "scene": {
           "xaxis": {
            "backgroundcolor": "#E5ECF6",
            "gridcolor": "white",
            "gridwidth": 2,
            "linecolor": "white",
            "showbackground": true,
            "ticks": "",
            "zerolinecolor": "white"
           },
           "yaxis": {
            "backgroundcolor": "#E5ECF6",
            "gridcolor": "white",
            "gridwidth": 2,
            "linecolor": "white",
            "showbackground": true,
            "ticks": "",
            "zerolinecolor": "white"
           },
           "zaxis": {
            "backgroundcolor": "#E5ECF6",
            "gridcolor": "white",
            "gridwidth": 2,
            "linecolor": "white",
            "showbackground": true,
            "ticks": "",
            "zerolinecolor": "white"
           }
          },
          "shapedefaults": {
           "line": {
            "color": "#2a3f5f"
           }
          },
          "ternary": {
           "aaxis": {
            "gridcolor": "white",
            "linecolor": "white",
            "ticks": ""
           },
           "baxis": {
            "gridcolor": "white",
            "linecolor": "white",
            "ticks": ""
           },
           "bgcolor": "#E5ECF6",
           "caxis": {
            "gridcolor": "white",
            "linecolor": "white",
            "ticks": ""
           }
          },
          "title": {
           "x": 0.05
          },
          "xaxis": {
           "automargin": true,
           "gridcolor": "white",
           "linecolor": "white",
           "ticks": "",
           "title": {
            "standoff": 15
           },
           "zerolinecolor": "white",
           "zerolinewidth": 2
          },
          "yaxis": {
           "automargin": true,
           "gridcolor": "white",
           "linecolor": "white",
           "ticks": "",
           "title": {
            "standoff": 15
           },
           "zerolinecolor": "white",
           "zerolinewidth": 2
          }
         }
        },
        "xaxis": {
         "title": {
          "text": "M² Construidos"
         }
        },
        "yaxis": {
         "gridcolor": "#dddcda",
         "gridwidth": 1,
         "ticktext": [
          "$0.00",
          "$5000.00",
          "$10000.00",
          "$15000.00",
          "$20000.00"
         ],
         "tickvals": [
          0,
          5000,
          10000,
          15000,
          20000
         ],
         "title": {
          "text": "Precio promedio"
         }
        }
       }
      }
     },
     "metadata": {},
     "output_type": "display_data"
    }
   ],
   "source": [
    "colores = ['#2962ff', '#9500ff', '#ff0059', '#ff8c00', '#b4e600', '#2EC2A2','#F79CB9']\n",
    "porcentajes = Precio_mean_M2['Precio_m2_mean']\n",
    "\n",
    "# Convertir la columna 'Precio_m2_mean' a números de punto flotante\n",
    "#Precio_mean_M2['Precio_m2_mean'] = Precio_mean_M2['Precio_m2_mean'].str.replace('$', '').str.replace(',', '').astype(float)\n",
    "# Convertir los valores a cadenas con el formato deseado\n",
    "textos_formateados = [f'${round(valor, 2):,.2f}' for valor in Precio_mean_M2['Precio_m2_mean']]\n",
    "\n",
    "fig = go.Figure()\n",
    "# Obtener el valor máximo redondeado al próximo múltiplo de 5000\n",
    "max_valor = int(Precio_mean_M2['Precio_m2_mean'].max() / 5000 + 1) * 5000\n",
    "\n",
    "# Agregar los datos como barras\n",
    "fig.add_trace(go.Bar(\n",
    "    x=Precio_mean_M2['Rango'],  # Eje x: Modalidades\n",
    "    y=Precio_mean_M2['Precio_m2_mean'],  # Eje y: Porcentajes\n",
    "    marker_color=colores,  # Especifica los colores de las barras\n",
    "    text=textos_formateados,  # Texto que se mostrará en las barras (porcentaje)\n",
    "    textposition='inside',  # Posición del texto (puede ser 'inside' o 'outside')\n",
    "))\n",
    "\n",
    "# Personalizar el diseño de la gráfica\n",
    "fig.update_layout(\n",
    "    #title='Precio promedio por M2 totales.',  # Título de la gráfica\n",
    "    xaxis=dict(title='M² Construidos'),  # Título del eje x\n",
    "    yaxis=dict(\n",
    "        title='Precio promedio', # Título del eje y\n",
    "        gridcolor='#dddcda', # Color de las líneas que dividen los rangos del eje Y\n",
    "        gridwidth=1,\n",
    "        tickvals=list(range(0, max_valor + 5000, 5000)),  # Valores de los ticks del eje y\n",
    "        ticktext=[f'${valor:.2f}' for valor in range(0, max_valor + 5000, 5000)]  # Textos de los ticks del eje y\n",
    "    ),  \n",
    "    plot_bgcolor='rgba(0,0,0,0)',  # Color de fondo del gráfico\n",
    "    height=500,  # Altura de la gráfica\n",
    "    margin=dict(l=10, r=10, t=10, b=10)  # Ajusta los márgenes (left, right, top, bottom)\n",
    "\n",
    ")\n",
    "# Exportar gráfica como archivo HTML\n",
    "def guardar_grafico_como_html(fig, nombre_archivo, carpeta='assets/graficas'):\n",
    "    # Crear la carpeta si no existe\n",
    "    if not os.path.exists(carpeta):\n",
    "        os.makedirs(carpeta)\n",
    "    config = {\n",
    "        'displaylogo': False,  # Ocultar el logo de Plotly\n",
    "        'modeBarButtonsToRemove': [\n",
    "            'toImage',       # Botón para guardar como imagen\n",
    "            'select2d',      # Box select\n",
    "            'lasso2d',       # Lasso select\n",
    "            'resetScale2d',  # Reset Axes\n",
    "        ]\n",
    "    }\n",
    "    # Gráfica como archivo HTML en la carpeta especificada\n",
    "    pio.write_html(fig, f'{carpeta}/{nombre_archivo}.html', config=config)\n",
    "\n",
    "\n",
    "guardar_grafico_como_html(fig, 'g_bar_PrecioPromedio_m2', carpeta='assets/graficas')\n",
    "fig.show()\n"
   ]
  },
  {
   "cell_type": "code",
   "execution_count": null,
   "metadata": {},
   "outputs": [],
   "source": []
  },
  {
   "cell_type": "code",
   "execution_count": null,
   "metadata": {},
   "outputs": [],
   "source": []
  }
 ],
 "metadata": {
  "kernelspec": {
   "display_name": "base",
   "language": "python",
   "name": "python3"
  },
  "language_info": {
   "codemirror_mode": {
    "name": "ipython",
    "version": 3
   },
   "file_extension": ".py",
   "mimetype": "text/x-python",
   "name": "python",
   "nbconvert_exporter": "python",
   "pygments_lexer": "ipython3",
   "version": "3.12.7"
  }
 },
 "nbformat": 4,
 "nbformat_minor": 2
}
