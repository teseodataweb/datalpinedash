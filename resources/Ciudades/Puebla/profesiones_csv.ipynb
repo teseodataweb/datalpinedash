{
 "cells": [
  {
   "cell_type": "markdown",
   "metadata": {},
   "source": [
    "# **Profesiones**"
   ]
  },
  {
   "cell_type": "code",
   "execution_count": 1,
   "metadata": {},
   "outputs": [
    {
     "name": "stdout",
     "output_type": "stream",
     "text": [
      "Lista de DataFrames filtrados:\n"
     ]
    },
    {
     "data": {
      "text/plain": [
       "['df_salarios_puebla']"
      ]
     },
     "execution_count": 1,
     "metadata": {},
     "output_type": "execute_result"
    }
   ],
   "source": [
    "# Manejo de datos\n",
    "import os # Directorios\n",
    "import pandas as pd # Manipulación df\n",
    "# Gráficas\n",
    "import plotly.graph_objects as go #Para obtener librería usar: pip install plotly\n",
    "from plotly.subplots import make_subplots\n",
    "import plotly.io as pio # Exportar gráfica\n",
    "\n",
    "# Obtener el directorio actual de trabajo\n",
    "directorio_actual = os.getcwd()\n",
    "\n",
    "# Directorio donde se encuentran los archivos JSON (ruta relativa)\n",
    "directorio_json = os.path.join(directorio_actual, '../../db/datos_json')\n",
    "\n",
    "# Obtener la lista de archivos JSON en el directorio\n",
    "archivos_json = os.listdir(directorio_json)\n",
    "\n",
    "# Cargar los archivos JSON y crear DataFrames\n",
    "for archivo in archivos_json:\n",
    "    nombre_tabla = archivo.replace('datos_', '').replace('.json', '')\n",
    "    ruta_json = os.path.join(directorio_json, archivo)\n",
    "    globals()[f\"df_{nombre_tabla}\"] = pd.read_json(ruta_json)\n",
    "\n",
    "# Obtener todos los nombres de las variables globales\n",
    "nombres_variables_globales = list(globals().keys())\n",
    "\n",
    "# Filtrar los nombres que comienzan con \"df_\", contienen \"alfa_q\" y \"pachuca\"\n",
    "nombres_df_filtrados = [\n",
    "    nombre for nombre in nombres_variables_globales \n",
    "    if nombre.startswith(\"df_\") and \"salarios\" in nombre and \"puebla\" in nombre\n",
    "]\n",
    "\n",
    "# Imprimir la lista de DataFrames filtrados\n",
    "print(\"Lista de DataFrames filtrados:\")\n",
    "nombres_df_filtrados"
   ]
  },
  {
   "cell_type": "code",
   "execution_count": 2,
   "metadata": {},
   "outputs": [],
   "source": [
    "# Crear una lista de DataFrames seleccionados con las columnas específicas\n",
    "dataframes_list = []\n",
    "for nombre_df in nombres_df_filtrados:\n",
    "    # Seleccionar las columnas 'id' y 'categoria'\n",
    "    segment_df = globals()[nombre_df][['id_salarios', 'Occupation','Salario_Variable','Categoria']]\n",
    "    # Añadir el DataFrame a la lista\n",
    "    dataframes_list.append(segment_df)"
   ]
  },
  {
   "cell_type": "code",
   "execution_count": 2,
   "metadata": {},
   "outputs": [],
   "source": [
    "#Por si no se tiene el json, desde csv:\n",
    "#df = pd.read_csv('C:\\\\xampp\\\\htdocs/datalpine/resources/db/Scrapining/salarios/bases/QUERETARO_24.csv')\n",
    "\n",
    "#Por si no se tiene el json, desde csv:\n",
    "import os\n",
    "directorio_actual = os.getcwd()  # Cambiado de __file__ a getcwd()\n",
    "df = pd.read_csv(os.path.join(directorio_actual, '../../db/Scrapining/salarios/clean/PUEBLA_24.csv'))"
   ]
  },
  {
   "cell_type": "code",
   "execution_count": null,
   "metadata": {},
   "outputs": [],
   "source": []
  },
  {
   "cell_type": "code",
   "execution_count": 3,
   "metadata": {},
   "outputs": [
    {
     "name": "stdout",
     "output_type": "stream",
     "text": [
      "Profesiones con los salarios más bajos:\n",
      "['Presidentes y Autoridades Municipales', 'Presidentes y Directores Generales en Instituciones Públicas', 'Investigadores y Especialistas en Física', 'Ingenieros Eléctricos', 'Otros Operadores de Maquinaria Industrial, Ensambladores y Conductores de Transporte, no Clasificados Anteriormente', 'Pilotos de Aviación', 'Ingenieros en Comunicaciones y Telecomunicaciones', 'Inspectores en Seguridad Social, de Precios y otros Inspectores Públicos', 'Diseñadores Industriales', 'Alfabetizadores', 'Coordinadores y Jefes de Área en Generación y Provisión de Energía Eléctrica y Agua', 'Despachadores de Transporte', 'Directores y Gerentes en Informática', 'Coordinadores y Jefes de Área de Ventas, Comercialización y Alquiler', 'Trabajadores en Servicios Funerarios', 'Bomberos', 'Auxiliares y Técnicos Topógrafos, en Hidrología y Geología', 'Instructores en Estudios y Capacitación Comercial y Administrativa', 'Lavadores de Vehículos en Vía Pública', 'Especialistas en Hotelería y Turismo', 'Cuidadores de Niños, Personas con Discapacidad y Ancianos en Establecimientos', 'Operadores de Máquinas en la Elaboración de Bebidas Alcohólicas y no Alcohólicas', 'Trabajadores de Apoyo en Plomería e Instalación de Tuberías', 'Entrenadores de Animales y Ocupaciones Relacionadas con el Cuidado de Mascotas', 'Trabajadores en el Cultivo de Maíz Y/O Frijol', 'Trabajadores de Apoyo que Realizan Actividades Agrícolas y Ganaderas', 'Vigilantes y Porteros en Casas Particulares', 'Joyeros, Orfebres, Plateros y Pulidores de Metal', 'Trabajadores en la Cría de Caprinos y Ovinos', 'Trabajadores en el Cultivo de Frutales', 'Pintores', 'Trabajadores de Apoyo en Actividades Ganaderas', 'Cobradores, Pagadores y Prestamistas', 'Artesanos y Trabajadores en la Elaboración de Productos de Papel y Cartón', 'Edecanes', 'Trabajadores en el Cultivo de Café, Cacao y Tabaco', 'Lavanderos y Planchadores Domésticos', 'Cortadores de Leña', 'Ingenieros Químicos', 'Vendedores por Catálogo', 'Tejedores de Fibras', 'Instructores en Idiomas Extranjeros', 'Lavanderos en Establecimientos', 'Ayudantes en la Preparación de Alimentos', 'Cocineros Domésticos', 'Bordadores y Deshiladores', 'Curanderos, Hierberos y Hueseros', 'Trabajadores de Apoyo en la Industria de la Madera, Papel y Cartón', 'Trabajadores de Apoyo en la Industria Eléctrica, Electrónica y Comunicaciones', 'Trabajadores de Apoyo en la Industria de Alimentos, Bebidas y Productos de Tabaco', 'Empleados de Ventas, Despachadores y Dependientes en Comercios', 'Trabajadores de Apoyo en Actividades Agrícolas', 'Ayudantes de Jardineros', 'Mozos de Hotel y Restaurante', 'Recolectores de Basura y Material Reciclable', 'Diseñadores de Moda y Vestuario', 'Carteros (A Pie y en Bicicleta)', 'Planchadores y Tintoreros en Establecimientos', 'Vendedores por Teléfono', 'Vendedores Ambulantes de Artículos Diversos (Excluyendo los de Venta de Alimentos)', 'Auxiliares Hospitalarios y de Medicina', 'Peluqueros, Barberos, Estilistas y Peinadores', 'Operadores de Máquinas en el Tratamiento del Cuero, Piel y la Elaboración de Calzado', 'Auxiliares y Asistentes Dentales', 'Trabajadores en la Elaboración de Bebidas Alcohólicas y no Alcohólicas', 'Cuidadores de Niños, Personas con Discapacidad y Ancianos en Casas Particulares', 'Trabajadores Domésticos', 'Operadores de Máquinas para la Elaboración y Ensamble de Productos de Plástico y Hule', 'Agentes de Bienes Raíces', 'Alfareros y Trabajadores Ceramistas', 'Trabajadores en otros Cultivos Agrícolas', 'Trabajadores de Apoyo en la Industria Textil y del Zapato', 'Trabajadores de Apoyo en la Elaboración, Reparación y Mantenimiento Mecánico de Equipos, Maquinaria y Productos de Metal y de Precisión', 'Periodistas y Redactores', 'Cargadores', 'Repartidores de Mensajería (A Pie y en Bicicleta) y Mandaderos', 'Limpiadores de Calzado', 'Trabajadores en la Cría de Porcinos', 'Trabajadores en la Elaboración de Productos a Base de Azúcar, Chocolate, Confitería y Tabaco', 'Maquillistas, Manicuristas, Pedicuristas y Tatuadores', 'Patronistas de Productos Textiles', 'Fotógrafos', 'Nutriólogos', 'Encuestadores', 'Trabajadores en la Elaboración de Pan, Tortilla, Repostería, y otros Productos de Cereales y Harinas', 'Artesanos de Productos de Bejuco, Vara, Palma, Carrizo y Mimbre, Excepto Madera', 'Trabajadores en el Alquiler de Bienes Muebles (Loza, Películas, Video Juegos, Etcétera)', 'Jardineros en Casas Particulares', 'Cocineros', 'Recepcionistas y Trabajadores que Brindan Información (De Forma Personal)', 'Auxiliares en Contabilidad, Economía, Finanzas y Agentes de Bolsa', 'Impresores, Linotipistas, Fotograbadores y Encuadernadores', 'Trabajadores de Apoyo a la Realización de Espectáculos, Deportes y en Parques de Diversiones', 'Secretarias', 'Ayudantes de Conductores de Transporte Terrestre con Motor', 'Fonderos, Vendedores y Comerciantes de Comida', 'Operadores de Máquinas y Equipos de Hilar y Bobinar Fibras Textiles Naturales y Sintéticas', 'Meseros', 'Auxiliares y Técnicos en Pedagogía y en Educación', 'Trabajadores en el Alquiler Inmobiliario (Casas, Terrenos, Etcétera)', 'Trabajadores en la Cría de Ganado Bovino', 'Coordinadores y Jefes de Área en Producción Agropecuaria, Silvícola y Pesquera', 'Repartidores de Mercancías (A Pie y en Bicicleta)', 'Trabajadores que Combinan Actividades Agrícolas con Ganaderas', 'Jueces de Juzgado, Directores y Gerentes en Servicios Legales y Procuración de Justicia', 'Cuidadores y Acomodadores de Autos en Estacionamientos', 'Trabajadores en el Cultivo de Hortalizas y Verduras', 'Taqueros y Preparadores de Comida Rápida, Antojitos, Pizzas, Hot Dogs, Jugos, Café, Etcétera', 'Otros Trabajadores en Actividades Elementales y de Apoyo, no Clasificados Anteriormente', 'Barrenderos y Trabajadores de Limpieza (Excepto en Hoteles y Restaurantes)', 'Operadores de Máquinas para la Elaboración de Productos Farmacéuticos y Cosméticos', 'Comerciantes en Establecimientos', 'Pintores de Brocha Gorda', 'Cajeros, Taquilleros y Receptores de Apuestas', 'Encargados y Supervisores de Ventas de Productos y de Servicios Financieros y de Alquiler', 'Jardineros en Establecimientos', 'Profesores de Enseñanza Preescolar', 'Operadores de Máquinas de Costura, Bordado y de Corte para la Confección de Productos Textiles y Prendas de Vestir', 'Ensambladores y Montadores de Herramientas, Maquinaria, Equipos y Productos Metálicos', 'Ensambladores y Montadores de Partes Eléctricas y Electrónicas', 'Demostradores y Promotores', 'Instructores en Estudios y Capacitación Artística', 'Preparadores y Vendedores Ambulantes de Alimentos', 'Telefonistas y Telegrafistas', 'Trabajadores de Paquetería, Maleteros y Botones de Hotel', 'Trabajadores en la Cría Avícola', 'Trabajadores en Instalación y Reparación de Equipos Electrónicos, Telecomunicaciones y Electrodoméstico (Excepto Equipos Informáticos)', 'Coordinadores y Jefes de Área en Servicios Legales, Jueces Calificadores y Fiscales', 'Operadores de Máquinas de Lavado, Blanqueo, Teñido, Estampado, Afelpado, Planchado y Acabado de Productos Textiles, Cuero, Piel y Similares', 'Animadores y Organizadores de Eventos', 'Lavadores de Vehículos en Establecimientos', 'Fumigadores y Controladores de Plagas', 'Trabajadores en la Elaboración de Productos de Carne, Pescado y sus Derivados', 'Psicólogos', 'Sastres y Modistos, Costureras y Confeccionadores de Prendas de Vestir', 'Recamaristas y Camaristas', 'Trabajadores en la Elaboración y Reparación de Productos de Hule, Caucho, Plásticos y Vulcanización de Neumáticos', 'Conductores de Motocicleta', 'Trabajadores en la Elaboración de Productos Lácteos', 'Carpinteros de Obra Negra', 'Operadores de Máquinas en la Elaboración de Celulosa, Papel y Similares', 'Auxiliares y Técnicos de Equipos de Grabación y Reproducción de Video', 'Cerrajeros, Afiladores y Pulidores de Herramientas', 'Empacadores de Objetos y Mercancías', 'Profesores de Enseñanza Primaria', 'Trabajadores en la Elaboración de Productos de Cemento, Cal, Yeso, Azulejo, Piedra y Ladrilleros', 'Mecánicos en Mantenimiento y Reparación de Maquinaria e Instrumentos Industriales', 'Operadores de Máquinas y Equipos para la Captación, Bombeo y Distribución de Agua', 'Instaladores de Material Aislante, de Impermeabilización, Vidrio y otros Materiales', 'Dibujantes y Diseñadores Artísticos, Ilustradores y Grabadores', 'Técnicos Eléctricos', 'Checadores y Revisores de Transporte', 'Zapateros Artesanales', 'Trabajadores que Brindan Información por Teléfono (Centro de Llamadas) y Anunciadores', 'Médicos Generales y Familiares', 'Cantineros', 'Profesores de Enseñanza Secundaria', 'Trabajadores de Apoyo en la Construcción', 'Choferes en Casas Particulares', 'Músicos', 'Plomeros, Fontaneros e Instaladores de Tubería', 'Coordinadores y Jefes de Área en Centros de Enseñanza y Capacitación', 'Anaqueleros, Acomodadores y Seleccionadores de Mercancías y Alimentadores de Máquinas Expendedoras', 'Trabajadores en la Elaboración de Sustancias y Compuestos Químicos', 'Asesores y Analistas en Finanzas', 'Abogados', 'Veterinarios y Zootecnistas', 'Auxiliares y Técnicos en Ciencias Biológicas, Químicas y del Medio Ambiente', 'Moldeadores, Torneros y Troqueladores', 'Recolectores de Leña y Acarreadores de Agua', 'Taladores, Trocadores, Cortadores de Árboles y Similares']\n",
      "\n",
      "Profesiones con los salarios más altos:\n",
      "['Operadores de Máquinas para la Impresión y Encuadernación', 'Operadores de Máquinas para la Elaboración de Productos de Madera, Bejuco, Mimbre y Similares', 'Trabajadores en la Cría de Equinos', 'Trabajadores de Apoyo en la Industria de la Cerámica, Vidrio y Similares', 'Ingenieros Electrónicos', 'Especialistas y Consultores en Mercadotecnia, Publicidad, Comunicación y Comercio Exterior', 'Mecánicos en Mantenimiento y Reparación de Vehículos de Motor', 'Auxiliares en Administración, Mercadotecnia, Comercialización y Comercio Exterior', 'Supervisores en la Preparación y Servicio de Alimentos y Bebidas, Así como en Servicios de Esparcimiento y de Hotelería', 'Operadores de Máquinas en la Elaboración de Alimentos, Aceites, Grasas, Sal y Especias', 'Carpinteros, Ebanistas y Cepilladores en la Elaboración de Productos de Madera', 'Valuadores, Subastadores y Rematadores', 'Trabajadores en Actividades de Beneficio de Productos Pecuarios', 'Trabajadores de Apoyo en la Minería', 'Vigilantes y Guardias en Establecimientos', 'Conductores de Autobuses, Camiones, Camionetas, Taxis y Automóviles de Pasajeros', 'Operadores de Máquinas para la Elaboración de Productos a Base de Papel y Cartón', 'Capturistas de Datos', 'Técnicos en Instalación y Reparación de Equipos Electrónicos, Telecomunicaciones y Electrodoméstico (Excepto Equipos Informáticos)', 'Contadores y Auditores', 'Electricistas y Linieros', 'Herreros, Balconeros, Aluminadores y Forjadores', 'Supervisores de Artesanos y Trabajadores en la Elaboración de Productos de Madera, Papel, Textiles y de Cuero y Piel', 'Hojalateros, Chaperos, Latoneros, Cobreros y Pintores de Metales', 'Directores y Gerentes de Ventas, Comercialización y Alquiler', 'Operadores de Maquinaria Agropecuaria y Forestal', 'Trabajadores de Apoyo en la Industria Química, Petroquímica y Plásticos', 'Supervisores en Procesos de Ensamblado y Montaje de Maquinaria, Herramientas y Productos Metálicos y Electrónicos', 'Trabajadores de Apoyo en Actividades Administrativas Diversas', 'Operadores de Máquinas y Equipos para la Extracción y Beneficio en Minas y Canteras', 'Trabajadores en Viveros e Invernaderos', 'Técnicos en la Instalación y Reparación de Redes, Equipos y en Sistemas Computacionales', 'Encargados y Trabajadores en Control de Almacén y Bodega', 'Operadores de Máquinas que Cortan, Perforan, Doblan, Troquelan, Sueldan, Etc., Piezas y Productos Metálicos', 'Conductores de Maquinaria Móvil para el Movimiento de Mercancías en Fábricas, Puertos, Comercios, Etcétera', 'Operadores de Máquinas para Fabricar Tejidos de Punto, Telas y Alfombras', 'Conductores de Camiones, Camionetas y Automóviles de Carga', 'Trabajadores en el Cultivo de Flores', 'Operadores de Máquinas en la Elaboración de Cemento, Cal, Yeso y Productos de Cemento', 'Trabajadores en la Extracción de Cantera, Arcilla, Arena, Piedra y Grava', 'Agentes y Representantes de Ventas y Consignatarios', 'Técnicos en Aparatos de Diagnóstico, Tratamiento Médico, Podólogos y Fisioterapeutas', 'Choferes Vendedores', 'Clasificadores de Desechos', 'Trabajadores en Archivo y Correspondencia', 'Auxiliares en Ciencias Sociales y Humanistas', 'Agentes de Seguros y Servicios Financieros (Ejecutivos de Cuenta)', 'Mecánicos en Mantenimiento y Reparación de Instrumentos de Precisión y Musicales', 'Auxiliares y Técnicos en Veterinaria, Pesca y Forestación', 'Controladores de Tráfico de otros Transportes (Terrestre, Ferroviario y Marítimo)', 'Pedagogos, Orientadores Educativos y otros Especialistas en Ciencias Educativas', 'Profesores en Educación Física y Deporte', 'Coordinadores y Jefes de Área en Servicios Funerarios y otros Servicios', 'Técnicos en Mantenimiento y Reparación de Vehículos de Motor', 'Auxiliares en Enfermería y Paramédicos', 'Albañiles, Mamposteros y Afines', 'Auxiliares en Servicios Jurídicos', 'Trabajadores en Reparación de Equipos Electromecánicos', 'Operadores de Equipos Portátiles Especializados para la Construcción', 'Monjas y Predicadores', 'Cargadores por Propina', 'Técnicos de Laboratorios Médicos', 'Enfermeras (Técnicas)', 'Diseñadores Gráficos', 'Supervisores de Operadores de Maquinaria Industrial', 'Supervisores en Limpieza, Amas de Llaves, Mayordomos y en Estacionamientos', 'Operadores de Máquinas para el Tratamiento de Agua', 'Policías y Agentes de Tránsito', 'Cantantes', 'Coordinadores y Jefes de Área en Servicios Contables, Financieros, Banca y Seguros', 'Trabajadores de la Fuerza Armada Terrestre', 'Montadores de Estructuras Metálicas', 'Especialistas en Trabajo Social', 'Soldadores y Oxicortadores', 'Operadores de Máquinas Pulidoras, Galvanizadoras y Recubridoras de Metal', 'Operadores de Máquinas para la Elaboración de Productos Químicos', 'Coordinadores y Jefes de Área en Administración, Recursos Humanos y Mercadotecnia', 'Profesores de Preparatoria y Equivalentes', 'Supervisores de Trabajadores que Brindan y Manejan Información', 'Traductores e Intérpretes', 'Lecturistas de Medidores', 'Mecánicos en Instalación, Mantenimiento y Reparación de Equipos de Refrigeración, Climas y Aire Acondicionado.', 'Profesores Universitarios y de Enseñanza Superior', 'Conductores de Maquinaria Móvil para la Construcción y Minería', 'Bailarines y Coreógrafos', 'Agentes de Recaudación Tributaria y de Licencias', 'Supervisores e Inspectores Educativos', 'Decoradores de Interiores, Jardines y Diversos Materiales (Tazas, Llaveros, Etcétera)', 'Directores y Gerentes en Servicios Contables, Financieros, Banca y Seguros', 'Coordinadores y Jefes de Área en Actividades Artísticas, de Cine, Teatro y Afines', 'Escenógrafos', 'Taquígrafos, Mecanógrafos y Similares', 'Instaladores de Pisos, Azulejos, Mosaicos y Baldosas', 'Administradores y Especialistas en Recursos Humanos y Sistemas de Gestión', 'Supervisores de Trabajadores en la Elaboración y Procesamiento de Alimentos, Bebidas y Productos de Tabaco', 'Deportistas', 'Otras Ocupaciones de Mecánicos y Técnicos en el Mantenimiento y Reparación de Equipos Mecánicos, Vehículos de Motor e Instrumentos Industriales, no Clasificados Anteriormente', 'Tapiceros', 'Artesanos y Confeccionadores de Productos Textiles', 'Médicos Especialistas', 'Especialistas en Seguridad e Higiene y Salud Pública', 'Coordinadores y Jefes de Área en Producción Manufacturera', 'Coordinadores y Jefes de Área en Construcción, Reparación y Mantenimiento', 'Supervisores de Secretarias, Capturistas, Cajeros y Trabajadores de Control de Archivo y Transporte', 'Otros Profesores de Enseñanza Especial', 'Técnicos de Prótesis Médicas y Dentales', 'Instructores y Capacitadores en Oficios y para el Trabajo', 'Directores y Gerentes en Producción Manufacturera', 'Técnicos en Mantenimiento y Reparación de Maquinaria e Instrumentos Industriales', 'Árbitros y Jueces Deportivos', 'Ingenieros Civiles y de la Construcción', 'Directores y Gerentes de Restaurantes y Hoteles', 'Especialistas en Archivonomía, Biblioteconomía y Museografía', 'Técnicos en Seguridad en el Trabajo e Higiene', 'Supervisores de Trabajadores en la Extracción, Albañiles y en Acabados de la Construcción', 'Auxiliares y Técnicos de Ingeniería de Audio, Sonido e Iluminación', 'Desarrolladores y Analistas de Software y Multimedia', 'Supervisores de Mecánicos y Técnicos en Mantenimiento y Reparación de Equipos Mecánicos, Vehículos de Motor, Instrumentos Industriales y Equipo de Refrigeración', 'Peleteros, Cortadores, Curtidores y Teñidores de Cuero, Piel y Similares', 'Directores de Organizaciones Sindicales', 'Tramitadores Aduanales', 'Directores y Gerentes en Servicios Funerarios y otros Servicios', 'Arquitectos, Planificadores Urbanos y del Transporte', 'Operadores de Hornos Metalúrgicos, Coladores y Laminadores y Operadores de Máquinas Trefiladoras y Estiradoras de Metales', 'Supervisores de Técnicos Eléctricos, en Electrónica y de Equipos en Telecomunicaciones y Electromecánicos', 'Bañeros y Masajistas', 'Pintores y Barnizadores de Madera', 'Ingenieros Mecánicos', 'Directores y Gerentes en Producción Agropecuaria, Silvícola y Pesquera', 'Directores y Gerentes en Centros de Enseñanza y Capacitación', 'Trabajadores en Agencias de Viajes', 'Especialistas en Forestación', 'Directores y Productores Artísticos de Cine, Teatro y Afines', 'Coordinadores y Jefes de Área en Desarrollo Social y Económico', 'Técnicos en Reparación de Equipos Electromecánicos', 'Ecólogos y Especialistas en Ciencias Atmosféricas', 'Coordinadores y Jefes de Área en Servicios de Salud, Protección Civil y Medio Ambiente', 'Ingenieros Industriales', 'Técnicos en la Instalación, Reparación y Mantenimiento de Equipos de Refrigeración, Climas y Aire Acondicionado', 'Profesores de Personas con Problemas de Aprendizaje', 'Supervisores de Artesanos y Trabajadores en el Tratamiento y Elaboración de Productos de Metal', 'Directores y Gerentes en Servicios de Salud, Protección Civil y Medio Ambiente', 'Directores y Gerentes de Museos, Cines y otros Establecimientos Deportivos y Culturales', 'Supervisores en Servicios de Protección y Vigilancia', 'Oficiales del Ministerio Público y Detectives', 'Supervisores de las Fuerzas Armadas', 'Fisioterapeutas, Audiólogos y Logopedas', 'Trabajadores del Vidrio y Similares', 'Directores y Gerentes en Comunicación y Telecomunicaciones', 'Dibujantes Técnicos', 'Coordinadores y Jefes de Área en Informática', 'Coordinadores y Jefes de Área en Servicios de Transporte', 'Presidentes y Directores Generales en Instituciones y Empresas Privadas', 'Químicos', 'Investigadores y Especialistas en Sociología y Desarrollo Social', 'Directores y Gerentes en Construcción, Reparación y Mantenimiento', 'Ingenieros Biomédicos', 'Agrónomos', 'Coordinadores y Jefes de Área en Servicios de Vigilancia y Seguridad', 'Auxiliares y Técnicos Mineros, Metalúrgicos y Petroleros', 'Directores y Gerentes en Administración, Recursos Humanos y Mercadotecnia', 'Trabajadores en Actividades de Acuacultura', 'Farmacólogos', 'Optometristas', 'Biólogos y Especialistas en Ciencias del Mar y Oceanógrafos', 'Coordinadores y Jefes de Área en Comunicación y Telecomunicaciones', 'Supervisores de Conductores de Transporte y de Maquinaria Móvil', 'Directores y Gerentes en Servicios de Transporte', 'Administradores de Bases de Datos y Redes de Computadora', 'Coordinadores y Jefes de Área en Centros de Investigación y Desarrollo Tecnológico', 'Directores de Organizaciones Civiles y Religiosas']\n"
     ]
    }
   ],
   "source": [
    "# Ordenar el DataFrame por el valor del salario en orden ascendente\n",
    "profesiones_df_salarios_puebla_sorted = df.sort_values(by='Salario_Variables')\n",
    "\n",
    "# Dividir el DataFrame en dos partes: bajos y altos salarios\n",
    "corte = len(profesiones_df_salarios_puebla_sorted) // 2\n",
    "profesiones_bajas = profesiones_df_salarios_puebla_sorted.iloc[:corte]\n",
    "profesiones_altas = profesiones_df_salarios_puebla_sorted.iloc[corte:]\n",
    "\n",
    "# Imprimir la lista de ocupaciones para salarios más bajos\n",
    "print(\"Profesiones con los salarios más bajos:\")\n",
    "print(profesiones_bajas['Occupation'].tolist())\n",
    "\n",
    "# Imprimir la lista de ocupaciones para salarios más altos\n",
    "print(\"\\nProfesiones con los salarios más altos:\")\n",
    "print(profesiones_altas['Occupation'].tolist())"
   ]
  },
  {
   "cell_type": "code",
   "execution_count": 4,
   "metadata": {},
   "outputs": [
    {
     "name": "stdout",
     "output_type": "stream",
     "text": [
      "                               Profesiones Más Bajas  \\\n",
      "0              Presidentes y Autoridades Municipales   \n",
      "1  Presidentes y Directores Generales en Instituc...   \n",
      "2           Investigadores y Especialistas en Física   \n",
      "3                              Ingenieros Eléctricos   \n",
      "4  Otros Operadores de Maquinaria Industrial, Ens...   \n",
      "5                                Pilotos de Aviación   \n",
      "6  Ingenieros en Comunicaciones y Telecomunicaciones   \n",
      "7  Inspectores en Seguridad Social, de Precios y ...   \n",
      "8                           Diseñadores Industriales   \n",
      "9                                    Alfabetizadores   \n",
      "\n",
      "                               Profesiones Más Altas  \n",
      "0  Operadores de Máquinas para la Impresión y Enc...  \n",
      "1  Operadores de Máquinas para la Elaboración de ...  \n",
      "2                 Trabajadores en la Cría de Equinos  \n",
      "3  Trabajadores de Apoyo en la Industria de la Ce...  \n",
      "4                            Ingenieros Electrónicos  \n",
      "5  Especialistas y Consultores en Mercadotecnia, ...  \n",
      "6  Mecánicos en Mantenimiento y Reparación de Veh...  \n",
      "7  Auxiliares en Administración, Mercadotecnia, C...  \n",
      "8  Supervisores en la Preparación y Servicio de A...  \n",
      "9  Operadores de Máquinas en la Elaboración de Al...  \n"
     ]
    }
   ],
   "source": [
    "# Ordenar el DataFrame por el valor del salario en orden ascendente\n",
    "profesiones_df_salarios_puebla_sorted = df.sort_values(by='Salario_Variables')\n",
    "\n",
    "# Dividir el DataFrame en dos partes: bajos y altos salarios\n",
    "corte = len(profesiones_df_salarios_puebla_sorted) // 2\n",
    "profesiones_bajas = profesiones_df_salarios_puebla_sorted.iloc[:corte].head(10)  # Obtener solo las 10 primeras\n",
    "profesiones_altas = profesiones_df_salarios_puebla_sorted.iloc[corte:].head(10)  # Obtener solo las 10 primeras\n",
    "df_bajas = pd.DataFrame({'Profesiones Más Bajas': profesiones_bajas['Occupation']})\n",
    "df_altas = pd.DataFrame({'Profesiones Más Altas': profesiones_altas['Occupation']})\n",
    "\n",
    "# Unir los dos DataFrames en una sola tabla\n",
    "tabla_comparativa = pd.concat([df_bajas.reset_index(drop=True), df_altas.reset_index(drop=True)], axis=1)\n",
    "print(tabla_comparativa)\n",
    "\n",
    "# Exportar tabla como archivo HTML\n",
    "def guardar_tabla_como_html(tabla, nombre_archivo, carpeta='assets/tablas'):\n",
    "    if not os.path.exists(carpeta):\n",
    "        os.makedirs(carpeta)  # Crear la carpeta si no existe\n",
    "    \n",
    "    # Tabla como archivo HTML en la carpeta especificada\n",
    "    tabla.to_html(f'{carpeta}/{nombre_archivo}.html', index=False)\n",
    "\n",
    "# Exportar la tabla\n",
    "guardar_tabla_como_html(tabla_comparativa, 'tabla_profesiones')"
   ]
  },
  {
   "cell_type": "code",
   "execution_count": null,
   "metadata": {},
   "outputs": [],
   "source": []
  }
 ],
 "metadata": {
  "kernelspec": {
   "display_name": "base",
   "language": "python",
   "name": "python3"
  },
  "language_info": {
   "codemirror_mode": {
    "name": "ipython",
    "version": 3
   },
   "file_extension": ".py",
   "mimetype": "text/x-python",
   "name": "python",
   "nbconvert_exporter": "python",
   "pygments_lexer": "ipython3",
   "version": "3.12.7"
  }
 },
 "nbformat": 4,
 "nbformat_minor": 2
}
