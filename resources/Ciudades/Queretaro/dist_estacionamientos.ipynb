{
 "cells": [
  {
   "cell_type": "markdown",
   "metadata": {},
   "source": [
    "# ***Distribución ESTACIONAMIENTOS***"
   ]
  },
  {
   "cell_type": "code",
   "execution_count": 3,
   "metadata": {},
   "outputs": [
    {
     "name": "stdout",
     "output_type": "stream",
     "text": [
      "Lista de DataFrames filtrados:\n"
     ]
    },
    {
     "data": {
      "text/plain": [
       "['df_alfa_abril_2024_queretaro',\n",
       " 'df_alfa_agosto_2024_queretaro',\n",
       " 'df_alfa_marzo_2024_queretaro',\n",
       " 'df_alfa_mayo_2024_queretaro',\n",
       " 'df_junio_2023_queretaro']"
      ]
     },
     "execution_count": 3,
     "metadata": {},
     "output_type": "execute_result"
    }
   ],
   "source": [
    "# Manejo de datos\n",
    "import os # Directorios\n",
    "import pandas as pd # Manipulación df\n",
    "# Gráficas\n",
    "import plotly.graph_objects as go #Para obtener librería usar: pip install plotly\n",
    "from plotly.subplots import make_subplots\n",
    "import plotly.io as pio # Exportar gráfica\n",
    "\n",
    "# Obtener el directorio actual de trabajo\n",
    "directorio_actual = os.getcwd()\n",
    "\n",
    "# Directorio donde se encuentran los archivos JSON (ruta relativa)\n",
    "directorio_json = os.path.join(directorio_actual, '../../db/datos_json')\n",
    "\n",
    "# Obtener la lista de archivos JSON en el directorio\n",
    "archivos_json = os.listdir(directorio_json)\n",
    "\n",
    "# Cargar los archivos JSON y crear DataFrames\n",
    "for archivo in archivos_json:\n",
    "    nombre_tabla = archivo.replace('datos_', '').replace('.json', '')\n",
    "    ruta_json = os.path.join(directorio_json, archivo)\n",
    "    globals()[f\"df_{nombre_tabla}\"] = pd.read_json(ruta_json)\n",
    "\n",
    "# Obtener todos los nombres de las variables globales\n",
    "nombres_variables_globales = list(globals().keys())\n",
    "\n",
    "# Filtrar los nombres que comienzan con \"df_\", contienen \"alfa_q\" y \"pachuca\"\n",
    "nombres_df_filtrados = [\n",
    "    nombre for nombre in nombres_variables_globales \n",
    "    if nombre.startswith(\"df_\") and \"alfa\" in nombre and \"queretaro\" in nombre or 'df_junio_2023_queretaro' in nombre\n",
    "]\n",
    "# Imprimir la lista de DataFrames filtrados\n",
    "print(\"Lista de DataFrames filtrados:\")\n",
    "nombres_df_filtrados"
   ]
  },
  {
   "cell_type": "code",
   "execution_count": 4,
   "metadata": {},
   "outputs": [
    {
     "data": {
      "text/plain": [
       "Index(['id', 'Categoria', 'Precio', 'propiedad', 'metros_total',\n",
       "       'metros_construido', 'precio_m2_terreno', 'precio_m2_construido',\n",
       "       'tiempo_de_publicacion', 'Estado', 'Tipo', 'Estacionamientos',\n",
       "       'Recamaras', 'Banos', 'Medio_banos', 'Banos_Total', 'Seguridad',\n",
       "       'Colonia', 'CP', 'url'],\n",
       "      dtype='object')"
      ]
     },
     "execution_count": 4,
     "metadata": {},
     "output_type": "execute_result"
    }
   ],
   "source": [
    "df_alfa_mayo_2024_queretaro.columns"
   ]
  },
  {
   "cell_type": "code",
   "execution_count": 4,
   "metadata": {},
   "outputs": [
    {
     "name": "stdout",
     "output_type": "stream",
     "text": [
      "Columnas renombradas en los DataFrames filtrados.\n"
     ]
    }
   ],
   "source": [
    "# Iterar sobre cada DataFrame en la lista filtrada\n",
    "for nombre_df in nombres_df_filtrados:\n",
    "    # Obtener el DataFrame usando globals()\n",
    "    df = globals()[nombre_df]\n",
    "    \n",
    "    df.rename(columns={'Categoria':'categoria','Estacionamientos':'estacionamiento','id_jul_23':'id','m2_contruido': 'm2_construido','m_construido': 'm2_construido','Metros_construido':'m2_construido','segmento':'categoria','Category':'categoria','m_total':'m2_total','m_construido':'m2_construido'}, inplace=True)\n",
    "        # Asignar el DataFrame modificado de nuevo a la variable global\n",
    "    globals()[nombre_df] = df \n",
    "\n",
    "# Imprimir confirmación\n",
    "print(\"Columnas renombradas en los DataFrames filtrados.\")"
   ]
  },
  {
   "cell_type": "code",
   "execution_count": 5,
   "metadata": {},
   "outputs": [],
   "source": [
    "# Crear una lista de DataFrames seleccionados con las columnas específicas\n",
    "dataframes_list = []\n",
    "for nombre_df in nombres_df_filtrados:\n",
    "    # Seleccionar las columnas 'id' y 'categoria'\n",
    "    segment_df = globals()[nombre_df][['id','categoria','estacionamiento']]\n",
    "    # Añadir el DataFrame a la lista\n",
    "    dataframes_list.append(segment_df)"
   ]
  },
  {
   "cell_type": "code",
   "execution_count": 6,
   "metadata": {},
   "outputs": [
    {
     "name": "stdout",
     "output_type": "stream",
     "text": [
      "Nombre del DataFrame: df_alfa_abril_2024_queretaro\n",
      "segmento  estacionamiento\n",
      "A         1                   202\n",
      "          2                   812\n",
      "          3                     0\n",
      "          4                     0\n",
      "          5                     0\n",
      "          6                     0\n",
      "B         1                   235\n",
      "          2                   894\n",
      "          3                     0\n",
      "          4                     0\n",
      "          5                     0\n",
      "          6                     0\n",
      "C         1                   118\n",
      "          2                   457\n",
      "          3                     0\n",
      "          4                     0\n",
      "          5                     0\n",
      "          6                     0\n",
      "D         1                    93\n",
      "          2                   358\n",
      "          3                     0\n",
      "          4                     0\n",
      "          5                     0\n",
      "          6                     0\n",
      "E         1                    86\n",
      "          2                   486\n",
      "          3                     4\n",
      "          4                     0\n",
      "          5                     0\n",
      "          6                     0\n",
      "L         1                    70\n",
      "          2                   374\n",
      "          3                     0\n",
      "          4                     0\n",
      "          5                     0\n",
      "          6                     0\n",
      "S         1                   966\n",
      "          2                  3610\n",
      "          3                     0\n",
      "          4                     0\n",
      "          5                     0\n",
      "          6                     0\n",
      "dtype: int64\n",
      "Nombre del DataFrame: df_alfa_agosto_2024_queretaro\n",
      "segmento  estacionamiento\n",
      "A         1                    62\n",
      "          2                   721\n",
      "          3                   400\n",
      "          4                    81\n",
      "          5                     0\n",
      "          6                     0\n",
      "B         1                   245\n",
      "          2                   540\n",
      "          3                   383\n",
      "          4                    58\n",
      "          5                     0\n",
      "          6                     0\n",
      "C         1                   221\n",
      "          2                   187\n",
      "          3                   270\n",
      "          4                    54\n",
      "          5                     0\n",
      "          6                     0\n",
      "D         1                   181\n",
      "          2                   332\n",
      "          3                   128\n",
      "          4                    60\n",
      "          5                     0\n",
      "          6                     0\n",
      "E         1                   464\n",
      "          2                   388\n",
      "          3                   161\n",
      "          4                     6\n",
      "          5                     5\n",
      "          6                   211\n",
      "L         1                     2\n",
      "          2                    57\n",
      "          3                     2\n",
      "          4                   107\n",
      "          5                   121\n",
      "          6                   142\n",
      "S         1                   126\n",
      "          2                   985\n",
      "          3                  2058\n",
      "          4                   675\n",
      "          5                   391\n",
      "          6                   482\n",
      "dtype: int64\n",
      "Nombre del DataFrame: df_alfa_marzo_2024_queretaro\n",
      "segmento  estacionamiento\n",
      "A         1                   916\n",
      "          2                   346\n",
      "          3                     1\n",
      "          4                     0\n",
      "          5                     0\n",
      "          6                     0\n",
      "B         1                   876\n",
      "          2                   282\n",
      "          3                     0\n",
      "          4                     0\n",
      "          5                     0\n",
      "          6                     0\n",
      "C         1                   307\n",
      "          2                   105\n",
      "          3                     0\n",
      "          4                     0\n",
      "          5                     0\n",
      "          6                     0\n",
      "D         1                   225\n",
      "          2                    67\n",
      "          3                     0\n",
      "          4                     0\n",
      "          5                     0\n",
      "          6                     0\n",
      "E         1                   138\n",
      "          2                    78\n",
      "          3                     4\n",
      "          4                     0\n",
      "          5                     0\n",
      "          6                     0\n",
      "L         1                   154\n",
      "          2                   154\n",
      "          3                     3\n",
      "          4                     0\n",
      "          5                     0\n",
      "          6                     0\n",
      "S         1                  2837\n",
      "          2                  1593\n",
      "          3                     3\n",
      "          4                     0\n",
      "          5                     0\n",
      "          6                     0\n",
      "dtype: int64\n",
      "Nombre del DataFrame: df_alfa_mayo_2024_queretaro\n",
      "segmento  estacionamiento\n",
      "A         1                   150\n",
      "          2                   684\n",
      "          3                     0\n",
      "          4                     0\n",
      "          5                     0\n",
      "          6                     0\n",
      "B         1                   213\n",
      "          2                   800\n",
      "          3                     0\n",
      "          4                     0\n",
      "          5                     0\n",
      "          6                     0\n",
      "C         1                   114\n",
      "          2                   448\n",
      "          3                     0\n",
      "          4                     0\n",
      "          5                     0\n",
      "          6                     0\n",
      "D         1                    89\n",
      "          2                   334\n",
      "          3                     0\n",
      "          4                     0\n",
      "          5                     0\n",
      "          6                     0\n",
      "E         1                    71\n",
      "          2                   426\n",
      "          3                     0\n",
      "          4                     0\n",
      "          5                     0\n",
      "          6                     0\n",
      "L         1                    64\n",
      "          2                   356\n",
      "          3                     0\n",
      "          4                     0\n",
      "          5                     0\n",
      "          6                     0\n",
      "S         1                   668\n",
      "          2                  2749\n",
      "          3                     0\n",
      "          4                     0\n",
      "          5                     0\n",
      "          6                     0\n",
      "dtype: int64\n",
      "Nombre del DataFrame: df_junio_2023_queretaro\n",
      "segmento  estacionamiento\n",
      "A         1                    22\n",
      "          2                  1245\n",
      "          3                   307\n",
      "          4                     9\n",
      "          5                     0\n",
      "          6                     2\n",
      "B         1                    85\n",
      "          2                  1688\n",
      "          3                   213\n",
      "          4                     1\n",
      "          5                     3\n",
      "          6                     4\n",
      "C         1                   186\n",
      "          2                   896\n",
      "          3                    32\n",
      "          4                     3\n",
      "          5                     0\n",
      "          6                     0\n",
      "D         1                   195\n",
      "          2                   134\n",
      "          3                     2\n",
      "          4                     0\n",
      "          5                     0\n",
      "          6                     0\n",
      "E         1                    14\n",
      "          2                     7\n",
      "          3                     2\n",
      "          4                     0\n",
      "          5                     0\n",
      "          6                     0\n",
      "S         1                    35\n",
      "          2                  1435\n",
      "          3                   764\n",
      "          4                   197\n",
      "          5                    48\n",
      "          6                    74\n",
      "dtype: int64\n"
     ]
    },
    {
     "name": "stderr",
     "output_type": "stream",
     "text": [
      "C:\\Users\\yoe11\\AppData\\Local\\Temp\\ipykernel_15236\\3517248504.py:4: SettingWithCopyWarning: \n",
      "A value is trying to be set on a copy of a slice from a DataFrame.\n",
      "Try using .loc[row_indexer,col_indexer] = value instead\n",
      "\n",
      "See the caveats in the documentation: https://pandas.pydata.org/pandas-docs/stable/user_guide/indexing.html#returning-a-view-versus-a-copy\n",
      "  df['segmento'] = df['categoria'].str[0]\n",
      "C:\\Users\\yoe11\\AppData\\Local\\Temp\\ipykernel_15236\\3517248504.py:5: SettingWithCopyWarning: \n",
      "A value is trying to be set on a copy of a slice from a DataFrame\n",
      "\n",
      "See the caveats in the documentation: https://pandas.pydata.org/pandas-docs/stable/user_guide/indexing.html#returning-a-view-versus-a-copy\n",
      "  df.drop(columns=['categoria'], inplace=True)\n",
      "C:\\Users\\yoe11\\AppData\\Local\\Temp\\ipykernel_15236\\3517248504.py:10: SettingWithCopyWarning: \n",
      "A value is trying to be set on a copy of a slice from a DataFrame.\n",
      "Try using .loc[row_indexer,col_indexer] = value instead\n",
      "\n",
      "See the caveats in the documentation: https://pandas.pydata.org/pandas-docs/stable/user_guide/indexing.html#returning-a-view-versus-a-copy\n",
      "  df['estacionamiento'] = pd.cut(df['estacionamiento'], bins=bins, labels=labels, right=False)\n",
      "C:\\Users\\yoe11\\AppData\\Local\\Temp\\ipykernel_15236\\3517248504.py:13: FutureWarning: The default of observed=False is deprecated and will be changed to True in a future version of pandas. Pass observed=False to retain current behavior or observed=True to adopt the future default and silence this warning.\n",
      "  tabla = df.groupby(['segmento', 'estacionamiento']).size()\n",
      "C:\\Users\\yoe11\\AppData\\Local\\Temp\\ipykernel_15236\\3517248504.py:4: SettingWithCopyWarning: \n",
      "A value is trying to be set on a copy of a slice from a DataFrame.\n",
      "Try using .loc[row_indexer,col_indexer] = value instead\n",
      "\n",
      "See the caveats in the documentation: https://pandas.pydata.org/pandas-docs/stable/user_guide/indexing.html#returning-a-view-versus-a-copy\n",
      "  df['segmento'] = df['categoria'].str[0]\n",
      "C:\\Users\\yoe11\\AppData\\Local\\Temp\\ipykernel_15236\\3517248504.py:5: SettingWithCopyWarning: \n",
      "A value is trying to be set on a copy of a slice from a DataFrame\n",
      "\n",
      "See the caveats in the documentation: https://pandas.pydata.org/pandas-docs/stable/user_guide/indexing.html#returning-a-view-versus-a-copy\n",
      "  df.drop(columns=['categoria'], inplace=True)\n",
      "C:\\Users\\yoe11\\AppData\\Local\\Temp\\ipykernel_15236\\3517248504.py:10: SettingWithCopyWarning: \n",
      "A value is trying to be set on a copy of a slice from a DataFrame.\n",
      "Try using .loc[row_indexer,col_indexer] = value instead\n",
      "\n",
      "See the caveats in the documentation: https://pandas.pydata.org/pandas-docs/stable/user_guide/indexing.html#returning-a-view-versus-a-copy\n",
      "  df['estacionamiento'] = pd.cut(df['estacionamiento'], bins=bins, labels=labels, right=False)\n",
      "C:\\Users\\yoe11\\AppData\\Local\\Temp\\ipykernel_15236\\3517248504.py:13: FutureWarning: The default of observed=False is deprecated and will be changed to True in a future version of pandas. Pass observed=False to retain current behavior or observed=True to adopt the future default and silence this warning.\n",
      "  tabla = df.groupby(['segmento', 'estacionamiento']).size()\n",
      "C:\\Users\\yoe11\\AppData\\Local\\Temp\\ipykernel_15236\\3517248504.py:4: SettingWithCopyWarning: \n",
      "A value is trying to be set on a copy of a slice from a DataFrame.\n",
      "Try using .loc[row_indexer,col_indexer] = value instead\n",
      "\n",
      "See the caveats in the documentation: https://pandas.pydata.org/pandas-docs/stable/user_guide/indexing.html#returning-a-view-versus-a-copy\n",
      "  df['segmento'] = df['categoria'].str[0]\n",
      "C:\\Users\\yoe11\\AppData\\Local\\Temp\\ipykernel_15236\\3517248504.py:5: SettingWithCopyWarning: \n",
      "A value is trying to be set on a copy of a slice from a DataFrame\n",
      "\n",
      "See the caveats in the documentation: https://pandas.pydata.org/pandas-docs/stable/user_guide/indexing.html#returning-a-view-versus-a-copy\n",
      "  df.drop(columns=['categoria'], inplace=True)\n",
      "C:\\Users\\yoe11\\AppData\\Local\\Temp\\ipykernel_15236\\3517248504.py:10: SettingWithCopyWarning: \n",
      "A value is trying to be set on a copy of a slice from a DataFrame.\n",
      "Try using .loc[row_indexer,col_indexer] = value instead\n",
      "\n",
      "See the caveats in the documentation: https://pandas.pydata.org/pandas-docs/stable/user_guide/indexing.html#returning-a-view-versus-a-copy\n",
      "  df['estacionamiento'] = pd.cut(df['estacionamiento'], bins=bins, labels=labels, right=False)\n",
      "C:\\Users\\yoe11\\AppData\\Local\\Temp\\ipykernel_15236\\3517248504.py:13: FutureWarning: The default of observed=False is deprecated and will be changed to True in a future version of pandas. Pass observed=False to retain current behavior or observed=True to adopt the future default and silence this warning.\n",
      "  tabla = df.groupby(['segmento', 'estacionamiento']).size()\n",
      "C:\\Users\\yoe11\\AppData\\Local\\Temp\\ipykernel_15236\\3517248504.py:4: SettingWithCopyWarning: \n",
      "A value is trying to be set on a copy of a slice from a DataFrame.\n",
      "Try using .loc[row_indexer,col_indexer] = value instead\n",
      "\n",
      "See the caveats in the documentation: https://pandas.pydata.org/pandas-docs/stable/user_guide/indexing.html#returning-a-view-versus-a-copy\n",
      "  df['segmento'] = df['categoria'].str[0]\n",
      "C:\\Users\\yoe11\\AppData\\Local\\Temp\\ipykernel_15236\\3517248504.py:5: SettingWithCopyWarning: \n",
      "A value is trying to be set on a copy of a slice from a DataFrame\n",
      "\n",
      "See the caveats in the documentation: https://pandas.pydata.org/pandas-docs/stable/user_guide/indexing.html#returning-a-view-versus-a-copy\n",
      "  df.drop(columns=['categoria'], inplace=True)\n",
      "C:\\Users\\yoe11\\AppData\\Local\\Temp\\ipykernel_15236\\3517248504.py:10: SettingWithCopyWarning: \n",
      "A value is trying to be set on a copy of a slice from a DataFrame.\n",
      "Try using .loc[row_indexer,col_indexer] = value instead\n",
      "\n",
      "See the caveats in the documentation: https://pandas.pydata.org/pandas-docs/stable/user_guide/indexing.html#returning-a-view-versus-a-copy\n",
      "  df['estacionamiento'] = pd.cut(df['estacionamiento'], bins=bins, labels=labels, right=False)\n",
      "C:\\Users\\yoe11\\AppData\\Local\\Temp\\ipykernel_15236\\3517248504.py:13: FutureWarning: The default of observed=False is deprecated and will be changed to True in a future version of pandas. Pass observed=False to retain current behavior or observed=True to adopt the future default and silence this warning.\n",
      "  tabla = df.groupby(['segmento', 'estacionamiento']).size()\n",
      "C:\\Users\\yoe11\\AppData\\Local\\Temp\\ipykernel_15236\\3517248504.py:4: SettingWithCopyWarning: \n",
      "A value is trying to be set on a copy of a slice from a DataFrame.\n",
      "Try using .loc[row_indexer,col_indexer] = value instead\n",
      "\n",
      "See the caveats in the documentation: https://pandas.pydata.org/pandas-docs/stable/user_guide/indexing.html#returning-a-view-versus-a-copy\n",
      "  df['segmento'] = df['categoria'].str[0]\n",
      "C:\\Users\\yoe11\\AppData\\Local\\Temp\\ipykernel_15236\\3517248504.py:5: SettingWithCopyWarning: \n",
      "A value is trying to be set on a copy of a slice from a DataFrame\n",
      "\n",
      "See the caveats in the documentation: https://pandas.pydata.org/pandas-docs/stable/user_guide/indexing.html#returning-a-view-versus-a-copy\n",
      "  df.drop(columns=['categoria'], inplace=True)\n",
      "C:\\Users\\yoe11\\AppData\\Local\\Temp\\ipykernel_15236\\3517248504.py:10: SettingWithCopyWarning: \n",
      "A value is trying to be set on a copy of a slice from a DataFrame.\n",
      "Try using .loc[row_indexer,col_indexer] = value instead\n",
      "\n",
      "See the caveats in the documentation: https://pandas.pydata.org/pandas-docs/stable/user_guide/indexing.html#returning-a-view-versus-a-copy\n",
      "  df['estacionamiento'] = pd.cut(df['estacionamiento'], bins=bins, labels=labels, right=False)\n",
      "C:\\Users\\yoe11\\AppData\\Local\\Temp\\ipykernel_15236\\3517248504.py:13: FutureWarning: The default of observed=False is deprecated and will be changed to True in a future version of pandas. Pass observed=False to retain current behavior or observed=True to adopt the future default and silence this warning.\n",
      "  tabla = df.groupby(['segmento', 'estacionamiento']).size()\n"
     ]
    }
   ],
   "source": [
    "def procesar_dataframes(dataframes_list, nombres_df_filtrados):\n",
    "    for i, df in enumerate(dataframes_list):\n",
    "        # Crear una nueva columna con la primera letra de la categoría\n",
    "        df['segmento'] = df['categoria'].str[0]\n",
    "        df.drop(columns=['categoria'], inplace=True)\n",
    "\n",
    "        # Clasificar 'baño_total' en rangos específicos\n",
    "        bins = [ 1, 2, 3, 4, 5, 6, float('inf')]\n",
    "        labels = [ '1', '2', '3', '4', '5', '6']\n",
    "        df['estacionamiento'] = pd.cut(df['estacionamiento'], bins=bins, labels=labels, right=False)\n",
    "\n",
    "        # Agrupar y contar los datos\n",
    "        tabla = df.groupby(['segmento', 'estacionamiento']).size()\n",
    "\n",
    "        # Imprimir el nombre del DataFrame y la tabla resultante\n",
    "        print(f\"Nombre del DataFrame: {nombres_df_filtrados[i]}\")\n",
    "        print(tabla)\n",
    "\n",
    "# Procesar los DataFrames de la lista\n",
    "procesar_dataframes(dataframes_list, nombres_df_filtrados)"
   ]
  },
  {
   "cell_type": "code",
   "execution_count": 7,
   "metadata": {},
   "outputs": [
    {
     "name": "stdout",
     "output_type": "stream",
     "text": [
      "Tabla general de frecuencia:\n",
      "estacionamiento       1        2       3      4      5      6\n",
      "segmento                                                     \n",
      "A                1352.0   3808.0   708.0   90.0    0.0    2.0\n",
      "B                1654.0   4204.0   596.0   59.0    3.0    4.0\n",
      "C                 946.0   2093.0   302.0   57.0    0.0    0.0\n",
      "D                 783.0   1225.0   130.0   60.0    0.0    0.0\n",
      "E                 773.0   1385.0   171.0    6.0    5.0  211.0\n",
      "L                 290.0    941.0     5.0  107.0  121.0  142.0\n",
      "S                4632.0  10372.0  2825.0  872.0  439.0  556.0\n"
     ]
    }
   ],
   "source": [
    "# Crear una nueva función para sumar las tablas de todos los DataFrames\n",
    "def sumar_tablas(dataframes_list):\n",
    "    # Inicializar una tabla vacía para almacenar la suma\n",
    "    tabla_suma = None\n",
    "    \n",
    "    # Iterar sobre cada DataFrame en la lista\n",
    "    for df in dataframes_list:\n",
    "        # Agrupar y contar los datos en el DataFrame actual\n",
    "        tabla_actual = df.groupby(['segmento', 'estacionamiento'],observed=False).size().unstack(fill_value=0)\n",
    "        \n",
    "        # Sumar la tabla actual al acumulador (tabla_suma)\n",
    "        if tabla_suma is None:\n",
    "            tabla_suma = tabla_actual\n",
    "        else:\n",
    "            tabla_suma = tabla_suma.add(tabla_actual, fill_value=0)\n",
    "    \n",
    "    # Imprimir la tabla resultante de la suma\n",
    "    print(\"Tabla general de frecuencia:\")\n",
    "    print(tabla_suma)\n",
    "\n",
    "# Llamar a la función sumar_tablas con la lista de DataFrames como argumento\n",
    "sumar_tablas(dataframes_list)"
   ]
  },
  {
   "cell_type": "code",
   "execution_count": 8,
   "metadata": {},
   "outputs": [
    {
     "name": "stderr",
     "output_type": "stream",
     "text": [
      "C:\\Users\\yoe11\\AppData\\Local\\Temp\\ipykernel_15236\\1989825010.py:8: SettingWithCopyWarning: \n",
      "A value is trying to be set on a copy of a slice from a DataFrame.\n",
      "Try using .loc[row_indexer,col_indexer] = value instead\n",
      "\n",
      "See the caveats in the documentation: https://pandas.pydata.org/pandas-docs/stable/user_guide/indexing.html#returning-a-view-versus-a-copy\n",
      "  df['segmento'] = pd.Categorical(df['segmento'], categories=orden_segmentos, ordered=True)\n",
      "C:\\Users\\yoe11\\AppData\\Local\\Temp\\ipykernel_15236\\1989825010.py:8: SettingWithCopyWarning: \n",
      "A value is trying to be set on a copy of a slice from a DataFrame.\n",
      "Try using .loc[row_indexer,col_indexer] = value instead\n",
      "\n",
      "See the caveats in the documentation: https://pandas.pydata.org/pandas-docs/stable/user_guide/indexing.html#returning-a-view-versus-a-copy\n",
      "  df['segmento'] = pd.Categorical(df['segmento'], categories=orden_segmentos, ordered=True)\n",
      "C:\\Users\\yoe11\\AppData\\Local\\Temp\\ipykernel_15236\\1989825010.py:8: SettingWithCopyWarning: \n",
      "A value is trying to be set on a copy of a slice from a DataFrame.\n",
      "Try using .loc[row_indexer,col_indexer] = value instead\n",
      "\n",
      "See the caveats in the documentation: https://pandas.pydata.org/pandas-docs/stable/user_guide/indexing.html#returning-a-view-versus-a-copy\n",
      "  df['segmento'] = pd.Categorical(df['segmento'], categories=orden_segmentos, ordered=True)\n",
      "C:\\Users\\yoe11\\AppData\\Local\\Temp\\ipykernel_15236\\1989825010.py:8: SettingWithCopyWarning: \n",
      "A value is trying to be set on a copy of a slice from a DataFrame.\n",
      "Try using .loc[row_indexer,col_indexer] = value instead\n",
      "\n",
      "See the caveats in the documentation: https://pandas.pydata.org/pandas-docs/stable/user_guide/indexing.html#returning-a-view-versus-a-copy\n",
      "  df['segmento'] = pd.Categorical(df['segmento'], categories=orden_segmentos, ordered=True)\n",
      "C:\\Users\\yoe11\\AppData\\Local\\Temp\\ipykernel_15236\\1989825010.py:8: SettingWithCopyWarning: \n",
      "A value is trying to be set on a copy of a slice from a DataFrame.\n",
      "Try using .loc[row_indexer,col_indexer] = value instead\n",
      "\n",
      "See the caveats in the documentation: https://pandas.pydata.org/pandas-docs/stable/user_guide/indexing.html#returning-a-view-versus-a-copy\n",
      "  df['segmento'] = pd.Categorical(df['segmento'], categories=orden_segmentos, ordered=True)\n"
     ]
    },
    {
     "name": "stdout",
     "output_type": "stream",
     "text": [
      "Tabla general de frecuencia:\n",
      "segmento            E     D     C     B     A      S    L\n",
      "estacionamiento                                          \n",
      "1                 773   783   946  1654  1352   4632  290\n",
      "2                1385  1225  2093  4204  3808  10372  941\n",
      "3                 171   130   302   596   708   2825    5\n",
      "4                   6    60    57    59    90    872  107\n",
      "5                   5     0     0     3     0    439  121\n",
      "6                 211     0     0     4     2    556  142\n"
     ]
    },
    {
     "data": {
      "application/vnd.plotly.v1+json": {
       "config": {
        "plotlyServerURL": "https://plot.ly"
       },
       "data": [
        {
         "marker": {
          "color": "#2962ff"
         },
         "name": "1",
         "type": "bar",
         "x": [
          "E",
          "D",
          "C",
          "B",
          "A",
          "S",
          "L"
         ],
         "y": [
          773,
          783,
          946,
          1654,
          1352,
          4632,
          290
         ]
        },
        {
         "marker": {
          "color": "#9500ff"
         },
         "name": "2",
         "type": "bar",
         "x": [
          "E",
          "D",
          "C",
          "B",
          "A",
          "S",
          "L"
         ],
         "y": [
          1385,
          1225,
          2093,
          4204,
          3808,
          10372,
          941
         ]
        },
        {
         "marker": {
          "color": "#ff0059"
         },
         "name": "3",
         "type": "bar",
         "x": [
          "E",
          "D",
          "C",
          "B",
          "A",
          "S",
          "L"
         ],
         "y": [
          171,
          130,
          302,
          596,
          708,
          2825,
          5
         ]
        },
        {
         "marker": {
          "color": "#ff8c00"
         },
         "name": "4",
         "type": "bar",
         "x": [
          "E",
          "D",
          "C",
          "B",
          "A",
          "S",
          "L"
         ],
         "y": [
          6,
          60,
          57,
          59,
          90,
          872,
          107
         ]
        },
        {
         "marker": {
          "color": "#b4e600"
         },
         "name": "5",
         "type": "bar",
         "x": [
          "E",
          "D",
          "C",
          "B",
          "A",
          "S",
          "L"
         ],
         "y": [
          5,
          0,
          0,
          3,
          0,
          439,
          121
         ]
        },
        {
         "marker": {
          "color": "#2EC2A2"
         },
         "name": "6",
         "type": "bar",
         "x": [
          "E",
          "D",
          "C",
          "B",
          "A",
          "S",
          "L"
         ],
         "y": [
          211,
          0,
          0,
          4,
          2,
          556,
          142
         ]
        }
       ],
       "layout": {
        "barmode": "group",
        "legend": {
         "orientation": "h",
         "title": {
          "text": "Estacionamientos"
         },
         "x": 1,
         "xanchor": "right",
         "y": 1.02,
         "yanchor": "bottom"
        },
        "margin": {
         "b": 10,
         "l": 10,
         "r": 10,
         "t": 10
        },
        "plot_bgcolor": "rgba(0,0,0,0)",
        "template": {
         "data": {
          "bar": [
           {
            "error_x": {
             "color": "#2a3f5f"
            },
            "error_y": {
             "color": "#2a3f5f"
            },
            "marker": {
             "line": {
              "color": "#E5ECF6",
              "width": 0.5
             },
             "pattern": {
              "fillmode": "overlay",
              "size": 10,
              "solidity": 0.2
             }
            },
            "type": "bar"
           }
          ],
          "barpolar": [
           {
            "marker": {
             "line": {
              "color": "#E5ECF6",
              "width": 0.5
             },
             "pattern": {
              "fillmode": "overlay",
              "size": 10,
              "solidity": 0.2
             }
            },
            "type": "barpolar"
           }
          ],
          "carpet": [
           {
            "aaxis": {
             "endlinecolor": "#2a3f5f",
             "gridcolor": "white",
             "linecolor": "white",
             "minorgridcolor": "white",
             "startlinecolor": "#2a3f5f"
            },
            "baxis": {
             "endlinecolor": "#2a3f5f",
             "gridcolor": "white",
             "linecolor": "white",
             "minorgridcolor": "white",
             "startlinecolor": "#2a3f5f"
            },
            "type": "carpet"
           }
          ],
          "choropleth": [
           {
            "colorbar": {
             "outlinewidth": 0,
             "ticks": ""
            },
            "type": "choropleth"
           }
          ],
          "contour": [
           {
            "colorbar": {
             "outlinewidth": 0,
             "ticks": ""
            },
            "colorscale": [
             [
              0,
              "#0d0887"
             ],
             [
              0.1111111111111111,
              "#46039f"
             ],
             [
              0.2222222222222222,
              "#7201a8"
             ],
             [
              0.3333333333333333,
              "#9c179e"
             ],
             [
              0.4444444444444444,
              "#bd3786"
             ],
             [
              0.5555555555555556,
              "#d8576b"
             ],
             [
              0.6666666666666666,
              "#ed7953"
             ],
             [
              0.7777777777777778,
              "#fb9f3a"
             ],
             [
              0.8888888888888888,
              "#fdca26"
             ],
             [
              1,
              "#f0f921"
             ]
            ],
            "type": "contour"
           }
          ],
          "contourcarpet": [
           {
            "colorbar": {
             "outlinewidth": 0,
             "ticks": ""
            },
            "type": "contourcarpet"
           }
          ],
          "heatmap": [
           {
            "colorbar": {
             "outlinewidth": 0,
             "ticks": ""
            },
            "colorscale": [
             [
              0,
              "#0d0887"
             ],
             [
              0.1111111111111111,
              "#46039f"
             ],
             [
              0.2222222222222222,
              "#7201a8"
             ],
             [
              0.3333333333333333,
              "#9c179e"
             ],
             [
              0.4444444444444444,
              "#bd3786"
             ],
             [
              0.5555555555555556,
              "#d8576b"
             ],
             [
              0.6666666666666666,
              "#ed7953"
             ],
             [
              0.7777777777777778,
              "#fb9f3a"
             ],
             [
              0.8888888888888888,
              "#fdca26"
             ],
             [
              1,
              "#f0f921"
             ]
            ],
            "type": "heatmap"
           }
          ],
          "heatmapgl": [
           {
            "colorbar": {
             "outlinewidth": 0,
             "ticks": ""
            },
            "colorscale": [
             [
              0,
              "#0d0887"
             ],
             [
              0.1111111111111111,
              "#46039f"
             ],
             [
              0.2222222222222222,
              "#7201a8"
             ],
             [
              0.3333333333333333,
              "#9c179e"
             ],
             [
              0.4444444444444444,
              "#bd3786"
             ],
             [
              0.5555555555555556,
              "#d8576b"
             ],
             [
              0.6666666666666666,
              "#ed7953"
             ],
             [
              0.7777777777777778,
              "#fb9f3a"
             ],
             [
              0.8888888888888888,
              "#fdca26"
             ],
             [
              1,
              "#f0f921"
             ]
            ],
            "type": "heatmapgl"
           }
          ],
          "histogram": [
           {
            "marker": {
             "pattern": {
              "fillmode": "overlay",
              "size": 10,
              "solidity": 0.2
             }
            },
            "type": "histogram"
           }
          ],
          "histogram2d": [
           {
            "colorbar": {
             "outlinewidth": 0,
             "ticks": ""
            },
            "colorscale": [
             [
              0,
              "#0d0887"
             ],
             [
              0.1111111111111111,
              "#46039f"
             ],
             [
              0.2222222222222222,
              "#7201a8"
             ],
             [
              0.3333333333333333,
              "#9c179e"
             ],
             [
              0.4444444444444444,
              "#bd3786"
             ],
             [
              0.5555555555555556,
              "#d8576b"
             ],
             [
              0.6666666666666666,
              "#ed7953"
             ],
             [
              0.7777777777777778,
              "#fb9f3a"
             ],
             [
              0.8888888888888888,
              "#fdca26"
             ],
             [
              1,
              "#f0f921"
             ]
            ],
            "type": "histogram2d"
           }
          ],
          "histogram2dcontour": [
           {
            "colorbar": {
             "outlinewidth": 0,
             "ticks": ""
            },
            "colorscale": [
             [
              0,
              "#0d0887"
             ],
             [
              0.1111111111111111,
              "#46039f"
             ],
             [
              0.2222222222222222,
              "#7201a8"
             ],
             [
              0.3333333333333333,
              "#9c179e"
             ],
             [
              0.4444444444444444,
              "#bd3786"
             ],
             [
              0.5555555555555556,
              "#d8576b"
             ],
             [
              0.6666666666666666,
              "#ed7953"
             ],
             [
              0.7777777777777778,
              "#fb9f3a"
             ],
             [
              0.8888888888888888,
              "#fdca26"
             ],
             [
              1,
              "#f0f921"
             ]
            ],
            "type": "histogram2dcontour"
           }
          ],
          "mesh3d": [
           {
            "colorbar": {
             "outlinewidth": 0,
             "ticks": ""
            },
            "type": "mesh3d"
           }
          ],
          "parcoords": [
           {
            "line": {
             "colorbar": {
              "outlinewidth": 0,
              "ticks": ""
             }
            },
            "type": "parcoords"
           }
          ],
          "pie": [
           {
            "automargin": true,
            "type": "pie"
           }
          ],
          "scatter": [
           {
            "fillpattern": {
             "fillmode": "overlay",
             "size": 10,
             "solidity": 0.2
            },
            "type": "scatter"
           }
          ],
          "scatter3d": [
           {
            "line": {
             "colorbar": {
              "outlinewidth": 0,
              "ticks": ""
             }
            },
            "marker": {
             "colorbar": {
              "outlinewidth": 0,
              "ticks": ""
             }
            },
            "type": "scatter3d"
           }
          ],
          "scattercarpet": [
           {
            "marker": {
             "colorbar": {
              "outlinewidth": 0,
              "ticks": ""
             }
            },
            "type": "scattercarpet"
           }
          ],
          "scattergeo": [
           {
            "marker": {
             "colorbar": {
              "outlinewidth": 0,
              "ticks": ""
             }
            },
            "type": "scattergeo"
           }
          ],
          "scattergl": [
           {
            "marker": {
             "colorbar": {
              "outlinewidth": 0,
              "ticks": ""
             }
            },
            "type": "scattergl"
           }
          ],
          "scattermapbox": [
           {
            "marker": {
             "colorbar": {
              "outlinewidth": 0,
              "ticks": ""
             }
            },
            "type": "scattermapbox"
           }
          ],
          "scatterpolar": [
           {
            "marker": {
             "colorbar": {
              "outlinewidth": 0,
              "ticks": ""
             }
            },
            "type": "scatterpolar"
           }
          ],
          "scatterpolargl": [
           {
            "marker": {
             "colorbar": {
              "outlinewidth": 0,
              "ticks": ""
             }
            },
            "type": "scatterpolargl"
           }
          ],
          "scatterternary": [
           {
            "marker": {
             "colorbar": {
              "outlinewidth": 0,
              "ticks": ""
             }
            },
            "type": "scatterternary"
           }
          ],
          "surface": [
           {
            "colorbar": {
             "outlinewidth": 0,
             "ticks": ""
            },
            "colorscale": [
             [
              0,
              "#0d0887"
             ],
             [
              0.1111111111111111,
              "#46039f"
             ],
             [
              0.2222222222222222,
              "#7201a8"
             ],
             [
              0.3333333333333333,
              "#9c179e"
             ],
             [
              0.4444444444444444,
              "#bd3786"
             ],
             [
              0.5555555555555556,
              "#d8576b"
             ],
             [
              0.6666666666666666,
              "#ed7953"
             ],
             [
              0.7777777777777778,
              "#fb9f3a"
             ],
             [
              0.8888888888888888,
              "#fdca26"
             ],
             [
              1,
              "#f0f921"
             ]
            ],
            "type": "surface"
           }
          ],
          "table": [
           {
            "cells": {
             "fill": {
              "color": "#EBF0F8"
             },
             "line": {
              "color": "white"
             }
            },
            "header": {
             "fill": {
              "color": "#C8D4E3"
             },
             "line": {
              "color": "white"
             }
            },
            "type": "table"
           }
          ]
         },
         "layout": {
          "annotationdefaults": {
           "arrowcolor": "#2a3f5f",
           "arrowhead": 0,
           "arrowwidth": 1
          },
          "autotypenumbers": "strict",
          "coloraxis": {
           "colorbar": {
            "outlinewidth": 0,
            "ticks": ""
           }
          },
          "colorscale": {
           "diverging": [
            [
             0,
             "#8e0152"
            ],
            [
             0.1,
             "#c51b7d"
            ],
            [
             0.2,
             "#de77ae"
            ],
            [
             0.3,
             "#f1b6da"
            ],
            [
             0.4,
             "#fde0ef"
            ],
            [
             0.5,
             "#f7f7f7"
            ],
            [
             0.6,
             "#e6f5d0"
            ],
            [
             0.7,
             "#b8e186"
            ],
            [
             0.8,
             "#7fbc41"
            ],
            [
             0.9,
             "#4d9221"
            ],
            [
             1,
             "#276419"
            ]
           ],
           "sequential": [
            [
             0,
             "#0d0887"
            ],
            [
             0.1111111111111111,
             "#46039f"
            ],
            [
             0.2222222222222222,
             "#7201a8"
            ],
            [
             0.3333333333333333,
             "#9c179e"
            ],
            [
             0.4444444444444444,
             "#bd3786"
            ],
            [
             0.5555555555555556,
             "#d8576b"
            ],
            [
             0.6666666666666666,
             "#ed7953"
            ],
            [
             0.7777777777777778,
             "#fb9f3a"
            ],
            [
             0.8888888888888888,
             "#fdca26"
            ],
            [
             1,
             "#f0f921"
            ]
           ],
           "sequentialminus": [
            [
             0,
             "#0d0887"
            ],
            [
             0.1111111111111111,
             "#46039f"
            ],
            [
             0.2222222222222222,
             "#7201a8"
            ],
            [
             0.3333333333333333,
             "#9c179e"
            ],
            [
             0.4444444444444444,
             "#bd3786"
            ],
            [
             0.5555555555555556,
             "#d8576b"
            ],
            [
             0.6666666666666666,
             "#ed7953"
            ],
            [
             0.7777777777777778,
             "#fb9f3a"
            ],
            [
             0.8888888888888888,
             "#fdca26"
            ],
            [
             1,
             "#f0f921"
            ]
           ]
          },
          "colorway": [
           "#636efa",
           "#EF553B",
           "#00cc96",
           "#ab63fa",
           "#FFA15A",
           "#19d3f3",
           "#FF6692",
           "#B6E880",
           "#FF97FF",
           "#FECB52"
          ],
          "font": {
           "color": "#2a3f5f"
          },
          "geo": {
           "bgcolor": "white",
           "lakecolor": "white",
           "landcolor": "#E5ECF6",
           "showlakes": true,
           "showland": true,
           "subunitcolor": "white"
          },
          "hoverlabel": {
           "align": "left"
          },
          "hovermode": "closest",
          "mapbox": {
           "style": "light"
          },
          "paper_bgcolor": "white",
          "plot_bgcolor": "#E5ECF6",
          "polar": {
           "angularaxis": {
            "gridcolor": "white",
            "linecolor": "white",
            "ticks": ""
           },
           "bgcolor": "#E5ECF6",
           "radialaxis": {
            "gridcolor": "white",
            "linecolor": "white",
            "ticks": ""
           }
          },
          "scene": {
           "xaxis": {
            "backgroundcolor": "#E5ECF6",
            "gridcolor": "white",
            "gridwidth": 2,
            "linecolor": "white",
            "showbackground": true,
            "ticks": "",
            "zerolinecolor": "white"
           },
           "yaxis": {
            "backgroundcolor": "#E5ECF6",
            "gridcolor": "white",
            "gridwidth": 2,
            "linecolor": "white",
            "showbackground": true,
            "ticks": "",
            "zerolinecolor": "white"
           },
           "zaxis": {
            "backgroundcolor": "#E5ECF6",
            "gridcolor": "white",
            "gridwidth": 2,
            "linecolor": "white",
            "showbackground": true,
            "ticks": "",
            "zerolinecolor": "white"
           }
          },
          "shapedefaults": {
           "line": {
            "color": "#2a3f5f"
           }
          },
          "ternary": {
           "aaxis": {
            "gridcolor": "white",
            "linecolor": "white",
            "ticks": ""
           },
           "baxis": {
            "gridcolor": "white",
            "linecolor": "white",
            "ticks": ""
           },
           "bgcolor": "#E5ECF6",
           "caxis": {
            "gridcolor": "white",
            "linecolor": "white",
            "ticks": ""
           }
          },
          "title": {
           "x": 0.05
          },
          "xaxis": {
           "automargin": true,
           "gridcolor": "white",
           "linecolor": "white",
           "ticks": "",
           "title": {
            "standoff": 15
           },
           "zerolinecolor": "white",
           "zerolinewidth": 2
          },
          "yaxis": {
           "automargin": true,
           "gridcolor": "white",
           "linecolor": "white",
           "ticks": "",
           "title": {
            "standoff": 15
           },
           "zerolinecolor": "white",
           "zerolinewidth": 2
          }
         }
        },
        "yaxis": {
         "gridcolor": "#dddcda",
         "gridwidth": 1,
         "title": {
          "text": "Número de casas"
         }
        }
       }
      }
     },
     "metadata": {},
     "output_type": "display_data"
    }
   ],
   "source": [
    "colores = ['#2962ff', '#9500ff', '#ff0059', '#ff8c00', '#b4e600', '#2EC2A2','#F79CB9','#E50CB6','#4225CF']\n",
    "orden_segmentos=[\"E\", \"D\", \"C\", \"B\",\"A\", \"S\", \"L\", ]\n",
    "def sumar_tablas(dataframes_list):\n",
    "    tabla_suma = None\n",
    "    \n",
    "    for df in dataframes_list:\n",
    "        # Aplica el orden a la columna 'segmento'\n",
    "        df['segmento'] = pd.Categorical(df['segmento'], categories=orden_segmentos, ordered=True)\n",
    "        \n",
    "        tabla_actual = df.groupby(['estacionamiento', 'segmento'],observed=False).size().unstack(fill_value=0)\n",
    "        \n",
    "        if tabla_suma is None:\n",
    "            tabla_suma = tabla_actual\n",
    "        else:\n",
    "            tabla_suma = tabla_suma.add(tabla_actual, fill_value=0)\n",
    "    \n",
    "    print(\"Tabla general de frecuencia:\")\n",
    "    print(tabla_suma)\n",
    "    \n",
    "    fig = graficar_tabla(tabla_suma)\n",
    "    # Guardar la gráfica como archivo HTML\n",
    "    guardar_grafico_como_html(fig, 'g_bar_estacionamientos', carpeta='assets/graficas')\n",
    "    \n",
    "    return fig\n",
    "\n",
    "def graficar_tabla(tabla):\n",
    "    segmentos = tabla.index\n",
    "    banos = tabla.columns\n",
    "    \n",
    "    fig = go.Figure()\n",
    "    \n",
    "    for i, segmento in enumerate(segmentos):\n",
    "        color = colores[i % len(colores)]\n",
    "        fig.add_trace(go.Bar(\n",
    "            x=banos,\n",
    "            y=tabla.loc[segmento],\n",
    "            name=segmento,\n",
    "            marker_color=color\n",
    "        ))\n",
    "    \n",
    "    fig.update_layout(\n",
    "        #title=\"M2 de Terreno\",\n",
    "        #xaxis_title=\"Rango de M2\",\n",
    "         yaxis=dict(\n",
    "            title='Número de casas',\n",
    "            gridcolor='#dddcda', # Color de las líneas que dividen los rangos del eje Y\n",
    "            gridwidth=1,\n",
    "        ),\n",
    "        margin=dict(l=10, r=10, t=10, b=10),  # Ajusta los márgenes (left, right, top, bottom)\n",
    "        legend_title=\"Estacionamientos\",\n",
    "        barmode='group',\n",
    "        legend=dict(\n",
    "            orientation='h',  # Orientación horizontal de la leyenda\n",
    "            yanchor='bottom',  # Anclar al borde inferior\n",
    "            y=1.02,  # Colocar la leyenda justo debajo del gráfico\n",
    "            xanchor='right',\n",
    "            x=1\n",
    "        ),\n",
    "        plot_bgcolor='rgba(0,0,0,0)',  # Color de fondo del gráfico\n",
    "    )\n",
    "    \n",
    "    fig.show()    \n",
    "    return fig\n",
    "\n",
    "def guardar_grafico_como_html(fig, nombre_archivo, carpeta='assets/graficas'):\n",
    "    # Crear la carpeta si no existe\n",
    "    if not os.path.exists(carpeta):\n",
    "        os.makedirs(carpeta)\n",
    "    \n",
    "    # Guardar la gráfica como archivo HTML en la carpeta especificada\n",
    "    pio.write_html(fig, f'{carpeta}/{nombre_archivo}.html')\n",
    "    #pio.write_html(fig, f'{carpeta}/{nombre_archivo}.png')\n",
    "\n",
    "# Llamar a la función sumar_tablas con la lista de DataFrames como argumento\n",
    "fig = sumar_tablas(dataframes_list)"
   ]
  },
  {
   "cell_type": "code",
   "execution_count": 9,
   "metadata": {},
   "outputs": [
    {
     "name": "stdout",
     "output_type": "stream",
     "text": [
      "Tabla general de frecuencia:\n",
      "segmento            E     D     C     B     A      S    L\n",
      "estacionamiento                                          \n",
      "1                 773   783   946  1654  1352   4632  290\n",
      "2                1385  1225  2093  4204  3808  10372  941\n",
      "3                 171   130   302   596   708   2825    5\n",
      "4                   6    60    57    59    90    872  107\n",
      "5                   5     0     0     3     0    439  121\n",
      "6                 211     0     0     4     2    556  142\n"
     ]
    },
    {
     "data": {
      "application/vnd.plotly.v1+json": {
       "config": {
        "plotlyServerURL": "https://plot.ly"
       },
       "data": [
        {
         "labels": [
          "1",
          "2",
          "3",
          "4",
          "5",
          "6"
         ],
         "marker": {
          "colors": [
           "#2962ff",
           "#9500ff",
           "#ff0059",
           "#ff8c00",
           "#b4e600",
           "#2EC2A2"
          ]
         },
         "type": "pie",
         "values": [
          10430,
          24028,
          4737,
          1251,
          568,
          915
         ]
        }
       ],
       "layout": {
        "margin": {
         "b": 10,
         "l": 10,
         "r": 10,
         "t": 10
        },
        "template": {
         "data": {
          "bar": [
           {
            "error_x": {
             "color": "#2a3f5f"
            },
            "error_y": {
             "color": "#2a3f5f"
            },
            "marker": {
             "line": {
              "color": "#E5ECF6",
              "width": 0.5
             },
             "pattern": {
              "fillmode": "overlay",
              "size": 10,
              "solidity": 0.2
             }
            },
            "type": "bar"
           }
          ],
          "barpolar": [
           {
            "marker": {
             "line": {
              "color": "#E5ECF6",
              "width": 0.5
             },
             "pattern": {
              "fillmode": "overlay",
              "size": 10,
              "solidity": 0.2
             }
            },
            "type": "barpolar"
           }
          ],
          "carpet": [
           {
            "aaxis": {
             "endlinecolor": "#2a3f5f",
             "gridcolor": "white",
             "linecolor": "white",
             "minorgridcolor": "white",
             "startlinecolor": "#2a3f5f"
            },
            "baxis": {
             "endlinecolor": "#2a3f5f",
             "gridcolor": "white",
             "linecolor": "white",
             "minorgridcolor": "white",
             "startlinecolor": "#2a3f5f"
            },
            "type": "carpet"
           }
          ],
          "choropleth": [
           {
            "colorbar": {
             "outlinewidth": 0,
             "ticks": ""
            },
            "type": "choropleth"
           }
          ],
          "contour": [
           {
            "colorbar": {
             "outlinewidth": 0,
             "ticks": ""
            },
            "colorscale": [
             [
              0,
              "#0d0887"
             ],
             [
              0.1111111111111111,
              "#46039f"
             ],
             [
              0.2222222222222222,
              "#7201a8"
             ],
             [
              0.3333333333333333,
              "#9c179e"
             ],
             [
              0.4444444444444444,
              "#bd3786"
             ],
             [
              0.5555555555555556,
              "#d8576b"
             ],
             [
              0.6666666666666666,
              "#ed7953"
             ],
             [
              0.7777777777777778,
              "#fb9f3a"
             ],
             [
              0.8888888888888888,
              "#fdca26"
             ],
             [
              1,
              "#f0f921"
             ]
            ],
            "type": "contour"
           }
          ],
          "contourcarpet": [
           {
            "colorbar": {
             "outlinewidth": 0,
             "ticks": ""
            },
            "type": "contourcarpet"
           }
          ],
          "heatmap": [
           {
            "colorbar": {
             "outlinewidth": 0,
             "ticks": ""
            },
            "colorscale": [
             [
              0,
              "#0d0887"
             ],
             [
              0.1111111111111111,
              "#46039f"
             ],
             [
              0.2222222222222222,
              "#7201a8"
             ],
             [
              0.3333333333333333,
              "#9c179e"
             ],
             [
              0.4444444444444444,
              "#bd3786"
             ],
             [
              0.5555555555555556,
              "#d8576b"
             ],
             [
              0.6666666666666666,
              "#ed7953"
             ],
             [
              0.7777777777777778,
              "#fb9f3a"
             ],
             [
              0.8888888888888888,
              "#fdca26"
             ],
             [
              1,
              "#f0f921"
             ]
            ],
            "type": "heatmap"
           }
          ],
          "heatmapgl": [
           {
            "colorbar": {
             "outlinewidth": 0,
             "ticks": ""
            },
            "colorscale": [
             [
              0,
              "#0d0887"
             ],
             [
              0.1111111111111111,
              "#46039f"
             ],
             [
              0.2222222222222222,
              "#7201a8"
             ],
             [
              0.3333333333333333,
              "#9c179e"
             ],
             [
              0.4444444444444444,
              "#bd3786"
             ],
             [
              0.5555555555555556,
              "#d8576b"
             ],
             [
              0.6666666666666666,
              "#ed7953"
             ],
             [
              0.7777777777777778,
              "#fb9f3a"
             ],
             [
              0.8888888888888888,
              "#fdca26"
             ],
             [
              1,
              "#f0f921"
             ]
            ],
            "type": "heatmapgl"
           }
          ],
          "histogram": [
           {
            "marker": {
             "pattern": {
              "fillmode": "overlay",
              "size": 10,
              "solidity": 0.2
             }
            },
            "type": "histogram"
           }
          ],
          "histogram2d": [
           {
            "colorbar": {
             "outlinewidth": 0,
             "ticks": ""
            },
            "colorscale": [
             [
              0,
              "#0d0887"
             ],
             [
              0.1111111111111111,
              "#46039f"
             ],
             [
              0.2222222222222222,
              "#7201a8"
             ],
             [
              0.3333333333333333,
              "#9c179e"
             ],
             [
              0.4444444444444444,
              "#bd3786"
             ],
             [
              0.5555555555555556,
              "#d8576b"
             ],
             [
              0.6666666666666666,
              "#ed7953"
             ],
             [
              0.7777777777777778,
              "#fb9f3a"
             ],
             [
              0.8888888888888888,
              "#fdca26"
             ],
             [
              1,
              "#f0f921"
             ]
            ],
            "type": "histogram2d"
           }
          ],
          "histogram2dcontour": [
           {
            "colorbar": {
             "outlinewidth": 0,
             "ticks": ""
            },
            "colorscale": [
             [
              0,
              "#0d0887"
             ],
             [
              0.1111111111111111,
              "#46039f"
             ],
             [
              0.2222222222222222,
              "#7201a8"
             ],
             [
              0.3333333333333333,
              "#9c179e"
             ],
             [
              0.4444444444444444,
              "#bd3786"
             ],
             [
              0.5555555555555556,
              "#d8576b"
             ],
             [
              0.6666666666666666,
              "#ed7953"
             ],
             [
              0.7777777777777778,
              "#fb9f3a"
             ],
             [
              0.8888888888888888,
              "#fdca26"
             ],
             [
              1,
              "#f0f921"
             ]
            ],
            "type": "histogram2dcontour"
           }
          ],
          "mesh3d": [
           {
            "colorbar": {
             "outlinewidth": 0,
             "ticks": ""
            },
            "type": "mesh3d"
           }
          ],
          "parcoords": [
           {
            "line": {
             "colorbar": {
              "outlinewidth": 0,
              "ticks": ""
             }
            },
            "type": "parcoords"
           }
          ],
          "pie": [
           {
            "automargin": true,
            "type": "pie"
           }
          ],
          "scatter": [
           {
            "fillpattern": {
             "fillmode": "overlay",
             "size": 10,
             "solidity": 0.2
            },
            "type": "scatter"
           }
          ],
          "scatter3d": [
           {
            "line": {
             "colorbar": {
              "outlinewidth": 0,
              "ticks": ""
             }
            },
            "marker": {
             "colorbar": {
              "outlinewidth": 0,
              "ticks": ""
             }
            },
            "type": "scatter3d"
           }
          ],
          "scattercarpet": [
           {
            "marker": {
             "colorbar": {
              "outlinewidth": 0,
              "ticks": ""
             }
            },
            "type": "scattercarpet"
           }
          ],
          "scattergeo": [
           {
            "marker": {
             "colorbar": {
              "outlinewidth": 0,
              "ticks": ""
             }
            },
            "type": "scattergeo"
           }
          ],
          "scattergl": [
           {
            "marker": {
             "colorbar": {
              "outlinewidth": 0,
              "ticks": ""
             }
            },
            "type": "scattergl"
           }
          ],
          "scattermapbox": [
           {
            "marker": {
             "colorbar": {
              "outlinewidth": 0,
              "ticks": ""
             }
            },
            "type": "scattermapbox"
           }
          ],
          "scatterpolar": [
           {
            "marker": {
             "colorbar": {
              "outlinewidth": 0,
              "ticks": ""
             }
            },
            "type": "scatterpolar"
           }
          ],
          "scatterpolargl": [
           {
            "marker": {
             "colorbar": {
              "outlinewidth": 0,
              "ticks": ""
             }
            },
            "type": "scatterpolargl"
           }
          ],
          "scatterternary": [
           {
            "marker": {
             "colorbar": {
              "outlinewidth": 0,
              "ticks": ""
             }
            },
            "type": "scatterternary"
           }
          ],
          "surface": [
           {
            "colorbar": {
             "outlinewidth": 0,
             "ticks": ""
            },
            "colorscale": [
             [
              0,
              "#0d0887"
             ],
             [
              0.1111111111111111,
              "#46039f"
             ],
             [
              0.2222222222222222,
              "#7201a8"
             ],
             [
              0.3333333333333333,
              "#9c179e"
             ],
             [
              0.4444444444444444,
              "#bd3786"
             ],
             [
              0.5555555555555556,
              "#d8576b"
             ],
             [
              0.6666666666666666,
              "#ed7953"
             ],
             [
              0.7777777777777778,
              "#fb9f3a"
             ],
             [
              0.8888888888888888,
              "#fdca26"
             ],
             [
              1,
              "#f0f921"
             ]
            ],
            "type": "surface"
           }
          ],
          "table": [
           {
            "cells": {
             "fill": {
              "color": "#EBF0F8"
             },
             "line": {
              "color": "white"
             }
            },
            "header": {
             "fill": {
              "color": "#C8D4E3"
             },
             "line": {
              "color": "white"
             }
            },
            "type": "table"
           }
          ]
         },
         "layout": {
          "annotationdefaults": {
           "arrowcolor": "#2a3f5f",
           "arrowhead": 0,
           "arrowwidth": 1
          },
          "autotypenumbers": "strict",
          "coloraxis": {
           "colorbar": {
            "outlinewidth": 0,
            "ticks": ""
           }
          },
          "colorscale": {
           "diverging": [
            [
             0,
             "#8e0152"
            ],
            [
             0.1,
             "#c51b7d"
            ],
            [
             0.2,
             "#de77ae"
            ],
            [
             0.3,
             "#f1b6da"
            ],
            [
             0.4,
             "#fde0ef"
            ],
            [
             0.5,
             "#f7f7f7"
            ],
            [
             0.6,
             "#e6f5d0"
            ],
            [
             0.7,
             "#b8e186"
            ],
            [
             0.8,
             "#7fbc41"
            ],
            [
             0.9,
             "#4d9221"
            ],
            [
             1,
             "#276419"
            ]
           ],
           "sequential": [
            [
             0,
             "#0d0887"
            ],
            [
             0.1111111111111111,
             "#46039f"
            ],
            [
             0.2222222222222222,
             "#7201a8"
            ],
            [
             0.3333333333333333,
             "#9c179e"
            ],
            [
             0.4444444444444444,
             "#bd3786"
            ],
            [
             0.5555555555555556,
             "#d8576b"
            ],
            [
             0.6666666666666666,
             "#ed7953"
            ],
            [
             0.7777777777777778,
             "#fb9f3a"
            ],
            [
             0.8888888888888888,
             "#fdca26"
            ],
            [
             1,
             "#f0f921"
            ]
           ],
           "sequentialminus": [
            [
             0,
             "#0d0887"
            ],
            [
             0.1111111111111111,
             "#46039f"
            ],
            [
             0.2222222222222222,
             "#7201a8"
            ],
            [
             0.3333333333333333,
             "#9c179e"
            ],
            [
             0.4444444444444444,
             "#bd3786"
            ],
            [
             0.5555555555555556,
             "#d8576b"
            ],
            [
             0.6666666666666666,
             "#ed7953"
            ],
            [
             0.7777777777777778,
             "#fb9f3a"
            ],
            [
             0.8888888888888888,
             "#fdca26"
            ],
            [
             1,
             "#f0f921"
            ]
           ]
          },
          "colorway": [
           "#636efa",
           "#EF553B",
           "#00cc96",
           "#ab63fa",
           "#FFA15A",
           "#19d3f3",
           "#FF6692",
           "#B6E880",
           "#FF97FF",
           "#FECB52"
          ],
          "font": {
           "color": "#2a3f5f"
          },
          "geo": {
           "bgcolor": "white",
           "lakecolor": "white",
           "landcolor": "#E5ECF6",
           "showlakes": true,
           "showland": true,
           "subunitcolor": "white"
          },
          "hoverlabel": {
           "align": "left"
          },
          "hovermode": "closest",
          "mapbox": {
           "style": "light"
          },
          "paper_bgcolor": "white",
          "plot_bgcolor": "#E5ECF6",
          "polar": {
           "angularaxis": {
            "gridcolor": "white",
            "linecolor": "white",
            "ticks": ""
           },
           "bgcolor": "#E5ECF6",
           "radialaxis": {
            "gridcolor": "white",
            "linecolor": "white",
            "ticks": ""
           }
          },
          "scene": {
           "xaxis": {
            "backgroundcolor": "#E5ECF6",
            "gridcolor": "white",
            "gridwidth": 2,
            "linecolor": "white",
            "showbackground": true,
            "ticks": "",
            "zerolinecolor": "white"
           },
           "yaxis": {
            "backgroundcolor": "#E5ECF6",
            "gridcolor": "white",
            "gridwidth": 2,
            "linecolor": "white",
            "showbackground": true,
            "ticks": "",
            "zerolinecolor": "white"
           },
           "zaxis": {
            "backgroundcolor": "#E5ECF6",
            "gridcolor": "white",
            "gridwidth": 2,
            "linecolor": "white",
            "showbackground": true,
            "ticks": "",
            "zerolinecolor": "white"
           }
          },
          "shapedefaults": {
           "line": {
            "color": "#2a3f5f"
           }
          },
          "ternary": {
           "aaxis": {
            "gridcolor": "white",
            "linecolor": "white",
            "ticks": ""
           },
           "baxis": {
            "gridcolor": "white",
            "linecolor": "white",
            "ticks": ""
           },
           "bgcolor": "#E5ECF6",
           "caxis": {
            "gridcolor": "white",
            "linecolor": "white",
            "ticks": ""
           }
          },
          "title": {
           "x": 0.05
          },
          "xaxis": {
           "automargin": true,
           "gridcolor": "white",
           "linecolor": "white",
           "ticks": "",
           "title": {
            "standoff": 15
           },
           "zerolinecolor": "white",
           "zerolinewidth": 2
          },
          "yaxis": {
           "automargin": true,
           "gridcolor": "white",
           "linecolor": "white",
           "ticks": "",
           "title": {
            "standoff": 15
           },
           "zerolinecolor": "white",
           "zerolinewidth": 2
          }
         }
        }
       }
      }
     },
     "metadata": {},
     "output_type": "display_data"
    }
   ],
   "source": [
    "import os\n",
    "import pandas as pd\n",
    "import plotly.graph_objects as go\n",
    "import plotly.io as pio\n",
    "\n",
    "colores = ['#2962ff', '#9500ff', '#ff0059', '#ff8c00', '#b4e600', '#2EC2A2', '#F79CB9', '#E50CB6', '#4225CF']\n",
    "\n",
    "def sumar_tablas(dataframes_list):\n",
    "    tabla_suma = None\n",
    "    \n",
    "    for df in dataframes_list:\n",
    "        tabla_actual = df.groupby(['estacionamiento', 'segmento'],observed=False).size().unstack(fill_value=0)\n",
    "        \n",
    "        if tabla_suma is None:\n",
    "            tabla_suma = tabla_actual\n",
    "        else:\n",
    "            tabla_suma = tabla_suma.add(tabla_actual, fill_value=0)\n",
    "    \n",
    "    print(\"Tabla general de frecuencia:\")\n",
    "    print(tabla_suma)\n",
    "    \n",
    "    fig = graficar_tabla(tabla_suma)\n",
    "    # Guardar la gráfica como archivo HTML\n",
    "    guardar_grafico_como_html(fig, 'g_pie_estacionamientos', carpeta='assets/graficas')\n",
    "    \n",
    "    return fig\n",
    "\n",
    "def graficar_tabla(tabla):\n",
    "    # Sumar los valores para cada estacionamiento\n",
    "    suma_estacionamientos = tabla.sum(axis=1)\n",
    "    \n",
    "    fig = go.Figure(data=[go.Pie(\n",
    "        labels=suma_estacionamientos.index,\n",
    "        values=suma_estacionamientos.values,\n",
    "        marker=dict(colors=colores[:len(suma_estacionamientos)]),\n",
    "        #hole=.3  # Si deseas un gráfico de pastel tipo \"donut\"\n",
    "    )])\n",
    "    \n",
    "    fig.update_layout(\n",
    "        #title=\"Distribución de Estacionamientos por Segmento\",\n",
    "        margin=dict(l=10, r=10, t=10, b=10),  # Ajusta los márgenes (left, right, top, bottom)\n",
    "    )\n",
    "    \n",
    "    fig.show()\n",
    "    return fig\n",
    "\n",
    "def guardar_grafico_como_html(fig, nombre_archivo, carpeta='assets/graficas'):\n",
    "    # Crear la carpeta si no existe\n",
    "    if not os.path.exists(carpeta):\n",
    "        os.makedirs(carpeta)\n",
    "    \n",
    "    # Guardar la gráfica como archivo HTML en la carpeta especificada\n",
    "    pio.write_html(fig, f'{carpeta}/{nombre_archivo}.html')\n",
    "\n",
    "fig = sumar_tablas(dataframes_list)"
   ]
  }
 ],
 "metadata": {
  "kernelspec": {
   "display_name": "base",
   "language": "python",
   "name": "python3"
  },
  "language_info": {
   "codemirror_mode": {
    "name": "ipython",
    "version": 3
   },
   "file_extension": ".py",
   "mimetype": "text/x-python",
   "name": "python",
   "nbconvert_exporter": "python",
   "pygments_lexer": "ipython3",
   "version": "3.9.13"
  }
 },
 "nbformat": 4,
 "nbformat_minor": 2
}
