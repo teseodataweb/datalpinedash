{
 "cells": [
  {
   "cell_type": "markdown",
   "metadata": {},
   "source": [
    "# Distribución Metros Cuadrados Construidos\n"
   ]
  },
  {
   "cell_type": "code",
   "execution_count": 1,
   "metadata": {},
   "outputs": [
    {
     "name": "stdout",
     "output_type": "stream",
     "text": [
      "Lista de DataFrames filtrados:\n"
     ]
    },
    {
     "data": {
      "text/plain": [
       "['df_alfa_abril_2024_tulancingo',\n",
       " 'df_alfa_agosto_2024_tulancingo',\n",
       " 'df_alfa_febrero_2024_tulancingo',\n",
       " 'df_alfa_julio_2024_tulancingo',\n",
       " 'df_alfa_junio_2024_tulancingo',\n",
       " 'df_alfa_marzo_2024_tulancingo',\n",
       " 'df_alfa_mayo_2024_tulancingo',\n",
       " 'df_alfa_q_jul_2022_tulancingo',\n",
       " 'df_alfa_q_jul_2023_tulancingo',\n",
       " 'df_alfa_q_jun_2023_tulancingo',\n",
       " 'df_alfa_q_mar_2023_tulancingo',\n",
       " 'df_alfa_q_may_2022_tulancingo',\n",
       " 'df_alfa_q_may_2023_tulancingo',\n",
       " 'df_alfa_q_oct_2022_tulancingo',\n",
       " 'df_alfa_q_oct_2023_tulancingo',\n",
       " 'df_alfa_q_sep_2023_tulancingo']"
      ]
     },
     "execution_count": 1,
     "metadata": {},
     "output_type": "execute_result"
    }
   ],
   "source": [
    "# Manejo de datos\n",
    "import os # Directorios\n",
    "import pandas as pd # Manipulación df\n",
    "# Gráficas\n",
    "import plotly.graph_objects as go #Para obtener librería usar: pip install plotly\n",
    "from plotly.subplots import make_subplots\n",
    "import plotly.io as pio # Exportar gráfica\n",
    "\n",
    "# Obtener el directorio actual de trabajo\n",
    "directorio_actual = os.getcwd()\n",
    "\n",
    "# Directorio donde se encuentran los archivos JSON (ruta relativa)\n",
    "directorio_json = os.path.join(directorio_actual, '../../db/datos_json')\n",
    "\n",
    "# Obtener la lista de archivos JSON en el directorio\n",
    "archivos_json = os.listdir(directorio_json)\n",
    "\n",
    "# Cargar los archivos JSON y crear DataFrames\n",
    "for archivo in archivos_json:\n",
    "    nombre_tabla = archivo.replace('datos_', '').replace('.json', '')\n",
    "    ruta_json = os.path.join(directorio_json, archivo)\n",
    "    globals()[f\"df_{nombre_tabla}\"] = pd.read_json(ruta_json)\n",
    "\n",
    "# Obtener todos los nombres de las variables globales\n",
    "nombres_variables_globales = list(globals().keys())\n",
    "\n",
    "# Filtrar los nombres que comienzan con \"df_\", contienen \"alfa_q\" y \"pachuca\"\n",
    "nombres_df_filtrados = [\n",
    "    nombre for nombre in nombres_variables_globales \n",
    "    # Caso de cuando no son las alfa q\n",
    "    #if nombre.startswith(\"df_\") and \"alfa_q\" in nombre and \"2022_puebla\" in nombre\n",
    "\n",
    "    if nombre.startswith(\"df_\") and \"alfa\" in nombre and \"tulancingo\" in nombre    \n",
    "    #and (\"alfa_q\" in nombre or \"jul_2023\" in nombre or \"sep_2023\" in nombre or \"feb_2024\" in nombre or \"mar_2024\" in nombre or \"may_2024\" in nombre)\n",
    "]\n",
    "\n",
    "# Imprimir la lista de DataFrames filtrados\n",
    "print(\"Lista de DataFrames filtrados:\")\n",
    "nombres_df_filtrados"
   ]
  },
  {
   "cell_type": "code",
   "execution_count": 2,
   "metadata": {},
   "outputs": [
    {
     "data": {
      "text/plain": [
       "Index(['id', 'Categoria', 'Precio', 'propiedad', 'metros_total',\n",
       "       'metros_construido', 'precio_m2_terreno', 'precio_m2_construido',\n",
       "       'tiempo_de_publicacion', 'Estado', 'Tipo', 'Estacionamientos',\n",
       "       'Recamaras', 'Banos', 'Medio_banos', 'Banos_Total', 'Seguridad',\n",
       "       'Colonia', 'CP', 'url'],\n",
       "      dtype='object')"
      ]
     },
     "execution_count": 2,
     "metadata": {},
     "output_type": "execute_result"
    }
   ],
   "source": [
    "df_alfa_febrero_2024_tulancingo.columns"
   ]
  },
  {
   "cell_type": "code",
   "execution_count": 3,
   "metadata": {},
   "outputs": [
    {
     "name": "stdout",
     "output_type": "stream",
     "text": [
      "Columnas renombradas en los DataFrames filtrados.\n"
     ]
    }
   ],
   "source": [
    "# Iterar sobre cada DataFrame en la lista filtrada\n",
    "for nombre_df in nombres_df_filtrados:\n",
    "    # Obtener el DataFrame usando globals()\n",
    "    df = globals()[nombre_df]\n",
    "    \n",
    "    df.rename(columns={'Precio':'precio','Categoria':'categoria','metros_construido':'m2_construido','id_jul_23':'id','m2_contruido': 'm2_construido','m_construido': 'm2_construido','Metros_construido':'m2_construido','segmento':'categoria','Category':'categoria'}, inplace=True)\n",
    "        # Asignar el DataFrame modificado de nuevo a la variable global\n",
    "    globals()[nombre_df] = df \n",
    "\n",
    "# Imprimir confirmación\n",
    "print(\"Columnas renombradas en los DataFrames filtrados.\")\n"
   ]
  },
  {
   "cell_type": "code",
   "execution_count": 4,
   "metadata": {},
   "outputs": [],
   "source": [
    "# Crear una lista de DataFrames seleccionados con las columnas específicas\n",
    "dataframes_list = []\n",
    "dataframes_name = []\n",
    "\n",
    "for nombre_df in nombres_df_filtrados:\n",
    "    # Seleccionar las columnas 'id' y 'categoria'\n",
    "    segment_df = globals()[nombre_df][['id', 'categoria','m2_construido','precio']]\n",
    "    # Añadir el DataFrame a la lista\n",
    "    dataframes_list.append(segment_df)\n",
    "     # Componer el nombre del DataFrame en la lista dataframes_name\n",
    "    dataframes_name.append(nombre_df)\n"
   ]
  },
  {
   "cell_type": "code",
   "execution_count": 5,
   "metadata": {},
   "outputs": [],
   "source": [
    "rangos_precio = {\n",
    "    \"E1\": (0, 500000),\n",
    "    \"E2\": (500000, 750000),\n",
    "    \"E3\": (750001, 1000000),\n",
    "    \"D1\": (1000001, 1250000),\n",
    "    \"D2\": (1250001, 1500000),\n",
    "    \"D3\": (1500001, 1750000),\n",
    "    \"C1\": (1750001, 2000000),\n",
    "    \"C2\": (2000001, 2250000),\n",
    "    \"C3\": (2250001, 2500000),\n",
    "    \"B1\": (2500001, 2750000),  \n",
    "    \"B2\": (2750001, 3000000),  \n",
    "    \"B3\": (3000001, 3250000),  \n",
    "    \"A1\": (3250001, 3500000),\n",
    "    \"A2\": (3500001, 3750000),\n",
    "    \"A3\": (3750001, 4000000),\n",
    "    \"S1\": (4000001, 6000000),\n",
    "    \"S2\": (6000001, 8000000),\n",
    "    \"S3\": (8000001, 12000000),\n",
    "    \"L1\": (12000001, 14000000),\n",
    "    \"L2\": (14000001, 16000000),\n",
    "    \"L3\": (16000001, 18000000),\n",
    "    \"L+\": (18000001, 22000000),\n",
    "    \"ELITE\": (22000001, float('inf'))\n",
    "}\n",
    "\n",
    "# Función para asignar la categoría según el precio\n",
    "def asignar_categoria(precio):\n",
    "    for categoria, (limite_inferior, limite_superior) in rangos_precio.items():\n",
    "        if limite_inferior <= precio <= limite_superior:\n",
    "            return categoria\n",
    "    return None  # En caso de que el precio no caiga en ningún rango (caso raro)"
   ]
  },
  {
   "cell_type": "code",
   "execution_count": 6,
   "metadata": {},
   "outputs": [],
   "source": [
    "for df in dataframes_list:    \n",
    "    df = df.drop(columns=['categoria'])\n",
    "    # Asignar la categoría real a cada registro\n",
    "    df['categoria'] = df['precio'].apply(asignar_categoria)"
   ]
  },
  {
   "cell_type": "markdown",
   "metadata": {},
   "source": [
    "# Cantidad de registros por metros cuadrados construidos, por segmento"
   ]
  },
  {
   "cell_type": "code",
   "execution_count": 7,
   "metadata": {},
   "outputs": [
    {
     "name": "stdout",
     "output_type": "stream",
     "text": [
      "Nombre del DataFrame: df_alfa_abril_2024_tulancingo\n",
      "m2_construido  0-100  100-150  150-200  200-250  250-300  300+\n",
      "segmento                                                      \n",
      "A                  0        0        1        2        0     1\n",
      "B                  1        4        3        2        0     1\n",
      "C                  0        5        1        1        1     1\n",
      "D                  9       10        2        1        0     1\n",
      "E                 30       12        7       13        6     4\n",
      "S                  0        0        0        1        1     1\n",
      "Nombre del DataFrame: df_alfa_agosto_2024_tulancingo\n",
      "m2_construido  0-100  100-150  150-200  200-250  250-300  300+\n",
      "segmento                                                      \n",
      "A                  0        0        1        3        0     1\n",
      "B                  0        3        3        0        0     2\n",
      "C                  2        1        3        1        0     2\n",
      "D                  7        8        0        1        0     2\n",
      "E                 18       18       11       14        4     8\n",
      "S                  0        0        0        0        0     4\n",
      "Nombre del DataFrame: df_alfa_febrero_2024_tulancingo\n",
      "m2_construido  0-100  100-150  150-200  200-250  250-300  300+\n",
      "segmento                                                      \n",
      "A                  0        0        0        2        0     6\n",
      "B                  1        3        2        2        0     1\n",
      "C                  0        3        3        1        1     1\n",
      "D                  7        5        3        2        0     0\n",
      "E                 31       12        7       16       11     6\n",
      "S                  0        0        0        1        1     5\n",
      "Nombre del DataFrame: df_alfa_julio_2024_tulancingo\n",
      "m2_construido  0-100  100-150  150-200  200-250  250-300  300+\n",
      "segmento                                                      \n",
      "A                  0        0        1        3        0     2\n",
      "B                  0        4        2        0        0     2\n",
      "C                  0        3        1        3        0     2\n",
      "D                  4       14        0        1        1     4\n",
      "E                 14       18       13       13       11    11\n",
      "S                  0        0        0        2        0     5\n",
      "Nombre del DataFrame: df_alfa_junio_2024_tulancingo\n",
      "m2_construido  0-100  100-150  150-200  200-250  250-300  300+\n",
      "segmento                                                      \n",
      "A                  0        0        1        3        0     3\n",
      "B                  0        4        3        2        0     1\n",
      "C                  0        3        1        1        1     2\n",
      "D                  6        6        3        2        0     1\n",
      "E                 19        8        9        9        8     6\n",
      "L                  0        0        0        0        0     2\n",
      "S                  1        0        0        1        0     5\n",
      "Nombre del DataFrame: df_alfa_marzo_2024_tulancingo\n",
      "m2_construido  0-100  100-150  150-200  200-250  250-300  300+\n",
      "segmento                                                      \n",
      "A                  0        0        1        3        0     3\n",
      "B                  0        4        3        2        0     1\n",
      "C                  0        3        1        1        1     2\n",
      "D                  6        6        3        2        0     1\n",
      "E                 19        8        9        9        8     6\n",
      "L                  0        0        0        0        0     2\n",
      "S                  1        0        0        1        0     5\n",
      "Nombre del DataFrame: df_alfa_mayo_2024_tulancingo\n",
      "m2_construido  0-100  100-150  150-200  200-250  250-300  300+\n",
      "segmento                                                      \n",
      "A                  0        0        1        2        0     2\n",
      "B                  0        3        3        0        0     0\n",
      "C                  0        4        2        2        1     0\n",
      "D                  6        8        1        2        1     1\n",
      "E                 15       16       20       23       17    10\n",
      "S                  0        0        0        2        1     0\n",
      "Nombre del DataFrame: df_alfa_q_jul_2022_tulancingo\n",
      "m2_construido  0-100  100-150  150-200  200-250  250-300  300+\n",
      "segmento                                                      \n",
      "A                  0        0        0        0        1     1\n",
      "B                  0        2        2        3        0     0\n",
      "C                  1        5       16        0        2     0\n",
      "D                 12       16        3        1        1     1\n",
      "E                  9        1        0        0        0     0\n",
      "S                  0        0        0        0        0     1\n",
      "Nombre del DataFrame: df_alfa_q_jul_2023_tulancingo\n",
      "m2_construido  0-100  100-150  150-200  200-250  250-300  300+\n",
      "segmento                                                      \n",
      "A                  0        1        0        2        0     1\n",
      "B                  0        2        2        3        0     0\n",
      "C                  3       11        2        1        0     2\n",
      "D                 13       18        2        3        1     2\n",
      "E                  8        4        3        0        0     0\n",
      "S                  0        0        2        3        0     1\n",
      "Nombre del DataFrame: df_alfa_q_jun_2023_tulancingo\n",
      "m2_construido  0-100  100-150  150-200  200-250  250-300  300+\n",
      "segmento                                                      \n",
      "A                  0        0        2        6        2     3\n",
      "B                  1        2        1        4        1     1\n",
      "C                  1       12        8        5        1     1\n",
      "D                 28       22        4        4        0     2\n",
      "E                 14        0        3        0        6     0\n",
      "S                  0        0        7       11        4    15\n",
      "Nombre del DataFrame: df_alfa_q_mar_2023_tulancingo\n",
      "m2_construido  0-100  100-150  150-200  200-250  250-300  300+\n",
      "segmento                                                      \n",
      "A                  0        0        1        3        0     4\n",
      "B                  0        0        2        2        0     0\n",
      "C                  3        6        5        5        0     5\n",
      "D                 17       13        8        5        0     2\n",
      "E                 23        5        2        3        3     2\n",
      "S                  0        0        0        3        0     8\n",
      "Nombre del DataFrame: df_alfa_q_may_2022_tulancingo\n",
      "m2_construido  0-100  100-150  150-200  200-250  250-300  300+\n",
      "segmento                                                      \n",
      "A                  0        2        0        0        1     2\n",
      "B                  0        2        2        3        0     1\n",
      "C                  1        5       16        0        2     0\n",
      "D                 13       16        3        1        1     1\n",
      "E                 17        1        0        0        0     0\n",
      "S                  0        0        0        0        0     8\n",
      "Nombre del DataFrame: df_alfa_q_may_2023_tulancingo\n",
      "m2_construido  0-100  100-150  150-200  200-250  250-300  300+\n",
      "segmento                                                      \n",
      "A                  0        0        1        1        0     1\n",
      "B                  0        3        2        2        0     0\n",
      "C                  2        8        4        4        1     6\n",
      "D                 25       19        3        1        0     2\n",
      "E                 16        2        1        1        1     1\n",
      "S                  0        0        0        2        0     8\n",
      "Nombre del DataFrame: df_alfa_q_oct_2022_tulancingo\n",
      "m2_construido  0-100  100-150  150-200  200-250  250-300  300+\n",
      "segmento                                                      \n",
      "A                  0        0        4       10        2     1\n",
      "B                  0        4        2        6        1     1\n",
      "C                  1        8        7        3        0     0\n",
      "D                 17       28        5        1        0     0\n",
      "E                 18        8        1        2        0     0\n",
      "S                  0        0        4        4        1     9\n",
      "Nombre del DataFrame: df_alfa_q_oct_2023_tulancingo\n",
      "m2_construido  0-100  100-150  150-200  200-250  250-300  300+\n",
      "segmento                                                      \n",
      "A                  0        0        2        0        0     1\n",
      "B                  0        2        3        3        1     0\n",
      "C                  1        4        2        1        0     0\n",
      "D                 18       15        1        0        0     0\n",
      "E                  4        0        0        0        0     0\n",
      "S                  0        0        0        1        0     2\n",
      "Nombre del DataFrame: df_alfa_q_sep_2023_tulancingo\n",
      "m2_construido  0-100  100-150  150-200  200-250  250-300  300+\n",
      "segmento                                                      \n",
      "A                  0        0        2        0        0     1\n",
      "B                  0        2        3        3        1     0\n",
      "C                  1        3        2        1        0     0\n",
      "D                 17       15        1        0        0     0\n",
      "E                  3        0        0        0        0     0\n",
      "S                  0        0        0        1        0     2\n"
     ]
    },
    {
     "name": "stderr",
     "output_type": "stream",
     "text": [
      "C:\\Users\\yoe11\\AppData\\Local\\Temp\\ipykernel_17532\\275059014.py:4: SettingWithCopyWarning: \n",
      "A value is trying to be set on a copy of a slice from a DataFrame.\n",
      "Try using .loc[row_indexer,col_indexer] = value instead\n",
      "\n",
      "See the caveats in the documentation: https://pandas.pydata.org/pandas-docs/stable/user_guide/indexing.html#returning-a-view-versus-a-copy\n",
      "  df['segmento'] = df['categoria'].str[0]\n",
      "C:\\Users\\yoe11\\AppData\\Local\\Temp\\ipykernel_17532\\275059014.py:5: SettingWithCopyWarning: \n",
      "A value is trying to be set on a copy of a slice from a DataFrame\n",
      "\n",
      "See the caveats in the documentation: https://pandas.pydata.org/pandas-docs/stable/user_guide/indexing.html#returning-a-view-versus-a-copy\n",
      "  df.drop(columns=['categoria'], inplace=True)\n",
      "C:\\Users\\yoe11\\AppData\\Local\\Temp\\ipykernel_17532\\275059014.py:10: SettingWithCopyWarning: \n",
      "A value is trying to be set on a copy of a slice from a DataFrame.\n",
      "Try using .loc[row_indexer,col_indexer] = value instead\n",
      "\n",
      "See the caveats in the documentation: https://pandas.pydata.org/pandas-docs/stable/user_guide/indexing.html#returning-a-view-versus-a-copy\n",
      "  df['m2_construido'] = pd.cut(df['m2_construido'], bins=bins, labels=labels, right=False)\n",
      "C:\\Users\\yoe11\\AppData\\Local\\Temp\\ipykernel_17532\\275059014.py:13: FutureWarning: The default of observed=False is deprecated and will be changed to True in a future version of pandas. Pass observed=False to retain current behavior or observed=True to adopt the future default and silence this warning.\n",
      "  tabla = df.groupby(['segmento', 'm2_construido']).size().unstack(fill_value=0)\n",
      "C:\\Users\\yoe11\\AppData\\Local\\Temp\\ipykernel_17532\\275059014.py:4: SettingWithCopyWarning: \n",
      "A value is trying to be set on a copy of a slice from a DataFrame.\n",
      "Try using .loc[row_indexer,col_indexer] = value instead\n",
      "\n",
      "See the caveats in the documentation: https://pandas.pydata.org/pandas-docs/stable/user_guide/indexing.html#returning-a-view-versus-a-copy\n",
      "  df['segmento'] = df['categoria'].str[0]\n",
      "C:\\Users\\yoe11\\AppData\\Local\\Temp\\ipykernel_17532\\275059014.py:5: SettingWithCopyWarning: \n",
      "A value is trying to be set on a copy of a slice from a DataFrame\n",
      "\n",
      "See the caveats in the documentation: https://pandas.pydata.org/pandas-docs/stable/user_guide/indexing.html#returning-a-view-versus-a-copy\n",
      "  df.drop(columns=['categoria'], inplace=True)\n",
      "C:\\Users\\yoe11\\AppData\\Local\\Temp\\ipykernel_17532\\275059014.py:10: SettingWithCopyWarning: \n",
      "A value is trying to be set on a copy of a slice from a DataFrame.\n",
      "Try using .loc[row_indexer,col_indexer] = value instead\n",
      "\n",
      "See the caveats in the documentation: https://pandas.pydata.org/pandas-docs/stable/user_guide/indexing.html#returning-a-view-versus-a-copy\n",
      "  df['m2_construido'] = pd.cut(df['m2_construido'], bins=bins, labels=labels, right=False)\n",
      "C:\\Users\\yoe11\\AppData\\Local\\Temp\\ipykernel_17532\\275059014.py:13: FutureWarning: The default of observed=False is deprecated and will be changed to True in a future version of pandas. Pass observed=False to retain current behavior or observed=True to adopt the future default and silence this warning.\n",
      "  tabla = df.groupby(['segmento', 'm2_construido']).size().unstack(fill_value=0)\n",
      "C:\\Users\\yoe11\\AppData\\Local\\Temp\\ipykernel_17532\\275059014.py:4: SettingWithCopyWarning: \n",
      "A value is trying to be set on a copy of a slice from a DataFrame.\n",
      "Try using .loc[row_indexer,col_indexer] = value instead\n",
      "\n",
      "See the caveats in the documentation: https://pandas.pydata.org/pandas-docs/stable/user_guide/indexing.html#returning-a-view-versus-a-copy\n",
      "  df['segmento'] = df['categoria'].str[0]\n",
      "C:\\Users\\yoe11\\AppData\\Local\\Temp\\ipykernel_17532\\275059014.py:5: SettingWithCopyWarning: \n",
      "A value is trying to be set on a copy of a slice from a DataFrame\n",
      "\n",
      "See the caveats in the documentation: https://pandas.pydata.org/pandas-docs/stable/user_guide/indexing.html#returning-a-view-versus-a-copy\n",
      "  df.drop(columns=['categoria'], inplace=True)\n",
      "C:\\Users\\yoe11\\AppData\\Local\\Temp\\ipykernel_17532\\275059014.py:10: SettingWithCopyWarning: \n",
      "A value is trying to be set on a copy of a slice from a DataFrame.\n",
      "Try using .loc[row_indexer,col_indexer] = value instead\n",
      "\n",
      "See the caveats in the documentation: https://pandas.pydata.org/pandas-docs/stable/user_guide/indexing.html#returning-a-view-versus-a-copy\n",
      "  df['m2_construido'] = pd.cut(df['m2_construido'], bins=bins, labels=labels, right=False)\n",
      "C:\\Users\\yoe11\\AppData\\Local\\Temp\\ipykernel_17532\\275059014.py:13: FutureWarning: The default of observed=False is deprecated and will be changed to True in a future version of pandas. Pass observed=False to retain current behavior or observed=True to adopt the future default and silence this warning.\n",
      "  tabla = df.groupby(['segmento', 'm2_construido']).size().unstack(fill_value=0)\n",
      "C:\\Users\\yoe11\\AppData\\Local\\Temp\\ipykernel_17532\\275059014.py:4: SettingWithCopyWarning: \n",
      "A value is trying to be set on a copy of a slice from a DataFrame.\n",
      "Try using .loc[row_indexer,col_indexer] = value instead\n",
      "\n",
      "See the caveats in the documentation: https://pandas.pydata.org/pandas-docs/stable/user_guide/indexing.html#returning-a-view-versus-a-copy\n",
      "  df['segmento'] = df['categoria'].str[0]\n",
      "C:\\Users\\yoe11\\AppData\\Local\\Temp\\ipykernel_17532\\275059014.py:5: SettingWithCopyWarning: \n",
      "A value is trying to be set on a copy of a slice from a DataFrame\n",
      "\n",
      "See the caveats in the documentation: https://pandas.pydata.org/pandas-docs/stable/user_guide/indexing.html#returning-a-view-versus-a-copy\n",
      "  df.drop(columns=['categoria'], inplace=True)\n",
      "C:\\Users\\yoe11\\AppData\\Local\\Temp\\ipykernel_17532\\275059014.py:10: SettingWithCopyWarning: \n",
      "A value is trying to be set on a copy of a slice from a DataFrame.\n",
      "Try using .loc[row_indexer,col_indexer] = value instead\n",
      "\n",
      "See the caveats in the documentation: https://pandas.pydata.org/pandas-docs/stable/user_guide/indexing.html#returning-a-view-versus-a-copy\n",
      "  df['m2_construido'] = pd.cut(df['m2_construido'], bins=bins, labels=labels, right=False)\n",
      "C:\\Users\\yoe11\\AppData\\Local\\Temp\\ipykernel_17532\\275059014.py:13: FutureWarning: The default of observed=False is deprecated and will be changed to True in a future version of pandas. Pass observed=False to retain current behavior or observed=True to adopt the future default and silence this warning.\n",
      "  tabla = df.groupby(['segmento', 'm2_construido']).size().unstack(fill_value=0)\n",
      "C:\\Users\\yoe11\\AppData\\Local\\Temp\\ipykernel_17532\\275059014.py:4: SettingWithCopyWarning: \n",
      "A value is trying to be set on a copy of a slice from a DataFrame.\n",
      "Try using .loc[row_indexer,col_indexer] = value instead\n",
      "\n",
      "See the caveats in the documentation: https://pandas.pydata.org/pandas-docs/stable/user_guide/indexing.html#returning-a-view-versus-a-copy\n",
      "  df['segmento'] = df['categoria'].str[0]\n",
      "C:\\Users\\yoe11\\AppData\\Local\\Temp\\ipykernel_17532\\275059014.py:5: SettingWithCopyWarning: \n",
      "A value is trying to be set on a copy of a slice from a DataFrame\n",
      "\n",
      "See the caveats in the documentation: https://pandas.pydata.org/pandas-docs/stable/user_guide/indexing.html#returning-a-view-versus-a-copy\n",
      "  df.drop(columns=['categoria'], inplace=True)\n",
      "C:\\Users\\yoe11\\AppData\\Local\\Temp\\ipykernel_17532\\275059014.py:10: SettingWithCopyWarning: \n",
      "A value is trying to be set on a copy of a slice from a DataFrame.\n",
      "Try using .loc[row_indexer,col_indexer] = value instead\n",
      "\n",
      "See the caveats in the documentation: https://pandas.pydata.org/pandas-docs/stable/user_guide/indexing.html#returning-a-view-versus-a-copy\n",
      "  df['m2_construido'] = pd.cut(df['m2_construido'], bins=bins, labels=labels, right=False)\n",
      "C:\\Users\\yoe11\\AppData\\Local\\Temp\\ipykernel_17532\\275059014.py:13: FutureWarning: The default of observed=False is deprecated and will be changed to True in a future version of pandas. Pass observed=False to retain current behavior or observed=True to adopt the future default and silence this warning.\n",
      "  tabla = df.groupby(['segmento', 'm2_construido']).size().unstack(fill_value=0)\n",
      "C:\\Users\\yoe11\\AppData\\Local\\Temp\\ipykernel_17532\\275059014.py:4: SettingWithCopyWarning: \n",
      "A value is trying to be set on a copy of a slice from a DataFrame.\n",
      "Try using .loc[row_indexer,col_indexer] = value instead\n",
      "\n",
      "See the caveats in the documentation: https://pandas.pydata.org/pandas-docs/stable/user_guide/indexing.html#returning-a-view-versus-a-copy\n",
      "  df['segmento'] = df['categoria'].str[0]\n",
      "C:\\Users\\yoe11\\AppData\\Local\\Temp\\ipykernel_17532\\275059014.py:5: SettingWithCopyWarning: \n",
      "A value is trying to be set on a copy of a slice from a DataFrame\n",
      "\n",
      "See the caveats in the documentation: https://pandas.pydata.org/pandas-docs/stable/user_guide/indexing.html#returning-a-view-versus-a-copy\n",
      "  df.drop(columns=['categoria'], inplace=True)\n",
      "C:\\Users\\yoe11\\AppData\\Local\\Temp\\ipykernel_17532\\275059014.py:10: SettingWithCopyWarning: \n",
      "A value is trying to be set on a copy of a slice from a DataFrame.\n",
      "Try using .loc[row_indexer,col_indexer] = value instead\n",
      "\n",
      "See the caveats in the documentation: https://pandas.pydata.org/pandas-docs/stable/user_guide/indexing.html#returning-a-view-versus-a-copy\n",
      "  df['m2_construido'] = pd.cut(df['m2_construido'], bins=bins, labels=labels, right=False)\n",
      "C:\\Users\\yoe11\\AppData\\Local\\Temp\\ipykernel_17532\\275059014.py:13: FutureWarning: The default of observed=False is deprecated and will be changed to True in a future version of pandas. Pass observed=False to retain current behavior or observed=True to adopt the future default and silence this warning.\n",
      "  tabla = df.groupby(['segmento', 'm2_construido']).size().unstack(fill_value=0)\n",
      "C:\\Users\\yoe11\\AppData\\Local\\Temp\\ipykernel_17532\\275059014.py:4: SettingWithCopyWarning: \n",
      "A value is trying to be set on a copy of a slice from a DataFrame.\n",
      "Try using .loc[row_indexer,col_indexer] = value instead\n",
      "\n",
      "See the caveats in the documentation: https://pandas.pydata.org/pandas-docs/stable/user_guide/indexing.html#returning-a-view-versus-a-copy\n",
      "  df['segmento'] = df['categoria'].str[0]\n",
      "C:\\Users\\yoe11\\AppData\\Local\\Temp\\ipykernel_17532\\275059014.py:5: SettingWithCopyWarning: \n",
      "A value is trying to be set on a copy of a slice from a DataFrame\n",
      "\n",
      "See the caveats in the documentation: https://pandas.pydata.org/pandas-docs/stable/user_guide/indexing.html#returning-a-view-versus-a-copy\n",
      "  df.drop(columns=['categoria'], inplace=True)\n",
      "C:\\Users\\yoe11\\AppData\\Local\\Temp\\ipykernel_17532\\275059014.py:10: SettingWithCopyWarning: \n",
      "A value is trying to be set on a copy of a slice from a DataFrame.\n",
      "Try using .loc[row_indexer,col_indexer] = value instead\n",
      "\n",
      "See the caveats in the documentation: https://pandas.pydata.org/pandas-docs/stable/user_guide/indexing.html#returning-a-view-versus-a-copy\n",
      "  df['m2_construido'] = pd.cut(df['m2_construido'], bins=bins, labels=labels, right=False)\n",
      "C:\\Users\\yoe11\\AppData\\Local\\Temp\\ipykernel_17532\\275059014.py:13: FutureWarning: The default of observed=False is deprecated and will be changed to True in a future version of pandas. Pass observed=False to retain current behavior or observed=True to adopt the future default and silence this warning.\n",
      "  tabla = df.groupby(['segmento', 'm2_construido']).size().unstack(fill_value=0)\n",
      "C:\\Users\\yoe11\\AppData\\Local\\Temp\\ipykernel_17532\\275059014.py:4: SettingWithCopyWarning: \n",
      "A value is trying to be set on a copy of a slice from a DataFrame.\n",
      "Try using .loc[row_indexer,col_indexer] = value instead\n",
      "\n",
      "See the caveats in the documentation: https://pandas.pydata.org/pandas-docs/stable/user_guide/indexing.html#returning-a-view-versus-a-copy\n",
      "  df['segmento'] = df['categoria'].str[0]\n",
      "C:\\Users\\yoe11\\AppData\\Local\\Temp\\ipykernel_17532\\275059014.py:5: SettingWithCopyWarning: \n",
      "A value is trying to be set on a copy of a slice from a DataFrame\n",
      "\n",
      "See the caveats in the documentation: https://pandas.pydata.org/pandas-docs/stable/user_guide/indexing.html#returning-a-view-versus-a-copy\n",
      "  df.drop(columns=['categoria'], inplace=True)\n",
      "C:\\Users\\yoe11\\AppData\\Local\\Temp\\ipykernel_17532\\275059014.py:10: SettingWithCopyWarning: \n",
      "A value is trying to be set on a copy of a slice from a DataFrame.\n",
      "Try using .loc[row_indexer,col_indexer] = value instead\n",
      "\n",
      "See the caveats in the documentation: https://pandas.pydata.org/pandas-docs/stable/user_guide/indexing.html#returning-a-view-versus-a-copy\n",
      "  df['m2_construido'] = pd.cut(df['m2_construido'], bins=bins, labels=labels, right=False)\n",
      "C:\\Users\\yoe11\\AppData\\Local\\Temp\\ipykernel_17532\\275059014.py:13: FutureWarning: The default of observed=False is deprecated and will be changed to True in a future version of pandas. Pass observed=False to retain current behavior or observed=True to adopt the future default and silence this warning.\n",
      "  tabla = df.groupby(['segmento', 'm2_construido']).size().unstack(fill_value=0)\n",
      "C:\\Users\\yoe11\\AppData\\Local\\Temp\\ipykernel_17532\\275059014.py:4: SettingWithCopyWarning: \n",
      "A value is trying to be set on a copy of a slice from a DataFrame.\n",
      "Try using .loc[row_indexer,col_indexer] = value instead\n",
      "\n",
      "See the caveats in the documentation: https://pandas.pydata.org/pandas-docs/stable/user_guide/indexing.html#returning-a-view-versus-a-copy\n",
      "  df['segmento'] = df['categoria'].str[0]\n",
      "C:\\Users\\yoe11\\AppData\\Local\\Temp\\ipykernel_17532\\275059014.py:5: SettingWithCopyWarning: \n",
      "A value is trying to be set on a copy of a slice from a DataFrame\n",
      "\n",
      "See the caveats in the documentation: https://pandas.pydata.org/pandas-docs/stable/user_guide/indexing.html#returning-a-view-versus-a-copy\n",
      "  df.drop(columns=['categoria'], inplace=True)\n",
      "C:\\Users\\yoe11\\AppData\\Local\\Temp\\ipykernel_17532\\275059014.py:10: SettingWithCopyWarning: \n",
      "A value is trying to be set on a copy of a slice from a DataFrame.\n",
      "Try using .loc[row_indexer,col_indexer] = value instead\n",
      "\n",
      "See the caveats in the documentation: https://pandas.pydata.org/pandas-docs/stable/user_guide/indexing.html#returning-a-view-versus-a-copy\n",
      "  df['m2_construido'] = pd.cut(df['m2_construido'], bins=bins, labels=labels, right=False)\n",
      "C:\\Users\\yoe11\\AppData\\Local\\Temp\\ipykernel_17532\\275059014.py:13: FutureWarning: The default of observed=False is deprecated and will be changed to True in a future version of pandas. Pass observed=False to retain current behavior or observed=True to adopt the future default and silence this warning.\n",
      "  tabla = df.groupby(['segmento', 'm2_construido']).size().unstack(fill_value=0)\n",
      "C:\\Users\\yoe11\\AppData\\Local\\Temp\\ipykernel_17532\\275059014.py:4: SettingWithCopyWarning: \n",
      "A value is trying to be set on a copy of a slice from a DataFrame.\n",
      "Try using .loc[row_indexer,col_indexer] = value instead\n",
      "\n",
      "See the caveats in the documentation: https://pandas.pydata.org/pandas-docs/stable/user_guide/indexing.html#returning-a-view-versus-a-copy\n",
      "  df['segmento'] = df['categoria'].str[0]\n",
      "C:\\Users\\yoe11\\AppData\\Local\\Temp\\ipykernel_17532\\275059014.py:5: SettingWithCopyWarning: \n",
      "A value is trying to be set on a copy of a slice from a DataFrame\n",
      "\n",
      "See the caveats in the documentation: https://pandas.pydata.org/pandas-docs/stable/user_guide/indexing.html#returning-a-view-versus-a-copy\n",
      "  df.drop(columns=['categoria'], inplace=True)\n",
      "C:\\Users\\yoe11\\AppData\\Local\\Temp\\ipykernel_17532\\275059014.py:10: SettingWithCopyWarning: \n",
      "A value is trying to be set on a copy of a slice from a DataFrame.\n",
      "Try using .loc[row_indexer,col_indexer] = value instead\n",
      "\n",
      "See the caveats in the documentation: https://pandas.pydata.org/pandas-docs/stable/user_guide/indexing.html#returning-a-view-versus-a-copy\n",
      "  df['m2_construido'] = pd.cut(df['m2_construido'], bins=bins, labels=labels, right=False)\n",
      "C:\\Users\\yoe11\\AppData\\Local\\Temp\\ipykernel_17532\\275059014.py:13: FutureWarning: The default of observed=False is deprecated and will be changed to True in a future version of pandas. Pass observed=False to retain current behavior or observed=True to adopt the future default and silence this warning.\n",
      "  tabla = df.groupby(['segmento', 'm2_construido']).size().unstack(fill_value=0)\n",
      "C:\\Users\\yoe11\\AppData\\Local\\Temp\\ipykernel_17532\\275059014.py:4: SettingWithCopyWarning: \n",
      "A value is trying to be set on a copy of a slice from a DataFrame.\n",
      "Try using .loc[row_indexer,col_indexer] = value instead\n",
      "\n",
      "See the caveats in the documentation: https://pandas.pydata.org/pandas-docs/stable/user_guide/indexing.html#returning-a-view-versus-a-copy\n",
      "  df['segmento'] = df['categoria'].str[0]\n",
      "C:\\Users\\yoe11\\AppData\\Local\\Temp\\ipykernel_17532\\275059014.py:5: SettingWithCopyWarning: \n",
      "A value is trying to be set on a copy of a slice from a DataFrame\n",
      "\n",
      "See the caveats in the documentation: https://pandas.pydata.org/pandas-docs/stable/user_guide/indexing.html#returning-a-view-versus-a-copy\n",
      "  df.drop(columns=['categoria'], inplace=True)\n",
      "C:\\Users\\yoe11\\AppData\\Local\\Temp\\ipykernel_17532\\275059014.py:10: SettingWithCopyWarning: \n",
      "A value is trying to be set on a copy of a slice from a DataFrame.\n",
      "Try using .loc[row_indexer,col_indexer] = value instead\n",
      "\n",
      "See the caveats in the documentation: https://pandas.pydata.org/pandas-docs/stable/user_guide/indexing.html#returning-a-view-versus-a-copy\n",
      "  df['m2_construido'] = pd.cut(df['m2_construido'], bins=bins, labels=labels, right=False)\n",
      "C:\\Users\\yoe11\\AppData\\Local\\Temp\\ipykernel_17532\\275059014.py:13: FutureWarning: The default of observed=False is deprecated and will be changed to True in a future version of pandas. Pass observed=False to retain current behavior or observed=True to adopt the future default and silence this warning.\n",
      "  tabla = df.groupby(['segmento', 'm2_construido']).size().unstack(fill_value=0)\n",
      "C:\\Users\\yoe11\\AppData\\Local\\Temp\\ipykernel_17532\\275059014.py:4: SettingWithCopyWarning: \n",
      "A value is trying to be set on a copy of a slice from a DataFrame.\n",
      "Try using .loc[row_indexer,col_indexer] = value instead\n",
      "\n",
      "See the caveats in the documentation: https://pandas.pydata.org/pandas-docs/stable/user_guide/indexing.html#returning-a-view-versus-a-copy\n",
      "  df['segmento'] = df['categoria'].str[0]\n",
      "C:\\Users\\yoe11\\AppData\\Local\\Temp\\ipykernel_17532\\275059014.py:5: SettingWithCopyWarning: \n",
      "A value is trying to be set on a copy of a slice from a DataFrame\n",
      "\n",
      "See the caveats in the documentation: https://pandas.pydata.org/pandas-docs/stable/user_guide/indexing.html#returning-a-view-versus-a-copy\n",
      "  df.drop(columns=['categoria'], inplace=True)\n",
      "C:\\Users\\yoe11\\AppData\\Local\\Temp\\ipykernel_17532\\275059014.py:10: SettingWithCopyWarning: \n",
      "A value is trying to be set on a copy of a slice from a DataFrame.\n",
      "Try using .loc[row_indexer,col_indexer] = value instead\n",
      "\n",
      "See the caveats in the documentation: https://pandas.pydata.org/pandas-docs/stable/user_guide/indexing.html#returning-a-view-versus-a-copy\n",
      "  df['m2_construido'] = pd.cut(df['m2_construido'], bins=bins, labels=labels, right=False)\n",
      "C:\\Users\\yoe11\\AppData\\Local\\Temp\\ipykernel_17532\\275059014.py:13: FutureWarning: The default of observed=False is deprecated and will be changed to True in a future version of pandas. Pass observed=False to retain current behavior or observed=True to adopt the future default and silence this warning.\n",
      "  tabla = df.groupby(['segmento', 'm2_construido']).size().unstack(fill_value=0)\n",
      "C:\\Users\\yoe11\\AppData\\Local\\Temp\\ipykernel_17532\\275059014.py:4: SettingWithCopyWarning: \n",
      "A value is trying to be set on a copy of a slice from a DataFrame.\n",
      "Try using .loc[row_indexer,col_indexer] = value instead\n",
      "\n",
      "See the caveats in the documentation: https://pandas.pydata.org/pandas-docs/stable/user_guide/indexing.html#returning-a-view-versus-a-copy\n",
      "  df['segmento'] = df['categoria'].str[0]\n",
      "C:\\Users\\yoe11\\AppData\\Local\\Temp\\ipykernel_17532\\275059014.py:5: SettingWithCopyWarning: \n",
      "A value is trying to be set on a copy of a slice from a DataFrame\n",
      "\n",
      "See the caveats in the documentation: https://pandas.pydata.org/pandas-docs/stable/user_guide/indexing.html#returning-a-view-versus-a-copy\n",
      "  df.drop(columns=['categoria'], inplace=True)\n",
      "C:\\Users\\yoe11\\AppData\\Local\\Temp\\ipykernel_17532\\275059014.py:10: SettingWithCopyWarning: \n",
      "A value is trying to be set on a copy of a slice from a DataFrame.\n",
      "Try using .loc[row_indexer,col_indexer] = value instead\n",
      "\n",
      "See the caveats in the documentation: https://pandas.pydata.org/pandas-docs/stable/user_guide/indexing.html#returning-a-view-versus-a-copy\n",
      "  df['m2_construido'] = pd.cut(df['m2_construido'], bins=bins, labels=labels, right=False)\n",
      "C:\\Users\\yoe11\\AppData\\Local\\Temp\\ipykernel_17532\\275059014.py:13: FutureWarning: The default of observed=False is deprecated and will be changed to True in a future version of pandas. Pass observed=False to retain current behavior or observed=True to adopt the future default and silence this warning.\n",
      "  tabla = df.groupby(['segmento', 'm2_construido']).size().unstack(fill_value=0)\n",
      "C:\\Users\\yoe11\\AppData\\Local\\Temp\\ipykernel_17532\\275059014.py:4: SettingWithCopyWarning: \n",
      "A value is trying to be set on a copy of a slice from a DataFrame.\n",
      "Try using .loc[row_indexer,col_indexer] = value instead\n",
      "\n",
      "See the caveats in the documentation: https://pandas.pydata.org/pandas-docs/stable/user_guide/indexing.html#returning-a-view-versus-a-copy\n",
      "  df['segmento'] = df['categoria'].str[0]\n",
      "C:\\Users\\yoe11\\AppData\\Local\\Temp\\ipykernel_17532\\275059014.py:5: SettingWithCopyWarning: \n",
      "A value is trying to be set on a copy of a slice from a DataFrame\n",
      "\n",
      "See the caveats in the documentation: https://pandas.pydata.org/pandas-docs/stable/user_guide/indexing.html#returning-a-view-versus-a-copy\n",
      "  df.drop(columns=['categoria'], inplace=True)\n",
      "C:\\Users\\yoe11\\AppData\\Local\\Temp\\ipykernel_17532\\275059014.py:10: SettingWithCopyWarning: \n",
      "A value is trying to be set on a copy of a slice from a DataFrame.\n",
      "Try using .loc[row_indexer,col_indexer] = value instead\n",
      "\n",
      "See the caveats in the documentation: https://pandas.pydata.org/pandas-docs/stable/user_guide/indexing.html#returning-a-view-versus-a-copy\n",
      "  df['m2_construido'] = pd.cut(df['m2_construido'], bins=bins, labels=labels, right=False)\n",
      "C:\\Users\\yoe11\\AppData\\Local\\Temp\\ipykernel_17532\\275059014.py:13: FutureWarning: The default of observed=False is deprecated and will be changed to True in a future version of pandas. Pass observed=False to retain current behavior or observed=True to adopt the future default and silence this warning.\n",
      "  tabla = df.groupby(['segmento', 'm2_construido']).size().unstack(fill_value=0)\n",
      "C:\\Users\\yoe11\\AppData\\Local\\Temp\\ipykernel_17532\\275059014.py:4: SettingWithCopyWarning: \n",
      "A value is trying to be set on a copy of a slice from a DataFrame.\n",
      "Try using .loc[row_indexer,col_indexer] = value instead\n",
      "\n",
      "See the caveats in the documentation: https://pandas.pydata.org/pandas-docs/stable/user_guide/indexing.html#returning-a-view-versus-a-copy\n",
      "  df['segmento'] = df['categoria'].str[0]\n",
      "C:\\Users\\yoe11\\AppData\\Local\\Temp\\ipykernel_17532\\275059014.py:5: SettingWithCopyWarning: \n",
      "A value is trying to be set on a copy of a slice from a DataFrame\n",
      "\n",
      "See the caveats in the documentation: https://pandas.pydata.org/pandas-docs/stable/user_guide/indexing.html#returning-a-view-versus-a-copy\n",
      "  df.drop(columns=['categoria'], inplace=True)\n",
      "C:\\Users\\yoe11\\AppData\\Local\\Temp\\ipykernel_17532\\275059014.py:10: SettingWithCopyWarning: \n",
      "A value is trying to be set on a copy of a slice from a DataFrame.\n",
      "Try using .loc[row_indexer,col_indexer] = value instead\n",
      "\n",
      "See the caveats in the documentation: https://pandas.pydata.org/pandas-docs/stable/user_guide/indexing.html#returning-a-view-versus-a-copy\n",
      "  df['m2_construido'] = pd.cut(df['m2_construido'], bins=bins, labels=labels, right=False)\n",
      "C:\\Users\\yoe11\\AppData\\Local\\Temp\\ipykernel_17532\\275059014.py:13: FutureWarning: The default of observed=False is deprecated and will be changed to True in a future version of pandas. Pass observed=False to retain current behavior or observed=True to adopt the future default and silence this warning.\n",
      "  tabla = df.groupby(['segmento', 'm2_construido']).size().unstack(fill_value=0)\n",
      "C:\\Users\\yoe11\\AppData\\Local\\Temp\\ipykernel_17532\\275059014.py:4: SettingWithCopyWarning: \n",
      "A value is trying to be set on a copy of a slice from a DataFrame.\n",
      "Try using .loc[row_indexer,col_indexer] = value instead\n",
      "\n",
      "See the caveats in the documentation: https://pandas.pydata.org/pandas-docs/stable/user_guide/indexing.html#returning-a-view-versus-a-copy\n",
      "  df['segmento'] = df['categoria'].str[0]\n",
      "C:\\Users\\yoe11\\AppData\\Local\\Temp\\ipykernel_17532\\275059014.py:5: SettingWithCopyWarning: \n",
      "A value is trying to be set on a copy of a slice from a DataFrame\n",
      "\n",
      "See the caveats in the documentation: https://pandas.pydata.org/pandas-docs/stable/user_guide/indexing.html#returning-a-view-versus-a-copy\n",
      "  df.drop(columns=['categoria'], inplace=True)\n",
      "C:\\Users\\yoe11\\AppData\\Local\\Temp\\ipykernel_17532\\275059014.py:10: SettingWithCopyWarning: \n",
      "A value is trying to be set on a copy of a slice from a DataFrame.\n",
      "Try using .loc[row_indexer,col_indexer] = value instead\n",
      "\n",
      "See the caveats in the documentation: https://pandas.pydata.org/pandas-docs/stable/user_guide/indexing.html#returning-a-view-versus-a-copy\n",
      "  df['m2_construido'] = pd.cut(df['m2_construido'], bins=bins, labels=labels, right=False)\n",
      "C:\\Users\\yoe11\\AppData\\Local\\Temp\\ipykernel_17532\\275059014.py:13: FutureWarning: The default of observed=False is deprecated and will be changed to True in a future version of pandas. Pass observed=False to retain current behavior or observed=True to adopt the future default and silence this warning.\n",
      "  tabla = df.groupby(['segmento', 'm2_construido']).size().unstack(fill_value=0)\n"
     ]
    }
   ],
   "source": [
    "def procesar_dataframes(dataframes_list, dataframes_name):\n",
    "    for i, df in enumerate(dataframes_list):\n",
    "        # Crear una nueva columna con la primera letra de la categoría\n",
    "        df['segmento'] = df['categoria'].str[0]\n",
    "        df.drop(columns=['categoria'], inplace=True)\n",
    "\n",
    "        # Clasificar 'baño_total' en rangos específicos\n",
    "        bins = [0, 100, 150, 200, 250, 300, float('inf')]\n",
    "        labels = ['0-100', '100-150', '150-200', '200-250', '250-300', '300+']\n",
    "        df['m2_construido'] = pd.cut(df['m2_construido'], bins=bins, labels=labels, right=False)\n",
    "\n",
    "        # Agrupar y contar los datos\n",
    "        tabla = df.groupby(['segmento', 'm2_construido']).size().unstack(fill_value=0)\n",
    "\n",
    "        # Imprimir el nombre del DataFrame y la tabla resultante\n",
    "        print(f\"Nombre del DataFrame: {dataframes_name[i]}\")\n",
    "        print(tabla)\n",
    "\n",
    "# Procesar los DataFrames de la lista\n",
    "procesar_dataframes(dataframes_list, dataframes_name)"
   ]
  },
  {
   "cell_type": "markdown",
   "metadata": {},
   "source": [
    "## Tabla general de frecuencia\n",
    " Recuento total de filas para cada combinación de valores únicos de 'segmento' y 'm2_contruido' con todos los DataFrame"
   ]
  },
  {
   "cell_type": "code",
   "execution_count": 8,
   "metadata": {},
   "outputs": [
    {
     "name": "stdout",
     "output_type": "stream",
     "text": [
      "Tabla general de frecuencia:\n",
      "m2_construido  0-100  100-150  150-200  200-250  250-300  300+\n",
      "segmento                                                      \n",
      "A                0.0      3.0     18.0     40.0      6.0  33.0\n",
      "B                3.0     44.0     38.0     37.0      4.0  11.0\n",
      "C               16.0     84.0     74.0     30.0     11.0  24.0\n",
      "D              205.0    219.0     42.0     27.0      5.0  20.0\n",
      "E              258.0    113.0     86.0    103.0     75.0  54.0\n",
      "L                0.0      0.0      0.0      0.0      0.0   4.0\n",
      "S                2.0      0.0     13.0     33.0      8.0  79.0\n"
     ]
    },
    {
     "name": "stderr",
     "output_type": "stream",
     "text": [
      "C:\\Users\\yoe11\\AppData\\Local\\Temp\\ipykernel_17532\\470711682.py:9: FutureWarning: The default of observed=False is deprecated and will be changed to True in a future version of pandas. Pass observed=False to retain current behavior or observed=True to adopt the future default and silence this warning.\n",
      "  tabla_actual = df.groupby(['segmento', 'm2_construido']).size().unstack(fill_value=0)\n",
      "C:\\Users\\yoe11\\AppData\\Local\\Temp\\ipykernel_17532\\470711682.py:9: FutureWarning: The default of observed=False is deprecated and will be changed to True in a future version of pandas. Pass observed=False to retain current behavior or observed=True to adopt the future default and silence this warning.\n",
      "  tabla_actual = df.groupby(['segmento', 'm2_construido']).size().unstack(fill_value=0)\n",
      "C:\\Users\\yoe11\\AppData\\Local\\Temp\\ipykernel_17532\\470711682.py:9: FutureWarning: The default of observed=False is deprecated and will be changed to True in a future version of pandas. Pass observed=False to retain current behavior or observed=True to adopt the future default and silence this warning.\n",
      "  tabla_actual = df.groupby(['segmento', 'm2_construido']).size().unstack(fill_value=0)\n",
      "C:\\Users\\yoe11\\AppData\\Local\\Temp\\ipykernel_17532\\470711682.py:9: FutureWarning: The default of observed=False is deprecated and will be changed to True in a future version of pandas. Pass observed=False to retain current behavior or observed=True to adopt the future default and silence this warning.\n",
      "  tabla_actual = df.groupby(['segmento', 'm2_construido']).size().unstack(fill_value=0)\n",
      "C:\\Users\\yoe11\\AppData\\Local\\Temp\\ipykernel_17532\\470711682.py:9: FutureWarning: The default of observed=False is deprecated and will be changed to True in a future version of pandas. Pass observed=False to retain current behavior or observed=True to adopt the future default and silence this warning.\n",
      "  tabla_actual = df.groupby(['segmento', 'm2_construido']).size().unstack(fill_value=0)\n",
      "C:\\Users\\yoe11\\AppData\\Local\\Temp\\ipykernel_17532\\470711682.py:9: FutureWarning: The default of observed=False is deprecated and will be changed to True in a future version of pandas. Pass observed=False to retain current behavior or observed=True to adopt the future default and silence this warning.\n",
      "  tabla_actual = df.groupby(['segmento', 'm2_construido']).size().unstack(fill_value=0)\n",
      "C:\\Users\\yoe11\\AppData\\Local\\Temp\\ipykernel_17532\\470711682.py:9: FutureWarning: The default of observed=False is deprecated and will be changed to True in a future version of pandas. Pass observed=False to retain current behavior or observed=True to adopt the future default and silence this warning.\n",
      "  tabla_actual = df.groupby(['segmento', 'm2_construido']).size().unstack(fill_value=0)\n",
      "C:\\Users\\yoe11\\AppData\\Local\\Temp\\ipykernel_17532\\470711682.py:9: FutureWarning: The default of observed=False is deprecated and will be changed to True in a future version of pandas. Pass observed=False to retain current behavior or observed=True to adopt the future default and silence this warning.\n",
      "  tabla_actual = df.groupby(['segmento', 'm2_construido']).size().unstack(fill_value=0)\n",
      "C:\\Users\\yoe11\\AppData\\Local\\Temp\\ipykernel_17532\\470711682.py:9: FutureWarning: The default of observed=False is deprecated and will be changed to True in a future version of pandas. Pass observed=False to retain current behavior or observed=True to adopt the future default and silence this warning.\n",
      "  tabla_actual = df.groupby(['segmento', 'm2_construido']).size().unstack(fill_value=0)\n",
      "C:\\Users\\yoe11\\AppData\\Local\\Temp\\ipykernel_17532\\470711682.py:9: FutureWarning: The default of observed=False is deprecated and will be changed to True in a future version of pandas. Pass observed=False to retain current behavior or observed=True to adopt the future default and silence this warning.\n",
      "  tabla_actual = df.groupby(['segmento', 'm2_construido']).size().unstack(fill_value=0)\n",
      "C:\\Users\\yoe11\\AppData\\Local\\Temp\\ipykernel_17532\\470711682.py:9: FutureWarning: The default of observed=False is deprecated and will be changed to True in a future version of pandas. Pass observed=False to retain current behavior or observed=True to adopt the future default and silence this warning.\n",
      "  tabla_actual = df.groupby(['segmento', 'm2_construido']).size().unstack(fill_value=0)\n",
      "C:\\Users\\yoe11\\AppData\\Local\\Temp\\ipykernel_17532\\470711682.py:9: FutureWarning: The default of observed=False is deprecated and will be changed to True in a future version of pandas. Pass observed=False to retain current behavior or observed=True to adopt the future default and silence this warning.\n",
      "  tabla_actual = df.groupby(['segmento', 'm2_construido']).size().unstack(fill_value=0)\n",
      "C:\\Users\\yoe11\\AppData\\Local\\Temp\\ipykernel_17532\\470711682.py:9: FutureWarning: The default of observed=False is deprecated and will be changed to True in a future version of pandas. Pass observed=False to retain current behavior or observed=True to adopt the future default and silence this warning.\n",
      "  tabla_actual = df.groupby(['segmento', 'm2_construido']).size().unstack(fill_value=0)\n",
      "C:\\Users\\yoe11\\AppData\\Local\\Temp\\ipykernel_17532\\470711682.py:9: FutureWarning: The default of observed=False is deprecated and will be changed to True in a future version of pandas. Pass observed=False to retain current behavior or observed=True to adopt the future default and silence this warning.\n",
      "  tabla_actual = df.groupby(['segmento', 'm2_construido']).size().unstack(fill_value=0)\n",
      "C:\\Users\\yoe11\\AppData\\Local\\Temp\\ipykernel_17532\\470711682.py:9: FutureWarning: The default of observed=False is deprecated and will be changed to True in a future version of pandas. Pass observed=False to retain current behavior or observed=True to adopt the future default and silence this warning.\n",
      "  tabla_actual = df.groupby(['segmento', 'm2_construido']).size().unstack(fill_value=0)\n",
      "C:\\Users\\yoe11\\AppData\\Local\\Temp\\ipykernel_17532\\470711682.py:9: FutureWarning: The default of observed=False is deprecated and will be changed to True in a future version of pandas. Pass observed=False to retain current behavior or observed=True to adopt the future default and silence this warning.\n",
      "  tabla_actual = df.groupby(['segmento', 'm2_construido']).size().unstack(fill_value=0)\n"
     ]
    }
   ],
   "source": [
    "# Crear una nueva función para sumar las tablas de todos los DataFrames\n",
    "def sumar_tablas(dataframes_list):\n",
    "    # Inicializar una tabla vacía para almacenar la suma\n",
    "    tabla_suma = None\n",
    "    \n",
    "    # Iterar sobre cada DataFrame en la lista\n",
    "    for df in dataframes_list:\n",
    "        # Agrupar y contar los datos en el DataFrame actual\n",
    "        tabla_actual = df.groupby(['segmento', 'm2_construido']).size().unstack(fill_value=0)\n",
    "        \n",
    "        # Sumar la tabla actual al acumulador (tabla_suma)\n",
    "        if tabla_suma is None:\n",
    "            tabla_suma = tabla_actual\n",
    "        else:\n",
    "            tabla_suma = tabla_suma.add(tabla_actual, fill_value=0)\n",
    "    \n",
    "    # Imprimir la tabla resultante de la suma\n",
    "    print(\"Tabla general de frecuencia:\")\n",
    "    print(tabla_suma)\n",
    "\n",
    "# Llamar a la función sumar_tablas con la lista de DataFrames como argumento\n",
    "sumar_tablas(dataframes_list)"
   ]
  },
  {
   "cell_type": "code",
   "execution_count": 9,
   "metadata": {},
   "outputs": [
    {
     "name": "stderr",
     "output_type": "stream",
     "text": [
      "C:\\Users\\yoe11\\AppData\\Local\\Temp\\ipykernel_17532\\3621940917.py:7: FutureWarning: The default of observed=False is deprecated and will be changed to True in a future version of pandas. Pass observed=False to retain current behavior or observed=True to adopt the future default and silence this warning.\n",
      "  tabla_actual = df.groupby(['m2_construido', 'segmento']).size().unstack(fill_value=0)\n",
      "C:\\Users\\yoe11\\AppData\\Local\\Temp\\ipykernel_17532\\3621940917.py:7: FutureWarning: The default of observed=False is deprecated and will be changed to True in a future version of pandas. Pass observed=False to retain current behavior or observed=True to adopt the future default and silence this warning.\n",
      "  tabla_actual = df.groupby(['m2_construido', 'segmento']).size().unstack(fill_value=0)\n",
      "C:\\Users\\yoe11\\AppData\\Local\\Temp\\ipykernel_17532\\3621940917.py:7: FutureWarning: The default of observed=False is deprecated and will be changed to True in a future version of pandas. Pass observed=False to retain current behavior or observed=True to adopt the future default and silence this warning.\n",
      "  tabla_actual = df.groupby(['m2_construido', 'segmento']).size().unstack(fill_value=0)\n",
      "C:\\Users\\yoe11\\AppData\\Local\\Temp\\ipykernel_17532\\3621940917.py:7: FutureWarning: The default of observed=False is deprecated and will be changed to True in a future version of pandas. Pass observed=False to retain current behavior or observed=True to adopt the future default and silence this warning.\n",
      "  tabla_actual = df.groupby(['m2_construido', 'segmento']).size().unstack(fill_value=0)\n",
      "C:\\Users\\yoe11\\AppData\\Local\\Temp\\ipykernel_17532\\3621940917.py:7: FutureWarning: The default of observed=False is deprecated and will be changed to True in a future version of pandas. Pass observed=False to retain current behavior or observed=True to adopt the future default and silence this warning.\n",
      "  tabla_actual = df.groupby(['m2_construido', 'segmento']).size().unstack(fill_value=0)\n",
      "C:\\Users\\yoe11\\AppData\\Local\\Temp\\ipykernel_17532\\3621940917.py:7: FutureWarning: The default of observed=False is deprecated and will be changed to True in a future version of pandas. Pass observed=False to retain current behavior or observed=True to adopt the future default and silence this warning.\n",
      "  tabla_actual = df.groupby(['m2_construido', 'segmento']).size().unstack(fill_value=0)\n",
      "C:\\Users\\yoe11\\AppData\\Local\\Temp\\ipykernel_17532\\3621940917.py:7: FutureWarning: The default of observed=False is deprecated and will be changed to True in a future version of pandas. Pass observed=False to retain current behavior or observed=True to adopt the future default and silence this warning.\n",
      "  tabla_actual = df.groupby(['m2_construido', 'segmento']).size().unstack(fill_value=0)\n",
      "C:\\Users\\yoe11\\AppData\\Local\\Temp\\ipykernel_17532\\3621940917.py:7: FutureWarning: The default of observed=False is deprecated and will be changed to True in a future version of pandas. Pass observed=False to retain current behavior or observed=True to adopt the future default and silence this warning.\n",
      "  tabla_actual = df.groupby(['m2_construido', 'segmento']).size().unstack(fill_value=0)\n",
      "C:\\Users\\yoe11\\AppData\\Local\\Temp\\ipykernel_17532\\3621940917.py:7: FutureWarning: The default of observed=False is deprecated and will be changed to True in a future version of pandas. Pass observed=False to retain current behavior or observed=True to adopt the future default and silence this warning.\n",
      "  tabla_actual = df.groupby(['m2_construido', 'segmento']).size().unstack(fill_value=0)\n",
      "C:\\Users\\yoe11\\AppData\\Local\\Temp\\ipykernel_17532\\3621940917.py:7: FutureWarning: The default of observed=False is deprecated and will be changed to True in a future version of pandas. Pass observed=False to retain current behavior or observed=True to adopt the future default and silence this warning.\n",
      "  tabla_actual = df.groupby(['m2_construido', 'segmento']).size().unstack(fill_value=0)\n",
      "C:\\Users\\yoe11\\AppData\\Local\\Temp\\ipykernel_17532\\3621940917.py:7: FutureWarning: The default of observed=False is deprecated and will be changed to True in a future version of pandas. Pass observed=False to retain current behavior or observed=True to adopt the future default and silence this warning.\n",
      "  tabla_actual = df.groupby(['m2_construido', 'segmento']).size().unstack(fill_value=0)\n",
      "C:\\Users\\yoe11\\AppData\\Local\\Temp\\ipykernel_17532\\3621940917.py:7: FutureWarning: The default of observed=False is deprecated and will be changed to True in a future version of pandas. Pass observed=False to retain current behavior or observed=True to adopt the future default and silence this warning.\n",
      "  tabla_actual = df.groupby(['m2_construido', 'segmento']).size().unstack(fill_value=0)\n",
      "C:\\Users\\yoe11\\AppData\\Local\\Temp\\ipykernel_17532\\3621940917.py:7: FutureWarning: The default of observed=False is deprecated and will be changed to True in a future version of pandas. Pass observed=False to retain current behavior or observed=True to adopt the future default and silence this warning.\n",
      "  tabla_actual = df.groupby(['m2_construido', 'segmento']).size().unstack(fill_value=0)\n",
      "C:\\Users\\yoe11\\AppData\\Local\\Temp\\ipykernel_17532\\3621940917.py:7: FutureWarning: The default of observed=False is deprecated and will be changed to True in a future version of pandas. Pass observed=False to retain current behavior or observed=True to adopt the future default and silence this warning.\n",
      "  tabla_actual = df.groupby(['m2_construido', 'segmento']).size().unstack(fill_value=0)\n",
      "C:\\Users\\yoe11\\AppData\\Local\\Temp\\ipykernel_17532\\3621940917.py:7: FutureWarning: The default of observed=False is deprecated and will be changed to True in a future version of pandas. Pass observed=False to retain current behavior or observed=True to adopt the future default and silence this warning.\n",
      "  tabla_actual = df.groupby(['m2_construido', 'segmento']).size().unstack(fill_value=0)\n",
      "C:\\Users\\yoe11\\AppData\\Local\\Temp\\ipykernel_17532\\3621940917.py:7: FutureWarning: The default of observed=False is deprecated and will be changed to True in a future version of pandas. Pass observed=False to retain current behavior or observed=True to adopt the future default and silence this warning.\n",
      "  tabla_actual = df.groupby(['m2_construido', 'segmento']).size().unstack(fill_value=0)\n"
     ]
    },
    {
     "name": "stdout",
     "output_type": "stream",
     "text": [
      "Tabla general de frecuencia:\n",
      "segmento        A   B   C    D    E    L   S\n",
      "m2_construido                               \n",
      "0-100           0   3  16  205  258  0.0   2\n",
      "100-150         3  44  84  219  113  0.0   0\n",
      "150-200        18  38  74   42   86  0.0  13\n",
      "200-250        40  37  30   27  103  0.0  33\n",
      "250-300         6   4  11    5   75  0.0   8\n",
      "300+           33  11  24   20   54  4.0  79\n"
     ]
    },
    {
     "data": {
      "application/vnd.plotly.v1+json": {
       "config": {
        "plotlyServerURL": "https://plot.ly"
       },
       "data": [
        {
         "marker": {
          "color": "#2962ff"
         },
         "name": "0-100",
         "type": "bar",
         "x": [
          "A",
          "B",
          "C",
          "D",
          "E",
          "L",
          "S"
         ],
         "y": [
          0,
          3,
          16,
          205,
          258,
          0,
          2
         ]
        },
        {
         "marker": {
          "color": "#9500ff"
         },
         "name": "100-150",
         "type": "bar",
         "x": [
          "A",
          "B",
          "C",
          "D",
          "E",
          "L",
          "S"
         ],
         "y": [
          3,
          44,
          84,
          219,
          113,
          0,
          0
         ]
        },
        {
         "marker": {
          "color": "#ff0059"
         },
         "name": "150-200",
         "type": "bar",
         "x": [
          "A",
          "B",
          "C",
          "D",
          "E",
          "L",
          "S"
         ],
         "y": [
          18,
          38,
          74,
          42,
          86,
          0,
          13
         ]
        },
        {
         "marker": {
          "color": "#ff8c00"
         },
         "name": "200-250",
         "type": "bar",
         "x": [
          "A",
          "B",
          "C",
          "D",
          "E",
          "L",
          "S"
         ],
         "y": [
          40,
          37,
          30,
          27,
          103,
          0,
          33
         ]
        },
        {
         "marker": {
          "color": "#b4e600"
         },
         "name": "250-300",
         "type": "bar",
         "x": [
          "A",
          "B",
          "C",
          "D",
          "E",
          "L",
          "S"
         ],
         "y": [
          6,
          4,
          11,
          5,
          75,
          0,
          8
         ]
        },
        {
         "marker": {
          "color": "#2EC2A2"
         },
         "name": "300+",
         "type": "bar",
         "x": [
          "A",
          "B",
          "C",
          "D",
          "E",
          "L",
          "S"
         ],
         "y": [
          33,
          11,
          24,
          20,
          54,
          4,
          79
         ]
        }
       ],
       "layout": {
        "barmode": "group",
        "legend": {
         "orientation": "h",
         "title": {
          "text": "Rango de M2"
         },
         "x": 1,
         "xanchor": "right",
         "y": 1.02,
         "yanchor": "bottom"
        },
        "margin": {
         "b": 10,
         "l": 10,
         "r": 10,
         "t": 10
        },
        "plot_bgcolor": "rgba(0,0,0,0)",
        "template": {
         "data": {
          "bar": [
           {
            "error_x": {
             "color": "#2a3f5f"
            },
            "error_y": {
             "color": "#2a3f5f"
            },
            "marker": {
             "line": {
              "color": "#E5ECF6",
              "width": 0.5
             },
             "pattern": {
              "fillmode": "overlay",
              "size": 10,
              "solidity": 0.2
             }
            },
            "type": "bar"
           }
          ],
          "barpolar": [
           {
            "marker": {
             "line": {
              "color": "#E5ECF6",
              "width": 0.5
             },
             "pattern": {
              "fillmode": "overlay",
              "size": 10,
              "solidity": 0.2
             }
            },
            "type": "barpolar"
           }
          ],
          "carpet": [
           {
            "aaxis": {
             "endlinecolor": "#2a3f5f",
             "gridcolor": "white",
             "linecolor": "white",
             "minorgridcolor": "white",
             "startlinecolor": "#2a3f5f"
            },
            "baxis": {
             "endlinecolor": "#2a3f5f",
             "gridcolor": "white",
             "linecolor": "white",
             "minorgridcolor": "white",
             "startlinecolor": "#2a3f5f"
            },
            "type": "carpet"
           }
          ],
          "choropleth": [
           {
            "colorbar": {
             "outlinewidth": 0,
             "ticks": ""
            },
            "type": "choropleth"
           }
          ],
          "contour": [
           {
            "colorbar": {
             "outlinewidth": 0,
             "ticks": ""
            },
            "colorscale": [
             [
              0,
              "#0d0887"
             ],
             [
              0.1111111111111111,
              "#46039f"
             ],
             [
              0.2222222222222222,
              "#7201a8"
             ],
             [
              0.3333333333333333,
              "#9c179e"
             ],
             [
              0.4444444444444444,
              "#bd3786"
             ],
             [
              0.5555555555555556,
              "#d8576b"
             ],
             [
              0.6666666666666666,
              "#ed7953"
             ],
             [
              0.7777777777777778,
              "#fb9f3a"
             ],
             [
              0.8888888888888888,
              "#fdca26"
             ],
             [
              1,
              "#f0f921"
             ]
            ],
            "type": "contour"
           }
          ],
          "contourcarpet": [
           {
            "colorbar": {
             "outlinewidth": 0,
             "ticks": ""
            },
            "type": "contourcarpet"
           }
          ],
          "heatmap": [
           {
            "colorbar": {
             "outlinewidth": 0,
             "ticks": ""
            },
            "colorscale": [
             [
              0,
              "#0d0887"
             ],
             [
              0.1111111111111111,
              "#46039f"
             ],
             [
              0.2222222222222222,
              "#7201a8"
             ],
             [
              0.3333333333333333,
              "#9c179e"
             ],
             [
              0.4444444444444444,
              "#bd3786"
             ],
             [
              0.5555555555555556,
              "#d8576b"
             ],
             [
              0.6666666666666666,
              "#ed7953"
             ],
             [
              0.7777777777777778,
              "#fb9f3a"
             ],
             [
              0.8888888888888888,
              "#fdca26"
             ],
             [
              1,
              "#f0f921"
             ]
            ],
            "type": "heatmap"
           }
          ],
          "heatmapgl": [
           {
            "colorbar": {
             "outlinewidth": 0,
             "ticks": ""
            },
            "colorscale": [
             [
              0,
              "#0d0887"
             ],
             [
              0.1111111111111111,
              "#46039f"
             ],
             [
              0.2222222222222222,
              "#7201a8"
             ],
             [
              0.3333333333333333,
              "#9c179e"
             ],
             [
              0.4444444444444444,
              "#bd3786"
             ],
             [
              0.5555555555555556,
              "#d8576b"
             ],
             [
              0.6666666666666666,
              "#ed7953"
             ],
             [
              0.7777777777777778,
              "#fb9f3a"
             ],
             [
              0.8888888888888888,
              "#fdca26"
             ],
             [
              1,
              "#f0f921"
             ]
            ],
            "type": "heatmapgl"
           }
          ],
          "histogram": [
           {
            "marker": {
             "pattern": {
              "fillmode": "overlay",
              "size": 10,
              "solidity": 0.2
             }
            },
            "type": "histogram"
           }
          ],
          "histogram2d": [
           {
            "colorbar": {
             "outlinewidth": 0,
             "ticks": ""
            },
            "colorscale": [
             [
              0,
              "#0d0887"
             ],
             [
              0.1111111111111111,
              "#46039f"
             ],
             [
              0.2222222222222222,
              "#7201a8"
             ],
             [
              0.3333333333333333,
              "#9c179e"
             ],
             [
              0.4444444444444444,
              "#bd3786"
             ],
             [
              0.5555555555555556,
              "#d8576b"
             ],
             [
              0.6666666666666666,
              "#ed7953"
             ],
             [
              0.7777777777777778,
              "#fb9f3a"
             ],
             [
              0.8888888888888888,
              "#fdca26"
             ],
             [
              1,
              "#f0f921"
             ]
            ],
            "type": "histogram2d"
           }
          ],
          "histogram2dcontour": [
           {
            "colorbar": {
             "outlinewidth": 0,
             "ticks": ""
            },
            "colorscale": [
             [
              0,
              "#0d0887"
             ],
             [
              0.1111111111111111,
              "#46039f"
             ],
             [
              0.2222222222222222,
              "#7201a8"
             ],
             [
              0.3333333333333333,
              "#9c179e"
             ],
             [
              0.4444444444444444,
              "#bd3786"
             ],
             [
              0.5555555555555556,
              "#d8576b"
             ],
             [
              0.6666666666666666,
              "#ed7953"
             ],
             [
              0.7777777777777778,
              "#fb9f3a"
             ],
             [
              0.8888888888888888,
              "#fdca26"
             ],
             [
              1,
              "#f0f921"
             ]
            ],
            "type": "histogram2dcontour"
           }
          ],
          "mesh3d": [
           {
            "colorbar": {
             "outlinewidth": 0,
             "ticks": ""
            },
            "type": "mesh3d"
           }
          ],
          "parcoords": [
           {
            "line": {
             "colorbar": {
              "outlinewidth": 0,
              "ticks": ""
             }
            },
            "type": "parcoords"
           }
          ],
          "pie": [
           {
            "automargin": true,
            "type": "pie"
           }
          ],
          "scatter": [
           {
            "fillpattern": {
             "fillmode": "overlay",
             "size": 10,
             "solidity": 0.2
            },
            "type": "scatter"
           }
          ],
          "scatter3d": [
           {
            "line": {
             "colorbar": {
              "outlinewidth": 0,
              "ticks": ""
             }
            },
            "marker": {
             "colorbar": {
              "outlinewidth": 0,
              "ticks": ""
             }
            },
            "type": "scatter3d"
           }
          ],
          "scattercarpet": [
           {
            "marker": {
             "colorbar": {
              "outlinewidth": 0,
              "ticks": ""
             }
            },
            "type": "scattercarpet"
           }
          ],
          "scattergeo": [
           {
            "marker": {
             "colorbar": {
              "outlinewidth": 0,
              "ticks": ""
             }
            },
            "type": "scattergeo"
           }
          ],
          "scattergl": [
           {
            "marker": {
             "colorbar": {
              "outlinewidth": 0,
              "ticks": ""
             }
            },
            "type": "scattergl"
           }
          ],
          "scattermapbox": [
           {
            "marker": {
             "colorbar": {
              "outlinewidth": 0,
              "ticks": ""
             }
            },
            "type": "scattermapbox"
           }
          ],
          "scatterpolar": [
           {
            "marker": {
             "colorbar": {
              "outlinewidth": 0,
              "ticks": ""
             }
            },
            "type": "scatterpolar"
           }
          ],
          "scatterpolargl": [
           {
            "marker": {
             "colorbar": {
              "outlinewidth": 0,
              "ticks": ""
             }
            },
            "type": "scatterpolargl"
           }
          ],
          "scatterternary": [
           {
            "marker": {
             "colorbar": {
              "outlinewidth": 0,
              "ticks": ""
             }
            },
            "type": "scatterternary"
           }
          ],
          "surface": [
           {
            "colorbar": {
             "outlinewidth": 0,
             "ticks": ""
            },
            "colorscale": [
             [
              0,
              "#0d0887"
             ],
             [
              0.1111111111111111,
              "#46039f"
             ],
             [
              0.2222222222222222,
              "#7201a8"
             ],
             [
              0.3333333333333333,
              "#9c179e"
             ],
             [
              0.4444444444444444,
              "#bd3786"
             ],
             [
              0.5555555555555556,
              "#d8576b"
             ],
             [
              0.6666666666666666,
              "#ed7953"
             ],
             [
              0.7777777777777778,
              "#fb9f3a"
             ],
             [
              0.8888888888888888,
              "#fdca26"
             ],
             [
              1,
              "#f0f921"
             ]
            ],
            "type": "surface"
           }
          ],
          "table": [
           {
            "cells": {
             "fill": {
              "color": "#EBF0F8"
             },
             "line": {
              "color": "white"
             }
            },
            "header": {
             "fill": {
              "color": "#C8D4E3"
             },
             "line": {
              "color": "white"
             }
            },
            "type": "table"
           }
          ]
         },
         "layout": {
          "annotationdefaults": {
           "arrowcolor": "#2a3f5f",
           "arrowhead": 0,
           "arrowwidth": 1
          },
          "autotypenumbers": "strict",
          "coloraxis": {
           "colorbar": {
            "outlinewidth": 0,
            "ticks": ""
           }
          },
          "colorscale": {
           "diverging": [
            [
             0,
             "#8e0152"
            ],
            [
             0.1,
             "#c51b7d"
            ],
            [
             0.2,
             "#de77ae"
            ],
            [
             0.3,
             "#f1b6da"
            ],
            [
             0.4,
             "#fde0ef"
            ],
            [
             0.5,
             "#f7f7f7"
            ],
            [
             0.6,
             "#e6f5d0"
            ],
            [
             0.7,
             "#b8e186"
            ],
            [
             0.8,
             "#7fbc41"
            ],
            [
             0.9,
             "#4d9221"
            ],
            [
             1,
             "#276419"
            ]
           ],
           "sequential": [
            [
             0,
             "#0d0887"
            ],
            [
             0.1111111111111111,
             "#46039f"
            ],
            [
             0.2222222222222222,
             "#7201a8"
            ],
            [
             0.3333333333333333,
             "#9c179e"
            ],
            [
             0.4444444444444444,
             "#bd3786"
            ],
            [
             0.5555555555555556,
             "#d8576b"
            ],
            [
             0.6666666666666666,
             "#ed7953"
            ],
            [
             0.7777777777777778,
             "#fb9f3a"
            ],
            [
             0.8888888888888888,
             "#fdca26"
            ],
            [
             1,
             "#f0f921"
            ]
           ],
           "sequentialminus": [
            [
             0,
             "#0d0887"
            ],
            [
             0.1111111111111111,
             "#46039f"
            ],
            [
             0.2222222222222222,
             "#7201a8"
            ],
            [
             0.3333333333333333,
             "#9c179e"
            ],
            [
             0.4444444444444444,
             "#bd3786"
            ],
            [
             0.5555555555555556,
             "#d8576b"
            ],
            [
             0.6666666666666666,
             "#ed7953"
            ],
            [
             0.7777777777777778,
             "#fb9f3a"
            ],
            [
             0.8888888888888888,
             "#fdca26"
            ],
            [
             1,
             "#f0f921"
            ]
           ]
          },
          "colorway": [
           "#636efa",
           "#EF553B",
           "#00cc96",
           "#ab63fa",
           "#FFA15A",
           "#19d3f3",
           "#FF6692",
           "#B6E880",
           "#FF97FF",
           "#FECB52"
          ],
          "font": {
           "color": "#2a3f5f"
          },
          "geo": {
           "bgcolor": "white",
           "lakecolor": "white",
           "landcolor": "#E5ECF6",
           "showlakes": true,
           "showland": true,
           "subunitcolor": "white"
          },
          "hoverlabel": {
           "align": "left"
          },
          "hovermode": "closest",
          "mapbox": {
           "style": "light"
          },
          "paper_bgcolor": "white",
          "plot_bgcolor": "#E5ECF6",
          "polar": {
           "angularaxis": {
            "gridcolor": "white",
            "linecolor": "white",
            "ticks": ""
           },
           "bgcolor": "#E5ECF6",
           "radialaxis": {
            "gridcolor": "white",
            "linecolor": "white",
            "ticks": ""
           }
          },
          "scene": {
           "xaxis": {
            "backgroundcolor": "#E5ECF6",
            "gridcolor": "white",
            "gridwidth": 2,
            "linecolor": "white",
            "showbackground": true,
            "ticks": "",
            "zerolinecolor": "white"
           },
           "yaxis": {
            "backgroundcolor": "#E5ECF6",
            "gridcolor": "white",
            "gridwidth": 2,
            "linecolor": "white",
            "showbackground": true,
            "ticks": "",
            "zerolinecolor": "white"
           },
           "zaxis": {
            "backgroundcolor": "#E5ECF6",
            "gridcolor": "white",
            "gridwidth": 2,
            "linecolor": "white",
            "showbackground": true,
            "ticks": "",
            "zerolinecolor": "white"
           }
          },
          "shapedefaults": {
           "line": {
            "color": "#2a3f5f"
           }
          },
          "ternary": {
           "aaxis": {
            "gridcolor": "white",
            "linecolor": "white",
            "ticks": ""
           },
           "baxis": {
            "gridcolor": "white",
            "linecolor": "white",
            "ticks": ""
           },
           "bgcolor": "#E5ECF6",
           "caxis": {
            "gridcolor": "white",
            "linecolor": "white",
            "ticks": ""
           }
          },
          "title": {
           "x": 0.05
          },
          "xaxis": {
           "automargin": true,
           "gridcolor": "white",
           "linecolor": "white",
           "ticks": "",
           "title": {
            "standoff": 15
           },
           "zerolinecolor": "white",
           "zerolinewidth": 2
          },
          "yaxis": {
           "automargin": true,
           "gridcolor": "white",
           "linecolor": "white",
           "ticks": "",
           "title": {
            "standoff": 15
           },
           "zerolinecolor": "white",
           "zerolinewidth": 2
          }
         }
        },
        "xaxis": {
         "title": {
          "text": "Segmento"
         }
        },
        "yaxis": {
         "gridcolor": "#dddcda",
         "gridwidth": 1,
         "title": {
          "text": "Número de casas"
         }
        }
       }
      }
     },
     "metadata": {},
     "output_type": "display_data"
    }
   ],
   "source": [
    "orden_segmentos=[\"E\", \"D\", \"C\", \"B\",\"A\", \"S\", ]#\"L\",'ELITE' \n",
    "\n",
    "def sumar_tablas(dataframes_list):\n",
    "    tabla_suma = None\n",
    "    \n",
    "    for df in dataframes_list:\n",
    "        tabla_actual = df.groupby(['m2_construido', 'segmento']).size().unstack(fill_value=0)\n",
    "        \n",
    "        if tabla_suma is None:\n",
    "            tabla_suma = tabla_actual\n",
    "        else:\n",
    "            tabla_suma = tabla_suma.add(tabla_actual, fill_value=0)\n",
    "    \n",
    "    print(\"Tabla general de frecuencia:\")\n",
    "    print(tabla_suma)\n",
    "    \n",
    "    fig = graficar_tabla(tabla_suma)\n",
    "    \n",
    "    # Guardar la gráfica como archivo HTML\n",
    "    guardar_grafico_como_html(fig, 'g_bar_dist_m2_construidos', carpeta='assets/graficas')\n",
    "    \n",
    "    return fig\n",
    "\n",
    "colores = ['#2962ff', '#9500ff', '#ff0059', '#ff8c00', '#b4e600', '#2EC2A2','#E50CB6','#4225CF','#2CBA4D']\n",
    "\n",
    "def graficar_tabla(tabla):  \n",
    "    segmentos = tabla.index\n",
    "    banos = tabla.columns\n",
    "    \n",
    "    fig = go.Figure()\n",
    "    \n",
    "    for i, segmento in enumerate(segmentos):\n",
    "        color = colores[i % len(colores)]\n",
    "        fig.add_trace(go.Bar(\n",
    "            x=banos,\n",
    "            y=tabla.loc[segmento],\n",
    "            name=segmento,\n",
    "            marker_color=color\n",
    "        ))\n",
    "    \n",
    "    fig.update_layout(\n",
    "        xaxis_title=\"Segmento\",        \n",
    "        yaxis=dict(\n",
    "            title='Número de casas',\n",
    "            gridcolor='#dddcda',\n",
    "            gridwidth=1,\n",
    "        ),\n",
    "        legend_title=\"Rango de M2\",\n",
    "        barmode='group',\n",
    "        legend=dict(\n",
    "            orientation='h',  # Orientación horizontal de la leyenda\n",
    "            yanchor='bottom',  # Anclar al borde inferior\n",
    "            y=1.02,\n",
    "            xanchor='right',\n",
    "            x=1\n",
    "        ),\n",
    "        plot_bgcolor='rgba(0,0,0,0)',  # Color de fondo del gráfico\n",
    "        margin=dict(l=10, r=10, t=10, b=10) # Ajusta los márgenes (left, right, top, bottom)\n",
    "    )    \n",
    "    \n",
    "    fig.show()    \n",
    "    return fig\n",
    "\n",
    "def guardar_grafico_como_html(fig, nombre_archivo, carpeta='assets/graficas'):\n",
    "    # Crear la carpeta si no existe\n",
    "    if not os.path.exists(carpeta):\n",
    "        os.makedirs(carpeta)\n",
    "    \n",
    "    \n",
    "    # Configuración personalizada para la gráfica\n",
    "    config = {\n",
    "        'displaylogo': False,  # Ocultar el logo de Plotly\n",
    "        'modeBarButtonsToRemove': [\n",
    "            'toImage',       # Botón para guardar como imagen\n",
    "            'select2d',      # Box select\n",
    "            'lasso2d',       # Lasso select\n",
    "            'resetScale2d',  # Reset Axes\n",
    "        ]\n",
    "    }\n",
    "\n",
    "    # Guardar la gráfica como archivo HTML\n",
    "    pio.write_html(fig, f'{carpeta}/{nombre_archivo}.html', config=config)\n",
    "\n",
    "# Llamar a la función sumar_tablas con la lista de DataFrames como argumento\n",
    "fig = sumar_tablas(dataframes_list)\n"
   ]
  },
  {
   "cell_type": "code",
   "execution_count": 10,
   "metadata": {},
   "outputs": [
    {
     "name": "stdout",
     "output_type": "stream",
     "text": [
      "Tabla general de frecuencia:\n",
      "m2_construido  0-100  100-150  150-200  200-250  250-300  300+\n",
      "segmento                                                      \n",
      "A                0.0      3.0     18.0     40.0      6.0  33.0\n",
      "B                3.0     44.0     38.0     37.0      4.0  11.0\n",
      "C               16.0     84.0     74.0     30.0     11.0  24.0\n",
      "D              205.0    219.0     42.0     27.0      5.0  20.0\n",
      "E              258.0    113.0     86.0    103.0     75.0  54.0\n",
      "L                0.0      0.0      0.0      0.0      0.0   4.0\n",
      "S                2.0      0.0     13.0     33.0      8.0  79.0\n"
     ]
    },
    {
     "name": "stderr",
     "output_type": "stream",
     "text": [
      "C:\\Users\\yoe11\\AppData\\Local\\Temp\\ipykernel_17532\\1265646796.py:14: FutureWarning:\n",
      "\n",
      "The default of observed=False is deprecated and will be changed to True in a future version of pandas. Pass observed=False to retain current behavior or observed=True to adopt the future default and silence this warning.\n",
      "\n",
      "C:\\Users\\yoe11\\AppData\\Local\\Temp\\ipykernel_17532\\1265646796.py:14: FutureWarning:\n",
      "\n",
      "The default of observed=False is deprecated and will be changed to True in a future version of pandas. Pass observed=False to retain current behavior or observed=True to adopt the future default and silence this warning.\n",
      "\n",
      "C:\\Users\\yoe11\\AppData\\Local\\Temp\\ipykernel_17532\\1265646796.py:14: FutureWarning:\n",
      "\n",
      "The default of observed=False is deprecated and will be changed to True in a future version of pandas. Pass observed=False to retain current behavior or observed=True to adopt the future default and silence this warning.\n",
      "\n",
      "C:\\Users\\yoe11\\AppData\\Local\\Temp\\ipykernel_17532\\1265646796.py:14: FutureWarning:\n",
      "\n",
      "The default of observed=False is deprecated and will be changed to True in a future version of pandas. Pass observed=False to retain current behavior or observed=True to adopt the future default and silence this warning.\n",
      "\n",
      "C:\\Users\\yoe11\\AppData\\Local\\Temp\\ipykernel_17532\\1265646796.py:14: FutureWarning:\n",
      "\n",
      "The default of observed=False is deprecated and will be changed to True in a future version of pandas. Pass observed=False to retain current behavior or observed=True to adopt the future default and silence this warning.\n",
      "\n",
      "C:\\Users\\yoe11\\AppData\\Local\\Temp\\ipykernel_17532\\1265646796.py:14: FutureWarning:\n",
      "\n",
      "The default of observed=False is deprecated and will be changed to True in a future version of pandas. Pass observed=False to retain current behavior or observed=True to adopt the future default and silence this warning.\n",
      "\n",
      "C:\\Users\\yoe11\\AppData\\Local\\Temp\\ipykernel_17532\\1265646796.py:14: FutureWarning:\n",
      "\n",
      "The default of observed=False is deprecated and will be changed to True in a future version of pandas. Pass observed=False to retain current behavior or observed=True to adopt the future default and silence this warning.\n",
      "\n",
      "C:\\Users\\yoe11\\AppData\\Local\\Temp\\ipykernel_17532\\1265646796.py:14: FutureWarning:\n",
      "\n",
      "The default of observed=False is deprecated and will be changed to True in a future version of pandas. Pass observed=False to retain current behavior or observed=True to adopt the future default and silence this warning.\n",
      "\n",
      "C:\\Users\\yoe11\\AppData\\Local\\Temp\\ipykernel_17532\\1265646796.py:14: FutureWarning:\n",
      "\n",
      "The default of observed=False is deprecated and will be changed to True in a future version of pandas. Pass observed=False to retain current behavior or observed=True to adopt the future default and silence this warning.\n",
      "\n",
      "C:\\Users\\yoe11\\AppData\\Local\\Temp\\ipykernel_17532\\1265646796.py:14: FutureWarning:\n",
      "\n",
      "The default of observed=False is deprecated and will be changed to True in a future version of pandas. Pass observed=False to retain current behavior or observed=True to adopt the future default and silence this warning.\n",
      "\n",
      "C:\\Users\\yoe11\\AppData\\Local\\Temp\\ipykernel_17532\\1265646796.py:14: FutureWarning:\n",
      "\n",
      "The default of observed=False is deprecated and will be changed to True in a future version of pandas. Pass observed=False to retain current behavior or observed=True to adopt the future default and silence this warning.\n",
      "\n",
      "C:\\Users\\yoe11\\AppData\\Local\\Temp\\ipykernel_17532\\1265646796.py:14: FutureWarning:\n",
      "\n",
      "The default of observed=False is deprecated and will be changed to True in a future version of pandas. Pass observed=False to retain current behavior or observed=True to adopt the future default and silence this warning.\n",
      "\n",
      "C:\\Users\\yoe11\\AppData\\Local\\Temp\\ipykernel_17532\\1265646796.py:14: FutureWarning:\n",
      "\n",
      "The default of observed=False is deprecated and will be changed to True in a future version of pandas. Pass observed=False to retain current behavior or observed=True to adopt the future default and silence this warning.\n",
      "\n",
      "C:\\Users\\yoe11\\AppData\\Local\\Temp\\ipykernel_17532\\1265646796.py:14: FutureWarning:\n",
      "\n",
      "The default of observed=False is deprecated and will be changed to True in a future version of pandas. Pass observed=False to retain current behavior or observed=True to adopt the future default and silence this warning.\n",
      "\n",
      "C:\\Users\\yoe11\\AppData\\Local\\Temp\\ipykernel_17532\\1265646796.py:14: FutureWarning:\n",
      "\n",
      "The default of observed=False is deprecated and will be changed to True in a future version of pandas. Pass observed=False to retain current behavior or observed=True to adopt the future default and silence this warning.\n",
      "\n",
      "C:\\Users\\yoe11\\AppData\\Local\\Temp\\ipykernel_17532\\1265646796.py:14: FutureWarning:\n",
      "\n",
      "The default of observed=False is deprecated and will be changed to True in a future version of pandas. Pass observed=False to retain current behavior or observed=True to adopt the future default and silence this warning.\n",
      "\n"
     ]
    },
    {
     "data": {
      "application/vnd.plotly.v1+json": {
       "config": {
        "plotlyServerURL": "https://plot.ly"
       },
       "data": [
        {
         "marker": {
          "color": "#2962ff"
         },
         "name": "0-100",
         "type": "bar",
         "x": [
          "E",
          "D",
          "C",
          "B",
          "A",
          "S"
         ],
         "y": [
          258,
          205,
          16,
          3,
          0,
          2
         ]
        },
        {
         "marker": {
          "color": "#9500ff"
         },
         "name": "100-150",
         "type": "bar",
         "x": [
          "E",
          "D",
          "C",
          "B",
          "A",
          "S"
         ],
         "y": [
          113,
          219,
          84,
          44,
          3,
          0
         ]
        },
        {
         "marker": {
          "color": "#ff0059"
         },
         "name": "150-200",
         "type": "bar",
         "x": [
          "E",
          "D",
          "C",
          "B",
          "A",
          "S"
         ],
         "y": [
          86,
          42,
          74,
          38,
          18,
          13
         ]
        },
        {
         "marker": {
          "color": "#ff8c00"
         },
         "name": "200-250",
         "type": "bar",
         "x": [
          "E",
          "D",
          "C",
          "B",
          "A",
          "S"
         ],
         "y": [
          103,
          27,
          30,
          37,
          40,
          33
         ]
        },
        {
         "marker": {
          "color": "#b4e600"
         },
         "name": "250-300",
         "type": "bar",
         "x": [
          "E",
          "D",
          "C",
          "B",
          "A",
          "S"
         ],
         "y": [
          75,
          5,
          11,
          4,
          6,
          8
         ]
        },
        {
         "marker": {
          "color": "#2EC2A2"
         },
         "name": "300+",
         "type": "bar",
         "x": [
          "E",
          "D",
          "C",
          "B",
          "A",
          "S"
         ],
         "y": [
          54,
          20,
          24,
          11,
          33,
          79
         ]
        }
       ],
       "layout": {
        "barmode": "group",
        "legend": {
         "orientation": "h",
         "title": {
          "text": "Rango M2 construido"
         },
         "x": 1,
         "xanchor": "right",
         "y": 1.02,
         "yanchor": "bottom"
        },
        "margin": {
         "b": 10,
         "l": 10,
         "r": 10,
         "t": 10
        },
        "plot_bgcolor": "rgba(0,0,0,0)",
        "template": {
         "data": {
          "bar": [
           {
            "error_x": {
             "color": "#2a3f5f"
            },
            "error_y": {
             "color": "#2a3f5f"
            },
            "marker": {
             "line": {
              "color": "#E5ECF6",
              "width": 0.5
             },
             "pattern": {
              "fillmode": "overlay",
              "size": 10,
              "solidity": 0.2
             }
            },
            "type": "bar"
           }
          ],
          "barpolar": [
           {
            "marker": {
             "line": {
              "color": "#E5ECF6",
              "width": 0.5
             },
             "pattern": {
              "fillmode": "overlay",
              "size": 10,
              "solidity": 0.2
             }
            },
            "type": "barpolar"
           }
          ],
          "carpet": [
           {
            "aaxis": {
             "endlinecolor": "#2a3f5f",
             "gridcolor": "white",
             "linecolor": "white",
             "minorgridcolor": "white",
             "startlinecolor": "#2a3f5f"
            },
            "baxis": {
             "endlinecolor": "#2a3f5f",
             "gridcolor": "white",
             "linecolor": "white",
             "minorgridcolor": "white",
             "startlinecolor": "#2a3f5f"
            },
            "type": "carpet"
           }
          ],
          "choropleth": [
           {
            "colorbar": {
             "outlinewidth": 0,
             "ticks": ""
            },
            "type": "choropleth"
           }
          ],
          "contour": [
           {
            "colorbar": {
             "outlinewidth": 0,
             "ticks": ""
            },
            "colorscale": [
             [
              0,
              "#0d0887"
             ],
             [
              0.1111111111111111,
              "#46039f"
             ],
             [
              0.2222222222222222,
              "#7201a8"
             ],
             [
              0.3333333333333333,
              "#9c179e"
             ],
             [
              0.4444444444444444,
              "#bd3786"
             ],
             [
              0.5555555555555556,
              "#d8576b"
             ],
             [
              0.6666666666666666,
              "#ed7953"
             ],
             [
              0.7777777777777778,
              "#fb9f3a"
             ],
             [
              0.8888888888888888,
              "#fdca26"
             ],
             [
              1,
              "#f0f921"
             ]
            ],
            "type": "contour"
           }
          ],
          "contourcarpet": [
           {
            "colorbar": {
             "outlinewidth": 0,
             "ticks": ""
            },
            "type": "contourcarpet"
           }
          ],
          "heatmap": [
           {
            "colorbar": {
             "outlinewidth": 0,
             "ticks": ""
            },
            "colorscale": [
             [
              0,
              "#0d0887"
             ],
             [
              0.1111111111111111,
              "#46039f"
             ],
             [
              0.2222222222222222,
              "#7201a8"
             ],
             [
              0.3333333333333333,
              "#9c179e"
             ],
             [
              0.4444444444444444,
              "#bd3786"
             ],
             [
              0.5555555555555556,
              "#d8576b"
             ],
             [
              0.6666666666666666,
              "#ed7953"
             ],
             [
              0.7777777777777778,
              "#fb9f3a"
             ],
             [
              0.8888888888888888,
              "#fdca26"
             ],
             [
              1,
              "#f0f921"
             ]
            ],
            "type": "heatmap"
           }
          ],
          "heatmapgl": [
           {
            "colorbar": {
             "outlinewidth": 0,
             "ticks": ""
            },
            "colorscale": [
             [
              0,
              "#0d0887"
             ],
             [
              0.1111111111111111,
              "#46039f"
             ],
             [
              0.2222222222222222,
              "#7201a8"
             ],
             [
              0.3333333333333333,
              "#9c179e"
             ],
             [
              0.4444444444444444,
              "#bd3786"
             ],
             [
              0.5555555555555556,
              "#d8576b"
             ],
             [
              0.6666666666666666,
              "#ed7953"
             ],
             [
              0.7777777777777778,
              "#fb9f3a"
             ],
             [
              0.8888888888888888,
              "#fdca26"
             ],
             [
              1,
              "#f0f921"
             ]
            ],
            "type": "heatmapgl"
           }
          ],
          "histogram": [
           {
            "marker": {
             "pattern": {
              "fillmode": "overlay",
              "size": 10,
              "solidity": 0.2
             }
            },
            "type": "histogram"
           }
          ],
          "histogram2d": [
           {
            "colorbar": {
             "outlinewidth": 0,
             "ticks": ""
            },
            "colorscale": [
             [
              0,
              "#0d0887"
             ],
             [
              0.1111111111111111,
              "#46039f"
             ],
             [
              0.2222222222222222,
              "#7201a8"
             ],
             [
              0.3333333333333333,
              "#9c179e"
             ],
             [
              0.4444444444444444,
              "#bd3786"
             ],
             [
              0.5555555555555556,
              "#d8576b"
             ],
             [
              0.6666666666666666,
              "#ed7953"
             ],
             [
              0.7777777777777778,
              "#fb9f3a"
             ],
             [
              0.8888888888888888,
              "#fdca26"
             ],
             [
              1,
              "#f0f921"
             ]
            ],
            "type": "histogram2d"
           }
          ],
          "histogram2dcontour": [
           {
            "colorbar": {
             "outlinewidth": 0,
             "ticks": ""
            },
            "colorscale": [
             [
              0,
              "#0d0887"
             ],
             [
              0.1111111111111111,
              "#46039f"
             ],
             [
              0.2222222222222222,
              "#7201a8"
             ],
             [
              0.3333333333333333,
              "#9c179e"
             ],
             [
              0.4444444444444444,
              "#bd3786"
             ],
             [
              0.5555555555555556,
              "#d8576b"
             ],
             [
              0.6666666666666666,
              "#ed7953"
             ],
             [
              0.7777777777777778,
              "#fb9f3a"
             ],
             [
              0.8888888888888888,
              "#fdca26"
             ],
             [
              1,
              "#f0f921"
             ]
            ],
            "type": "histogram2dcontour"
           }
          ],
          "mesh3d": [
           {
            "colorbar": {
             "outlinewidth": 0,
             "ticks": ""
            },
            "type": "mesh3d"
           }
          ],
          "parcoords": [
           {
            "line": {
             "colorbar": {
              "outlinewidth": 0,
              "ticks": ""
             }
            },
            "type": "parcoords"
           }
          ],
          "pie": [
           {
            "automargin": true,
            "type": "pie"
           }
          ],
          "scatter": [
           {
            "fillpattern": {
             "fillmode": "overlay",
             "size": 10,
             "solidity": 0.2
            },
            "type": "scatter"
           }
          ],
          "scatter3d": [
           {
            "line": {
             "colorbar": {
              "outlinewidth": 0,
              "ticks": ""
             }
            },
            "marker": {
             "colorbar": {
              "outlinewidth": 0,
              "ticks": ""
             }
            },
            "type": "scatter3d"
           }
          ],
          "scattercarpet": [
           {
            "marker": {
             "colorbar": {
              "outlinewidth": 0,
              "ticks": ""
             }
            },
            "type": "scattercarpet"
           }
          ],
          "scattergeo": [
           {
            "marker": {
             "colorbar": {
              "outlinewidth": 0,
              "ticks": ""
             }
            },
            "type": "scattergeo"
           }
          ],
          "scattergl": [
           {
            "marker": {
             "colorbar": {
              "outlinewidth": 0,
              "ticks": ""
             }
            },
            "type": "scattergl"
           }
          ],
          "scattermapbox": [
           {
            "marker": {
             "colorbar": {
              "outlinewidth": 0,
              "ticks": ""
             }
            },
            "type": "scattermapbox"
           }
          ],
          "scatterpolar": [
           {
            "marker": {
             "colorbar": {
              "outlinewidth": 0,
              "ticks": ""
             }
            },
            "type": "scatterpolar"
           }
          ],
          "scatterpolargl": [
           {
            "marker": {
             "colorbar": {
              "outlinewidth": 0,
              "ticks": ""
             }
            },
            "type": "scatterpolargl"
           }
          ],
          "scatterternary": [
           {
            "marker": {
             "colorbar": {
              "outlinewidth": 0,
              "ticks": ""
             }
            },
            "type": "scatterternary"
           }
          ],
          "surface": [
           {
            "colorbar": {
             "outlinewidth": 0,
             "ticks": ""
            },
            "colorscale": [
             [
              0,
              "#0d0887"
             ],
             [
              0.1111111111111111,
              "#46039f"
             ],
             [
              0.2222222222222222,
              "#7201a8"
             ],
             [
              0.3333333333333333,
              "#9c179e"
             ],
             [
              0.4444444444444444,
              "#bd3786"
             ],
             [
              0.5555555555555556,
              "#d8576b"
             ],
             [
              0.6666666666666666,
              "#ed7953"
             ],
             [
              0.7777777777777778,
              "#fb9f3a"
             ],
             [
              0.8888888888888888,
              "#fdca26"
             ],
             [
              1,
              "#f0f921"
             ]
            ],
            "type": "surface"
           }
          ],
          "table": [
           {
            "cells": {
             "fill": {
              "color": "#EBF0F8"
             },
             "line": {
              "color": "white"
             }
            },
            "header": {
             "fill": {
              "color": "#C8D4E3"
             },
             "line": {
              "color": "white"
             }
            },
            "type": "table"
           }
          ]
         },
         "layout": {
          "annotationdefaults": {
           "arrowcolor": "#2a3f5f",
           "arrowhead": 0,
           "arrowwidth": 1
          },
          "autotypenumbers": "strict",
          "coloraxis": {
           "colorbar": {
            "outlinewidth": 0,
            "ticks": ""
           }
          },
          "colorscale": {
           "diverging": [
            [
             0,
             "#8e0152"
            ],
            [
             0.1,
             "#c51b7d"
            ],
            [
             0.2,
             "#de77ae"
            ],
            [
             0.3,
             "#f1b6da"
            ],
            [
             0.4,
             "#fde0ef"
            ],
            [
             0.5,
             "#f7f7f7"
            ],
            [
             0.6,
             "#e6f5d0"
            ],
            [
             0.7,
             "#b8e186"
            ],
            [
             0.8,
             "#7fbc41"
            ],
            [
             0.9,
             "#4d9221"
            ],
            [
             1,
             "#276419"
            ]
           ],
           "sequential": [
            [
             0,
             "#0d0887"
            ],
            [
             0.1111111111111111,
             "#46039f"
            ],
            [
             0.2222222222222222,
             "#7201a8"
            ],
            [
             0.3333333333333333,
             "#9c179e"
            ],
            [
             0.4444444444444444,
             "#bd3786"
            ],
            [
             0.5555555555555556,
             "#d8576b"
            ],
            [
             0.6666666666666666,
             "#ed7953"
            ],
            [
             0.7777777777777778,
             "#fb9f3a"
            ],
            [
             0.8888888888888888,
             "#fdca26"
            ],
            [
             1,
             "#f0f921"
            ]
           ],
           "sequentialminus": [
            [
             0,
             "#0d0887"
            ],
            [
             0.1111111111111111,
             "#46039f"
            ],
            [
             0.2222222222222222,
             "#7201a8"
            ],
            [
             0.3333333333333333,
             "#9c179e"
            ],
            [
             0.4444444444444444,
             "#bd3786"
            ],
            [
             0.5555555555555556,
             "#d8576b"
            ],
            [
             0.6666666666666666,
             "#ed7953"
            ],
            [
             0.7777777777777778,
             "#fb9f3a"
            ],
            [
             0.8888888888888888,
             "#fdca26"
            ],
            [
             1,
             "#f0f921"
            ]
           ]
          },
          "colorway": [
           "#636efa",
           "#EF553B",
           "#00cc96",
           "#ab63fa",
           "#FFA15A",
           "#19d3f3",
           "#FF6692",
           "#B6E880",
           "#FF97FF",
           "#FECB52"
          ],
          "font": {
           "color": "#2a3f5f"
          },
          "geo": {
           "bgcolor": "white",
           "lakecolor": "white",
           "landcolor": "#E5ECF6",
           "showlakes": true,
           "showland": true,
           "subunitcolor": "white"
          },
          "hoverlabel": {
           "align": "left"
          },
          "hovermode": "closest",
          "mapbox": {
           "style": "light"
          },
          "paper_bgcolor": "white",
          "plot_bgcolor": "#E5ECF6",
          "polar": {
           "angularaxis": {
            "gridcolor": "white",
            "linecolor": "white",
            "ticks": ""
           },
           "bgcolor": "#E5ECF6",
           "radialaxis": {
            "gridcolor": "white",
            "linecolor": "white",
            "ticks": ""
           }
          },
          "scene": {
           "xaxis": {
            "backgroundcolor": "#E5ECF6",
            "gridcolor": "white",
            "gridwidth": 2,
            "linecolor": "white",
            "showbackground": true,
            "ticks": "",
            "zerolinecolor": "white"
           },
           "yaxis": {
            "backgroundcolor": "#E5ECF6",
            "gridcolor": "white",
            "gridwidth": 2,
            "linecolor": "white",
            "showbackground": true,
            "ticks": "",
            "zerolinecolor": "white"
           },
           "zaxis": {
            "backgroundcolor": "#E5ECF6",
            "gridcolor": "white",
            "gridwidth": 2,
            "linecolor": "white",
            "showbackground": true,
            "ticks": "",
            "zerolinecolor": "white"
           }
          },
          "shapedefaults": {
           "line": {
            "color": "#2a3f5f"
           }
          },
          "ternary": {
           "aaxis": {
            "gridcolor": "white",
            "linecolor": "white",
            "ticks": ""
           },
           "baxis": {
            "gridcolor": "white",
            "linecolor": "white",
            "ticks": ""
           },
           "bgcolor": "#E5ECF6",
           "caxis": {
            "gridcolor": "white",
            "linecolor": "white",
            "ticks": ""
           }
          },
          "title": {
           "x": 0.05
          },
          "xaxis": {
           "automargin": true,
           "gridcolor": "white",
           "linecolor": "white",
           "ticks": "",
           "title": {
            "standoff": 15
           },
           "zerolinecolor": "white",
           "zerolinewidth": 2
          },
          "yaxis": {
           "automargin": true,
           "gridcolor": "white",
           "linecolor": "white",
           "ticks": "",
           "title": {
            "standoff": 15
           },
           "zerolinecolor": "white",
           "zerolinewidth": 2
          }
         }
        },
        "xaxis": {
         "title": {
          "text": "Segmento"
         }
        },
        "yaxis": {
         "gridcolor": "#dddcda",
         "gridwidth": 1,
         "title": {
          "text": "Número de casas"
         }
        }
       }
      }
     },
     "metadata": {},
     "output_type": "display_data"
    }
   ],
   "source": [
    "import pandas as pd\n",
    "import plotly.graph_objects as go\n",
    "import os\n",
    "import plotly.io as pio\n",
    "\n",
    "# Definir el orden deseado de los segmentos\n",
    "orden_segmentos = [\"E\", \"D\", \"C\", \"B\", \"A\", \"S\", ]#\"L\", 'ELITE'\n",
    "\n",
    "def sumar_tablas(dataframes_list):\n",
    "    tabla_suma = None\n",
    "    \n",
    "    for df in dataframes_list:\n",
    "        # Agrupar y contar casas según 'm2_construido' y 'segmento'\n",
    "        tabla_actual = df.groupby(['segmento', 'm2_construido']).size().unstack(fill_value=0)\n",
    "        \n",
    "        if tabla_suma is None:\n",
    "            tabla_suma = tabla_actual\n",
    "        else:\n",
    "            tabla_suma = tabla_suma.add(tabla_actual, fill_value=0)\n",
    "    \n",
    "    print(\"Tabla general de frecuencia:\")\n",
    "    print(tabla_suma)\n",
    "    \n",
    "    # Reordenar los índices (segmentos) de acuerdo a 'orden_segmentos'\n",
    "    tabla_suma = tabla_suma.reindex(orden_segmentos).fillna(0)\n",
    "    \n",
    "    # Graficar la tabla reordenada\n",
    "    fig = graficar_tabla(tabla_suma)\n",
    "    \n",
    "    # Guardar la gráfica como archivo HTML\n",
    "    guardar_grafico_como_html(fig, 'g_bar_dist_m2_construidos', carpeta='assets/graficas')\n",
    "    \n",
    "    return fig\n",
    "\n",
    "colores = ['#2962ff', '#9500ff', '#ff0059', '#ff8c00', '#b4e600', '#2EC2A2','#E50CB6','#4225CF','#2CBA4D']\n",
    "\n",
    "def graficar_tabla(tabla):  \n",
    "    # Obtenemos las columnas (m2_construido) y los índices (segmentos) de la tabla\n",
    "    segmentos = tabla.index\n",
    "    m2_construido = tabla.columns\n",
    "    \n",
    "    fig = go.Figure()\n",
    "    \n",
    "    # Trazar las barras para cada rango de m2_construido dentro de cada segmento\n",
    "    for i, m2 in enumerate(m2_construido):\n",
    "        color = colores[i % len(colores)]\n",
    "        fig.add_trace(go.Bar(\n",
    "            x=segmentos,            # Segmentos en el eje X\n",
    "            y=tabla[m2],            # Cantidad de casas para ese rango de m2_construido\n",
    "            name=f\"{m2}\",        # Nombre del rango de m2_construido\n",
    "            marker_color=color\n",
    "        ))\n",
    "    \n",
    "    fig.update_layout(\n",
    "        xaxis_title=\"Segmento\",        \n",
    "        yaxis=dict(\n",
    "            title='Número de casas',\n",
    "            gridcolor='#dddcda',  # Color de las líneas que dividen los rangos del eje Y\n",
    "            gridwidth=1,\n",
    "        ),\n",
    "        legend_title=\"Rango M2 construido\",\n",
    "        barmode='group',  # Las barras se agrupan por rango de m2_construido\n",
    "        legend=dict(\n",
    "            orientation='h',  # Orientación horizontal de la leyenda\n",
    "            yanchor='bottom',  # Anclar al borde inferior\n",
    "            y=1.02,  # Colocar la leyenda justo debajo del gráfico\n",
    "            xanchor='right',\n",
    "            x=1\n",
    "        ),\n",
    "        plot_bgcolor='rgba(0,0,0,0)',  # Color de fondo del gráfico\n",
    "        margin=dict(l=10, r=10, t=10, b=10)  # Ajusta los márgenes (left, right, top, bottom)\n",
    "    )    \n",
    "    \n",
    "    fig.show()    \n",
    "    return fig\n",
    "\n",
    "def guardar_grafico_como_html(fig, nombre_archivo, carpeta='assets/graficas'):\n",
    "    # Crear la carpeta si no existe\n",
    "    if not os.path.exists(carpeta):\n",
    "        os.makedirs(carpeta)\n",
    "    \n",
    "   # Configuración personalizada para la gráfica\n",
    "    config = {\n",
    "        'displaylogo': False,  # Ocultar el logo de Plotly\n",
    "        'modeBarButtonsToRemove': [\n",
    "            'toImage',       # Botón para guardar como imagen\n",
    "            'select2d',      # Box select\n",
    "            'lasso2d',       # Lasso select\n",
    "            'resetScale2d',  # Reset Axes\n",
    "        ]\n",
    "    }\n",
    "\n",
    "    # Guardar la gráfica como archivo HTML\n",
    "    pio.write_html(fig, f'{carpeta}/{nombre_archivo}.html', config=config)\n",
    "\n",
    "# Llamar a la función sumar_tablas con la lista de DataFrames como argumento\n",
    "fig = sumar_tablas(dataframes_list)\n"
   ]
  },
  {
   "cell_type": "code",
   "execution_count": 11,
   "metadata": {},
   "outputs": [
    {
     "name": "stderr",
     "output_type": "stream",
     "text": [
      "C:\\Users\\yoe11\\AppData\\Local\\Temp\\ipykernel_17532\\136104736.py:8: FutureWarning:\n",
      "\n",
      "The default of observed=False is deprecated and will be changed to True in a future version of pandas. Pass observed=False to retain current behavior or observed=True to adopt the future default and silence this warning.\n",
      "\n",
      "C:\\Users\\yoe11\\AppData\\Local\\Temp\\ipykernel_17532\\136104736.py:8: FutureWarning:\n",
      "\n",
      "The default of observed=False is deprecated and will be changed to True in a future version of pandas. Pass observed=False to retain current behavior or observed=True to adopt the future default and silence this warning.\n",
      "\n",
      "C:\\Users\\yoe11\\AppData\\Local\\Temp\\ipykernel_17532\\136104736.py:8: FutureWarning:\n",
      "\n",
      "The default of observed=False is deprecated and will be changed to True in a future version of pandas. Pass observed=False to retain current behavior or observed=True to adopt the future default and silence this warning.\n",
      "\n",
      "C:\\Users\\yoe11\\AppData\\Local\\Temp\\ipykernel_17532\\136104736.py:8: FutureWarning:\n",
      "\n",
      "The default of observed=False is deprecated and will be changed to True in a future version of pandas. Pass observed=False to retain current behavior or observed=True to adopt the future default and silence this warning.\n",
      "\n",
      "C:\\Users\\yoe11\\AppData\\Local\\Temp\\ipykernel_17532\\136104736.py:8: FutureWarning:\n",
      "\n",
      "The default of observed=False is deprecated and will be changed to True in a future version of pandas. Pass observed=False to retain current behavior or observed=True to adopt the future default and silence this warning.\n",
      "\n",
      "C:\\Users\\yoe11\\AppData\\Local\\Temp\\ipykernel_17532\\136104736.py:8: FutureWarning:\n",
      "\n",
      "The default of observed=False is deprecated and will be changed to True in a future version of pandas. Pass observed=False to retain current behavior or observed=True to adopt the future default and silence this warning.\n",
      "\n",
      "C:\\Users\\yoe11\\AppData\\Local\\Temp\\ipykernel_17532\\136104736.py:8: FutureWarning:\n",
      "\n",
      "The default of observed=False is deprecated and will be changed to True in a future version of pandas. Pass observed=False to retain current behavior or observed=True to adopt the future default and silence this warning.\n",
      "\n",
      "C:\\Users\\yoe11\\AppData\\Local\\Temp\\ipykernel_17532\\136104736.py:8: FutureWarning:\n",
      "\n",
      "The default of observed=False is deprecated and will be changed to True in a future version of pandas. Pass observed=False to retain current behavior or observed=True to adopt the future default and silence this warning.\n",
      "\n",
      "C:\\Users\\yoe11\\AppData\\Local\\Temp\\ipykernel_17532\\136104736.py:8: FutureWarning:\n",
      "\n",
      "The default of observed=False is deprecated and will be changed to True in a future version of pandas. Pass observed=False to retain current behavior or observed=True to adopt the future default and silence this warning.\n",
      "\n",
      "C:\\Users\\yoe11\\AppData\\Local\\Temp\\ipykernel_17532\\136104736.py:8: FutureWarning:\n",
      "\n",
      "The default of observed=False is deprecated and will be changed to True in a future version of pandas. Pass observed=False to retain current behavior or observed=True to adopt the future default and silence this warning.\n",
      "\n",
      "C:\\Users\\yoe11\\AppData\\Local\\Temp\\ipykernel_17532\\136104736.py:8: FutureWarning:\n",
      "\n",
      "The default of observed=False is deprecated and will be changed to True in a future version of pandas. Pass observed=False to retain current behavior or observed=True to adopt the future default and silence this warning.\n",
      "\n",
      "C:\\Users\\yoe11\\AppData\\Local\\Temp\\ipykernel_17532\\136104736.py:8: FutureWarning:\n",
      "\n",
      "The default of observed=False is deprecated and will be changed to True in a future version of pandas. Pass observed=False to retain current behavior or observed=True to adopt the future default and silence this warning.\n",
      "\n",
      "C:\\Users\\yoe11\\AppData\\Local\\Temp\\ipykernel_17532\\136104736.py:8: FutureWarning:\n",
      "\n",
      "The default of observed=False is deprecated and will be changed to True in a future version of pandas. Pass observed=False to retain current behavior or observed=True to adopt the future default and silence this warning.\n",
      "\n",
      "C:\\Users\\yoe11\\AppData\\Local\\Temp\\ipykernel_17532\\136104736.py:8: FutureWarning:\n",
      "\n",
      "The default of observed=False is deprecated and will be changed to True in a future version of pandas. Pass observed=False to retain current behavior or observed=True to adopt the future default and silence this warning.\n",
      "\n",
      "C:\\Users\\yoe11\\AppData\\Local\\Temp\\ipykernel_17532\\136104736.py:8: FutureWarning:\n",
      "\n",
      "The default of observed=False is deprecated and will be changed to True in a future version of pandas. Pass observed=False to retain current behavior or observed=True to adopt the future default and silence this warning.\n",
      "\n",
      "C:\\Users\\yoe11\\AppData\\Local\\Temp\\ipykernel_17532\\136104736.py:8: FutureWarning:\n",
      "\n",
      "The default of observed=False is deprecated and will be changed to True in a future version of pandas. Pass observed=False to retain current behavior or observed=True to adopt the future default and silence this warning.\n",
      "\n"
     ]
    },
    {
     "name": "stdout",
     "output_type": "stream",
     "text": [
      "Tabla general de frecuencia:\n",
      "segmento        A   B   C    D    E    L   S\n",
      "m2_construido                               \n",
      "0-100           0   3  16  205  258  0.0   2\n",
      "100-150         3  44  84  219  113  0.0   0\n",
      "150-200        18  38  74   42   86  0.0  13\n",
      "200-250        40  37  30   27  103  0.0  33\n",
      "250-300         6   4  11    5   75  0.0   8\n",
      "300+           33  11  24   20   54  4.0  79\n"
     ]
    },
    {
     "data": {
      "application/vnd.plotly.v1+json": {
       "config": {
        "plotlyServerURL": "https://plot.ly"
       },
       "data": [
        {
         "insidetextorientation": "radial",
         "labels": [
          "0-100",
          "100-150",
          "150-200",
          "200-250",
          "250-300",
          "300+"
         ],
         "marker": {
          "colors": [
           "#2962ff",
           "#9500ff",
           "#ff0059",
           "#ff8c00",
           "#b4e600",
           "#2EC2A2",
           "#E50CB6",
           "#4225CF",
           "#2CBA4D"
          ]
         },
         "textinfo": "percent",
         "type": "pie",
         "values": [
          484,
          463,
          271,
          270,
          109,
          225
         ]
        }
       ],
       "layout": {
        "legend": {
         "orientation": "h",
         "title": {
          "text": "Rango M2 construido"
         },
         "x": 0.72,
         "xanchor": "right",
         "y": 1.02,
         "yanchor": "bottom"
        },
        "margin": {
         "b": 10,
         "l": 10,
         "r": 10,
         "t": 10
        },
        "plot_bgcolor": "rgba(0,0,0,0)",
        "template": {
         "data": {
          "bar": [
           {
            "error_x": {
             "color": "#2a3f5f"
            },
            "error_y": {
             "color": "#2a3f5f"
            },
            "marker": {
             "line": {
              "color": "#E5ECF6",
              "width": 0.5
             },
             "pattern": {
              "fillmode": "overlay",
              "size": 10,
              "solidity": 0.2
             }
            },
            "type": "bar"
           }
          ],
          "barpolar": [
           {
            "marker": {
             "line": {
              "color": "#E5ECF6",
              "width": 0.5
             },
             "pattern": {
              "fillmode": "overlay",
              "size": 10,
              "solidity": 0.2
             }
            },
            "type": "barpolar"
           }
          ],
          "carpet": [
           {
            "aaxis": {
             "endlinecolor": "#2a3f5f",
             "gridcolor": "white",
             "linecolor": "white",
             "minorgridcolor": "white",
             "startlinecolor": "#2a3f5f"
            },
            "baxis": {
             "endlinecolor": "#2a3f5f",
             "gridcolor": "white",
             "linecolor": "white",
             "minorgridcolor": "white",
             "startlinecolor": "#2a3f5f"
            },
            "type": "carpet"
           }
          ],
          "choropleth": [
           {
            "colorbar": {
             "outlinewidth": 0,
             "ticks": ""
            },
            "type": "choropleth"
           }
          ],
          "contour": [
           {
            "colorbar": {
             "outlinewidth": 0,
             "ticks": ""
            },
            "colorscale": [
             [
              0,
              "#0d0887"
             ],
             [
              0.1111111111111111,
              "#46039f"
             ],
             [
              0.2222222222222222,
              "#7201a8"
             ],
             [
              0.3333333333333333,
              "#9c179e"
             ],
             [
              0.4444444444444444,
              "#bd3786"
             ],
             [
              0.5555555555555556,
              "#d8576b"
             ],
             [
              0.6666666666666666,
              "#ed7953"
             ],
             [
              0.7777777777777778,
              "#fb9f3a"
             ],
             [
              0.8888888888888888,
              "#fdca26"
             ],
             [
              1,
              "#f0f921"
             ]
            ],
            "type": "contour"
           }
          ],
          "contourcarpet": [
           {
            "colorbar": {
             "outlinewidth": 0,
             "ticks": ""
            },
            "type": "contourcarpet"
           }
          ],
          "heatmap": [
           {
            "colorbar": {
             "outlinewidth": 0,
             "ticks": ""
            },
            "colorscale": [
             [
              0,
              "#0d0887"
             ],
             [
              0.1111111111111111,
              "#46039f"
             ],
             [
              0.2222222222222222,
              "#7201a8"
             ],
             [
              0.3333333333333333,
              "#9c179e"
             ],
             [
              0.4444444444444444,
              "#bd3786"
             ],
             [
              0.5555555555555556,
              "#d8576b"
             ],
             [
              0.6666666666666666,
              "#ed7953"
             ],
             [
              0.7777777777777778,
              "#fb9f3a"
             ],
             [
              0.8888888888888888,
              "#fdca26"
             ],
             [
              1,
              "#f0f921"
             ]
            ],
            "type": "heatmap"
           }
          ],
          "heatmapgl": [
           {
            "colorbar": {
             "outlinewidth": 0,
             "ticks": ""
            },
            "colorscale": [
             [
              0,
              "#0d0887"
             ],
             [
              0.1111111111111111,
              "#46039f"
             ],
             [
              0.2222222222222222,
              "#7201a8"
             ],
             [
              0.3333333333333333,
              "#9c179e"
             ],
             [
              0.4444444444444444,
              "#bd3786"
             ],
             [
              0.5555555555555556,
              "#d8576b"
             ],
             [
              0.6666666666666666,
              "#ed7953"
             ],
             [
              0.7777777777777778,
              "#fb9f3a"
             ],
             [
              0.8888888888888888,
              "#fdca26"
             ],
             [
              1,
              "#f0f921"
             ]
            ],
            "type": "heatmapgl"
           }
          ],
          "histogram": [
           {
            "marker": {
             "pattern": {
              "fillmode": "overlay",
              "size": 10,
              "solidity": 0.2
             }
            },
            "type": "histogram"
           }
          ],
          "histogram2d": [
           {
            "colorbar": {
             "outlinewidth": 0,
             "ticks": ""
            },
            "colorscale": [
             [
              0,
              "#0d0887"
             ],
             [
              0.1111111111111111,
              "#46039f"
             ],
             [
              0.2222222222222222,
              "#7201a8"
             ],
             [
              0.3333333333333333,
              "#9c179e"
             ],
             [
              0.4444444444444444,
              "#bd3786"
             ],
             [
              0.5555555555555556,
              "#d8576b"
             ],
             [
              0.6666666666666666,
              "#ed7953"
             ],
             [
              0.7777777777777778,
              "#fb9f3a"
             ],
             [
              0.8888888888888888,
              "#fdca26"
             ],
             [
              1,
              "#f0f921"
             ]
            ],
            "type": "histogram2d"
           }
          ],
          "histogram2dcontour": [
           {
            "colorbar": {
             "outlinewidth": 0,
             "ticks": ""
            },
            "colorscale": [
             [
              0,
              "#0d0887"
             ],
             [
              0.1111111111111111,
              "#46039f"
             ],
             [
              0.2222222222222222,
              "#7201a8"
             ],
             [
              0.3333333333333333,
              "#9c179e"
             ],
             [
              0.4444444444444444,
              "#bd3786"
             ],
             [
              0.5555555555555556,
              "#d8576b"
             ],
             [
              0.6666666666666666,
              "#ed7953"
             ],
             [
              0.7777777777777778,
              "#fb9f3a"
             ],
             [
              0.8888888888888888,
              "#fdca26"
             ],
             [
              1,
              "#f0f921"
             ]
            ],
            "type": "histogram2dcontour"
           }
          ],
          "mesh3d": [
           {
            "colorbar": {
             "outlinewidth": 0,
             "ticks": ""
            },
            "type": "mesh3d"
           }
          ],
          "parcoords": [
           {
            "line": {
             "colorbar": {
              "outlinewidth": 0,
              "ticks": ""
             }
            },
            "type": "parcoords"
           }
          ],
          "pie": [
           {
            "automargin": true,
            "type": "pie"
           }
          ],
          "scatter": [
           {
            "fillpattern": {
             "fillmode": "overlay",
             "size": 10,
             "solidity": 0.2
            },
            "type": "scatter"
           }
          ],
          "scatter3d": [
           {
            "line": {
             "colorbar": {
              "outlinewidth": 0,
              "ticks": ""
             }
            },
            "marker": {
             "colorbar": {
              "outlinewidth": 0,
              "ticks": ""
             }
            },
            "type": "scatter3d"
           }
          ],
          "scattercarpet": [
           {
            "marker": {
             "colorbar": {
              "outlinewidth": 0,
              "ticks": ""
             }
            },
            "type": "scattercarpet"
           }
          ],
          "scattergeo": [
           {
            "marker": {
             "colorbar": {
              "outlinewidth": 0,
              "ticks": ""
             }
            },
            "type": "scattergeo"
           }
          ],
          "scattergl": [
           {
            "marker": {
             "colorbar": {
              "outlinewidth": 0,
              "ticks": ""
             }
            },
            "type": "scattergl"
           }
          ],
          "scattermapbox": [
           {
            "marker": {
             "colorbar": {
              "outlinewidth": 0,
              "ticks": ""
             }
            },
            "type": "scattermapbox"
           }
          ],
          "scatterpolar": [
           {
            "marker": {
             "colorbar": {
              "outlinewidth": 0,
              "ticks": ""
             }
            },
            "type": "scatterpolar"
           }
          ],
          "scatterpolargl": [
           {
            "marker": {
             "colorbar": {
              "outlinewidth": 0,
              "ticks": ""
             }
            },
            "type": "scatterpolargl"
           }
          ],
          "scatterternary": [
           {
            "marker": {
             "colorbar": {
              "outlinewidth": 0,
              "ticks": ""
             }
            },
            "type": "scatterternary"
           }
          ],
          "surface": [
           {
            "colorbar": {
             "outlinewidth": 0,
             "ticks": ""
            },
            "colorscale": [
             [
              0,
              "#0d0887"
             ],
             [
              0.1111111111111111,
              "#46039f"
             ],
             [
              0.2222222222222222,
              "#7201a8"
             ],
             [
              0.3333333333333333,
              "#9c179e"
             ],
             [
              0.4444444444444444,
              "#bd3786"
             ],
             [
              0.5555555555555556,
              "#d8576b"
             ],
             [
              0.6666666666666666,
              "#ed7953"
             ],
             [
              0.7777777777777778,
              "#fb9f3a"
             ],
             [
              0.8888888888888888,
              "#fdca26"
             ],
             [
              1,
              "#f0f921"
             ]
            ],
            "type": "surface"
           }
          ],
          "table": [
           {
            "cells": {
             "fill": {
              "color": "#EBF0F8"
             },
             "line": {
              "color": "white"
             }
            },
            "header": {
             "fill": {
              "color": "#C8D4E3"
             },
             "line": {
              "color": "white"
             }
            },
            "type": "table"
           }
          ]
         },
         "layout": {
          "annotationdefaults": {
           "arrowcolor": "#2a3f5f",
           "arrowhead": 0,
           "arrowwidth": 1
          },
          "autotypenumbers": "strict",
          "coloraxis": {
           "colorbar": {
            "outlinewidth": 0,
            "ticks": ""
           }
          },
          "colorscale": {
           "diverging": [
            [
             0,
             "#8e0152"
            ],
            [
             0.1,
             "#c51b7d"
            ],
            [
             0.2,
             "#de77ae"
            ],
            [
             0.3,
             "#f1b6da"
            ],
            [
             0.4,
             "#fde0ef"
            ],
            [
             0.5,
             "#f7f7f7"
            ],
            [
             0.6,
             "#e6f5d0"
            ],
            [
             0.7,
             "#b8e186"
            ],
            [
             0.8,
             "#7fbc41"
            ],
            [
             0.9,
             "#4d9221"
            ],
            [
             1,
             "#276419"
            ]
           ],
           "sequential": [
            [
             0,
             "#0d0887"
            ],
            [
             0.1111111111111111,
             "#46039f"
            ],
            [
             0.2222222222222222,
             "#7201a8"
            ],
            [
             0.3333333333333333,
             "#9c179e"
            ],
            [
             0.4444444444444444,
             "#bd3786"
            ],
            [
             0.5555555555555556,
             "#d8576b"
            ],
            [
             0.6666666666666666,
             "#ed7953"
            ],
            [
             0.7777777777777778,
             "#fb9f3a"
            ],
            [
             0.8888888888888888,
             "#fdca26"
            ],
            [
             1,
             "#f0f921"
            ]
           ],
           "sequentialminus": [
            [
             0,
             "#0d0887"
            ],
            [
             0.1111111111111111,
             "#46039f"
            ],
            [
             0.2222222222222222,
             "#7201a8"
            ],
            [
             0.3333333333333333,
             "#9c179e"
            ],
            [
             0.4444444444444444,
             "#bd3786"
            ],
            [
             0.5555555555555556,
             "#d8576b"
            ],
            [
             0.6666666666666666,
             "#ed7953"
            ],
            [
             0.7777777777777778,
             "#fb9f3a"
            ],
            [
             0.8888888888888888,
             "#fdca26"
            ],
            [
             1,
             "#f0f921"
            ]
           ]
          },
          "colorway": [
           "#636efa",
           "#EF553B",
           "#00cc96",
           "#ab63fa",
           "#FFA15A",
           "#19d3f3",
           "#FF6692",
           "#B6E880",
           "#FF97FF",
           "#FECB52"
          ],
          "font": {
           "color": "#2a3f5f"
          },
          "geo": {
           "bgcolor": "white",
           "lakecolor": "white",
           "landcolor": "#E5ECF6",
           "showlakes": true,
           "showland": true,
           "subunitcolor": "white"
          },
          "hoverlabel": {
           "align": "left"
          },
          "hovermode": "closest",
          "mapbox": {
           "style": "light"
          },
          "paper_bgcolor": "white",
          "plot_bgcolor": "#E5ECF6",
          "polar": {
           "angularaxis": {
            "gridcolor": "white",
            "linecolor": "white",
            "ticks": ""
           },
           "bgcolor": "#E5ECF6",
           "radialaxis": {
            "gridcolor": "white",
            "linecolor": "white",
            "ticks": ""
           }
          },
          "scene": {
           "xaxis": {
            "backgroundcolor": "#E5ECF6",
            "gridcolor": "white",
            "gridwidth": 2,
            "linecolor": "white",
            "showbackground": true,
            "ticks": "",
            "zerolinecolor": "white"
           },
           "yaxis": {
            "backgroundcolor": "#E5ECF6",
            "gridcolor": "white",
            "gridwidth": 2,
            "linecolor": "white",
            "showbackground": true,
            "ticks": "",
            "zerolinecolor": "white"
           },
           "zaxis": {
            "backgroundcolor": "#E5ECF6",
            "gridcolor": "white",
            "gridwidth": 2,
            "linecolor": "white",
            "showbackground": true,
            "ticks": "",
            "zerolinecolor": "white"
           }
          },
          "shapedefaults": {
           "line": {
            "color": "#2a3f5f"
           }
          },
          "ternary": {
           "aaxis": {
            "gridcolor": "white",
            "linecolor": "white",
            "ticks": ""
           },
           "baxis": {
            "gridcolor": "white",
            "linecolor": "white",
            "ticks": ""
           },
           "bgcolor": "#E5ECF6",
           "caxis": {
            "gridcolor": "white",
            "linecolor": "white",
            "ticks": ""
           }
          },
          "title": {
           "x": 0.05
          },
          "xaxis": {
           "automargin": true,
           "gridcolor": "white",
           "linecolor": "white",
           "ticks": "",
           "title": {
            "standoff": 15
           },
           "zerolinecolor": "white",
           "zerolinewidth": 2
          },
          "yaxis": {
           "automargin": true,
           "gridcolor": "white",
           "linecolor": "white",
           "ticks": "",
           "title": {
            "standoff": 15
           },
           "zerolinecolor": "white",
           "zerolinewidth": 2
          }
         }
        }
       }
      }
     },
     "metadata": {},
     "output_type": "display_data"
    }
   ],
   "source": [
    "import os\n",
    "import plotly.io as pio\n",
    "\n",
    "def sumar_tablas(dataframes_list):\n",
    "    tabla_suma = None\n",
    "    \n",
    "    for df in dataframes_list:\n",
    "        tabla_actual = df.groupby(['m2_construido', 'segmento']).size().unstack(fill_value=0)\n",
    "        \n",
    "        if tabla_suma is None:\n",
    "            tabla_suma = tabla_actual\n",
    "        else:\n",
    "            tabla_suma = tabla_suma.add(tabla_actual, fill_value=0)\n",
    "    \n",
    "    print(\"Tabla general de frecuencia:\")\n",
    "    print(tabla_suma)\n",
    "    \n",
    "    fig = graficar_tabla(tabla_suma)\n",
    "    \n",
    "    # Guardar la gráfica como archivo HTML\n",
    "    guardar_grafico_como_html(fig, 'g_pie_dist_m2_construidos', carpeta='assets/graficas')\n",
    "    \n",
    "    return fig\n",
    "\n",
    "colores = ['#2962ff', '#9500ff', '#ff0059', '#ff8c00', '#b4e600', '#2EC2A2','#E50CB6','#4225CF','#2CBA4D']\n",
    "\n",
    "def graficar_tabla(tabla):\n",
    "    # Sumar los valores por 'm2_contruido' para obtener el total por rango de M2\n",
    "    suma_por_m2 = tabla.sum(axis=1)\n",
    "    \n",
    "    fig = go.Figure(data=[go.Pie(\n",
    "        labels=suma_por_m2.index.astype(str),\n",
    "        values=suma_por_m2.values,\n",
    "        marker=dict(colors=colores),\n",
    "        textinfo='percent',\n",
    "        insidetextorientation='radial'\n",
    "    )])\n",
    "    \n",
    "    fig.update_layout(\n",
    "        legend_title=\"Rango M2 construido\",\n",
    "        legend=dict(\n",
    "            orientation='h',  # Orientación horizontal de la leyenda\n",
    "            yanchor='bottom',  # Anclar al borde inferior\n",
    "            y=1.02, \n",
    "            xanchor='right',\n",
    "            x=0.72\n",
    "        ),\n",
    "        plot_bgcolor='rgba(0,0,0,0)',  # Color de fondo del gráfico\n",
    "        margin=dict(l=10, r=10, t=10, b=10)  # Ajusta los márgenes (left, right, top, bottom)\n",
    "    )    \n",
    "    \n",
    "    fig.show()\n",
    "    return fig\n",
    "\n",
    "def guardar_grafico_como_html(fig, nombre_archivo, carpeta='assets/graficas'):\n",
    "    # Crear la carpeta si no existe\n",
    "    if not os.path.exists(carpeta):\n",
    "        os.makedirs(carpeta)\n",
    "    \n",
    "   # Configuración personalizada para la gráfica\n",
    "    config = {\n",
    "        'displaylogo': False,  # Ocultar el logo de Plotly\n",
    "        'modeBarButtonsToRemove': [\n",
    "            'toImage',       # Botón para guardar como imagen\n",
    "            'select2d',      # Box select\n",
    "            'lasso2d',       # Lasso select\n",
    "            'resetScale2d',  # Reset Axes\n",
    "        ]\n",
    "    }\n",
    "\n",
    "    # Guardar la gráfica como archivo HTML\n",
    "    pio.write_html(fig, f'{carpeta}/{nombre_archivo}.html', config=config)\n",
    "\n",
    "fig1 = sumar_tablas(dataframes_list)\n"
   ]
  },
  {
   "cell_type": "markdown",
   "metadata": {},
   "source": [
    "import shutil\n",
    "\n",
    "archivo_origen = 'graficas/g_pie_dist_m2_construidos.html'\n",
    "nuevo_directorio = 'media/graficas'\n",
    "\n",
    "if not os.path.exists(nuevo_directorio):\n",
    "    os.makedirs(nuevo_directorio)\n",
    "\n",
    "nuevo_archivo = os.path.join(nuevo_directorio, 'g_pie_dist_m2_construidos.html')\n",
    "shutil.move(archivo_origen, nuevo_archivo)\n",
    "print(f\"Archivo copiado en: {nuevo_archivo}\")\n",
    "import shutil\n",
    "\n",
    "archivo_origen = 'graficas/g_bar_dist_m2_construidos.html'\n",
    "nuevo_directorio = 'media/graficas'\n",
    "\n",
    "if not os.path.exists(nuevo_directorio):\n",
    "    os.makedirs(nuevo_directorio)\n",
    "\n",
    "nuevo_archivo = os.path.join(nuevo_directorio, 'g_bar_dist_m2_construidos.html')\n",
    "shutil.move(archivo_origen, nuevo_archivo)\n",
    "print(f\"Archivo copiado en: {nuevo_archivo}\")"
   ]
  }
 ],
 "metadata": {
  "kernelspec": {
   "display_name": "base",
   "language": "python",
   "name": "python3"
  },
  "language_info": {
   "codemirror_mode": {
    "name": "ipython",
    "version": 3
   },
   "file_extension": ".py",
   "mimetype": "text/x-python",
   "name": "python",
   "nbconvert_exporter": "python",
   "pygments_lexer": "ipython3",
   "version": "3.12.3"
  }
 },
 "nbformat": 4,
 "nbformat_minor": 2
}
