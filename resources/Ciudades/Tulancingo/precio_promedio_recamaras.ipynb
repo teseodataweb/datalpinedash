{
 "cells": [
  {
   "cell_type": "markdown",
   "metadata": {},
   "source": [
    "# **Precio promedio - Recámaras**"
   ]
  },
  {
   "cell_type": "code",
   "execution_count": 1,
   "metadata": {},
   "outputs": [
    {
     "name": "stdout",
     "output_type": "stream",
     "text": [
      "Lista de DataFrames filtrados:\n"
     ]
    },
    {
     "data": {
      "text/plain": [
       "['df_alfa_abril_2024_tulancingo',\n",
       " 'df_alfa_agosto_2024_tulancingo',\n",
       " 'df_alfa_febrero_2024_tulancingo',\n",
       " 'df_alfa_julio_2024_tulancingo',\n",
       " 'df_alfa_junio_2024_tulancingo',\n",
       " 'df_alfa_marzo_2024_tulancingo',\n",
       " 'df_alfa_mayo_2024_tulancingo']"
      ]
     },
     "execution_count": 1,
     "metadata": {},
     "output_type": "execute_result"
    }
   ],
   "source": [
    "# Manejo de datos\n",
    "import os # Directorios\n",
    "import pandas as pd # Manipulación df\n",
    "# Gráficas\n",
    "import plotly.graph_objects as go #Para obtener librería usar: pip install plotly\n",
    "from plotly.subplots import make_subplots\n",
    "import plotly.io as pio # Exportar gráfica\n",
    "\n",
    "# Obtener el directorio actual de trabajo\n",
    "directorio_actual = os.getcwd()\n",
    "\n",
    "# Directorio donde se encuentran los archivos JSON (ruta relativa)\n",
    "directorio_json = os.path.join(directorio_actual, '../../db/datos_json')\n",
    "\n",
    "# Obtener la lista de archivos JSON en el directorio\n",
    "archivos_json = os.listdir(directorio_json)\n",
    "\n",
    "# Cargar los archivos JSON y crear DataFrames\n",
    "for archivo in archivos_json:\n",
    "    nombre_tabla = archivo.replace('datos_', '').replace('.json', '')\n",
    "    ruta_json = os.path.join(directorio_json, archivo)\n",
    "    globals()[f\"df_{nombre_tabla}\"] = pd.read_json(ruta_json)\n",
    "\n",
    "# Obtener todos los nombres de las variables globales\n",
    "nombres_variables_globales = list(globals().keys())\n",
    "\n",
    "# Filtrar los nombres que comienzan con \"df_\", contienen \"alfa_q\" y \"pachuca\"\n",
    "nombres_df_filtrados = [\n",
    "    nombre for nombre in nombres_variables_globales \n",
    "    # Caso de cuando no son las alfa q\n",
    "    if nombre.startswith(\"df_\") and \"alfa\" in nombre and \"tulancingo\" in nombre and \"2024\" in nombre\n",
    "\n",
    "    #if nombre.startswith(\"df_\") and \"pachuca\" in nombre    \n",
    "    #and (\"alfa_q\" in nombre or \"jul_2023\" in nombre or \"sep_2023\" in nombre or \"feb_2024\" in nombre or \"mar_2024\" in nombre or \"may_2024\" in nombre)\n",
    "]\n",
    "\n",
    "# Imprimir la lista de DataFrames filtrados\n",
    "print(\"Lista de DataFrames filtrados:\")\n",
    "nombres_df_filtrados"
   ]
  },
  {
   "cell_type": "code",
   "execution_count": 3,
   "metadata": {},
   "outputs": [
    {
     "name": "stdout",
     "output_type": "stream",
     "text": [
      "Columnas renombradas en los DataFrames filtrados.\n"
     ]
    }
   ],
   "source": [
    "# Iterar sobre cada DataFrame en la lista filtrada\n",
    "for nombre_df in nombres_df_filtrados:\n",
    "    # Obtener el DataFrame usando globals()\n",
    "    df = globals()[nombre_df]\n",
    "    \n",
    "    df.rename(columns={'Preciol_23':'precio','Baño_total': 'baño_total','Banos_Total':'baño_total','Precio':'precio','recamaras':'Recamaras'}, inplace=True)\n",
    "        # Asignar el DataFrame modificado de nuevo a la variable global\n",
    "    globals()[nombre_df] = df \n",
    "\n",
    "# Imprimir confirmación\n",
    "print(\"Columnas renombradas en los DataFrames filtrados.\")\n"
   ]
  },
  {
   "cell_type": "code",
   "execution_count": 3,
   "metadata": {},
   "outputs": [
    {
     "data": {
      "text/plain": [
       "Index(['id', 'Categoria', 'precio', 'propiedad', 'metros_total',\n",
       "       'metros_construido', 'precio_m2_terreno', 'precio_m2_construido',\n",
       "       'tiempo_de_publicacion', 'Estado', 'Tipo', 'Estacionamientos',\n",
       "       'Recamaras', 'Banos', 'Medio_banos', 'baño_total', 'Seguridad',\n",
       "       'Colonia', 'CP', 'url'],\n",
       "      dtype='object')"
      ]
     },
     "execution_count": 3,
     "metadata": {},
     "output_type": "execute_result"
    }
   ],
   "source": [
    "df_alfa_marzo_2024_tulancingo.columns"
   ]
  },
  {
   "cell_type": "code",
   "execution_count": 4,
   "metadata": {},
   "outputs": [],
   "source": [
    "# Crear una lista de DataFrames seleccionados con las columnas específicas\n",
    "dataframes_list = []\n",
    "for nombre_df in nombres_df_filtrados:\n",
    "    # Seleccionar las columnas 'id' y 'categoria'\n",
    "    segment_df = globals()[nombre_df][['id', 'Categoria', 'precio', 'propiedad', 'metros_total',\n",
    "       'metros_construido', 'precio_m2_terreno', 'precio_m2_construido',\n",
    "       'tiempo_de_publicacion', 'Estado', 'Tipo', 'Estacionamientos',\n",
    "       'Recamaras', 'Banos', 'Medio_banos', 'baño_total', 'Seguridad',\n",
    "       'Colonia', 'CP', 'url']]\n",
    "    # Añadir el DataFrame a la lista\n",
    "    dataframes_list.append(segment_df)\n",
    "# Concatenar todos los DataFrames individuales en uno solo\n",
    "df_concatenado = pd.concat(dataframes_list)"
   ]
  },
  {
   "cell_type": "markdown",
   "metadata": {},
   "source": [
    "## Eliminación de duplicados"
   ]
  },
  {
   "cell_type": "code",
   "execution_count": 5,
   "metadata": {},
   "outputs": [
    {
     "name": "stdout",
     "output_type": "stream",
     "text": [
      "Empty DataFrame\n",
      "Columns: [id, Categoria, precio, propiedad, metros_total, metros_construido, precio_m2_terreno, precio_m2_construido, tiempo_de_publicacion, Estado, Tipo, Estacionamientos, Recamaras, Banos, Medio_banos, baño_total, Seguridad, Colonia, CP, url]\n",
      "Index: []\n"
     ]
    }
   ],
   "source": [
    "# Eliminar por duplicado general, osea los registros exactamente iguales\n",
    "print(df_concatenado[df_concatenado.duplicated()])"
   ]
  },
  {
   "cell_type": "code",
   "execution_count": 6,
   "metadata": {},
   "outputs": [
    {
     "name": "stdout",
     "output_type": "stream",
     "text": [
      "      id Categoria    precio  \\\n",
      "44    45        E2    628000   \n",
      "70    71        E2    578000   \n",
      "6      7        E2    620000   \n",
      "63    64        E2    580000   \n",
      "78    79        E2    520000   \n",
      "..   ...       ...       ...   \n",
      "115  116        S1   4810000   \n",
      "116  117             8000000   \n",
      "117  118        L3  17000000   \n",
      "118  119        L3  17500000   \n",
      "78    79        E2    720000   \n",
      "\n",
      "                                             propiedad  metros_total  \\\n",
      "44   🏡🤩La casa de tus sueños en Tulancingo de Bravo...           114   \n",
      "70   🏡🤩La casa de tus sueños en Tulancingo de Bravo...           178   \n",
      "6      Departamentos nuevos y económicos en Tulancingo            60   \n",
      "63   Venta de Casa en Calle Hermenegildo Galeana, V...           110   \n",
      "78                    CASA EN VENTA TULANCINGO HIDALGO           120   \n",
      "..                                                 ...           ...   \n",
      "115  CASA VENTA EN JARDINES DEL SUR, TULANCINGO DE ...           228   \n",
      "116                         Casa - Tulancingo de Bravo           482   \n",
      "117  Hermosa Casa en el Centro de Tulancingo, Ideal...          1000   \n",
      "118  Gran Casa en Venta, en Tulancingo de Bravo. 1,...          1972   \n",
      "78                                          Vendo casa            90   \n",
      "\n",
      "     metros_construido  precio_m2_terreno  precio_m2_construido  \\\n",
      "44                 114            5508.77               5508.77   \n",
      "70                 178            3247.19               3247.19   \n",
      "6                   60           10333.33              10333.33   \n",
      "63                 110            5272.73               5272.73   \n",
      "78                 240            4333.33               2166.67   \n",
      "..                 ...                ...                   ...   \n",
      "115                360           21096.49              13361.11   \n",
      "116                460           16597.51              17391.30   \n",
      "117                500           17000.00              34000.00   \n",
      "118                520            8874.24              33653.85   \n",
      "78                  90            8000.00               8000.00   \n",
      "\n",
      "     tiempo_de_publicacion Estado          Tipo  Estacionamientos  Recamaras  \\\n",
      "44                       1  Venta          Casa                 2          3   \n",
      "70                       2  Venta          Casa                 2          3   \n",
      "6                       10  Venta  Departamento                 1          2   \n",
      "63                       0  Venta          Casa                 2          3   \n",
      "78                       9  Venta          Casa                 2          4   \n",
      "..                     ...    ...           ...               ...        ...   \n",
      "115                      6  Venta          Casa                 2          4   \n",
      "116                     12  Venta          Casa                 1          5   \n",
      "117                      2  Venta          Casa                 2          5   \n",
      "118                     11  Venta          Casa                 2          7   \n",
      "78                       1  Venta          Casa                 1          2   \n",
      "\n",
      "     Banos  Medio_banos  baño_total  Seguridad                       Colonia  \\\n",
      "44       2            1         2.5          0               20 de Noviembre   \n",
      "70       2            0         2.0          0                     La Morena   \n",
      "6        1            0         1.0          0              Nuevo Tulancingo   \n",
      "63       1            0         1.0          0  Vicente Guerrero 1ra Sección   \n",
      "78       2            0         2.0          0             Lomas de Progreso   \n",
      "..     ...          ...         ...        ...                           ...   \n",
      "115      3            0         3.0          0              Jardines del Sur   \n",
      "116      5            0         5.0          0                Felipe Ángeles   \n",
      "117      4            0         4.0          0    Tulancingo de Bravo Centro   \n",
      "118      7            0         7.0          0    Tulancingo de Bravo Centro   \n",
      "78       1            0         1.0          0                      Napateco   \n",
      "\n",
      "        CP                                                url  \n",
      "44          https://www.lamudi.com.mx/detalle/41032-73-8b6...  \n",
      "70          https://www.lamudi.com.mx/detalle/41032-73-7af...  \n",
      "6           https://www.lamudi.com.mx//detalle/41032-73-2b...  \n",
      "63          https://www.lamudi.com.mx//detalle/41032-73-d9...  \n",
      "78          https://www.lamudi.com.mx//detalle/41032-73-16...  \n",
      "..     ...                                                ...  \n",
      "115  43640  https://www.lamudi.com.mx/detalle/41032-73-146...  \n",
      "116  43628  https://www.lamudi.com.mx/detalle/41032-73-60a...  \n",
      "117  43775  https://www.lamudi.com.mx/detalle/41032-73-8d1...  \n",
      "118  43775  https://www.lamudi.com.mx/detalle/41032-73-d16...  \n",
      "78   43629  https://www.lamudi.com.mx//detalle/41032-73-69...  \n",
      "\n",
      "[190 rows x 20 columns]\n"
     ]
    }
   ],
   "source": [
    "# Duplicado por variables, osea los registros exactamente iguales con los valores de variables\n",
    "print(df_concatenado[df_concatenado.duplicated(subset=['metros_construido','Colonia', 'CP', 'precio','Estacionamientos','Recamaras','baño_total','propiedad'])])"
   ]
  },
  {
   "cell_type": "code",
   "execution_count": 7,
   "metadata": {},
   "outputs": [
    {
     "name": "stdout",
     "output_type": "stream",
     "text": [
      "['SE VENDE CASA EN TULANCINGO DE BRAVO'\n",
      " 'EXCELENTE CASA EN VENTA DE LAS FUENTES, LA MORENA TULANCINGO HIDALGO'\n",
      " 'VENTA DE CASA EN CALLE CARLOS CHAVEZ 207, COL JARDINES DEL SUR 2da Secc, CP 43660, MUNICIPIO TULANCINGO, ESTADO HIDALGO'\n",
      " '¡¡GRAN OPORTUNIDAD,  INMUEBLE  CON ADJUDICACION!!  EXCELENTE CASA EN TULANCINGO HGO¡¡'\n",
      " 'Excelente Oportunidad De Inversión Tulancingo, Hidalgo'\n",
      " '🏡🤩La casa de tus sueños en Tulancingo de Bravo, Hidalgo🤩🏡'\n",
      " '🏡🤩La casa de tus sueños en Tulancingo, Hidalgo🤩🏡'\n",
      " '🏡🤩La casa de tus sueños en Tulancingo Hidalgo🤩🏡'\n",
      " 'HERMOSA CASA EN LA MORENA TULANCINGO'\n",
      " 'Linda casa en Tulancingo, Hidalgo'\n",
      " 'CASA en Venta en Col. Vicente Guerrero, Centro de Tulancingo, Hgo.'\n",
      " 'Casa en Venta, Tulancingo de Bravo, Hidalgo'\n",
      " 'CASA EN VENTA! UBICADA EN CALLE HERMEREGILDO GALEANA, COLONIA VICENTE GUERRERO, TULANCINGO, HIDALGO, ENORME OPOTTUNIDAD!'\n",
      " 'Hermosa casa en venta, en C. Hermenegildo Galeana, Vicente Guerrero Tulancingo de Bravo, Hgo'\n",
      " 'Casa en venta, hipoteca'\n",
      " 'Departamentos nuevos y económicos en Tulancingo'\n",
      " 'Linda casa en Tulancingo de Bravo, Hidalgo.'\n",
      " '¡LA JOYA QUE HAS BUSCADO ESTÁ AQUÍ! 🏡✨  Dirección: Calle Hermenegildo Galeana , Vicente Guerrero, Tulancingo de Bravo, Hidalgo'\n",
      " 'CASA HERMENEGILDO'\n",
      " 'Venta de Casa en Calle Hermenegildo Galeana, Vicente Guerrero, Tulancingo Hgo.'\n",
      " '“Venta de Casa en Tulancingo Hidalgo “'\n",
      " 'NO ACEPTAMOS CREDITOS CASA EN VENTA EN Calle Hermenegildo Galeana, Vicente Guerrero, Tulancingo, Estado de Hidalgo, México   NO ACEPTAMOS CREDITO'\n",
      " 'C. SAUCE 201 FRACC RINCONADA LA MORENA TULANCINGO HIDALGO'\n",
      " 'CASA EN VENTA TULANCINGO HIDALGO'\n",
      " 'Casa en Venta Col. Lomas del Progreso, Tulancingo, Hidalgo'\n",
      " 'VENTA DE CASA EN TULANCINGO DE BRAVO EN HIDALGO'\n",
      " 'HORTENCIA PROL. CLAVEL #108 LA MORENA SECC NTE B TULANCINGO DE BRAVO, HIDALGO'\n",
      " 'VENTA DE CASA EN TULANCINGO DE BRAVO HILDAGO DE LA COLONIA LA MORENA'\n",
      " 'VENTA DE CASA EN TULANCINGO DE BRAVO, HIDALGO, COLONIA LA MORENA'\n",
      " 'Casa en Venta en Calle Tule,El Mirador CV 24-18'\n",
      " 'Casa en Venta en Zempoala,El Mirador 24-18 AA'\n",
      " 'Casa en Venta en Zempoala,El Mirador MG 24-18.'\n",
      " 'Casa en Venta en Calle Tule,El Mirador  MG24-18'\n",
      " 'VENTA DE CASA EN COL. LA MORENA, TULANCINGO DE BRAVO, HIDALGO'\n",
      " '!!Oportunidad!! Propiedad Comercial en Venta, ubicada en esquina, frente de escuela secundaria, a 40 metros de primaria y a un costado de guardería.'\n",
      " 'DEPARTAMENTO  EN VENTA  EXELENTE OPPORTUNIDAD'\n",
      " 'Casa en venta en Tulancingo de Bravo, Hidalgo en 578,000 pesos'\n",
      " 'VENTA DE CASA EN TULANCINGO DE BRAVO COL LA MORENA'\n",
      " 'HERMOSA PROIEDAD EN TULANCINGO HIDALGO'\n",
      " 'HERMOSA CASA EN VENTA EN SAUCE TULANCINGO HIDALGO'\n",
      " 'Acogedora casa en Tulancingo, Hidalgo'\n",
      " 'PRECIOSA Y GRANDE CASA EN VENTA EN SAUSE 201, RINCONADA LA MORENA, TULANCINGO, HIDALGO'\n",
      " 'PRECIOSA CASA EN TULANCINGO'\n",
      " 'EXCELENTE OPORTUNIDAD DE INVERSIÓN EN TULANCINGO, HID.'\n",
      " 'Preciosa casa en SAUCE 201, RINCONADA LA MORENA, 43625 TULANCINGO, HGO.'\n",
      " 'BONITA CASA EN TULANCINGO, HIDALGO'\n",
      " 'VENTA DE CASA C CARLOS CHÁVEZ JARDINES DEL SUR  TULANCINGO'\n",
      " 'CASA DE RECUPERACION EN VENTA EN TULANCINGO,HIDALGO.'\n",
      " 'HERMOSA CASA EN VENTA EN TULANCINGO, HIDALGO'\n",
      " 'VENTA DE CASA EN TULANCINGO HIDALGO COL JARDINES DEL SUR'\n",
      " 'VENTA DE CASA EN TULANCINGO'\n",
      " 'VENTA DE CASA  CARLOS CHÁVEZ  JARDINES DEL SUR 4TA SECC TULANCINGO'\n",
      " '¡¡¡BONITA CASA EN TULANCINGO, HIDALGO!!! .SOC.'\n",
      " 'Casa VENTA, Guadalupe 1a Sección, Tulancingo de Bravo, Hidalgo'\n",
      " 'VENTA DE CASA EN RESIDENCIAL LA MORENA TULANCINGO HIDALGO'\n",
      " 'VENTA DE CASA EN TULANCINGO COL LA MORENA TULANCINGO HIDALGO'\n",
      " 'VENTA DE CASA EN TULANCINGO HIDALGO' 'venta de cas en tulancingo'\n",
      " 'AS VENTA DE CASA C. RUBI CAMPO ALEGRE TULANCINGO DE BRAVO HIDALGO'\n",
      " 'HERMOSA Y AMPLIA CASA EN JARDINES DEL SUR TULANCINGO HIDALGO, SUPER PRECIO!!!'\n",
      " 'Venta de bonita casa en Hidalgo'\n",
      " 'CASA EN VENTA TULANCINGO DE BRAVO, COL VICENTE GUERRERO'\n",
      " 'CESION DE DERECHOS' 'PRECIOSA CASA EN TULANCINGO HIDALGO OAHM'\n",
      " 'PRECIOSA CASA EN VENTA UBICADA EN LA MORENA SECC NTE B, TULANCINGO, HIDALGO'\n",
      " 'HERMOSA CASA DE 160m2 DE SUPERFICIE, 2 NIVELES, Oportunidad de Inversión!'\n",
      " 'PRECIOSA CASA EN VENTA EN DE LAS FUENTES 400, LA MORENA SECC NTE. B, TULANCINGO, HIDALGO.'\n",
      " 'ENCONTRASTE TU CASA IDEAL EN TULANCINGO, HIDALGO'\n",
      " 'HERMOSA CASA EN TULANCINGO HIDALGO ¡'\n",
      " 'Hgo. LINDA CASA ESQUNERA CON EXCELENTE UBICACIÓN'\n",
      " 'CASA EN VENTA - COL. LA MORENA, TULANCINGO'\n",
      " 'CASA 3 RECAMARAS, 2 NIVELES, 2.5 BAÑOS, 2 ESTACIONAMIENTOS'\n",
      " 'VENTA DE CASA EN HIDALGO'\n",
      " 'Casa en venta  Guadalupe 1ra Sección, Tulancingo, Hidalgo  DD41 GR'\n",
      " 'OPORTUNIDAD INVIERTE EN TU PATRIMONIO, CASA DE  RECUPERACION BANCARIA, EN CUMBRES DE MALTRATA.'\n",
      " 'VENTA DE CASA ECONÓMICA EN NAPATECO, EN TULANCINGO HIDALGO'\n",
      " 'vomo_ INVIERTE DE CONTADO Y GANATE VENTAJOSO PRECIO EN PROPIEDAD EN ESQUINA DE LA COLONIA VICENTE GUERRERO, TULANCINGO HIDALGO !!¡¡'\n",
      " 'PREVENTA Departamentos nuevos y económicos en Tulancingo'\n",
      " 'Casas económicas en Privada, Napateco Tulancingo Hgo.'\n",
      " 'GRAN OPORTUNIDAD BONITA CASA UBICADA EN CALLE FRANCISCO VILLA COL EL MIRADOR MPO TULANCINGO DE BRAVO HIDALGO, EXCELENTE PRECIO $737,336'\n",
      " 'CASA EN VENTA - COL. RINCONADA LA MORENA, TULANCINGO'\n",
      " 'Oportunidad de Casa en Venta, Tulancingo de Bravo, Hidalgo'\n",
      " 'CASA en venta en Col. Vicente Guerrero, Tulancingo, Hidalgo.'\n",
      " 'CASA EN VENTA TULANSINGO EDO DE MEX'\n",
      " 'VENTA DE CASA EN VISITA REAL FRACCIONAMIENTO PRIVADO EN TULANCINGO COCINA DE REGALO'\n",
      " 'Casa en Venta en Tulancingo, Hidalgo'\n",
      " 'CASA EN PROMOCION $980,000 solo pago de contado'\n",
      " 'CASA DE 1 NIVEL EN PRIVADA, TULANCINGO HIDALGO'\n",
      " 'Casa con opción de crecimiento en Villas Santa María, Tulancingo Hgo.'\n",
      " 'VENTA DE CASA ECONOMICA DE 4 RECAMARAS EN COLONIA EL PARAISO EN TULANCINGO HIDALGO'\n",
      " 'CASA NUEVA EN PRIVADA SAN DANIEL, TULANCINGO HIDALGO'\n",
      " 'CASA EN PRIVADA COL CALTENGO TULANCINGO'\n",
      " 'vomo_ INVIERTE DE CONTADO Y GANATE VENTAJOSO PRECIO EN AMPLIA CASA EN TULANCINGO HGO, EN JARDINES DEL SUR...¡¡!!'\n",
      " 'CASA NUEVA EN MAGISTERIO 1, TULANCINGO, HGO.'\n",
      " 'VENTA DE CASA EN HIDALGO COL JARDINES DEL SUR 3RA SECCION TULANCINGO'\n",
      " 'CASA ADJ. Chihuahua 1308, Vicente Guerrero, 43630 Tulancingo de Bravo, Hidalgo'\n",
      " 'CASA ADJUDICADA EN Chihuahua 1308, Vicente Guerrero, 43630 Tulancingo de Bravo, Hidalgo'\n",
      " 'CASA EN EL ESTADO DE HIDALGO'\n",
      " 'HERMOSA CASA ADJ, COMPRAVENTA, Chihuahua , Vicente Guerrero, 43630 Tulancingo de Bravo, Hidalgo.'\n",
      " 'Casa exclusiva en  en venta. Privada, áreas verdes y cerca de todo'\n",
      " 'VENTA DE CASA EN  GRAN UBICACION'\n",
      " 'CASA DE UN NIVEL EN PRIVADA, MEDIAS TIERRAS'\n",
      " 'VVV VENTA DE CASA CALLE FRANZ VON LISZT JARDINES DEL SUR 3A SECC TULANCINGO DE BRAVO HIDALGO'\n",
      " 'VENTA DE CASA EN LA CALLE FRANZ VON LISZT JARDINES DEL SUR TULANCINGO DE BRAVO HIDALGO'\n",
      " 'CASA EN VENTA EN TULANCINGO A 45 MINUTOS DE LA CIUDAD DE MEXICO'\n",
      " 'HIDALGO TULANCINGO DE BRAVO FRACC JARDINES DEL SUR CASA VENTA'\n",
      " 'Casa en Privada, Tulancingo de Bravo, Residencial Riva Palacio'\n",
      " 'Casa - Tulancingo de Bravo'\n",
      " 'Paraiso Sur, Venta de Casa,\\tTulancingo, Hidalgo.'\n",
      " 'VENTA DE CASA DE LUJO CENTRICA DE TULANCINGO 3 RECAMARAS'\n",
      " 'CASA DE 1 NIVEL EN LA MORENA, TULANCINGO' 'CASA  EN TULANCINGO'\n",
      " 'INMUEBLE CON POSESIÓN INMEDIATA ( NO CRÉDITOS ) UBICADA EN EL FRACCIONAMIENTO SAN FRANCISCO HUATENGO TULA HIDALGO'\n",
      " 'CASA EN VENTA COL JARDINES DEL SUR TULANCINGO DE BRAVO HIDALGO'\n",
      " 'PRECIOSA CASA EN VENTA EN TULANCIGO, HIDALGO,EXCELENTE OPORTUNIDAD'\n",
      " 'BONITA CASA EN VENTA EN LA MORENA, TULANCINGO'\n",
      " 'Casa en venta en Vicente Guerrero, Tulancingo de Bravo, Hgo.'\n",
      " 'REMATE DE CASA' 'HERMOSA CASA EN TULANCINGO HIDALGO - SC*'\n",
      " 'PRECIOSA CASA EN VENTA ZONA TULANCINGO, HIDALGO'\n",
      " 'INCREIBLE CASA EN TULANCINGO, HIDALGO'\n",
      " 'Casas Solas 2 RECAMARAS MAS ALCOBA Infonavit E Issfam 90 M2 De Terreno'\n",
      " 'CASAS SOLAS ECONOMICAS 2 RECAMARAS MAS ALCOBA, PARA INFONAVIT E ISSFAM'\n",
      " 'KM CASA EN VENTA GUADALUPE TULANCINGO HIDALGO'\n",
      " 'CASA EN VENTA VICENTE GUERRERO, TULANCINGO HIDALGO MJH'\n",
      " 'ES HORA DE REALIZAR TU SUEÑO Y ADQUIRIR ESTA HERMOSA CASA EN TULANCINGO HIDALGO'\n",
      " 'PRECIOSA CASA EN VENTA UBICADA EN De Las Fuentes 1009, La Morena Sección Norte B, Tulancingo, Estado de Hidalgo'\n",
      " 'CASA EN VENTA/PACHUCA' 'LA CASA DE TUS SUEÑOS'\n",
      " 'Casa en venta en Rinconada La Morena, Tulancingo Hidalgo. VPV'\n",
      " 'Bonita Casa En Una Exelente Ubicacion Calle Sauce # 201 rinconada la morena Tulancingo Hidalgo   GSN'\n",
      " 'EN VENTA HERMOSA PROPIEDAD EN HIDALGO'\n",
      " 'VENTA DE CASA ECONOMICA AMPLIA EN TULANCINGO 2 RECAMARAS'\n",
      " 'CASA EN VENTA GUADALUPE TULANCINGO HIDALGO MJH'\n",
      " 'Casa en Rinconada la Morena, Tulancingo.'\n",
      " 'VENTA DE CASA ECONOMICA  EN TULANCINGO'\n",
      " 'CASA ECONÓMICA EN TULANCINGO HIDALGO, NAPATECO'\n",
      " 'HORTENCIA PROL. CLAVEL 108' '¡REMATE HIPOTECARIO!'\n",
      " 'VENTA DE CASA EN TULANCINGO DE BRAVO, HIDALGO.'\n",
      " 'CASA EN VENTA EN HORTENCIA PROLONGACION CLAVEL #108 PACHUCA DE SOTO HIDALGO'\n",
      " 'Casa en Tulancingo, Hidalgo'\n",
      " 'VENTA DE CASA EN RINCONES DE LA HACIENDA TULANCINGO 2 RECAMARAS'\n",
      " 'Casa en VENTA, La Morena secc  norte B, Tulancingo de Bravo, Hidalgo. CAL'\n",
      " 'HERMOSA CASA VICENTE GUERRERO TULANCINGO HIDALGO !!!'\n",
      " 'HERMOSA CASA ADJUDICADA, Benito Juárez 17, La Luz, Santa Ana Hueytlalpan, Hidalgo, México'\n",
      " 'VENTA DE CASA EN TULANCINGO DE BRAVO FRACCIONAMIENTO RINCONADA LA MORENA'\n",
      " 'VENTA DE CASA EN HIDALGO COL LA MORENA'\n",
      " 'CASA EN VENTA MEDIAS TIERRAS TULANCINGO HIDALGO'\n",
      " 'AMPLIA CASA EN TULANCINGO'\n",
      " 'Casa en venta Tulancingo a 5 minutos de Plaza Patio'\n",
      " 'Casa en venta Tulancingo Hidalgo'\n",
      " 'VENTA DE CASA ECONOMICA EN ESQUINA CENTRICA EN TULANCINGO'\n",
      " 'Vivienda en venta con gran plusvalía de remate dentro de Calle Hermenegildo Galeana 706, Vicente Guerrero, Tulancingo, Estado de Hidalgo, México'\n",
      " 'Casa en venta con 3 recámaras en Tulancingo'\n",
      " 'CASA DE 1 NIVEL EN FRACC. VILLAS SANTA MARIA, TULANCINGO HIDALGO'\n",
      " 'VENTA SE CASA ECONOMICA CENTRICA TULANCINGO'\n",
      " 'Casa en Franz Von Liszt #101, Tulancingo de Bravo'\n",
      " 'CASA EN PRIVADA, FRACCIONAMIENTO VILLAS STA. MARÍA EN TULANCINGO'\n",
      " 'VENTA DE CASA DE LUJO 3 RECAMARAS EN TULANCINGO'\n",
      " 'Casa en venta con 3 recámaras en  Tulancingo'\n",
      " 'HERMOSA CASA EN VENTA EN TULANCINGO DE BRAVO HIDALGO.'\n",
      " 'CASA EN FRACCIONAMIENTO CERRADO, CIMA DORADA TULANCINGO'\n",
      " 'CASA EN COL. CALTENGO, TULANCINGO DE BRAVO, HIDALGO'\n",
      " 'CASA EN VENTA HIDALGO'\n",
      " 'VICENTE GUERRERO. CASA RESIDENCIAL. VENTA TULANCINGO. ESTADO DE HIDALGO.'\n",
      " 'Casa en Col. 20 de noviembre, Tulancingo de Bravo, Hidalgo'\n",
      " 'CASA EN VENTA EN NAPATECO TULANCINGO, HIDALGO'\n",
      " 'Casa en venta en  Carlos Chavez, Tulancingo ¡Compra esta propiedad mediante Cesión de Derechos e incrementa tu patrimonio! ¡Contáctame, te digo cómo hacerlo!'\n",
      " 'VENTA DE CASA EN JARDINES DEL SUR TULANCINGO DE BRAVO HIDALGO GDS/AS'\n",
      " 'PREVENTA Casa de 3 niveles con sala doble altura, en Medias Tierras'\n",
      " 'VENTA DE CASA ECONOMICA Y CENTRICA AMPLIA CON 4 RECAMARAS EN TULANCINGO'\n",
      " 'Casa en Tulancingo, Medias Tierras de 2 niveles, con garaje techado.'\n",
      " 'Se VENDE casa en Ampliación Rojo Gómez Tulancingo Hidalgo'\n",
      " 'CASA EN TULANCINGO A 45 MIN DE LA CIUDAD DE MEXICO'\n",
      " 'CASA EN VENTA EN PRIVADA VICTORIA, EN MEDIAS TIERRAS, TULANCINGO'\n",
      " 'VENTA DE CASA EN LA HERRADURA TULANCINGO DE BRAVO HIDALGO GDS/AS'\n",
      " 'CASAS EN MEDIAS TIERRAS, TULANCINGO DE BRAVO HIDALGO'\n",
      " 'Hidalgo,Tulancingo,Almicar Residencial,Casa ,Venta'\n",
      " 'EXCLUSIVO FRACC. PEDREGAL DE SAN FRANCISCO TULANCINGO HGO.'\n",
      " 'REMATE B. DE CASA EN FRACCIONAMIENTO EN PEDREGAL DE SAN FRANCISCO TULANCINGO HIDALGO.'\n",
      " 'CASA CON 350M2 DE TERRENO, COL. VALLE VERDE TULANCINGO HGO'\n",
      " 'CASA NUEVA EN VENTA RESIDENCIAL TERRANOVA, TULANCINGO.'\n",
      " 'Amplia casa en venta Tulancingo Hgo.'\n",
      " 'Casa VENTA, Jardines del Sur, Tulancingo de Bravo'\n",
      " 'Una casa perfectamente diseñada en la mejor ubicación de Tulancingo, La Morena'\n",
      " 'Casa de 3 recámaras en Privada Riva Palacio, La Morena Tulancingo Hgo'\n",
      " 'CASA ADJ., Nicolas Copérnico  San Francisco Huatengo I, 43647 Tulancingo de Bravo, Hidalgo.'\n",
      " 'VENTA SE CASA ECONOMICA Y DE LUJO EN TULANCINGO HIDALGO 3 RECAMARAS'\n",
      " 'VENTA DE CASA AMPLIA Y DE LUJO SEMICENTRICA TULANCINGO 3 RECAMARAS'\n",
      " 'VENTA DE CASA EN CALLE FRANZ VON LISZT, FRACC. JARDINES DEL SUR, TULANCINGO HIDALGO MÉXICO, ¡NO SE ACEPTAN CRÉDITOS!'\n",
      " 'VENDO CASA EN CENTRO DE TULANCINGO HGO.'\n",
      " 'VENTA DE CASA EN PEDREGAL DE SAN FRANCISCO TULANCINGO DE BRAVO HIDALGO GDS/AS'\n",
      " 'Casa en Venta, Col. La Morena. Tulancingo. Pachuca.'\n",
      " 'HERMOSA CASA ADJUDICADA, Johannes Brahms & Calle Franz Von Liszt, Jardines del Sur 3ra Secc, 43660 Tulancingo, Hgo.'\n",
      " 'HERMOSA CASA ADJUDICADA, Calle CHARLES DARWIN 108, San Francisco, Tulancingo, Hgo.'\n",
      " 'REMATE B. DE CASA EN JARDINES DEL SUR HIDALGO'\n",
      " 'CASA VENTA EN JARDINES DEL SUR, TULANCINGO DE BRAVO, HIDALGO'\n",
      " 'Hermosa Casa en el Centro de Tulancingo, Ideal Restaurante, Hotel Boutique, etc.'\n",
      " 'Gran Casa en Venta, en Tulancingo de Bravo. 1,972 m2.'\n",
      " 'PRECIOSA CASA EN TULANCINGO, HIDALGO'\n",
      " 'Â¡PRECIOSA CASA EN TULANCINGO, HIDALGO!'\n",
      " 'BONITA CASA CERCANA AL CENTRO DE TULANCINGO.'\n",
      " 'EN VENTA HERMOSA PROPIEDAD EN TULANCINGO'\n",
      " 'VENTA DE CASA EN TULANCINGO DE BRAVO HIDALGO DE LA COLONIA LA MORENA SECC NTE B'\n",
      " 'VENTA DE CASA EN LA MORENA SECC. NORTE, TULANCINGO, HGO.'\n",
      " 'CASA EN VENTA DE RECUPERACIÃ“N BANCARIA EN De Las Fuentes, La Morena SecciÃ³n Norte B, Tulancingo, Estado de Hidalgo, MÃ©xico'\n",
      " 'HERMOSA CASA EN HIDALGO' 'HERMOSA CASA EN TULANCINGO HIDALGO'\n",
      " 'VENTA DE CASA EN TULANCINGO DE BRAVO COL LA MORENA SECC NTE B'\n",
      " 'LA CASA DE TUS SUEÃ‘OS'\n",
      " 'CASA 3 RECAMARAS, 2 NIVELES, 2.5 BAÃ‘OS, 2 ESTACIONAMIENTOS'\n",
      " 'CASA EN VENTA LA MORENA SECC NTE, TULANCINGO, HGO.' 'Vendo casa'\n",
      " 'HERMOSA CASA EN VENTA EN FRACCIONAMIENTO RINCONADA LA MORENA EN TULANCINGO DE BRAVO EN HIDALGO'\n",
      " 'VENTA DE CASA EN CALLE SAUCE 201 COLONIA FRACCIONAMIENTO RINCONADA LA MORENA ALCALDIA TULANCINGO DE BRAVO / HIDALGO']\n"
     ]
    }
   ],
   "source": [
    "pd.set_option('display.max_colwidth', None) # Mostrar completas\n",
    "print(df_concatenado[df_concatenado.duplicated(subset=['metros_construido','Colonia', 'CP', 'precio','Estacionamientos','Recamaras','baño_total'])]['propiedad'].unique())"
   ]
  },
  {
   "cell_type": "code",
   "execution_count": 8,
   "metadata": {},
   "outputs": [
    {
     "name": "stdout",
     "output_type": "stream",
     "text": [
      "     metros_construido                     Colonia     CP    precio  \\\n",
      "0                   45                 Huapalcalco  43640    600000   \n",
      "1                   45         Tulancingo de Bravo  43775    680000   \n",
      "2                   50                    Napateco  43640    590000   \n",
      "3                   52                 Huapalcalco  43640    525000   \n",
      "4                   53                    Napateco           730000   \n",
      "..                 ...                         ...    ...       ...   \n",
      "181                460              Felipe Ángeles  43628   8000000   \n",
      "182                500  Tulancingo de Bravo Centro  43775  17000000   \n",
      "183                520  Tulancingo de Bravo Centro  43775  17500000   \n",
      "184                600                    El Banco          3200000   \n",
      "185                600                    San Juan  43660   3200000   \n",
      "\n",
      "     Recamaras  \\\n",
      "0            2   \n",
      "1            2   \n",
      "2            2   \n",
      "3            3   \n",
      "4            2   \n",
      "..         ...   \n",
      "181          5   \n",
      "182          5   \n",
      "183          7   \n",
      "184          3   \n",
      "185          3   \n",
      "\n",
      "                                                                            propiedad  \\\n",
      "0                                              VENTA DE CASA ECONOMICA  EN TULANCINGO   \n",
      "1                     VENTA DE CASA EN RINCONES DE LA HACIENDA TULANCINGO 2 RECAMARAS   \n",
      "2                            VENTA DE CASA ECONOMICA AMPLIA EN TULANCINGO 2 RECAMARAS   \n",
      "3              CASAS SOLAS ECONOMICAS 2 RECAMARAS MAS ALCOBA, PARA INFONAVIT E ISSFAM   \n",
      "4                               Casas económicas en Privada, Napateco Tulancingo Hgo.   \n",
      "..                                                                                ...   \n",
      "181                                                        Casa - Tulancingo de Bravo   \n",
      "182  Hermosa Casa en el Centro de Tulancingo, Ideal Restaurante, Hotel Boutique, etc.   \n",
      "183                             Gran Casa en Venta, en Tulancingo de Bravo. 1,972 m2.   \n",
      "184                                                        Casa - Tulancingo de Bravo   \n",
      "185                                                        Casa - Tulancingo de Bravo   \n",
      "\n",
      "     count  \n",
      "0        2  \n",
      "1        2  \n",
      "2        2  \n",
      "3        2  \n",
      "4        2  \n",
      "..     ...  \n",
      "181      2  \n",
      "182      2  \n",
      "183      2  \n",
      "184      2  \n",
      "185      2  \n",
      "\n",
      "[186 rows x 7 columns]\n"
     ]
    }
   ],
   "source": [
    "# Agrupar por los registros duplicados y contar las ocurrencias\n",
    "agrupados = df_concatenado[df_concatenado.duplicated(subset=['metros_construido','Colonia', 'CP', 'precio','Estacionamientos','Recamaras','propiedad'], keep=False)].groupby(['metros_construido','Colonia', 'CP', 'precio','Recamaras','propiedad']).size().reset_index(name='count')\n",
    "print(agrupados)"
   ]
  },
  {
   "cell_type": "code",
   "execution_count": 9,
   "metadata": {},
   "outputs": [
    {
     "name": "stdout",
     "output_type": "stream",
     "text": [
      "      id Categoria   precio  \\\n",
      "0      1            8000000   \n",
      "1      2        S1  4810000   \n",
      "2      3        S1  4500000   \n",
      "3      4        S1  4300000   \n",
      "4      5        A3  3946465   \n",
      "..   ...       ...      ...   \n",
      "143  144        A3  3946465   \n",
      "144  145        A3  3946465   \n",
      "145  146        S1  4180000   \n",
      "146  147        S1  4300000   \n",
      "147  148        S1  4500000   \n",
      "\n",
      "                                                                                   propiedad  \\\n",
      "0                                                                 Casa - Tulancingo de Bravo   \n",
      "1                             CASA EN VENTA COL JARDINES DEL SUR TULANCINGO DE BRAVO HIDALGO   \n",
      "2                       Se vende casa en Tulancingo, Fraccionamiento San Francisco Huatengo.   \n",
      "3                                        Casa en Venta, Col. La Morena. Tulancingo. Pachuca.   \n",
      "4              VENTA DE CASA EN PEDREGAL DE SAN FRANCISCO TULANCINGO DE BRAVO HIDALGO GDS/AS   \n",
      "..                                                                                       ...   \n",
      "143  vomo_ APARTA GRAN PROPIEDAD DEL PEDREGAL DE SAN FRANCISCO EN TULANCINGO HIDALGO!!Â¡Â¡Â¡   \n",
      "144            VENTA DE CASA EN PEDREGAL DE SAN FRANCISCO TULANCINGO DE BRAVO HIDALGO GDS/AS   \n",
      "145                                                     CASA EN TULANCINGO DE BRAVO, HIDALGO   \n",
      "146                                      Casa en Venta, Col. La Morena. Tulancingo. Pachuca.   \n",
      "147                     Se vende casa en Tulancingo, Fraccionamiento San Francisco Huatengo.   \n",
      "\n",
      "     metros_total  metros_construido  precio_m2_terreno  precio_m2_construido  \\\n",
      "0             482                460           16597.51              17391.30   \n",
      "1             228                360           21096.49              13361.11   \n",
      "2             200                287           22500.00              15679.44   \n",
      "3             160                240           26875.00              17916.67   \n",
      "4             150                150           26309.77              26309.77   \n",
      "..            ...                ...                ...                   ...   \n",
      "143           216                300           18270.67              13154.88   \n",
      "144           150                150           26309.77              26309.77   \n",
      "145           360                228           11611.11              18333.33   \n",
      "146           160                240           26875.00              17916.67   \n",
      "147           200                287           22500.00              15679.44   \n",
      "\n",
      "     tiempo_de_publicacion Estado                     Tipo  Estacionamientos  \\\n",
      "0                       13  Venta                     Casa                 0   \n",
      "1                       12  Venta                     Casa                 0   \n",
      "2                        3  Venta                     Casa                 0   \n",
      "3                        7  Venta                     Casa                 1   \n",
      "4                        2  Venta  Casa En Fraccionamiento                 1   \n",
      "..                     ...    ...                      ...               ...   \n",
      "143                      2  Venta                     Casa                 1   \n",
      "144                      3  Venta                     Casa                 1   \n",
      "145                      3  Venta                     Casa                 1   \n",
      "146                      8  Venta                     Casa                 1   \n",
      "147                      4  Venta                     Casa                 1   \n",
      "\n",
      "     Recamaras  Banos  Medio_banos  baño_total  Seguridad  \\\n",
      "0            5      5            0         5.0          0   \n",
      "1            4      0            0         0.0          0   \n",
      "2            0      0            0         0.0          0   \n",
      "3            5      1            0         1.0          0   \n",
      "4            3      1            0         1.0          0   \n",
      "..         ...    ...          ...         ...        ...   \n",
      "143          4      1            0         1.0          0   \n",
      "144          3      1            0         1.0          0   \n",
      "145          4      1            0         1.0          0   \n",
      "146          5      1            0         1.0          0   \n",
      "147          4      2            0         2.0          0   \n",
      "\n",
      "                           Colonia     CP  \\\n",
      "0                   Felipe Ángeles      0   \n",
      "1                 Jardines del Sur      0   \n",
      "2                        La Quinta      0   \n",
      "3    Unidad Habitacional La Morena      0   \n",
      "4              Tulancingo de Bravo      0   \n",
      "..                             ...    ...   \n",
      "143      Pedregal de San Francisco  43673   \n",
      "144      Pedregal de San Francisco  43673   \n",
      "145               Jardines Del Sur  43660   \n",
      "146                     La Morena,  43625   \n",
      "147              Tulancingo Centro  43600   \n",
      "\n",
      "                                                                                  url  \n",
      "0    https://www.lamudi.com.mx//detalle/41032-73-60adaf87eb8e-1677-853f180a-b1be-3423  \n",
      "1    https://www.lamudi.com.mx//detalle/41032-73-d5a3d45f5dbe-72d8-ae5720cb-bf37-39c1  \n",
      "2    https://www.lamudi.com.mx//detalle/41032-73-cfbd09274c36-b108-c2a1f4e9-ad07-1237  \n",
      "3    https://www.lamudi.com.mx//detalle/41032-73-76d564d8c2b1-d515-4c729ba5-b486-46e3  \n",
      "4    https://www.lamudi.com.mx//detalle/41032-73-dfeffb37df74-1249-f8860080-9ed3-4249  \n",
      "..                                                                                ...  \n",
      "143  https://www.lamudi.com.mx//detalle/41032-73-128b99188b37-43d6-31813b1c-9b82-4058  \n",
      "144  https://www.lamudi.com.mx//detalle/41032-73-dfeffb37df74-1249-f8860080-9ed3-4249  \n",
      "145  https://www.lamudi.com.mx//detalle/41032-73-2fc7baf65110-1d0a-86109a81-a664-48cc  \n",
      "146  https://www.lamudi.com.mx//detalle/41032-73-76d564d8c2b1-d515-4c729ba5-b486-46e3  \n",
      "147  https://www.lamudi.com.mx//detalle/41032-73-cfbd09274c36-b108-c2a1f4e9-ad07-1237  \n",
      "\n",
      "[747 rows x 20 columns]\n"
     ]
    }
   ],
   "source": [
    "# Eliminar duplicados, conservando la primera aparición\n",
    "df_sin_duplicados = df_concatenado.drop_duplicates(subset=['metros_construido','Colonia', 'CP', 'precio','Estacionamientos','Recamaras','baño_total','propiedad'], keep='first')\n",
    "# conservar la última aparición\n",
    "# df_sin_duplicados = df_concatenado.drop_duplicates(keep='last')\n",
    "print(df_sin_duplicados)"
   ]
  },
  {
   "cell_type": "markdown",
   "metadata": {},
   "source": [
    "## Diidir por tipo"
   ]
  },
  {
   "cell_type": "code",
   "execution_count": 10,
   "metadata": {},
   "outputs": [
    {
     "data": {
      "text/plain": [
       "array(['Casa', 'Casa En Fraccionamiento', 'Departamento',\n",
       "       'Casa En Condominio', 'Condominio Horizontal'], dtype=object)"
      ]
     },
     "execution_count": 10,
     "metadata": {},
     "output_type": "execute_result"
    }
   ],
   "source": [
    "df_sin_duplicados['Tipo'].unique()"
   ]
  },
  {
   "cell_type": "code",
   "execution_count": 11,
   "metadata": {},
   "outputs": [],
   "source": [
    "casas = df_sin_duplicados[df_sin_duplicados['Tipo'].isin(['Casa', 'Casa En Fraccionamiento', 'Casa En Condominio'])]\n",
    "depas = df_sin_duplicados[df_sin_duplicados['Tipo'].isin(['Departamento', 'Condominio Horizontal'])]"
   ]
  },
  {
   "cell_type": "markdown",
   "metadata": {},
   "source": [
    "Ver que las cantidades coinciden por el tipo"
   ]
  },
  {
   "cell_type": "code",
   "execution_count": 12,
   "metadata": {},
   "outputs": [
    {
     "data": {
      "text/plain": [
       "130      371800\n",
       "129      380000\n",
       "0        380000\n",
       "126      430000\n",
       "1        430000\n",
       "         ...   \n",
       "0       8000000\n",
       "149     8000000\n",
       "140    10000000\n",
       "117    17000000\n",
       "118    17500000\n",
       "Name: precio, Length: 696, dtype: int64"
      ]
     },
     "execution_count": 12,
     "metadata": {},
     "output_type": "execute_result"
    }
   ],
   "source": [
    "casas_precio = casas['precio']\n",
    "casas_precio.sort_values() "
   ]
  },
  {
   "cell_type": "code",
   "execution_count": 13,
   "metadata": {},
   "outputs": [
    {
     "data": {
      "text/plain": [
       "0       346040\n",
       "131     346040\n",
       "19      400000\n",
       "127     420000\n",
       "128     420000\n",
       "20      450000\n",
       "17      487467\n",
       "21      499550\n",
       "1       515000\n",
       "121     520000\n",
       "2       520000\n",
       "22      575000\n",
       "100     600000\n",
       "5       620000\n",
       "37      620000\n",
       "95      620000\n",
       "102     670000\n",
       "90      672537\n",
       "7       672537\n",
       "99      675000\n",
       "8       750000\n",
       "82      750000\n",
       "77      802390\n",
       "10      960000\n",
       "64      960000\n",
       "65      960000\n",
       "62      980000\n",
       "11      980000\n",
       "12     1249000\n",
       "46     1249000\n",
       "44     1250000\n",
       "13     1250000\n",
       "14     1300000\n",
       "42     1300000\n",
       "37     1523793\n",
       "15     1523793\n",
       "32     1712133\n",
       "33     1712133\n",
       "24     2250000\n",
       "99     2250000\n",
       "97     2250000\n",
       "96     2250000\n",
       "100    2250000\n",
       "98     2250000\n",
       "101    2250003\n",
       "102    2250009\n",
       "22     2450000\n",
       "16     2500000\n",
       "68     2650000\n",
       "16     2850000\n",
       "17     2850000\n",
       "Name: precio, dtype: int64"
      ]
     },
     "execution_count": 13,
     "metadata": {},
     "output_type": "execute_result"
    }
   ],
   "source": [
    "depas_precio = depas['precio']\n",
    "depas_precio.sort_values()"
   ]
  },
  {
   "cell_type": "markdown",
   "metadata": {},
   "source": [
    "# Resultados"
   ]
  },
  {
   "cell_type": "markdown",
   "metadata": {},
   "source": [
    "## Casas"
   ]
  },
  {
   "cell_type": "code",
   "execution_count": 14,
   "metadata": {},
   "outputs": [
    {
     "name": "stderr",
     "output_type": "stream",
     "text": [
      "C:\\Users\\yoe11\\AppData\\Local\\Temp\\ipykernel_11664\\1015311021.py:1: SettingWithCopyWarning: \n",
      "A value is trying to be set on a copy of a slice from a DataFrame.\n",
      "Try using .loc[row_indexer,col_indexer] = value instead\n",
      "\n",
      "See the caveats in the documentation: https://pandas.pydata.org/pandas-docs/stable/user_guide/indexing.html#returning-a-view-versus-a-copy\n",
      "  casas['Recamaras'] = casas['Recamaras'].astype(int)\n"
     ]
    },
    {
     "data": {
      "text/plain": [
       "array([5, 4, 3, 2, 6, 1, 7])"
      ]
     },
     "execution_count": 14,
     "metadata": {},
     "output_type": "execute_result"
    }
   ],
   "source": [
    "casas['Recamaras'] = casas['Recamaras'].astype(int)\n",
    "casas = casas[(casas['Recamaras'] >= 1) & (casas['Recamaras'] <= 8)]\n",
    "casas['Recamaras'].unique()"
   ]
  },
  {
   "cell_type": "code",
   "execution_count": 15,
   "metadata": {},
   "outputs": [
    {
     "data": {
      "text/html": [
       "<div>\n",
       "<style scoped>\n",
       "    .dataframe tbody tr th:only-of-type {\n",
       "        vertical-align: middle;\n",
       "    }\n",
       "\n",
       "    .dataframe tbody tr th {\n",
       "        vertical-align: top;\n",
       "    }\n",
       "\n",
       "    .dataframe thead th {\n",
       "        text-align: right;\n",
       "    }\n",
       "</style>\n",
       "<table border=\"1\" class=\"dataframe\">\n",
       "  <thead>\n",
       "    <tr style=\"text-align: right;\">\n",
       "      <th></th>\n",
       "      <th>Recamaras</th>\n",
       "      <th>precio</th>\n",
       "    </tr>\n",
       "  </thead>\n",
       "  <tbody>\n",
       "    <tr>\n",
       "      <th>0</th>\n",
       "      <td>1</td>\n",
       "      <td>1.799833e+06</td>\n",
       "    </tr>\n",
       "    <tr>\n",
       "      <th>1</th>\n",
       "      <td>2</td>\n",
       "      <td>1.043849e+06</td>\n",
       "    </tr>\n",
       "    <tr>\n",
       "      <th>2</th>\n",
       "      <td>3</td>\n",
       "      <td>1.307932e+06</td>\n",
       "    </tr>\n",
       "    <tr>\n",
       "      <th>3</th>\n",
       "      <td>4</td>\n",
       "      <td>1.526766e+06</td>\n",
       "    </tr>\n",
       "    <tr>\n",
       "      <th>4</th>\n",
       "      <td>5</td>\n",
       "      <td>5.190000e+06</td>\n",
       "    </tr>\n",
       "    <tr>\n",
       "      <th>5</th>\n",
       "      <td>6</td>\n",
       "      <td>3.327714e+06</td>\n",
       "    </tr>\n",
       "    <tr>\n",
       "      <th>6</th>\n",
       "      <td>7</td>\n",
       "      <td>8.233333e+06</td>\n",
       "    </tr>\n",
       "  </tbody>\n",
       "</table>\n",
       "</div>"
      ],
      "text/plain": [
       "   Recamaras        precio\n",
       "0          1  1.799833e+06\n",
       "1          2  1.043849e+06\n",
       "2          3  1.307932e+06\n",
       "3          4  1.526766e+06\n",
       "4          5  5.190000e+06\n",
       "5          6  3.327714e+06\n",
       "6          7  8.233333e+06"
      ]
     },
     "execution_count": 15,
     "metadata": {},
     "output_type": "execute_result"
    }
   ],
   "source": [
    "# Ajustar los valores para que no superen un #\n",
    "casas.loc[:, 'Recamaras'] = casas['Recamaras'].clip(lower=1,upper=8)\n",
    "# Calcular el promedio de precio por el número único \n",
    "df_promedio_casas = casas.groupby('Recamaras')['precio'].mean().reset_index()\n",
    "df_promedio_casas"
   ]
  },
  {
   "cell_type": "code",
   "execution_count": 16,
   "metadata": {},
   "outputs": [
    {
     "data": {
      "application/vnd.plotly.v1+json": {
       "config": {
        "plotlyServerURL": "https://plot.ly"
       },
       "data": [
        {
         "marker": {
          "color": [
           "#2962ff",
           "#9500ff",
           "#ff0059",
           "#ff8c00",
           "#b4e600",
           "#2EC2A2",
           "#E50CB6",
           "#4225CF",
           "#2CBA4D",
           "#2962ff",
           "#9500ff",
           "#ff0059"
          ]
         },
         "text": [
          "$1,799,833.33",
          "$1,043,848.96",
          "$1,307,932.28",
          "$1,526,766.17",
          "$5,190,000.00",
          "$3,327,714.29",
          "$8,233,333.33"
         ],
         "textposition": "auto",
         "type": "bar",
         "x": [
          "1",
          "2",
          "3",
          "4",
          "5",
          "6",
          "7"
         ],
         "y": [
          1799833.3333333333,
          1043848.9572649573,
          1307932.2846347608,
          1526766.1733333333,
          5190000,
          3327714.285714286,
          8233333.333333333
         ]
        }
       ],
       "layout": {
        "bargap": 0.1,
        "bargroupgap": 0.05,
        "margin": {
         "b": 10,
         "l": 10,
         "r": 10,
         "t": 10
        },
        "plot_bgcolor": "rgba(0,0,0,0)",
        "template": {
         "data": {
          "bar": [
           {
            "error_x": {
             "color": "#2a3f5f"
            },
            "error_y": {
             "color": "#2a3f5f"
            },
            "marker": {
             "line": {
              "color": "#E5ECF6",
              "width": 0.5
             },
             "pattern": {
              "fillmode": "overlay",
              "size": 10,
              "solidity": 0.2
             }
            },
            "type": "bar"
           }
          ],
          "barpolar": [
           {
            "marker": {
             "line": {
              "color": "#E5ECF6",
              "width": 0.5
             },
             "pattern": {
              "fillmode": "overlay",
              "size": 10,
              "solidity": 0.2
             }
            },
            "type": "barpolar"
           }
          ],
          "carpet": [
           {
            "aaxis": {
             "endlinecolor": "#2a3f5f",
             "gridcolor": "white",
             "linecolor": "white",
             "minorgridcolor": "white",
             "startlinecolor": "#2a3f5f"
            },
            "baxis": {
             "endlinecolor": "#2a3f5f",
             "gridcolor": "white",
             "linecolor": "white",
             "minorgridcolor": "white",
             "startlinecolor": "#2a3f5f"
            },
            "type": "carpet"
           }
          ],
          "choropleth": [
           {
            "colorbar": {
             "outlinewidth": 0,
             "ticks": ""
            },
            "type": "choropleth"
           }
          ],
          "contour": [
           {
            "colorbar": {
             "outlinewidth": 0,
             "ticks": ""
            },
            "colorscale": [
             [
              0,
              "#0d0887"
             ],
             [
              0.1111111111111111,
              "#46039f"
             ],
             [
              0.2222222222222222,
              "#7201a8"
             ],
             [
              0.3333333333333333,
              "#9c179e"
             ],
             [
              0.4444444444444444,
              "#bd3786"
             ],
             [
              0.5555555555555556,
              "#d8576b"
             ],
             [
              0.6666666666666666,
              "#ed7953"
             ],
             [
              0.7777777777777778,
              "#fb9f3a"
             ],
             [
              0.8888888888888888,
              "#fdca26"
             ],
             [
              1,
              "#f0f921"
             ]
            ],
            "type": "contour"
           }
          ],
          "contourcarpet": [
           {
            "colorbar": {
             "outlinewidth": 0,
             "ticks": ""
            },
            "type": "contourcarpet"
           }
          ],
          "heatmap": [
           {
            "colorbar": {
             "outlinewidth": 0,
             "ticks": ""
            },
            "colorscale": [
             [
              0,
              "#0d0887"
             ],
             [
              0.1111111111111111,
              "#46039f"
             ],
             [
              0.2222222222222222,
              "#7201a8"
             ],
             [
              0.3333333333333333,
              "#9c179e"
             ],
             [
              0.4444444444444444,
              "#bd3786"
             ],
             [
              0.5555555555555556,
              "#d8576b"
             ],
             [
              0.6666666666666666,
              "#ed7953"
             ],
             [
              0.7777777777777778,
              "#fb9f3a"
             ],
             [
              0.8888888888888888,
              "#fdca26"
             ],
             [
              1,
              "#f0f921"
             ]
            ],
            "type": "heatmap"
           }
          ],
          "heatmapgl": [
           {
            "colorbar": {
             "outlinewidth": 0,
             "ticks": ""
            },
            "colorscale": [
             [
              0,
              "#0d0887"
             ],
             [
              0.1111111111111111,
              "#46039f"
             ],
             [
              0.2222222222222222,
              "#7201a8"
             ],
             [
              0.3333333333333333,
              "#9c179e"
             ],
             [
              0.4444444444444444,
              "#bd3786"
             ],
             [
              0.5555555555555556,
              "#d8576b"
             ],
             [
              0.6666666666666666,
              "#ed7953"
             ],
             [
              0.7777777777777778,
              "#fb9f3a"
             ],
             [
              0.8888888888888888,
              "#fdca26"
             ],
             [
              1,
              "#f0f921"
             ]
            ],
            "type": "heatmapgl"
           }
          ],
          "histogram": [
           {
            "marker": {
             "pattern": {
              "fillmode": "overlay",
              "size": 10,
              "solidity": 0.2
             }
            },
            "type": "histogram"
           }
          ],
          "histogram2d": [
           {
            "colorbar": {
             "outlinewidth": 0,
             "ticks": ""
            },
            "colorscale": [
             [
              0,
              "#0d0887"
             ],
             [
              0.1111111111111111,
              "#46039f"
             ],
             [
              0.2222222222222222,
              "#7201a8"
             ],
             [
              0.3333333333333333,
              "#9c179e"
             ],
             [
              0.4444444444444444,
              "#bd3786"
             ],
             [
              0.5555555555555556,
              "#d8576b"
             ],
             [
              0.6666666666666666,
              "#ed7953"
             ],
             [
              0.7777777777777778,
              "#fb9f3a"
             ],
             [
              0.8888888888888888,
              "#fdca26"
             ],
             [
              1,
              "#f0f921"
             ]
            ],
            "type": "histogram2d"
           }
          ],
          "histogram2dcontour": [
           {
            "colorbar": {
             "outlinewidth": 0,
             "ticks": ""
            },
            "colorscale": [
             [
              0,
              "#0d0887"
             ],
             [
              0.1111111111111111,
              "#46039f"
             ],
             [
              0.2222222222222222,
              "#7201a8"
             ],
             [
              0.3333333333333333,
              "#9c179e"
             ],
             [
              0.4444444444444444,
              "#bd3786"
             ],
             [
              0.5555555555555556,
              "#d8576b"
             ],
             [
              0.6666666666666666,
              "#ed7953"
             ],
             [
              0.7777777777777778,
              "#fb9f3a"
             ],
             [
              0.8888888888888888,
              "#fdca26"
             ],
             [
              1,
              "#f0f921"
             ]
            ],
            "type": "histogram2dcontour"
           }
          ],
          "mesh3d": [
           {
            "colorbar": {
             "outlinewidth": 0,
             "ticks": ""
            },
            "type": "mesh3d"
           }
          ],
          "parcoords": [
           {
            "line": {
             "colorbar": {
              "outlinewidth": 0,
              "ticks": ""
             }
            },
            "type": "parcoords"
           }
          ],
          "pie": [
           {
            "automargin": true,
            "type": "pie"
           }
          ],
          "scatter": [
           {
            "fillpattern": {
             "fillmode": "overlay",
             "size": 10,
             "solidity": 0.2
            },
            "type": "scatter"
           }
          ],
          "scatter3d": [
           {
            "line": {
             "colorbar": {
              "outlinewidth": 0,
              "ticks": ""
             }
            },
            "marker": {
             "colorbar": {
              "outlinewidth": 0,
              "ticks": ""
             }
            },
            "type": "scatter3d"
           }
          ],
          "scattercarpet": [
           {
            "marker": {
             "colorbar": {
              "outlinewidth": 0,
              "ticks": ""
             }
            },
            "type": "scattercarpet"
           }
          ],
          "scattergeo": [
           {
            "marker": {
             "colorbar": {
              "outlinewidth": 0,
              "ticks": ""
             }
            },
            "type": "scattergeo"
           }
          ],
          "scattergl": [
           {
            "marker": {
             "colorbar": {
              "outlinewidth": 0,
              "ticks": ""
             }
            },
            "type": "scattergl"
           }
          ],
          "scattermapbox": [
           {
            "marker": {
             "colorbar": {
              "outlinewidth": 0,
              "ticks": ""
             }
            },
            "type": "scattermapbox"
           }
          ],
          "scatterpolar": [
           {
            "marker": {
             "colorbar": {
              "outlinewidth": 0,
              "ticks": ""
             }
            },
            "type": "scatterpolar"
           }
          ],
          "scatterpolargl": [
           {
            "marker": {
             "colorbar": {
              "outlinewidth": 0,
              "ticks": ""
             }
            },
            "type": "scatterpolargl"
           }
          ],
          "scatterternary": [
           {
            "marker": {
             "colorbar": {
              "outlinewidth": 0,
              "ticks": ""
             }
            },
            "type": "scatterternary"
           }
          ],
          "surface": [
           {
            "colorbar": {
             "outlinewidth": 0,
             "ticks": ""
            },
            "colorscale": [
             [
              0,
              "#0d0887"
             ],
             [
              0.1111111111111111,
              "#46039f"
             ],
             [
              0.2222222222222222,
              "#7201a8"
             ],
             [
              0.3333333333333333,
              "#9c179e"
             ],
             [
              0.4444444444444444,
              "#bd3786"
             ],
             [
              0.5555555555555556,
              "#d8576b"
             ],
             [
              0.6666666666666666,
              "#ed7953"
             ],
             [
              0.7777777777777778,
              "#fb9f3a"
             ],
             [
              0.8888888888888888,
              "#fdca26"
             ],
             [
              1,
              "#f0f921"
             ]
            ],
            "type": "surface"
           }
          ],
          "table": [
           {
            "cells": {
             "fill": {
              "color": "#EBF0F8"
             },
             "line": {
              "color": "white"
             }
            },
            "header": {
             "fill": {
              "color": "#C8D4E3"
             },
             "line": {
              "color": "white"
             }
            },
            "type": "table"
           }
          ]
         },
         "layout": {
          "annotationdefaults": {
           "arrowcolor": "#2a3f5f",
           "arrowhead": 0,
           "arrowwidth": 1
          },
          "autotypenumbers": "strict",
          "coloraxis": {
           "colorbar": {
            "outlinewidth": 0,
            "ticks": ""
           }
          },
          "colorscale": {
           "diverging": [
            [
             0,
             "#8e0152"
            ],
            [
             0.1,
             "#c51b7d"
            ],
            [
             0.2,
             "#de77ae"
            ],
            [
             0.3,
             "#f1b6da"
            ],
            [
             0.4,
             "#fde0ef"
            ],
            [
             0.5,
             "#f7f7f7"
            ],
            [
             0.6,
             "#e6f5d0"
            ],
            [
             0.7,
             "#b8e186"
            ],
            [
             0.8,
             "#7fbc41"
            ],
            [
             0.9,
             "#4d9221"
            ],
            [
             1,
             "#276419"
            ]
           ],
           "sequential": [
            [
             0,
             "#0d0887"
            ],
            [
             0.1111111111111111,
             "#46039f"
            ],
            [
             0.2222222222222222,
             "#7201a8"
            ],
            [
             0.3333333333333333,
             "#9c179e"
            ],
            [
             0.4444444444444444,
             "#bd3786"
            ],
            [
             0.5555555555555556,
             "#d8576b"
            ],
            [
             0.6666666666666666,
             "#ed7953"
            ],
            [
             0.7777777777777778,
             "#fb9f3a"
            ],
            [
             0.8888888888888888,
             "#fdca26"
            ],
            [
             1,
             "#f0f921"
            ]
           ],
           "sequentialminus": [
            [
             0,
             "#0d0887"
            ],
            [
             0.1111111111111111,
             "#46039f"
            ],
            [
             0.2222222222222222,
             "#7201a8"
            ],
            [
             0.3333333333333333,
             "#9c179e"
            ],
            [
             0.4444444444444444,
             "#bd3786"
            ],
            [
             0.5555555555555556,
             "#d8576b"
            ],
            [
             0.6666666666666666,
             "#ed7953"
            ],
            [
             0.7777777777777778,
             "#fb9f3a"
            ],
            [
             0.8888888888888888,
             "#fdca26"
            ],
            [
             1,
             "#f0f921"
            ]
           ]
          },
          "colorway": [
           "#636efa",
           "#EF553B",
           "#00cc96",
           "#ab63fa",
           "#FFA15A",
           "#19d3f3",
           "#FF6692",
           "#B6E880",
           "#FF97FF",
           "#FECB52"
          ],
          "font": {
           "color": "#2a3f5f"
          },
          "geo": {
           "bgcolor": "white",
           "lakecolor": "white",
           "landcolor": "#E5ECF6",
           "showlakes": true,
           "showland": true,
           "subunitcolor": "white"
          },
          "hoverlabel": {
           "align": "left"
          },
          "hovermode": "closest",
          "mapbox": {
           "style": "light"
          },
          "paper_bgcolor": "white",
          "plot_bgcolor": "#E5ECF6",
          "polar": {
           "angularaxis": {
            "gridcolor": "white",
            "linecolor": "white",
            "ticks": ""
           },
           "bgcolor": "#E5ECF6",
           "radialaxis": {
            "gridcolor": "white",
            "linecolor": "white",
            "ticks": ""
           }
          },
          "scene": {
           "xaxis": {
            "backgroundcolor": "#E5ECF6",
            "gridcolor": "white",
            "gridwidth": 2,
            "linecolor": "white",
            "showbackground": true,
            "ticks": "",
            "zerolinecolor": "white"
           },
           "yaxis": {
            "backgroundcolor": "#E5ECF6",
            "gridcolor": "white",
            "gridwidth": 2,
            "linecolor": "white",
            "showbackground": true,
            "ticks": "",
            "zerolinecolor": "white"
           },
           "zaxis": {
            "backgroundcolor": "#E5ECF6",
            "gridcolor": "white",
            "gridwidth": 2,
            "linecolor": "white",
            "showbackground": true,
            "ticks": "",
            "zerolinecolor": "white"
           }
          },
          "shapedefaults": {
           "line": {
            "color": "#2a3f5f"
           }
          },
          "ternary": {
           "aaxis": {
            "gridcolor": "white",
            "linecolor": "white",
            "ticks": ""
           },
           "baxis": {
            "gridcolor": "white",
            "linecolor": "white",
            "ticks": ""
           },
           "bgcolor": "#E5ECF6",
           "caxis": {
            "gridcolor": "white",
            "linecolor": "white",
            "ticks": ""
           }
          },
          "title": {
           "x": 0.05
          },
          "xaxis": {
           "automargin": true,
           "gridcolor": "white",
           "linecolor": "white",
           "ticks": "",
           "title": {
            "standoff": 15
           },
           "zerolinecolor": "white",
           "zerolinewidth": 2
          },
          "yaxis": {
           "automargin": true,
           "gridcolor": "white",
           "linecolor": "white",
           "ticks": "",
           "title": {
            "standoff": 15
           },
           "zerolinecolor": "white",
           "zerolinewidth": 2
          }
         }
        },
        "xaxis": {
         "title": {
          "text": "Recámaras"
         }
        },
        "yaxis": {
         "gridcolor": "#dddcda",
         "title": {
          "text": "$"
         }
        }
       }
      }
     },
     "metadata": {},
     "output_type": "display_data"
    }
   ],
   "source": [
    "import pandas as pd\n",
    "import plotly.graph_objects as go\n",
    "import locale\n",
    "\n",
    "# Establecer configuración regional para el formato de precios\n",
    "locale.setlocale(locale.LC_ALL, '')\n",
    "\n",
    "# Definir función para formatear precios\n",
    "def format_price(price):\n",
    "    return locale.currency(price, grouping=True)\n",
    "\n",
    "# Crear una lista de etiquetas para el eje x\n",
    "etiquetas = [str(recamaras) if recamaras != 16 else '16+' for recamaras in df_promedio_casas['Recamaras']]\n",
    "\n",
    "# Obtener los precios y el número de recámaras\n",
    "precios = df_promedio_casas['precio']\n",
    "\n",
    "# Crear el texto con los precios formateados\n",
    "text_precios = [format_price(precio) for precio in precios]\n",
    "\n",
    "colores = ['#2962ff', '#9500ff', '#ff0059', '#ff8c00', '#b4e600', '#2EC2A2','#E50CB6','#4225CF','#2CBA4D','#2962ff', '#9500ff', '#ff0059']\n",
    "\n",
    "fig = go.Figure()\n",
    "fig.add_trace(go.Bar(\n",
    "    x=etiquetas,\n",
    "    y=precios,\n",
    "    text=text_precios,\n",
    "    marker_color=colores,\n",
    "    textposition='auto' \n",
    "))\n",
    "fig.update_layout(\n",
    "    #title='Precio promedio por número de baños',\n",
    "    xaxis=dict(title='Recámaras'),\n",
    "    yaxis=dict(title='$', gridcolor='#dddcda', ),\n",
    "    bargap=0.1,\n",
    "    bargroupgap=0.05,\n",
    "    plot_bgcolor='rgba(0,0,0,0)',\n",
    "    margin=dict(l=10, r=10, t=10, b=10),  # Ajusta los márgenes (left, right, top, bottom)        \n",
    ")\n",
    "\n",
    "fig.show()"
   ]
  },
  {
   "cell_type": "code",
   "execution_count": 17,
   "metadata": {},
   "outputs": [
    {
     "data": {
      "text/html": [
       "<div>\n",
       "<style scoped>\n",
       "    .dataframe tbody tr th:only-of-type {\n",
       "        vertical-align: middle;\n",
       "    }\n",
       "\n",
       "    .dataframe tbody tr th {\n",
       "        vertical-align: top;\n",
       "    }\n",
       "\n",
       "    .dataframe thead th {\n",
       "        text-align: right;\n",
       "    }\n",
       "</style>\n",
       "<table border=\"1\" class=\"dataframe\">\n",
       "  <thead>\n",
       "    <tr style=\"text-align: right;\">\n",
       "      <th></th>\n",
       "      <th>precio</th>\n",
       "      <th>Recamaras</th>\n",
       "      <th>Tipo</th>\n",
       "    </tr>\n",
       "  </thead>\n",
       "  <tbody>\n",
       "    <tr>\n",
       "      <th>27</th>\n",
       "      <td>2000000</td>\n",
       "      <td>1</td>\n",
       "      <td>Casa</td>\n",
       "    </tr>\n",
       "    <tr>\n",
       "      <th>125</th>\n",
       "      <td>2000000</td>\n",
       "      <td>1</td>\n",
       "      <td>Casa</td>\n",
       "    </tr>\n",
       "    <tr>\n",
       "      <th>77</th>\n",
       "      <td>799000</td>\n",
       "      <td>1</td>\n",
       "      <td>Casa</td>\n",
       "    </tr>\n",
       "    <tr>\n",
       "      <th>142</th>\n",
       "      <td>2000000</td>\n",
       "      <td>1</td>\n",
       "      <td>Casa</td>\n",
       "    </tr>\n",
       "    <tr>\n",
       "      <th>84</th>\n",
       "      <td>2000000</td>\n",
       "      <td>1</td>\n",
       "      <td>Casa</td>\n",
       "    </tr>\n",
       "    <tr>\n",
       "      <th>127</th>\n",
       "      <td>2000000</td>\n",
       "      <td>1</td>\n",
       "      <td>Casa</td>\n",
       "    </tr>\n",
       "  </tbody>\n",
       "</table>\n",
       "</div>"
      ],
      "text/plain": [
       "      precio  Recamaras  Tipo\n",
       "27   2000000          1  Casa\n",
       "125  2000000          1  Casa\n",
       "77    799000          1  Casa\n",
       "142  2000000          1  Casa\n",
       "84   2000000          1  Casa\n",
       "127  2000000          1  Casa"
      ]
     },
     "execution_count": 17,
     "metadata": {},
     "output_type": "execute_result"
    }
   ],
   "source": [
    "recam_five = casas[casas['Recamaras']==1]\n",
    "recam_five[['precio','Recamaras','Tipo']]"
   ]
  },
  {
   "cell_type": "code",
   "execution_count": 18,
   "metadata": {},
   "outputs": [
    {
     "data": {
      "text/html": [
       "<div>\n",
       "<style scoped>\n",
       "    .dataframe tbody tr th:only-of-type {\n",
       "        vertical-align: middle;\n",
       "    }\n",
       "\n",
       "    .dataframe tbody tr th {\n",
       "        vertical-align: top;\n",
       "    }\n",
       "\n",
       "    .dataframe thead th {\n",
       "        text-align: right;\n",
       "    }\n",
       "</style>\n",
       "<table border=\"1\" class=\"dataframe\">\n",
       "  <thead>\n",
       "    <tr style=\"text-align: right;\">\n",
       "      <th></th>\n",
       "      <th>precio</th>\n",
       "      <th>Recamaras</th>\n",
       "    </tr>\n",
       "  </thead>\n",
       "  <tbody>\n",
       "    <tr>\n",
       "      <th>27</th>\n",
       "      <td>2000000</td>\n",
       "      <td>1</td>\n",
       "    </tr>\n",
       "    <tr>\n",
       "      <th>28</th>\n",
       "      <td>2000000</td>\n",
       "      <td>3</td>\n",
       "    </tr>\n",
       "    <tr>\n",
       "      <th>125</th>\n",
       "      <td>2000000</td>\n",
       "      <td>1</td>\n",
       "    </tr>\n",
       "    <tr>\n",
       "      <th>41</th>\n",
       "      <td>2000000</td>\n",
       "      <td>3</td>\n",
       "    </tr>\n",
       "    <tr>\n",
       "      <th>142</th>\n",
       "      <td>2000000</td>\n",
       "      <td>1</td>\n",
       "    </tr>\n",
       "    <tr>\n",
       "      <th>83</th>\n",
       "      <td>2000000</td>\n",
       "      <td>3</td>\n",
       "    </tr>\n",
       "    <tr>\n",
       "      <th>84</th>\n",
       "      <td>2000000</td>\n",
       "      <td>1</td>\n",
       "    </tr>\n",
       "    <tr>\n",
       "      <th>127</th>\n",
       "      <td>2000000</td>\n",
       "      <td>1</td>\n",
       "    </tr>\n",
       "  </tbody>\n",
       "</table>\n",
       "</div>"
      ],
      "text/plain": [
       "      precio  Recamaras\n",
       "27   2000000          1\n",
       "28   2000000          3\n",
       "125  2000000          1\n",
       "41   2000000          3\n",
       "142  2000000          1\n",
       "83   2000000          3\n",
       "84   2000000          1\n",
       "127  2000000          1"
      ]
     },
     "execution_count": 18,
     "metadata": {},
     "output_type": "execute_result"
    }
   ],
   "source": [
    "registro_especifico = casas[casas['precio']==2000000]\n",
    "registro_especifico[['precio','Recamaras']]"
   ]
  },
  {
   "cell_type": "code",
   "execution_count": 20,
   "metadata": {},
   "outputs": [
    {
     "data": {
      "text/html": [
       "<div>\n",
       "<style scoped>\n",
       "    .dataframe tbody tr th:only-of-type {\n",
       "        vertical-align: middle;\n",
       "    }\n",
       "\n",
       "    .dataframe tbody tr th {\n",
       "        vertical-align: top;\n",
       "    }\n",
       "\n",
       "    .dataframe thead th {\n",
       "        text-align: right;\n",
       "    }\n",
       "</style>\n",
       "<table border=\"1\" class=\"dataframe\">\n",
       "  <thead>\n",
       "    <tr style=\"text-align: right;\">\n",
       "      <th></th>\n",
       "      <th>Recamaras</th>\n",
       "      <th>precio</th>\n",
       "    </tr>\n",
       "  </thead>\n",
       "  <tbody>\n",
       "    <tr>\n",
       "      <th>0</th>\n",
       "      <td>1</td>\n",
       "      <td>1399500.0</td>\n",
       "    </tr>\n",
       "  </tbody>\n",
       "</table>\n",
       "</div>"
      ],
      "text/plain": [
       "   Recamaras     precio\n",
       "0          1  1399500.0"
      ]
     },
     "execution_count": 20,
     "metadata": {},
     "output_type": "execute_result"
    }
   ],
   "source": [
    "casas = pd.concat([casas[casas['Recamaras'] != 1], casas[casas['Recamaras'] == 1].drop_duplicates(subset=['precio', 'Recamaras', 'Tipo'])])\n",
    "recam_five = casas[casas['Recamaras']==1]\n",
    "promedios = recam_five.groupby('Recamaras')['precio'].mean().reset_index()\n",
    "promedios"
   ]
  },
  {
   "cell_type": "code",
   "execution_count": 21,
   "metadata": {},
   "outputs": [],
   "source": [
    "#casas = casas[~((casas['precio']==2000000) & (casas['Recamaras']==1))]\n",
    "casas_copia = casas.copy()\n",
    "#recam_five = casas_copia[casas_copia['Recamaras']==1]\n",
    "#recam_five"
   ]
  },
  {
   "cell_type": "code",
   "execution_count": 22,
   "metadata": {},
   "outputs": [
    {
     "data": {
      "text/html": [
       "<div>\n",
       "<style scoped>\n",
       "    .dataframe tbody tr th:only-of-type {\n",
       "        vertical-align: middle;\n",
       "    }\n",
       "\n",
       "    .dataframe tbody tr th {\n",
       "        vertical-align: top;\n",
       "    }\n",
       "\n",
       "    .dataframe thead th {\n",
       "        text-align: right;\n",
       "    }\n",
       "</style>\n",
       "<table border=\"1\" class=\"dataframe\">\n",
       "  <thead>\n",
       "    <tr style=\"text-align: right;\">\n",
       "      <th></th>\n",
       "      <th>precio</th>\n",
       "      <th>Recamaras</th>\n",
       "      <th>Tipo</th>\n",
       "    </tr>\n",
       "  </thead>\n",
       "  <tbody>\n",
       "    <tr>\n",
       "      <th>20</th>\n",
       "      <td>500000</td>\n",
       "      <td>5</td>\n",
       "      <td>Casa</td>\n",
       "    </tr>\n",
       "    <tr>\n",
       "      <th>18</th>\n",
       "      <td>500000</td>\n",
       "      <td>5</td>\n",
       "      <td>Casa</td>\n",
       "    </tr>\n",
       "    <tr>\n",
       "      <th>26</th>\n",
       "      <td>580000</td>\n",
       "      <td>5</td>\n",
       "      <td>Casa</td>\n",
       "    </tr>\n",
       "    <tr>\n",
       "      <th>105</th>\n",
       "      <td>580000</td>\n",
       "      <td>5</td>\n",
       "      <td>Casa</td>\n",
       "    </tr>\n",
       "    <tr>\n",
       "      <th>135</th>\n",
       "      <td>4300000</td>\n",
       "      <td>5</td>\n",
       "      <td>Casa</td>\n",
       "    </tr>\n",
       "    <tr>\n",
       "      <th>146</th>\n",
       "      <td>4300000</td>\n",
       "      <td>5</td>\n",
       "      <td>Casa</td>\n",
       "    </tr>\n",
       "    <tr>\n",
       "      <th>109</th>\n",
       "      <td>4300000</td>\n",
       "      <td>5</td>\n",
       "      <td>Casa</td>\n",
       "    </tr>\n",
       "    <tr>\n",
       "      <th>3</th>\n",
       "      <td>4300000</td>\n",
       "      <td>5</td>\n",
       "      <td>Casa</td>\n",
       "    </tr>\n",
       "    <tr>\n",
       "      <th>109</th>\n",
       "      <td>4300000</td>\n",
       "      <td>5</td>\n",
       "      <td>Casa</td>\n",
       "    </tr>\n",
       "    <tr>\n",
       "      <th>139</th>\n",
       "      <td>8000000</td>\n",
       "      <td>5</td>\n",
       "      <td>Casa</td>\n",
       "    </tr>\n",
       "    <tr>\n",
       "      <th>0</th>\n",
       "      <td>8000000</td>\n",
       "      <td>5</td>\n",
       "      <td>Casa</td>\n",
       "    </tr>\n",
       "    <tr>\n",
       "      <th>149</th>\n",
       "      <td>8000000</td>\n",
       "      <td>5</td>\n",
       "      <td>Casa</td>\n",
       "    </tr>\n",
       "    <tr>\n",
       "      <th>116</th>\n",
       "      <td>8000000</td>\n",
       "      <td>5</td>\n",
       "      <td>Casa</td>\n",
       "    </tr>\n",
       "    <tr>\n",
       "      <th>117</th>\n",
       "      <td>17000000</td>\n",
       "      <td>5</td>\n",
       "      <td>Casa</td>\n",
       "    </tr>\n",
       "  </tbody>\n",
       "</table>\n",
       "</div>"
      ],
      "text/plain": [
       "       precio  Recamaras  Tipo\n",
       "20     500000          5  Casa\n",
       "18     500000          5  Casa\n",
       "26     580000          5  Casa\n",
       "105    580000          5  Casa\n",
       "135   4300000          5  Casa\n",
       "146   4300000          5  Casa\n",
       "109   4300000          5  Casa\n",
       "3     4300000          5  Casa\n",
       "109   4300000          5  Casa\n",
       "139   8000000          5  Casa\n",
       "0     8000000          5  Casa\n",
       "149   8000000          5  Casa\n",
       "116   8000000          5  Casa\n",
       "117  17000000          5  Casa"
      ]
     },
     "execution_count": 22,
     "metadata": {},
     "output_type": "execute_result"
    }
   ],
   "source": [
    "recam_five = casas_copia[casas_copia['Recamaras']==5].sort_values(by='precio')\n",
    "recam_five[['precio', 'Recamaras', 'Tipo']]"
   ]
  },
  {
   "cell_type": "code",
   "execution_count": 24,
   "metadata": {},
   "outputs": [
    {
     "data": {
      "text/html": [
       "<div>\n",
       "<style scoped>\n",
       "    .dataframe tbody tr th:only-of-type {\n",
       "        vertical-align: middle;\n",
       "    }\n",
       "\n",
       "    .dataframe tbody tr th {\n",
       "        vertical-align: top;\n",
       "    }\n",
       "\n",
       "    .dataframe thead th {\n",
       "        text-align: right;\n",
       "    }\n",
       "</style>\n",
       "<table border=\"1\" class=\"dataframe\">\n",
       "  <thead>\n",
       "    <tr style=\"text-align: right;\">\n",
       "      <th></th>\n",
       "      <th>precio</th>\n",
       "      <th>Recamaras</th>\n",
       "      <th>Tipo</th>\n",
       "    </tr>\n",
       "  </thead>\n",
       "  <tbody>\n",
       "    <tr>\n",
       "      <th>1</th>\n",
       "      <td>4810000</td>\n",
       "      <td>4</td>\n",
       "      <td>Casa</td>\n",
       "    </tr>\n",
       "    <tr>\n",
       "      <th>4</th>\n",
       "      <td>3946465</td>\n",
       "      <td>3</td>\n",
       "      <td>Casa En Fraccionamiento</td>\n",
       "    </tr>\n",
       "    <tr>\n",
       "      <th>5</th>\n",
       "      <td>3750000</td>\n",
       "      <td>4</td>\n",
       "      <td>Casa</td>\n",
       "    </tr>\n",
       "    <tr>\n",
       "      <th>6</th>\n",
       "      <td>3555000</td>\n",
       "      <td>4</td>\n",
       "      <td>Casa En Fraccionamiento</td>\n",
       "    </tr>\n",
       "    <tr>\n",
       "      <th>7</th>\n",
       "      <td>3400000</td>\n",
       "      <td>3</td>\n",
       "      <td>Casa</td>\n",
       "    </tr>\n",
       "    <tr>\n",
       "      <th>...</th>\n",
       "      <td>...</td>\n",
       "      <td>...</td>\n",
       "      <td>...</td>\n",
       "    </tr>\n",
       "    <tr>\n",
       "      <th>0</th>\n",
       "      <td>8000000</td>\n",
       "      <td>5</td>\n",
       "      <td>Casa</td>\n",
       "    </tr>\n",
       "    <tr>\n",
       "      <th>3</th>\n",
       "      <td>4300000</td>\n",
       "      <td>5</td>\n",
       "      <td>Casa</td>\n",
       "    </tr>\n",
       "    <tr>\n",
       "      <th>105</th>\n",
       "      <td>580000</td>\n",
       "      <td>5</td>\n",
       "      <td>Casa</td>\n",
       "    </tr>\n",
       "    <tr>\n",
       "      <th>20</th>\n",
       "      <td>500000</td>\n",
       "      <td>5</td>\n",
       "      <td>Casa</td>\n",
       "    </tr>\n",
       "    <tr>\n",
       "      <th>117</th>\n",
       "      <td>17000000</td>\n",
       "      <td>5</td>\n",
       "      <td>Casa</td>\n",
       "    </tr>\n",
       "  </tbody>\n",
       "</table>\n",
       "<p>681 rows × 3 columns</p>\n",
       "</div>"
      ],
      "text/plain": [
       "       precio  Recamaras                     Tipo\n",
       "1     4810000          4                     Casa\n",
       "4     3946465          3  Casa En Fraccionamiento\n",
       "5     3750000          4                     Casa\n",
       "6     3555000          4  Casa En Fraccionamiento\n",
       "7     3400000          3                     Casa\n",
       "..        ...        ...                      ...\n",
       "0     8000000          5                     Casa\n",
       "3     4300000          5                     Casa\n",
       "105    580000          5                     Casa\n",
       "20     500000          5                     Casa\n",
       "117  17000000          5                     Casa\n",
       "\n",
       "[681 rows x 3 columns]"
      ]
     },
     "execution_count": 24,
     "metadata": {},
     "output_type": "execute_result"
    }
   ],
   "source": [
    "casas_copia = pd.concat([casas_copia[casas_copia['Recamaras'] != 5], casas_copia[casas_copia['Recamaras'] == 5].drop_duplicates(subset=['precio', 'Recamaras', 'Tipo'])])\n",
    "casas_copia[['precio', 'Recamaras', 'Tipo']]"
   ]
  },
  {
   "cell_type": "code",
   "execution_count": 25,
   "metadata": {},
   "outputs": [
    {
     "data": {
      "text/html": [
       "<div>\n",
       "<style scoped>\n",
       "    .dataframe tbody tr th:only-of-type {\n",
       "        vertical-align: middle;\n",
       "    }\n",
       "\n",
       "    .dataframe tbody tr th {\n",
       "        vertical-align: top;\n",
       "    }\n",
       "\n",
       "    .dataframe thead th {\n",
       "        text-align: right;\n",
       "    }\n",
       "</style>\n",
       "<table border=\"1\" class=\"dataframe\">\n",
       "  <thead>\n",
       "    <tr style=\"text-align: right;\">\n",
       "      <th></th>\n",
       "      <th>precio</th>\n",
       "      <th>Recamaras</th>\n",
       "      <th>Tipo</th>\n",
       "    </tr>\n",
       "  </thead>\n",
       "  <tbody>\n",
       "    <tr>\n",
       "      <th>20</th>\n",
       "      <td>500000</td>\n",
       "      <td>5</td>\n",
       "      <td>Casa</td>\n",
       "    </tr>\n",
       "    <tr>\n",
       "      <th>105</th>\n",
       "      <td>580000</td>\n",
       "      <td>5</td>\n",
       "      <td>Casa</td>\n",
       "    </tr>\n",
       "    <tr>\n",
       "      <th>3</th>\n",
       "      <td>4300000</td>\n",
       "      <td>5</td>\n",
       "      <td>Casa</td>\n",
       "    </tr>\n",
       "    <tr>\n",
       "      <th>0</th>\n",
       "      <td>8000000</td>\n",
       "      <td>5</td>\n",
       "      <td>Casa</td>\n",
       "    </tr>\n",
       "    <tr>\n",
       "      <th>117</th>\n",
       "      <td>17000000</td>\n",
       "      <td>5</td>\n",
       "      <td>Casa</td>\n",
       "    </tr>\n",
       "  </tbody>\n",
       "</table>\n",
       "</div>"
      ],
      "text/plain": [
       "       precio  Recamaras  Tipo\n",
       "20     500000          5  Casa\n",
       "105    580000          5  Casa\n",
       "3     4300000          5  Casa\n",
       "0     8000000          5  Casa\n",
       "117  17000000          5  Casa"
      ]
     },
     "execution_count": 25,
     "metadata": {},
     "output_type": "execute_result"
    }
   ],
   "source": [
    "recam_five = casas_copia[casas_copia['Recamaras']==5].sort_values(by='precio')\n",
    "recam_five[['precio', 'Recamaras', 'Tipo']]"
   ]
  },
  {
   "cell_type": "code",
   "execution_count": 26,
   "metadata": {},
   "outputs": [
    {
     "data": {
      "text/html": [
       "<div>\n",
       "<style scoped>\n",
       "    .dataframe tbody tr th:only-of-type {\n",
       "        vertical-align: middle;\n",
       "    }\n",
       "\n",
       "    .dataframe tbody tr th {\n",
       "        vertical-align: top;\n",
       "    }\n",
       "\n",
       "    .dataframe thead th {\n",
       "        text-align: right;\n",
       "    }\n",
       "</style>\n",
       "<table border=\"1\" class=\"dataframe\">\n",
       "  <thead>\n",
       "    <tr style=\"text-align: right;\">\n",
       "      <th></th>\n",
       "      <th>Recamaras</th>\n",
       "      <th>precio</th>\n",
       "    </tr>\n",
       "  </thead>\n",
       "  <tbody>\n",
       "    <tr>\n",
       "      <th>0</th>\n",
       "      <td>5</td>\n",
       "      <td>6076000.0</td>\n",
       "    </tr>\n",
       "  </tbody>\n",
       "</table>\n",
       "</div>"
      ],
      "text/plain": [
       "   Recamaras     precio\n",
       "0          5  6076000.0"
      ]
     },
     "execution_count": 26,
     "metadata": {},
     "output_type": "execute_result"
    }
   ],
   "source": [
    "promedios = recam_five.groupby('Recamaras')['precio'].mean().reset_index()\n",
    "promedios"
   ]
  },
  {
   "cell_type": "code",
   "execution_count": 36,
   "metadata": {},
   "outputs": [
    {
     "data": {
      "text/html": [
       "<div>\n",
       "<style scoped>\n",
       "    .dataframe tbody tr th:only-of-type {\n",
       "        vertical-align: middle;\n",
       "    }\n",
       "\n",
       "    .dataframe tbody tr th {\n",
       "        vertical-align: top;\n",
       "    }\n",
       "\n",
       "    .dataframe thead th {\n",
       "        text-align: right;\n",
       "    }\n",
       "</style>\n",
       "<table border=\"1\" class=\"dataframe\">\n",
       "  <thead>\n",
       "    <tr style=\"text-align: right;\">\n",
       "      <th></th>\n",
       "      <th>precio</th>\n",
       "      <th>Recamaras</th>\n",
       "      <th>Tipo</th>\n",
       "    </tr>\n",
       "  </thead>\n",
       "  <tbody>\n",
       "    <tr>\n",
       "      <th>20</th>\n",
       "      <td>500000</td>\n",
       "      <td>5</td>\n",
       "      <td>Casa</td>\n",
       "    </tr>\n",
       "    <tr>\n",
       "      <th>105</th>\n",
       "      <td>580000</td>\n",
       "      <td>5</td>\n",
       "      <td>Casa</td>\n",
       "    </tr>\n",
       "    <tr>\n",
       "      <th>3</th>\n",
       "      <td>4300000</td>\n",
       "      <td>5</td>\n",
       "      <td>Casa</td>\n",
       "    </tr>\n",
       "    <tr>\n",
       "      <th>0</th>\n",
       "      <td>8000000</td>\n",
       "      <td>5</td>\n",
       "      <td>Casa</td>\n",
       "    </tr>\n",
       "  </tbody>\n",
       "</table>\n",
       "</div>"
      ],
      "text/plain": [
       "      precio  Recamaras  Tipo\n",
       "20    500000          5  Casa\n",
       "105   580000          5  Casa\n",
       "3    4300000          5  Casa\n",
       "0    8000000          5  Casa"
      ]
     },
     "execution_count": 36,
     "metadata": {},
     "output_type": "execute_result"
    }
   ],
   "source": [
    "casasss = casas_copia[~((casas_copia['precio']==17000000) & (casas_copia['Recamaras']==5))]\n",
    "recam_five = casasss[casasss['Recamaras']==5].sort_values(by='precio')\n",
    "recam_five[['precio', 'Recamaras', 'Tipo']]"
   ]
  },
  {
   "cell_type": "code",
   "execution_count": 37,
   "metadata": {},
   "outputs": [
    {
     "data": {
      "text/html": [
       "<div>\n",
       "<style scoped>\n",
       "    .dataframe tbody tr th:only-of-type {\n",
       "        vertical-align: middle;\n",
       "    }\n",
       "\n",
       "    .dataframe tbody tr th {\n",
       "        vertical-align: top;\n",
       "    }\n",
       "\n",
       "    .dataframe thead th {\n",
       "        text-align: right;\n",
       "    }\n",
       "</style>\n",
       "<table border=\"1\" class=\"dataframe\">\n",
       "  <thead>\n",
       "    <tr style=\"text-align: right;\">\n",
       "      <th></th>\n",
       "      <th>Recamaras</th>\n",
       "      <th>precio</th>\n",
       "    </tr>\n",
       "  </thead>\n",
       "  <tbody>\n",
       "    <tr>\n",
       "      <th>0</th>\n",
       "      <td>5</td>\n",
       "      <td>3345000.0</td>\n",
       "    </tr>\n",
       "  </tbody>\n",
       "</table>\n",
       "</div>"
      ],
      "text/plain": [
       "   Recamaras     precio\n",
       "0          5  3345000.0"
      ]
     },
     "execution_count": 37,
     "metadata": {},
     "output_type": "execute_result"
    }
   ],
   "source": [
    "promedios = recam_five.groupby('Recamaras')['precio'].mean().reset_index()\n",
    "promedios"
   ]
  },
  {
   "cell_type": "code",
   "execution_count": 38,
   "metadata": {},
   "outputs": [
    {
     "data": {
      "text/html": [
       "<div>\n",
       "<style scoped>\n",
       "    .dataframe tbody tr th:only-of-type {\n",
       "        vertical-align: middle;\n",
       "    }\n",
       "\n",
       "    .dataframe tbody tr th {\n",
       "        vertical-align: top;\n",
       "    }\n",
       "\n",
       "    .dataframe thead th {\n",
       "        text-align: right;\n",
       "    }\n",
       "</style>\n",
       "<table border=\"1\" class=\"dataframe\">\n",
       "  <thead>\n",
       "    <tr style=\"text-align: right;\">\n",
       "      <th></th>\n",
       "      <th>precio</th>\n",
       "      <th>Recamaras</th>\n",
       "      <th>Tipo</th>\n",
       "    </tr>\n",
       "  </thead>\n",
       "  <tbody>\n",
       "    <tr>\n",
       "      <th>26</th>\n",
       "      <td>2159000</td>\n",
       "      <td>6</td>\n",
       "      <td>Casa</td>\n",
       "    </tr>\n",
       "    <tr>\n",
       "      <th>55</th>\n",
       "      <td>2159000</td>\n",
       "      <td>6</td>\n",
       "      <td>Casa</td>\n",
       "    </tr>\n",
       "    <tr>\n",
       "      <th>113</th>\n",
       "      <td>2159000</td>\n",
       "      <td>6</td>\n",
       "      <td>Casa</td>\n",
       "    </tr>\n",
       "    <tr>\n",
       "      <th>85</th>\n",
       "      <td>2159000</td>\n",
       "      <td>6</td>\n",
       "      <td>Casa</td>\n",
       "    </tr>\n",
       "    <tr>\n",
       "      <th>128</th>\n",
       "      <td>2159000</td>\n",
       "      <td>6</td>\n",
       "      <td>Casa</td>\n",
       "    </tr>\n",
       "    <tr>\n",
       "      <th>0</th>\n",
       "      <td>2499000</td>\n",
       "      <td>6</td>\n",
       "      <td>Casa</td>\n",
       "    </tr>\n",
       "    <tr>\n",
       "      <th>140</th>\n",
       "      <td>10000000</td>\n",
       "      <td>6</td>\n",
       "      <td>Casa</td>\n",
       "    </tr>\n",
       "  </tbody>\n",
       "</table>\n",
       "</div>"
      ],
      "text/plain": [
       "       precio  Recamaras  Tipo\n",
       "26    2159000          6  Casa\n",
       "55    2159000          6  Casa\n",
       "113   2159000          6  Casa\n",
       "85    2159000          6  Casa\n",
       "128   2159000          6  Casa\n",
       "0     2499000          6  Casa\n",
       "140  10000000          6  Casa"
      ]
     },
     "execution_count": 38,
     "metadata": {},
     "output_type": "execute_result"
    }
   ],
   "source": [
    "recam_five = casas_copia[casas_copia['Recamaras']==6].sort_values(by='precio')\n",
    "recam_five[['precio', 'Recamaras', 'Tipo']]"
   ]
  },
  {
   "cell_type": "code",
   "execution_count": 39,
   "metadata": {},
   "outputs": [
    {
     "data": {
      "text/html": [
       "<div>\n",
       "<style scoped>\n",
       "    .dataframe tbody tr th:only-of-type {\n",
       "        vertical-align: middle;\n",
       "    }\n",
       "\n",
       "    .dataframe tbody tr th {\n",
       "        vertical-align: top;\n",
       "    }\n",
       "\n",
       "    .dataframe thead th {\n",
       "        text-align: right;\n",
       "    }\n",
       "</style>\n",
       "<table border=\"1\" class=\"dataframe\">\n",
       "  <thead>\n",
       "    <tr style=\"text-align: right;\">\n",
       "      <th></th>\n",
       "      <th>precio</th>\n",
       "      <th>Recamaras</th>\n",
       "      <th>Tipo</th>\n",
       "    </tr>\n",
       "  </thead>\n",
       "  <tbody>\n",
       "    <tr>\n",
       "      <th>26</th>\n",
       "      <td>2159000</td>\n",
       "      <td>6</td>\n",
       "      <td>Casa</td>\n",
       "    </tr>\n",
       "    <tr>\n",
       "      <th>0</th>\n",
       "      <td>2499000</td>\n",
       "      <td>6</td>\n",
       "      <td>Casa</td>\n",
       "    </tr>\n",
       "    <tr>\n",
       "      <th>140</th>\n",
       "      <td>10000000</td>\n",
       "      <td>6</td>\n",
       "      <td>Casa</td>\n",
       "    </tr>\n",
       "  </tbody>\n",
       "</table>\n",
       "</div>"
      ],
      "text/plain": [
       "       precio  Recamaras  Tipo\n",
       "26    2159000          6  Casa\n",
       "0     2499000          6  Casa\n",
       "140  10000000          6  Casa"
      ]
     },
     "execution_count": 39,
     "metadata": {},
     "output_type": "execute_result"
    }
   ],
   "source": [
    "casasss = pd.concat([casasss[casasss['Recamaras'] != 6], casasss[casasss['Recamaras'] == 6].drop_duplicates(subset=['precio', 'Recamaras', 'Tipo'])])\n",
    "recam_five = casasss[casasss['Recamaras']==6].sort_values(by='precio')\n",
    "recam_five[['precio', 'Recamaras', 'Tipo']]"
   ]
  },
  {
   "cell_type": "code",
   "execution_count": 40,
   "metadata": {},
   "outputs": [
    {
     "data": {
      "text/html": [
       "<div>\n",
       "<style scoped>\n",
       "    .dataframe tbody tr th:only-of-type {\n",
       "        vertical-align: middle;\n",
       "    }\n",
       "\n",
       "    .dataframe tbody tr th {\n",
       "        vertical-align: top;\n",
       "    }\n",
       "\n",
       "    .dataframe thead th {\n",
       "        text-align: right;\n",
       "    }\n",
       "</style>\n",
       "<table border=\"1\" class=\"dataframe\">\n",
       "  <thead>\n",
       "    <tr style=\"text-align: right;\">\n",
       "      <th></th>\n",
       "      <th>Recamaras</th>\n",
       "      <th>precio</th>\n",
       "    </tr>\n",
       "  </thead>\n",
       "  <tbody>\n",
       "    <tr>\n",
       "      <th>0</th>\n",
       "      <td>6</td>\n",
       "      <td>4886000.0</td>\n",
       "    </tr>\n",
       "  </tbody>\n",
       "</table>\n",
       "</div>"
      ],
      "text/plain": [
       "   Recamaras     precio\n",
       "0          6  4886000.0"
      ]
     },
     "execution_count": 40,
     "metadata": {},
     "output_type": "execute_result"
    }
   ],
   "source": [
    "promedios = recam_five.groupby('Recamaras')['precio'].mean().reset_index()\n",
    "promedios"
   ]
  },
  {
   "cell_type": "code",
   "execution_count": 41,
   "metadata": {},
   "outputs": [
    {
     "data": {
      "text/html": [
       "<div>\n",
       "<style scoped>\n",
       "    .dataframe tbody tr th:only-of-type {\n",
       "        vertical-align: middle;\n",
       "    }\n",
       "\n",
       "    .dataframe tbody tr th {\n",
       "        vertical-align: top;\n",
       "    }\n",
       "\n",
       "    .dataframe thead th {\n",
       "        text-align: right;\n",
       "    }\n",
       "</style>\n",
       "<table border=\"1\" class=\"dataframe\">\n",
       "  <thead>\n",
       "    <tr style=\"text-align: right;\">\n",
       "      <th></th>\n",
       "      <th>precio</th>\n",
       "      <th>Recamaras</th>\n",
       "      <th>Tipo</th>\n",
       "    </tr>\n",
       "  </thead>\n",
       "  <tbody>\n",
       "    <tr>\n",
       "      <th>116</th>\n",
       "      <td>3600000</td>\n",
       "      <td>7</td>\n",
       "      <td>Casa</td>\n",
       "    </tr>\n",
       "    <tr>\n",
       "      <th>105</th>\n",
       "      <td>3600000</td>\n",
       "      <td>7</td>\n",
       "      <td>Casa</td>\n",
       "    </tr>\n",
       "    <tr>\n",
       "      <th>118</th>\n",
       "      <td>17500000</td>\n",
       "      <td>7</td>\n",
       "      <td>Casa</td>\n",
       "    </tr>\n",
       "  </tbody>\n",
       "</table>\n",
       "</div>"
      ],
      "text/plain": [
       "       precio  Recamaras  Tipo\n",
       "116   3600000          7  Casa\n",
       "105   3600000          7  Casa\n",
       "118  17500000          7  Casa"
      ]
     },
     "execution_count": 41,
     "metadata": {},
     "output_type": "execute_result"
    }
   ],
   "source": [
    "recam_five = casasss[casasss['Recamaras']==7].sort_values(by='precio')\n",
    "recam_five[['precio', 'Recamaras', 'Tipo']]"
   ]
  },
  {
   "cell_type": "code",
   "execution_count": 42,
   "metadata": {},
   "outputs": [
    {
     "data": {
      "text/html": [
       "<div>\n",
       "<style scoped>\n",
       "    .dataframe tbody tr th:only-of-type {\n",
       "        vertical-align: middle;\n",
       "    }\n",
       "\n",
       "    .dataframe tbody tr th {\n",
       "        vertical-align: top;\n",
       "    }\n",
       "\n",
       "    .dataframe thead th {\n",
       "        text-align: right;\n",
       "    }\n",
       "</style>\n",
       "<table border=\"1\" class=\"dataframe\">\n",
       "  <thead>\n",
       "    <tr style=\"text-align: right;\">\n",
       "      <th></th>\n",
       "      <th>precio</th>\n",
       "      <th>Recamaras</th>\n",
       "      <th>Tipo</th>\n",
       "    </tr>\n",
       "  </thead>\n",
       "  <tbody>\n",
       "    <tr>\n",
       "      <th>116</th>\n",
       "      <td>3600000</td>\n",
       "      <td>7</td>\n",
       "      <td>Casa</td>\n",
       "    </tr>\n",
       "    <tr>\n",
       "      <th>118</th>\n",
       "      <td>17500000</td>\n",
       "      <td>7</td>\n",
       "      <td>Casa</td>\n",
       "    </tr>\n",
       "  </tbody>\n",
       "</table>\n",
       "</div>"
      ],
      "text/plain": [
       "       precio  Recamaras  Tipo\n",
       "116   3600000          7  Casa\n",
       "118  17500000          7  Casa"
      ]
     },
     "execution_count": 42,
     "metadata": {},
     "output_type": "execute_result"
    }
   ],
   "source": [
    "casasss = pd.concat([casasss[casasss['Recamaras'] != 7], casasss[casasss['Recamaras'] == 7].drop_duplicates(subset=['precio', 'Recamaras', 'Tipo'])])\n",
    "recam_five = casasss[casasss['Recamaras']==7].sort_values(by='precio')\n",
    "recam_five[['precio', 'Recamaras', 'Tipo']]"
   ]
  },
  {
   "cell_type": "code",
   "execution_count": 47,
   "metadata": {},
   "outputs": [
    {
     "data": {
      "text/html": [
       "<div>\n",
       "<style scoped>\n",
       "    .dataframe tbody tr th:only-of-type {\n",
       "        vertical-align: middle;\n",
       "    }\n",
       "\n",
       "    .dataframe tbody tr th {\n",
       "        vertical-align: top;\n",
       "    }\n",
       "\n",
       "    .dataframe thead th {\n",
       "        text-align: right;\n",
       "    }\n",
       "</style>\n",
       "<table border=\"1\" class=\"dataframe\">\n",
       "  <thead>\n",
       "    <tr style=\"text-align: right;\">\n",
       "      <th></th>\n",
       "      <th>Recamaras</th>\n",
       "      <th>precio</th>\n",
       "    </tr>\n",
       "  </thead>\n",
       "  <tbody>\n",
       "    <tr>\n",
       "      <th>0</th>\n",
       "      <td>1</td>\n",
       "      <td>7.990000e+05</td>\n",
       "    </tr>\n",
       "    <tr>\n",
       "      <th>1</th>\n",
       "      <td>2</td>\n",
       "      <td>1.043849e+06</td>\n",
       "    </tr>\n",
       "    <tr>\n",
       "      <th>2</th>\n",
       "      <td>3</td>\n",
       "      <td>1.307932e+06</td>\n",
       "    </tr>\n",
       "    <tr>\n",
       "      <th>3</th>\n",
       "      <td>4</td>\n",
       "      <td>1.526766e+06</td>\n",
       "    </tr>\n",
       "    <tr>\n",
       "      <th>4</th>\n",
       "      <td>5</td>\n",
       "      <td>3.345000e+06</td>\n",
       "    </tr>\n",
       "    <tr>\n",
       "      <th>5</th>\n",
       "      <td>6</td>\n",
       "      <td>4.886000e+06</td>\n",
       "    </tr>\n",
       "    <tr>\n",
       "      <th>6</th>\n",
       "      <td>7</td>\n",
       "      <td>1.055000e+07</td>\n",
       "    </tr>\n",
       "  </tbody>\n",
       "</table>\n",
       "</div>"
      ],
      "text/plain": [
       "   Recamaras        precio\n",
       "0          1  7.990000e+05\n",
       "1          2  1.043849e+06\n",
       "2          3  1.307932e+06\n",
       "3          4  1.526766e+06\n",
       "4          5  3.345000e+06\n",
       "5          6  4.886000e+06\n",
       "6          7  1.055000e+07"
      ]
     },
     "execution_count": 47,
     "metadata": {},
     "output_type": "execute_result"
    }
   ],
   "source": [
    "# Ajustar los valores para que no superen un #\n",
    "casasss.loc[:, 'Recamaras'] = casasss['Recamaras'].clip(lower=1,upper=8)\n",
    "# Calcular el promedio de precio por el número único \n",
    "df_promedio_casas = casasss.groupby('Recamaras')['precio'].mean().reset_index()\n",
    "df_promedio_casas"
   ]
  },
  {
   "cell_type": "code",
   "execution_count": 48,
   "metadata": {},
   "outputs": [
    {
     "data": {
      "application/vnd.plotly.v1+json": {
       "config": {
        "plotlyServerURL": "https://plot.ly"
       },
       "data": [
        {
         "marker": {
          "color": [
           "#2962ff",
           "#9500ff",
           "#ff0059",
           "#ff8c00",
           "#b4e600",
           "#2EC2A2",
           "#E50CB6",
           "#4225CF",
           "#2CBA4D",
           "#2962ff",
           "#9500ff",
           "#ff0059"
          ]
         },
         "text": [
          "$799,000.00",
          "$1,043,848.96",
          "$1,307,932.28",
          "$1,526,766.17",
          "$3,345,000.00",
          "$4,886,000.00",
          "$10,550,000.00"
         ],
         "textposition": "auto",
         "type": "bar",
         "x": [
          "1",
          "2",
          "3",
          "4",
          "5",
          "6",
          "7"
         ],
         "y": [
          799000,
          1043848.9572649573,
          1307932.2846347608,
          1526766.1733333333,
          3345000,
          4886000,
          10550000
         ]
        }
       ],
       "layout": {
        "bargap": 0.1,
        "bargroupgap": 0.05,
        "margin": {
         "b": 10,
         "l": 10,
         "r": 10,
         "t": 10
        },
        "plot_bgcolor": "rgba(0,0,0,0)",
        "template": {
         "data": {
          "bar": [
           {
            "error_x": {
             "color": "#2a3f5f"
            },
            "error_y": {
             "color": "#2a3f5f"
            },
            "marker": {
             "line": {
              "color": "#E5ECF6",
              "width": 0.5
             },
             "pattern": {
              "fillmode": "overlay",
              "size": 10,
              "solidity": 0.2
             }
            },
            "type": "bar"
           }
          ],
          "barpolar": [
           {
            "marker": {
             "line": {
              "color": "#E5ECF6",
              "width": 0.5
             },
             "pattern": {
              "fillmode": "overlay",
              "size": 10,
              "solidity": 0.2
             }
            },
            "type": "barpolar"
           }
          ],
          "carpet": [
           {
            "aaxis": {
             "endlinecolor": "#2a3f5f",
             "gridcolor": "white",
             "linecolor": "white",
             "minorgridcolor": "white",
             "startlinecolor": "#2a3f5f"
            },
            "baxis": {
             "endlinecolor": "#2a3f5f",
             "gridcolor": "white",
             "linecolor": "white",
             "minorgridcolor": "white",
             "startlinecolor": "#2a3f5f"
            },
            "type": "carpet"
           }
          ],
          "choropleth": [
           {
            "colorbar": {
             "outlinewidth": 0,
             "ticks": ""
            },
            "type": "choropleth"
           }
          ],
          "contour": [
           {
            "colorbar": {
             "outlinewidth": 0,
             "ticks": ""
            },
            "colorscale": [
             [
              0,
              "#0d0887"
             ],
             [
              0.1111111111111111,
              "#46039f"
             ],
             [
              0.2222222222222222,
              "#7201a8"
             ],
             [
              0.3333333333333333,
              "#9c179e"
             ],
             [
              0.4444444444444444,
              "#bd3786"
             ],
             [
              0.5555555555555556,
              "#d8576b"
             ],
             [
              0.6666666666666666,
              "#ed7953"
             ],
             [
              0.7777777777777778,
              "#fb9f3a"
             ],
             [
              0.8888888888888888,
              "#fdca26"
             ],
             [
              1,
              "#f0f921"
             ]
            ],
            "type": "contour"
           }
          ],
          "contourcarpet": [
           {
            "colorbar": {
             "outlinewidth": 0,
             "ticks": ""
            },
            "type": "contourcarpet"
           }
          ],
          "heatmap": [
           {
            "colorbar": {
             "outlinewidth": 0,
             "ticks": ""
            },
            "colorscale": [
             [
              0,
              "#0d0887"
             ],
             [
              0.1111111111111111,
              "#46039f"
             ],
             [
              0.2222222222222222,
              "#7201a8"
             ],
             [
              0.3333333333333333,
              "#9c179e"
             ],
             [
              0.4444444444444444,
              "#bd3786"
             ],
             [
              0.5555555555555556,
              "#d8576b"
             ],
             [
              0.6666666666666666,
              "#ed7953"
             ],
             [
              0.7777777777777778,
              "#fb9f3a"
             ],
             [
              0.8888888888888888,
              "#fdca26"
             ],
             [
              1,
              "#f0f921"
             ]
            ],
            "type": "heatmap"
           }
          ],
          "heatmapgl": [
           {
            "colorbar": {
             "outlinewidth": 0,
             "ticks": ""
            },
            "colorscale": [
             [
              0,
              "#0d0887"
             ],
             [
              0.1111111111111111,
              "#46039f"
             ],
             [
              0.2222222222222222,
              "#7201a8"
             ],
             [
              0.3333333333333333,
              "#9c179e"
             ],
             [
              0.4444444444444444,
              "#bd3786"
             ],
             [
              0.5555555555555556,
              "#d8576b"
             ],
             [
              0.6666666666666666,
              "#ed7953"
             ],
             [
              0.7777777777777778,
              "#fb9f3a"
             ],
             [
              0.8888888888888888,
              "#fdca26"
             ],
             [
              1,
              "#f0f921"
             ]
            ],
            "type": "heatmapgl"
           }
          ],
          "histogram": [
           {
            "marker": {
             "pattern": {
              "fillmode": "overlay",
              "size": 10,
              "solidity": 0.2
             }
            },
            "type": "histogram"
           }
          ],
          "histogram2d": [
           {
            "colorbar": {
             "outlinewidth": 0,
             "ticks": ""
            },
            "colorscale": [
             [
              0,
              "#0d0887"
             ],
             [
              0.1111111111111111,
              "#46039f"
             ],
             [
              0.2222222222222222,
              "#7201a8"
             ],
             [
              0.3333333333333333,
              "#9c179e"
             ],
             [
              0.4444444444444444,
              "#bd3786"
             ],
             [
              0.5555555555555556,
              "#d8576b"
             ],
             [
              0.6666666666666666,
              "#ed7953"
             ],
             [
              0.7777777777777778,
              "#fb9f3a"
             ],
             [
              0.8888888888888888,
              "#fdca26"
             ],
             [
              1,
              "#f0f921"
             ]
            ],
            "type": "histogram2d"
           }
          ],
          "histogram2dcontour": [
           {
            "colorbar": {
             "outlinewidth": 0,
             "ticks": ""
            },
            "colorscale": [
             [
              0,
              "#0d0887"
             ],
             [
              0.1111111111111111,
              "#46039f"
             ],
             [
              0.2222222222222222,
              "#7201a8"
             ],
             [
              0.3333333333333333,
              "#9c179e"
             ],
             [
              0.4444444444444444,
              "#bd3786"
             ],
             [
              0.5555555555555556,
              "#d8576b"
             ],
             [
              0.6666666666666666,
              "#ed7953"
             ],
             [
              0.7777777777777778,
              "#fb9f3a"
             ],
             [
              0.8888888888888888,
              "#fdca26"
             ],
             [
              1,
              "#f0f921"
             ]
            ],
            "type": "histogram2dcontour"
           }
          ],
          "mesh3d": [
           {
            "colorbar": {
             "outlinewidth": 0,
             "ticks": ""
            },
            "type": "mesh3d"
           }
          ],
          "parcoords": [
           {
            "line": {
             "colorbar": {
              "outlinewidth": 0,
              "ticks": ""
             }
            },
            "type": "parcoords"
           }
          ],
          "pie": [
           {
            "automargin": true,
            "type": "pie"
           }
          ],
          "scatter": [
           {
            "fillpattern": {
             "fillmode": "overlay",
             "size": 10,
             "solidity": 0.2
            },
            "type": "scatter"
           }
          ],
          "scatter3d": [
           {
            "line": {
             "colorbar": {
              "outlinewidth": 0,
              "ticks": ""
             }
            },
            "marker": {
             "colorbar": {
              "outlinewidth": 0,
              "ticks": ""
             }
            },
            "type": "scatter3d"
           }
          ],
          "scattercarpet": [
           {
            "marker": {
             "colorbar": {
              "outlinewidth": 0,
              "ticks": ""
             }
            },
            "type": "scattercarpet"
           }
          ],
          "scattergeo": [
           {
            "marker": {
             "colorbar": {
              "outlinewidth": 0,
              "ticks": ""
             }
            },
            "type": "scattergeo"
           }
          ],
          "scattergl": [
           {
            "marker": {
             "colorbar": {
              "outlinewidth": 0,
              "ticks": ""
             }
            },
            "type": "scattergl"
           }
          ],
          "scattermapbox": [
           {
            "marker": {
             "colorbar": {
              "outlinewidth": 0,
              "ticks": ""
             }
            },
            "type": "scattermapbox"
           }
          ],
          "scatterpolar": [
           {
            "marker": {
             "colorbar": {
              "outlinewidth": 0,
              "ticks": ""
             }
            },
            "type": "scatterpolar"
           }
          ],
          "scatterpolargl": [
           {
            "marker": {
             "colorbar": {
              "outlinewidth": 0,
              "ticks": ""
             }
            },
            "type": "scatterpolargl"
           }
          ],
          "scatterternary": [
           {
            "marker": {
             "colorbar": {
              "outlinewidth": 0,
              "ticks": ""
             }
            },
            "type": "scatterternary"
           }
          ],
          "surface": [
           {
            "colorbar": {
             "outlinewidth": 0,
             "ticks": ""
            },
            "colorscale": [
             [
              0,
              "#0d0887"
             ],
             [
              0.1111111111111111,
              "#46039f"
             ],
             [
              0.2222222222222222,
              "#7201a8"
             ],
             [
              0.3333333333333333,
              "#9c179e"
             ],
             [
              0.4444444444444444,
              "#bd3786"
             ],
             [
              0.5555555555555556,
              "#d8576b"
             ],
             [
              0.6666666666666666,
              "#ed7953"
             ],
             [
              0.7777777777777778,
              "#fb9f3a"
             ],
             [
              0.8888888888888888,
              "#fdca26"
             ],
             [
              1,
              "#f0f921"
             ]
            ],
            "type": "surface"
           }
          ],
          "table": [
           {
            "cells": {
             "fill": {
              "color": "#EBF0F8"
             },
             "line": {
              "color": "white"
             }
            },
            "header": {
             "fill": {
              "color": "#C8D4E3"
             },
             "line": {
              "color": "white"
             }
            },
            "type": "table"
           }
          ]
         },
         "layout": {
          "annotationdefaults": {
           "arrowcolor": "#2a3f5f",
           "arrowhead": 0,
           "arrowwidth": 1
          },
          "autotypenumbers": "strict",
          "coloraxis": {
           "colorbar": {
            "outlinewidth": 0,
            "ticks": ""
           }
          },
          "colorscale": {
           "diverging": [
            [
             0,
             "#8e0152"
            ],
            [
             0.1,
             "#c51b7d"
            ],
            [
             0.2,
             "#de77ae"
            ],
            [
             0.3,
             "#f1b6da"
            ],
            [
             0.4,
             "#fde0ef"
            ],
            [
             0.5,
             "#f7f7f7"
            ],
            [
             0.6,
             "#e6f5d0"
            ],
            [
             0.7,
             "#b8e186"
            ],
            [
             0.8,
             "#7fbc41"
            ],
            [
             0.9,
             "#4d9221"
            ],
            [
             1,
             "#276419"
            ]
           ],
           "sequential": [
            [
             0,
             "#0d0887"
            ],
            [
             0.1111111111111111,
             "#46039f"
            ],
            [
             0.2222222222222222,
             "#7201a8"
            ],
            [
             0.3333333333333333,
             "#9c179e"
            ],
            [
             0.4444444444444444,
             "#bd3786"
            ],
            [
             0.5555555555555556,
             "#d8576b"
            ],
            [
             0.6666666666666666,
             "#ed7953"
            ],
            [
             0.7777777777777778,
             "#fb9f3a"
            ],
            [
             0.8888888888888888,
             "#fdca26"
            ],
            [
             1,
             "#f0f921"
            ]
           ],
           "sequentialminus": [
            [
             0,
             "#0d0887"
            ],
            [
             0.1111111111111111,
             "#46039f"
            ],
            [
             0.2222222222222222,
             "#7201a8"
            ],
            [
             0.3333333333333333,
             "#9c179e"
            ],
            [
             0.4444444444444444,
             "#bd3786"
            ],
            [
             0.5555555555555556,
             "#d8576b"
            ],
            [
             0.6666666666666666,
             "#ed7953"
            ],
            [
             0.7777777777777778,
             "#fb9f3a"
            ],
            [
             0.8888888888888888,
             "#fdca26"
            ],
            [
             1,
             "#f0f921"
            ]
           ]
          },
          "colorway": [
           "#636efa",
           "#EF553B",
           "#00cc96",
           "#ab63fa",
           "#FFA15A",
           "#19d3f3",
           "#FF6692",
           "#B6E880",
           "#FF97FF",
           "#FECB52"
          ],
          "font": {
           "color": "#2a3f5f"
          },
          "geo": {
           "bgcolor": "white",
           "lakecolor": "white",
           "landcolor": "#E5ECF6",
           "showlakes": true,
           "showland": true,
           "subunitcolor": "white"
          },
          "hoverlabel": {
           "align": "left"
          },
          "hovermode": "closest",
          "mapbox": {
           "style": "light"
          },
          "paper_bgcolor": "white",
          "plot_bgcolor": "#E5ECF6",
          "polar": {
           "angularaxis": {
            "gridcolor": "white",
            "linecolor": "white",
            "ticks": ""
           },
           "bgcolor": "#E5ECF6",
           "radialaxis": {
            "gridcolor": "white",
            "linecolor": "white",
            "ticks": ""
           }
          },
          "scene": {
           "xaxis": {
            "backgroundcolor": "#E5ECF6",
            "gridcolor": "white",
            "gridwidth": 2,
            "linecolor": "white",
            "showbackground": true,
            "ticks": "",
            "zerolinecolor": "white"
           },
           "yaxis": {
            "backgroundcolor": "#E5ECF6",
            "gridcolor": "white",
            "gridwidth": 2,
            "linecolor": "white",
            "showbackground": true,
            "ticks": "",
            "zerolinecolor": "white"
           },
           "zaxis": {
            "backgroundcolor": "#E5ECF6",
            "gridcolor": "white",
            "gridwidth": 2,
            "linecolor": "white",
            "showbackground": true,
            "ticks": "",
            "zerolinecolor": "white"
           }
          },
          "shapedefaults": {
           "line": {
            "color": "#2a3f5f"
           }
          },
          "ternary": {
           "aaxis": {
            "gridcolor": "white",
            "linecolor": "white",
            "ticks": ""
           },
           "baxis": {
            "gridcolor": "white",
            "linecolor": "white",
            "ticks": ""
           },
           "bgcolor": "#E5ECF6",
           "caxis": {
            "gridcolor": "white",
            "linecolor": "white",
            "ticks": ""
           }
          },
          "title": {
           "x": 0.05
          },
          "xaxis": {
           "automargin": true,
           "gridcolor": "white",
           "linecolor": "white",
           "ticks": "",
           "title": {
            "standoff": 15
           },
           "zerolinecolor": "white",
           "zerolinewidth": 2
          },
          "yaxis": {
           "automargin": true,
           "gridcolor": "white",
           "linecolor": "white",
           "ticks": "",
           "title": {
            "standoff": 15
           },
           "zerolinecolor": "white",
           "zerolinewidth": 2
          }
         }
        },
        "xaxis": {
         "title": {
          "text": "Recámaras"
         }
        },
        "yaxis": {
         "gridcolor": "#dddcda",
         "title": {
          "text": "$"
         }
        }
       }
      }
     },
     "metadata": {},
     "output_type": "display_data"
    }
   ],
   "source": [
    "import pandas as pd\n",
    "import plotly.graph_objects as go\n",
    "import locale\n",
    "\n",
    "# Establecer configuración regional para el formato de precios\n",
    "locale.setlocale(locale.LC_ALL, '')\n",
    "\n",
    "# Definir función para formatear precios\n",
    "def format_price(price):\n",
    "    return locale.currency(price, grouping=True)\n",
    "\n",
    "# Crear una lista de etiquetas para el eje x\n",
    "etiquetas = [str(recamaras) if recamaras != 16 else '16+' for recamaras in df_promedio_casas['Recamaras']]\n",
    "\n",
    "# Obtener los precios y el número de recámaras\n",
    "precios = df_promedio_casas['precio']\n",
    "\n",
    "# Crear el texto con los precios formateados\n",
    "text_precios = [format_price(precio) for precio in precios]\n",
    "\n",
    "colores = ['#2962ff', '#9500ff', '#ff0059', '#ff8c00', '#b4e600', '#2EC2A2','#E50CB6','#4225CF','#2CBA4D','#2962ff', '#9500ff', '#ff0059']\n",
    "\n",
    "fig = go.Figure()\n",
    "fig.add_trace(go.Bar(\n",
    "    x=etiquetas,\n",
    "    y=precios,\n",
    "    text=text_precios,\n",
    "    marker_color=colores,\n",
    "    textposition='auto' \n",
    "))\n",
    "fig.update_layout(\n",
    "    #title='Precio promedio por número de baños',\n",
    "    xaxis=dict(title='Recámaras'),\n",
    "    yaxis=dict(title='$', gridcolor='#dddcda', ),\n",
    "    bargap=0.1,\n",
    "    bargroupgap=0.05,\n",
    "    plot_bgcolor='rgba(0,0,0,0)',\n",
    "    margin=dict(l=10, r=10, t=10, b=10),  # Ajusta los márgenes (left, right, top, bottom)        \n",
    ")\n",
    "\n",
    "fig.show()"
   ]
  },
  {
   "cell_type": "code",
   "execution_count": 45,
   "metadata": {},
   "outputs": [
    {
     "data": {
      "text/html": [
       "<div>\n",
       "<style scoped>\n",
       "    .dataframe tbody tr th:only-of-type {\n",
       "        vertical-align: middle;\n",
       "    }\n",
       "\n",
       "    .dataframe tbody tr th {\n",
       "        vertical-align: top;\n",
       "    }\n",
       "\n",
       "    .dataframe thead th {\n",
       "        text-align: right;\n",
       "    }\n",
       "</style>\n",
       "<table border=\"1\" class=\"dataframe\">\n",
       "  <thead>\n",
       "    <tr style=\"text-align: right;\">\n",
       "      <th></th>\n",
       "      <th>precio</th>\n",
       "      <th>Recamaras</th>\n",
       "      <th>Tipo</th>\n",
       "    </tr>\n",
       "  </thead>\n",
       "  <tbody>\n",
       "    <tr>\n",
       "      <th>77</th>\n",
       "      <td>799000</td>\n",
       "      <td>1</td>\n",
       "      <td>Casa</td>\n",
       "    </tr>\n",
       "    <tr>\n",
       "      <th>27</th>\n",
       "      <td>2000000</td>\n",
       "      <td>1</td>\n",
       "      <td>Casa</td>\n",
       "    </tr>\n",
       "  </tbody>\n",
       "</table>\n",
       "</div>"
      ],
      "text/plain": [
       "     precio  Recamaras  Tipo\n",
       "77   799000          1  Casa\n",
       "27  2000000          1  Casa"
      ]
     },
     "execution_count": 45,
     "metadata": {},
     "output_type": "execute_result"
    }
   ],
   "source": [
    "recam_five = casasss[casasss['Recamaras']==1].sort_values(by='precio')\n",
    "recam_five[['precio', 'Recamaras', 'Tipo']]"
   ]
  },
  {
   "cell_type": "code",
   "execution_count": 46,
   "metadata": {},
   "outputs": [
    {
     "data": {
      "text/html": [
       "<div>\n",
       "<style scoped>\n",
       "    .dataframe tbody tr th:only-of-type {\n",
       "        vertical-align: middle;\n",
       "    }\n",
       "\n",
       "    .dataframe tbody tr th {\n",
       "        vertical-align: top;\n",
       "    }\n",
       "\n",
       "    .dataframe thead th {\n",
       "        text-align: right;\n",
       "    }\n",
       "</style>\n",
       "<table border=\"1\" class=\"dataframe\">\n",
       "  <thead>\n",
       "    <tr style=\"text-align: right;\">\n",
       "      <th></th>\n",
       "      <th>precio</th>\n",
       "      <th>Recamaras</th>\n",
       "      <th>Tipo</th>\n",
       "    </tr>\n",
       "  </thead>\n",
       "  <tbody>\n",
       "    <tr>\n",
       "      <th>77</th>\n",
       "      <td>799000</td>\n",
       "      <td>1</td>\n",
       "      <td>Casa</td>\n",
       "    </tr>\n",
       "  </tbody>\n",
       "</table>\n",
       "</div>"
      ],
      "text/plain": [
       "    precio  Recamaras  Tipo\n",
       "77  799000          1  Casa"
      ]
     },
     "execution_count": 46,
     "metadata": {},
     "output_type": "execute_result"
    }
   ],
   "source": [
    "casasss = casasss[~((casasss['precio']==2000000) & (casasss['Recamaras']==1))]\n",
    "recam_five = casasss[casasss['Recamaras']==1].sort_values(by='precio')\n",
    "recam_five[['precio', 'Recamaras', 'Tipo']]"
   ]
  },
  {
   "cell_type": "code",
   "execution_count": 49,
   "metadata": {},
   "outputs": [
    {
     "data": {
      "application/vnd.plotly.v1+json": {
       "config": {
        "plotlyServerURL": "https://plot.ly"
       },
       "data": [
        {
         "marker": {
          "color": [
           "#2962ff",
           "#9500ff",
           "#ff0059",
           "#ff8c00",
           "#b4e600",
           "#2EC2A2",
           "#E50CB6",
           "#4225CF",
           "#2CBA4D",
           "#2962ff",
           "#9500ff",
           "#ff0059"
          ]
         },
         "text": [
          "$799,000.00",
          "$1,043,848.96",
          "$1,307,932.28",
          "$1,526,766.17",
          "$3,345,000.00",
          "$4,886,000.00",
          "$10,550,000.00"
         ],
         "textposition": "auto",
         "type": "bar",
         "x": [
          "1",
          "2",
          "3",
          "4",
          "5",
          "6",
          "7"
         ],
         "y": [
          799000,
          1043848.9572649573,
          1307932.2846347608,
          1526766.1733333333,
          3345000,
          4886000,
          10550000
         ]
        }
       ],
       "layout": {
        "bargap": 0.1,
        "bargroupgap": 0.05,
        "margin": {
         "b": 10,
         "l": 10,
         "r": 10,
         "t": 10
        },
        "plot_bgcolor": "rgba(0,0,0,0)",
        "template": {
         "data": {
          "bar": [
           {
            "error_x": {
             "color": "#2a3f5f"
            },
            "error_y": {
             "color": "#2a3f5f"
            },
            "marker": {
             "line": {
              "color": "#E5ECF6",
              "width": 0.5
             },
             "pattern": {
              "fillmode": "overlay",
              "size": 10,
              "solidity": 0.2
             }
            },
            "type": "bar"
           }
          ],
          "barpolar": [
           {
            "marker": {
             "line": {
              "color": "#E5ECF6",
              "width": 0.5
             },
             "pattern": {
              "fillmode": "overlay",
              "size": 10,
              "solidity": 0.2
             }
            },
            "type": "barpolar"
           }
          ],
          "carpet": [
           {
            "aaxis": {
             "endlinecolor": "#2a3f5f",
             "gridcolor": "white",
             "linecolor": "white",
             "minorgridcolor": "white",
             "startlinecolor": "#2a3f5f"
            },
            "baxis": {
             "endlinecolor": "#2a3f5f",
             "gridcolor": "white",
             "linecolor": "white",
             "minorgridcolor": "white",
             "startlinecolor": "#2a3f5f"
            },
            "type": "carpet"
           }
          ],
          "choropleth": [
           {
            "colorbar": {
             "outlinewidth": 0,
             "ticks": ""
            },
            "type": "choropleth"
           }
          ],
          "contour": [
           {
            "colorbar": {
             "outlinewidth": 0,
             "ticks": ""
            },
            "colorscale": [
             [
              0,
              "#0d0887"
             ],
             [
              0.1111111111111111,
              "#46039f"
             ],
             [
              0.2222222222222222,
              "#7201a8"
             ],
             [
              0.3333333333333333,
              "#9c179e"
             ],
             [
              0.4444444444444444,
              "#bd3786"
             ],
             [
              0.5555555555555556,
              "#d8576b"
             ],
             [
              0.6666666666666666,
              "#ed7953"
             ],
             [
              0.7777777777777778,
              "#fb9f3a"
             ],
             [
              0.8888888888888888,
              "#fdca26"
             ],
             [
              1,
              "#f0f921"
             ]
            ],
            "type": "contour"
           }
          ],
          "contourcarpet": [
           {
            "colorbar": {
             "outlinewidth": 0,
             "ticks": ""
            },
            "type": "contourcarpet"
           }
          ],
          "heatmap": [
           {
            "colorbar": {
             "outlinewidth": 0,
             "ticks": ""
            },
            "colorscale": [
             [
              0,
              "#0d0887"
             ],
             [
              0.1111111111111111,
              "#46039f"
             ],
             [
              0.2222222222222222,
              "#7201a8"
             ],
             [
              0.3333333333333333,
              "#9c179e"
             ],
             [
              0.4444444444444444,
              "#bd3786"
             ],
             [
              0.5555555555555556,
              "#d8576b"
             ],
             [
              0.6666666666666666,
              "#ed7953"
             ],
             [
              0.7777777777777778,
              "#fb9f3a"
             ],
             [
              0.8888888888888888,
              "#fdca26"
             ],
             [
              1,
              "#f0f921"
             ]
            ],
            "type": "heatmap"
           }
          ],
          "heatmapgl": [
           {
            "colorbar": {
             "outlinewidth": 0,
             "ticks": ""
            },
            "colorscale": [
             [
              0,
              "#0d0887"
             ],
             [
              0.1111111111111111,
              "#46039f"
             ],
             [
              0.2222222222222222,
              "#7201a8"
             ],
             [
              0.3333333333333333,
              "#9c179e"
             ],
             [
              0.4444444444444444,
              "#bd3786"
             ],
             [
              0.5555555555555556,
              "#d8576b"
             ],
             [
              0.6666666666666666,
              "#ed7953"
             ],
             [
              0.7777777777777778,
              "#fb9f3a"
             ],
             [
              0.8888888888888888,
              "#fdca26"
             ],
             [
              1,
              "#f0f921"
             ]
            ],
            "type": "heatmapgl"
           }
          ],
          "histogram": [
           {
            "marker": {
             "pattern": {
              "fillmode": "overlay",
              "size": 10,
              "solidity": 0.2
             }
            },
            "type": "histogram"
           }
          ],
          "histogram2d": [
           {
            "colorbar": {
             "outlinewidth": 0,
             "ticks": ""
            },
            "colorscale": [
             [
              0,
              "#0d0887"
             ],
             [
              0.1111111111111111,
              "#46039f"
             ],
             [
              0.2222222222222222,
              "#7201a8"
             ],
             [
              0.3333333333333333,
              "#9c179e"
             ],
             [
              0.4444444444444444,
              "#bd3786"
             ],
             [
              0.5555555555555556,
              "#d8576b"
             ],
             [
              0.6666666666666666,
              "#ed7953"
             ],
             [
              0.7777777777777778,
              "#fb9f3a"
             ],
             [
              0.8888888888888888,
              "#fdca26"
             ],
             [
              1,
              "#f0f921"
             ]
            ],
            "type": "histogram2d"
           }
          ],
          "histogram2dcontour": [
           {
            "colorbar": {
             "outlinewidth": 0,
             "ticks": ""
            },
            "colorscale": [
             [
              0,
              "#0d0887"
             ],
             [
              0.1111111111111111,
              "#46039f"
             ],
             [
              0.2222222222222222,
              "#7201a8"
             ],
             [
              0.3333333333333333,
              "#9c179e"
             ],
             [
              0.4444444444444444,
              "#bd3786"
             ],
             [
              0.5555555555555556,
              "#d8576b"
             ],
             [
              0.6666666666666666,
              "#ed7953"
             ],
             [
              0.7777777777777778,
              "#fb9f3a"
             ],
             [
              0.8888888888888888,
              "#fdca26"
             ],
             [
              1,
              "#f0f921"
             ]
            ],
            "type": "histogram2dcontour"
           }
          ],
          "mesh3d": [
           {
            "colorbar": {
             "outlinewidth": 0,
             "ticks": ""
            },
            "type": "mesh3d"
           }
          ],
          "parcoords": [
           {
            "line": {
             "colorbar": {
              "outlinewidth": 0,
              "ticks": ""
             }
            },
            "type": "parcoords"
           }
          ],
          "pie": [
           {
            "automargin": true,
            "type": "pie"
           }
          ],
          "scatter": [
           {
            "fillpattern": {
             "fillmode": "overlay",
             "size": 10,
             "solidity": 0.2
            },
            "type": "scatter"
           }
          ],
          "scatter3d": [
           {
            "line": {
             "colorbar": {
              "outlinewidth": 0,
              "ticks": ""
             }
            },
            "marker": {
             "colorbar": {
              "outlinewidth": 0,
              "ticks": ""
             }
            },
            "type": "scatter3d"
           }
          ],
          "scattercarpet": [
           {
            "marker": {
             "colorbar": {
              "outlinewidth": 0,
              "ticks": ""
             }
            },
            "type": "scattercarpet"
           }
          ],
          "scattergeo": [
           {
            "marker": {
             "colorbar": {
              "outlinewidth": 0,
              "ticks": ""
             }
            },
            "type": "scattergeo"
           }
          ],
          "scattergl": [
           {
            "marker": {
             "colorbar": {
              "outlinewidth": 0,
              "ticks": ""
             }
            },
            "type": "scattergl"
           }
          ],
          "scattermapbox": [
           {
            "marker": {
             "colorbar": {
              "outlinewidth": 0,
              "ticks": ""
             }
            },
            "type": "scattermapbox"
           }
          ],
          "scatterpolar": [
           {
            "marker": {
             "colorbar": {
              "outlinewidth": 0,
              "ticks": ""
             }
            },
            "type": "scatterpolar"
           }
          ],
          "scatterpolargl": [
           {
            "marker": {
             "colorbar": {
              "outlinewidth": 0,
              "ticks": ""
             }
            },
            "type": "scatterpolargl"
           }
          ],
          "scatterternary": [
           {
            "marker": {
             "colorbar": {
              "outlinewidth": 0,
              "ticks": ""
             }
            },
            "type": "scatterternary"
           }
          ],
          "surface": [
           {
            "colorbar": {
             "outlinewidth": 0,
             "ticks": ""
            },
            "colorscale": [
             [
              0,
              "#0d0887"
             ],
             [
              0.1111111111111111,
              "#46039f"
             ],
             [
              0.2222222222222222,
              "#7201a8"
             ],
             [
              0.3333333333333333,
              "#9c179e"
             ],
             [
              0.4444444444444444,
              "#bd3786"
             ],
             [
              0.5555555555555556,
              "#d8576b"
             ],
             [
              0.6666666666666666,
              "#ed7953"
             ],
             [
              0.7777777777777778,
              "#fb9f3a"
             ],
             [
              0.8888888888888888,
              "#fdca26"
             ],
             [
              1,
              "#f0f921"
             ]
            ],
            "type": "surface"
           }
          ],
          "table": [
           {
            "cells": {
             "fill": {
              "color": "#EBF0F8"
             },
             "line": {
              "color": "white"
             }
            },
            "header": {
             "fill": {
              "color": "#C8D4E3"
             },
             "line": {
              "color": "white"
             }
            },
            "type": "table"
           }
          ]
         },
         "layout": {
          "annotationdefaults": {
           "arrowcolor": "#2a3f5f",
           "arrowhead": 0,
           "arrowwidth": 1
          },
          "autotypenumbers": "strict",
          "coloraxis": {
           "colorbar": {
            "outlinewidth": 0,
            "ticks": ""
           }
          },
          "colorscale": {
           "diverging": [
            [
             0,
             "#8e0152"
            ],
            [
             0.1,
             "#c51b7d"
            ],
            [
             0.2,
             "#de77ae"
            ],
            [
             0.3,
             "#f1b6da"
            ],
            [
             0.4,
             "#fde0ef"
            ],
            [
             0.5,
             "#f7f7f7"
            ],
            [
             0.6,
             "#e6f5d0"
            ],
            [
             0.7,
             "#b8e186"
            ],
            [
             0.8,
             "#7fbc41"
            ],
            [
             0.9,
             "#4d9221"
            ],
            [
             1,
             "#276419"
            ]
           ],
           "sequential": [
            [
             0,
             "#0d0887"
            ],
            [
             0.1111111111111111,
             "#46039f"
            ],
            [
             0.2222222222222222,
             "#7201a8"
            ],
            [
             0.3333333333333333,
             "#9c179e"
            ],
            [
             0.4444444444444444,
             "#bd3786"
            ],
            [
             0.5555555555555556,
             "#d8576b"
            ],
            [
             0.6666666666666666,
             "#ed7953"
            ],
            [
             0.7777777777777778,
             "#fb9f3a"
            ],
            [
             0.8888888888888888,
             "#fdca26"
            ],
            [
             1,
             "#f0f921"
            ]
           ],
           "sequentialminus": [
            [
             0,
             "#0d0887"
            ],
            [
             0.1111111111111111,
             "#46039f"
            ],
            [
             0.2222222222222222,
             "#7201a8"
            ],
            [
             0.3333333333333333,
             "#9c179e"
            ],
            [
             0.4444444444444444,
             "#bd3786"
            ],
            [
             0.5555555555555556,
             "#d8576b"
            ],
            [
             0.6666666666666666,
             "#ed7953"
            ],
            [
             0.7777777777777778,
             "#fb9f3a"
            ],
            [
             0.8888888888888888,
             "#fdca26"
            ],
            [
             1,
             "#f0f921"
            ]
           ]
          },
          "colorway": [
           "#636efa",
           "#EF553B",
           "#00cc96",
           "#ab63fa",
           "#FFA15A",
           "#19d3f3",
           "#FF6692",
           "#B6E880",
           "#FF97FF",
           "#FECB52"
          ],
          "font": {
           "color": "#2a3f5f"
          },
          "geo": {
           "bgcolor": "white",
           "lakecolor": "white",
           "landcolor": "#E5ECF6",
           "showlakes": true,
           "showland": true,
           "subunitcolor": "white"
          },
          "hoverlabel": {
           "align": "left"
          },
          "hovermode": "closest",
          "mapbox": {
           "style": "light"
          },
          "paper_bgcolor": "white",
          "plot_bgcolor": "#E5ECF6",
          "polar": {
           "angularaxis": {
            "gridcolor": "white",
            "linecolor": "white",
            "ticks": ""
           },
           "bgcolor": "#E5ECF6",
           "radialaxis": {
            "gridcolor": "white",
            "linecolor": "white",
            "ticks": ""
           }
          },
          "scene": {
           "xaxis": {
            "backgroundcolor": "#E5ECF6",
            "gridcolor": "white",
            "gridwidth": 2,
            "linecolor": "white",
            "showbackground": true,
            "ticks": "",
            "zerolinecolor": "white"
           },
           "yaxis": {
            "backgroundcolor": "#E5ECF6",
            "gridcolor": "white",
            "gridwidth": 2,
            "linecolor": "white",
            "showbackground": true,
            "ticks": "",
            "zerolinecolor": "white"
           },
           "zaxis": {
            "backgroundcolor": "#E5ECF6",
            "gridcolor": "white",
            "gridwidth": 2,
            "linecolor": "white",
            "showbackground": true,
            "ticks": "",
            "zerolinecolor": "white"
           }
          },
          "shapedefaults": {
           "line": {
            "color": "#2a3f5f"
           }
          },
          "ternary": {
           "aaxis": {
            "gridcolor": "white",
            "linecolor": "white",
            "ticks": ""
           },
           "baxis": {
            "gridcolor": "white",
            "linecolor": "white",
            "ticks": ""
           },
           "bgcolor": "#E5ECF6",
           "caxis": {
            "gridcolor": "white",
            "linecolor": "white",
            "ticks": ""
           }
          },
          "title": {
           "x": 0.05
          },
          "xaxis": {
           "automargin": true,
           "gridcolor": "white",
           "linecolor": "white",
           "ticks": "",
           "title": {
            "standoff": 15
           },
           "zerolinecolor": "white",
           "zerolinewidth": 2
          },
          "yaxis": {
           "automargin": true,
           "gridcolor": "white",
           "linecolor": "white",
           "ticks": "",
           "title": {
            "standoff": 15
           },
           "zerolinecolor": "white",
           "zerolinewidth": 2
          }
         }
        },
        "xaxis": {
         "title": {
          "text": "Recámaras"
         }
        },
        "yaxis": {
         "gridcolor": "#dddcda",
         "title": {
          "text": "$"
         }
        }
       }
      }
     },
     "metadata": {},
     "output_type": "display_data"
    }
   ],
   "source": [
    "import pandas as pd\n",
    "import plotly.graph_objects as go\n",
    "import locale\n",
    "\n",
    "# Establecer configuración regional para el formato de precios\n",
    "locale.setlocale(locale.LC_ALL, '')\n",
    "\n",
    "# Definir función para formatear precios\n",
    "def format_price(price):\n",
    "    return locale.currency(price, grouping=True)\n",
    "\n",
    "# Crear una lista de etiquetas para el eje x\n",
    "etiquetas = [str(recamaras) if recamaras != 16 else '16+' for recamaras in df_promedio_casas['Recamaras']]\n",
    "\n",
    "# Obtener los precios y el número de recámaras\n",
    "precios = df_promedio_casas['precio']\n",
    "\n",
    "# Crear el texto con los precios formateados\n",
    "text_precios = [format_price(precio) for precio in precios]\n",
    "\n",
    "colores = ['#2962ff', '#9500ff', '#ff0059', '#ff8c00', '#b4e600', '#2EC2A2','#E50CB6','#4225CF','#2CBA4D','#2962ff', '#9500ff', '#ff0059']\n",
    "\n",
    "fig = go.Figure()\n",
    "fig.add_trace(go.Bar(\n",
    "    x=etiquetas,\n",
    "    y=precios,\n",
    "    text=text_precios,\n",
    "    marker_color=colores,\n",
    "    textposition='auto' \n",
    "))\n",
    "fig.update_layout(\n",
    "    #title='Precio promedio por número de baños',\n",
    "    xaxis=dict(title='Recámaras'),\n",
    "    yaxis=dict(title='$', gridcolor='#dddcda', ),\n",
    "    bargap=0.1,\n",
    "    bargroupgap=0.05,\n",
    "    plot_bgcolor='rgba(0,0,0,0)',\n",
    "    margin=dict(l=10, r=10, t=10, b=10),  # Ajusta los márgenes (left, right, top, bottom)        \n",
    ")\n",
    "\n",
    "fig.show()"
   ]
  },
  {
   "cell_type": "code",
   "execution_count": 50,
   "metadata": {},
   "outputs": [],
   "source": [
    "# Función para guardar la gráfica como archivo HTML\n",
    "def guardar_grafico_como_html(fig, nombre_archivo, carpeta='assets/graficas'):\n",
    "    import os\n",
    "    import plotly.io as pio\n",
    "\n",
    "    # Crear la carpeta si no existe\n",
    "    if not os.path.exists(carpeta):\n",
    "        os.makedirs(carpeta)\n",
    "\n",
    "    # Configuración personalizada para la gráfica\n",
    "    config = {\n",
    "        'displaylogo': False,  # Ocultar el logo de Plotly\n",
    "        'modeBarButtonsToRemove': [\n",
    "            'toImage',       # Botón para guardar como imagen\n",
    "            'select2d',      # Box select\n",
    "            'lasso2d',       # Lasso select\n",
    "            'resetScale2d',  # Reset Axes\n",
    "        ]\n",
    "    }\n",
    "\n",
    "    # Guardar la gráfica como archivo HTML\n",
    "    pio.write_html(fig, f'{carpeta}/{nombre_archivo}.html', config=config)\n",
    "\n",
    "# Ejemplo de uso\n",
    "guardar_grafico_como_html(fig, 'g_bar_precio_promedio_recamaras_casa',  carpeta='assets/graficas')\n"
   ]
  },
  {
   "cell_type": "markdown",
   "metadata": {},
   "source": [
    "## Depa"
   ]
  },
  {
   "cell_type": "code",
   "execution_count": 51,
   "metadata": {},
   "outputs": [
    {
     "name": "stderr",
     "output_type": "stream",
     "text": [
      "C:\\Users\\yoe11\\AppData\\Local\\Temp\\ipykernel_11664\\1542590914.py:1: SettingWithCopyWarning:\n",
      "\n",
      "\n",
      "A value is trying to be set on a copy of a slice from a DataFrame.\n",
      "Try using .loc[row_indexer,col_indexer] = value instead\n",
      "\n",
      "See the caveats in the documentation: https://pandas.pydata.org/pandas-docs/stable/user_guide/indexing.html#returning-a-view-versus-a-copy\n",
      "\n"
     ]
    },
    {
     "data": {
      "text/plain": [
       "array([2, 3, 1])"
      ]
     },
     "execution_count": 51,
     "metadata": {},
     "output_type": "execute_result"
    }
   ],
   "source": [
    "depas['Recamaras'] = depas['Recamaras'].astype(int)\n",
    "depas = depas[(depas['Recamaras'] >= 1) & (depas['Recamaras'] <= 8)]\n",
    "depas['Recamaras'].unique()"
   ]
  },
  {
   "cell_type": "code",
   "execution_count": 52,
   "metadata": {},
   "outputs": [
    {
     "data": {
      "text/html": [
       "<div>\n",
       "<style scoped>\n",
       "    .dataframe tbody tr th:only-of-type {\n",
       "        vertical-align: middle;\n",
       "    }\n",
       "\n",
       "    .dataframe tbody tr th {\n",
       "        vertical-align: top;\n",
       "    }\n",
       "\n",
       "    .dataframe thead th {\n",
       "        text-align: right;\n",
       "    }\n",
       "</style>\n",
       "<table border=\"1\" class=\"dataframe\">\n",
       "  <thead>\n",
       "    <tr style=\"text-align: right;\">\n",
       "      <th></th>\n",
       "      <th>Recamaras</th>\n",
       "      <th>precio</th>\n",
       "    </tr>\n",
       "  </thead>\n",
       "  <tbody>\n",
       "    <tr>\n",
       "      <th>0</th>\n",
       "      <td>1</td>\n",
       "      <td>7.500000e+05</td>\n",
       "    </tr>\n",
       "    <tr>\n",
       "      <th>1</th>\n",
       "      <td>2</td>\n",
       "      <td>1.084344e+06</td>\n",
       "    </tr>\n",
       "    <tr>\n",
       "      <th>2</th>\n",
       "      <td>3</td>\n",
       "      <td>1.661206e+06</td>\n",
       "    </tr>\n",
       "  </tbody>\n",
       "</table>\n",
       "</div>"
      ],
      "text/plain": [
       "   Recamaras        precio\n",
       "0          1  7.500000e+05\n",
       "1          2  1.084344e+06\n",
       "2          3  1.661206e+06"
      ]
     },
     "execution_count": 52,
     "metadata": {},
     "output_type": "execute_result"
    }
   ],
   "source": [
    "# Ajustar los valores para que no superen un #\n",
    "depas.loc[:, 'Recamaras'] = depas['Recamaras'].clip(lower=1,upper=8)\n",
    "# Calcular el promedio de precio por el número único \n",
    "df_promedio_depas = depas.groupby('Recamaras')['precio'].mean().reset_index()\n",
    "df_promedio_depas"
   ]
  },
  {
   "cell_type": "code",
   "execution_count": 53,
   "metadata": {},
   "outputs": [
    {
     "data": {
      "application/vnd.plotly.v1+json": {
       "config": {
        "plotlyServerURL": "https://plot.ly"
       },
       "data": [
        {
         "marker": {
          "color": [
           "#2962ff",
           "#9500ff",
           "#ff0059",
           "#ff8c00",
           "#b4e600",
           "#2EC2A2",
           "#E50CB6",
           "#4225CF",
           "#2CBA4D",
           "#2962ff",
           "#9500ff",
           "#ff0059"
          ]
         },
         "text": [
          "$750,000.00",
          "$1,084,343.61",
          "$1,661,205.73"
         ],
         "textposition": "auto",
         "type": "bar",
         "x": [
          "1",
          "2",
          "3"
         ],
         "y": [
          750000,
          1084343.606060606,
          1661205.7333333334
         ]
        }
       ],
       "layout": {
        "bargap": 0.1,
        "bargroupgap": 0.05,
        "margin": {
         "b": 10,
         "l": 10,
         "r": 10,
         "t": 10
        },
        "plot_bgcolor": "rgba(0,0,0,0)",
        "template": {
         "data": {
          "bar": [
           {
            "error_x": {
             "color": "#2a3f5f"
            },
            "error_y": {
             "color": "#2a3f5f"
            },
            "marker": {
             "line": {
              "color": "#E5ECF6",
              "width": 0.5
             },
             "pattern": {
              "fillmode": "overlay",
              "size": 10,
              "solidity": 0.2
             }
            },
            "type": "bar"
           }
          ],
          "barpolar": [
           {
            "marker": {
             "line": {
              "color": "#E5ECF6",
              "width": 0.5
             },
             "pattern": {
              "fillmode": "overlay",
              "size": 10,
              "solidity": 0.2
             }
            },
            "type": "barpolar"
           }
          ],
          "carpet": [
           {
            "aaxis": {
             "endlinecolor": "#2a3f5f",
             "gridcolor": "white",
             "linecolor": "white",
             "minorgridcolor": "white",
             "startlinecolor": "#2a3f5f"
            },
            "baxis": {
             "endlinecolor": "#2a3f5f",
             "gridcolor": "white",
             "linecolor": "white",
             "minorgridcolor": "white",
             "startlinecolor": "#2a3f5f"
            },
            "type": "carpet"
           }
          ],
          "choropleth": [
           {
            "colorbar": {
             "outlinewidth": 0,
             "ticks": ""
            },
            "type": "choropleth"
           }
          ],
          "contour": [
           {
            "colorbar": {
             "outlinewidth": 0,
             "ticks": ""
            },
            "colorscale": [
             [
              0,
              "#0d0887"
             ],
             [
              0.1111111111111111,
              "#46039f"
             ],
             [
              0.2222222222222222,
              "#7201a8"
             ],
             [
              0.3333333333333333,
              "#9c179e"
             ],
             [
              0.4444444444444444,
              "#bd3786"
             ],
             [
              0.5555555555555556,
              "#d8576b"
             ],
             [
              0.6666666666666666,
              "#ed7953"
             ],
             [
              0.7777777777777778,
              "#fb9f3a"
             ],
             [
              0.8888888888888888,
              "#fdca26"
             ],
             [
              1,
              "#f0f921"
             ]
            ],
            "type": "contour"
           }
          ],
          "contourcarpet": [
           {
            "colorbar": {
             "outlinewidth": 0,
             "ticks": ""
            },
            "type": "contourcarpet"
           }
          ],
          "heatmap": [
           {
            "colorbar": {
             "outlinewidth": 0,
             "ticks": ""
            },
            "colorscale": [
             [
              0,
              "#0d0887"
             ],
             [
              0.1111111111111111,
              "#46039f"
             ],
             [
              0.2222222222222222,
              "#7201a8"
             ],
             [
              0.3333333333333333,
              "#9c179e"
             ],
             [
              0.4444444444444444,
              "#bd3786"
             ],
             [
              0.5555555555555556,
              "#d8576b"
             ],
             [
              0.6666666666666666,
              "#ed7953"
             ],
             [
              0.7777777777777778,
              "#fb9f3a"
             ],
             [
              0.8888888888888888,
              "#fdca26"
             ],
             [
              1,
              "#f0f921"
             ]
            ],
            "type": "heatmap"
           }
          ],
          "heatmapgl": [
           {
            "colorbar": {
             "outlinewidth": 0,
             "ticks": ""
            },
            "colorscale": [
             [
              0,
              "#0d0887"
             ],
             [
              0.1111111111111111,
              "#46039f"
             ],
             [
              0.2222222222222222,
              "#7201a8"
             ],
             [
              0.3333333333333333,
              "#9c179e"
             ],
             [
              0.4444444444444444,
              "#bd3786"
             ],
             [
              0.5555555555555556,
              "#d8576b"
             ],
             [
              0.6666666666666666,
              "#ed7953"
             ],
             [
              0.7777777777777778,
              "#fb9f3a"
             ],
             [
              0.8888888888888888,
              "#fdca26"
             ],
             [
              1,
              "#f0f921"
             ]
            ],
            "type": "heatmapgl"
           }
          ],
          "histogram": [
           {
            "marker": {
             "pattern": {
              "fillmode": "overlay",
              "size": 10,
              "solidity": 0.2
             }
            },
            "type": "histogram"
           }
          ],
          "histogram2d": [
           {
            "colorbar": {
             "outlinewidth": 0,
             "ticks": ""
            },
            "colorscale": [
             [
              0,
              "#0d0887"
             ],
             [
              0.1111111111111111,
              "#46039f"
             ],
             [
              0.2222222222222222,
              "#7201a8"
             ],
             [
              0.3333333333333333,
              "#9c179e"
             ],
             [
              0.4444444444444444,
              "#bd3786"
             ],
             [
              0.5555555555555556,
              "#d8576b"
             ],
             [
              0.6666666666666666,
              "#ed7953"
             ],
             [
              0.7777777777777778,
              "#fb9f3a"
             ],
             [
              0.8888888888888888,
              "#fdca26"
             ],
             [
              1,
              "#f0f921"
             ]
            ],
            "type": "histogram2d"
           }
          ],
          "histogram2dcontour": [
           {
            "colorbar": {
             "outlinewidth": 0,
             "ticks": ""
            },
            "colorscale": [
             [
              0,
              "#0d0887"
             ],
             [
              0.1111111111111111,
              "#46039f"
             ],
             [
              0.2222222222222222,
              "#7201a8"
             ],
             [
              0.3333333333333333,
              "#9c179e"
             ],
             [
              0.4444444444444444,
              "#bd3786"
             ],
             [
              0.5555555555555556,
              "#d8576b"
             ],
             [
              0.6666666666666666,
              "#ed7953"
             ],
             [
              0.7777777777777778,
              "#fb9f3a"
             ],
             [
              0.8888888888888888,
              "#fdca26"
             ],
             [
              1,
              "#f0f921"
             ]
            ],
            "type": "histogram2dcontour"
           }
          ],
          "mesh3d": [
           {
            "colorbar": {
             "outlinewidth": 0,
             "ticks": ""
            },
            "type": "mesh3d"
           }
          ],
          "parcoords": [
           {
            "line": {
             "colorbar": {
              "outlinewidth": 0,
              "ticks": ""
             }
            },
            "type": "parcoords"
           }
          ],
          "pie": [
           {
            "automargin": true,
            "type": "pie"
           }
          ],
          "scatter": [
           {
            "fillpattern": {
             "fillmode": "overlay",
             "size": 10,
             "solidity": 0.2
            },
            "type": "scatter"
           }
          ],
          "scatter3d": [
           {
            "line": {
             "colorbar": {
              "outlinewidth": 0,
              "ticks": ""
             }
            },
            "marker": {
             "colorbar": {
              "outlinewidth": 0,
              "ticks": ""
             }
            },
            "type": "scatter3d"
           }
          ],
          "scattercarpet": [
           {
            "marker": {
             "colorbar": {
              "outlinewidth": 0,
              "ticks": ""
             }
            },
            "type": "scattercarpet"
           }
          ],
          "scattergeo": [
           {
            "marker": {
             "colorbar": {
              "outlinewidth": 0,
              "ticks": ""
             }
            },
            "type": "scattergeo"
           }
          ],
          "scattergl": [
           {
            "marker": {
             "colorbar": {
              "outlinewidth": 0,
              "ticks": ""
             }
            },
            "type": "scattergl"
           }
          ],
          "scattermapbox": [
           {
            "marker": {
             "colorbar": {
              "outlinewidth": 0,
              "ticks": ""
             }
            },
            "type": "scattermapbox"
           }
          ],
          "scatterpolar": [
           {
            "marker": {
             "colorbar": {
              "outlinewidth": 0,
              "ticks": ""
             }
            },
            "type": "scatterpolar"
           }
          ],
          "scatterpolargl": [
           {
            "marker": {
             "colorbar": {
              "outlinewidth": 0,
              "ticks": ""
             }
            },
            "type": "scatterpolargl"
           }
          ],
          "scatterternary": [
           {
            "marker": {
             "colorbar": {
              "outlinewidth": 0,
              "ticks": ""
             }
            },
            "type": "scatterternary"
           }
          ],
          "surface": [
           {
            "colorbar": {
             "outlinewidth": 0,
             "ticks": ""
            },
            "colorscale": [
             [
              0,
              "#0d0887"
             ],
             [
              0.1111111111111111,
              "#46039f"
             ],
             [
              0.2222222222222222,
              "#7201a8"
             ],
             [
              0.3333333333333333,
              "#9c179e"
             ],
             [
              0.4444444444444444,
              "#bd3786"
             ],
             [
              0.5555555555555556,
              "#d8576b"
             ],
             [
              0.6666666666666666,
              "#ed7953"
             ],
             [
              0.7777777777777778,
              "#fb9f3a"
             ],
             [
              0.8888888888888888,
              "#fdca26"
             ],
             [
              1,
              "#f0f921"
             ]
            ],
            "type": "surface"
           }
          ],
          "table": [
           {
            "cells": {
             "fill": {
              "color": "#EBF0F8"
             },
             "line": {
              "color": "white"
             }
            },
            "header": {
             "fill": {
              "color": "#C8D4E3"
             },
             "line": {
              "color": "white"
             }
            },
            "type": "table"
           }
          ]
         },
         "layout": {
          "annotationdefaults": {
           "arrowcolor": "#2a3f5f",
           "arrowhead": 0,
           "arrowwidth": 1
          },
          "autotypenumbers": "strict",
          "coloraxis": {
           "colorbar": {
            "outlinewidth": 0,
            "ticks": ""
           }
          },
          "colorscale": {
           "diverging": [
            [
             0,
             "#8e0152"
            ],
            [
             0.1,
             "#c51b7d"
            ],
            [
             0.2,
             "#de77ae"
            ],
            [
             0.3,
             "#f1b6da"
            ],
            [
             0.4,
             "#fde0ef"
            ],
            [
             0.5,
             "#f7f7f7"
            ],
            [
             0.6,
             "#e6f5d0"
            ],
            [
             0.7,
             "#b8e186"
            ],
            [
             0.8,
             "#7fbc41"
            ],
            [
             0.9,
             "#4d9221"
            ],
            [
             1,
             "#276419"
            ]
           ],
           "sequential": [
            [
             0,
             "#0d0887"
            ],
            [
             0.1111111111111111,
             "#46039f"
            ],
            [
             0.2222222222222222,
             "#7201a8"
            ],
            [
             0.3333333333333333,
             "#9c179e"
            ],
            [
             0.4444444444444444,
             "#bd3786"
            ],
            [
             0.5555555555555556,
             "#d8576b"
            ],
            [
             0.6666666666666666,
             "#ed7953"
            ],
            [
             0.7777777777777778,
             "#fb9f3a"
            ],
            [
             0.8888888888888888,
             "#fdca26"
            ],
            [
             1,
             "#f0f921"
            ]
           ],
           "sequentialminus": [
            [
             0,
             "#0d0887"
            ],
            [
             0.1111111111111111,
             "#46039f"
            ],
            [
             0.2222222222222222,
             "#7201a8"
            ],
            [
             0.3333333333333333,
             "#9c179e"
            ],
            [
             0.4444444444444444,
             "#bd3786"
            ],
            [
             0.5555555555555556,
             "#d8576b"
            ],
            [
             0.6666666666666666,
             "#ed7953"
            ],
            [
             0.7777777777777778,
             "#fb9f3a"
            ],
            [
             0.8888888888888888,
             "#fdca26"
            ],
            [
             1,
             "#f0f921"
            ]
           ]
          },
          "colorway": [
           "#636efa",
           "#EF553B",
           "#00cc96",
           "#ab63fa",
           "#FFA15A",
           "#19d3f3",
           "#FF6692",
           "#B6E880",
           "#FF97FF",
           "#FECB52"
          ],
          "font": {
           "color": "#2a3f5f"
          },
          "geo": {
           "bgcolor": "white",
           "lakecolor": "white",
           "landcolor": "#E5ECF6",
           "showlakes": true,
           "showland": true,
           "subunitcolor": "white"
          },
          "hoverlabel": {
           "align": "left"
          },
          "hovermode": "closest",
          "mapbox": {
           "style": "light"
          },
          "paper_bgcolor": "white",
          "plot_bgcolor": "#E5ECF6",
          "polar": {
           "angularaxis": {
            "gridcolor": "white",
            "linecolor": "white",
            "ticks": ""
           },
           "bgcolor": "#E5ECF6",
           "radialaxis": {
            "gridcolor": "white",
            "linecolor": "white",
            "ticks": ""
           }
          },
          "scene": {
           "xaxis": {
            "backgroundcolor": "#E5ECF6",
            "gridcolor": "white",
            "gridwidth": 2,
            "linecolor": "white",
            "showbackground": true,
            "ticks": "",
            "zerolinecolor": "white"
           },
           "yaxis": {
            "backgroundcolor": "#E5ECF6",
            "gridcolor": "white",
            "gridwidth": 2,
            "linecolor": "white",
            "showbackground": true,
            "ticks": "",
            "zerolinecolor": "white"
           },
           "zaxis": {
            "backgroundcolor": "#E5ECF6",
            "gridcolor": "white",
            "gridwidth": 2,
            "linecolor": "white",
            "showbackground": true,
            "ticks": "",
            "zerolinecolor": "white"
           }
          },
          "shapedefaults": {
           "line": {
            "color": "#2a3f5f"
           }
          },
          "ternary": {
           "aaxis": {
            "gridcolor": "white",
            "linecolor": "white",
            "ticks": ""
           },
           "baxis": {
            "gridcolor": "white",
            "linecolor": "white",
            "ticks": ""
           },
           "bgcolor": "#E5ECF6",
           "caxis": {
            "gridcolor": "white",
            "linecolor": "white",
            "ticks": ""
           }
          },
          "title": {
           "x": 0.05
          },
          "xaxis": {
           "automargin": true,
           "gridcolor": "white",
           "linecolor": "white",
           "ticks": "",
           "title": {
            "standoff": 15
           },
           "zerolinecolor": "white",
           "zerolinewidth": 2
          },
          "yaxis": {
           "automargin": true,
           "gridcolor": "white",
           "linecolor": "white",
           "ticks": "",
           "title": {
            "standoff": 15
           },
           "zerolinecolor": "white",
           "zerolinewidth": 2
          }
         }
        },
        "xaxis": {
         "title": {
          "text": "Recámaras"
         }
        },
        "yaxis": {
         "gridcolor": "#dddcda",
         "title": {
          "text": "$"
         }
        }
       }
      }
     },
     "metadata": {},
     "output_type": "display_data"
    }
   ],
   "source": [
    "import pandas as pd\n",
    "import plotly.graph_objects as go\n",
    "import locale\n",
    "\n",
    "# Establecer configuración regional para el formato de precios\n",
    "locale.setlocale(locale.LC_ALL, '')\n",
    "\n",
    "# Definir función para formatear precios\n",
    "def format_price(price):\n",
    "    return locale.currency(price, grouping=True)\n",
    "\n",
    "# Crear una lista de etiquetas para el eje x\n",
    "etiquetas = [str(recamaras) if recamaras != 16 else '16+' for recamaras in df_promedio_depas['Recamaras']]\n",
    "\n",
    "# Obtener los precios y el número de recámaras\n",
    "precios = df_promedio_depas['precio']\n",
    "\n",
    "# Crear el texto con los precios formateados\n",
    "text_precios = [format_price(precio) for precio in precios]\n",
    "\n",
    "colores = ['#2962ff', '#9500ff', '#ff0059', '#ff8c00', '#b4e600', '#2EC2A2','#E50CB6','#4225CF','#2CBA4D','#2962ff', '#9500ff', '#ff0059']\n",
    "\n",
    "fig = go.Figure()\n",
    "fig.add_trace(go.Bar(\n",
    "    x=etiquetas,\n",
    "    y=precios,\n",
    "    text=text_precios,\n",
    "    marker_color=colores,\n",
    "    textposition='auto' \n",
    "))\n",
    "fig.update_layout(\n",
    "    #title='Precio promedio por número de baños',\n",
    "    xaxis=dict(title='Recámaras'),\n",
    "    yaxis=dict(title='$', gridcolor='#dddcda', ),\n",
    "    bargap=0.1,\n",
    "    bargroupgap=0.05,\n",
    "    plot_bgcolor='rgba(0,0,0,0)',\n",
    "    margin=dict(l=10, r=10, t=10, b=10),  # Ajusta los márgenes (left, right, top, bottom)        \n",
    ")\n",
    "\n",
    "fig.show()"
   ]
  },
  {
   "cell_type": "code",
   "execution_count": 54,
   "metadata": {},
   "outputs": [
    {
     "data": {
      "application/vnd.plotly.v1+json": {
       "config": {
        "plotlyServerURL": "https://plot.ly"
       },
       "data": [
        {
         "marker": {
          "color": [
           "#2962ff",
           "#9500ff",
           "#ff0059",
           "#ff8c00",
           "#b4e600",
           "#2EC2A2",
           "#E50CB6",
           "#4225CF",
           "#2CBA4D",
           "#2962ff",
           "#9500ff",
           "#ff0059"
          ]
         },
         "text": [
          "$750,000.00",
          "$1,084,343.61",
          "$1,661,205.73"
         ],
         "textposition": "auto",
         "type": "bar",
         "x": [
          "1",
          "2",
          "3"
         ],
         "y": [
          750000,
          1084343.606060606,
          1661205.7333333334
         ]
        }
       ],
       "layout": {
        "bargap": 0.1,
        "bargroupgap": 0.05,
        "margin": {
         "b": 10,
         "l": 10,
         "r": 10,
         "t": 10
        },
        "plot_bgcolor": "rgba(0,0,0,0)",
        "template": {
         "data": {
          "bar": [
           {
            "error_x": {
             "color": "#2a3f5f"
            },
            "error_y": {
             "color": "#2a3f5f"
            },
            "marker": {
             "line": {
              "color": "#E5ECF6",
              "width": 0.5
             },
             "pattern": {
              "fillmode": "overlay",
              "size": 10,
              "solidity": 0.2
             }
            },
            "type": "bar"
           }
          ],
          "barpolar": [
           {
            "marker": {
             "line": {
              "color": "#E5ECF6",
              "width": 0.5
             },
             "pattern": {
              "fillmode": "overlay",
              "size": 10,
              "solidity": 0.2
             }
            },
            "type": "barpolar"
           }
          ],
          "carpet": [
           {
            "aaxis": {
             "endlinecolor": "#2a3f5f",
             "gridcolor": "white",
             "linecolor": "white",
             "minorgridcolor": "white",
             "startlinecolor": "#2a3f5f"
            },
            "baxis": {
             "endlinecolor": "#2a3f5f",
             "gridcolor": "white",
             "linecolor": "white",
             "minorgridcolor": "white",
             "startlinecolor": "#2a3f5f"
            },
            "type": "carpet"
           }
          ],
          "choropleth": [
           {
            "colorbar": {
             "outlinewidth": 0,
             "ticks": ""
            },
            "type": "choropleth"
           }
          ],
          "contour": [
           {
            "colorbar": {
             "outlinewidth": 0,
             "ticks": ""
            },
            "colorscale": [
             [
              0,
              "#0d0887"
             ],
             [
              0.1111111111111111,
              "#46039f"
             ],
             [
              0.2222222222222222,
              "#7201a8"
             ],
             [
              0.3333333333333333,
              "#9c179e"
             ],
             [
              0.4444444444444444,
              "#bd3786"
             ],
             [
              0.5555555555555556,
              "#d8576b"
             ],
             [
              0.6666666666666666,
              "#ed7953"
             ],
             [
              0.7777777777777778,
              "#fb9f3a"
             ],
             [
              0.8888888888888888,
              "#fdca26"
             ],
             [
              1,
              "#f0f921"
             ]
            ],
            "type": "contour"
           }
          ],
          "contourcarpet": [
           {
            "colorbar": {
             "outlinewidth": 0,
             "ticks": ""
            },
            "type": "contourcarpet"
           }
          ],
          "heatmap": [
           {
            "colorbar": {
             "outlinewidth": 0,
             "ticks": ""
            },
            "colorscale": [
             [
              0,
              "#0d0887"
             ],
             [
              0.1111111111111111,
              "#46039f"
             ],
             [
              0.2222222222222222,
              "#7201a8"
             ],
             [
              0.3333333333333333,
              "#9c179e"
             ],
             [
              0.4444444444444444,
              "#bd3786"
             ],
             [
              0.5555555555555556,
              "#d8576b"
             ],
             [
              0.6666666666666666,
              "#ed7953"
             ],
             [
              0.7777777777777778,
              "#fb9f3a"
             ],
             [
              0.8888888888888888,
              "#fdca26"
             ],
             [
              1,
              "#f0f921"
             ]
            ],
            "type": "heatmap"
           }
          ],
          "heatmapgl": [
           {
            "colorbar": {
             "outlinewidth": 0,
             "ticks": ""
            },
            "colorscale": [
             [
              0,
              "#0d0887"
             ],
             [
              0.1111111111111111,
              "#46039f"
             ],
             [
              0.2222222222222222,
              "#7201a8"
             ],
             [
              0.3333333333333333,
              "#9c179e"
             ],
             [
              0.4444444444444444,
              "#bd3786"
             ],
             [
              0.5555555555555556,
              "#d8576b"
             ],
             [
              0.6666666666666666,
              "#ed7953"
             ],
             [
              0.7777777777777778,
              "#fb9f3a"
             ],
             [
              0.8888888888888888,
              "#fdca26"
             ],
             [
              1,
              "#f0f921"
             ]
            ],
            "type": "heatmapgl"
           }
          ],
          "histogram": [
           {
            "marker": {
             "pattern": {
              "fillmode": "overlay",
              "size": 10,
              "solidity": 0.2
             }
            },
            "type": "histogram"
           }
          ],
          "histogram2d": [
           {
            "colorbar": {
             "outlinewidth": 0,
             "ticks": ""
            },
            "colorscale": [
             [
              0,
              "#0d0887"
             ],
             [
              0.1111111111111111,
              "#46039f"
             ],
             [
              0.2222222222222222,
              "#7201a8"
             ],
             [
              0.3333333333333333,
              "#9c179e"
             ],
             [
              0.4444444444444444,
              "#bd3786"
             ],
             [
              0.5555555555555556,
              "#d8576b"
             ],
             [
              0.6666666666666666,
              "#ed7953"
             ],
             [
              0.7777777777777778,
              "#fb9f3a"
             ],
             [
              0.8888888888888888,
              "#fdca26"
             ],
             [
              1,
              "#f0f921"
             ]
            ],
            "type": "histogram2d"
           }
          ],
          "histogram2dcontour": [
           {
            "colorbar": {
             "outlinewidth": 0,
             "ticks": ""
            },
            "colorscale": [
             [
              0,
              "#0d0887"
             ],
             [
              0.1111111111111111,
              "#46039f"
             ],
             [
              0.2222222222222222,
              "#7201a8"
             ],
             [
              0.3333333333333333,
              "#9c179e"
             ],
             [
              0.4444444444444444,
              "#bd3786"
             ],
             [
              0.5555555555555556,
              "#d8576b"
             ],
             [
              0.6666666666666666,
              "#ed7953"
             ],
             [
              0.7777777777777778,
              "#fb9f3a"
             ],
             [
              0.8888888888888888,
              "#fdca26"
             ],
             [
              1,
              "#f0f921"
             ]
            ],
            "type": "histogram2dcontour"
           }
          ],
          "mesh3d": [
           {
            "colorbar": {
             "outlinewidth": 0,
             "ticks": ""
            },
            "type": "mesh3d"
           }
          ],
          "parcoords": [
           {
            "line": {
             "colorbar": {
              "outlinewidth": 0,
              "ticks": ""
             }
            },
            "type": "parcoords"
           }
          ],
          "pie": [
           {
            "automargin": true,
            "type": "pie"
           }
          ],
          "scatter": [
           {
            "fillpattern": {
             "fillmode": "overlay",
             "size": 10,
             "solidity": 0.2
            },
            "type": "scatter"
           }
          ],
          "scatter3d": [
           {
            "line": {
             "colorbar": {
              "outlinewidth": 0,
              "ticks": ""
             }
            },
            "marker": {
             "colorbar": {
              "outlinewidth": 0,
              "ticks": ""
             }
            },
            "type": "scatter3d"
           }
          ],
          "scattercarpet": [
           {
            "marker": {
             "colorbar": {
              "outlinewidth": 0,
              "ticks": ""
             }
            },
            "type": "scattercarpet"
           }
          ],
          "scattergeo": [
           {
            "marker": {
             "colorbar": {
              "outlinewidth": 0,
              "ticks": ""
             }
            },
            "type": "scattergeo"
           }
          ],
          "scattergl": [
           {
            "marker": {
             "colorbar": {
              "outlinewidth": 0,
              "ticks": ""
             }
            },
            "type": "scattergl"
           }
          ],
          "scattermapbox": [
           {
            "marker": {
             "colorbar": {
              "outlinewidth": 0,
              "ticks": ""
             }
            },
            "type": "scattermapbox"
           }
          ],
          "scatterpolar": [
           {
            "marker": {
             "colorbar": {
              "outlinewidth": 0,
              "ticks": ""
             }
            },
            "type": "scatterpolar"
           }
          ],
          "scatterpolargl": [
           {
            "marker": {
             "colorbar": {
              "outlinewidth": 0,
              "ticks": ""
             }
            },
            "type": "scatterpolargl"
           }
          ],
          "scatterternary": [
           {
            "marker": {
             "colorbar": {
              "outlinewidth": 0,
              "ticks": ""
             }
            },
            "type": "scatterternary"
           }
          ],
          "surface": [
           {
            "colorbar": {
             "outlinewidth": 0,
             "ticks": ""
            },
            "colorscale": [
             [
              0,
              "#0d0887"
             ],
             [
              0.1111111111111111,
              "#46039f"
             ],
             [
              0.2222222222222222,
              "#7201a8"
             ],
             [
              0.3333333333333333,
              "#9c179e"
             ],
             [
              0.4444444444444444,
              "#bd3786"
             ],
             [
              0.5555555555555556,
              "#d8576b"
             ],
             [
              0.6666666666666666,
              "#ed7953"
             ],
             [
              0.7777777777777778,
              "#fb9f3a"
             ],
             [
              0.8888888888888888,
              "#fdca26"
             ],
             [
              1,
              "#f0f921"
             ]
            ],
            "type": "surface"
           }
          ],
          "table": [
           {
            "cells": {
             "fill": {
              "color": "#EBF0F8"
             },
             "line": {
              "color": "white"
             }
            },
            "header": {
             "fill": {
              "color": "#C8D4E3"
             },
             "line": {
              "color": "white"
             }
            },
            "type": "table"
           }
          ]
         },
         "layout": {
          "annotationdefaults": {
           "arrowcolor": "#2a3f5f",
           "arrowhead": 0,
           "arrowwidth": 1
          },
          "autotypenumbers": "strict",
          "coloraxis": {
           "colorbar": {
            "outlinewidth": 0,
            "ticks": ""
           }
          },
          "colorscale": {
           "diverging": [
            [
             0,
             "#8e0152"
            ],
            [
             0.1,
             "#c51b7d"
            ],
            [
             0.2,
             "#de77ae"
            ],
            [
             0.3,
             "#f1b6da"
            ],
            [
             0.4,
             "#fde0ef"
            ],
            [
             0.5,
             "#f7f7f7"
            ],
            [
             0.6,
             "#e6f5d0"
            ],
            [
             0.7,
             "#b8e186"
            ],
            [
             0.8,
             "#7fbc41"
            ],
            [
             0.9,
             "#4d9221"
            ],
            [
             1,
             "#276419"
            ]
           ],
           "sequential": [
            [
             0,
             "#0d0887"
            ],
            [
             0.1111111111111111,
             "#46039f"
            ],
            [
             0.2222222222222222,
             "#7201a8"
            ],
            [
             0.3333333333333333,
             "#9c179e"
            ],
            [
             0.4444444444444444,
             "#bd3786"
            ],
            [
             0.5555555555555556,
             "#d8576b"
            ],
            [
             0.6666666666666666,
             "#ed7953"
            ],
            [
             0.7777777777777778,
             "#fb9f3a"
            ],
            [
             0.8888888888888888,
             "#fdca26"
            ],
            [
             1,
             "#f0f921"
            ]
           ],
           "sequentialminus": [
            [
             0,
             "#0d0887"
            ],
            [
             0.1111111111111111,
             "#46039f"
            ],
            [
             0.2222222222222222,
             "#7201a8"
            ],
            [
             0.3333333333333333,
             "#9c179e"
            ],
            [
             0.4444444444444444,
             "#bd3786"
            ],
            [
             0.5555555555555556,
             "#d8576b"
            ],
            [
             0.6666666666666666,
             "#ed7953"
            ],
            [
             0.7777777777777778,
             "#fb9f3a"
            ],
            [
             0.8888888888888888,
             "#fdca26"
            ],
            [
             1,
             "#f0f921"
            ]
           ]
          },
          "colorway": [
           "#636efa",
           "#EF553B",
           "#00cc96",
           "#ab63fa",
           "#FFA15A",
           "#19d3f3",
           "#FF6692",
           "#B6E880",
           "#FF97FF",
           "#FECB52"
          ],
          "font": {
           "color": "#2a3f5f"
          },
          "geo": {
           "bgcolor": "white",
           "lakecolor": "white",
           "landcolor": "#E5ECF6",
           "showlakes": true,
           "showland": true,
           "subunitcolor": "white"
          },
          "hoverlabel": {
           "align": "left"
          },
          "hovermode": "closest",
          "mapbox": {
           "style": "light"
          },
          "paper_bgcolor": "white",
          "plot_bgcolor": "#E5ECF6",
          "polar": {
           "angularaxis": {
            "gridcolor": "white",
            "linecolor": "white",
            "ticks": ""
           },
           "bgcolor": "#E5ECF6",
           "radialaxis": {
            "gridcolor": "white",
            "linecolor": "white",
            "ticks": ""
           }
          },
          "scene": {
           "xaxis": {
            "backgroundcolor": "#E5ECF6",
            "gridcolor": "white",
            "gridwidth": 2,
            "linecolor": "white",
            "showbackground": true,
            "ticks": "",
            "zerolinecolor": "white"
           },
           "yaxis": {
            "backgroundcolor": "#E5ECF6",
            "gridcolor": "white",
            "gridwidth": 2,
            "linecolor": "white",
            "showbackground": true,
            "ticks": "",
            "zerolinecolor": "white"
           },
           "zaxis": {
            "backgroundcolor": "#E5ECF6",
            "gridcolor": "white",
            "gridwidth": 2,
            "linecolor": "white",
            "showbackground": true,
            "ticks": "",
            "zerolinecolor": "white"
           }
          },
          "shapedefaults": {
           "line": {
            "color": "#2a3f5f"
           }
          },
          "ternary": {
           "aaxis": {
            "gridcolor": "white",
            "linecolor": "white",
            "ticks": ""
           },
           "baxis": {
            "gridcolor": "white",
            "linecolor": "white",
            "ticks": ""
           },
           "bgcolor": "#E5ECF6",
           "caxis": {
            "gridcolor": "white",
            "linecolor": "white",
            "ticks": ""
           }
          },
          "title": {
           "x": 0.05
          },
          "xaxis": {
           "automargin": true,
           "gridcolor": "white",
           "linecolor": "white",
           "ticks": "",
           "title": {
            "standoff": 15
           },
           "zerolinecolor": "white",
           "zerolinewidth": 2
          },
          "yaxis": {
           "automargin": true,
           "gridcolor": "white",
           "linecolor": "white",
           "ticks": "",
           "title": {
            "standoff": 15
           },
           "zerolinecolor": "white",
           "zerolinewidth": 2
          }
         }
        },
        "xaxis": {
         "title": {
          "text": "Recámaras"
         }
        },
        "yaxis": {
         "gridcolor": "#dddcda",
         "title": {
          "text": "$"
         }
        }
       }
      }
     },
     "metadata": {},
     "output_type": "display_data"
    }
   ],
   "source": [
    "import pandas as pd\n",
    "import plotly.graph_objects as go\n",
    "import locale\n",
    "\n",
    "# Establecer configuración regional para el formato de precios\n",
    "locale.setlocale(locale.LC_ALL, '')\n",
    "\n",
    "# Definir función para formatear precios\n",
    "def format_price(price):\n",
    "    return locale.currency(price, grouping=True)\n",
    "\n",
    "# Crear una lista de etiquetas para el eje x\n",
    "etiquetas = [str(recamaras) if recamaras != 16 else '16+' for recamaras in df_promedio_depas['Recamaras']]\n",
    "\n",
    "# Obtener los precios y el número de recámaras\n",
    "precios = df_promedio_depas['precio']\n",
    "\n",
    "# Crear el texto con los precios formateados\n",
    "text_precios = [format_price(precio) for precio in precios]\n",
    "\n",
    "colores = ['#2962ff', '#9500ff', '#ff0059', '#ff8c00', '#b4e600', '#2EC2A2','#E50CB6','#4225CF','#2CBA4D','#2962ff', '#9500ff', '#ff0059']\n",
    "\n",
    "fig = go.Figure()\n",
    "fig.add_trace(go.Bar(\n",
    "    x=etiquetas,\n",
    "    y=precios,\n",
    "    text=text_precios,\n",
    "    marker_color=colores,\n",
    "    textposition='auto' \n",
    "))\n",
    "fig.update_layout(\n",
    "    #title='Precio promedio por número de baños',\n",
    "    xaxis=dict(title='Recámaras'),\n",
    "    yaxis=dict(title='$', gridcolor='#dddcda', ),\n",
    "    bargap=0.1,\n",
    "    bargroupgap=0.05,\n",
    "    plot_bgcolor='rgba(0,0,0,0)',\n",
    "    margin=dict(l=10, r=10, t=10, b=10),  # Ajusta los márgenes (left, right, top, bottom)        \n",
    ")\n",
    "\n",
    "fig.show()"
   ]
  },
  {
   "cell_type": "code",
   "execution_count": 55,
   "metadata": {},
   "outputs": [],
   "source": [
    "# Función para guardar la gráfica como archivo HTML\n",
    "def guardar_grafico_como_html(fig, nombre_archivo, carpeta='assets/graficas'):\n",
    "    import os\n",
    "    import plotly.io as pio\n",
    "\n",
    "    # Crear la carpeta si no existe\n",
    "    if not os.path.exists(carpeta):\n",
    "        os.makedirs(carpeta)\n",
    "\n",
    "    # Configuración personalizada para la gráfica\n",
    "    config = {\n",
    "        'displaylogo': False,  # Ocultar el logo de Plotly\n",
    "        'modeBarButtonsToRemove': [\n",
    "            'toImage',       # Botón para guardar como imagen\n",
    "            'select2d',      # Box select\n",
    "            'lasso2d',       # Lasso select\n",
    "            'resetScale2d',  # Reset Axes\n",
    "        ]\n",
    "    }\n",
    "\n",
    "    # Guardar la gráfica como archivo HTML\n",
    "    pio.write_html(fig, f'{carpeta}/{nombre_archivo}.html', config=config)\n",
    "\n",
    "# Ejemplo de uso\n",
    "guardar_grafico_como_html(fig, 'g_bar_precio_promedio_recamaras_depa',  carpeta='assets/graficas')\n"
   ]
  },
  {
   "cell_type": "code",
   "execution_count": null,
   "metadata": {},
   "outputs": [],
   "source": []
  }
 ],
 "metadata": {
  "kernelspec": {
   "display_name": "newst",
   "language": "python",
   "name": "python3"
  },
  "language_info": {
   "codemirror_mode": {
    "name": "ipython",
    "version": 3
   },
   "file_extension": ".py",
   "mimetype": "text/x-python",
   "name": "python",
   "nbconvert_exporter": "python",
   "pygments_lexer": "ipython3",
   "version": "3.12.7"
  }
 },
 "nbformat": 4,
 "nbformat_minor": 2
}
