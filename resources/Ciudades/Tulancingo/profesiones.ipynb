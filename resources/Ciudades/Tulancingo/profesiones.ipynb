{
 "cells": [
  {
   "cell_type": "markdown",
   "metadata": {},
   "source": [
    "# **Profesiones**"
   ]
  },
  {
   "cell_type": "code",
   "execution_count": 35,
   "metadata": {},
   "outputs": [
    {
     "name": "stdout",
     "output_type": "stream",
     "text": [
      "Lista de DataFrames filtrados:\n"
     ]
    },
    {
     "data": {
      "text/plain": [
       "['df_salarios_tulancingo']"
      ]
     },
     "execution_count": 35,
     "metadata": {},
     "output_type": "execute_result"
    }
   ],
   "source": [
    "# Manejo de datos\n",
    "import os # Directorios\n",
    "import pandas as pd # Manipulación df\n",
    "# Gráficas\n",
    "import plotly.graph_objects as go #Para obtener librería usar: pip install plotly\n",
    "from plotly.subplots import make_subplots\n",
    "import plotly.io as pio # Exportar gráfica\n",
    "\n",
    "# Obtener el directorio actual de trabajo\n",
    "directorio_actual = os.getcwd()\n",
    "\n",
    "# Directorio donde se encuentran los archivos JSON (ruta relativa)\n",
    "directorio_json = os.path.join(directorio_actual, '../../db/datos_json')\n",
    "\n",
    "# Obtener la lista de archivos JSON en el directorio\n",
    "archivos_json = os.listdir(directorio_json)\n",
    "\n",
    "# Cargar los archivos JSON y crear DataFrames\n",
    "for archivo in archivos_json:\n",
    "    nombre_tabla = archivo.replace('datos_', '').replace('.json', '')\n",
    "    ruta_json = os.path.join(directorio_json, archivo)\n",
    "    globals()[f\"df_{nombre_tabla}\"] = pd.read_json(ruta_json)\n",
    "\n",
    "# Obtener todos los nombres de las variables globales\n",
    "nombres_variables_globales = list(globals().keys())\n",
    "\n",
    "# Filtrar los nombres que comienzan con \"df_\", contienen \"alfa_q\" y \"pachuca\"\n",
    "nombres_df_filtrados = [\n",
    "    nombre for nombre in nombres_variables_globales \n",
    "    if nombre.startswith(\"df_\") and \"salarios\" in nombre and \"tulancingo\" in nombre\n",
    "]\n",
    "\n",
    "# Imprimir la lista de DataFrames filtrados\n",
    "print(\"Lista de DataFrames filtrados:\")\n",
    "nombres_df_filtrados"
   ]
  },
  {
   "cell_type": "code",
   "execution_count": 28,
   "metadata": {},
   "outputs": [],
   "source": [
    "#Por si no se tiene el json, desde csv:\n",
    "#df = pd.read_csv('C:\\\\xampp\\\\htdocs/datalpine/resources/db/Scrapining/salarios/bases/QUERETARO_24.csv')\n",
    "\n",
    "#Por si no se tiene el json, desde csv:\n",
    "import os\n",
    "directorio_actual = os.getcwd()  # Cambiado de __file__ a getcwd()\n",
    "df = pd.read_csv(os.path.join(directorio_actual, '../../db/Scrapining/salarios/clean/TULANCINGO_24.csv'))"
   ]
  },
  {
   "cell_type": "code",
   "execution_count": 34,
   "metadata": {},
   "outputs": [
    {
     "data": {
      "text/plain": [
       "Index(['Occupation', 'Workforce', 'Monthly Wage', 'lastPeriod', 'diferencia',\n",
       "       'diferencia_2', 'Salario_Variables', 'volumen', 'pareja',\n",
       "       'categoria_persona', 'categoria_pareja'],\n",
       "      dtype='object')"
      ]
     },
     "execution_count": 34,
     "metadata": {},
     "output_type": "execute_result"
    }
   ],
   "source": [
    "df.columns"
   ]
  },
  {
   "cell_type": "code",
   "execution_count": 36,
   "metadata": {},
   "outputs": [
    {
     "name": "stdout",
     "output_type": "stream",
     "text": [
      "Columnas renombradas en los DataFrames filtrados.\n"
     ]
    }
   ],
   "source": [
    "# Iterar sobre cada DataFrame en la lista filtrada\n",
    "for nombre_df in nombres_df_filtrados:\n",
    "    # Obtener el DataFrame usando globals()\n",
    "    df = globals()[nombre_df]\n",
    "    df.rename(columns={'Salario_Variables':'Salario_Variable'}, inplace=True)\n",
    "        # Asignar el DataFrame modificado de nuevo a la variable global\n",
    "    globals()[nombre_df] = df \n",
    "print(\"Columnas renombradas en los DataFrames filtrados.\")"
   ]
  },
  {
   "cell_type": "code",
   "execution_count": 37,
   "metadata": {},
   "outputs": [],
   "source": [
    "# Crear una lista de DataFrames seleccionados con las columnas específicas\n",
    "dataframes_list = []\n",
    "for nombre_df in nombres_df_filtrados:\n",
    "    # Seleccionar las columnas 'id' y 'categoria'\n",
    "    segment_df = globals()[nombre_df][['Occupation','Salario_Variable']]\n",
    "    # Añadir el DataFrame a la lista\n",
    "    dataframes_list.append(segment_df)"
   ]
  },
  {
   "cell_type": "code",
   "execution_count": 38,
   "metadata": {},
   "outputs": [
    {
     "data": {
      "text/plain": [
       "array([    0.  ,   301.  ,   347.2 ,   600.  ,  1102.18,  1148.76,\n",
       "        1290.  ,  1306.99,  1335.89,  1387.23,  1390.9 ,  1575.78,\n",
       "        1657.49,  1667.  ,  1720.  ,  1774.6 ,  2306.88,  2385.56,\n",
       "        2515.73,  2580.  ,  2607.8 ,  2786.08,  2993.69,  3005.57,\n",
       "        3052.49,  3061.2 ,  3084.59,  3134.81,  3333.04,  3347.7 ,\n",
       "        3348.98,  3440.  ,  3461.89,  3579.05,  3604.67,  3686.57,\n",
       "        3825.79,  3870.67,  3878.34,  3955.11,  3972.24,  3987.66,\n",
       "        4044.39,  4126.34,  4201.5 ,  4244.06,  4244.77,  4247.19,\n",
       "        4254.29,  4284.24,  4309.35,  4354.65,  4364.93,  4371.81,\n",
       "        4422.94,  4481.94,  4548.25,  4581.26,  4633.97,  4671.97,\n",
       "        4781.87,  4895.9 ,  4913.55,  4933.22,  4943.3 ,  4985.86,\n",
       "        5000.  ,  5030.11,  5140.38,  5146.79,  5180.55,  5216.07,\n",
       "        5232.11,  5249.09,  5276.61,  5286.68,  5302.33,  5389.87,\n",
       "        5412.58,  5432.9 ,  5494.8 ,  5511.58,  5577.35,  5600.  ,\n",
       "        5627.25,  5690.51,  5706.15,  5763.5 ,  5794.12,  5795.29,\n",
       "        5810.07,  5831.67,  5854.96,  6000.  ,  6020.  ,  6073.59,\n",
       "        6119.74,  6167.99,  6173.81,  6224.51,  6282.83,  6300.  ,\n",
       "        6307.08,  6355.03,  6442.8 ,  6449.81,  6450.  ,  6466.54,\n",
       "        6470.35,  6484.25,  6499.33,  6531.88,  6637.13,  6638.22,\n",
       "        6670.92,  6764.63,  6800.  ,  6859.98,  6882.53,  6954.24,\n",
       "        7000.  ,  7128.47,  7148.39,  7150.51,  7286.84,  7310.  ,\n",
       "        7353.01,  7410.64,  7493.63,  7494.67,  7496.32,  7497.67,\n",
       "        7529.67,  7535.54,  7592.35,  7593.33,  7668.45,  7671.44,\n",
       "        7707.98,  7745.91,  7771.06,  7779.72,  7834.77,  8000.  ,\n",
       "        8014.27,  8066.74,  8097.99,  8151.61,  8279.33,  8294.72,\n",
       "        8343.55,  8356.59,  8391.27,  8405.9 ,  8406.5 ,  8540.71,\n",
       "        8546.92,  8600.  ,  8615.92,  8623.24,  8703.84,  8806.08,\n",
       "        8821.03,  8853.32,  8912.63,  8956.83,  9088.33,  9096.67,\n",
       "        9163.71,  9169.96,  9215.19,  9233.77,  9241.94,  9417.53,\n",
       "        9466.23,  9570.65,  9687.96,  9716.72,  9850.86,  9881.73,\n",
       "        9901.02, 10000.  , 10096.97, 10253.56, 10271.45, 10280.38,\n",
       "       10298.77, 10385.41, 10396.44, 10497.21, 10586.97, 10647.14,\n",
       "       10750.  , 10810.34, 10872.28, 10955.95, 10974.43, 11057.59,\n",
       "       11111.11, 11250.  , 11353.52, 11383.33, 11386.53, 11500.  ,\n",
       "       11515.18, 11516.24, 11637.2 , 11643.87, 11747.73, 11749.92,\n",
       "       12000.  , 12062.43, 12073.49, 12139.8 , 12179.36, 12396.67,\n",
       "       12476.7 , 12900.  , 12956.27, 13000.  , 13030.15, 13128.49,\n",
       "       13300.  , 13528.12, 13539.93, 13550.77, 13600.  , 13698.34,\n",
       "       13935.48, 13985.16, 14000.  , 14007.67, 14028.33, 14190.  ,\n",
       "       14820.  , 15000.  , 15050.  , 15102.56, 15130.73, 15190.44,\n",
       "       15192.82, 15810.03, 16000.  , 16153.35, 16446.08, 16517.8 ,\n",
       "       16685.08, 16852.17, 17000.  , 17140.18, 17314.29, 17625.36,\n",
       "       17632.92, 18631.27, 19106.32, 19200.9 , 19207.96, 19346.15,\n",
       "       19350.  , 19794.78, 20000.  , 20750.62, 21397.18, 21500.  ,\n",
       "       21707.2 , 22500.  , 22953.61, 23406.85, 24000.  , 24120.  ,\n",
       "       24392.76, 24790.62, 25000.  , 25674.15, 26600.  , 26992.05,\n",
       "       28000.  , 28075.03, 30000.  , 30960.  , 30971.24, 32000.  ,\n",
       "       36057.69, 70000.  ])"
      ]
     },
     "execution_count": 38,
     "metadata": {},
     "output_type": "execute_result"
    }
   ],
   "source": [
    "salarios = df['Salario_Variable'].unique()\n",
    "salarios.sort()\n",
    "salarios"
   ]
  },
  {
   "cell_type": "code",
   "execution_count": 39,
   "metadata": {},
   "outputs": [
    {
     "data": {
      "text/plain": [
       "array(['Presidentes y Autoridades Municipales',\n",
       "       'Directores de Organizaciones Civiles y Religiosas',\n",
       "       'Coordinadores y Jefes de Área en Producción Agropecuaria, Silvícola y Pesquera',\n",
       "       'Coordinadores y Jefes de Área en Museos, Cines, Deportivos y Servicios Culturales',\n",
       "       'Biólogos y Especialistas en Ciencias del Mar y Oceanógrafos',\n",
       "       'Agrónomos', 'Ingenieros Químicos',\n",
       "       'Especialistas en Medicina Tradicional y Alternativa',\n",
       "       'Auxiliares y Técnicos en Ciencias Biológicas, Químicas y del Medio Ambiente',\n",
       "       'Mecánicos en Mantenimiento y Reparación de Instrumentos de Precisión y Musicales',\n",
       "       'Otros Especialistas no Clasificados Anteriormente',\n",
       "       'Azafatas y Sobrecargos',\n",
       "       'Trabajadores Dedicados a la Prostitución',\n",
       "       'Supervisores de Artesanos y Trabajadores en la Elaboración de Productos de Madera, Papel, Textiles y de Cuero y Piel',\n",
       "       'Supervisores de Artesanos y Trabajadores en la Elaboración de Productos de Hule, Caucho, Plásticos y de Sustancias Químicas',\n",
       "       'Operadores de Máquinas y Equipos para la Refinación del Petróleo y Gas',\n",
       "       'Operadores de Máquinas para la Elaboración de Productos de Madera, Bejuco, Mimbre y Similares',\n",
       "       'Trabajadores de Apoyo que Realizan Actividades Agrícolas y Ganaderas',\n",
       "       'Trabajadores de Apoyo en la Extracción',\n",
       "       'Lecturistas de Medidores'], dtype=object)"
      ]
     },
     "execution_count": 39,
     "metadata": {},
     "output_type": "execute_result"
    }
   ],
   "source": [
    "df_neutro = df[df['Salario_Variable']==0]\n",
    "df_neutro['Occupation'].unique()"
   ]
  },
  {
   "cell_type": "code",
   "execution_count": 40,
   "metadata": {},
   "outputs": [
    {
     "data": {
      "text/html": [
       "<div>\n",
       "<style scoped>\n",
       "    .dataframe tbody tr th:only-of-type {\n",
       "        vertical-align: middle;\n",
       "    }\n",
       "\n",
       "    .dataframe tbody tr th {\n",
       "        vertical-align: top;\n",
       "    }\n",
       "\n",
       "    .dataframe thead th {\n",
       "        text-align: right;\n",
       "    }\n",
       "</style>\n",
       "<table border=\"1\" class=\"dataframe\">\n",
       "  <thead>\n",
       "    <tr style=\"text-align: right;\">\n",
       "      <th></th>\n",
       "      <th>Occupation</th>\n",
       "      <th>Salario_Variable</th>\n",
       "    </tr>\n",
       "  </thead>\n",
       "  <tbody>\n",
       "    <tr>\n",
       "      <th>237</th>\n",
       "      <td>Zapateros Artesanales</td>\n",
       "      <td>301.00</td>\n",
       "    </tr>\n",
       "    <tr>\n",
       "      <th>173</th>\n",
       "      <td>Supervisores y Encargados de Trabajadores en C...</td>\n",
       "      <td>347.20</td>\n",
       "    </tr>\n",
       "    <tr>\n",
       "      <th>136</th>\n",
       "      <td>Otros Técnicos no Clasificados Anteriormente</td>\n",
       "      <td>600.00</td>\n",
       "    </tr>\n",
       "    <tr>\n",
       "      <th>234</th>\n",
       "      <td>Bordadores y Deshiladores</td>\n",
       "      <td>1102.18</td>\n",
       "    </tr>\n",
       "    <tr>\n",
       "      <th>231</th>\n",
       "      <td>Tejedores de Fibras</td>\n",
       "      <td>1148.76</td>\n",
       "    </tr>\n",
       "    <tr>\n",
       "      <th>...</th>\n",
       "      <td>...</td>\n",
       "      <td>...</td>\n",
       "    </tr>\n",
       "    <tr>\n",
       "      <th>224</th>\n",
       "      <td>Joyeros, Orfebres, Plateros y Pulidores de Metal</td>\n",
       "      <td>30960.00</td>\n",
       "    </tr>\n",
       "    <tr>\n",
       "      <th>35</th>\n",
       "      <td>Coordinadores y Jefes de Área de Restaurantes ...</td>\n",
       "      <td>30971.24</td>\n",
       "    </tr>\n",
       "    <tr>\n",
       "      <th>8</th>\n",
       "      <td>Directores y Gerentes en Desarrollo Social y E...</td>\n",
       "      <td>32000.00</td>\n",
       "    </tr>\n",
       "    <tr>\n",
       "      <th>1</th>\n",
       "      <td>Presidentes y Directores Generales en Instituc...</td>\n",
       "      <td>36057.69</td>\n",
       "    </tr>\n",
       "    <tr>\n",
       "      <th>321</th>\n",
       "      <td>Trabajadores de Paquetería, Maleteros y Botone...</td>\n",
       "      <td>70000.00</td>\n",
       "    </tr>\n",
       "  </tbody>\n",
       "</table>\n",
       "<p>308 rows × 2 columns</p>\n",
       "</div>"
      ],
      "text/plain": [
       "                                            Occupation  Salario_Variable\n",
       "237                              Zapateros Artesanales            301.00\n",
       "173  Supervisores y Encargados de Trabajadores en C...            347.20\n",
       "136       Otros Técnicos no Clasificados Anteriormente            600.00\n",
       "234                          Bordadores y Deshiladores           1102.18\n",
       "231                                Tejedores de Fibras           1148.76\n",
       "..                                                 ...               ...\n",
       "224   Joyeros, Orfebres, Plateros y Pulidores de Metal          30960.00\n",
       "35   Coordinadores y Jefes de Área de Restaurantes ...          30971.24\n",
       "8    Directores y Gerentes en Desarrollo Social y E...          32000.00\n",
       "1    Presidentes y Directores Generales en Instituc...          36057.69\n",
       "321  Trabajadores de Paquetería, Maleteros y Botone...          70000.00\n",
       "\n",
       "[308 rows x 2 columns]"
      ]
     },
     "execution_count": 40,
     "metadata": {},
     "output_type": "execute_result"
    }
   ],
   "source": [
    "df_limpio = df[df['Salario_Variable']!=0]\n",
    "profesiones_df_salarios_puebla_sorted = df_limpio.sort_values(by='Salario_Variable')\n",
    "profesiones_df_salarios_puebla_sorted[['Occupation','Salario_Variable']]"
   ]
  },
  {
   "cell_type": "markdown",
   "metadata": {},
   "source": [
    "Sacar lista de 10 por categoría"
   ]
  },
  {
   "cell_type": "code",
   "execution_count": 41,
   "metadata": {},
   "outputs": [
    {
     "name": "stdout",
     "output_type": "stream",
     "text": [
      "                               Profesiones Más Bajas  \\\n",
      "0                              Zapateros Artesanales   \n",
      "1  Supervisores y Encargados de Trabajadores en C...   \n",
      "2       Otros Técnicos no Clasificados Anteriormente   \n",
      "3                          Bordadores y Deshiladores   \n",
      "4                                Tejedores de Fibras   \n",
      "5  Operadores de Máquinas y Equipos para la Capta...   \n",
      "6        Recolectores de Leña y Acarreadores de Agua   \n",
      "7  Cuidadores de Niños, Personas con Discapacidad...   \n",
      "8       Trabajadores en la Cría de Caprinos y Ovinos   \n",
      "9  Trabajadores que Combinan Actividades Agrícola...   \n",
      "\n",
      "                               Profesiones Más Altas  \n",
      "0  Ingenieros en Topografía, Hidrología, Geología...  \n",
      "1  Mineros y Trabajadores en la Extracción en Min...  \n",
      "2                Supervisores de las Fuerzas Armadas  \n",
      "3             Trabajadores de la Fuerza Armada Aérea  \n",
      "4                                       Farmacólogos  \n",
      "5   Joyeros, Orfebres, Plateros y Pulidores de Metal  \n",
      "6  Coordinadores y Jefes de Área de Restaurantes ...  \n",
      "7  Directores y Gerentes en Desarrollo Social y E...  \n",
      "8  Presidentes y Directores Generales en Instituc...  \n",
      "9  Trabajadores de Paquetería, Maleteros y Botone...  \n"
     ]
    }
   ],
   "source": [
    "# Ordenar el DataFrame por el valor del salario en orden ascendente\n",
    "profesiones_df_salarios_puebla_sorted = df_limpio.sort_values(by='Salario_Variable')\n",
    "\n",
    "# Obtener las 10 profesiones con el salario más bajo\n",
    "profesiones_bajas = profesiones_df_salarios_puebla_sorted.head(10)\n",
    "\n",
    "# Obtener las 10 profesiones con el salario más alto\n",
    "profesiones_altas = profesiones_df_salarios_puebla_sorted.tail(10)\n",
    "\n",
    "df_bajas = pd.DataFrame({'Profesiones Más Bajas': profesiones_bajas['Occupation']})\n",
    "df_altas = pd.DataFrame({'Profesiones Más Altas': profesiones_altas['Occupation']})\n",
    "\n",
    "# Unir los dos DataFrames en una sola tabla\n",
    "tabla_comparativa = pd.concat([df_bajas.reset_index(drop=True), df_altas.reset_index(drop=True)], axis=1)\n",
    "print(tabla_comparativa)\n",
    "\n",
    "# Exportar tabla como archivo HTML\n",
    "def guardar_tabla_como_html(tabla, nombre_archivo, carpeta='assets/tablas'):\n",
    "    if not os.path.exists(carpeta):\n",
    "        os.makedirs(carpeta)  # Crear la carpeta si no existe\n",
    "    \n",
    "    # Tabla como archivo HTML en la carpeta especificada\n",
    "    tabla.to_html(f'{carpeta}/{nombre_archivo}.html', index=False)\n",
    "\n",
    "# Exportar la tabla\n",
    "guardar_tabla_como_html(tabla_comparativa, 'tabla_profesiones')"
   ]
  },
  {
   "cell_type": "markdown",
   "metadata": {},
   "source": [
    "## Sacar los estilos deseados"
   ]
  },
  {
   "cell_type": "code",
   "execution_count": 44,
   "metadata": {},
   "outputs": [],
   "source": [
    "import os\n",
    "import pandas as pd\n",
    "\n",
    "def guardar_tabla_como_html(tabla, nombre_archivo, carpeta='assets/tablas'):\n",
    "    if not os.path.exists(carpeta):\n",
    "        os.makedirs(carpeta)\n",
    "\n",
    "    # Crear un estilo personalizado de tabla\n",
    "    estilo_html = \"\"\"\n",
    "    <!DOCTYPE html>\n",
    "    <html lang=\"es\">\n",
    "    <head>\n",
    "        <style>\n",
    "            /* Estilo general para las tablas */\n",
    "            table {\n",
    "                width: 100%; /* Ancho completo */\n",
    "                border-collapse: collapse; /* Colapsar bordes */\n",
    "                margin: 0; /* Margen superior e inferior */\n",
    "                padding: 0; /* Eliminar padding */\n",
    "            }\n",
    "            \n",
    "            /* Estilo para el contenedor de la tabla */\n",
    "            .card-body {\n",
    "                padding: 0; /* Eliminar padding del contenedor */\n",
    "                margin: 0; /* Eliminar margen del contenedor */\n",
    "            }\n",
    "\n",
    "            /* Estilo para las celdas de encabezado */\n",
    "            th {\n",
    "                background-color: #f2f2f2; /* Color de fondo claro */\n",
    "                color: #333; /* Color de texto */\n",
    "                padding: 10px; /* Espaciado interno */\n",
    "                text-align: left; /* Alinear texto a la izquierda */\n",
    "                border: 1px solid #ddd; /* Borde de las celdas */\n",
    "            }\n",
    "\n",
    "            /* Estilo para las celdas del cuerpo */\n",
    "            td {\n",
    "                padding: 10px; /* Espaciado interno */\n",
    "                border: 1px solid #ddd; /* Borde de las celdas */\n",
    "            }\n",
    "\n",
    "            /* Estilo para las filas alternas */\n",
    "            tr:nth-child(even) {\n",
    "                background-color: #f9f9f9; /* Color de fondo alternativo */\n",
    "            }\n",
    "\n",
    "            /* Estilo para las filas al pasar el mouse */\n",
    "            tr:hover {\n",
    "                background-color: #f1f1f1; /* Color de fondo al pasar el mouse */\n",
    "            }\n",
    "\n",
    "            /* Estilo para el texto en las celdas */\n",
    "            td, th {\n",
    "                text-align: center; /* Centrar texto en celdas */\n",
    "            }\n",
    "        </style>\n",
    "    </head>\n",
    "    <body>\n",
    "        <div class=\"card\">\n",
    "            <div class=\"card-body\">\n",
    "                <div style=\"overflow-x:auto;\">\n",
    "                    {table_html}\n",
    "                </div>\n",
    "            </div>\n",
    "        </div>\n",
    "    </body>\n",
    "    </html>\n",
    "    \"\"\"\n",
    "    \n",
    "    # Generar el HTML de la tabla\n",
    "    table_html = tabla.to_html(\n",
    "        index=False,\n",
    "        classes='table-responsive table-striped table-bordered',\n",
    "        border=0,\n",
    "        escape=False,\n",
    "        na_rep='-'\n",
    "    )\n",
    "    \n",
    "    # Reemplazar el marcador de posición en el template\n",
    "    html_completo = estilo_html.replace('{table_html}', table_html)\n",
    "    \n",
    "    # Guardar la tabla con el estilo HTML\n",
    "    ruta_archivo = os.path.join(carpeta, f'{nombre_archivo}.html')\n",
    "    with open(ruta_archivo, 'w', encoding='utf-8') as archivo_html:\n",
    "        archivo_html.write(html_completo)"
   ]
  },
  {
   "cell_type": "code",
   "execution_count": null,
   "metadata": {},
   "outputs": [],
   "source": []
  }
 ],
 "metadata": {
  "kernelspec": {
   "display_name": "base",
   "language": "python",
   "name": "python3"
  },
  "language_info": {
   "codemirror_mode": {
    "name": "ipython",
    "version": 3
   },
   "file_extension": ".py",
   "mimetype": "text/x-python",
   "name": "python",
   "nbconvert_exporter": "python",
   "pygments_lexer": "ipython3",
   "version": "3.12.7"
  }
 },
 "nbformat": 4,
 "nbformat_minor": 2
}
