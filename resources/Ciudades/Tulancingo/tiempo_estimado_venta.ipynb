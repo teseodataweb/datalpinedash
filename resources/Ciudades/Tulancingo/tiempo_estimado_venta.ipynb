{
 "cells": [
  {
   "cell_type": "markdown",
   "metadata": {},
   "source": [
    "# **Tiempo estimado de venta**"
   ]
  },
  {
   "cell_type": "code",
   "execution_count": 1,
   "metadata": {},
   "outputs": [
    {
     "name": "stdout",
     "output_type": "stream",
     "text": [
      "Lista de DataFrames filtrados:\n"
     ]
    },
    {
     "data": {
      "text/plain": [
       "['df_alfa_abril_2024_tulancingo',\n",
       " 'df_alfa_agosto_2024_tulancingo',\n",
       " 'df_alfa_febrero_2024_tulancingo',\n",
       " 'df_alfa_julio_2024_tulancingo',\n",
       " 'df_alfa_junio_2024_tulancingo',\n",
       " 'df_alfa_marzo_2024_tulancingo',\n",
       " 'df_alfa_mayo_2024_tulancingo',\n",
       " 'df_alfa_q_jul_2022_tulancingo',\n",
       " 'df_alfa_q_jul_2023_tulancingo',\n",
       " 'df_alfa_q_jun_2023_tulancingo',\n",
       " 'df_alfa_q_mar_2023_tulancingo',\n",
       " 'df_alfa_q_may_2022_tulancingo',\n",
       " 'df_alfa_q_may_2023_tulancingo',\n",
       " 'df_alfa_q_oct_2022_tulancingo',\n",
       " 'df_alfa_q_oct_2023_tulancingo',\n",
       " 'df_alfa_q_sep_2023_tulancingo']"
      ]
     },
     "execution_count": 1,
     "metadata": {},
     "output_type": "execute_result"
    }
   ],
   "source": [
    "# Manejo de datos\n",
    "import os # Directorios\n",
    "import pandas as pd # Manipulación df\n",
    "# Gráficas\n",
    "import plotly.graph_objects as go #Para obtener librería usar: pip install plotly\n",
    "from plotly.subplots import make_subplots\n",
    "import plotly.io as pio # Exportar gráfica\n",
    "\n",
    "# Obtener el directorio actual de trabajo\n",
    "directorio_actual = os.getcwd()\n",
    "\n",
    "# Directorio donde se encuentran los archivos JSON (ruta relativa)\n",
    "directorio_json = os.path.join(directorio_actual, '../../db/datos_json')\n",
    "\n",
    "# Obtener la lista de archivos JSON en el directorio\n",
    "archivos_json = os.listdir(directorio_json)\n",
    "\n",
    "# Cargar los archivos JSON y crear DataFrames\n",
    "for archivo in archivos_json:\n",
    "    nombre_tabla = archivo.replace('datos_', '').replace('.json', '')\n",
    "    ruta_json = os.path.join(directorio_json, archivo)\n",
    "    globals()[f\"df_{nombre_tabla}\"] = pd.read_json(ruta_json)\n",
    "\n",
    "# Obtener todos los nombres de las variables globales\n",
    "nombres_variables_globales = list(globals().keys())\n",
    "\n",
    "# Filtrar los nombres que comienzan con \"df_\", contienen \"alfa_q\" y \"pachuca\"\n",
    "nombres_df_filtrados = [\n",
    "    nombre for nombre in nombres_variables_globales \n",
    "    # Caso de cuando no son las alfa q\n",
    "    if nombre.startswith(\"df_\") and \"alfa\" in nombre  and \"tulancingo\" in nombre #and '2024' in nombre\n",
    "\n",
    "    #if nombre.startswith(\"df_\") and \"tulancingo\" in nombre    \n",
    "    #and (\"alfa_q\" in nombre or \"jul_2023\" in nombre or \"sep_2023\" in nombre or \"feb_2024\" in nombre or \"mar_2024\" in nombre or \"may_2024\" in nombre)\n",
    "]\n",
    "\n",
    "# Imprimir la lista de DataFrames filtrados\n",
    "print(\"Lista de DataFrames filtrados:\")\n",
    "nombres_df_filtrados"
   ]
  },
  {
   "cell_type": "code",
   "execution_count": 2,
   "metadata": {},
   "outputs": [
    {
     "name": "stdout",
     "output_type": "stream",
     "text": [
      "Columnas renombradas en los DataFrames filtrados.\n"
     ]
    }
   ],
   "source": [
    "# Iterar sobre cada DataFrame en la lista filtrada\n",
    "for nombre_df in nombres_df_filtrados:\n",
    "    # Obtener el DataFrame usando globals()\n",
    "    df = globals()[nombre_df]\n",
    "    \n",
    "    df.rename(columns={'tiempo_de_publicacion':'antiguedad','Categoria':'categoria','Banos_Total':'baño_total','m2_contruido': 'm2_construido','m_construido': 'm2_construido','Metros_construido':'m2_construido','segmento':'categoria','Category':'categoria','m_total':'m2_total','m_construido':'m2_construido',}, inplace=True)\n",
    "        # Asignar el DataFrame modificado de nuevo a la variable global\n",
    "    globals()[nombre_df] = df \n",
    "\n",
    "# Imprimir confirmación\n",
    "print(\"Columnas renombradas en los DataFrames filtrados.\")"
   ]
  },
  {
   "cell_type": "code",
   "execution_count": 3,
   "metadata": {},
   "outputs": [],
   "source": [
    "# Crear una lista de DataFrames seleccionados con las columnas específicas\n",
    "dataframes_list = []\n",
    "for nombre_df in nombres_df_filtrados:\n",
    "    # Seleccionar las columnas 'id' y 'categoria'\n",
    "    segment_df = globals()[nombre_df][['id','categoria','antiguedad']]\n",
    "    # Añadir el DataFrame a la lista\n",
    "    dataframes_list.append(segment_df)"
   ]
  },
  {
   "cell_type": "markdown",
   "metadata": {},
   "source": [
    "## Meses de antigüedad"
   ]
  },
  {
   "cell_type": "code",
   "execution_count": 4,
   "metadata": {},
   "outputs": [
    {
     "name": "stdout",
     "output_type": "stream",
     "text": [
      "      id categoria  antiguedad antiguedad_categoria\n",
      "0      1                    13                   13\n",
      "1      2        S1          12                   12\n",
      "2      3        S1           3                11111\n",
      "3      4        S1           7                    7\n",
      "4      5        A3           2                11111\n",
      "..   ...       ...         ...                  ...\n",
      "127  128        E1           1                11111\n",
      "128  129        E1           1                11111\n",
      "129  130        E1           2                11111\n",
      "130  131        E1           7                    7\n",
      "131  132        E1           1                11111\n",
      "\n",
      "[132 rows x 4 columns]\n",
      "      id categoria  antiguedad antiguedad_categoria\n",
      "0      1        C3           8                    8\n",
      "1      2        D1          16                16-18\n",
      "2      3        C3          16                16-18\n",
      "3      4        E1           4                11111\n",
      "4      5        E1           1                11111\n",
      "..   ...       ...         ...                  ...\n",
      "121  122        E3           1                11111\n",
      "122  123        E3           1                11111\n",
      "123  124        B1           1                11111\n",
      "124  125                     8                    8\n",
      "125  126                     6                11111\n",
      "\n",
      "[126 rows x 4 columns]\n",
      "      id categoria  antiguedad antiguedad_categoria\n",
      "0      1        E1          14                   14\n",
      "1      2        E2           5                11111\n",
      "2      3        E2           4                11111\n",
      "3      4        E2           0                11111\n",
      "4      5        E2           0                11111\n",
      "..   ...       ...         ...                  ...\n",
      "147  148        D2           2                11111\n",
      "148  149        C3           4                11111\n",
      "149  150                    10                   10\n",
      "150  151        A1           0                11111\n",
      "151  152        S1           9                    9\n",
      "\n",
      "[152 rows x 4 columns]\n",
      "      id categoria  antiguedad antiguedad_categoria\n",
      "0      1        E1           3                11111\n",
      "1      2        E1           3                11111\n",
      "2      3        E1           5                11111\n",
      "3      4        E1           5                11111\n",
      "4      5        E1           5                11111\n",
      "..   ...       ...         ...                  ...\n",
      "136  137        S1           4                11111\n",
      "137  138        S1           0                11111\n",
      "138  139        S1          15                   15\n",
      "139  140                    16                16-18\n",
      "140  141        S3           1                11111\n",
      "\n",
      "[141 rows x 4 columns]\n",
      "      id categoria  antiguedad antiguedad_categoria\n",
      "0      1        E1           1                11111\n",
      "1      2        E1           1                11111\n",
      "2      3        E1           1                11111\n",
      "3      4        E1           1                11111\n",
      "4      5        E1           1                11111\n",
      "..   ...       ...         ...                  ...\n",
      "114  115        S1           6                11111\n",
      "115  116        S1           9                    9\n",
      "116  117                    15                   15\n",
      "117  118        L3           5                11111\n",
      "118  119        L3          14                   14\n",
      "\n",
      "[119 rows x 4 columns]\n",
      "      id categoria  antiguedad antiguedad_categoria\n",
      "0      1        E1          -1                11111\n",
      "1      2        E1          -1                11111\n",
      "2      3        E1          -1                11111\n",
      "3      4        E1          -1                11111\n",
      "4      5        E1          -1                11111\n",
      "..   ...       ...         ...                  ...\n",
      "114  115        S1           3                11111\n",
      "115  116        S1           6                11111\n",
      "116  117                    12                   12\n",
      "117  118        L3           2                11111\n",
      "118  119        L3          11                   11\n",
      "\n",
      "[119 rows x 4 columns]\n",
      "      id categoria  antiguedad antiguedad_categoria\n",
      "0      1        E1           1                11111\n",
      "1      2        E1           3                11111\n",
      "2      3        E1           1                11111\n",
      "3      4        E1           0                11111\n",
      "4      5        E1           0                11111\n",
      "..   ...       ...         ...                  ...\n",
      "143  144        A3           2                11111\n",
      "144  145        A3           3                11111\n",
      "145  146        S1           3                11111\n",
      "146  147        S1           8                    8\n",
      "147  148        S1           4                11111\n",
      "\n",
      "[148 rows x 4 columns]\n",
      "    id categoria  antiguedad antiguedad_categoria\n",
      "0    1        E1           0                11111\n",
      "1    2        D2           0                11111\n",
      "2    3        E1           0                11111\n",
      "3    4        D3           0                11111\n",
      "4    5        D3           0                11111\n",
      "..  ..       ...         ...                  ...\n",
      "73  74        C3           0                11111\n",
      "74  75        C2           0                11111\n",
      "75  76        D1           0                11111\n",
      "76  77        D2           0                11111\n",
      "77  78        D3           0                11111\n",
      "\n",
      "[78 rows x 4 columns]\n",
      "    id categoria  antiguedad antiguedad_categoria\n",
      "0    1        E1           0                11111\n",
      "1    2        E1           0                11111\n",
      "2    3        E1           0                11111\n",
      "3    4        E1           0                11111\n",
      "4    5        D3           0                11111\n",
      "..  ..       ...         ...                  ...\n",
      "85  86        A2           0                11111\n",
      "86  87        C1           0                11111\n",
      "87  88        D3           0                11111\n",
      "88  89        C3           0                11111\n",
      "89  90         S           0                11111\n",
      "\n",
      "[90 rows x 4 columns]\n",
      "      id categoria  antiguedad antiguedad_categoria\n",
      "0      1        E1          15                   15\n",
      "1      2        E1           0                11111\n",
      "2      3        E1           1                11111\n",
      "3      4        E1          28                  >24\n",
      "4      5        D2           0                11111\n",
      "..   ...       ...         ...                  ...\n",
      "166  167         S           2                11111\n",
      "167  168         S           0                11111\n",
      "168  169         S           7                    7\n",
      "169  170         S           0                11111\n",
      "170  171         S           0                11111\n",
      "\n",
      "[171 rows x 4 columns]\n",
      "      id categoria  antiguedad antiguedad_categoria\n",
      "0      1        E2           0                11111\n",
      "1      2        E1           0                11111\n",
      "2      3        D3           0                11111\n",
      "3      4        E1           0                11111\n",
      "4      5        C3           0                11111\n",
      "..   ...       ...         ...                  ...\n",
      "125  126        D3           1                11111\n",
      "126  127         S           0                11111\n",
      "127  128         S           0                11111\n",
      "128  129         S           0                11111\n",
      "129  130         S           0                11111\n",
      "\n",
      "[130 rows x 4 columns]\n",
      "    id categoria  antiguedad antiguedad_categoria\n",
      "0    1        E1           0                11111\n",
      "1    2        D1           0                11111\n",
      "2    3        E1           0                11111\n",
      "3    4        D2           0                11111\n",
      "4    5        E1           0                11111\n",
      "..  ..       ...         ...                  ...\n",
      "93  94         S           0                11111\n",
      "94  95         S           0                11111\n",
      "95  96         S           0                11111\n",
      "96  97         S           0                11111\n",
      "97  98         S           0                11111\n",
      "\n",
      "[98 rows x 4 columns]\n",
      "      id categoria  antiguedad antiguedad_categoria\n",
      "0      1        D3           0                11111\n",
      "1      2        E1           0                11111\n",
      "2      3        D3           0                11111\n",
      "3      4        C3           0                11111\n",
      "4      5        C3           0                11111\n",
      "..   ...       ...         ...                  ...\n",
      "112  113        D3           0                11111\n",
      "113  114        D3           0                11111\n",
      "114  115        D2           0                11111\n",
      "115  116        D3           0                11111\n",
      "116  117        E1           0                11111\n",
      "\n",
      "[117 rows x 4 columns]\n",
      "      id categoria  antiguedad antiguedad_categoria\n",
      "0      1        E1           0                11111\n",
      "1      2        E1           0                11111\n",
      "2      3        E1           0                11111\n",
      "3      4        D3           0                11111\n",
      "4      5        E1           0                11111\n",
      "..   ...       ...         ...                  ...\n",
      "143  144        A3           0                11111\n",
      "144  145         S           0                11111\n",
      "145  146         S           0                11111\n",
      "146  147         S           0                11111\n",
      "147  148         S           0                11111\n",
      "\n",
      "[148 rows x 4 columns]\n",
      "    id categoria  antiguedad antiguedad_categoria\n",
      "0    1        D2           0                11111\n",
      "1    2        D2           0                11111\n",
      "2    3        D3           0                11111\n",
      "3    4        D2           0                11111\n",
      "4    5        D3           0                11111\n",
      "..  ..       ...         ...                  ...\n",
      "56  57        B1           0                11111\n",
      "57  58         S           0                11111\n",
      "58  59        B3           0                11111\n",
      "59  60        A1           0                11111\n",
      "60  61        C3           0                11111\n",
      "\n",
      "[61 rows x 4 columns]\n",
      "    id categoria  antiguedad antiguedad_categoria\n",
      "0    1        D2           0                11111\n",
      "1    2        D2           0                11111\n",
      "2    3        D2           3                11111\n",
      "3    4        D3           2                11111\n",
      "4    5        D3           1                11111\n",
      "5    6        D2           3                11111\n",
      "6    7        D2           0                11111\n",
      "7    8        D2           3                11111\n",
      "8    9        D3           1                11111\n",
      "9   10        D2           1                11111\n",
      "10  11        D2           0                11111\n",
      "11  12        D3           3                11111\n",
      "12  13        D3           1                11111\n",
      "13  14        D3           5                11111\n",
      "14  15        E1           2                11111\n",
      "15  16        E1           5                11111\n",
      "16  17        D1           3                11111\n",
      "17  18        D2           1                11111\n",
      "18  19        D2           1                11111\n",
      "19  20        D2           3                11111\n",
      "20  21        C3           0                11111\n",
      "21  22        C3           1                11111\n",
      "22  23        C3           1                11111\n",
      "23  24        D1           0                11111\n",
      "24  25        D1           3                11111\n",
      "25  26        D2           0                11111\n",
      "26  27        D2           0                11111\n",
      "27  28        D2           2                11111\n",
      "28  29        D2           0                11111\n",
      "29  30        D3           2                11111\n",
      "30  31        D3           0                11111\n",
      "31  32        D3           3                11111\n",
      "32  33        D3           0                11111\n",
      "33  34        E1           5                11111\n",
      "34  35        C3           3                11111\n",
      "35  36        D3           1                11111\n",
      "36  37        B3           0                11111\n",
      "37  38        B2           3                11111\n",
      "38  39        D1           0                11111\n",
      "39  40        B1           0                11111\n",
      "40  41        C1           0                11111\n",
      "41  42        B2           3                11111\n",
      "42  43        D3           2                11111\n",
      "43  44        B1           3                11111\n",
      "44  45        A3           0                11111\n",
      "45  46        B2           9                    9\n",
      "46  47        D1           0                11111\n",
      "47  48        B1           0                11111\n",
      "48  49         S           8                    8\n",
      "49  50        D1          15                   15\n",
      "50  51        C3          10                   10\n",
      "51  52         S          18                16-18\n",
      "52  53        A3           1                11111\n",
      "53  54        B1           1                11111\n",
      "54  55         S           0                11111\n",
      "55  56        A1           0                11111\n",
      "56  57        B3           0                11111\n",
      "57  58        C3           1                11111\n"
     ]
    },
    {
     "name": "stderr",
     "output_type": "stream",
     "text": [
      "C:\\Users\\yoe11\\AppData\\Local\\Temp\\ipykernel_14084\\3667238692.py:32: SettingWithCopyWarning: \n",
      "A value is trying to be set on a copy of a slice from a DataFrame.\n",
      "Try using .loc[row_indexer,col_indexer] = value instead\n",
      "\n",
      "See the caveats in the documentation: https://pandas.pydata.org/pandas-docs/stable/user_guide/indexing.html#returning-a-view-versus-a-copy\n",
      "  df.loc[:, 'antiguedad_categoria'] = df['antiguedad'].apply(categorizar_antiguedad_2023)\n",
      "C:\\Users\\yoe11\\AppData\\Local\\Temp\\ipykernel_14084\\3667238692.py:32: SettingWithCopyWarning: \n",
      "A value is trying to be set on a copy of a slice from a DataFrame.\n",
      "Try using .loc[row_indexer,col_indexer] = value instead\n",
      "\n",
      "See the caveats in the documentation: https://pandas.pydata.org/pandas-docs/stable/user_guide/indexing.html#returning-a-view-versus-a-copy\n",
      "  df.loc[:, 'antiguedad_categoria'] = df['antiguedad'].apply(categorizar_antiguedad_2023)\n",
      "C:\\Users\\yoe11\\AppData\\Local\\Temp\\ipykernel_14084\\3667238692.py:32: SettingWithCopyWarning: \n",
      "A value is trying to be set on a copy of a slice from a DataFrame.\n",
      "Try using .loc[row_indexer,col_indexer] = value instead\n",
      "\n",
      "See the caveats in the documentation: https://pandas.pydata.org/pandas-docs/stable/user_guide/indexing.html#returning-a-view-versus-a-copy\n",
      "  df.loc[:, 'antiguedad_categoria'] = df['antiguedad'].apply(categorizar_antiguedad_2023)\n",
      "C:\\Users\\yoe11\\AppData\\Local\\Temp\\ipykernel_14084\\3667238692.py:32: SettingWithCopyWarning: \n",
      "A value is trying to be set on a copy of a slice from a DataFrame.\n",
      "Try using .loc[row_indexer,col_indexer] = value instead\n",
      "\n",
      "See the caveats in the documentation: https://pandas.pydata.org/pandas-docs/stable/user_guide/indexing.html#returning-a-view-versus-a-copy\n",
      "  df.loc[:, 'antiguedad_categoria'] = df['antiguedad'].apply(categorizar_antiguedad_2023)\n",
      "C:\\Users\\yoe11\\AppData\\Local\\Temp\\ipykernel_14084\\3667238692.py:32: SettingWithCopyWarning: \n",
      "A value is trying to be set on a copy of a slice from a DataFrame.\n",
      "Try using .loc[row_indexer,col_indexer] = value instead\n",
      "\n",
      "See the caveats in the documentation: https://pandas.pydata.org/pandas-docs/stable/user_guide/indexing.html#returning-a-view-versus-a-copy\n",
      "  df.loc[:, 'antiguedad_categoria'] = df['antiguedad'].apply(categorizar_antiguedad_2023)\n",
      "C:\\Users\\yoe11\\AppData\\Local\\Temp\\ipykernel_14084\\3667238692.py:32: SettingWithCopyWarning: \n",
      "A value is trying to be set on a copy of a slice from a DataFrame.\n",
      "Try using .loc[row_indexer,col_indexer] = value instead\n",
      "\n",
      "See the caveats in the documentation: https://pandas.pydata.org/pandas-docs/stable/user_guide/indexing.html#returning-a-view-versus-a-copy\n",
      "  df.loc[:, 'antiguedad_categoria'] = df['antiguedad'].apply(categorizar_antiguedad_2023)\n",
      "C:\\Users\\yoe11\\AppData\\Local\\Temp\\ipykernel_14084\\3667238692.py:32: SettingWithCopyWarning: \n",
      "A value is trying to be set on a copy of a slice from a DataFrame.\n",
      "Try using .loc[row_indexer,col_indexer] = value instead\n",
      "\n",
      "See the caveats in the documentation: https://pandas.pydata.org/pandas-docs/stable/user_guide/indexing.html#returning-a-view-versus-a-copy\n",
      "  df.loc[:, 'antiguedad_categoria'] = df['antiguedad'].apply(categorizar_antiguedad_2023)\n",
      "C:\\Users\\yoe11\\AppData\\Local\\Temp\\ipykernel_14084\\3667238692.py:32: SettingWithCopyWarning: \n",
      "A value is trying to be set on a copy of a slice from a DataFrame.\n",
      "Try using .loc[row_indexer,col_indexer] = value instead\n",
      "\n",
      "See the caveats in the documentation: https://pandas.pydata.org/pandas-docs/stable/user_guide/indexing.html#returning-a-view-versus-a-copy\n",
      "  df.loc[:, 'antiguedad_categoria'] = df['antiguedad'].apply(categorizar_antiguedad_2023)\n",
      "C:\\Users\\yoe11\\AppData\\Local\\Temp\\ipykernel_14084\\3667238692.py:32: SettingWithCopyWarning: \n",
      "A value is trying to be set on a copy of a slice from a DataFrame.\n",
      "Try using .loc[row_indexer,col_indexer] = value instead\n",
      "\n",
      "See the caveats in the documentation: https://pandas.pydata.org/pandas-docs/stable/user_guide/indexing.html#returning-a-view-versus-a-copy\n",
      "  df.loc[:, 'antiguedad_categoria'] = df['antiguedad'].apply(categorizar_antiguedad_2023)\n",
      "C:\\Users\\yoe11\\AppData\\Local\\Temp\\ipykernel_14084\\3667238692.py:32: SettingWithCopyWarning: \n",
      "A value is trying to be set on a copy of a slice from a DataFrame.\n",
      "Try using .loc[row_indexer,col_indexer] = value instead\n",
      "\n",
      "See the caveats in the documentation: https://pandas.pydata.org/pandas-docs/stable/user_guide/indexing.html#returning-a-view-versus-a-copy\n",
      "  df.loc[:, 'antiguedad_categoria'] = df['antiguedad'].apply(categorizar_antiguedad_2023)\n",
      "C:\\Users\\yoe11\\AppData\\Local\\Temp\\ipykernel_14084\\3667238692.py:32: SettingWithCopyWarning: \n",
      "A value is trying to be set on a copy of a slice from a DataFrame.\n",
      "Try using .loc[row_indexer,col_indexer] = value instead\n",
      "\n",
      "See the caveats in the documentation: https://pandas.pydata.org/pandas-docs/stable/user_guide/indexing.html#returning-a-view-versus-a-copy\n",
      "  df.loc[:, 'antiguedad_categoria'] = df['antiguedad'].apply(categorizar_antiguedad_2023)\n",
      "C:\\Users\\yoe11\\AppData\\Local\\Temp\\ipykernel_14084\\3667238692.py:32: SettingWithCopyWarning: \n",
      "A value is trying to be set on a copy of a slice from a DataFrame.\n",
      "Try using .loc[row_indexer,col_indexer] = value instead\n",
      "\n",
      "See the caveats in the documentation: https://pandas.pydata.org/pandas-docs/stable/user_guide/indexing.html#returning-a-view-versus-a-copy\n",
      "  df.loc[:, 'antiguedad_categoria'] = df['antiguedad'].apply(categorizar_antiguedad_2023)\n",
      "C:\\Users\\yoe11\\AppData\\Local\\Temp\\ipykernel_14084\\3667238692.py:32: SettingWithCopyWarning: \n",
      "A value is trying to be set on a copy of a slice from a DataFrame.\n",
      "Try using .loc[row_indexer,col_indexer] = value instead\n",
      "\n",
      "See the caveats in the documentation: https://pandas.pydata.org/pandas-docs/stable/user_guide/indexing.html#returning-a-view-versus-a-copy\n",
      "  df.loc[:, 'antiguedad_categoria'] = df['antiguedad'].apply(categorizar_antiguedad_2023)\n",
      "C:\\Users\\yoe11\\AppData\\Local\\Temp\\ipykernel_14084\\3667238692.py:32: SettingWithCopyWarning: \n",
      "A value is trying to be set on a copy of a slice from a DataFrame.\n",
      "Try using .loc[row_indexer,col_indexer] = value instead\n",
      "\n",
      "See the caveats in the documentation: https://pandas.pydata.org/pandas-docs/stable/user_guide/indexing.html#returning-a-view-versus-a-copy\n",
      "  df.loc[:, 'antiguedad_categoria'] = df['antiguedad'].apply(categorizar_antiguedad_2023)\n",
      "C:\\Users\\yoe11\\AppData\\Local\\Temp\\ipykernel_14084\\3667238692.py:32: SettingWithCopyWarning: \n",
      "A value is trying to be set on a copy of a slice from a DataFrame.\n",
      "Try using .loc[row_indexer,col_indexer] = value instead\n",
      "\n",
      "See the caveats in the documentation: https://pandas.pydata.org/pandas-docs/stable/user_guide/indexing.html#returning-a-view-versus-a-copy\n",
      "  df.loc[:, 'antiguedad_categoria'] = df['antiguedad'].apply(categorizar_antiguedad_2023)\n",
      "C:\\Users\\yoe11\\AppData\\Local\\Temp\\ipykernel_14084\\3667238692.py:32: SettingWithCopyWarning: \n",
      "A value is trying to be set on a copy of a slice from a DataFrame.\n",
      "Try using .loc[row_indexer,col_indexer] = value instead\n",
      "\n",
      "See the caveats in the documentation: https://pandas.pydata.org/pandas-docs/stable/user_guide/indexing.html#returning-a-view-versus-a-copy\n",
      "  df.loc[:, 'antiguedad_categoria'] = df['antiguedad'].apply(categorizar_antiguedad_2023)\n"
     ]
    }
   ],
   "source": [
    "def categorizar_antiguedad_2023(valor):\n",
    "    if valor == 7:\n",
    "        return '7'\n",
    "    elif valor == 8:\n",
    "        return '8'\n",
    "    elif valor == 9:\n",
    "        return '9'\n",
    "    elif valor == 10:\n",
    "        return '10'\n",
    "    elif valor == 11:\n",
    "        return '11'\n",
    "    elif valor == 12:\n",
    "        return '12'\n",
    "    elif valor == 13:\n",
    "        return '13'\n",
    "    elif valor == 14:\n",
    "        return '14'\n",
    "    elif valor == 15:\n",
    "        return '15'\n",
    "    #elif valor == 16:\n",
    "        #return '1111'\n",
    "    elif  16<= valor <= 18:\n",
    "        return '16-18'\n",
    "    elif 19 <= valor <= 24:\n",
    "        return '19-24'\n",
    "    elif valor >= 24:\n",
    "        return '>24'\n",
    "    else:\n",
    "        return '11111'\n",
    "\n",
    "for df in dataframes_list:\n",
    "    df.loc[:, 'antiguedad_categoria'] = df['antiguedad'].apply(categorizar_antiguedad_2023)\n",
    "    #df['antiguedad_categoria'] = df['antiguedad'].apply(categorizar_antiguedad_2023)\n",
    "    print(df)"
   ]
  },
  {
   "cell_type": "markdown",
   "metadata": {},
   "source": [
    "Conteo único de coincidencias con la antigüedad"
   ]
  },
  {
   "cell_type": "code",
   "execution_count": 5,
   "metadata": {},
   "outputs": [
    {
     "name": "stdout",
     "output_type": "stream",
     "text": [
      "antiguedad_categoria     7     8     9    10    11    12   13    14   15  \\\n",
      "segmento                                                                   \n",
      "A                      3.0   0.0   0.0   7.0   0.0   0.0  0.0   0.0  0.0   \n",
      "B                      1.0   4.0   3.0   4.0   3.0   1.0  2.0   1.0  1.0   \n",
      "C                      3.0   3.0   3.0   9.0   3.0   3.0  3.0   4.0  1.0   \n",
      "D                      8.0   7.0   4.0  13.0   4.0   7.0  5.0   5.0  9.0   \n",
      "E                     17.0  14.0  13.0  26.0  16.0  14.0  6.0  14.0  9.0   \n",
      "L                      0.0   0.0   0.0   0.0   1.0   NaN  0.0   1.0  NaN   \n",
      "S                      5.0   2.0   5.0   3.0   0.0   1.0  1.0   0.0  1.0   \n",
      "\n",
      "antiguedad_categoria  16-18  19-24  >24  \n",
      "segmento                                 \n",
      "A                       0.0    0.0  0.0  \n",
      "B                       1.0    0.0  1.0  \n",
      "C                       1.0    2.0  1.0  \n",
      "D                       4.0    3.0  4.0  \n",
      "E                       1.0    3.0  1.0  \n",
      "L                       NaN    NaN  NaN  \n",
      "S                       2.0    2.0  1.0  \n"
     ]
    },
    {
     "name": "stderr",
     "output_type": "stream",
     "text": [
      "C:\\Users\\yoe11\\AppData\\Local\\Temp\\ipykernel_14084\\2385401544.py:9: SettingWithCopyWarning: \n",
      "A value is trying to be set on a copy of a slice from a DataFrame.\n",
      "Try using .loc[row_indexer,col_indexer] = value instead\n",
      "\n",
      "See the caveats in the documentation: https://pandas.pydata.org/pandas-docs/stable/user_guide/indexing.html#returning-a-view-versus-a-copy\n",
      "  df.loc[:, 'segmento'] = df['categoria'].str[0]\n",
      "C:\\Users\\yoe11\\AppData\\Local\\Temp\\ipykernel_14084\\2385401544.py:9: SettingWithCopyWarning: \n",
      "A value is trying to be set on a copy of a slice from a DataFrame.\n",
      "Try using .loc[row_indexer,col_indexer] = value instead\n",
      "\n",
      "See the caveats in the documentation: https://pandas.pydata.org/pandas-docs/stable/user_guide/indexing.html#returning-a-view-versus-a-copy\n",
      "  df.loc[:, 'segmento'] = df['categoria'].str[0]\n",
      "C:\\Users\\yoe11\\AppData\\Local\\Temp\\ipykernel_14084\\2385401544.py:9: SettingWithCopyWarning: \n",
      "A value is trying to be set on a copy of a slice from a DataFrame.\n",
      "Try using .loc[row_indexer,col_indexer] = value instead\n",
      "\n",
      "See the caveats in the documentation: https://pandas.pydata.org/pandas-docs/stable/user_guide/indexing.html#returning-a-view-versus-a-copy\n",
      "  df.loc[:, 'segmento'] = df['categoria'].str[0]\n",
      "C:\\Users\\yoe11\\AppData\\Local\\Temp\\ipykernel_14084\\2385401544.py:9: SettingWithCopyWarning: \n",
      "A value is trying to be set on a copy of a slice from a DataFrame.\n",
      "Try using .loc[row_indexer,col_indexer] = value instead\n",
      "\n",
      "See the caveats in the documentation: https://pandas.pydata.org/pandas-docs/stable/user_guide/indexing.html#returning-a-view-versus-a-copy\n",
      "  df.loc[:, 'segmento'] = df['categoria'].str[0]\n",
      "C:\\Users\\yoe11\\AppData\\Local\\Temp\\ipykernel_14084\\2385401544.py:9: SettingWithCopyWarning: \n",
      "A value is trying to be set on a copy of a slice from a DataFrame.\n",
      "Try using .loc[row_indexer,col_indexer] = value instead\n",
      "\n",
      "See the caveats in the documentation: https://pandas.pydata.org/pandas-docs/stable/user_guide/indexing.html#returning-a-view-versus-a-copy\n",
      "  df.loc[:, 'segmento'] = df['categoria'].str[0]\n",
      "C:\\Users\\yoe11\\AppData\\Local\\Temp\\ipykernel_14084\\2385401544.py:9: SettingWithCopyWarning: \n",
      "A value is trying to be set on a copy of a slice from a DataFrame.\n",
      "Try using .loc[row_indexer,col_indexer] = value instead\n",
      "\n",
      "See the caveats in the documentation: https://pandas.pydata.org/pandas-docs/stable/user_guide/indexing.html#returning-a-view-versus-a-copy\n",
      "  df.loc[:, 'segmento'] = df['categoria'].str[0]\n",
      "C:\\Users\\yoe11\\AppData\\Local\\Temp\\ipykernel_14084\\2385401544.py:9: SettingWithCopyWarning: \n",
      "A value is trying to be set on a copy of a slice from a DataFrame.\n",
      "Try using .loc[row_indexer,col_indexer] = value instead\n",
      "\n",
      "See the caveats in the documentation: https://pandas.pydata.org/pandas-docs/stable/user_guide/indexing.html#returning-a-view-versus-a-copy\n",
      "  df.loc[:, 'segmento'] = df['categoria'].str[0]\n",
      "C:\\Users\\yoe11\\AppData\\Local\\Temp\\ipykernel_14084\\2385401544.py:9: SettingWithCopyWarning: \n",
      "A value is trying to be set on a copy of a slice from a DataFrame.\n",
      "Try using .loc[row_indexer,col_indexer] = value instead\n",
      "\n",
      "See the caveats in the documentation: https://pandas.pydata.org/pandas-docs/stable/user_guide/indexing.html#returning-a-view-versus-a-copy\n",
      "  df.loc[:, 'segmento'] = df['categoria'].str[0]\n",
      "C:\\Users\\yoe11\\AppData\\Local\\Temp\\ipykernel_14084\\2385401544.py:9: SettingWithCopyWarning: \n",
      "A value is trying to be set on a copy of a slice from a DataFrame.\n",
      "Try using .loc[row_indexer,col_indexer] = value instead\n",
      "\n",
      "See the caveats in the documentation: https://pandas.pydata.org/pandas-docs/stable/user_guide/indexing.html#returning-a-view-versus-a-copy\n",
      "  df.loc[:, 'segmento'] = df['categoria'].str[0]\n",
      "C:\\Users\\yoe11\\AppData\\Local\\Temp\\ipykernel_14084\\2385401544.py:9: SettingWithCopyWarning: \n",
      "A value is trying to be set on a copy of a slice from a DataFrame.\n",
      "Try using .loc[row_indexer,col_indexer] = value instead\n",
      "\n",
      "See the caveats in the documentation: https://pandas.pydata.org/pandas-docs/stable/user_guide/indexing.html#returning-a-view-versus-a-copy\n",
      "  df.loc[:, 'segmento'] = df['categoria'].str[0]\n",
      "C:\\Users\\yoe11\\AppData\\Local\\Temp\\ipykernel_14084\\2385401544.py:9: SettingWithCopyWarning: \n",
      "A value is trying to be set on a copy of a slice from a DataFrame.\n",
      "Try using .loc[row_indexer,col_indexer] = value instead\n",
      "\n",
      "See the caveats in the documentation: https://pandas.pydata.org/pandas-docs/stable/user_guide/indexing.html#returning-a-view-versus-a-copy\n",
      "  df.loc[:, 'segmento'] = df['categoria'].str[0]\n",
      "C:\\Users\\yoe11\\AppData\\Local\\Temp\\ipykernel_14084\\2385401544.py:9: SettingWithCopyWarning: \n",
      "A value is trying to be set on a copy of a slice from a DataFrame.\n",
      "Try using .loc[row_indexer,col_indexer] = value instead\n",
      "\n",
      "See the caveats in the documentation: https://pandas.pydata.org/pandas-docs/stable/user_guide/indexing.html#returning-a-view-versus-a-copy\n",
      "  df.loc[:, 'segmento'] = df['categoria'].str[0]\n",
      "C:\\Users\\yoe11\\AppData\\Local\\Temp\\ipykernel_14084\\2385401544.py:9: SettingWithCopyWarning: \n",
      "A value is trying to be set on a copy of a slice from a DataFrame.\n",
      "Try using .loc[row_indexer,col_indexer] = value instead\n",
      "\n",
      "See the caveats in the documentation: https://pandas.pydata.org/pandas-docs/stable/user_guide/indexing.html#returning-a-view-versus-a-copy\n",
      "  df.loc[:, 'segmento'] = df['categoria'].str[0]\n",
      "C:\\Users\\yoe11\\AppData\\Local\\Temp\\ipykernel_14084\\2385401544.py:9: SettingWithCopyWarning: \n",
      "A value is trying to be set on a copy of a slice from a DataFrame.\n",
      "Try using .loc[row_indexer,col_indexer] = value instead\n",
      "\n",
      "See the caveats in the documentation: https://pandas.pydata.org/pandas-docs/stable/user_guide/indexing.html#returning-a-view-versus-a-copy\n",
      "  df.loc[:, 'segmento'] = df['categoria'].str[0]\n",
      "C:\\Users\\yoe11\\AppData\\Local\\Temp\\ipykernel_14084\\2385401544.py:9: SettingWithCopyWarning: \n",
      "A value is trying to be set on a copy of a slice from a DataFrame.\n",
      "Try using .loc[row_indexer,col_indexer] = value instead\n",
      "\n",
      "See the caveats in the documentation: https://pandas.pydata.org/pandas-docs/stable/user_guide/indexing.html#returning-a-view-versus-a-copy\n",
      "  df.loc[:, 'segmento'] = df['categoria'].str[0]\n",
      "C:\\Users\\yoe11\\AppData\\Local\\Temp\\ipykernel_14084\\2385401544.py:9: SettingWithCopyWarning: \n",
      "A value is trying to be set on a copy of a slice from a DataFrame.\n",
      "Try using .loc[row_indexer,col_indexer] = value instead\n",
      "\n",
      "See the caveats in the documentation: https://pandas.pydata.org/pandas-docs/stable/user_guide/indexing.html#returning-a-view-versus-a-copy\n",
      "  df.loc[:, 'segmento'] = df['categoria'].str[0]\n"
     ]
    }
   ],
   "source": [
    "# Orden personalizado\n",
    "orden_personalizado = ['7', '8', '9', '10', '11', '12', '13','14','15','16-18','19-24','>24']\n",
    "\n",
    "tabla_suma = None\n",
    "# Iterar sobre cada DataFrame en la lista\n",
    "for df in dataframes_list:\n",
    "    # Crear una nueva columna con la primera letra de la categoría\n",
    "    #df['segmento'] = df['categoria'].str[0]\n",
    "    df.loc[:, 'segmento'] = df['categoria'].str[0]\n",
    "    #df.drop(columns=['categoria'], inplace=True)        \n",
    "    # Agrupar y contar los datos\n",
    "    tabla_actual = df.groupby(['segmento', 'antiguedad_categoria'],observed=False).size().unstack(fill_value=0)\n",
    "    \n",
    "    # Sumar la tabla actual al acumulador (tabla_suma)\n",
    "    if tabla_suma is None:\n",
    "        tabla_suma = tabla_actual\n",
    "    else:\n",
    "        tabla_suma = tabla_suma.add(tabla_actual, fill_value=0)\n",
    "\n",
    "# Reordenar las columnas según el orden personalizado\n",
    "tabla_suma = tabla_suma[orden_personalizado]\n",
    "\n",
    "# Imprimir la tabla acumulativa\n",
    "print(tabla_suma)"
   ]
  },
  {
   "cell_type": "code",
   "execution_count": 6,
   "metadata": {},
   "outputs": [
    {
     "name": "stderr",
     "output_type": "stream",
     "text": [
      "C:\\Users\\yoe11\\AppData\\Local\\Temp\\ipykernel_14084\\2966268559.py:14: SettingWithCopyWarning: \n",
      "A value is trying to be set on a copy of a slice from a DataFrame.\n",
      "Try using .loc[row_indexer,col_indexer] = value instead\n",
      "\n",
      "See the caveats in the documentation: https://pandas.pydata.org/pandas-docs/stable/user_guide/indexing.html#returning-a-view-versus-a-copy\n",
      "  df['segmento'] = df['categoria'].str[0]\n",
      "C:\\Users\\yoe11\\AppData\\Local\\Temp\\ipykernel_14084\\2966268559.py:14: SettingWithCopyWarning: \n",
      "A value is trying to be set on a copy of a slice from a DataFrame.\n",
      "Try using .loc[row_indexer,col_indexer] = value instead\n",
      "\n",
      "See the caveats in the documentation: https://pandas.pydata.org/pandas-docs/stable/user_guide/indexing.html#returning-a-view-versus-a-copy\n",
      "  df['segmento'] = df['categoria'].str[0]\n",
      "C:\\Users\\yoe11\\AppData\\Local\\Temp\\ipykernel_14084\\2966268559.py:14: SettingWithCopyWarning: \n",
      "A value is trying to be set on a copy of a slice from a DataFrame.\n",
      "Try using .loc[row_indexer,col_indexer] = value instead\n",
      "\n",
      "See the caveats in the documentation: https://pandas.pydata.org/pandas-docs/stable/user_guide/indexing.html#returning-a-view-versus-a-copy\n",
      "  df['segmento'] = df['categoria'].str[0]\n",
      "C:\\Users\\yoe11\\AppData\\Local\\Temp\\ipykernel_14084\\2966268559.py:14: SettingWithCopyWarning: \n",
      "A value is trying to be set on a copy of a slice from a DataFrame.\n",
      "Try using .loc[row_indexer,col_indexer] = value instead\n",
      "\n",
      "See the caveats in the documentation: https://pandas.pydata.org/pandas-docs/stable/user_guide/indexing.html#returning-a-view-versus-a-copy\n",
      "  df['segmento'] = df['categoria'].str[0]\n",
      "C:\\Users\\yoe11\\AppData\\Local\\Temp\\ipykernel_14084\\2966268559.py:14: SettingWithCopyWarning: \n",
      "A value is trying to be set on a copy of a slice from a DataFrame.\n",
      "Try using .loc[row_indexer,col_indexer] = value instead\n",
      "\n",
      "See the caveats in the documentation: https://pandas.pydata.org/pandas-docs/stable/user_guide/indexing.html#returning-a-view-versus-a-copy\n",
      "  df['segmento'] = df['categoria'].str[0]\n",
      "C:\\Users\\yoe11\\AppData\\Local\\Temp\\ipykernel_14084\\2966268559.py:16: SettingWithCopyWarning: \n",
      "A value is trying to be set on a copy of a slice from a DataFrame.\n",
      "Try using .loc[row_indexer,col_indexer] = value instead\n",
      "\n",
      "See the caveats in the documentation: https://pandas.pydata.org/pandas-docs/stable/user_guide/indexing.html#returning-a-view-versus-a-copy\n",
      "  df['segmento'] = pd.Categorical(df['segmento'], categories=orden_segmentos, ordered=True)\n",
      "C:\\Users\\yoe11\\AppData\\Local\\Temp\\ipykernel_14084\\2966268559.py:14: SettingWithCopyWarning: \n",
      "A value is trying to be set on a copy of a slice from a DataFrame.\n",
      "Try using .loc[row_indexer,col_indexer] = value instead\n",
      "\n",
      "See the caveats in the documentation: https://pandas.pydata.org/pandas-docs/stable/user_guide/indexing.html#returning-a-view-versus-a-copy\n",
      "  df['segmento'] = df['categoria'].str[0]\n",
      "C:\\Users\\yoe11\\AppData\\Local\\Temp\\ipykernel_14084\\2966268559.py:16: SettingWithCopyWarning: \n",
      "A value is trying to be set on a copy of a slice from a DataFrame.\n",
      "Try using .loc[row_indexer,col_indexer] = value instead\n",
      "\n",
      "See the caveats in the documentation: https://pandas.pydata.org/pandas-docs/stable/user_guide/indexing.html#returning-a-view-versus-a-copy\n",
      "  df['segmento'] = pd.Categorical(df['segmento'], categories=orden_segmentos, ordered=True)\n",
      "C:\\Users\\yoe11\\AppData\\Local\\Temp\\ipykernel_14084\\2966268559.py:14: SettingWithCopyWarning: \n",
      "A value is trying to be set on a copy of a slice from a DataFrame.\n",
      "Try using .loc[row_indexer,col_indexer] = value instead\n",
      "\n",
      "See the caveats in the documentation: https://pandas.pydata.org/pandas-docs/stable/user_guide/indexing.html#returning-a-view-versus-a-copy\n",
      "  df['segmento'] = df['categoria'].str[0]\n",
      "C:\\Users\\yoe11\\AppData\\Local\\Temp\\ipykernel_14084\\2966268559.py:14: SettingWithCopyWarning: \n",
      "A value is trying to be set on a copy of a slice from a DataFrame.\n",
      "Try using .loc[row_indexer,col_indexer] = value instead\n",
      "\n",
      "See the caveats in the documentation: https://pandas.pydata.org/pandas-docs/stable/user_guide/indexing.html#returning-a-view-versus-a-copy\n",
      "  df['segmento'] = df['categoria'].str[0]\n",
      "C:\\Users\\yoe11\\AppData\\Local\\Temp\\ipykernel_14084\\2966268559.py:14: SettingWithCopyWarning: \n",
      "A value is trying to be set on a copy of a slice from a DataFrame.\n",
      "Try using .loc[row_indexer,col_indexer] = value instead\n",
      "\n",
      "See the caveats in the documentation: https://pandas.pydata.org/pandas-docs/stable/user_guide/indexing.html#returning-a-view-versus-a-copy\n",
      "  df['segmento'] = df['categoria'].str[0]\n",
      "C:\\Users\\yoe11\\AppData\\Local\\Temp\\ipykernel_14084\\2966268559.py:14: SettingWithCopyWarning: \n",
      "A value is trying to be set on a copy of a slice from a DataFrame.\n",
      "Try using .loc[row_indexer,col_indexer] = value instead\n",
      "\n",
      "See the caveats in the documentation: https://pandas.pydata.org/pandas-docs/stable/user_guide/indexing.html#returning-a-view-versus-a-copy\n",
      "  df['segmento'] = df['categoria'].str[0]\n",
      "C:\\Users\\yoe11\\AppData\\Local\\Temp\\ipykernel_14084\\2966268559.py:14: SettingWithCopyWarning: \n",
      "A value is trying to be set on a copy of a slice from a DataFrame.\n",
      "Try using .loc[row_indexer,col_indexer] = value instead\n",
      "\n",
      "See the caveats in the documentation: https://pandas.pydata.org/pandas-docs/stable/user_guide/indexing.html#returning-a-view-versus-a-copy\n",
      "  df['segmento'] = df['categoria'].str[0]\n",
      "C:\\Users\\yoe11\\AppData\\Local\\Temp\\ipykernel_14084\\2966268559.py:14: SettingWithCopyWarning: \n",
      "A value is trying to be set on a copy of a slice from a DataFrame.\n",
      "Try using .loc[row_indexer,col_indexer] = value instead\n",
      "\n",
      "See the caveats in the documentation: https://pandas.pydata.org/pandas-docs/stable/user_guide/indexing.html#returning-a-view-versus-a-copy\n",
      "  df['segmento'] = df['categoria'].str[0]\n",
      "C:\\Users\\yoe11\\AppData\\Local\\Temp\\ipykernel_14084\\2966268559.py:14: SettingWithCopyWarning: \n",
      "A value is trying to be set on a copy of a slice from a DataFrame.\n",
      "Try using .loc[row_indexer,col_indexer] = value instead\n",
      "\n",
      "See the caveats in the documentation: https://pandas.pydata.org/pandas-docs/stable/user_guide/indexing.html#returning-a-view-versus-a-copy\n",
      "  df['segmento'] = df['categoria'].str[0]\n",
      "C:\\Users\\yoe11\\AppData\\Local\\Temp\\ipykernel_14084\\2966268559.py:14: SettingWithCopyWarning: \n",
      "A value is trying to be set on a copy of a slice from a DataFrame.\n",
      "Try using .loc[row_indexer,col_indexer] = value instead\n",
      "\n",
      "See the caveats in the documentation: https://pandas.pydata.org/pandas-docs/stable/user_guide/indexing.html#returning-a-view-versus-a-copy\n",
      "  df['segmento'] = df['categoria'].str[0]\n",
      "C:\\Users\\yoe11\\AppData\\Local\\Temp\\ipykernel_14084\\2966268559.py:14: SettingWithCopyWarning: \n",
      "A value is trying to be set on a copy of a slice from a DataFrame.\n",
      "Try using .loc[row_indexer,col_indexer] = value instead\n",
      "\n",
      "See the caveats in the documentation: https://pandas.pydata.org/pandas-docs/stable/user_guide/indexing.html#returning-a-view-versus-a-copy\n",
      "  df['segmento'] = df['categoria'].str[0]\n",
      "C:\\Users\\yoe11\\AppData\\Local\\Temp\\ipykernel_14084\\2966268559.py:14: SettingWithCopyWarning: \n",
      "A value is trying to be set on a copy of a slice from a DataFrame.\n",
      "Try using .loc[row_indexer,col_indexer] = value instead\n",
      "\n",
      "See the caveats in the documentation: https://pandas.pydata.org/pandas-docs/stable/user_guide/indexing.html#returning-a-view-versus-a-copy\n",
      "  df['segmento'] = df['categoria'].str[0]\n"
     ]
    },
    {
     "name": "stdout",
     "output_type": "stream",
     "text": [
      "Tabla general de frecuencia:\n",
      "antiguedad_categoria     7     8     9    10    11    12   13    14   15  \\\n",
      "segmento                                                                   \n",
      "E                     17.0  14.0  13.0  26.0  16.0  14.0  6.0  14.0  9.0   \n",
      "D                      8.0   7.0   4.0  13.0   4.0   7.0  5.0   5.0  9.0   \n",
      "C                      3.0   3.0   3.0   9.0   3.0   3.0  3.0   4.0  1.0   \n",
      "B                      1.0   4.0   3.0   4.0   3.0   1.0  2.0   1.0  1.0   \n",
      "A                      3.0   0.0   0.0   7.0   0.0   0.0  0.0   0.0  0.0   \n",
      "S                      5.0   2.0   5.0   3.0   0.0   1.0  1.0   0.0  1.0   \n",
      "L                      0.0   0.0   0.0   0.0   0.0   0.0  0.0   0.0  0.0   \n",
      "\n",
      "antiguedad_categoria  16-18  19-24  >24  \n",
      "segmento                                 \n",
      "E                       1.0    3.0  1.0  \n",
      "D                       4.0    3.0  4.0  \n",
      "C                       1.0    2.0  1.0  \n",
      "B                       1.0    0.0  1.0  \n",
      "A                       0.0    0.0  0.0  \n",
      "S                       2.0    2.0  1.0  \n",
      "L                       0.0    0.0  0.0  \n"
     ]
    },
    {
     "data": {
      "application/vnd.plotly.v1+json": {
       "config": {
        "plotlyServerURL": "https://plot.ly"
       },
       "data": [
        {
         "marker": {
          "color": "#2962ff"
         },
         "name": "7",
         "type": "bar",
         "x": [
          "E",
          "D",
          "C",
          "B",
          "A",
          "S",
          "L"
         ],
         "y": [
          17,
          8,
          3,
          1,
          3,
          5,
          0
         ]
        },
        {
         "marker": {
          "color": "#9500ff"
         },
         "name": "8",
         "type": "bar",
         "x": [
          "E",
          "D",
          "C",
          "B",
          "A",
          "S",
          "L"
         ],
         "y": [
          14,
          7,
          3,
          4,
          0,
          2,
          0
         ]
        },
        {
         "marker": {
          "color": "#ff0059"
         },
         "name": "9",
         "type": "bar",
         "x": [
          "E",
          "D",
          "C",
          "B",
          "A",
          "S",
          "L"
         ],
         "y": [
          13,
          4,
          3,
          3,
          0,
          5,
          0
         ]
        },
        {
         "marker": {
          "color": "#ff8c00"
         },
         "name": "10",
         "type": "bar",
         "x": [
          "E",
          "D",
          "C",
          "B",
          "A",
          "S",
          "L"
         ],
         "y": [
          26,
          13,
          9,
          4,
          7,
          3,
          0
         ]
        },
        {
         "marker": {
          "color": "#b4e600"
         },
         "name": "11",
         "type": "bar",
         "x": [
          "E",
          "D",
          "C",
          "B",
          "A",
          "S",
          "L"
         ],
         "y": [
          16,
          4,
          3,
          3,
          0,
          0,
          0
         ]
        },
        {
         "marker": {
          "color": "#2EC2A2"
         },
         "name": "12",
         "type": "bar",
         "x": [
          "E",
          "D",
          "C",
          "B",
          "A",
          "S",
          "L"
         ],
         "y": [
          14,
          7,
          3,
          1,
          0,
          1,
          0
         ]
        },
        {
         "marker": {
          "color": "#E50CB6"
         },
         "name": "13",
         "type": "bar",
         "x": [
          "E",
          "D",
          "C",
          "B",
          "A",
          "S",
          "L"
         ],
         "y": [
          6,
          5,
          3,
          2,
          0,
          1,
          0
         ]
        },
        {
         "marker": {
          "color": "#4225CF"
         },
         "name": "14",
         "type": "bar",
         "x": [
          "E",
          "D",
          "C",
          "B",
          "A",
          "S",
          "L"
         ],
         "y": [
          14,
          5,
          4,
          1,
          0,
          0,
          0
         ]
        },
        {
         "marker": {
          "color": "#2CBA4D"
         },
         "name": "15",
         "type": "bar",
         "x": [
          "E",
          "D",
          "C",
          "B",
          "A",
          "S",
          "L"
         ],
         "y": [
          9,
          9,
          1,
          1,
          0,
          1,
          0
         ]
        },
        {
         "marker": {
          "color": "#2962ff"
         },
         "name": "16-18",
         "type": "bar",
         "x": [
          "E",
          "D",
          "C",
          "B",
          "A",
          "S",
          "L"
         ],
         "y": [
          1,
          4,
          1,
          1,
          0,
          2,
          0
         ]
        },
        {
         "marker": {
          "color": "#9500ff"
         },
         "name": "19-24",
         "type": "bar",
         "x": [
          "E",
          "D",
          "C",
          "B",
          "A",
          "S",
          "L"
         ],
         "y": [
          3,
          3,
          2,
          0,
          0,
          2,
          0
         ]
        },
        {
         "marker": {
          "color": "#ff0059"
         },
         "name": ">24",
         "type": "bar",
         "x": [
          "E",
          "D",
          "C",
          "B",
          "A",
          "S",
          "L"
         ],
         "y": [
          1,
          4,
          1,
          1,
          0,
          1,
          0
         ]
        }
       ],
       "layout": {
        "barmode": "group",
        "legend": {
         "orientation": "h",
         "title": {
          "text": "Antigüedad"
         },
         "x": 1,
         "xanchor": "right",
         "y": 1.02,
         "yanchor": "bottom"
        },
        "margin": {
         "b": 10,
         "l": 10,
         "r": 10,
         "t": 10
        },
        "plot_bgcolor": "rgba(0,0,0,0)",
        "template": {
         "data": {
          "bar": [
           {
            "error_x": {
             "color": "#2a3f5f"
            },
            "error_y": {
             "color": "#2a3f5f"
            },
            "marker": {
             "line": {
              "color": "#E5ECF6",
              "width": 0.5
             },
             "pattern": {
              "fillmode": "overlay",
              "size": 10,
              "solidity": 0.2
             }
            },
            "type": "bar"
           }
          ],
          "barpolar": [
           {
            "marker": {
             "line": {
              "color": "#E5ECF6",
              "width": 0.5
             },
             "pattern": {
              "fillmode": "overlay",
              "size": 10,
              "solidity": 0.2
             }
            },
            "type": "barpolar"
           }
          ],
          "carpet": [
           {
            "aaxis": {
             "endlinecolor": "#2a3f5f",
             "gridcolor": "white",
             "linecolor": "white",
             "minorgridcolor": "white",
             "startlinecolor": "#2a3f5f"
            },
            "baxis": {
             "endlinecolor": "#2a3f5f",
             "gridcolor": "white",
             "linecolor": "white",
             "minorgridcolor": "white",
             "startlinecolor": "#2a3f5f"
            },
            "type": "carpet"
           }
          ],
          "choropleth": [
           {
            "colorbar": {
             "outlinewidth": 0,
             "ticks": ""
            },
            "type": "choropleth"
           }
          ],
          "contour": [
           {
            "colorbar": {
             "outlinewidth": 0,
             "ticks": ""
            },
            "colorscale": [
             [
              0,
              "#0d0887"
             ],
             [
              0.1111111111111111,
              "#46039f"
             ],
             [
              0.2222222222222222,
              "#7201a8"
             ],
             [
              0.3333333333333333,
              "#9c179e"
             ],
             [
              0.4444444444444444,
              "#bd3786"
             ],
             [
              0.5555555555555556,
              "#d8576b"
             ],
             [
              0.6666666666666666,
              "#ed7953"
             ],
             [
              0.7777777777777778,
              "#fb9f3a"
             ],
             [
              0.8888888888888888,
              "#fdca26"
             ],
             [
              1,
              "#f0f921"
             ]
            ],
            "type": "contour"
           }
          ],
          "contourcarpet": [
           {
            "colorbar": {
             "outlinewidth": 0,
             "ticks": ""
            },
            "type": "contourcarpet"
           }
          ],
          "heatmap": [
           {
            "colorbar": {
             "outlinewidth": 0,
             "ticks": ""
            },
            "colorscale": [
             [
              0,
              "#0d0887"
             ],
             [
              0.1111111111111111,
              "#46039f"
             ],
             [
              0.2222222222222222,
              "#7201a8"
             ],
             [
              0.3333333333333333,
              "#9c179e"
             ],
             [
              0.4444444444444444,
              "#bd3786"
             ],
             [
              0.5555555555555556,
              "#d8576b"
             ],
             [
              0.6666666666666666,
              "#ed7953"
             ],
             [
              0.7777777777777778,
              "#fb9f3a"
             ],
             [
              0.8888888888888888,
              "#fdca26"
             ],
             [
              1,
              "#f0f921"
             ]
            ],
            "type": "heatmap"
           }
          ],
          "heatmapgl": [
           {
            "colorbar": {
             "outlinewidth": 0,
             "ticks": ""
            },
            "colorscale": [
             [
              0,
              "#0d0887"
             ],
             [
              0.1111111111111111,
              "#46039f"
             ],
             [
              0.2222222222222222,
              "#7201a8"
             ],
             [
              0.3333333333333333,
              "#9c179e"
             ],
             [
              0.4444444444444444,
              "#bd3786"
             ],
             [
              0.5555555555555556,
              "#d8576b"
             ],
             [
              0.6666666666666666,
              "#ed7953"
             ],
             [
              0.7777777777777778,
              "#fb9f3a"
             ],
             [
              0.8888888888888888,
              "#fdca26"
             ],
             [
              1,
              "#f0f921"
             ]
            ],
            "type": "heatmapgl"
           }
          ],
          "histogram": [
           {
            "marker": {
             "pattern": {
              "fillmode": "overlay",
              "size": 10,
              "solidity": 0.2
             }
            },
            "type": "histogram"
           }
          ],
          "histogram2d": [
           {
            "colorbar": {
             "outlinewidth": 0,
             "ticks": ""
            },
            "colorscale": [
             [
              0,
              "#0d0887"
             ],
             [
              0.1111111111111111,
              "#46039f"
             ],
             [
              0.2222222222222222,
              "#7201a8"
             ],
             [
              0.3333333333333333,
              "#9c179e"
             ],
             [
              0.4444444444444444,
              "#bd3786"
             ],
             [
              0.5555555555555556,
              "#d8576b"
             ],
             [
              0.6666666666666666,
              "#ed7953"
             ],
             [
              0.7777777777777778,
              "#fb9f3a"
             ],
             [
              0.8888888888888888,
              "#fdca26"
             ],
             [
              1,
              "#f0f921"
             ]
            ],
            "type": "histogram2d"
           }
          ],
          "histogram2dcontour": [
           {
            "colorbar": {
             "outlinewidth": 0,
             "ticks": ""
            },
            "colorscale": [
             [
              0,
              "#0d0887"
             ],
             [
              0.1111111111111111,
              "#46039f"
             ],
             [
              0.2222222222222222,
              "#7201a8"
             ],
             [
              0.3333333333333333,
              "#9c179e"
             ],
             [
              0.4444444444444444,
              "#bd3786"
             ],
             [
              0.5555555555555556,
              "#d8576b"
             ],
             [
              0.6666666666666666,
              "#ed7953"
             ],
             [
              0.7777777777777778,
              "#fb9f3a"
             ],
             [
              0.8888888888888888,
              "#fdca26"
             ],
             [
              1,
              "#f0f921"
             ]
            ],
            "type": "histogram2dcontour"
           }
          ],
          "mesh3d": [
           {
            "colorbar": {
             "outlinewidth": 0,
             "ticks": ""
            },
            "type": "mesh3d"
           }
          ],
          "parcoords": [
           {
            "line": {
             "colorbar": {
              "outlinewidth": 0,
              "ticks": ""
             }
            },
            "type": "parcoords"
           }
          ],
          "pie": [
           {
            "automargin": true,
            "type": "pie"
           }
          ],
          "scatter": [
           {
            "fillpattern": {
             "fillmode": "overlay",
             "size": 10,
             "solidity": 0.2
            },
            "type": "scatter"
           }
          ],
          "scatter3d": [
           {
            "line": {
             "colorbar": {
              "outlinewidth": 0,
              "ticks": ""
             }
            },
            "marker": {
             "colorbar": {
              "outlinewidth": 0,
              "ticks": ""
             }
            },
            "type": "scatter3d"
           }
          ],
          "scattercarpet": [
           {
            "marker": {
             "colorbar": {
              "outlinewidth": 0,
              "ticks": ""
             }
            },
            "type": "scattercarpet"
           }
          ],
          "scattergeo": [
           {
            "marker": {
             "colorbar": {
              "outlinewidth": 0,
              "ticks": ""
             }
            },
            "type": "scattergeo"
           }
          ],
          "scattergl": [
           {
            "marker": {
             "colorbar": {
              "outlinewidth": 0,
              "ticks": ""
             }
            },
            "type": "scattergl"
           }
          ],
          "scattermapbox": [
           {
            "marker": {
             "colorbar": {
              "outlinewidth": 0,
              "ticks": ""
             }
            },
            "type": "scattermapbox"
           }
          ],
          "scatterpolar": [
           {
            "marker": {
             "colorbar": {
              "outlinewidth": 0,
              "ticks": ""
             }
            },
            "type": "scatterpolar"
           }
          ],
          "scatterpolargl": [
           {
            "marker": {
             "colorbar": {
              "outlinewidth": 0,
              "ticks": ""
             }
            },
            "type": "scatterpolargl"
           }
          ],
          "scatterternary": [
           {
            "marker": {
             "colorbar": {
              "outlinewidth": 0,
              "ticks": ""
             }
            },
            "type": "scatterternary"
           }
          ],
          "surface": [
           {
            "colorbar": {
             "outlinewidth": 0,
             "ticks": ""
            },
            "colorscale": [
             [
              0,
              "#0d0887"
             ],
             [
              0.1111111111111111,
              "#46039f"
             ],
             [
              0.2222222222222222,
              "#7201a8"
             ],
             [
              0.3333333333333333,
              "#9c179e"
             ],
             [
              0.4444444444444444,
              "#bd3786"
             ],
             [
              0.5555555555555556,
              "#d8576b"
             ],
             [
              0.6666666666666666,
              "#ed7953"
             ],
             [
              0.7777777777777778,
              "#fb9f3a"
             ],
             [
              0.8888888888888888,
              "#fdca26"
             ],
             [
              1,
              "#f0f921"
             ]
            ],
            "type": "surface"
           }
          ],
          "table": [
           {
            "cells": {
             "fill": {
              "color": "#EBF0F8"
             },
             "line": {
              "color": "white"
             }
            },
            "header": {
             "fill": {
              "color": "#C8D4E3"
             },
             "line": {
              "color": "white"
             }
            },
            "type": "table"
           }
          ]
         },
         "layout": {
          "annotationdefaults": {
           "arrowcolor": "#2a3f5f",
           "arrowhead": 0,
           "arrowwidth": 1
          },
          "autotypenumbers": "strict",
          "coloraxis": {
           "colorbar": {
            "outlinewidth": 0,
            "ticks": ""
           }
          },
          "colorscale": {
           "diverging": [
            [
             0,
             "#8e0152"
            ],
            [
             0.1,
             "#c51b7d"
            ],
            [
             0.2,
             "#de77ae"
            ],
            [
             0.3,
             "#f1b6da"
            ],
            [
             0.4,
             "#fde0ef"
            ],
            [
             0.5,
             "#f7f7f7"
            ],
            [
             0.6,
             "#e6f5d0"
            ],
            [
             0.7,
             "#b8e186"
            ],
            [
             0.8,
             "#7fbc41"
            ],
            [
             0.9,
             "#4d9221"
            ],
            [
             1,
             "#276419"
            ]
           ],
           "sequential": [
            [
             0,
             "#0d0887"
            ],
            [
             0.1111111111111111,
             "#46039f"
            ],
            [
             0.2222222222222222,
             "#7201a8"
            ],
            [
             0.3333333333333333,
             "#9c179e"
            ],
            [
             0.4444444444444444,
             "#bd3786"
            ],
            [
             0.5555555555555556,
             "#d8576b"
            ],
            [
             0.6666666666666666,
             "#ed7953"
            ],
            [
             0.7777777777777778,
             "#fb9f3a"
            ],
            [
             0.8888888888888888,
             "#fdca26"
            ],
            [
             1,
             "#f0f921"
            ]
           ],
           "sequentialminus": [
            [
             0,
             "#0d0887"
            ],
            [
             0.1111111111111111,
             "#46039f"
            ],
            [
             0.2222222222222222,
             "#7201a8"
            ],
            [
             0.3333333333333333,
             "#9c179e"
            ],
            [
             0.4444444444444444,
             "#bd3786"
            ],
            [
             0.5555555555555556,
             "#d8576b"
            ],
            [
             0.6666666666666666,
             "#ed7953"
            ],
            [
             0.7777777777777778,
             "#fb9f3a"
            ],
            [
             0.8888888888888888,
             "#fdca26"
            ],
            [
             1,
             "#f0f921"
            ]
           ]
          },
          "colorway": [
           "#636efa",
           "#EF553B",
           "#00cc96",
           "#ab63fa",
           "#FFA15A",
           "#19d3f3",
           "#FF6692",
           "#B6E880",
           "#FF97FF",
           "#FECB52"
          ],
          "font": {
           "color": "#2a3f5f"
          },
          "geo": {
           "bgcolor": "white",
           "lakecolor": "white",
           "landcolor": "#E5ECF6",
           "showlakes": true,
           "showland": true,
           "subunitcolor": "white"
          },
          "hoverlabel": {
           "align": "left"
          },
          "hovermode": "closest",
          "mapbox": {
           "style": "light"
          },
          "paper_bgcolor": "white",
          "plot_bgcolor": "#E5ECF6",
          "polar": {
           "angularaxis": {
            "gridcolor": "white",
            "linecolor": "white",
            "ticks": ""
           },
           "bgcolor": "#E5ECF6",
           "radialaxis": {
            "gridcolor": "white",
            "linecolor": "white",
            "ticks": ""
           }
          },
          "scene": {
           "xaxis": {
            "backgroundcolor": "#E5ECF6",
            "gridcolor": "white",
            "gridwidth": 2,
            "linecolor": "white",
            "showbackground": true,
            "ticks": "",
            "zerolinecolor": "white"
           },
           "yaxis": {
            "backgroundcolor": "#E5ECF6",
            "gridcolor": "white",
            "gridwidth": 2,
            "linecolor": "white",
            "showbackground": true,
            "ticks": "",
            "zerolinecolor": "white"
           },
           "zaxis": {
            "backgroundcolor": "#E5ECF6",
            "gridcolor": "white",
            "gridwidth": 2,
            "linecolor": "white",
            "showbackground": true,
            "ticks": "",
            "zerolinecolor": "white"
           }
          },
          "shapedefaults": {
           "line": {
            "color": "#2a3f5f"
           }
          },
          "ternary": {
           "aaxis": {
            "gridcolor": "white",
            "linecolor": "white",
            "ticks": ""
           },
           "baxis": {
            "gridcolor": "white",
            "linecolor": "white",
            "ticks": ""
           },
           "bgcolor": "#E5ECF6",
           "caxis": {
            "gridcolor": "white",
            "linecolor": "white",
            "ticks": ""
           }
          },
          "title": {
           "x": 0.05
          },
          "xaxis": {
           "automargin": true,
           "gridcolor": "white",
           "linecolor": "white",
           "ticks": "",
           "title": {
            "standoff": 15
           },
           "zerolinecolor": "white",
           "zerolinewidth": 2
          },
          "yaxis": {
           "automargin": true,
           "gridcolor": "white",
           "linecolor": "white",
           "ticks": "",
           "title": {
            "standoff": 15
           },
           "zerolinecolor": "white",
           "zerolinewidth": 2
          }
         }
        },
        "xaxis": {
         "title": {
          "text": "Segmentos"
         }
        },
        "yaxis": {
         "gridcolor": "#dddcda",
         "title": {
          "text": "Número de casas"
         }
        }
       }
      }
     },
     "metadata": {},
     "output_type": "display_data"
    }
   ],
   "source": [
    "import os\n",
    "import pandas as pd\n",
    "import plotly.graph_objects as go\n",
    "import plotly.io as pio\n",
    "\n",
    "colores = ['#2962ff', '#9500ff', '#ff0059', '#ff8c00', '#b4e600', '#2EC2A2','#E50CB6','#4225CF','#2CBA4D']\n",
    "orden_personalizado = ['7', '8', '9', '10', '11', '12', '13', '14', '15', '16-18', '19-24', '>24']\n",
    "orden_segmentos = [\"E\", \"D\", \"C\", \"B\", \"A\", \"S\", \"L\"] #No se incluye\n",
    "\n",
    "def sumar_tablas(dataframes_list):\n",
    "    tabla_suma = None\n",
    "    for df in dataframes_list:\n",
    "        # Asignar categoría a 'segmento' según 'orden_segmentos'\n",
    "        df['segmento'] = df['categoria'].str[0]\n",
    "        df = df[df['segmento'] != 'L']  # Filtrar segmentos no deseados\n",
    "        df['segmento'] = pd.Categorical(df['segmento'], categories=orden_segmentos, ordered=True)\n",
    "        \n",
    "        # Agrupar por 'segmento' y 'antiguedad_categoria'\n",
    "        tabla_actual = df.groupby(['segmento', 'antiguedad_categoria'], observed=False).size().unstack(fill_value=0)\n",
    "        \n",
    "        # Sumar las tablas\n",
    "        if tabla_suma is None:\n",
    "            tabla_suma = tabla_actual\n",
    "        else:\n",
    "            tabla_suma = tabla_suma.add(tabla_actual, fill_value=0)\n",
    "    \n",
    "    # Aplicar el orden personalizado en las columnas\n",
    "    tabla_suma = tabla_suma.reindex(columns=orden_personalizado, fill_value=0)\n",
    "    \n",
    "    print(\"Tabla general de frecuencia:\")\n",
    "    print(tabla_suma)\n",
    "    \n",
    "    fig = graficar_tabla(tabla_suma)\n",
    "    \n",
    "    # Guardar la gráfica como archivo HTML\n",
    "    guardar_grafico_como_html(fig, 'g_bar_tiempoventa', carpeta='assets/graficas')\n",
    "    \n",
    "    return fig\n",
    "\n",
    "def graficar_tabla(tabla):\n",
    "    segmentos = tabla.index  \n",
    "    tiempo = tabla.columns\n",
    "    \n",
    "    fig = go.Figure()\n",
    "    \n",
    "    for i, tiempo_categoria in enumerate(tiempo):\n",
    "        color = colores[i % len(colores)]\n",
    "        fig.add_trace(go.Bar(\n",
    "            x=segmentos,\n",
    "            y=tabla[tiempo_categoria],\n",
    "            name=tiempo_categoria,\n",
    "            marker_color=color\n",
    "        ))\n",
    "    \n",
    "    fig.update_layout(\n",
    "        yaxis=dict(\n",
    "            title=\"Número de casas\",\n",
    "            gridcolor='#dddcda',\n",
    "        ),\n",
    "        xaxis=dict(title=\"Segmentos\"),\n",
    "        legend_title=\"Antigüedad\",\n",
    "        margin=dict(l=10, r=10, t=10, b=10),  # Ajustar márgenes\n",
    "        barmode='group',\n",
    "        legend=dict(\n",
    "            orientation='h',\n",
    "            yanchor='bottom',\n",
    "            y=1.02,\n",
    "            xanchor='right',\n",
    "            x=1\n",
    "        ),\n",
    "        plot_bgcolor='rgba(0,0,0,0)',\n",
    "    )\n",
    "    \n",
    "    fig.show()\n",
    "    return fig\n",
    "\n",
    "def guardar_grafico_como_html(fig, nombre_archivo, carpeta='assets/graficas'):\n",
    "    if not os.path.exists(carpeta):\n",
    "        os.makedirs(carpeta)\n",
    "        \n",
    "    config = {\n",
    "        'displaylogo': False,  # Ocultar logo de Plotly\n",
    "        'modeBarButtonsToRemove': [\n",
    "            'toImage',       # Botón para guardar como imagen\n",
    "            'select2d',      # Box select\n",
    "            'lasso2d',       # Lasso select\n",
    "            'resetScale2d',  # Reset Axes\n",
    "        ]\n",
    "    }\n",
    "    \n",
    "    # Gráfica como archivo HTML en la carpeta especificada\n",
    "    pio.write_html(fig, f'{carpeta}/{nombre_archivo}.html', config=config)\n",
    "\n",
    "# Supongamos que tienes una lista de DataFrames llamada dataframes_list\n",
    "fig = sumar_tablas(dataframes_list)\n"
   ]
  },
  {
   "cell_type": "markdown",
   "metadata": {},
   "source": [
    "## Totales"
   ]
  },
  {
   "cell_type": "code",
   "execution_count": 24,
   "metadata": {},
   "outputs": [
    {
     "data": {
      "text/html": [
       "<div>\n",
       "<style scoped>\n",
       "    .dataframe tbody tr th:only-of-type {\n",
       "        vertical-align: middle;\n",
       "    }\n",
       "\n",
       "    .dataframe tbody tr th {\n",
       "        vertical-align: top;\n",
       "    }\n",
       "\n",
       "    .dataframe thead th {\n",
       "        text-align: right;\n",
       "    }\n",
       "</style>\n",
       "<table border=\"1\" class=\"dataframe\">\n",
       "  <thead>\n",
       "    <tr style=\"text-align: right;\">\n",
       "      <th></th>\n",
       "      <th>count</th>\n",
       "      <th>antiguedad_categoria</th>\n",
       "    </tr>\n",
       "  </thead>\n",
       "  <tbody>\n",
       "    <tr>\n",
       "      <th>0</th>\n",
       "      <td>40.0</td>\n",
       "      <td>7</td>\n",
       "    </tr>\n",
       "    <tr>\n",
       "      <th>1</th>\n",
       "      <td>35.0</td>\n",
       "      <td>8</td>\n",
       "    </tr>\n",
       "    <tr>\n",
       "      <th>2</th>\n",
       "      <td>31.0</td>\n",
       "      <td>9</td>\n",
       "    </tr>\n",
       "    <tr>\n",
       "      <th>3</th>\n",
       "      <td>68.0</td>\n",
       "      <td>10</td>\n",
       "    </tr>\n",
       "    <tr>\n",
       "      <th>4</th>\n",
       "      <td>30.0</td>\n",
       "      <td>11</td>\n",
       "    </tr>\n",
       "    <tr>\n",
       "      <th>5</th>\n",
       "      <td>29.0</td>\n",
       "      <td>12</td>\n",
       "    </tr>\n",
       "    <tr>\n",
       "      <th>6</th>\n",
       "      <td>20.0</td>\n",
       "      <td>13</td>\n",
       "    </tr>\n",
       "    <tr>\n",
       "      <th>7</th>\n",
       "      <td>27.0</td>\n",
       "      <td>14</td>\n",
       "    </tr>\n",
       "    <tr>\n",
       "      <th>8</th>\n",
       "      <td>23.0</td>\n",
       "      <td>15</td>\n",
       "    </tr>\n",
       "    <tr>\n",
       "      <th>9</th>\n",
       "      <td>11.0</td>\n",
       "      <td>16-18</td>\n",
       "    </tr>\n",
       "    <tr>\n",
       "      <th>10</th>\n",
       "      <td>10.0</td>\n",
       "      <td>19-24</td>\n",
       "    </tr>\n",
       "    <tr>\n",
       "      <th>11</th>\n",
       "      <td>8.0</td>\n",
       "      <td>&gt;24</td>\n",
       "    </tr>\n",
       "  </tbody>\n",
       "</table>\n",
       "</div>"
      ],
      "text/plain": [
       "    count antiguedad_categoria\n",
       "0    40.0                    7\n",
       "1    35.0                    8\n",
       "2    31.0                    9\n",
       "3    68.0                   10\n",
       "4    30.0                   11\n",
       "5    29.0                   12\n",
       "6    20.0                   13\n",
       "7    27.0                   14\n",
       "8    23.0                   15\n",
       "9    11.0                16-18\n",
       "10   10.0                19-24\n",
       "11    8.0                  >24"
      ]
     },
     "execution_count": 24,
     "metadata": {},
     "output_type": "execute_result"
    }
   ],
   "source": [
    "# Orden personalizado\n",
    "orden_personalizado = ['7', '8', '9', '10', '11', '12', '13','14','15','16-18','19-24','>24']\n",
    "\n",
    "tabla_suma = None\n",
    "# Iterar sobre cada DataFrame en la lista\n",
    "for df in dataframes_list:\n",
    "    # Contar los registros por cada categoría de antigüedad\n",
    "    tabla_actual = df['antiguedad_categoria'].value_counts().sort_index()    \n",
    "    \n",
    "    # Sumar la tabla actual al acumulador (tabla_suma)\n",
    "    if tabla_suma is None:\n",
    "        tabla_suma = tabla_actual\n",
    "    else:\n",
    "        tabla_suma = tabla_suma.add(tabla_actual, fill_value=0)\n",
    "\n",
    "# Reordenar las columnas según el orden personalizado\n",
    "tabla_suma = tabla_suma[orden_personalizado]\n",
    "\n",
    "# Crear un DataFrame a partir de la tabla acumulativa\n",
    "df_acumulado = pd.DataFrame(tabla_suma)\n",
    "df_acumulado.columns = ['count']\n",
    "df_acumulado['antiguedad_categoria'] = df_acumulado.index\n",
    "\n",
    "# Reiniciar el índice del DataFrame\n",
    "df_acumulado.reset_index(drop=True, inplace=True)\n",
    "df_acumulado"
   ]
  },
  {
   "cell_type": "code",
   "execution_count": 27,
   "metadata": {},
   "outputs": [
    {
     "data": {
      "application/vnd.plotly.v1+json": {
       "config": {
        "plotlyServerURL": "https://plot.ly"
       },
       "data": [
        {
         "marker": {
          "color": [
           "#2962ff",
           "#9500ff",
           "#ff0059",
           "#ff8c00",
           "#b4e600",
           "#2EC2A2",
           "#E50CB6",
           "#4225CF",
           "#2CBA4D",
           "#2962ff",
           "#9500ff",
           "#ff0059"
          ]
         },
         "text": [
          40,
          35,
          31,
          68,
          30,
          29,
          20,
          27,
          23,
          11,
          10,
          8
         ],
         "textposition": "outside",
         "type": "bar",
         "x": [
          "7",
          "8",
          "9",
          "10",
          "11",
          "12",
          "13",
          "14",
          "15",
          "16-18",
          "19-24",
          ">24"
         ],
         "y": [
          40,
          35,
          31,
          68,
          30,
          29,
          20,
          27,
          23,
          11,
          10,
          8
         ]
        }
       ],
       "layout": {
        "margin": {
         "b": 10,
         "l": 10,
         "r": 10,
         "t": 10
        },
        "plot_bgcolor": "rgba(0,0,0,0)",
        "template": {
         "data": {
          "bar": [
           {
            "error_x": {
             "color": "#2a3f5f"
            },
            "error_y": {
             "color": "#2a3f5f"
            },
            "marker": {
             "line": {
              "color": "#E5ECF6",
              "width": 0.5
             },
             "pattern": {
              "fillmode": "overlay",
              "size": 10,
              "solidity": 0.2
             }
            },
            "type": "bar"
           }
          ],
          "barpolar": [
           {
            "marker": {
             "line": {
              "color": "#E5ECF6",
              "width": 0.5
             },
             "pattern": {
              "fillmode": "overlay",
              "size": 10,
              "solidity": 0.2
             }
            },
            "type": "barpolar"
           }
          ],
          "carpet": [
           {
            "aaxis": {
             "endlinecolor": "#2a3f5f",
             "gridcolor": "white",
             "linecolor": "white",
             "minorgridcolor": "white",
             "startlinecolor": "#2a3f5f"
            },
            "baxis": {
             "endlinecolor": "#2a3f5f",
             "gridcolor": "white",
             "linecolor": "white",
             "minorgridcolor": "white",
             "startlinecolor": "#2a3f5f"
            },
            "type": "carpet"
           }
          ],
          "choropleth": [
           {
            "colorbar": {
             "outlinewidth": 0,
             "ticks": ""
            },
            "type": "choropleth"
           }
          ],
          "contour": [
           {
            "colorbar": {
             "outlinewidth": 0,
             "ticks": ""
            },
            "colorscale": [
             [
              0,
              "#0d0887"
             ],
             [
              0.1111111111111111,
              "#46039f"
             ],
             [
              0.2222222222222222,
              "#7201a8"
             ],
             [
              0.3333333333333333,
              "#9c179e"
             ],
             [
              0.4444444444444444,
              "#bd3786"
             ],
             [
              0.5555555555555556,
              "#d8576b"
             ],
             [
              0.6666666666666666,
              "#ed7953"
             ],
             [
              0.7777777777777778,
              "#fb9f3a"
             ],
             [
              0.8888888888888888,
              "#fdca26"
             ],
             [
              1,
              "#f0f921"
             ]
            ],
            "type": "contour"
           }
          ],
          "contourcarpet": [
           {
            "colorbar": {
             "outlinewidth": 0,
             "ticks": ""
            },
            "type": "contourcarpet"
           }
          ],
          "heatmap": [
           {
            "colorbar": {
             "outlinewidth": 0,
             "ticks": ""
            },
            "colorscale": [
             [
              0,
              "#0d0887"
             ],
             [
              0.1111111111111111,
              "#46039f"
             ],
             [
              0.2222222222222222,
              "#7201a8"
             ],
             [
              0.3333333333333333,
              "#9c179e"
             ],
             [
              0.4444444444444444,
              "#bd3786"
             ],
             [
              0.5555555555555556,
              "#d8576b"
             ],
             [
              0.6666666666666666,
              "#ed7953"
             ],
             [
              0.7777777777777778,
              "#fb9f3a"
             ],
             [
              0.8888888888888888,
              "#fdca26"
             ],
             [
              1,
              "#f0f921"
             ]
            ],
            "type": "heatmap"
           }
          ],
          "heatmapgl": [
           {
            "colorbar": {
             "outlinewidth": 0,
             "ticks": ""
            },
            "colorscale": [
             [
              0,
              "#0d0887"
             ],
             [
              0.1111111111111111,
              "#46039f"
             ],
             [
              0.2222222222222222,
              "#7201a8"
             ],
             [
              0.3333333333333333,
              "#9c179e"
             ],
             [
              0.4444444444444444,
              "#bd3786"
             ],
             [
              0.5555555555555556,
              "#d8576b"
             ],
             [
              0.6666666666666666,
              "#ed7953"
             ],
             [
              0.7777777777777778,
              "#fb9f3a"
             ],
             [
              0.8888888888888888,
              "#fdca26"
             ],
             [
              1,
              "#f0f921"
             ]
            ],
            "type": "heatmapgl"
           }
          ],
          "histogram": [
           {
            "marker": {
             "pattern": {
              "fillmode": "overlay",
              "size": 10,
              "solidity": 0.2
             }
            },
            "type": "histogram"
           }
          ],
          "histogram2d": [
           {
            "colorbar": {
             "outlinewidth": 0,
             "ticks": ""
            },
            "colorscale": [
             [
              0,
              "#0d0887"
             ],
             [
              0.1111111111111111,
              "#46039f"
             ],
             [
              0.2222222222222222,
              "#7201a8"
             ],
             [
              0.3333333333333333,
              "#9c179e"
             ],
             [
              0.4444444444444444,
              "#bd3786"
             ],
             [
              0.5555555555555556,
              "#d8576b"
             ],
             [
              0.6666666666666666,
              "#ed7953"
             ],
             [
              0.7777777777777778,
              "#fb9f3a"
             ],
             [
              0.8888888888888888,
              "#fdca26"
             ],
             [
              1,
              "#f0f921"
             ]
            ],
            "type": "histogram2d"
           }
          ],
          "histogram2dcontour": [
           {
            "colorbar": {
             "outlinewidth": 0,
             "ticks": ""
            },
            "colorscale": [
             [
              0,
              "#0d0887"
             ],
             [
              0.1111111111111111,
              "#46039f"
             ],
             [
              0.2222222222222222,
              "#7201a8"
             ],
             [
              0.3333333333333333,
              "#9c179e"
             ],
             [
              0.4444444444444444,
              "#bd3786"
             ],
             [
              0.5555555555555556,
              "#d8576b"
             ],
             [
              0.6666666666666666,
              "#ed7953"
             ],
             [
              0.7777777777777778,
              "#fb9f3a"
             ],
             [
              0.8888888888888888,
              "#fdca26"
             ],
             [
              1,
              "#f0f921"
             ]
            ],
            "type": "histogram2dcontour"
           }
          ],
          "mesh3d": [
           {
            "colorbar": {
             "outlinewidth": 0,
             "ticks": ""
            },
            "type": "mesh3d"
           }
          ],
          "parcoords": [
           {
            "line": {
             "colorbar": {
              "outlinewidth": 0,
              "ticks": ""
             }
            },
            "type": "parcoords"
           }
          ],
          "pie": [
           {
            "automargin": true,
            "type": "pie"
           }
          ],
          "scatter": [
           {
            "fillpattern": {
             "fillmode": "overlay",
             "size": 10,
             "solidity": 0.2
            },
            "type": "scatter"
           }
          ],
          "scatter3d": [
           {
            "line": {
             "colorbar": {
              "outlinewidth": 0,
              "ticks": ""
             }
            },
            "marker": {
             "colorbar": {
              "outlinewidth": 0,
              "ticks": ""
             }
            },
            "type": "scatter3d"
           }
          ],
          "scattercarpet": [
           {
            "marker": {
             "colorbar": {
              "outlinewidth": 0,
              "ticks": ""
             }
            },
            "type": "scattercarpet"
           }
          ],
          "scattergeo": [
           {
            "marker": {
             "colorbar": {
              "outlinewidth": 0,
              "ticks": ""
             }
            },
            "type": "scattergeo"
           }
          ],
          "scattergl": [
           {
            "marker": {
             "colorbar": {
              "outlinewidth": 0,
              "ticks": ""
             }
            },
            "type": "scattergl"
           }
          ],
          "scattermapbox": [
           {
            "marker": {
             "colorbar": {
              "outlinewidth": 0,
              "ticks": ""
             }
            },
            "type": "scattermapbox"
           }
          ],
          "scatterpolar": [
           {
            "marker": {
             "colorbar": {
              "outlinewidth": 0,
              "ticks": ""
             }
            },
            "type": "scatterpolar"
           }
          ],
          "scatterpolargl": [
           {
            "marker": {
             "colorbar": {
              "outlinewidth": 0,
              "ticks": ""
             }
            },
            "type": "scatterpolargl"
           }
          ],
          "scatterternary": [
           {
            "marker": {
             "colorbar": {
              "outlinewidth": 0,
              "ticks": ""
             }
            },
            "type": "scatterternary"
           }
          ],
          "surface": [
           {
            "colorbar": {
             "outlinewidth": 0,
             "ticks": ""
            },
            "colorscale": [
             [
              0,
              "#0d0887"
             ],
             [
              0.1111111111111111,
              "#46039f"
             ],
             [
              0.2222222222222222,
              "#7201a8"
             ],
             [
              0.3333333333333333,
              "#9c179e"
             ],
             [
              0.4444444444444444,
              "#bd3786"
             ],
             [
              0.5555555555555556,
              "#d8576b"
             ],
             [
              0.6666666666666666,
              "#ed7953"
             ],
             [
              0.7777777777777778,
              "#fb9f3a"
             ],
             [
              0.8888888888888888,
              "#fdca26"
             ],
             [
              1,
              "#f0f921"
             ]
            ],
            "type": "surface"
           }
          ],
          "table": [
           {
            "cells": {
             "fill": {
              "color": "#EBF0F8"
             },
             "line": {
              "color": "white"
             }
            },
            "header": {
             "fill": {
              "color": "#C8D4E3"
             },
             "line": {
              "color": "white"
             }
            },
            "type": "table"
           }
          ]
         },
         "layout": {
          "annotationdefaults": {
           "arrowcolor": "#2a3f5f",
           "arrowhead": 0,
           "arrowwidth": 1
          },
          "autotypenumbers": "strict",
          "coloraxis": {
           "colorbar": {
            "outlinewidth": 0,
            "ticks": ""
           }
          },
          "colorscale": {
           "diverging": [
            [
             0,
             "#8e0152"
            ],
            [
             0.1,
             "#c51b7d"
            ],
            [
             0.2,
             "#de77ae"
            ],
            [
             0.3,
             "#f1b6da"
            ],
            [
             0.4,
             "#fde0ef"
            ],
            [
             0.5,
             "#f7f7f7"
            ],
            [
             0.6,
             "#e6f5d0"
            ],
            [
             0.7,
             "#b8e186"
            ],
            [
             0.8,
             "#7fbc41"
            ],
            [
             0.9,
             "#4d9221"
            ],
            [
             1,
             "#276419"
            ]
           ],
           "sequential": [
            [
             0,
             "#0d0887"
            ],
            [
             0.1111111111111111,
             "#46039f"
            ],
            [
             0.2222222222222222,
             "#7201a8"
            ],
            [
             0.3333333333333333,
             "#9c179e"
            ],
            [
             0.4444444444444444,
             "#bd3786"
            ],
            [
             0.5555555555555556,
             "#d8576b"
            ],
            [
             0.6666666666666666,
             "#ed7953"
            ],
            [
             0.7777777777777778,
             "#fb9f3a"
            ],
            [
             0.8888888888888888,
             "#fdca26"
            ],
            [
             1,
             "#f0f921"
            ]
           ],
           "sequentialminus": [
            [
             0,
             "#0d0887"
            ],
            [
             0.1111111111111111,
             "#46039f"
            ],
            [
             0.2222222222222222,
             "#7201a8"
            ],
            [
             0.3333333333333333,
             "#9c179e"
            ],
            [
             0.4444444444444444,
             "#bd3786"
            ],
            [
             0.5555555555555556,
             "#d8576b"
            ],
            [
             0.6666666666666666,
             "#ed7953"
            ],
            [
             0.7777777777777778,
             "#fb9f3a"
            ],
            [
             0.8888888888888888,
             "#fdca26"
            ],
            [
             1,
             "#f0f921"
            ]
           ]
          },
          "colorway": [
           "#636efa",
           "#EF553B",
           "#00cc96",
           "#ab63fa",
           "#FFA15A",
           "#19d3f3",
           "#FF6692",
           "#B6E880",
           "#FF97FF",
           "#FECB52"
          ],
          "font": {
           "color": "#2a3f5f"
          },
          "geo": {
           "bgcolor": "white",
           "lakecolor": "white",
           "landcolor": "#E5ECF6",
           "showlakes": true,
           "showland": true,
           "subunitcolor": "white"
          },
          "hoverlabel": {
           "align": "left"
          },
          "hovermode": "closest",
          "mapbox": {
           "style": "light"
          },
          "paper_bgcolor": "white",
          "plot_bgcolor": "#E5ECF6",
          "polar": {
           "angularaxis": {
            "gridcolor": "white",
            "linecolor": "white",
            "ticks": ""
           },
           "bgcolor": "#E5ECF6",
           "radialaxis": {
            "gridcolor": "white",
            "linecolor": "white",
            "ticks": ""
           }
          },
          "scene": {
           "xaxis": {
            "backgroundcolor": "#E5ECF6",
            "gridcolor": "white",
            "gridwidth": 2,
            "linecolor": "white",
            "showbackground": true,
            "ticks": "",
            "zerolinecolor": "white"
           },
           "yaxis": {
            "backgroundcolor": "#E5ECF6",
            "gridcolor": "white",
            "gridwidth": 2,
            "linecolor": "white",
            "showbackground": true,
            "ticks": "",
            "zerolinecolor": "white"
           },
           "zaxis": {
            "backgroundcolor": "#E5ECF6",
            "gridcolor": "white",
            "gridwidth": 2,
            "linecolor": "white",
            "showbackground": true,
            "ticks": "",
            "zerolinecolor": "white"
           }
          },
          "shapedefaults": {
           "line": {
            "color": "#2a3f5f"
           }
          },
          "ternary": {
           "aaxis": {
            "gridcolor": "white",
            "linecolor": "white",
            "ticks": ""
           },
           "baxis": {
            "gridcolor": "white",
            "linecolor": "white",
            "ticks": ""
           },
           "bgcolor": "#E5ECF6",
           "caxis": {
            "gridcolor": "white",
            "linecolor": "white",
            "ticks": ""
           }
          },
          "title": {
           "x": 0.05
          },
          "xaxis": {
           "automargin": true,
           "gridcolor": "white",
           "linecolor": "white",
           "ticks": "",
           "title": {
            "standoff": 15
           },
           "zerolinecolor": "white",
           "zerolinewidth": 2
          },
          "yaxis": {
           "automargin": true,
           "gridcolor": "white",
           "linecolor": "white",
           "ticks": "",
           "title": {
            "standoff": 15
           },
           "zerolinecolor": "white",
           "zerolinewidth": 2
          }
         }
        },
        "xaxis": {
         "title": {
          "text": "Meses de antigüedad"
         }
        },
        "yaxis": {
         "gridcolor": "#dddcda",
         "gridwidth": 1,
         "title": {
          "text": "Número de casas"
         }
        }
       }
      }
     },
     "metadata": {},
     "output_type": "display_data"
    }
   ],
   "source": [
    "fig = go.Figure()\n",
    "colores = ['#2962ff', '#9500ff', '#ff0059', '#ff8c00', '#b4e600', '#2EC2A2','#E50CB6','#4225CF','#2CBA4D','#2962ff', '#9500ff', '#ff0059',]\n",
    "count = df_acumulado['count']\n",
    "\n",
    "fig.add_trace(go.Bar(\n",
    "    x=df_acumulado['antiguedad_categoria'], \n",
    "    y=df_acumulado['count'], \n",
    "    marker_color=colores,  # Especifica los colores de las barras\n",
    "    text=count,  # Texto que se mostrará en las barras \n",
    "    textposition='outside',  # Posición del texto (puede ser 'inside' o 'outside')\n",
    "    #texttemplate='%{text:.1f}%',  # Formato del texto (porcentaje con un decimal)\n",
    "))\n",
    "# Personalizar el diseño de la gráfica\n",
    "fig.update_layout(\n",
    "    #title='Meses de antigüedad',  # Título de la gráfica\n",
    "   xaxis=dict(title='Meses de antigüedad'),  # Título del eje x\n",
    "    yaxis=dict(\n",
    "        title='Número de casas', # Título del eje y\n",
    "        gridcolor='#dddcda', # Color de las líneas que dividen los rangos del eje Y\n",
    "         gridwidth=1,\n",
    "    ),  \n",
    "    margin=dict(l=10, r=10, t=10, b=10),  # Ajusta los márgenes (left, right, top, bottom)        \n",
    "    plot_bgcolor='rgba(0,0,0,0)',  # Color de fondo del gráfico\n",
    ")\n",
    "\n",
    "# Exportar gráfica como archivo HTML\n",
    "def guardar_grafico_como_html(fig, nombre_archivo, carpeta='assets/graficas'):\n",
    "    # Crear la carpeta si no existe\n",
    "    if not os.path.exists(carpeta):\n",
    "        os.makedirs(carpeta)\n",
    "    # Configuración personalizada para la gráfica\n",
    "    config = {\n",
    "        'displaylogo': False,  # Ocultar el logo de Plotly\n",
    "        'modeBarButtonsToRemove': [\n",
    "            'toImage',       # Botón para guardar como imagen\n",
    "            'select2d',      # Box select\n",
    "            'lasso2d',       # Lasso select\n",
    "            'resetScale2d',  # Reset Axes\n",
    "        ]\n",
    "    }\n",
    "\n",
    "    # Gráfica como archivo HTML en la carpeta especificada\n",
    "    pio.write_html(\n",
    "        fig,\n",
    "        f'{carpeta}/{nombre_archivo}.html',\n",
    "        config=config,\n",
    "        include_plotlyjs='cdn'  # Asegura que las configuraciones sean aplicadas\n",
    "    )\n",
    "\n",
    "# Exportar\n",
    "guardar_grafico_como_html(fig, 'g_bar_tiempoventa_total', carpeta='assets/graficas')\n",
    "\n",
    "fig.show()"
   ]
  },
  {
   "cell_type": "code",
   "execution_count": null,
   "metadata": {},
   "outputs": [],
   "source": []
  }
 ],
 "metadata": {
  "kernelspec": {
   "display_name": "base",
   "language": "python",
   "name": "python3"
  },
  "language_info": {
   "codemirror_mode": {
    "name": "ipython",
    "version": 3
   },
   "file_extension": ".py",
   "mimetype": "text/x-python",
   "name": "python",
   "nbconvert_exporter": "python",
   "pygments_lexer": "ipython3",
   "version": "3.12.3"
  }
 },
 "nbformat": 4,
 "nbformat_minor": 2
}
