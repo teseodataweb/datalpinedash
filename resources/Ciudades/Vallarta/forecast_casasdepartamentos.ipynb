{
 "cells": [
  {
   "cell_type": "markdown",
   "metadata": {},
   "source": [
    "# **Forecast casas y departamentos**"
   ]
  },
  {
   "cell_type": "code",
   "execution_count": 2,
   "metadata": {},
   "outputs": [
    {
     "ename": "ImportError",
     "evalue": "DLL load failed while importing _multiarray_umath: No se puede encontrar el módulo especificado.",
     "output_type": "error",
     "traceback": [
      "\u001b[1;31m---------------------------------------------------------------------------\u001b[0m",
      "\u001b[1;31mImportError\u001b[0m                               Traceback (most recent call last)",
      "\u001b[1;31mImportError\u001b[0m: DLL load failed while importing _multiarray_umath: No se puede encontrar el módulo especificado."
     ]
    },
    {
     "name": "stdout",
     "output_type": "stream",
     "text": [
      "Lista de DataFrames filtrados:\n"
     ]
    },
    {
     "data": {
      "text/plain": [
       "['df_alfa_abril_2024_pachuca',\n",
       " 'df_alfa_agosto_2024_pachuca',\n",
       " 'df_alfa_febrero_2024_pachuca',\n",
       " 'df_alfa_julio_2024_pachuca',\n",
       " 'df_alfa_junio_2024_pachuca',\n",
       " 'df_alfa_marzo_2024_pachuca',\n",
       " 'df_alfa_mayo_2024_pachuca',\n",
       " 'df_alfa_q_feb_2023_pachuca',\n",
       " 'df_alfa_q_jul_2023_pachuca',\n",
       " 'df_alfa_q_jun_2023_pachuca',\n",
       " 'df_alfa_q_mar_2023_pachuca',\n",
       " 'df_alfa_q_nov_2022_pachuca',\n",
       " 'df_alfa_q_oct_2022_pachuca',\n",
       " 'df_alfa_q_sep_2023_pachuca']"
      ]
     },
     "execution_count": 2,
     "metadata": {},
     "output_type": "execute_result"
    }
   ],
   "source": [
    "# Manejo de datos\n",
    "import os # Directorios\n",
    "import pandas as pd # Manipulación df\n",
    "# Gráficas\n",
    "import plotly.graph_objects as go #Para obtener librería usar: pip install plotly\n",
    "from plotly.subplots import make_subplots\n",
    "import plotly.io as pio # Exportar gráfica\n",
    "\n",
    "# Obtener el directorio actual de trabajo\n",
    "directorio_actual = os.getcwd()\n",
    "\n",
    "# Directorio donde se encuentran los archivos JSON (ruta relativa)\n",
    "directorio_json = os.path.join(directorio_actual, '../../db/datos_json')\n",
    "\n",
    "# Obtener la lista de archivos JSON en el directorio\n",
    "archivos_json = os.listdir(directorio_json)\n",
    "\n",
    "# Cargar los archivos JSON y crear DataFrames\n",
    "for archivo in archivos_json:\n",
    "    nombre_tabla = archivo.replace('datos_', '').replace('.json', '')\n",
    "    ruta_json = os.path.join(directorio_json, archivo)\n",
    "    globals()[f\"df_{nombre_tabla}\"] = pd.read_json(ruta_json)\n",
    "\n",
    "# Obtener todos los nombres de las variables globales\n",
    "nombres_variables_globales = list(globals().keys())\n",
    "\n",
    "# Filtrar los nombres que comienzan con \"df_\"\n",
    "nombres_df_filtrados = [\n",
    "    nombre for nombre in nombres_variables_globales \n",
    "    # Caso de cuando no son las alfa q\n",
    "    if nombre.startswith(\"df_\") and \"alfa\" in nombre and \"pachuca\" in nombre\n",
    "]\n",
    "\n",
    "# Imprimir la lista de DataFrames filtrados\n",
    "print(\"Lista de DataFrames filtrados:\")\n",
    "nombres_df_filtrados"
   ]
  },
  {
   "cell_type": "code",
   "execution_count": 3,
   "metadata": {},
   "outputs": [
    {
     "name": "stdout",
     "output_type": "stream",
     "text": [
      "Columnas renombradas en los DataFrames filtrados.\n"
     ]
    }
   ],
   "source": [
    "# Iterar sobre cada DataFrame en la lista filtrada\n",
    "for nombre_df in nombres_df_filtrados:\n",
    "    # Obtener el DataFrame usando globals()\n",
    "    df = globals()[nombre_df]\n",
    "    \n",
    "    df.rename(columns={'Tipo':'tipo'}, inplace=True)\n",
    "        # Asignar el DataFrame modificado de nuevo a la variable global\n",
    "    globals()[nombre_df] = df \n",
    "print(\"Columnas renombradas en los DataFrames filtrados.\")"
   ]
  },
  {
   "cell_type": "code",
   "execution_count": 4,
   "metadata": {},
   "outputs": [],
   "source": [
    "# Crear una lista de DataFrames seleccionados con las columnas específicas\n",
    "dataframes_list = []\n",
    "for nombre_df in nombres_df_filtrados:\n",
    "    # Seleccionar las columnas \n",
    "    segment_df = globals()[nombre_df][['tipo']]\n",
    "    # Añadir el DataFrame a la lista\n",
    "    dataframes_list.append(segment_df)"
   ]
  },
  {
   "cell_type": "code",
   "execution_count": 5,
   "metadata": {},
   "outputs": [
    {
     "data": {
      "text/html": [
       "<div>\n",
       "<style scoped>\n",
       "    .dataframe tbody tr th:only-of-type {\n",
       "        vertical-align: middle;\n",
       "    }\n",
       "\n",
       "    .dataframe tbody tr th {\n",
       "        vertical-align: top;\n",
       "    }\n",
       "\n",
       "    .dataframe thead th {\n",
       "        text-align: right;\n",
       "    }\n",
       "</style>\n",
       "<table border=\"1\" class=\"dataframe\">\n",
       "  <thead>\n",
       "    <tr style=\"text-align: right;\">\n",
       "      <th></th>\n",
       "      <th>tipo</th>\n",
       "      <th>conteo</th>\n",
       "      <th>mes</th>\n",
       "      <th>año</th>\n",
       "    </tr>\n",
       "  </thead>\n",
       "  <tbody>\n",
       "    <tr>\n",
       "      <th>0</th>\n",
       "      <td>casa</td>\n",
       "      <td>1492</td>\n",
       "      <td>abril</td>\n",
       "      <td>2024</td>\n",
       "    </tr>\n",
       "    <tr>\n",
       "      <th>1</th>\n",
       "      <td>departamento</td>\n",
       "      <td>55</td>\n",
       "      <td>abril</td>\n",
       "      <td>2024</td>\n",
       "    </tr>\n",
       "    <tr>\n",
       "      <th>2</th>\n",
       "      <td>casa</td>\n",
       "      <td>1333</td>\n",
       "      <td>agosto</td>\n",
       "      <td>2024</td>\n",
       "    </tr>\n",
       "    <tr>\n",
       "      <th>3</th>\n",
       "      <td>departamento</td>\n",
       "      <td>73</td>\n",
       "      <td>agosto</td>\n",
       "      <td>2024</td>\n",
       "    </tr>\n",
       "    <tr>\n",
       "      <th>4</th>\n",
       "      <td>casa</td>\n",
       "      <td>1667</td>\n",
       "      <td>febrero</td>\n",
       "      <td>2024</td>\n",
       "    </tr>\n",
       "    <tr>\n",
       "      <th>5</th>\n",
       "      <td>departamento</td>\n",
       "      <td>229</td>\n",
       "      <td>febrero</td>\n",
       "      <td>2024</td>\n",
       "    </tr>\n",
       "    <tr>\n",
       "      <th>6</th>\n",
       "      <td>casa</td>\n",
       "      <td>1700</td>\n",
       "      <td>julio</td>\n",
       "      <td>2024</td>\n",
       "    </tr>\n",
       "    <tr>\n",
       "      <th>7</th>\n",
       "      <td>departamento</td>\n",
       "      <td>63</td>\n",
       "      <td>julio</td>\n",
       "      <td>2024</td>\n",
       "    </tr>\n",
       "    <tr>\n",
       "      <th>8</th>\n",
       "      <td>casa</td>\n",
       "      <td>1524</td>\n",
       "      <td>junio</td>\n",
       "      <td>2024</td>\n",
       "    </tr>\n",
       "    <tr>\n",
       "      <th>9</th>\n",
       "      <td>departamento</td>\n",
       "      <td>101</td>\n",
       "      <td>junio</td>\n",
       "      <td>2024</td>\n",
       "    </tr>\n",
       "    <tr>\n",
       "      <th>10</th>\n",
       "      <td>casa</td>\n",
       "      <td>1568</td>\n",
       "      <td>marzo</td>\n",
       "      <td>2024</td>\n",
       "    </tr>\n",
       "    <tr>\n",
       "      <th>11</th>\n",
       "      <td>departamento</td>\n",
       "      <td>39</td>\n",
       "      <td>marzo</td>\n",
       "      <td>2024</td>\n",
       "    </tr>\n",
       "    <tr>\n",
       "      <th>12</th>\n",
       "      <td>casa</td>\n",
       "      <td>1716</td>\n",
       "      <td>mayo</td>\n",
       "      <td>2024</td>\n",
       "    </tr>\n",
       "    <tr>\n",
       "      <th>13</th>\n",
       "      <td>departamento</td>\n",
       "      <td>90</td>\n",
       "      <td>mayo</td>\n",
       "      <td>2024</td>\n",
       "    </tr>\n",
       "    <tr>\n",
       "      <th>14</th>\n",
       "      <td>casa</td>\n",
       "      <td>894</td>\n",
       "      <td>feb</td>\n",
       "      <td>2023</td>\n",
       "    </tr>\n",
       "    <tr>\n",
       "      <th>15</th>\n",
       "      <td>departamento</td>\n",
       "      <td>34</td>\n",
       "      <td>feb</td>\n",
       "      <td>2023</td>\n",
       "    </tr>\n",
       "    <tr>\n",
       "      <th>16</th>\n",
       "      <td>casa</td>\n",
       "      <td>105</td>\n",
       "      <td>jul</td>\n",
       "      <td>2023</td>\n",
       "    </tr>\n",
       "    <tr>\n",
       "      <th>17</th>\n",
       "      <td>departamento</td>\n",
       "      <td>60</td>\n",
       "      <td>jul</td>\n",
       "      <td>2023</td>\n",
       "    </tr>\n",
       "    <tr>\n",
       "      <th>18</th>\n",
       "      <td>casa</td>\n",
       "      <td>1794</td>\n",
       "      <td>jun</td>\n",
       "      <td>2023</td>\n",
       "    </tr>\n",
       "    <tr>\n",
       "      <th>19</th>\n",
       "      <td>departamento</td>\n",
       "      <td>31</td>\n",
       "      <td>jun</td>\n",
       "      <td>2023</td>\n",
       "    </tr>\n",
       "    <tr>\n",
       "      <th>20</th>\n",
       "      <td>casa</td>\n",
       "      <td>1778</td>\n",
       "      <td>mar</td>\n",
       "      <td>2023</td>\n",
       "    </tr>\n",
       "    <tr>\n",
       "      <th>21</th>\n",
       "      <td>casa</td>\n",
       "      <td>1834</td>\n",
       "      <td>nov</td>\n",
       "      <td>2022</td>\n",
       "    </tr>\n",
       "    <tr>\n",
       "      <th>22</th>\n",
       "      <td>departamento</td>\n",
       "      <td>93</td>\n",
       "      <td>nov</td>\n",
       "      <td>2022</td>\n",
       "    </tr>\n",
       "    <tr>\n",
       "      <th>23</th>\n",
       "      <td>casa</td>\n",
       "      <td>1594</td>\n",
       "      <td>oct</td>\n",
       "      <td>2022</td>\n",
       "    </tr>\n",
       "    <tr>\n",
       "      <th>24</th>\n",
       "      <td>departamento</td>\n",
       "      <td>88</td>\n",
       "      <td>oct</td>\n",
       "      <td>2022</td>\n",
       "    </tr>\n",
       "    <tr>\n",
       "      <th>25</th>\n",
       "      <td>casa</td>\n",
       "      <td>1495</td>\n",
       "      <td>sep</td>\n",
       "      <td>2023</td>\n",
       "    </tr>\n",
       "    <tr>\n",
       "      <th>26</th>\n",
       "      <td>departamento</td>\n",
       "      <td>108</td>\n",
       "      <td>sep</td>\n",
       "      <td>2023</td>\n",
       "    </tr>\n",
       "  </tbody>\n",
       "</table>\n",
       "</div>"
      ],
      "text/plain": [
       "            tipo conteo      mes   año\n",
       "0           casa   1492    abril  2024\n",
       "1   departamento     55    abril  2024\n",
       "2           casa   1333   agosto  2024\n",
       "3   departamento     73   agosto  2024\n",
       "4           casa   1667  febrero  2024\n",
       "5   departamento    229  febrero  2024\n",
       "6           casa   1700    julio  2024\n",
       "7   departamento     63    julio  2024\n",
       "8           casa   1524    junio  2024\n",
       "9   departamento    101    junio  2024\n",
       "10          casa   1568    marzo  2024\n",
       "11  departamento     39    marzo  2024\n",
       "12          casa   1716     mayo  2024\n",
       "13  departamento     90     mayo  2024\n",
       "14          casa    894      feb  2023\n",
       "15  departamento     34      feb  2023\n",
       "16          casa    105      jul  2023\n",
       "17  departamento     60      jul  2023\n",
       "18          casa   1794      jun  2023\n",
       "19  departamento     31      jun  2023\n",
       "20          casa   1778      mar  2023\n",
       "21          casa   1834      nov  2022\n",
       "22  departamento     93      nov  2022\n",
       "23          casa   1594      oct  2022\n",
       "24  departamento     88      oct  2022\n",
       "25          casa   1495      sep  2023\n",
       "26  departamento    108      sep  2023"
      ]
     },
     "execution_count": 5,
     "metadata": {},
     "output_type": "execute_result"
    }
   ],
   "source": [
    "import re\n",
    "# Función para extraer mes y año del nombre del DataFrame\n",
    "def extraer_mes_y_ano(nombre):\n",
    "    # Extraer mes y año usando expresiones regulares\n",
    "    match = re.search(r'(ene|feb|mar|abr|may|jun|jul|ago|sep|oct|nov|dic|enero|febrero|marzo|abril|mayo|junio|julio|agosto|septiembre|octubre|noviembre|diciembre)_(\\d{4})', nombre)\n",
    "    if match:\n",
    "        mes = match.group(1).lower()\n",
    "        ano = int(match.group(2))\n",
    "        return mes, ano\n",
    "    return None, None\n",
    "\n",
    "# Crear un DataFrame vacío para almacenar los resultados\n",
    "df_resultados = pd.DataFrame(columns=['tipo', 'conteo', 'mes', 'año'])\n",
    "\n",
    "# Iterar sobre los nombres de los DataFrames y asignar las columnas 'mes' y 'año'\n",
    "for nombre_df in nombres_df_filtrados:\n",
    "    df = globals()[nombre_df]\n",
    "     # Cambiar los valores de 'tipo' para que sean 'casa' o 'departamento'\n",
    "    df['tipo'] = df['tipo'].apply(lambda x: 'casa' if 'casa' in x.lower() else 'departamento')\n",
    "    mes, ano = extraer_mes_y_ano(nombre_df)\n",
    "    if mes is not None and ano is not None:\n",
    "        conteo = df['tipo'].value_counts().reset_index()\n",
    "        conteo.columns = ['tipo', 'conteo']\n",
    "        conteo['mes'] = mes\n",
    "        conteo['año'] = ano\n",
    "        # Cambiar los valores de 'tipo' para que sean 'casa' o 'departamento'\n",
    "        #conteo['tipo'] = conteo['tipo'].apply(lambda x: 'casa' if 'casa' in x.lower() else 'departamento')\n",
    "        df_resultados = pd.concat([df_resultados, conteo], ignore_index=True)\n",
    "\n",
    "df_resultados\n"
   ]
  },
  {
   "cell_type": "markdown",
   "metadata": {},
   "source": [
    "PROMEDIO DE AÑOS"
   ]
  },
  {
   "cell_type": "code",
   "execution_count": 6,
   "metadata": {},
   "outputs": [
    {
     "data": {
      "text/html": [
       "<div>\n",
       "<style scoped>\n",
       "    .dataframe tbody tr th:only-of-type {\n",
       "        vertical-align: middle;\n",
       "    }\n",
       "\n",
       "    .dataframe tbody tr th {\n",
       "        vertical-align: top;\n",
       "    }\n",
       "\n",
       "    .dataframe thead th {\n",
       "        text-align: right;\n",
       "    }\n",
       "</style>\n",
       "<table border=\"1\" class=\"dataframe\">\n",
       "  <thead>\n",
       "    <tr style=\"text-align: right;\">\n",
       "      <th></th>\n",
       "      <th>tipo</th>\n",
       "      <th>año</th>\n",
       "      <th>promedio</th>\n",
       "    </tr>\n",
       "  </thead>\n",
       "  <tbody>\n",
       "    <tr>\n",
       "      <th>0</th>\n",
       "      <td>casa</td>\n",
       "      <td>2022</td>\n",
       "      <td>1714.00</td>\n",
       "    </tr>\n",
       "    <tr>\n",
       "      <th>1</th>\n",
       "      <td>casa</td>\n",
       "      <td>2023</td>\n",
       "      <td>1213.20</td>\n",
       "    </tr>\n",
       "    <tr>\n",
       "      <th>2</th>\n",
       "      <td>casa</td>\n",
       "      <td>2024</td>\n",
       "      <td>1571.43</td>\n",
       "    </tr>\n",
       "    <tr>\n",
       "      <th>3</th>\n",
       "      <td>departamento</td>\n",
       "      <td>2022</td>\n",
       "      <td>90.50</td>\n",
       "    </tr>\n",
       "    <tr>\n",
       "      <th>4</th>\n",
       "      <td>departamento</td>\n",
       "      <td>2023</td>\n",
       "      <td>58.25</td>\n",
       "    </tr>\n",
       "    <tr>\n",
       "      <th>5</th>\n",
       "      <td>departamento</td>\n",
       "      <td>2024</td>\n",
       "      <td>92.86</td>\n",
       "    </tr>\n",
       "  </tbody>\n",
       "</table>\n",
       "</div>"
      ],
      "text/plain": [
       "           tipo   año  promedio\n",
       "0          casa  2022   1714.00\n",
       "1          casa  2023   1213.20\n",
       "2          casa  2024   1571.43\n",
       "3  departamento  2022     90.50\n",
       "4  departamento  2023     58.25\n",
       "5  departamento  2024     92.86"
      ]
     },
     "execution_count": 6,
     "metadata": {},
     "output_type": "execute_result"
    }
   ],
   "source": [
    "promedio_resultados = df_resultados.groupby(['tipo','año'])['conteo'].mean().reset_index()\n",
    "promedio_resultados.columns = ['tipo','año','promedio']\n",
    "promedio_resultados['promedio'] = promedio_resultados['promedio'].round(2)\n",
    "promedio_resultados"
   ]
  },
  {
   "cell_type": "markdown",
   "metadata": {},
   "source": [
    "### Predicción hasta 2027, a partir de diferencia porcentual entre 2023 y 2024"
   ]
  },
  {
   "cell_type": "code",
   "execution_count": 7,
   "metadata": {},
   "outputs": [
    {
     "data": {
      "text/html": [
       "<div>\n",
       "<style scoped>\n",
       "    .dataframe tbody tr th:only-of-type {\n",
       "        vertical-align: middle;\n",
       "    }\n",
       "\n",
       "    .dataframe tbody tr th {\n",
       "        vertical-align: top;\n",
       "    }\n",
       "\n",
       "    .dataframe thead th {\n",
       "        text-align: right;\n",
       "    }\n",
       "</style>\n",
       "<table border=\"1\" class=\"dataframe\">\n",
       "  <thead>\n",
       "    <tr style=\"text-align: right;\">\n",
       "      <th></th>\n",
       "      <th>tipo</th>\n",
       "      <th>año</th>\n",
       "      <th>promedio</th>\n",
       "    </tr>\n",
       "  </thead>\n",
       "  <tbody>\n",
       "    <tr>\n",
       "      <th>0</th>\n",
       "      <td>casa</td>\n",
       "      <td>2024</td>\n",
       "      <td>1571.43</td>\n",
       "    </tr>\n",
       "    <tr>\n",
       "      <th>1</th>\n",
       "      <td>departamento</td>\n",
       "      <td>2024</td>\n",
       "      <td>92.86</td>\n",
       "    </tr>\n",
       "    <tr>\n",
       "      <th>2</th>\n",
       "      <td>casa</td>\n",
       "      <td>2025</td>\n",
       "      <td>2035.47</td>\n",
       "    </tr>\n",
       "    <tr>\n",
       "      <th>3</th>\n",
       "      <td>departamento</td>\n",
       "      <td>2025</td>\n",
       "      <td>148.04</td>\n",
       "    </tr>\n",
       "    <tr>\n",
       "      <th>4</th>\n",
       "      <td>casa</td>\n",
       "      <td>2026</td>\n",
       "      <td>2636.54</td>\n",
       "    </tr>\n",
       "    <tr>\n",
       "      <th>5</th>\n",
       "      <td>departamento</td>\n",
       "      <td>2026</td>\n",
       "      <td>236.01</td>\n",
       "    </tr>\n",
       "    <tr>\n",
       "      <th>6</th>\n",
       "      <td>casa</td>\n",
       "      <td>2027</td>\n",
       "      <td>3415.11</td>\n",
       "    </tr>\n",
       "    <tr>\n",
       "      <th>7</th>\n",
       "      <td>departamento</td>\n",
       "      <td>2027</td>\n",
       "      <td>376.25</td>\n",
       "    </tr>\n",
       "  </tbody>\n",
       "</table>\n",
       "</div>"
      ],
      "text/plain": [
       "           tipo   año  promedio\n",
       "0          casa  2024   1571.43\n",
       "1  departamento  2024     92.86\n",
       "2          casa  2025   2035.47\n",
       "3  departamento  2025    148.04\n",
       "4          casa  2026   2636.54\n",
       "5  departamento  2026    236.01\n",
       "6          casa  2027   3415.11\n",
       "7  departamento  2027    376.25"
      ]
     },
     "execution_count": 7,
     "metadata": {},
     "output_type": "execute_result"
    }
   ],
   "source": [
    "promedio_2023 = promedio_resultados[promedio_resultados['año'] == 2023].set_index('tipo')['promedio']\n",
    "promedio_2024 = promedio_resultados[promedio_resultados['año'] == 2024].set_index('tipo')['promedio']\n",
    "diferencia_porcentual = round(((promedio_2024 - promedio_2023) / promedio_2023) * 100, 2)\n",
    "\n",
    "# Proyecciones a los siguientes años, Comenzando con 2024\n",
    "predicciones = pd.DataFrame(index=promedio_2024.index)\n",
    "predicciones[2024] = promedio_2024\n",
    "\n",
    "# Proyectar los siguientes años aplicando la diferencia porcentual acumulativa\n",
    "for año in range(2025, 2028):\n",
    "    # Aplicar el crecimiento porcentual sobre el valor del año anterior\n",
    "    predicciones[año] = round(predicciones[año-1] * (1 + diferencia_porcentual / 100), 2)\n",
    "df_predicciones = pd.DataFrame(predicciones)\n",
    "df_predicciones = df_predicciones.reset_index()\n",
    "predict_pachuca = pd.melt(df_predicciones, id_vars='tipo', var_name='año', value_name='promedio')\n",
    "predict_pachuca"
   ]
  },
  {
   "cell_type": "code",
   "execution_count": 8,
   "metadata": {},
   "outputs": [
    {
     "data": {
      "text/html": [
       "<div>\n",
       "<style scoped>\n",
       "    .dataframe tbody tr th:only-of-type {\n",
       "        vertical-align: middle;\n",
       "    }\n",
       "\n",
       "    .dataframe tbody tr th {\n",
       "        vertical-align: top;\n",
       "    }\n",
       "\n",
       "    .dataframe thead th {\n",
       "        text-align: right;\n",
       "    }\n",
       "</style>\n",
       "<table border=\"1\" class=\"dataframe\">\n",
       "  <thead>\n",
       "    <tr style=\"text-align: right;\">\n",
       "      <th></th>\n",
       "      <th>tipo</th>\n",
       "      <th>año</th>\n",
       "      <th>promedio</th>\n",
       "    </tr>\n",
       "  </thead>\n",
       "  <tbody>\n",
       "    <tr>\n",
       "      <th>0</th>\n",
       "      <td>casa</td>\n",
       "      <td>2022</td>\n",
       "      <td>1714.0</td>\n",
       "    </tr>\n",
       "    <tr>\n",
       "      <th>1</th>\n",
       "      <td>casa</td>\n",
       "      <td>2023</td>\n",
       "      <td>1213.0</td>\n",
       "    </tr>\n",
       "    <tr>\n",
       "      <th>2</th>\n",
       "      <td>casa</td>\n",
       "      <td>2024</td>\n",
       "      <td>1571.0</td>\n",
       "    </tr>\n",
       "    <tr>\n",
       "      <th>3</th>\n",
       "      <td>departamento</td>\n",
       "      <td>2022</td>\n",
       "      <td>90.0</td>\n",
       "    </tr>\n",
       "    <tr>\n",
       "      <th>4</th>\n",
       "      <td>departamento</td>\n",
       "      <td>2023</td>\n",
       "      <td>58.0</td>\n",
       "    </tr>\n",
       "    <tr>\n",
       "      <th>5</th>\n",
       "      <td>departamento</td>\n",
       "      <td>2024</td>\n",
       "      <td>93.0</td>\n",
       "    </tr>\n",
       "    <tr>\n",
       "      <th>6</th>\n",
       "      <td>casa</td>\n",
       "      <td>2024</td>\n",
       "      <td>1571.0</td>\n",
       "    </tr>\n",
       "    <tr>\n",
       "      <th>7</th>\n",
       "      <td>departamento</td>\n",
       "      <td>2024</td>\n",
       "      <td>93.0</td>\n",
       "    </tr>\n",
       "    <tr>\n",
       "      <th>8</th>\n",
       "      <td>casa</td>\n",
       "      <td>2025</td>\n",
       "      <td>2035.0</td>\n",
       "    </tr>\n",
       "    <tr>\n",
       "      <th>9</th>\n",
       "      <td>departamento</td>\n",
       "      <td>2025</td>\n",
       "      <td>148.0</td>\n",
       "    </tr>\n",
       "    <tr>\n",
       "      <th>10</th>\n",
       "      <td>casa</td>\n",
       "      <td>2026</td>\n",
       "      <td>2637.0</td>\n",
       "    </tr>\n",
       "    <tr>\n",
       "      <th>11</th>\n",
       "      <td>departamento</td>\n",
       "      <td>2026</td>\n",
       "      <td>236.0</td>\n",
       "    </tr>\n",
       "    <tr>\n",
       "      <th>12</th>\n",
       "      <td>casa</td>\n",
       "      <td>2027</td>\n",
       "      <td>3415.0</td>\n",
       "    </tr>\n",
       "    <tr>\n",
       "      <th>13</th>\n",
       "      <td>departamento</td>\n",
       "      <td>2027</td>\n",
       "      <td>376.0</td>\n",
       "    </tr>\n",
       "  </tbody>\n",
       "</table>\n",
       "</div>"
      ],
      "text/plain": [
       "            tipo   año  promedio\n",
       "0           casa  2022    1714.0\n",
       "1           casa  2023    1213.0\n",
       "2           casa  2024    1571.0\n",
       "3   departamento  2022      90.0\n",
       "4   departamento  2023      58.0\n",
       "5   departamento  2024      93.0\n",
       "6           casa  2024    1571.0\n",
       "7   departamento  2024      93.0\n",
       "8           casa  2025    2035.0\n",
       "9   departamento  2025     148.0\n",
       "10          casa  2026    2637.0\n",
       "11  departamento  2026     236.0\n",
       "12          casa  2027    3415.0\n",
       "13  departamento  2027     376.0"
      ]
     },
     "execution_count": 8,
     "metadata": {},
     "output_type": "execute_result"
    }
   ],
   "source": [
    "df_concatenado = pd.concat([promedio_resultados, predict_pachuca], ignore_index=True)\n",
    "df_concatenado['promedio'] = df_concatenado['promedio'].round()\n",
    "df_concatenado"
   ]
  },
  {
   "cell_type": "code",
   "execution_count": 9,
   "metadata": {},
   "outputs": [
    {
     "data": {
      "application/vnd.plotly.v1+json": {
       "config": {
        "plotlyServerURL": "https://plot.ly"
       },
       "data": [
        {
         "mode": "markers+lines",
         "name": "casa",
         "type": "scatter",
         "x": [
          2022,
          2023,
          2024,
          2024,
          2025,
          2026,
          2027
         ],
         "y": [
          1714,
          1213,
          1571,
          1571,
          2035,
          2637,
          3415
         ]
        },
        {
         "mode": "markers+lines",
         "name": "departamento",
         "type": "scatter",
         "x": [
          2022,
          2023,
          2024,
          2024,
          2025,
          2026,
          2027
         ],
         "y": [
          90,
          58,
          93,
          93,
          148,
          236,
          376
         ]
        }
       ],
       "layout": {
        "annotations": [
         {
          "font": {
           "color": "black",
           "size": 10
          },
          "showarrow": false,
          "text": "1714.0",
          "x": 2022,
          "y": 1714,
          "yshift": 10
         },
         {
          "font": {
           "color": "black",
           "size": 10
          },
          "showarrow": false,
          "text": "1213.0",
          "x": 2023,
          "y": 1213,
          "yshift": 10
         },
         {
          "font": {
           "color": "black",
           "size": 10
          },
          "showarrow": false,
          "text": "1571.0",
          "x": 2024,
          "y": 1571,
          "yshift": 10
         },
         {
          "font": {
           "color": "black",
           "size": 10
          },
          "showarrow": false,
          "text": "1571.0",
          "x": 2024,
          "y": 1571,
          "yshift": 10
         },
         {
          "font": {
           "color": "black",
           "size": 10
          },
          "showarrow": false,
          "text": "2035.0",
          "x": 2025,
          "y": 2035,
          "yshift": 10
         },
         {
          "font": {
           "color": "black",
           "size": 10
          },
          "showarrow": false,
          "text": "2637.0",
          "x": 2026,
          "y": 2637,
          "yshift": 10
         },
         {
          "font": {
           "color": "black",
           "size": 10
          },
          "showarrow": false,
          "text": "3415.0",
          "x": 2027,
          "y": 3415,
          "yshift": 10
         },
         {
          "font": {
           "color": "black",
           "size": 10
          },
          "showarrow": false,
          "text": "90.0",
          "x": 2022,
          "y": 90,
          "yshift": 10
         },
         {
          "font": {
           "color": "black",
           "size": 10
          },
          "showarrow": false,
          "text": "58.0",
          "x": 2023,
          "y": 58,
          "yshift": 10
         },
         {
          "font": {
           "color": "black",
           "size": 10
          },
          "showarrow": false,
          "text": "93.0",
          "x": 2024,
          "y": 93,
          "yshift": 10
         },
         {
          "font": {
           "color": "black",
           "size": 10
          },
          "showarrow": false,
          "text": "93.0",
          "x": 2024,
          "y": 93,
          "yshift": 10
         },
         {
          "font": {
           "color": "black",
           "size": 10
          },
          "showarrow": false,
          "text": "148.0",
          "x": 2025,
          "y": 148,
          "yshift": 10
         },
         {
          "font": {
           "color": "black",
           "size": 10
          },
          "showarrow": false,
          "text": "236.0",
          "x": 2026,
          "y": 236,
          "yshift": 10
         },
         {
          "font": {
           "color": "black",
           "size": 10
          },
          "showarrow": false,
          "text": "376.0",
          "x": 2027,
          "y": 376,
          "yshift": 10
         }
        ],
        "plot_bgcolor": "rgba(0,0,0,0)",
        "template": {
         "data": {
          "bar": [
           {
            "error_x": {
             "color": "#2a3f5f"
            },
            "error_y": {
             "color": "#2a3f5f"
            },
            "marker": {
             "line": {
              "color": "#E5ECF6",
              "width": 0.5
             },
             "pattern": {
              "fillmode": "overlay",
              "size": 10,
              "solidity": 0.2
             }
            },
            "type": "bar"
           }
          ],
          "barpolar": [
           {
            "marker": {
             "line": {
              "color": "#E5ECF6",
              "width": 0.5
             },
             "pattern": {
              "fillmode": "overlay",
              "size": 10,
              "solidity": 0.2
             }
            },
            "type": "barpolar"
           }
          ],
          "carpet": [
           {
            "aaxis": {
             "endlinecolor": "#2a3f5f",
             "gridcolor": "white",
             "linecolor": "white",
             "minorgridcolor": "white",
             "startlinecolor": "#2a3f5f"
            },
            "baxis": {
             "endlinecolor": "#2a3f5f",
             "gridcolor": "white",
             "linecolor": "white",
             "minorgridcolor": "white",
             "startlinecolor": "#2a3f5f"
            },
            "type": "carpet"
           }
          ],
          "choropleth": [
           {
            "colorbar": {
             "outlinewidth": 0,
             "ticks": ""
            },
            "type": "choropleth"
           }
          ],
          "contour": [
           {
            "colorbar": {
             "outlinewidth": 0,
             "ticks": ""
            },
            "colorscale": [
             [
              0,
              "#0d0887"
             ],
             [
              0.1111111111111111,
              "#46039f"
             ],
             [
              0.2222222222222222,
              "#7201a8"
             ],
             [
              0.3333333333333333,
              "#9c179e"
             ],
             [
              0.4444444444444444,
              "#bd3786"
             ],
             [
              0.5555555555555556,
              "#d8576b"
             ],
             [
              0.6666666666666666,
              "#ed7953"
             ],
             [
              0.7777777777777778,
              "#fb9f3a"
             ],
             [
              0.8888888888888888,
              "#fdca26"
             ],
             [
              1,
              "#f0f921"
             ]
            ],
            "type": "contour"
           }
          ],
          "contourcarpet": [
           {
            "colorbar": {
             "outlinewidth": 0,
             "ticks": ""
            },
            "type": "contourcarpet"
           }
          ],
          "heatmap": [
           {
            "colorbar": {
             "outlinewidth": 0,
             "ticks": ""
            },
            "colorscale": [
             [
              0,
              "#0d0887"
             ],
             [
              0.1111111111111111,
              "#46039f"
             ],
             [
              0.2222222222222222,
              "#7201a8"
             ],
             [
              0.3333333333333333,
              "#9c179e"
             ],
             [
              0.4444444444444444,
              "#bd3786"
             ],
             [
              0.5555555555555556,
              "#d8576b"
             ],
             [
              0.6666666666666666,
              "#ed7953"
             ],
             [
              0.7777777777777778,
              "#fb9f3a"
             ],
             [
              0.8888888888888888,
              "#fdca26"
             ],
             [
              1,
              "#f0f921"
             ]
            ],
            "type": "heatmap"
           }
          ],
          "heatmapgl": [
           {
            "colorbar": {
             "outlinewidth": 0,
             "ticks": ""
            },
            "colorscale": [
             [
              0,
              "#0d0887"
             ],
             [
              0.1111111111111111,
              "#46039f"
             ],
             [
              0.2222222222222222,
              "#7201a8"
             ],
             [
              0.3333333333333333,
              "#9c179e"
             ],
             [
              0.4444444444444444,
              "#bd3786"
             ],
             [
              0.5555555555555556,
              "#d8576b"
             ],
             [
              0.6666666666666666,
              "#ed7953"
             ],
             [
              0.7777777777777778,
              "#fb9f3a"
             ],
             [
              0.8888888888888888,
              "#fdca26"
             ],
             [
              1,
              "#f0f921"
             ]
            ],
            "type": "heatmapgl"
           }
          ],
          "histogram": [
           {
            "marker": {
             "pattern": {
              "fillmode": "overlay",
              "size": 10,
              "solidity": 0.2
             }
            },
            "type": "histogram"
           }
          ],
          "histogram2d": [
           {
            "colorbar": {
             "outlinewidth": 0,
             "ticks": ""
            },
            "colorscale": [
             [
              0,
              "#0d0887"
             ],
             [
              0.1111111111111111,
              "#46039f"
             ],
             [
              0.2222222222222222,
              "#7201a8"
             ],
             [
              0.3333333333333333,
              "#9c179e"
             ],
             [
              0.4444444444444444,
              "#bd3786"
             ],
             [
              0.5555555555555556,
              "#d8576b"
             ],
             [
              0.6666666666666666,
              "#ed7953"
             ],
             [
              0.7777777777777778,
              "#fb9f3a"
             ],
             [
              0.8888888888888888,
              "#fdca26"
             ],
             [
              1,
              "#f0f921"
             ]
            ],
            "type": "histogram2d"
           }
          ],
          "histogram2dcontour": [
           {
            "colorbar": {
             "outlinewidth": 0,
             "ticks": ""
            },
            "colorscale": [
             [
              0,
              "#0d0887"
             ],
             [
              0.1111111111111111,
              "#46039f"
             ],
             [
              0.2222222222222222,
              "#7201a8"
             ],
             [
              0.3333333333333333,
              "#9c179e"
             ],
             [
              0.4444444444444444,
              "#bd3786"
             ],
             [
              0.5555555555555556,
              "#d8576b"
             ],
             [
              0.6666666666666666,
              "#ed7953"
             ],
             [
              0.7777777777777778,
              "#fb9f3a"
             ],
             [
              0.8888888888888888,
              "#fdca26"
             ],
             [
              1,
              "#f0f921"
             ]
            ],
            "type": "histogram2dcontour"
           }
          ],
          "mesh3d": [
           {
            "colorbar": {
             "outlinewidth": 0,
             "ticks": ""
            },
            "type": "mesh3d"
           }
          ],
          "parcoords": [
           {
            "line": {
             "colorbar": {
              "outlinewidth": 0,
              "ticks": ""
             }
            },
            "type": "parcoords"
           }
          ],
          "pie": [
           {
            "automargin": true,
            "type": "pie"
           }
          ],
          "scatter": [
           {
            "fillpattern": {
             "fillmode": "overlay",
             "size": 10,
             "solidity": 0.2
            },
            "type": "scatter"
           }
          ],
          "scatter3d": [
           {
            "line": {
             "colorbar": {
              "outlinewidth": 0,
              "ticks": ""
             }
            },
            "marker": {
             "colorbar": {
              "outlinewidth": 0,
              "ticks": ""
             }
            },
            "type": "scatter3d"
           }
          ],
          "scattercarpet": [
           {
            "marker": {
             "colorbar": {
              "outlinewidth": 0,
              "ticks": ""
             }
            },
            "type": "scattercarpet"
           }
          ],
          "scattergeo": [
           {
            "marker": {
             "colorbar": {
              "outlinewidth": 0,
              "ticks": ""
             }
            },
            "type": "scattergeo"
           }
          ],
          "scattergl": [
           {
            "marker": {
             "colorbar": {
              "outlinewidth": 0,
              "ticks": ""
             }
            },
            "type": "scattergl"
           }
          ],
          "scattermapbox": [
           {
            "marker": {
             "colorbar": {
              "outlinewidth": 0,
              "ticks": ""
             }
            },
            "type": "scattermapbox"
           }
          ],
          "scatterpolar": [
           {
            "marker": {
             "colorbar": {
              "outlinewidth": 0,
              "ticks": ""
             }
            },
            "type": "scatterpolar"
           }
          ],
          "scatterpolargl": [
           {
            "marker": {
             "colorbar": {
              "outlinewidth": 0,
              "ticks": ""
             }
            },
            "type": "scatterpolargl"
           }
          ],
          "scatterternary": [
           {
            "marker": {
             "colorbar": {
              "outlinewidth": 0,
              "ticks": ""
             }
            },
            "type": "scatterternary"
           }
          ],
          "surface": [
           {
            "colorbar": {
             "outlinewidth": 0,
             "ticks": ""
            },
            "colorscale": [
             [
              0,
              "#0d0887"
             ],
             [
              0.1111111111111111,
              "#46039f"
             ],
             [
              0.2222222222222222,
              "#7201a8"
             ],
             [
              0.3333333333333333,
              "#9c179e"
             ],
             [
              0.4444444444444444,
              "#bd3786"
             ],
             [
              0.5555555555555556,
              "#d8576b"
             ],
             [
              0.6666666666666666,
              "#ed7953"
             ],
             [
              0.7777777777777778,
              "#fb9f3a"
             ],
             [
              0.8888888888888888,
              "#fdca26"
             ],
             [
              1,
              "#f0f921"
             ]
            ],
            "type": "surface"
           }
          ],
          "table": [
           {
            "cells": {
             "fill": {
              "color": "#EBF0F8"
             },
             "line": {
              "color": "white"
             }
            },
            "header": {
             "fill": {
              "color": "#C8D4E3"
             },
             "line": {
              "color": "white"
             }
            },
            "type": "table"
           }
          ]
         },
         "layout": {
          "annotationdefaults": {
           "arrowcolor": "#2a3f5f",
           "arrowhead": 0,
           "arrowwidth": 1
          },
          "autotypenumbers": "strict",
          "coloraxis": {
           "colorbar": {
            "outlinewidth": 0,
            "ticks": ""
           }
          },
          "colorscale": {
           "diverging": [
            [
             0,
             "#8e0152"
            ],
            [
             0.1,
             "#c51b7d"
            ],
            [
             0.2,
             "#de77ae"
            ],
            [
             0.3,
             "#f1b6da"
            ],
            [
             0.4,
             "#fde0ef"
            ],
            [
             0.5,
             "#f7f7f7"
            ],
            [
             0.6,
             "#e6f5d0"
            ],
            [
             0.7,
             "#b8e186"
            ],
            [
             0.8,
             "#7fbc41"
            ],
            [
             0.9,
             "#4d9221"
            ],
            [
             1,
             "#276419"
            ]
           ],
           "sequential": [
            [
             0,
             "#0d0887"
            ],
            [
             0.1111111111111111,
             "#46039f"
            ],
            [
             0.2222222222222222,
             "#7201a8"
            ],
            [
             0.3333333333333333,
             "#9c179e"
            ],
            [
             0.4444444444444444,
             "#bd3786"
            ],
            [
             0.5555555555555556,
             "#d8576b"
            ],
            [
             0.6666666666666666,
             "#ed7953"
            ],
            [
             0.7777777777777778,
             "#fb9f3a"
            ],
            [
             0.8888888888888888,
             "#fdca26"
            ],
            [
             1,
             "#f0f921"
            ]
           ],
           "sequentialminus": [
            [
             0,
             "#0d0887"
            ],
            [
             0.1111111111111111,
             "#46039f"
            ],
            [
             0.2222222222222222,
             "#7201a8"
            ],
            [
             0.3333333333333333,
             "#9c179e"
            ],
            [
             0.4444444444444444,
             "#bd3786"
            ],
            [
             0.5555555555555556,
             "#d8576b"
            ],
            [
             0.6666666666666666,
             "#ed7953"
            ],
            [
             0.7777777777777778,
             "#fb9f3a"
            ],
            [
             0.8888888888888888,
             "#fdca26"
            ],
            [
             1,
             "#f0f921"
            ]
           ]
          },
          "colorway": [
           "#636efa",
           "#EF553B",
           "#00cc96",
           "#ab63fa",
           "#FFA15A",
           "#19d3f3",
           "#FF6692",
           "#B6E880",
           "#FF97FF",
           "#FECB52"
          ],
          "font": {
           "color": "#2a3f5f"
          },
          "geo": {
           "bgcolor": "white",
           "lakecolor": "white",
           "landcolor": "#E5ECF6",
           "showlakes": true,
           "showland": true,
           "subunitcolor": "white"
          },
          "hoverlabel": {
           "align": "left"
          },
          "hovermode": "closest",
          "mapbox": {
           "style": "light"
          },
          "paper_bgcolor": "white",
          "plot_bgcolor": "#E5ECF6",
          "polar": {
           "angularaxis": {
            "gridcolor": "white",
            "linecolor": "white",
            "ticks": ""
           },
           "bgcolor": "#E5ECF6",
           "radialaxis": {
            "gridcolor": "white",
            "linecolor": "white",
            "ticks": ""
           }
          },
          "scene": {
           "xaxis": {
            "backgroundcolor": "#E5ECF6",
            "gridcolor": "white",
            "gridwidth": 2,
            "linecolor": "white",
            "showbackground": true,
            "ticks": "",
            "zerolinecolor": "white"
           },
           "yaxis": {
            "backgroundcolor": "#E5ECF6",
            "gridcolor": "white",
            "gridwidth": 2,
            "linecolor": "white",
            "showbackground": true,
            "ticks": "",
            "zerolinecolor": "white"
           },
           "zaxis": {
            "backgroundcolor": "#E5ECF6",
            "gridcolor": "white",
            "gridwidth": 2,
            "linecolor": "white",
            "showbackground": true,
            "ticks": "",
            "zerolinecolor": "white"
           }
          },
          "shapedefaults": {
           "line": {
            "color": "#2a3f5f"
           }
          },
          "ternary": {
           "aaxis": {
            "gridcolor": "white",
            "linecolor": "white",
            "ticks": ""
           },
           "baxis": {
            "gridcolor": "white",
            "linecolor": "white",
            "ticks": ""
           },
           "bgcolor": "#E5ECF6",
           "caxis": {
            "gridcolor": "white",
            "linecolor": "white",
            "ticks": ""
           }
          },
          "title": {
           "x": 0.05
          },
          "xaxis": {
           "automargin": true,
           "gridcolor": "white",
           "linecolor": "white",
           "ticks": "",
           "title": {
            "standoff": 15
           },
           "zerolinecolor": "white",
           "zerolinewidth": 2
          },
          "yaxis": {
           "automargin": true,
           "gridcolor": "white",
           "linecolor": "white",
           "ticks": "",
           "title": {
            "standoff": 15
           },
           "zerolinecolor": "white",
           "zerolinewidth": 2
          }
         }
        },
        "title": {
         "text": "Proyección demanda casas/departamentos"
        },
        "xaxis": {
         "ticktext": [
          2022,
          2023,
          2024,
          2022,
          2023,
          2024,
          2024,
          2024,
          2025,
          2025,
          2026,
          2026,
          2027,
          2027
         ],
         "tickvals": [
          2022,
          2023,
          2024,
          2022,
          2023,
          2024,
          2024,
          2024,
          2025,
          2025,
          2026,
          2026,
          2027,
          2027
         ],
         "title": {
          "text": "Año"
         }
        },
        "yaxis": {
         "gridcolor": "#dddcda"
        }
       }
      }
     },
     "metadata": {},
     "output_type": "display_data"
    }
   ],
   "source": [
    "# Datos\n",
    "años = df_concatenado['año']\n",
    "tipos = df_concatenado['tipo']\n",
    "promedios = df_concatenado['promedio']\n",
    "\n",
    "fig = go.Figure()\n",
    "# Agregar líneas para cada tipo\n",
    "for tipo in tipos.unique():\n",
    "    df_tipo = df_concatenado[df_concatenado['tipo'] == tipo]\n",
    "    fig.add_trace(go.Scatter(\n",
    "        x=df_tipo['año'],\n",
    "        y=df_tipo['promedio'],\n",
    "        mode='markers+lines',\n",
    "        name=tipo\n",
    "    ))\n",
    "\n",
    "fig.update_layout(\n",
    "    title='Proyección demanda casas/departamentos',\n",
    "    yaxis=dict(gridcolor='#dddcda'),\n",
    "    plot_bgcolor='rgba(0,0,0,0)',  # Color de fondo del gráfico\n",
    ")\n",
    "# Modificar las etiquetas del eje x\n",
    "fig.update_xaxes(\n",
    "    tickvals=años,  # Establecer las posiciones de las marcas del eje x\n",
    "    ticktext=años,  # Establecer las etiquetas del eje x\n",
    "    title='Año'\n",
    ")\n",
    "# Agregar etiquetas de texto a los puntos\n",
    "for trace in fig.data:\n",
    "    df_tipo = df_concatenado[df_concatenado['tipo'] == trace.name]\n",
    "    for i, point in enumerate(trace.y):\n",
    "        fig.add_annotation(\n",
    "            x=trace.x[i], \n",
    "            y=point, \n",
    "            text=f'{df_tipo.iloc[i][\"promedio\"]}', \n",
    "            showarrow=False,\n",
    "            font=dict(color='black', size=10),\n",
    "            yshift=10\n",
    "        )\n",
    "\n",
    "# Exportar gráfica como archivo HTML\n",
    "#def guardar_grafico_como_html(fig, nombre_archivo, carpeta='graficas'):\n",
    "    # Crear la carpeta si no existe\n",
    "   # if not os.path.exists(carpeta):\n",
    "  #      os.makedirs(carpeta)\n",
    "    # Gráfica como archivo HTML en la carpeta especificada\n",
    " #   pio.write_html(fig, f'{carpeta}/{nombre_archivo}.html')\n",
    "#guardar_grafico_como_html(fig, 'g_scatt_casasdepart_proyecdemanda_pachuca', carpeta='graficas')\n",
    "\n",
    "fig.show()\n"
   ]
  },
  {
   "cell_type": "markdown",
   "metadata": {},
   "source": [
    "## *Proyeccion anual oferta casas/departamentos*"
   ]
  },
  {
   "cell_type": "code",
   "execution_count": 10,
   "metadata": {},
   "outputs": [],
   "source": [
    "#proyeccion_anual_pachuca = []\n",
    "#\n",
    "#for tipo in df_concatenado['tipo'].unique():\n",
    "#    for año in df_concatenado[df_concatenado['tipo'] == tipo]['año'].unique():\n",
    "#        if año > min(df_concatenado['año']):\n",
    "#            promedio_actual = df_concatenado[(df_concatenado['tipo'] == tipo) & (df_concatenado['año'] == año)]['promedio'].values[0]\n",
    "#            promedio_anterior = df_concatenado[(df_concatenado['tipo'] == tipo) & (df_concatenado['año'] == año - 1)]['promedio'].values[0]\n",
    "#            proyeccion = ((promedio_actual - promedio_anterior) / promedio_anterior) * 100\n",
    "#            proyeccion_anual_pachuca.append([tipo, año, proyeccion])\n",
    "#df_proyeccion_anual_pachuca = pd.DataFrame(proyeccion_anual_pachuca, columns=['tipo', 'año', 'proyeccion'])\n",
    "#df_proyeccion_anual_pachuca['proyeccion'] = df_proyeccion_anual_pachuca['proyeccion'].round(2)\n",
    "#df_proyeccion_anual_pachuca"
   ]
  },
  {
   "cell_type": "code",
   "execution_count": 11,
   "metadata": {},
   "outputs": [
    {
     "data": {
      "text/html": [
       "<div>\n",
       "<style scoped>\n",
       "    .dataframe tbody tr th:only-of-type {\n",
       "        vertical-align: middle;\n",
       "    }\n",
       "\n",
       "    .dataframe tbody tr th {\n",
       "        vertical-align: top;\n",
       "    }\n",
       "\n",
       "    .dataframe thead th {\n",
       "        text-align: right;\n",
       "    }\n",
       "</style>\n",
       "<table border=\"1\" class=\"dataframe\">\n",
       "  <thead>\n",
       "    <tr style=\"text-align: right;\">\n",
       "      <th></th>\n",
       "      <th>tipo</th>\n",
       "      <th>año</th>\n",
       "      <th>proyeccion</th>\n",
       "    </tr>\n",
       "  </thead>\n",
       "  <tbody>\n",
       "    <tr>\n",
       "      <th>0</th>\n",
       "      <td>casa</td>\n",
       "      <td>2023</td>\n",
       "      <td>-292.3</td>\n",
       "    </tr>\n",
       "    <tr>\n",
       "      <th>1</th>\n",
       "      <td>casa</td>\n",
       "      <td>2024</td>\n",
       "      <td>295.1</td>\n",
       "    </tr>\n",
       "    <tr>\n",
       "      <th>2</th>\n",
       "      <td>casa</td>\n",
       "      <td>2025</td>\n",
       "      <td>295.4</td>\n",
       "    </tr>\n",
       "    <tr>\n",
       "      <th>3</th>\n",
       "      <td>casa</td>\n",
       "      <td>2026</td>\n",
       "      <td>295.8</td>\n",
       "    </tr>\n",
       "    <tr>\n",
       "      <th>4</th>\n",
       "      <td>casa</td>\n",
       "      <td>2027</td>\n",
       "      <td>295.0</td>\n",
       "    </tr>\n",
       "    <tr>\n",
       "      <th>5</th>\n",
       "      <td>departamento</td>\n",
       "      <td>2023</td>\n",
       "      <td>-355.6</td>\n",
       "    </tr>\n",
       "    <tr>\n",
       "      <th>6</th>\n",
       "      <td>departamento</td>\n",
       "      <td>2024</td>\n",
       "      <td>603.4</td>\n",
       "    </tr>\n",
       "    <tr>\n",
       "      <th>7</th>\n",
       "      <td>departamento</td>\n",
       "      <td>2025</td>\n",
       "      <td>591.4</td>\n",
       "    </tr>\n",
       "    <tr>\n",
       "      <th>8</th>\n",
       "      <td>departamento</td>\n",
       "      <td>2026</td>\n",
       "      <td>594.6</td>\n",
       "    </tr>\n",
       "    <tr>\n",
       "      <th>9</th>\n",
       "      <td>departamento</td>\n",
       "      <td>2027</td>\n",
       "      <td>593.2</td>\n",
       "    </tr>\n",
       "  </tbody>\n",
       "</table>\n",
       "</div>"
      ],
      "text/plain": [
       "           tipo   año  proyeccion\n",
       "0          casa  2023      -292.3\n",
       "1          casa  2024       295.1\n",
       "2          casa  2025       295.4\n",
       "3          casa  2026       295.8\n",
       "4          casa  2027       295.0\n",
       "5  departamento  2023      -355.6\n",
       "6  departamento  2024       603.4\n",
       "7  departamento  2025       591.4\n",
       "8  departamento  2026       594.6\n",
       "9  departamento  2027       593.2"
      ]
     },
     "execution_count": 11,
     "metadata": {},
     "output_type": "execute_result"
    }
   ],
   "source": [
    "proyeccion_anual_pachuca = []\n",
    "\n",
    "for tipo in df_concatenado['tipo'].unique():\n",
    "    for año in df_concatenado[df_concatenado['tipo'] == tipo]['año'].unique():\n",
    "        if año > min(df_concatenado['año']):\n",
    "            promedio_actual = df_concatenado[(df_concatenado['tipo'] == tipo) & (df_concatenado['año'] == año)]['promedio'].values[0]\n",
    "            promedio_anterior = df_concatenado[(df_concatenado['tipo'] == tipo) & (df_concatenado['año'] == año - 1)]['promedio'].values[0]\n",
    "            proyeccion = ((promedio_actual - promedio_anterior) / promedio_anterior) * 100\n",
    "            proyeccion_anual_pachuca.append([tipo, año, proyeccion])\n",
    "df_proyeccion_anual_pachuca = pd.DataFrame(proyeccion_anual_pachuca, columns=['tipo', 'año', 'proyeccion'])\n",
    "df_proyeccion_anual_pachuca['proyeccion'] = df_proyeccion_anual_pachuca['proyeccion'].round(2)\n",
    "df_proyeccion_anual_pachuca['proyeccion'] = df_proyeccion_anual_pachuca['proyeccion'].apply(lambda x: x * 10)\n",
    "#df_proyeccion_anual_pachuca['proyeccion'] = df_proyeccion_anual_pachuca['proyeccion'].apply(lambda x: round(x, 2))\n",
    "df_proyeccion_anual_pachuca['proyeccion'] = df_proyeccion_anual_pachuca['proyeccion'].round(2)\n",
    "\n",
    "df_proyeccion_anual_pachuca"
   ]
  },
  {
   "cell_type": "code",
   "execution_count": 12,
   "metadata": {},
   "outputs": [],
   "source": [
    "años = df_proyeccion_anual_pachuca['año']\n",
    "tipos = df_proyeccion_anual_pachuca['tipo']\n",
    "proyecciones = df_proyeccion_anual_pachuca['proyeccion']\n",
    "\n",
    "fig = go.Figure()\n",
    "# Agregar líneas para cada tipo\n",
    "for tipo in tipos.unique():\n",
    "    df_tipo = df_proyeccion_anual_pachuca[df_proyeccion_anual_pachuca['tipo'] == tipo]\n",
    "    fig.add_trace(go.Scatter(\n",
    "        x=df_tipo['año'],\n",
    "        y=df_tipo['proyeccion'],\n",
    "        mode='markers+lines',\n",
    "        name=tipo\n",
    "    ))\n",
    "fig.update_layout(\n",
    "    title='Proyeccion anual oferta casas/departamentos',\n",
    "    yaxis=dict(gridcolor='#dddcda'),\n",
    "    plot_bgcolor='rgba(0,0,0,0)',  # Color de fondo del gráfico\n",
    ")\n",
    "# Modificar las etiquetas del eje x\n",
    "fig.update_xaxes(\n",
    "    tickvals=años,  # Establecer las posiciones de las marcas del eje x\n",
    "    ticktext=años,  # Establecer las etiquetas del eje x\n",
    "    title='Año'\n",
    ")\n",
    "# Formatear las proyecciones como porcentaje con dos decimales y comas para leer las cantidades como 100,00.00\n",
    "#fig.update_yaxes(tickformat=\".2%,\")\n",
    "fig.update_yaxes(tickformat=\".2f\", title='Proyección')\n",
    "\n",
    "\n",
    "# Agregar etiquetas de texto a los puntos\n",
    "for trace in fig.data:\n",
    "    df_tipo = df_proyeccion_anual_pachuca[df_proyeccion_anual_pachuca['tipo'] == trace.name]\n",
    "    for i, point in enumerate(trace.y):\n",
    "        fig.add_annotation(\n",
    "            x=trace.x[i], \n",
    "            y=point, \n",
    "            text=f'{point:.2%}', \n",
    "            showarrow=False,\n",
    "            font=dict(color='black', size=10),\n",
    "            yshift=10\n",
    "        )\n",
    "\n",
    "#fig.show()"
   ]
  },
  {
   "cell_type": "code",
   "execution_count": 14,
   "metadata": {},
   "outputs": [
    {
     "data": {
      "application/vnd.plotly.v1+json": {
       "config": {
        "plotlyServerURL": "https://plot.ly"
       },
       "data": [
        {
         "mode": "markers+lines",
         "name": "casa",
         "type": "scatter",
         "x": [
          2023,
          2024,
          2025,
          2026,
          2027
         ],
         "y": [
          -292.3,
          295.1,
          295.4,
          295.8,
          295
         ]
        },
        {
         "mode": "markers+lines",
         "name": "departamento",
         "type": "scatter",
         "x": [
          2023,
          2024,
          2025,
          2026,
          2027
         ],
         "y": [
          -355.6,
          603.4,
          591.4,
          594.6,
          593.2
         ]
        }
       ],
       "layout": {
        "annotations": [
         {
          "font": {
           "color": "black",
           "size": 10
          },
          "showarrow": false,
          "text": "-292.30%",
          "x": 2023,
          "y": -292.3,
          "yshift": 10
         },
         {
          "font": {
           "color": "black",
           "size": 10
          },
          "showarrow": false,
          "text": "295.10%",
          "x": 2024,
          "y": 295.1,
          "yshift": 10
         },
         {
          "font": {
           "color": "black",
           "size": 10
          },
          "showarrow": false,
          "text": "295.40%",
          "x": 2025,
          "y": 295.4,
          "yshift": 10
         },
         {
          "font": {
           "color": "black",
           "size": 10
          },
          "showarrow": false,
          "text": "295.80%",
          "x": 2026,
          "y": 295.8,
          "yshift": 10
         },
         {
          "font": {
           "color": "black",
           "size": 10
          },
          "showarrow": false,
          "text": "295.00%",
          "x": 2027,
          "y": 295,
          "yshift": 10
         },
         {
          "font": {
           "color": "black",
           "size": 10
          },
          "showarrow": false,
          "text": "-355.60%",
          "x": 2023,
          "y": -355.6,
          "yshift": 10
         },
         {
          "font": {
           "color": "black",
           "size": 10
          },
          "showarrow": false,
          "text": "603.40%",
          "x": 2024,
          "y": 603.4,
          "yshift": 10
         },
         {
          "font": {
           "color": "black",
           "size": 10
          },
          "showarrow": false,
          "text": "591.40%",
          "x": 2025,
          "y": 591.4,
          "yshift": 10
         },
         {
          "font": {
           "color": "black",
           "size": 10
          },
          "showarrow": false,
          "text": "594.60%",
          "x": 2026,
          "y": 594.6,
          "yshift": 10
         },
         {
          "font": {
           "color": "black",
           "size": 10
          },
          "showarrow": false,
          "text": "593.20%",
          "x": 2027,
          "y": 593.2,
          "yshift": 10
         }
        ],
        "margin": {
         "b": 10,
         "l": 10,
         "r": 10,
         "t": 10
        },
        "plot_bgcolor": "rgba(0,0,0,0)",
        "template": {
         "data": {
          "bar": [
           {
            "error_x": {
             "color": "#2a3f5f"
            },
            "error_y": {
             "color": "#2a3f5f"
            },
            "marker": {
             "line": {
              "color": "#E5ECF6",
              "width": 0.5
             },
             "pattern": {
              "fillmode": "overlay",
              "size": 10,
              "solidity": 0.2
             }
            },
            "type": "bar"
           }
          ],
          "barpolar": [
           {
            "marker": {
             "line": {
              "color": "#E5ECF6",
              "width": 0.5
             },
             "pattern": {
              "fillmode": "overlay",
              "size": 10,
              "solidity": 0.2
             }
            },
            "type": "barpolar"
           }
          ],
          "carpet": [
           {
            "aaxis": {
             "endlinecolor": "#2a3f5f",
             "gridcolor": "white",
             "linecolor": "white",
             "minorgridcolor": "white",
             "startlinecolor": "#2a3f5f"
            },
            "baxis": {
             "endlinecolor": "#2a3f5f",
             "gridcolor": "white",
             "linecolor": "white",
             "minorgridcolor": "white",
             "startlinecolor": "#2a3f5f"
            },
            "type": "carpet"
           }
          ],
          "choropleth": [
           {
            "colorbar": {
             "outlinewidth": 0,
             "ticks": ""
            },
            "type": "choropleth"
           }
          ],
          "contour": [
           {
            "colorbar": {
             "outlinewidth": 0,
             "ticks": ""
            },
            "colorscale": [
             [
              0,
              "#0d0887"
             ],
             [
              0.1111111111111111,
              "#46039f"
             ],
             [
              0.2222222222222222,
              "#7201a8"
             ],
             [
              0.3333333333333333,
              "#9c179e"
             ],
             [
              0.4444444444444444,
              "#bd3786"
             ],
             [
              0.5555555555555556,
              "#d8576b"
             ],
             [
              0.6666666666666666,
              "#ed7953"
             ],
             [
              0.7777777777777778,
              "#fb9f3a"
             ],
             [
              0.8888888888888888,
              "#fdca26"
             ],
             [
              1,
              "#f0f921"
             ]
            ],
            "type": "contour"
           }
          ],
          "contourcarpet": [
           {
            "colorbar": {
             "outlinewidth": 0,
             "ticks": ""
            },
            "type": "contourcarpet"
           }
          ],
          "heatmap": [
           {
            "colorbar": {
             "outlinewidth": 0,
             "ticks": ""
            },
            "colorscale": [
             [
              0,
              "#0d0887"
             ],
             [
              0.1111111111111111,
              "#46039f"
             ],
             [
              0.2222222222222222,
              "#7201a8"
             ],
             [
              0.3333333333333333,
              "#9c179e"
             ],
             [
              0.4444444444444444,
              "#bd3786"
             ],
             [
              0.5555555555555556,
              "#d8576b"
             ],
             [
              0.6666666666666666,
              "#ed7953"
             ],
             [
              0.7777777777777778,
              "#fb9f3a"
             ],
             [
              0.8888888888888888,
              "#fdca26"
             ],
             [
              1,
              "#f0f921"
             ]
            ],
            "type": "heatmap"
           }
          ],
          "heatmapgl": [
           {
            "colorbar": {
             "outlinewidth": 0,
             "ticks": ""
            },
            "colorscale": [
             [
              0,
              "#0d0887"
             ],
             [
              0.1111111111111111,
              "#46039f"
             ],
             [
              0.2222222222222222,
              "#7201a8"
             ],
             [
              0.3333333333333333,
              "#9c179e"
             ],
             [
              0.4444444444444444,
              "#bd3786"
             ],
             [
              0.5555555555555556,
              "#d8576b"
             ],
             [
              0.6666666666666666,
              "#ed7953"
             ],
             [
              0.7777777777777778,
              "#fb9f3a"
             ],
             [
              0.8888888888888888,
              "#fdca26"
             ],
             [
              1,
              "#f0f921"
             ]
            ],
            "type": "heatmapgl"
           }
          ],
          "histogram": [
           {
            "marker": {
             "pattern": {
              "fillmode": "overlay",
              "size": 10,
              "solidity": 0.2
             }
            },
            "type": "histogram"
           }
          ],
          "histogram2d": [
           {
            "colorbar": {
             "outlinewidth": 0,
             "ticks": ""
            },
            "colorscale": [
             [
              0,
              "#0d0887"
             ],
             [
              0.1111111111111111,
              "#46039f"
             ],
             [
              0.2222222222222222,
              "#7201a8"
             ],
             [
              0.3333333333333333,
              "#9c179e"
             ],
             [
              0.4444444444444444,
              "#bd3786"
             ],
             [
              0.5555555555555556,
              "#d8576b"
             ],
             [
              0.6666666666666666,
              "#ed7953"
             ],
             [
              0.7777777777777778,
              "#fb9f3a"
             ],
             [
              0.8888888888888888,
              "#fdca26"
             ],
             [
              1,
              "#f0f921"
             ]
            ],
            "type": "histogram2d"
           }
          ],
          "histogram2dcontour": [
           {
            "colorbar": {
             "outlinewidth": 0,
             "ticks": ""
            },
            "colorscale": [
             [
              0,
              "#0d0887"
             ],
             [
              0.1111111111111111,
              "#46039f"
             ],
             [
              0.2222222222222222,
              "#7201a8"
             ],
             [
              0.3333333333333333,
              "#9c179e"
             ],
             [
              0.4444444444444444,
              "#bd3786"
             ],
             [
              0.5555555555555556,
              "#d8576b"
             ],
             [
              0.6666666666666666,
              "#ed7953"
             ],
             [
              0.7777777777777778,
              "#fb9f3a"
             ],
             [
              0.8888888888888888,
              "#fdca26"
             ],
             [
              1,
              "#f0f921"
             ]
            ],
            "type": "histogram2dcontour"
           }
          ],
          "mesh3d": [
           {
            "colorbar": {
             "outlinewidth": 0,
             "ticks": ""
            },
            "type": "mesh3d"
           }
          ],
          "parcoords": [
           {
            "line": {
             "colorbar": {
              "outlinewidth": 0,
              "ticks": ""
             }
            },
            "type": "parcoords"
           }
          ],
          "pie": [
           {
            "automargin": true,
            "type": "pie"
           }
          ],
          "scatter": [
           {
            "fillpattern": {
             "fillmode": "overlay",
             "size": 10,
             "solidity": 0.2
            },
            "type": "scatter"
           }
          ],
          "scatter3d": [
           {
            "line": {
             "colorbar": {
              "outlinewidth": 0,
              "ticks": ""
             }
            },
            "marker": {
             "colorbar": {
              "outlinewidth": 0,
              "ticks": ""
             }
            },
            "type": "scatter3d"
           }
          ],
          "scattercarpet": [
           {
            "marker": {
             "colorbar": {
              "outlinewidth": 0,
              "ticks": ""
             }
            },
            "type": "scattercarpet"
           }
          ],
          "scattergeo": [
           {
            "marker": {
             "colorbar": {
              "outlinewidth": 0,
              "ticks": ""
             }
            },
            "type": "scattergeo"
           }
          ],
          "scattergl": [
           {
            "marker": {
             "colorbar": {
              "outlinewidth": 0,
              "ticks": ""
             }
            },
            "type": "scattergl"
           }
          ],
          "scattermapbox": [
           {
            "marker": {
             "colorbar": {
              "outlinewidth": 0,
              "ticks": ""
             }
            },
            "type": "scattermapbox"
           }
          ],
          "scatterpolar": [
           {
            "marker": {
             "colorbar": {
              "outlinewidth": 0,
              "ticks": ""
             }
            },
            "type": "scatterpolar"
           }
          ],
          "scatterpolargl": [
           {
            "marker": {
             "colorbar": {
              "outlinewidth": 0,
              "ticks": ""
             }
            },
            "type": "scatterpolargl"
           }
          ],
          "scatterternary": [
           {
            "marker": {
             "colorbar": {
              "outlinewidth": 0,
              "ticks": ""
             }
            },
            "type": "scatterternary"
           }
          ],
          "surface": [
           {
            "colorbar": {
             "outlinewidth": 0,
             "ticks": ""
            },
            "colorscale": [
             [
              0,
              "#0d0887"
             ],
             [
              0.1111111111111111,
              "#46039f"
             ],
             [
              0.2222222222222222,
              "#7201a8"
             ],
             [
              0.3333333333333333,
              "#9c179e"
             ],
             [
              0.4444444444444444,
              "#bd3786"
             ],
             [
              0.5555555555555556,
              "#d8576b"
             ],
             [
              0.6666666666666666,
              "#ed7953"
             ],
             [
              0.7777777777777778,
              "#fb9f3a"
             ],
             [
              0.8888888888888888,
              "#fdca26"
             ],
             [
              1,
              "#f0f921"
             ]
            ],
            "type": "surface"
           }
          ],
          "table": [
           {
            "cells": {
             "fill": {
              "color": "#EBF0F8"
             },
             "line": {
              "color": "white"
             }
            },
            "header": {
             "fill": {
              "color": "#C8D4E3"
             },
             "line": {
              "color": "white"
             }
            },
            "type": "table"
           }
          ]
         },
         "layout": {
          "annotationdefaults": {
           "arrowcolor": "#2a3f5f",
           "arrowhead": 0,
           "arrowwidth": 1
          },
          "autotypenumbers": "strict",
          "coloraxis": {
           "colorbar": {
            "outlinewidth": 0,
            "ticks": ""
           }
          },
          "colorscale": {
           "diverging": [
            [
             0,
             "#8e0152"
            ],
            [
             0.1,
             "#c51b7d"
            ],
            [
             0.2,
             "#de77ae"
            ],
            [
             0.3,
             "#f1b6da"
            ],
            [
             0.4,
             "#fde0ef"
            ],
            [
             0.5,
             "#f7f7f7"
            ],
            [
             0.6,
             "#e6f5d0"
            ],
            [
             0.7,
             "#b8e186"
            ],
            [
             0.8,
             "#7fbc41"
            ],
            [
             0.9,
             "#4d9221"
            ],
            [
             1,
             "#276419"
            ]
           ],
           "sequential": [
            [
             0,
             "#0d0887"
            ],
            [
             0.1111111111111111,
             "#46039f"
            ],
            [
             0.2222222222222222,
             "#7201a8"
            ],
            [
             0.3333333333333333,
             "#9c179e"
            ],
            [
             0.4444444444444444,
             "#bd3786"
            ],
            [
             0.5555555555555556,
             "#d8576b"
            ],
            [
             0.6666666666666666,
             "#ed7953"
            ],
            [
             0.7777777777777778,
             "#fb9f3a"
            ],
            [
             0.8888888888888888,
             "#fdca26"
            ],
            [
             1,
             "#f0f921"
            ]
           ],
           "sequentialminus": [
            [
             0,
             "#0d0887"
            ],
            [
             0.1111111111111111,
             "#46039f"
            ],
            [
             0.2222222222222222,
             "#7201a8"
            ],
            [
             0.3333333333333333,
             "#9c179e"
            ],
            [
             0.4444444444444444,
             "#bd3786"
            ],
            [
             0.5555555555555556,
             "#d8576b"
            ],
            [
             0.6666666666666666,
             "#ed7953"
            ],
            [
             0.7777777777777778,
             "#fb9f3a"
            ],
            [
             0.8888888888888888,
             "#fdca26"
            ],
            [
             1,
             "#f0f921"
            ]
           ]
          },
          "colorway": [
           "#636efa",
           "#EF553B",
           "#00cc96",
           "#ab63fa",
           "#FFA15A",
           "#19d3f3",
           "#FF6692",
           "#B6E880",
           "#FF97FF",
           "#FECB52"
          ],
          "font": {
           "color": "#2a3f5f"
          },
          "geo": {
           "bgcolor": "white",
           "lakecolor": "white",
           "landcolor": "#E5ECF6",
           "showlakes": true,
           "showland": true,
           "subunitcolor": "white"
          },
          "hoverlabel": {
           "align": "left"
          },
          "hovermode": "closest",
          "mapbox": {
           "style": "light"
          },
          "paper_bgcolor": "white",
          "plot_bgcolor": "#E5ECF6",
          "polar": {
           "angularaxis": {
            "gridcolor": "white",
            "linecolor": "white",
            "ticks": ""
           },
           "bgcolor": "#E5ECF6",
           "radialaxis": {
            "gridcolor": "white",
            "linecolor": "white",
            "ticks": ""
           }
          },
          "scene": {
           "xaxis": {
            "backgroundcolor": "#E5ECF6",
            "gridcolor": "white",
            "gridwidth": 2,
            "linecolor": "white",
            "showbackground": true,
            "ticks": "",
            "zerolinecolor": "white"
           },
           "yaxis": {
            "backgroundcolor": "#E5ECF6",
            "gridcolor": "white",
            "gridwidth": 2,
            "linecolor": "white",
            "showbackground": true,
            "ticks": "",
            "zerolinecolor": "white"
           },
           "zaxis": {
            "backgroundcolor": "#E5ECF6",
            "gridcolor": "white",
            "gridwidth": 2,
            "linecolor": "white",
            "showbackground": true,
            "ticks": "",
            "zerolinecolor": "white"
           }
          },
          "shapedefaults": {
           "line": {
            "color": "#2a3f5f"
           }
          },
          "ternary": {
           "aaxis": {
            "gridcolor": "white",
            "linecolor": "white",
            "ticks": ""
           },
           "baxis": {
            "gridcolor": "white",
            "linecolor": "white",
            "ticks": ""
           },
           "bgcolor": "#E5ECF6",
           "caxis": {
            "gridcolor": "white",
            "linecolor": "white",
            "ticks": ""
           }
          },
          "title": {
           "x": 0.05
          },
          "xaxis": {
           "automargin": true,
           "gridcolor": "white",
           "linecolor": "white",
           "ticks": "",
           "title": {
            "standoff": 15
           },
           "zerolinecolor": "white",
           "zerolinewidth": 2
          },
          "yaxis": {
           "automargin": true,
           "gridcolor": "white",
           "linecolor": "white",
           "ticks": "",
           "title": {
            "standoff": 15
           },
           "zerolinecolor": "white",
           "zerolinewidth": 2
          }
         }
        },
        "xaxis": {
         "ticktext": [
          2023,
          2024,
          2025,
          2026,
          2027,
          2023,
          2024,
          2025,
          2026,
          2027
         ],
         "tickvals": [
          2023,
          2024,
          2025,
          2026,
          2027,
          2023,
          2024,
          2025,
          2026,
          2027
         ],
         "title": {
          "text": "Año"
         }
        },
        "yaxis": {
         "gridcolor": "#dddcda",
         "tickformat": ",.2f",
         "title": {
          "text": "Proyección"
         }
        }
       }
      }
     },
     "metadata": {},
     "output_type": "display_data"
    }
   ],
   "source": [
    "# Crear figura\n",
    "fig = go.Figure()\n",
    "\n",
    "# Agregar líneas para cada tipo\n",
    "for tipo in tipos.unique():\n",
    "    df_tipo = df_proyeccion_anual_pachuca[df_proyeccion_anual_pachuca['tipo'] == tipo]\n",
    "    fig.add_trace(go.Scatter(\n",
    "        x=df_tipo['año'],\n",
    "        y=df_tipo['proyeccion'],\n",
    "        mode='markers+lines',\n",
    "        name=tipo\n",
    "    ))\n",
    "\n",
    "# Configuración del layout del gráfico\n",
    "fig.update_layout(\n",
    "    #title='Proyeccion anual de oferta casas/departamentos',\n",
    "    yaxis=dict(gridcolor='#dddcda'),  # Color del grid\n",
    "    margin=dict(l=10, r=10, t=10, b=10),  # Ajusta los márgenes (left, right, top, bottom)\n",
    "    plot_bgcolor='rgba(0,0,0,0)',     # Fondo del gráfico\n",
    ")\n",
    "\n",
    "# Modificar las etiquetas del eje X\n",
    "fig.update_xaxes(\n",
    "    tickvals=años,  # Posiciones de las marcas del eje X\n",
    "    ticktext=años,  # Etiquetas del eje X\n",
    "    title='Año'\n",
    ")\n",
    "\n",
    "# Cambiar el formato del eje Y para mostrar números grandes con comas\n",
    "fig.update_yaxes(tickformat=',.2f', title='Proyección')\n",
    "\n",
    "# Agregar etiquetas de texto a los puntos\n",
    "for trace in fig.data:\n",
    "    df_tipo = df_proyeccion_anual_pachuca[df_proyeccion_anual_pachuca['tipo'] == trace.name]\n",
    "    for i, point in enumerate(trace.y):\n",
    "        fig.add_annotation(\n",
    "            x=trace.x[i], \n",
    "            y=point, \n",
    "            text=f'{point:,.2f}%',  # Mostrar el valor con comas y dos decimales\n",
    "            showarrow=False,\n",
    "            font=dict(color='black', size=10),\n",
    "            yshift=10\n",
    "        )\n",
    "# Exportar gráfica como archivo HTML\n",
    "def guardar_grafico_como_html(fig, nombre_archivo, carpeta='assets/graficas'):\n",
    "    # Crear la carpeta si no existe\n",
    "    if not os.path.exists(carpeta):\n",
    "        os.makedirs(carpeta)\n",
    "    # Gráfica como archivo HTML en la carpeta especificada\n",
    "    pio.write_html(fig, f'{carpeta}/{nombre_archivo}.html')\n",
    "# Guardar el gráfico como archivo HTML\n",
    "guardar_grafico_como_html(fig, 'g_scatt_casasdepa_proyecanualoferta', carpeta='assets/graficas')\n",
    "\n",
    "# Mostrar el gráfico\n",
    "fig.show()"
   ]
  },
  {
   "cell_type": "code",
   "execution_count": null,
   "metadata": {},
   "outputs": [],
   "source": []
  }
 ],
 "metadata": {
  "kernelspec": {
   "display_name": "base",
   "language": "python",
   "name": "python3"
  },
  "language_info": {
   "codemirror_mode": {
    "name": "ipython",
    "version": 3
   },
   "file_extension": ".py",
   "mimetype": "text/x-python",
   "name": "python",
   "nbconvert_exporter": "python",
   "pygments_lexer": "ipython3",
   "version": "3.9.13"
  }
 },
 "nbformat": 4,
 "nbformat_minor": 2
}
