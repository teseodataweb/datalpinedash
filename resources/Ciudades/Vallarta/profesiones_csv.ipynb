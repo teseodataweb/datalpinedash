{
 "cells": [
  {
   "cell_type": "markdown",
   "metadata": {},
   "source": [
    "# **Profesiones**"
   ]
  },
  {
   "cell_type": "code",
   "execution_count": 1,
   "metadata": {},
   "outputs": [
    {
     "name": "stdout",
     "output_type": "stream",
     "text": [
      "Lista de DataFrames filtrados:\n"
     ]
    },
    {
     "data": {
      "text/plain": [
       "['df_salarios_pachuca']"
      ]
     },
     "execution_count": 1,
     "metadata": {},
     "output_type": "execute_result"
    }
   ],
   "source": [
    "# Manejo de datos\n",
    "import os # Directorios\n",
    "import pandas as pd # Manipulación df\n",
    "# Gráficas\n",
    "import plotly.graph_objects as go #Para obtener librería usar: pip install plotly\n",
    "from plotly.subplots import make_subplots\n",
    "import plotly.io as pio # Exportar gráfica\n",
    "\n",
    "# Obtener el directorio actual de trabajo\n",
    "directorio_actual = os.getcwd()\n",
    "\n",
    "# Directorio donde se encuentran los archivos JSON (ruta relativa)\n",
    "directorio_json = os.path.join(directorio_actual, '../../db/datos_json')\n",
    "\n",
    "# Obtener la lista de archivos JSON en el directorio\n",
    "archivos_json = os.listdir(directorio_json)\n",
    "\n",
    "# Cargar los archivos JSON y crear DataFrames\n",
    "for archivo in archivos_json:\n",
    "    nombre_tabla = archivo.replace('datos_', '').replace('.json', '')\n",
    "    ruta_json = os.path.join(directorio_json, archivo)\n",
    "    globals()[f\"df_{nombre_tabla}\"] = pd.read_json(ruta_json)\n",
    "\n",
    "# Obtener todos los nombres de las variables globales\n",
    "nombres_variables_globales = list(globals().keys())\n",
    "\n",
    "# Filtrar los nombres que comienzan con \"df_\", contienen \"alfa_q\" y \"pachuca\"\n",
    "nombres_df_filtrados = [\n",
    "    nombre for nombre in nombres_variables_globales \n",
    "    if nombre.startswith(\"df_\") and \"salarios\" in nombre and \"pachuca\" in nombre\n",
    "]\n",
    "\n",
    "# Imprimir la lista de DataFrames filtrados\n",
    "print(\"Lista de DataFrames filtrados:\")\n",
    "nombres_df_filtrados"
   ]
  },
  {
   "cell_type": "code",
   "execution_count": 2,
   "metadata": {},
   "outputs": [],
   "source": [
    "# Crear una lista de DataFrames seleccionados con las columnas específicas\n",
    "dataframes_list = []\n",
    "for nombre_df in nombres_df_filtrados:\n",
    "    # Seleccionar las columnas 'id' y 'categoria'\n",
    "    segment_df = globals()[nombre_df][['id_salarios', 'Occupation','Salario_Variable','Categoria']]\n",
    "    # Añadir el DataFrame a la lista\n",
    "    dataframes_list.append(segment_df)"
   ]
  },
  {
   "cell_type": "code",
   "execution_count": 2,
   "metadata": {},
   "outputs": [],
   "source": [
    "#Por si no se tiene el json, desde csv:\n",
    "#df = pd.read_csv('C:\\\\xampp\\\\htdocs/datalpine/resources/db/Scrapining/salarios/bases/QUERETARO_24.csv')\n",
    "\n",
    "#Por si no se tiene el json, desde csv:\n",
    "import os\n",
    "directorio_actual = os.getcwd()  # Cambiado de __file__ a getcwd()\n",
    "df = pd.read_csv(os.path.join(directorio_actual, '../../db/Scrapining/salarios/clean/PACHUCA_24.csv'))"
   ]
  },
  {
   "cell_type": "code",
   "execution_count": null,
   "metadata": {},
   "outputs": [],
   "source": []
  },
  {
   "cell_type": "code",
   "execution_count": 3,
   "metadata": {},
   "outputs": [
    {
     "name": "stdout",
     "output_type": "stream",
     "text": [
      "Profesiones con los salarios más bajos:\n",
      "['Presidentes y Autoridades Municipales', 'Directores de Organizaciones Civiles y Religiosas', 'Lecturistas de Medidores', 'Biólogos y Especialistas en Ciencias del Mar y Oceanógrafos', 'Agrónomos', 'Ingenieros Químicos', 'Operadores de Máquinas para la Elaboración de Productos de Madera, Bejuco, Mimbre y Similares', 'Trabajadores de Apoyo que Realizan Actividades Agrícolas y Ganaderas', 'Especialistas en Medicina Tradicional y Alternativa', 'Auxiliares y Técnicos en Ciencias Biológicas, Químicas y del Medio Ambiente', 'Trabajadores de Apoyo en la Extracción', 'Supervisores de Artesanos y Trabajadores en la Elaboración de Productos de Hule, Caucho, Plásticos y de Sustancias Químicas', 'Azafatas y Sobrecargos', 'Supervisores de Artesanos y Trabajadores en la Elaboración de Productos de Madera, Papel, Textiles y de Cuero y Piel', 'Mecánicos en Mantenimiento y Reparación de Instrumentos de Precisión y Musicales', 'Operadores de Máquinas y Equipos para la Refinación del Petróleo y Gas', 'Otros Especialistas no Clasificados Anteriormente', 'Trabajadores Dedicados a la Prostitución', 'Coordinadores y Jefes de Área en Producción Agropecuaria, Silvícola y Pesquera', 'Coordinadores y Jefes de Área en Museos, Cines, Deportivos y Servicios Culturales', 'Zapateros Artesanales', 'Supervisores y Encargados de Trabajadores en Cuidados Personales y del Hogar', 'Otros Técnicos no Clasificados Anteriormente', 'Bordadores y Deshiladores', 'Tejedores de Fibras', 'Operadores de Máquinas y Equipos para la Captación, Bombeo y Distribución de Agua', 'Recolectores de Leña y Acarreadores de Agua', 'Cuidadores de Niños, Personas con Discapacidad y Ancianos en Establecimientos', 'Trabajadores en la Cría de Caprinos y Ovinos', 'Trabajadores que Combinan Actividades Agrícolas con Ganaderas', 'Operadores de Máquinas en la Elaboración de Bebidas Alcohólicas y no Alcohólicas', 'Otros Trabajadores Artesanales, no Clasificados Anteriormente', 'Trabajadores en el Cultivo de Café, Cacao y Tabaco', 'Monjas y Predicadores', 'Sacerdotes, Pastores y otros Teólogos', 'Trabajadores en el Cultivo de Maíz Y/O Frijol', 'Trabajadores en la Elaboración de Productos de Cemento, Cal, Yeso, Azulejo, Piedra y Ladrilleros', 'Vendedores por Catálogo', 'Trabajadores en Actividades Pesqueras', 'Ayudantes en la Preparación de Alimentos', 'Técnicos en la Instalación y Reparación de Redes, Equipos y en Sistemas Computacionales', 'Auxiliares y Técnicos en Pedagogía y en Educación', 'Trabajadores de Apoyo en la Industria de Alimentos, Bebidas y Productos de Tabaco', 'Supervisores en Limpieza, Amas de Llaves, Mayordomos y en Estacionamientos', 'Trabajadores en la Cría de Porcinos', 'Operadores de Máquinas para Fabricar Tejidos de Punto, Telas y Alfombras', 'Conductores de Motocicleta', 'Guías de Turismo en Museos, Casinos, Parques, Cines y otros Centros Recreativos', 'Trabajadores en la Apicultura', 'Trabajadores en otros Cultivos Agrícolas', 'Cortadores de Leña', 'Cargadores', 'Trabajadores de Apoyo en la Industria de la Cerámica, Vidrio y Similares', 'Auxiliares en Servicios Jurídicos', 'Trabajadores de Apoyo en Actividades Ganaderas', 'Auxiliares y Técnicos en Veterinaria, Pesca y Forestación', 'Vendedores Ambulantes de Periódicos y Lotería', 'Trabajadores de Apoyo en Actividades Agrícolas', 'Empleados de Ventas, Despachadores y Dependientes en Comercios', 'Mozos de Hotel y Restaurante', 'Trabajadores en la Cría de Ganado Bovino', 'Trabajadores de Apoyo a la Realización de Espectáculos, Deportes y en Parques de Diversiones', 'Técnicos en Instalación y Reparación de Equipos Electrónicos, Telecomunicaciones y Electrodoméstico (Excepto Equipos Informáticos)', 'Supervisores de Conductores de Transporte y de Maquinaria Móvil', 'Anaqueleros, Acomodadores y Seleccionadores de Mercancías y Alimentadores de Máquinas Expendedoras', 'Lavadores de Vehículos en Establecimientos', 'Instructores y Capacitadores en Oficios y para el Trabajo', 'Recolectores de Basura y Material Reciclable', 'Meseros', 'Operadores de Máquinas en el Tratamiento del Cuero, Piel y la Elaboración de Calzado', 'Trabajadores Domésticos', 'Dibujantes y Diseñadores Artísticos, Ilustradores y Grabadores', 'Entrenadores de Animales y Ocupaciones Relacionadas con el Cuidado de Mascotas', 'Vendedores Ambulantes de Artículos Diversos (Excluyendo los de Venta de Alimentos)', 'Trabajadores de Apoyo en la Industria Textil y del Zapato', 'Auxiliares y Asistentes Dentales', 'Preparadores y Vendedores Ambulantes de Alimentos', 'Ingenieros Industriales', 'Sastres y Modistos, Costureras y Confeccionadores de Prendas de Vestir', 'Trabajadores de Apoyo en la Industria de la Madera, Papel y Cartón', 'Cuidadores de Niños, Personas con Discapacidad y Ancianos en Casas Particulares', 'Presidentes y Directores Generales en Instituciones y Empresas Privadas', 'Artesanos y Confeccionadores de Productos Textiles', 'Comerciantes en Establecimientos', 'Trabajadores en la Elaboración de Productos a Base de Azúcar, Chocolate, Confitería y Tabaco', 'Ocupaciones no Especificadas', 'Cocineros Domésticos', 'Recepcionistas y Trabajadores que Brindan Información (De Forma Personal)', 'Lavanderos en Establecimientos', 'Trabajadores de Apoyo en la Elaboración, Reparación y Mantenimiento Mecánico de Equipos, Maquinaria y Productos de Metal y de Precisión', 'Capturistas de Datos', 'Alfareros y Trabajadores Ceramistas', 'Maquillistas, Manicuristas, Pedicuristas y Tatuadores', 'Trabajadores en el Cultivo de Hortalizas y Verduras', 'Directores y Gerentes en Producción Manufacturera', 'Checadores y Revisores de Transporte', 'Cobradores, Pagadores y Prestamistas', 'Trabajadores en el Cultivo de Frutales', 'Peluqueros, Barberos, Estilistas y Peinadores', 'Operadores de Máquinas de Costura, Bordado y de Corte para la Confección de Productos Textiles y Prendas de Vestir', 'Taqueros y Preparadores de Comida Rápida, Antojitos, Pizzas, Hot Dogs, Jugos, Café, Etcétera', 'Instaladores de Material Aislante, de Impermeabilización, Vidrio y otros Materiales', 'Supervisores en Servicios de Protección y Vigilancia', 'Trabajadores de Apoyo en Actividades Administrativas Diversas', 'Cajeros, Taquilleros y Receptores de Apuestas', 'Artesanos de Productos de Bejuco, Vara, Palma, Carrizo y Mimbre, Excepto Madera', 'Cocineros', 'Trabajadores de Apoyo en la Construcción', 'Ingenieros Civiles y de la Construcción', 'Vigilantes y Guardias en Establecimientos', 'Barrenderos y Trabajadores de Limpieza (Excepto en Hoteles y Restaurantes)', 'Carpinteros, Ebanistas y Cepilladores en la Elaboración de Productos de Madera', 'Trabajadores en la Elaboración de Productos a Base de Frutas y Verduras', 'Planchadores y Tintoreros en Establecimientos', 'Trabajadores en la Elaboración de Pan, Tortilla, Repostería, y otros Productos de Cereales y Harinas', 'Auxiliares en Contabilidad, Economía, Finanzas y Agentes de Bolsa', 'Ensambladores y Montadores de Partes Eléctricas y Electrónicas', 'Trabajadores de Apoyo en la Industria Eléctrica, Electrónica y Comunicaciones', 'Operadores de Máquinas para la Elaboración y Ensamble de Productos de Plástico y Hule', 'Psicólogos', 'Ayudantes de Jardineros', 'Operadores de Máquinas en la Elaboración de Tabaco', 'Trabajadores en la Elaboración de Productos de Carne, Pescado y sus Derivados', 'Auxiliares en Ciencias Sociales y Humanistas', 'Conductores de Maquinaria Móvil para el Movimiento de Mercancías en Fábricas, Puertos, Comercios, Etcétera', 'Especialistas y Consultores en Mercadotecnia, Publicidad, Comunicación y Comercio Exterior', 'Supervisores en Procesos de Ensamblado y Montaje de Maquinaria, Herramientas y Productos Metálicos y Electrónicos', 'Operadores de Equipos Portátiles Especializados para la Construcción', 'Repartidores de Mercancías (A Pie y en Bicicleta)', 'Cuidadores y Acomodadores de Autos en Estacionamientos', 'Auxiliares y Técnicos Industriales y Químicos', 'Contadores y Auditores', 'Electricistas y Linieros', 'Repartidores de Mensajería (A Pie y en Bicicleta) y Mandaderos', 'Pintores de Brocha Gorda', 'Encargados y Trabajadores en Control de Almacén y Bodega', 'Jardineros en Casas Particulares', 'Operadores de Máquinas y Equipos de Hilar y Bobinar Fibras Textiles Naturales y Sintéticas', 'Técnicos Eléctricos', 'Ayudantes de Conductores de Transporte Terrestre con Motor', 'Trabajadores en el Alquiler de Bienes Muebles (Loza, Películas, Video Juegos, Etcétera)', 'Trabajadores de Apoyo en Plomería e Instalación de Tuberías', 'Policías y Agentes de Tránsito', 'Operadores de Máquinas para el Tratamiento de Agua', 'Patronistas de Productos Textiles', 'Operadores de Máquinas para la Elaboración de Productos Químicos', 'Techadores (Colocadores de Palapas, Etcétera)', 'Curanderos, Hierberos y Hueseros', 'Trabajadores de Apoyo en la Industria Química, Petroquímica y Plásticos', 'Empacadores de Objetos y Mercancías', 'Limpiadores de Calzado', 'Ensambladores y Montadores de Herramientas, Maquinaria, Equipos y Productos Metálicos', 'Fonderos, Vendedores y Comerciantes de Comida', 'Operadores de Máquinas en la Elaboración de Productos de Cerámica, Mosaico, Azulejo y Similares', 'Herreros, Balconeros, Aluminadores y Forjadores', 'Recamaristas y Camaristas', 'Cantineros', 'Demostradores y Promotores', 'Arquitectos, Planificadores Urbanos y del Transporte', 'Artesanos y Trabajadores en la Elaboración de Productos de Papel y Cartón', 'Técnicos en Aparatos de Diagnóstico, Tratamiento Médico, Podólogos y Fisioterapeutas', 'Trabajadores en la Elaboración y Reparación de Productos de Hule, Caucho, Plásticos y Vulcanización de Neumáticos', 'Enfermeras (Técnicas)', 'Choferes Vendedores']\n",
      "\n",
      "Profesiones con los salarios más altos:\n",
      "['Auxiliares en Administración, Mercadotecnia, Comercialización y Comercio Exterior', 'Impresores, Linotipistas, Fotograbadores y Encuadernadores', 'Encargados y Supervisores de Ventas de Productos y de Servicios Financieros y de Alquiler', 'Profesores de Enseñanza Preescolar', 'Lavanderos y Planchadores Domésticos', 'Directores y Gerentes en Producción Agropecuaria, Silvícola y Pesquera', 'Directores de Organizaciones Sindicales', 'Técnicos y Asistentes Farmacéuticos', 'Cerrajeros, Afiladores y Pulidores de Herramientas', 'Telefonistas y Telegrafistas', 'Coordinadores y Jefes de Área en Administración, Recursos Humanos y Mercadotecnia', 'Profesores de Enseñanza Secundaria', 'Trabajadores en el Cultivo de Flores', 'Trabajadores en la Extracción de Cantera, Arcilla, Arena, Piedra y Grava', 'Secretarias', 'Coordinadores y Jefes de Área en Comunicación y Telecomunicaciones', 'Trabajadores en la Elaboración de Sustancias y Compuestos Químicos', 'Directores y Gerentes de Ventas, Comercialización y Alquiler', 'Trabajadores en Reparación de Equipos Electromecánicos', 'Soldadores y Oxicortadores', 'Conductores de Autobuses, Camiones, Camionetas, Taxis y Automóviles de Pasajeros', 'Dibujantes Técnicos', 'Jardineros en Establecimientos', 'Moldeadores, Torneros y Troqueladores', 'Trabajadores de Apoyo en Actividades Silvícolas y Forestales', 'Traductores e Intérpretes', 'Profesores de Preparatoria y Equivalentes', 'Albañiles, Mamposteros y Afines', 'Trabajadores en Viveros e Invernaderos', 'Agentes de Bienes Raíces', 'Especialistas en Trabajo Social', 'Operadores de Máquinas que Cortan, Perforan, Doblan, Troquelan, Sueldan, Etc., Piezas y Productos Metálicos', 'Yeseros, Escayolistas y otros Recubridores de Techos y Paredes', 'Directores y Gerentes en Servicios de Transporte', 'Profesores de Enseñanza Primaria', 'Técnicos en Mantenimiento y Reparación de Maquinaria e Instrumentos Industriales', 'Supervisores en la Preparación y Servicio de Alimentos y Bebidas, Así como en Servicios de Esparcimiento y de Hotelería', 'Abogados', 'Directores y Gerentes de Restaurantes y Hoteles', 'Trabajadores en Agencias de Viajes', 'Médicos Especialistas', 'Mecánicos en Mantenimiento y Reparación de Vehículos de Motor', 'Choferes en Casas Particulares', 'Instructores en Estudios y Capacitación Artística', 'Auxiliares y Técnicos en Construcción y Arquitectura', 'Hojalateros, Chaperos, Latoneros, Cobreros y Pintores de Metales', 'Instaladores de Pisos, Azulejos, Mosaicos y Baldosas', 'Supervisores de Trabajadores en la Elaboración y Procesamiento de Alimentos, Bebidas y Productos de Tabaco', 'Coordinadores y Jefes de Área en Servicios de Vigilancia y Seguridad', 'Trabajadores en Actividades de Beneficio de Productos Pecuarios', 'Trabajadores que Brindan Información por Teléfono (Centro de Llamadas) y Anunciadores', 'Agentes de Seguros y Servicios Financieros (Ejecutivos de Cuenta)', 'Coordinadores y Jefes de Área en Servicios de Transporte', 'Plomeros, Fontaneros e Instaladores de Tubería', 'Supervisores, Encargados y Capataces de Trabajadores en Actividades Pesqueras, Acuícolas, Forestales, Caza y Similares', 'Supervisores de Mecánicos y Técnicos en Mantenimiento y Reparación de Equipos Mecánicos, Vehículos de Motor, Instrumentos Industriales y Equipo de Refrigeración', 'Instructores en Idiomas Extranjeros', 'Operadores de Máquinas en la Elaboración de Alimentos, Aceites, Grasas, Sal y Especias', 'Diseñadores Industriales', 'Trabajadores en Archivo y Correspondencia', 'Directores y Gerentes en Servicios Funerarios y otros Servicios', 'Técnicos en Mantenimiento y Reparación de Vehículos de Motor', 'Operadores de Máquinas para la Elaboración de Productos Farmacéuticos y Cosméticos', 'Operadores de Máquinas en la Elaboración de Cemento, Cal, Yeso y Productos de Cemento', 'Vendedores por Teléfono', 'Técnicos en Seguridad en el Trabajo e Higiene', 'Conductores de Maquinaria Móvil para la Construcción y Minería', 'Operadores de Máquinas Pulidoras, Galvanizadoras y Recubridoras de Metal', 'Trabajadores de la Fuerza Armada Terrestre', 'Coordinadores y Jefes de Área en Servicios Contables, Financieros, Banca y Seguros', 'Trabajadores de Apoyo en la Industria, no Clasificados Anteriormente', 'Conductores de Camiones, Camionetas y Automóviles de Carga', 'Químicos', 'Agentes y Representantes de Ventas y Consignatarios', 'Coordinadores y Jefes de Área en Actividades Artísticas, de Cine, Teatro y Afines', 'Trabajadores en la Cría Avícola', 'Trabajadores en la Elaboración de Bebidas Alcohólicas y no Alcohólicas', 'Profesores Universitarios y de Enseñanza Superior', 'Pintores y Barnizadores de Madera', 'Supervisores de Trabajadores en la Extracción, Albañiles y en Acabados de la Construcción', 'Auxiliares y Técnicos de Ingeniería de Audio, Sonido e Iluminación', 'Operadores de Máquinas de Lavado, Blanqueo, Teñido, Estampado, Afelpado, Planchado y Acabado de Productos Textiles, Cuero, Piel y Similares', 'Escritores y Críticos Literarios', 'Técnicos de Laboratorios Médicos', 'Auxiliares y Técnicos Topógrafos, en Hidrología y Geología', 'Supervisores de Trabajadores que Brindan y Manejan Información', 'Diseñadores Gráficos', 'Directores y Gerentes en Comunicación y Telecomunicaciones', 'Administradores y Especialistas en Recursos Humanos y Sistemas de Gestión', 'Operadores de Máquinas para la Elaboración de Productos a Base de Papel y Cartón', 'Vigilantes y Porteros en Casas Particulares', 'Trabajadores en la Elaboración de Productos Lácteos', 'Directores y Gerentes en Servicios de Salud, Protección Civil y Medio Ambiente', 'Coordinadores y Jefes de Área en Servicios Funerarios y otros Servicios', 'Desarrolladores y Analistas de Software y Multimedia', 'Pedagogos, Orientadores Educativos y otros Especialistas en Ciencias Educativas', 'Técnicos en Operaciones de Equipos de Radio', 'Encuestadores', 'Auxiliares en Enfermería y Paramédicos', 'Ingenieros Electrónicos', 'Profesores de Enseñanza Bilingüe (Indígena)', 'Músicos', 'Periodistas y Redactores', 'Supervisores de Secretarias, Capturistas, Cajeros y Trabajadores de Control de Archivo y Transporte', 'Operadores de Máquinas e Instalaciones para la Generación de Energía', 'Profesores en Educación Física y Deporte', 'Ingenieros Eléctricos', 'Edecanes', 'Coordinadores y Jefes de Área en Centros de Enseñanza y Capacitación', 'Directores y Gerentes en Centros de Investigación y Desarrollo Tecnológico', 'Agentes de Recaudación Tributaria y de Licencias', 'Montadores de Estructuras Metálicas', 'Coordinadores y Jefes de Área en Servicios de Salud, Protección Civil y Medio Ambiente', 'Oficiales del Ministerio Público y Detectives', 'Directores y Gerentes en Construcción, Reparación y Mantenimiento', 'Coordinadores y Jefes de Área en Servicios Legales, Jueces Calificadores y Fiscales', 'Supervisores de Operadores de Maquinaria Industrial', 'Ecólogos y Especialistas en Ciencias Atmosféricas', 'Auxiliares y Técnicos Mineros, Metalúrgicos y Petroleros', 'Antropólogos, Arqueólogos e Historiadores', 'Auxiliares y Técnicos de Equipos de Grabación y Reproducción de Video', 'Administradores de Bases de Datos y Redes de Computadora', 'Veterinarios y Zootecnistas', 'Directores y Gerentes en Centros de Enseñanza y Capacitación', 'Coordinadores y Jefes de Área en Informática', 'Directores y Gerentes en Servicios Contables, Financieros, Banca y Seguros', 'Especialistas en Hotelería y Turismo', 'Mecánicos en Mantenimiento y Reparación de Maquinaria e Instrumentos Industriales', 'Directores y Gerentes de Museos, Cines y otros Establecimientos Deportivos y Culturales', 'Ingenieros Mecánicos', 'Investigadores y Especialistas en Ciencias Políticas y Administración Pública', 'Trabajadores en Instalación y Reparación de Equipos Electrónicos, Telecomunicaciones y Electrodoméstico (Excepto Equipos Informáticos)', 'Jueces de Juzgado, Directores y Gerentes en Servicios Legales y Procuración de Justicia', 'Médicos Generales y Familiares', 'Operadores de Hornos Metalúrgicos, Coladores y Laminadores y Operadores de Máquinas Trefiladoras y Estiradoras de Metales', 'Coordinadores y Jefes de Área en Construcción, Reparación y Mantenimiento', 'Payasos, Mimos y Cirqueros', 'Supervisores e Inspectores Educativos', 'Agentes Aduanales y Fronterizos', 'Supervisores de Técnicos Eléctricos, en Electrónica y de Equipos en Telecomunicaciones y Electromecánicos', 'Técnicos de Prótesis Médicas y Dentales', 'Decoradores de Interiores, Jardines y Diversos Materiales (Tazas, Llaveros, Etcétera)', 'Enfermeras Especialistas', 'Astrólogos, Adivinadores y Afines', 'Asesores y Analistas en Finanzas', 'Auxiliares Hospitalarios y de Medicina', 'Coordinadores y Jefes de Área en Desarrollo Social y Económico', 'Ingenieros en Comunicaciones y Telecomunicaciones', 'Coordinadores y Jefes de Área en Producción Manufacturera', 'Coordinadores y Jefes de Área de Ventas, Comercialización y Alquiler', 'Técnicos en la Instalación, Reparación y Mantenimiento de Equipos de Refrigeración, Climas y Aire Acondicionado', 'Tapiceros', 'Operadores de Máquinas en la Elaboración de Celulosa, Papel y Similares', 'Directores y Gerentes en Administración, Recursos Humanos y Mercadotecnia', 'Ingenieros en Topografía, Hidrología, Geología y Geodesia', 'Mineros y Trabajadores en la Extracción en Minas de Minerales Metálicos', 'Farmacólogos', 'Supervisores de las Fuerzas Armadas', 'Trabajadores de la Fuerza Armada Aérea', 'Joyeros, Orfebres, Plateros y Pulidores de Metal', 'Coordinadores y Jefes de Área de Restaurantes y Hoteles', 'Directores y Gerentes en Desarrollo Social y Económico', 'Presidentes y Directores Generales en Instituciones Públicas', 'Trabajadores de Paquetería, Maleteros y Botones de Hotel']\n"
     ]
    }
   ],
   "source": [
    "# Ordenar el DataFrame por el valor del salario en orden ascendente\n",
    "profesiones_df_salarios_puebla_sorted = df.sort_values(by='Salario_Variables')\n",
    "\n",
    "# Dividir el DataFrame en dos partes: bajos y altos salarios\n",
    "corte = len(profesiones_df_salarios_puebla_sorted) // 2\n",
    "profesiones_bajas = profesiones_df_salarios_puebla_sorted.iloc[:corte]\n",
    "profesiones_altas = profesiones_df_salarios_puebla_sorted.iloc[corte:]\n",
    "\n",
    "# Imprimir la lista de ocupaciones para salarios más bajos\n",
    "print(\"Profesiones con los salarios más bajos:\")\n",
    "print(profesiones_bajas['Occupation'].tolist())\n",
    "\n",
    "# Imprimir la lista de ocupaciones para salarios más altos\n",
    "print(\"\\nProfesiones con los salarios más altos:\")\n",
    "print(profesiones_altas['Occupation'].tolist())"
   ]
  },
  {
   "cell_type": "code",
   "execution_count": 4,
   "metadata": {},
   "outputs": [
    {
     "name": "stdout",
     "output_type": "stream",
     "text": [
      "                               Profesiones Más Bajas  \\\n",
      "0              Presidentes y Autoridades Municipales   \n",
      "1  Directores de Organizaciones Civiles y Religiosas   \n",
      "2                           Lecturistas de Medidores   \n",
      "3  Biólogos y Especialistas en Ciencias del Mar y...   \n",
      "4                                          Agrónomos   \n",
      "5                                Ingenieros Químicos   \n",
      "6  Operadores de Máquinas para la Elaboración de ...   \n",
      "7  Trabajadores de Apoyo que Realizan Actividades...   \n",
      "8  Especialistas en Medicina Tradicional y Altern...   \n",
      "9  Auxiliares y Técnicos en Ciencias Biológicas, ...   \n",
      "\n",
      "                               Profesiones Más Altas  \n",
      "0  Auxiliares en Administración, Mercadotecnia, C...  \n",
      "1  Impresores, Linotipistas, Fotograbadores y Enc...  \n",
      "2  Encargados y Supervisores de Ventas de Product...  \n",
      "3                 Profesores de Enseñanza Preescolar  \n",
      "4               Lavanderos y Planchadores Domésticos  \n",
      "5  Directores y Gerentes en Producción Agropecuar...  \n",
      "6            Directores de Organizaciones Sindicales  \n",
      "7                Técnicos y Asistentes Farmacéuticos  \n",
      "8  Cerrajeros, Afiladores y Pulidores de Herramie...  \n",
      "9                       Telefonistas y Telegrafistas  \n"
     ]
    }
   ],
   "source": [
    "# Ordenar el DataFrame por el valor del salario en orden ascendente\n",
    "profesiones_df_salarios_puebla_sorted = df.sort_values(by='Salario_Variables')\n",
    "\n",
    "# Dividir el DataFrame en dos partes: bajos y altos salarios\n",
    "corte = len(profesiones_df_salarios_puebla_sorted) // 2\n",
    "profesiones_bajas = profesiones_df_salarios_puebla_sorted.iloc[:corte].head(10)  # Obtener solo las 10 primeras\n",
    "profesiones_altas = profesiones_df_salarios_puebla_sorted.iloc[corte:].head(10)  # Obtener solo las 10 primeras\n",
    "df_bajas = pd.DataFrame({'Profesiones Más Bajas': profesiones_bajas['Occupation']})\n",
    "df_altas = pd.DataFrame({'Profesiones Más Altas': profesiones_altas['Occupation']})\n",
    "\n",
    "# Unir los dos DataFrames en una sola tabla\n",
    "tabla_comparativa = pd.concat([df_bajas.reset_index(drop=True), df_altas.reset_index(drop=True)], axis=1)\n",
    "print(tabla_comparativa)\n",
    "\n",
    "# Exportar tabla como archivo HTML\n",
    "def guardar_tabla_como_html(tabla, nombre_archivo, carpeta='assets/tablas'):\n",
    "    if not os.path.exists(carpeta):\n",
    "        os.makedirs(carpeta)  # Crear la carpeta si no existe\n",
    "    \n",
    "    # Tabla como archivo HTML en la carpeta especificada\n",
    "    tabla.to_html(f'{carpeta}/{nombre_archivo}.html', index=False)\n",
    "\n",
    "# Exportar la tabla\n",
    "guardar_tabla_como_html(tabla_comparativa, 'tabla_profesiones')"
   ]
  },
  {
   "cell_type": "code",
   "execution_count": null,
   "metadata": {},
   "outputs": [],
   "source": []
  }
 ],
 "metadata": {
  "kernelspec": {
   "display_name": "base",
   "language": "python",
   "name": "python3"
  },
  "language_info": {
   "codemirror_mode": {
    "name": "ipython",
    "version": 3
   },
   "file_extension": ".py",
   "mimetype": "text/x-python",
   "name": "python",
   "nbconvert_exporter": "python",
   "pygments_lexer": "ipython3",
   "version": "3.12.7"
  }
 },
 "nbformat": 4,
 "nbformat_minor": 2
}
