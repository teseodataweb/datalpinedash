{
 "cells": [
  {
   "cell_type": "markdown",
   "metadata": {},
   "source": [
    "# **Profesiones**"
   ]
  },
  {
   "cell_type": "code",
   "execution_count": 1,
   "metadata": {},
   "outputs": [
    {
     "name": "stdout",
     "output_type": "stream",
     "text": [
      "Lista de DataFrames filtrados:\n"
     ]
    },
    {
     "data": {
      "text/plain": [
       "['df_salarios_jalisco']"
      ]
     },
     "execution_count": 1,
     "metadata": {},
     "output_type": "execute_result"
    }
   ],
   "source": [
    "# Manejo de datos\n",
    "import os # Directorios\n",
    "import pandas as pd # Manipulación df\n",
    "# Gráficas\n",
    "import plotly.graph_objects as go #Para obtener librería usar: pip install plotly\n",
    "from plotly.subplots import make_subplots\n",
    "import plotly.io as pio # Exportar gráfica\n",
    "\n",
    "# Obtener el directorio actual de trabajo\n",
    "directorio_actual = os.getcwd()\n",
    "\n",
    "# Directorio donde se encuentran los archivos JSON (ruta relativa)\n",
    "directorio_json = os.path.join(directorio_actual, '../../db/datos_json')\n",
    "\n",
    "# Obtener la lista de archivos JSON en el directorio\n",
    "archivos_json = os.listdir(directorio_json)\n",
    "\n",
    "# Cargar los archivos JSON y crear DataFrames\n",
    "for archivo in archivos_json:\n",
    "    nombre_tabla = archivo.replace('datos_', '').replace('.json', '')\n",
    "    ruta_json = os.path.join(directorio_json, archivo)\n",
    "    globals()[f\"df_{nombre_tabla}\"] = pd.read_json(ruta_json)\n",
    "\n",
    "# Obtener todos los nombres de las variables globales\n",
    "nombres_variables_globales = list(globals().keys())\n",
    "\n",
    "# Filtrar los nombres que comienzan con \"df_\", contienen \"alfa_q\" y \"pachuca\"\n",
    "nombres_df_filtrados = [\n",
    "    nombre for nombre in nombres_variables_globales \n",
    "    if nombre.startswith(\"df_\") and \"salarios\" in nombre and \"jalisco\" in nombre\n",
    "]\n",
    "\n",
    "# Imprimir la lista de DataFrames filtrados\n",
    "print(\"Lista de DataFrames filtrados:\")\n",
    "nombres_df_filtrados"
   ]
  },
  {
   "cell_type": "code",
   "execution_count": 9,
   "metadata": {},
   "outputs": [
    {
     "data": {
      "text/plain": [
       "Index(['Occupation', 'Workforce', 'Monthly Wage', 'lastPeriod', 'diferencia',\n",
       "       'diferencia_2', 'Salario_Variables', 'volumen', 'pareja',\n",
       "       'categoria_persona', 'categoria_pareja'],\n",
       "      dtype='object')"
      ]
     },
     "execution_count": 9,
     "metadata": {},
     "output_type": "execute_result"
    }
   ],
   "source": [
    "df_salarios_jalisco.columns"
   ]
  },
  {
   "cell_type": "code",
   "execution_count": 2,
   "metadata": {},
   "outputs": [
    {
     "name": "stdout",
     "output_type": "stream",
     "text": [
      "Columnas renombradas en los DataFrames filtrados.\n"
     ]
    }
   ],
   "source": [
    "# Iterar sobre cada DataFrame en la lista filtrada\n",
    "for nombre_df in nombres_df_filtrados:\n",
    "    # Obtener el DataFrame usando globals()\n",
    "    df = globals()[nombre_df]\n",
    "    df.rename(columns={'Salario_Variables':'Salario_Variable'}, inplace=True)\n",
    "        # Asignar el DataFrame modificado de nuevo a la variable global\n",
    "    globals()[nombre_df] = df \n",
    "print(\"Columnas renombradas en los DataFrames filtrados.\")"
   ]
  },
  {
   "cell_type": "code",
   "execution_count": 3,
   "metadata": {},
   "outputs": [],
   "source": [
    "# Crear una lista de DataFrames seleccionados con las columnas específicas\n",
    "dataframes_list = []\n",
    "for nombre_df in nombres_df_filtrados:\n",
    "    # Seleccionar las columnas 'id' y 'categoria'\n",
    "    segment_df = globals()[nombre_df][['Occupation','Salario_Variable']]\n",
    "    # Añadir el DataFrame a la lista\n",
    "    dataframes_list.append(segment_df)"
   ]
  },
  {
   "cell_type": "code",
   "execution_count": 4,
   "metadata": {},
   "outputs": [
    {
     "data": {
      "text/plain": [
       "array([    0.  ,  1712.32,  2332.27,  2344.37,  2580.  ,  2998.45,\n",
       "        3232.36,  3250.98,  3258.87,  3269.5 ,  3435.67,  3459.37,\n",
       "        3479.31,  3613.85,  3628.12,  3654.5 ,  3739.5 ,  3773.2 ,\n",
       "        3791.04,  3955.15,  3980.8 ,  3983.76,  3985.71,  4181.09,\n",
       "        4300.  ,  4366.68,  4416.3 ,  4467.48,  4469.05,  4497.12,\n",
       "        4522.67,  4538.5 ,  4543.14,  4561.93,  4614.09,  4690.62,\n",
       "        4698.95,  4716.16,  4746.83,  4826.84,  4840.78,  5157.41,\n",
       "        5159.8 ,  5160.  ,  5187.54,  5191.71,  5214.79,  5278.2 ,\n",
       "        5279.7 ,  5288.94,  5303.86,  5309.82,  5338.08,  5344.96,\n",
       "        5366.11,  5382.98,  5393.85,  5425.95,  5466.27,  5489.83,\n",
       "        5490.04,  5502.  ,  5527.23,  5547.37,  5547.96,  5585.72,\n",
       "        5592.74,  5614.78,  5634.86,  5722.33,  5751.92,  5788.01,\n",
       "        5844.89,  5918.31,  5928.27,  6025.59,  6056.51,  6058.78,\n",
       "        6114.51,  6188.41,  6196.83,  6202.93,  6260.22,  6292.22,\n",
       "        6321.04,  6429.4 ,  6450.  ,  6524.93,  6538.07,  6570.79,\n",
       "        6588.32,  6661.68,  6669.15,  6687.03,  6688.52,  6695.75,\n",
       "        6704.84,  6716.34,  6737.5 ,  6738.21,  6775.18,  6799.03,\n",
       "        6801.1 ,  6817.28,  6835.52,  6880.  ,  6946.83,  6961.39,\n",
       "        6980.5 ,  6986.41,  6988.86,  7021.52,  7033.78,  7046.56,\n",
       "        7048.69,  7095.49,  7149.36,  7196.4 ,  7199.26,  7259.18,\n",
       "        7281.65,  7310.  ,  7339.01,  7346.35,  7350.96,  7401.12,\n",
       "        7426.48,  7432.56,  7441.87,  7458.04,  7488.66,  7502.03,\n",
       "        7525.  ,  7530.24,  7574.82,  7581.74,  7592.84,  7627.77,\n",
       "        7644.92,  7676.58,  7679.01,  7679.61,  7705.87,  7708.51,\n",
       "        7740.  ,  7781.5 ,  7811.79,  7815.29,  7833.31,  7850.05,\n",
       "        7887.35,  7940.1 ,  8019.65,  8026.23,  8055.01,  8104.46,\n",
       "        8110.88,  8121.33,  8144.8 ,  8147.72,  8167.22,  8228.95,\n",
       "        8270.65,  8287.76,  8308.81,  8321.06,  8363.01,  8371.99,\n",
       "        8373.8 ,  8422.08,  8457.86,  8470.03,  8503.18,  8577.53,\n",
       "        8596.74,  8600.  ,  8605.53,  8610.79,  8681.85,  8696.95,\n",
       "        8768.97,  8781.24,  8823.22,  8829.21,  8832.04,  8845.4 ,\n",
       "        8861.45,  8867.7 ,  8913.21,  8929.48,  8934.07,  8934.2 ,\n",
       "        9053.82,  9099.29,  9113.48,  9116.58,  9126.35,  9194.56,\n",
       "        9254.31,  9275.54,  9281.21,  9330.95,  9364.48,  9383.2 ,\n",
       "        9487.85,  9593.42,  9597.03,  9647.6 ,  9659.09,  9667.57,\n",
       "        9713.21,  9746.58,  9804.3 ,  9832.65,  9890.  ,  9986.36,\n",
       "       10000.  , 10026.4 , 10132.32, 10350.63, 10546.79, 10750.  ,\n",
       "       10758.76, 10805.55, 10837.41, 10976.49, 10981.3 , 10998.59,\n",
       "       11026.53, 11033.5 , 11118.76, 11278.73, 11292.75, 11410.16,\n",
       "       11439.9 , 11543.  , 11567.9 , 11610.  , 11617.6 , 11626.68,\n",
       "       11642.9 , 11694.56, 11750.18, 11899.33, 11957.29, 12000.  ,\n",
       "       12049.51, 12135.51, 12246.38, 12657.89, 12678.79, 12900.  ,\n",
       "       12998.28, 13010.11, 13068.66, 13243.46, 13250.26, 13257.84,\n",
       "       13308.51, 13321.93, 13354.19, 13512.1 , 13839.08, 14000.  ,\n",
       "       14134.51, 14400.  , 14512.5 , 15000.  , 15014.89, 15045.99,\n",
       "       15050.  , 15051.74, 15320.79, 15399.15, 15423.49, 16000.  ,\n",
       "       16190.48, 16229.17, 16432.17, 17182.  , 17200.  , 17213.89,\n",
       "       17591.49, 18000.  , 18162.04, 18248.15, 19037.47, 20000.  ,\n",
       "       20216.1 , 20963.09, 21263.59, 21500.  , 21519.41, 22000.  ,\n",
       "       22040.84, 22577.15, 24000.  , 24958.55, 25000.  , 30000.  ,\n",
       "       32000.  , 41367.99])"
      ]
     },
     "execution_count": 4,
     "metadata": {},
     "output_type": "execute_result"
    }
   ],
   "source": [
    "salarios = df['Salario_Variable'].unique()\n",
    "salarios.sort()\n",
    "salarios"
   ]
  },
  {
   "cell_type": "code",
   "execution_count": 5,
   "metadata": {},
   "outputs": [
    {
     "data": {
      "text/plain": [
       "array(['Presidentes y Directores Generales en Instituciones Públicas',\n",
       "       'Directores de Organizaciones Civiles y Religiosas',\n",
       "       'Directores y Gerentes en Centros de Investigación y Desarrollo Tecnológico',\n",
       "       'Coordinadores y Jefes de Área en Informática',\n",
       "       'Antropólogos, Arqueólogos e Historiadores',\n",
       "       'Escritores y Críticos Literarios', 'Compositores y Arreglistas',\n",
       "       'Pedagogos, Orientadores Educativos y otros Especialistas en Ciencias Educativas',\n",
       "       'Profesores de Personas con Problemas de Audición y Lenguaje',\n",
       "       'Monjas y Predicadores',\n",
       "       'Locutores de Radio, Televisión y otros Medios de Comunicación',\n",
       "       'Técnicos en Operaciones de Equipos de Radio',\n",
       "       'Controladores de Tráfico Aéreo',\n",
       "       'Operadores de Máquinas de Oficina (Fotocopiadora, Etcétera)',\n",
       "       'Despachadores de Transporte',\n",
       "       'Checadores y Revisores de Transporte',\n",
       "       'Astrólogos, Adivinadores y Afines',\n",
       "       'Trabajadores en la Cría y Cuidado de otro Tipo de Animales',\n",
       "       'Supervisores de Conductores de Transporte y de Maquinaria Móvil',\n",
       "       'Ayudantes de Conductores de Transporte en Vías Férreas',\n",
       "       'Cuidadores y Acomodadores de Autos en Estacionamientos'],\n",
       "      dtype=object)"
      ]
     },
     "execution_count": 5,
     "metadata": {},
     "output_type": "execute_result"
    }
   ],
   "source": [
    "df_neutro = df[df['Salario_Variable']==0]\n",
    "df_neutro['Occupation'].unique()"
   ]
  },
  {
   "cell_type": "code",
   "execution_count": 6,
   "metadata": {},
   "outputs": [
    {
     "data": {
      "text/html": [
       "<div>\n",
       "<style scoped>\n",
       "    .dataframe tbody tr th:only-of-type {\n",
       "        vertical-align: middle;\n",
       "    }\n",
       "\n",
       "    .dataframe tbody tr th {\n",
       "        vertical-align: top;\n",
       "    }\n",
       "\n",
       "    .dataframe thead th {\n",
       "        text-align: right;\n",
       "    }\n",
       "</style>\n",
       "<table border=\"1\" class=\"dataframe\">\n",
       "  <thead>\n",
       "    <tr style=\"text-align: right;\">\n",
       "      <th></th>\n",
       "      <th>Occupation</th>\n",
       "      <th>Salario_Variable</th>\n",
       "    </tr>\n",
       "  </thead>\n",
       "  <tbody>\n",
       "    <tr>\n",
       "      <th>159</th>\n",
       "      <td>Telefonistas y Telegrafistas</td>\n",
       "      <td>1712.32</td>\n",
       "    </tr>\n",
       "    <tr>\n",
       "      <th>104</th>\n",
       "      <td>Auxiliares y Técnicos Topógrafos, en Hidrologí...</td>\n",
       "      <td>2332.27</td>\n",
       "    </tr>\n",
       "    <tr>\n",
       "      <th>171</th>\n",
       "      <td>Vendedores por Catálogo</td>\n",
       "      <td>2344.37</td>\n",
       "    </tr>\n",
       "    <tr>\n",
       "      <th>210</th>\n",
       "      <td>Trabajadores en la Cría de Equinos</td>\n",
       "      <td>2580.00</td>\n",
       "    </tr>\n",
       "    <tr>\n",
       "      <th>130</th>\n",
       "      <td>Auxiliares y Técnicos en Pedagogía y en Educación</td>\n",
       "      <td>2998.45</td>\n",
       "    </tr>\n",
       "    <tr>\n",
       "      <th>...</th>\n",
       "      <td>...</td>\n",
       "      <td>...</td>\n",
       "    </tr>\n",
       "    <tr>\n",
       "      <th>65</th>\n",
       "      <td>Ingenieros en Topografía, Hidrología, Geología...</td>\n",
       "      <td>24958.55</td>\n",
       "    </tr>\n",
       "    <tr>\n",
       "      <th>10</th>\n",
       "      <td>Comandantes de las Fuerzas Armadas</td>\n",
       "      <td>25000.00</td>\n",
       "    </tr>\n",
       "    <tr>\n",
       "      <th>276</th>\n",
       "      <td>Operadores de Máquinas en la Elaboración de Ta...</td>\n",
       "      <td>30000.00</td>\n",
       "    </tr>\n",
       "    <tr>\n",
       "      <th>83</th>\n",
       "      <td>Nutriólogos</td>\n",
       "      <td>32000.00</td>\n",
       "    </tr>\n",
       "    <tr>\n",
       "      <th>70</th>\n",
       "      <td>Supervisores e Inspectores Educativos</td>\n",
       "      <td>41367.99</td>\n",
       "    </tr>\n",
       "  </tbody>\n",
       "</table>\n",
       "<p>311 rows × 2 columns</p>\n",
       "</div>"
      ],
      "text/plain": [
       "                                            Occupation  Salario_Variable\n",
       "159                       Telefonistas y Telegrafistas           1712.32\n",
       "104  Auxiliares y Técnicos Topógrafos, en Hidrologí...           2332.27\n",
       "171                            Vendedores por Catálogo           2344.37\n",
       "210                 Trabajadores en la Cría de Equinos           2580.00\n",
       "130  Auxiliares y Técnicos en Pedagogía y en Educación           2998.45\n",
       "..                                                 ...               ...\n",
       "65   Ingenieros en Topografía, Hidrología, Geología...          24958.55\n",
       "10                  Comandantes de las Fuerzas Armadas          25000.00\n",
       "276  Operadores de Máquinas en la Elaboración de Ta...          30000.00\n",
       "83                                         Nutriólogos          32000.00\n",
       "70               Supervisores e Inspectores Educativos          41367.99\n",
       "\n",
       "[311 rows x 2 columns]"
      ]
     },
     "execution_count": 6,
     "metadata": {},
     "output_type": "execute_result"
    }
   ],
   "source": [
    "df_limpio = df[df['Salario_Variable']!=0]\n",
    "profesiones_df_salarios_puebla_sorted = df_limpio.sort_values(by='Salario_Variable')\n",
    "profesiones_df_salarios_puebla_sorted[['Occupation','Salario_Variable']]"
   ]
  },
  {
   "cell_type": "code",
   "execution_count": 7,
   "metadata": {},
   "outputs": [
    {
     "name": "stdout",
     "output_type": "stream",
     "text": [
      "                               Profesiones Más Bajas  \\\n",
      "0                       Telefonistas y Telegrafistas   \n",
      "1  Auxiliares y Técnicos Topógrafos, en Hidrologí...   \n",
      "2                            Vendedores por Catálogo   \n",
      "3                 Trabajadores en la Cría de Equinos   \n",
      "4  Auxiliares y Técnicos en Pedagogía y en Educación   \n",
      "5  Auxiliares y Técnicos de Equipos de Grabación ...   \n",
      "6  Mecánicos en Mantenimiento y Reparación de Ins...   \n",
      "7                                           Pintores   \n",
      "8  Trabajadores en la Elaboración de Productos a ...   \n",
      "9                       Árbitros y Jueces Deportivos   \n",
      "\n",
      "                               Profesiones Más Altas  \n",
      "0  Presidentes y Directores Generales en Instituc...  \n",
      "1  Directores y Gerentes en Desarrollo Social y E...  \n",
      "2  Controladores de Tráfico de otros Transportes ...  \n",
      "3  Ingenieros en Comunicaciones y Telecomunicaciones  \n",
      "4  Especialistas en Seguridad e Higiene y Salud P...  \n",
      "5  Ingenieros en Topografía, Hidrología, Geología...  \n",
      "6                 Comandantes de las Fuerzas Armadas  \n",
      "7  Operadores de Máquinas en la Elaboración de Ta...  \n",
      "8                                        Nutriólogos  \n",
      "9              Supervisores e Inspectores Educativos  \n"
     ]
    }
   ],
   "source": [
    "# Ordenar el DataFrame por el valor del salario en orden ascendente\n",
    "profesiones_df_salarios_puebla_sorted = df_limpio.sort_values(by='Salario_Variable')\n",
    "\n",
    "# Obtener las 10 profesiones con el salario más bajo\n",
    "profesiones_bajas = profesiones_df_salarios_puebla_sorted.head(10)\n",
    "\n",
    "# Obtener las 10 profesiones con el salario más alto\n",
    "profesiones_altas = profesiones_df_salarios_puebla_sorted.tail(10)\n",
    "\n",
    "df_bajas = pd.DataFrame({'Profesiones Más Bajas': profesiones_bajas['Occupation']})\n",
    "df_altas = pd.DataFrame({'Profesiones Más Altas': profesiones_altas['Occupation']})\n",
    "\n",
    "# Unir los dos DataFrames en una sola tabla\n",
    "tabla_comparativa = pd.concat([df_bajas.reset_index(drop=True), df_altas.reset_index(drop=True)], axis=1)\n",
    "print(tabla_comparativa)\n",
    "\n",
    "# Exportar tabla como archivo HTML\n",
    "def guardar_tabla_como_html(tabla, nombre_archivo, carpeta='assets/tablas'):\n",
    "    if not os.path.exists(carpeta):\n",
    "        os.makedirs(carpeta)  # Crear la carpeta si no existe\n",
    "    \n",
    "    # Tabla como archivo HTML en la carpeta especificada\n",
    "    tabla.to_html(f'{carpeta}/{nombre_archivo}.html', index=False)\n",
    "\n",
    "# Exportar la tabla\n",
    "guardar_tabla_como_html(tabla_comparativa, 'tabla_profesiones')"
   ]
  },
  {
   "cell_type": "code",
   "execution_count": 8,
   "metadata": {},
   "outputs": [
    {
     "name": "stdout",
     "output_type": "stream",
     "text": [
      "                               Profesiones Más Bajas  \\\n",
      "0                       Telefonistas y Telegrafistas   \n",
      "1  Auxiliares y Técnicos Topógrafos, en Hidrologí...   \n",
      "2                            Vendedores por Catálogo   \n",
      "3                 Trabajadores en la Cría de Equinos   \n",
      "4  Auxiliares y Técnicos en Pedagogía y en Educación   \n",
      "5  Auxiliares y Técnicos de Equipos de Grabación ...   \n",
      "6  Mecánicos en Mantenimiento y Reparación de Ins...   \n",
      "7                                           Pintores   \n",
      "8  Trabajadores en la Elaboración de Productos a ...   \n",
      "9                       Árbitros y Jueces Deportivos   \n",
      "\n",
      "                               Profesiones Más Altas  \n",
      "0  Presidentes y Directores Generales en Instituc...  \n",
      "1  Directores y Gerentes en Desarrollo Social y E...  \n",
      "2  Controladores de Tráfico de otros Transportes ...  \n",
      "3  Ingenieros en Comunicaciones y Telecomunicaciones  \n",
      "4  Especialistas en Seguridad e Higiene y Salud P...  \n",
      "5  Ingenieros en Topografía, Hidrología, Geología...  \n",
      "6                 Comandantes de las Fuerzas Armadas  \n",
      "7  Operadores de Máquinas en la Elaboración de Ta...  \n",
      "8                                        Nutriólogos  \n",
      "9              Supervisores e Inspectores Educativos  \n"
     ]
    }
   ],
   "source": [
    "# Ordenar el DataFrame por el valor del salario en orden ascendente\n",
    "profesiones_df_salarios_puebla_sorted = df_limpio.sort_values(by='Salario_Variable')\n",
    "\n",
    "# Obtener las 10 profesiones con el salario más bajo\n",
    "profesiones_bajas = profesiones_df_salarios_puebla_sorted.head(10)\n",
    "\n",
    "# Obtener las 10 profesiones con el salario más alto\n",
    "profesiones_altas = profesiones_df_salarios_puebla_sorted.tail(10)\n",
    "\n",
    "df_bajas = pd.DataFrame({'Profesiones Más Bajas': profesiones_bajas['Occupation']})\n",
    "df_altas = pd.DataFrame({'Profesiones Más Altas': profesiones_altas['Occupation']})\n",
    "\n",
    "# Unir los dos DataFrames en una sola tabla\n",
    "tabla_comparativa = pd.concat([df_bajas.reset_index(drop=True), df_altas.reset_index(drop=True)], axis=1)\n",
    "print(tabla_comparativa)\n",
    "\n",
    "# Exportar tabla como archivo HTML\n",
    "def guardar_tabla_como_html(tabla, nombre_archivo, carpeta='assets/tablas'):\n",
    "    if not os.path.exists(carpeta):\n",
    "        os.makedirs(carpeta)  # Crear la carpeta si no existe\n",
    "    \n",
    "    # Tabla como archivo HTML en la carpeta especificada\n",
    "    tabla.to_html(f'{carpeta}/{nombre_archivo}.html', index=False)\n",
    "\n",
    "# Exportar la tabla\n",
    "guardar_tabla_como_html(tabla_comparativa, 'tabla_profesiones')"
   ]
  },
  {
   "cell_type": "markdown",
   "metadata": {},
   "source": [
    "## Sacar los estilos deseados"
   ]
  },
  {
   "cell_type": "code",
   "execution_count": 9,
   "metadata": {},
   "outputs": [],
   "source": [
    "import os\n",
    "import pandas as pd\n",
    "\n",
    "# Exportar tabla con estilos personalizados\n",
    "def guardar_tabla_como_html(tabla, nombre_archivo, carpeta='assets/tablas'):\n",
    "    if not os.path.exists(carpeta):\n",
    "        os.makedirs(carpeta)  # Crear la carpeta si no existe\n",
    "\n",
    "    # Crear un estilo personalizado de tabla\n",
    "    estilo_html = f\"\"\"\n",
    "    <html>\n",
    "    <head>\n",
    "        <style>\n",
    "            /* Estilo general para las tablas */\n",
    "            table {{\n",
    "                width: 100%; /* Ancho completo */\n",
    "                border-collapse: collapse; /* Colapsar bordes */\n",
    "                margin: 0; /* Margen superior e inferior */\n",
    "                padding: 0; /*Eliminar padding\n",
    "            }}\n",
    "                /* Estilo para el contenedor de la tabla */\n",
    "\n",
    "            .card-body {{\n",
    "\n",
    "                padding: 0; /* Eliminar padding del contenedor */\n",
    "                margin: 0; /* Eliminar margen del contenedor */\n",
    "\n",
    "            }}\n",
    "\n",
    "            /* Estilo para las celdas de encabezado */\n",
    "            th {{\n",
    "                background-color: #f2f2f2; /* Color de fondo claro */\n",
    "                color: #333; /* Color de texto */\n",
    "                padding: 10px; /* Espaciado interno */\n",
    "                text-align: left; /* Alinear texto a la izquierda */\n",
    "                border: 1px solid #ddd; /* Borde de las celdas */\n",
    "            }}\n",
    "\n",
    "            /* Estilo para las celdas del cuerpo */\n",
    "            td {{\n",
    "                padding: 10px; /* Espaciado interno */\n",
    "                border: 1px solid #ddd; /* Borde de las celdas */\n",
    "            }}\n",
    "\n",
    "            /* Estilo para las filas alternas */\n",
    "            tr:nth-child(even) {{\n",
    "                background-color: #f9f9f9; /* Color de fondo alternativo */\n",
    "            }}\n",
    "\n",
    "            /* Estilo para las filas al pasar el mouse */\n",
    "            tr:hover {{\n",
    "                background-color: #f1f1f1; /* Color de fondo al pasar el mouse */\n",
    "            }}\n",
    "\n",
    "            /* Estilo para el texto en las celdas */\n",
    "            td, th {{\n",
    "                text-align: center; /* Centrar texto en celdas */\n",
    "            }}\n",
    "        </style>\n",
    "    </head>\n",
    "    <body>\n",
    "        <div class=\"card\">\n",
    "            <div class=\"card-body\">\n",
    "                <div style=\"overflow-x:auto;\">\n",
    "                    {tabla.to_html(index=False, classes='table-responsive table-striped table-bordered', border=0)}\n",
    "                </div>\n",
    "            </div>\n",
    "        </div>\n",
    "    </body>\n",
    "    </html>\n",
    "    \"\"\"\n",
    "    \n",
    "    # Guardar la tabla con el estilo HTML\n",
    "    with open(f'{carpeta}/{nombre_archivo}.html', 'w', encoding='utf-8') as archivo_html:\n",
    "        archivo_html.write(estilo_html)\n",
    "\n",
    "# Ordenar el DataFrame por el valor del salario en orden ascendente\n",
    "profesiones_df_salarios_puebla_sorted = df_limpio.sort_values(by='Salario_Variable')\n",
    "# Obtener las 10 profesiones con el salario más bajo\n",
    "profesiones_bajas = profesiones_df_salarios_puebla_sorted.head(10)\n",
    "# Obtener las 10 profesiones con el salario más alto\n",
    "profesiones_altas = profesiones_df_salarios_puebla_sorted.tail(10)\n",
    "\n",
    "df_bajas = pd.DataFrame({'Más Bajas': profesiones_bajas['Occupation']})\n",
    "df_altas = pd.DataFrame({'Más Altas': profesiones_altas['Occupation']})\n",
    "\n",
    "# Tabla comparativa\n",
    "tabla_comparativa = pd.concat([df_bajas.reset_index(drop=True), df_altas.reset_index(drop=True)], axis=1)\n",
    "\n",
    "# Exportar la tabla como HTML con estilo personalizado\n",
    "guardar_tabla_como_html(tabla_comparativa, 'tabla_profesiones_off')"
   ]
  },
  {
   "cell_type": "code",
   "execution_count": null,
   "metadata": {},
   "outputs": [],
   "source": []
  }
 ],
 "metadata": {
  "kernelspec": {
   "display_name": "base",
   "language": "python",
   "name": "python3"
  },
  "language_info": {
   "codemirror_mode": {
    "name": "ipython",
    "version": 3
   },
   "file_extension": ".py",
   "mimetype": "text/x-python",
   "name": "python",
   "nbconvert_exporter": "python",
   "pygments_lexer": "ipython3",
   "version": "3.12.7"
  }
 },
 "nbformat": 4,
 "nbformat_minor": 2
}
