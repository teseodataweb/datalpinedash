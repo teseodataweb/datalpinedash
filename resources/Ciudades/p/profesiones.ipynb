{
 "cells": [
  {
   "cell_type": "markdown",
   "metadata": {},
   "source": [
    "# **Profesiones**"
   ]
  },
  {
   "cell_type": "code",
   "execution_count": 1,
   "metadata": {},
   "outputs": [
    {
     "name": "stdout",
     "output_type": "stream",
     "text": [
      "Lista de DataFrames filtrados:\n"
     ]
    },
    {
     "data": {
      "text/plain": [
       "['df_salarios_puebla']"
      ]
     },
     "execution_count": 1,
     "metadata": {},
     "output_type": "execute_result"
    }
   ],
   "source": [
    "# Manejo de datos\n",
    "import os # Directorios\n",
    "import pandas as pd # Manipulación df\n",
    "# Gráficas\n",
    "import plotly.graph_objects as go #Para obtener librería usar: pip install plotly\n",
    "from plotly.subplots import make_subplots\n",
    "import plotly.io as pio # Exportar gráfica\n",
    "\n",
    "# Obtener el directorio actual de trabajo\n",
    "directorio_actual = os.getcwd()\n",
    "\n",
    "# Directorio donde se encuentran los archivos JSON (ruta relativa)\n",
    "directorio_json = os.path.join(directorio_actual, '../../db/datos_json')\n",
    "\n",
    "# Obtener la lista de archivos JSON en el directorio\n",
    "archivos_json = os.listdir(directorio_json)\n",
    "\n",
    "# Cargar los archivos JSON y crear DataFrames\n",
    "for archivo in archivos_json:\n",
    "    nombre_tabla = archivo.replace('datos_', '').replace('.json', '')\n",
    "    ruta_json = os.path.join(directorio_json, archivo)\n",
    "    globals()[f\"df_{nombre_tabla}\"] = pd.read_json(ruta_json)\n",
    "\n",
    "# Obtener todos los nombres de las variables globales\n",
    "nombres_variables_globales = list(globals().keys())\n",
    "\n",
    "# Filtrar los nombres que comienzan con \"df_\", contienen \"alfa_q\" y \"pachuca\"\n",
    "nombres_df_filtrados = [\n",
    "    nombre for nombre in nombres_variables_globales \n",
    "    if nombre.startswith(\"df_\") and \"salarios\" in nombre and \"puebla\" in nombre\n",
    "]\n",
    "\n",
    "# Imprimir la lista de DataFrames filtrados\n",
    "print(\"Lista de DataFrames filtrados:\")\n",
    "nombres_df_filtrados"
   ]
  },
  {
   "cell_type": "code",
   "execution_count": 2,
   "metadata": {},
   "outputs": [],
   "source": [
    "# Crear una lista de DataFrames seleccionados con las columnas específicas\n",
    "dataframes_list = []\n",
    "for nombre_df in nombres_df_filtrados:\n",
    "    # Seleccionar las columnas 'id' y 'categoria'\n",
    "    segment_df = globals()[nombre_df][['id_salarios', 'Occupation','Salario_Variable','Categoria']]\n",
    "    # Añadir el DataFrame a la lista\n",
    "    dataframes_list.append(segment_df)"
   ]
  },
  {
   "cell_type": "code",
   "execution_count": 4,
   "metadata": {},
   "outputs": [
    {
     "name": "stdout",
     "output_type": "stream",
     "text": [
      "Profesiones con los salarios más bajos:\n",
      "['Trabajadores de Apoyo que Realizan Actividades Agrícolas y Ganaderas', 'Trabajadores en la Cría de Caprinos y Ovinos', 'Coordinadores y Jefes de Área en Servicios Contables, Financieros, Banca y Seguros', 'Artesanos y Confeccionadores de Productos Textiles', 'Técnicos de Laboratorios Médicos', 'Parteras', 'Taladores, Trocadores, Cortadores de Árboles y Similares', 'Trabajadores en el Cultivo de Maíz Y/O Frijol', 'Cerrajeros, Afiladores y Pulidores de Herramientas', 'Trabajadores que Combinan Actividades Agrícolas con Ganaderas', 'Curanderos, Hierberos y Hueseros', 'Agrónomos', 'Administradores de Bases de Datos y Redes de Computadora', 'Bailarines y Coreógrafos', 'Escritores y Críticos Literarios', 'Productores de Carbón Vegetal', 'Trabajadores del Vidrio y Similares', 'Carteros (A Pie y en Bicicleta)', 'Coordinadores y Jefes de Área en Informática', 'Trabajadores de la Fuerza Armada Marítima', 'Supervisores, Encargados y Capataces de Trabajadores en Actividades Pesqueras, Acuícolas, Forestales, Caza y Similares', 'Ingenieros Electrónicos', 'Lavanderos y Planchadores Domésticos', 'Trabajadores de Apoyo en la Industria de la Cerámica, Vidrio y Similares', 'Pedagogos, Orientadores Educativos y otros Especialistas en Ciencias Educativas', 'Trabajadores de Apoyo en Actividades Ganaderas', 'Trabajadores de Apoyo en la Industria de Alimentos, Bebidas y Productos de Tabaco', 'Trabajadores en la Elaboración de Bebidas Alcohólicas y no Alcohólicas', 'Repartidores de Mercancías (A Pie y en Bicicleta)', 'Decoradores de Interiores, Jardines y Diversos Materiales (Tazas, Llaveros, Etcétera)', 'Ayudantes en la Preparación de Alimentos', 'Coordinadores y Jefes de Área en Producción Agropecuaria, Silvícola y Pesquera', 'Nutriólogos', 'Vendedores por Catálogo', 'Recolectores de Basura y Material Reciclable', 'Trabajadores en la Cría de Equinos', 'Bordadores y Deshiladores', 'Trabajadores de Apoyo a la Realización de Espectáculos, Deportes y en Parques de Diversiones', 'Mecánicos en Mantenimiento y Reparación de Instrumentos de Precisión y Musicales', 'Instructores en Estudios y Capacitación Comercial y Administrativa', 'Instructores en Idiomas Extranjeros', 'Trabajadores en el Cultivo de Café, Cacao y Tabaco', 'Lavadores de Vehículos en Vía Pública', 'Coordinadores y Jefes de Área en Servicios Legales, Jueces Calificadores y Fiscales', 'Alfareros y Trabajadores Ceramistas', 'Especialistas en Trabajo Social', 'Trabajadores de Apoyo en la Industria de la Madera, Papel y Cartón', 'Trabajadores de Apoyo en Actividades Agrícolas', 'Trabajadores en la Elaboración y Reparación de Productos de Hule, Caucho, Plásticos y Vulcanización de Neumáticos', 'Supervisores en Servicios de Protección y Vigilancia', 'Trabajadores en la Cría Avícola', 'Ingenieros en Topografía, Hidrología, Geología y Geodesia', 'Cuidadores y Acomodadores de Autos en Estacionamientos', 'Trabajadores en Actividades de Beneficio de Productos Pesqueros o Acuícolas', 'Empleados de Ventas, Despachadores y Dependientes en Comercios', 'Peluqueros, Barberos, Estilistas y Peinadores', 'Maquillistas, Manicuristas, Pedicuristas y Tatuadores', 'Directores y Gerentes en Desarrollo Social y Económico', 'Directores y Gerentes en Producción Agropecuaria, Silvícola y Pesquera', 'Directores y Gerentes en Comunicación y Telecomunicaciones', 'Tramitadores Aduanales', 'Técnicos en Reparación de Equipos Electromecánicos', 'Operadores de Máquinas en la Elaboración de Vidrio y Productos de Vidrio y Similares', 'Conductores de Motocicleta', 'Trabajadores en Actividades Pesqueras', 'Operadores de Máquinas en la Elaboración de Celulosa, Papel y Similares', 'Ayudantes de Conductores de Transporte Terrestre con Motor', 'Trabajadores en la Elaboración de Productos a Base de Frutas y Verduras', 'Preparadores y Vendedores Ambulantes de Alimentos', 'Choferes en Casas Particulares', 'Supervisores de Técnicos Eléctricos, en Electrónica y de Equipos en Telecomunicaciones y Electromecánicos', 'Auxiliares y Técnicos en Pedagogía y en Educación', 'Vendedores Ambulantes de Artículos Diversos (Excluyendo los de Venta de Alimentos)', 'Sastres y Modistos, Costureras y Confeccionadores de Prendas de Vestir', 'Auxiliares y Asistentes Dentales', 'Demostradores y Promotores', 'Trabajadores en Actividades de Recolección de Plantas, Hierbas y Raíces no Cultivadas', 'Trabajadores de Apoyo en la Industria Eléctrica, Electrónica y Comunicaciones', 'Trabajadores Domésticos', 'Anaqueleros, Acomodadores y Seleccionadores de Mercancías y Alimentadores de Máquinas Expendedoras', 'Trabajadores de Apoyo en la Industria Química, Petroquímica y Plásticos', 'Trabajadores en la Elaboración de Sustancias y Compuestos Químicos', 'Barrenderos y Trabajadores de Limpieza (Excepto en Hoteles y Restaurantes)', 'Recepcionistas y Trabajadores que Brindan Información (De Forma Personal)', 'Impresores, Linotipistas, Fotograbadores y Encuadernadores', 'Plomeros, Fontaneros e Instaladores de Tubería', 'Trabajadores en otros Cultivos Agrícolas', 'Trabajadores que Brindan Información por Teléfono (Centro de Llamadas) y Anunciadores', 'Profesores en Educación Física y Deporte', 'Cantineros', 'Tejedores de Fibras', 'Trabajadores en la Elaboración de Productos a Base de Azúcar, Chocolate, Confitería y Tabaco', 'Trabajadores de Apoyo en la Industria Textil y del Zapato', 'Técnicos en Instalación y Reparación de Equipos Electrónicos, Telecomunicaciones y Electrodoméstico (Excepto Equipos Informáticos)', 'Agentes de Bienes Raíces', 'Fonderos, Vendedores y Comerciantes de Comida', 'Trabajadores de Apoyo en Actividades Administrativas Diversas', 'Zapateros Artesanales', 'Secretarias', 'Operadores de Máquinas de Costura, Bordado y de Corte para la Confección de Productos Textiles y Prendas de Vestir', 'Artesanos de Productos de Bejuco, Vara, Palma, Carrizo y Mimbre, Excepto Madera', 'Trabajadores de Apoyo en Actividades Silvícolas y Forestales', 'Moldeadores, Torneros y Troqueladores', 'Trabajadores en el Cultivo de Frutales', 'Cuidadores de Niños, Personas con Discapacidad y Ancianos en Casas Particulares', 'Trabajadores de Apoyo en la Elaboración, Reparación y Mantenimiento Mecánico de Equipos, Maquinaria y Productos de Metal y de Precisión', 'Asesores y Analistas en Finanzas', 'Cobradores, Pagadores y Prestamistas', 'Trabajadores en la Elaboración de Productos de Cemento, Cal, Yeso, Azulejo, Piedra y Ladrilleros', 'Ecólogos y Especialistas en Ciencias Atmosféricas', 'Alfabetizadores', 'Recamaristas y Camaristas', 'Entrenadores Deportivos y Directores Técnicos', 'Pintores y Barnizadores de Madera', 'Comerciantes en Establecimientos', 'Trabajadores en la Cría de Ganado Bovino', 'Lavanderos en Establecimientos', 'Auxiliares en Ciencias Sociales y Humanistas', 'Músicos', 'Clasificadores de Desechos', 'Mecánicos en Mantenimiento y Reparación de Maquinaria e Instrumentos Industriales', 'Cajeros, Taquilleros y Receptores de Apuestas', 'Trabajadores en la Cría y Cuidado de otro Tipo de Animales', 'Trabajadores en el Cultivo de Hortalizas y Verduras', 'Taqueros y Preparadores de Comida Rápida, Antojitos, Pizzas, Hot Dogs, Jugos, Café, Etcétera', 'Meseros', 'Operadores de Hornos Metalúrgicos, Coladores y Laminadores y Operadores de Máquinas Trefiladoras y Estiradoras de Metales', 'Investigadores y Especialistas en Sociología y Desarrollo Social', 'Trabajadores en el Cultivo de Flores', 'Conductores de Autobuses, Camiones, Camionetas, Taxis y Automóviles de Pasajeros', 'Fotógrafos', 'Trabajadores en la Elaboración de Pan, Tortilla, Repostería, y otros Productos de Cereales y Harinas', 'Especialistas y Consultores en Mercadotecnia, Publicidad, Comunicación y Comercio Exterior', 'Directores y Gerentes de Restaurantes y Hoteles', 'Trabajadores en la Elaboración de Productos de Carne, Pescado y sus Derivados', 'Cuidadores de Niños, Personas con Discapacidad y Ancianos en Establecimientos', 'Vigilantes y Guardias en Establecimientos', 'Abogados', 'Lavadores de Vehículos en Establecimientos', 'Médicos Generales y Familiares', 'Ayudantes de Jardineros', 'Diseñadores Gráficos', 'Agentes de Seguros y Servicios Financieros (Ejecutivos de Cuenta)', 'Mozos de Hotel y Restaurante', 'Empacadores de Objetos y Mercancías', 'Directores y Gerentes en Servicios de Transporte', 'Presidentes y Directores Generales en Instituciones Públicas', 'Presidentes y Autoridades Municipales', 'Limpiadores de Calzado', 'Conductores de Maquinaria Móvil para el Movimiento de Mercancías en Fábricas, Puertos, Comercios, Etcétera', 'Ensambladores y Montadores de Partes Eléctricas y Electrónicas', 'Carpinteros, Ebanistas y Cepilladores en la Elaboración de Productos de Madera', 'Vendedores por Teléfono', 'Supervisores de Artesanos y Trabajadores en la Elaboración de Productos de Madera, Papel, Textiles y de Cuero y Piel', 'Médicos Especialistas', 'Edecanes', 'Operadores de Máquinas y Equipos de Hilar y Bobinar Fibras Textiles Naturales y Sintéticas', 'Cargadores', 'Herreros, Balconeros, Aluminadores y Forjadores', 'Patronistas de Productos Textiles', 'Planchadores y Tintoreros en Establecimientos', 'Operadores de Máquinas en el Tratamiento del Cuero, Piel y la Elaboración de Calzado', 'Operadores de Equipos Portátiles Especializados para la Construcción', 'Auxiliares en Contabilidad, Economía, Finanzas y Agentes de Bolsa', 'Jardineros en Casas Particulares', 'Supervisores en la Preparación y Servicio de Alimentos y Bebidas, Así como en Servicios de Esparcimiento y de Hotelería']\n",
      "\n",
      "Profesiones con los salarios más altos:\n",
      "['Trabajadores de Apoyo en la Construcción', 'Instructores y Capacitadores en Oficios y para el Trabajo', 'Capturistas de Datos', 'Trabajadores en la Elaboración de Productos Lácteos', 'Tapiceros', 'Agentes y Representantes de Ventas y Consignatarios', 'Directores y Gerentes en Producción Manufacturera', 'Arquitectos, Planificadores Urbanos y del Transporte', 'Fumigadores y Controladores de Plagas', 'Supervisores de Trabajadores que Brindan y Manejan Información', 'Auxiliares y Técnicos de Equipos de Grabación y Reproducción de Video', 'Coordinadores y Jefes de Área en Administración, Recursos Humanos y Mercadotecnia', 'Supervisores en Limpieza, Amas de Llaves, Mayordomos y en Estacionamientos', 'Auxiliares en Enfermería y Paramédicos', 'Conductores de Camiones, Camionetas y Automóviles de Carga', 'Pintores de Brocha Gorda', 'Instaladores de Material Aislante, de Impermeabilización, Vidrio y otros Materiales', 'Entrenadores de Animales y Ocupaciones Relacionadas con el Cuidado de Mascotas', 'Encargados y Trabajadores en Control de Almacén y Bodega', 'Policías y Agentes de Tránsito', 'Profesores de Preparatoria y Equivalentes', 'Supervisores en Procesos de Ensamblado y Montaje de Maquinaria, Herramientas y Productos Metálicos y Electrónicos', 'Enfermeras (Técnicas)', 'Trabajadores de Paquetería, Maleteros y Botones de Hotel', 'Directores de Organizaciones Civiles y Religiosas', 'Farmacólogos', 'Encargados y Supervisores de Ventas de Productos y de Servicios Financieros y de Alquiler', 'Técnicos en Aparatos de Diagnóstico, Tratamiento Médico, Podólogos y Fisioterapeutas', 'Operadores de Máquinas para Fabricar Tejidos de Punto, Telas y Alfombras', 'Monjas y Predicadores', 'Trabajadores en Instalación y Reparación de Equipos Electrónicos, Telecomunicaciones y Electrodoméstico (Excepto Equipos Informáticos)', 'Jardineros en Establecimientos', 'Técnicos en la Instalación y Reparación de Redes, Equipos y en Sistemas Computacionales', 'Diseñadores Industriales', 'Supervisores de Artesanos y Trabajadores en la Elaboración de Productos de Hule, Caucho, Plásticos y de Sustancias Químicas', 'Supervisores de Secretarias, Capturistas, Cajeros y Trabajadores de Control de Archivo y Transporte', 'Bañeros y Masajistas', 'Trabajadores en la Extracción de Cantera, Arcilla, Arena, Piedra y Grava', 'Auxiliares y Técnicos en Agronomía', 'Operadores de Máquinas en la Elaboración de Alimentos, Aceites, Grasas, Sal y Especias', 'Profesores de Enseñanza Secundaria', 'Operadores de Máquinas que Cortan, Perforan, Doblan, Troquelan, Sueldan, Etc., Piezas y Productos Metálicos', 'Supervisores e Inspectores Educativos', 'Cantantes', 'Trabajadores en Archivo y Correspondencia', 'Yeseros, Escayolistas y otros Recubridores de Techos y Paredes', 'Auxiliares Hospitalarios y de Medicina', 'Mecánicos en Mantenimiento y Reparación de Vehículos de Motor', 'Trabajadores en la Cría de Porcinos', 'Operadores de Máquinas Pulidoras, Galvanizadoras y Recubridoras de Metal', 'Hojalateros, Chaperos, Latoneros, Cobreros y Pintores de Metales', 'Operadores de Máquinas de Lavado, Blanqueo, Teñido, Estampado, Afelpado, Planchado y Acabado de Productos Textiles, Cuero, Piel y Similares', 'Cortadores de Leña', 'Auxiliares y Técnicos en Veterinaria, Pesca y Forestación', 'Auxiliares y Técnicos en Construcción y Arquitectura', 'Técnicos Eléctricos', 'Trabajadores de Apoyo en Plomería e Instalación de Tuberías', 'Traductores e Intérpretes', 'Auxiliares en Administración, Mercadotecnia, Comercialización y Comercio Exterior', 'Contadores y Auditores', 'Operadores de Máquinas para la Elaboración de Productos a Base de Papel y Cartón', 'Albañiles, Mamposteros y Afines', 'Sacerdotes, Pastores y otros Teólogos', 'Operadores de Máquinas en la Elaboración de Productos de Cerámica, Mosaico, Azulejo y Similares', 'Cocineros', 'Choferes Vendedores', 'Operadores de Máquinas para la Elaboración y Ensamble de Productos de Plástico y Hule', 'Telefonistas y Telegrafistas', 'Animadores y Organizadores de Eventos', 'Coordinadores y Jefes de Área en Museos, Cines, Deportivos y Servicios Culturales', 'Mecánicos en Instalación, Mantenimiento y Reparación de Equipos de Refrigeración, Climas y Aire Acondicionado.', 'Repartidores de Mensajería (A Pie y en Bicicleta) y Mandaderos', 'Trabajadores en la Preparación de Fibras e Hilados', 'Profesores de Enseñanza Primaria', 'Auxiliares y Técnicos en Ciencias Biológicas, Químicas y del Medio Ambiente', 'Conductores de Maquinaria Móvil para la Construcción y Minería', 'Operadores de Máquinas para la Elaboración de Productos Farmacéuticos y Cosméticos', 'Trabajadores en Reparación de Equipos Electromecánicos', 'Directores y Productores Artísticos de Cine, Teatro y Afines', 'Dibujantes y Diseñadores Artísticos, Ilustradores y Grabadores', 'Checadores y Revisores de Transporte', 'Electricistas y Linieros', 'Ensambladores y Montadores de Herramientas, Maquinaria, Equipos y Productos Metálicos', 'Profesores Universitarios y de Enseñanza Superior', 'Operadores de Máquinas para el Tratamiento de la Madera y Elaboración de Aglomerados y Triplay', 'Operadores de Máquinas para la Elaboración de Productos Químicos', 'Supervisores de Trabajadores en la Elaboración y Procesamiento de Alimentos, Bebidas y Productos de Tabaco', 'Veterinarios y Zootecnistas', 'Psicólogos', 'Administradores y Especialistas en Recursos Humanos y Sistemas de Gestión', 'Ingenieros Mecánicos', 'Supervisores de Artesanos y Trabajadores en el Tratamiento y Elaboración de Productos de Metal', 'Valuadores, Subastadores y Rematadores', 'Periodistas y Redactores', 'Trabajadores en el Alquiler Inmobiliario (Casas, Terrenos, Etcétera)', 'Supervisores de Trabajadores en la Extracción, Albañiles y en Acabados de la Construcción', 'Directores y Gerentes en Administración, Recursos Humanos y Mercadotecnia', 'Techadores (Colocadores de Palapas, Etcétera)', 'Técnicos Dietistas y Nutriólogos', 'Supervisores de Conductores de Transporte y de Maquinaria Móvil', 'Profesores de Enseñanza Preescolar', 'Pintores', 'Técnicos en Mantenimiento y Reparación de Vehículos de Motor', 'Trabajadores en Viveros e Invernaderos', 'Supervisores de Operadores de Maquinaria Industrial', 'Operadores de Máquinas y Equipos para la Captación, Bombeo y Distribución de Agua', 'Operadores de Máquinas en la Elaboración de Bebidas Alcohólicas y no Alcohólicas', 'Directores y Gerentes en Servicios Funerarios y otros Servicios', 'Técnicos en Mantenimiento y Reparación de Maquinaria e Instrumentos Industriales', 'Operadores de Máquinas y Equipos para la Extracción y Beneficio en Minas y Canteras', 'Auxiliares en Servicios Jurídicos', 'Coordinadores y Jefes de Área en Producción Manufacturera', 'Ingenieros Civiles y de la Construcción', 'Químicos', 'Ingenieros Eléctricos', 'Profesores de Personas con Problemas de Audición y Lenguaje', 'Bomberos', 'Coordinadores y Jefes de Área en Construcción, Reparación y Mantenimiento', 'Investigadores y Especialistas en Matemáticas, Estadística y Actuaría', 'Investigadores y Especialistas en Ciencias Políticas y Administración Pública', 'Joyeros, Orfebres, Plateros y Pulidores de Metal', 'Instaladores de Pisos, Azulejos, Mosaicos y Baldosas', 'Coordinadores y Jefes de Área en Servicios de Vigilancia y Seguridad', 'Operadores de Máquinas para la Elaboración de Productos de Madera, Bejuco, Mimbre y Similares', 'Coordinadores y Jefes de Área de Ventas, Comercialización y Alquiler', 'Trabajadores de la Fuerza Armada Terrestre', 'Soldadores y Oxicortadores', 'Directores y Gerentes en Construcción, Reparación y Mantenimiento', 'Carpinteros de Obra Negra', 'Coordinadores y Jefes de Área en Desarrollo Social y Económico', 'Instructores en Estudios y Capacitación Artística', 'Escultores', 'Directores y Gerentes de Ventas, Comercialización y Alquiler', 'Coordinadores y Jefes de Área en Servicios de Salud, Protección Civil y Medio Ambiente', 'Operadores de Máquinas de Oficina (Fotocopiadora, Etcétera)', 'Ingenieros en Comunicaciones y Telecomunicaciones', 'Técnicos de Prótesis Médicas y Dentales', 'Técnicos en Seguridad en el Trabajo e Higiene', 'Locutores de Radio, Televisión y otros Medios de Comunicación', 'Directores y Gerentes en Servicios Contables, Financieros, Banca y Seguros', 'Ingenieros Industriales', 'Auxiliares y Técnicos Topógrafos, en Hidrología y Geología', 'Coordinadores y Jefes de Área en Servicios de Transporte', 'Codificadores de Información', 'Auxiliares y Técnicos Industriales y Químicos', 'Auxiliares y Técnicos de Ingeniería de Audio, Sonido e Iluminación', 'Investigadores y Especialistas en Física', 'Taquígrafos, Mecanógrafos y Similares', 'Presidentes y Directores Generales en Instituciones y Empresas Privadas', 'Directores y Gerentes en Centros de Enseñanza y Capacitación', 'Desarrolladores y Analistas de Software y Multimedia', 'Enfermeras Especialistas', 'Biólogos y Especialistas en Ciencias del Mar y Oceanógrafos', 'Supervisores de Mecánicos y Técnicos en Mantenimiento y Reparación de Equipos Mecánicos, Vehículos de Motor, Instrumentos Industriales y Equipo de Refrigeración', 'Coordinadores y Jefes de Área en Centros de Enseñanza y Capacitación', 'Jueces de Juzgado, Directores y Gerentes en Servicios Legales y Procuración de Justicia', 'Ingenieros Biomédicos', 'Directores y Gerentes de Museos, Cines y otros Establecimientos Deportivos y Culturales', 'Guías de Turismo en Museos, Casinos, Parques, Cines y otros Centros Recreativos', 'Ingenieros Químicos', 'Trabajadores en el Alquiler de Bienes Muebles (Loza, Películas, Video Juegos, Etcétera)', 'Directores y Gerentes en Servicios de Salud, Protección Civil y Medio Ambiente', 'Oficiales del Ministerio Público y Detectives', 'Montadores de Estructuras Metálicas', 'Optometristas', 'Altas Autoridades Gubernamentales y Jurisdiccionales', 'Capitanes, Tenientes y Jefes de Área de las Fuerzas Armadas']\n"
     ]
    }
   ],
   "source": [
    "# Ordenar el DataFrame por el valor del salario en orden ascendente\n",
    "profesiones_df_salarios_puebla_sorted = df_salarios_puebla.sort_values(by='Salario_Variable')\n",
    "\n",
    "# Dividir el DataFrame en dos partes: bajos y altos salarios\n",
    "corte = len(profesiones_df_salarios_puebla_sorted) // 2\n",
    "profesiones_bajas = profesiones_df_salarios_puebla_sorted.iloc[:corte]\n",
    "profesiones_altas = profesiones_df_salarios_puebla_sorted.iloc[corte:]\n",
    "\n",
    "# Imprimir la lista de ocupaciones para salarios más bajos\n",
    "print(\"Profesiones con los salarios más bajos:\")\n",
    "print(profesiones_bajas['Occupation'].tolist())\n",
    "\n",
    "# Imprimir la lista de ocupaciones para salarios más altos\n",
    "print(\"\\nProfesiones con los salarios más altos:\")\n",
    "print(profesiones_altas['Occupation'].tolist())"
   ]
  },
  {
   "cell_type": "code",
   "execution_count": 6,
   "metadata": {},
   "outputs": [
    {
     "name": "stdout",
     "output_type": "stream",
     "text": [
      "                               Profesiones Más Bajas  \\\n",
      "0  Trabajadores de Apoyo que Realizan Actividades...   \n",
      "1       Trabajadores en la Cría de Caprinos y Ovinos   \n",
      "2  Coordinadores y Jefes de Área en Servicios Con...   \n",
      "3  Artesanos y Confeccionadores de Productos Text...   \n",
      "4                   Técnicos de Laboratorios Médicos   \n",
      "5                                           Parteras   \n",
      "6  Taladores, Trocadores, Cortadores de Árboles y...   \n",
      "7      Trabajadores en el Cultivo de Maíz Y/O Frijol   \n",
      "8  Cerrajeros, Afiladores y Pulidores de Herramie...   \n",
      "9  Trabajadores que Combinan Actividades Agrícola...   \n",
      "\n",
      "                               Profesiones Más Altas  \n",
      "0           Trabajadores de Apoyo en la Construcción  \n",
      "1  Instructores y Capacitadores en Oficios y para...  \n",
      "2                               Capturistas de Datos  \n",
      "3  Trabajadores en la Elaboración de Productos Lá...  \n",
      "4                                          Tapiceros  \n",
      "5  Agentes y Representantes de Ventas y Consignat...  \n",
      "6  Directores y Gerentes en Producción Manufacturera  \n",
      "7  Arquitectos, Planificadores Urbanos y del Tran...  \n",
      "8              Fumigadores y Controladores de Plagas  \n",
      "9  Supervisores de Trabajadores que Brindan y Man...  \n"
     ]
    }
   ],
   "source": [
    "# Ordenar el DataFrame por el valor del salario en orden ascendente\n",
    "profesiones_df_salarios_puebla_sorted = df_salarios_puebla.sort_values(by='Salario_Variable')\n",
    "\n",
    "# Dividir el DataFrame en dos partes: bajos y altos salarios\n",
    "corte = len(profesiones_df_salarios_puebla_sorted) // 2\n",
    "profesiones_bajas = profesiones_df_salarios_puebla_sorted.iloc[:corte].head(10)  # Obtener solo las 10 primeras\n",
    "profesiones_altas = profesiones_df_salarios_puebla_sorted.iloc[corte:].head(10)  # Obtener solo las 10 primeras\n",
    "df_bajas = pd.DataFrame({'Profesiones Más Bajas': profesiones_bajas['Occupation']})\n",
    "df_altas = pd.DataFrame({'Profesiones Más Altas': profesiones_altas['Occupation']})\n",
    "\n",
    "# Unir los dos DataFrames en una sola tabla\n",
    "tabla_comparativa = pd.concat([df_bajas.reset_index(drop=True), df_altas.reset_index(drop=True)], axis=1)\n",
    "print(tabla_comparativa)\n",
    "\n",
    "# Exportar tabla como archivo HTML\n",
    "def guardar_tabla_como_html(tabla, nombre_archivo, carpeta='assets/tablas'):\n",
    "    if not os.path.exists(carpeta):\n",
    "        os.makedirs(carpeta)  # Crear la carpeta si no existe\n",
    "    \n",
    "    # Tabla como archivo HTML en la carpeta especificada\n",
    "    tabla.to_html(f'{carpeta}/{nombre_archivo}.html', index=False)\n",
    "\n",
    "# Exportar la tabla\n",
    "guardar_tabla_como_html(tabla_comparativa, 'tabla_profesiones')"
   ]
  }
 ],
 "metadata": {
  "kernelspec": {
   "display_name": "base",
   "language": "python",
   "name": "python3"
  },
  "language_info": {
   "codemirror_mode": {
    "name": "ipython",
    "version": 3
   },
   "file_extension": ".py",
   "mimetype": "text/x-python",
   "name": "python",
   "nbconvert_exporter": "python",
   "pygments_lexer": "ipython3",
   "version": "3.9.13"
  }
 },
 "nbformat": 4,
 "nbformat_minor": 2
}
