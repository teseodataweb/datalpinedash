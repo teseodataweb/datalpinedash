{
 "cells": [
  {
   "cell_type": "markdown",
   "metadata": {},
   "source": [
    "# Trata de base **Salarios** "
   ]
  },
  {
   "cell_type": "code",
   "execution_count": 10,
   "metadata": {},
   "outputs": [
    {
     "name": "stdout",
     "output_type": "stream",
     "text": [
      "<class 'pandas.core.frame.DataFrame'>\n",
      "RangeIndex: 312 entries, 0 to 311\n",
      "Data columns (total 11 columns):\n",
      " #   Column             Non-Null Count  Dtype  \n",
      "---  ------             --------------  -----  \n",
      " 0   Occupation         312 non-null    object \n",
      " 1   Workforce          312 non-null    int64  \n",
      " 2   Monthly Wage       312 non-null    float64\n",
      " 3   lastPeriod         312 non-null    float64\n",
      " 4   Diferencia_1       312 non-null    float64\n",
      " 5   Diferencia _2      312 non-null    float64\n",
      " 6   Salario Variables  312 non-null    float64\n",
      " 7   Volumen            312 non-null    float64\n",
      " 8   Categoria          312 non-null    object \n",
      " 9   Pareja             312 non-null    float64\n",
      " 10  Categoria Pareja   312 non-null    object \n",
      "dtypes: float64(7), int64(1), object(3)\n",
      "memory usage: 26.9+ KB\n"
     ]
    }
   ],
   "source": [
    "import pandas as pd\n",
    "sheet = 'M1'\n",
    "df = pd.read_excel('Salarios_Hidalgo.xlsx', sheet_name=sheet)\n",
    "df.info()"
   ]
  },
  {
   "cell_type": "code",
   "execution_count": 11,
   "metadata": {},
   "outputs": [
    {
     "data": {
      "text/html": [
       "<div>\n",
       "<style scoped>\n",
       "    .dataframe tbody tr th:only-of-type {\n",
       "        vertical-align: middle;\n",
       "    }\n",
       "\n",
       "    .dataframe tbody tr th {\n",
       "        vertical-align: top;\n",
       "    }\n",
       "\n",
       "    .dataframe thead th {\n",
       "        text-align: right;\n",
       "    }\n",
       "</style>\n",
       "<table border=\"1\" class=\"dataframe\">\n",
       "  <thead>\n",
       "    <tr style=\"text-align: right;\">\n",
       "      <th></th>\n",
       "      <th>Occupation</th>\n",
       "      <th>Workforce</th>\n",
       "      <th>Monthly Wage</th>\n",
       "      <th>lastPeriod</th>\n",
       "      <th>Diferencia_1</th>\n",
       "      <th>Diferencia _2</th>\n",
       "      <th>Salario Variables</th>\n",
       "      <th>Volumen</th>\n",
       "      <th>Categoria</th>\n",
       "      <th>Pareja</th>\n",
       "      <th>Categoria Pareja</th>\n",
       "    </tr>\n",
       "  </thead>\n",
       "  <tbody>\n",
       "    <tr>\n",
       "      <th>0</th>\n",
       "      <td>Guías de Turismo en Museos, Casinos, Parques, ...</td>\n",
       "      <td>911</td>\n",
       "      <td>3333.040615</td>\n",
       "      <td>3333.0</td>\n",
       "      <td>-0.040615</td>\n",
       "      <td>0.999988</td>\n",
       "      <td>3333.040615</td>\n",
       "      <td>3036400.0</td>\n",
       "      <td>G</td>\n",
       "      <td>5632.838639</td>\n",
       "      <td>F</td>\n",
       "    </tr>\n",
       "    <tr>\n",
       "      <th>1</th>\n",
       "      <td>Trabajadores en el Cultivo de Flores</td>\n",
       "      <td>1703</td>\n",
       "      <td>8279.330593</td>\n",
       "      <td>8279.0</td>\n",
       "      <td>-0.330593</td>\n",
       "      <td>0.999960</td>\n",
       "      <td>8279.330593</td>\n",
       "      <td>14099700.0</td>\n",
       "      <td>F2</td>\n",
       "      <td>13992.068702</td>\n",
       "      <td>E</td>\n",
       "    </tr>\n",
       "    <tr>\n",
       "      <th>2</th>\n",
       "      <td>Ensambladores y Montadores de Herramientas, Ma...</td>\n",
       "      <td>68</td>\n",
       "      <td>6480.000000</td>\n",
       "      <td>6480.0</td>\n",
       "      <td>0.000000</td>\n",
       "      <td>1.000000</td>\n",
       "      <td>6480.000000</td>\n",
       "      <td>440640.0</td>\n",
       "      <td>F</td>\n",
       "      <td>10951.200000</td>\n",
       "      <td>F3</td>\n",
       "    </tr>\n",
       "    <tr>\n",
       "      <th>3</th>\n",
       "      <td>Especialistas y Consultores en Mercadotecnia, ...</td>\n",
       "      <td>1797</td>\n",
       "      <td>6449.805231</td>\n",
       "      <td>6449.0</td>\n",
       "      <td>-0.805231</td>\n",
       "      <td>0.999875</td>\n",
       "      <td>6449.805231</td>\n",
       "      <td>11590300.0</td>\n",
       "      <td>F</td>\n",
       "      <td>10900.170840</td>\n",
       "      <td>F4</td>\n",
       "    </tr>\n",
       "    <tr>\n",
       "      <th>4</th>\n",
       "      <td>Técnicos en la Instalación y Reparación de Red...</td>\n",
       "      <td>2944</td>\n",
       "      <td>2786.083560</td>\n",
       "      <td>2786.0</td>\n",
       "      <td>-0.083560</td>\n",
       "      <td>0.999970</td>\n",
       "      <td>2786.083560</td>\n",
       "      <td>8202230.0</td>\n",
       "      <td>G</td>\n",
       "      <td>4708.481216</td>\n",
       "      <td>G</td>\n",
       "    </tr>\n",
       "  </tbody>\n",
       "</table>\n",
       "</div>"
      ],
      "text/plain": [
       "                                          Occupation  Workforce  Monthly Wage  \\\n",
       "0  Guías de Turismo en Museos, Casinos, Parques, ...        911   3333.040615   \n",
       "1               Trabajadores en el Cultivo de Flores       1703   8279.330593   \n",
       "2  Ensambladores y Montadores de Herramientas, Ma...         68   6480.000000   \n",
       "3  Especialistas y Consultores en Mercadotecnia, ...       1797   6449.805231   \n",
       "4  Técnicos en la Instalación y Reparación de Red...       2944   2786.083560   \n",
       "\n",
       "   lastPeriod  Diferencia_1  Diferencia _2  Salario Variables     Volumen  \\\n",
       "0      3333.0     -0.040615       0.999988        3333.040615   3036400.0   \n",
       "1      8279.0     -0.330593       0.999960        8279.330593  14099700.0   \n",
       "2      6480.0      0.000000       1.000000        6480.000000    440640.0   \n",
       "3      6449.0     -0.805231       0.999875        6449.805231  11590300.0   \n",
       "4      2786.0     -0.083560       0.999970        2786.083560   8202230.0   \n",
       "\n",
       "  Categoria        Pareja Categoria Pareja  \n",
       "0         G   5632.838639                F  \n",
       "1        F2  13992.068702                E  \n",
       "2         F  10951.200000               F3  \n",
       "3         F  10900.170840               F4  \n",
       "4         G   4708.481216                G  "
      ]
     },
     "execution_count": 11,
     "metadata": {},
     "output_type": "execute_result"
    }
   ],
   "source": [
    "df.head()"
   ]
  },
  {
   "cell_type": "code",
   "execution_count": 9,
   "metadata": {},
   "outputs": [
    {
     "data": {
      "text/plain": [
       "Index(['Occupation', 'Workforce', 'Monthly Wage', 'lastPeriod', 'Diferencia ',\n",
       "       'Diferencia .1', 'Salario Variables', 'Volumen', 'Categoria', 'Pareja',\n",
       "       'Categoria Pareja'],\n",
       "      dtype='object')"
      ]
     },
     "execution_count": 9,
     "metadata": {},
     "output_type": "execute_result"
    }
   ],
   "source": [
    "df.columns"
   ]
  },
  {
   "cell_type": "code",
   "execution_count": 14,
   "metadata": {},
   "outputs": [],
   "source": [
    "df['id'] = range(1, len(df) + 1)\n",
    "df['Year'] = 2024"
   ]
  },
  {
   "cell_type": "code",
   "execution_count": 15,
   "metadata": {},
   "outputs": [],
   "source": [
    "archivo = 'salarios_hidalgo_2024'\n",
    "ext = '.csv'\n",
    "archivo_export = archivo + ext\n",
    "df.to_csv(archivo_export, encoding='utf-8', index=False)"
   ]
  },
  {
   "cell_type": "code",
   "execution_count": null,
   "metadata": {},
   "outputs": [],
   "source": []
  }
 ],
 "metadata": {
  "kernelspec": {
   "display_name": "base",
   "language": "python",
   "name": "python3"
  },
  "language_info": {
   "codemirror_mode": {
    "name": "ipython",
    "version": 3
   },
   "file_extension": ".py",
   "mimetype": "text/x-python",
   "name": "python",
   "nbconvert_exporter": "python",
   "pygments_lexer": "ipython3",
   "version": "3.9.13"
  }
 },
 "nbformat": 4,
 "nbformat_minor": 2
}
