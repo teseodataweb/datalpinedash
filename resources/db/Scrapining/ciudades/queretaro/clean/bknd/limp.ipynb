{
 "cells": [
  {
   "cell_type": "code",
   "execution_count": 3,
   "metadata": {},
   "outputs": [],
   "source": [
    "import pandas as pd # Manipulación df\n",
    "\n",
    "df_abril = pd.read_csv('C:/xampp/htdocs/datalpine/resources/db/Scrapining/ciudades/queretaro/clean/abril_queretaro_2024.csv')\n",
    "df_agosto = pd.read_csv('C:/xampp/htdocs/datalpine/resources/db/Scrapining/ciudades/queretaro/clean/agosto_queretaro_2024.csv')\n",
    "df_marzo = pd.read_csv('C:/xampp/htdocs/datalpine/resources/db/Scrapining/ciudades/queretaro/clean/marzo_queretaro_2024.csv')\n",
    "df_mayo = pd.read_csv('C:/xampp/htdocs/datalpine/resources/db/Scrapining/ciudades/queretaro/clean/mayo_queretaro_2024.csv')"
   ]
  },
  {
   "cell_type": "code",
   "execution_count": 4,
   "metadata": {},
   "outputs": [],
   "source": [
    "df_abril['Estado'] = 'Venta'\n",
    "df_agosto['Estado'] = 'Venta'\n",
    "df_marzo['Estado'] = 'Venta'\n",
    "df_mayo['Estado'] = 'Venta'"
   ]
  },
  {
   "cell_type": "code",
   "execution_count": 5,
   "metadata": {},
   "outputs": [
    {
     "data": {
      "text/plain": [
       "Index(['id', 'categoria', 'precio', 'propiedad', 'metros_total',\n",
       "       'metros_construido', 'precio_m2_terreno', 'precio_m2_construido',\n",
       "       'tiempo_de_publicacion', 'meses_transcurridos', 'tipo',\n",
       "       'estacionamientos', 'recamaras', 'banos', 'medio_banos', 'bano_total',\n",
       "       'seguridad_privada', 'Colonia', 'CP', 'ubicacion', 'url', 'descripcion',\n",
       "       'Estado'],\n",
       "      dtype='object')"
      ]
     },
     "execution_count": 5,
     "metadata": {},
     "output_type": "execute_result"
    }
   ],
   "source": [
    "df_abril.columns"
   ]
  },
  {
   "cell_type": "code",
   "execution_count": 7,
   "metadata": {},
   "outputs": [],
   "source": [
    "archivo = 'abril_queretaro_2024.csv'\n",
    "df_abril.to_csv(archivo, encoding='utf-8', index=False)\n",
    "archivo = 'agosto_queretaro_2024.csv'\n",
    "df_agosto.to_csv(archivo, encoding='utf-8', index=False)\n",
    "archivo = 'marzo_queretaro_2024.csv'\n",
    "df_marzo.to_csv(archivo, encoding='utf-8', index=False)\n",
    "archivo = 'mayo_queretaro_2024.csv'\n",
    "df_mayo.to_csv(archivo, encoding='utf-8', index=False)"
   ]
  }
 ],
 "metadata": {
  "kernelspec": {
   "display_name": "base",
   "language": "python",
   "name": "python3"
  },
  "language_info": {
   "codemirror_mode": {
    "name": "ipython",
    "version": 3
   },
   "file_extension": ".py",
   "mimetype": "text/x-python",
   "name": "python",
   "nbconvert_exporter": "python",
   "pygments_lexer": "ipython3",
   "version": "3.9.13"
  }
 },
 "nbformat": 4,
 "nbformat_minor": 2
}
