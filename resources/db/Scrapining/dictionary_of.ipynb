{
 "cells": [
  {
   "cell_type": "code",
   "execution_count": 2,
   "metadata": {},
   "outputs": [
    {
     "name": "stdout",
     "output_type": "stream",
     "text": [
      "dict_keys(['Distrito Federal', 'Durango', 'Guanajuato', 'Guerrero', 'Hidalgo', 'Jalisco', 'Querétaro', 'México'])\n"
     ]
    }
   ],
   "source": [
    "import pandas as pd\n",
    "import unicodedata\n",
    "\n",
    "# Cargar todas las hojas en un diccionario de DataFrames\n",
    "dfs = pd.read_excel('C:/xampp/htdocs/datalpine/resources/db/Scrapining/cp_dictionary_estandarizado.xlsx', sheet_name=None)\n",
    "\n",
    "# Ver las llaves (nombres de las hojas)\n",
    "print(dfs.keys())"
   ]
  },
  {
   "cell_type": "code",
   "execution_count": 3,
   "metadata": {},
   "outputs": [
    {
     "name": "stdout",
     "output_type": "stream",
     "text": [
      "Columnas estandarizadas en la hoja Distrito Federal: ['d_codigo', 'd_tipo_asenta', 'D_mnpio', 'd_estado', 'd_ciudad', 'd_zona']\n",
      "Columnas estandarizadas en la hoja Durango: ['d_codigo', 'd_tipo_asenta', 'D_mnpio', 'd_estado', 'd_ciudad', 'd_zona']\n",
      "Columnas estandarizadas en la hoja Guanajuato: ['d_codigo', 'd_tipo_asenta', 'D_mnpio', 'd_estado', 'd_ciudad', 'd_zona']\n",
      "Columnas estandarizadas en la hoja Guerrero: ['d_codigo', 'd_tipo_asenta', 'D_mnpio', 'd_estado', 'd_ciudad', 'd_zona']\n",
      "Columnas estandarizadas en la hoja Hidalgo: ['d_codigo', 'd_tipo_asenta', 'D_mnpio', 'd_estado', 'd_ciudad', 'd_zona']\n",
      "Columnas estandarizadas en la hoja Jalisco: ['d_asenta', 'd_tipo_asenta', 'D_mnpio', 'd_estado', 'd_ciudad', 'd_zona']\n",
      "Columnas estandarizadas en la hoja Querétaro: ['d_asenta', 'd_tipo_asenta', 'D_mnpio', 'd_estado', 'd_ciudad', 'd_zona']\n",
      "Columnas estandarizadas en la hoja México: ['d_codigo', 'd_tipo_asenta', 'D_mnpio', 'd_estado', 'd_ciudad', 'd_zona']\n",
      "Archivo guardado correctamente.\n"
     ]
    }
   ],
   "source": [
    "# Función para estandarizar texto\n",
    "def standardize_text(text):\n",
    "    if isinstance(text, str):\n",
    "        # Minúsculas\n",
    "        text = text.lower()\n",
    "        # Reemplazar múltiples espacios con un solo espacio\n",
    "        text = ' '.join(text.split())\n",
    "        # Eliminar acentos sin eliminar la letra que los contiene\n",
    "        text = ''.join(c for c in unicodedata.normalize('NFD', text) if unicodedata.category(c) != 'Mn')\n",
    "        # Eliminar signos\n",
    "        text = ''.join(c for c in text if c.isalnum() or c in [' ', '-', '(', ')', ',', '.', '/', '\\\\', '#', '@', '!', \n",
    "                           '$', '%', '^', '&', '*', '_', '+', '=', '{', '}', '[', ']', '|', '\\\\', ';', ':', '\\'', '\\\"', \n",
    "                           '<', '>', '?', '/', ' ', '\\n', '\\r', '\\t', '\\v', '\\f'])\n",
    "    return text\n",
    "\n",
    "# Aplicar la estandarización a todas las hojas\n",
    "for sheet_name, df in dfs.items():\n",
    "    # Seleccionar las columnas de tipo object\n",
    "    obj_columns = df.select_dtypes(include=['object']).columns\n",
    "    \n",
    "    # Aplicar la estandarización a cada columna\n",
    "    for col in obj_columns:\n",
    "        df[col] = df[col].apply(standardize_text)\n",
    "    \n",
    "   # Guardar los cambios en el diccionario\n",
    "    dfs[sheet_name] = df\n",
    "\n",
    "    print(f\"Columnas estandarizadas en la hoja {sheet_name}: {list(obj_columns)}\")\n",
    "\n",
    "# Guardar el archivo actualizado\n",
    "with pd.ExcelWriter('cp_dictionary_estandarizado.xlsx') as writer:\n",
    "    for sheet_name, df in dfs.items():\n",
    "        df.to_excel(writer, sheet_name=sheet_name, index=False)\n",
    "\n",
    "print(\"Archivo guardado correctamente.\")"
   ]
  },
  {
   "cell_type": "code",
   "execution_count": 4,
   "metadata": {},
   "outputs": [],
   "source": [
    "output_file = 'diccionario_estandarizado_cp.csv'\n",
    "df.to_csv(output_file, index=False, encoding='utf-8')"
   ]
  },
  {
   "cell_type": "code",
   "execution_count": null,
   "metadata": {},
   "outputs": [],
   "source": []
  }
 ],
 "metadata": {
  "kernelspec": {
   "display_name": "base",
   "language": "python",
   "name": "python3"
  },
  "language_info": {
   "codemirror_mode": {
    "name": "ipython",
    "version": 3
   },
   "file_extension": ".py",
   "mimetype": "text/x-python",
   "name": "python",
   "nbconvert_exporter": "python",
   "pygments_lexer": "ipython3",
   "version": "3.9.13"
  }
 },
 "nbformat": 4,
 "nbformat_minor": 2
}
