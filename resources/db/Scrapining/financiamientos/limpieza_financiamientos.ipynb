{
 "cells": [
  {
   "cell_type": "markdown",
   "metadata": {},
   "source": [
    "# **Financiamientos cleaning**"
   ]
  },
  {
   "cell_type": "code",
   "execution_count": 86,
   "metadata": {},
   "outputs": [
    {
     "name": "stdout",
     "output_type": "stream",
     "text": [
      "Successfully read the file using latin-1 encoding.\n",
      "    año  mes  cve_ent         entidad  cve_mun       municipio  organismo  \\\n",
      "0  2024    1      NaN  No distribuido      NaN  No distribuido          4   \n",
      "1  2024    1      1.0  Aguascalientes      NaN  No distribuido          4   \n",
      "2  2024    1      1.0  Aguascalientes      1.0  Aguascalientes          1   \n",
      "3  2024    1      1.0  Aguascalientes      1.0  Aguascalientes          1   \n",
      "4  2024    1      1.0  Aguascalientes      1.0  Aguascalientes          1   \n",
      "\n",
      "   modalidad  destino  tipo  sexo  edad_rango  ingresos_rango  vivienda_valor  \\\n",
      "0          2        1     1   NaN         NaN             NaN             NaN   \n",
      "1          2        1     1   NaN         NaN             NaN             NaN   \n",
      "2          1        2     2   1.0         NaN             1.0             2.0   \n",
      "3          1        2     2   1.0         NaN             1.0             4.0   \n",
      "4          1        2     2   1.0         NaN             1.0             5.0   \n",
      "\n",
      "   acciones      monto  \n",
      "0       0.0        0.0  \n",
      "1       0.0  1103200.0  \n",
      "2       1.0        0.0  \n",
      "3       2.0        0.0  \n",
      "4       2.0        0.0  \n"
     ]
    }
   ],
   "source": [
    "import pandas as pd\n",
    "\n",
    "# Different encodings to handle the UnicodeDecodeError\n",
    "encodings = ['latin-1', 'iso-8859-1', 'cp1252']\n",
    "\n",
    "for encoding in encodings:\n",
    "    try:\n",
    "        df = pd.read_csv('financiamientos_2024.csv', encoding=encoding)\n",
    "        print(f\"Successfully read the file using {encoding} encoding.\")\n",
    "        break\n",
    "    except UnicodeDecodeError:\n",
    "        print(f\"Failed to read the file using {encoding} encoding.\")\n",
    "    except Exception as e:\n",
    "        print(f\"An unexpected error occurred: {str(e)}\")\n",
    "else:\n",
    "    print(\"Failed to read the file with all attempted encodings.\")\n",
    "    df = None\n",
    "\n",
    "if df is not None:\n",
    "    print(df.head())\n",
    "else:\n",
    "    print(\"Unable to display data as the file could not be read.\")"
   ]
  },
  {
   "cell_type": "markdown",
   "metadata": {},
   "source": [
    "### 2022"
   ]
  },
  {
   "cell_type": "code",
   "execution_count": 87,
   "metadata": {},
   "outputs": [],
   "source": [
    "# Manejo de datos\n",
    "import os # Directorios\n",
    "import pandas as pd # Manipulación df\n",
    "# Gráficas\n",
    "import plotly.graph_objects as go #Para obtener librería usar: pip install plotly\n",
    "from plotly.subplots import make_subplots\n",
    "import plotly.io as pio # Exportar gráfica\n",
    "\n",
    "data = {\n",
    "    'modalidad': ['Nueva','Nueva','Nueva','Nueva', 'Usada', 'Usada', 'Usada', 'Usada'],\n",
    "    'trimestre': ['1T 2022','2T 2022','3T 2022','4T 2022','1T 2022','2T 2022','3T 2022','4T 2022'],\n",
    "    'promedio': ['1,533,116.58', '1,584,256.88', '1,564,172.85', '1,915,828.41', '1,805,506.13', '1,911,416.26', '2,253,129.77', '2,372,802.68'],\n",
    "}\n",
    "# Convertir a DataFrame\n",
    "promedio_monto_por_modalidad_mes = pd.DataFrame(data)"
   ]
  },
  {
   "cell_type": "code",
   "execution_count": 88,
   "metadata": {},
   "outputs": [
    {
     "name": "stderr",
     "output_type": "stream",
     "text": [
      "<>:45: SyntaxWarning: invalid escape sequence '\\g'\n",
      "<>:64: SyntaxWarning: invalid escape sequence '\\g'\n",
      "<>:45: SyntaxWarning: invalid escape sequence '\\g'\n",
      "<>:64: SyntaxWarning: invalid escape sequence '\\g'\n",
      "C:\\Users\\yoe11\\AppData\\Local\\Temp\\ipykernel_19460\\3069977503.py:45: SyntaxWarning: invalid escape sequence '\\g'\n",
      "  def guardar_grafico_como_html(fig, nombre_archivo, carpeta='assets\\graficas'):\n",
      "C:\\Users\\yoe11\\AppData\\Local\\Temp\\ipykernel_19460\\3069977503.py:64: SyntaxWarning: invalid escape sequence '\\g'\n",
      "  guardar_grafico_como_html(fig, 'g_scatt_creditos_nuevausada_2022', carpeta='assets\\graficas')\n"
     ]
    },
    {
     "data": {
      "application/vnd.plotly.v1+json": {
       "config": {
        "plotlyServerURL": "https://plot.ly"
       },
       "data": [
        {
         "line": {
          "color": "#9500ff"
         },
         "mode": "markers+lines",
         "name": "Nueva",
         "type": "scatter",
         "x": [
          "1T 2022",
          "2T 2022",
          "3T 2022",
          "4T 2022"
         ],
         "y": [
          1533116.58,
          1584256.88,
          1564172.85,
          1915828.41
         ]
        },
        {
         "line": {
          "color": "#ff0059"
         },
         "mode": "markers+lines",
         "name": "Usada",
         "type": "scatter",
         "x": [
          "1T 2022",
          "2T 2022",
          "3T 2022",
          "4T 2022"
         ],
         "y": [
          1805506.13,
          1911416.26,
          2253129.77,
          2372802.68
         ]
        }
       ],
       "layout": {
        "annotations": [
         {
          "font": {
           "color": "black",
           "size": 10
          },
          "showarrow": false,
          "text": "1,533,116.58",
          "x": "1T 2022",
          "y": 1533116.58,
          "yshift": 10
         },
         {
          "font": {
           "color": "black",
           "size": 10
          },
          "showarrow": false,
          "text": "1,584,256.88",
          "x": "2T 2022",
          "y": 1584256.88,
          "yshift": 10
         },
         {
          "font": {
           "color": "black",
           "size": 10
          },
          "showarrow": false,
          "text": "1,564,172.85",
          "x": "3T 2022",
          "y": 1564172.85,
          "yshift": 10
         },
         {
          "font": {
           "color": "black",
           "size": 10
          },
          "showarrow": false,
          "text": "1,915,828.41",
          "x": "4T 2022",
          "y": 1915828.41,
          "yshift": 10
         },
         {
          "font": {
           "color": "black",
           "size": 10
          },
          "showarrow": false,
          "text": "1,805,506.13",
          "x": "1T 2022",
          "y": 1805506.13,
          "yshift": 10
         },
         {
          "font": {
           "color": "black",
           "size": 10
          },
          "showarrow": false,
          "text": "1,911,416.26",
          "x": "2T 2022",
          "y": 1911416.26,
          "yshift": 10
         },
         {
          "font": {
           "color": "black",
           "size": 10
          },
          "showarrow": false,
          "text": "2,253,129.77",
          "x": "3T 2022",
          "y": 2253129.77,
          "yshift": 10
         },
         {
          "font": {
           "color": "black",
           "size": 10
          },
          "showarrow": false,
          "text": "2,372,802.68",
          "x": "4T 2022",
          "y": 2372802.68,
          "yshift": 10
         }
        ],
        "margin": {
         "b": 10,
         "l": 10,
         "r": 10,
         "t": 10
        },
        "plot_bgcolor": "rgba(0,0,0,0)",
        "template": {
         "data": {
          "bar": [
           {
            "error_x": {
             "color": "#2a3f5f"
            },
            "error_y": {
             "color": "#2a3f5f"
            },
            "marker": {
             "line": {
              "color": "#E5ECF6",
              "width": 0.5
             },
             "pattern": {
              "fillmode": "overlay",
              "size": 10,
              "solidity": 0.2
             }
            },
            "type": "bar"
           }
          ],
          "barpolar": [
           {
            "marker": {
             "line": {
              "color": "#E5ECF6",
              "width": 0.5
             },
             "pattern": {
              "fillmode": "overlay",
              "size": 10,
              "solidity": 0.2
             }
            },
            "type": "barpolar"
           }
          ],
          "carpet": [
           {
            "aaxis": {
             "endlinecolor": "#2a3f5f",
             "gridcolor": "white",
             "linecolor": "white",
             "minorgridcolor": "white",
             "startlinecolor": "#2a3f5f"
            },
            "baxis": {
             "endlinecolor": "#2a3f5f",
             "gridcolor": "white",
             "linecolor": "white",
             "minorgridcolor": "white",
             "startlinecolor": "#2a3f5f"
            },
            "type": "carpet"
           }
          ],
          "choropleth": [
           {
            "colorbar": {
             "outlinewidth": 0,
             "ticks": ""
            },
            "type": "choropleth"
           }
          ],
          "contour": [
           {
            "colorbar": {
             "outlinewidth": 0,
             "ticks": ""
            },
            "colorscale": [
             [
              0,
              "#0d0887"
             ],
             [
              0.1111111111111111,
              "#46039f"
             ],
             [
              0.2222222222222222,
              "#7201a8"
             ],
             [
              0.3333333333333333,
              "#9c179e"
             ],
             [
              0.4444444444444444,
              "#bd3786"
             ],
             [
              0.5555555555555556,
              "#d8576b"
             ],
             [
              0.6666666666666666,
              "#ed7953"
             ],
             [
              0.7777777777777778,
              "#fb9f3a"
             ],
             [
              0.8888888888888888,
              "#fdca26"
             ],
             [
              1,
              "#f0f921"
             ]
            ],
            "type": "contour"
           }
          ],
          "contourcarpet": [
           {
            "colorbar": {
             "outlinewidth": 0,
             "ticks": ""
            },
            "type": "contourcarpet"
           }
          ],
          "heatmap": [
           {
            "colorbar": {
             "outlinewidth": 0,
             "ticks": ""
            },
            "colorscale": [
             [
              0,
              "#0d0887"
             ],
             [
              0.1111111111111111,
              "#46039f"
             ],
             [
              0.2222222222222222,
              "#7201a8"
             ],
             [
              0.3333333333333333,
              "#9c179e"
             ],
             [
              0.4444444444444444,
              "#bd3786"
             ],
             [
              0.5555555555555556,
              "#d8576b"
             ],
             [
              0.6666666666666666,
              "#ed7953"
             ],
             [
              0.7777777777777778,
              "#fb9f3a"
             ],
             [
              0.8888888888888888,
              "#fdca26"
             ],
             [
              1,
              "#f0f921"
             ]
            ],
            "type": "heatmap"
           }
          ],
          "heatmapgl": [
           {
            "colorbar": {
             "outlinewidth": 0,
             "ticks": ""
            },
            "colorscale": [
             [
              0,
              "#0d0887"
             ],
             [
              0.1111111111111111,
              "#46039f"
             ],
             [
              0.2222222222222222,
              "#7201a8"
             ],
             [
              0.3333333333333333,
              "#9c179e"
             ],
             [
              0.4444444444444444,
              "#bd3786"
             ],
             [
              0.5555555555555556,
              "#d8576b"
             ],
             [
              0.6666666666666666,
              "#ed7953"
             ],
             [
              0.7777777777777778,
              "#fb9f3a"
             ],
             [
              0.8888888888888888,
              "#fdca26"
             ],
             [
              1,
              "#f0f921"
             ]
            ],
            "type": "heatmapgl"
           }
          ],
          "histogram": [
           {
            "marker": {
             "pattern": {
              "fillmode": "overlay",
              "size": 10,
              "solidity": 0.2
             }
            },
            "type": "histogram"
           }
          ],
          "histogram2d": [
           {
            "colorbar": {
             "outlinewidth": 0,
             "ticks": ""
            },
            "colorscale": [
             [
              0,
              "#0d0887"
             ],
             [
              0.1111111111111111,
              "#46039f"
             ],
             [
              0.2222222222222222,
              "#7201a8"
             ],
             [
              0.3333333333333333,
              "#9c179e"
             ],
             [
              0.4444444444444444,
              "#bd3786"
             ],
             [
              0.5555555555555556,
              "#d8576b"
             ],
             [
              0.6666666666666666,
              "#ed7953"
             ],
             [
              0.7777777777777778,
              "#fb9f3a"
             ],
             [
              0.8888888888888888,
              "#fdca26"
             ],
             [
              1,
              "#f0f921"
             ]
            ],
            "type": "histogram2d"
           }
          ],
          "histogram2dcontour": [
           {
            "colorbar": {
             "outlinewidth": 0,
             "ticks": ""
            },
            "colorscale": [
             [
              0,
              "#0d0887"
             ],
             [
              0.1111111111111111,
              "#46039f"
             ],
             [
              0.2222222222222222,
              "#7201a8"
             ],
             [
              0.3333333333333333,
              "#9c179e"
             ],
             [
              0.4444444444444444,
              "#bd3786"
             ],
             [
              0.5555555555555556,
              "#d8576b"
             ],
             [
              0.6666666666666666,
              "#ed7953"
             ],
             [
              0.7777777777777778,
              "#fb9f3a"
             ],
             [
              0.8888888888888888,
              "#fdca26"
             ],
             [
              1,
              "#f0f921"
             ]
            ],
            "type": "histogram2dcontour"
           }
          ],
          "mesh3d": [
           {
            "colorbar": {
             "outlinewidth": 0,
             "ticks": ""
            },
            "type": "mesh3d"
           }
          ],
          "parcoords": [
           {
            "line": {
             "colorbar": {
              "outlinewidth": 0,
              "ticks": ""
             }
            },
            "type": "parcoords"
           }
          ],
          "pie": [
           {
            "automargin": true,
            "type": "pie"
           }
          ],
          "scatter": [
           {
            "fillpattern": {
             "fillmode": "overlay",
             "size": 10,
             "solidity": 0.2
            },
            "type": "scatter"
           }
          ],
          "scatter3d": [
           {
            "line": {
             "colorbar": {
              "outlinewidth": 0,
              "ticks": ""
             }
            },
            "marker": {
             "colorbar": {
              "outlinewidth": 0,
              "ticks": ""
             }
            },
            "type": "scatter3d"
           }
          ],
          "scattercarpet": [
           {
            "marker": {
             "colorbar": {
              "outlinewidth": 0,
              "ticks": ""
             }
            },
            "type": "scattercarpet"
           }
          ],
          "scattergeo": [
           {
            "marker": {
             "colorbar": {
              "outlinewidth": 0,
              "ticks": ""
             }
            },
            "type": "scattergeo"
           }
          ],
          "scattergl": [
           {
            "marker": {
             "colorbar": {
              "outlinewidth": 0,
              "ticks": ""
             }
            },
            "type": "scattergl"
           }
          ],
          "scattermapbox": [
           {
            "marker": {
             "colorbar": {
              "outlinewidth": 0,
              "ticks": ""
             }
            },
            "type": "scattermapbox"
           }
          ],
          "scatterpolar": [
           {
            "marker": {
             "colorbar": {
              "outlinewidth": 0,
              "ticks": ""
             }
            },
            "type": "scatterpolar"
           }
          ],
          "scatterpolargl": [
           {
            "marker": {
             "colorbar": {
              "outlinewidth": 0,
              "ticks": ""
             }
            },
            "type": "scatterpolargl"
           }
          ],
          "scatterternary": [
           {
            "marker": {
             "colorbar": {
              "outlinewidth": 0,
              "ticks": ""
             }
            },
            "type": "scatterternary"
           }
          ],
          "surface": [
           {
            "colorbar": {
             "outlinewidth": 0,
             "ticks": ""
            },
            "colorscale": [
             [
              0,
              "#0d0887"
             ],
             [
              0.1111111111111111,
              "#46039f"
             ],
             [
              0.2222222222222222,
              "#7201a8"
             ],
             [
              0.3333333333333333,
              "#9c179e"
             ],
             [
              0.4444444444444444,
              "#bd3786"
             ],
             [
              0.5555555555555556,
              "#d8576b"
             ],
             [
              0.6666666666666666,
              "#ed7953"
             ],
             [
              0.7777777777777778,
              "#fb9f3a"
             ],
             [
              0.8888888888888888,
              "#fdca26"
             ],
             [
              1,
              "#f0f921"
             ]
            ],
            "type": "surface"
           }
          ],
          "table": [
           {
            "cells": {
             "fill": {
              "color": "#EBF0F8"
             },
             "line": {
              "color": "white"
             }
            },
            "header": {
             "fill": {
              "color": "#C8D4E3"
             },
             "line": {
              "color": "white"
             }
            },
            "type": "table"
           }
          ]
         },
         "layout": {
          "annotationdefaults": {
           "arrowcolor": "#2a3f5f",
           "arrowhead": 0,
           "arrowwidth": 1
          },
          "autotypenumbers": "strict",
          "coloraxis": {
           "colorbar": {
            "outlinewidth": 0,
            "ticks": ""
           }
          },
          "colorscale": {
           "diverging": [
            [
             0,
             "#8e0152"
            ],
            [
             0.1,
             "#c51b7d"
            ],
            [
             0.2,
             "#de77ae"
            ],
            [
             0.3,
             "#f1b6da"
            ],
            [
             0.4,
             "#fde0ef"
            ],
            [
             0.5,
             "#f7f7f7"
            ],
            [
             0.6,
             "#e6f5d0"
            ],
            [
             0.7,
             "#b8e186"
            ],
            [
             0.8,
             "#7fbc41"
            ],
            [
             0.9,
             "#4d9221"
            ],
            [
             1,
             "#276419"
            ]
           ],
           "sequential": [
            [
             0,
             "#0d0887"
            ],
            [
             0.1111111111111111,
             "#46039f"
            ],
            [
             0.2222222222222222,
             "#7201a8"
            ],
            [
             0.3333333333333333,
             "#9c179e"
            ],
            [
             0.4444444444444444,
             "#bd3786"
            ],
            [
             0.5555555555555556,
             "#d8576b"
            ],
            [
             0.6666666666666666,
             "#ed7953"
            ],
            [
             0.7777777777777778,
             "#fb9f3a"
            ],
            [
             0.8888888888888888,
             "#fdca26"
            ],
            [
             1,
             "#f0f921"
            ]
           ],
           "sequentialminus": [
            [
             0,
             "#0d0887"
            ],
            [
             0.1111111111111111,
             "#46039f"
            ],
            [
             0.2222222222222222,
             "#7201a8"
            ],
            [
             0.3333333333333333,
             "#9c179e"
            ],
            [
             0.4444444444444444,
             "#bd3786"
            ],
            [
             0.5555555555555556,
             "#d8576b"
            ],
            [
             0.6666666666666666,
             "#ed7953"
            ],
            [
             0.7777777777777778,
             "#fb9f3a"
            ],
            [
             0.8888888888888888,
             "#fdca26"
            ],
            [
             1,
             "#f0f921"
            ]
           ]
          },
          "colorway": [
           "#636efa",
           "#EF553B",
           "#00cc96",
           "#ab63fa",
           "#FFA15A",
           "#19d3f3",
           "#FF6692",
           "#B6E880",
           "#FF97FF",
           "#FECB52"
          ],
          "font": {
           "color": "#2a3f5f"
          },
          "geo": {
           "bgcolor": "white",
           "lakecolor": "white",
           "landcolor": "#E5ECF6",
           "showlakes": true,
           "showland": true,
           "subunitcolor": "white"
          },
          "hoverlabel": {
           "align": "left"
          },
          "hovermode": "closest",
          "mapbox": {
           "style": "light"
          },
          "paper_bgcolor": "white",
          "plot_bgcolor": "#E5ECF6",
          "polar": {
           "angularaxis": {
            "gridcolor": "white",
            "linecolor": "white",
            "ticks": ""
           },
           "bgcolor": "#E5ECF6",
           "radialaxis": {
            "gridcolor": "white",
            "linecolor": "white",
            "ticks": ""
           }
          },
          "scene": {
           "xaxis": {
            "backgroundcolor": "#E5ECF6",
            "gridcolor": "white",
            "gridwidth": 2,
            "linecolor": "white",
            "showbackground": true,
            "ticks": "",
            "zerolinecolor": "white"
           },
           "yaxis": {
            "backgroundcolor": "#E5ECF6",
            "gridcolor": "white",
            "gridwidth": 2,
            "linecolor": "white",
            "showbackground": true,
            "ticks": "",
            "zerolinecolor": "white"
           },
           "zaxis": {
            "backgroundcolor": "#E5ECF6",
            "gridcolor": "white",
            "gridwidth": 2,
            "linecolor": "white",
            "showbackground": true,
            "ticks": "",
            "zerolinecolor": "white"
           }
          },
          "shapedefaults": {
           "line": {
            "color": "#2a3f5f"
           }
          },
          "ternary": {
           "aaxis": {
            "gridcolor": "white",
            "linecolor": "white",
            "ticks": ""
           },
           "baxis": {
            "gridcolor": "white",
            "linecolor": "white",
            "ticks": ""
           },
           "bgcolor": "#E5ECF6",
           "caxis": {
            "gridcolor": "white",
            "linecolor": "white",
            "ticks": ""
           }
          },
          "title": {
           "x": 0.05
          },
          "xaxis": {
           "automargin": true,
           "gridcolor": "white",
           "linecolor": "white",
           "ticks": "",
           "title": {
            "standoff": 15
           },
           "zerolinecolor": "white",
           "zerolinewidth": 2
          },
          "yaxis": {
           "automargin": true,
           "gridcolor": "white",
           "linecolor": "white",
           "ticks": "",
           "title": {
            "standoff": 15
           },
           "zerolinecolor": "white",
           "zerolinewidth": 2
          }
         }
        },
        "yaxis": {
         "gridcolor": "#dddcda",
         "title": {
          "text": "Promedio del monto"
         }
        }
       }
      }
     },
     "metadata": {},
     "output_type": "display_data"
    }
   ],
   "source": [
    "# Datos\n",
    "trimestres = promedio_monto_por_modalidad_mes['trimestre']\n",
    "modalidades = promedio_monto_por_modalidad_mes['modalidad']\n",
    "promedios = promedio_monto_por_modalidad_mes['promedio']\n",
    "\n",
    "# Limpiar las cadenas de promedio y convertirlas a números\n",
    "promedios_limpios = [float(promedio.replace(',', '')) for promedio in promedios]\n",
    "\n",
    "colors = ['#9500ff', '#ff0059']\n",
    "fig = go.Figure()\n",
    "\n",
    "# Agregar líneas para cada modalidad\n",
    "for i, modalidad in enumerate(modalidades.unique()):\n",
    "    df_modalidad = promedio_monto_por_modalidad_mes[promedio_monto_por_modalidad_mes['modalidad'] == modalidad]\n",
    "    fig.add_trace(go.Scatter(\n",
    "        x=df_modalidad['trimestre'],\n",
    "        y=df_modalidad['promedio'].apply(lambda x: float(x.replace(',', ''))),  # Usar los promedios limpios\n",
    "        mode='markers+lines',\n",
    "        name=modalidad,\n",
    "        line=dict(color=colors[i % len(colors)])  # Asignar colores a las líneas\n",
    "    ))\n",
    "\n",
    "fig.update_layout(\n",
    "    #title='Promedio de valor de créditos para viviendas nuevas y usadas (2023)',\n",
    "    #xaxis=dict(title='Trimestre'),\n",
    "    yaxis=dict(title='Promedio del monto', gridcolor='#dddcda'),\n",
    "    margin=dict(l=10, r=10, t=10, b=10),  # Ajusta los márgenes (left, right, top, bottom)\n",
    "    plot_bgcolor='rgba(0,0,0,0)',  # Color de fondo del gráfico\n",
    ")\n",
    "\n",
    "# Agregar etiquetas de texto a los puntos\n",
    "for trace in fig.data:\n",
    "    df_modalidad = promedio_monto_por_modalidad_mes[promedio_monto_por_modalidad_mes['modalidad'] == trace.name]\n",
    "    for i, point in enumerate(trace.y):\n",
    "        fig.add_annotation(\n",
    "            x=trace.x[i],\n",
    "            y=point,\n",
    "            text=f'{df_modalidad.iloc[i][\"promedio\"]}',\n",
    "            showarrow=False,\n",
    "            font=dict(color='black', size=10),\n",
    "            yshift=10\n",
    "        )\n",
    "\n",
    "# Exportar gráfica como archivo HTML\n",
    "def guardar_grafico_como_html(fig, nombre_archivo, carpeta='assets\\graficas'):\n",
    "    # Crear la carpeta si no existe\n",
    "    if not os.path.exists(carpeta):\n",
    "        os.makedirs(carpeta)\n",
    "        \n",
    "    # Configuración personalizada para la gráfica\n",
    "    config = {\n",
    "        'displaylogo': False,  # Ocultar el logo de Plotly\n",
    "        'modeBarButtonsToRemove': [\n",
    "            'toImage',       # Botón para guardar como imagen\n",
    "            'select2d',      # Box select\n",
    "            'lasso2d',       # Lasso select\n",
    "            'resetScale2d',  # Reset Axes\n",
    "        ]\n",
    "    }\n",
    "\n",
    "    # Guardar la gráfica como archivo HTML\n",
    "    pio.write_html(fig, f'{carpeta}/{nombre_archivo}.html', config=config)\n",
    "\n",
    "guardar_grafico_como_html(fig, 'g_scatt_creditos_nuevausada_2022', carpeta='assets\\graficas')\n",
    "fig.show()"
   ]
  },
  {
   "cell_type": "code",
   "execution_count": 89,
   "metadata": {},
   "outputs": [
    {
     "name": "stdout",
     "output_type": "stream",
     "text": [
      "<class 'pandas.core.frame.DataFrame'>\n",
      "RangeIndex: 293554 entries, 0 to 293553\n",
      "Data columns (total 16 columns):\n",
      " #   Column          Non-Null Count   Dtype  \n",
      "---  ------          --------------   -----  \n",
      " 0   año             293554 non-null  int64  \n",
      " 1   mes             293554 non-null  int64  \n",
      " 2   cve_ent         293543 non-null  float64\n",
      " 3   entidad         293554 non-null  object \n",
      " 4   cve_mun         293191 non-null  float64\n",
      " 5   municipio       293554 non-null  object \n",
      " 6   organismo       293554 non-null  int64  \n",
      " 7   modalidad       293554 non-null  int64  \n",
      " 8   destino         293554 non-null  int64  \n",
      " 9   tipo            293554 non-null  int64  \n",
      " 10  sexo            293188 non-null  float64\n",
      " 11  edad_rango      287528 non-null  float64\n",
      " 12  ingresos_rango  279503 non-null  float64\n",
      " 13  vivienda_valor  231453 non-null  float64\n",
      " 14  acciones        293554 non-null  float64\n",
      " 15  monto           293554 non-null  float64\n",
      "dtypes: float64(8), int64(6), object(2)\n",
      "memory usage: 35.8+ MB\n"
     ]
    }
   ],
   "source": [
    "df.info()"
   ]
  },
  {
   "cell_type": "code",
   "execution_count": 90,
   "metadata": {},
   "outputs": [
    {
     "data": {
      "text/plain": [
       "año                   0\n",
       "mes                   0\n",
       "cve_ent              11\n",
       "entidad               0\n",
       "cve_mun             363\n",
       "municipio             0\n",
       "organismo             0\n",
       "modalidad             0\n",
       "destino               0\n",
       "tipo                  0\n",
       "sexo                366\n",
       "edad_rango         6026\n",
       "ingresos_rango    14051\n",
       "vivienda_valor    62101\n",
       "acciones              0\n",
       "monto                 0\n",
       "dtype: int64"
      ]
     },
     "execution_count": 90,
     "metadata": {},
     "output_type": "execute_result"
    }
   ],
   "source": [
    "df.isna().sum()"
   ]
  },
  {
   "cell_type": "code",
   "execution_count": 91,
   "metadata": {},
   "outputs": [
    {
     "data": {
      "text/plain": [
       "array([ 0.,  1.,  2.,  3.,  4.,  5.,  6.,  7.,  8.,  9., 10., 11., 12.,\n",
       "       13., 14., 15., 16., 17., 18., 19., 20., 21., 22., 23., 24., 25.,\n",
       "       26., 27., 28., 29., 30., 31., 32.])"
      ]
     },
     "execution_count": 91,
     "metadata": {},
     "output_type": "execute_result"
    }
   ],
   "source": [
    "df['cve_ent'] = df['cve_ent'].fillna(0)\n",
    "df['cve_ent'].unique()"
   ]
  },
  {
   "cell_type": "code",
   "execution_count": 92,
   "metadata": {},
   "outputs": [],
   "source": [
    "df['cve_mun'] = df['cve_mun'].fillna(0)"
   ]
  },
  {
   "cell_type": "code",
   "execution_count": 93,
   "metadata": {},
   "outputs": [
    {
     "data": {
      "text/plain": [
       "array([ 1,  2,  5,  3,  7,  4,  6, 10, 18,  9,  8])"
      ]
     },
     "execution_count": 93,
     "metadata": {},
     "output_type": "execute_result"
    }
   ],
   "source": [
    "df['destino'] = df['destino'].fillna(0)\n",
    "df['destino'].unique()"
   ]
  },
  {
   "cell_type": "code",
   "execution_count": 94,
   "metadata": {},
   "outputs": [],
   "source": [
    "unique_sexo = df['sexo'].unique()\n",
    "df['sexo'] = df['sexo'].fillna(0)"
   ]
  },
  {
   "cell_type": "code",
   "execution_count": 95,
   "metadata": {},
   "outputs": [],
   "source": [
    "df['edad_rango'].unique()\n",
    "df['edad_rango'] = df['edad_rango'].fillna(0)"
   ]
  },
  {
   "cell_type": "code",
   "execution_count": 96,
   "metadata": {},
   "outputs": [
    {
     "data": {
      "text/plain": [
       "array([0., 1., 5., 6., 2., 3., 4.])"
      ]
     },
     "execution_count": 96,
     "metadata": {},
     "output_type": "execute_result"
    }
   ],
   "source": [
    "df['ingresos_rango'] = df['ingresos_rango'].fillna(0)\n",
    "df['ingresos_rango'].unique()"
   ]
  },
  {
   "cell_type": "code",
   "execution_count": 97,
   "metadata": {},
   "outputs": [
    {
     "data": {
      "text/plain": [
       "array([0., 2., 4., 5., 3., 1., 6.])"
      ]
     },
     "execution_count": 97,
     "metadata": {},
     "output_type": "execute_result"
    }
   ],
   "source": [
    "df['vivienda_valor'] = df['vivienda_valor'].fillna(0)\n",
    "df['vivienda_valor'].unique()"
   ]
  },
  {
   "cell_type": "markdown",
   "metadata": {},
   "source": [
    "## CIUDAD "
   ]
  },
  {
   "cell_type": "code",
   "execution_count": 98,
   "metadata": {},
   "outputs": [
    {
     "data": {
      "text/plain": [
       "array(['No distribuido', 'Aguascalientes', 'Baja California',\n",
       "       'Baja California Sur', 'Campeche', 'Coahuila de Zaragoza',\n",
       "       'Colima', 'Chiapas', 'Chihuahua', 'Ciudad de México', 'Durango',\n",
       "       'Guanajuato', 'Guerrero', 'Hidalgo', 'Jalisco', 'México',\n",
       "       'Michoacán de Ocampo', 'Morelos', 'Nayarit', 'Nuevo León',\n",
       "       'Oaxaca', 'Puebla', 'Querétaro', 'Quintana Roo', 'San Luis Potosí',\n",
       "       'Sinaloa', 'Sonora', 'Tabasco', 'Tamaulipas', 'Tlaxcala',\n",
       "       'Veracruz de Ignacio de la Llave', 'Yucatán', 'Zacatecas'],\n",
       "      dtype=object)"
      ]
     },
     "execution_count": 98,
     "metadata": {},
     "output_type": "execute_result"
    }
   ],
   "source": [
    "df['entidad'].unique()"
   ]
  },
  {
   "cell_type": "code",
   "execution_count": 99,
   "metadata": {},
   "outputs": [
    {
     "data": {
      "text/plain": [
       "array(['Jalisco'], dtype=object)"
      ]
     },
     "execution_count": 99,
     "metadata": {},
     "output_type": "execute_result"
    }
   ],
   "source": [
    "df_filtrado = df[df['entidad'] == 'Jalisco']\n",
    "df_filtrado['entidad'].unique()"
   ]
  },
  {
   "cell_type": "code",
   "execution_count": 100,
   "metadata": {},
   "outputs": [
    {
     "data": {
      "text/plain": [
       "array(['No distribuido', 'Acatic', 'Acatlán de Juárez',\n",
       "       'Ahualulco de Mercado', 'Amatitán', 'Ameca', 'Arandas',\n",
       "       'El Arenal', 'Atotonilco el Alto', 'Atoyac', 'Autlán de Navarro',\n",
       "       'Ayotlán', 'La Barca', 'Cabo Corrientes', 'Casimiro Castillo',\n",
       "       'Cihuatlán', 'Zapotlán el Grande', 'Colotlán', 'Chapala',\n",
       "       'Encarnación de Díaz', 'Etzatlán', 'El Grullo', 'Guachinango',\n",
       "       'Guadalajara', 'Ixtlahuacán de los Membrillos',\n",
       "       'Ixtlahuacán del Río', 'Jalostotitlán', 'Jamay', 'Jocotepec',\n",
       "       'Juanacatlán', 'Lagos de Moreno', 'Magdalena', 'Mazamitla',\n",
       "       'Ocotlán', 'Poncitlán', 'Puerto Vallarta', 'El Salto',\n",
       "       'San Cristóbal de la Barranca', 'San Juan de los Lagos',\n",
       "       'San Julián', 'San Martín Hidalgo', 'San Miguel el Alto',\n",
       "       'Gómez Farías', 'Sayula', 'Tala', 'Talpa de Allende',\n",
       "       'Tamazula de Gordiano', 'Tapalpa', 'Tecolotlán', 'Teocaltiche',\n",
       "       'Tepatitlán de Morelos', 'Tequila', 'Teuchitlán',\n",
       "       'Tizapán el Alto', 'Tlajomulco de Zúñiga', 'San Pedro Tlaquepaque',\n",
       "       'Tolimán', 'Tomatlán', 'Tonalá', 'Tonila', 'Tototlán', 'Tuxpan',\n",
       "       'Unión de Tula', 'San Gabriel', 'Villa Corona',\n",
       "       'Zacoalco de Torres', 'Zapopan', 'Zapotiltic', 'Zapotlán del Rey',\n",
       "       'Zapotlanejo', 'San Juanito de Escobedo', 'Bolaños', 'Cocula',\n",
       "       'Chimaltitán', 'Hostotipaquillo', 'El Limón',\n",
       "       'Santa María del Oro', 'Mezquitic', 'Ojuelos de Jalisco',\n",
       "       'San Martín de Bolaños', 'Techaluta de Montenegro', 'Tuxcacuesco',\n",
       "       'Valle de Guadalupe', 'Valle de Juárez',\n",
       "       'Concepción de Buenos Aires', 'Cuquío', 'Jesús María', 'Mascota',\n",
       "       'Villa Purificación', 'Tenamaxtlán', 'Teocuitatlán de Corona',\n",
       "       'Tuxcueca', 'Cañadas de Obregón', 'Yahualica de González Gallo',\n",
       "       'Atemajac de Brizuela', 'La Huerta', 'Juchitlán',\n",
       "       'San Diego de Alejandría', 'San Marcos', 'Tonaya',\n",
       "       'Unión de San Antonio', 'Zapotitlán de Vadillo', 'Pihuamo',\n",
       "       'San Sebastián del Oeste', 'Tecalitlán', 'Villa Hidalgo',\n",
       "       'San Ignacio Cerro Gordo', 'Chiquilistlán', 'Villa Guerrero',\n",
       "       'La Manzanilla de la Paz', 'Amacueca'], dtype=object)"
      ]
     },
     "execution_count": 100,
     "metadata": {},
     "output_type": "execute_result"
    }
   ],
   "source": [
    "df_filtrado['municipio'].unique()"
   ]
  },
  {
   "cell_type": "code",
   "execution_count": 101,
   "metadata": {},
   "outputs": [
    {
     "data": {
      "text/plain": [
       "array(['Puerto Vallarta'], dtype=object)"
      ]
     },
     "execution_count": 101,
     "metadata": {},
     "output_type": "execute_result"
    }
   ],
   "source": [
    "selected_municipalities = ['Puerto Vallarta']\n",
    "df_filtrado = df_filtrado[df_filtrado['municipio'].isin(selected_municipalities)]\n",
    "\n",
    "df_filtrado['municipio'].unique()"
   ]
  },
  {
   "cell_type": "code",
   "execution_count": 102,
   "metadata": {},
   "outputs": [
    {
     "name": "stdout",
     "output_type": "stream",
     "text": [
      "          id  entidad        municipio   año\n",
      "7529       1  Jalisco  Puerto Vallarta  2024\n",
      "7530       2  Jalisco  Puerto Vallarta  2024\n",
      "7531       3  Jalisco  Puerto Vallarta  2024\n",
      "7532       4  Jalisco  Puerto Vallarta  2024\n",
      "7533       5  Jalisco  Puerto Vallarta  2024\n",
      "...      ...      ...              ...   ...\n",
      "276010  1176  Jalisco  Puerto Vallarta  2024\n",
      "276011  1177  Jalisco  Puerto Vallarta  2024\n",
      "276012  1178  Jalisco  Puerto Vallarta  2024\n",
      "276013  1179  Jalisco  Puerto Vallarta  2024\n",
      "276014  1180  Jalisco  Puerto Vallarta  2024\n",
      "\n",
      "[1180 rows x 4 columns]\n"
     ]
    }
   ],
   "source": [
    "df_filtrado['id'] = range(1, len(df_filtrado) + 1)\n",
    "print(df_filtrado[['id', 'entidad', 'municipio','año']])"
   ]
  },
  {
   "cell_type": "code",
   "execution_count": 103,
   "metadata": {},
   "outputs": [],
   "source": [
    "output_file = 'C:\\\\xampp\\\\htdocs\\\\datalpine\\\\resources\\\\db\\\\datos_json\\\\datos_financiamientos_2024_vallarta.json'\n",
    "df_filtrado.to_json(output_file, orient='records', lines=False, force_ascii=False)"
   ]
  },
  {
   "cell_type": "markdown",
   "metadata": {},
   "source": [
    "output_file = '../ciudades/puebla/financiamientos_2024_puebla.csv'\n",
    "df_filtrado.to_csv(output_file, index=False, encoding='utf-8')"
   ]
  },
  {
   "cell_type": "code",
   "execution_count": null,
   "metadata": {},
   "outputs": [],
   "source": []
  },
  {
   "cell_type": "code",
   "execution_count": null,
   "metadata": {},
   "outputs": [],
   "source": []
  }
 ],
 "metadata": {
  "kernelspec": {
   "display_name": "base",
   "language": "python",
   "name": "python3"
  },
  "language_info": {
   "codemirror_mode": {
    "name": "ipython",
    "version": 3
   },
   "file_extension": ".py",
   "mimetype": "text/x-python",
   "name": "python",
   "nbconvert_exporter": "python",
   "pygments_lexer": "ipython3",
   "version": "3.12.7"
  }
 },
 "nbformat": 4,
 "nbformat_minor": 2
}
