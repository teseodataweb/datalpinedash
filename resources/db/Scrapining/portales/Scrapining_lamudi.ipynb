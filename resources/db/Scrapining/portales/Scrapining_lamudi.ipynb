{
 "cells": [
  {
   "cell_type": "markdown",
   "metadata": {},
   "source": [
    "# **Limpieza**"
   ]
  },
  {
   "cell_type": "markdown",
   "metadata": {},
   "source": [
    "#### LIBRERÍAS"
   ]
  },
  {
   "cell_type": "code",
   "execution_count": 2,
   "metadata": {},
   "outputs": [],
   "source": [
    "import pandas as pd # Manipulación df\n",
    "import os # Directorios\n",
    "import re # Manipulación de cadenas de texto (expresiones regulares)\n",
    "import unicodedata # Función para eliminar acentos\n",
    "from datetime import datetime, date  # Para trabajar con fechas y horas\n",
    "from currency_converter import CurrencyConverter # convertidor de monedas\n",
    "from dateutil.relativedelta import relativedelta  # Para calcular diferencias entre fechas, incluyendo años, meses y días"
   ]
  },
  {
   "cell_type": "markdown",
   "metadata": {},
   "source": [
    "#### CARGAR ARCHIVO"
   ]
  },
  {
   "cell_type": "markdown",
   "metadata": {},
   "source": [
    "Solo cambia el nombre en 'archivo_filename' y su ruta con 'archivo_dir'"
   ]
  },
  {
   "cell_type": "code",
   "execution_count": null,
   "metadata": {},
   "outputs": [],
   "source": [
    "directorio_actual = os.getcwd() # Directorio actual de trabajo\n",
    "# Ruta relativa al archivo CSV\n",
    "archivo_filename = \"ruta/relativa/al/archivo.csv\"\n",
    "archivo_dir = os.path.join(directorio_actual)\n",
    "archivo_path = os.path.join(archivo_dir, archivo_filename)"
   ]
  },
  {
   "cell_type": "markdown",
   "metadata": {},
   "source": [
    "Elige el tipo de archivo a leer"
   ]
  },
  {
   "cell_type": "code",
   "execution_count": null,
   "metadata": {},
   "outputs": [],
   "source": [
    "#df = pd.read_excel(archivo_path) \n",
    "df = pd.read_csv(archivo_path)\n",
    "\n",
    "df.info()"
   ]
  },
  {
   "cell_type": "markdown",
   "metadata": {},
   "source": [
    "#### LIMPIEZA NULOS"
   ]
  },
  {
   "cell_type": "code",
   "execution_count": null,
   "metadata": {},
   "outputs": [],
   "source": [
    "df.fillna({'precio': 0}, inplace=True) \n",
    "df.fillna({'denominacion': ''}, inplace=True) \n",
    "df.fillna({'propiedad': 'Propiedad sin título'}, inplace=True) \n",
    "df.fillna({'metros_total': 0}, inplace=True) \n",
    "df.fillna({'metros_construido': 0}, inplace=True) \n",
    "#df.fillna({'tiempo_de_publicacion': ''}, inplace=True) \n",
    "df.fillna({'tipo': 'Propiedad sin tipo de casa'}, inplace=True) \n",
    "df.fillna({'estacionamientos': 0}, inplace=True) \n",
    "df.fillna({'recamaras': 0}, inplace=True) \n",
    "df.fillna({'banos': 0}, inplace=True) \n",
    "df.fillna({'medio_banos': 0}, inplace=True) \n",
    "df.fillna({'seguridad_privada': 'No'}, inplace=True) \n",
    "df.fillna({'ubicacion': 'Propiedad sin ubicación'}, inplace=True) \n",
    "df.fillna({'url': '-'}, inplace=True) \n",
    "df.fillna({'descripcion': \"Propiedad sin descripcion\"}, inplace=True) "
   ]
  },
  {
   "cell_type": "markdown",
   "metadata": {},
   "source": [
    "# Duplicados\n",
    "* Estandarizar descripción\n",
    "* Eliminación de los duplicados, dejando uno de los resultantes"
   ]
  },
  {
   "cell_type": "code",
   "execution_count": null,
   "metadata": {},
   "outputs": [],
   "source": [
    "df.columns"
   ]
  },
  {
   "cell_type": "code",
   "execution_count": 4,
   "metadata": {},
   "outputs": [],
   "source": [
    "# Convierte todos los valores a strings, maneja NaN o None como cadenas vacías\n",
    "df['descripcion'] = df['descripcion'].astype(str)\n",
    "# Convertir a minúsculas\n",
    "df['descripcion'] = df['descripcion'].str.lower()\n",
    "# Eliminar acentos y carácteres especiales\n",
    "import unicodedata \n",
    "def eliminar_acentos(texto):\n",
    "    texto_normalizado = unicodedata.normalize('NFKD', texto)\n",
    "    return ''.join(char for char in texto_normalizado if unicodedata.category(char) != 'Mn')\n",
    "df['descripcion'] = df['descripcion'].apply(eliminar_acentos)\n",
    "df['descripcion'] = df['descripcion'].str.replace(r'[^a-zA-Z0-9\\s]', '', regex=True)"
   ]
  },
  {
   "cell_type": "markdown",
   "metadata": {},
   "source": [
    "## a) Con todos los datos iguales"
   ]
  },
  {
   "cell_type": "code",
   "execution_count": null,
   "metadata": {},
   "outputs": [],
   "source": [
    "duplicados = df.loc[df.duplicated()]\n",
    "print(duplicados.shape)\n",
    "print(duplicados)"
   ]
  },
  {
   "cell_type": "code",
   "execution_count": null,
   "metadata": {},
   "outputs": [],
   "source": [
    "df = df.drop_duplicates(keep='first')"
   ]
  },
  {
   "cell_type": "code",
   "execution_count": null,
   "metadata": {},
   "outputs": [],
   "source": [
    "duplicados = df.loc[df.duplicated()]\n",
    "print(duplicados)"
   ]
  },
  {
   "cell_type": "markdown",
   "metadata": {},
   "source": [
    "## b) Descripción y precio iguales"
   ]
  },
  {
   "cell_type": "code",
   "execution_count": null,
   "metadata": {},
   "outputs": [],
   "source": [
    "duplicados = df.loc[df.duplicated(subset=['descripcion','precio'])]\n",
    "print(duplicados)"
   ]
  },
  {
   "cell_type": "code",
   "execution_count": 7,
   "metadata": {},
   "outputs": [],
   "source": [
    "df = df.drop_duplicates(subset=['descripcion','precio'],keep='first')"
   ]
  },
  {
   "cell_type": "code",
   "execution_count": null,
   "metadata": {},
   "outputs": [],
   "source": [
    "duplicados = df.loc[df.duplicated(subset=['descripcion','precio'])]\n",
    "print(duplicados)"
   ]
  },
  {
   "cell_type": "markdown",
   "metadata": {},
   "source": [
    "## c) M2 construcción, Ubicación y Precio"
   ]
  },
  {
   "cell_type": "code",
   "execution_count": null,
   "metadata": {},
   "outputs": [],
   "source": [
    "duplicados = df.loc[df.duplicated(subset=['metros_construido','ubicacion','precio'])]\n",
    "print(duplicados)"
   ]
  },
  {
   "cell_type": "code",
   "execution_count": 11,
   "metadata": {},
   "outputs": [],
   "source": [
    "df = df.drop_duplicates(subset=['metros_construido','ubicacion','precio'],keep='first')"
   ]
  },
  {
   "cell_type": "code",
   "execution_count": null,
   "metadata": {},
   "outputs": [],
   "source": [
    "duplicados = df.loc[df.duplicated(subset=['metros_construido','ubicacion','precio'])]\n",
    "print(duplicados)"
   ]
  },
  {
   "cell_type": "markdown",
   "metadata": {},
   "source": [
    "## d) Características y Precio"
   ]
  },
  {
   "cell_type": "code",
   "execution_count": null,
   "metadata": {},
   "outputs": [],
   "source": [
    "duplicados = df.loc[df.duplicated(subset=['estacionamientos','recamaras','banos','medio_banos','precio'])]\n",
    "print(duplicados)"
   ]
  },
  {
   "cell_type": "code",
   "execution_count": 16,
   "metadata": {},
   "outputs": [],
   "source": [
    "df = df.drop_duplicates(subset=['estacionamientos','recamaras','banos','medio_banos','precio'],keep='first')"
   ]
  },
  {
   "cell_type": "code",
   "execution_count": null,
   "metadata": {},
   "outputs": [],
   "source": [
    "duplicados = df.loc[df.duplicated(subset=['estacionamientos','recamaras','banos','medio_banos','precio'])]\n",
    "print(duplicados)"
   ]
  },
  {
   "cell_type": "markdown",
   "metadata": {},
   "source": [
    "# 1. Manipulación de precios"
   ]
  },
  {
   "cell_type": "markdown",
   "metadata": {},
   "source": [
    "## a) Precio en descripción"
   ]
  },
  {
   "cell_type": "markdown",
   "metadata": {},
   "source": [
    "Agrega las diferentes formas de que el precio se encuentre en la descripción."
   ]
  },
  {
   "cell_type": "code",
   "execution_count": null,
   "metadata": {},
   "outputs": [],
   "source": [
    "def extraer_precio(descripcion):\n",
    "    descripcion = descripcion.lower()\n",
    "    # Buscar patrones\n",
    "    precios = re.findall(r'\\b(\\d{1,3}(?:[.,]?\\d{3})*(?:[.,]\\d{2})?)\\s*(mxn|usd|pesos|monto|precio|)', descripcion)\n",
    "    precio = None\n",
    "    for match in precios:\n",
    "        numero, moneda = match\n",
    "        numero = numero.replace(',', '').replace(\"'\", '')#.replace(\".\",'')\n",
    "        try:\n",
    "            precio = float(numero)\n",
    "        except ValueError:\n",
    "            continue\n",
    "        if precio:\n",
    "            break\n",
    "    return precio\n",
    "\n",
    "# Denominación de la descripción\n",
    "def extraer_denominacion(descripcion):\n",
    "    descripcion = descripcion.lower()\n",
    "    # Buscar patrones \n",
    "    denominaciones = re.findall(r'\\b(mil|mxn|precio|pesos|monto|Mexicanos|Estadounidenses)\\b', descripcion)\n",
    "    return denominaciones[0] if denominaciones else None\n",
    "\n",
    "df['precio_desc'] = df['descripcion'].apply(extraer_precio)\n",
    "#df['denominacion_desc'] = df['descripcion'].apply(extraer_denominacion)"
   ]
  },
  {
   "cell_type": "markdown",
   "metadata": {},
   "source": [
    "### Precio [0 / 0]"
   ]
  },
  {
   "cell_type": "code",
   "execution_count": null,
   "metadata": {},
   "outputs": [
    {
     "name": "stdout",
     "output_type": "stream",
     "text": [
      "Proceso completado.\n"
     ]
    }
   ],
   "source": [
    "# Filtrar los registros según las condiciones dadas\n",
    "totales = df[( (df['precio'] == 0 ) & (df['precio_desc'].isna()) )] \n",
    "pd.set_option('display.max_colwidth', None) # Mostrar URLs completas\n",
    "# Iterar sobre los registros filtrados\n",
    "for idx, row in totales.iterrows():\n",
    "    print(f\"Registro {idx}:\")\n",
    "    print(row[['precio', 'precio_desc', 'url']])\n",
    "    print(\"\\n¿Qué acción te gustaría realizar?\")\n",
    "    print(\"1. Sustituir el valor manualmente\")\n",
    "    print(\"2. Pasar al siguiente registro\")\n",
    "\n",
    "    # Solicitar la opción al usuario\n",
    "    option = input(\"Elige una opción (1 o 2): \")\n",
    "\n",
    "    if option == '1':\n",
    "        # Sustituir el valor manualmente\n",
    "        new_value = input(\"Introduce el nuevo valor para 'precio': \")\n",
    "        df.at[idx, 'precio'] = float(new_value)\n",
    "    elif option == '2':\n",
    "        # Pasar al siguiente registro\n",
    "        continue\n",
    "    else:\n",
    "        print(\"Opción no válida. Pasando al siguiente registro...\")\n",
    "    \n",
    "    print(\"\\n---\\n\")\n",
    "\n",
    "print(\"Proceso completado.\")"
   ]
  },
  {
   "cell_type": "markdown",
   "metadata": {},
   "source": [
    "Eliminar registros que no recuperaron su precio ni desde la descripción"
   ]
  },
  {
   "cell_type": "code",
   "execution_count": null,
   "metadata": {},
   "outputs": [],
   "source": [
    "df = df[~( (df['precio'] == 0 ) & (df['precio_desc'].isna()) )] "
   ]
  },
  {
   "cell_type": "markdown",
   "metadata": {},
   "source": [
    "### Precio [0 / #]"
   ]
  },
  {
   "cell_type": "code",
   "execution_count": null,
   "metadata": {},
   "outputs": [
    {
     "name": "stdout",
     "output_type": "stream",
     "text": [
      "Proceso completado.\n"
     ]
    }
   ],
   "source": [
    "# Filtrar los registros según las condiciones dadas\n",
    "totales = df[( (df['precio'] == 0 ) & (df['precio_desc'].notna()) )] \n",
    "pd.set_option('display.max_colwidth', None) # Mostrar URLs completas\n",
    "\n",
    "# Iterar sobre los registros filtrados\n",
    "for idx, row in totales.iterrows():\n",
    "    print(f\"Registro {idx}:\")\n",
    "    print(row[['precio', 'precio_desc', 'url']])\n",
    "    print(\"\\n¿Qué acción te gustaría realizar?\")\n",
    "    print(\"1. Sustituir el valor manualmente\")\n",
    "    print(\"2. Sustituir el valor de 'precio' por el de 'precio_desc'\")\n",
    "    print(\"3. Pasar al siguiente registro\")\n",
    "\n",
    "    # Solicitar la opción al usuario\n",
    "    option = input(\"Elige una opción (1, 2, 3): \")\n",
    "\n",
    "    if option == '1':\n",
    "        # Sustituir el valor manualmente\n",
    "        new_value = input(\"Introduce el nuevo valor para 'precio': \")\n",
    "        df.at[idx, 'precio'] = float(new_value)\n",
    "    elif option == '2':\n",
    "        # Sustituir el valor de 'metros_total' por 'totales_desc'\n",
    "        df.at[idx, 'precio'] = df.at[idx, 'precio_desc']\n",
    "    elif option == '3':\n",
    "        # Pasar al siguiente registro\n",
    "        continue\n",
    "    else:\n",
    "        print(\"Opción no válida. Pasando al siguiente registro...\")\n",
    "    \n",
    "    print(\"\\n---\\n\")\n",
    "\n",
    "print(\"Proceso completado.\")\n"
   ]
  },
  {
   "cell_type": "markdown",
   "metadata": {},
   "source": [
    "### Precio [# / #]"
   ]
  },
  {
   "cell_type": "code",
   "execution_count": null,
   "metadata": {},
   "outputs": [],
   "source": [
    "# Filtrar los registros según las condiciones dadas\n",
    "totales = df[( ((df['precio']!= 0) & (df['precio_desc'].notna())) & (df['precio'] != df['precio_desc']) )] \n",
    "# Filtro dentro del estándar\n",
    "totales = totales[(totales['precio_desc'] >= 250000) & (totales['precio_desc'] <= 500000000)]\n",
    "pd.set_option('display.max_colwidth', None) # Mostrar URLs completas\n",
    "\n",
    "# Iterar sobre los registros filtrados\n",
    "for idx, row in totales.iterrows():\n",
    "    print(f\"Registro {idx}:\")\n",
    "    print(row[['precio', 'precio_desc', 'url']])\n",
    "    print(\"\\n¿Qué acción te gustaría realizar?\")\n",
    "    print(\"1. Sustituir el valor manualmente\")\n",
    "    print(\"2. Sustituir el valor de 'precio' por el de 'precio_desc'\")\n",
    "    print(\"3. Pasar al siguiente registro\")\n",
    "\n",
    "    # Solicitar la opción al usuario\n",
    "    option = input(\"Elige una opción (1, 2, 3): \")\n",
    "\n",
    "    if option == '1':\n",
    "        # Sustituir el valor manualmente\n",
    "        new_value = input(\"Introduce el nuevo valor para 'precio': \")\n",
    "        df.at[idx, 'precio'] = float(new_value)\n",
    "    elif option == '2':\n",
    "        # Sustituir el valor de 'metros_total' por 'totales_desc'\n",
    "        df.at[idx, 'precio'] = df.at[idx, 'precio_desc']\n",
    "    elif option == '3':\n",
    "        # Pasar al siguiente registro\n",
    "        continue\n",
    "    else:\n",
    "        print(\"Opción no válida. Pasando al siguiente registro...\")\n",
    "\n",
    "    print(\"\\n---\\n\")\n",
    "\n",
    "print(\"Proceso completado.\")"
   ]
  },
  {
   "cell_type": "markdown",
   "metadata": {},
   "source": [
    "## b) Denominación MXN"
   ]
  },
  {
   "cell_type": "markdown",
   "metadata": {},
   "source": [
    "SI EXISTE UNA DENOMINACIÓN QUE NO SEA MXN, SE CONVIERTA EL PRECIO"
   ]
  },
  {
   "cell_type": "code",
   "execution_count": null,
   "metadata": {},
   "outputs": [
    {
     "name": "stdout",
     "output_type": "stream",
     "text": [
      "    precio denominacion  precio_mxn  precio_usd fecha_conversion\n",
      "0  8000000          MXN     8000000   444999.64       2024-09-19\n",
      "1  4810000          MXN     4810000   267556.03       2024-09-19\n",
      "2  4500000          MXN     4500000   250312.30       2024-09-19\n",
      "3  4300000          MXN     4300000   239187.31       2024-09-19\n",
      "4  3946465          MXN     3946465   219521.94       2024-09-19\n"
     ]
    }
   ],
   "source": [
    "import datetime\n",
    "c = CurrencyConverter() # Instancia del convertidor de monedas\n",
    "def convertir_a_mxn(precio, denominacion):\n",
    "    if denominacion != 'MXN':\n",
    "        return int(round(c.convert(precio, denominacion, 'MXN')))\n",
    "    return precio\n",
    "\n",
    "def convertir_a_usd(precio, denominacion):\n",
    "    if denominacion != 'USD':\n",
    "        return round(c.convert(precio, denominacion, 'USD'))\n",
    "    return precio\n",
    "\n",
    "# Obtener la fecha actual\n",
    "fecha_conversion = datetime.datetime.now().date()\n",
    "\n",
    "# Aplicar la conversión a cada fila del DataFrame y agregar la fecha de conversión\n",
    "df['precio_mxn'] = df.apply(lambda row: convertir_a_mxn(row['precio'], row['denominacion']), axis=1)\n",
    "df['precio_usd'] = df.apply(lambda row: convertir_a_usd(row['precio'], row['denominacion']), axis=1)\n",
    "df['fecha_conversion'] = fecha_conversion\n",
    "print(df[['precio', 'denominacion', 'precio_mxn', 'precio_usd', 'fecha_conversion']].head())"
   ]
  },
  {
   "cell_type": "markdown",
   "metadata": {},
   "source": [
    "## c) Precio fuera del estandar"
   ]
  },
  {
   "cell_type": "markdown",
   "metadata": {},
   "source": [
    "IDENTIFICAR Y ELIMINAR PROPIEDADES QUE CUENTEN CON PRECIOS BAJOS y ALTOS AL ESTANDAR"
   ]
  },
  {
   "cell_type": "code",
   "execution_count": null,
   "metadata": {},
   "outputs": [
    {
     "data": {
      "text/plain": [
       "1605      415000\n",
       "1604      419710\n",
       "1603      419770\n",
       "1598      419770\n",
       "1602      419770\n",
       "          ...   \n",
       "4       24000000\n",
       "3       24000000\n",
       "2       26000000\n",
       "1       27000000\n",
       "0       32000000\n",
       "Name: precio, Length: 1607, dtype: int64"
      ]
     },
     "metadata": {},
     "output_type": "display_data"
    }
   ],
   "source": [
    "# Eliminar los registros donde el precio es menor al estandar (250,000) y con precio_desc vacío\n",
    "df = df[(df['precio'] >= 250000)] #& (df['precio_desc'].notna())]\n",
    "# Eliminar los registros donde el precio es mayor al estandar (500,000,000) y con precio_desc vacío\n",
    "df = df[(df['precio'] <= 500000000)] #& (df['precio_desc'].notna())] \n",
    "# Ordenar valores de manera ascendente\n",
    "df['precio'].sort_values()"
   ]
  },
  {
   "cell_type": "markdown",
   "metadata": {},
   "source": [
    "## D) Segmento o categoría"
   ]
  },
  {
   "cell_type": "code",
   "execution_count": null,
   "metadata": {},
   "outputs": [
    {
     "name": "stdout",
     "output_type": "stream",
     "text": [
      "[None 'S1' 'A3' 'A2' 'A1' 'B3' 'B2' 'B1' 'C3' 'C2' 'C1' 'D3' 'D2' 'D1'\n",
      " 'E3' 'E2' 'E1']\n"
     ]
    }
   ],
   "source": [
    "# Crear un diccionario donde las llaves son las categorías y los valores son las tuplas de rangos\n",
    "rangos_precio = {\n",
    "    \"E1\": (0, 500000),\n",
    "    \"E2\": (500000, 750000),\n",
    "    \"E3\": (750001, 1000000),\n",
    "    \"D1\": (1000001, 1250000),\n",
    "    \"D2\": (1250001, 1500000),\n",
    "    \"D3\": (1500001, 1750000),\n",
    "    \"C1\": (1750001, 2000000),\n",
    "    \"C2\": (2000001, 2250000),\n",
    "    \"C3\": (2250001, 2500000),\n",
    "    \"B1\": (2500001, 2750000),  \n",
    "    \"B2\": (2750001, 3000000),  \n",
    "    \"B3\": (3000001, 3250000),  \n",
    "    \"A1\": (3250001, 3500000),\n",
    "    \"A2\": (3500001, 3750000),\n",
    "    \"A3\": (3750001, 4000000),\n",
    "    \"S1\": (4000001, 6000000),\n",
    "    \"S2\": (6000001, 8000000),\n",
    "    \"S3\": (8000001, 12000000),\n",
    "    \"L1\": (12000001, 14000000),\n",
    "    \"L2\": (14000001, 16000000),\n",
    "    \"L3\": (16000001, 18000000),\n",
    "    \"L+\": (18000001, 22000000),\n",
    "    \"ELITE\": (22000001, float('inf'))\n",
    "}\n",
    "\n",
    "# Función para asignar la categoría según el precio\n",
    "def asignar_categoria(precio):\n",
    "    for categoria, (limite_inferior, limite_superior) in rangos_precio.items():\n",
    "        if limite_inferior <= precio < limite_superior:\n",
    "            return categoria\n",
    "    return None  # En caso de que el precio no caiga en ningún rango (caso raro)\n",
    "\n",
    "# Asignar la categoría a cada registro\n",
    "df['categoria'] = df['precio'].apply(asignar_categoria)\n",
    "print(df['categoria'].unique())"
   ]
  },
  {
   "cell_type": "markdown",
   "metadata": {},
   "source": [
    "# 2. Meses transcurridos"
   ]
  },
  {
   "cell_type": "markdown",
   "metadata": {},
   "source": [
    "Sacar el número de meses transcurridos desde la fecha de su publicación a la actual"
   ]
  },
  {
   "cell_type": "code",
   "execution_count": null,
   "metadata": {},
   "outputs": [
    {
     "name": "stdout",
     "output_type": "stream",
     "text": [
      "    tiempo_de_publicacion fecha_estandarizada  meses_transcurridos  \\\n",
      "0              2023-03-29          2023-03-29                   17   \n",
      "1              2023-04-28          2023-04-28                   16   \n",
      "2              2024-01-11          2024-01-11                    8   \n",
      "3              2023-09-13          2023-09-13                   12   \n",
      "4              2024-02-21          2024-02-21                    6   \n",
      "..                    ...                 ...                  ...   \n",
      "127            2024-03-04          2024-03-04                    6   \n",
      "128            2024-03-04          2024-03-04                    6   \n",
      "129            2024-02-17          2024-02-17                    7   \n",
      "130            2023-09-20          2023-09-20                   11   \n",
      "131            2024-03-04          2024-03-04                    6   \n",
      "\n",
      "    meses_transcurridos_fecha  \n",
      "0                  2024-09-19  \n",
      "1                  2024-09-19  \n",
      "2                  2024-09-19  \n",
      "3                  2024-09-19  \n",
      "4                  2024-09-19  \n",
      "..                        ...  \n",
      "127                2024-09-19  \n",
      "128                2024-09-19  \n",
      "129                2024-09-19  \n",
      "130                2024-09-19  \n",
      "131                2024-09-19  \n",
      "\n",
      "[132 rows x 4 columns]\n"
     ]
    }
   ],
   "source": [
    "from dateutil.relativedelta import relativedelta  # Diferencias entre fechas, incluyendo años, meses y días\n",
    "from datetime import datetime\n",
    "# Convertir el mes abreviado en número\n",
    "def month_to_int(month):\n",
    "    months = ['ene', 'feb', 'mar', 'abr', 'may', 'jun', 'jul', 'ago', 'sep', 'oct', 'nov', 'dic']\n",
    "    return months.index(month.lower()) + 1\n",
    "\n",
    "# Estandarizar el formato de fecha\n",
    "def standardize_date(date_str):\n",
    "    # Caso 1: formato \"20 abr. 2023\" -> \"2023-04-20\"\n",
    "    try:\n",
    "        day, month, year = date_str.split(' ')\n",
    "        month_int = month_to_int(month.replace('.', ''))  # Eliminar puntos si existen\n",
    "        return f\"{year}-{month_int:02d}-{int(day):02d}\"\n",
    "    except (ValueError, AttributeError):\n",
    "        pass\n",
    "\n",
    "    # Caso 2: formato \"YYYY-MM-DD HH:MM:SS\" o \"YYYY-MM-DD\"\n",
    "    try:\n",
    "        return pd.to_datetime(date_str).strftime('%Y-%m-%d')\n",
    "    except (ValueError, TypeError):\n",
    "        # Si no se puede convertir, devolver None\n",
    "        return None\n",
    "\n",
    "# Aplicar la función a la columna 'tiempo_de_publicacion'\n",
    "df['fecha_estandarizada'] = df['tiempo_de_publicacion'].apply(standardize_date)\n",
    "\n",
    "# Convertir a datetime y manejar errores\n",
    "df['fecha_estandarizada'] = pd.to_datetime(df['fecha_estandarizada'], errors='coerce')\n",
    "\n",
    "# Obtener la fecha actual\n",
    "fecha_actual = datetime.now().date()\n",
    "\n",
    "# Función para calcular la diferencia en meses\n",
    "def calcular_meses(fecha):\n",
    "    if pd.isnull(fecha):\n",
    "        return None\n",
    "    rd = relativedelta(fecha_actual, fecha.date())\n",
    "    return rd.years * 12 + rd.months\n",
    "\n",
    "# Aplicar la función para calcular los meses transcurridos\n",
    "df['meses_transcurridos'] = df['fecha_estandarizada'].apply(calcular_meses)\n",
    "\n",
    "#Registro de fecha de conversión\n",
    "df['meses_transcurridos_fecha'] = fecha_actual\n",
    "\n",
    "# Mostrar el DataFrame con las fechas estandarizadas y meses transcurridos\n",
    "print(df[['tiempo_de_publicacion', 'fecha_estandarizada', 'meses_transcurridos','meses_transcurridos_fecha']])"
   ]
  },
  {
   "cell_type": "markdown",
   "metadata": {},
   "source": [
    "# 3. Tipo de propiedad"
   ]
  },
  {
   "cell_type": "markdown",
   "metadata": {},
   "source": [
    "## a) Estandarizar"
   ]
  },
  {
   "cell_type": "code",
   "execution_count": null,
   "metadata": {},
   "outputs": [
    {
     "data": {
      "text/plain": [
       "array(['Casa', 'Casa En Fraccionamiento', 'Departamento',\n",
       "       'Casa En Condominio', 'Condominio Horizontal'], dtype=object)"
      ]
     },
     "metadata": {},
     "output_type": "display_data"
    }
   ],
   "source": [
    "# Convierte todos los valores a strings, maneja NaN o None como cadenas vacías\n",
    "df['tipo'] = df['tipo'].astype(str)\n",
    "# Convertir a minúsculas\n",
    "df['tipo'] = df['tipo'].str.lower()\n",
    "\n",
    "import unicodedata# Función para eliminar acentos\n",
    "def eliminar_acentos(texto):\n",
    "    # Normaliza y elimina los acentos\n",
    "    texto_normalizado = unicodedata.normalize('NFKD', texto)\n",
    "    return ''.join(char for char in texto_normalizado if unicodedata.category(char) != 'Mn')\n",
    "df['tipo'] = df['tipo'].apply(eliminar_acentos)\n",
    "# Convertir la primera letra de cada palabra a mayúscula\n",
    "df['tipo'] = df['tipo'].str.title()\n",
    "df['tipo'].unique()"
   ]
  },
  {
   "cell_type": "markdown",
   "metadata": {},
   "source": [
    "## b) Lista de tipos deseados"
   ]
  },
  {
   "cell_type": "code",
   "execution_count": null,
   "metadata": {},
   "outputs": [
    {
     "data": {
      "text/plain": [
       "array(['Departamento', 'Condominio Horizontal', 'Casa', 'Dúplex',\n",
       "       'Casa Dúplex', 'Casa en Fraccionamiento', 'Casa en Condominio'],\n",
       "      dtype=object)"
      ]
     },
     "metadata": {},
     "output_type": "display_data"
    }
   ],
   "source": [
    "# Filtrar los registros según los tipos especificados\n",
    "tipos_permitidos = 'Casa|Casa En Condominio|Casa En Fraccionamiento|Departamento|Penthouse|Dúplex|Loft|Estudio|Condominio Horizontal'\n",
    "df = df[df['tipo'].str.contains(tipos_permitidos, na=False)]\n",
    "df['tipo'].unique()"
   ]
  },
  {
   "cell_type": "markdown",
   "metadata": {},
   "source": [
    "* Casas: Casa en condominio, \n",
    "* Departamento: Penthouse, Loft"
   ]
  },
  {
   "cell_type": "markdown",
   "metadata": {},
   "source": [
    "## c) Manejo de terrenos"
   ]
  },
  {
   "cell_type": "markdown",
   "metadata": {},
   "source": [
    "Se buscan los registros que no sean las propiedades si no un solo terreno"
   ]
  },
  {
   "cell_type": "code",
   "execution_count": null,
   "metadata": {},
   "outputs": [],
   "source": [
    "# Filtrar los registros según las condiciones dadas\n",
    "totales =df[df['descripcion'].str.contains('lote', case=False)]\n",
    "pd.set_option('display.max_colwidth', None) # Mostrar URLs completas\n",
    "\n",
    "# MANEJAR PROCESO DE ELIMINACIÓN \n",
    "for idx, row in totales.iterrows():\n",
    "    print(f\"Registro {idx}:\")\n",
    "    print(row[['url']])#'descripcion',\n",
    "    \n",
    "    print(\"\\n¿Te gustaría eliminar el registro?\")\n",
    "    # Solicitar la opción al usuario\n",
    "    option = input(\"Elige una opción (si / no): \").strip().lower()\n",
    "    \n",
    "    if option == 'si':\n",
    "        df.drop(idx, inplace=True)\n",
    "        print(f\"Registro eliminado.\\n\")\n",
    "    else:\n",
    "        print(f\"Registro conservado.\\n\")\n",
    "        print(\"\\n---\\n\")\n",
    "print(\"Proceso completado.\")"
   ]
  },
  {
   "cell_type": "markdown",
   "metadata": {},
   "source": [
    "# 4. Metros totales"
   ]
  },
  {
   "cell_type": "markdown",
   "metadata": {},
   "source": [
    "## a) Metros en descripción"
   ]
  },
  {
   "cell_type": "code",
   "execution_count": null,
   "metadata": {},
   "outputs": [],
   "source": [
    "# Función para extraer totales de la descripción\n",
    "def extraer_totales(descripcion):\n",
    "    descripcion = descripcion.lower()\n",
    "    # Buscar patrones de totales\n",
    "    totales = re.findall(r'\\b(\\d+[\\.,]?\\d*)\\s*(metros|totales|mt2)\\b', descripcion)\n",
    "    total = None\n",
    "    for match in totales:\n",
    "        numero, _ = match\n",
    "        numero = numero.replace(',', '').replace(\"'\", '')\n",
    "        try:\n",
    "            total = float(numero)\n",
    "        except ValueError:\n",
    "            continue\n",
    "        if total:\n",
    "            break\n",
    "    return total\n",
    "\n",
    "# Aplicar la función al DataFrame\n",
    "df['totales_desc'] = df['descripcion'].apply(extraer_totales)"
   ]
  },
  {
   "cell_type": "markdown",
   "metadata": {},
   "source": [
    "### Metros [0 / 0]"
   ]
  },
  {
   "cell_type": "code",
   "execution_count": null,
   "metadata": {},
   "outputs": [
    {
     "name": "stdout",
     "output_type": "stream",
     "text": [
      "Proceso completado.\n"
     ]
    }
   ],
   "source": [
    "# Filtrar los registros según las condiciones dadas\n",
    "totales = df[( (df['metros_total'] == 0 ) & (df['totales_desc'].isna() | df['totales_desc']==0) )] \n",
    "pd.set_option('display.max_colwidth', None) # Mostrar URLs completas\n",
    "\n",
    "# Iterar sobre los registros filtrados\n",
    "for idx, row in totales.iterrows():\n",
    "    print(f\"Registro {idx}:\")\n",
    "    print(row[['metros_total', 'totales_desc', 'url']])\n",
    "    print(\"\\n¿Qué acción te gustaría realizar?\")\n",
    "    print(\"1. Sustituir el valor manualmente\")\n",
    "    print(\"2. Sustituir el valor de 'metros_total' por el de 'totales_desc'\")\n",
    "    print(\"3. Pasar al siguiente registro\")\n",
    "\n",
    "    # Solicitar la opción al usuario\n",
    "    option = input(\"Elige una opción (1, 2, 3): \")\n",
    "\n",
    "    if option == '1':\n",
    "        # Sustituir el valor manualmente\n",
    "        new_value = input(\"Introduce el nuevo valor para 'metros_total': \")\n",
    "        df.at[idx, 'metros_total'] = float(new_value)\n",
    "    elif option == '2':\n",
    "        # Sustituir el valor de 'metros_total' por 'totales_desc'\n",
    "        df.at[idx, 'metros_total'] = df.at[idx, 'totales_desc']\n",
    "    elif option == '3':\n",
    "        # Pasar al siguiente registro\n",
    "        continue\n",
    "    else:\n",
    "        print(\"Opción no válida. Pasando al siguiente registro...\")\n",
    "    \n",
    "    print(\"\\n---\\n\")\n",
    "\n",
    "print(\"Proceso completado.\")\n"
   ]
  },
  {
   "cell_type": "markdown",
   "metadata": {},
   "source": [
    "### Metros [0 / #]"
   ]
  },
  {
   "cell_type": "code",
   "execution_count": null,
   "metadata": {},
   "outputs": [
    {
     "name": "stdout",
     "output_type": "stream",
     "text": [
      "Proceso completado.\n"
     ]
    }
   ],
   "source": [
    "# Filtrar los registros según las condiciones dadas\n",
    "totales = df[( (df['metros_total'] == 0 ) & (df['totales_desc'].notna()) )] \n",
    "pd.set_option('display.max_colwidth', None) # Mostrar URLs completas\n",
    "\n",
    "# Iterar sobre los registros filtrados\n",
    "for idx, row in totales.iterrows():\n",
    "    print(f\"Registro {idx}:\")\n",
    "    print(row[['metros_total', 'totales_desc', 'url']])\n",
    "    print(\"\\n¿Qué acción te gustaría realizar?\")\n",
    "    print(\"1. Sustituir el valor manualmente\")\n",
    "    print(\"2. Sustituir el valor de 'metros_total' por el de 'totales_desc'\")\n",
    "    print(\"3. Pasar al siguiente registro\")\n",
    "\n",
    "    # Solicitar la opción al usuario\n",
    "    option = input(\"Elige una opción (1, 2, 3): \")\n",
    "\n",
    "    if option == '1':\n",
    "        # Sustituir el valor manualmente\n",
    "        new_value = input(\"Introduce el nuevo valor para 'metros_total': \")\n",
    "        df.at[idx, 'metros_total'] = float(new_value)\n",
    "    elif option == '2':\n",
    "        # Sustituir el valor de 'metros_total' por 'totales_desc'\n",
    "        df.at[idx, 'metros_total'] = df.at[idx, 'totales_desc']\n",
    "    elif option == '3':\n",
    "        # Pasar al siguiente registro\n",
    "        continue\n",
    "    else:\n",
    "        print(\"Opción no válida. Pasando al siguiente registro...\")\n",
    "    \n",
    "    print(\"\\n---\\n\")\n",
    "\n",
    "print(\"Proceso completado.\")\n"
   ]
  },
  {
   "cell_type": "markdown",
   "metadata": {},
   "source": [
    "### Metros [# / #]"
   ]
  },
  {
   "cell_type": "code",
   "execution_count": null,
   "metadata": {},
   "outputs": [],
   "source": [
    "# Filtrar los registros según las condiciones dadas\n",
    "totales = df[( ((df['metros_total']!= 0) & (df['totales_desc'].notna())) & (df['metros_total'] != df['totales_desc']) )] \n",
    "pd.set_option('display.max_colwidth', None) # Mostrar URLs completas\n",
    "\n",
    "# Iterar sobre los registros filtrados\n",
    "for idx, row in totales.iterrows():\n",
    "    print(f\"Registro {idx}:\")\n",
    "    print(f\"metros_total: {row['metros_total']}\")\n",
    "    print(f\"totales_desc: {row['totales_desc']}\")\n",
    "    print(f\"url: {row['url']}\")\n",
    "    \n",
    "    print(\"\\n¿Qué acción te gustaría realizar?\")\n",
    "    print(\"1. Sustituir el valor manualmente\")\n",
    "    print(\"2. Sustituir el valor de 'metros_total' por el de 'totales_desc'\")\n",
    "    print(\"3. Pasar al siguiente registro\")\n",
    "\n",
    "    # Solicitar la opción al usuario\n",
    "    option = input(\"Elige una opción (1, 2, 3): \")\n",
    "\n",
    "    if option == '1':\n",
    "        # Sustituir el valor manualmente\n",
    "        while True:\n",
    "            try:\n",
    "                new_value = float(input(\"Introduce el nuevo valor para 'metros_total': \"))\n",
    "                df.at[idx, 'metros_total'] = new_value\n",
    "                break\n",
    "            except ValueError:\n",
    "                print(\"Por favor, introduce un número válido (entero o decimal).\")\n",
    "    elif option == '2':\n",
    "        # Sustituir el valor de 'metros_total' por 'totales_desc'\n",
    "        df.at[idx, 'metros_total'] = df.at[idx, 'totales_desc']\n",
    "    elif option == '3':\n",
    "        # Pasar al siguiente registro\n",
    "        continue\n",
    "    else:\n",
    "        print(\"Opción no válida. Pasando al siguiente registro...\")\n",
    "    print(\"\\n---\\n\")\n",
    "\n",
    "print(\"Proceso completado.\")"
   ]
  },
  {
   "cell_type": "markdown",
   "metadata": {},
   "source": [
    "## b) Manejo por rangos de UMA"
   ]
  },
  {
   "cell_type": "markdown",
   "metadata": {},
   "source": [
    "Paso opcional por si no se espera cambiar el precio por el que se tenga en descripción"
   ]
  },
  {
   "cell_type": "markdown",
   "metadata": {},
   "source": [
    "Rangos\n",
    "* 118 UMAS = 40m2\n",
    "* 118.1-200 = 50m2\n",
    "* 200.1-350 = 71m2\n",
    "* 350.1-750 = 102m2\n",
    "* 750.1-1500 = 156m2"
   ]
  },
  {
   "cell_type": "markdown",
   "metadata": {},
   "source": [
    "### DF cuando ambas columnas son 0 o vacíos"
   ]
  },
  {
   "cell_type": "code",
   "execution_count": null,
   "metadata": {},
   "outputs": [],
   "source": [
    "# Rangos de UMAs y sus equivalencias en m²\n",
    "umas_to_m2 = [\n",
    "    (118, 40),\n",
    "    (200, 50),\n",
    "    (350, 71),\n",
    "    (750, 102),\n",
    "    (1500, 156)\n",
    "]\n",
    "valor_uma = 108.57\n",
    "\n",
    "# Convertir MXN a UMAs\n",
    "def precio_a_umas(precio, valor_uma):\n",
    "    return precio / valor_uma\n",
    "\n",
    "# Asignar m² basado en el precio en UMAs\n",
    "def asignar_m2(precio_umas):\n",
    "    for upper_bound, m2 in umas_to_m2:\n",
    "        if precio_umas <= upper_bound:\n",
    "            return m2\n",
    "    return None  # En caso de que el precio en UMAs sea mayor al máximo definido\n",
    "\n",
    "# Actualizar los registros con 'metros_total' igual a 0 y 'totales_desc' es NaN\n",
    "def actualizar_metros_total(row):\n",
    "    if row['metros_total'] == 0 and pd.isna(row['totales_desc']):\n",
    "        precio_umas = precio_a_umas(row['precio'], valor_uma)\n",
    "        row['metros_total'] = asignar_m2(precio_umas)\n",
    "    return row\n",
    "\n",
    "totales = df[( (df['metros_total'] == 0 ) & (df['totales_desc'].isna() | df['totales_desc']==0) )] \n",
    "totales = df.apply(actualizar_metros_total, axis=1)\n",
    "pd.set_option('display.max_colwidth', None) # Mostrar URLs completas\n",
    "\n",
    "#df = df.apply(actualizar_metros_total, axis=1)\n",
    "print(totales[['metros_total', 'totales_desc', 'url']])"
   ]
  },
  {
   "cell_type": "code",
   "execution_count": null,
   "metadata": {},
   "outputs": [],
   "source": [
    "# Si se aceptan los cambios:\n",
    "df = df.apply(actualizar_metros_total, axis=1)"
   ]
  },
  {
   "cell_type": "markdown",
   "metadata": {},
   "source": [
    "# 5. M2 construidos"
   ]
  },
  {
   "cell_type": "markdown",
   "metadata": {},
   "source": [
    "## a) M-construidos en descripción"
   ]
  },
  {
   "cell_type": "code",
   "execution_count": null,
   "metadata": {},
   "outputs": [],
   "source": [
    "# Función para extraer totales de la descripción\n",
    "def extraer_totales(descripcion):\n",
    "    descripcion = descripcion.lower()\n",
    "    # Buscar patrones de totales\n",
    "    totales = re.findall(r'\\b(\\d+[\\.,]?\\d*)\\s*(metros|construidos)\\b', descripcion)\n",
    "    total = None\n",
    "    for match in totales:\n",
    "        numero, _ = match\n",
    "        numero = numero.replace(',', '').replace(\"'\", '')\n",
    "        try:\n",
    "            total = float(numero)\n",
    "        except ValueError:\n",
    "            continue\n",
    "        if total:\n",
    "            break\n",
    "    return total\n",
    "\n",
    "# Aplicar la función al DataFrame\n",
    "df['construidos_desc'] = df['descripcion'].apply(extraer_totales)"
   ]
  },
  {
   "cell_type": "markdown",
   "metadata": {},
   "source": [
    "### Metros [0 / 0]"
   ]
  },
  {
   "cell_type": "code",
   "execution_count": null,
   "metadata": {},
   "outputs": [
    {
     "name": "stdout",
     "output_type": "stream",
     "text": [
      "Proceso completado.\n"
     ]
    }
   ],
   "source": [
    "# Filtrar los registros según las condiciones dadas\n",
    "totales = df[( (df['metros_construido'] == 0 ) & (df['construidos_desc'].isna() | df['construidos_desc']==0) )] \n",
    "pd.set_option('display.max_colwidth', None) # Mostrar URLs completas\n",
    "\n",
    "# Iterar sobre los registros filtrados\n",
    "for idx, row in totales.iterrows():\n",
    "    print(f\"Registro {idx}:\")\n",
    "    print(row[['metros_construido', 'construidos_desc', 'url']])\n",
    "    print(\"\\n¿Qué acción te gustaría realizar?\")\n",
    "    print(\"1. Sustituir el valor manualmente\")\n",
    "    print(\"2. Sustituir el valor de 'metros_construido' por el de 'construidos_desc'\")\n",
    "    print(\"3. Pasar al siguiente registro\")\n",
    "\n",
    "    # Solicitar la opción al usuario\n",
    "    option = input(\"Elige una opción (1, 2, 3): \")\n",
    "\n",
    "    if option == '1':\n",
    "        # Sustituir el valor manualmente\n",
    "        new_value = input(\"Introduce el nuevo valor para 'metros_construido': \")\n",
    "        df.at[idx, 'metros_construido'] = float(new_value)\n",
    "    elif option == '2':\n",
    "        # Sustituir el valor de 'metros_construido' por 'construidos_desc'\n",
    "        df.at[idx, 'metros_construido'] = df.at[idx, 'construidos_desc']\n",
    "    elif option == '3':\n",
    "        # Pasar al siguiente registro\n",
    "        continue\n",
    "    else:\n",
    "        print(\"Opción no válida. Pasando al siguiente registro...\")\n",
    "    \n",
    "    print(\"\\n---\\n\")\n",
    "\n",
    "print(\"Proceso completado.\")\n"
   ]
  },
  {
   "cell_type": "markdown",
   "metadata": {},
   "source": [
    "### Metros [0 / #]"
   ]
  },
  {
   "cell_type": "code",
   "execution_count": null,
   "metadata": {},
   "outputs": [
    {
     "name": "stdout",
     "output_type": "stream",
     "text": [
      "Proceso completado.\n"
     ]
    }
   ],
   "source": [
    "# Filtrar los registros según las condiciones dadas\n",
    "totales = df[( (df['metros_construido'] == 0 ) & (df['construidos_desc'].notna()) )] \n",
    "pd.set_option('display.max_colwidth', None) # Mostrar URLs completas\n",
    "\n",
    "# Iterar sobre los registros filtrados\n",
    "for idx, row in totales.iterrows():\n",
    "    print(f\"Registro {idx}:\")\n",
    "    print(row[['metros_construido', 'construidos_desc', 'url']])\n",
    "    print(\"\\n¿Qué acción te gustaría realizar?\")\n",
    "    print(\"1. Sustituir el valor manualmente\")\n",
    "    print(\"2. Sustituir el valor de 'metros_construido' por el de 'construidos_desc'\")\n",
    "    print(\"3. Pasar al siguiente registro\")\n",
    "\n",
    "    # Solicitar la opción al usuario\n",
    "    option = input(\"Elige una opción (1, 2, 3): \")\n",
    "\n",
    "    if option == '1':\n",
    "        # Sustituir el valor manualmente\n",
    "        new_value = input(\"Introduce el nuevo valor para 'metros_construido': \")\n",
    "        df.at[idx, 'metros_construido'] = float(new_value)\n",
    "    elif option == '2':\n",
    "        # Sustituir el valor de 'metros_construido' por 'construidos_desc'\n",
    "        df.at[idx, 'metros_construido'] = df.at[idx, 'construidos_desc']\n",
    "    elif option == '3':\n",
    "        # Pasar al siguiente registro\n",
    "        continue\n",
    "    else:\n",
    "        print(\"Opción no válida. Pasando al siguiente registro...\")\n",
    "    \n",
    "    print(\"\\n---\\n\")\n",
    "\n",
    "print(\"Proceso completado.\")\n"
   ]
  },
  {
   "cell_type": "markdown",
   "metadata": {},
   "source": [
    "### Metros [# / #]"
   ]
  },
  {
   "cell_type": "code",
   "execution_count": null,
   "metadata": {},
   "outputs": [],
   "source": [
    "# Filtrar los registros según las condiciones dadas\n",
    "totales = df[( ((df['metros_construido']!= 0) & (df['construidos_desc'].notna())) & (df['metros_construido'] != df['construidos_desc']) )] \n",
    "pd.set_option('display.max_colwidth', None) # Mostrar URLs completas\n",
    "\n",
    "# Iterar sobre los registros filtrados\n",
    "for idx, row in totales.iterrows():\n",
    "    print(f\"Registro {idx}:\")\n",
    "    print(row[['metros_construido', 'construidos_desc', 'url']])\n",
    "    print(\"\\n¿Qué acción te gustaría realizar?\")\n",
    "    print(\"1. Sustituir el valor manualmente\")\n",
    "    print(\"2. Sustituir el valor de 'metros_construido' por el de 'construidos_desc'\")\n",
    "    print(\"3. Pasar al siguiente registro\")\n",
    "\n",
    "    # Solicitar la opción al usuario\n",
    "    option = input(\"Elige una opción (1, 2, 3): \")\n",
    "\n",
    "    if option == '1':\n",
    "        # Sustituir el valor manualmente\n",
    "        new_value = input(\"Introduce el nuevo valor para 'metros_construido': \")\n",
    "        try:\n",
    "            df.at[idx, 'metros_construido'] = float(new_value)\n",
    "        except ValueError:\n",
    "            print(\"Valor no válido. Debe ser un número. Pasando al siguiente registro...\")\n",
    "    elif option == '2':\n",
    "        # Sustituir el valor de 'metros_construido' por 'construidos_desc'\n",
    "        df.at[idx, 'metros_construido'] = df.at[idx, 'construidos_desc']\n",
    "    elif option == '3':\n",
    "        # Pasar al siguiente registro\n",
    "        continue\n",
    "    else:\n",
    "        print(\"Opción no válida. Pasando al siguiente registro...\")\n",
    "    \n",
    "    print(\"\\n---\\n\")\n",
    "\n",
    "print(\"Proceso completado.\")\n"
   ]
  },
  {
   "cell_type": "markdown",
   "metadata": {},
   "source": [
    "# 6. Precio / m2"
   ]
  },
  {
   "cell_type": "markdown",
   "metadata": {},
   "source": [
    "## M2 Totales (terreno)"
   ]
  },
  {
   "cell_type": "code",
   "execution_count": null,
   "metadata": {},
   "outputs": [],
   "source": [
    "# Calcular precio por metro cuadrado del terreno\n",
    "df['precio_m2_terreno'] = df['precio']/df['metros_total']"
   ]
  },
  {
   "cell_type": "markdown",
   "metadata": {},
   "source": [
    "## M2 Construidos"
   ]
  },
  {
   "cell_type": "code",
   "execution_count": null,
   "metadata": {},
   "outputs": [],
   "source": [
    "# Calcular precio por metro cuadrado de la cosntrucción\n",
    "df['precio_m2_construido'] = df['precio']/df['metros_construido']"
   ]
  },
  {
   "cell_type": "markdown",
   "metadata": {},
   "source": [
    "# 7. Estacionamientos"
   ]
  },
  {
   "cell_type": "markdown",
   "metadata": {},
   "source": [
    "## a) Estacionamientos descritos"
   ]
  },
  {
   "cell_type": "markdown",
   "metadata": {},
   "source": [
    "Asigna las diferentes maneras en las que puede encontrarse descrito el espacio de estacionamientos"
   ]
  },
  {
   "cell_type": "code",
   "execution_count": null,
   "metadata": {},
   "outputs": [],
   "source": [
    "# Función para extraer estacionamientos de la descripción\n",
    "def extraer_coches(descripcion):\n",
    "    descripcion = descripcion.lower()\n",
    "    # Buscar patrones de totales\n",
    "    totales = re.findall(r'\\b(\\d+[\\.,]?\\d*)\\s*(|cochera|garage|carros|carro|coche|coches|autos|automóviles|automóvil|auto|lugares de estacionamiento)\\b', descripcion)\n",
    "    total = None\n",
    "    for match in totales:\n",
    "        numero, _ = match\n",
    "        numero = numero.replace(',', '').replace(\"'\", '').replace('.','')\n",
    "        try:\n",
    "            total = float(numero)\n",
    "        except ValueError:\n",
    "            continue\n",
    "        if total:\n",
    "            break\n",
    "    return total\n",
    "\n",
    "# Aplicar la función al DataFrame\n",
    "df['estacionamiento_desc'] = df['descripcion'].apply(extraer_coches)"
   ]
  },
  {
   "cell_type": "markdown",
   "metadata": {},
   "source": [
    "### Estacionamientos [0 / 0]"
   ]
  },
  {
   "cell_type": "code",
   "execution_count": null,
   "metadata": {},
   "outputs": [
    {
     "name": "stdout",
     "output_type": "stream",
     "text": [
      "Proceso completado.\n"
     ]
    }
   ],
   "source": [
    "# Filtrar los registros según las condiciones dadas\n",
    "totales = df[( (df['estacionamientos']==0) & (df['estacionamiento_desc'].isna()) )] \n",
    "pd.set_option('display.max_colwidth', None) # Mostrar URLs completas\n",
    "\n",
    "# Iterar sobre los registros filtrados\n",
    "for idx, row in totales.iterrows():\n",
    "    print(f\"Registro {idx}:\")\n",
    "    print(row[['url']])\n",
    "    print(\"\\n¿Qué acción te gustaría realizar?\")\n",
    "    print(\"1. Sustituir el valor manualmente\")\n",
    "    print(\"2. Pasar al siguiente registro\")\n",
    "\n",
    "    # Solicitar la opción al usuario\n",
    "    option = input(\"Elige una opción (1 | 2): \")\n",
    "\n",
    "    if option == '1':\n",
    "        # Sustituir el valor manualmente\n",
    "        new_value = input(\"Introduce el nuevo valor para 'estacionamientos': \")\n",
    "        df.at[idx, 'estacionamientos'] = float(new_value)    \n",
    "    elif option == '2':\n",
    "        # Pasar al siguiente registro\n",
    "        continue\n",
    "    else:\n",
    "        print(\"Opción no válida. Pasando al siguiente registro...\")\n",
    "    \n",
    "    print(\"\\n---\\n\")\n",
    "\n",
    "print(\"Proceso completado.\")"
   ]
  },
  {
   "cell_type": "markdown",
   "metadata": {},
   "source": [
    "### Estacionamientos [0 / #]"
   ]
  },
  {
   "cell_type": "code",
   "execution_count": null,
   "metadata": {},
   "outputs": [
    {
     "name": "stdout",
     "output_type": "stream",
     "text": [
      "Proceso completado.\n"
     ]
    }
   ],
   "source": [
    "# Filtrar los registros según las condiciones dadas\n",
    "totales = df[( (df['estacionamientos']==0) & (df['estacionamiento_desc'].notna()) )] \n",
    "pd.set_option('display.max_colwidth', None) # Mostrar URLs completas\n",
    "\n",
    "# Iterar sobre los registros filtrados\n",
    "for idx, row in totales.iterrows():\n",
    "    print(f\"Registro {idx}:\")\n",
    "    print(row[['estacionamientos', 'estacionamiento_desc', 'url']])\n",
    "    print(\"\\n¿Qué acción te gustaría realizar?\")\n",
    "    print(\"1. Sustituir el valor manualmente\")\n",
    "    print(\"2. Sustituir el valor de 'estacionamientos' por el de 'estacionamiento_desc'\")\n",
    "    print(\"3. Pasar al siguiente registro\")\n",
    "\n",
    "    # Solicitar la opción al usuario\n",
    "    option = input(\"Elige una opción (1, 2, 3): \")\n",
    "\n",
    "    if option == '1':\n",
    "        # Sustituir el valor manualmente\n",
    "        new_value = input(\"Introduce el nuevo valor para 'estacionamientos': \")\n",
    "        df.at[idx, 'estacionamientos'] = float(new_value)\n",
    "    elif option == '2':\n",
    "        # Sustituir el valor de 'metros_total' por 'totales_desc'\n",
    "        df.at[idx, 'estacionamientos'] = df.at[idx, 'estacionamiento_desc']\n",
    "    elif option == '3':\n",
    "        # Pasar al siguiente registro\n",
    "        continue\n",
    "    else:\n",
    "        print(\"Opción no válida. Pasando al siguiente registro...\")\n",
    "    \n",
    "    print(\"\\n---\\n\")\n",
    "\n",
    "print(\"Proceso completado.\")"
   ]
  },
  {
   "cell_type": "markdown",
   "metadata": {},
   "source": [
    "### Estacionamientos [# / #]"
   ]
  },
  {
   "cell_type": "code",
   "execution_count": null,
   "metadata": {},
   "outputs": [],
   "source": [
    "# Filtrar los registros según las condiciones dadas\n",
    "totales = df[( ((df['estacionamientos']!=0) & (df['estacionamiento_desc'].notna())) & (df['estacionamientos'] != df['estacionamiento_desc']) )] \n",
    "pd.set_option('display.max_colwidth', None) # Mostrar URLs completas\n",
    "\n",
    "# Iterar sobre los registros filtrados\n",
    "for idx, row in totales.iterrows():\n",
    "    print(f\"Registro {idx}:\")\n",
    "    print(row[['estacionamientos', 'estacionamiento_desc', 'url']])\n",
    "    print(\"\\n¿Qué acción te gustaría realizar?\")\n",
    "    print(\"1. Sustituir el valor manualmente\")\n",
    "    print(\"2. Sustituir el valor de 'estacionamientos' por el de 'estacionamiento_desc'\")\n",
    "    print(\"3. Pasar al siguiente registro\")\n",
    "\n",
    "    # Solicitar la opción al usuario\n",
    "    option = input(\"Elige una opción (1, 2, 3): \")\n",
    "\n",
    "    if option == '1':\n",
    "        # Sustituir el valor manualmente\n",
    "        new_value = input(\"Introduce el nuevo valor para 'estacionamientos': \")\n",
    "        df.at[idx, 'estacionamientos'] = float(new_value)\n",
    "    elif option == '2':\n",
    "        # Sustituir el valor de 'metros_total' por 'totales_desc'\n",
    "        df.at[idx, 'estacionamientos'] = df.at[idx, 'estacionamiento_desc']\n",
    "    elif option == '3':\n",
    "        # Pasar al siguiente registro\n",
    "        continue\n",
    "    else:\n",
    "        print(\"Opción no válida. Pasando al siguiente registro...\")\n",
    "    \n",
    "    print(\"\\n---\\n\")\n",
    "\n",
    "print(\"Proceso completado.\")"
   ]
  },
  {
   "cell_type": "markdown",
   "metadata": {},
   "source": [
    "## b) Mantener rango de estacionamientos < 5 (mínimo 1)"
   ]
  },
  {
   "cell_type": "code",
   "execution_count": null,
   "metadata": {},
   "outputs": [],
   "source": [
    "df = df[df['estacionamientos'] <= 8]\n",
    "#df[['estacionamientos','estacionamiento_desc','url']]"
   ]
  },
  {
   "cell_type": "markdown",
   "metadata": {},
   "source": [
    "# 8. Recámaras"
   ]
  },
  {
   "cell_type": "markdown",
   "metadata": {},
   "source": [
    "## a) Recámaras en descripción"
   ]
  },
  {
   "cell_type": "code",
   "execution_count": null,
   "metadata": {},
   "outputs": [],
   "source": [
    "# Función para extraer cantidad de recamaras en descripción\n",
    "def extraer_recamaras(descripcion):\n",
    "    descripcion = descripcion.lower()\n",
    "    # Buscar patrones de totales\n",
    "    totales = re.findall(r'\\b(\\d+[\\.,]?\\d*)\\s*(recamara|recamaras|habitaciones|dormitorio|dormitorios)\\b', descripcion)\n",
    "    total = None\n",
    "    for match in totales:\n",
    "        numero, _ = match\n",
    "        numero = numero.replace(',', '').replace(\"'\", '')\n",
    "        try:\n",
    "            total = float(numero)\n",
    "        except ValueError:\n",
    "            continue\n",
    "        if total:\n",
    "            break\n",
    "    return total\n",
    "\n",
    "# Aplicar la función al DataFrame\n",
    "df['recamaras_desc'] = df['descripcion'].apply(extraer_recamaras)"
   ]
  },
  {
   "cell_type": "markdown",
   "metadata": {},
   "source": [
    "### Recámaras [0 / 0]"
   ]
  },
  {
   "cell_type": "code",
   "execution_count": null,
   "metadata": {},
   "outputs": [
    {
     "name": "stdout",
     "output_type": "stream",
     "text": [
      "Proceso completado.\n"
     ]
    }
   ],
   "source": [
    "# Filtrar los registros según las condiciones dadas\n",
    "totales = df[ (df['recamaras'] == 0 ) & (df['recamaras_desc'].isna()) ] \n",
    "pd.set_option('display.max_colwidth', None) # Mostrar URLs completas\n",
    "\n",
    "# Iterar sobre los registros filtrados\n",
    "for idx, row in totales.iterrows():\n",
    "    print(f\"Registro {idx}:\")\n",
    "    print(row[['url']])\n",
    "    print(\"\\n¿Qué acción te gustaría realizar?\")\n",
    "    print(\"1. Sustituir el valor manualmente\")\n",
    "    print(\"2. Pasar al siguiente registro\")\n",
    "\n",
    "    # Solicitar la opción al usuario\n",
    "    option = input(\"Elige una opción (1 | 2): \")\n",
    "\n",
    "    if option == '1':\n",
    "        # Sustituir el valor manualmente\n",
    "        new_value = input(\"Introduce el nuevo valor para 'recamaras': \")\n",
    "        df.at[idx, 'recamaras'] = float(new_value)\n",
    "    elif option == '2':\n",
    "        # Pasar al siguiente registro\n",
    "        continue\n",
    "    else:\n",
    "        print(\"Opción no válida. Pasando al siguiente registro...\")\n",
    "    \n",
    "    print(\"\\n---\\n\")\n",
    "\n",
    "print(\"Proceso completado.\")"
   ]
  },
  {
   "cell_type": "markdown",
   "metadata": {},
   "source": [
    "### Recámaras [0 / #]"
   ]
  },
  {
   "cell_type": "code",
   "execution_count": null,
   "metadata": {},
   "outputs": [
    {
     "name": "stdout",
     "output_type": "stream",
     "text": [
      "Proceso completado.\n"
     ]
    }
   ],
   "source": [
    "# Filtrar los registros según las condiciones dadas\n",
    "totales = df[( (df['recamaras']==0) & (df['recamaras_desc'].notna()) )] \n",
    "pd.set_option('display.max_colwidth', None) # Mostrar URLs completas\n",
    "\n",
    "# Iterar sobre los registros filtrados\n",
    "for idx, row in totales.iterrows():\n",
    "    print(f\"Registro {idx}:\")\n",
    "    print(row[['recamaras', 'recamaras_desc', 'url']])\n",
    "    print(\"\\n¿Qué acción te gustaría realizar?\")\n",
    "    print(\"1. Sustituir el valor manualmente\")\n",
    "    print(\"2. Sustituir el valor de 'recamaras' por el de 'recamaras_desc'\")\n",
    "    print(\"3. Pasar al siguiente registro\")\n",
    "\n",
    "    # Solicitar la opción al usuario\n",
    "    option = input(\"Elige una opción (1, 2, 3): \")\n",
    "\n",
    "    if option == '1':\n",
    "        # Sustituir el valor manualmente\n",
    "        new_value = input(\"Introduce el nuevo valor para 'recamaras': \")\n",
    "        df.at[idx, 'recamaras'] = float(new_value)\n",
    "    elif option == '2':\n",
    "        # Sustituir el valor de 'metros_total' por 'totales_desc'\n",
    "        df.at[idx, 'recamaras'] = df.at[idx, 'recamaras_desc']\n",
    "    elif option == '3':\n",
    "        # Pasar al siguiente registro\n",
    "        continue\n",
    "    else:\n",
    "        print(\"Opción no válida. Pasando al siguiente registro...\")\n",
    "    \n",
    "    print(\"\\n---\\n\")\n",
    "\n",
    "print(\"Proceso completado.\")\n"
   ]
  },
  {
   "cell_type": "markdown",
   "metadata": {},
   "source": [
    "### Recámaras [# / #]"
   ]
  },
  {
   "cell_type": "code",
   "execution_count": null,
   "metadata": {},
   "outputs": [],
   "source": [
    "# Filtrar los registros según las condiciones dadas\n",
    "totales = df[( (df['recamaras']!=0) & (df['recamaras_desc'].notna()) ) & (df['recamaras'] != df['recamaras_desc'])] \n",
    "pd.set_option('display.max_colwidth', None) # Mostrar URLs completas\n",
    "\n",
    "# Iterar sobre los registros filtrados\n",
    "for idx, row in totales.iterrows():\n",
    "    print(f\"Registro {idx}:\")\n",
    "    print(row[['recamaras', 'recamaras_desc', 'url']])\n",
    "    print(\"\\n¿Qué acción te gustaría realizar?\")\n",
    "    print(\"1. Sustituir el valor manualmente\")\n",
    "    print(\"2. Sustituir el valor de 'recamaras' por el de 'recamaras_desc'\")\n",
    "    print(\"3. Pasar al siguiente registro\")\n",
    "\n",
    "    # Solicitar la opción al usuario\n",
    "    option = input(\"Elige una opción (1, 2, 3): \")\n",
    "\n",
    "    if option == '1':\n",
    "        # Sustituir el valor manualmente\n",
    "        new_value = input(\"Introduce el nuevo valor para 'recamaras': \")\n",
    "        df.at[idx, 'recamaras'] = float(new_value)\n",
    "    elif option == '2':\n",
    "        # Sustituir el valor de 'metros_total' por 'totales_desc'\n",
    "        df.at[idx, 'recamaras'] = df.at[idx, 'recamaras_desc']\n",
    "    elif option == '3':\n",
    "        # Pasar al siguiente registro\n",
    "        continue\n",
    "    else:\n",
    "        print(\"Opción no válida. Pasando al siguiente registro...\")\n",
    "    \n",
    "    print(\"\\n---\\n\")\n",
    "\n",
    "print(\"Proceso completado.\")\n"
   ]
  },
  {
   "cell_type": "markdown",
   "metadata": {},
   "source": [
    "## b) Mantener rango de recámaras <= 7 "
   ]
  },
  {
   "cell_type": "code",
   "execution_count": null,
   "metadata": {},
   "outputs": [],
   "source": [
    "print(df['recamaras'].unique())\n",
    "df = df[(df['recamaras'] <= 7)] \n",
    "#print(df[['recamaras','recamaras_desc','url']])"
   ]
  },
  {
   "cell_type": "markdown",
   "metadata": {},
   "source": [
    "# 9. Baños"
   ]
  },
  {
   "cell_type": "markdown",
   "metadata": {},
   "source": [
    "## a) Baños en descripción"
   ]
  },
  {
   "cell_type": "markdown",
   "metadata": {},
   "source": [
    "Manejando tanto los completos como los medios"
   ]
  },
  {
   "cell_type": "code",
   "execution_count": null,
   "metadata": {},
   "outputs": [],
   "source": [
    "# Extraer la cantidad de baños y medios baños en la descripción\n",
    "def extraer_baños(descripcion):\n",
    "    descripcion = descripcion.lower()\n",
    "    \n",
    "    # Buscar patrones de baños completos\n",
    "    completos = re.findall(r'\\b(\\d+[\\.,]?\\d*)\\s*baños?\\b', descripcion)\n",
    "    total_completos = sum([float(match.replace(',', '').replace(\"'\", '')) for match in completos])\n",
    "    \n",
    "    # Buscar patrones de medios baños (1/2 baño)\n",
    "    medios = re.findall(r'\\b(\\d+[\\.,]?\\d*)\\s*medios?\\s*baños?\\b', descripcion)\n",
    "    total_medios = sum([float(match.replace(',', '').replace(\"'\", '')) for match in medios])\n",
    "    \n",
    "    # Retornar como un diccionario o una tupla\n",
    "    return {'completos': total_completos, 'medios': total_medios}\n",
    "\n",
    "# Aplicar la función al DataFrame\n",
    "df['baños_desc'] = df['descripcion'].apply(extraer_baños)\n",
    "\n",
    "# Si deseas separar en dos columnas distintas:\n",
    "df['baños_completos'] = df['baños_desc'].apply(lambda x: x['completos'] if x else 0)\n",
    "df['medios_baños'] = df['baños_desc'].apply(lambda x: x['medios'] if x else 0)"
   ]
  },
  {
   "cell_type": "markdown",
   "metadata": {},
   "source": [
    "### Baños"
   ]
  },
  {
   "cell_type": "markdown",
   "metadata": {},
   "source": [
    "#### [0 / 0]"
   ]
  },
  {
   "cell_type": "markdown",
   "metadata": {},
   "source": [
    "Poner como mínimo para el registro 1 en baños, pero si cuenta con medio baño en descripción que se le asigne ese valor."
   ]
  },
  {
   "cell_type": "code",
   "execution_count": null,
   "metadata": {},
   "outputs": [
    {
     "name": "stdout",
     "output_type": "stream",
     "text": [
      "Proceso completado.\n"
     ]
    }
   ],
   "source": [
    "# Filtrar los registros según las condiciones dadas\n",
    "totales = df[(df['banos'] == 0) & (df['baños_completos'].isna())]\n",
    "pd.set_option('display.max_colwidth', None) # Mostrar URLs completas\n",
    "\n",
    "# Iterar sobre los registros filtrados\n",
    "for idx, row in totales.iterrows():\n",
    "    print(f\"Registro {idx}:\")\n",
    "    print(row[['url']])\n",
    "    print(\"\\n¿Qué acción te gustaría realizar?\")\n",
    "    print(\"1. Sustituir el valor manualmente\")\n",
    "    #print(\"2. Asignar 1 como mínimo y pasar al siguiente registro\")\n",
    "    print(\"2. Pasar al siguiente registro\")\n",
    "\n",
    "    # Solicitar la opción al usuario\n",
    "    option = input(\"Elige una opción (1 | 2): \")\n",
    "\n",
    "    if option == '1':\n",
    "        # Sustituir el valor manualmente\n",
    "        new_value = input(\"Introduce el nuevo valor para 'banos': \")\n",
    "        df.at[idx, 'banos'] = float(new_value)\n",
    "    #elif option == '2':\n",
    "        # Asignar valor de 1 como mínimo\n",
    "        #df.at[idx, 'banos'] = 1\n",
    "        #continue  # Pasar al siguiente registro\n",
    "    else:\n",
    "        continue  # Pasar al siguiente registro\n",
    "\n",
    "    print(\"\\n---\\n\")\n",
    "\n",
    "print(\"Proceso completado.\")"
   ]
  },
  {
   "cell_type": "markdown",
   "metadata": {},
   "source": [
    "#### [0 / #]"
   ]
  },
  {
   "cell_type": "code",
   "execution_count": null,
   "metadata": {},
   "outputs": [],
   "source": [
    "# Filtrar los registros según las condiciones dadas\n",
    "totales = df[( (df['banos']==0) & (df['baños_completos'].notna()) )] \n",
    "pd.set_option('display.max_colwidth', None) # Mostrar URLs completas\n",
    "\n",
    "# Iterar sobre los registros filtrados\n",
    "for idx, row in totales.iterrows():\n",
    "    print(f\"Registro {idx}:\")\n",
    "    print(row[['banos']])\n",
    "    print(row[['baños_completos']])\n",
    "    print(row[['url']])\n",
    "    print(\"\\n¿Qué acción te gustaría realizar?\")\n",
    "    print(\"1. Sustituir el valor manualmente\")\n",
    "    print(\"2. Sustituir el valor de 'banos' por el de 'baños_completos'\")\n",
    "    #print(\"3. Asignar 1 como mínimo y pasar al siguiente registro\")\n",
    "    print(\"3. Pasar al siguiente registro\")\n",
    "\n",
    "    # Solicitar la opción al usuario\n",
    "    option = input(\"Elige una opción (1 | 2 | 3): \")\n",
    "\n",
    "    if option == '1':\n",
    "        # Sustituir el valor manualmente\n",
    "        new_value = input(\"Introduce el nuevo valor para 'banos': \")\n",
    "        df.at[idx, 'banos'] = float(new_value)\n",
    "    elif option == '2':\n",
    "        # Sustituir el valor de 'banos' por 'baños_completos'\n",
    "        df.at[idx, 'banos'] = df.at[idx, 'baños_completos']\n",
    "    #elif option == '3':\n",
    "        # Asignar valor de 1 como mínimo\n",
    "        #df.at[idx, 'banos'] = 1\n",
    "        #continue  # Pasar al siguiente registro\n",
    "    else:\n",
    "        continue  # Pasar al siguiente registro\n",
    "\n",
    "    print(\"\\n---\\n\")\n",
    "\n",
    "print(\"Proceso completado.\")"
   ]
  },
  {
   "cell_type": "markdown",
   "metadata": {},
   "source": [
    "#### [# / #]"
   ]
  },
  {
   "cell_type": "code",
   "execution_count": null,
   "metadata": {},
   "outputs": [],
   "source": [
    "# Filtrar los registros según las condiciones dadas\n",
    "totales = df[( ((df['banos']!=0) & (df['baños_completos'].notna())) & (df['banos'] != df['baños_completos']))] \n",
    "pd.set_option('display.max_colwidth', None) # Mostrar URLs completas\n",
    "\n",
    "# Iterar sobre los registros filtrados\n",
    "for idx, row in totales.iterrows():\n",
    "    print(f\"Registro {idx}:\")\n",
    "    print(row[['banos']])\n",
    "    print(row[['baños_completos']])    \n",
    "    print(row[['url']])\n",
    "    \n",
    "    print(\"\\n¿Qué acción te gustaría realizar?\")\n",
    "    print(\"1. Sustituir el valor manualmente\")\n",
    "    print(\"2. Sustituir el valor de 'banos' por el de 'baños_completos'\")\n",
    "    #print(\"3. Asignar 1 como mínimo y pasar al siguiente registro\")\n",
    "    print(\"3. Pasar al siguiente registro\")\n",
    "\n",
    "    # Solicitar la opción al usuario\n",
    "    option = input(\"Elige una opción (1 | 2 | 3): \")\n",
    "\n",
    "    if option == '1':\n",
    "        # Sustituir el valor manualmente\n",
    "        new_value = input(\"Introduce el nuevo valor para 'banos': \")\n",
    "        df.at[idx, 'banos'] = float(new_value)\n",
    "    elif option == '2':\n",
    "        # Sustituir el valor de 'banos' por 'baños_completos'\n",
    "        df.at[idx, 'banos'] = df.at[idx, 'baños_completos']\n",
    "    #elif option == '3':\n",
    "        # Asignar valor de 1 como mínimo\n",
    "        #df.at[idx, 'banos'] = 1\n",
    "        #continue  # Pasar al siguiente registro\n",
    "    else:\n",
    "        continue  # Pasar al siguiente registro\n",
    "\n",
    "    print(\"\\n---\\n\")\n",
    "\n",
    "print(\"Proceso completado.\")"
   ]
  },
  {
   "cell_type": "markdown",
   "metadata": {},
   "source": [
    "### Medio baños"
   ]
  },
  {
   "cell_type": "markdown",
   "metadata": {},
   "source": [
    "#### [0 / 0]"
   ]
  },
  {
   "cell_type": "markdown",
   "metadata": {},
   "source": [
    "Poner como mínimo para el registro 1 en baños, pero si cuenta con valor en descripción que se le asigne ese valor."
   ]
  },
  {
   "cell_type": "code",
   "execution_count": null,
   "metadata": {},
   "outputs": [],
   "source": [
    "# Filtrar los registros según las condiciones dadas\n",
    "totales = df[(df['medio_banos'] == 0) & (df['medios_baños'].isna())]\n",
    "pd.set_option('display.max_colwidth', None) # Mostrar URLs completas\n",
    "\n",
    "# Iterar sobre los registros filtrados\n",
    "for idx, row in totales.iterrows():\n",
    "    print(f\"Registro {idx}:\")\n",
    "    print(row[['url']])\n",
    "    print(\"\\n¿Qué acción te gustaría realizar?\")\n",
    "    print(\"1. Sustituir el valor manualmente\")\n",
    "    #print(\"2. Asignar 1 como mínimo y pasar al siguiente registro\")\n",
    "    print(\"2. Pasar al siguiente registro\")\n",
    "\n",
    "    # Solicitar la opción al usuario\n",
    "    option = input(\"Elige una opción (1 | 2): \")\n",
    "\n",
    "    if option == '1':\n",
    "        # Sustituir el valor manualmente\n",
    "        new_value = input(\"Introduce el nuevo valor para 'medio_banos': \")\n",
    "        df.at[idx, 'medio_banos'] = float(new_value)\n",
    "    #elif option == '2':\n",
    "        # Asignar valor de 1 como mínimo\n",
    "        #df.at[idx, 'banos'] = 1\n",
    "        #continue  # Pasar al siguiente registro\n",
    "    else:\n",
    "        continue  # Pasar al siguiente registro\n",
    "\n",
    "    print(\"\\n---\\n\")\n",
    "\n",
    "print(\"Proceso completado.\")"
   ]
  },
  {
   "cell_type": "markdown",
   "metadata": {},
   "source": [
    "#### [0 / #]"
   ]
  },
  {
   "cell_type": "code",
   "execution_count": null,
   "metadata": {},
   "outputs": [],
   "source": [
    "# Filtrar los registros según las condiciones dadas\n",
    "totales = df[( (df['medio_banos']==0) & (df['medios_baños'].notna()) )] \n",
    "pd.set_option('display.max_colwidth', None) # Mostrar URLs completas\n",
    "\n",
    "# Iterar sobre los registros filtrados\n",
    "for idx, row in totales.iterrows():\n",
    "    print(f\"Registro {idx}:\")\n",
    "    print(row[['url']])\n",
    "    print(\"\\n¿Qué acción te gustaría realizar?\")\n",
    "    print(\"1. Sustituir el valor manualmente\")\n",
    "    print(\"2. Sustituir el valor de 'medio_banos' por el de 'medios_baños'\")\n",
    "    #print(\"3. Asignar 1 como mínimo y pasar al siguiente registro\")\n",
    "    print(\"3. Pasar al siguiente registro\")\n",
    "\n",
    "    # Solicitar la opción al usuario\n",
    "    option = input(\"Elige una opción (1 | 2 | 3): \")\n",
    "\n",
    "    if option == '1':\n",
    "        # Sustituir el valor manualmente\n",
    "        new_value = input(\"Introduce el nuevo valor para 'medio_banos': \")\n",
    "        df.at[idx, 'medio_banos'] = float(new_value)\n",
    "    elif option == '2':\n",
    "        # Sustituir el valor de 'medio_banos' por 'medios_baños'\n",
    "        df.at[idx, 'medio_banos'] = df.at[idx, 'medios_baños']\n",
    "    #elif option == '3':\n",
    "        # Asignar valor de 1 como mínimo\n",
    "        #df.at[idx, 'medio_baños'] = 1\n",
    "        #continue  # Pasar al siguiente registro\n",
    "    else:\n",
    "        continue  # Pasar al siguiente registro\n",
    "\n",
    "    print(\"\\n---\\n\")\n",
    "\n",
    "print(\"Proceso completado.\")"
   ]
  },
  {
   "cell_type": "markdown",
   "metadata": {},
   "source": [
    "#### [# / #]"
   ]
  },
  {
   "cell_type": "code",
   "execution_count": null,
   "metadata": {},
   "outputs": [],
   "source": [
    "# Filtrar los registros según las condiciones dadas\n",
    "totales = df[( ((df['medio_banos']!=0) & (df['medios_baños'].notna())) & (df['medio_banos'] != df['medios_baños']))] \n",
    "pd.set_option('display.max_colwidth', None) # Mostrar URLs completas\n",
    "\n",
    "# Iterar sobre los registros filtrados\n",
    "for idx, row in totales.iterrows():\n",
    "    print(f\"Registro {idx}:\")\n",
    "    print(row[['url']])\n",
    "    print(\"\\n¿Qué acción te gustaría realizar?\")\n",
    "    print(\"1. Sustituir el valor manualmente\")\n",
    "    print(\"2. Sustituir el valor de 'medio_banos' por el de 'medios_baños'\")\n",
    "    #print(\"3. Asignar 1 como mínimo y pasar al siguiente registro\")\n",
    "    print(\"3. Pasar al siguiente registro\")\n",
    "\n",
    "    # Solicitar la opción al usuario\n",
    "    option = input(\"Elige una opción (1 | 2 | 3): \")\n",
    "\n",
    "    if option == '1':\n",
    "        # Sustituir el valor manualmente\n",
    "        new_value = input(\"Introduce el nuevo valor para 'medio_banos': \")\n",
    "        df.at[idx, 'medio_banos'] = float(new_value)\n",
    "    elif option == '2':\n",
    "        # Sustituir el valor de 'medio_baños' por 'medios_baños'\n",
    "        df.at[idx, 'medio_banos'] = df.at[idx, 'medios_baños']\n",
    "    #elif option == '3':\n",
    "        # Asignar valor de 1 como mínimo\n",
    "        #df.at[idx, 'medio_baños'] = 1\n",
    "        #continue  # Pasar al siguiente registro\n",
    "    else:\n",
    "        continue  # Pasar al siguiente registro\n",
    "\n",
    "    print(\"\\n---\\n\")\n",
    "\n",
    "print(\"Proceso completado.\")"
   ]
  },
  {
   "cell_type": "markdown",
   "metadata": {},
   "source": [
    "## B) Total de baños"
   ]
  },
  {
   "cell_type": "code",
   "execution_count": null,
   "metadata": {},
   "outputs": [
    {
     "name": "stdout",
     "output_type": "stream",
     "text": [
      "   banos  medio_banos  bano_total\n",
      "0      5            0         5.0\n",
      "1      0            0         0.0\n",
      "2      0            0         0.0\n",
      "3      1            0         1.0\n",
      "4      1            0         1.0\n"
     ]
    }
   ],
   "source": [
    "# Make the medio_baños and banos sum\n",
    "# 'medio_baños', divididos entre 2 para representar medios\n",
    "df['bano_total'] = df['banos'] + (df['medio_banos'] / 2)\n",
    "df['bano_total'] = df['bano_total'].round(1)  # Round the total, not just 'banos'\n",
    "print(df[['banos', 'medio_banos', 'bano_total']].head())"
   ]
  },
  {
   "cell_type": "markdown",
   "metadata": {},
   "source": [
    "# 10. Ubicación"
   ]
  },
  {
   "cell_type": "markdown",
   "metadata": {},
   "source": [
    "## a) Desde descripción\n",
    "#### ** Este paso aún necesita actualización en función de asignar los Códigos postales **"
   ]
  },
  {
   "cell_type": "code",
   "execution_count": null,
   "metadata": {},
   "outputs": [],
   "source": [
    "# Función para extraer ubicación de la descripción\n",
    "def extraer_ubicacion(descripcion):\n",
    "    descripcion = descripcion.lower()\n",
    "    # Patrones para buscar ubicaciones comunes\n",
    "    patrones = [\n",
    "        r'(?:ubicad[oa] en|en) ([\\w\\s]+(?:,\\s*[\\w\\s]+){0,2})',\n",
    "        r'(?:calle|avenida|av\\.) ([\\w\\s]+(?:,\\s*[\\w\\s]+){0,2})',\n",
    "        r'(?:colonia|col\\.) ([\\w\\s]+(?:,\\s*[\\w\\s]+){0,2})',\n",
    "        r'(?:fraccionamiento|fracc\\.) ([\\w\\s]+(?:,\\s*[\\w\\s]+){0,2})'\n",
    "    ]\n",
    "    2.\n",
    "    for patron in patrones:\n",
    "        match = re.search(patron, descripcion)\n",
    "        if match:\n",
    "            return match.group(1).strip().title()\n",
    "    \n",
    "    return None\n",
    "\n",
    "# Aplicar la función al DataFrame\n",
    "df['ubicacion_desc'] = df['descripcion'].apply(extraer_ubicacion)"
   ]
  },
  {
   "cell_type": "markdown",
   "metadata": {},
   "source": [
    "#### Cuando la ubicación dice centro:"
   ]
  },
  {
   "cell_type": "code",
   "execution_count": null,
   "metadata": {},
   "outputs": [
    {
     "name": "stdout",
     "output_type": "stream",
     "text": [
      "Número de registros que contienen 'centro' en la ubicación: 823\n"
     ]
    }
   ],
   "source": [
    "# Filtrar los registros donde la ubicación contiene la palabra \"centro\"\n",
    "df_centro = df[df['ubicacion'].str.contains('centro|Centro', case=False, na=False)]\n",
    "num_registros_centro = len(df_centro)\n",
    "\n",
    "print(f\"Número de registros que contienen 'centro' en la ubicación: {num_registros_centro}\")"
   ]
  },
  {
   "cell_type": "code",
   "execution_count": null,
   "metadata": {},
   "outputs": [],
   "source": [
    "\n",
    "pd.set_option('display.max_colwidth', None) # Mostrar URLs completas\n",
    "\n",
    "# Iterar sobre los registros filtrados\n",
    "for idx, row in df_centro.iterrows():\n",
    "    print(f\"Registro {idx}:\")\n",
    "    print(row[['ubicacion', 'ubicacion_desc', 'url']])\n",
    "    print(\"\\n¿Qué acción te gustaría realizar?\")\n",
    "    print(\"1. Sustituir el valor manualmente\")\n",
    "    print(\"2. Sustituir el valor de 'ubicacion' por el de 'ubicacion_desc'\")\n",
    "    print(\"3. Pasar al siguiente registro\")\n",
    "\n",
    "    # Solicitar la opción al usuario\n",
    "    option = input(\"Elige una opción (1, 2, 3): \")\n",
    "\n",
    "    if option == '1':\n",
    "        # Sustituir el valor manualmente\n",
    "        new_value = input(\"Introduce el nuevo valor para 'ubicacion': \")\n",
    "        df.at[idx, 'ubicacion'] = new_value  \n",
    "    elif option == '2':\n",
    "        # Sustituir el valor de 'ubicacion' por 'ubicacion_desc'\n",
    "        df.at[idx, 'ubicacion'] = df.at[idx, 'ubicacion_desc']\n",
    "    elif option == '3':\n",
    "        # Pasar al siguiente registro\n",
    "        continue\n",
    "    else:\n",
    "        print(\"Opción no válida. Pasando al siguiente registro...\")\n",
    "    \n",
    "    print(\"\\n---\\n\")\n",
    "\n",
    "print(\"Proceso completado.\")"
   ]
  },
  {
   "cell_type": "markdown",
   "metadata": {},
   "source": [
    "## b) Separación"
   ]
  },
  {
   "cell_type": "markdown",
   "metadata": {},
   "source": [
    "Se divide la ubicación por \n",
    "* Colonia\n",
    "* Municipio\n",
    "* Estado"
   ]
  },
  {
   "cell_type": "code",
   "execution_count": null,
   "metadata": {},
   "outputs": [],
   "source": [
    "# Siempre regresar una lista de 3 elementos\n",
    "def split_location(location):\n",
    "    parts = location.split(',')\n",
    "    parts += [None] * (3 - len(parts))\n",
    "    return parts[:3] \n",
    "df[['Colonia', 'Municipio', 'Estado']] = df['ubicacion'].apply(split_location).apply(pd.Series)\n",
    "\n",
    "# Limpiando valores nulos\n",
    "df['Colonia'] = df['Colonia'].str.strip().fillna('Sin_colonia')\n",
    "df['Municipio'] = df['Municipio'].str.strip().fillna('Sin_municipio')\n",
    "df['Estado'] = df['Estado'].str.strip().fillna('Sin_estado')\n",
    "df[['ubicacion', 'Colonia', 'Municipio', 'Estado']]"
   ]
  },
  {
   "cell_type": "markdown",
   "metadata": {},
   "source": [
    "#### Separación de tipo de lugar del nombre de la colonia"
   ]
  },
  {
   "cell_type": "code",
   "execution_count": null,
   "metadata": {},
   "outputs": [],
   "source": [
    "# Añade las diferentes formas de identificar el tipo de lugar (etiquetas de ubicación)\n",
    "tipos = ['Condominio', 'Fraccionamiento', 'Residencial', 'Colonia']\n",
    "def obtener_tipo_lugar(nombre):\n",
    "    for tipo in tipos:\n",
    "        if tipo in nombre:\n",
    "            return tipo\n",
    "    return None\n",
    "\n",
    "df['tipo_lugar'] = df['Colonia'].apply(obtener_tipo_lugar)\n",
    "# Eliminar el tipo de lugar de la columna 'colonia'\n",
    "df['Colonia'] = df.apply(lambda row: row['Colonia'].replace(row['tipo_lugar'], '').strip() if row['tipo_lugar'] else row['Colonia'], axis=1)\n",
    "print(df[['Colonia','tipo_lugar','ubicacion']])"
   ]
  },
  {
   "cell_type": "markdown",
   "metadata": {},
   "source": [
    "## c) Estandarizar valores "
   ]
  },
  {
   "cell_type": "markdown",
   "metadata": {},
   "source": [
    "#### Preparar que se deba tener el dato de 'Municipio', 'Estado'\n",
    "Asegurate de asignar el Estado o Municipio que se esperaban dentro de las variables correspondientes"
   ]
  },
  {
   "cell_type": "code",
   "execution_count": null,
   "metadata": {},
   "outputs": [],
   "source": [
    "Estado = 'Nombre de Estado esperado'\n",
    "Municipio = 'Nombre de Municipio esperado'\n",
    "\n",
    "df['Estado'] = df['Estado'].replace({'Sin_estado': Estado}, inplace=True)\n",
    "df['Municipio'] = df['Municipio'].replace({'Sin_municipio': Municipio}, inplace=True)"
   ]
  },
  {
   "cell_type": "markdown",
   "metadata": {},
   "source": [
    "#### Este paso es opcional, por ahora no es necesario usarlo ya que se usaba para el CP, pero estos no se tienen aún."
   ]
  },
  {
   "cell_type": "code",
   "execution_count": null,
   "metadata": {},
   "outputs": [],
   "source": [
    "# Convierte todos los valores a strings, maneja NaN o None como cadenas vacías\n",
    "df['Colonia'] = df['Colonia'].astype(str)\n",
    "# Convertir a minúsculas\n",
    "df['Colonia'] = df['Colonia'].str.lower()\n",
    "\n",
    "import unicodedata# Función para eliminar acentos\n",
    "def eliminar_acentos(texto):\n",
    "    # Normaliza y elimina los acentos\n",
    "    texto_normalizado = unicodedata.normalize('NFKD', texto)\n",
    "    return ''.join(char for char in texto_normalizado if unicodedata.category(char) != 'Mn')\n",
    "df['Colonia'] = df['Colonia'].apply(eliminar_acentos)\n",
    "\n",
    "# Reemplazar Ñ\n",
    "#df['propiedad'] = df['propiedad'].str.replace('ñ', 'n')\n",
    "df['Colonia'] = df['Colonia'].str.replace(r'[^a-zA-Z0-9\\s]', '', regex=True)\n",
    "# Convertir la primera letra de cada palabra a mayúscula\n",
    "#df['Colonia'] = df['Colonia'].str.title()"
   ]
  },
  {
   "cell_type": "code",
   "execution_count": null,
   "metadata": {},
   "outputs": [],
   "source": [
    "# Convierte todos los valores a strings, maneja NaN o None como cadenas vacías\n",
    "df['Municipio'] = df['Municipio'].astype(str)\n",
    "# Convertir a minúsculas\n",
    "df['Municipio'] = df['Municipio'].str.lower()\n",
    "\n",
    "import unicodedata# Función para eliminar acentos\n",
    "def eliminar_acentos(texto):\n",
    "    # Normaliza y elimina los acentos\n",
    "    texto_normalizado = unicodedata.normalize('NFKD', texto)\n",
    "    return ''.join(char for char in texto_normalizado if unicodedata.category(char) != 'Mn')\n",
    "df['Municipio'] = df['Municipio'].apply(eliminar_acentos)\n",
    "\n",
    "# Reemplazar Ñ\n",
    "#df['propiedad'] = df['propiedad'].str.replace('ñ', 'n')\n",
    "df['Municipio'] = df['Municipio'].str.replace(r'[^a-zA-Z0-9\\s]', '', regex=True)\n",
    "# Convertir la primera letra de cada palabra a mayúscula\n",
    "#df['Colonia'] = df['Colonia'].str.title()"
   ]
  },
  {
   "cell_type": "markdown",
   "metadata": {},
   "source": [
    "## d) Mapeo de CP y tipo de lugar por diccionario"
   ]
  },
  {
   "cell_type": "markdown",
   "metadata": {},
   "source": [
    "#### Separación de tipo de lugar del nombre de la colonia\n",
    "**PASO QUE NO SE TIENE COMPLETO**"
   ]
  },
  {
   "cell_type": "code",
   "execution_count": null,
   "metadata": {},
   "outputs": [],
   "source": [
    "# Cargar todas las hojas del archivo Excel en un diccionario de DataFrames\n",
    "#ruta_excel = 'cp_dictionary_estandarizado.xlsx'\n",
    "ruta_excel = \"../cp_dictionary_estandarizado.xlsx\"\n",
    "hojas = pd.read_excel(ruta_excel, sheet_name=None)\n",
    "\n",
    "# Obtener combinaciones únicas de Estado, Municipio y Colonia\n",
    "combinaciones_unicas = df[['Estado', 'Municipio', 'Colonia']].drop_duplicates()\n",
    "\n",
    "# Crear un diccionario para almacenar los códigos postales y tipos de asentamiento encontrados\n",
    "codigos_postales = {}\n",
    "tipos_asentamiento = {}\n",
    "\n",
    "# Función para limpiar texto (minúsculas y sin acentos)\n",
    "def limpiar_texto(texto):\n",
    "    texto = texto.lower().strip()\n",
    "    texto = ''.join(c for c in unicodedata.normalize('NFD', texto) if unicodedata.category(c) != 'Mn')\n",
    "    return texto\n",
    "\n",
    "# Buscar el código postal y tipo de asentamiento para cada combinación única\n",
    "for _, row in combinaciones_unicas.iterrows():\n",
    "    estado = limpiar_texto(row['Estado'])\n",
    "    municipio = limpiar_texto(row['Municipio'])\n",
    "    colonia = limpiar_texto(row['Colonia'])\n",
    "\n",
    "    # Verificar si el estado existe en las hojas del Excel\n",
    "    if estado in hojas:\n",
    "        df_estado = hojas[estado]\n",
    "\n",
    "        # Filtrar por municipio y colonia\n",
    "        df_filtrado = df_estado[\n",
    "            (df_estado['D_mnpio'].apply(limpiar_texto) == municipio) & \n",
    "            (df_estado['d_asenta'].apply(limpiar_texto) == colonia)\n",
    "        ]\n",
    "\n",
    "        # Si hay coincidencias, almacenar el primer código postal y tipo de asentamiento en los diccionarios\n",
    "        if not df_filtrado.empty:\n",
    "            codigos_postales[(estado, municipio, colonia)] = df_filtrado['d_codigo'].iloc[0]\n",
    "            tipos_asentamiento[(estado, municipio, colonia)] = df_filtrado['d_tipo_asenta'].iloc[0]\n",
    "        else:\n",
    "            codigos_postales[(estado, municipio, colonia)] = None\n",
    "            tipos_asentamiento[(estado, municipio, colonia)] = None\n",
    "    else:\n",
    "        codigos_postales[(estado, municipio, colonia)] = None\n",
    "        tipos_asentamiento[(estado, municipio, colonia)] = None\n",
    "\n",
    "# Crear columnas 'CP' y 'Tipo_Asentamiento' en el DataFrame original usando los diccionarios\n",
    "df['CP'] = df.apply(lambda x: codigos_postales.get(\n",
    "    (limpiar_texto(x['Estado']), limpiar_texto(x['Municipio']), limpiar_texto(x['Colonia']))), axis=1)\n",
    "df['Tipo_Asentamiento'] = df.apply(lambda x: tipos_asentamiento.get(\n",
    "    (limpiar_texto(x['Estado']), limpiar_texto(x['Municipio']), limpiar_texto(x['Colonia']))), axis=1)\n",
    "\n",
    "# Obtener las combinaciones únicas de las columnas 'Colonia', 'Municipio', 'Estado', 'CP', 'Tipo_Asentamiento'\n",
    "combinaciones_unicas = df[['Colonia', 'Municipio', 'Estado', 'CP', 'Tipo_Asentamiento']].drop_duplicates()\n",
    "\n",
    "# Mostrar resultados\n",
    "for idx, row in combinaciones_unicas.iterrows():\n",
    "    print(f\"Combinación {idx + 1}:\")\n",
    "    print(f\"Colonia: {row['Colonia']}, Municipio: {row['Municipio']}, Estado: {row['Estado']}, CP: {row['CP']}, Tipo_Asentamiento: {row['Tipo_Asentamiento']}\")\n",
    "    print(\"---\")"
   ]
  },
  {
   "cell_type": "markdown",
   "metadata": {},
   "source": [
    "____\n",
    "# 11. Variables oficiales"
   ]
  },
  {
   "cell_type": "code",
   "execution_count": null,
   "metadata": {},
   "outputs": [],
   "source": [
    "df = df.drop(['denominacion', 'precio_desc','baños_desc','baños_completos','medios_baños',], axis=1, errors='ignore') #'fecha_conversion'"
   ]
  },
  {
   "cell_type": "code",
   "execution_count": null,
   "metadata": {},
   "outputs": [],
   "source": [
    "# Tiempo de publicación limpio:\n",
    "df['tiempo_de_publicacion'] = df['fecha_estandarizada']"
   ]
  },
  {
   "cell_type": "markdown",
   "metadata": {},
   "source": [
    "EXTRA"
   ]
  },
  {
   "cell_type": "code",
   "execution_count": null,
   "metadata": {},
   "outputs": [],
   "source": [
    "df['Status'] = 'Venta'\n",
    "df['id'] = range(1, len(df) + 1)"
   ]
  },
  {
   "cell_type": "markdown",
   "metadata": {},
   "source": [
    "ORDEN OFICIAL"
   ]
  },
  {
   "cell_type": "code",
   "execution_count": null,
   "metadata": {},
   "outputs": [],
   "source": [
    "columnas_ordenadas = ['id', 'categoria', 'precio','precio_mxn','precio_usd','fecha_conversion', 'propiedad', 'metros_total', 'metros_construido',\n",
    "                      'precio_m2_terreno', 'precio_m2_construido','tiempo_de_publicacion', 'meses_transcurridos','meses_transcurridos_fecha', 'tipo','Status',\n",
    "                      'estacionamientos', 'recamaras', 'banos', 'medio_banos', 'bano_total','seguridad_privada', 'tipo_lugar','Colonia','Municipio','Estado','CP','ubicacion','url','descripcion']\n",
    "df = df[columnas_ordenadas]"
   ]
  },
  {
   "cell_type": "code",
   "execution_count": null,
   "metadata": {},
   "outputs": [],
   "source": [
    "df.info()"
   ]
  },
  {
   "cell_type": "markdown",
   "metadata": {},
   "source": [
    "# 13. Exportar"
   ]
  },
  {
   "cell_type": "markdown",
   "metadata": {},
   "source": [
    "Cambia el nombre por el que desees en 'archivo'"
   ]
  },
  {
   "cell_type": "code",
   "execution_count": 22,
   "metadata": {},
   "outputs": [],
   "source": [
    "archivo = 'nombre_del_archivo' # Nombre de archivo a exportar\n",
    "ext = '.csv' # Extención del archivo\n",
    "ciudad = '' # Nombre de la ciudad en minúscula\n",
    "\n",
    "arch_export = archivo + ext\n",
    "ruta = '../ciudades' + ciudad +'clean'\n",
    "archivo_export = ciudad + arch_export\n",
    "df.to_csv(archivo_export, encoding='utf-8', index=False)"
   ]
  }
 ],
 "metadata": {
  "kernelspec": {
   "display_name": "Python 3",
   "language": "python",
   "name": "python3"
  },
  "language_info": {
   "codemirror_mode": {
    "name": "ipython",
    "version": 3
   },
   "file_extension": ".py",
   "mimetype": "text/x-python",
   "name": "python",
   "nbconvert_exporter": "python",
   "pygments_lexer": "ipython3",
   "version": "3.9.13"
  }
 },
 "nbformat": 4,
 "nbformat_minor": 2
}
