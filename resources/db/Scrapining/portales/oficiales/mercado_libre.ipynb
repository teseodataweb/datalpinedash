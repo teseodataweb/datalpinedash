{
 "cells": [
  {
   "cell_type": "markdown",
   "metadata": {},
   "source": [
    "# **Limpieza *Mercado Libre***\n",
    "PROCESO DE ESTANDARIZACIÓN DE DATOS PARA OBTENCIÓN DE BASE **DATALPINE**"
   ]
  },
  {
   "cell_type": "code",
   "execution_count": null,
   "metadata": {},
   "outputs": [],
   "source": [
    "import pandas as pd # Manipulación df\n",
    "import os # Directorios\n",
    "import re # Manipulación de cadenas de texto (expresiones regulares)\n",
    "import unicodedata # Función para eliminar acentos\n",
    "from datetime import datetime, date  # Para trabajar con fechas y horas\n",
    "from currency_converter import CurrencyConverter # convertidor de monedas\n",
    "from dateutil.relativedelta import relativedelta  # Para calcular diferencias entre fechas, incluyendo años, meses y días\n",
    "# Mapear coincidencia\n",
    "from fuzzywuzzy import process\n",
    "from fuzzywuzzy import fuzz \n",
    "# Instalar python-Levenshtein para mejorar el rendimiento de SequenceMatcher\n",
    "import Levenshtein"
   ]
  },
  {
   "cell_type": "code",
   "execution_count": null,
   "metadata": {},
   "outputs": [],
   "source": [
    "# ESTILO DE IMPRESIONES\n",
    "\n",
    "# Colores ANSI\n",
    "BLACK = \"\\033[90m\"\n",
    "RED = \"\\033[91m\"\n",
    "GREEN = \"\\033[92m\"\n",
    "YELLOW = \"\\033[93m\"\n",
    "BLUE = \"\\033[94m\"\n",
    "MAGENTA = \"\\033[95m\"\n",
    "CYAN = \"\\033[96m\"\n",
    "WHITE = \"\\033[97m\"\n",
    "RESET = \"\\033[0m\"  # Restablecer el color por defecto\n",
    "# Estilos de texto\n",
    "BOLD = \"\\033[1m\"\n",
    "UNDERLINE = \"\\033[4m\"\n",
    "BLINK = \"\\033[5m\"\n",
    "REVERSE = \"\\033[7m\"  # Invertir colores (fondo y texto)\n"
   ]
  },
  {
   "cell_type": "markdown",
   "metadata": {},
   "source": [
    "# 1. Importación de datos"
   ]
  },
  {
   "cell_type": "markdown",
   "metadata": {},
   "source": [
    "Definir la ruta relativa al archivo, incluyendo la extensión"
   ]
  },
  {
   "cell_type": "code",
   "execution_count": null,
   "metadata": {},
   "outputs": [],
   "source": [
    "directorio_actual = os.getcwd() # Directorio actual de trabajo\n",
    "# Ruta relativa al archivo, incluye extensión\n",
    "archivo_filename = \"ruta/relativa/al/archivo.csv\"\n",
    "archivo_dir = os.path.join(directorio_actual)\n",
    "archivo_path = os.path.join(archivo_dir, archivo_filename)"
   ]
  },
  {
   "cell_type": "markdown",
   "metadata": {},
   "source": [
    "Elige el tipo de archivo a leer"
   ]
  },
  {
   "cell_type": "code",
   "execution_count": null,
   "metadata": {},
   "outputs": [],
   "source": [
    "#df = pd.read_excel(archivo_path) \n",
    "df = pd.read_csv(archivo_path)\n",
    "df.info()"
   ]
  },
  {
   "cell_type": "markdown",
   "metadata": {},
   "source": [
    "Limpieza de nulos\n",
    "Sólo en caso de que el scraping no haya llenado los datos faltantes correctamente."
   ]
  },
  {
   "cell_type": "code",
   "execution_count": null,
   "metadata": {},
   "outputs": [],
   "source": [
    "df.fillna({'precio': 0}, inplace=True) \n",
    "df.fillna({'denominacion': ''}, inplace=True) \n",
    "df.fillna({'propiedad': 'Propiedad sin título'}, inplace=True) \n",
    "df.fillna({'metros_total': 0}, inplace=True) \n",
    "df.fillna({'metros_construido': 0}, inplace=True) \n",
    "#df.fillna({'tiempo_de_publicacion': ''}, inplace=True) \n",
    "df.fillna({'tipo': 'Propiedad sin tipo de casa'}, inplace=True) \n",
    "df.fillna({'estacionamientos': 0}, inplace=True) \n",
    "df.fillna({'recamaras': 0}, inplace=True) \n",
    "df.fillna({'banos': 0}, inplace=True) \n",
    "df.fillna({'medio_banos': 0}, inplace=True) \n",
    "df.fillna({'seguridad_privada': 'No'}, inplace=True) \n",
    "df.fillna({'ubicacion': 'Propiedad sin ubicación'}, inplace=True) \n",
    "df.fillna({'url': '-'}, inplace=True) \n",
    "df.fillna({'descripcion': \"Propiedad sin descripcion\"}, inplace=True) "
   ]
  },
  {
   "cell_type": "markdown",
   "metadata": {},
   "source": [
    "# 2. Duplicados"
   ]
  },
  {
   "cell_type": "markdown",
   "metadata": {},
   "source": [
    "* Estandarizar descripción\n",
    "* Eliminación de los duplicados, dejando uno de los resultantes"
   ]
  },
  {
   "cell_type": "code",
   "execution_count": null,
   "metadata": {},
   "outputs": [],
   "source": [
    "# Convierte todos los valores a strings, maneja NaN o None como cadenas vacías\n",
    "df['descripcion'] = df['descripcion'].astype(str)\n",
    "# Convertir a minúsculas\n",
    "df['descripcion'] = df['descripcion'].str.lower()\n",
    "# Eliminar acentos y carácteres especiales\n",
    "import unicodedata \n",
    "def eliminar_acentos(texto):\n",
    "    texto_normalizado = unicodedata.normalize('NFKD', texto)\n",
    "    return ''.join(char for char in texto_normalizado if unicodedata.category(char) != 'Mn')\n",
    "df['descripcion'] = df['descripcion'].apply(eliminar_acentos)\n",
    "df['descripcion'] = df['descripcion'].str.replace(r'[^a-zA-Z0-9\\s]', '', regex=True)\n",
    "inicio = df.shape"
   ]
  },
  {
   "cell_type": "markdown",
   "metadata": {},
   "source": [
    "## a) Con todos los datos iguales"
   ]
  },
  {
   "cell_type": "code",
   "execution_count": null,
   "metadata": {},
   "outputs": [],
   "source": [
    "duplicados = df.loc[df.duplicated()]\n",
    "shapes = duplicados.shape\n",
    "print(duplicados)\n",
    "print(f'{BLUE}Los duplicados encontrados son: {RESET}',f'{RED}{shapes}{RESET}')"
   ]
  },
  {
   "cell_type": "code",
   "execution_count": null,
   "metadata": {},
   "outputs": [],
   "source": [
    "df = df.drop_duplicates(keep='first')\n",
    "shapes = df.shape\n",
    "print('La base mantuvo una estructura de: ',f'{RED}{shapes}{RESET}')"
   ]
  },
  {
   "cell_type": "code",
   "execution_count": null,
   "metadata": {},
   "outputs": [],
   "source": [
    "duplicados = df.loc[df.duplicated()]\n",
    "print(duplicados)"
   ]
  },
  {
   "cell_type": "code",
   "execution_count": null,
   "metadata": {},
   "outputs": [],
   "source": [
    "shapes = df.shape\n",
    "print('La base ha quedado con: ',f'{RED}{shapes}{RESET}', 'de',f'{GREEN}{inicio}{RESET}')"
   ]
  },
  {
   "cell_type": "markdown",
   "metadata": {},
   "source": [
    "## b) Descripción y precio iguales"
   ]
  },
  {
   "cell_type": "code",
   "execution_count": null,
   "metadata": {},
   "outputs": [],
   "source": [
    "duplicados = df.loc[df.duplicated(subset=['descripcion','precio'])]\n",
    "shapes = duplicados.shape\n",
    "print(duplicados)\n",
    "print(f'{BLUE}Los duplicados encontrados son: {RESET}',f'{RED}{shapes}{RESET}')"
   ]
  },
  {
   "cell_type": "code",
   "execution_count": null,
   "metadata": {},
   "outputs": [],
   "source": [
    "df = df.drop_duplicates(subset=['descripcion','precio'],keep='first')\n",
    "shapes = df.shape\n",
    "print('La base mantuvo una estructura de: ',f'{RED}{shapes}{RESET}')"
   ]
  },
  {
   "cell_type": "code",
   "execution_count": null,
   "metadata": {},
   "outputs": [],
   "source": [
    "duplicados = df.loc[df.duplicated(subset=['descripcion','precio'])]\n",
    "print(duplicados)"
   ]
  },
  {
   "cell_type": "markdown",
   "metadata": {},
   "source": [
    "## c) M2 construcción, Ubicación y Precio"
   ]
  },
  {
   "cell_type": "code",
   "execution_count": null,
   "metadata": {},
   "outputs": [],
   "source": [
    "#duplicados = df.loc[df.duplicated(subset=['metros_construido','ubicacion','precio'])]\n",
    "#shapes = duplicados.shape\n",
    "#print(duplicados)\n",
    "#print(f'{BLUE}Los duplicados encontrados son: {RESET}',f'{RED}{shapes}{RESET}')"
   ]
  },
  {
   "cell_type": "code",
   "execution_count": null,
   "metadata": {},
   "outputs": [],
   "source": [
    "#df = df.drop_duplicates(subset=['metros_construido','ubicacion','precio'],keep='first')\n",
    "#shapes = df.shape\n",
    "#print('La base mantuvo una estructura de: ',f'{RED}{shapes}{RESET}')"
   ]
  },
  {
   "cell_type": "code",
   "execution_count": null,
   "metadata": {},
   "outputs": [],
   "source": [
    "#duplicados = df.loc[df.duplicated(subset=['metros_construido','ubicacion','precio'])]\n",
    "#print(duplicados)"
   ]
  },
  {
   "cell_type": "markdown",
   "metadata": {},
   "source": [
    "## d) Características y Precio"
   ]
  },
  {
   "cell_type": "code",
   "execution_count": null,
   "metadata": {},
   "outputs": [],
   "source": [
    "duplicados = df.loc[df.duplicated(subset=['estacionamientos','recamaras','banos','precio'])]#,'medio_banos'\n",
    "shapes = duplicados.shape\n",
    "print(duplicados)\n",
    "print(f'{BLUE}Los duplicados encontrados son: {RESET}',f'{RED}{shapes}{RESET}')"
   ]
  },
  {
   "cell_type": "code",
   "execution_count": null,
   "metadata": {},
   "outputs": [],
   "source": [
    "df = df.drop_duplicates(subset=['estacionamientos','recamaras','banos','precio'],keep='first')#,'medio_banos'\n",
    "shapes = df.shape\n",
    "print('La base mantuvo una estructura de: ',f'{RED}{shapes}{RESET}')"
   ]
  },
  {
   "cell_type": "code",
   "execution_count": null,
   "metadata": {},
   "outputs": [],
   "source": [
    "duplicados = df.loc[df.duplicated(subset=['estacionamientos','recamaras','banos','precio'])]#,'medio_banos'\n",
    "print(duplicados)"
   ]
  },
  {
   "cell_type": "code",
   "execution_count": null,
   "metadata": {},
   "outputs": [],
   "source": [
    "shapes = df.shape\n",
    "print('La base ha quedado con: ',f'{RED}{shapes}{RESET}', 'de',f'{GREEN}{inicio}{RESET}')"
   ]
  },
  {
   "cell_type": "markdown",
   "metadata": {},
   "source": [
    "# 3. Manipulación de precios"
   ]
  },
  {
   "cell_type": "markdown",
   "metadata": {},
   "source": [
    "## a) Precio en descripción"
   ]
  },
  {
   "cell_type": "markdown",
   "metadata": {},
   "source": [
    "Manten las diferentes formas de que el precio se encuentre en la descripción"
   ]
  },
  {
   "cell_type": "code",
   "execution_count": null,
   "metadata": {},
   "outputs": [],
   "source": [
    "def extraer_precio(descripcion):\n",
    "    descripcion = descripcion.lower()\n",
    "    # Buscar patrones\n",
    "    precios = re.findall(r'\\$?\\s*(\\d{1,3}(?:[.,]?\\d{3})*(?:[.,]\\d{2})?)\\s*(mxn|usd|pesos|monto|precio|)', descripcion)\n",
    "    precio = None\n",
    "    for match in precios:\n",
    "        numero, moneda = match\n",
    "        numero = numero.replace(',', '').replace(\"'\", '')#.replace(\".\",'')\n",
    "        try:\n",
    "            precio = float(numero)\n",
    "        except ValueError:\n",
    "            continue\n",
    "        if precio:\n",
    "            break\n",
    "    return precio\n",
    "\n",
    "# Denominación de la descripción\n",
    "def extraer_denominacion(descripcion):\n",
    "    descripcion = descripcion.lower()\n",
    "    # Buscar patrones \n",
    "    denominaciones = re.findall(r'\\b(mil|mxn|precio|pesos|monto|Mexicanos|Estadounidenses)\\b', descripcion)\n",
    "    return denominaciones[0] if denominaciones else None\n",
    "\n",
    "df['precio_desc'] = df['descripcion'].apply(extraer_precio)\n",
    "#df['denominacion_desc'] = df['descripcion'].apply(extraer_denominacion)\n",
    "inicio = df.shape"
   ]
  },
  {
   "cell_type": "code",
   "execution_count": null,
   "metadata": {},
   "outputs": [],
   "source": [
    "# Aplicar colores a los valores de precio y precio_desc\n",
    "def colorize_row(row):\n",
    "    row_colored = row.copy()  # Crear una copia para no modificar el original\n",
    "    row_colored['precio'] = f\"{MAGENTA}{row['precio']}{RESET}\"\n",
    "    row_colored['precio_desc'] = f\"{GREEN}{row['precio_desc']}{RESET}\"\n",
    "    return row_colored"
   ]
  },
  {
   "cell_type": "markdown",
   "metadata": {},
   "source": [
    "### Precio [0/0]"
   ]
  },
  {
   "cell_type": "code",
   "execution_count": null,
   "metadata": {},
   "outputs": [],
   "source": [
    "# Filtrar los registros según las condiciones dadas\n",
    "totales = df[( (df['precio'] == 0 ) & (df['precio_desc'].isna()) )] \n",
    "pd.set_option('display.max_colwidth', None) # Mostrar URLs completas\n",
    "# Iterar sobre los registros filtrados\n",
    "for idx, row in totales.iterrows():\n",
    "    print(f\"Registro {idx}:\")\n",
    "    #print(row[['precio', 'precio_desc', 'url']])\n",
    "    print(colorize_row(row)[['precio', 'precio_desc', 'url']])\n",
    "    print(\"\\n¿Qué acción te gustaría realizar?\")\n",
    "    print(\"1. Pasar al siguiente registro\")\n",
    "    print(\"3. Sustituir el valor manualmente\")    \n",
    "    # Solicitar la opción al usuario\n",
    "    option = input(\"Elige una opción (1 o 3): \")\n",
    "\n",
    "    if option == '3':\n",
    "        # Sustituir el valor manualmente\n",
    "        new_value = input(\"Introduce el nuevo valor para 'precio': \")\n",
    "        df.at[idx, 'precio'] = float(new_value)\n",
    "    elif option == '1':\n",
    "        # Pasar al siguiente registro\n",
    "        continue\n",
    "    else:\n",
    "        print(\"Opción no válida. Pasando al siguiente registro...\")\n",
    "    print(\"\\n---\\n\")\n",
    "print(\"Proceso completado.\")"
   ]
  },
  {
   "cell_type": "markdown",
   "metadata": {},
   "source": [
    "Eliminar registros que no recuperaron su precio ni desde la descripción"
   ]
  },
  {
   "cell_type": "code",
   "execution_count": null,
   "metadata": {},
   "outputs": [],
   "source": [
    "df = df[~( (df['precio'] == 0 ) & (df['precio_desc'].isna()) )] "
   ]
  },
  {
   "cell_type": "markdown",
   "metadata": {},
   "source": [
    "### Precio [0 / #]"
   ]
  },
  {
   "cell_type": "code",
   "execution_count": null,
   "metadata": {},
   "outputs": [],
   "source": [
    "# Filtrar los registros según las condiciones dadas\n",
    "totales = df[( (df['precio'] == 0 ) & (df['precio_desc'].notna()) )] \n",
    "pd.set_option('display.max_colwidth', None) # Mostrar URLs completas\n",
    "\n",
    "# Iterar sobre los registros filtrados\n",
    "for idx, row in totales.iterrows():\n",
    "    print(f\"Registro {idx}:\")\n",
    "    #print(row[['precio', 'precio_desc', 'url']])\n",
    "    print(colorize_row(row)[['precio', 'precio_desc', 'url']])\n",
    "    print(\"\\n¿Qué acción te gustaría realizar?\")\n",
    "    print(\"1. Pasar al siguiente registro\")\n",
    "    print(\"2. Sustituir el valor de 'precio' por el de 'precio_desc'\")\n",
    "    print(\"3. Sustituir el valor manualmente\")\n",
    "    \n",
    "    # Solicitar la opción al usuario\n",
    "    option = input(\"Elige una opción (1, 2, 3): \")\n",
    "\n",
    "    if option == '3':\n",
    "        # Sustituir el valor manualmente\n",
    "        new_value = input(\"Introduce el nuevo valor para 'precio': \")\n",
    "        df.at[idx, 'precio'] = float(new_value)\n",
    "    elif option == '2':\n",
    "        # Sustituir el valor de 'metros_total' por 'totales_desc'\n",
    "        df.at[idx, 'precio'] = df.at[idx, 'precio_desc']\n",
    "    elif option == '1':\n",
    "        # Pasar al siguiente registro\n",
    "        continue\n",
    "    else:\n",
    "        print(\"Opción no válida. Pasando al siguiente registro...\")\n",
    "    \n",
    "    print(\"\\n---\\n\")\n",
    "\n",
    "print(\"Proceso completado.\")"
   ]
  },
  {
   "cell_type": "markdown",
   "metadata": {},
   "source": [
    "### Precio [# / #]"
   ]
  },
  {
   "cell_type": "code",
   "execution_count": null,
   "metadata": {},
   "outputs": [],
   "source": [
    "# Filtrar los registros según las condiciones dadas\n",
    "totales = df[( ((df['precio']!= 0) & (df['precio_desc'].notna())) & (df['precio'] != df['precio_desc']) )] \n",
    "# Filtro dentro del estándar\n",
    "totales = totales[(totales['precio_desc'] >= 250000) & (totales['precio_desc'] <= 500000000)]\n",
    "pd.set_option('display.max_colwidth', None) # Mostrar URLs completas\n",
    "\n",
    "# Iterar sobre los registros filtrados\n",
    "for idx, row in totales.iterrows():\n",
    "    print(f\"Registro {idx}:\")\n",
    "    #print(row[['precio', 'precio_desc', 'url']])\n",
    "    print(colorize_row(row)[['precio', 'precio_desc', 'url']])\n",
    "    print(\"\\n¿Qué acción te gustaría realizar?\")\n",
    "    print(\"1. Pasar al siguiente registro\")\n",
    "    print(\"2. Sustituir el valor de 'precio' por el de 'precio_desc'\")\n",
    "    print(\"3. Sustituir el valor manualmente\")\n",
    "    \n",
    "    # Solicitar la opción al usuario\n",
    "    option = input(\"Elige una opción (1, 2, 3): \")\n",
    "\n",
    "    if option == '3':\n",
    "        # Sustituir el valor manualmente\n",
    "        new_value = input(\"Introduce el nuevo valor para 'precio': \")\n",
    "        df.at[idx, 'precio'] = float(new_value)\n",
    "    elif option == '2':\n",
    "        # Sustituir el valor de 'metros_total' por 'totales_desc'\n",
    "        df.at[idx, 'precio'] = df.at[idx, 'precio_desc']\n",
    "    elif option == '1':\n",
    "        # Pasar al siguiente registro\n",
    "        continue\n",
    "    else:\n",
    "        print(\"Opción no válida. Pasando al siguiente registro...\")\n",
    "\n",
    "    print(\"\\n---\\n\")\n",
    "\n",
    "print(\"Proceso completado.\")"
   ]
  },
  {
   "cell_type": "code",
   "execution_count": null,
   "metadata": {},
   "outputs": [],
   "source": [
    "shapes = df.shape\n",
    "print('La base ha quedado con: ',f'{RED}{shapes}{RESET}', 'de',f'{GREEN}{inicio}{RESET}')"
   ]
  },
  {
   "cell_type": "markdown",
   "metadata": {},
   "source": [
    "## b) Denominación MXN"
   ]
  },
  {
   "cell_type": "markdown",
   "metadata": {},
   "source": [
    "Si existe una denominación que no sea mxn, se convierta el precio"
   ]
  },
  {
   "cell_type": "code",
   "execution_count": null,
   "metadata": {},
   "outputs": [],
   "source": [
    "import datetime\n",
    "c = CurrencyConverter() # Instancia del convertidor de monedas\n",
    "def convertir_a_mxn(precio, denominacion):\n",
    "    if denominacion != 'MXN':\n",
    "        return int(round(c.convert(precio, denominacion, 'MXN')))\n",
    "    return precio\n",
    "\n",
    "def convertir_a_usd(precio, denominacion):\n",
    "    if denominacion != 'USD':\n",
    "        return round(c.convert(precio, denominacion, 'USD'))\n",
    "    return precio\n",
    "\n",
    "# Obtener la fecha actual\n",
    "fecha_conversion = datetime.datetime.now().date()\n",
    "\n",
    "# Aplicar la conversión a cada fila del DataFrame y agregar la fecha de conversión\n",
    "#df['precio_mxn'] = df.apply(lambda row: convertir_a_mxn(row['precio'], row['denominacion']), axis=1)\n",
    "#df['precio_usd'] = df.apply(lambda row: convertir_a_usd(row['precio'], row['denominacion']), axis=1)\n",
    "#df['fecha_conversion'] = fecha_conversion\n",
    "#print(df[['precio', 'denominacion', 'precio_mxn', 'precio_usd', 'fecha_conversion']].head())"
   ]
  },
  {
   "cell_type": "code",
   "execution_count": null,
   "metadata": {},
   "outputs": [],
   "source": [
    "#df['precio'] = df['precio_mxn']"
   ]
  },
  {
   "cell_type": "markdown",
   "metadata": {},
   "source": [
    "## c) Precio fuera del estandar"
   ]
  },
  {
   "cell_type": "markdown",
   "metadata": {},
   "source": [
    "Identificar y eliminar propiedades que cuenten con precios bajos y altos al estandar"
   ]
  },
  {
   "cell_type": "code",
   "execution_count": null,
   "metadata": {},
   "outputs": [],
   "source": [
    "inicio = df.shape\n",
    "# Eliminar los registros donde el precio es menor al estandar (250,000) y con precio_desc vacío\n",
    "df = df[(df['precio'] >= 250000)] #& (df['precio_desc'].notna())]\n",
    "# Eliminar los registros donde el precio es mayor al estandar (500,000,000) y con precio_desc vacío\n",
    "df = df[(df['precio'] <= 500000000)] #& (df['precio_desc'].notna())] \n",
    "# Ordenar valores de manera ascendente\n",
    "print(df['precio'].sort_values())\n",
    "shapes = df.shape\n",
    "print('La base ha quedado con: ',f'{RED}{shapes}{RESET}', 'de',f'{GREEN}{inicio}{RESET}')"
   ]
  },
  {
   "cell_type": "markdown",
   "metadata": {},
   "source": [
    "## D) Segmento o categoría"
   ]
  },
  {
   "cell_type": "code",
   "execution_count": null,
   "metadata": {},
   "outputs": [],
   "source": [
    "# Crear un diccionario donde las llaves son las categorías y los valores son las tuplas de rangos\n",
    "rangos_precio = {\n",
    "    \"E1\": (0, 500000),\n",
    "    \"E2\": (500000, 750000),\n",
    "    \"E3\": (750001, 1000000),\n",
    "    \"D1\": (1000001, 1250000),\n",
    "    \"D2\": (1250001, 1500000),\n",
    "    \"D3\": (1500001, 1750000),\n",
    "    \"C1\": (1750001, 2000000),\n",
    "    \"C2\": (2000001, 2250000),\n",
    "    \"C3\": (2250001, 2500000),\n",
    "    \"B1\": (2500001, 2750000),  \n",
    "    \"B2\": (2750001, 3000000),  \n",
    "    \"B3\": (3000001, 3250000),  \n",
    "    \"A1\": (3250001, 3500000),\n",
    "    \"A2\": (3500001, 3750000),\n",
    "    \"A3\": (3750001, 4000000),\n",
    "    \"S1\": (4000001, 6000000),\n",
    "    \"S2\": (6000001, 8000000),\n",
    "    \"S3\": (8000001, 12000000),\n",
    "    \"L1\": (12000001, 14000000),\n",
    "    \"L2\": (14000001, 16000000),\n",
    "    \"L3\": (16000001, 18000000),\n",
    "    \"L+\": (18000001, 22000000),\n",
    "    \"ELITE\": (22000001, float('inf'))\n",
    "}\n",
    "\n",
    "# Función para asignar la categoría según el precio\n",
    "def asignar_categoria(precio):\n",
    "    for categoria, (limite_inferior, limite_superior) in rangos_precio.items():\n",
    "        if limite_inferior <= precio < limite_superior:\n",
    "            return categoria\n",
    "    return None  # En caso de que el precio no caiga en ningún rango (caso raro)\n",
    "\n",
    "# Asignar la categoría a cada registro\n",
    "df['categoria'] = df['precio'].apply(asignar_categoria)\n",
    "print(df['categoria'].unique())"
   ]
  },
  {
   "cell_type": "markdown",
   "metadata": {},
   "source": [
    "# 4. Meses transcurridos"
   ]
  },
  {
   "cell_type": "markdown",
   "metadata": {},
   "source": [
    "Sacar el número de meses transcurridos desde la fecha de su publicación a la actual"
   ]
  },
  {
   "cell_type": "code",
   "execution_count": null,
   "metadata": {},
   "outputs": [],
   "source": [
    "from datetime import datetime\n",
    "# Convertir el mes abreviado en número\n",
    "def month_to_int(month):\n",
    "    months = ['ene', 'feb', 'mar', 'abr', 'may', 'jun', 'jul', 'ago', 'sep', 'oct', 'nov', 'dic']\n",
    "    return months.index(month.lower()) + 1\n",
    "\n",
    "# Estandarizar el formato de fecha\n",
    "def standardize_date(date_str):\n",
    "    # Caso 1: formato \"20 abr. 2023\" -> \"2023-04-20\"\n",
    "    try:\n",
    "        day, month, year = date_str.split(' ')\n",
    "        month_int = month_to_int(month.replace('.', ''))  # Eliminar puntos si existen\n",
    "        return f\"{year}-{month_int:02d}-{int(day):02d}\"\n",
    "    except (ValueError, AttributeError):\n",
    "        pass\n",
    "\n",
    "    # Caso 2: formato \"YYYY-MM-DD HH:MM:SS\" o \"YYYY-MM-DD\"\n",
    "    try:\n",
    "        return pd.to_datetime(date_str).strftime('%Y-%m-%d')\n",
    "    except (ValueError, TypeError):\n",
    "        # Si no se puede convertir, devolver None\n",
    "        return None\n",
    "\n",
    "# Aplicar la función a la columna 'tiempo_de_publicacion'\n",
    "#df['fecha_estandarizada'] = df['tiempo_de_publicacion'].apply(standardize_date)\n",
    "\n",
    "# Convertir a datetime y manejar errores\n",
    "#df['fecha_estandarizada'] = pd.to_datetime(df['fecha_estandarizada'], errors='coerce')\n",
    "\n",
    "# Obtener la fecha actual\n",
    "#fecha_actual = datetime.now().date()\n",
    "fecha_actual = datetime.strptime(\"30/04/24\", \"%d/%m/%y\").date()\n",
    "\n",
    "# Función para calcular la diferencia en meses\n",
    "def calcular_meses(fecha):\n",
    "    if pd.isnull(fecha):\n",
    "        return None\n",
    "    rd = relativedelta(fecha_actual, fecha.date())\n",
    "    return rd.years * 12 + rd.months\n",
    "\n",
    "# Aplicar la función para calcular los meses transcurridos\n",
    "#df['meses_transcurridos'] = df['fecha_estandarizada'].apply(calcular_meses)\n",
    "\n",
    "#Registro de fecha de conversión\n",
    "#df['meses_transcurridos_fecha'] = fecha_actual\n",
    "\n",
    "# Mostrar el DataFrame con las fechas estandarizadas y meses transcurridos\n",
    "#print(df[['tiempo_de_publicacion', 'fecha_estandarizada', 'meses_transcurridos','meses_transcurridos_fecha']])"
   ]
  },
  {
   "cell_type": "markdown",
   "metadata": {},
   "source": [
    "# 5. Tipo de propiedad"
   ]
  },
  {
   "cell_type": "markdown",
   "metadata": {},
   "source": [
    "## a) Estandarizar"
   ]
  },
  {
   "cell_type": "code",
   "execution_count": null,
   "metadata": {},
   "outputs": [],
   "source": [
    "# Convierte todos los valores a strings, maneja NaN o None como cadenas vacías\n",
    "df['tipo'] = df['tipo'].astype(str)\n",
    "# Convertir a minúsculas\n",
    "df['tipo'] = df['tipo'].str.lower()\n",
    "\n",
    "import unicodedata# Función para eliminar acentos\n",
    "def eliminar_acentos(texto):\n",
    "    # Normaliza y elimina los acentos\n",
    "    texto_normalizado = unicodedata.normalize('NFKD', texto)\n",
    "    return ''.join(char for char in texto_normalizado if unicodedata.category(char) != 'Mn')\n",
    "df['tipo'] = df['tipo'].apply(eliminar_acentos)\n",
    "# Convertir la primera letra de cada palabra a mayúscula\n",
    "df['tipo'] = df['tipo'].str.title()\n",
    "df['tipo'].unique() "
   ]
  },
  {
   "cell_type": "markdown",
   "metadata": {},
   "source": [
    "## b) Lista de tipos deseados"
   ]
  },
  {
   "cell_type": "markdown",
   "metadata": {},
   "source": [
    "* Casas: Casa en condominio, \n",
    "* Departamento: Penthouse, Loft"
   ]
  },
  {
   "cell_type": "code",
   "execution_count": null,
   "metadata": {},
   "outputs": [],
   "source": [
    "# Filtrar los registros según los tipos especificados\n",
    "tipos_permitidos = 'Casa|Casa En Condominio|Casa En Fraccionamiento|Departamento|Penthouse|Dúplex|Loft|Estudio|Condominio Horizontal'\n",
    "df = df[df['tipo'].str.contains(tipos_permitidos, na=False)]\n",
    "df['tipo'].unique()"
   ]
  },
  {
   "cell_type": "markdown",
   "metadata": {},
   "source": [
    "## c) Manejo de terrenos"
   ]
  },
  {
   "cell_type": "markdown",
   "metadata": {},
   "source": [
    "Se buscan los registros que no sean las propiedades si no un solo terreno"
   ]
  },
  {
   "cell_type": "code",
   "execution_count": null,
   "metadata": {},
   "outputs": [],
   "source": [
    "# Filtrar los registros según las condiciones dadas\n",
    "totales =df[df['descripcion'].str.contains('lote', case=False)]\n",
    "pd.set_option('display.max_colwidth', None) # Mostrar URLs completas\n",
    "\n",
    "# MANEJAR PROCESO DE ELIMINACIÓN \n",
    "for idx, row in totales.iterrows():\n",
    "    print(f\"Registro {idx}:\")\n",
    "    print(row[['descripcion']])\n",
    "    print(row[['url']])\n",
    "    print(f\"{GREEN}\\n¿Te gustaría eliminar el registro?{RESET}\")\n",
    "    # Solicitar la opción al usuario\n",
    "    option = input(\"Elige una opción: Si(1) / No(0)): \").strip().lower()\n",
    "    \n",
    "    if option == '1':\n",
    "        df.drop(idx, inplace=True)\n",
    "        print(f\"Registro eliminado.\\n\")\n",
    "    else:\n",
    "        print(f\"Registro conservado.\\n\")\n",
    "        print(\"\\n---\\n\")\n",
    "print(\"Proceso completado.\")"
   ]
  },
  {
   "cell_type": "code",
   "execution_count": null,
   "metadata": {},
   "outputs": [],
   "source": [
    "shapes = df.shape\n",
    "print('La base ha quedado con: ',f'{RED}{shapes}{RESET}', 'de',f'{GREEN}{inicio}{RESET}')"
   ]
  },
  {
   "cell_type": "markdown",
   "metadata": {},
   "source": [
    "# 6. Metros totales (terreno)"
   ]
  },
  {
   "cell_type": "markdown",
   "metadata": {},
   "source": [
    "## a) Metros en descripción"
   ]
  },
  {
   "cell_type": "code",
   "execution_count": null,
   "metadata": {},
   "outputs": [],
   "source": [
    "# Función para extraer totales de la descripción\n",
    "def extraer_totales(descripcion):\n",
    "    descripcion = descripcion.lower()\n",
    "    # Buscar patrones de totales\n",
    "    totales = re.findall(r'\\b(\\d+[\\.,]?\\d*)\\s*(metros|totales|mt2)\\b', descripcion)\n",
    "    total = None\n",
    "    for match in totales:\n",
    "        numero, _ = match\n",
    "        numero = numero.replace(',', '').replace(\"'\", '')\n",
    "        try:\n",
    "            total = float(numero)\n",
    "        except ValueError:\n",
    "            continue\n",
    "        if total:\n",
    "            break\n",
    "    return total\n",
    "\n",
    "# Aplicar la función al DataFrame\n",
    "df['totales_desc'] = df['descripcion'].apply(extraer_totales)\n",
    "inicio = df.shape"
   ]
  },
  {
   "cell_type": "code",
   "execution_count": null,
   "metadata": {},
   "outputs": [],
   "source": [
    "# Aplicar colores a los valores de precio y precio_desc\n",
    "def colorize_row(row):\n",
    "    row_colored = row.copy()  # Crear una copia para no modificar el original\n",
    "    row_colored['metros_total'] = f\"{MAGENTA}{row['metros_total']}{RESET}\"\n",
    "    row_colored['totales_desc'] = f\"{GREEN}{row['totales_desc']}{RESET}\"\n",
    "    return row_colored"
   ]
  },
  {
   "cell_type": "markdown",
   "metadata": {},
   "source": [
    "### Metros [0 / 0]"
   ]
  },
  {
   "cell_type": "code",
   "execution_count": null,
   "metadata": {},
   "outputs": [],
   "source": [
    "# Filtrar los registros según las condiciones dadas\n",
    "totales = df[( (df['metros_total'] == 0 ) & (df['totales_desc'].isna() | df['totales_desc']==0) )] \n",
    "pd.set_option('display.max_colwidth', None) # Mostrar URLs completas\n",
    "\n",
    "# Iterar sobre los registros filtrados\n",
    "for idx, row in totales.iterrows():\n",
    "    print(f\"Registro {idx}:\")\n",
    "    #print(row[['metros_total', 'totales_desc', 'url']])\n",
    "    print(colorize_row(row)[['metros_total', 'totales_desc', 'url']])\n",
    "    print(\"\\n¿Qué acción te gustaría realizar?\")\n",
    "    print(\"1. Pasar al siguiente registro\")\n",
    "    print(\"2. Sustituir el valor de 'metros_total' por el de 'totales_desc'\")\n",
    "    print(\"3. Sustituir el valor manualmente\")\n",
    "    # Solicitar la opción al usuario\n",
    "    option = input(\"Elige una opción (1, 2, 3): \")\n",
    "\n",
    "    if option == '3':\n",
    "        # Sustituir el valor manualmente\n",
    "        new_value = input(\"Introduce el nuevo valor para 'metros_total': \")\n",
    "        df.at[idx, 'metros_total'] = float(new_value)\n",
    "    elif option == '2':\n",
    "        # Sustituir el valor de 'metros_total' por 'totales_desc'\n",
    "        df.at[idx, 'metros_total'] = df.at[idx, 'totales_desc']\n",
    "    elif option == '1':\n",
    "        # Pasar al siguiente registro\n",
    "        continue\n",
    "    else:\n",
    "        print(\"Opción no válida. Pasando al siguiente registro...\")\n",
    "    \n",
    "    print(\"\\n---\\n\")\n",
    "\n",
    "print(\"Proceso completado.\")"
   ]
  },
  {
   "cell_type": "markdown",
   "metadata": {},
   "source": [
    "### Metros [0 / #]"
   ]
  },
  {
   "cell_type": "code",
   "execution_count": null,
   "metadata": {},
   "outputs": [],
   "source": [
    "# Filtrar los registros según las condiciones dadas\n",
    "totales = df[( (df['metros_total'] == 0 ) & (df['totales_desc'].notna()) )] \n",
    "pd.set_option('display.max_colwidth', None) # Mostrar URLs completas\n",
    "\n",
    "# Iterar sobre los registros filtrados\n",
    "for idx, row in totales.iterrows():\n",
    "    print(f\"Registro {idx}:\")\n",
    "    #print(row[['metros_total', 'totales_desc', 'url']])\n",
    "    print(colorize_row(row)[['metros_total', 'totales_desc', 'url']])\n",
    "    print(\"\\n¿Qué acción te gustaría realizar?\")\n",
    "    print(\"1. Pasar al siguiente registro\")\n",
    "    print(\"2. Sustituir el valor de 'metros_total' por el de 'totales_desc'\")\n",
    "    print(\"3. Sustituir el valor manualmente\")\n",
    "    # Solicitar la opción al usuario\n",
    "    option = input(\"Elige una opción (1, 2, 3): \")\n",
    "\n",
    "    if option == '3':\n",
    "        # Sustituir el valor manualmente\n",
    "        new_value = input(\"Introduce el nuevo valor para 'metros_total': \")\n",
    "        df.at[idx, 'metros_total'] = float(new_value)\n",
    "    elif option == '2':\n",
    "        # Sustituir el valor de 'metros_total' por 'totales_desc'\n",
    "        df.at[idx, 'metros_total'] = df.at[idx, 'totales_desc']\n",
    "    elif option == '1':\n",
    "        # Pasar al siguiente registro\n",
    "        continue\n",
    "    else:\n",
    "        print(\"Opción no válida. Pasando al siguiente registro...\")\n",
    "    print(\"\\n---\\n\")\n",
    "\n",
    "print(\"Proceso completado.\")"
   ]
  },
  {
   "cell_type": "markdown",
   "metadata": {},
   "source": [
    "### Metros [# / #]"
   ]
  },
  {
   "cell_type": "code",
   "execution_count": null,
   "metadata": {},
   "outputs": [],
   "source": [
    "# Filtrar los registros según las condiciones dadas\n",
    "totales = df[( ((df['metros_total']!= 0) & (df['totales_desc'].notna())) & (df['metros_total'] != df['totales_desc']) )] \n",
    "pd.set_option('display.max_colwidth', None) # Mostrar URLs completas\n",
    "\n",
    "# Iterar sobre los registros filtrados\n",
    "for idx, row in totales.iterrows():\n",
    "    print(f\"Registro {idx}:\")    \n",
    "    print(colorize_row(row)[['metros_total', 'totales_desc', 'url']])\n",
    "    print(\"\\n¿Qué acción te gustaría realizar?\")\n",
    "    print(\"1. Pasar al siguiente registro\")\n",
    "    print(\"2. Sustituir el valor de 'metros_total' por el de 'totales_desc'\")\n",
    "    print(\"3. Sustituir el valor manualmente\")\n",
    "    # Solicitar la opción al usuario\n",
    "    option = input(\"Elige una opción (1, 2, 3): \")\n",
    "\n",
    "    if option == '3':\n",
    "        # Sustituir el valor manualmente\n",
    "        while True:\n",
    "            try:\n",
    "                new_value = float(input(\"Introduce el nuevo valor para 'metros_total': \"))\n",
    "                df.at[idx, 'metros_total'] = new_value\n",
    "                break\n",
    "            except ValueError:\n",
    "                print(\"Por favor, introduce un número válido (entero o decimal).\")\n",
    "    elif option == '2':\n",
    "        # Sustituir el valor de 'metros_total' por 'totales_desc'\n",
    "        df.at[idx, 'metros_total'] = df.at[idx, 'totales_desc']\n",
    "    elif option == '1':\n",
    "        # Pasar al siguiente registro\n",
    "        continue\n",
    "    else:\n",
    "        print(\"Opción no válida. Pasando al siguiente registro...\")\n",
    "    print(\"\\n---\\n\")\n",
    "\n",
    "print(\"Proceso completado.\")"
   ]
  },
  {
   "cell_type": "code",
   "execution_count": null,
   "metadata": {},
   "outputs": [],
   "source": [
    "shapes = df.shape\n",
    "print('La base ha quedado con: ',f'{RED}{shapes}{RESET}', 'de',f'{GREEN}{inicio}{RESET}')"
   ]
  },
  {
   "cell_type": "markdown",
   "metadata": {},
   "source": [
    "## b) Manejo por rangos de UMA"
   ]
  },
  {
   "cell_type": "code",
   "execution_count": null,
   "metadata": {},
   "outputs": [],
   "source": [
    "print(f\"{RED}Paso opcional{RESET}\")"
   ]
  },
  {
   "cell_type": "markdown",
   "metadata": {},
   "source": [
    "Paso opcional por si no se espera cambiar el precio por el que se tenga en descripción"
   ]
  },
  {
   "cell_type": "markdown",
   "metadata": {},
   "source": [
    "Rangos\n",
    "* 118 UMAS = 40m2\n",
    "* 118.1-200 = 50m2\n",
    "* 200.1-350 = 71m2\n",
    "* 350.1-750 = 102m2\n",
    "* 750.1-1500 = 156m2"
   ]
  },
  {
   "cell_type": "markdown",
   "metadata": {},
   "source": [
    "Cuando ambas columnas son 0 o vacíos"
   ]
  },
  {
   "cell_type": "code",
   "execution_count": null,
   "metadata": {},
   "outputs": [],
   "source": [
    "# Rangos de UMAs y sus equivalencias en m²\n",
    "umas_to_m2 = [\n",
    "    (118, 40),\n",
    "    (200, 50),\n",
    "    (350, 71),\n",
    "    (750, 102),\n",
    "    (1500, 156)\n",
    "]\n",
    "valor_uma = 108.57\n",
    "\n",
    "# Convertir MXN a UMAs\n",
    "def precio_a_umas(precio, valor_uma):\n",
    "    return precio / valor_uma\n",
    "\n",
    "# Asignar m² basado en el precio en UMAs\n",
    "def asignar_m2(precio_umas):\n",
    "    for upper_bound, m2 in umas_to_m2:\n",
    "        if precio_umas <= upper_bound:\n",
    "            return m2\n",
    "    return None  # En caso de que el precio en UMAs sea mayor al máximo definido\n",
    "\n",
    "# Actualizar los registros con 'metros_total' igual a 0 y 'totales_desc' es NaN\n",
    "def actualizar_metros_total(row):\n",
    "    if row['metros_total'] == 0 and pd.isna(row['totales_desc']):\n",
    "        precio_umas = precio_a_umas(row['precio'], valor_uma)\n",
    "        row['metros_total'] = asignar_m2(precio_umas)\n",
    "    return row\n",
    "\n",
    "totales = df[( (df['metros_total'] == 0 ) & (df['totales_desc'].isna() | df['totales_desc']==0) )] \n",
    "totales = df.apply(actualizar_metros_total, axis=1)\n",
    "pd.set_option('display.max_colwidth', None) # Mostrar URLs completas\n",
    "\n",
    "#df = df.apply(actualizar_metros_total, axis=1)\n",
    "print(totales[['metros_total', 'totales_desc', 'url']])"
   ]
  },
  {
   "cell_type": "markdown",
   "metadata": {},
   "source": [
    "Sólo si aceptas los cambios"
   ]
  },
  {
   "cell_type": "code",
   "execution_count": null,
   "metadata": {},
   "outputs": [],
   "source": [
    "df = df.apply(actualizar_metros_total, axis=1)"
   ]
  },
  {
   "cell_type": "markdown",
   "metadata": {},
   "source": [
    "# 7. M2 construidos"
   ]
  },
  {
   "cell_type": "markdown",
   "metadata": {},
   "source": [
    "## a) M-construidos en descripción"
   ]
  },
  {
   "cell_type": "code",
   "execution_count": null,
   "metadata": {},
   "outputs": [],
   "source": [
    "# Función para extraer totales de la descripción\n",
    "def extraer_totales(descripcion):\n",
    "    descripcion = descripcion.lower()\n",
    "    # Buscar patrones de totales\n",
    "    totales = re.findall(r'\\b(\\d+[\\.,]?\\d*)\\s*(metros|construidos)\\b', descripcion)\n",
    "    total = None\n",
    "    for match in totales:\n",
    "        numero, _ = match\n",
    "        numero = numero.replace(',', '').replace(\"'\", '')\n",
    "        try:\n",
    "            total = float(numero)\n",
    "        except ValueError:\n",
    "            continue\n",
    "        if total:\n",
    "            break\n",
    "    return total\n",
    "\n",
    "# Aplicar la función al DataFrame\n",
    "#df['construidos_desc'] = df['descripcion'].apply(extraer_totales)\n",
    "#inicio = df.shape"
   ]
  },
  {
   "cell_type": "code",
   "execution_count": null,
   "metadata": {},
   "outputs": [],
   "source": [
    "# Aplicar colores a los valores de precio y precio_desc\n",
    "#def colorize_row(row):\n",
    "#    row_colored = row.copy()  # Crear una copia para no modificar el original\n",
    "#    row_colored['metros_construido'] = f\"{MAGENTA}{row['metros_construido']}{RESET}\"\n",
    "#    row_colored['construidos_desc'] = f\"{GREEN}{row['construidos_desc']}{RESET}\"\n",
    "#    return row_colored"
   ]
  },
  {
   "cell_type": "markdown",
   "metadata": {},
   "source": [
    "### Metros [0 / 0]"
   ]
  },
  {
   "cell_type": "code",
   "execution_count": null,
   "metadata": {},
   "outputs": [],
   "source": [
    "# Filtrar los registros según las condiciones dadas\n",
    "#totales = df[( (df['metros_construido'] == 0 ) & (df['construidos_desc'].isna() | df['construidos_desc']==0) )] \n",
    "#pd.set_option('display.max_colwidth', None) # Mostrar URLs completas\n",
    "\n",
    "# Iterar sobre los registros filtrados\n",
    "#for idx, row in totales.iterrows():\n",
    "#    print(f\"Registro {idx}:\")\n",
    "    #print(row[['metros_construido', 'construidos_desc', 'url']])\n",
    "#    print(colorize_row(row)[['metros_construido', 'construidos_desc', 'url']])\n",
    "#    print(\"\\n¿Qué acción te gustaría realizar?\")\n",
    "    #print(\"1. Pasar al siguiente registro\")\n",
    "    #print(\"2. Sustituir el valor de 'metros_construido' por el de 'construidos_desc'\")\n",
    "    #print(\"3. Sustituir el valor manualmente\")\n",
    "\n",
    "    # Solicitar la opción al usuario\n",
    "#    option = input(\"Elige una opción (1, 2, 3): \")\n",
    "\n",
    "#    if option == '3':\n",
    "        # Sustituir el valor manualmente\n",
    "#        new_value = input(\"Introduce el nuevo valor para 'metros_construido': \")\n",
    "        #df.at[idx, 'metros_construido'] = float(new_value)\n",
    "#    elif option == '2':\n",
    "        # Sustituir el valor de 'metros_construido' por 'construidos_desc'\n",
    "        #df.at[idx, 'metros_construido'] = df.at[idx, 'construidos_desc']\n",
    "    #elif option == '1':\n",
    "        # Pasar al siguiente registro\n",
    "        #continue\n",
    "    #else:\n",
    "        #print(\"Opción no válida. Pasando al siguiente registro...\")\n",
    "    \n",
    "    #print(\"\\n---\\n\")\n",
    "\n",
    "#print(\"Proceso completado.\")"
   ]
  },
  {
   "cell_type": "markdown",
   "metadata": {},
   "source": [
    "### Metros [0 / #]"
   ]
  },
  {
   "cell_type": "code",
   "execution_count": null,
   "metadata": {},
   "outputs": [],
   "source": [
    "# Filtrar los registros según las condiciones dadas\n",
    "#totales = df[( (df['metros_construido'] == 0 ) & (df['construidos_desc'].notna()) )] \n",
    "#pd.set_option('display.max_colwidth', None) # Mostrar URLs completas\n",
    "\n",
    "# Iterar sobre los registros filtrados\n",
    "#for idx, row in totales.iterrows():\n",
    "#    print(f\"Registro {idx}:\")\n",
    "    #print(row[['metros_construido', 'construidos_desc', 'url']])\n",
    "    #print(colorize_row(row)[['metros_construido', 'construidos_desc', 'url']])\n",
    "    #print(\"\\n¿Qué acción te gustaría realizar?\")\n",
    "    #print(\"1. Pasar al siguiente registro\")\n",
    "    #print(\"2. Sustituir el valor de 'metros_construido' por el de 'construidos_desc'\")\n",
    "    #print(\"3. Sustituir el valor manualmente\")\n",
    "\n",
    "    # Solicitar la opción al usuario\n",
    "    #option = input(\"Elige una opción (1, 2, 3): \")\n",
    "\n",
    "    #if option == '3':\n",
    "        # Sustituir el valor manualmente\n",
    "        #new_value = input(\"Introduce el nuevo valor para 'metros_construido': \")\n",
    "        #df.at[idx, 'metros_construido'] = float(new_value)\n",
    "    #elif option == '2':\n",
    "        # Sustituir el valor de 'metros_construido' por 'construidos_desc'\n",
    "        #df.at[idx, 'metros_construido'] = df.at[idx, 'construidos_desc']\n",
    "    #elif option == '1':\n",
    "        # Pasar al siguiente registro\n",
    "        #continue\n",
    "    #else:\n",
    "        #print(\"Opción no válida. Pasando al siguiente registro...\")\n",
    "    \n",
    "    #print(\"\\n---\\n\")\n",
    "\n",
    "#print(\"Proceso completado.\")"
   ]
  },
  {
   "cell_type": "markdown",
   "metadata": {},
   "source": [
    "### Metros [# / #]"
   ]
  },
  {
   "cell_type": "code",
   "execution_count": null,
   "metadata": {},
   "outputs": [],
   "source": [
    "# Filtrar los registros según las condiciones dadas\n",
    "# totales = df[( ((df['metros_construido']!= 0) & (df['construidos_desc'].notna())) & (df['metros_construido'] != df['construidos_desc']) )] \n",
    "# pd.set_option('display.max_colwidth', None) # Mostrar URLs completas\n",
    "\n",
    "# Iterar sobre los registros filtrados\n",
    "# for idx, row in totales.iterrows():\n",
    "#     print(f\"Registro {idx}:\")\n",
    "#     #print(row[['metros_construido', 'construidos_desc', 'url']])\n",
    "#     print(colorize_row(row)[['metros_construido', 'construidos_desc', 'url']])\n",
    "#     print(\"\\n¿Qué acción te gustaría realizar?\")\n",
    "#     print(\"1. Pasar al siguiente registro\")\n",
    "#     print(\"2. Sustituir el valor de 'metros_construido' por el de 'construidos_desc'\")\n",
    "#     print(\"3. Sustituir el valor manualmente\")\n",
    "#     # Solicitar la opción al usuario\n",
    "#     option = input(\"Elige una opción (1, 2, 3): \")\n",
    "\n",
    "#     if option == '3':\n",
    "#         # Sustituir el valor manualmente\n",
    "#         new_value = input(\"Introduce el nuevo valor para 'metros_construido': \")\n",
    "#         try:\n",
    "#             df.at[idx, 'metros_construido'] = float(new_value)\n",
    "#         except ValueError:\n",
    "#             print(\"Valor no válido. Debe ser un número. Pasando al siguiente registro...\")\n",
    "#     elif option == '2':\n",
    "#         # Sustituir el valor de 'metros_construido' por 'construidos_desc'\n",
    "#         df.at[idx, 'metros_construido'] = df.at[idx, 'construidos_desc']\n",
    "#     elif option == '1':\n",
    "#         # Pasar al siguiente registro\n",
    "#         continue\n",
    "#     else:\n",
    "#         print(\"Opción no válida. Pasando al siguiente registro...\")\n",
    "    \n",
    "#     print(\"\\n---\\n\")\n",
    "\n",
    "# print(\"Proceso completado.\")\n"
   ]
  },
  {
   "cell_type": "code",
   "execution_count": null,
   "metadata": {},
   "outputs": [],
   "source": [
    "#shapes = df.shape\n",
    "#print('La base ha quedado con: ',f'{RED}{shapes}{RESET}', 'de',f'{GREEN}{inicio}{RESET}')"
   ]
  },
  {
   "cell_type": "markdown",
   "metadata": {},
   "source": [
    "# 8. Precio / m2"
   ]
  },
  {
   "cell_type": "markdown",
   "metadata": {},
   "source": [
    "## M2 Totales (terreno)"
   ]
  },
  {
   "cell_type": "code",
   "execution_count": null,
   "metadata": {},
   "outputs": [],
   "source": [
    "# Calcular precio por metro cuadrado del terreno\n",
    "df['precio_m2_terreno'] = df['precio']/df['metros_total']"
   ]
  },
  {
   "cell_type": "markdown",
   "metadata": {},
   "source": [
    "## M2 Construidos"
   ]
  },
  {
   "cell_type": "code",
   "execution_count": null,
   "metadata": {},
   "outputs": [],
   "source": [
    "# Calcular precio por metro cuadrado de la cosntrucción\n",
    "#df['precio_m2_construido'] = df['precio']/df['metros_construido']"
   ]
  },
  {
   "cell_type": "markdown",
   "metadata": {},
   "source": [
    "# 9. Estacionamientos"
   ]
  },
  {
   "cell_type": "markdown",
   "metadata": {},
   "source": [
    "## a) Estacionamientos descritos"
   ]
  },
  {
   "cell_type": "markdown",
   "metadata": {},
   "source": [
    "Asigna las diferentes maneras en las que puede encontrarse descrito el espacio de estacionamientos"
   ]
  },
  {
   "cell_type": "code",
   "execution_count": null,
   "metadata": {},
   "outputs": [],
   "source": [
    "# Función para extraer estacionamientos de la descripción\n",
    "def extraer_coches(descripcion):\n",
    "    descripcion = descripcion.lower()\n",
    "    # Buscar patrones de totales\n",
    "    totales = re.findall(r'\\b(\\d+[\\.,]?\\d*)\\s*(|cochera|garage|carros|carro|coche|coches|autos|automóviles|automóvil|auto|lugares de estacionamiento)\\b', descripcion)\n",
    "    total = None\n",
    "    for match in totales:\n",
    "        numero, _ = match\n",
    "        numero = numero.replace(',', '').replace(\"'\", '').replace('.','')\n",
    "        try:\n",
    "            total = float(numero)\n",
    "        except ValueError:\n",
    "            continue\n",
    "        if total:\n",
    "            break\n",
    "    return total\n",
    "\n",
    "# Aplicar la función al DataFrame\n",
    "df['estacionamiento_desc'] = df['descripcion'].apply(extraer_coches)\n",
    "inicio = df.shape"
   ]
  },
  {
   "cell_type": "code",
   "execution_count": null,
   "metadata": {},
   "outputs": [],
   "source": [
    "# Aplicar colores a los valores de precio y precio_desc\n",
    "def colorize_row(row):\n",
    "    row_colored = row.copy()  # Crear una copia para no modificar el original\n",
    "    row_colored['estacionamientos'] = f\"{MAGENTA}{row['estacionamientos']}{RESET}\"\n",
    "    row_colored['estacionamiento_desc'] = f\"{GREEN}{row['estacionamiento_desc']}{RESET}\"\n",
    "    return row_colored"
   ]
  },
  {
   "cell_type": "markdown",
   "metadata": {},
   "source": [
    "### Estacionamientos [0 / 0]"
   ]
  },
  {
   "cell_type": "code",
   "execution_count": null,
   "metadata": {},
   "outputs": [],
   "source": [
    "# Filtrar los registros según las condiciones dadas\n",
    "totales = df[( (df['estacionamientos']==0) & (df['estacionamiento_desc'].isna()) )] \n",
    "pd.set_option('display.max_colwidth', None) # Mostrar URLs completas\n",
    "\n",
    "# Iterar sobre los registros filtrados\n",
    "for idx, row in totales.iterrows():\n",
    "    print(f\"Registro {idx}:\")\n",
    "    #print(row[['url']])\n",
    "    print(colorize_row(row)[['estacionamientos', 'estacionamiento_desc', 'url']])\n",
    "    print(\"\\n¿Qué acción te gustaría realizar?\")\n",
    "    print(\"1. Pasar al siguiente registro\")\n",
    "    #print(\"2. Sustituir el valor de 'precio' por el de 'precio_desc'\")\n",
    "    print(\"3. Sustituir el valor manualmente\")\n",
    "    \n",
    "    # Solicitar la opción al usuario\n",
    "    option = input(\"Elige una opción (1, 2, 3): \")\n",
    "\n",
    "    if option == '3':\n",
    "        # Sustituir el valor manualmente\n",
    "        new_value = input(\"Introduce el nuevo valor para 'estacionamientos': \")\n",
    "        df.at[idx, 'estacionamientos'] = int(new_value)\n",
    "    #elif option == '2':\n",
    "        # Sustituir el valor de 'estacionamientos' por 'estacionamiento_desc'\n",
    "        #df.at[idx, 'estacionamientos'] = df.at[idx, 'estacionamiento_desc']\n",
    "    elif option == '1':\n",
    "        # Pasar al siguiente registro\n",
    "        continue\n",
    "    else:\n",
    "        print(\"Opción no válida. Pasando al siguiente registro...\")\n",
    "\n",
    "    print(\"\\n---\\n\")\n",
    "\n",
    "print(\"Proceso completado.\")"
   ]
  },
  {
   "cell_type": "markdown",
   "metadata": {},
   "source": [
    "### Estacionamientos [0 / #]"
   ]
  },
  {
   "cell_type": "code",
   "execution_count": null,
   "metadata": {},
   "outputs": [],
   "source": [
    "# Filtrar los registros según las condiciones dadas\n",
    "totales = df[( (df['estacionamientos']==0) & (df['estacionamiento_desc'].notna()) )] \n",
    "pd.set_option('display.max_colwidth', None) # Mostrar URLs completas\n",
    "\n",
    "# Iterar sobre los registros filtrados\n",
    "for idx, row in totales.iterrows():\n",
    "    print(f\"Registro {idx}:\")\n",
    "    #print(row[['estacionamientos', 'estacionamiento_desc', 'url']])\n",
    "    print(colorize_row(row)[['estacionamientos', 'estacionamiento_desc', 'url']])\n",
    "\n",
    "    print(\"\\n¿Qué acción te gustaría realizar?\")\n",
    "    print(\"1. Pasar al siguiente registro\")\n",
    "    print(\"2. Sustituir el valor de 'estacionamientos' por el de 'estacionamiento_desc'\")\n",
    "    print(\"3. Sustituir el valor manualmente\")\n",
    "\n",
    "    # Solicitar la opción al usuario\n",
    "    option = input(\"Elige una opción (1, 2, 3): \")\n",
    "\n",
    "    if option == '3':\n",
    "        # Sustituir el valor manualmente\n",
    "        new_value = input(\"Introduce el nuevo valor para 'estacionamientos': \")\n",
    "        df.at[idx, 'estacionamientos'] = float(new_value)\n",
    "    elif option == '2':\n",
    "        # Sustituir el valor de 'metros_total' por 'totales_desc'\n",
    "        df.at[idx, 'estacionamientos'] = df.at[idx, 'estacionamiento_desc']\n",
    "    elif option == '1':\n",
    "        # Pasar al siguiente registro\n",
    "        continue\n",
    "    else:\n",
    "        print(\"Opción no válida. Pasando al siguiente registro...\")\n",
    "    \n",
    "    print(\"\\n---\\n\")\n",
    "\n",
    "print(\"Proceso completado.\")"
   ]
  },
  {
   "cell_type": "markdown",
   "metadata": {},
   "source": [
    "### Estacionamientos [# / #]"
   ]
  },
  {
   "cell_type": "code",
   "execution_count": null,
   "metadata": {},
   "outputs": [],
   "source": [
    "# Filtrar los registros según las condiciones dadas\n",
    "totales = df[( ((df['estacionamientos']!=0) & (df['estacionamiento_desc'].notna())) & (df['estacionamientos'] != df['estacionamiento_desc']) )] \n",
    "pd.set_option('display.max_colwidth', None) # Mostrar URLs completas\n",
    "\n",
    "# Iterar sobre los registros filtrados\n",
    "for idx, row in totales.iterrows():\n",
    "    print(f\"Registro {idx}:\")\n",
    "    #print(row[['estacionamientos', 'estacionamiento_desc', 'url']])\n",
    "    print(colorize_row(row)[['estacionamientos', 'estacionamiento_desc', 'url']])\n",
    "    print(\"\\n¿Qué acción te gustaría realizar?\")\n",
    "    print(\"1. Pasar al siguiente registro\")\n",
    "    print(\"2. Sustituir el valor de 'estacionamientos' por el de 'estacionamiento_desc'\")\n",
    "    print(\"3. Sustituir el valor manualmente\")\n",
    "\n",
    "    # Solicitar la opción al usuario\n",
    "    option = input(\"Elige una opción (1, 2, 3): \")\n",
    "\n",
    "    if option == '3':\n",
    "        # Sustituir el valor manualmente\n",
    "        new_value = input(\"Introduce el nuevo valor para 'estacionamientos': \")\n",
    "        df.at[idx, 'estacionamientos'] = float(new_value)\n",
    "    elif option == '2':\n",
    "        # Sustituir el valor de 'metros_total' por 'totales_desc'\n",
    "        df.at[idx, 'estacionamientos'] = df.at[idx, 'estacionamiento_desc']\n",
    "    elif option == '1':\n",
    "        # Pasar al siguiente registro\n",
    "        continue\n",
    "    else:\n",
    "        print(\"Opción no válida. Pasando al siguiente registro...\")\n",
    "    \n",
    "    print(\"\\n---\\n\")\n",
    "\n",
    "print(\"Proceso completado.\")"
   ]
  },
  {
   "cell_type": "code",
   "execution_count": null,
   "metadata": {},
   "outputs": [],
   "source": [
    "shapes = df.shape\n",
    "print('La base ha quedado con: ',f'{RED}{shapes}{RESET}', 'de',f'{GREEN}{inicio}{RESET}')"
   ]
  },
  {
   "cell_type": "markdown",
   "metadata": {},
   "source": [
    "## b) Mantener rango de estacionamientos < 5 (mínimo 1)"
   ]
  },
  {
   "cell_type": "code",
   "execution_count": null,
   "metadata": {},
   "outputs": [],
   "source": [
    "df = df[df['estacionamientos'] <= 8]\n",
    "#df[['estacionamientos','estacionamiento_desc','url']]"
   ]
  },
  {
   "cell_type": "markdown",
   "metadata": {},
   "source": [
    "# 10. Recámaras"
   ]
  },
  {
   "cell_type": "markdown",
   "metadata": {},
   "source": [
    "## a) Recámaras en descripción"
   ]
  },
  {
   "cell_type": "code",
   "execution_count": null,
   "metadata": {},
   "outputs": [],
   "source": [
    "# Función para extraer cantidad de recamaras en descripción\n",
    "def extraer_recamaras(descripcion):\n",
    "    descripcion = descripcion.lower()\n",
    "    # Buscar patrones de totales\n",
    "    totales = re.findall(r'\\b(\\d+[\\.,]?\\d*)\\s*(recamara|recamaras|habitaciones|dormitorio|dormitorios)\\b', descripcion)\n",
    "    total = None\n",
    "    for match in totales:\n",
    "        numero, _ = match\n",
    "        numero = numero.replace(',', '').replace(\"'\", '')\n",
    "        try:\n",
    "            total = float(numero)\n",
    "        except ValueError:\n",
    "            continue\n",
    "        if total:\n",
    "            break\n",
    "    return total\n",
    "\n",
    "# Aplicar la función al DataFrame\n",
    "df['recamaras_desc'] = df['descripcion'].apply(extraer_recamaras)\n",
    "inicio = df.shape"
   ]
  },
  {
   "cell_type": "code",
   "execution_count": null,
   "metadata": {},
   "outputs": [],
   "source": [
    "# Aplicar colores a los valores de precio y precio_desc\n",
    "def colorize_row(row):\n",
    "    row_colored = row.copy()  # Crear una copia para no modificar el original\n",
    "    row_colored['recamaras'] = f\"{MAGENTA}{row['recamaras']}{RESET}\"\n",
    "    row_colored['recamaras_desc'] = f\"{GREEN}{row['recamaras_desc']}{RESET}\"\n",
    "    return row_colored"
   ]
  },
  {
   "cell_type": "markdown",
   "metadata": {},
   "source": [
    "### Recámaras [0 / 0]"
   ]
  },
  {
   "cell_type": "code",
   "execution_count": null,
   "metadata": {},
   "outputs": [],
   "source": [
    "# Filtrar los registros según las condiciones dadas\n",
    "totales = df[ (df['recamaras'] == 0 ) & (df['recamaras_desc'].isna()) ] \n",
    "pd.set_option('display.max_colwidth', None) # Mostrar URLs completas\n",
    "\n",
    "# Iterar sobre los registros filtrados\n",
    "for idx, row in totales.iterrows():\n",
    "    print(f\"Registro {idx}:\")\n",
    "    #print(row[['url']])\n",
    "    print(colorize_row(row)[['recamaras', 'recamaras_desc', 'url']])\n",
    "    print(\"\\n¿Qué acción te gustaría realizar?\")\n",
    "    print(\"1. Pasar al siguiente registro\")\n",
    "    print(\"3. Sustituir el valor manualmente\")\n",
    "\n",
    "    # Solicitar la opción al usuario\n",
    "    option = input(\"Elige una opción (1 | 3): \")\n",
    "\n",
    "    if option == '3':\n",
    "        # Sustituir el valor manualmente\n",
    "        new_value = input(\"Introduce el nuevo valor para 'recamaras': \")\n",
    "        df.at[idx, 'recamaras'] = float(new_value)\n",
    "    elif option == '1':\n",
    "        # Pasar al siguiente registro\n",
    "        continue\n",
    "    else:\n",
    "        print(\"Opción no válida. Pasando al siguiente registro...\")\n",
    "    \n",
    "    print(\"\\n---\\n\")\n",
    "\n",
    "print(\"Proceso completado.\")"
   ]
  },
  {
   "cell_type": "markdown",
   "metadata": {},
   "source": [
    "### Recámaras [0 / #]"
   ]
  },
  {
   "cell_type": "code",
   "execution_count": null,
   "metadata": {},
   "outputs": [],
   "source": [
    "# Filtrar los registros según las condiciones dadas\n",
    "totales = df[( (df['recamaras']==0) & (df['recamaras_desc'].notna()) )] \n",
    "pd.set_option('display.max_colwidth', None) # Mostrar URLs completas\n",
    "\n",
    "# Iterar sobre los registros filtrados\n",
    "for idx, row in totales.iterrows():\n",
    "    print(f\"Registro {idx}:\")\n",
    "    print(colorize_row(row)[['recamaras', 'recamaras_desc', 'url']])\n",
    "    print(\"\\n¿Qué acción te gustaría realizar?\")\n",
    "    print(\"1. Pasar al siguiente registro\")\n",
    "    print(\"2. Sustituir el valor de 'recamaras' por el de 'recamaras_desc'\")\n",
    "    print(\"3. Sustituir el valor manualmente\")\n",
    "\n",
    "    # Solicitar la opción al usuario\n",
    "    option = input(\"Elige una opción (1, 2, 3): \")\n",
    "\n",
    "    if option == '3':\n",
    "        # Sustituir el valor manualmente\n",
    "        new_value = input(\"Introduce el nuevo valor para 'recamaras': \")\n",
    "        df.at[idx, 'recamaras'] = float(new_value)\n",
    "    elif option == '2':\n",
    "        # Sustituir el valor de 'metros_total' por 'totales_desc'\n",
    "        df.at[idx, 'recamaras'] = df.at[idx, 'recamaras_desc']\n",
    "    elif option == '1':\n",
    "        # Pasar al siguiente registro\n",
    "        continue\n",
    "    else:\n",
    "        print(\"Opción no válida. Pasando al siguiente registro...\")\n",
    "    \n",
    "    print(\"\\n---\\n\")\n",
    "\n",
    "print(\"Proceso completado.\")\n"
   ]
  },
  {
   "cell_type": "markdown",
   "metadata": {},
   "source": [
    "### Recámaras [# / #]"
   ]
  },
  {
   "cell_type": "code",
   "execution_count": null,
   "metadata": {},
   "outputs": [],
   "source": [
    "# Filtrar los registros según las condiciones dadas\n",
    "totales = df[( (df['recamaras']!=0) & (df['recamaras_desc'].notna()) ) & (df['recamaras'] != df['recamaras_desc'])] \n",
    "pd.set_option('display.max_colwidth', None) # Mostrar URLs completas\n",
    "\n",
    "# Iterar sobre los registros filtrados\n",
    "for idx, row in totales.iterrows():\n",
    "    print(f\"Registro {idx}:\")\n",
    "    print(colorize_row(row)[['recamaras', 'recamaras_desc', 'url']])\n",
    "    print(\"\\n¿Qué acción te gustaría realizar?\")\n",
    "    print(\"1. Pasar al siguiente registro\")\n",
    "    print(\"2. Sustituir el valor de 'recamaras' por el de 'recamaras_desc'\")\n",
    "    print(\"3. Sustituir el valor manualmente\")\n",
    "\n",
    "    # Solicitar la opción al usuario\n",
    "    option = input(\"Elige una opción (1, 2, 3): \")\n",
    "\n",
    "    if option == '3':\n",
    "        # Sustituir el valor manualmente\n",
    "        new_value = input(\"Introduce el nuevo valor para 'recamaras': \")\n",
    "        df.at[idx, 'recamaras'] = float(new_value)\n",
    "    elif option == '2':\n",
    "        # Sustituir el valor de 'metros_total' por 'totales_desc'\n",
    "        df.at[idx, 'recamaras'] = df.at[idx, 'recamaras_desc']\n",
    "    elif option == '1':\n",
    "        # Pasar al siguiente registro\n",
    "        continue\n",
    "    else:\n",
    "        print(\"Opción no válida. Pasando al siguiente registro...\")\n",
    "    \n",
    "    print(\"\\n---\\n\")\n",
    "\n",
    "print(\"Proceso completado.\")\n"
   ]
  },
  {
   "cell_type": "code",
   "execution_count": null,
   "metadata": {},
   "outputs": [],
   "source": [
    "shapes = df.shape\n",
    "print('La base ha quedado con: ',f'{RED}{shapes}{RESET}', 'de',f'{GREEN}{inicio}{RESET}')"
   ]
  },
  {
   "cell_type": "markdown",
   "metadata": {},
   "source": [
    "## b) Mantener rango de recámaras <= 7 "
   ]
  },
  {
   "cell_type": "code",
   "execution_count": null,
   "metadata": {},
   "outputs": [],
   "source": [
    "print(df['recamaras'].unique())\n",
    "df = df[(df['recamaras'] <= 7)] \n",
    "#print(df[['recamaras','recamaras_desc','url']])"
   ]
  },
  {
   "cell_type": "markdown",
   "metadata": {},
   "source": [
    "# 11. Baños"
   ]
  },
  {
   "cell_type": "markdown",
   "metadata": {},
   "source": [
    "## a) Baños en descripción"
   ]
  },
  {
   "cell_type": "markdown",
   "metadata": {},
   "source": [
    "Manejando tanto los completos como los medios"
   ]
  },
  {
   "cell_type": "code",
   "execution_count": null,
   "metadata": {},
   "outputs": [],
   "source": [
    "# Extraer la cantidad de baños y medios baños en la descripción\n",
    "def extraer_baños(descripcion):\n",
    "    descripcion = descripcion.lower()\n",
    "    \n",
    "    # Buscar patrones de baños completos\n",
    "    completos = re.findall(r'\\b(\\d+[\\.,]?\\d*)\\s*baños?\\b', descripcion)\n",
    "    total_completos = sum([float(match.replace(',', '').replace(\"'\", '')) for match in completos])\n",
    "    \n",
    "    # Buscar patrones de medios baños (1/2 baño)\n",
    "    medios = re.findall(r'\\b(\\d+[\\.,]?\\d*)\\s*medios?\\s*baños?\\b', descripcion)\n",
    "    total_medios = sum([float(match.replace(',', '').replace(\"'\", '')) for match in medios])\n",
    "    \n",
    "    # Retornar como un diccionario o una tupla\n",
    "    return {'completos': total_completos, 'medios': total_medios}\n",
    "\n",
    "# Aplicar la función al DataFrame\n",
    "df['baños_desc'] = df['descripcion'].apply(extraer_baños)\n",
    "\n",
    "# Si deseas separar en dos columnas distintas:\n",
    "df['baños_completos'] = df['baños_desc'].apply(lambda x: x['completos'] if x else 0)\n",
    "df['medios_baños'] = df['baños_desc'].apply(lambda x: x['medios'] if x else 0)"
   ]
  },
  {
   "cell_type": "markdown",
   "metadata": {},
   "source": [
    "### Baños"
   ]
  },
  {
   "cell_type": "code",
   "execution_count": null,
   "metadata": {},
   "outputs": [],
   "source": [
    "# Aplicar colores a los valores de precio y precio_desc\n",
    "def colorize_row(row):\n",
    "    row_colored = row.copy()  # Crear una copia para no modificar el original\n",
    "    row_colored['banos'] = f\"{MAGENTA}{row['banos']}{RESET}\"\n",
    "    row_colored['baños_completos'] = f\"{GREEN}{row['baños_completos']}{RESET}\"\n",
    "    return row_colored\n",
    "inicio = df.shape"
   ]
  },
  {
   "cell_type": "markdown",
   "metadata": {},
   "source": [
    "Poner como mínimo para el registro 1 en baños"
   ]
  },
  {
   "cell_type": "markdown",
   "metadata": {},
   "source": [
    "#### [0 / 0]"
   ]
  },
  {
   "cell_type": "code",
   "execution_count": null,
   "metadata": {},
   "outputs": [],
   "source": [
    "# Filtrar los registros según las condiciones dadas\n",
    "totales = df[(df['banos'] == 0) & (df['baños_completos'].isna())]\n",
    "pd.set_option('display.max_colwidth', None) # Mostrar URLs completas\n",
    "\n",
    "# Iterar sobre los registros filtrados\n",
    "for idx, row in totales.iterrows():\n",
    "    print(f\"Registro {idx}:\")\n",
    "    print(colorize_row(row)[['banos', 'baños_completos', 'url']])\n",
    "    print(\"\\n¿Qué acción te gustaría realizar?\")\n",
    "    print(\"1. Pasar al siguiente registro\")\n",
    "    #print(\"2. Asignar 1 como mínimo y pasar al siguiente registro\")\n",
    "    print(\"3. Sustituir el valor manualmente\")\n",
    "\n",
    "    # Solicitar la opción al usuario\n",
    "    option = input(\"Elige una opción (1 | 3): \")\n",
    "\n",
    "    if option == '3':\n",
    "        # Sustituir el valor manualmente\n",
    "        new_value = input(\"Introduce el nuevo valor para 'banos': \")\n",
    "        df.at[idx, 'banos'] = float(new_value)\n",
    "    elif option == '1':\n",
    "        continue  # Pasar al siguiente registro\n",
    "    #elif option == '2':\n",
    "        # Asignar valor de 1 como mínimo\n",
    "        #df.at[idx, 'banos'] = 1\n",
    "    else:\n",
    "        continue  # Pasar al siguiente registro\n",
    "\n",
    "    print(\"\\n---\\n\")\n",
    "\n",
    "print(\"Proceso completado.\")"
   ]
  },
  {
   "cell_type": "markdown",
   "metadata": {},
   "source": [
    "#### [0 / #]"
   ]
  },
  {
   "cell_type": "code",
   "execution_count": null,
   "metadata": {},
   "outputs": [],
   "source": [
    "# Filtrar los registros según las condiciones dadas\n",
    "totales = df[( (df['banos']==0) & (df['baños_completos'].notna()) )] \n",
    "pd.set_option('display.max_colwidth', None) # Mostrar URLs completas\n",
    "\n",
    "# Iterar sobre los registros filtrados\n",
    "for idx, row in totales.iterrows():\n",
    "    print(f\"Registro {idx}:\")\n",
    "    print(colorize_row(row)[['banos', 'baños_completos', 'url']])\n",
    "    print(\"\\n¿Qué acción te gustaría realizar?\")\n",
    "    print(\"1. Pasar al siguiente registro\")\n",
    "    print(\"2. Sustituir el valor de 'banos' por el de 'baños_completos'\")\n",
    "    print(\"3. Sustituir el valor manualmente\")\n",
    "    #print(\"4. Asignar 1 como mínimo y pasar al siguiente registro\")\n",
    "    \n",
    "\n",
    "    # Solicitar la opción al usuario\n",
    "    option = input(\"Elige una opción (1 | 2 | 3): \")\n",
    "\n",
    "    if option == '3':\n",
    "        # Sustituir el valor manualmente\n",
    "        new_value = input(\"Introduce el nuevo valor para 'banos': \")\n",
    "        df.at[idx, 'banos'] = float(new_value)\n",
    "    elif option == '2':\n",
    "        # Sustituir el valor de 'banos' por 'baños_completos'\n",
    "        df.at[idx, 'banos'] = df.at[idx, 'baños_completos']\n",
    "    elif option=='1':\n",
    "        continue\n",
    "    #elif option == '4':\n",
    "        # Asignar valor de 1 como mínimo\n",
    "        #df.at[idx, 'banos'] = 1\n",
    "        #continue  # Pasar al siguiente registro\n",
    "    else:\n",
    "        continue  # Pasar al siguiente registro\n",
    "\n",
    "    print(\"\\n---\\n\")\n",
    "\n",
    "print(\"Proceso completado.\")"
   ]
  },
  {
   "cell_type": "markdown",
   "metadata": {},
   "source": [
    "#### [# / #]"
   ]
  },
  {
   "cell_type": "code",
   "execution_count": null,
   "metadata": {},
   "outputs": [],
   "source": [
    "# Filtrar los registros según las condiciones dadas\n",
    "totales = df[( ((df['banos']!=0) & (df['baños_completos'].notna())) & (df['banos'] != df['baños_completos']))] \n",
    "pd.set_option('display.max_colwidth', None) # Mostrar URLs completas\n",
    "\n",
    "# Iterar sobre los registros filtrados\n",
    "for idx, row in totales.iterrows():\n",
    "    print(f\"Registro {idx}:\")\n",
    "    print(colorize_row(row)[['banos', 'baños_completos', 'url']])\n",
    "    print(\"\\n¿Qué acción te gustaría realizar?\")\n",
    "    print(\"1. Pasar al siguiente registro\")\n",
    "    print(\"2. Sustituir el valor de 'banos' por el de 'baños_completos'\")\n",
    "    print(\"3. Sustituir el valor manualmente\")\n",
    "    #print(\"4. Asignar 1 como mínimo y pasar al siguiente registro\")\n",
    "    # Solicitar la opción al usuario\n",
    "    option = input(\"Elige una opción (1 | 2 | 3): \")\n",
    "\n",
    "    if option == '3':\n",
    "        # Sustituir el valor manualmente\n",
    "        new_value = input(\"Introduce el nuevo valor para 'banos': \")\n",
    "        df.at[idx, 'banos'] = float(new_value)\n",
    "    elif option == '2':\n",
    "        # Sustituir el valor de 'banos' por 'baños_completos'\n",
    "        df.at[idx, 'banos'] = df.at[idx, 'baños_completos']\n",
    "    elif option == '1':\n",
    "        continue\n",
    "    #elif option == '4':\n",
    "        # Asignar valor de 1 como mínimo\n",
    "        #df.at[idx, 'banos'] = 1\n",
    "        #continue  # Pasar al siguiente registro\n",
    "    else:\n",
    "        continue  # Pasar al siguiente registro\n",
    "\n",
    "    print(\"\\n---\\n\")\n",
    "\n",
    "print(\"Proceso completado.\")"
   ]
  },
  {
   "cell_type": "code",
   "execution_count": null,
   "metadata": {},
   "outputs": [],
   "source": [
    "shapes = df.shape\n",
    "print('La base ha quedado con: ',f'{RED}{shapes}{RESET}', 'de',f'{GREEN}{inicio}{RESET}')"
   ]
  },
  {
   "cell_type": "markdown",
   "metadata": {},
   "source": [
    "### Medio baños"
   ]
  },
  {
   "cell_type": "code",
   "execution_count": null,
   "metadata": {},
   "outputs": [],
   "source": [
    "# Aplicar colores a los valores de precio y precio_desc\n",
    "#def colorize_row(row):\n",
    "#    row_colored = row.copy()  # Crear una copia para no modificar el original\n",
    "#    row_colored['medio_banos'] = f\"{MAGENTA}{row['medio_banos']}{RESET}\"\n",
    "#    row_colored['medios_baños'] = f\"{GREEN}{row['medios_baños']}{RESET}\"\n",
    "#    return row_colored\n",
    "#inicio = df.shape"
   ]
  },
  {
   "cell_type": "markdown",
   "metadata": {},
   "source": [
    "#### [0 / 0]"
   ]
  },
  {
   "cell_type": "code",
   "execution_count": null,
   "metadata": {},
   "outputs": [],
   "source": [
    "# Filtrar los registros según las condiciones dadas\n",
    "#totales = df[(df['medio_banos'] == 0) & (df['medios_baños'].isna())]\n",
    "#pd.set_option('display.max_colwidth', None) # Mostrar URLs completas\n",
    "\n",
    "# Iterar sobre los registros filtrados\n",
    "#for idx, row in totales.iterrows():\n",
    "#    print(f\"Registro {idx}:\")\n",
    "#    print(colorize_row(row)[['medio_banos', 'medios_baños', 'url']])\n",
    "#    print(\"\\n¿Qué acción te gustaría realizar?\")\n",
    "#    print(\"1. Pasar al siguiente registro\")\n",
    "    #print(\"2. Asignar 1 como mínimo y pasar al siguiente registro\")\n",
    "#    print(\"3. Sustituir el valor manualmente\")\n",
    "    \n",
    "    # Solicitar la opción al usuario\n",
    "#    option = input(\"Elige una opción (1 | 3): \")\n",
    "\n",
    "#    if option == '3':\n",
    "        # Sustituir el valor manualmente\n",
    "#        new_value = input(\"Introduce el nuevo valor para 'medio_banos': \")\n",
    "#        df.at[idx, 'medio_banos'] = float(new_value)\n",
    "    #elif option == '2':\n",
    "        # Asignar valor de 1 como mínimo\n",
    "        #df.at[idx, 'banos'] = 1\n",
    "#    elif option=='1':\n",
    "#        continue  # Pasar al siguiente registro\n",
    "#    else:\n",
    "#        continue  # Pasar al siguiente registro\n",
    "\n",
    "#    print(\"\\n---\\n\")\n",
    "\n",
    "#print(\"Proceso completado.\")"
   ]
  },
  {
   "cell_type": "markdown",
   "metadata": {},
   "source": [
    "#### [0 / #]"
   ]
  },
  {
   "cell_type": "code",
   "execution_count": null,
   "metadata": {},
   "outputs": [],
   "source": [
    "# Filtrar los registros según las condiciones dadas\n",
    "#totales = df[( (df['medio_banos']==0) & (df['medios_baños'].notna()) )] \n",
    "#pd.set_option('display.max_colwidth', None) # Mostrar URLs completas\n",
    "\n",
    "# Iterar sobre los registros filtrados\n",
    "#for idx, row in totales.iterrows():\n",
    "#    print(f\"Registro {idx}:\")\n",
    "#    print(colorize_row(row)[['medio_banos', 'medios_baños', 'url']])\n",
    "#    print(\"\\n¿Qué acción te gustaría realizar?\")\n",
    "#    print(\"1. Pasar al siguiente registro\")\n",
    "#    print(\"2. Sustituir el valor de 'medio_banos' por el de 'medios_baños'\")\n",
    "    #print(\"3. Asignar 1 como mínimo y pasar al siguiente registro\")\n",
    "#    print(\"3. Sustituir el valor manualmente\")\n",
    "    # Solicitar la opción al usuario\n",
    "#    option = input(\"Elige una opción (1 | 2 | 3): \")\n",
    "\n",
    "#    if option == '3':\n",
    "        # Sustituir el valor manualmente\n",
    "#        new_value = input(\"Introduce el nuevo valor para 'medio_banos': \")\n",
    "#        df.at[idx, 'medio_banos'] = float(new_value)\n",
    "#    elif option == '2':\n",
    "        # Sustituir el valor de 'medio_banos' por 'medios_baños'\n",
    "#        df.at[idx, 'medio_banos'] = df.at[idx, 'medios_baños']\n",
    "    #elif option == '3':\n",
    "        # Asignar valor de 1 como mínimo\n",
    "        #df.at[idx, 'medio_baños'] = 1\n",
    "#    elif option=='1':\n",
    "#        continue  # Pasar al siguiente registro\n",
    "#    else:\n",
    "#        continue  # Pasar al siguiente registro\n",
    "\n",
    "#    print(\"\\n---\\n\")\n",
    "\n",
    "#print(\"Proceso completado.\")"
   ]
  },
  {
   "cell_type": "markdown",
   "metadata": {},
   "source": [
    "#### [# / #]"
   ]
  },
  {
   "cell_type": "code",
   "execution_count": null,
   "metadata": {},
   "outputs": [],
   "source": [
    "# Filtrar los registros según las condiciones dadas\n",
    "# totales = df[( ((df['medio_banos']!=0) & (df['medios_baños'].notna())) & (df['medio_banos'] != df['medios_baños']))] \n",
    "# pd.set_option('display.max_colwidth', None) # Mostrar URLs completas\n",
    "\n",
    "# Iterar sobre los registros filtrados\n",
    "# for idx, row in totales.iterrows():\n",
    "#     print(f\"Registro {idx}:\")\n",
    "#     print(colorize_row(row)[['medio_banos', 'medios_baños', 'url']])\n",
    "#     print(\"\\n¿Qué acción te gustaría realizar?\")\n",
    "#     print(\"1. Pasar al siguiente registro\")\n",
    "#     print(\"2. Sustituir el valor de 'medio_banos' por el de 'medios_baños'\")\n",
    "#     #print(\"4. Asignar 1 como mínimo y pasar al siguiente registro\")\n",
    "#     print(\"3. Sustituir el valor manualmente\")\n",
    "\n",
    "#     # Solicitar la opción al usuario\n",
    "#     option = input(\"Elige una opción (1 | 2 | 3): \")\n",
    "\n",
    "#     if option == '3':\n",
    "#         # Sustituir el valor manualmente\n",
    "#         new_value = input(\"Introduce el nuevo valor para 'medio_banos': \")\n",
    "#         df.at[idx, 'medio_banos'] = float(new_value)\n",
    "#     elif option == '2':\n",
    "#         # Sustituir el valor de 'medio_baños' por 'medios_baños'\n",
    "#         df.at[idx, 'medio_banos'] = df.at[idx, 'medios_baños']\n",
    "#     #elif option == '4':\n",
    "#         # Asignar valor de 1 como mínimo\n",
    "#         #df.at[idx, 'medio_baños'] = 1\n",
    "#     elif option=='1':\n",
    "#         continue  # Pasar al siguiente registro\n",
    "#     else:\n",
    "#         continue  # Pasar al siguiente registro\n",
    "\n",
    "#     print(\"\\n---\\n\")\n",
    "\n",
    "# print(\"Proceso completado.\")"
   ]
  },
  {
   "cell_type": "code",
   "execution_count": null,
   "metadata": {},
   "outputs": [],
   "source": [
    "#shapes = df.shape\n",
    "#print('La base ha quedado con: ',f'{RED}{shapes}{RESET}', 'de',f'{GREEN}{inicio}{RESET}')"
   ]
  },
  {
   "cell_type": "markdown",
   "metadata": {},
   "source": [
    "## B) Total de baños"
   ]
  },
  {
   "cell_type": "code",
   "execution_count": null,
   "metadata": {},
   "outputs": [],
   "source": [
    "# Make the medio_baños and banos sum\n",
    "# 'medio_baños', divididos entre 2 para representar medios\n",
    "#df['bano_total'] = df['banos'] + (df['medio_banos'] / 2)\n",
    "#df['bano_total'] = df['bano_total'].round(1)  # Round the total, not just 'banos'\n",
    "#print(df[['banos', 'medio_banos', 'bano_total']].head())"
   ]
  },
  {
   "cell_type": "markdown",
   "metadata": {},
   "source": [
    "# 12. Ubicación"
   ]
  },
  {
   "cell_type": "markdown",
   "metadata": {},
   "source": [
    "## a) Desde descripción"
   ]
  },
  {
   "cell_type": "code",
   "execution_count": null,
   "metadata": {},
   "outputs": [],
   "source": [
    "# Función para extraer ubicación de la descripción\n",
    "def extraer_ubicacion(descripcion):\n",
    "    descripcion = descripcion.lower()\n",
    "    # Patrones para buscar ubicaciones comunes\n",
    "    patrones = [\n",
    "        r'(?:ubicad[oa] en|en) ([\\w\\s]+(?:,\\s*[\\w\\s]+){0,2})',\n",
    "        r'(?:calle|avenida|av\\.) ([\\w\\s]+(?:,\\s*[\\w\\s]+){0,2})',\n",
    "        r'(?:colonia|col\\.) ([\\w\\s]+(?:,\\s*[\\w\\s]+){0,2})',\n",
    "        r'(?:fraccionamiento|fracc\\.) ([\\w\\s]+(?:,\\s*[\\w\\s]+){0,2})'\n",
    "    ]\n",
    "    2.\n",
    "    for patron in patrones:\n",
    "        match = re.search(patron, descripcion)\n",
    "        if match:\n",
    "            return match.group(1).strip().title()\n",
    "    \n",
    "    return None\n",
    "\n",
    "# Aplicar la función al DataFrame\n",
    "df['ubicacion_desc'] = df['descripcion'].apply(extraer_ubicacion)"
   ]
  },
  {
   "cell_type": "markdown",
   "metadata": {},
   "source": [
    "#### Cuando la ubicación dice centro:"
   ]
  },
  {
   "cell_type": "code",
   "execution_count": null,
   "metadata": {},
   "outputs": [],
   "source": [
    "# Filtrar los registros donde la ubicación contiene la palabra \"centro\"\n",
    "df_centro = df[df['ubicacion'].str.contains('centro|Centro', case=False, na=False)]\n",
    "num_registros_centro = len(df_centro)\n",
    "\n",
    "print(f\"Número de registros que contienen 'centro' en la ubicación:\",f\"{RED} {num_registros_centro}{RESET}\")"
   ]
  },
  {
   "cell_type": "code",
   "execution_count": null,
   "metadata": {},
   "outputs": [],
   "source": [
    "# Aplicar colores a los valores de precio y precio_desc\n",
    "def colorize_row(row):\n",
    "    row_colored = row.copy()  # Crear una copia para no modificar el original\n",
    "    row_colored['ubicacion'] = f\"{MAGENTA}{row['ubicacion']}{RESET}\"\n",
    "    row_colored['ubicacion_desc'] = f\"{GREEN}{row['ubicacion_desc']}{RESET}\"\n",
    "    return row_colored\n",
    "inicio = df.shape"
   ]
  },
  {
   "cell_type": "code",
   "execution_count": null,
   "metadata": {},
   "outputs": [],
   "source": [
    "\n",
    "pd.set_option('display.max_colwidth', None) # Mostrar URLs completas\n",
    "\n",
    "# Iterar sobre los registros filtrados\n",
    "for idx, row in df_centro.iterrows():\n",
    "    print(f\"Registro {idx}:\")    \n",
    "    #print(row[['ubicacion', 'ubicacion_desc', 'url']])\n",
    "    print(colorize_row(row)[['ubicacion', 'ubicacion_desc', 'url']])\n",
    "    print(\"\\n¿Qué acción te gustaría realizar?\")\n",
    "    print(\"1. Pasar al siguiente registro\")\n",
    "    print(\"2. Sustituir el valor de 'ubicacion' por el de 'ubicacion_desc'\")\n",
    "    print(\"3. Sustituir el valor manualmente\")\n",
    "    # Solicitar la opción al usuario\n",
    "    option = input(\"Elige una opción (1, 2, 3): \")\n",
    "\n",
    "    if option == '3':\n",
    "        # Sustituir el valor manualmente\n",
    "        new_value = input(\"Introduce el nuevo valor para 'ubicacion': \")\n",
    "        df.at[idx, 'ubicacion'] = new_value  \n",
    "    elif option == '2':\n",
    "        # Sustituir el valor de 'ubicacion' por 'ubicacion_desc'\n",
    "        df.at[idx, 'ubicacion'] = df.at[idx, 'ubicacion_desc']\n",
    "    elif option == '1':\n",
    "        # Pasar al siguiente registro\n",
    "        continue\n",
    "    else:\n",
    "        print(\"Opción no válida. Pasando al siguiente registro...\")\n",
    "    \n",
    "    print(\"\\n---\\n\")\n",
    "\n",
    "print(\"Proceso completado.\")"
   ]
  },
  {
   "cell_type": "markdown",
   "metadata": {},
   "source": [
    "## b) Separación"
   ]
  },
  {
   "cell_type": "markdown",
   "metadata": {},
   "source": [
    "Se divide la ubicación por \n",
    "* Colonia\n",
    "* Municipio\n",
    "* Estado"
   ]
  },
  {
   "cell_type": "code",
   "execution_count": null,
   "metadata": {},
   "outputs": [],
   "source": [
    "# Siempre regresar una lista de 3 elementos\n",
    "def split_location(location):\n",
    "    parts = location.split(',')\n",
    "    parts = [part.strip() for part in parts]  # Eliminar espacios al principio y final de cada parte\n",
    "    parts = [unicodedata.normalize('NFKD', part).encode('ascii', 'ignore').decode('utf-8') for part in parts]  # Eliminar acentos y otros caracteres no ascii\n",
    "    parts += [None] * (3 - len(parts))  # Asegurar que siempre hay 3 partes\n",
    "    return parts[:3]  # Devolver solo las primeras 3 partes\n",
    "\n",
    "df[['Colonia', 'Municipio', 'Estado']] = df['ubicacion'].apply(split_location).apply(pd.Series)\n",
    "\n",
    "# Limpiando valores nulos\n",
    "df['Colonia'] = df['Colonia'].str.strip().fillna('Sin_colonia')\n",
    "df['Municipio'] = df['Municipio'].str.strip().fillna('Sin_municipio')\n",
    "df['Estado'] = df['Estado'].str.strip().fillna('Sin_estado')\n",
    "df[['ubicacion', 'Colonia', 'Municipio', 'Estado']]"
   ]
  },
  {
   "cell_type": "code",
   "execution_count": null,
   "metadata": {},
   "outputs": [],
   "source": [
    "incompletos = df[(df['Municipio'].isna() | df['Estado'].isna()) & ~(df['Municipio'].isna() & df['Estado'].isna())]\n",
    "incompletos"
   ]
  },
  {
   "cell_type": "markdown",
   "metadata": {},
   "source": [
    "Solo en caso de que se tengan vacíos en las columnas resultantes"
   ]
  },
  {
   "cell_type": "code",
   "execution_count": null,
   "metadata": {},
   "outputs": [],
   "source": [
    "# Aplicando valor de acuerdo a la base a limpiar\n",
    "#df['Estado'] = df['Estado'].replace('Sin_estado', 'Hidalgo')"
   ]
  },
  {
   "cell_type": "markdown",
   "metadata": {},
   "source": [
    "#### Estandarizar valores"
   ]
  },
  {
   "cell_type": "code",
   "execution_count": null,
   "metadata": {},
   "outputs": [],
   "source": [
    "# Minúsculas\n",
    "df['Colonia'] = df['Colonia'].str.strip().str.lower()\n",
    "df['Municipio'] = df['Municipio'].str.strip().str.lower()\n",
    "df['Estado'] = df['Estado'].str.strip().str.lower()\n",
    "\n",
    "# Esta línea de código aplica la función unicodedata.normalize a la columna 'Colonia' del DataFrame df.\n",
    "# El argumento 'NFKD' indica que se debe aplicar la normalización NFKD, que elimina los acentos y otros caracteres diacríticos.\n",
    "#df['Colonia'] = df['Colonia'].apply(lambda x: unicodedata.normalize('NFKD', x))\n",
    "\n",
    "import unicodedata# Función para eliminar acentos\n",
    "def eliminar_acentos(texto):\n",
    "    # Normaliza y elimina los acentos\n",
    "    texto_normalizado = unicodedata.normalize('NFKD', texto)\n",
    "    return ''.join(char for char in texto_normalizado if unicodedata.category(char) != 'Mn')\n",
    "df['Colonia'] = df['Colonia'].apply(eliminar_acentos)\n",
    "df['Municipio'] = df['Municipio'].apply(eliminar_acentos)\n",
    "df['Estado'] = df['Estado'].apply(eliminar_acentos)\n",
    "print(df['Colonia'].unique())"
   ]
  },
  {
   "cell_type": "code",
   "execution_count": null,
   "metadata": {},
   "outputs": [],
   "source": [
    "# Crear id de registros\n",
    "df['id'] = range(1, len(df) + 1)"
   ]
  },
  {
   "cell_type": "markdown",
   "metadata": {},
   "source": [
    "#### Separación de tipo de lugar del nombre de la colonia"
   ]
  },
  {
   "cell_type": "code",
   "execution_count": null,
   "metadata": {},
   "outputs": [],
   "source": [
    "# Añade las diferentes formas de identificar el tipo de lugar (etiquetas de ubicación)\n",
    "tipos = ['condominio', 'fraccionamiento', 'infonavit','colonia', 'frac','fracc','fraccio','fracc.','namiento','ionamiento', 'uhp', 'urbanización','urbanizacion', 'sector', 'barrio', 'zona', 'sector', 'unidad habitacional', ]\n",
    "#, 'residencial','unidad residencial'\n",
    "def obtener_tipo_lugar(nombre):\n",
    "    for tipo in tipos:\n",
    "        if tipo in nombre:\n",
    "            return tipo\n",
    "    return None\n",
    "\n",
    "df['tipo_lugar'] = df['Colonia'].apply(obtener_tipo_lugar)\n",
    "# Eliminar el tipo de lugar de la columna 'colonia'\n",
    "df['Colonia'] = df.apply(lambda row: row['Colonia'].replace(row['tipo_lugar'], '').strip() if row['tipo_lugar'] else row['Colonia'], axis=1)\n",
    "print(df[['Colonia','tipo_lugar','ubicacion']])\n",
    "print(df['tipo_lugar'].unique())"
   ]
  },
  {
   "cell_type": "markdown",
   "metadata": {},
   "source": [
    "## c) Estandarizar valores (Mapeo)"
   ]
  },
  {
   "cell_type": "markdown",
   "metadata": {},
   "source": [
    "### Diccionarios\n",
    "1. Estandarizado\n",
    "2. Base de códigos postales"
   ]
  },
  {
   "cell_type": "markdown",
   "metadata": {},
   "source": [
    "#### 1 Diccionario personal, valores estandarizados"
   ]
  },
  {
   "cell_type": "code",
   "execution_count": null,
   "metadata": {},
   "outputs": [],
   "source": [
    "# Carga el diccionario de colonias estandarizadas desde un archivo CSV\n",
    "diccionario = pd.read_csv('colonias_estandarizadas.csv')\n",
    "print(diccionario.info())"
   ]
  },
  {
   "cell_type": "markdown",
   "metadata": {},
   "source": [
    "#### 2 Diccionario de base de codigos postales de la República Mexicana "
   ]
  },
  {
   "cell_type": "code",
   "execution_count": null,
   "metadata": {},
   "outputs": [],
   "source": [
    "archivo_excel = 'CPdescarga.xlsx'\n",
    "hojas_excel = pd.ExcelFile(archivo_excel, engine='openpyxl')\n",
    "# Imprimir los nombres de las hojas\n",
    "print(hojas_excel.sheet_names)"
   ]
  },
  {
   "cell_type": "markdown",
   "metadata": {},
   "source": [
    "CAMBIA DE ACUERDO AL LUGAR DE LA BASE"
   ]
  },
  {
   "cell_type": "markdown",
   "metadata": {},
   "source": [
    "Un Estado"
   ]
  },
  {
   "cell_type": "code",
   "execution_count": null,
   "metadata": {},
   "outputs": [],
   "source": [
    "# Obtener el DataFrame específico para el estado 'Puebla'\n",
    "df_codigos_postales = pd.read_excel(archivo_excel, sheet_name='Puebla', engine='openpyxl', usecols=['D_mnpio', 'd_asenta', 'd_tipo_asenta', 'd_codigo'])\n",
    "df_codigos_postales['estado'] = 'Puebla'  # Agregar el nombre del estado como 'estado'\n",
    "df_codigos_postales.head()"
   ]
  },
  {
   "cell_type": "markdown",
   "metadata": {},
   "source": [
    "Si necesitas seleccionar un municipio en específico"
   ]
  },
  {
   "cell_type": "code",
   "execution_count": null,
   "metadata": {},
   "outputs": [],
   "source": [
    "#df_codigos_postales = df_codigos_postales[df_codigos_postales['D_mnpio'].str.contains('Pachuca de Soto')]\n",
    "#df_codigos_postales"
   ]
  },
  {
   "cell_type": "code",
   "execution_count": null,
   "metadata": {},
   "outputs": [],
   "source": [
    "# Limpiar y estandarizar las columnas\n",
    "df_codigos_postales['D_mnpio'] = df_codigos_postales['D_mnpio'].str.lower().str.strip()\n",
    "df_codigos_postales['d_asenta'] = df_codigos_postales['d_asenta'].str.lower().str.strip()\n",
    "df_codigos_postales['d_tipo_asenta'] = df_codigos_postales['d_tipo_asenta'].str.lower().str.strip()\n",
    "df_codigos_postales['estado'] = df_codigos_postales['estado'].str.lower().str.strip()\n",
    "# Eliminar acentos de todas las columnas de df_codigos_postales para que se pueda mapear bien\n",
    "df_codigos_postales['d_asenta'] = df_codigos_postales['d_asenta'].apply(lambda x: unicodedata.normalize('NFKD', x).encode('ascii', errors='ignore').decode('utf-8') if isinstance(x, str) else x)"
   ]
  },
  {
   "cell_type": "markdown",
   "metadata": {},
   "source": [
    "### Comparación"
   ]
  },
  {
   "cell_type": "markdown",
   "metadata": {},
   "source": [
    "#### 1 Mapeo con Diccionario personal"
   ]
  },
  {
   "cell_type": "code",
   "execution_count": null,
   "metadata": {},
   "outputs": [],
   "source": [
    "def estand_col(colonia, diccionario):\n",
    "    # Busca en el diccionario si la colonia existe y devuelve su nombre estandarizado\n",
    "    # Si no existe, devuelve el nombre original de la colonia\n",
    "    return diccionario[diccionario['Colonia'] == colonia]['Colonia_Estandarizada'].values[0] if colonia in diccionario['Colonia'].values else colonia\n",
    "\n",
    "# Aplica la función de estandarización a la columna 'Colonia' del DataFrame df\n",
    "df['Colonia_Estandarizada'] = df['Colonia'].apply(lambda x: estand_col(x, diccionario))\n",
    "df[['Colonia_Estandarizada','Colonia']]"
   ]
  },
  {
   "cell_type": "code",
   "execution_count": null,
   "metadata": {},
   "outputs": [],
   "source": [
    "# Función para obtener el código postal dado estado, municipio, y colonia\n",
    "def obtener_codigo_postal(colonia, municipio, estado, df_codigos_postales):\n",
    "    # Normalizar los inputs\n",
    "    estado = estado.lower().strip()\n",
    "    municipio = municipio.lower().strip()\n",
    "    colonia = colonia.lower().strip()\n",
    "    \n",
    "    estado = estado.lower().strip().translate(str.maketrans('', '', 'áéíóúÁÉÍÓÚ'))\n",
    "    municipio = municipio.lower().strip().translate(str.maketrans('', '', 'áéíóúÁÉÍÓÚ'))\n",
    "    colonia = colonia.lower().strip().translate(str.maketrans('', '', 'áéíóúÁÉÍÓÚ'))\n",
    "\n",
    "    # Filtrar el DataFrame según estado y municipio\n",
    "    df_filtrado = df_codigos_postales[(df_codigos_postales['estado'] == estado) & (df_codigos_postales['D_mnpio'] == municipio)]\n",
    "    \n",
    "    # Intentar encontrar coincidencias exactas de la colonia\n",
    "    resultado = df_filtrado[df_filtrado['d_asenta'] == colonia]\n",
    "    \n",
    "    if not resultado.empty:\n",
    "        # Si se encuentra una coincidencia, devolver el código postal\n",
    "        return resultado['d_codigo'].values[0]\n",
    "    \n",
    "    return None  # Devolver None si no hay coincidencia"
   ]
  },
  {
   "cell_type": "code",
   "execution_count": null,
   "metadata": {},
   "outputs": [],
   "source": [
    "df['codigo_postal'] = df.apply(lambda row: obtener_codigo_postal(row['Colonia_Estandarizada'], row['Municipio'], row['Estado'], df_codigos_postales), axis=1)\n",
    "\n",
    "# Verificar si hay registros sin código postal asignado\n",
    "sin_codigo_p = df[df['codigo_postal'].isna()]\n",
    "Limpio = df[df['codigo_postal'].notna()]\n",
    "print(sin_codigo_p[['Colonia','Municipio','Estado','codigo_postal']])\n",
    "print(sin_codigo_p.shape)\n",
    "print(Limpio.shape)"
   ]
  },
  {
   "cell_type": "markdown",
   "metadata": {},
   "source": [
    "#### 2 Mapeo con base, coincidencia flexible (fuzzy)"
   ]
  },
  {
   "cell_type": "code",
   "execution_count": null,
   "metadata": {},
   "outputs": [],
   "source": [
    "# Función para mapear colonias con coincidencia flexible\n",
    "def mapear_colonia_flexible(colonia, df_codigos_postales):\n",
    "    # Lista de todas las colonias en el diccionario\n",
    "    colonias_diccionario = df_codigos_postales['d_asenta'].unique()\n",
    "\n",
    "    # Buscar la coincidencia más cercana con fuzzywuzzy\n",
    "    mejor_coincidencia = process.extractOne(colonia, colonias_diccionario, scorer=fuzz.ratio, score_cutoff=80)  # Ajusta el threshold de similitud a 80\n",
    "    \n",
    "    # Si se encuentra una coincidencia, devolverla; de lo contrario, devolver el valor original\n",
    "    return mejor_coincidencia[0] if mejor_coincidencia else colonia\n",
    "# Crear diccionario\n",
    "# Aplicar la función al DataFrame original\n",
    "#df['Colonia_Estandarizada'] = df['Colonia'].apply(lambda x: mapear_colonia_flexible(x, df_codigos_postales))\n",
    "#df[['Colonia_Estandarizada','Colonia']]\n",
    "\n",
    "# Con diccionario disponible\n",
    "# Aplicar la función al DataFrame original\n",
    "sin_codigo_p['Colonia_Estandarizada'] = sin_codigo_p['Colonia'].apply(lambda x: mapear_colonia_flexible(x, df_codigos_postales))\n",
    "print(sin_codigo_p[['tipo_lugar', 'Colonia', 'Colonia_Estandarizada', 'Municipio', 'Estado', 'ubicacion']])"
   ]
  },
  {
   "cell_type": "code",
   "execution_count": null,
   "metadata": {},
   "outputs": [],
   "source": [
    "sin_codigo_p['codigo_postal'] = sin_codigo_p.apply(lambda row: obtener_codigo_postal(row['Colonia_Estandarizada'], row['Municipio'], row['Estado'], df_codigos_postales), axis=1)\n",
    "# Verificar si hay registros sin código postal asignado\n",
    "\n",
    "sin_codigo_postal = sin_codigo_p[sin_codigo_p['codigo_postal'].isna()]\n",
    "Limpios = sin_codigo_p[sin_codigo_p['codigo_postal'].notna()]\n",
    "print(sin_codigo_postal[['Colonia','Municipio','Estado','codigo_postal']])\n",
    "print(sin_codigo_postal.shape)"
   ]
  },
  {
   "cell_type": "markdown",
   "metadata": {},
   "source": [
    "#### 3 Coincidencias parciales"
   ]
  },
  {
   "cell_type": "code",
   "execution_count": null,
   "metadata": {},
   "outputs": [],
   "source": [
    "# Mapear colonias de df_codigos_postales a las colonias de df para estandarizar\n",
    "\n",
    "# Coincidencias exactas\n",
    "#sin_codigo_postal['Colonia_Estandarizada'] = sin_codigo_postal['Colonia'].apply(lambda x: df_codigos_postales[df_codigos_postales['d_asenta'].str.lower() == x.lower()]['d_asenta'].values[0] if not df_codigos_postales[df_codigos_postales['d_asenta'].str.lower() == x.lower()].empty else x)\n",
    "# Coincidencias parciales\n",
    "sin_codigo_postal.loc[:, 'Colonia_Estandarizada'] = sin_codigo_postal['Colonia'].apply(lambda x: df_codigos_postales[df_codigos_postales['d_asenta'].str.contains(x, case=False)]['d_asenta'].values[0] if not df_codigos_postales[df_codigos_postales['d_asenta'].str.contains(x, case=False)].empty else x)\n",
    "print(sin_codigo_postal[['Colonia','Colonia_Estandarizada','Municipio','Estado','ubicacion']].head(40))"
   ]
  },
  {
   "cell_type": "code",
   "execution_count": null,
   "metadata": {},
   "outputs": [],
   "source": [
    "sin_codigo_postal.loc[:, 'codigo_postal'] = sin_codigo_postal.apply(lambda row: obtener_codigo_postal(row['Colonia_Estandarizada'], row['Municipio'], row['Estado'], df_codigos_postales), axis=1)\n",
    "# Verificar si hay registros sin código postal asignado\n",
    "sin_codigo_postal_2 = sin_codigo_postal[sin_codigo_postal['codigo_postal'].isna()]\n",
    "Limpios2 = sin_codigo_postal[sin_codigo_postal['codigo_postal'].notna()]\n",
    "\n",
    "print(sin_codigo_postal_2[['Colonia','Municipio','Estado','codigo_postal']])\n",
    "print(sin_codigo_postal_2.shape)\n",
    "print(Limpios2.shape)"
   ]
  },
  {
   "cell_type": "markdown",
   "metadata": {},
   "source": [
    "#### 4 Números a palabras + Coincidencias parciales"
   ]
  },
  {
   "cell_type": "code",
   "execution_count": null,
   "metadata": {},
   "outputs": [],
   "source": [
    "# Diccionario para convertir números cardinales a palabras\n",
    "numeros_cardinales = {\n",
    "    '1': 'uno',\n",
    "    '2': 'dos',\n",
    "    '3': 'tres',\n",
    "    '4': 'cuatro',\n",
    "    '5': 'cinco',\n",
    "    '6': 'seis',\n",
    "    '7': 'siete',\n",
    "    '8': 'ocho',\n",
    "    '9': 'nueve',\n",
    "    '10': 'diez',\n",
    "}\n",
    "\n",
    "# Diccionario para convertir números ordinales a palabras\n",
    "numeros_ordinales = {\n",
    "    '1ra': 'primera',\n",
    "    '2da': 'segunda',\n",
    "    '3ra': 'tercera',\n",
    "    '4ta': 'cuarta',\n",
    "    '5ta': 'quinta',\n",
    "    '6ta': 'sexta',\n",
    "    '7ma': 'séptima',\n",
    "    '8va': 'octava',\n",
    "    '9na': 'novena',\n",
    "    '10ma': 'décima',\n",
    "    # Agregar más ordinales si es necesario\n",
    "}\n",
    "import re\n",
    "\n",
    "def reemplazar_numeros(colonia):\n",
    "    # Primero reemplazar los ordinales\n",
    "    for num_ord, palabra_ord in numeros_ordinales.items():\n",
    "        colonia = re.sub(rf'\\b{num_ord}\\b', palabra_ord, colonia)\n",
    "    \n",
    "    # Luego reemplazar los números cardinales aislados\n",
    "    for num_card, palabra_card in numeros_cardinales.items():\n",
    "        colonia = re.sub(rf'\\b{num_card}\\b', palabra_card, colonia)\n",
    "    \n",
    "    return colonia\n",
    "\n",
    "# Utilizar .loc para asignar el resultado de la aplicación de la función reemplazar_numeros\n",
    "sin_codigo_postal_2.loc[:, 'Colonia_Estandarizada'] = sin_codigo_postal_2['Colonia'].apply(reemplazar_numeros)\n",
    "sin_codigo_postal_2['Colonia_Estandarizada'].unique()"
   ]
  },
  {
   "cell_type": "code",
   "execution_count": null,
   "metadata": {},
   "outputs": [],
   "source": [
    "sin_codigo_postal_2.loc[:, 'codigo_postal'] = sin_codigo_postal_2.apply(lambda row: obtener_codigo_postal(row['Colonia_Estandarizada'], row['Municipio'], row['Estado'], df_codigos_postales), axis=1)\n",
    "# Verificar si hay registros sin código postal asignado\n",
    "sin_codigo_postal_3 = sin_codigo_postal_2[sin_codigo_postal_2['codigo_postal'].isna()]\n",
    "limpios3 = sin_codigo_postal_2[sin_codigo_postal_2['codigo_postal'].notna()]\n",
    "\n",
    "print(sin_codigo_postal_3[['Colonia','Municipio','Estado','codigo_postal']])\n",
    "print(sin_codigo_postal_3.shape)\n",
    "print(limpios3.shape)"
   ]
  },
  {
   "cell_type": "markdown",
   "metadata": {},
   "source": [
    "#### 5 Limpieza manual, actualizar diccionario"
   ]
  },
  {
   "cell_type": "code",
   "execution_count": null,
   "metadata": {},
   "outputs": [],
   "source": [
    "df_correctos = pd.concat([Limpio, Limpios, Limpios2, limpios3])\n",
    "print(df_correctos.shape)\n",
    "print(df_correctos.info())"
   ]
  },
  {
   "cell_type": "code",
   "execution_count": null,
   "metadata": {},
   "outputs": [],
   "source": [
    "registros_sin_codigo_postal = df[df['codigo_postal'].isna()]\n",
    "shape_df = df.shape[0]\n",
    "correct = df_correctos.shape[0]\n",
    "sin_code = registros_sin_codigo_postal.shape[0]\n",
    "\n",
    "print(\"Total de registros en DF original\",f\"{RED}{shape_df}{RESET}\")\n",
    "print(\"Registros sin código postal en df:\", f'{MAGENTA}{sin_code}{RESET}')\n",
    "\n",
    "print(\"Total de registros en df_correctos:\", f'{BLUE}{correct}{RESET}')\n",
    "print(\"Registros con código postal en df_correctos:\", df_correctos[df_correctos['codigo_postal'].notna()].shape[0])\n",
    "restantes = shape_df - correct\n",
    "print(\"Restantes: \",f'{GREEN}{restantes}{RESET}')"
   ]
  },
  {
   "cell_type": "code",
   "execution_count": null,
   "metadata": {},
   "outputs": [],
   "source": [
    "# Crear un diccionario para almacenar las estandarizaciones previas\n",
    "estandarizaciones_previas = {}\n",
    "# Aplicar colores a los valores \n",
    "def colorize_row(row):\n",
    "    row_colored = row.copy()  # Crear una copia para no modificar el original\n",
    "    row_colored['ubicacion'] = f\"{MAGENTA}{row['ubicacion']}{RESET}\"\n",
    "    row_colored['Colonia_Estandarizada'] = f\"{BLUE}{row['Colonia_Estandarizada']}{RESET}\"\n",
    "    return row_colored\n",
    "# Iterar sobre los registros sin código postal\n",
    "for idx, row in registros_sin_codigo_postal.iterrows():\n",
    "    print(f\"Registro {idx}:\")\n",
    "    print(colorize_row(row)[['ubicacion','Estado','Municipio','Colonia','Colonia_Estandarizada']])\n",
    "    # Verificar si ya existe una estandarización previa para la colonia actual\n",
    "    colonia_actual = row['Colonia']\n",
    "    if colonia_actual in estandarizaciones_previas:\n",
    "        # Si ya existe, usar el valor previo\n",
    "        new_value = estandarizaciones_previas[colonia_actual]\n",
    "        print(f\"Usando estandarización previa para '{colonia_actual}': {new_value}\")\n",
    "    else:\n",
    "        # Solicitar una nueva estandarización si no existe en el diccionario\n",
    "        new_value = input(\"Introduce estandarización de Colonia: \").lower()\n",
    "        estandarizaciones_previas[colonia_actual] = new_value  # Guardar la nueva estandarización\n",
    "    # Asignar el valor estandarizado al DataFrame\n",
    "    registros_sin_codigo_postal.at[idx, 'Colonia_Estandarizada'] = new_value\n",
    "    print(\"Cambio realizado por: \", new_value)\n",
    "    print(\"\\n---\\n\")\n",
    "print(\"Proceso completado.\")"
   ]
  },
  {
   "cell_type": "code",
   "execution_count": null,
   "metadata": {},
   "outputs": [],
   "source": [
    "registros_sin_codigo_postal['codigo_postal'] = registros_sin_codigo_postal.apply(lambda row: obtener_codigo_postal(row['Colonia_Estandarizada'], row['Municipio'], row['Estado'], df_codigos_postales), axis=1)\n",
    "\n",
    "# Verificar si hay registros sin código postal asignado\n",
    "sin_codigo_f = registros_sin_codigo_postal[registros_sin_codigo_postal['codigo_postal'].isna()]\n",
    "Limpio_fin = registros_sin_codigo_postal[registros_sin_codigo_postal['codigo_postal'].notna()]\n",
    "print(sin_codigo_f[['Colonia','Municipio','Estado','codigo_postal']])\n",
    "print(sin_codigo_f.shape)\n",
    "print(Limpio_fin.shape)"
   ]
  },
  {
   "cell_type": "markdown",
   "metadata": {},
   "source": [
    "##### Diccionario"
   ]
  },
  {
   "cell_type": "code",
   "execution_count": null,
   "metadata": {},
   "outputs": [],
   "source": [
    "df_correctos = pd.concat([Limpio, Limpios, Limpios2, limpios3,Limpio_fin])\n",
    "print(df_correctos.shape)\n",
    "print(df_correctos.info())"
   ]
  },
  {
   "cell_type": "code",
   "execution_count": null,
   "metadata": {},
   "outputs": [],
   "source": [
    "# Crear diccionario de 0\n",
    "#df_correctos[['ubicacion','Colonia','Municipio', 'Estado','tipo_lugar','Colonia_Estandarizada', 'codigo_postal']].to_csv('colonias_estandarizadas.csv', index=False, header=True, mode='w', encoding='utf-8')"
   ]
  },
  {
   "cell_type": "code",
   "execution_count": null,
   "metadata": {},
   "outputs": [],
   "source": [
    "# Identificar colonias estandarizadas que no se repiten o ya se encuentran estandarizadas en el diccionario\n",
    "colonias_no_en_diccionario = df_correctos[df_correctos['Colonia_Estandarizada'].apply(lambda x: x not in diccionario)].copy()\n",
    "# Crear un DataFrame de nuevas entradas sin duplicados, manteniendo las columnas del DataFrame original\n",
    "nuevas_entradas = colonias_no_en_diccionario[['ubicacion','Colonia','Municipio', 'Estado','tipo_lugar','Colonia_Estandarizada', 'codigo_postal']].drop_duplicates()\n",
    "\n",
    "# Actualizar el diccionario con las nuevas colonias sin reemplazar las existentes\n",
    "# Excluir entradas vacías antes de la concatenación para evitar el FutureWarning\n",
    "nuevas_entradas_sin_vacios = nuevas_entradas[nuevas_entradas['Colonia_Estandarizada'].notna()]\n",
    "diccionario = pd.concat([diccionario, nuevas_entradas_sin_vacios]).drop_duplicates(keep='first')\n",
    "diccionario"
   ]
  },
  {
   "cell_type": "code",
   "execution_count": null,
   "metadata": {},
   "outputs": [],
   "source": [
    "# Exportar el diccionario actualizado al archivo original, pero sin sobrescribirlo\n",
    "# En su lugar, agregar las nuevas entradas como nuevos registros\n",
    "diccionario.to_csv('colonias_estandarizadas.csv', index=False, header=False, mode='a', encoding='utf-8')"
   ]
  },
  {
   "cell_type": "markdown",
   "metadata": {},
   "source": [
    "#### 6 Asignar códigos postales manualmente"
   ]
  },
  {
   "cell_type": "code",
   "execution_count": null,
   "metadata": {},
   "outputs": [],
   "source": [
    "# Crear un diccionario para almacenar los códigos postales previos\n",
    "codigos_postales_previos = {}\n",
    "# Iterar sobre los registros sin código postal\n",
    "for idx, row in sin_codigo_f.iterrows():\n",
    "    # Verificar si ya existe un código postal previo para la colonia estandarizada actual\n",
    "    colonia_estandarizada_actual = row['Colonia_Estandarizada']\n",
    "    if colonia_estandarizada_actual in codigos_postales_previos:\n",
    "        # Si ya existe, usar el valor previo\n",
    "        new_codigo_postal = codigos_postales_previos[colonia_estandarizada_actual]\n",
    "        print(f\"Usando código postal previo para '{colonia_estandarizada_actual}': {new_codigo_postal}\")\n",
    "    else:\n",
    "        # Solicitar un nuevo código postal si no existe en el diccionario\n",
    "        new_codigo_postal = input(f\"Introduce código postal para '{colonia_estandarizada_actual}': \")\n",
    "        codigos_postales_previos[colonia_estandarizada_actual] = new_codigo_postal  # Guardar el nuevo código postal\n",
    "    # Asignar el código postal al DataFrame\n",
    "    sin_codigo_f.at[idx, 'codigo_postal'] = new_codigo_postal\n",
    "    print(\"Cambio realizado por: \", new_codigo_postal)\n",
    "    print(\"\\n---\\n\")\n",
    "print(\"Proceso completado.\")"
   ]
  },
  {
   "cell_type": "markdown",
   "metadata": {},
   "source": [
    "Identifica que coincidan los datos, para que la estandarización no te haya hecho perder ningún registro"
   ]
  },
  {
   "cell_type": "code",
   "execution_count": null,
   "metadata": {},
   "outputs": [],
   "source": [
    "df_shape = df.shape[0]\n",
    "df_correctos = pd.concat([df_correctos,sin_codigo_f])\n",
    "correct = df_correctos.shape[0]\n",
    "\n",
    "print(f\"{BLUE}ORIGINAL: {df_shape}{RESET}\")\n",
    "print(f\"{GREEN}LIMPIOS FINALES: {correct}{RESET}\")"
   ]
  },
  {
   "cell_type": "markdown",
   "metadata": {},
   "source": [
    "____\n",
    "# 13. Variables oficiales"
   ]
  },
  {
   "cell_type": "code",
   "execution_count": null,
   "metadata": {},
   "outputs": [],
   "source": [
    "df = df_correctos\n",
    "df = df.drop(['denominacion', 'precio_desc','baños_desc','baños_completos','medios_baños',], axis=1, errors='ignore') #'fecha_conversion'"
   ]
  },
  {
   "cell_type": "code",
   "execution_count": null,
   "metadata": {},
   "outputs": [],
   "source": [
    "# Tiempo de publicación limpio:\n",
    "df['tiempo_de_publicacion'] = df['fecha_estandarizada']\n",
    "# Categoría limpia\n",
    "df['categoria'].fillna('', inplace=True)"
   ]
  },
  {
   "cell_type": "markdown",
   "metadata": {},
   "source": [
    "EXTRA"
   ]
  },
  {
   "cell_type": "code",
   "execution_count": null,
   "metadata": {},
   "outputs": [],
   "source": [
    "df['Status'] = 'Venta'\n",
    "df['id'] = range(1, len(df) + 1)"
   ]
  },
  {
   "cell_type": "markdown",
   "metadata": {},
   "source": [
    "ORDEN OFICIAL"
   ]
  },
  {
   "cell_type": "code",
   "execution_count": null,
   "metadata": {},
   "outputs": [],
   "source": [
    "columnas_ordenadas = ['id', 'categoria', 'precio','precio_mxn','precio_usd','fecha_conversion', 'propiedad', 'metros_total', 'metros_construido',\n",
    "                      'precio_m2_terreno', 'precio_m2_construido','tiempo_de_publicacion', 'meses_transcurridos','meses_transcurridos_fecha', 'tipo','Status',\n",
    "                      'estacionamientos', 'recamaras', 'banos', 'medio_banos', 'bano_total','seguridad_privada', 'tipo_lugar','Colonia','Municipio','Estado','CP','ubicacion','url','descripcion']\n",
    "df = df[columnas_ordenadas]"
   ]
  },
  {
   "cell_type": "code",
   "execution_count": null,
   "metadata": {},
   "outputs": [],
   "source": [
    "df.info()"
   ]
  },
  {
   "cell_type": "markdown",
   "metadata": {},
   "source": [
    "# 14. Exportar"
   ]
  },
  {
   "cell_type": "markdown",
   "metadata": {},
   "source": [
    "Cambia el nombre por el que desees en 'archivo'"
   ]
  },
  {
   "cell_type": "code",
   "execution_count": null,
   "metadata": {},
   "outputs": [],
   "source": [
    "import os\n",
    "\n",
    "archivo = 'nombre_del_archivo'  # Nombre de archivo a exportar\n",
    "ext = '.csv'  # Extensión del archivo\n",
    "ciudad = ''  # Nombre de la ciudad en minúscula\n",
    "\n",
    "ruta = os.path.join('..', 'ciudades', ciudad, 'clean')\n",
    "if not os.path.exists(ruta):\n",
    "    os.makedirs(ruta)\n",
    "\n",
    "archivo_export = os.path.join(ruta, archivo + ext)\n",
    "\n",
    "# Exportar el DataFrame a la ruta y archivo creados\n",
    "df.to_csv(archivo_export, encoding='utf-8', index=False)\n",
    "print(f\"Archivo guardado en: {archivo_export}\")"
   ]
  }
 ],
 "metadata": {
  "language_info": {
   "name": "python"
  }
 },
 "nbformat": 4,
 "nbformat_minor": 2
}
