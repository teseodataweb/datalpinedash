{
 "cells": [
  {
   "cell_type": "markdown",
   "metadata": {},
   "source": [
    "# **Scrapining**"
   ]
  },
  {
   "cell_type": "code",
   "execution_count": null,
   "metadata": {},
   "outputs": [],
   "source": [
    "import pandas as pd # Manipulación df\n",
    "import os # Directorios\n",
    "import re # Manipulación de cadenas de texto (expresiones regulares)\n",
    "import unicodedata # Función para eliminar acentos\n",
    "from datetime import datetime, date  # Para trabajar con fechas y horas\n",
    "from currency_converter import CurrencyConverter # convertidor de monedas\n",
    "from dateutil.relativedelta import relativedelta  # Para calcular diferencias entre fechas, incluyendo años, meses y días\n",
    "# Mapear coincidencia\n",
    "from fuzzywuzzy import process\n",
    "from fuzzywuzzy import fuzz \n",
    "# Instalar python-Levenshtein para mejorar el rendimiento de SequenceMatcher\n",
    "import Levenshtein"
   ]
  },
  {
   "cell_type": "code",
   "execution_count": null,
   "metadata": {},
   "outputs": [],
   "source": [
    "# ESTILO DE IMPRESIONES\n",
    "\n",
    "# Colores ANSI\n",
    "BLACK = \"\\033[90m\"\n",
    "RED = \"\\033[91m\"\n",
    "GREEN = \"\\033[92m\"\n",
    "YELLOW = \"\\033[93m\"\n",
    "BLUE = \"\\033[94m\"\n",
    "MAGENTA = \"\\033[95m\"\n",
    "CYAN = \"\\033[96m\"\n",
    "WHITE = \"\\033[97m\"\n",
    "RESET = \"\\033[0m\"  # Restablecer el color por defecto\n",
    "# Estilos de texto\n",
    "BOLD = \"\\033[1m\"\n",
    "UNDERLINE = \"\\033[4m\"\n",
    "BLINK = \"\\033[5m\"\n",
    "REVERSE = \"\\033[7m\"  # Invertir colores (fondo y texto)"
   ]
  },
  {
   "cell_type": "markdown",
   "metadata": {},
   "source": [
    "# 1. Importación de datos"
   ]
  },
  {
   "cell_type": "markdown",
   "metadata": {},
   "source": [
    "Definir la ruta relativa al archivo, incluyendo la extensión"
   ]
  },
  {
   "cell_type": "code",
   "execution_count": null,
   "metadata": {},
   "outputs": [],
   "source": [
    "directorio_actual = os.getcwd() # Directorio actual de trabajo\n",
    "# Ruta relativa al archivo, incluye extensión\n",
    "archivo_filename = \"C:\\\\xampp\\\\htdocs\\\\datalpine\\\\resources\\\\db\\\\data\\\\Vallarta\\\\Original\\\\lamudi-Bahia-de-Balderas_Inmuebles_Septiembre 2024.csv\"\n",
    "archivo_dir = os.path.join(directorio_actual)\n",
    "archivo_path = os.path.join(archivo_dir, archivo_filename)"
   ]
  },
  {
   "cell_type": "markdown",
   "metadata": {},
   "source": [
    "Elige el tipo de archivo a leer"
   ]
  },
  {
   "cell_type": "code",
   "execution_count": null,
   "metadata": {},
   "outputs": [],
   "source": [
    "# Intentar leer el archivo con codificación utf-8, si falla, intentar con latin-1\n",
    "try:\n",
    "    df = pd.read_csv(archivo_path, encoding='utf-8')\n",
    "except UnicodeDecodeError:\n",
    "    df = pd.read_csv(archivo_path, encoding='latin-1')\n",
    "df.info()"
   ]
  },
  {
   "cell_type": "markdown",
   "metadata": {},
   "source": [
    "Limpieza de nulos\n",
    "Sólo en caso de que el scraping no haya llenado los datos faltantes correctamente."
   ]
  },
  {
   "cell_type": "code",
   "execution_count": null,
   "metadata": {},
   "outputs": [],
   "source": [
    "df.fillna({'precio': 0}, inplace=True) \n",
    "df.fillna({'denominacion': ''}, inplace=True) \n",
    "df.fillna({'propiedad': 'Propiedad sin título'}, inplace=True) \n",
    "df.fillna({'metros_total': 0}, inplace=True) \n",
    "df.fillna({'metros_construido': 0}, inplace=True) \n",
    "#df.fillna({'tiempo_de_publicacion': ''}, inplace=True) \n",
    "df.fillna({'tipo': 'Propiedad sin tipo de casa'}, inplace=True) \n",
    "df.fillna({'estacionamientos': 0}, inplace=True) \n",
    "df.fillna({'recamaras': 0}, inplace=True) \n",
    "df.fillna({'banos': 0}, inplace=True) \n",
    "df.fillna({'medio_banos': 0}, inplace=True) \n",
    "df.fillna({'seguridad_privada': 'No'}, inplace=True) \n",
    "df.fillna({'ubicacion': 'Propiedad sin ubicación'}, inplace=True) \n",
    "df.fillna({'url': '-'}, inplace=True) \n",
    "df.fillna({'descripcion': \"Propiedad sin descripcion\"}, inplace=True) "
   ]
  }
 ],
 "metadata": {
  "language_info": {
   "name": "python"
  }
 },
 "nbformat": 4,
 "nbformat_minor": 2
}
