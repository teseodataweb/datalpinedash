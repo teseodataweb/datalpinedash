{
 "cells": [
  {
   "cell_type": "markdown",
   "metadata": {},
   "source": [
    "# ***3.1 Forecast Precio media anual 2026.***"
   ]
  },
  {
   "cell_type": "code",
   "execution_count": 1,
   "metadata": {},
   "outputs": [],
   "source": [
    "# Manejo de datos\n",
    "import os # Directorios\n",
    "import pandas as pd # Manipulación df\n",
    "# Gráficas\n",
    "import plotly.graph_objects as go #Para obtener librería usar: pip install plotly\n",
    "from plotly.subplots import make_subplots\n",
    "import plotly.io as pio # Exportar gráfica"
   ]
  },
  {
   "cell_type": "code",
   "execution_count": 2,
   "metadata": {},
   "outputs": [],
   "source": [
    "# Obtener el directorio actual de trabajo\n",
    "directorio_actual = os.getcwd()\n",
    "# Directorio donde se encuentran los archivos JSON (ruta relativa)\n",
    "directorio_json = os.path.join(directorio_actual, 'datos_json')\n",
    "#print(\"Directorio JSON relativo:\", directorio_json)\n",
    "# Obtener la lista de archivos JSON en el directorio\n",
    "archivos_json = os.listdir(directorio_json)"
   ]
  },
  {
   "cell_type": "code",
   "execution_count": 3,
   "metadata": {},
   "outputs": [],
   "source": [
    "dataframes = {}\n",
    "# Iterar sobre cada archivo JSON y crear un DataFrame\n",
    "for archivo in archivos_json:\n",
    "    # Obtener el nombre de la tabla del nombre del archivo\n",
    "    nombre_tabla = archivo.replace('datos_', '').replace('.json', '')    \n",
    "    # Cargar el archivo JSON en un DataFrame y asignarlo a una variable con un nombre dinámico\n",
    "    ruta_json = os.path.join(directorio_json, archivo)\n",
    "    globals()[f\"df_{nombre_tabla}\"] = pd.read_json(ruta_json)"
   ]
  },
  {
   "cell_type": "code",
   "execution_count": 8,
   "metadata": {},
   "outputs": [
    {
     "name": "stdout",
     "output_type": "stream",
     "text": [
      "Lista de DataFrames creados:\n",
      "['df_alfa_q_feb_2023_pachuca', 'df_alfa_q_jul_2022_tulancingo', 'df_alfa_q_jul_2023_pachuca', 'df_alfa_q_jul_2023_tulancingo', 'df_alfa_q_jun_2023_pachuca', 'df_alfa_q_jun_2023_tulancingo', 'df_alfa_q_mar_2023_pachuca', 'df_alfa_q_mar_2023_tulancingo', 'df_alfa_q_may_2022_tulancingo', 'df_alfa_q_may_2023_tulancingo', 'df_alfa_q_nov_2022_pachuca', 'df_alfa_q_oct_2022_pachuca', 'df_alfa_q_oct_2022_tulancingo', 'df_alfa_q_oct_2023_tulancingo', 'df_alfa_q_sep_2023_pachuca', 'df_alfa_q_sep_2023_tulancingo', 'df_enero_2024_querertaro', 'df_financiamientos_2019_pachuca', 'df_financiamientos_2019_tulancingo', 'df_financiamientos_2020_pachuca', 'df_financiamientos_2020_tulancingo', 'df_financiamientos_2021_pachuca', 'df_financiamientos_2021_tulancingo', 'df_financiamientos_2022_pachuca', 'df_financiamientos_2022_tulancingo', 'df_financiamientos_2023_pachuca', 'df_financiamientos_2023_tulancingo', 'df_grupos_edad_pachuca', 'df_grupos_edad_queretaro', 'df_grupos_edad_tulancingo', 'df_junio_2023_queretaro', 'df_publicacion_pachuca', 'df_salarios_pachuca', 'df_usuarios']\n"
     ]
    }
   ],
   "source": [
    "# Obtener todos los nombres de las variables globales\n",
    "nombres_variables_globales = list(globals().keys())\n",
    "# Filtrar los nombres, solo aquellos que comienzan con \"df_\"\n",
    "nombres_df = [nombre for nombre in nombres_variables_globales if nombre.startswith(\"df_\")]\n",
    "\n",
    "# Lista de nombres de los DataFrames creados\n",
    "print(\"Lista de DataFrames creados:\")\n",
    "print(nombres_df)"
   ]
  },
  {
   "cell_type": "markdown",
   "metadata": {},
   "source": [
    "___\n",
    "# **PACHUCA**\n",
    "### *Mediante datos directos*\n"
   ]
  },
  {
   "cell_type": "code",
   "execution_count": 25,
   "metadata": {},
   "outputs": [
    {
     "data": {
      "text/html": [
       "<div>\n",
       "<style scoped>\n",
       "    .dataframe tbody tr th:only-of-type {\n",
       "        vertical-align: middle;\n",
       "    }\n",
       "\n",
       "    .dataframe tbody tr th {\n",
       "        vertical-align: top;\n",
       "    }\n",
       "\n",
       "    .dataframe thead th {\n",
       "        text-align: right;\n",
       "    }\n",
       "</style>\n",
       "<table border=\"1\" class=\"dataframe\">\n",
       "  <thead>\n",
       "    <tr style=\"text-align: right;\">\n",
       "      <th></th>\n",
       "      <th>año</th>\n",
       "      <th>promedio</th>\n",
       "    </tr>\n",
       "  </thead>\n",
       "  <tbody>\n",
       "    <tr>\n",
       "      <th>0</th>\n",
       "      <td>2022</td>\n",
       "      <td>2,220,039.00</td>\n",
       "    </tr>\n",
       "    <tr>\n",
       "      <th>1</th>\n",
       "      <td>2023</td>\n",
       "      <td>2,039,843.00</td>\n",
       "    </tr>\n",
       "    <tr>\n",
       "      <th>2</th>\n",
       "      <td>2024</td>\n",
       "      <td>2,224,331.26</td>\n",
       "    </tr>\n",
       "    <tr>\n",
       "      <th>3</th>\n",
       "      <td>2025</td>\n",
       "      <td>2,425,505.09</td>\n",
       "    </tr>\n",
       "    <tr>\n",
       "      <th>4</th>\n",
       "      <td>2026</td>\n",
       "      <td>2,644,873.55</td>\n",
       "    </tr>\n",
       "  </tbody>\n",
       "</table>\n",
       "</div>"
      ],
      "text/plain": [
       "    año     promedio\n",
       "0  2022 2,220,039.00\n",
       "1  2023 2,039,843.00\n",
       "2  2024 2,224,331.26\n",
       "3  2025 2,425,505.09\n",
       "4  2026 2,644,873.55"
      ]
     },
     "execution_count": 25,
     "metadata": {},
     "output_type": "execute_result"
    }
   ],
   "source": [
    "datos_directos = {\n",
    "    'año': [2022, 2023, 2024, 2025, 2026],\n",
    "    'promedio': [2220039.00, 2039843.00, 2224331.26, 2425505.09, 2644873.55]\n",
    "}\n",
    "# Crear DataFrame\n",
    "direct_data = pd.DataFrame(datos_directos)\n",
    "direct_data"
   ]
  },
  {
   "cell_type": "code",
   "execution_count": 26,
   "metadata": {},
   "outputs": [
    {
     "data": {
      "application/vnd.plotly.v1+json": {
       "config": {
        "plotlyServerURL": "https://plot.ly"
       },
       "data": [
        {
         "marker": {
          "color": "blue"
         },
         "mode": "markers+lines",
         "type": "scatter",
         "x": [
          2022,
          2023,
          2024,
          2025,
          2026
         ],
         "y": [
          2220039,
          2039843,
          2224331.26,
          2425505.09,
          2644873.55
         ]
        }
       ],
       "layout": {
        "annotations": [
         {
          "font": {
           "color": "black",
           "size": 12
          },
          "showarrow": false,
          "text": "$2,220,039.00",
          "textangle": 0,
          "x": 2022,
          "xshift": 0,
          "y": 2220039,
          "yshift": 17
         },
         {
          "font": {
           "color": "black",
           "size": 12
          },
          "showarrow": false,
          "text": "$2,039,843.00",
          "textangle": 0,
          "x": 2023,
          "xshift": 0,
          "y": 2039843,
          "yshift": 17
         },
         {
          "font": {
           "color": "black",
           "size": 12
          },
          "showarrow": false,
          "text": "$2,224,331.26",
          "textangle": 0,
          "x": 2024,
          "xshift": 0,
          "y": 2224331.26,
          "yshift": 17
         },
         {
          "font": {
           "color": "black",
           "size": 12
          },
          "showarrow": false,
          "text": "$2,425,505.09",
          "textangle": 0,
          "x": 2025,
          "xshift": 0,
          "y": 2425505.09,
          "yshift": 17
         },
         {
          "font": {
           "color": "black",
           "size": 12
          },
          "showarrow": false,
          "text": "$2,644,873.55",
          "textangle": 0,
          "x": 2026,
          "xshift": 0,
          "y": 2644873.55,
          "yshift": 17
         }
        ],
        "plot_bgcolor": "rgba(0,0,0,0)",
        "template": {
         "data": {
          "bar": [
           {
            "error_x": {
             "color": "#2a3f5f"
            },
            "error_y": {
             "color": "#2a3f5f"
            },
            "marker": {
             "line": {
              "color": "#E5ECF6",
              "width": 0.5
             },
             "pattern": {
              "fillmode": "overlay",
              "size": 10,
              "solidity": 0.2
             }
            },
            "type": "bar"
           }
          ],
          "barpolar": [
           {
            "marker": {
             "line": {
              "color": "#E5ECF6",
              "width": 0.5
             },
             "pattern": {
              "fillmode": "overlay",
              "size": 10,
              "solidity": 0.2
             }
            },
            "type": "barpolar"
           }
          ],
          "carpet": [
           {
            "aaxis": {
             "endlinecolor": "#2a3f5f",
             "gridcolor": "white",
             "linecolor": "white",
             "minorgridcolor": "white",
             "startlinecolor": "#2a3f5f"
            },
            "baxis": {
             "endlinecolor": "#2a3f5f",
             "gridcolor": "white",
             "linecolor": "white",
             "minorgridcolor": "white",
             "startlinecolor": "#2a3f5f"
            },
            "type": "carpet"
           }
          ],
          "choropleth": [
           {
            "colorbar": {
             "outlinewidth": 0,
             "ticks": ""
            },
            "type": "choropleth"
           }
          ],
          "contour": [
           {
            "colorbar": {
             "outlinewidth": 0,
             "ticks": ""
            },
            "colorscale": [
             [
              0,
              "#0d0887"
             ],
             [
              0.1111111111111111,
              "#46039f"
             ],
             [
              0.2222222222222222,
              "#7201a8"
             ],
             [
              0.3333333333333333,
              "#9c179e"
             ],
             [
              0.4444444444444444,
              "#bd3786"
             ],
             [
              0.5555555555555556,
              "#d8576b"
             ],
             [
              0.6666666666666666,
              "#ed7953"
             ],
             [
              0.7777777777777778,
              "#fb9f3a"
             ],
             [
              0.8888888888888888,
              "#fdca26"
             ],
             [
              1,
              "#f0f921"
             ]
            ],
            "type": "contour"
           }
          ],
          "contourcarpet": [
           {
            "colorbar": {
             "outlinewidth": 0,
             "ticks": ""
            },
            "type": "contourcarpet"
           }
          ],
          "heatmap": [
           {
            "colorbar": {
             "outlinewidth": 0,
             "ticks": ""
            },
            "colorscale": [
             [
              0,
              "#0d0887"
             ],
             [
              0.1111111111111111,
              "#46039f"
             ],
             [
              0.2222222222222222,
              "#7201a8"
             ],
             [
              0.3333333333333333,
              "#9c179e"
             ],
             [
              0.4444444444444444,
              "#bd3786"
             ],
             [
              0.5555555555555556,
              "#d8576b"
             ],
             [
              0.6666666666666666,
              "#ed7953"
             ],
             [
              0.7777777777777778,
              "#fb9f3a"
             ],
             [
              0.8888888888888888,
              "#fdca26"
             ],
             [
              1,
              "#f0f921"
             ]
            ],
            "type": "heatmap"
           }
          ],
          "heatmapgl": [
           {
            "colorbar": {
             "outlinewidth": 0,
             "ticks": ""
            },
            "colorscale": [
             [
              0,
              "#0d0887"
             ],
             [
              0.1111111111111111,
              "#46039f"
             ],
             [
              0.2222222222222222,
              "#7201a8"
             ],
             [
              0.3333333333333333,
              "#9c179e"
             ],
             [
              0.4444444444444444,
              "#bd3786"
             ],
             [
              0.5555555555555556,
              "#d8576b"
             ],
             [
              0.6666666666666666,
              "#ed7953"
             ],
             [
              0.7777777777777778,
              "#fb9f3a"
             ],
             [
              0.8888888888888888,
              "#fdca26"
             ],
             [
              1,
              "#f0f921"
             ]
            ],
            "type": "heatmapgl"
           }
          ],
          "histogram": [
           {
            "marker": {
             "pattern": {
              "fillmode": "overlay",
              "size": 10,
              "solidity": 0.2
             }
            },
            "type": "histogram"
           }
          ],
          "histogram2d": [
           {
            "colorbar": {
             "outlinewidth": 0,
             "ticks": ""
            },
            "colorscale": [
             [
              0,
              "#0d0887"
             ],
             [
              0.1111111111111111,
              "#46039f"
             ],
             [
              0.2222222222222222,
              "#7201a8"
             ],
             [
              0.3333333333333333,
              "#9c179e"
             ],
             [
              0.4444444444444444,
              "#bd3786"
             ],
             [
              0.5555555555555556,
              "#d8576b"
             ],
             [
              0.6666666666666666,
              "#ed7953"
             ],
             [
              0.7777777777777778,
              "#fb9f3a"
             ],
             [
              0.8888888888888888,
              "#fdca26"
             ],
             [
              1,
              "#f0f921"
             ]
            ],
            "type": "histogram2d"
           }
          ],
          "histogram2dcontour": [
           {
            "colorbar": {
             "outlinewidth": 0,
             "ticks": ""
            },
            "colorscale": [
             [
              0,
              "#0d0887"
             ],
             [
              0.1111111111111111,
              "#46039f"
             ],
             [
              0.2222222222222222,
              "#7201a8"
             ],
             [
              0.3333333333333333,
              "#9c179e"
             ],
             [
              0.4444444444444444,
              "#bd3786"
             ],
             [
              0.5555555555555556,
              "#d8576b"
             ],
             [
              0.6666666666666666,
              "#ed7953"
             ],
             [
              0.7777777777777778,
              "#fb9f3a"
             ],
             [
              0.8888888888888888,
              "#fdca26"
             ],
             [
              1,
              "#f0f921"
             ]
            ],
            "type": "histogram2dcontour"
           }
          ],
          "mesh3d": [
           {
            "colorbar": {
             "outlinewidth": 0,
             "ticks": ""
            },
            "type": "mesh3d"
           }
          ],
          "parcoords": [
           {
            "line": {
             "colorbar": {
              "outlinewidth": 0,
              "ticks": ""
             }
            },
            "type": "parcoords"
           }
          ],
          "pie": [
           {
            "automargin": true,
            "type": "pie"
           }
          ],
          "scatter": [
           {
            "fillpattern": {
             "fillmode": "overlay",
             "size": 10,
             "solidity": 0.2
            },
            "type": "scatter"
           }
          ],
          "scatter3d": [
           {
            "line": {
             "colorbar": {
              "outlinewidth": 0,
              "ticks": ""
             }
            },
            "marker": {
             "colorbar": {
              "outlinewidth": 0,
              "ticks": ""
             }
            },
            "type": "scatter3d"
           }
          ],
          "scattercarpet": [
           {
            "marker": {
             "colorbar": {
              "outlinewidth": 0,
              "ticks": ""
             }
            },
            "type": "scattercarpet"
           }
          ],
          "scattergeo": [
           {
            "marker": {
             "colorbar": {
              "outlinewidth": 0,
              "ticks": ""
             }
            },
            "type": "scattergeo"
           }
          ],
          "scattergl": [
           {
            "marker": {
             "colorbar": {
              "outlinewidth": 0,
              "ticks": ""
             }
            },
            "type": "scattergl"
           }
          ],
          "scattermapbox": [
           {
            "marker": {
             "colorbar": {
              "outlinewidth": 0,
              "ticks": ""
             }
            },
            "type": "scattermapbox"
           }
          ],
          "scatterpolar": [
           {
            "marker": {
             "colorbar": {
              "outlinewidth": 0,
              "ticks": ""
             }
            },
            "type": "scatterpolar"
           }
          ],
          "scatterpolargl": [
           {
            "marker": {
             "colorbar": {
              "outlinewidth": 0,
              "ticks": ""
             }
            },
            "type": "scatterpolargl"
           }
          ],
          "scatterternary": [
           {
            "marker": {
             "colorbar": {
              "outlinewidth": 0,
              "ticks": ""
             }
            },
            "type": "scatterternary"
           }
          ],
          "surface": [
           {
            "colorbar": {
             "outlinewidth": 0,
             "ticks": ""
            },
            "colorscale": [
             [
              0,
              "#0d0887"
             ],
             [
              0.1111111111111111,
              "#46039f"
             ],
             [
              0.2222222222222222,
              "#7201a8"
             ],
             [
              0.3333333333333333,
              "#9c179e"
             ],
             [
              0.4444444444444444,
              "#bd3786"
             ],
             [
              0.5555555555555556,
              "#d8576b"
             ],
             [
              0.6666666666666666,
              "#ed7953"
             ],
             [
              0.7777777777777778,
              "#fb9f3a"
             ],
             [
              0.8888888888888888,
              "#fdca26"
             ],
             [
              1,
              "#f0f921"
             ]
            ],
            "type": "surface"
           }
          ],
          "table": [
           {
            "cells": {
             "fill": {
              "color": "#EBF0F8"
             },
             "line": {
              "color": "white"
             }
            },
            "header": {
             "fill": {
              "color": "#C8D4E3"
             },
             "line": {
              "color": "white"
             }
            },
            "type": "table"
           }
          ]
         },
         "layout": {
          "annotationdefaults": {
           "arrowcolor": "#2a3f5f",
           "arrowhead": 0,
           "arrowwidth": 1
          },
          "autotypenumbers": "strict",
          "coloraxis": {
           "colorbar": {
            "outlinewidth": 0,
            "ticks": ""
           }
          },
          "colorscale": {
           "diverging": [
            [
             0,
             "#8e0152"
            ],
            [
             0.1,
             "#c51b7d"
            ],
            [
             0.2,
             "#de77ae"
            ],
            [
             0.3,
             "#f1b6da"
            ],
            [
             0.4,
             "#fde0ef"
            ],
            [
             0.5,
             "#f7f7f7"
            ],
            [
             0.6,
             "#e6f5d0"
            ],
            [
             0.7,
             "#b8e186"
            ],
            [
             0.8,
             "#7fbc41"
            ],
            [
             0.9,
             "#4d9221"
            ],
            [
             1,
             "#276419"
            ]
           ],
           "sequential": [
            [
             0,
             "#0d0887"
            ],
            [
             0.1111111111111111,
             "#46039f"
            ],
            [
             0.2222222222222222,
             "#7201a8"
            ],
            [
             0.3333333333333333,
             "#9c179e"
            ],
            [
             0.4444444444444444,
             "#bd3786"
            ],
            [
             0.5555555555555556,
             "#d8576b"
            ],
            [
             0.6666666666666666,
             "#ed7953"
            ],
            [
             0.7777777777777778,
             "#fb9f3a"
            ],
            [
             0.8888888888888888,
             "#fdca26"
            ],
            [
             1,
             "#f0f921"
            ]
           ],
           "sequentialminus": [
            [
             0,
             "#0d0887"
            ],
            [
             0.1111111111111111,
             "#46039f"
            ],
            [
             0.2222222222222222,
             "#7201a8"
            ],
            [
             0.3333333333333333,
             "#9c179e"
            ],
            [
             0.4444444444444444,
             "#bd3786"
            ],
            [
             0.5555555555555556,
             "#d8576b"
            ],
            [
             0.6666666666666666,
             "#ed7953"
            ],
            [
             0.7777777777777778,
             "#fb9f3a"
            ],
            [
             0.8888888888888888,
             "#fdca26"
            ],
            [
             1,
             "#f0f921"
            ]
           ]
          },
          "colorway": [
           "#636efa",
           "#EF553B",
           "#00cc96",
           "#ab63fa",
           "#FFA15A",
           "#19d3f3",
           "#FF6692",
           "#B6E880",
           "#FF97FF",
           "#FECB52"
          ],
          "font": {
           "color": "#2a3f5f"
          },
          "geo": {
           "bgcolor": "white",
           "lakecolor": "white",
           "landcolor": "#E5ECF6",
           "showlakes": true,
           "showland": true,
           "subunitcolor": "white"
          },
          "hoverlabel": {
           "align": "left"
          },
          "hovermode": "closest",
          "mapbox": {
           "style": "light"
          },
          "paper_bgcolor": "white",
          "plot_bgcolor": "#E5ECF6",
          "polar": {
           "angularaxis": {
            "gridcolor": "white",
            "linecolor": "white",
            "ticks": ""
           },
           "bgcolor": "#E5ECF6",
           "radialaxis": {
            "gridcolor": "white",
            "linecolor": "white",
            "ticks": ""
           }
          },
          "scene": {
           "xaxis": {
            "backgroundcolor": "#E5ECF6",
            "gridcolor": "white",
            "gridwidth": 2,
            "linecolor": "white",
            "showbackground": true,
            "ticks": "",
            "zerolinecolor": "white"
           },
           "yaxis": {
            "backgroundcolor": "#E5ECF6",
            "gridcolor": "white",
            "gridwidth": 2,
            "linecolor": "white",
            "showbackground": true,
            "ticks": "",
            "zerolinecolor": "white"
           },
           "zaxis": {
            "backgroundcolor": "#E5ECF6",
            "gridcolor": "white",
            "gridwidth": 2,
            "linecolor": "white",
            "showbackground": true,
            "ticks": "",
            "zerolinecolor": "white"
           }
          },
          "shapedefaults": {
           "line": {
            "color": "#2a3f5f"
           }
          },
          "ternary": {
           "aaxis": {
            "gridcolor": "white",
            "linecolor": "white",
            "ticks": ""
           },
           "baxis": {
            "gridcolor": "white",
            "linecolor": "white",
            "ticks": ""
           },
           "bgcolor": "#E5ECF6",
           "caxis": {
            "gridcolor": "white",
            "linecolor": "white",
            "ticks": ""
           }
          },
          "title": {
           "x": 0.05
          },
          "xaxis": {
           "automargin": true,
           "gridcolor": "white",
           "linecolor": "white",
           "ticks": "",
           "title": {
            "standoff": 15
           },
           "zerolinecolor": "white",
           "zerolinewidth": 2
          },
          "yaxis": {
           "automargin": true,
           "gridcolor": "white",
           "linecolor": "white",
           "ticks": "",
           "title": {
            "standoff": 15
           },
           "zerolinecolor": "white",
           "zerolinewidth": 2
          }
         }
        },
        "title": {
         "text": "Precio Media Anual"
        },
        "xaxis": {
         "gridcolor": "#dddcda",
         "tickmode": "array",
         "ticktext": [
          2022,
          2023,
          2024,
          2025,
          2026
         ],
         "tickvals": [
          2022,
          2023,
          2024,
          2025,
          2026
         ]
        },
        "yaxis": {
         "gridcolor": "#dddcda",
         "gridwidth": 1,
         "range": [
          0,
          4000000
         ],
         "ticktext": [
          "$0",
          "$1,000,000",
          "$2,000,000",
          "$3,000,000",
          "$4,000,000"
         ],
         "tickvals": [
          0,
          1000000,
          2000000,
          3000000
         ]
        }
       }
      }
     },
     "metadata": {},
     "output_type": "display_data"
    }
   ],
   "source": [
    "# Datos\n",
    "año = direct_data['año']\n",
    "promedio = direct_data['promedio']\n",
    "\n",
    "fig = go.Figure()\n",
    "fig.add_trace(go.Scatter(\n",
    "    x=año,\n",
    "    y=promedio,\n",
    "    mode='markers+lines',\n",
    "    marker=dict(color='blue'),\n",
    "))\n",
    "# Agregar anotaciones para mostrar los valores encima de los puntos\n",
    "for a, p in zip(año, promedio):\n",
    "    fig.add_annotation(\n",
    "        x=a,\n",
    "        y=p,\n",
    "        text=f\"${p:,.2f}\",  # Formatear el valor del promedio como moneda\n",
    "        showarrow=False,\n",
    "        font=dict(color='black', size=12),\n",
    "        xshift=0,\n",
    "        yshift=17,\n",
    "        textangle=0\n",
    "    )\n",
    "# Actualizar diseño\n",
    "fig.update_layout(\n",
    "    title='Precio Media Anual',\n",
    "    yaxis=dict(\n",
    "        range=[-0, 4000000],  # Establecer el rango del eje y\n",
    "        tickvals=[0, 1000000, 2000000, 3000000],  # Definir los valores de las marcas en el eje y\n",
    "        ticktext=['$0', '$1,000,000', '$2,000,000', '$3,000,000', '$4,000,000'],  # Definir el texto de las marcas en el eje y\n",
    "        gridcolor='#dddcda',  # Color de las líneas de la cuadrícula\n",
    "        gridwidth=1  # Ancho de las líneas de la cuadrícula\n",
    "    ),\n",
    "    xaxis=dict(\n",
    "        gridcolor='#dddcda', \n",
    "        tickmode='array',\n",
    "        tickvals=año,\n",
    "        ticktext=año\n",
    "    ),\n",
    "    plot_bgcolor='rgba(0,0,0,0)'\n",
    ")\n",
    "# Exportar gráfica como archivo HTML\n",
    "def guardar_grafico_como_html(fig, nombre_archivo, carpeta='graficas'):\n",
    "    # Crear la carpeta si no existe\n",
    "    if not os.path.exists(carpeta):\n",
    "        os.makedirs(carpeta)\n",
    "    \n",
    "    # Gráfica como archivo HTML en la carpeta especificada\n",
    "    pio.write_html(fig, f'{carpeta}/{nombre_archivo}.html')\n",
    "\n",
    "guardar_grafico_como_html(fig, 'g_scatt_preciomediaanual_direct_pachuca', carpeta='graficas')\n",
    "fig.show()\n"
   ]
  },
  {
   "cell_type": "markdown",
   "metadata": {},
   "source": [
    "# *Identificamos columnas relevantes*"
   ]
  },
  {
   "cell_type": "code",
   "execution_count": 27,
   "metadata": {},
   "outputs": [
    {
     "name": "stdout",
     "output_type": "stream",
     "text": [
      "OCTUBRE 2022\n",
      "Index(['id', 'q', 'categoria', 'ids', 'propiedad', 'precio', 'm2_total',\n",
      "       'm2_contruido', 'precio_m2_contruido', 'precio_m2_terreno',\n",
      "       'publicado_hace', 'personas_interesadas', 'status', 'tipo',\n",
      "       'estacionamiento', 'recamaras', 'baño', 'medio_baño', 'baño_total',\n",
      "       'cantidad_pisos', 'antiguedad', 'seguridad_privada', 'fraccionamiento',\n",
      "       'colonia', 'cp', 'url'],\n",
      "      dtype='object')\n",
      "NOVIEMBRE 2022\n",
      "Index(['id', 'categoria', 'ids', 'propiedad', 'precio', 'm2_total',\n",
      "       'm2_contruido', 'precio_m2_contruido', 'precio_m2_terreno',\n",
      "       'publicado_hace', 'personas_interesadas', 'promedio', 'status', 'tipo',\n",
      "       'estacionamiento', 'recamaras', 'baño', 'medio_baño', 'baño_total',\n",
      "       'cantidad_piso', 'antiguedad', 'seguridad', 'fraccionamiento',\n",
      "       'colonia', 'cp', 'url'],\n",
      "      dtype='object')\n",
      "FEBRERO 2023\n",
      "Index(['id', 'categoria', 'ids', 'propiedad', 'precio', 'tipo',\n",
      "       'personas_interesadas', 'm2_total', 'm2_contruido',\n",
      "       'precio_m2_contruido', 'precio_m2_terreno', 'promedio', 'baño',\n",
      "       'medio_baño', 'baño_total', 'estacionamiento', 'recamaras',\n",
      "       'antiguedad', 'publicado_hace', 'status'],\n",
      "      dtype='object')\n",
      "MAR 2023\n",
      "Index(['id', 'q', 'categoria', 'ids', 'propiedad', 'precio', 'm2_total',\n",
      "       'm2_contruido', 'precio_m2_terreno', 'precio_m2_contruido',\n",
      "       'personas_interesadas', 'publicado_hace', 'promedio', 'status', 'tipo',\n",
      "       'estacionamiento', 'recamaras', 'baño', 'medio_baño', 'baño_total',\n",
      "       'cantidad_piso', 'antiguedad', 'fraccionamiento', 'colonia', 'cp',\n",
      "       'url'],\n",
      "      dtype='object')\n",
      "JUNIO 2023\n",
      "Index(['id', 'q', 'categoria', 'ids', 'propiedad', 'precio', 'm2_total',\n",
      "       'm2_contruido', 'precio_m2_terreno', 'precio_m2_contruido',\n",
      "       'personas_interesadas', 'publicado_hace', 'promedio', 'status', 'tipo',\n",
      "       'estacionamiento', 'recamaras', 'baño', 'medio_baño', 'baño_total',\n",
      "       'cantidad_piso', 'antiguedad', 'seguridad', 'fraccionamiento',\n",
      "       'colonia', 'cp', 'url'],\n",
      "      dtype='object')\n",
      "JULIO 2023\n",
      "Index(['id', 'q', 'categoria', 'ids', 'propiedad', 'precio', 'm2_total',\n",
      "       'm2_contruido', 'precio_m2_terreno', 'precio_m2_contruido',\n",
      "       'publicado_hace', 'personas_interesadas', 'promedio', 'status', 'tipo',\n",
      "       'estacionamiento', 'recamaras', 'baño', 'medio_baño', 'baño_total',\n",
      "       'seguridad', 'fraccionamiento', 'colonia', 'cp', 'url'],\n",
      "      dtype='object')\n",
      "SEPTIEMBRE 2023\n",
      "Index(['id', 'q', 'categoria', 'ids', 'propiedad', 'precio', 'm2_total',\n",
      "       'm2_construido', 'precio_m2_terreno', 'precio_m2_construido',\n",
      "       'publicado_hace', 'personas_interesadas', 'promedio', 'status', 'tipo',\n",
      "       'estacionamiento', 'recamaras', 'baño', 'medio_baño', 'baño_total',\n",
      "       'cantidad_piso', 'antiguedad', 'seguridad', 'fraccionamiento',\n",
      "       'colonia', 'cp', 'url', 'latitud', 'longitud'],\n",
      "      dtype='object')\n"
     ]
    }
   ],
   "source": [
    "print(\"OCTUBRE 2022\")\n",
    "print(df_alfa_q_oct_2022_pachuca.columns)\n",
    "print(\"NOVIEMBRE 2022\")\n",
    "print(df_alfa_q_nov_2022_pachuca.columns)\n",
    "print(\"FEBRERO 2023\")\n",
    "print(df_alfa_q_feb_2023_pachuca.columns)\n",
    "print(\"MAR 2023\")\n",
    "print(df_alfa_q_mar_2023_pachuca.columns)\n",
    "print(\"JUNIO 2023\")\n",
    "print(df_alfa_q_jun_2023_pachuca.columns)\n",
    "print(\"JULIO 2023\")\n",
    "print(df_alfa_q_jul_2023_pachuca.columns)\n",
    "print(\"SEPTIEMBRE 2023\")\n",
    "print(df_alfa_q_sep_2023_pachuca.columns)"
   ]
  },
  {
   "cell_type": "code",
   "execution_count": 28,
   "metadata": {},
   "outputs": [],
   "source": [
    "# Crea los DataFrames para cada archivo con las columnas necesarias\n",
    "oct_2022 = df_alfa_q_oct_2022_pachuca[['categoria','propiedad','precio','m2_total','m2_contruido']]\n",
    "nov_2022 = df_alfa_q_nov_2022_pachuca[['categoria','propiedad','precio','m2_total']]\n",
    "feb_2023 = df_alfa_q_feb_2023_pachuca[['categoria','propiedad','precio','m2_total']]\n",
    "mar_2023 = df_alfa_q_mar_2023_pachuca[['categoria','propiedad','precio','m2_total']]\n",
    "jun_2023 = df_alfa_q_jun_2023_pachuca[['categoria','propiedad','precio','m2_total','m2_contruido']]\n",
    "jul_2023 = df_alfa_q_jul_2023_pachuca[['categoria','propiedad','precio','m2_total','m2_contruido']]\n",
    "sep_2023 = df_alfa_q_sep_2023_pachuca[['categoria','propiedad','precio','m2_total','m2_construido']] "
   ]
  },
  {
   "cell_type": "code",
   "execution_count": null,
   "metadata": {},
   "outputs": [],
   "source": []
  },
  {
   "cell_type": "code",
   "execution_count": null,
   "metadata": {},
   "outputs": [],
   "source": [
    "# Lista de DataFrames\n",
    "df_list = [df1, df2, df3]\n",
    "\n",
    "# Define un diccionario para mapear nombres de columnas\n",
    "mapeo_columnas = {\n",
    "    'm2_contruido': 'm2_construido',  # Aquí defines los mapeos para las columnas\n",
    "    # Agrega más mapeos si es necesario\n",
    "}\n",
    "\n",
    "# Iterar sobre cada DataFrame en df_list y renombrar las columnas según el mapeo\n",
    "for df in df_list:\n",
    "    df.rename(columns=mapeo_columnas, inplace=True)\n"
   ]
  },
  {
   "cell_type": "markdown",
   "metadata": {},
   "source": [
    "___\n",
    "## Modelo predictor de precios\n",
    "### **1** *Limpieza de datos*"
   ]
  },
  {
   "cell_type": "code",
   "execution_count": null,
   "metadata": {},
   "outputs": [],
   "source": [
    "df_modelo1.info()"
   ]
  },
  {
   "cell_type": "code",
   "execution_count": null,
   "metadata": {},
   "outputs": [],
   "source": []
  },
  {
   "cell_type": "markdown",
   "metadata": {},
   "source": [
    "_______\n",
    "____\n",
    "____\n",
    "# **TULANCINGO**"
   ]
  },
  {
   "cell_type": "markdown",
   "metadata": {},
   "source": [
    "* 'df_alfa_q_may_2022_tulancingo',\n",
    "* 'df_alfa_q_jul_2022_tulancingo',\n",
    "* 'df_alfa_q_oct_2022_tulancingo',\n",
    "* 'df_alfa_q_mar_2023_tulancingo',\n",
    "* 'df_alfa_q_may_2023_tulancingo',\n",
    "* 'df_alfa_q_jun_2023_tulancingo',\n",
    "* 'df_alfa_q_jul_2023_tulancingo',\n",
    "* 'df_alfa_q_sep_2023_tulancingo'\n",
    "* 'df_alfa_q_oct_2023_tulancingo',"
   ]
  },
  {
   "cell_type": "code",
   "execution_count": 4,
   "metadata": {},
   "outputs": [
    {
     "data": {
      "text/html": [
       "<div>\n",
       "<style scoped>\n",
       "    .dataframe tbody tr th:only-of-type {\n",
       "        vertical-align: middle;\n",
       "    }\n",
       "\n",
       "    .dataframe tbody tr th {\n",
       "        vertical-align: top;\n",
       "    }\n",
       "\n",
       "    .dataframe thead th {\n",
       "        text-align: right;\n",
       "    }\n",
       "</style>\n",
       "<table border=\"1\" class=\"dataframe\">\n",
       "  <thead>\n",
       "    <tr style=\"text-align: right;\">\n",
       "      <th></th>\n",
       "      <th>precio_promedio</th>\n",
       "      <th>mes</th>\n",
       "      <th>año</th>\n",
       "    </tr>\n",
       "  </thead>\n",
       "  <tbody>\n",
       "    <tr>\n",
       "      <th>0</th>\n",
       "      <td>1420000.0</td>\n",
       "      <td>Mayo</td>\n",
       "      <td>2022</td>\n",
       "    </tr>\n",
       "  </tbody>\n",
       "</table>\n",
       "</div>"
      ],
      "text/plain": [
       "   precio_promedio   mes   año\n",
       "0        1420000.0  Mayo  2022"
      ]
     },
     "execution_count": 4,
     "metadata": {},
     "output_type": "execute_result"
    }
   ],
   "source": [
    "precio_promedio = df_alfa_q_may_2022_tulancingo['precio'].median()\n",
    "may_2022 = pd.DataFrame({'precio_promedio': [precio_promedio]})\n",
    "may_2022['mes'] = 'Mayo'\n",
    "may_2022['año'] = 2022\n",
    "may_2022"
   ]
  },
  {
   "cell_type": "code",
   "execution_count": 5,
   "metadata": {},
   "outputs": [
    {
     "data": {
      "text/html": [
       "<div>\n",
       "<style scoped>\n",
       "    .dataframe tbody tr th:only-of-type {\n",
       "        vertical-align: middle;\n",
       "    }\n",
       "\n",
       "    .dataframe tbody tr th {\n",
       "        vertical-align: top;\n",
       "    }\n",
       "\n",
       "    .dataframe thead th {\n",
       "        text-align: right;\n",
       "    }\n",
       "</style>\n",
       "<table border=\"1\" class=\"dataframe\">\n",
       "  <thead>\n",
       "    <tr style=\"text-align: right;\">\n",
       "      <th></th>\n",
       "      <th>precio_promedio</th>\n",
       "      <th>mes</th>\n",
       "      <th>año</th>\n",
       "    </tr>\n",
       "  </thead>\n",
       "  <tbody>\n",
       "    <tr>\n",
       "      <th>0</th>\n",
       "      <td>1365000.0</td>\n",
       "      <td>Julio</td>\n",
       "      <td>2022</td>\n",
       "    </tr>\n",
       "  </tbody>\n",
       "</table>\n",
       "</div>"
      ],
      "text/plain": [
       "   precio_promedio    mes   año\n",
       "0        1365000.0  Julio  2022"
      ]
     },
     "execution_count": 5,
     "metadata": {},
     "output_type": "execute_result"
    }
   ],
   "source": [
    "precio_promedio = df_alfa_q_jul_2022_tulancingo['precio'].median()\n",
    "jul_2022 = pd.DataFrame({'precio_promedio': [precio_promedio]})\n",
    "jul_2022['mes'] = 'Julio'\n",
    "jul_2022['año'] = 2022\n",
    "jul_2022"
   ]
  },
  {
   "cell_type": "code",
   "execution_count": 6,
   "metadata": {},
   "outputs": [
    {
     "data": {
      "text/html": [
       "<div>\n",
       "<style scoped>\n",
       "    .dataframe tbody tr th:only-of-type {\n",
       "        vertical-align: middle;\n",
       "    }\n",
       "\n",
       "    .dataframe tbody tr th {\n",
       "        vertical-align: top;\n",
       "    }\n",
       "\n",
       "    .dataframe thead th {\n",
       "        text-align: right;\n",
       "    }\n",
       "</style>\n",
       "<table border=\"1\" class=\"dataframe\">\n",
       "  <thead>\n",
       "    <tr style=\"text-align: right;\">\n",
       "      <th></th>\n",
       "      <th>precio_promedio</th>\n",
       "      <th>mes</th>\n",
       "      <th>año</th>\n",
       "    </tr>\n",
       "  </thead>\n",
       "  <tbody>\n",
       "    <tr>\n",
       "      <th>0</th>\n",
       "      <td>1350000.0</td>\n",
       "      <td>Octubre</td>\n",
       "      <td>2022</td>\n",
       "    </tr>\n",
       "  </tbody>\n",
       "</table>\n",
       "</div>"
      ],
      "text/plain": [
       "   precio_promedio      mes   año\n",
       "0        1350000.0  Octubre  2022"
      ]
     },
     "execution_count": 6,
     "metadata": {},
     "output_type": "execute_result"
    }
   ],
   "source": [
    "precio_promedio = df_alfa_q_oct_2022_tulancingo['precio'].median()\n",
    "oct_2022 = pd.DataFrame({'precio_promedio': [precio_promedio]})\n",
    "oct_2022['mes'] = 'Octubre'\n",
    "oct_2022['año'] = 2022\n",
    "oct_2022"
   ]
  },
  {
   "cell_type": "code",
   "execution_count": 7,
   "metadata": {},
   "outputs": [
    {
     "data": {
      "text/html": [
       "<div>\n",
       "<style scoped>\n",
       "    .dataframe tbody tr th:only-of-type {\n",
       "        vertical-align: middle;\n",
       "    }\n",
       "\n",
       "    .dataframe tbody tr th {\n",
       "        vertical-align: top;\n",
       "    }\n",
       "\n",
       "    .dataframe thead th {\n",
       "        text-align: right;\n",
       "    }\n",
       "</style>\n",
       "<table border=\"1\" class=\"dataframe\">\n",
       "  <thead>\n",
       "    <tr style=\"text-align: right;\">\n",
       "      <th></th>\n",
       "      <th>precio_promedio</th>\n",
       "      <th>mes</th>\n",
       "      <th>año</th>\n",
       "    </tr>\n",
       "  </thead>\n",
       "  <tbody>\n",
       "    <tr>\n",
       "      <th>0</th>\n",
       "      <td>1045000.0</td>\n",
       "      <td>Marzo</td>\n",
       "      <td>2023</td>\n",
       "    </tr>\n",
       "  </tbody>\n",
       "</table>\n",
       "</div>"
      ],
      "text/plain": [
       "   precio_promedio    mes   año\n",
       "0        1045000.0  Marzo  2023"
      ]
     },
     "execution_count": 7,
     "metadata": {},
     "output_type": "execute_result"
    }
   ],
   "source": [
    "precio_promedio = df_alfa_q_mar_2023_tulancingo['precio'].median()\n",
    "mar_2023 = pd.DataFrame({'precio_promedio': [precio_promedio]})\n",
    "mar_2023['mes'] = 'Marzo'\n",
    "mar_2023['año'] = 2023\n",
    "mar_2023"
   ]
  },
  {
   "cell_type": "code",
   "execution_count": 8,
   "metadata": {},
   "outputs": [
    {
     "data": {
      "text/html": [
       "<div>\n",
       "<style scoped>\n",
       "    .dataframe tbody tr th:only-of-type {\n",
       "        vertical-align: middle;\n",
       "    }\n",
       "\n",
       "    .dataframe tbody tr th {\n",
       "        vertical-align: top;\n",
       "    }\n",
       "\n",
       "    .dataframe thead th {\n",
       "        text-align: right;\n",
       "    }\n",
       "</style>\n",
       "<table border=\"1\" class=\"dataframe\">\n",
       "  <thead>\n",
       "    <tr style=\"text-align: right;\">\n",
       "      <th></th>\n",
       "      <th>precio_promedio</th>\n",
       "      <th>mes</th>\n",
       "      <th>año</th>\n",
       "    </tr>\n",
       "  </thead>\n",
       "  <tbody>\n",
       "    <tr>\n",
       "      <th>0</th>\n",
       "      <td>1200000.0</td>\n",
       "      <td>Mayo</td>\n",
       "      <td>2023</td>\n",
       "    </tr>\n",
       "  </tbody>\n",
       "</table>\n",
       "</div>"
      ],
      "text/plain": [
       "   precio_promedio   mes   año\n",
       "0        1200000.0  Mayo  2023"
      ]
     },
     "execution_count": 8,
     "metadata": {},
     "output_type": "execute_result"
    }
   ],
   "source": [
    "precio_promedio = df_alfa_q_may_2023_tulancingo['precio'].median()\n",
    "may_2023 = pd.DataFrame({'precio_promedio': [precio_promedio]})\n",
    "may_2023['mes'] = 'Mayo'\n",
    "may_2023['año'] = 2023\n",
    "may_2023"
   ]
  },
  {
   "cell_type": "code",
   "execution_count": 9,
   "metadata": {},
   "outputs": [
    {
     "data": {
      "text/html": [
       "<div>\n",
       "<style scoped>\n",
       "    .dataframe tbody tr th:only-of-type {\n",
       "        vertical-align: middle;\n",
       "    }\n",
       "\n",
       "    .dataframe tbody tr th {\n",
       "        vertical-align: top;\n",
       "    }\n",
       "\n",
       "    .dataframe thead th {\n",
       "        text-align: right;\n",
       "    }\n",
       "</style>\n",
       "<table border=\"1\" class=\"dataframe\">\n",
       "  <thead>\n",
       "    <tr style=\"text-align: right;\">\n",
       "      <th></th>\n",
       "      <th>precio_promedio</th>\n",
       "      <th>mes</th>\n",
       "      <th>año</th>\n",
       "    </tr>\n",
       "  </thead>\n",
       "  <tbody>\n",
       "    <tr>\n",
       "      <th>0</th>\n",
       "      <td>1500000.0</td>\n",
       "      <td>Junio</td>\n",
       "      <td>2023</td>\n",
       "    </tr>\n",
       "  </tbody>\n",
       "</table>\n",
       "</div>"
      ],
      "text/plain": [
       "   precio_promedio    mes   año\n",
       "0        1500000.0  Junio  2023"
      ]
     },
     "execution_count": 9,
     "metadata": {},
     "output_type": "execute_result"
    }
   ],
   "source": [
    "precio_promedio = df_alfa_q_jun_2023_tulancingo['precio'].median()\n",
    "jun_2023 = pd.DataFrame({'precio_promedio': [precio_promedio]})\n",
    "jun_2023['mes'] = 'Junio'\n",
    "jun_2023['año'] = 2023\n",
    "jun_2023"
   ]
  },
  {
   "cell_type": "code",
   "execution_count": 10,
   "metadata": {},
   "outputs": [
    {
     "data": {
      "text/html": [
       "<div>\n",
       "<style scoped>\n",
       "    .dataframe tbody tr th:only-of-type {\n",
       "        vertical-align: middle;\n",
       "    }\n",
       "\n",
       "    .dataframe tbody tr th {\n",
       "        vertical-align: top;\n",
       "    }\n",
       "\n",
       "    .dataframe thead th {\n",
       "        text-align: right;\n",
       "    }\n",
       "</style>\n",
       "<table border=\"1\" class=\"dataframe\">\n",
       "  <thead>\n",
       "    <tr style=\"text-align: right;\">\n",
       "      <th></th>\n",
       "      <th>precio_promedio</th>\n",
       "      <th>mes</th>\n",
       "      <th>año</th>\n",
       "    </tr>\n",
       "  </thead>\n",
       "  <tbody>\n",
       "    <tr>\n",
       "      <th>0</th>\n",
       "      <td>1149950.0</td>\n",
       "      <td>Julio</td>\n",
       "      <td>2023</td>\n",
       "    </tr>\n",
       "  </tbody>\n",
       "</table>\n",
       "</div>"
      ],
      "text/plain": [
       "   precio_promedio    mes   año\n",
       "0        1149950.0  Julio  2023"
      ]
     },
     "execution_count": 10,
     "metadata": {},
     "output_type": "execute_result"
    }
   ],
   "source": [
    "precio_promedio = df_alfa_q_jul_2023_tulancingo['precio'].median()\n",
    "jul_2023 = pd.DataFrame({'precio_promedio': [precio_promedio]})\n",
    "jul_2023['mes'] = 'Julio'\n",
    "jul_2023['año'] = 2023\n",
    "jul_2023"
   ]
  },
  {
   "cell_type": "code",
   "execution_count": 11,
   "metadata": {},
   "outputs": [
    {
     "data": {
      "text/html": [
       "<div>\n",
       "<style scoped>\n",
       "    .dataframe tbody tr th:only-of-type {\n",
       "        vertical-align: middle;\n",
       "    }\n",
       "\n",
       "    .dataframe tbody tr th {\n",
       "        vertical-align: top;\n",
       "    }\n",
       "\n",
       "    .dataframe thead th {\n",
       "        text-align: right;\n",
       "    }\n",
       "</style>\n",
       "<table border=\"1\" class=\"dataframe\">\n",
       "  <thead>\n",
       "    <tr style=\"text-align: right;\">\n",
       "      <th></th>\n",
       "      <th>precio_promedio</th>\n",
       "      <th>mes</th>\n",
       "      <th>año</th>\n",
       "    </tr>\n",
       "  </thead>\n",
       "  <tbody>\n",
       "    <tr>\n",
       "      <th>0</th>\n",
       "      <td>1222500.0</td>\n",
       "      <td>Septiembre</td>\n",
       "      <td>2023</td>\n",
       "    </tr>\n",
       "  </tbody>\n",
       "</table>\n",
       "</div>"
      ],
      "text/plain": [
       "   precio_promedio         mes   año\n",
       "0        1222500.0  Septiembre  2023"
      ]
     },
     "execution_count": 11,
     "metadata": {},
     "output_type": "execute_result"
    }
   ],
   "source": [
    "precio_promedio = df_alfa_q_sep_2023_tulancingo['precio'].median()\n",
    "sep_2023 = pd.DataFrame({'precio_promedio': [precio_promedio]})\n",
    "sep_2023['mes'] = 'Septiembre'\n",
    "sep_2023['año'] = 2023\n",
    "sep_2023"
   ]
  },
  {
   "cell_type": "code",
   "execution_count": 12,
   "metadata": {},
   "outputs": [
    {
     "data": {
      "text/html": [
       "<div>\n",
       "<style scoped>\n",
       "    .dataframe tbody tr th:only-of-type {\n",
       "        vertical-align: middle;\n",
       "    }\n",
       "\n",
       "    .dataframe tbody tr th {\n",
       "        vertical-align: top;\n",
       "    }\n",
       "\n",
       "    .dataframe thead th {\n",
       "        text-align: right;\n",
       "    }\n",
       "</style>\n",
       "<table border=\"1\" class=\"dataframe\">\n",
       "  <thead>\n",
       "    <tr style=\"text-align: right;\">\n",
       "      <th></th>\n",
       "      <th>precio_promedio</th>\n",
       "      <th>mes</th>\n",
       "      <th>año</th>\n",
       "    </tr>\n",
       "  </thead>\n",
       "  <tbody>\n",
       "    <tr>\n",
       "      <th>0</th>\n",
       "      <td>1200000.0</td>\n",
       "      <td>Octubre</td>\n",
       "      <td>2023</td>\n",
       "    </tr>\n",
       "  </tbody>\n",
       "</table>\n",
       "</div>"
      ],
      "text/plain": [
       "   precio_promedio      mes   año\n",
       "0        1200000.0  Octubre  2023"
      ]
     },
     "execution_count": 12,
     "metadata": {},
     "output_type": "execute_result"
    }
   ],
   "source": [
    "precio_promedio = df_alfa_q_oct_2023_tulancingo['precio'].median()\n",
    "oct_2023 = pd.DataFrame({'precio_promedio': [precio_promedio]})\n",
    "oct_2023['mes'] = 'Octubre'\n",
    "oct_2023['año'] = 2023\n",
    "oct_2023"
   ]
  },
  {
   "cell_type": "code",
   "execution_count": 25,
   "metadata": {},
   "outputs": [
    {
     "data": {
      "text/html": [
       "<div>\n",
       "<style scoped>\n",
       "    .dataframe tbody tr th:only-of-type {\n",
       "        vertical-align: middle;\n",
       "    }\n",
       "\n",
       "    .dataframe tbody tr th {\n",
       "        vertical-align: top;\n",
       "    }\n",
       "\n",
       "    .dataframe thead th {\n",
       "        text-align: right;\n",
       "    }\n",
       "</style>\n",
       "<table border=\"1\" class=\"dataframe\">\n",
       "  <thead>\n",
       "    <tr style=\"text-align: right;\">\n",
       "      <th></th>\n",
       "      <th>precio_promedio</th>\n",
       "      <th>mes</th>\n",
       "      <th>año</th>\n",
       "    </tr>\n",
       "  </thead>\n",
       "  <tbody>\n",
       "    <tr>\n",
       "      <th>0</th>\n",
       "      <td>1420000.0</td>\n",
       "      <td>Mayo</td>\n",
       "      <td>2022</td>\n",
       "    </tr>\n",
       "    <tr>\n",
       "      <th>1</th>\n",
       "      <td>1365000.0</td>\n",
       "      <td>Julio</td>\n",
       "      <td>2022</td>\n",
       "    </tr>\n",
       "    <tr>\n",
       "      <th>2</th>\n",
       "      <td>1350000.0</td>\n",
       "      <td>Octubre</td>\n",
       "      <td>2022</td>\n",
       "    </tr>\n",
       "    <tr>\n",
       "      <th>3</th>\n",
       "      <td>1045000.0</td>\n",
       "      <td>Marzo</td>\n",
       "      <td>2023</td>\n",
       "    </tr>\n",
       "    <tr>\n",
       "      <th>4</th>\n",
       "      <td>1200000.0</td>\n",
       "      <td>Mayo</td>\n",
       "      <td>2023</td>\n",
       "    </tr>\n",
       "    <tr>\n",
       "      <th>5</th>\n",
       "      <td>1500000.0</td>\n",
       "      <td>Junio</td>\n",
       "      <td>2023</td>\n",
       "    </tr>\n",
       "    <tr>\n",
       "      <th>6</th>\n",
       "      <td>1149950.0</td>\n",
       "      <td>Julio</td>\n",
       "      <td>2023</td>\n",
       "    </tr>\n",
       "    <tr>\n",
       "      <th>7</th>\n",
       "      <td>1222500.0</td>\n",
       "      <td>Septiembre</td>\n",
       "      <td>2023</td>\n",
       "    </tr>\n",
       "    <tr>\n",
       "      <th>8</th>\n",
       "      <td>1200000.0</td>\n",
       "      <td>Octubre</td>\n",
       "      <td>2023</td>\n",
       "    </tr>\n",
       "  </tbody>\n",
       "</table>\n",
       "</div>"
      ],
      "text/plain": [
       "   precio_promedio         mes   año\n",
       "0        1420000.0        Mayo  2022\n",
       "1        1365000.0       Julio  2022\n",
       "2        1350000.0     Octubre  2022\n",
       "3        1045000.0       Marzo  2023\n",
       "4        1200000.0        Mayo  2023\n",
       "5        1500000.0       Junio  2023\n",
       "6        1149950.0       Julio  2023\n",
       "7        1222500.0  Septiembre  2023\n",
       "8        1200000.0     Octubre  2023"
      ]
     },
     "execution_count": 25,
     "metadata": {},
     "output_type": "execute_result"
    }
   ],
   "source": [
    "tulancingo_months = pd.concat([may_2022, jul_2022, oct_2022, mar_2023, may_2023, jun_2023, jul_2023, sep_2023, oct_2023], ignore_index=True)\n",
    "tulancingo_months"
   ]
  },
  {
   "cell_type": "markdown",
   "metadata": {},
   "source": [
    "SACAR MESES FALTANTES"
   ]
  },
  {
   "cell_type": "code",
   "execution_count": 21,
   "metadata": {},
   "outputs": [],
   "source": [
    "# mediana para construir junio 2022\n",
    "precio_mayo_2022 = tulancingo_months[(tulancingo_months['mes'] == 'Mayo') & (tulancingo_months['año'] == 2022)]\n",
    "precio_julio_2022 = tulancingo_months[(tulancingo_months['mes'] == 'Julio') & (tulancingo_months['año'] == 2022)]\n",
    "jun_22 = pd.concat([precio_mayo_2022, precio_julio_2022])\n",
    "jun_22 = jun_22['precio_promedio'].median()\n",
    "# mediana para construir agosto 2022\n",
    "precio_oct_2022 = tulancingo_months[(tulancingo_months['mes'] == 'Octubre') & (tulancingo_months['año'] == 2022)]\n",
    "precio_julio_2022 = tulancingo_months[(tulancingo_months['mes'] == 'Julio') & (tulancingo_months['año'] == 2022)]\n",
    "aug_22 = pd.concat([precio_julio_2022, precio_oct_2022])\n",
    "aug_22= aug_22['precio_promedio'].median()\n",
    "# mediana para construir Abril 2023\n",
    "precio_mar_2023 = tulancingo_months[(tulancingo_months['mes'] == 'Marzo') & (tulancingo_months['año'] == 2023)]\n",
    "precio_may_2023 = tulancingo_months[(tulancingo_months['mes'] == 'Mayo') & (tulancingo_months['año'] == 2023)]\n",
    "apr_23 = pd.concat([precio_mar_2023, precio_may_2023])\n",
    "apr_23 = apr_23['precio_promedio'].median()\n",
    "# mediana para construir Agosto 2023\n",
    "precio_sep_2023 = tulancingo_months[(tulancingo_months['mes'] == 'Septiembre') & (tulancingo_months['año'] == 2023)]\n",
    "precio_julio_2023 = tulancingo_months[(tulancingo_months['mes'] == 'Julio') & (tulancingo_months['año'] == 2023)]\n",
    "Agosto_23 = pd.concat([precio_julio_2023, precio_sep_2023])\n",
    "Agosto_23 = Agosto_23['precio_promedio'].median()\n",
    "# mediana para construir Noviembre 2023\n",
    "precio_sep_2023 = tulancingo_months[(tulancingo_months['mes'] == 'Septiembre') & (tulancingo_months['año'] == 2023)]\n",
    "precio_oct_2023 = tulancingo_months[(tulancingo_months['mes'] == 'Octubre') & (tulancingo_months['año'] == 2023)]\n",
    "Noviembre_23 = pd.concat([precio_sep_2023, precio_oct_2023])\n",
    "Noviembre_23 = Noviembre_23['precio_promedio'].median()\n"
   ]
  },
  {
   "cell_type": "code",
   "execution_count": 39,
   "metadata": {},
   "outputs": [
    {
     "name": "stderr",
     "output_type": "stream",
     "text": [
      "C:\\Users\\yoe11\\AppData\\Local\\Temp\\ipykernel_4772\\3237503049.py:7: FutureWarning: The frame.append method is deprecated and will be removed from pandas in a future version. Use pandas.concat instead.\n",
      "  tulancingo_months = tulancingo_months.append(nuevos_registros, ignore_index=True)\n"
     ]
    },
    {
     "data": {
      "text/html": [
       "<div>\n",
       "<style scoped>\n",
       "    .dataframe tbody tr th:only-of-type {\n",
       "        vertical-align: middle;\n",
       "    }\n",
       "\n",
       "    .dataframe tbody tr th {\n",
       "        vertical-align: top;\n",
       "    }\n",
       "\n",
       "    .dataframe thead th {\n",
       "        text-align: right;\n",
       "    }\n",
       "</style>\n",
       "<table border=\"1\" class=\"dataframe\">\n",
       "  <thead>\n",
       "    <tr style=\"text-align: right;\">\n",
       "      <th></th>\n",
       "      <th>precio_promedio</th>\n",
       "      <th>mes</th>\n",
       "      <th>año</th>\n",
       "      <th>cambio_porcentaje</th>\n",
       "    </tr>\n",
       "  </thead>\n",
       "  <tbody>\n",
       "    <tr>\n",
       "      <th>0</th>\n",
       "      <td>1420000.0</td>\n",
       "      <td>Mayo</td>\n",
       "      <td>2022</td>\n",
       "      <td>NaN</td>\n",
       "    </tr>\n",
       "    <tr>\n",
       "      <th>1</th>\n",
       "      <td>1365000.0</td>\n",
       "      <td>Julio</td>\n",
       "      <td>2022</td>\n",
       "      <td>-3.873239</td>\n",
       "    </tr>\n",
       "    <tr>\n",
       "      <th>2</th>\n",
       "      <td>1350000.0</td>\n",
       "      <td>Octubre</td>\n",
       "      <td>2022</td>\n",
       "      <td>-1.098901</td>\n",
       "    </tr>\n",
       "    <tr>\n",
       "      <th>3</th>\n",
       "      <td>1045000.0</td>\n",
       "      <td>Marzo</td>\n",
       "      <td>2023</td>\n",
       "      <td>-22.592593</td>\n",
       "    </tr>\n",
       "    <tr>\n",
       "      <th>4</th>\n",
       "      <td>1200000.0</td>\n",
       "      <td>Mayo</td>\n",
       "      <td>2023</td>\n",
       "      <td>14.832536</td>\n",
       "    </tr>\n",
       "    <tr>\n",
       "      <th>5</th>\n",
       "      <td>1500000.0</td>\n",
       "      <td>Junio</td>\n",
       "      <td>2023</td>\n",
       "      <td>25.000000</td>\n",
       "    </tr>\n",
       "    <tr>\n",
       "      <th>6</th>\n",
       "      <td>1149950.0</td>\n",
       "      <td>Julio</td>\n",
       "      <td>2023</td>\n",
       "      <td>-23.336667</td>\n",
       "    </tr>\n",
       "    <tr>\n",
       "      <th>7</th>\n",
       "      <td>1222500.0</td>\n",
       "      <td>Septiembre</td>\n",
       "      <td>2023</td>\n",
       "      <td>6.308970</td>\n",
       "    </tr>\n",
       "    <tr>\n",
       "      <th>8</th>\n",
       "      <td>1200000.0</td>\n",
       "      <td>Octubre</td>\n",
       "      <td>2023</td>\n",
       "      <td>-1.840491</td>\n",
       "    </tr>\n",
       "    <tr>\n",
       "      <th>9</th>\n",
       "      <td>1392500.0</td>\n",
       "      <td>Junio</td>\n",
       "      <td>2022</td>\n",
       "      <td>NaN</td>\n",
       "    </tr>\n",
       "    <tr>\n",
       "      <th>10</th>\n",
       "      <td>1357500.0</td>\n",
       "      <td>Agosto</td>\n",
       "      <td>2022</td>\n",
       "      <td>NaN</td>\n",
       "    </tr>\n",
       "    <tr>\n",
       "      <th>11</th>\n",
       "      <td>1122500.0</td>\n",
       "      <td>Abril</td>\n",
       "      <td>2023</td>\n",
       "      <td>NaN</td>\n",
       "    </tr>\n",
       "    <tr>\n",
       "      <th>12</th>\n",
       "      <td>1186225.0</td>\n",
       "      <td>Agosto</td>\n",
       "      <td>2023</td>\n",
       "      <td>NaN</td>\n",
       "    </tr>\n",
       "    <tr>\n",
       "      <th>13</th>\n",
       "      <td>1211250.0</td>\n",
       "      <td>Noviembre</td>\n",
       "      <td>2023</td>\n",
       "      <td>NaN</td>\n",
       "    </tr>\n",
       "  </tbody>\n",
       "</table>\n",
       "</div>"
      ],
      "text/plain": [
       "    precio_promedio         mes   año  cambio_porcentaje\n",
       "0         1420000.0        Mayo  2022                NaN\n",
       "1         1365000.0       Julio  2022          -3.873239\n",
       "2         1350000.0     Octubre  2022          -1.098901\n",
       "3         1045000.0       Marzo  2023         -22.592593\n",
       "4         1200000.0        Mayo  2023          14.832536\n",
       "5         1500000.0       Junio  2023          25.000000\n",
       "6         1149950.0       Julio  2023         -23.336667\n",
       "7         1222500.0  Septiembre  2023           6.308970\n",
       "8         1200000.0     Octubre  2023          -1.840491\n",
       "9         1392500.0       Junio  2022                NaN\n",
       "10        1357500.0      Agosto  2022                NaN\n",
       "11        1122500.0       Abril  2023                NaN\n",
       "12        1186225.0      Agosto  2023                NaN\n",
       "13        1211250.0   Noviembre  2023                NaN"
      ]
     },
     "execution_count": 39,
     "metadata": {},
     "output_type": "execute_result"
    }
   ],
   "source": [
    "# Nuevos registros\n",
    "nuevos_registros = pd.DataFrame({\n",
    "    'precio_promedio': [jun_22, aug_22,apr_23, Agosto_23,Noviembre_23],\n",
    "    'mes': ['Junio', 'Agosto', 'Abril','Agosto','Noviembre'],\n",
    "    'año': [2022,2022, 2023, 2023,2023]\n",
    "})\n",
    "tulancingo_months = tulancingo_months.append(nuevos_registros, ignore_index=True)\n",
    "tulancingo_months"
   ]
  },
  {
   "cell_type": "code",
   "execution_count": null,
   "metadata": {},
   "outputs": [],
   "source": []
  },
  {
   "cell_type": "code",
   "execution_count": null,
   "metadata": {},
   "outputs": [],
   "source": []
  },
  {
   "cell_type": "code",
   "execution_count": 23,
   "metadata": {},
   "outputs": [
    {
     "data": {
      "text/html": [
       "<div>\n",
       "<style scoped>\n",
       "    .dataframe tbody tr th:only-of-type {\n",
       "        vertical-align: middle;\n",
       "    }\n",
       "\n",
       "    .dataframe tbody tr th {\n",
       "        vertical-align: top;\n",
       "    }\n",
       "\n",
       "    .dataframe thead th {\n",
       "        text-align: right;\n",
       "    }\n",
       "</style>\n",
       "<table border=\"1\" class=\"dataframe\">\n",
       "  <thead>\n",
       "    <tr style=\"text-align: right;\">\n",
       "      <th></th>\n",
       "      <th>mes</th>\n",
       "      <th>año</th>\n",
       "      <th>precio_promedio</th>\n",
       "    </tr>\n",
       "  </thead>\n",
       "  <tbody>\n",
       "    <tr>\n",
       "      <th>6</th>\n",
       "      <td>Abril</td>\n",
       "      <td>2022</td>\n",
       "      <td>1.382549e+06</td>\n",
       "    </tr>\n",
       "    <tr>\n",
       "      <th>14</th>\n",
       "      <td>Agosto</td>\n",
       "      <td>2022</td>\n",
       "      <td>1.027664e+06</td>\n",
       "    </tr>\n",
       "    <tr>\n",
       "      <th>12</th>\n",
       "      <td>Julio</td>\n",
       "      <td>2022</td>\n",
       "      <td>1.365000e+06</td>\n",
       "    </tr>\n",
       "    <tr>\n",
       "      <th>10</th>\n",
       "      <td>Junio</td>\n",
       "      <td>2022</td>\n",
       "      <td>1.328141e+06</td>\n",
       "    </tr>\n",
       "    <tr>\n",
       "      <th>8</th>\n",
       "      <td>Mayo</td>\n",
       "      <td>2022</td>\n",
       "      <td>1.420000e+06</td>\n",
       "    </tr>\n",
       "    <tr>\n",
       "      <th>18</th>\n",
       "      <td>Octubre</td>\n",
       "      <td>2022</td>\n",
       "      <td>1.350000e+06</td>\n",
       "    </tr>\n",
       "    <tr>\n",
       "      <th>16</th>\n",
       "      <td>Septiembre</td>\n",
       "      <td>2022</td>\n",
       "      <td>1.097381e+06</td>\n",
       "    </tr>\n",
       "    <tr>\n",
       "      <th>7</th>\n",
       "      <td>Abril</td>\n",
       "      <td>2023</td>\n",
       "      <td>1.507549e+06</td>\n",
       "    </tr>\n",
       "    <tr>\n",
       "      <th>15</th>\n",
       "      <td>Agosto</td>\n",
       "      <td>2023</td>\n",
       "      <td>1.021288e+06</td>\n",
       "    </tr>\n",
       "    <tr>\n",
       "      <th>13</th>\n",
       "      <td>Julio</td>\n",
       "      <td>2023</td>\n",
       "      <td>1.149950e+06</td>\n",
       "    </tr>\n",
       "    <tr>\n",
       "      <th>11</th>\n",
       "      <td>Junio</td>\n",
       "      <td>2023</td>\n",
       "      <td>1.500000e+06</td>\n",
       "    </tr>\n",
       "    <tr>\n",
       "      <th>5</th>\n",
       "      <td>Marzo</td>\n",
       "      <td>2023</td>\n",
       "      <td>1.045000e+06</td>\n",
       "    </tr>\n",
       "    <tr>\n",
       "      <th>9</th>\n",
       "      <td>Mayo</td>\n",
       "      <td>2023</td>\n",
       "      <td>1.200000e+06</td>\n",
       "    </tr>\n",
       "    <tr>\n",
       "      <th>19</th>\n",
       "      <td>Octubre</td>\n",
       "      <td>2023</td>\n",
       "      <td>1.200000e+06</td>\n",
       "    </tr>\n",
       "    <tr>\n",
       "      <th>17</th>\n",
       "      <td>Septiembre</td>\n",
       "      <td>2023</td>\n",
       "      <td>1.222500e+06</td>\n",
       "    </tr>\n",
       "  </tbody>\n",
       "</table>\n",
       "</div>"
      ],
      "text/plain": [
       "           mes   año  precio_promedio\n",
       "6        Abril  2022     1.382549e+06\n",
       "14      Agosto  2022     1.027664e+06\n",
       "12       Julio  2022     1.365000e+06\n",
       "10       Junio  2022     1.328141e+06\n",
       "8         Mayo  2022     1.420000e+06\n",
       "18     Octubre  2022     1.350000e+06\n",
       "16  Septiembre  2022     1.097381e+06\n",
       "7        Abril  2023     1.507549e+06\n",
       "15      Agosto  2023     1.021288e+06\n",
       "13       Julio  2023     1.149950e+06\n",
       "11       Junio  2023     1.500000e+06\n",
       "5        Marzo  2023     1.045000e+06\n",
       "9         Mayo  2023     1.200000e+06\n",
       "19     Octubre  2023     1.200000e+06\n",
       "17  Septiembre  2023     1.222500e+06"
      ]
     },
     "execution_count": 23,
     "metadata": {},
     "output_type": "execute_result"
    }
   ],
   "source": [
    "# Crear un DataFrame con todas las combinaciones de meses y años posibles\n",
    "meses = ['Enero', 'Febrero', 'Marzo', 'Abril', 'Mayo', 'Junio', 'Julio', 'Agosto', 'Septiembre', 'Octubre', 'Noviembre', 'Diciembre']\n",
    "años = [2022, 2023]  # Años presentes \n",
    "combinaciones = [(mes, año) for mes in meses for año in años]\n",
    "df_combinaciones = pd.DataFrame(combinaciones, columns=['mes', 'año'])\n",
    "\n",
    "# Fusionar tulancingo_months para llenar los valores faltantes\n",
    "tulancingo_completo = pd.merge(df_combinaciones, tulancingo_months, on=['mes', 'año'], how='left')\n",
    "\n",
    "# Calcular los valores faltantes interpolando los valores conocidos\n",
    "tulancingo_completo['precio_promedio'] = tulancingo_completo['precio_promedio'].interpolate(method='quadratic')\n",
    "\n",
    "# Eliminar registros con valores NaN\n",
    "tulancingo_completo = tulancingo_completo.dropna()\n",
    "tulancingo_completo = tulancingo_completo.sort_values(by=['año', 'mes'])\n",
    "tulancingo_completo"
   ]
  },
  {
   "cell_type": "code",
   "execution_count": null,
   "metadata": {},
   "outputs": [],
   "source": []
  },
  {
   "cell_type": "code",
   "execution_count": 72,
   "metadata": {},
   "outputs": [
    {
     "data": {
      "text/html": [
       "<div>\n",
       "<style scoped>\n",
       "    .dataframe tbody tr th:only-of-type {\n",
       "        vertical-align: middle;\n",
       "    }\n",
       "\n",
       "    .dataframe tbody tr th {\n",
       "        vertical-align: top;\n",
       "    }\n",
       "\n",
       "    .dataframe thead th {\n",
       "        text-align: right;\n",
       "    }\n",
       "</style>\n",
       "<table border=\"1\" class=\"dataframe\">\n",
       "  <thead>\n",
       "    <tr style=\"text-align: right;\">\n",
       "      <th></th>\n",
       "      <th>mes</th>\n",
       "      <th>año</th>\n",
       "      <th>precio_promedio</th>\n",
       "    </tr>\n",
       "  </thead>\n",
       "  <tbody>\n",
       "    <tr>\n",
       "      <th>15</th>\n",
       "      <td>Abril</td>\n",
       "      <td>2022</td>\n",
       "      <td>1.211667e+06</td>\n",
       "    </tr>\n",
       "    <tr>\n",
       "      <th>35</th>\n",
       "      <td>Agosto</td>\n",
       "      <td>2022</td>\n",
       "      <td>1.178970e+06</td>\n",
       "    </tr>\n",
       "    <tr>\n",
       "      <th>55</th>\n",
       "      <td>Diciembre</td>\n",
       "      <td>2022</td>\n",
       "      <td>1.200000e+06</td>\n",
       "    </tr>\n",
       "    <tr>\n",
       "      <th>30</th>\n",
       "      <td>Julio</td>\n",
       "      <td>2022</td>\n",
       "      <td>1.365000e+06</td>\n",
       "    </tr>\n",
       "    <tr>\n",
       "      <th>25</th>\n",
       "      <td>Junio</td>\n",
       "      <td>2022</td>\n",
       "      <td>1.440000e+06</td>\n",
       "    </tr>\n",
       "    <tr>\n",
       "      <th>20</th>\n",
       "      <td>Mayo</td>\n",
       "      <td>2022</td>\n",
       "      <td>1.420000e+06</td>\n",
       "    </tr>\n",
       "    <tr>\n",
       "      <th>50</th>\n",
       "      <td>Noviembre</td>\n",
       "      <td>2022</td>\n",
       "      <td>1.200000e+06</td>\n",
       "    </tr>\n",
       "    <tr>\n",
       "      <th>45</th>\n",
       "      <td>Octubre</td>\n",
       "      <td>2022</td>\n",
       "      <td>1.350000e+06</td>\n",
       "    </tr>\n",
       "    <tr>\n",
       "      <th>40</th>\n",
       "      <td>Septiembre</td>\n",
       "      <td>2022</td>\n",
       "      <td>1.215245e+06</td>\n",
       "    </tr>\n",
       "    <tr>\n",
       "      <th>16</th>\n",
       "      <td>Abril</td>\n",
       "      <td>2023</td>\n",
       "      <td>1.253333e+06</td>\n",
       "    </tr>\n",
       "    <tr>\n",
       "      <th>36</th>\n",
       "      <td>Agosto</td>\n",
       "      <td>2023</td>\n",
       "      <td>1.186225e+06</td>\n",
       "    </tr>\n",
       "    <tr>\n",
       "      <th>56</th>\n",
       "      <td>Diciembre</td>\n",
       "      <td>2023</td>\n",
       "      <td>1.200000e+06</td>\n",
       "    </tr>\n",
       "    <tr>\n",
       "      <th>31</th>\n",
       "      <td>Julio</td>\n",
       "      <td>2023</td>\n",
       "      <td>1.149950e+06</td>\n",
       "    </tr>\n",
       "    <tr>\n",
       "      <th>26</th>\n",
       "      <td>Junio</td>\n",
       "      <td>2023</td>\n",
       "      <td>1.500000e+06</td>\n",
       "    </tr>\n",
       "    <tr>\n",
       "      <th>11</th>\n",
       "      <td>Marzo</td>\n",
       "      <td>2023</td>\n",
       "      <td>1.045000e+06</td>\n",
       "    </tr>\n",
       "    <tr>\n",
       "      <th>21</th>\n",
       "      <td>Mayo</td>\n",
       "      <td>2023</td>\n",
       "      <td>1.200000e+06</td>\n",
       "    </tr>\n",
       "    <tr>\n",
       "      <th>51</th>\n",
       "      <td>Noviembre</td>\n",
       "      <td>2023</td>\n",
       "      <td>1.200000e+06</td>\n",
       "    </tr>\n",
       "    <tr>\n",
       "      <th>46</th>\n",
       "      <td>Octubre</td>\n",
       "      <td>2023</td>\n",
       "      <td>1.200000e+06</td>\n",
       "    </tr>\n",
       "    <tr>\n",
       "      <th>41</th>\n",
       "      <td>Septiembre</td>\n",
       "      <td>2023</td>\n",
       "      <td>1.222500e+06</td>\n",
       "    </tr>\n",
       "    <tr>\n",
       "      <th>17</th>\n",
       "      <td>Abril</td>\n",
       "      <td>2024</td>\n",
       "      <td>1.295000e+06</td>\n",
       "    </tr>\n",
       "    <tr>\n",
       "      <th>37</th>\n",
       "      <td>Agosto</td>\n",
       "      <td>2024</td>\n",
       "      <td>1.193480e+06</td>\n",
       "    </tr>\n",
       "    <tr>\n",
       "      <th>57</th>\n",
       "      <td>Diciembre</td>\n",
       "      <td>2024</td>\n",
       "      <td>1.200000e+06</td>\n",
       "    </tr>\n",
       "    <tr>\n",
       "      <th>32</th>\n",
       "      <td>Julio</td>\n",
       "      <td>2024</td>\n",
       "      <td>1.157205e+06</td>\n",
       "    </tr>\n",
       "    <tr>\n",
       "      <th>27</th>\n",
       "      <td>Junio</td>\n",
       "      <td>2024</td>\n",
       "      <td>1.466250e+06</td>\n",
       "    </tr>\n",
       "    <tr>\n",
       "      <th>12</th>\n",
       "      <td>Marzo</td>\n",
       "      <td>2024</td>\n",
       "      <td>1.086667e+06</td>\n",
       "    </tr>\n",
       "    <tr>\n",
       "      <th>22</th>\n",
       "      <td>Mayo</td>\n",
       "      <td>2024</td>\n",
       "      <td>1.260000e+06</td>\n",
       "    </tr>\n",
       "    <tr>\n",
       "      <th>52</th>\n",
       "      <td>Noviembre</td>\n",
       "      <td>2024</td>\n",
       "      <td>1.200000e+06</td>\n",
       "    </tr>\n",
       "    <tr>\n",
       "      <th>47</th>\n",
       "      <td>Octubre</td>\n",
       "      <td>2024</td>\n",
       "      <td>1.200000e+06</td>\n",
       "    </tr>\n",
       "    <tr>\n",
       "      <th>42</th>\n",
       "      <td>Septiembre</td>\n",
       "      <td>2024</td>\n",
       "      <td>1.254375e+06</td>\n",
       "    </tr>\n",
       "    <tr>\n",
       "      <th>18</th>\n",
       "      <td>Abril</td>\n",
       "      <td>2025</td>\n",
       "      <td>1.336667e+06</td>\n",
       "    </tr>\n",
       "    <tr>\n",
       "      <th>38</th>\n",
       "      <td>Agosto</td>\n",
       "      <td>2025</td>\n",
       "      <td>1.200735e+06</td>\n",
       "    </tr>\n",
       "    <tr>\n",
       "      <th>58</th>\n",
       "      <td>Diciembre</td>\n",
       "      <td>2025</td>\n",
       "      <td>1.200000e+06</td>\n",
       "    </tr>\n",
       "    <tr>\n",
       "      <th>33</th>\n",
       "      <td>Julio</td>\n",
       "      <td>2025</td>\n",
       "      <td>1.164460e+06</td>\n",
       "    </tr>\n",
       "    <tr>\n",
       "      <th>28</th>\n",
       "      <td>Junio</td>\n",
       "      <td>2025</td>\n",
       "      <td>1.432500e+06</td>\n",
       "    </tr>\n",
       "    <tr>\n",
       "      <th>13</th>\n",
       "      <td>Marzo</td>\n",
       "      <td>2025</td>\n",
       "      <td>1.128333e+06</td>\n",
       "    </tr>\n",
       "    <tr>\n",
       "      <th>23</th>\n",
       "      <td>Mayo</td>\n",
       "      <td>2025</td>\n",
       "      <td>1.320000e+06</td>\n",
       "    </tr>\n",
       "    <tr>\n",
       "      <th>53</th>\n",
       "      <td>Noviembre</td>\n",
       "      <td>2025</td>\n",
       "      <td>1.200000e+06</td>\n",
       "    </tr>\n",
       "    <tr>\n",
       "      <th>48</th>\n",
       "      <td>Octubre</td>\n",
       "      <td>2025</td>\n",
       "      <td>1.200000e+06</td>\n",
       "    </tr>\n",
       "    <tr>\n",
       "      <th>43</th>\n",
       "      <td>Septiembre</td>\n",
       "      <td>2025</td>\n",
       "      <td>1.286250e+06</td>\n",
       "    </tr>\n",
       "    <tr>\n",
       "      <th>19</th>\n",
       "      <td>Abril</td>\n",
       "      <td>2026</td>\n",
       "      <td>1.378333e+06</td>\n",
       "    </tr>\n",
       "    <tr>\n",
       "      <th>39</th>\n",
       "      <td>Agosto</td>\n",
       "      <td>2026</td>\n",
       "      <td>1.207990e+06</td>\n",
       "    </tr>\n",
       "    <tr>\n",
       "      <th>59</th>\n",
       "      <td>Diciembre</td>\n",
       "      <td>2026</td>\n",
       "      <td>1.200000e+06</td>\n",
       "    </tr>\n",
       "    <tr>\n",
       "      <th>34</th>\n",
       "      <td>Julio</td>\n",
       "      <td>2026</td>\n",
       "      <td>1.171715e+06</td>\n",
       "    </tr>\n",
       "    <tr>\n",
       "      <th>29</th>\n",
       "      <td>Junio</td>\n",
       "      <td>2026</td>\n",
       "      <td>1.398750e+06</td>\n",
       "    </tr>\n",
       "    <tr>\n",
       "      <th>14</th>\n",
       "      <td>Marzo</td>\n",
       "      <td>2026</td>\n",
       "      <td>1.170000e+06</td>\n",
       "    </tr>\n",
       "    <tr>\n",
       "      <th>24</th>\n",
       "      <td>Mayo</td>\n",
       "      <td>2026</td>\n",
       "      <td>1.380000e+06</td>\n",
       "    </tr>\n",
       "    <tr>\n",
       "      <th>54</th>\n",
       "      <td>Noviembre</td>\n",
       "      <td>2026</td>\n",
       "      <td>1.200000e+06</td>\n",
       "    </tr>\n",
       "    <tr>\n",
       "      <th>49</th>\n",
       "      <td>Octubre</td>\n",
       "      <td>2026</td>\n",
       "      <td>1.200000e+06</td>\n",
       "    </tr>\n",
       "    <tr>\n",
       "      <th>44</th>\n",
       "      <td>Septiembre</td>\n",
       "      <td>2026</td>\n",
       "      <td>1.318125e+06</td>\n",
       "    </tr>\n",
       "  </tbody>\n",
       "</table>\n",
       "</div>"
      ],
      "text/plain": [
       "           mes   año  precio_promedio\n",
       "15       Abril  2022     1.211667e+06\n",
       "35      Agosto  2022     1.178970e+06\n",
       "55   Diciembre  2022     1.200000e+06\n",
       "30       Julio  2022     1.365000e+06\n",
       "25       Junio  2022     1.440000e+06\n",
       "20        Mayo  2022     1.420000e+06\n",
       "50   Noviembre  2022     1.200000e+06\n",
       "45     Octubre  2022     1.350000e+06\n",
       "40  Septiembre  2022     1.215245e+06\n",
       "16       Abril  2023     1.253333e+06\n",
       "36      Agosto  2023     1.186225e+06\n",
       "56   Diciembre  2023     1.200000e+06\n",
       "31       Julio  2023     1.149950e+06\n",
       "26       Junio  2023     1.500000e+06\n",
       "11       Marzo  2023     1.045000e+06\n",
       "21        Mayo  2023     1.200000e+06\n",
       "51   Noviembre  2023     1.200000e+06\n",
       "46     Octubre  2023     1.200000e+06\n",
       "41  Septiembre  2023     1.222500e+06\n",
       "17       Abril  2024     1.295000e+06\n",
       "37      Agosto  2024     1.193480e+06\n",
       "57   Diciembre  2024     1.200000e+06\n",
       "32       Julio  2024     1.157205e+06\n",
       "27       Junio  2024     1.466250e+06\n",
       "12       Marzo  2024     1.086667e+06\n",
       "22        Mayo  2024     1.260000e+06\n",
       "52   Noviembre  2024     1.200000e+06\n",
       "47     Octubre  2024     1.200000e+06\n",
       "42  Septiembre  2024     1.254375e+06\n",
       "18       Abril  2025     1.336667e+06\n",
       "38      Agosto  2025     1.200735e+06\n",
       "58   Diciembre  2025     1.200000e+06\n",
       "33       Julio  2025     1.164460e+06\n",
       "28       Junio  2025     1.432500e+06\n",
       "13       Marzo  2025     1.128333e+06\n",
       "23        Mayo  2025     1.320000e+06\n",
       "53   Noviembre  2025     1.200000e+06\n",
       "48     Octubre  2025     1.200000e+06\n",
       "43  Septiembre  2025     1.286250e+06\n",
       "19       Abril  2026     1.378333e+06\n",
       "39      Agosto  2026     1.207990e+06\n",
       "59   Diciembre  2026     1.200000e+06\n",
       "34       Julio  2026     1.171715e+06\n",
       "29       Junio  2026     1.398750e+06\n",
       "14       Marzo  2026     1.170000e+06\n",
       "24        Mayo  2026     1.380000e+06\n",
       "54   Noviembre  2026     1.200000e+06\n",
       "49     Octubre  2026     1.200000e+06\n",
       "44  Septiembre  2026     1.318125e+06"
      ]
     },
     "execution_count": 72,
     "metadata": {},
     "output_type": "execute_result"
    }
   ],
   "source": [
    "# Crear un DataFrame con todas las combinaciones de meses y años posibles\n",
    "meses = ['Enero', 'Febrero', 'Marzo', 'Abril', 'Mayo', 'Junio', 'Julio', 'Agosto', 'Septiembre', 'Octubre', 'Noviembre', 'Diciembre']\n",
    "años = [2022, 2023,2024,2025,2026]  # Años presentes \n",
    "combinaciones = [(mes, año) for mes in meses for año in años]\n",
    "df_combinaciones = pd.DataFrame(combinaciones, columns=['mes', 'año'])\n",
    "# Fusionar tulancingo_months para llenar los valores faltantes\n",
    "tulancingo_completo = pd.merge(df_combinaciones, tulancingo_months, on=['mes', 'año'], how='left')\n",
    "# Calcular los valores faltantes interpolando los valores conocidos\n",
    "tulancingo_completo['precio_promedio'] = tulancingo_completo['precio_promedio'].interpolate()\n",
    "# Eliminar registros con valores NaN\n",
    "tulancingo_completo = tulancingo_completo.dropna()\n",
    "tulancingo_completo = tulancingo_completo.sort_values(by=['año', 'mes'])\n",
    "tulancingo_completo"
   ]
  },
  {
   "cell_type": "code",
   "execution_count": 15,
   "metadata": {},
   "outputs": [
    {
     "data": {
      "text/html": [
       "<div>\n",
       "<style scoped>\n",
       "    .dataframe tbody tr th:only-of-type {\n",
       "        vertical-align: middle;\n",
       "    }\n",
       "\n",
       "    .dataframe tbody tr th {\n",
       "        vertical-align: top;\n",
       "    }\n",
       "\n",
       "    .dataframe thead th {\n",
       "        text-align: right;\n",
       "    }\n",
       "</style>\n",
       "<table border=\"1\" class=\"dataframe\">\n",
       "  <thead>\n",
       "    <tr style=\"text-align: right;\">\n",
       "      <th></th>\n",
       "      <th>mes</th>\n",
       "      <th>año</th>\n",
       "      <th>precio_promedio</th>\n",
       "      <th>cambio_porcentaje</th>\n",
       "    </tr>\n",
       "  </thead>\n",
       "  <tbody>\n",
       "    <tr>\n",
       "      <th>6</th>\n",
       "      <td>Abril</td>\n",
       "      <td>2022</td>\n",
       "      <td>1.382549e+06</td>\n",
       "      <td>NaN</td>\n",
       "    </tr>\n",
       "    <tr>\n",
       "      <th>14</th>\n",
       "      <td>Agosto</td>\n",
       "      <td>2022</td>\n",
       "      <td>1.027664e+06</td>\n",
       "      <td>-25.668878</td>\n",
       "    </tr>\n",
       "    <tr>\n",
       "      <th>12</th>\n",
       "      <td>Julio</td>\n",
       "      <td>2022</td>\n",
       "      <td>1.365000e+06</td>\n",
       "      <td>32.825463</td>\n",
       "    </tr>\n",
       "    <tr>\n",
       "      <th>10</th>\n",
       "      <td>Junio</td>\n",
       "      <td>2022</td>\n",
       "      <td>1.328141e+06</td>\n",
       "      <td>-2.700300</td>\n",
       "    </tr>\n",
       "    <tr>\n",
       "      <th>8</th>\n",
       "      <td>Mayo</td>\n",
       "      <td>2022</td>\n",
       "      <td>1.420000e+06</td>\n",
       "      <td>6.916367</td>\n",
       "    </tr>\n",
       "    <tr>\n",
       "      <th>18</th>\n",
       "      <td>Octubre</td>\n",
       "      <td>2022</td>\n",
       "      <td>1.350000e+06</td>\n",
       "      <td>-4.929577</td>\n",
       "    </tr>\n",
       "    <tr>\n",
       "      <th>16</th>\n",
       "      <td>Septiembre</td>\n",
       "      <td>2022</td>\n",
       "      <td>1.097381e+06</td>\n",
       "      <td>-18.712555</td>\n",
       "    </tr>\n",
       "    <tr>\n",
       "      <th>7</th>\n",
       "      <td>Abril</td>\n",
       "      <td>2023</td>\n",
       "      <td>1.507549e+06</td>\n",
       "      <td>37.377080</td>\n",
       "    </tr>\n",
       "    <tr>\n",
       "      <th>15</th>\n",
       "      <td>Agosto</td>\n",
       "      <td>2023</td>\n",
       "      <td>1.021288e+06</td>\n",
       "      <td>-32.255066</td>\n",
       "    </tr>\n",
       "    <tr>\n",
       "      <th>13</th>\n",
       "      <td>Julio</td>\n",
       "      <td>2023</td>\n",
       "      <td>1.149950e+06</td>\n",
       "      <td>12.597983</td>\n",
       "    </tr>\n",
       "    <tr>\n",
       "      <th>11</th>\n",
       "      <td>Junio</td>\n",
       "      <td>2023</td>\n",
       "      <td>1.500000e+06</td>\n",
       "      <td>30.440454</td>\n",
       "    </tr>\n",
       "    <tr>\n",
       "      <th>5</th>\n",
       "      <td>Marzo</td>\n",
       "      <td>2023</td>\n",
       "      <td>1.045000e+06</td>\n",
       "      <td>-30.333333</td>\n",
       "    </tr>\n",
       "    <tr>\n",
       "      <th>9</th>\n",
       "      <td>Mayo</td>\n",
       "      <td>2023</td>\n",
       "      <td>1.200000e+06</td>\n",
       "      <td>14.832536</td>\n",
       "    </tr>\n",
       "    <tr>\n",
       "      <th>19</th>\n",
       "      <td>Octubre</td>\n",
       "      <td>2023</td>\n",
       "      <td>1.200000e+06</td>\n",
       "      <td>0.000000</td>\n",
       "    </tr>\n",
       "    <tr>\n",
       "      <th>17</th>\n",
       "      <td>Septiembre</td>\n",
       "      <td>2023</td>\n",
       "      <td>1.222500e+06</td>\n",
       "      <td>1.875000</td>\n",
       "    </tr>\n",
       "  </tbody>\n",
       "</table>\n",
       "</div>"
      ],
      "text/plain": [
       "           mes   año  precio_promedio  cambio_porcentaje\n",
       "6        Abril  2022     1.382549e+06                NaN\n",
       "14      Agosto  2022     1.027664e+06         -25.668878\n",
       "12       Julio  2022     1.365000e+06          32.825463\n",
       "10       Junio  2022     1.328141e+06          -2.700300\n",
       "8         Mayo  2022     1.420000e+06           6.916367\n",
       "18     Octubre  2022     1.350000e+06          -4.929577\n",
       "16  Septiembre  2022     1.097381e+06         -18.712555\n",
       "7        Abril  2023     1.507549e+06          37.377080\n",
       "15      Agosto  2023     1.021288e+06         -32.255066\n",
       "13       Julio  2023     1.149950e+06          12.597983\n",
       "11       Junio  2023     1.500000e+06          30.440454\n",
       "5        Marzo  2023     1.045000e+06         -30.333333\n",
       "9         Mayo  2023     1.200000e+06          14.832536\n",
       "19     Octubre  2023     1.200000e+06           0.000000\n",
       "17  Septiembre  2023     1.222500e+06           1.875000"
      ]
     },
     "execution_count": 15,
     "metadata": {},
     "output_type": "execute_result"
    }
   ],
   "source": [
    "tulancingo_completo['cambio_porcentaje'] = tulancingo_completo['precio_promedio'].pct_change() * 100\n",
    "tulancingo_completo"
   ]
  },
  {
   "cell_type": "code",
   "execution_count": 91,
   "metadata": {},
   "outputs": [
    {
     "name": "stdout",
     "output_type": "stream",
     "text": [
      "Cambio: 1.3036769019360799\n"
     ]
    }
   ],
   "source": [
    "# Calcular el cambio porcentaje promedio\n",
    "cambio_porcentaje_tulancingo = tulancingo_completo['cambio_porcentaje'].mean()\n",
    "# Calcular el cambio y redondear a dos decimales en formato '00.00'\n",
    "cambio_tulancingo = cambio_porcentaje_tulancingo * 1.2\n",
    "print(\"Cambio:\", cambio_tulancingo)"
   ]
  },
  {
   "cell_type": "code",
   "execution_count": 92,
   "metadata": {},
   "outputs": [
    {
     "data": {
      "text/plain": [
       "1.0863974182800666"
      ]
     },
     "execution_count": 92,
     "metadata": {},
     "output_type": "execute_result"
    }
   ],
   "source": [
    "cambio_porcentaje_tulancingo"
   ]
  },
  {
   "cell_type": "code",
   "execution_count": 19,
   "metadata": {},
   "outputs": [
    {
     "name": "stdout",
     "output_type": "stream",
     "text": [
      "Cambio porcentaje promedio de Tulancingo: -0.20\n",
      "Cambio de Tulancingo: -0.24\n"
     ]
    }
   ],
   "source": [
    "# Calcular el cambio porcentaje promedio\n",
    "cambio_porcentaje_tulancingo = tulancingo_months['cambio_porcentaje'].mean()\n",
    "\n",
    "# Redondear a dos decimales y formatear como '00.00'\n",
    "cambio_porcentaje_tulancingo = round(cambio_porcentaje_tulancingo, 2)\n",
    "cambio_porcentaje_tulancingo_formatted = \"{:.2f}\".format(cambio_porcentaje_tulancingo)\n",
    "\n",
    "# Calcular el cambio y redondear a dos decimales en formato '00.00'\n",
    "cambio_tulancingo = cambio_porcentaje_tulancingo * 1.2\n",
    "cambio_tulancingo_formatted = \"{:.2f}\".format(cambio_tulancingo)\n",
    "\n",
    "# Mostrar los resultados\n",
    "print(\"Cambio porcentaje promedio de Tulancingo:\", cambio_porcentaje_tulancingo_formatted)\n",
    "print(\"Cambio de Tulancingo:\", cambio_tulancingo_formatted)"
   ]
  },
  {
   "cell_type": "code",
   "execution_count": 93,
   "metadata": {},
   "outputs": [
    {
     "data": {
      "text/html": [
       "<div>\n",
       "<style scoped>\n",
       "    .dataframe tbody tr th:only-of-type {\n",
       "        vertical-align: middle;\n",
       "    }\n",
       "\n",
       "    .dataframe tbody tr th {\n",
       "        vertical-align: top;\n",
       "    }\n",
       "\n",
       "    .dataframe thead th {\n",
       "        text-align: right;\n",
       "    }\n",
       "</style>\n",
       "<table border=\"1\" class=\"dataframe\">\n",
       "  <thead>\n",
       "    <tr style=\"text-align: right;\">\n",
       "      <th></th>\n",
       "      <th>año</th>\n",
       "      <th>precio</th>\n",
       "    </tr>\n",
       "  </thead>\n",
       "  <tbody>\n",
       "    <tr>\n",
       "      <th>0</th>\n",
       "      <td>2022</td>\n",
       "      <td>1.281534e+06</td>\n",
       "    </tr>\n",
       "    <tr>\n",
       "      <th>1</th>\n",
       "      <td>2023</td>\n",
       "      <td>1.230786e+06</td>\n",
       "    </tr>\n",
       "  </tbody>\n",
       "</table>\n",
       "</div>"
      ],
      "text/plain": [
       "    año        precio\n",
       "0  2022  1.281534e+06\n",
       "1  2023  1.230786e+06"
      ]
     },
     "execution_count": 93,
     "metadata": {},
     "output_type": "execute_result"
    }
   ],
   "source": [
    "precio_media_anual_tulancingo = tulancingo_completo.groupby('año')['precio_promedio'].mean().reset_index()\n",
    "precio_media_anual_tulancingo.rename(columns={'precio_promedio': 'precio'}, inplace=True)\n",
    "precio_media_anual_tulancingo"
   ]
  },
  {
   "cell_type": "code",
   "execution_count": 94,
   "metadata": {},
   "outputs": [
    {
     "data": {
      "text/html": [
       "<div>\n",
       "<style scoped>\n",
       "    .dataframe tbody tr th:only-of-type {\n",
       "        vertical-align: middle;\n",
       "    }\n",
       "\n",
       "    .dataframe tbody tr th {\n",
       "        vertical-align: top;\n",
       "    }\n",
       "\n",
       "    .dataframe thead th {\n",
       "        text-align: right;\n",
       "    }\n",
       "</style>\n",
       "<table border=\"1\" class=\"dataframe\">\n",
       "  <thead>\n",
       "    <tr style=\"text-align: right;\">\n",
       "      <th></th>\n",
       "      <th>año</th>\n",
       "      <th>precio</th>\n",
       "    </tr>\n",
       "  </thead>\n",
       "  <tbody>\n",
       "    <tr>\n",
       "      <th>0</th>\n",
       "      <td>2024</td>\n",
       "      <td>3.579671e+06</td>\n",
       "    </tr>\n",
       "    <tr>\n",
       "      <th>1</th>\n",
       "      <td>2025</td>\n",
       "      <td>1.041127e+07</td>\n",
       "    </tr>\n",
       "    <tr>\n",
       "      <th>2</th>\n",
       "      <td>2026</td>\n",
       "      <td>3.028059e+07</td>\n",
       "    </tr>\n",
       "  </tbody>\n",
       "</table>\n",
       "</div>"
      ],
      "text/plain": [
       "    año        precio\n",
       "0  2024  3.579671e+06\n",
       "1  2025  1.041127e+07\n",
       "2  2026  3.028059e+07"
      ]
     },
     "execution_count": 94,
     "metadata": {},
     "output_type": "execute_result"
    }
   ],
   "source": [
    "# valor del cambio: 3.59\n",
    "# Años siguientes\n",
    "años_siguientes = [2024, 2025, 2026]\n",
    "\n",
    "# Verificar si el año 2023 está presente en el DataFrame precio_media_anual_tulancingo\n",
    "if 2023 in precio_media_anual_tulancingo['año'].values:\n",
    "    # Obtener el precio del año anterior (2023)\n",
    "    precio_anterior_2024 = precio_media_anual_tulancingo.loc[precio_media_anual_tulancingo['año'] == 2023, 'precio'].values[0]\n",
    "else:\n",
    "    # Asignar 0 si el año 2023 no está presente\n",
    "    precio_anterior_2024 = 0\n",
    "\n",
    "# Calcular el precio para el año 2024\n",
    "precio_nuevo_2024 = (precio_anterior_2024 * cambio_tulancingo) + precio_anterior_2024\n",
    "\n",
    "# Calcular el precio para el año 2025 basado en el precio del año 2024\n",
    "precio_nuevo_2025 = (precio_nuevo_2024 * cambio_tulancingo) + precio_nuevo_2024\n",
    "\n",
    "# Calcular el precio para el año 2026 basado en el precio del año 2025\n",
    "precio_nuevo_2026 = (precio_nuevo_2025 * cambio_tulancingo) + precio_nuevo_2025\n",
    "\n",
    "# Crear un DataFrame para los años 2024, 2025 y 2026\n",
    "precios_siguientes = {'año': [2024, 2025, 2026], 'precio': [precio_nuevo_2024, precio_nuevo_2025, precio_nuevo_2026]}\n",
    "precio_media_anual_siguientes = pd.DataFrame(precios_siguientes)\n",
    "precio_media_anual_siguientes"
   ]
  },
  {
   "cell_type": "code",
   "execution_count": 95,
   "metadata": {},
   "outputs": [
    {
     "data": {
      "text/html": [
       "<div>\n",
       "<style scoped>\n",
       "    .dataframe tbody tr th:only-of-type {\n",
       "        vertical-align: middle;\n",
       "    }\n",
       "\n",
       "    .dataframe tbody tr th {\n",
       "        vertical-align: top;\n",
       "    }\n",
       "\n",
       "    .dataframe thead th {\n",
       "        text-align: right;\n",
       "    }\n",
       "</style>\n",
       "<table border=\"1\" class=\"dataframe\">\n",
       "  <thead>\n",
       "    <tr style=\"text-align: right;\">\n",
       "      <th></th>\n",
       "      <th>año</th>\n",
       "      <th>precio</th>\n",
       "    </tr>\n",
       "  </thead>\n",
       "  <tbody>\n",
       "    <tr>\n",
       "      <th>0</th>\n",
       "      <td>2022</td>\n",
       "      <td>1.281534e+06</td>\n",
       "    </tr>\n",
       "    <tr>\n",
       "      <th>1</th>\n",
       "      <td>2023</td>\n",
       "      <td>1.230786e+06</td>\n",
       "    </tr>\n",
       "    <tr>\n",
       "      <th>2</th>\n",
       "      <td>2024</td>\n",
       "      <td>3.579671e+06</td>\n",
       "    </tr>\n",
       "    <tr>\n",
       "      <th>3</th>\n",
       "      <td>2025</td>\n",
       "      <td>1.041127e+07</td>\n",
       "    </tr>\n",
       "    <tr>\n",
       "      <th>4</th>\n",
       "      <td>2026</td>\n",
       "      <td>3.028059e+07</td>\n",
       "    </tr>\n",
       "  </tbody>\n",
       "</table>\n",
       "</div>"
      ],
      "text/plain": [
       "    año        precio\n",
       "0  2022  1.281534e+06\n",
       "1  2023  1.230786e+06\n",
       "2  2024  3.579671e+06\n",
       "3  2025  1.041127e+07\n",
       "4  2026  3.028059e+07"
      ]
     },
     "execution_count": 95,
     "metadata": {},
     "output_type": "execute_result"
    }
   ],
   "source": [
    "tulancingo_precio_media_anual = pd.concat([precio_media_anual_tulancingo,precio_media_anual_siguientes], ignore_index=True)\n",
    "tulancingo_precio_media_anual"
   ]
  },
  {
   "cell_type": "code",
   "execution_count": 97,
   "metadata": {},
   "outputs": [
    {
     "data": {
      "application/vnd.plotly.v1+json": {
       "config": {
        "plotlyServerURL": "https://plot.ly"
       },
       "data": [
        {
         "marker": {
          "color": "blue"
         },
         "mode": "markers+lines",
         "type": "scatter",
         "x": [
          2022,
          2023,
          2024,
          2025,
          2026
         ],
         "y": [
          1281533.5872217354,
          1230785.946641126,
          3579671.2221249593,
          10411271.020342529,
          30280592.136246283
         ]
        }
       ],
       "layout": {
        "annotations": [
         {
          "font": {
           "color": "black",
           "size": 12
          },
          "showarrow": false,
          "text": "$1,281,533.59",
          "textangle": 0,
          "x": 2022,
          "xshift": 0,
          "y": 1281533.5872217354,
          "yshift": 17
         },
         {
          "font": {
           "color": "black",
           "size": 12
          },
          "showarrow": false,
          "text": "$1,230,785.95",
          "textangle": 0,
          "x": 2023,
          "xshift": 0,
          "y": 1230785.946641126,
          "yshift": 17
         },
         {
          "font": {
           "color": "black",
           "size": 12
          },
          "showarrow": false,
          "text": "$3,579,671.22",
          "textangle": 0,
          "x": 2024,
          "xshift": 0,
          "y": 3579671.2221249593,
          "yshift": 17
         },
         {
          "font": {
           "color": "black",
           "size": 12
          },
          "showarrow": false,
          "text": "$10,411,271.02",
          "textangle": 0,
          "x": 2025,
          "xshift": 0,
          "y": 10411271.020342529,
          "yshift": 17
         },
         {
          "font": {
           "color": "black",
           "size": 12
          },
          "showarrow": false,
          "text": "$30,280,592.14",
          "textangle": 0,
          "x": 2026,
          "xshift": 0,
          "y": 30280592.136246283,
          "yshift": 17
         }
        ],
        "plot_bgcolor": "rgba(0,0,0,0)",
        "template": {
         "data": {
          "bar": [
           {
            "error_x": {
             "color": "#2a3f5f"
            },
            "error_y": {
             "color": "#2a3f5f"
            },
            "marker": {
             "line": {
              "color": "#E5ECF6",
              "width": 0.5
             },
             "pattern": {
              "fillmode": "overlay",
              "size": 10,
              "solidity": 0.2
             }
            },
            "type": "bar"
           }
          ],
          "barpolar": [
           {
            "marker": {
             "line": {
              "color": "#E5ECF6",
              "width": 0.5
             },
             "pattern": {
              "fillmode": "overlay",
              "size": 10,
              "solidity": 0.2
             }
            },
            "type": "barpolar"
           }
          ],
          "carpet": [
           {
            "aaxis": {
             "endlinecolor": "#2a3f5f",
             "gridcolor": "white",
             "linecolor": "white",
             "minorgridcolor": "white",
             "startlinecolor": "#2a3f5f"
            },
            "baxis": {
             "endlinecolor": "#2a3f5f",
             "gridcolor": "white",
             "linecolor": "white",
             "minorgridcolor": "white",
             "startlinecolor": "#2a3f5f"
            },
            "type": "carpet"
           }
          ],
          "choropleth": [
           {
            "colorbar": {
             "outlinewidth": 0,
             "ticks": ""
            },
            "type": "choropleth"
           }
          ],
          "contour": [
           {
            "colorbar": {
             "outlinewidth": 0,
             "ticks": ""
            },
            "colorscale": [
             [
              0,
              "#0d0887"
             ],
             [
              0.1111111111111111,
              "#46039f"
             ],
             [
              0.2222222222222222,
              "#7201a8"
             ],
             [
              0.3333333333333333,
              "#9c179e"
             ],
             [
              0.4444444444444444,
              "#bd3786"
             ],
             [
              0.5555555555555556,
              "#d8576b"
             ],
             [
              0.6666666666666666,
              "#ed7953"
             ],
             [
              0.7777777777777778,
              "#fb9f3a"
             ],
             [
              0.8888888888888888,
              "#fdca26"
             ],
             [
              1,
              "#f0f921"
             ]
            ],
            "type": "contour"
           }
          ],
          "contourcarpet": [
           {
            "colorbar": {
             "outlinewidth": 0,
             "ticks": ""
            },
            "type": "contourcarpet"
           }
          ],
          "heatmap": [
           {
            "colorbar": {
             "outlinewidth": 0,
             "ticks": ""
            },
            "colorscale": [
             [
              0,
              "#0d0887"
             ],
             [
              0.1111111111111111,
              "#46039f"
             ],
             [
              0.2222222222222222,
              "#7201a8"
             ],
             [
              0.3333333333333333,
              "#9c179e"
             ],
             [
              0.4444444444444444,
              "#bd3786"
             ],
             [
              0.5555555555555556,
              "#d8576b"
             ],
             [
              0.6666666666666666,
              "#ed7953"
             ],
             [
              0.7777777777777778,
              "#fb9f3a"
             ],
             [
              0.8888888888888888,
              "#fdca26"
             ],
             [
              1,
              "#f0f921"
             ]
            ],
            "type": "heatmap"
           }
          ],
          "heatmapgl": [
           {
            "colorbar": {
             "outlinewidth": 0,
             "ticks": ""
            },
            "colorscale": [
             [
              0,
              "#0d0887"
             ],
             [
              0.1111111111111111,
              "#46039f"
             ],
             [
              0.2222222222222222,
              "#7201a8"
             ],
             [
              0.3333333333333333,
              "#9c179e"
             ],
             [
              0.4444444444444444,
              "#bd3786"
             ],
             [
              0.5555555555555556,
              "#d8576b"
             ],
             [
              0.6666666666666666,
              "#ed7953"
             ],
             [
              0.7777777777777778,
              "#fb9f3a"
             ],
             [
              0.8888888888888888,
              "#fdca26"
             ],
             [
              1,
              "#f0f921"
             ]
            ],
            "type": "heatmapgl"
           }
          ],
          "histogram": [
           {
            "marker": {
             "pattern": {
              "fillmode": "overlay",
              "size": 10,
              "solidity": 0.2
             }
            },
            "type": "histogram"
           }
          ],
          "histogram2d": [
           {
            "colorbar": {
             "outlinewidth": 0,
             "ticks": ""
            },
            "colorscale": [
             [
              0,
              "#0d0887"
             ],
             [
              0.1111111111111111,
              "#46039f"
             ],
             [
              0.2222222222222222,
              "#7201a8"
             ],
             [
              0.3333333333333333,
              "#9c179e"
             ],
             [
              0.4444444444444444,
              "#bd3786"
             ],
             [
              0.5555555555555556,
              "#d8576b"
             ],
             [
              0.6666666666666666,
              "#ed7953"
             ],
             [
              0.7777777777777778,
              "#fb9f3a"
             ],
             [
              0.8888888888888888,
              "#fdca26"
             ],
             [
              1,
              "#f0f921"
             ]
            ],
            "type": "histogram2d"
           }
          ],
          "histogram2dcontour": [
           {
            "colorbar": {
             "outlinewidth": 0,
             "ticks": ""
            },
            "colorscale": [
             [
              0,
              "#0d0887"
             ],
             [
              0.1111111111111111,
              "#46039f"
             ],
             [
              0.2222222222222222,
              "#7201a8"
             ],
             [
              0.3333333333333333,
              "#9c179e"
             ],
             [
              0.4444444444444444,
              "#bd3786"
             ],
             [
              0.5555555555555556,
              "#d8576b"
             ],
             [
              0.6666666666666666,
              "#ed7953"
             ],
             [
              0.7777777777777778,
              "#fb9f3a"
             ],
             [
              0.8888888888888888,
              "#fdca26"
             ],
             [
              1,
              "#f0f921"
             ]
            ],
            "type": "histogram2dcontour"
           }
          ],
          "mesh3d": [
           {
            "colorbar": {
             "outlinewidth": 0,
             "ticks": ""
            },
            "type": "mesh3d"
           }
          ],
          "parcoords": [
           {
            "line": {
             "colorbar": {
              "outlinewidth": 0,
              "ticks": ""
             }
            },
            "type": "parcoords"
           }
          ],
          "pie": [
           {
            "automargin": true,
            "type": "pie"
           }
          ],
          "scatter": [
           {
            "fillpattern": {
             "fillmode": "overlay",
             "size": 10,
             "solidity": 0.2
            },
            "type": "scatter"
           }
          ],
          "scatter3d": [
           {
            "line": {
             "colorbar": {
              "outlinewidth": 0,
              "ticks": ""
             }
            },
            "marker": {
             "colorbar": {
              "outlinewidth": 0,
              "ticks": ""
             }
            },
            "type": "scatter3d"
           }
          ],
          "scattercarpet": [
           {
            "marker": {
             "colorbar": {
              "outlinewidth": 0,
              "ticks": ""
             }
            },
            "type": "scattercarpet"
           }
          ],
          "scattergeo": [
           {
            "marker": {
             "colorbar": {
              "outlinewidth": 0,
              "ticks": ""
             }
            },
            "type": "scattergeo"
           }
          ],
          "scattergl": [
           {
            "marker": {
             "colorbar": {
              "outlinewidth": 0,
              "ticks": ""
             }
            },
            "type": "scattergl"
           }
          ],
          "scattermapbox": [
           {
            "marker": {
             "colorbar": {
              "outlinewidth": 0,
              "ticks": ""
             }
            },
            "type": "scattermapbox"
           }
          ],
          "scatterpolar": [
           {
            "marker": {
             "colorbar": {
              "outlinewidth": 0,
              "ticks": ""
             }
            },
            "type": "scatterpolar"
           }
          ],
          "scatterpolargl": [
           {
            "marker": {
             "colorbar": {
              "outlinewidth": 0,
              "ticks": ""
             }
            },
            "type": "scatterpolargl"
           }
          ],
          "scatterternary": [
           {
            "marker": {
             "colorbar": {
              "outlinewidth": 0,
              "ticks": ""
             }
            },
            "type": "scatterternary"
           }
          ],
          "surface": [
           {
            "colorbar": {
             "outlinewidth": 0,
             "ticks": ""
            },
            "colorscale": [
             [
              0,
              "#0d0887"
             ],
             [
              0.1111111111111111,
              "#46039f"
             ],
             [
              0.2222222222222222,
              "#7201a8"
             ],
             [
              0.3333333333333333,
              "#9c179e"
             ],
             [
              0.4444444444444444,
              "#bd3786"
             ],
             [
              0.5555555555555556,
              "#d8576b"
             ],
             [
              0.6666666666666666,
              "#ed7953"
             ],
             [
              0.7777777777777778,
              "#fb9f3a"
             ],
             [
              0.8888888888888888,
              "#fdca26"
             ],
             [
              1,
              "#f0f921"
             ]
            ],
            "type": "surface"
           }
          ],
          "table": [
           {
            "cells": {
             "fill": {
              "color": "#EBF0F8"
             },
             "line": {
              "color": "white"
             }
            },
            "header": {
             "fill": {
              "color": "#C8D4E3"
             },
             "line": {
              "color": "white"
             }
            },
            "type": "table"
           }
          ]
         },
         "layout": {
          "annotationdefaults": {
           "arrowcolor": "#2a3f5f",
           "arrowhead": 0,
           "arrowwidth": 1
          },
          "autotypenumbers": "strict",
          "coloraxis": {
           "colorbar": {
            "outlinewidth": 0,
            "ticks": ""
           }
          },
          "colorscale": {
           "diverging": [
            [
             0,
             "#8e0152"
            ],
            [
             0.1,
             "#c51b7d"
            ],
            [
             0.2,
             "#de77ae"
            ],
            [
             0.3,
             "#f1b6da"
            ],
            [
             0.4,
             "#fde0ef"
            ],
            [
             0.5,
             "#f7f7f7"
            ],
            [
             0.6,
             "#e6f5d0"
            ],
            [
             0.7,
             "#b8e186"
            ],
            [
             0.8,
             "#7fbc41"
            ],
            [
             0.9,
             "#4d9221"
            ],
            [
             1,
             "#276419"
            ]
           ],
           "sequential": [
            [
             0,
             "#0d0887"
            ],
            [
             0.1111111111111111,
             "#46039f"
            ],
            [
             0.2222222222222222,
             "#7201a8"
            ],
            [
             0.3333333333333333,
             "#9c179e"
            ],
            [
             0.4444444444444444,
             "#bd3786"
            ],
            [
             0.5555555555555556,
             "#d8576b"
            ],
            [
             0.6666666666666666,
             "#ed7953"
            ],
            [
             0.7777777777777778,
             "#fb9f3a"
            ],
            [
             0.8888888888888888,
             "#fdca26"
            ],
            [
             1,
             "#f0f921"
            ]
           ],
           "sequentialminus": [
            [
             0,
             "#0d0887"
            ],
            [
             0.1111111111111111,
             "#46039f"
            ],
            [
             0.2222222222222222,
             "#7201a8"
            ],
            [
             0.3333333333333333,
             "#9c179e"
            ],
            [
             0.4444444444444444,
             "#bd3786"
            ],
            [
             0.5555555555555556,
             "#d8576b"
            ],
            [
             0.6666666666666666,
             "#ed7953"
            ],
            [
             0.7777777777777778,
             "#fb9f3a"
            ],
            [
             0.8888888888888888,
             "#fdca26"
            ],
            [
             1,
             "#f0f921"
            ]
           ]
          },
          "colorway": [
           "#636efa",
           "#EF553B",
           "#00cc96",
           "#ab63fa",
           "#FFA15A",
           "#19d3f3",
           "#FF6692",
           "#B6E880",
           "#FF97FF",
           "#FECB52"
          ],
          "font": {
           "color": "#2a3f5f"
          },
          "geo": {
           "bgcolor": "white",
           "lakecolor": "white",
           "landcolor": "#E5ECF6",
           "showlakes": true,
           "showland": true,
           "subunitcolor": "white"
          },
          "hoverlabel": {
           "align": "left"
          },
          "hovermode": "closest",
          "mapbox": {
           "style": "light"
          },
          "paper_bgcolor": "white",
          "plot_bgcolor": "#E5ECF6",
          "polar": {
           "angularaxis": {
            "gridcolor": "white",
            "linecolor": "white",
            "ticks": ""
           },
           "bgcolor": "#E5ECF6",
           "radialaxis": {
            "gridcolor": "white",
            "linecolor": "white",
            "ticks": ""
           }
          },
          "scene": {
           "xaxis": {
            "backgroundcolor": "#E5ECF6",
            "gridcolor": "white",
            "gridwidth": 2,
            "linecolor": "white",
            "showbackground": true,
            "ticks": "",
            "zerolinecolor": "white"
           },
           "yaxis": {
            "backgroundcolor": "#E5ECF6",
            "gridcolor": "white",
            "gridwidth": 2,
            "linecolor": "white",
            "showbackground": true,
            "ticks": "",
            "zerolinecolor": "white"
           },
           "zaxis": {
            "backgroundcolor": "#E5ECF6",
            "gridcolor": "white",
            "gridwidth": 2,
            "linecolor": "white",
            "showbackground": true,
            "ticks": "",
            "zerolinecolor": "white"
           }
          },
          "shapedefaults": {
           "line": {
            "color": "#2a3f5f"
           }
          },
          "ternary": {
           "aaxis": {
            "gridcolor": "white",
            "linecolor": "white",
            "ticks": ""
           },
           "baxis": {
            "gridcolor": "white",
            "linecolor": "white",
            "ticks": ""
           },
           "bgcolor": "#E5ECF6",
           "caxis": {
            "gridcolor": "white",
            "linecolor": "white",
            "ticks": ""
           }
          },
          "title": {
           "x": 0.05
          },
          "xaxis": {
           "automargin": true,
           "gridcolor": "white",
           "linecolor": "white",
           "ticks": "",
           "title": {
            "standoff": 15
           },
           "zerolinecolor": "white",
           "zerolinewidth": 2
          },
          "yaxis": {
           "automargin": true,
           "gridcolor": "white",
           "linecolor": "white",
           "ticks": "",
           "title": {
            "standoff": 15
           },
           "zerolinecolor": "white",
           "zerolinewidth": 2
          }
         }
        },
        "title": {
         "text": "Precio Media Anual"
        },
        "xaxis": {
         "gridcolor": "#dddcda",
         "tickmode": "array",
         "ticktext": [
          2022,
          2023,
          2024,
          2025,
          2026
         ],
         "tickvals": [
          2022,
          2023,
          2024,
          2025,
          2026
         ]
        },
        "yaxis": {
         "gridcolor": "#dddcda",
         "gridwidth": 1
        }
       }
      }
     },
     "metadata": {},
     "output_type": "display_data"
    }
   ],
   "source": [
    "# Datos\n",
    "año = tulancingo_precio_media_anual['año']\n",
    "promedio = tulancingo_precio_media_anual['precio']\n",
    "\n",
    "fig = go.Figure()\n",
    "fig.add_trace(go.Scatter(\n",
    "    x=año,\n",
    "    y=promedio,\n",
    "    mode='markers+lines',\n",
    "    marker=dict(color='blue'),\n",
    "))\n",
    "# Agregar anotaciones para mostrar los valores encima de los puntos\n",
    "for a, p in zip(año, promedio):\n",
    "    fig.add_annotation(\n",
    "        x=a,\n",
    "        y=p,\n",
    "        text=f\"${p:,.2f}\",  # Formatear el valor del promedio como moneda\n",
    "        showarrow=False,\n",
    "        font=dict(color='black', size=12),\n",
    "        xshift=0,\n",
    "        yshift=17,\n",
    "        textangle=0\n",
    "    )\n",
    "# Actualizar diseño\n",
    "fig.update_layout(\n",
    "    title='Precio Media Anual',\n",
    "    yaxis=dict(\n",
    "        #range=[0, 10000000],  # Establecer el rango del eje y\n",
    "        #tickvals=[0, 1000000,5000000, 10000000],  # Definir los valores de las marcas en el eje y\n",
    "        #ticktext=['$0.00', '$500,000.00', '$1,000,000.00'],  # Definir el texto de las marcas en el eje y\n",
    "        gridcolor='#dddcda',   # Color de las líneas de la cuadrícula\n",
    "        gridwidth=1  # Ancho de las líneas de la cuadrícula\n",
    "    ),\n",
    "    xaxis=dict(\n",
    "        gridcolor='#dddcda', \n",
    "        tickmode='array',\n",
    "        tickvals=año,\n",
    "        ticktext=año\n",
    "    ),\n",
    "    plot_bgcolor='rgba(0,0,0,0)'\n",
    ")\n",
    "# Exportar gráfica como archivo HTML\n",
    "def guardar_grafico_como_html(fig, nombre_archivo, carpeta='graficas'):\n",
    "    # Crear la carpeta si no existe\n",
    "    if not os.path.exists(carpeta):\n",
    "        os.makedirs(carpeta)\n",
    "    \n",
    "    # Gráfica como archivo HTML en la carpeta especificada\n",
    "    pio.write_html(fig, f'{carpeta}/{nombre_archivo}.html')\n",
    "\n",
    "guardar_grafico_como_html(fig, 'g_scatt_preciomediaanual_prom_tulancingo', carpeta='graficas')\n",
    "fig.show()"
   ]
  },
  {
   "cell_type": "code",
   "execution_count": null,
   "metadata": {},
   "outputs": [],
   "source": []
  },
  {
   "cell_type": "code",
   "execution_count": null,
   "metadata": {},
   "outputs": [],
   "source": []
  },
  {
   "cell_type": "code",
   "execution_count": null,
   "metadata": {},
   "outputs": [],
   "source": []
  },
  {
   "cell_type": "code",
   "execution_count": null,
   "metadata": {},
   "outputs": [],
   "source": []
  },
  {
   "cell_type": "code",
   "execution_count": null,
   "metadata": {},
   "outputs": [],
   "source": []
  },
  {
   "cell_type": "code",
   "execution_count": null,
   "metadata": {},
   "outputs": [],
   "source": []
  },
  {
   "cell_type": "code",
   "execution_count": 56,
   "metadata": {},
   "outputs": [
    {
     "data": {
      "text/html": [
       "<div>\n",
       "<style scoped>\n",
       "    .dataframe tbody tr th:only-of-type {\n",
       "        vertical-align: middle;\n",
       "    }\n",
       "\n",
       "    .dataframe tbody tr th {\n",
       "        vertical-align: top;\n",
       "    }\n",
       "\n",
       "    .dataframe thead th {\n",
       "        text-align: right;\n",
       "    }\n",
       "</style>\n",
       "<table border=\"1\" class=\"dataframe\">\n",
       "  <thead>\n",
       "    <tr style=\"text-align: right;\">\n",
       "      <th></th>\n",
       "      <th>precio_promedio</th>\n",
       "      <th>mes</th>\n",
       "      <th>año</th>\n",
       "    </tr>\n",
       "  </thead>\n",
       "  <tbody>\n",
       "    <tr>\n",
       "      <th>1</th>\n",
       "      <td>1.886514e+06</td>\n",
       "      <td>Agosto</td>\n",
       "      <td>2022</td>\n",
       "    </tr>\n",
       "    <tr>\n",
       "      <th>0</th>\n",
       "      <td>1.868453e+06</td>\n",
       "      <td>Junio</td>\n",
       "      <td>2022</td>\n",
       "    </tr>\n",
       "    <tr>\n",
       "      <th>2</th>\n",
       "      <td>1.641829e+06</td>\n",
       "      <td>Abril</td>\n",
       "      <td>2023</td>\n",
       "    </tr>\n",
       "    <tr>\n",
       "      <th>3</th>\n",
       "      <td>1.648474e+06</td>\n",
       "      <td>Agosto</td>\n",
       "      <td>2023</td>\n",
       "    </tr>\n",
       "  </tbody>\n",
       "</table>\n",
       "</div>"
      ],
      "text/plain": [
       "   precio_promedio     mes   año\n",
       "1     1.886514e+06  Agosto  2022\n",
       "0     1.868453e+06   Junio  2022\n",
       "2     1.641829e+06   Abril  2023\n",
       "3     1.648474e+06  Agosto  2023"
      ]
     },
     "execution_count": 56,
     "metadata": {},
     "output_type": "execute_result"
    }
   ],
   "source": [
    "import pandas as pd\n",
    "\n",
    "# Definir la función para calcular la mediana de los meses cercanos\n",
    "def calcular_mediana_mes_cercano(mes, año, df):\n",
    "    # Obtener los meses circundantes disponibles en el DataFrame\n",
    "    meses_disponibles = df[(df['año'] == año) & (df['mes'] != mes)]['mes']\n",
    "    meses_anteriores = [m for m in meses_disponibles if meses.index(m) < meses.index(mes)]\n",
    "    meses_siguientes = [m for m in meses_disponibles if meses.index(m) > meses.index(mes)]\n",
    "    \n",
    "    # Calcular la mediana de los meses anteriores y siguientes si están disponibles\n",
    "    mediana_anterior = df[(df['año'] == año) & (df['mes'].isin(meses_anteriores))]['precio_promedio'].median()\n",
    "    mediana_siguiente = df[(df['año'] == año) & (df['mes'].isin(meses_siguientes))]['precio_promedio'].median()\n",
    "    \n",
    "    return (mediana_anterior + mediana_siguiente) / 2\n",
    "\n",
    "# Definir los meses y años para los que se desean calcular los valores siguientes\n",
    "meses_siguientes = [('Junio', 2022), ('Agosto', 2022), ('Abril', 2023), ('Agosto', 2023), ('Noviembre', 2023)]\n",
    "\n",
    "# Calcular los valores para los meses siguientes y almacenarlos en un DataFrame\n",
    "valores_siguientes = []\n",
    "for mes, año in meses_siguientes:\n",
    "    mediana = calcular_mediana_mes_cercano(mes, año, tulancingo_months)\n",
    "    valores_siguientes.append((mediana, mes, año))\n",
    "\n",
    "# Crear un DataFrame con los valores calculados\n",
    "df_valores_siguientes = pd.DataFrame(valores_siguientes, columns=['precio_promedio', 'mes', 'año'])\n",
    "tulancingo_completo = df_valores_siguientes.dropna()\n",
    "tulancingo_completo = tulancingo_completo.sort_values(by=['año', 'mes'])\n",
    "tulancingo_completo"
   ]
  },
  {
   "cell_type": "code",
   "execution_count": 57,
   "metadata": {},
   "outputs": [
    {
     "data": {
      "text/html": [
       "<div>\n",
       "<style scoped>\n",
       "    .dataframe tbody tr th:only-of-type {\n",
       "        vertical-align: middle;\n",
       "    }\n",
       "\n",
       "    .dataframe tbody tr th {\n",
       "        vertical-align: top;\n",
       "    }\n",
       "\n",
       "    .dataframe thead th {\n",
       "        text-align: right;\n",
       "    }\n",
       "</style>\n",
       "<table border=\"1\" class=\"dataframe\">\n",
       "  <thead>\n",
       "    <tr style=\"text-align: right;\">\n",
       "      <th></th>\n",
       "      <th>precio_promedio</th>\n",
       "      <th>mes</th>\n",
       "      <th>año</th>\n",
       "    </tr>\n",
       "  </thead>\n",
       "  <tbody>\n",
       "    <tr>\n",
       "      <th>0</th>\n",
       "      <td>1.968350e+06</td>\n",
       "      <td>Mayo</td>\n",
       "      <td>2022</td>\n",
       "    </tr>\n",
       "    <tr>\n",
       "      <th>1</th>\n",
       "      <td>1.496517e+06</td>\n",
       "      <td>Julio</td>\n",
       "      <td>2022</td>\n",
       "    </tr>\n",
       "    <tr>\n",
       "      <th>2</th>\n",
       "      <td>2.040594e+06</td>\n",
       "      <td>Octubre</td>\n",
       "      <td>2022</td>\n",
       "    </tr>\n",
       "    <tr>\n",
       "      <th>3</th>\n",
       "      <td>1.634948e+06</td>\n",
       "      <td>Marzo</td>\n",
       "      <td>2023</td>\n",
       "    </tr>\n",
       "    <tr>\n",
       "      <th>4</th>\n",
       "      <td>1.648710e+06</td>\n",
       "      <td>Mayo</td>\n",
       "      <td>2023</td>\n",
       "    </tr>\n",
       "    <tr>\n",
       "      <th>5</th>\n",
       "      <td>2.820898e+06</td>\n",
       "      <td>Junio</td>\n",
       "      <td>2023</td>\n",
       "    </tr>\n",
       "    <tr>\n",
       "      <th>6</th>\n",
       "      <td>1.591641e+06</td>\n",
       "      <td>Julio</td>\n",
       "      <td>2023</td>\n",
       "    </tr>\n",
       "    <tr>\n",
       "      <th>7</th>\n",
       "      <td>1.671257e+06</td>\n",
       "      <td>Septiembre</td>\n",
       "      <td>2023</td>\n",
       "    </tr>\n",
       "    <tr>\n",
       "      <th>8</th>\n",
       "      <td>1.638982e+06</td>\n",
       "      <td>Octubre</td>\n",
       "      <td>2023</td>\n",
       "    </tr>\n",
       "    <tr>\n",
       "      <th>9</th>\n",
       "      <td>1.886514e+06</td>\n",
       "      <td>Agosto</td>\n",
       "      <td>2022</td>\n",
       "    </tr>\n",
       "    <tr>\n",
       "      <th>10</th>\n",
       "      <td>1.868453e+06</td>\n",
       "      <td>Junio</td>\n",
       "      <td>2022</td>\n",
       "    </tr>\n",
       "    <tr>\n",
       "      <th>11</th>\n",
       "      <td>1.641829e+06</td>\n",
       "      <td>Abril</td>\n",
       "      <td>2023</td>\n",
       "    </tr>\n",
       "    <tr>\n",
       "      <th>12</th>\n",
       "      <td>1.648474e+06</td>\n",
       "      <td>Agosto</td>\n",
       "      <td>2023</td>\n",
       "    </tr>\n",
       "  </tbody>\n",
       "</table>\n",
       "</div>"
      ],
      "text/plain": [
       "    precio_promedio         mes   año\n",
       "0      1.968350e+06        Mayo  2022\n",
       "1      1.496517e+06       Julio  2022\n",
       "2      2.040594e+06     Octubre  2022\n",
       "3      1.634948e+06       Marzo  2023\n",
       "4      1.648710e+06        Mayo  2023\n",
       "5      2.820898e+06       Junio  2023\n",
       "6      1.591641e+06       Julio  2023\n",
       "7      1.671257e+06  Septiembre  2023\n",
       "8      1.638982e+06     Octubre  2023\n",
       "9      1.886514e+06      Agosto  2022\n",
       "10     1.868453e+06       Junio  2022\n",
       "11     1.641829e+06       Abril  2023\n",
       "12     1.648474e+06      Agosto  2023"
      ]
     },
     "execution_count": 57,
     "metadata": {},
     "output_type": "execute_result"
    }
   ],
   "source": [
    "tulancingo_months = pd.concat([tulancingo_months,tulancingo_completo], ignore_index=True)\n",
    "tulancingo_months"
   ]
  },
  {
   "cell_type": "code",
   "execution_count": 58,
   "metadata": {},
   "outputs": [
    {
     "data": {
      "text/html": [
       "<div>\n",
       "<style scoped>\n",
       "    .dataframe tbody tr th:only-of-type {\n",
       "        vertical-align: middle;\n",
       "    }\n",
       "\n",
       "    .dataframe tbody tr th {\n",
       "        vertical-align: top;\n",
       "    }\n",
       "\n",
       "    .dataframe thead th {\n",
       "        text-align: right;\n",
       "    }\n",
       "</style>\n",
       "<table border=\"1\" class=\"dataframe\">\n",
       "  <thead>\n",
       "    <tr style=\"text-align: right;\">\n",
       "      <th></th>\n",
       "      <th>precio_promedio</th>\n",
       "      <th>mes</th>\n",
       "      <th>año</th>\n",
       "      <th>cambio_porcentaje</th>\n",
       "    </tr>\n",
       "  </thead>\n",
       "  <tbody>\n",
       "    <tr>\n",
       "      <th>0</th>\n",
       "      <td>1968350.00</td>\n",
       "      <td>Mayo</td>\n",
       "      <td>2022</td>\n",
       "      <td>NaN</td>\n",
       "    </tr>\n",
       "    <tr>\n",
       "      <th>1</th>\n",
       "      <td>1496516.67</td>\n",
       "      <td>Julio</td>\n",
       "      <td>2022</td>\n",
       "      <td>-23.971008</td>\n",
       "    </tr>\n",
       "    <tr>\n",
       "      <th>2</th>\n",
       "      <td>2040593.72</td>\n",
       "      <td>Octubre</td>\n",
       "      <td>2022</td>\n",
       "      <td>36.356231</td>\n",
       "    </tr>\n",
       "    <tr>\n",
       "      <th>3</th>\n",
       "      <td>1634947.58</td>\n",
       "      <td>Marzo</td>\n",
       "      <td>2023</td>\n",
       "      <td>-19.878829</td>\n",
       "    </tr>\n",
       "    <tr>\n",
       "      <th>4</th>\n",
       "      <td>1648709.85</td>\n",
       "      <td>Mayo</td>\n",
       "      <td>2023</td>\n",
       "      <td>0.841757</td>\n",
       "    </tr>\n",
       "    <tr>\n",
       "      <th>5</th>\n",
       "      <td>2820897.98</td>\n",
       "      <td>Junio</td>\n",
       "      <td>2023</td>\n",
       "      <td>71.097296</td>\n",
       "    </tr>\n",
       "    <tr>\n",
       "      <th>6</th>\n",
       "      <td>1591641.07</td>\n",
       "      <td>Julio</td>\n",
       "      <td>2023</td>\n",
       "      <td>-43.576794</td>\n",
       "    </tr>\n",
       "    <tr>\n",
       "      <th>7</th>\n",
       "      <td>1671256.90</td>\n",
       "      <td>Septiembre</td>\n",
       "      <td>2023</td>\n",
       "      <td>5.002122</td>\n",
       "    </tr>\n",
       "    <tr>\n",
       "      <th>8</th>\n",
       "      <td>1638981.97</td>\n",
       "      <td>Octubre</td>\n",
       "      <td>2023</td>\n",
       "      <td>-1.931177</td>\n",
       "    </tr>\n",
       "    <tr>\n",
       "      <th>9</th>\n",
       "      <td>1886513.53</td>\n",
       "      <td>Agosto</td>\n",
       "      <td>2022</td>\n",
       "      <td>15.102763</td>\n",
       "    </tr>\n",
       "    <tr>\n",
       "      <th>10</th>\n",
       "      <td>1868452.60</td>\n",
       "      <td>Junio</td>\n",
       "      <td>2022</td>\n",
       "      <td>-0.957371</td>\n",
       "    </tr>\n",
       "    <tr>\n",
       "      <th>11</th>\n",
       "      <td>1641828.72</td>\n",
       "      <td>Abril</td>\n",
       "      <td>2023</td>\n",
       "      <td>-12.128961</td>\n",
       "    </tr>\n",
       "    <tr>\n",
       "      <th>12</th>\n",
       "      <td>1648474.07</td>\n",
       "      <td>Agosto</td>\n",
       "      <td>2023</td>\n",
       "      <td>0.404753</td>\n",
       "    </tr>\n",
       "  </tbody>\n",
       "</table>\n",
       "</div>"
      ],
      "text/plain": [
       "    precio_promedio         mes   año  cambio_porcentaje\n",
       "0        1968350.00        Mayo  2022                NaN\n",
       "1        1496516.67       Julio  2022         -23.971008\n",
       "2        2040593.72     Octubre  2022          36.356231\n",
       "3        1634947.58       Marzo  2023         -19.878829\n",
       "4        1648709.85        Mayo  2023           0.841757\n",
       "5        2820897.98       Junio  2023          71.097296\n",
       "6        1591641.07       Julio  2023         -43.576794\n",
       "7        1671256.90  Septiembre  2023           5.002122\n",
       "8        1638981.97     Octubre  2023          -1.931177\n",
       "9        1886513.53      Agosto  2022          15.102763\n",
       "10       1868452.60       Junio  2022          -0.957371\n",
       "11       1641828.72       Abril  2023         -12.128961\n",
       "12       1648474.07      Agosto  2023           0.404753"
      ]
     },
     "execution_count": 58,
     "metadata": {},
     "output_type": "execute_result"
    }
   ],
   "source": [
    "tulancingo_months['cambio_porcentaje'] = tulancingo_months['precio_promedio'].pct_change() * 100\n",
    "tulancingo_months['precio_promedio'] = tulancingo_months['precio_promedio'].round(2)\n",
    "tulancingo_months"
   ]
  },
  {
   "cell_type": "code",
   "execution_count": null,
   "metadata": {},
   "outputs": [],
   "source": []
  },
  {
   "cell_type": "code",
   "execution_count": null,
   "metadata": {},
   "outputs": [],
   "source": []
  },
  {
   "cell_type": "code",
   "execution_count": 26,
   "metadata": {},
   "outputs": [
    {
     "name": "stdout",
     "output_type": "stream",
     "text": [
      "           mes   año  precio_promedio\n",
      "0        Enero  2022              NaN\n",
      "1        Enero  2023              NaN\n",
      "2      Febrero  2022              NaN\n",
      "3      Febrero  2023              NaN\n",
      "4        Marzo  2022              NaN\n",
      "5        Marzo  2023        1045000.0\n",
      "6        Abril  2022              NaN\n",
      "7        Abril  2023              NaN\n",
      "8         Mayo  2022        1420000.0\n",
      "9         Mayo  2023        1200000.0\n",
      "10       Junio  2022              NaN\n",
      "11       Junio  2023        1500000.0\n",
      "12       Julio  2022        1365000.0\n",
      "13       Julio  2023        1149950.0\n",
      "14      Agosto  2022              NaN\n",
      "15      Agosto  2023              NaN\n",
      "16  Septiembre  2022              NaN\n",
      "17  Septiembre  2023        1222500.0\n",
      "18     Octubre  2022        1350000.0\n",
      "19     Octubre  2023        1200000.0\n",
      "20   Noviembre  2022        1385000.0\n",
      "21   Noviembre  2023        1200000.0\n",
      "22   Diciembre  2022              NaN\n",
      "23   Diciembre  2023              NaN\n"
     ]
    }
   ],
   "source": [
    "import pandas as pd\n",
    "\n",
    "# Crear un DataFrame con todas las combinaciones de meses y años posibles\n",
    "meses = ['Enero', 'Febrero', 'Marzo', 'Abril', 'Mayo', 'Junio', 'Julio', 'Agosto', 'Septiembre', 'Octubre', 'Noviembre', 'Diciembre']\n",
    "años = [2022, 2023]  # Años presentes en tu DataFrame\n",
    "combinaciones = [(mes, año) for mes in meses for año in años]\n",
    "df_combinaciones = pd.DataFrame(combinaciones, columns=['mes', 'año'])\n",
    "\n",
    "# Fusionar con tu DataFrame tulancingo_months para llenar los valores faltantes\n",
    "tulancingo_completo = pd.merge(df_combinaciones, tulancingo_months, on=['mes', 'año'], how='left')\n",
    "\n",
    "# Calcular los valores faltantes como la mediana de los dos valores cercanos\n",
    "for i, row in tulancingo_completo.iterrows():\n",
    "    if pd.isna(row['precio_promedio']):\n",
    "        # Encontrar los dos meses más cercanos\n",
    "        mes_anterior = tulancingo_completo.loc[(tulancingo_completo['año'] == row['año']) & (tulancingo_completo['mes'] < row['mes'])]['mes'].max()\n",
    "        mes_siguiente = tulancingo_completo.loc[(tulancingo_completo['año'] == row['año']) & (tulancingo_completo['mes'] > row['mes'])]['mes'].min()\n",
    "        \n",
    "        # Calcular la mediana de los dos valores cercanos si existen\n",
    "        if pd.notnull(mes_anterior) and pd.notnull(mes_siguiente):\n",
    "            precio_anterior = tulancingo_completo.loc[(tulancingo_completo['año'] == row['año']) & (tulancingo_completo['mes'] == mes_anterior)]['precio_promedio'].values\n",
    "            precio_siguiente = tulancingo_completo.loc[(tulancingo_completo['año'] == row['año']) & (tulancingo_completo['mes'] == mes_siguiente)]['precio_promedio'].values\n",
    "            mediana = (precio_anterior + precio_siguiente) / 2\n",
    "            tulancingo_completo.at[i, 'precio_promedio'] = mediana\n",
    "\n",
    "# Imprimir el DataFrame resultante\n",
    "print(tulancingo_completo)\n"
   ]
  },
  {
   "cell_type": "code",
   "execution_count": null,
   "metadata": {},
   "outputs": [],
   "source": []
  },
  {
   "cell_type": "code",
   "execution_count": null,
   "metadata": {},
   "outputs": [],
   "source": []
  },
  {
   "cell_type": "code",
   "execution_count": null,
   "metadata": {},
   "outputs": [],
   "source": []
  },
  {
   "cell_type": "code",
   "execution_count": null,
   "metadata": {},
   "outputs": [],
   "source": []
  },
  {
   "cell_type": "code",
   "execution_count": 27,
   "metadata": {},
   "outputs": [
    {
     "data": {
      "text/html": [
       "<div>\n",
       "<style scoped>\n",
       "    .dataframe tbody tr th:only-of-type {\n",
       "        vertical-align: middle;\n",
       "    }\n",
       "\n",
       "    .dataframe tbody tr th {\n",
       "        vertical-align: top;\n",
       "    }\n",
       "\n",
       "    .dataframe thead th {\n",
       "        text-align: right;\n",
       "    }\n",
       "</style>\n",
       "<table border=\"1\" class=\"dataframe\">\n",
       "  <thead>\n",
       "    <tr style=\"text-align: right;\">\n",
       "      <th></th>\n",
       "      <th>mes</th>\n",
       "      <th>año</th>\n",
       "      <th>precio_promedio</th>\n",
       "    </tr>\n",
       "  </thead>\n",
       "  <tbody>\n",
       "    <tr>\n",
       "      <th>6</th>\n",
       "      <td>Abril</td>\n",
       "      <td>2022</td>\n",
       "      <td>1170000.0</td>\n",
       "    </tr>\n",
       "    <tr>\n",
       "      <th>14</th>\n",
       "      <td>Agosto</td>\n",
       "      <td>2022</td>\n",
       "      <td>1168087.5</td>\n",
       "    </tr>\n",
       "    <tr>\n",
       "      <th>22</th>\n",
       "      <td>Diciembre</td>\n",
       "      <td>2022</td>\n",
       "      <td>1200000.0</td>\n",
       "    </tr>\n",
       "    <tr>\n",
       "      <th>12</th>\n",
       "      <td>Julio</td>\n",
       "      <td>2022</td>\n",
       "      <td>1365000.0</td>\n",
       "    </tr>\n",
       "    <tr>\n",
       "      <th>10</th>\n",
       "      <td>Junio</td>\n",
       "      <td>2022</td>\n",
       "      <td>1350000.0</td>\n",
       "    </tr>\n",
       "    <tr>\n",
       "      <th>8</th>\n",
       "      <td>Mayo</td>\n",
       "      <td>2022</td>\n",
       "      <td>1420000.0</td>\n",
       "    </tr>\n",
       "    <tr>\n",
       "      <th>20</th>\n",
       "      <td>Noviembre</td>\n",
       "      <td>2022</td>\n",
       "      <td>1200000.0</td>\n",
       "    </tr>\n",
       "    <tr>\n",
       "      <th>18</th>\n",
       "      <td>Octubre</td>\n",
       "      <td>2022</td>\n",
       "      <td>1350000.0</td>\n",
       "    </tr>\n",
       "    <tr>\n",
       "      <th>16</th>\n",
       "      <td>Septiembre</td>\n",
       "      <td>2022</td>\n",
       "      <td>1204362.5</td>\n",
       "    </tr>\n",
       "    <tr>\n",
       "      <th>7</th>\n",
       "      <td>Abril</td>\n",
       "      <td>2023</td>\n",
       "      <td>1295000.0</td>\n",
       "    </tr>\n",
       "    <tr>\n",
       "      <th>15</th>\n",
       "      <td>Agosto</td>\n",
       "      <td>2023</td>\n",
       "      <td>1186225.0</td>\n",
       "    </tr>\n",
       "    <tr>\n",
       "      <th>23</th>\n",
       "      <td>Diciembre</td>\n",
       "      <td>2023</td>\n",
       "      <td>1200000.0</td>\n",
       "    </tr>\n",
       "    <tr>\n",
       "      <th>13</th>\n",
       "      <td>Julio</td>\n",
       "      <td>2023</td>\n",
       "      <td>1149950.0</td>\n",
       "    </tr>\n",
       "    <tr>\n",
       "      <th>11</th>\n",
       "      <td>Junio</td>\n",
       "      <td>2023</td>\n",
       "      <td>1500000.0</td>\n",
       "    </tr>\n",
       "    <tr>\n",
       "      <th>5</th>\n",
       "      <td>Marzo</td>\n",
       "      <td>2023</td>\n",
       "      <td>1045000.0</td>\n",
       "    </tr>\n",
       "    <tr>\n",
       "      <th>9</th>\n",
       "      <td>Mayo</td>\n",
       "      <td>2023</td>\n",
       "      <td>1200000.0</td>\n",
       "    </tr>\n",
       "    <tr>\n",
       "      <th>21</th>\n",
       "      <td>Noviembre</td>\n",
       "      <td>2023</td>\n",
       "      <td>1200000.0</td>\n",
       "    </tr>\n",
       "    <tr>\n",
       "      <th>19</th>\n",
       "      <td>Octubre</td>\n",
       "      <td>2023</td>\n",
       "      <td>1200000.0</td>\n",
       "    </tr>\n",
       "    <tr>\n",
       "      <th>17</th>\n",
       "      <td>Septiembre</td>\n",
       "      <td>2023</td>\n",
       "      <td>1222500.0</td>\n",
       "    </tr>\n",
       "  </tbody>\n",
       "</table>\n",
       "</div>"
      ],
      "text/plain": [
       "           mes   año  precio_promedio\n",
       "6        Abril  2022        1170000.0\n",
       "14      Agosto  2022        1168087.5\n",
       "22   Diciembre  2022        1200000.0\n",
       "12       Julio  2022        1365000.0\n",
       "10       Junio  2022        1350000.0\n",
       "8         Mayo  2022        1420000.0\n",
       "20   Noviembre  2022        1200000.0\n",
       "18     Octubre  2022        1350000.0\n",
       "16  Septiembre  2022        1204362.5\n",
       "7        Abril  2023        1295000.0\n",
       "15      Agosto  2023        1186225.0\n",
       "23   Diciembre  2023        1200000.0\n",
       "13       Julio  2023        1149950.0\n",
       "11       Junio  2023        1500000.0\n",
       "5        Marzo  2023        1045000.0\n",
       "9         Mayo  2023        1200000.0\n",
       "21   Noviembre  2023        1200000.0\n",
       "19     Octubre  2023        1200000.0\n",
       "17  Septiembre  2023        1222500.0"
      ]
     },
     "execution_count": 27,
     "metadata": {},
     "output_type": "execute_result"
    }
   ],
   "source": [
    "# Crear un DataFrame con todas las combinaciones de meses y años posibles\n",
    "meses = ['Enero', 'Febrero', 'Marzo', 'Abril', 'Mayo', 'Junio', 'Julio', 'Agosto', 'Septiembre', 'Octubre', 'Noviembre', 'Diciembre']\n",
    "años = [2022, 2023]  # Años presentes \n",
    "combinaciones = [(mes, año) for mes in meses for año in años]\n",
    "df_combinaciones = pd.DataFrame(combinaciones, columns=['mes', 'año'])\n",
    "# Fusionar tulancingo_months para llenar los valores faltantes\n",
    "tulancingo_completo = pd.merge(df_combinaciones, tulancingo_months, on=['mes', 'año'], how='left')\n",
    "# Calcular los valores faltantes interpolando los valores conocidos\n",
    "tulancingo_completo['precio_promedio'] = tulancingo_completo['precio_promedio'].interpolate()\n",
    "# Eliminar registros con valores NaN\n",
    "tulancingo_completo = tulancingo_completo.dropna()\n",
    "tulancingo_completo = tulancingo_completo.sort_values(by=['año', 'mes'])\n",
    "tulancingo_completo"
   ]
  },
  {
   "cell_type": "markdown",
   "metadata": {},
   "source": [
    "SACAR PORCENTAJE DE CAMBIO"
   ]
  },
  {
   "cell_type": "code",
   "execution_count": 59,
   "metadata": {},
   "outputs": [
    {
     "data": {
      "text/html": [
       "<div>\n",
       "<style scoped>\n",
       "    .dataframe tbody tr th:only-of-type {\n",
       "        vertical-align: middle;\n",
       "    }\n",
       "\n",
       "    .dataframe tbody tr th {\n",
       "        vertical-align: top;\n",
       "    }\n",
       "\n",
       "    .dataframe thead th {\n",
       "        text-align: right;\n",
       "    }\n",
       "</style>\n",
       "<table border=\"1\" class=\"dataframe\">\n",
       "  <thead>\n",
       "    <tr style=\"text-align: right;\">\n",
       "      <th></th>\n",
       "      <th>mes</th>\n",
       "      <th>año</th>\n",
       "      <th>precio_promedio</th>\n",
       "      <th>cambio_porcentaje</th>\n",
       "    </tr>\n",
       "  </thead>\n",
       "  <tbody>\n",
       "    <tr>\n",
       "      <th>6</th>\n",
       "      <td>Abril</td>\n",
       "      <td>2022</td>\n",
       "      <td>1170000.0</td>\n",
       "      <td>NaN</td>\n",
       "    </tr>\n",
       "    <tr>\n",
       "      <th>14</th>\n",
       "      <td>Agosto</td>\n",
       "      <td>2022</td>\n",
       "      <td>1168087.5</td>\n",
       "      <td>-0.163462</td>\n",
       "    </tr>\n",
       "    <tr>\n",
       "      <th>22</th>\n",
       "      <td>Diciembre</td>\n",
       "      <td>2022</td>\n",
       "      <td>1200000.0</td>\n",
       "      <td>2.732030</td>\n",
       "    </tr>\n",
       "    <tr>\n",
       "      <th>12</th>\n",
       "      <td>Julio</td>\n",
       "      <td>2022</td>\n",
       "      <td>1365000.0</td>\n",
       "      <td>13.750000</td>\n",
       "    </tr>\n",
       "    <tr>\n",
       "      <th>10</th>\n",
       "      <td>Junio</td>\n",
       "      <td>2022</td>\n",
       "      <td>1350000.0</td>\n",
       "      <td>-1.098901</td>\n",
       "    </tr>\n",
       "    <tr>\n",
       "      <th>8</th>\n",
       "      <td>Mayo</td>\n",
       "      <td>2022</td>\n",
       "      <td>1420000.0</td>\n",
       "      <td>5.185185</td>\n",
       "    </tr>\n",
       "    <tr>\n",
       "      <th>20</th>\n",
       "      <td>Noviembre</td>\n",
       "      <td>2022</td>\n",
       "      <td>1200000.0</td>\n",
       "      <td>-15.492958</td>\n",
       "    </tr>\n",
       "    <tr>\n",
       "      <th>18</th>\n",
       "      <td>Octubre</td>\n",
       "      <td>2022</td>\n",
       "      <td>1350000.0</td>\n",
       "      <td>12.500000</td>\n",
       "    </tr>\n",
       "    <tr>\n",
       "      <th>16</th>\n",
       "      <td>Septiembre</td>\n",
       "      <td>2022</td>\n",
       "      <td>1204362.5</td>\n",
       "      <td>-10.787963</td>\n",
       "    </tr>\n",
       "    <tr>\n",
       "      <th>7</th>\n",
       "      <td>Abril</td>\n",
       "      <td>2023</td>\n",
       "      <td>1295000.0</td>\n",
       "      <td>7.525766</td>\n",
       "    </tr>\n",
       "    <tr>\n",
       "      <th>15</th>\n",
       "      <td>Agosto</td>\n",
       "      <td>2023</td>\n",
       "      <td>1186225.0</td>\n",
       "      <td>-8.399614</td>\n",
       "    </tr>\n",
       "    <tr>\n",
       "      <th>23</th>\n",
       "      <td>Diciembre</td>\n",
       "      <td>2023</td>\n",
       "      <td>1200000.0</td>\n",
       "      <td>1.161247</td>\n",
       "    </tr>\n",
       "    <tr>\n",
       "      <th>13</th>\n",
       "      <td>Julio</td>\n",
       "      <td>2023</td>\n",
       "      <td>1149950.0</td>\n",
       "      <td>-4.170833</td>\n",
       "    </tr>\n",
       "    <tr>\n",
       "      <th>11</th>\n",
       "      <td>Junio</td>\n",
       "      <td>2023</td>\n",
       "      <td>1500000.0</td>\n",
       "      <td>30.440454</td>\n",
       "    </tr>\n",
       "    <tr>\n",
       "      <th>5</th>\n",
       "      <td>Marzo</td>\n",
       "      <td>2023</td>\n",
       "      <td>1045000.0</td>\n",
       "      <td>-30.333333</td>\n",
       "    </tr>\n",
       "    <tr>\n",
       "      <th>9</th>\n",
       "      <td>Mayo</td>\n",
       "      <td>2023</td>\n",
       "      <td>1200000.0</td>\n",
       "      <td>14.832536</td>\n",
       "    </tr>\n",
       "    <tr>\n",
       "      <th>21</th>\n",
       "      <td>Noviembre</td>\n",
       "      <td>2023</td>\n",
       "      <td>1200000.0</td>\n",
       "      <td>0.000000</td>\n",
       "    </tr>\n",
       "    <tr>\n",
       "      <th>19</th>\n",
       "      <td>Octubre</td>\n",
       "      <td>2023</td>\n",
       "      <td>1200000.0</td>\n",
       "      <td>0.000000</td>\n",
       "    </tr>\n",
       "    <tr>\n",
       "      <th>17</th>\n",
       "      <td>Septiembre</td>\n",
       "      <td>2023</td>\n",
       "      <td>1222500.0</td>\n",
       "      <td>1.875000</td>\n",
       "    </tr>\n",
       "  </tbody>\n",
       "</table>\n",
       "</div>"
      ],
      "text/plain": [
       "           mes   año  precio_promedio  cambio_porcentaje\n",
       "6        Abril  2022        1170000.0                NaN\n",
       "14      Agosto  2022        1168087.5          -0.163462\n",
       "22   Diciembre  2022        1200000.0           2.732030\n",
       "12       Julio  2022        1365000.0          13.750000\n",
       "10       Junio  2022        1350000.0          -1.098901\n",
       "8         Mayo  2022        1420000.0           5.185185\n",
       "20   Noviembre  2022        1200000.0         -15.492958\n",
       "18     Octubre  2022        1350000.0          12.500000\n",
       "16  Septiembre  2022        1204362.5         -10.787963\n",
       "7        Abril  2023        1295000.0           7.525766\n",
       "15      Agosto  2023        1186225.0          -8.399614\n",
       "23   Diciembre  2023        1200000.0           1.161247\n",
       "13       Julio  2023        1149950.0          -4.170833\n",
       "11       Junio  2023        1500000.0          30.440454\n",
       "5        Marzo  2023        1045000.0         -30.333333\n",
       "9         Mayo  2023        1200000.0          14.832536\n",
       "21   Noviembre  2023        1200000.0           0.000000\n",
       "19     Octubre  2023        1200000.0           0.000000\n",
       "17  Septiembre  2023        1222500.0           1.875000"
      ]
     },
     "execution_count": 59,
     "metadata": {},
     "output_type": "execute_result"
    }
   ],
   "source": [
    "tulancingo_completo['cambio_porcentaje'] = tulancingo_completo['precio_promedio'].pct_change() * 100\n",
    "tulancingo_completo['precio_promedio'] = tulancingo_completo['precio_promedio'].round(2)\n",
    "tulancingo_completo"
   ]
  },
  {
   "cell_type": "code",
   "execution_count": 90,
   "metadata": {},
   "outputs": [
    {
     "name": "stdout",
     "output_type": "stream",
     "text": [
      "Cambio porcentaje promedio de Tulancingo: 1.09\n",
      "Cambio de Tulancingo: 1.31\n"
     ]
    }
   ],
   "source": [
    "# Calcular el cambio porcentaje promedio\n",
    "cambio_porcentaje_tulancingo = tulancingo_completo['cambio_porcentaje'].mean()\n",
    "\n",
    "# Redondear a dos decimales y formatear como '00.00'\n",
    "cambio_porcentaje_tulancingo = round(cambio_porcentaje_tulancingo, 2)\n",
    "cambio_porcentaje_tulancingo_formatted = \"{:.2f}\".format(cambio_porcentaje_tulancingo)\n",
    "\n",
    "# Calcular el cambio y redondear a dos decimales en formato '00.00'\n",
    "cambio_tulancingo = cambio_porcentaje_tulancingo * 1.2\n",
    "cambio_tulancingo_formatted = \"{:.2f}\".format(cambio_tulancingo)\n",
    "\n",
    "# Mostrar los resultados\n",
    "print(\"Cambio porcentaje promedio de Tulancingo:\", cambio_porcentaje_tulancingo_formatted)\n",
    "print(\"Cambio de Tulancingo:\", cambio_tulancingo_formatted)"
   ]
  },
  {
   "cell_type": "markdown",
   "metadata": {},
   "source": [
    "SACAR VALORES DE AÑOS"
   ]
  },
  {
   "cell_type": "code",
   "execution_count": 76,
   "metadata": {},
   "outputs": [
    {
     "data": {
      "text/html": [
       "<div>\n",
       "<style scoped>\n",
       "    .dataframe tbody tr th:only-of-type {\n",
       "        vertical-align: middle;\n",
       "    }\n",
       "\n",
       "    .dataframe tbody tr th {\n",
       "        vertical-align: top;\n",
       "    }\n",
       "\n",
       "    .dataframe thead th {\n",
       "        text-align: right;\n",
       "    }\n",
       "</style>\n",
       "<table border=\"1\" class=\"dataframe\">\n",
       "  <thead>\n",
       "    <tr style=\"text-align: right;\">\n",
       "      <th></th>\n",
       "      <th>año</th>\n",
       "      <th>precio</th>\n",
       "    </tr>\n",
       "  </thead>\n",
       "  <tbody>\n",
       "    <tr>\n",
       "      <th>0</th>\n",
       "      <td>2022</td>\n",
       "      <td>1.269717e+06</td>\n",
       "    </tr>\n",
       "    <tr>\n",
       "      <th>1</th>\n",
       "      <td>2023</td>\n",
       "      <td>1.219868e+06</td>\n",
       "    </tr>\n",
       "  </tbody>\n",
       "</table>\n",
       "</div>"
      ],
      "text/plain": [
       "    año        precio\n",
       "0  2022  1.269717e+06\n",
       "1  2023  1.219868e+06"
      ]
     },
     "execution_count": 76,
     "metadata": {},
     "output_type": "execute_result"
    }
   ],
   "source": [
    "precio_media_anual_tulancingo = tulancingo_completo.groupby('año')['precio_promedio'].mean().reset_index()\n",
    "precio_media_anual_tulancingo.rename(columns={'precio_promedio': 'precio'}, inplace=True)\n",
    "precio_media_anual_tulancingo"
   ]
  },
  {
   "cell_type": "code",
   "execution_count": 77,
   "metadata": {},
   "outputs": [
    {
     "data": {
      "text/html": [
       "<div>\n",
       "<style scoped>\n",
       "    .dataframe tbody tr th:only-of-type {\n",
       "        vertical-align: middle;\n",
       "    }\n",
       "\n",
       "    .dataframe tbody tr th {\n",
       "        vertical-align: top;\n",
       "    }\n",
       "\n",
       "    .dataframe thead th {\n",
       "        text-align: right;\n",
       "    }\n",
       "</style>\n",
       "<table border=\"1\" class=\"dataframe\">\n",
       "  <thead>\n",
       "    <tr style=\"text-align: right;\">\n",
       "      <th></th>\n",
       "      <th>año</th>\n",
       "      <th>precio</th>\n",
       "    </tr>\n",
       "  </thead>\n",
       "  <tbody>\n",
       "    <tr>\n",
       "      <th>0</th>\n",
       "      <td>2024</td>\n",
       "      <td>2.817894e+06</td>\n",
       "    </tr>\n",
       "    <tr>\n",
       "      <th>1</th>\n",
       "      <td>2025</td>\n",
       "      <td>6.509335e+06</td>\n",
       "    </tr>\n",
       "    <tr>\n",
       "      <th>2</th>\n",
       "      <td>2026</td>\n",
       "      <td>1.503656e+07</td>\n",
       "    </tr>\n",
       "  </tbody>\n",
       "</table>\n",
       "</div>"
      ],
      "text/plain": [
       "    año        precio\n",
       "0  2024  2.817894e+06\n",
       "1  2025  6.509335e+06\n",
       "2  2026  1.503656e+07"
      ]
     },
     "execution_count": 77,
     "metadata": {},
     "output_type": "execute_result"
    }
   ],
   "source": [
    "# valor del cambio: 3.59\n",
    "cambio_tulancingo_numerico = float(cambio_tulancingo_formatted)\n",
    "# Años siguientes\n",
    "años_siguientes = [2024, 2025, 2026]\n",
    "\n",
    "# Verificar si el año 2023 está presente en el DataFrame precio_media_anual_tulancingo\n",
    "if 2023 in precio_media_anual_tulancingo['año'].values:\n",
    "    # Obtener el precio del año anterior (2023)\n",
    "    precio_anterior_2024 = precio_media_anual_tulancingo.loc[precio_media_anual_tulancingo['año'] == 2023, 'precio'].values[0]\n",
    "else:\n",
    "    # Asignar 0 si el año 2023 no está presente\n",
    "    precio_anterior_2024 = 0\n",
    "\n",
    "# Calcular el precio para el año 2024\n",
    "precio_nuevo_2024 = (precio_anterior_2024 * cambio_tulancingo_numerico) + precio_anterior_2024\n",
    "\n",
    "# Calcular el precio para el año 2025 basado en el precio del año 2024\n",
    "precio_nuevo_2025 = (precio_nuevo_2024 * cambio_tulancingo_numerico) + precio_nuevo_2024\n",
    "\n",
    "# Calcular el precio para el año 2026 basado en el precio del año 2025\n",
    "precio_nuevo_2026 = (precio_nuevo_2025 * cambio_tulancingo_numerico) + precio_nuevo_2025\n",
    "\n",
    "# Crear un DataFrame para los años 2024, 2025 y 2026\n",
    "precios_siguientes = {'año': [2024, 2025, 2026], 'precio': [precio_nuevo_2024, precio_nuevo_2025, precio_nuevo_2026]}\n",
    "precio_media_anual_siguientes = pd.DataFrame(precios_siguientes)\n",
    "precio_media_anual_siguientes"
   ]
  },
  {
   "cell_type": "code",
   "execution_count": null,
   "metadata": {},
   "outputs": [],
   "source": []
  },
  {
   "cell_type": "code",
   "execution_count": 78,
   "metadata": {},
   "outputs": [
    {
     "data": {
      "text/html": [
       "<div>\n",
       "<style scoped>\n",
       "    .dataframe tbody tr th:only-of-type {\n",
       "        vertical-align: middle;\n",
       "    }\n",
       "\n",
       "    .dataframe tbody tr th {\n",
       "        vertical-align: top;\n",
       "    }\n",
       "\n",
       "    .dataframe thead th {\n",
       "        text-align: right;\n",
       "    }\n",
       "</style>\n",
       "<table border=\"1\" class=\"dataframe\">\n",
       "  <thead>\n",
       "    <tr style=\"text-align: right;\">\n",
       "      <th></th>\n",
       "      <th>año</th>\n",
       "      <th>precio</th>\n",
       "    </tr>\n",
       "  </thead>\n",
       "  <tbody>\n",
       "    <tr>\n",
       "      <th>0</th>\n",
       "      <td>2022</td>\n",
       "      <td>1.269717e+06</td>\n",
       "    </tr>\n",
       "    <tr>\n",
       "      <th>1</th>\n",
       "      <td>2023</td>\n",
       "      <td>1.219868e+06</td>\n",
       "    </tr>\n",
       "    <tr>\n",
       "      <th>2</th>\n",
       "      <td>2024</td>\n",
       "      <td>2.817894e+06</td>\n",
       "    </tr>\n",
       "    <tr>\n",
       "      <th>3</th>\n",
       "      <td>2025</td>\n",
       "      <td>6.509335e+06</td>\n",
       "    </tr>\n",
       "    <tr>\n",
       "      <th>4</th>\n",
       "      <td>2026</td>\n",
       "      <td>1.503656e+07</td>\n",
       "    </tr>\n",
       "  </tbody>\n",
       "</table>\n",
       "</div>"
      ],
      "text/plain": [
       "    año        precio\n",
       "0  2022  1.269717e+06\n",
       "1  2023  1.219868e+06\n",
       "2  2024  2.817894e+06\n",
       "3  2025  6.509335e+06\n",
       "4  2026  1.503656e+07"
      ]
     },
     "execution_count": 78,
     "metadata": {},
     "output_type": "execute_result"
    }
   ],
   "source": [
    "tulancingo_precio_media_anual = pd.concat([precio_media_anual_tulancingo,precio_media_anual_siguientes], ignore_index=True)\n",
    "tulancingo_precio_media_anual"
   ]
  },
  {
   "cell_type": "code",
   "execution_count": 68,
   "metadata": {},
   "outputs": [
    {
     "data": {
      "application/vnd.plotly.v1+json": {
       "config": {
        "plotlyServerURL": "https://plot.ly"
       },
       "data": [
        {
         "marker": {
          "color": "blue"
         },
         "mode": "markers+lines",
         "type": "scatter",
         "x": [
          2022,
          2023,
          2024,
          2025,
          2026
         ],
         "y": [
          1204362.5,
          1200000,
          1214193.7369700451,
          1214193.7369700451,
          1214193.7369700451
         ]
        }
       ],
       "layout": {
        "annotations": [
         {
          "font": {
           "color": "black",
           "size": 12
          },
          "showarrow": false,
          "text": "$1,204,362.50",
          "textangle": 0,
          "x": 2022,
          "xshift": 0,
          "y": 1204362.5,
          "yshift": 17
         },
         {
          "font": {
           "color": "black",
           "size": 12
          },
          "showarrow": false,
          "text": "$1,200,000.00",
          "textangle": 0,
          "x": 2023,
          "xshift": 0,
          "y": 1200000,
          "yshift": 17
         },
         {
          "font": {
           "color": "black",
           "size": 12
          },
          "showarrow": false,
          "text": "$1,214,193.74",
          "textangle": 0,
          "x": 2024,
          "xshift": 0,
          "y": 1214193.7369700451,
          "yshift": 17
         },
         {
          "font": {
           "color": "black",
           "size": 12
          },
          "showarrow": false,
          "text": "$1,214,193.74",
          "textangle": 0,
          "x": 2025,
          "xshift": 0,
          "y": 1214193.7369700451,
          "yshift": 17
         },
         {
          "font": {
           "color": "black",
           "size": 12
          },
          "showarrow": false,
          "text": "$1,214,193.74",
          "textangle": 0,
          "x": 2026,
          "xshift": 0,
          "y": 1214193.7369700451,
          "yshift": 17
         }
        ],
        "plot_bgcolor": "rgba(0,0,0,0)",
        "template": {
         "data": {
          "bar": [
           {
            "error_x": {
             "color": "#2a3f5f"
            },
            "error_y": {
             "color": "#2a3f5f"
            },
            "marker": {
             "line": {
              "color": "#E5ECF6",
              "width": 0.5
             },
             "pattern": {
              "fillmode": "overlay",
              "size": 10,
              "solidity": 0.2
             }
            },
            "type": "bar"
           }
          ],
          "barpolar": [
           {
            "marker": {
             "line": {
              "color": "#E5ECF6",
              "width": 0.5
             },
             "pattern": {
              "fillmode": "overlay",
              "size": 10,
              "solidity": 0.2
             }
            },
            "type": "barpolar"
           }
          ],
          "carpet": [
           {
            "aaxis": {
             "endlinecolor": "#2a3f5f",
             "gridcolor": "white",
             "linecolor": "white",
             "minorgridcolor": "white",
             "startlinecolor": "#2a3f5f"
            },
            "baxis": {
             "endlinecolor": "#2a3f5f",
             "gridcolor": "white",
             "linecolor": "white",
             "minorgridcolor": "white",
             "startlinecolor": "#2a3f5f"
            },
            "type": "carpet"
           }
          ],
          "choropleth": [
           {
            "colorbar": {
             "outlinewidth": 0,
             "ticks": ""
            },
            "type": "choropleth"
           }
          ],
          "contour": [
           {
            "colorbar": {
             "outlinewidth": 0,
             "ticks": ""
            },
            "colorscale": [
             [
              0,
              "#0d0887"
             ],
             [
              0.1111111111111111,
              "#46039f"
             ],
             [
              0.2222222222222222,
              "#7201a8"
             ],
             [
              0.3333333333333333,
              "#9c179e"
             ],
             [
              0.4444444444444444,
              "#bd3786"
             ],
             [
              0.5555555555555556,
              "#d8576b"
             ],
             [
              0.6666666666666666,
              "#ed7953"
             ],
             [
              0.7777777777777778,
              "#fb9f3a"
             ],
             [
              0.8888888888888888,
              "#fdca26"
             ],
             [
              1,
              "#f0f921"
             ]
            ],
            "type": "contour"
           }
          ],
          "contourcarpet": [
           {
            "colorbar": {
             "outlinewidth": 0,
             "ticks": ""
            },
            "type": "contourcarpet"
           }
          ],
          "heatmap": [
           {
            "colorbar": {
             "outlinewidth": 0,
             "ticks": ""
            },
            "colorscale": [
             [
              0,
              "#0d0887"
             ],
             [
              0.1111111111111111,
              "#46039f"
             ],
             [
              0.2222222222222222,
              "#7201a8"
             ],
             [
              0.3333333333333333,
              "#9c179e"
             ],
             [
              0.4444444444444444,
              "#bd3786"
             ],
             [
              0.5555555555555556,
              "#d8576b"
             ],
             [
              0.6666666666666666,
              "#ed7953"
             ],
             [
              0.7777777777777778,
              "#fb9f3a"
             ],
             [
              0.8888888888888888,
              "#fdca26"
             ],
             [
              1,
              "#f0f921"
             ]
            ],
            "type": "heatmap"
           }
          ],
          "heatmapgl": [
           {
            "colorbar": {
             "outlinewidth": 0,
             "ticks": ""
            },
            "colorscale": [
             [
              0,
              "#0d0887"
             ],
             [
              0.1111111111111111,
              "#46039f"
             ],
             [
              0.2222222222222222,
              "#7201a8"
             ],
             [
              0.3333333333333333,
              "#9c179e"
             ],
             [
              0.4444444444444444,
              "#bd3786"
             ],
             [
              0.5555555555555556,
              "#d8576b"
             ],
             [
              0.6666666666666666,
              "#ed7953"
             ],
             [
              0.7777777777777778,
              "#fb9f3a"
             ],
             [
              0.8888888888888888,
              "#fdca26"
             ],
             [
              1,
              "#f0f921"
             ]
            ],
            "type": "heatmapgl"
           }
          ],
          "histogram": [
           {
            "marker": {
             "pattern": {
              "fillmode": "overlay",
              "size": 10,
              "solidity": 0.2
             }
            },
            "type": "histogram"
           }
          ],
          "histogram2d": [
           {
            "colorbar": {
             "outlinewidth": 0,
             "ticks": ""
            },
            "colorscale": [
             [
              0,
              "#0d0887"
             ],
             [
              0.1111111111111111,
              "#46039f"
             ],
             [
              0.2222222222222222,
              "#7201a8"
             ],
             [
              0.3333333333333333,
              "#9c179e"
             ],
             [
              0.4444444444444444,
              "#bd3786"
             ],
             [
              0.5555555555555556,
              "#d8576b"
             ],
             [
              0.6666666666666666,
              "#ed7953"
             ],
             [
              0.7777777777777778,
              "#fb9f3a"
             ],
             [
              0.8888888888888888,
              "#fdca26"
             ],
             [
              1,
              "#f0f921"
             ]
            ],
            "type": "histogram2d"
           }
          ],
          "histogram2dcontour": [
           {
            "colorbar": {
             "outlinewidth": 0,
             "ticks": ""
            },
            "colorscale": [
             [
              0,
              "#0d0887"
             ],
             [
              0.1111111111111111,
              "#46039f"
             ],
             [
              0.2222222222222222,
              "#7201a8"
             ],
             [
              0.3333333333333333,
              "#9c179e"
             ],
             [
              0.4444444444444444,
              "#bd3786"
             ],
             [
              0.5555555555555556,
              "#d8576b"
             ],
             [
              0.6666666666666666,
              "#ed7953"
             ],
             [
              0.7777777777777778,
              "#fb9f3a"
             ],
             [
              0.8888888888888888,
              "#fdca26"
             ],
             [
              1,
              "#f0f921"
             ]
            ],
            "type": "histogram2dcontour"
           }
          ],
          "mesh3d": [
           {
            "colorbar": {
             "outlinewidth": 0,
             "ticks": ""
            },
            "type": "mesh3d"
           }
          ],
          "parcoords": [
           {
            "line": {
             "colorbar": {
              "outlinewidth": 0,
              "ticks": ""
             }
            },
            "type": "parcoords"
           }
          ],
          "pie": [
           {
            "automargin": true,
            "type": "pie"
           }
          ],
          "scatter": [
           {
            "fillpattern": {
             "fillmode": "overlay",
             "size": 10,
             "solidity": 0.2
            },
            "type": "scatter"
           }
          ],
          "scatter3d": [
           {
            "line": {
             "colorbar": {
              "outlinewidth": 0,
              "ticks": ""
             }
            },
            "marker": {
             "colorbar": {
              "outlinewidth": 0,
              "ticks": ""
             }
            },
            "type": "scatter3d"
           }
          ],
          "scattercarpet": [
           {
            "marker": {
             "colorbar": {
              "outlinewidth": 0,
              "ticks": ""
             }
            },
            "type": "scattercarpet"
           }
          ],
          "scattergeo": [
           {
            "marker": {
             "colorbar": {
              "outlinewidth": 0,
              "ticks": ""
             }
            },
            "type": "scattergeo"
           }
          ],
          "scattergl": [
           {
            "marker": {
             "colorbar": {
              "outlinewidth": 0,
              "ticks": ""
             }
            },
            "type": "scattergl"
           }
          ],
          "scattermapbox": [
           {
            "marker": {
             "colorbar": {
              "outlinewidth": 0,
              "ticks": ""
             }
            },
            "type": "scattermapbox"
           }
          ],
          "scatterpolar": [
           {
            "marker": {
             "colorbar": {
              "outlinewidth": 0,
              "ticks": ""
             }
            },
            "type": "scatterpolar"
           }
          ],
          "scatterpolargl": [
           {
            "marker": {
             "colorbar": {
              "outlinewidth": 0,
              "ticks": ""
             }
            },
            "type": "scatterpolargl"
           }
          ],
          "scatterternary": [
           {
            "marker": {
             "colorbar": {
              "outlinewidth": 0,
              "ticks": ""
             }
            },
            "type": "scatterternary"
           }
          ],
          "surface": [
           {
            "colorbar": {
             "outlinewidth": 0,
             "ticks": ""
            },
            "colorscale": [
             [
              0,
              "#0d0887"
             ],
             [
              0.1111111111111111,
              "#46039f"
             ],
             [
              0.2222222222222222,
              "#7201a8"
             ],
             [
              0.3333333333333333,
              "#9c179e"
             ],
             [
              0.4444444444444444,
              "#bd3786"
             ],
             [
              0.5555555555555556,
              "#d8576b"
             ],
             [
              0.6666666666666666,
              "#ed7953"
             ],
             [
              0.7777777777777778,
              "#fb9f3a"
             ],
             [
              0.8888888888888888,
              "#fdca26"
             ],
             [
              1,
              "#f0f921"
             ]
            ],
            "type": "surface"
           }
          ],
          "table": [
           {
            "cells": {
             "fill": {
              "color": "#EBF0F8"
             },
             "line": {
              "color": "white"
             }
            },
            "header": {
             "fill": {
              "color": "#C8D4E3"
             },
             "line": {
              "color": "white"
             }
            },
            "type": "table"
           }
          ]
         },
         "layout": {
          "annotationdefaults": {
           "arrowcolor": "#2a3f5f",
           "arrowhead": 0,
           "arrowwidth": 1
          },
          "autotypenumbers": "strict",
          "coloraxis": {
           "colorbar": {
            "outlinewidth": 0,
            "ticks": ""
           }
          },
          "colorscale": {
           "diverging": [
            [
             0,
             "#8e0152"
            ],
            [
             0.1,
             "#c51b7d"
            ],
            [
             0.2,
             "#de77ae"
            ],
            [
             0.3,
             "#f1b6da"
            ],
            [
             0.4,
             "#fde0ef"
            ],
            [
             0.5,
             "#f7f7f7"
            ],
            [
             0.6,
             "#e6f5d0"
            ],
            [
             0.7,
             "#b8e186"
            ],
            [
             0.8,
             "#7fbc41"
            ],
            [
             0.9,
             "#4d9221"
            ],
            [
             1,
             "#276419"
            ]
           ],
           "sequential": [
            [
             0,
             "#0d0887"
            ],
            [
             0.1111111111111111,
             "#46039f"
            ],
            [
             0.2222222222222222,
             "#7201a8"
            ],
            [
             0.3333333333333333,
             "#9c179e"
            ],
            [
             0.4444444444444444,
             "#bd3786"
            ],
            [
             0.5555555555555556,
             "#d8576b"
            ],
            [
             0.6666666666666666,
             "#ed7953"
            ],
            [
             0.7777777777777778,
             "#fb9f3a"
            ],
            [
             0.8888888888888888,
             "#fdca26"
            ],
            [
             1,
             "#f0f921"
            ]
           ],
           "sequentialminus": [
            [
             0,
             "#0d0887"
            ],
            [
             0.1111111111111111,
             "#46039f"
            ],
            [
             0.2222222222222222,
             "#7201a8"
            ],
            [
             0.3333333333333333,
             "#9c179e"
            ],
            [
             0.4444444444444444,
             "#bd3786"
            ],
            [
             0.5555555555555556,
             "#d8576b"
            ],
            [
             0.6666666666666666,
             "#ed7953"
            ],
            [
             0.7777777777777778,
             "#fb9f3a"
            ],
            [
             0.8888888888888888,
             "#fdca26"
            ],
            [
             1,
             "#f0f921"
            ]
           ]
          },
          "colorway": [
           "#636efa",
           "#EF553B",
           "#00cc96",
           "#ab63fa",
           "#FFA15A",
           "#19d3f3",
           "#FF6692",
           "#B6E880",
           "#FF97FF",
           "#FECB52"
          ],
          "font": {
           "color": "#2a3f5f"
          },
          "geo": {
           "bgcolor": "white",
           "lakecolor": "white",
           "landcolor": "#E5ECF6",
           "showlakes": true,
           "showland": true,
           "subunitcolor": "white"
          },
          "hoverlabel": {
           "align": "left"
          },
          "hovermode": "closest",
          "mapbox": {
           "style": "light"
          },
          "paper_bgcolor": "white",
          "plot_bgcolor": "#E5ECF6",
          "polar": {
           "angularaxis": {
            "gridcolor": "white",
            "linecolor": "white",
            "ticks": ""
           },
           "bgcolor": "#E5ECF6",
           "radialaxis": {
            "gridcolor": "white",
            "linecolor": "white",
            "ticks": ""
           }
          },
          "scene": {
           "xaxis": {
            "backgroundcolor": "#E5ECF6",
            "gridcolor": "white",
            "gridwidth": 2,
            "linecolor": "white",
            "showbackground": true,
            "ticks": "",
            "zerolinecolor": "white"
           },
           "yaxis": {
            "backgroundcolor": "#E5ECF6",
            "gridcolor": "white",
            "gridwidth": 2,
            "linecolor": "white",
            "showbackground": true,
            "ticks": "",
            "zerolinecolor": "white"
           },
           "zaxis": {
            "backgroundcolor": "#E5ECF6",
            "gridcolor": "white",
            "gridwidth": 2,
            "linecolor": "white",
            "showbackground": true,
            "ticks": "",
            "zerolinecolor": "white"
           }
          },
          "shapedefaults": {
           "line": {
            "color": "#2a3f5f"
           }
          },
          "ternary": {
           "aaxis": {
            "gridcolor": "white",
            "linecolor": "white",
            "ticks": ""
           },
           "baxis": {
            "gridcolor": "white",
            "linecolor": "white",
            "ticks": ""
           },
           "bgcolor": "#E5ECF6",
           "caxis": {
            "gridcolor": "white",
            "linecolor": "white",
            "ticks": ""
           }
          },
          "title": {
           "x": 0.05
          },
          "xaxis": {
           "automargin": true,
           "gridcolor": "white",
           "linecolor": "white",
           "ticks": "",
           "title": {
            "standoff": 15
           },
           "zerolinecolor": "white",
           "zerolinewidth": 2
          },
          "yaxis": {
           "automargin": true,
           "gridcolor": "white",
           "linecolor": "white",
           "ticks": "",
           "title": {
            "standoff": 15
           },
           "zerolinecolor": "white",
           "zerolinewidth": 2
          }
         }
        },
        "title": {
         "text": "Precio Media Anual"
        },
        "xaxis": {
         "gridcolor": "#dddcda",
         "tickmode": "array",
         "ticktext": [
          2022,
          2023,
          2024,
          2025,
          2026
         ],
         "tickvals": [
          2022,
          2023,
          2024,
          2025,
          2026
         ]
        },
        "yaxis": {
         "gridcolor": "#dddcda",
         "gridwidth": 1,
         "range": [
          0,
          16000000
         ],
         "ticktext": [
          "$0.00",
          "$500,000.00",
          "$1,000,000.00",
          "$1,500,000.00",
          "$2,000,000.00"
         ],
         "tickvals": [
          0,
          1000000,
          5000000,
          10000000,
          15000000,
          200000000
         ]
        }
       }
      }
     },
     "metadata": {},
     "output_type": "display_data"
    }
   ],
   "source": [
    "# Datos\n",
    "año = tulancingo_predicciones['año']\n",
    "promedio = tulancingo_predicciones['precio_promedio']\n",
    "\n",
    "fig = go.Figure()\n",
    "fig.add_trace(go.Scatter(\n",
    "    x=año,\n",
    "    y=promedio,\n",
    "    mode='markers+lines',\n",
    "    marker=dict(color='blue'),\n",
    "))\n",
    "# Agregar anotaciones para mostrar los valores encima de los puntos\n",
    "for a, p in zip(año, promedio):\n",
    "    fig.add_annotation(\n",
    "        x=a,\n",
    "        y=p,\n",
    "        text=f\"${p:,.2f}\",  # Formatear el valor del promedio como moneda\n",
    "        showarrow=False,\n",
    "        font=dict(color='black', size=12),\n",
    "        xshift=0,\n",
    "        yshift=17,\n",
    "        textangle=0\n",
    "    )\n",
    "# Actualizar diseño\n",
    "fig.update_layout(\n",
    "    title='Precio Media Anual',\n",
    "    yaxis=dict(\n",
    "        range=[0, 16000000],  # Establecer el rango del eje y\n",
    "        tickvals=[0, 1000000,5000000, 10000000,15000000,200000000],  # Definir los valores de las marcas en el eje y\n",
    "        ticktext=['$0.00', '$500,000.00', '$1,000,000.00', '$1,500,000.00', '$2,000,000.00'],  # Definir el texto de las marcas en el eje y\n",
    "        gridcolor='#dddcda',   # Color de las líneas de la cuadrícula\n",
    "        gridwidth=1  # Ancho de las líneas de la cuadrícula\n",
    "    ),\n",
    "    xaxis=dict(\n",
    "        gridcolor='#dddcda', \n",
    "        tickmode='array',\n",
    "        tickvals=año,\n",
    "        ticktext=año\n",
    "    ),\n",
    "    plot_bgcolor='rgba(0,0,0,0)'\n",
    ")\n",
    "# Exportar gráfica como archivo HTML\n",
    "def guardar_grafico_como_html(fig, nombre_archivo, carpeta='graficas'):\n",
    "    # Crear la carpeta si no existe\n",
    "    if not os.path.exists(carpeta):\n",
    "        os.makedirs(carpeta)\n",
    "    \n",
    "    # Gráfica como archivo HTML en la carpeta especificada\n",
    "    pio.write_html(fig, f'{carpeta}/{nombre_archivo}.html')\n",
    "\n",
    "guardar_grafico_como_html(fig, 'g_scatt_preciomediaanual_prom_tulancingo', carpeta='graficas')\n",
    "fig.show()"
   ]
  },
  {
   "cell_type": "code",
   "execution_count": 94,
   "metadata": {},
   "outputs": [
    {
     "data": {
      "text/html": [
       "<div>\n",
       "<style scoped>\n",
       "    .dataframe tbody tr th:only-of-type {\n",
       "        vertical-align: middle;\n",
       "    }\n",
       "\n",
       "    .dataframe tbody tr th {\n",
       "        vertical-align: top;\n",
       "    }\n",
       "\n",
       "    .dataframe thead th {\n",
       "        text-align: right;\n",
       "    }\n",
       "</style>\n",
       "<table border=\"1\" class=\"dataframe\">\n",
       "  <thead>\n",
       "    <tr style=\"text-align: right;\">\n",
       "      <th></th>\n",
       "      <th>mes</th>\n",
       "      <th>año</th>\n",
       "      <th>precio_promedio</th>\n",
       "      <th>cambio_porcentaje</th>\n",
       "    </tr>\n",
       "  </thead>\n",
       "  <tbody>\n",
       "    <tr>\n",
       "      <th>6</th>\n",
       "      <td>Abril</td>\n",
       "      <td>2022</td>\n",
       "      <td>1170000.0</td>\n",
       "      <td>NaN</td>\n",
       "    </tr>\n",
       "    <tr>\n",
       "      <th>14</th>\n",
       "      <td>Agosto</td>\n",
       "      <td>2022</td>\n",
       "      <td>1168087.5</td>\n",
       "      <td>-0.163462</td>\n",
       "    </tr>\n",
       "    <tr>\n",
       "      <th>22</th>\n",
       "      <td>Diciembre</td>\n",
       "      <td>2022</td>\n",
       "      <td>1200000.0</td>\n",
       "      <td>2.732030</td>\n",
       "    </tr>\n",
       "    <tr>\n",
       "      <th>12</th>\n",
       "      <td>Julio</td>\n",
       "      <td>2022</td>\n",
       "      <td>1365000.0</td>\n",
       "      <td>13.750000</td>\n",
       "    </tr>\n",
       "    <tr>\n",
       "      <th>10</th>\n",
       "      <td>Junio</td>\n",
       "      <td>2022</td>\n",
       "      <td>1350000.0</td>\n",
       "      <td>-1.098901</td>\n",
       "    </tr>\n",
       "    <tr>\n",
       "      <th>8</th>\n",
       "      <td>Mayo</td>\n",
       "      <td>2022</td>\n",
       "      <td>1420000.0</td>\n",
       "      <td>5.185185</td>\n",
       "    </tr>\n",
       "    <tr>\n",
       "      <th>20</th>\n",
       "      <td>Noviembre</td>\n",
       "      <td>2022</td>\n",
       "      <td>1200000.0</td>\n",
       "      <td>-15.492958</td>\n",
       "    </tr>\n",
       "    <tr>\n",
       "      <th>18</th>\n",
       "      <td>Octubre</td>\n",
       "      <td>2022</td>\n",
       "      <td>1350000.0</td>\n",
       "      <td>12.500000</td>\n",
       "    </tr>\n",
       "    <tr>\n",
       "      <th>16</th>\n",
       "      <td>Septiembre</td>\n",
       "      <td>2022</td>\n",
       "      <td>1204362.5</td>\n",
       "      <td>-10.787963</td>\n",
       "    </tr>\n",
       "    <tr>\n",
       "      <th>7</th>\n",
       "      <td>Abril</td>\n",
       "      <td>2023</td>\n",
       "      <td>1295000.0</td>\n",
       "      <td>7.525766</td>\n",
       "    </tr>\n",
       "    <tr>\n",
       "      <th>15</th>\n",
       "      <td>Agosto</td>\n",
       "      <td>2023</td>\n",
       "      <td>1186225.0</td>\n",
       "      <td>-8.399614</td>\n",
       "    </tr>\n",
       "    <tr>\n",
       "      <th>23</th>\n",
       "      <td>Diciembre</td>\n",
       "      <td>2023</td>\n",
       "      <td>1200000.0</td>\n",
       "      <td>1.161247</td>\n",
       "    </tr>\n",
       "    <tr>\n",
       "      <th>13</th>\n",
       "      <td>Julio</td>\n",
       "      <td>2023</td>\n",
       "      <td>1149950.0</td>\n",
       "      <td>-4.170833</td>\n",
       "    </tr>\n",
       "    <tr>\n",
       "      <th>11</th>\n",
       "      <td>Junio</td>\n",
       "      <td>2023</td>\n",
       "      <td>1500000.0</td>\n",
       "      <td>30.440454</td>\n",
       "    </tr>\n",
       "    <tr>\n",
       "      <th>5</th>\n",
       "      <td>Marzo</td>\n",
       "      <td>2023</td>\n",
       "      <td>1045000.0</td>\n",
       "      <td>-30.333333</td>\n",
       "    </tr>\n",
       "    <tr>\n",
       "      <th>9</th>\n",
       "      <td>Mayo</td>\n",
       "      <td>2023</td>\n",
       "      <td>1200000.0</td>\n",
       "      <td>14.832536</td>\n",
       "    </tr>\n",
       "    <tr>\n",
       "      <th>21</th>\n",
       "      <td>Noviembre</td>\n",
       "      <td>2023</td>\n",
       "      <td>1200000.0</td>\n",
       "      <td>0.000000</td>\n",
       "    </tr>\n",
       "    <tr>\n",
       "      <th>19</th>\n",
       "      <td>Octubre</td>\n",
       "      <td>2023</td>\n",
       "      <td>1200000.0</td>\n",
       "      <td>0.000000</td>\n",
       "    </tr>\n",
       "    <tr>\n",
       "      <th>17</th>\n",
       "      <td>Septiembre</td>\n",
       "      <td>2023</td>\n",
       "      <td>1222500.0</td>\n",
       "      <td>1.875000</td>\n",
       "    </tr>\n",
       "  </tbody>\n",
       "</table>\n",
       "</div>"
      ],
      "text/plain": [
       "           mes   año  precio_promedio  cambio_porcentaje\n",
       "6        Abril  2022        1170000.0                NaN\n",
       "14      Agosto  2022        1168087.5          -0.163462\n",
       "22   Diciembre  2022        1200000.0           2.732030\n",
       "12       Julio  2022        1365000.0          13.750000\n",
       "10       Junio  2022        1350000.0          -1.098901\n",
       "8         Mayo  2022        1420000.0           5.185185\n",
       "20   Noviembre  2022        1200000.0         -15.492958\n",
       "18     Octubre  2022        1350000.0          12.500000\n",
       "16  Septiembre  2022        1204362.5         -10.787963\n",
       "7        Abril  2023        1295000.0           7.525766\n",
       "15      Agosto  2023        1186225.0          -8.399614\n",
       "23   Diciembre  2023        1200000.0           1.161247\n",
       "13       Julio  2023        1149950.0          -4.170833\n",
       "11       Junio  2023        1500000.0          30.440454\n",
       "5        Marzo  2023        1045000.0         -30.333333\n",
       "9         Mayo  2023        1200000.0          14.832536\n",
       "21   Noviembre  2023        1200000.0           0.000000\n",
       "19     Octubre  2023        1200000.0           0.000000\n",
       "17  Septiembre  2023        1222500.0           1.875000"
      ]
     },
     "execution_count": 94,
     "metadata": {},
     "output_type": "execute_result"
    }
   ],
   "source": [
    "tulancingo_completo"
   ]
  },
  {
   "cell_type": "code",
   "execution_count": 95,
   "metadata": {},
   "outputs": [
    {
     "data": {
      "text/plain": [
       "1.0863974182800666"
      ]
     },
     "execution_count": 95,
     "metadata": {},
     "output_type": "execute_result"
    }
   ],
   "source": [
    "# Calcula el promedio del porcentaje de cambio\n",
    "cambio_porcentaje_tulancingo = tulancingo_completo['cambio_porcentaje'].mean()\n",
    "cambio_porcentaje_tulancingo"
   ]
  },
  {
   "cell_type": "code",
   "execution_count": 97,
   "metadata": {},
   "outputs": [
    {
     "name": "stdout",
     "output_type": "stream",
     "text": [
      "           mes   año  precio_promedio\n",
      "0        Abril  2024     2.571485e+06\n",
      "1       Agosto  2024     2.456016e+06\n",
      "2    Diciembre  2024     2.503677e+06\n",
      "3        Julio  2024     2.623593e+06\n",
      "4        Junio  2024     2.973116e+06\n",
      "5         Mayo  2024     2.733181e+06\n",
      "6    Noviembre  2024     2.503677e+06\n",
      "7      Octubre  2024     2.660157e+06\n",
      "8   Septiembre  2024     2.531700e+06\n",
      "9        Marzo  2024     2.180285e+06\n",
      "10       Abril  2025     2.571485e+06\n",
      "11      Agosto  2025     2.456016e+06\n",
      "12   Diciembre  2025     2.503677e+06\n",
      "13       Julio  2025     2.623593e+06\n",
      "14       Junio  2025     2.973116e+06\n",
      "15        Mayo  2025     2.733181e+06\n",
      "16   Noviembre  2025     2.503677e+06\n",
      "17     Octubre  2025     2.660157e+06\n",
      "18  Septiembre  2025     2.531700e+06\n",
      "19       Marzo  2025     2.180285e+06\n",
      "20       Abril  2026     2.571485e+06\n",
      "21      Agosto  2026     2.456016e+06\n",
      "22   Diciembre  2026     2.503677e+06\n",
      "23       Julio  2026     2.623593e+06\n",
      "24       Junio  2026     2.973116e+06\n",
      "25        Mayo  2026     2.733181e+06\n",
      "26   Noviembre  2026     2.503677e+06\n",
      "27     Octubre  2026     2.660157e+06\n",
      "28  Septiembre  2026     2.531700e+06\n",
      "29       Marzo  2026     2.180285e+06\n"
     ]
    }
   ],
   "source": [
    "import pandas as pd\n",
    "\n",
    "# Agrupa por mes y calcula el promedio de los precios para 2022 y 2023\n",
    "promedio_meses = tulancingo_completo.groupby('mes')['precio_promedio'].mean()\n",
    "\n",
    "# Calcula el promedio del porcentaje de cambio\n",
    "cambio_porcentaje_tulancingo = tulancingo_completo['cambio_porcentaje'].mean()\n",
    "\n",
    "# Lista para almacenar los precios predichos\n",
    "precios_predichos = []\n",
    "\n",
    "# Itera sobre los años 2024, 2025 y 2026\n",
    "for año in [2024, 2025, 2026]:\n",
    "    # Itera sobre los meses disponibles en 2022 y 2023\n",
    "    for mes in tulancingo_completo['mes'].unique():\n",
    "        # Verifica si el mes está en el índice de los promedios calculados\n",
    "        if mes in promedio_meses.index:\n",
    "            # Obtiene el precio promedio del mes correspondiente en 2022 y 2023\n",
    "            precio_mes_promedio = promedio_meses[mes]\n",
    "            # Calcula el precio predicho para el mes y año actuales\n",
    "            precio_predicho = precio_mes_promedio * (1 + cambio_porcentaje_tulancingo)\n",
    "        else:\n",
    "            # Si el mes no está presente en los datos de 2022 o 2023, usa el precio predicho del mes anterior\n",
    "            precio_predicho = precios_predichos[-1]['precio_promedio']\n",
    "        # Agrega el nuevo registro a la lista de precios predichos\n",
    "        precios_predichos.append({'mes': mes, 'año': año, 'precio_promedio': precio_predicho})\n",
    "\n",
    "# Convierte la lista de precios predichos en un DataFrame\n",
    "df_precios_predichos = pd.DataFrame(precios_predichos)\n",
    "\n",
    "# Muestra el DataFrame con los precios predichos\n",
    "print(df_precios_predichos)\n"
   ]
  },
  {
   "cell_type": "code",
   "execution_count": null,
   "metadata": {},
   "outputs": [],
   "source": []
  },
  {
   "cell_type": "code",
   "execution_count": null,
   "metadata": {},
   "outputs": [],
   "source": []
  },
  {
   "cell_type": "code",
   "execution_count": null,
   "metadata": {},
   "outputs": [],
   "source": []
  },
  {
   "cell_type": "code",
   "execution_count": 98,
   "metadata": {},
   "outputs": [
    {
     "ename": "KeyError",
     "evalue": "'Column not found: cambio_porcentaje'",
     "output_type": "error",
     "traceback": [
      "\u001b[1;31m---------------------------------------------------------------------------\u001b[0m",
      "\u001b[1;31mKeyError\u001b[0m                                  Traceback (most recent call last)",
      "\u001b[1;32m~\\AppData\\Local\\Temp\\ipykernel_8372\\2999953131.py\u001b[0m in \u001b[0;36m<module>\u001b[1;34m\u001b[0m\n\u001b[0;32m      1\u001b[0m \u001b[1;31m# Calcula el promedio de los porcentajes de cambio por mes en tulancingo_completo\u001b[0m\u001b[1;33m\u001b[0m\u001b[1;33m\u001b[0m\u001b[0m\n\u001b[1;32m----> 2\u001b[1;33m \u001b[0mporcentaje_cambio_promedio\u001b[0m \u001b[1;33m=\u001b[0m \u001b[0mdf_precios_predichos\u001b[0m\u001b[1;33m.\u001b[0m\u001b[0mgroupby\u001b[0m\u001b[1;33m(\u001b[0m\u001b[1;34m'mes'\u001b[0m\u001b[1;33m)\u001b[0m\u001b[1;33m[\u001b[0m\u001b[1;34m'cambio_porcentaje'\u001b[0m\u001b[1;33m]\u001b[0m\u001b[1;33m.\u001b[0m\u001b[0mmedian\u001b[0m\u001b[1;33m(\u001b[0m\u001b[1;33m)\u001b[0m\u001b[1;33m\u001b[0m\u001b[1;33m\u001b[0m\u001b[0m\n\u001b[0m\u001b[0;32m      3\u001b[0m \u001b[0mporcentaje_cambio_promedio\u001b[0m\u001b[1;33m\u001b[0m\u001b[1;33m\u001b[0m\u001b[0m\n",
      "\u001b[1;32mc:\\Users\\yoe11\\anaconda3\\lib\\site-packages\\pandas\\core\\groupby\\generic.py\u001b[0m in \u001b[0;36m__getitem__\u001b[1;34m(self, key)\u001b[0m\n\u001b[0;32m   1336\u001b[0m                 \u001b[0mstacklevel\u001b[0m\u001b[1;33m=\u001b[0m\u001b[0mfind_stack_level\u001b[0m\u001b[1;33m(\u001b[0m\u001b[1;33m)\u001b[0m\u001b[1;33m,\u001b[0m\u001b[1;33m\u001b[0m\u001b[1;33m\u001b[0m\u001b[0m\n\u001b[0;32m   1337\u001b[0m             )\n\u001b[1;32m-> 1338\u001b[1;33m         \u001b[1;32mreturn\u001b[0m \u001b[0msuper\u001b[0m\u001b[1;33m(\u001b[0m\u001b[1;33m)\u001b[0m\u001b[1;33m.\u001b[0m\u001b[0m__getitem__\u001b[0m\u001b[1;33m(\u001b[0m\u001b[0mkey\u001b[0m\u001b[1;33m)\u001b[0m\u001b[1;33m\u001b[0m\u001b[1;33m\u001b[0m\u001b[0m\n\u001b[0m\u001b[0;32m   1339\u001b[0m \u001b[1;33m\u001b[0m\u001b[0m\n\u001b[0;32m   1340\u001b[0m     \u001b[1;32mdef\u001b[0m \u001b[0m_gotitem\u001b[0m\u001b[1;33m(\u001b[0m\u001b[0mself\u001b[0m\u001b[1;33m,\u001b[0m \u001b[0mkey\u001b[0m\u001b[1;33m,\u001b[0m \u001b[0mndim\u001b[0m\u001b[1;33m:\u001b[0m \u001b[0mint\u001b[0m\u001b[1;33m,\u001b[0m \u001b[0msubset\u001b[0m\u001b[1;33m=\u001b[0m\u001b[1;32mNone\u001b[0m\u001b[1;33m)\u001b[0m\u001b[1;33m:\u001b[0m\u001b[1;33m\u001b[0m\u001b[1;33m\u001b[0m\u001b[0m\n",
      "\u001b[1;32mc:\\Users\\yoe11\\anaconda3\\lib\\site-packages\\pandas\\core\\base.py\u001b[0m in \u001b[0;36m__getitem__\u001b[1;34m(self, key)\u001b[0m\n\u001b[0;32m    248\u001b[0m         \u001b[1;32melse\u001b[0m\u001b[1;33m:\u001b[0m\u001b[1;33m\u001b[0m\u001b[1;33m\u001b[0m\u001b[0m\n\u001b[0;32m    249\u001b[0m             \u001b[1;32mif\u001b[0m \u001b[0mkey\u001b[0m \u001b[1;32mnot\u001b[0m \u001b[1;32min\u001b[0m \u001b[0mself\u001b[0m\u001b[1;33m.\u001b[0m\u001b[0mobj\u001b[0m\u001b[1;33m:\u001b[0m\u001b[1;33m\u001b[0m\u001b[1;33m\u001b[0m\u001b[0m\n\u001b[1;32m--> 250\u001b[1;33m                 \u001b[1;32mraise\u001b[0m \u001b[0mKeyError\u001b[0m\u001b[1;33m(\u001b[0m\u001b[1;34mf\"Column not found: {key}\"\u001b[0m\u001b[1;33m)\u001b[0m\u001b[1;33m\u001b[0m\u001b[1;33m\u001b[0m\u001b[0m\n\u001b[0m\u001b[0;32m    251\u001b[0m             \u001b[0msubset\u001b[0m \u001b[1;33m=\u001b[0m \u001b[0mself\u001b[0m\u001b[1;33m.\u001b[0m\u001b[0mobj\u001b[0m\u001b[1;33m[\u001b[0m\u001b[0mkey\u001b[0m\u001b[1;33m]\u001b[0m\u001b[1;33m\u001b[0m\u001b[1;33m\u001b[0m\u001b[0m\n\u001b[0;32m    252\u001b[0m             \u001b[0mndim\u001b[0m \u001b[1;33m=\u001b[0m \u001b[0msubset\u001b[0m\u001b[1;33m.\u001b[0m\u001b[0mndim\u001b[0m\u001b[1;33m\u001b[0m\u001b[1;33m\u001b[0m\u001b[0m\n",
      "\u001b[1;31mKeyError\u001b[0m: 'Column not found: cambio_porcentaje'"
     ]
    }
   ],
   "source": [
    "# Calcula el promedio de los porcentajes de cambio por mes en tulancingo_completo\n",
    "porcentaje_cambio_promedio = df_precios_predichos.groupby('mes')['cambio_porcentaje'].median()\n",
    "porcentaje_cambio_promedio"
   ]
  },
  {
   "cell_type": "code",
   "execution_count": 88,
   "metadata": {},
   "outputs": [
    {
     "ename": "IndexError",
     "evalue": "single positional indexer is out-of-bounds",
     "output_type": "error",
     "traceback": [
      "\u001b[1;31m---------------------------------------------------------------------------\u001b[0m",
      "\u001b[1;31mIndexError\u001b[0m                                Traceback (most recent call last)",
      "\u001b[1;32m~\\AppData\\Local\\Temp\\ipykernel_8372\\3047437124.py\u001b[0m in \u001b[0;36m<module>\u001b[1;34m\u001b[0m\n\u001b[0;32m      7\u001b[0m     \u001b[1;32mfor\u001b[0m \u001b[0mmes\u001b[0m \u001b[1;32min\u001b[0m \u001b[0mtulancingo_completo\u001b[0m\u001b[1;33m[\u001b[0m\u001b[1;34m'mes'\u001b[0m\u001b[1;33m]\u001b[0m\u001b[1;33m.\u001b[0m\u001b[0munique\u001b[0m\u001b[1;33m(\u001b[0m\u001b[1;33m)\u001b[0m\u001b[1;33m:\u001b[0m\u001b[1;33m\u001b[0m\u001b[1;33m\u001b[0m\u001b[0m\n\u001b[0;32m      8\u001b[0m         \u001b[1;31m# Obtiene el precio del mes anterior\u001b[0m\u001b[1;33m\u001b[0m\u001b[1;33m\u001b[0m\u001b[0m\n\u001b[1;32m----> 9\u001b[1;33m         \u001b[0mprecio_anterior\u001b[0m \u001b[1;33m=\u001b[0m \u001b[0mtulancingo_completo\u001b[0m\u001b[1;33m[\u001b[0m\u001b[1;33m(\u001b[0m\u001b[0mtulancingo_completo\u001b[0m\u001b[1;33m[\u001b[0m\u001b[1;34m'año'\u001b[0m\u001b[1;33m]\u001b[0m \u001b[1;33m==\u001b[0m \u001b[0maño\u001b[0m \u001b[1;33m-\u001b[0m \u001b[1;36m1\u001b[0m\u001b[1;33m)\u001b[0m \u001b[1;33m&\u001b[0m \u001b[1;33m(\u001b[0m\u001b[0mtulancingo_completo\u001b[0m\u001b[1;33m[\u001b[0m\u001b[1;34m'mes'\u001b[0m\u001b[1;33m]\u001b[0m \u001b[1;33m==\u001b[0m \u001b[0mmes\u001b[0m\u001b[1;33m)\u001b[0m\u001b[1;33m]\u001b[0m\u001b[1;33m[\u001b[0m\u001b[1;34m'precio_promedio'\u001b[0m\u001b[1;33m]\u001b[0m\u001b[1;33m.\u001b[0m\u001b[0miloc\u001b[0m\u001b[1;33m[\u001b[0m\u001b[1;36m0\u001b[0m\u001b[1;33m]\u001b[0m\u001b[1;33m\u001b[0m\u001b[1;33m\u001b[0m\u001b[0m\n\u001b[0m\u001b[0;32m     10\u001b[0m         \u001b[1;31m# Obtiene el porcentaje de cambio promedio de dicho mes\u001b[0m\u001b[1;33m\u001b[0m\u001b[1;33m\u001b[0m\u001b[0m\n\u001b[0;32m     11\u001b[0m         \u001b[0mporcentaje_cambio\u001b[0m \u001b[1;33m=\u001b[0m \u001b[0mporcentaje_cambio_promedio\u001b[0m\u001b[1;33m[\u001b[0m\u001b[0mmes\u001b[0m\u001b[1;33m]\u001b[0m\u001b[1;33m\u001b[0m\u001b[1;33m\u001b[0m\u001b[0m\n",
      "\u001b[1;32mc:\\Users\\yoe11\\anaconda3\\lib\\site-packages\\pandas\\core\\indexing.py\u001b[0m in \u001b[0;36m__getitem__\u001b[1;34m(self, key)\u001b[0m\n\u001b[0;32m    965\u001b[0m \u001b[1;33m\u001b[0m\u001b[0m\n\u001b[0;32m    966\u001b[0m             \u001b[0mmaybe_callable\u001b[0m \u001b[1;33m=\u001b[0m \u001b[0mcom\u001b[0m\u001b[1;33m.\u001b[0m\u001b[0mapply_if_callable\u001b[0m\u001b[1;33m(\u001b[0m\u001b[0mkey\u001b[0m\u001b[1;33m,\u001b[0m \u001b[0mself\u001b[0m\u001b[1;33m.\u001b[0m\u001b[0mobj\u001b[0m\u001b[1;33m)\u001b[0m\u001b[1;33m\u001b[0m\u001b[1;33m\u001b[0m\u001b[0m\n\u001b[1;32m--> 967\u001b[1;33m             \u001b[1;32mreturn\u001b[0m \u001b[0mself\u001b[0m\u001b[1;33m.\u001b[0m\u001b[0m_getitem_axis\u001b[0m\u001b[1;33m(\u001b[0m\u001b[0mmaybe_callable\u001b[0m\u001b[1;33m,\u001b[0m \u001b[0maxis\u001b[0m\u001b[1;33m=\u001b[0m\u001b[0maxis\u001b[0m\u001b[1;33m)\u001b[0m\u001b[1;33m\u001b[0m\u001b[1;33m\u001b[0m\u001b[0m\n\u001b[0m\u001b[0;32m    968\u001b[0m \u001b[1;33m\u001b[0m\u001b[0m\n\u001b[0;32m    969\u001b[0m     \u001b[1;32mdef\u001b[0m \u001b[0m_is_scalar_access\u001b[0m\u001b[1;33m(\u001b[0m\u001b[0mself\u001b[0m\u001b[1;33m,\u001b[0m \u001b[0mkey\u001b[0m\u001b[1;33m:\u001b[0m \u001b[0mtuple\u001b[0m\u001b[1;33m)\u001b[0m\u001b[1;33m:\u001b[0m\u001b[1;33m\u001b[0m\u001b[1;33m\u001b[0m\u001b[0m\n",
      "\u001b[1;32mc:\\Users\\yoe11\\anaconda3\\lib\\site-packages\\pandas\\core\\indexing.py\u001b[0m in \u001b[0;36m_getitem_axis\u001b[1;34m(self, key, axis)\u001b[0m\n\u001b[0;32m   1521\u001b[0m \u001b[1;33m\u001b[0m\u001b[0m\n\u001b[0;32m   1522\u001b[0m             \u001b[1;31m# validate the location\u001b[0m\u001b[1;33m\u001b[0m\u001b[1;33m\u001b[0m\u001b[0m\n\u001b[1;32m-> 1523\u001b[1;33m             \u001b[0mself\u001b[0m\u001b[1;33m.\u001b[0m\u001b[0m_validate_integer\u001b[0m\u001b[1;33m(\u001b[0m\u001b[0mkey\u001b[0m\u001b[1;33m,\u001b[0m \u001b[0maxis\u001b[0m\u001b[1;33m)\u001b[0m\u001b[1;33m\u001b[0m\u001b[1;33m\u001b[0m\u001b[0m\n\u001b[0m\u001b[0;32m   1524\u001b[0m \u001b[1;33m\u001b[0m\u001b[0m\n\u001b[0;32m   1525\u001b[0m             \u001b[1;32mreturn\u001b[0m \u001b[0mself\u001b[0m\u001b[1;33m.\u001b[0m\u001b[0mobj\u001b[0m\u001b[1;33m.\u001b[0m\u001b[0m_ixs\u001b[0m\u001b[1;33m(\u001b[0m\u001b[0mkey\u001b[0m\u001b[1;33m,\u001b[0m \u001b[0maxis\u001b[0m\u001b[1;33m=\u001b[0m\u001b[0maxis\u001b[0m\u001b[1;33m)\u001b[0m\u001b[1;33m\u001b[0m\u001b[1;33m\u001b[0m\u001b[0m\n",
      "\u001b[1;32mc:\\Users\\yoe11\\anaconda3\\lib\\site-packages\\pandas\\core\\indexing.py\u001b[0m in \u001b[0;36m_validate_integer\u001b[1;34m(self, key, axis)\u001b[0m\n\u001b[0;32m   1453\u001b[0m         \u001b[0mlen_axis\u001b[0m \u001b[1;33m=\u001b[0m \u001b[0mlen\u001b[0m\u001b[1;33m(\u001b[0m\u001b[0mself\u001b[0m\u001b[1;33m.\u001b[0m\u001b[0mobj\u001b[0m\u001b[1;33m.\u001b[0m\u001b[0m_get_axis\u001b[0m\u001b[1;33m(\u001b[0m\u001b[0maxis\u001b[0m\u001b[1;33m)\u001b[0m\u001b[1;33m)\u001b[0m\u001b[1;33m\u001b[0m\u001b[1;33m\u001b[0m\u001b[0m\n\u001b[0;32m   1454\u001b[0m         \u001b[1;32mif\u001b[0m \u001b[0mkey\u001b[0m \u001b[1;33m>=\u001b[0m \u001b[0mlen_axis\u001b[0m \u001b[1;32mor\u001b[0m \u001b[0mkey\u001b[0m \u001b[1;33m<\u001b[0m \u001b[1;33m-\u001b[0m\u001b[0mlen_axis\u001b[0m\u001b[1;33m:\u001b[0m\u001b[1;33m\u001b[0m\u001b[1;33m\u001b[0m\u001b[0m\n\u001b[1;32m-> 1455\u001b[1;33m             \u001b[1;32mraise\u001b[0m \u001b[0mIndexError\u001b[0m\u001b[1;33m(\u001b[0m\u001b[1;34m\"single positional indexer is out-of-bounds\"\u001b[0m\u001b[1;33m)\u001b[0m\u001b[1;33m\u001b[0m\u001b[1;33m\u001b[0m\u001b[0m\n\u001b[0m\u001b[0;32m   1456\u001b[0m \u001b[1;33m\u001b[0m\u001b[0m\n\u001b[0;32m   1457\u001b[0m     \u001b[1;31m# -------------------------------------------------------------------\u001b[0m\u001b[1;33m\u001b[0m\u001b[1;33m\u001b[0m\u001b[0m\n",
      "\u001b[1;31mIndexError\u001b[0m: single positional indexer is out-of-bounds"
     ]
    }
   ],
   "source": [
    "# Lista para almacenar los precios predichos\n",
    "precios_predichos = []\n",
    "\n",
    "# Itera sobre los años 2024, 2025 y 2026\n",
    "for año in [2024, 2025, 2026]:\n",
    "    # Itera sobre los meses de enero a diciembre\n",
    "    for mes in tulancingo_completo['mes'].unique():\n",
    "        # Obtiene el precio del mes anterior\n",
    "        precio_anterior = tulancingo_completo[(tulancingo_completo['año'] == año - 1) & (tulancingo_completo['mes'] == mes)]['precio_promedio'].iloc[0]\n",
    "        # Obtiene el porcentaje de cambio promedio de dicho mes\n",
    "        porcentaje_cambio = porcentaje_cambio_promedio[mes]\n",
    "        # Calcula el precio para el mes actual en el nuevo año\n",
    "        precio_predicho = precio_anterior * (1 + porcentaje_cambio / 100)\n",
    "        # Agrega el nuevo registro a la lista de precios predichos\n",
    "        precios_predichos.append({'mes': mes, 'año': año, 'precio_promedio': precio_predicho})\n",
    "\n",
    "# Convierte la lista de precios predichos en un DataFrame\n",
    "df_precios_predichos = pd.DataFrame(precios_predichos)\n",
    "\n",
    "# Muestra el DataFrame con los precios predichos\n",
    "print(df_precios_predichos)\n"
   ]
  },
  {
   "cell_type": "code",
   "execution_count": 72,
   "metadata": {},
   "outputs": [],
   "source": [
    "tulancingo_completo_predicciones_nuevos['cambio_porcentaje'] = tulancingo_completo_predicciones_nuevos['precio_promedio'].pct_change() * 100\n"
   ]
  },
  {
   "cell_type": "code",
   "execution_count": 73,
   "metadata": {},
   "outputs": [
    {
     "name": "stderr",
     "output_type": "stream",
     "text": [
      "C:\\Users\\yoe11\\AppData\\Local\\Temp\\ipykernel_8372\\1283319508.py:12: FutureWarning:\n",
      "\n",
      "The frame.append method is deprecated and will be removed from pandas in a future version. Use pandas.concat instead.\n",
      "\n",
      "C:\\Users\\yoe11\\AppData\\Local\\Temp\\ipykernel_8372\\1283319508.py:12: FutureWarning:\n",
      "\n",
      "The frame.append method is deprecated and will be removed from pandas in a future version. Use pandas.concat instead.\n",
      "\n",
      "C:\\Users\\yoe11\\AppData\\Local\\Temp\\ipykernel_8372\\1283319508.py:12: FutureWarning:\n",
      "\n",
      "The frame.append method is deprecated and will be removed from pandas in a future version. Use pandas.concat instead.\n",
      "\n",
      "C:\\Users\\yoe11\\AppData\\Local\\Temp\\ipykernel_8372\\1283319508.py:12: FutureWarning:\n",
      "\n",
      "The frame.append method is deprecated and will be removed from pandas in a future version. Use pandas.concat instead.\n",
      "\n",
      "C:\\Users\\yoe11\\AppData\\Local\\Temp\\ipykernel_8372\\1283319508.py:12: FutureWarning:\n",
      "\n",
      "The frame.append method is deprecated and will be removed from pandas in a future version. Use pandas.concat instead.\n",
      "\n",
      "C:\\Users\\yoe11\\AppData\\Local\\Temp\\ipykernel_8372\\1283319508.py:12: FutureWarning:\n",
      "\n",
      "The frame.append method is deprecated and will be removed from pandas in a future version. Use pandas.concat instead.\n",
      "\n",
      "C:\\Users\\yoe11\\AppData\\Local\\Temp\\ipykernel_8372\\1283319508.py:12: FutureWarning:\n",
      "\n",
      "The frame.append method is deprecated and will be removed from pandas in a future version. Use pandas.concat instead.\n",
      "\n",
      "C:\\Users\\yoe11\\AppData\\Local\\Temp\\ipykernel_8372\\1283319508.py:12: FutureWarning:\n",
      "\n",
      "The frame.append method is deprecated and will be removed from pandas in a future version. Use pandas.concat instead.\n",
      "\n",
      "C:\\Users\\yoe11\\AppData\\Local\\Temp\\ipykernel_8372\\1283319508.py:12: FutureWarning:\n",
      "\n",
      "The frame.append method is deprecated and will be removed from pandas in a future version. Use pandas.concat instead.\n",
      "\n",
      "C:\\Users\\yoe11\\AppData\\Local\\Temp\\ipykernel_8372\\1283319508.py:12: FutureWarning:\n",
      "\n",
      "The frame.append method is deprecated and will be removed from pandas in a future version. Use pandas.concat instead.\n",
      "\n",
      "C:\\Users\\yoe11\\AppData\\Local\\Temp\\ipykernel_8372\\1283319508.py:12: FutureWarning:\n",
      "\n",
      "The frame.append method is deprecated and will be removed from pandas in a future version. Use pandas.concat instead.\n",
      "\n",
      "C:\\Users\\yoe11\\AppData\\Local\\Temp\\ipykernel_8372\\1283319508.py:12: FutureWarning:\n",
      "\n",
      "The frame.append method is deprecated and will be removed from pandas in a future version. Use pandas.concat instead.\n",
      "\n",
      "C:\\Users\\yoe11\\AppData\\Local\\Temp\\ipykernel_8372\\1283319508.py:12: FutureWarning:\n",
      "\n",
      "The frame.append method is deprecated and will be removed from pandas in a future version. Use pandas.concat instead.\n",
      "\n",
      "C:\\Users\\yoe11\\AppData\\Local\\Temp\\ipykernel_8372\\1283319508.py:12: FutureWarning:\n",
      "\n",
      "The frame.append method is deprecated and will be removed from pandas in a future version. Use pandas.concat instead.\n",
      "\n",
      "C:\\Users\\yoe11\\AppData\\Local\\Temp\\ipykernel_8372\\1283319508.py:12: FutureWarning:\n",
      "\n",
      "The frame.append method is deprecated and will be removed from pandas in a future version. Use pandas.concat instead.\n",
      "\n",
      "C:\\Users\\yoe11\\AppData\\Local\\Temp\\ipykernel_8372\\1283319508.py:12: FutureWarning:\n",
      "\n",
      "The frame.append method is deprecated and will be removed from pandas in a future version. Use pandas.concat instead.\n",
      "\n",
      "C:\\Users\\yoe11\\AppData\\Local\\Temp\\ipykernel_8372\\1283319508.py:12: FutureWarning:\n",
      "\n",
      "The frame.append method is deprecated and will be removed from pandas in a future version. Use pandas.concat instead.\n",
      "\n",
      "C:\\Users\\yoe11\\AppData\\Local\\Temp\\ipykernel_8372\\1283319508.py:12: FutureWarning:\n",
      "\n",
      "The frame.append method is deprecated and will be removed from pandas in a future version. Use pandas.concat instead.\n",
      "\n",
      "C:\\Users\\yoe11\\AppData\\Local\\Temp\\ipykernel_8372\\1283319508.py:12: FutureWarning:\n",
      "\n",
      "The frame.append method is deprecated and will be removed from pandas in a future version. Use pandas.concat instead.\n",
      "\n",
      "C:\\Users\\yoe11\\AppData\\Local\\Temp\\ipykernel_8372\\1283319508.py:12: FutureWarning:\n",
      "\n",
      "The frame.append method is deprecated and will be removed from pandas in a future version. Use pandas.concat instead.\n",
      "\n",
      "C:\\Users\\yoe11\\AppData\\Local\\Temp\\ipykernel_8372\\1283319508.py:12: FutureWarning:\n",
      "\n",
      "The frame.append method is deprecated and will be removed from pandas in a future version. Use pandas.concat instead.\n",
      "\n",
      "C:\\Users\\yoe11\\AppData\\Local\\Temp\\ipykernel_8372\\1283319508.py:12: FutureWarning:\n",
      "\n",
      "The frame.append method is deprecated and will be removed from pandas in a future version. Use pandas.concat instead.\n",
      "\n",
      "C:\\Users\\yoe11\\AppData\\Local\\Temp\\ipykernel_8372\\1283319508.py:12: FutureWarning:\n",
      "\n",
      "The frame.append method is deprecated and will be removed from pandas in a future version. Use pandas.concat instead.\n",
      "\n",
      "C:\\Users\\yoe11\\AppData\\Local\\Temp\\ipykernel_8372\\1283319508.py:12: FutureWarning:\n",
      "\n",
      "The frame.append method is deprecated and will be removed from pandas in a future version. Use pandas.concat instead.\n",
      "\n",
      "C:\\Users\\yoe11\\AppData\\Local\\Temp\\ipykernel_8372\\1283319508.py:12: FutureWarning:\n",
      "\n",
      "The frame.append method is deprecated and will be removed from pandas in a future version. Use pandas.concat instead.\n",
      "\n",
      "C:\\Users\\yoe11\\AppData\\Local\\Temp\\ipykernel_8372\\1283319508.py:12: FutureWarning:\n",
      "\n",
      "The frame.append method is deprecated and will be removed from pandas in a future version. Use pandas.concat instead.\n",
      "\n",
      "C:\\Users\\yoe11\\AppData\\Local\\Temp\\ipykernel_8372\\1283319508.py:12: FutureWarning:\n",
      "\n",
      "The frame.append method is deprecated and will be removed from pandas in a future version. Use pandas.concat instead.\n",
      "\n"
     ]
    }
   ],
   "source": [
    "# Iterar sobre los años 2024, 2025 y 2026\n",
    "for año in [2024, 2025, 2026]:\n",
    "    # Iterar sobre los meses de enero a noviembre\n",
    "    for mes in tulancingo_completo_predicciones['mes'].unique()[:-1]:  # Excluir diciembre, ya que no hay un mes siguiente para 2023\n",
    "        # Obtener el precio del mes anterior\n",
    "        precio_anterior = tulancingo_completo_predicciones_nuevos[(tulancingo_completo_predicciones_nuevos['año'] == año - 1) & (tulancingo_completo_predicciones_nuevos['mes'] == mes)]['precio_promedio'].iloc[0]\n",
    "        # Obtener el porcentaje de cambio de dicho mes\n",
    "        porcentaje_cambio = tulancingo_completo_predicciones_nuevos[(tulancingo_completo_predicciones_nuevos['año'] == año) & (tulancingo_completo_predicciones_nuevos['mes'] == mes)]['cambio_porcentaje'].iloc[0]\n",
    "        # Calcular el precio para el mes actual en el nuevo año\n",
    "        precio_predicho = precio_anterior * (1 + porcentaje_cambio / 100)\n",
    "        # Agregar el nuevo registro al DataFrame\n",
    "        tulancingo_completo_predicciones_nuevos = tulancingo_completo_predicciones_nuevos.append({'mes': mes, 'año': año, 'precio_promedio': precio_predicho}, ignore_index=True)\n",
    "\n",
    "# Ordenar el DataFrame resultante por año y mes\n",
    "tulancingo_completo_predicciones_nuevos = tulancingo_completo_predicciones_nuevos.sort_values(by=['año', 'mes']).reset_index(drop=True)"
   ]
  },
  {
   "cell_type": "code",
   "execution_count": 74,
   "metadata": {},
   "outputs": [
    {
     "data": {
      "text/html": [
       "<div>\n",
       "<style scoped>\n",
       "    .dataframe tbody tr th:only-of-type {\n",
       "        vertical-align: middle;\n",
       "    }\n",
       "\n",
       "    .dataframe tbody tr th {\n",
       "        vertical-align: top;\n",
       "    }\n",
       "\n",
       "    .dataframe thead th {\n",
       "        text-align: right;\n",
       "    }\n",
       "</style>\n",
       "<table border=\"1\" class=\"dataframe\">\n",
       "  <thead>\n",
       "    <tr style=\"text-align: right;\">\n",
       "      <th></th>\n",
       "      <th>mes</th>\n",
       "      <th>año</th>\n",
       "      <th>precio_promedio</th>\n",
       "      <th>cambio_porcentaje</th>\n",
       "    </tr>\n",
       "  </thead>\n",
       "  <tbody>\n",
       "    <tr>\n",
       "      <th>0</th>\n",
       "      <td>Abril</td>\n",
       "      <td>2022</td>\n",
       "      <td>1.170000e+06</td>\n",
       "      <td>NaN</td>\n",
       "    </tr>\n",
       "    <tr>\n",
       "      <th>1</th>\n",
       "      <td>Agosto</td>\n",
       "      <td>2022</td>\n",
       "      <td>1.168088e+06</td>\n",
       "      <td>-0.163462</td>\n",
       "    </tr>\n",
       "    <tr>\n",
       "      <th>2</th>\n",
       "      <td>Diciembre</td>\n",
       "      <td>2022</td>\n",
       "      <td>1.200000e+06</td>\n",
       "      <td>2.732030</td>\n",
       "    </tr>\n",
       "    <tr>\n",
       "      <th>3</th>\n",
       "      <td>Julio</td>\n",
       "      <td>2022</td>\n",
       "      <td>1.365000e+06</td>\n",
       "      <td>13.750000</td>\n",
       "    </tr>\n",
       "    <tr>\n",
       "      <th>4</th>\n",
       "      <td>Junio</td>\n",
       "      <td>2022</td>\n",
       "      <td>1.350000e+06</td>\n",
       "      <td>-1.098901</td>\n",
       "    </tr>\n",
       "    <tr>\n",
       "      <th>...</th>\n",
       "      <td>...</td>\n",
       "      <td>...</td>\n",
       "      <td>...</td>\n",
       "      <td>...</td>\n",
       "    </tr>\n",
       "    <tr>\n",
       "      <th>71</th>\n",
       "      <td>Noviembre</td>\n",
       "      <td>2026</td>\n",
       "      <td>9.283665e+05</td>\n",
       "      <td>NaN</td>\n",
       "    </tr>\n",
       "    <tr>\n",
       "      <th>72</th>\n",
       "      <td>Octubre</td>\n",
       "      <td>2026</td>\n",
       "      <td>1.275000e+06</td>\n",
       "      <td>15.171756</td>\n",
       "    </tr>\n",
       "    <tr>\n",
       "      <th>73</th>\n",
       "      <td>Octubre</td>\n",
       "      <td>2026</td>\n",
       "      <td>1.468440e+06</td>\n",
       "      <td>NaN</td>\n",
       "    </tr>\n",
       "    <tr>\n",
       "      <th>74</th>\n",
       "      <td>Septiembre</td>\n",
       "      <td>2026</td>\n",
       "      <td>1.168020e+06</td>\n",
       "      <td>-8.390626</td>\n",
       "    </tr>\n",
       "    <tr>\n",
       "      <th>75</th>\n",
       "      <td>Septiembre</td>\n",
       "      <td>2026</td>\n",
       "      <td>1.070015e+06</td>\n",
       "      <td>NaN</td>\n",
       "    </tr>\n",
       "  </tbody>\n",
       "</table>\n",
       "<p>76 rows × 4 columns</p>\n",
       "</div>"
      ],
      "text/plain": [
       "           mes   año  precio_promedio  cambio_porcentaje\n",
       "0        Abril  2022     1.170000e+06                NaN\n",
       "1       Agosto  2022     1.168088e+06          -0.163462\n",
       "2    Diciembre  2022     1.200000e+06           2.732030\n",
       "3        Julio  2022     1.365000e+06          13.750000\n",
       "4        Junio  2022     1.350000e+06          -1.098901\n",
       "..         ...   ...              ...                ...\n",
       "71   Noviembre  2026     9.283665e+05                NaN\n",
       "72     Octubre  2026     1.275000e+06          15.171756\n",
       "73     Octubre  2026     1.468440e+06                NaN\n",
       "74  Septiembre  2026     1.168020e+06          -8.390626\n",
       "75  Septiembre  2026     1.070015e+06                NaN\n",
       "\n",
       "[76 rows x 4 columns]"
      ]
     },
     "execution_count": 74,
     "metadata": {},
     "output_type": "execute_result"
    }
   ],
   "source": [
    "tulancingo_completo_predicciones_nuevos"
   ]
  },
  {
   "cell_type": "code",
   "execution_count": 101,
   "metadata": {},
   "outputs": [
    {
     "data": {
      "text/html": [
       "<div>\n",
       "<style scoped>\n",
       "    .dataframe tbody tr th:only-of-type {\n",
       "        vertical-align: middle;\n",
       "    }\n",
       "\n",
       "    .dataframe tbody tr th {\n",
       "        vertical-align: top;\n",
       "    }\n",
       "\n",
       "    .dataframe thead th {\n",
       "        text-align: right;\n",
       "    }\n",
       "</style>\n",
       "<table border=\"1\" class=\"dataframe\">\n",
       "  <thead>\n",
       "    <tr style=\"text-align: right;\">\n",
       "      <th></th>\n",
       "      <th>año</th>\n",
       "      <th>precio_promedio</th>\n",
       "    </tr>\n",
       "  </thead>\n",
       "  <tbody>\n",
       "    <tr>\n",
       "      <th>0</th>\n",
       "      <td>2022</td>\n",
       "      <td>1.204362e+06</td>\n",
       "    </tr>\n",
       "    <tr>\n",
       "      <th>1</th>\n",
       "      <td>2023</td>\n",
       "      <td>1.200000e+06</td>\n",
       "    </tr>\n",
       "    <tr>\n",
       "      <th>2</th>\n",
       "      <td>2024</td>\n",
       "      <td>2.551592e+06</td>\n",
       "    </tr>\n",
       "    <tr>\n",
       "      <th>3</th>\n",
       "      <td>2025</td>\n",
       "      <td>2.551592e+06</td>\n",
       "    </tr>\n",
       "    <tr>\n",
       "      <th>4</th>\n",
       "      <td>2026</td>\n",
       "      <td>2.551592e+06</td>\n",
       "    </tr>\n",
       "  </tbody>\n",
       "</table>\n",
       "</div>"
      ],
      "text/plain": [
       "    año  precio_promedio\n",
       "0  2022     1.204362e+06\n",
       "1  2023     1.200000e+06\n",
       "2  2024     2.551592e+06\n",
       "3  2025     2.551592e+06\n",
       "4  2026     2.551592e+06"
      ]
     },
     "execution_count": 101,
     "metadata": {},
     "output_type": "execute_result"
    }
   ],
   "source": [
    "mediana_por_año = tulancingo_precio_media_anual.groupby('año')['precio_promedio'].median().reset_index()\n",
    "mediana_por_año"
   ]
  },
  {
   "cell_type": "code",
   "execution_count": 77,
   "metadata": {},
   "outputs": [
    {
     "data": {
      "text/plain": [
       "mes\n",
       "Abril          7.525766\n",
       "Agosto        -4.281538\n",
       "Diciembre      1.946638\n",
       "Julio          4.789583\n",
       "Junio         14.670776\n",
       "Marzo        -30.333333\n",
       "Mayo          10.008861\n",
       "Noviembre     -7.746479\n",
       "Octubre        6.250000\n",
       "Septiembre    -4.456481\n",
       "Name: cambio_porcentaje, dtype: float64"
      ]
     },
     "execution_count": 77,
     "metadata": {},
     "output_type": "execute_result"
    }
   ],
   "source": [
    "porcentaje_cambio_promedio = tulancingo_completo.groupby('mes')['cambio_porcentaje'].mean()\n",
    "porcentaje_cambio_promedio"
   ]
  },
  {
   "cell_type": "code",
   "execution_count": 79,
   "metadata": {},
   "outputs": [
    {
     "data": {
      "text/html": [
       "<div>\n",
       "<style scoped>\n",
       "    .dataframe tbody tr th:only-of-type {\n",
       "        vertical-align: middle;\n",
       "    }\n",
       "\n",
       "    .dataframe tbody tr th {\n",
       "        vertical-align: top;\n",
       "    }\n",
       "\n",
       "    .dataframe thead th {\n",
       "        text-align: right;\n",
       "    }\n",
       "</style>\n",
       "<table border=\"1\" class=\"dataframe\">\n",
       "  <thead>\n",
       "    <tr style=\"text-align: right;\">\n",
       "      <th></th>\n",
       "      <th>mes</th>\n",
       "      <th>año</th>\n",
       "      <th>precio_promedio</th>\n",
       "    </tr>\n",
       "  </thead>\n",
       "  <tbody>\n",
       "    <tr>\n",
       "      <th>0</th>\n",
       "      <td>Abril</td>\n",
       "      <td>2024</td>\n",
       "      <td>1.392459e+06</td>\n",
       "    </tr>\n",
       "    <tr>\n",
       "      <th>1</th>\n",
       "      <td>Agosto</td>\n",
       "      <td>2024</td>\n",
       "      <td>1.135436e+06</td>\n",
       "    </tr>\n",
       "    <tr>\n",
       "      <th>2</th>\n",
       "      <td>Diciembre</td>\n",
       "      <td>2024</td>\n",
       "      <td>1.223360e+06</td>\n",
       "    </tr>\n",
       "    <tr>\n",
       "      <th>3</th>\n",
       "      <td>Julio</td>\n",
       "      <td>2024</td>\n",
       "      <td>1.205028e+06</td>\n",
       "    </tr>\n",
       "    <tr>\n",
       "      <th>4</th>\n",
       "      <td>Junio</td>\n",
       "      <td>2024</td>\n",
       "      <td>1.720062e+06</td>\n",
       "    </tr>\n",
       "    <tr>\n",
       "      <th>5</th>\n",
       "      <td>Mayo</td>\n",
       "      <td>2024</td>\n",
       "      <td>1.320106e+06</td>\n",
       "    </tr>\n",
       "    <tr>\n",
       "      <th>6</th>\n",
       "      <td>Noviembre</td>\n",
       "      <td>2024</td>\n",
       "      <td>1.107042e+06</td>\n",
       "    </tr>\n",
       "    <tr>\n",
       "      <th>7</th>\n",
       "      <td>Octubre</td>\n",
       "      <td>2024</td>\n",
       "      <td>1.275000e+06</td>\n",
       "    </tr>\n",
       "    <tr>\n",
       "      <th>8</th>\n",
       "      <td>Septiembre</td>\n",
       "      <td>2024</td>\n",
       "      <td>1.168020e+06</td>\n",
       "    </tr>\n",
       "    <tr>\n",
       "      <th>9</th>\n",
       "      <td>Abril</td>\n",
       "      <td>2025</td>\n",
       "      <td>1.497252e+06</td>\n",
       "    </tr>\n",
       "    <tr>\n",
       "      <th>10</th>\n",
       "      <td>Agosto</td>\n",
       "      <td>2025</td>\n",
       "      <td>1.086822e+06</td>\n",
       "    </tr>\n",
       "    <tr>\n",
       "      <th>11</th>\n",
       "      <td>Diciembre</td>\n",
       "      <td>2025</td>\n",
       "      <td>1.247174e+06</td>\n",
       "    </tr>\n",
       "    <tr>\n",
       "      <th>12</th>\n",
       "      <td>Julio</td>\n",
       "      <td>2025</td>\n",
       "      <td>1.262744e+06</td>\n",
       "    </tr>\n",
       "    <tr>\n",
       "      <th>13</th>\n",
       "      <td>Junio</td>\n",
       "      <td>2025</td>\n",
       "      <td>1.972408e+06</td>\n",
       "    </tr>\n",
       "    <tr>\n",
       "      <th>14</th>\n",
       "      <td>Mayo</td>\n",
       "      <td>2025</td>\n",
       "      <td>1.452234e+06</td>\n",
       "    </tr>\n",
       "    <tr>\n",
       "      <th>15</th>\n",
       "      <td>Noviembre</td>\n",
       "      <td>2025</td>\n",
       "      <td>1.021285e+06</td>\n",
       "    </tr>\n",
       "    <tr>\n",
       "      <th>16</th>\n",
       "      <td>Octubre</td>\n",
       "      <td>2025</td>\n",
       "      <td>1.354688e+06</td>\n",
       "    </tr>\n",
       "    <tr>\n",
       "      <th>17</th>\n",
       "      <td>Septiembre</td>\n",
       "      <td>2025</td>\n",
       "      <td>1.115967e+06</td>\n",
       "    </tr>\n",
       "    <tr>\n",
       "      <th>18</th>\n",
       "      <td>Abril</td>\n",
       "      <td>2026</td>\n",
       "      <td>1.497252e+06</td>\n",
       "    </tr>\n",
       "    <tr>\n",
       "      <th>19</th>\n",
       "      <td>Agosto</td>\n",
       "      <td>2026</td>\n",
       "      <td>1.086822e+06</td>\n",
       "    </tr>\n",
       "    <tr>\n",
       "      <th>20</th>\n",
       "      <td>Diciembre</td>\n",
       "      <td>2026</td>\n",
       "      <td>1.247174e+06</td>\n",
       "    </tr>\n",
       "    <tr>\n",
       "      <th>21</th>\n",
       "      <td>Julio</td>\n",
       "      <td>2026</td>\n",
       "      <td>1.262744e+06</td>\n",
       "    </tr>\n",
       "    <tr>\n",
       "      <th>22</th>\n",
       "      <td>Junio</td>\n",
       "      <td>2026</td>\n",
       "      <td>1.972408e+06</td>\n",
       "    </tr>\n",
       "    <tr>\n",
       "      <th>23</th>\n",
       "      <td>Mayo</td>\n",
       "      <td>2026</td>\n",
       "      <td>1.452234e+06</td>\n",
       "    </tr>\n",
       "    <tr>\n",
       "      <th>24</th>\n",
       "      <td>Noviembre</td>\n",
       "      <td>2026</td>\n",
       "      <td>1.021285e+06</td>\n",
       "    </tr>\n",
       "    <tr>\n",
       "      <th>25</th>\n",
       "      <td>Octubre</td>\n",
       "      <td>2026</td>\n",
       "      <td>1.354688e+06</td>\n",
       "    </tr>\n",
       "    <tr>\n",
       "      <th>26</th>\n",
       "      <td>Septiembre</td>\n",
       "      <td>2026</td>\n",
       "      <td>1.115967e+06</td>\n",
       "    </tr>\n",
       "  </tbody>\n",
       "</table>\n",
       "</div>"
      ],
      "text/plain": [
       "           mes   año  precio_promedio\n",
       "0        Abril  2024     1.392459e+06\n",
       "1       Agosto  2024     1.135436e+06\n",
       "2    Diciembre  2024     1.223360e+06\n",
       "3        Julio  2024     1.205028e+06\n",
       "4        Junio  2024     1.720062e+06\n",
       "5         Mayo  2024     1.320106e+06\n",
       "6    Noviembre  2024     1.107042e+06\n",
       "7      Octubre  2024     1.275000e+06\n",
       "8   Septiembre  2024     1.168020e+06\n",
       "9        Abril  2025     1.497252e+06\n",
       "10      Agosto  2025     1.086822e+06\n",
       "11   Diciembre  2025     1.247174e+06\n",
       "12       Julio  2025     1.262744e+06\n",
       "13       Junio  2025     1.972408e+06\n",
       "14        Mayo  2025     1.452234e+06\n",
       "15   Noviembre  2025     1.021285e+06\n",
       "16     Octubre  2025     1.354688e+06\n",
       "17  Septiembre  2025     1.115967e+06\n",
       "18       Abril  2026     1.497252e+06\n",
       "19      Agosto  2026     1.086822e+06\n",
       "20   Diciembre  2026     1.247174e+06\n",
       "21       Julio  2026     1.262744e+06\n",
       "22       Junio  2026     1.972408e+06\n",
       "23        Mayo  2026     1.452234e+06\n",
       "24   Noviembre  2026     1.021285e+06\n",
       "25     Octubre  2026     1.354688e+06\n",
       "26  Septiembre  2026     1.115967e+06"
      ]
     },
     "execution_count": 79,
     "metadata": {},
     "output_type": "execute_result"
    }
   ],
   "source": [
    "# Lista para almacenar los precios predichos\n",
    "precios_predichos = []\n",
    "\n",
    "# Itera sobre los años 2024, 2025 y 2026\n",
    "for año in [2024, 2025, 2026]:\n",
    "    # Itera sobre los meses de enero a noviembre\n",
    "    for mes in tulancingo_completo_predicciones_nuevos['mes'].unique()[:-1]:  # Excluye diciembre, ya que no hay un mes siguiente para 2023\n",
    "        # Obtiene el precio del mes anterior\n",
    "        precio_anterior = tulancingo_completo_predicciones_nuevos[(tulancingo_completo_predicciones_nuevos['año'] == año - 1) & (tulancingo_completo_predicciones_nuevos['mes'] == mes)]['precio_promedio'].iloc[0]\n",
    "        # Obtiene el porcentaje de cambio promedio de dicho mes\n",
    "        porcentaje_cambio = porcentaje_cambio_promedio[mes]\n",
    "        # Calcula el precio para el mes actual en el nuevo año\n",
    "        precio_predicho = precio_anterior * (1 + porcentaje_cambio / 100)\n",
    "        # Agrega el nuevo registro a la lista de precios predichos\n",
    "        precios_predichos.append({'mes': mes, 'año': año, 'precio_promedio': precio_predicho})\n",
    "\n",
    "# Convierte la lista de precios predichos en un DataFrame\n",
    "df_precios_predichos = pd.DataFrame(precios_predichos)\n",
    "df_precios_predichos"
   ]
  },
  {
   "cell_type": "code",
   "execution_count": 18,
   "metadata": {},
   "outputs": [
    {
     "data": {
      "text/html": [
       "<div>\n",
       "<style scoped>\n",
       "    .dataframe tbody tr th:only-of-type {\n",
       "        vertical-align: middle;\n",
       "    }\n",
       "\n",
       "    .dataframe tbody tr th {\n",
       "        vertical-align: top;\n",
       "    }\n",
       "\n",
       "    .dataframe thead th {\n",
       "        text-align: right;\n",
       "    }\n",
       "</style>\n",
       "<table border=\"1\" class=\"dataframe\">\n",
       "  <thead>\n",
       "    <tr style=\"text-align: right;\">\n",
       "      <th></th>\n",
       "      <th>año</th>\n",
       "      <th>precio</th>\n",
       "    </tr>\n",
       "  </thead>\n",
       "  <tbody>\n",
       "    <tr>\n",
       "      <th>0</th>\n",
       "      <td>2024</td>\n",
       "      <td>8,419,923.04</td>\n",
       "    </tr>\n",
       "    <tr>\n",
       "      <th>1</th>\n",
       "      <td>2025</td>\n",
       "      <td>38,647,446.77</td>\n",
       "    </tr>\n",
       "    <tr>\n",
       "      <th>2</th>\n",
       "      <td>2026</td>\n",
       "      <td>177,391,780.66</td>\n",
       "    </tr>\n",
       "  </tbody>\n",
       "</table>\n",
       "</div>"
      ],
      "text/plain": [
       "    año         precio\n",
       "0  2024   8,419,923.04\n",
       "1  2025  38,647,446.77\n",
       "2  2026 177,391,780.66"
      ]
     },
     "execution_count": 18,
     "metadata": {},
     "output_type": "execute_result"
    }
   ],
   "source": [
    "# Formatear los precios\n",
    "pd.options.display.float_format = '{:,.2f}'.format\n",
    "\n",
    "# valor del cambio: 3.59\n",
    "cambio_tulancingo_numerico = float(cambio_tulancingo_formatted)\n",
    "# Años siguientes\n",
    "años_siguientes = [2024, 2025, 2026]\n",
    "\n",
    "# Verificar si el año 2023 está presente en el DataFrame precio_media_anual_tulancingo\n",
    "if 2023 in precio_media_anual_tulancingo['año'].values:\n",
    "    # Obtener el precio del año anterior (2023)\n",
    "    precio_anterior_2024 = precio_media_anual_tulancingo.loc[precio_media_anual_tulancingo['año'] == 2023, 'precio'].values[0]\n",
    "else:\n",
    "    # Asignar 0 si el año 2023 no está presente\n",
    "    precio_anterior_2024 = 0\n",
    "\n",
    "# Calcular el precio para el año 2024\n",
    "precio_nuevo_2024 = (precio_anterior_2024 * cambio_tulancingo_numerico) + precio_anterior_2024\n",
    "\n",
    "# Calcular el precio para el año 2025 basado en el precio del año 2024\n",
    "precio_nuevo_2025 = (precio_nuevo_2024 * cambio_tulancingo_numerico) + precio_nuevo_2024\n",
    "\n",
    "# Calcular el precio para el año 2026 basado en el precio del año 2025\n",
    "precio_nuevo_2026 = (precio_nuevo_2025 * cambio_tulancingo_numerico) + precio_nuevo_2025\n",
    "\n",
    "# Crear un DataFrame para los años 2024, 2025 y 2026\n",
    "precios_siguientes = {'año': [2024, 2025, 2026], 'precio': [precio_nuevo_2024, precio_nuevo_2025, precio_nuevo_2026]}\n",
    "precio_media_anual_siguientes = pd.DataFrame(precios_siguientes)\n",
    "precio_media_anual_siguientes"
   ]
  },
  {
   "cell_type": "code",
   "execution_count": 19,
   "metadata": {},
   "outputs": [
    {
     "data": {
      "text/html": [
       "<div>\n",
       "<style scoped>\n",
       "    .dataframe tbody tr th:only-of-type {\n",
       "        vertical-align: middle;\n",
       "    }\n",
       "\n",
       "    .dataframe tbody tr th {\n",
       "        vertical-align: top;\n",
       "    }\n",
       "\n",
       "    .dataframe thead th {\n",
       "        text-align: right;\n",
       "    }\n",
       "</style>\n",
       "<table border=\"1\" class=\"dataframe\">\n",
       "  <thead>\n",
       "    <tr style=\"text-align: right;\">\n",
       "      <th></th>\n",
       "      <th>año</th>\n",
       "      <th>precio</th>\n",
       "    </tr>\n",
       "  </thead>\n",
       "  <tbody>\n",
       "    <tr>\n",
       "      <th>0</th>\n",
       "      <td>2022</td>\n",
       "      <td>1,835,153.46</td>\n",
       "    </tr>\n",
       "    <tr>\n",
       "      <th>1</th>\n",
       "      <td>2023</td>\n",
       "      <td>1,834,405.89</td>\n",
       "    </tr>\n",
       "  </tbody>\n",
       "</table>\n",
       "</div>"
      ],
      "text/plain": [
       "    año        precio\n",
       "0  2022  1,835,153.46\n",
       "1  2023  1,834,405.89"
      ]
     },
     "execution_count": 19,
     "metadata": {},
     "output_type": "execute_result"
    }
   ],
   "source": [
    "precio_media_anual_tulancingo['precio'] = precio_media_anual_tulancingo['precio'].apply(lambda x: '{:,.2f}'.format(x))\n",
    "precio_media_anual_tulancingo"
   ]
  },
  {
   "cell_type": "code",
   "execution_count": null,
   "metadata": {},
   "outputs": [],
   "source": []
  },
  {
   "cell_type": "code",
   "execution_count": null,
   "metadata": {},
   "outputs": [],
   "source": []
  },
  {
   "cell_type": "code",
   "execution_count": null,
   "metadata": {},
   "outputs": [],
   "source": []
  },
  {
   "cell_type": "code",
   "execution_count": null,
   "metadata": {},
   "outputs": [],
   "source": []
  },
  {
   "cell_type": "markdown",
   "metadata": {},
   "source": [
    "___"
   ]
  },
  {
   "cell_type": "code",
   "execution_count": 93,
   "metadata": {},
   "outputs": [
    {
     "data": {
      "text/html": [
       "<div>\n",
       "<style scoped>\n",
       "    .dataframe tbody tr th:only-of-type {\n",
       "        vertical-align: middle;\n",
       "    }\n",
       "\n",
       "    .dataframe tbody tr th {\n",
       "        vertical-align: top;\n",
       "    }\n",
       "\n",
       "    .dataframe thead th {\n",
       "        text-align: right;\n",
       "    }\n",
       "</style>\n",
       "<table border=\"1\" class=\"dataframe\">\n",
       "  <thead>\n",
       "    <tr style=\"text-align: right;\">\n",
       "      <th></th>\n",
       "      <th>precio_promedio</th>\n",
       "      <th>mes</th>\n",
       "      <th>año</th>\n",
       "    </tr>\n",
       "  </thead>\n",
       "  <tbody>\n",
       "    <tr>\n",
       "      <th>0</th>\n",
       "      <td>1420000.0</td>\n",
       "      <td>Mayo</td>\n",
       "      <td>2022</td>\n",
       "    </tr>\n",
       "    <tr>\n",
       "      <th>1</th>\n",
       "      <td>1365000.0</td>\n",
       "      <td>Julio</td>\n",
       "      <td>2022</td>\n",
       "    </tr>\n",
       "    <tr>\n",
       "      <th>2</th>\n",
       "      <td>1350000.0</td>\n",
       "      <td>Octubre</td>\n",
       "      <td>2022</td>\n",
       "    </tr>\n",
       "    <tr>\n",
       "      <th>3</th>\n",
       "      <td>1045000.0</td>\n",
       "      <td>Marzo</td>\n",
       "      <td>2023</td>\n",
       "    </tr>\n",
       "    <tr>\n",
       "      <th>4</th>\n",
       "      <td>1200000.0</td>\n",
       "      <td>Mayo</td>\n",
       "      <td>2023</td>\n",
       "    </tr>\n",
       "    <tr>\n",
       "      <th>5</th>\n",
       "      <td>1500000.0</td>\n",
       "      <td>Junio</td>\n",
       "      <td>2023</td>\n",
       "    </tr>\n",
       "    <tr>\n",
       "      <th>6</th>\n",
       "      <td>1149950.0</td>\n",
       "      <td>Julio</td>\n",
       "      <td>2023</td>\n",
       "    </tr>\n",
       "    <tr>\n",
       "      <th>7</th>\n",
       "      <td>1222500.0</td>\n",
       "      <td>Septiembre</td>\n",
       "      <td>2023</td>\n",
       "    </tr>\n",
       "    <tr>\n",
       "      <th>8</th>\n",
       "      <td>1200000.0</td>\n",
       "      <td>Octubre</td>\n",
       "      <td>2023</td>\n",
       "    </tr>\n",
       "  </tbody>\n",
       "</table>\n",
       "</div>"
      ],
      "text/plain": [
       "   precio_promedio         mes   año\n",
       "0        1420000.0        Mayo  2022\n",
       "1        1365000.0       Julio  2022\n",
       "2        1350000.0     Octubre  2022\n",
       "3        1045000.0       Marzo  2023\n",
       "4        1200000.0        Mayo  2023\n",
       "5        1500000.0       Junio  2023\n",
       "6        1149950.0       Julio  2023\n",
       "7        1222500.0  Septiembre  2023\n",
       "8        1200000.0     Octubre  2023"
      ]
     },
     "execution_count": 93,
     "metadata": {},
     "output_type": "execute_result"
    }
   ],
   "source": [
    "tulancingo_months"
   ]
  },
  {
   "cell_type": "code",
   "execution_count": 102,
   "metadata": {},
   "outputs": [
    {
     "data": {
      "text/html": [
       "<div>\n",
       "<style scoped>\n",
       "    .dataframe tbody tr th:only-of-type {\n",
       "        vertical-align: middle;\n",
       "    }\n",
       "\n",
       "    .dataframe tbody tr th {\n",
       "        vertical-align: top;\n",
       "    }\n",
       "\n",
       "    .dataframe thead th {\n",
       "        text-align: right;\n",
       "    }\n",
       "</style>\n",
       "<table border=\"1\" class=\"dataframe\">\n",
       "  <thead>\n",
       "    <tr style=\"text-align: right;\">\n",
       "      <th></th>\n",
       "      <th>mes</th>\n",
       "      <th>año</th>\n",
       "      <th>precio_promedio</th>\n",
       "    </tr>\n",
       "  </thead>\n",
       "  <tbody>\n",
       "    <tr>\n",
       "      <th>6</th>\n",
       "      <td>Abril</td>\n",
       "      <td>2022</td>\n",
       "      <td>1.382549e+06</td>\n",
       "    </tr>\n",
       "    <tr>\n",
       "      <th>14</th>\n",
       "      <td>Agosto</td>\n",
       "      <td>2022</td>\n",
       "      <td>1.027664e+06</td>\n",
       "    </tr>\n",
       "    <tr>\n",
       "      <th>12</th>\n",
       "      <td>Julio</td>\n",
       "      <td>2022</td>\n",
       "      <td>1.365000e+06</td>\n",
       "    </tr>\n",
       "    <tr>\n",
       "      <th>10</th>\n",
       "      <td>Junio</td>\n",
       "      <td>2022</td>\n",
       "      <td>1.328141e+06</td>\n",
       "    </tr>\n",
       "    <tr>\n",
       "      <th>8</th>\n",
       "      <td>Mayo</td>\n",
       "      <td>2022</td>\n",
       "      <td>1.420000e+06</td>\n",
       "    </tr>\n",
       "    <tr>\n",
       "      <th>18</th>\n",
       "      <td>Octubre</td>\n",
       "      <td>2022</td>\n",
       "      <td>1.350000e+06</td>\n",
       "    </tr>\n",
       "    <tr>\n",
       "      <th>16</th>\n",
       "      <td>Septiembre</td>\n",
       "      <td>2022</td>\n",
       "      <td>1.097381e+06</td>\n",
       "    </tr>\n",
       "    <tr>\n",
       "      <th>7</th>\n",
       "      <td>Abril</td>\n",
       "      <td>2023</td>\n",
       "      <td>1.507549e+06</td>\n",
       "    </tr>\n",
       "    <tr>\n",
       "      <th>15</th>\n",
       "      <td>Agosto</td>\n",
       "      <td>2023</td>\n",
       "      <td>1.021288e+06</td>\n",
       "    </tr>\n",
       "    <tr>\n",
       "      <th>13</th>\n",
       "      <td>Julio</td>\n",
       "      <td>2023</td>\n",
       "      <td>1.149950e+06</td>\n",
       "    </tr>\n",
       "    <tr>\n",
       "      <th>11</th>\n",
       "      <td>Junio</td>\n",
       "      <td>2023</td>\n",
       "      <td>1.500000e+06</td>\n",
       "    </tr>\n",
       "    <tr>\n",
       "      <th>5</th>\n",
       "      <td>Marzo</td>\n",
       "      <td>2023</td>\n",
       "      <td>1.045000e+06</td>\n",
       "    </tr>\n",
       "    <tr>\n",
       "      <th>9</th>\n",
       "      <td>Mayo</td>\n",
       "      <td>2023</td>\n",
       "      <td>1.200000e+06</td>\n",
       "    </tr>\n",
       "    <tr>\n",
       "      <th>19</th>\n",
       "      <td>Octubre</td>\n",
       "      <td>2023</td>\n",
       "      <td>1.200000e+06</td>\n",
       "    </tr>\n",
       "    <tr>\n",
       "      <th>17</th>\n",
       "      <td>Septiembre</td>\n",
       "      <td>2023</td>\n",
       "      <td>1.222500e+06</td>\n",
       "    </tr>\n",
       "  </tbody>\n",
       "</table>\n",
       "</div>"
      ],
      "text/plain": [
       "           mes   año  precio_promedio\n",
       "6        Abril  2022     1.382549e+06\n",
       "14      Agosto  2022     1.027664e+06\n",
       "12       Julio  2022     1.365000e+06\n",
       "10       Junio  2022     1.328141e+06\n",
       "8         Mayo  2022     1.420000e+06\n",
       "18     Octubre  2022     1.350000e+06\n",
       "16  Septiembre  2022     1.097381e+06\n",
       "7        Abril  2023     1.507549e+06\n",
       "15      Agosto  2023     1.021288e+06\n",
       "13       Julio  2023     1.149950e+06\n",
       "11       Junio  2023     1.500000e+06\n",
       "5        Marzo  2023     1.045000e+06\n",
       "9         Mayo  2023     1.200000e+06\n",
       "19     Octubre  2023     1.200000e+06\n",
       "17  Septiembre  2023     1.222500e+06"
      ]
     },
     "execution_count": 102,
     "metadata": {},
     "output_type": "execute_result"
    }
   ],
   "source": [
    "# Crear un DataFrame con todas las combinaciones de meses y años posibles\n",
    "meses = ['Enero', 'Febrero', 'Marzo', 'Abril', 'Mayo', 'Junio', 'Julio', 'Agosto', 'Septiembre', 'Octubre', 'Noviembre', 'Diciembre']\n",
    "años = [2022, 2023]  # Años presentes \n",
    "combinaciones = [(mes, año) for mes in meses for año in años]\n",
    "df_combinaciones = pd.DataFrame(combinaciones, columns=['mes', 'año'])\n",
    "\n",
    "# Fusionar tulancingo_months para llenar los valores faltantes\n",
    "tulancingo_completo = pd.merge(df_combinaciones, tulancingo_months, on=['mes', 'año'], how='left')\n",
    "\n",
    "# Calcular los valores faltantes interpolando los valores conocidos\n",
    "tulancingo_completo['precio_promedio'] = tulancingo_completo['precio_promedio'].interpolate(method='quadratic')\n",
    "\n",
    "# Eliminar registros con valores NaN\n",
    "tulancingo_completo = tulancingo_completo.dropna()\n",
    "tulancingo_completo = tulancingo_completo.sort_values(by=['año', 'mes'])\n",
    "tulancingo_completo\n"
   ]
  },
  {
   "cell_type": "code",
   "execution_count": 103,
   "metadata": {},
   "outputs": [
    {
     "data": {
      "text/html": [
       "<div>\n",
       "<style scoped>\n",
       "    .dataframe tbody tr th:only-of-type {\n",
       "        vertical-align: middle;\n",
       "    }\n",
       "\n",
       "    .dataframe tbody tr th {\n",
       "        vertical-align: top;\n",
       "    }\n",
       "\n",
       "    .dataframe thead th {\n",
       "        text-align: right;\n",
       "    }\n",
       "</style>\n",
       "<table border=\"1\" class=\"dataframe\">\n",
       "  <thead>\n",
       "    <tr style=\"text-align: right;\">\n",
       "      <th></th>\n",
       "      <th>mes</th>\n",
       "      <th>año</th>\n",
       "      <th>precio_promedio</th>\n",
       "    </tr>\n",
       "  </thead>\n",
       "  <tbody>\n",
       "    <tr>\n",
       "      <th>0</th>\n",
       "      <td>Enero</td>\n",
       "      <td>2024</td>\n",
       "      <td>1.157886e+06</td>\n",
       "    </tr>\n",
       "    <tr>\n",
       "      <th>1</th>\n",
       "      <td>Enero</td>\n",
       "      <td>2025</td>\n",
       "      <td>1.157886e+06</td>\n",
       "    </tr>\n",
       "    <tr>\n",
       "      <th>2</th>\n",
       "      <td>Enero</td>\n",
       "      <td>2026</td>\n",
       "      <td>1.157886e+06</td>\n",
       "    </tr>\n",
       "    <tr>\n",
       "      <th>3</th>\n",
       "      <td>Febrero</td>\n",
       "      <td>2024</td>\n",
       "      <td>1.157886e+06</td>\n",
       "    </tr>\n",
       "    <tr>\n",
       "      <th>4</th>\n",
       "      <td>Febrero</td>\n",
       "      <td>2025</td>\n",
       "      <td>1.157886e+06</td>\n",
       "    </tr>\n",
       "    <tr>\n",
       "      <th>5</th>\n",
       "      <td>Febrero</td>\n",
       "      <td>2026</td>\n",
       "      <td>1.157886e+06</td>\n",
       "    </tr>\n",
       "    <tr>\n",
       "      <th>6</th>\n",
       "      <td>Marzo</td>\n",
       "      <td>2024</td>\n",
       "      <td>1.157886e+06</td>\n",
       "    </tr>\n",
       "    <tr>\n",
       "      <th>7</th>\n",
       "      <td>Marzo</td>\n",
       "      <td>2025</td>\n",
       "      <td>1.157886e+06</td>\n",
       "    </tr>\n",
       "    <tr>\n",
       "      <th>8</th>\n",
       "      <td>Marzo</td>\n",
       "      <td>2026</td>\n",
       "      <td>1.157886e+06</td>\n",
       "    </tr>\n",
       "    <tr>\n",
       "      <th>9</th>\n",
       "      <td>Abril</td>\n",
       "      <td>2024</td>\n",
       "      <td>1.393534e+06</td>\n",
       "    </tr>\n",
       "    <tr>\n",
       "      <th>10</th>\n",
       "      <td>Abril</td>\n",
       "      <td>2025</td>\n",
       "      <td>1.393534e+06</td>\n",
       "    </tr>\n",
       "    <tr>\n",
       "      <th>11</th>\n",
       "      <td>Abril</td>\n",
       "      <td>2026</td>\n",
       "      <td>1.393534e+06</td>\n",
       "    </tr>\n",
       "    <tr>\n",
       "      <th>12</th>\n",
       "      <td>Mayo</td>\n",
       "      <td>2024</td>\n",
       "      <td>1.289362e+06</td>\n",
       "    </tr>\n",
       "    <tr>\n",
       "      <th>13</th>\n",
       "      <td>Mayo</td>\n",
       "      <td>2025</td>\n",
       "      <td>1.289362e+06</td>\n",
       "    </tr>\n",
       "    <tr>\n",
       "      <th>14</th>\n",
       "      <td>Mayo</td>\n",
       "      <td>2026</td>\n",
       "      <td>1.289362e+06</td>\n",
       "    </tr>\n",
       "    <tr>\n",
       "      <th>15</th>\n",
       "      <td>Junio</td>\n",
       "      <td>2024</td>\n",
       "      <td>1.401057e+06</td>\n",
       "    </tr>\n",
       "    <tr>\n",
       "      <th>16</th>\n",
       "      <td>Junio</td>\n",
       "      <td>2025</td>\n",
       "      <td>1.401057e+06</td>\n",
       "    </tr>\n",
       "    <tr>\n",
       "      <th>17</th>\n",
       "      <td>Junio</td>\n",
       "      <td>2026</td>\n",
       "      <td>1.401057e+06</td>\n",
       "    </tr>\n",
       "    <tr>\n",
       "      <th>18</th>\n",
       "      <td>Julio</td>\n",
       "      <td>2024</td>\n",
       "      <td>1.256148e+06</td>\n",
       "    </tr>\n",
       "    <tr>\n",
       "      <th>19</th>\n",
       "      <td>Julio</td>\n",
       "      <td>2025</td>\n",
       "      <td>1.256148e+06</td>\n",
       "    </tr>\n",
       "    <tr>\n",
       "      <th>20</th>\n",
       "      <td>Julio</td>\n",
       "      <td>2026</td>\n",
       "      <td>1.256148e+06</td>\n",
       "    </tr>\n",
       "    <tr>\n",
       "      <th>21</th>\n",
       "      <td>Agosto</td>\n",
       "      <td>2024</td>\n",
       "      <td>1.059328e+06</td>\n",
       "    </tr>\n",
       "    <tr>\n",
       "      <th>22</th>\n",
       "      <td>Agosto</td>\n",
       "      <td>2025</td>\n",
       "      <td>1.059328e+06</td>\n",
       "    </tr>\n",
       "    <tr>\n",
       "      <th>23</th>\n",
       "      <td>Agosto</td>\n",
       "      <td>2026</td>\n",
       "      <td>1.059328e+06</td>\n",
       "    </tr>\n",
       "    <tr>\n",
       "      <th>24</th>\n",
       "      <td>Septiembre</td>\n",
       "      <td>2024</td>\n",
       "      <td>1.161997e+06</td>\n",
       "    </tr>\n",
       "    <tr>\n",
       "      <th>25</th>\n",
       "      <td>Septiembre</td>\n",
       "      <td>2025</td>\n",
       "      <td>1.161997e+06</td>\n",
       "    </tr>\n",
       "    <tr>\n",
       "      <th>26</th>\n",
       "      <td>Septiembre</td>\n",
       "      <td>2026</td>\n",
       "      <td>1.161997e+06</td>\n",
       "    </tr>\n",
       "    <tr>\n",
       "      <th>27</th>\n",
       "      <td>Octubre</td>\n",
       "      <td>2024</td>\n",
       "      <td>1.220576e+06</td>\n",
       "    </tr>\n",
       "    <tr>\n",
       "      <th>28</th>\n",
       "      <td>Octubre</td>\n",
       "      <td>2025</td>\n",
       "      <td>1.220576e+06</td>\n",
       "    </tr>\n",
       "    <tr>\n",
       "      <th>29</th>\n",
       "      <td>Octubre</td>\n",
       "      <td>2026</td>\n",
       "      <td>1.220576e+06</td>\n",
       "    </tr>\n",
       "    <tr>\n",
       "      <th>30</th>\n",
       "      <td>Noviembre</td>\n",
       "      <td>2024</td>\n",
       "      <td>1.220576e+06</td>\n",
       "    </tr>\n",
       "    <tr>\n",
       "      <th>31</th>\n",
       "      <td>Noviembre</td>\n",
       "      <td>2025</td>\n",
       "      <td>1.220576e+06</td>\n",
       "    </tr>\n",
       "    <tr>\n",
       "      <th>32</th>\n",
       "      <td>Noviembre</td>\n",
       "      <td>2026</td>\n",
       "      <td>1.220576e+06</td>\n",
       "    </tr>\n",
       "    <tr>\n",
       "      <th>33</th>\n",
       "      <td>Diciembre</td>\n",
       "      <td>2024</td>\n",
       "      <td>1.220576e+06</td>\n",
       "    </tr>\n",
       "    <tr>\n",
       "      <th>34</th>\n",
       "      <td>Diciembre</td>\n",
       "      <td>2025</td>\n",
       "      <td>1.220576e+06</td>\n",
       "    </tr>\n",
       "    <tr>\n",
       "      <th>35</th>\n",
       "      <td>Diciembre</td>\n",
       "      <td>2026</td>\n",
       "      <td>1.220576e+06</td>\n",
       "    </tr>\n",
       "  </tbody>\n",
       "</table>\n",
       "</div>"
      ],
      "text/plain": [
       "           mes   año  precio_promedio\n",
       "0        Enero  2024     1.157886e+06\n",
       "1        Enero  2025     1.157886e+06\n",
       "2        Enero  2026     1.157886e+06\n",
       "3      Febrero  2024     1.157886e+06\n",
       "4      Febrero  2025     1.157886e+06\n",
       "5      Febrero  2026     1.157886e+06\n",
       "6        Marzo  2024     1.157886e+06\n",
       "7        Marzo  2025     1.157886e+06\n",
       "8        Marzo  2026     1.157886e+06\n",
       "9        Abril  2024     1.393534e+06\n",
       "10       Abril  2025     1.393534e+06\n",
       "11       Abril  2026     1.393534e+06\n",
       "12        Mayo  2024     1.289362e+06\n",
       "13        Mayo  2025     1.289362e+06\n",
       "14        Mayo  2026     1.289362e+06\n",
       "15       Junio  2024     1.401057e+06\n",
       "16       Junio  2025     1.401057e+06\n",
       "17       Junio  2026     1.401057e+06\n",
       "18       Julio  2024     1.256148e+06\n",
       "19       Julio  2025     1.256148e+06\n",
       "20       Julio  2026     1.256148e+06\n",
       "21      Agosto  2024     1.059328e+06\n",
       "22      Agosto  2025     1.059328e+06\n",
       "23      Agosto  2026     1.059328e+06\n",
       "24  Septiembre  2024     1.161997e+06\n",
       "25  Septiembre  2025     1.161997e+06\n",
       "26  Septiembre  2026     1.161997e+06\n",
       "27     Octubre  2024     1.220576e+06\n",
       "28     Octubre  2025     1.220576e+06\n",
       "29     Octubre  2026     1.220576e+06\n",
       "30   Noviembre  2024     1.220576e+06\n",
       "31   Noviembre  2025     1.220576e+06\n",
       "32   Noviembre  2026     1.220576e+06\n",
       "33   Diciembre  2024     1.220576e+06\n",
       "34   Diciembre  2025     1.220576e+06\n",
       "35   Diciembre  2026     1.220576e+06"
      ]
     },
     "execution_count": 103,
     "metadata": {},
     "output_type": "execute_result"
    }
   ],
   "source": [
    "from sklearn.ensemble import RandomForestRegressor\n",
    "\n",
    "# Convertir mes a número\n",
    "meses_numeros = {\n",
    "    'Enero': 1, 'Febrero': 2, 'Marzo': 3, 'Abril': 4, 'Mayo': 5, 'Junio': 6,\n",
    "    'Julio': 7, 'Agosto': 8, 'Septiembre': 9, 'Octubre': 10, 'Noviembre': 11, 'Diciembre': 12\n",
    "}\n",
    "\n",
    "tulancingo_completo['mes_numero'] = tulancingo_completo['mes'].map(meses_numeros)\n",
    "\n",
    "# Entrenar modelo\n",
    "X_train = tulancingo_completo[['mes_numero', 'año']]\n",
    "y_train = tulancingo_completo['precio_promedio']\n",
    "\n",
    "# Entrenar modelo de Random Forest\n",
    "rf_model = RandomForestRegressor(n_estimators=100, random_state=42)\n",
    "rf_model.fit(X_train, y_train)\n",
    "\n",
    "# Generar datos para predecir (2024, 2025, 2026)\n",
    "meses = ['Enero', 'Febrero', 'Marzo', 'Abril', 'Mayo', 'Junio', 'Julio', 'Agosto', 'Septiembre', 'Octubre', 'Noviembre', 'Diciembre']\n",
    "años = [2024, 2025, 2026]\n",
    "combinaciones = [(mes, año) for mes in meses for año in años]\n",
    "X_predict = pd.DataFrame(combinaciones, columns=['mes', 'año'])\n",
    "\n",
    "# Convertir mes a número\n",
    "X_predict['mes_numero'] = X_predict['mes'].map(meses_numeros)\n",
    "\n",
    "# Predecir precios promedio para los años 2024, 2025 y 2026\n",
    "predicted_prices = rf_model.predict(X_predict[['mes_numero', 'año']])\n",
    "\n",
    "# Crear DataFrame con las predicciones\n",
    "predictions_df = pd.DataFrame({'mes': X_predict['mes'], 'año': X_predict['año'], 'precio_promedio': predicted_prices})\n",
    "predictions_df"
   ]
  },
  {
   "cell_type": "code",
   "execution_count": 104,
   "metadata": {},
   "outputs": [
    {
     "data": {
      "text/html": [
       "<div>\n",
       "<style scoped>\n",
       "    .dataframe tbody tr th:only-of-type {\n",
       "        vertical-align: middle;\n",
       "    }\n",
       "\n",
       "    .dataframe tbody tr th {\n",
       "        vertical-align: top;\n",
       "    }\n",
       "\n",
       "    .dataframe thead th {\n",
       "        text-align: right;\n",
       "    }\n",
       "</style>\n",
       "<table border=\"1\" class=\"dataframe\">\n",
       "  <thead>\n",
       "    <tr style=\"text-align: right;\">\n",
       "      <th></th>\n",
       "      <th>año</th>\n",
       "      <th>precio</th>\n",
       "    </tr>\n",
       "  </thead>\n",
       "  <tbody>\n",
       "    <tr>\n",
       "      <th>0</th>\n",
       "      <td>2022</td>\n",
       "      <td>1.281534e+06</td>\n",
       "    </tr>\n",
       "    <tr>\n",
       "      <th>1</th>\n",
       "      <td>2023</td>\n",
       "      <td>1.230786e+06</td>\n",
       "    </tr>\n",
       "  </tbody>\n",
       "</table>\n",
       "</div>"
      ],
      "text/plain": [
       "    año        precio\n",
       "0  2022  1.281534e+06\n",
       "1  2023  1.230786e+06"
      ]
     },
     "execution_count": 104,
     "metadata": {},
     "output_type": "execute_result"
    }
   ],
   "source": [
    "precio_media_anual_tulancingo = tulancingo_completo.groupby('año')['precio_promedio'].mean().reset_index()\n",
    "precio_media_anual_tulancingo.rename(columns={'precio_promedio': 'precio'}, inplace=True)\n",
    "precio_media_anual_tulancingo"
   ]
  },
  {
   "cell_type": "code",
   "execution_count": 81,
   "metadata": {},
   "outputs": [
    {
     "data": {
      "text/html": [
       "<div>\n",
       "<style scoped>\n",
       "    .dataframe tbody tr th:only-of-type {\n",
       "        vertical-align: middle;\n",
       "    }\n",
       "\n",
       "    .dataframe tbody tr th {\n",
       "        vertical-align: top;\n",
       "    }\n",
       "\n",
       "    .dataframe thead th {\n",
       "        text-align: right;\n",
       "    }\n",
       "</style>\n",
       "<table border=\"1\" class=\"dataframe\">\n",
       "  <thead>\n",
       "    <tr style=\"text-align: right;\">\n",
       "      <th></th>\n",
       "      <th>año</th>\n",
       "      <th>precio</th>\n",
       "    </tr>\n",
       "  </thead>\n",
       "  <tbody>\n",
       "    <tr>\n",
       "      <th>0</th>\n",
       "      <td>2022</td>\n",
       "      <td>1.269717e+06</td>\n",
       "    </tr>\n",
       "    <tr>\n",
       "      <th>1</th>\n",
       "      <td>2023</td>\n",
       "      <td>1.219868e+06</td>\n",
       "    </tr>\n",
       "    <tr>\n",
       "      <th>2</th>\n",
       "      <td>2024</td>\n",
       "      <td>1.282946e+06</td>\n",
       "    </tr>\n",
       "    <tr>\n",
       "      <th>3</th>\n",
       "      <td>2025</td>\n",
       "      <td>1.334508e+06</td>\n",
       "    </tr>\n",
       "    <tr>\n",
       "      <th>4</th>\n",
       "      <td>2026</td>\n",
       "      <td>1.334508e+06</td>\n",
       "    </tr>\n",
       "  </tbody>\n",
       "</table>\n",
       "</div>"
      ],
      "text/plain": [
       "    año        precio\n",
       "0  2022  1.269717e+06\n",
       "1  2023  1.219868e+06\n",
       "2  2024  1.282946e+06\n",
       "3  2025  1.334508e+06\n",
       "4  2026  1.334508e+06"
      ]
     },
     "execution_count": 81,
     "metadata": {},
     "output_type": "execute_result"
    }
   ],
   "source": [
    "precio_media_anual_tulancingo_pred = tulancingo_precio_media_anual.groupby('año')['precio_promedio'].mean().reset_index()\n",
    "precio_media_anual_tulancingo_pred.rename(columns={'precio_promedio': 'precio'}, inplace=True)\n",
    "precio_media_anual_tulancingo_pred"
   ]
  },
  {
   "cell_type": "code",
   "execution_count": 100,
   "metadata": {},
   "outputs": [
    {
     "data": {
      "text/html": [
       "<div>\n",
       "<style scoped>\n",
       "    .dataframe tbody tr th:only-of-type {\n",
       "        vertical-align: middle;\n",
       "    }\n",
       "\n",
       "    .dataframe tbody tr th {\n",
       "        vertical-align: top;\n",
       "    }\n",
       "\n",
       "    .dataframe thead th {\n",
       "        text-align: right;\n",
       "    }\n",
       "</style>\n",
       "<table border=\"1\" class=\"dataframe\">\n",
       "  <thead>\n",
       "    <tr style=\"text-align: right;\">\n",
       "      <th></th>\n",
       "      <th>mes</th>\n",
       "      <th>año</th>\n",
       "      <th>precio_promedio</th>\n",
       "      <th>cambio_porcentaje</th>\n",
       "    </tr>\n",
       "  </thead>\n",
       "  <tbody>\n",
       "    <tr>\n",
       "      <th>0</th>\n",
       "      <td>Abril</td>\n",
       "      <td>2022</td>\n",
       "      <td>1.170000e+06</td>\n",
       "      <td>NaN</td>\n",
       "    </tr>\n",
       "    <tr>\n",
       "      <th>1</th>\n",
       "      <td>Agosto</td>\n",
       "      <td>2022</td>\n",
       "      <td>1.168088e+06</td>\n",
       "      <td>-0.163462</td>\n",
       "    </tr>\n",
       "    <tr>\n",
       "      <th>2</th>\n",
       "      <td>Diciembre</td>\n",
       "      <td>2022</td>\n",
       "      <td>1.200000e+06</td>\n",
       "      <td>2.732030</td>\n",
       "    </tr>\n",
       "    <tr>\n",
       "      <th>3</th>\n",
       "      <td>Julio</td>\n",
       "      <td>2022</td>\n",
       "      <td>1.365000e+06</td>\n",
       "      <td>13.750000</td>\n",
       "    </tr>\n",
       "    <tr>\n",
       "      <th>4</th>\n",
       "      <td>Junio</td>\n",
       "      <td>2022</td>\n",
       "      <td>1.350000e+06</td>\n",
       "      <td>-1.098901</td>\n",
       "    </tr>\n",
       "    <tr>\n",
       "      <th>5</th>\n",
       "      <td>Mayo</td>\n",
       "      <td>2022</td>\n",
       "      <td>1.420000e+06</td>\n",
       "      <td>5.185185</td>\n",
       "    </tr>\n",
       "    <tr>\n",
       "      <th>6</th>\n",
       "      <td>Noviembre</td>\n",
       "      <td>2022</td>\n",
       "      <td>1.200000e+06</td>\n",
       "      <td>-15.492958</td>\n",
       "    </tr>\n",
       "    <tr>\n",
       "      <th>7</th>\n",
       "      <td>Octubre</td>\n",
       "      <td>2022</td>\n",
       "      <td>1.350000e+06</td>\n",
       "      <td>12.500000</td>\n",
       "    </tr>\n",
       "    <tr>\n",
       "      <th>8</th>\n",
       "      <td>Septiembre</td>\n",
       "      <td>2022</td>\n",
       "      <td>1.204362e+06</td>\n",
       "      <td>-10.787963</td>\n",
       "    </tr>\n",
       "    <tr>\n",
       "      <th>9</th>\n",
       "      <td>Abril</td>\n",
       "      <td>2023</td>\n",
       "      <td>1.295000e+06</td>\n",
       "      <td>7.525766</td>\n",
       "    </tr>\n",
       "    <tr>\n",
       "      <th>10</th>\n",
       "      <td>Agosto</td>\n",
       "      <td>2023</td>\n",
       "      <td>1.186225e+06</td>\n",
       "      <td>-8.399614</td>\n",
       "    </tr>\n",
       "    <tr>\n",
       "      <th>11</th>\n",
       "      <td>Diciembre</td>\n",
       "      <td>2023</td>\n",
       "      <td>1.200000e+06</td>\n",
       "      <td>1.161247</td>\n",
       "    </tr>\n",
       "    <tr>\n",
       "      <th>12</th>\n",
       "      <td>Julio</td>\n",
       "      <td>2023</td>\n",
       "      <td>1.149950e+06</td>\n",
       "      <td>-4.170833</td>\n",
       "    </tr>\n",
       "    <tr>\n",
       "      <th>13</th>\n",
       "      <td>Junio</td>\n",
       "      <td>2023</td>\n",
       "      <td>1.500000e+06</td>\n",
       "      <td>30.440454</td>\n",
       "    </tr>\n",
       "    <tr>\n",
       "      <th>14</th>\n",
       "      <td>Marzo</td>\n",
       "      <td>2023</td>\n",
       "      <td>1.045000e+06</td>\n",
       "      <td>-30.333333</td>\n",
       "    </tr>\n",
       "    <tr>\n",
       "      <th>15</th>\n",
       "      <td>Mayo</td>\n",
       "      <td>2023</td>\n",
       "      <td>1.200000e+06</td>\n",
       "      <td>14.832536</td>\n",
       "    </tr>\n",
       "    <tr>\n",
       "      <th>16</th>\n",
       "      <td>Noviembre</td>\n",
       "      <td>2023</td>\n",
       "      <td>1.200000e+06</td>\n",
       "      <td>0.000000</td>\n",
       "    </tr>\n",
       "    <tr>\n",
       "      <th>17</th>\n",
       "      <td>Octubre</td>\n",
       "      <td>2023</td>\n",
       "      <td>1.200000e+06</td>\n",
       "      <td>0.000000</td>\n",
       "    </tr>\n",
       "    <tr>\n",
       "      <th>18</th>\n",
       "      <td>Septiembre</td>\n",
       "      <td>2023</td>\n",
       "      <td>1.222500e+06</td>\n",
       "      <td>1.875000</td>\n",
       "    </tr>\n",
       "    <tr>\n",
       "      <th>19</th>\n",
       "      <td>Abril</td>\n",
       "      <td>2024</td>\n",
       "      <td>2.571485e+06</td>\n",
       "      <td>NaN</td>\n",
       "    </tr>\n",
       "    <tr>\n",
       "      <th>20</th>\n",
       "      <td>Agosto</td>\n",
       "      <td>2024</td>\n",
       "      <td>2.456016e+06</td>\n",
       "      <td>NaN</td>\n",
       "    </tr>\n",
       "    <tr>\n",
       "      <th>21</th>\n",
       "      <td>Diciembre</td>\n",
       "      <td>2024</td>\n",
       "      <td>2.503677e+06</td>\n",
       "      <td>NaN</td>\n",
       "    </tr>\n",
       "    <tr>\n",
       "      <th>22</th>\n",
       "      <td>Julio</td>\n",
       "      <td>2024</td>\n",
       "      <td>2.623593e+06</td>\n",
       "      <td>NaN</td>\n",
       "    </tr>\n",
       "    <tr>\n",
       "      <th>23</th>\n",
       "      <td>Junio</td>\n",
       "      <td>2024</td>\n",
       "      <td>2.973116e+06</td>\n",
       "      <td>NaN</td>\n",
       "    </tr>\n",
       "    <tr>\n",
       "      <th>24</th>\n",
       "      <td>Mayo</td>\n",
       "      <td>2024</td>\n",
       "      <td>2.733181e+06</td>\n",
       "      <td>NaN</td>\n",
       "    </tr>\n",
       "    <tr>\n",
       "      <th>25</th>\n",
       "      <td>Noviembre</td>\n",
       "      <td>2024</td>\n",
       "      <td>2.503677e+06</td>\n",
       "      <td>NaN</td>\n",
       "    </tr>\n",
       "    <tr>\n",
       "      <th>26</th>\n",
       "      <td>Octubre</td>\n",
       "      <td>2024</td>\n",
       "      <td>2.660157e+06</td>\n",
       "      <td>NaN</td>\n",
       "    </tr>\n",
       "    <tr>\n",
       "      <th>27</th>\n",
       "      <td>Septiembre</td>\n",
       "      <td>2024</td>\n",
       "      <td>2.531700e+06</td>\n",
       "      <td>NaN</td>\n",
       "    </tr>\n",
       "    <tr>\n",
       "      <th>28</th>\n",
       "      <td>Marzo</td>\n",
       "      <td>2024</td>\n",
       "      <td>2.180285e+06</td>\n",
       "      <td>NaN</td>\n",
       "    </tr>\n",
       "    <tr>\n",
       "      <th>29</th>\n",
       "      <td>Abril</td>\n",
       "      <td>2025</td>\n",
       "      <td>2.571485e+06</td>\n",
       "      <td>NaN</td>\n",
       "    </tr>\n",
       "    <tr>\n",
       "      <th>30</th>\n",
       "      <td>Agosto</td>\n",
       "      <td>2025</td>\n",
       "      <td>2.456016e+06</td>\n",
       "      <td>NaN</td>\n",
       "    </tr>\n",
       "    <tr>\n",
       "      <th>31</th>\n",
       "      <td>Diciembre</td>\n",
       "      <td>2025</td>\n",
       "      <td>2.503677e+06</td>\n",
       "      <td>NaN</td>\n",
       "    </tr>\n",
       "    <tr>\n",
       "      <th>32</th>\n",
       "      <td>Julio</td>\n",
       "      <td>2025</td>\n",
       "      <td>2.623593e+06</td>\n",
       "      <td>NaN</td>\n",
       "    </tr>\n",
       "    <tr>\n",
       "      <th>33</th>\n",
       "      <td>Junio</td>\n",
       "      <td>2025</td>\n",
       "      <td>2.973116e+06</td>\n",
       "      <td>NaN</td>\n",
       "    </tr>\n",
       "    <tr>\n",
       "      <th>34</th>\n",
       "      <td>Mayo</td>\n",
       "      <td>2025</td>\n",
       "      <td>2.733181e+06</td>\n",
       "      <td>NaN</td>\n",
       "    </tr>\n",
       "    <tr>\n",
       "      <th>35</th>\n",
       "      <td>Noviembre</td>\n",
       "      <td>2025</td>\n",
       "      <td>2.503677e+06</td>\n",
       "      <td>NaN</td>\n",
       "    </tr>\n",
       "    <tr>\n",
       "      <th>36</th>\n",
       "      <td>Octubre</td>\n",
       "      <td>2025</td>\n",
       "      <td>2.660157e+06</td>\n",
       "      <td>NaN</td>\n",
       "    </tr>\n",
       "    <tr>\n",
       "      <th>37</th>\n",
       "      <td>Septiembre</td>\n",
       "      <td>2025</td>\n",
       "      <td>2.531700e+06</td>\n",
       "      <td>NaN</td>\n",
       "    </tr>\n",
       "    <tr>\n",
       "      <th>38</th>\n",
       "      <td>Marzo</td>\n",
       "      <td>2025</td>\n",
       "      <td>2.180285e+06</td>\n",
       "      <td>NaN</td>\n",
       "    </tr>\n",
       "    <tr>\n",
       "      <th>39</th>\n",
       "      <td>Abril</td>\n",
       "      <td>2026</td>\n",
       "      <td>2.571485e+06</td>\n",
       "      <td>NaN</td>\n",
       "    </tr>\n",
       "    <tr>\n",
       "      <th>40</th>\n",
       "      <td>Agosto</td>\n",
       "      <td>2026</td>\n",
       "      <td>2.456016e+06</td>\n",
       "      <td>NaN</td>\n",
       "    </tr>\n",
       "    <tr>\n",
       "      <th>41</th>\n",
       "      <td>Diciembre</td>\n",
       "      <td>2026</td>\n",
       "      <td>2.503677e+06</td>\n",
       "      <td>NaN</td>\n",
       "    </tr>\n",
       "    <tr>\n",
       "      <th>42</th>\n",
       "      <td>Julio</td>\n",
       "      <td>2026</td>\n",
       "      <td>2.623593e+06</td>\n",
       "      <td>NaN</td>\n",
       "    </tr>\n",
       "    <tr>\n",
       "      <th>43</th>\n",
       "      <td>Junio</td>\n",
       "      <td>2026</td>\n",
       "      <td>2.973116e+06</td>\n",
       "      <td>NaN</td>\n",
       "    </tr>\n",
       "    <tr>\n",
       "      <th>44</th>\n",
       "      <td>Mayo</td>\n",
       "      <td>2026</td>\n",
       "      <td>2.733181e+06</td>\n",
       "      <td>NaN</td>\n",
       "    </tr>\n",
       "    <tr>\n",
       "      <th>45</th>\n",
       "      <td>Noviembre</td>\n",
       "      <td>2026</td>\n",
       "      <td>2.503677e+06</td>\n",
       "      <td>NaN</td>\n",
       "    </tr>\n",
       "    <tr>\n",
       "      <th>46</th>\n",
       "      <td>Octubre</td>\n",
       "      <td>2026</td>\n",
       "      <td>2.660157e+06</td>\n",
       "      <td>NaN</td>\n",
       "    </tr>\n",
       "    <tr>\n",
       "      <th>47</th>\n",
       "      <td>Septiembre</td>\n",
       "      <td>2026</td>\n",
       "      <td>2.531700e+06</td>\n",
       "      <td>NaN</td>\n",
       "    </tr>\n",
       "    <tr>\n",
       "      <th>48</th>\n",
       "      <td>Marzo</td>\n",
       "      <td>2026</td>\n",
       "      <td>2.180285e+06</td>\n",
       "      <td>NaN</td>\n",
       "    </tr>\n",
       "  </tbody>\n",
       "</table>\n",
       "</div>"
      ],
      "text/plain": [
       "           mes   año  precio_promedio  cambio_porcentaje\n",
       "0        Abril  2022     1.170000e+06                NaN\n",
       "1       Agosto  2022     1.168088e+06          -0.163462\n",
       "2    Diciembre  2022     1.200000e+06           2.732030\n",
       "3        Julio  2022     1.365000e+06          13.750000\n",
       "4        Junio  2022     1.350000e+06          -1.098901\n",
       "5         Mayo  2022     1.420000e+06           5.185185\n",
       "6    Noviembre  2022     1.200000e+06         -15.492958\n",
       "7      Octubre  2022     1.350000e+06          12.500000\n",
       "8   Septiembre  2022     1.204362e+06         -10.787963\n",
       "9        Abril  2023     1.295000e+06           7.525766\n",
       "10      Agosto  2023     1.186225e+06          -8.399614\n",
       "11   Diciembre  2023     1.200000e+06           1.161247\n",
       "12       Julio  2023     1.149950e+06          -4.170833\n",
       "13       Junio  2023     1.500000e+06          30.440454\n",
       "14       Marzo  2023     1.045000e+06         -30.333333\n",
       "15        Mayo  2023     1.200000e+06          14.832536\n",
       "16   Noviembre  2023     1.200000e+06           0.000000\n",
       "17     Octubre  2023     1.200000e+06           0.000000\n",
       "18  Septiembre  2023     1.222500e+06           1.875000\n",
       "19       Abril  2024     2.571485e+06                NaN\n",
       "20      Agosto  2024     2.456016e+06                NaN\n",
       "21   Diciembre  2024     2.503677e+06                NaN\n",
       "22       Julio  2024     2.623593e+06                NaN\n",
       "23       Junio  2024     2.973116e+06                NaN\n",
       "24        Mayo  2024     2.733181e+06                NaN\n",
       "25   Noviembre  2024     2.503677e+06                NaN\n",
       "26     Octubre  2024     2.660157e+06                NaN\n",
       "27  Septiembre  2024     2.531700e+06                NaN\n",
       "28       Marzo  2024     2.180285e+06                NaN\n",
       "29       Abril  2025     2.571485e+06                NaN\n",
       "30      Agosto  2025     2.456016e+06                NaN\n",
       "31   Diciembre  2025     2.503677e+06                NaN\n",
       "32       Julio  2025     2.623593e+06                NaN\n",
       "33       Junio  2025     2.973116e+06                NaN\n",
       "34        Mayo  2025     2.733181e+06                NaN\n",
       "35   Noviembre  2025     2.503677e+06                NaN\n",
       "36     Octubre  2025     2.660157e+06                NaN\n",
       "37  Septiembre  2025     2.531700e+06                NaN\n",
       "38       Marzo  2025     2.180285e+06                NaN\n",
       "39       Abril  2026     2.571485e+06                NaN\n",
       "40      Agosto  2026     2.456016e+06                NaN\n",
       "41   Diciembre  2026     2.503677e+06                NaN\n",
       "42       Julio  2026     2.623593e+06                NaN\n",
       "43       Junio  2026     2.973116e+06                NaN\n",
       "44        Mayo  2026     2.733181e+06                NaN\n",
       "45   Noviembre  2026     2.503677e+06                NaN\n",
       "46     Octubre  2026     2.660157e+06                NaN\n",
       "47  Septiembre  2026     2.531700e+06                NaN\n",
       "48       Marzo  2026     2.180285e+06                NaN"
      ]
     },
     "execution_count": 100,
     "metadata": {},
     "output_type": "execute_result"
    }
   ],
   "source": [
    "\n",
    "tulancingo_precio_media_anual = pd.concat([tulancingo_completo,df_precios_predichos], ignore_index=True)\n",
    "tulancingo_precio_media_anual"
   ]
  },
  {
   "cell_type": "code",
   "execution_count": 83,
   "metadata": {},
   "outputs": [
    {
     "data": {
      "application/vnd.plotly.v1+json": {
       "config": {
        "plotlyServerURL": "https://plot.ly"
       },
       "data": [
        {
         "marker": {
          "color": "blue"
         },
         "mode": "markers+lines",
         "type": "scatter",
         "x": [
          2022,
          2023,
          2024,
          2025,
          2026
         ],
         "y": [
          1269716.6666666667,
          1219867.5,
          1282945.8010122625,
          1334508.1758707021,
          1334508.1758707021
         ]
        }
       ],
       "layout": {
        "annotations": [
         {
          "font": {
           "color": "black",
           "size": 12
          },
          "showarrow": false,
          "text": "$1,269,716.67",
          "textangle": 0,
          "x": 2022,
          "xshift": 0,
          "y": 1269716.6666666667,
          "yshift": 17
         },
         {
          "font": {
           "color": "black",
           "size": 12
          },
          "showarrow": false,
          "text": "$1,219,867.50",
          "textangle": 0,
          "x": 2023,
          "xshift": 0,
          "y": 1219867.5,
          "yshift": 17
         },
         {
          "font": {
           "color": "black",
           "size": 12
          },
          "showarrow": false,
          "text": "$1,282,945.80",
          "textangle": 0,
          "x": 2024,
          "xshift": 0,
          "y": 1282945.8010122625,
          "yshift": 17
         },
         {
          "font": {
           "color": "black",
           "size": 12
          },
          "showarrow": false,
          "text": "$1,334,508.18",
          "textangle": 0,
          "x": 2025,
          "xshift": 0,
          "y": 1334508.1758707021,
          "yshift": 17
         },
         {
          "font": {
           "color": "black",
           "size": 12
          },
          "showarrow": false,
          "text": "$1,334,508.18",
          "textangle": 0,
          "x": 2026,
          "xshift": 0,
          "y": 1334508.1758707021,
          "yshift": 17
         }
        ],
        "plot_bgcolor": "rgba(0,0,0,0)",
        "template": {
         "data": {
          "bar": [
           {
            "error_x": {
             "color": "#2a3f5f"
            },
            "error_y": {
             "color": "#2a3f5f"
            },
            "marker": {
             "line": {
              "color": "#E5ECF6",
              "width": 0.5
             },
             "pattern": {
              "fillmode": "overlay",
              "size": 10,
              "solidity": 0.2
             }
            },
            "type": "bar"
           }
          ],
          "barpolar": [
           {
            "marker": {
             "line": {
              "color": "#E5ECF6",
              "width": 0.5
             },
             "pattern": {
              "fillmode": "overlay",
              "size": 10,
              "solidity": 0.2
             }
            },
            "type": "barpolar"
           }
          ],
          "carpet": [
           {
            "aaxis": {
             "endlinecolor": "#2a3f5f",
             "gridcolor": "white",
             "linecolor": "white",
             "minorgridcolor": "white",
             "startlinecolor": "#2a3f5f"
            },
            "baxis": {
             "endlinecolor": "#2a3f5f",
             "gridcolor": "white",
             "linecolor": "white",
             "minorgridcolor": "white",
             "startlinecolor": "#2a3f5f"
            },
            "type": "carpet"
           }
          ],
          "choropleth": [
           {
            "colorbar": {
             "outlinewidth": 0,
             "ticks": ""
            },
            "type": "choropleth"
           }
          ],
          "contour": [
           {
            "colorbar": {
             "outlinewidth": 0,
             "ticks": ""
            },
            "colorscale": [
             [
              0,
              "#0d0887"
             ],
             [
              0.1111111111111111,
              "#46039f"
             ],
             [
              0.2222222222222222,
              "#7201a8"
             ],
             [
              0.3333333333333333,
              "#9c179e"
             ],
             [
              0.4444444444444444,
              "#bd3786"
             ],
             [
              0.5555555555555556,
              "#d8576b"
             ],
             [
              0.6666666666666666,
              "#ed7953"
             ],
             [
              0.7777777777777778,
              "#fb9f3a"
             ],
             [
              0.8888888888888888,
              "#fdca26"
             ],
             [
              1,
              "#f0f921"
             ]
            ],
            "type": "contour"
           }
          ],
          "contourcarpet": [
           {
            "colorbar": {
             "outlinewidth": 0,
             "ticks": ""
            },
            "type": "contourcarpet"
           }
          ],
          "heatmap": [
           {
            "colorbar": {
             "outlinewidth": 0,
             "ticks": ""
            },
            "colorscale": [
             [
              0,
              "#0d0887"
             ],
             [
              0.1111111111111111,
              "#46039f"
             ],
             [
              0.2222222222222222,
              "#7201a8"
             ],
             [
              0.3333333333333333,
              "#9c179e"
             ],
             [
              0.4444444444444444,
              "#bd3786"
             ],
             [
              0.5555555555555556,
              "#d8576b"
             ],
             [
              0.6666666666666666,
              "#ed7953"
             ],
             [
              0.7777777777777778,
              "#fb9f3a"
             ],
             [
              0.8888888888888888,
              "#fdca26"
             ],
             [
              1,
              "#f0f921"
             ]
            ],
            "type": "heatmap"
           }
          ],
          "heatmapgl": [
           {
            "colorbar": {
             "outlinewidth": 0,
             "ticks": ""
            },
            "colorscale": [
             [
              0,
              "#0d0887"
             ],
             [
              0.1111111111111111,
              "#46039f"
             ],
             [
              0.2222222222222222,
              "#7201a8"
             ],
             [
              0.3333333333333333,
              "#9c179e"
             ],
             [
              0.4444444444444444,
              "#bd3786"
             ],
             [
              0.5555555555555556,
              "#d8576b"
             ],
             [
              0.6666666666666666,
              "#ed7953"
             ],
             [
              0.7777777777777778,
              "#fb9f3a"
             ],
             [
              0.8888888888888888,
              "#fdca26"
             ],
             [
              1,
              "#f0f921"
             ]
            ],
            "type": "heatmapgl"
           }
          ],
          "histogram": [
           {
            "marker": {
             "pattern": {
              "fillmode": "overlay",
              "size": 10,
              "solidity": 0.2
             }
            },
            "type": "histogram"
           }
          ],
          "histogram2d": [
           {
            "colorbar": {
             "outlinewidth": 0,
             "ticks": ""
            },
            "colorscale": [
             [
              0,
              "#0d0887"
             ],
             [
              0.1111111111111111,
              "#46039f"
             ],
             [
              0.2222222222222222,
              "#7201a8"
             ],
             [
              0.3333333333333333,
              "#9c179e"
             ],
             [
              0.4444444444444444,
              "#bd3786"
             ],
             [
              0.5555555555555556,
              "#d8576b"
             ],
             [
              0.6666666666666666,
              "#ed7953"
             ],
             [
              0.7777777777777778,
              "#fb9f3a"
             ],
             [
              0.8888888888888888,
              "#fdca26"
             ],
             [
              1,
              "#f0f921"
             ]
            ],
            "type": "histogram2d"
           }
          ],
          "histogram2dcontour": [
           {
            "colorbar": {
             "outlinewidth": 0,
             "ticks": ""
            },
            "colorscale": [
             [
              0,
              "#0d0887"
             ],
             [
              0.1111111111111111,
              "#46039f"
             ],
             [
              0.2222222222222222,
              "#7201a8"
             ],
             [
              0.3333333333333333,
              "#9c179e"
             ],
             [
              0.4444444444444444,
              "#bd3786"
             ],
             [
              0.5555555555555556,
              "#d8576b"
             ],
             [
              0.6666666666666666,
              "#ed7953"
             ],
             [
              0.7777777777777778,
              "#fb9f3a"
             ],
             [
              0.8888888888888888,
              "#fdca26"
             ],
             [
              1,
              "#f0f921"
             ]
            ],
            "type": "histogram2dcontour"
           }
          ],
          "mesh3d": [
           {
            "colorbar": {
             "outlinewidth": 0,
             "ticks": ""
            },
            "type": "mesh3d"
           }
          ],
          "parcoords": [
           {
            "line": {
             "colorbar": {
              "outlinewidth": 0,
              "ticks": ""
             }
            },
            "type": "parcoords"
           }
          ],
          "pie": [
           {
            "automargin": true,
            "type": "pie"
           }
          ],
          "scatter": [
           {
            "fillpattern": {
             "fillmode": "overlay",
             "size": 10,
             "solidity": 0.2
            },
            "type": "scatter"
           }
          ],
          "scatter3d": [
           {
            "line": {
             "colorbar": {
              "outlinewidth": 0,
              "ticks": ""
             }
            },
            "marker": {
             "colorbar": {
              "outlinewidth": 0,
              "ticks": ""
             }
            },
            "type": "scatter3d"
           }
          ],
          "scattercarpet": [
           {
            "marker": {
             "colorbar": {
              "outlinewidth": 0,
              "ticks": ""
             }
            },
            "type": "scattercarpet"
           }
          ],
          "scattergeo": [
           {
            "marker": {
             "colorbar": {
              "outlinewidth": 0,
              "ticks": ""
             }
            },
            "type": "scattergeo"
           }
          ],
          "scattergl": [
           {
            "marker": {
             "colorbar": {
              "outlinewidth": 0,
              "ticks": ""
             }
            },
            "type": "scattergl"
           }
          ],
          "scattermapbox": [
           {
            "marker": {
             "colorbar": {
              "outlinewidth": 0,
              "ticks": ""
             }
            },
            "type": "scattermapbox"
           }
          ],
          "scatterpolar": [
           {
            "marker": {
             "colorbar": {
              "outlinewidth": 0,
              "ticks": ""
             }
            },
            "type": "scatterpolar"
           }
          ],
          "scatterpolargl": [
           {
            "marker": {
             "colorbar": {
              "outlinewidth": 0,
              "ticks": ""
             }
            },
            "type": "scatterpolargl"
           }
          ],
          "scatterternary": [
           {
            "marker": {
             "colorbar": {
              "outlinewidth": 0,
              "ticks": ""
             }
            },
            "type": "scatterternary"
           }
          ],
          "surface": [
           {
            "colorbar": {
             "outlinewidth": 0,
             "ticks": ""
            },
            "colorscale": [
             [
              0,
              "#0d0887"
             ],
             [
              0.1111111111111111,
              "#46039f"
             ],
             [
              0.2222222222222222,
              "#7201a8"
             ],
             [
              0.3333333333333333,
              "#9c179e"
             ],
             [
              0.4444444444444444,
              "#bd3786"
             ],
             [
              0.5555555555555556,
              "#d8576b"
             ],
             [
              0.6666666666666666,
              "#ed7953"
             ],
             [
              0.7777777777777778,
              "#fb9f3a"
             ],
             [
              0.8888888888888888,
              "#fdca26"
             ],
             [
              1,
              "#f0f921"
             ]
            ],
            "type": "surface"
           }
          ],
          "table": [
           {
            "cells": {
             "fill": {
              "color": "#EBF0F8"
             },
             "line": {
              "color": "white"
             }
            },
            "header": {
             "fill": {
              "color": "#C8D4E3"
             },
             "line": {
              "color": "white"
             }
            },
            "type": "table"
           }
          ]
         },
         "layout": {
          "annotationdefaults": {
           "arrowcolor": "#2a3f5f",
           "arrowhead": 0,
           "arrowwidth": 1
          },
          "autotypenumbers": "strict",
          "coloraxis": {
           "colorbar": {
            "outlinewidth": 0,
            "ticks": ""
           }
          },
          "colorscale": {
           "diverging": [
            [
             0,
             "#8e0152"
            ],
            [
             0.1,
             "#c51b7d"
            ],
            [
             0.2,
             "#de77ae"
            ],
            [
             0.3,
             "#f1b6da"
            ],
            [
             0.4,
             "#fde0ef"
            ],
            [
             0.5,
             "#f7f7f7"
            ],
            [
             0.6,
             "#e6f5d0"
            ],
            [
             0.7,
             "#b8e186"
            ],
            [
             0.8,
             "#7fbc41"
            ],
            [
             0.9,
             "#4d9221"
            ],
            [
             1,
             "#276419"
            ]
           ],
           "sequential": [
            [
             0,
             "#0d0887"
            ],
            [
             0.1111111111111111,
             "#46039f"
            ],
            [
             0.2222222222222222,
             "#7201a8"
            ],
            [
             0.3333333333333333,
             "#9c179e"
            ],
            [
             0.4444444444444444,
             "#bd3786"
            ],
            [
             0.5555555555555556,
             "#d8576b"
            ],
            [
             0.6666666666666666,
             "#ed7953"
            ],
            [
             0.7777777777777778,
             "#fb9f3a"
            ],
            [
             0.8888888888888888,
             "#fdca26"
            ],
            [
             1,
             "#f0f921"
            ]
           ],
           "sequentialminus": [
            [
             0,
             "#0d0887"
            ],
            [
             0.1111111111111111,
             "#46039f"
            ],
            [
             0.2222222222222222,
             "#7201a8"
            ],
            [
             0.3333333333333333,
             "#9c179e"
            ],
            [
             0.4444444444444444,
             "#bd3786"
            ],
            [
             0.5555555555555556,
             "#d8576b"
            ],
            [
             0.6666666666666666,
             "#ed7953"
            ],
            [
             0.7777777777777778,
             "#fb9f3a"
            ],
            [
             0.8888888888888888,
             "#fdca26"
            ],
            [
             1,
             "#f0f921"
            ]
           ]
          },
          "colorway": [
           "#636efa",
           "#EF553B",
           "#00cc96",
           "#ab63fa",
           "#FFA15A",
           "#19d3f3",
           "#FF6692",
           "#B6E880",
           "#FF97FF",
           "#FECB52"
          ],
          "font": {
           "color": "#2a3f5f"
          },
          "geo": {
           "bgcolor": "white",
           "lakecolor": "white",
           "landcolor": "#E5ECF6",
           "showlakes": true,
           "showland": true,
           "subunitcolor": "white"
          },
          "hoverlabel": {
           "align": "left"
          },
          "hovermode": "closest",
          "mapbox": {
           "style": "light"
          },
          "paper_bgcolor": "white",
          "plot_bgcolor": "#E5ECF6",
          "polar": {
           "angularaxis": {
            "gridcolor": "white",
            "linecolor": "white",
            "ticks": ""
           },
           "bgcolor": "#E5ECF6",
           "radialaxis": {
            "gridcolor": "white",
            "linecolor": "white",
            "ticks": ""
           }
          },
          "scene": {
           "xaxis": {
            "backgroundcolor": "#E5ECF6",
            "gridcolor": "white",
            "gridwidth": 2,
            "linecolor": "white",
            "showbackground": true,
            "ticks": "",
            "zerolinecolor": "white"
           },
           "yaxis": {
            "backgroundcolor": "#E5ECF6",
            "gridcolor": "white",
            "gridwidth": 2,
            "linecolor": "white",
            "showbackground": true,
            "ticks": "",
            "zerolinecolor": "white"
           },
           "zaxis": {
            "backgroundcolor": "#E5ECF6",
            "gridcolor": "white",
            "gridwidth": 2,
            "linecolor": "white",
            "showbackground": true,
            "ticks": "",
            "zerolinecolor": "white"
           }
          },
          "shapedefaults": {
           "line": {
            "color": "#2a3f5f"
           }
          },
          "ternary": {
           "aaxis": {
            "gridcolor": "white",
            "linecolor": "white",
            "ticks": ""
           },
           "baxis": {
            "gridcolor": "white",
            "linecolor": "white",
            "ticks": ""
           },
           "bgcolor": "#E5ECF6",
           "caxis": {
            "gridcolor": "white",
            "linecolor": "white",
            "ticks": ""
           }
          },
          "title": {
           "x": 0.05
          },
          "xaxis": {
           "automargin": true,
           "gridcolor": "white",
           "linecolor": "white",
           "ticks": "",
           "title": {
            "standoff": 15
           },
           "zerolinecolor": "white",
           "zerolinewidth": 2
          },
          "yaxis": {
           "automargin": true,
           "gridcolor": "white",
           "linecolor": "white",
           "ticks": "",
           "title": {
            "standoff": 15
           },
           "zerolinecolor": "white",
           "zerolinewidth": 2
          }
         }
        },
        "title": {
         "text": "Precio Media Anual"
        },
        "xaxis": {
         "gridcolor": "#dddcda",
         "tickmode": "array",
         "ticktext": [
          2022,
          2023,
          2024,
          2025,
          2026
         ],
         "tickvals": [
          2022,
          2023,
          2024,
          2025,
          2026
         ]
        },
        "yaxis": {
         "gridcolor": "#dddcda",
         "gridwidth": 1,
         "range": [
          0,
          2000000
         ],
         "ticktext": [
          "$0.00",
          "$500,000.00",
          "$1,000,000.00",
          "$1,500,000.00",
          "$2,000,000.00"
         ],
         "tickvals": [
          0,
          1000000,
          5000000,
          2000000
         ]
        }
       }
      }
     },
     "metadata": {},
     "output_type": "display_data"
    }
   ],
   "source": [
    "# Datos\n",
    "año = precio_media_anual_tulancingo_pred['año']\n",
    "promedio = precio_media_anual_tulancingo_pred['precio']\n",
    "\n",
    "fig = go.Figure()\n",
    "fig.add_trace(go.Scatter(\n",
    "    x=año,\n",
    "    y=promedio,\n",
    "    mode='markers+lines',\n",
    "    marker=dict(color='blue'),\n",
    "))\n",
    "# Agregar anotaciones para mostrar los valores encima de los puntos\n",
    "for a, p in zip(año, promedio):\n",
    "    fig.add_annotation(\n",
    "        x=a,\n",
    "        y=p,\n",
    "        text=f\"${p:,.2f}\",  # Formatear el valor del promedio como moneda\n",
    "        showarrow=False,\n",
    "        font=dict(color='black', size=12),\n",
    "        xshift=0,\n",
    "        yshift=17,\n",
    "        textangle=0\n",
    "    )\n",
    "# Actualizar diseño\n",
    "fig.update_layout(\n",
    "    title='Precio Media Anual',\n",
    "    yaxis=dict(\n",
    "        range=[0, 2000000],  # Establecer el rango del eje y\n",
    "        tickvals=[0, 1000000,5000000, 2000000],  # Definir los valores de las marcas en el eje y\n",
    "        ticktext=['$0.00', '$500,000.00', '$1,000,000.00', '$1,500,000.00', '$2,000,000.00'],  # Definir el texto de las marcas en el eje y\n",
    "        gridcolor='#dddcda',   # Color de las líneas de la cuadrícula\n",
    "        gridwidth=1  # Ancho de las líneas de la cuadrícula\n",
    "    ),\n",
    "    xaxis=dict(\n",
    "        gridcolor='#dddcda', \n",
    "        tickmode='array',\n",
    "        tickvals=año,\n",
    "        ticktext=año\n",
    "    ),\n",
    "    plot_bgcolor='rgba(0,0,0,0)'\n",
    ")\n",
    "# Exportar gráfica como archivo HTML\n",
    "def guardar_grafico_como_html(fig, nombre_archivo, carpeta='graficas'):\n",
    "    # Crear la carpeta si no existe\n",
    "    if not os.path.exists(carpeta):\n",
    "        os.makedirs(carpeta)\n",
    "    \n",
    "    # Gráfica como archivo HTML en la carpeta especificada\n",
    "    pio.write_html(fig, f'{carpeta}/{nombre_archivo}.html')\n",
    "\n",
    "guardar_grafico_como_html(fig, 'g_scatt_preciomediaanual_prom_tulancingo', carpeta='graficas')\n",
    "fig.show()"
   ]
  },
  {
   "cell_type": "code",
   "execution_count": 103,
   "metadata": {},
   "outputs": [
    {
     "data": {
      "application/vnd.plotly.v1+json": {
       "config": {
        "plotlyServerURL": "https://plot.ly"
       },
       "data": [
        {
         "marker": {
          "color": "blue"
         },
         "mode": "markers+lines",
         "type": "scatter",
         "x": [
          2022,
          2023,
          2024,
          2025,
          2026
         ],
         "y": [
          1204362.5,
          1200000,
          2551592.322645268,
          2551592.322645268,
          2551592.322645268
         ]
        }
       ],
       "layout": {
        "annotations": [
         {
          "font": {
           "color": "black",
           "size": 12
          },
          "showarrow": false,
          "text": "$1,204,362.50",
          "textangle": 0,
          "x": 2022,
          "xshift": 0,
          "y": 1204362.5,
          "yshift": 17
         },
         {
          "font": {
           "color": "black",
           "size": 12
          },
          "showarrow": false,
          "text": "$1,200,000.00",
          "textangle": 0,
          "x": 2023,
          "xshift": 0,
          "y": 1200000,
          "yshift": 17
         },
         {
          "font": {
           "color": "black",
           "size": 12
          },
          "showarrow": false,
          "text": "$2,551,592.32",
          "textangle": 0,
          "x": 2024,
          "xshift": 0,
          "y": 2551592.322645268,
          "yshift": 17
         },
         {
          "font": {
           "color": "black",
           "size": 12
          },
          "showarrow": false,
          "text": "$2,551,592.32",
          "textangle": 0,
          "x": 2025,
          "xshift": 0,
          "y": 2551592.322645268,
          "yshift": 17
         },
         {
          "font": {
           "color": "black",
           "size": 12
          },
          "showarrow": false,
          "text": "$2,551,592.32",
          "textangle": 0,
          "x": 2026,
          "xshift": 0,
          "y": 2551592.322645268,
          "yshift": 17
         }
        ],
        "plot_bgcolor": "rgba(0,0,0,0)",
        "template": {
         "data": {
          "bar": [
           {
            "error_x": {
             "color": "#2a3f5f"
            },
            "error_y": {
             "color": "#2a3f5f"
            },
            "marker": {
             "line": {
              "color": "#E5ECF6",
              "width": 0.5
             },
             "pattern": {
              "fillmode": "overlay",
              "size": 10,
              "solidity": 0.2
             }
            },
            "type": "bar"
           }
          ],
          "barpolar": [
           {
            "marker": {
             "line": {
              "color": "#E5ECF6",
              "width": 0.5
             },
             "pattern": {
              "fillmode": "overlay",
              "size": 10,
              "solidity": 0.2
             }
            },
            "type": "barpolar"
           }
          ],
          "carpet": [
           {
            "aaxis": {
             "endlinecolor": "#2a3f5f",
             "gridcolor": "white",
             "linecolor": "white",
             "minorgridcolor": "white",
             "startlinecolor": "#2a3f5f"
            },
            "baxis": {
             "endlinecolor": "#2a3f5f",
             "gridcolor": "white",
             "linecolor": "white",
             "minorgridcolor": "white",
             "startlinecolor": "#2a3f5f"
            },
            "type": "carpet"
           }
          ],
          "choropleth": [
           {
            "colorbar": {
             "outlinewidth": 0,
             "ticks": ""
            },
            "type": "choropleth"
           }
          ],
          "contour": [
           {
            "colorbar": {
             "outlinewidth": 0,
             "ticks": ""
            },
            "colorscale": [
             [
              0,
              "#0d0887"
             ],
             [
              0.1111111111111111,
              "#46039f"
             ],
             [
              0.2222222222222222,
              "#7201a8"
             ],
             [
              0.3333333333333333,
              "#9c179e"
             ],
             [
              0.4444444444444444,
              "#bd3786"
             ],
             [
              0.5555555555555556,
              "#d8576b"
             ],
             [
              0.6666666666666666,
              "#ed7953"
             ],
             [
              0.7777777777777778,
              "#fb9f3a"
             ],
             [
              0.8888888888888888,
              "#fdca26"
             ],
             [
              1,
              "#f0f921"
             ]
            ],
            "type": "contour"
           }
          ],
          "contourcarpet": [
           {
            "colorbar": {
             "outlinewidth": 0,
             "ticks": ""
            },
            "type": "contourcarpet"
           }
          ],
          "heatmap": [
           {
            "colorbar": {
             "outlinewidth": 0,
             "ticks": ""
            },
            "colorscale": [
             [
              0,
              "#0d0887"
             ],
             [
              0.1111111111111111,
              "#46039f"
             ],
             [
              0.2222222222222222,
              "#7201a8"
             ],
             [
              0.3333333333333333,
              "#9c179e"
             ],
             [
              0.4444444444444444,
              "#bd3786"
             ],
             [
              0.5555555555555556,
              "#d8576b"
             ],
             [
              0.6666666666666666,
              "#ed7953"
             ],
             [
              0.7777777777777778,
              "#fb9f3a"
             ],
             [
              0.8888888888888888,
              "#fdca26"
             ],
             [
              1,
              "#f0f921"
             ]
            ],
            "type": "heatmap"
           }
          ],
          "heatmapgl": [
           {
            "colorbar": {
             "outlinewidth": 0,
             "ticks": ""
            },
            "colorscale": [
             [
              0,
              "#0d0887"
             ],
             [
              0.1111111111111111,
              "#46039f"
             ],
             [
              0.2222222222222222,
              "#7201a8"
             ],
             [
              0.3333333333333333,
              "#9c179e"
             ],
             [
              0.4444444444444444,
              "#bd3786"
             ],
             [
              0.5555555555555556,
              "#d8576b"
             ],
             [
              0.6666666666666666,
              "#ed7953"
             ],
             [
              0.7777777777777778,
              "#fb9f3a"
             ],
             [
              0.8888888888888888,
              "#fdca26"
             ],
             [
              1,
              "#f0f921"
             ]
            ],
            "type": "heatmapgl"
           }
          ],
          "histogram": [
           {
            "marker": {
             "pattern": {
              "fillmode": "overlay",
              "size": 10,
              "solidity": 0.2
             }
            },
            "type": "histogram"
           }
          ],
          "histogram2d": [
           {
            "colorbar": {
             "outlinewidth": 0,
             "ticks": ""
            },
            "colorscale": [
             [
              0,
              "#0d0887"
             ],
             [
              0.1111111111111111,
              "#46039f"
             ],
             [
              0.2222222222222222,
              "#7201a8"
             ],
             [
              0.3333333333333333,
              "#9c179e"
             ],
             [
              0.4444444444444444,
              "#bd3786"
             ],
             [
              0.5555555555555556,
              "#d8576b"
             ],
             [
              0.6666666666666666,
              "#ed7953"
             ],
             [
              0.7777777777777778,
              "#fb9f3a"
             ],
             [
              0.8888888888888888,
              "#fdca26"
             ],
             [
              1,
              "#f0f921"
             ]
            ],
            "type": "histogram2d"
           }
          ],
          "histogram2dcontour": [
           {
            "colorbar": {
             "outlinewidth": 0,
             "ticks": ""
            },
            "colorscale": [
             [
              0,
              "#0d0887"
             ],
             [
              0.1111111111111111,
              "#46039f"
             ],
             [
              0.2222222222222222,
              "#7201a8"
             ],
             [
              0.3333333333333333,
              "#9c179e"
             ],
             [
              0.4444444444444444,
              "#bd3786"
             ],
             [
              0.5555555555555556,
              "#d8576b"
             ],
             [
              0.6666666666666666,
              "#ed7953"
             ],
             [
              0.7777777777777778,
              "#fb9f3a"
             ],
             [
              0.8888888888888888,
              "#fdca26"
             ],
             [
              1,
              "#f0f921"
             ]
            ],
            "type": "histogram2dcontour"
           }
          ],
          "mesh3d": [
           {
            "colorbar": {
             "outlinewidth": 0,
             "ticks": ""
            },
            "type": "mesh3d"
           }
          ],
          "parcoords": [
           {
            "line": {
             "colorbar": {
              "outlinewidth": 0,
              "ticks": ""
             }
            },
            "type": "parcoords"
           }
          ],
          "pie": [
           {
            "automargin": true,
            "type": "pie"
           }
          ],
          "scatter": [
           {
            "fillpattern": {
             "fillmode": "overlay",
             "size": 10,
             "solidity": 0.2
            },
            "type": "scatter"
           }
          ],
          "scatter3d": [
           {
            "line": {
             "colorbar": {
              "outlinewidth": 0,
              "ticks": ""
             }
            },
            "marker": {
             "colorbar": {
              "outlinewidth": 0,
              "ticks": ""
             }
            },
            "type": "scatter3d"
           }
          ],
          "scattercarpet": [
           {
            "marker": {
             "colorbar": {
              "outlinewidth": 0,
              "ticks": ""
             }
            },
            "type": "scattercarpet"
           }
          ],
          "scattergeo": [
           {
            "marker": {
             "colorbar": {
              "outlinewidth": 0,
              "ticks": ""
             }
            },
            "type": "scattergeo"
           }
          ],
          "scattergl": [
           {
            "marker": {
             "colorbar": {
              "outlinewidth": 0,
              "ticks": ""
             }
            },
            "type": "scattergl"
           }
          ],
          "scattermapbox": [
           {
            "marker": {
             "colorbar": {
              "outlinewidth": 0,
              "ticks": ""
             }
            },
            "type": "scattermapbox"
           }
          ],
          "scatterpolar": [
           {
            "marker": {
             "colorbar": {
              "outlinewidth": 0,
              "ticks": ""
             }
            },
            "type": "scatterpolar"
           }
          ],
          "scatterpolargl": [
           {
            "marker": {
             "colorbar": {
              "outlinewidth": 0,
              "ticks": ""
             }
            },
            "type": "scatterpolargl"
           }
          ],
          "scatterternary": [
           {
            "marker": {
             "colorbar": {
              "outlinewidth": 0,
              "ticks": ""
             }
            },
            "type": "scatterternary"
           }
          ],
          "surface": [
           {
            "colorbar": {
             "outlinewidth": 0,
             "ticks": ""
            },
            "colorscale": [
             [
              0,
              "#0d0887"
             ],
             [
              0.1111111111111111,
              "#46039f"
             ],
             [
              0.2222222222222222,
              "#7201a8"
             ],
             [
              0.3333333333333333,
              "#9c179e"
             ],
             [
              0.4444444444444444,
              "#bd3786"
             ],
             [
              0.5555555555555556,
              "#d8576b"
             ],
             [
              0.6666666666666666,
              "#ed7953"
             ],
             [
              0.7777777777777778,
              "#fb9f3a"
             ],
             [
              0.8888888888888888,
              "#fdca26"
             ],
             [
              1,
              "#f0f921"
             ]
            ],
            "type": "surface"
           }
          ],
          "table": [
           {
            "cells": {
             "fill": {
              "color": "#EBF0F8"
             },
             "line": {
              "color": "white"
             }
            },
            "header": {
             "fill": {
              "color": "#C8D4E3"
             },
             "line": {
              "color": "white"
             }
            },
            "type": "table"
           }
          ]
         },
         "layout": {
          "annotationdefaults": {
           "arrowcolor": "#2a3f5f",
           "arrowhead": 0,
           "arrowwidth": 1
          },
          "autotypenumbers": "strict",
          "coloraxis": {
           "colorbar": {
            "outlinewidth": 0,
            "ticks": ""
           }
          },
          "colorscale": {
           "diverging": [
            [
             0,
             "#8e0152"
            ],
            [
             0.1,
             "#c51b7d"
            ],
            [
             0.2,
             "#de77ae"
            ],
            [
             0.3,
             "#f1b6da"
            ],
            [
             0.4,
             "#fde0ef"
            ],
            [
             0.5,
             "#f7f7f7"
            ],
            [
             0.6,
             "#e6f5d0"
            ],
            [
             0.7,
             "#b8e186"
            ],
            [
             0.8,
             "#7fbc41"
            ],
            [
             0.9,
             "#4d9221"
            ],
            [
             1,
             "#276419"
            ]
           ],
           "sequential": [
            [
             0,
             "#0d0887"
            ],
            [
             0.1111111111111111,
             "#46039f"
            ],
            [
             0.2222222222222222,
             "#7201a8"
            ],
            [
             0.3333333333333333,
             "#9c179e"
            ],
            [
             0.4444444444444444,
             "#bd3786"
            ],
            [
             0.5555555555555556,
             "#d8576b"
            ],
            [
             0.6666666666666666,
             "#ed7953"
            ],
            [
             0.7777777777777778,
             "#fb9f3a"
            ],
            [
             0.8888888888888888,
             "#fdca26"
            ],
            [
             1,
             "#f0f921"
            ]
           ],
           "sequentialminus": [
            [
             0,
             "#0d0887"
            ],
            [
             0.1111111111111111,
             "#46039f"
            ],
            [
             0.2222222222222222,
             "#7201a8"
            ],
            [
             0.3333333333333333,
             "#9c179e"
            ],
            [
             0.4444444444444444,
             "#bd3786"
            ],
            [
             0.5555555555555556,
             "#d8576b"
            ],
            [
             0.6666666666666666,
             "#ed7953"
            ],
            [
             0.7777777777777778,
             "#fb9f3a"
            ],
            [
             0.8888888888888888,
             "#fdca26"
            ],
            [
             1,
             "#f0f921"
            ]
           ]
          },
          "colorway": [
           "#636efa",
           "#EF553B",
           "#00cc96",
           "#ab63fa",
           "#FFA15A",
           "#19d3f3",
           "#FF6692",
           "#B6E880",
           "#FF97FF",
           "#FECB52"
          ],
          "font": {
           "color": "#2a3f5f"
          },
          "geo": {
           "bgcolor": "white",
           "lakecolor": "white",
           "landcolor": "#E5ECF6",
           "showlakes": true,
           "showland": true,
           "subunitcolor": "white"
          },
          "hoverlabel": {
           "align": "left"
          },
          "hovermode": "closest",
          "mapbox": {
           "style": "light"
          },
          "paper_bgcolor": "white",
          "plot_bgcolor": "#E5ECF6",
          "polar": {
           "angularaxis": {
            "gridcolor": "white",
            "linecolor": "white",
            "ticks": ""
           },
           "bgcolor": "#E5ECF6",
           "radialaxis": {
            "gridcolor": "white",
            "linecolor": "white",
            "ticks": ""
           }
          },
          "scene": {
           "xaxis": {
            "backgroundcolor": "#E5ECF6",
            "gridcolor": "white",
            "gridwidth": 2,
            "linecolor": "white",
            "showbackground": true,
            "ticks": "",
            "zerolinecolor": "white"
           },
           "yaxis": {
            "backgroundcolor": "#E5ECF6",
            "gridcolor": "white",
            "gridwidth": 2,
            "linecolor": "white",
            "showbackground": true,
            "ticks": "",
            "zerolinecolor": "white"
           },
           "zaxis": {
            "backgroundcolor": "#E5ECF6",
            "gridcolor": "white",
            "gridwidth": 2,
            "linecolor": "white",
            "showbackground": true,
            "ticks": "",
            "zerolinecolor": "white"
           }
          },
          "shapedefaults": {
           "line": {
            "color": "#2a3f5f"
           }
          },
          "ternary": {
           "aaxis": {
            "gridcolor": "white",
            "linecolor": "white",
            "ticks": ""
           },
           "baxis": {
            "gridcolor": "white",
            "linecolor": "white",
            "ticks": ""
           },
           "bgcolor": "#E5ECF6",
           "caxis": {
            "gridcolor": "white",
            "linecolor": "white",
            "ticks": ""
           }
          },
          "title": {
           "x": 0.05
          },
          "xaxis": {
           "automargin": true,
           "gridcolor": "white",
           "linecolor": "white",
           "ticks": "",
           "title": {
            "standoff": 15
           },
           "zerolinecolor": "white",
           "zerolinewidth": 2
          },
          "yaxis": {
           "automargin": true,
           "gridcolor": "white",
           "linecolor": "white",
           "ticks": "",
           "title": {
            "standoff": 15
           },
           "zerolinecolor": "white",
           "zerolinewidth": 2
          }
         }
        },
        "title": {
         "text": "Precio Media Anual"
        },
        "xaxis": {
         "gridcolor": "#dddcda",
         "tickmode": "array",
         "ticktext": [
          2022,
          2023,
          2024,
          2025,
          2026
         ],
         "tickvals": [
          2022,
          2023,
          2024,
          2025,
          2026
         ]
        },
        "yaxis": {
         "gridcolor": "#dddcda",
         "gridwidth": 1,
         "range": [
          0,
          2000000
         ],
         "ticktext": [
          "$0.00",
          "$500,000.00",
          "$1,000,000.00",
          "$1,500,000.00",
          "$2,000,000.00"
         ],
         "tickvals": [
          0,
          1000000,
          5000000,
          2000000
         ]
        }
       }
      }
     },
     "metadata": {},
     "output_type": "display_data"
    }
   ],
   "source": [
    "\n",
    "# Datos\n",
    "año = mediana_por_año['año']\n",
    "promedio = mediana_por_año['precio_promedio']\n",
    "\n",
    "fig = go.Figure()\n",
    "fig.add_trace(go.Scatter(\n",
    "    x=año,\n",
    "    y=promedio,\n",
    "    mode='markers+lines',\n",
    "    marker=dict(color='blue'),\n",
    "))\n",
    "# Agregar anotaciones para mostrar los valores encima de los puntos\n",
    "for a, p in zip(año, promedio):\n",
    "    fig.add_annotation(\n",
    "        x=a,\n",
    "        y=p,\n",
    "        text=f\"${p:,.2f}\",  # Formatear el valor del promedio como moneda\n",
    "        showarrow=False,\n",
    "        font=dict(color='black', size=12),\n",
    "        xshift=0,\n",
    "        yshift=17,\n",
    "        textangle=0\n",
    "    )\n",
    "# Actualizar diseño\n",
    "fig.update_layout(\n",
    "    title='Precio Media Anual',\n",
    "    yaxis=dict(\n",
    "        range=[0, 2000000],  # Establecer el rango del eje y\n",
    "        tickvals=[0, 1000000,5000000, 2000000],  # Definir los valores de las marcas en el eje y\n",
    "        ticktext=['$0.00', '$500,000.00', '$1,000,000.00', '$1,500,000.00', '$2,000,000.00'],  # Definir el texto de las marcas en el eje y\n",
    "        gridcolor='#dddcda',   # Color de las líneas de la cuadrícula\n",
    "        gridwidth=1  # Ancho de las líneas de la cuadrícula\n",
    "    ),\n",
    "    xaxis=dict(\n",
    "        gridcolor='#dddcda', \n",
    "        tickmode='array',\n",
    "        tickvals=año,\n",
    "        ticktext=año\n",
    "    ),\n",
    "    plot_bgcolor='rgba(0,0,0,0)'\n",
    ")\n",
    "# Exportar gráfica como archivo HTML\n",
    "def guardar_grafico_como_html(fig, nombre_archivo, carpeta='graficas'):\n",
    "    # Crear la carpeta si no existe\n",
    "    if not os.path.exists(carpeta):\n",
    "        os.makedirs(carpeta)\n",
    "    \n",
    "    # Gráfica como archivo HTML en la carpeta especificada\n",
    "    pio.write_html(fig, f'{carpeta}/{nombre_archivo}.html')\n",
    "\n",
    "guardar_grafico_como_html(fig, 'g_scatt_preciomediaanual_prom_tulancingo', carpeta='graficas')\n",
    "fig.show()"
   ]
  },
  {
   "cell_type": "markdown",
   "metadata": {},
   "source": [
    "modelo"
   ]
  },
  {
   "cell_type": "code",
   "execution_count": 108,
   "metadata": {},
   "outputs": [
    {
     "data": {
      "text/html": [
       "<div>\n",
       "<style scoped>\n",
       "    .dataframe tbody tr th:only-of-type {\n",
       "        vertical-align: middle;\n",
       "    }\n",
       "\n",
       "    .dataframe tbody tr th {\n",
       "        vertical-align: top;\n",
       "    }\n",
       "\n",
       "    .dataframe thead th {\n",
       "        text-align: right;\n",
       "    }\n",
       "</style>\n",
       "<table border=\"1\" class=\"dataframe\">\n",
       "  <thead>\n",
       "    <tr style=\"text-align: right;\">\n",
       "      <th></th>\n",
       "      <th>precio_promedio</th>\n",
       "      <th>mes</th>\n",
       "      <th>año</th>\n",
       "    </tr>\n",
       "  </thead>\n",
       "  <tbody>\n",
       "    <tr>\n",
       "      <th>0</th>\n",
       "      <td>1420000.0</td>\n",
       "      <td>Mayo</td>\n",
       "      <td>2022</td>\n",
       "    </tr>\n",
       "    <tr>\n",
       "      <th>1</th>\n",
       "      <td>1365000.0</td>\n",
       "      <td>Julio</td>\n",
       "      <td>2022</td>\n",
       "    </tr>\n",
       "    <tr>\n",
       "      <th>2</th>\n",
       "      <td>1350000.0</td>\n",
       "      <td>Octubre</td>\n",
       "      <td>2022</td>\n",
       "    </tr>\n",
       "    <tr>\n",
       "      <th>3</th>\n",
       "      <td>1045000.0</td>\n",
       "      <td>Marzo</td>\n",
       "      <td>2023</td>\n",
       "    </tr>\n",
       "    <tr>\n",
       "      <th>4</th>\n",
       "      <td>1200000.0</td>\n",
       "      <td>Mayo</td>\n",
       "      <td>2023</td>\n",
       "    </tr>\n",
       "    <tr>\n",
       "      <th>5</th>\n",
       "      <td>1500000.0</td>\n",
       "      <td>Junio</td>\n",
       "      <td>2023</td>\n",
       "    </tr>\n",
       "    <tr>\n",
       "      <th>6</th>\n",
       "      <td>1149950.0</td>\n",
       "      <td>Julio</td>\n",
       "      <td>2023</td>\n",
       "    </tr>\n",
       "    <tr>\n",
       "      <th>7</th>\n",
       "      <td>1222500.0</td>\n",
       "      <td>Septiembre</td>\n",
       "      <td>2023</td>\n",
       "    </tr>\n",
       "    <tr>\n",
       "      <th>8</th>\n",
       "      <td>1200000.0</td>\n",
       "      <td>Octubre</td>\n",
       "      <td>2023</td>\n",
       "    </tr>\n",
       "  </tbody>\n",
       "</table>\n",
       "</div>"
      ],
      "text/plain": [
       "   precio_promedio         mes   año\n",
       "0        1420000.0        Mayo  2022\n",
       "1        1365000.0       Julio  2022\n",
       "2        1350000.0     Octubre  2022\n",
       "3        1045000.0       Marzo  2023\n",
       "4        1200000.0        Mayo  2023\n",
       "5        1500000.0       Junio  2023\n",
       "6        1149950.0       Julio  2023\n",
       "7        1222500.0  Septiembre  2023\n",
       "8        1200000.0     Octubre  2023"
      ]
     },
     "execution_count": 108,
     "metadata": {},
     "output_type": "execute_result"
    }
   ],
   "source": [
    "tulancingo_months = pd.concat([may_2022, jul_2022, oct_2022, mar_2023, may_2023, jun_2023, jul_2023, sep_2023, oct_2023], ignore_index=True)\n",
    "tulancingo_months"
   ]
  },
  {
   "cell_type": "markdown",
   "metadata": {},
   "source": [
    "interpolación de spline cúbica"
   ]
  },
  {
   "cell_type": "code",
   "execution_count": 110,
   "metadata": {},
   "outputs": [
    {
     "ename": "error",
     "evalue": "(m>k) failed for hidden m: fpcurf0:m=3",
     "output_type": "error",
     "traceback": [
      "\u001b[1;31m---------------------------------------------------------------------------\u001b[0m",
      "\u001b[1;31merror\u001b[0m                                     Traceback (most recent call last)",
      "\u001b[1;32m~\\AppData\\Local\\Temp\\ipykernel_4772\\808397422.py\u001b[0m in \u001b[0;36m<module>\u001b[1;34m\u001b[0m\n\u001b[0;32m     12\u001b[0m \u001b[1;33m\u001b[0m\u001b[0m\n\u001b[0;32m     13\u001b[0m \u001b[1;31m# Calcular los valores faltantes interpolando los valores conocidos\u001b[0m\u001b[1;33m\u001b[0m\u001b[1;33m\u001b[0m\u001b[0m\n\u001b[1;32m---> 14\u001b[1;33m \u001b[0mtulancingo_completo\u001b[0m\u001b[1;33m[\u001b[0m\u001b[1;34m'precio_promedio'\u001b[0m\u001b[1;33m]\u001b[0m \u001b[1;33m=\u001b[0m \u001b[0mtulancingo_completo\u001b[0m\u001b[1;33m.\u001b[0m\u001b[0mgroupby\u001b[0m\u001b[1;33m(\u001b[0m\u001b[1;34m'año'\u001b[0m\u001b[1;33m)\u001b[0m\u001b[1;33m[\u001b[0m\u001b[1;34m'precio_promedio'\u001b[0m\u001b[1;33m]\u001b[0m\u001b[1;33m.\u001b[0m\u001b[0mtransform\u001b[0m\u001b[1;33m(\u001b[0m\u001b[1;32mlambda\u001b[0m \u001b[0mx\u001b[0m\u001b[1;33m:\u001b[0m \u001b[0mx\u001b[0m\u001b[1;33m.\u001b[0m\u001b[0minterpolate\u001b[0m\u001b[1;33m(\u001b[0m\u001b[0mmethod\u001b[0m\u001b[1;33m=\u001b[0m\u001b[1;34m'spline'\u001b[0m\u001b[1;33m,\u001b[0m \u001b[0morder\u001b[0m\u001b[1;33m=\u001b[0m\u001b[1;36m3\u001b[0m\u001b[1;33m)\u001b[0m\u001b[1;33m)\u001b[0m\u001b[1;33m\u001b[0m\u001b[1;33m\u001b[0m\u001b[0m\n\u001b[0m\u001b[0;32m     15\u001b[0m \u001b[1;33m\u001b[0m\u001b[0m\n\u001b[0;32m     16\u001b[0m \u001b[1;31m# Eliminar registros con valores NaN\u001b[0m\u001b[1;33m\u001b[0m\u001b[1;33m\u001b[0m\u001b[0m\n",
      "\u001b[1;32mc:\\Users\\yoe11\\anaconda3\\lib\\site-packages\\pandas\\core\\groupby\\generic.py\u001b[0m in \u001b[0;36mtransform\u001b[1;34m(self, func, engine, engine_kwargs, *args, **kwargs)\u001b[0m\n\u001b[0;32m    426\u001b[0m     \u001b[1;33m@\u001b[0m\u001b[0mAppender\u001b[0m\u001b[1;33m(\u001b[0m\u001b[0m_transform_template\u001b[0m\u001b[1;33m)\u001b[0m\u001b[1;33m\u001b[0m\u001b[1;33m\u001b[0m\u001b[0m\n\u001b[0;32m    427\u001b[0m     \u001b[1;32mdef\u001b[0m \u001b[0mtransform\u001b[0m\u001b[1;33m(\u001b[0m\u001b[0mself\u001b[0m\u001b[1;33m,\u001b[0m \u001b[0mfunc\u001b[0m\u001b[1;33m,\u001b[0m \u001b[1;33m*\u001b[0m\u001b[0margs\u001b[0m\u001b[1;33m,\u001b[0m \u001b[0mengine\u001b[0m\u001b[1;33m=\u001b[0m\u001b[1;32mNone\u001b[0m\u001b[1;33m,\u001b[0m \u001b[0mengine_kwargs\u001b[0m\u001b[1;33m=\u001b[0m\u001b[1;32mNone\u001b[0m\u001b[1;33m,\u001b[0m \u001b[1;33m**\u001b[0m\u001b[0mkwargs\u001b[0m\u001b[1;33m)\u001b[0m\u001b[1;33m:\u001b[0m\u001b[1;33m\u001b[0m\u001b[1;33m\u001b[0m\u001b[0m\n\u001b[1;32m--> 428\u001b[1;33m         return self._transform(\n\u001b[0m\u001b[0;32m    429\u001b[0m             \u001b[0mfunc\u001b[0m\u001b[1;33m,\u001b[0m \u001b[1;33m*\u001b[0m\u001b[0margs\u001b[0m\u001b[1;33m,\u001b[0m \u001b[0mengine\u001b[0m\u001b[1;33m=\u001b[0m\u001b[0mengine\u001b[0m\u001b[1;33m,\u001b[0m \u001b[0mengine_kwargs\u001b[0m\u001b[1;33m=\u001b[0m\u001b[0mengine_kwargs\u001b[0m\u001b[1;33m,\u001b[0m \u001b[1;33m**\u001b[0m\u001b[0mkwargs\u001b[0m\u001b[1;33m\u001b[0m\u001b[1;33m\u001b[0m\u001b[0m\n\u001b[0;32m    430\u001b[0m         )\n",
      "\u001b[1;32mc:\\Users\\yoe11\\anaconda3\\lib\\site-packages\\pandas\\core\\groupby\\groupby.py\u001b[0m in \u001b[0;36m_transform\u001b[1;34m(self, func, engine, engine_kwargs, *args, **kwargs)\u001b[0m\n\u001b[0;32m   1640\u001b[0m \u001b[1;33m\u001b[0m\u001b[0m\n\u001b[0;32m   1641\u001b[0m         \u001b[1;32mif\u001b[0m \u001b[1;32mnot\u001b[0m \u001b[0misinstance\u001b[0m\u001b[1;33m(\u001b[0m\u001b[0mfunc\u001b[0m\u001b[1;33m,\u001b[0m \u001b[0mstr\u001b[0m\u001b[1;33m)\u001b[0m\u001b[1;33m:\u001b[0m\u001b[1;33m\u001b[0m\u001b[1;33m\u001b[0m\u001b[0m\n\u001b[1;32m-> 1642\u001b[1;33m             \u001b[1;32mreturn\u001b[0m \u001b[0mself\u001b[0m\u001b[1;33m.\u001b[0m\u001b[0m_transform_general\u001b[0m\u001b[1;33m(\u001b[0m\u001b[0mfunc\u001b[0m\u001b[1;33m,\u001b[0m \u001b[1;33m*\u001b[0m\u001b[0margs\u001b[0m\u001b[1;33m,\u001b[0m \u001b[1;33m**\u001b[0m\u001b[0mkwargs\u001b[0m\u001b[1;33m)\u001b[0m\u001b[1;33m\u001b[0m\u001b[1;33m\u001b[0m\u001b[0m\n\u001b[0m\u001b[0;32m   1643\u001b[0m \u001b[1;33m\u001b[0m\u001b[0m\n\u001b[0;32m   1644\u001b[0m         \u001b[1;32melif\u001b[0m \u001b[0mfunc\u001b[0m \u001b[1;32mnot\u001b[0m \u001b[1;32min\u001b[0m \u001b[0mbase\u001b[0m\u001b[1;33m.\u001b[0m\u001b[0mtransform_kernel_allowlist\u001b[0m\u001b[1;33m:\u001b[0m\u001b[1;33m\u001b[0m\u001b[1;33m\u001b[0m\u001b[0m\n",
      "\u001b[1;32mc:\\Users\\yoe11\\anaconda3\\lib\\site-packages\\pandas\\core\\groupby\\generic.py\u001b[0m in \u001b[0;36m_transform_general\u001b[1;34m(self, func, *args, **kwargs)\u001b[0m\n\u001b[0;32m    457\u001b[0m             \u001b[1;31m# this setattr is needed for test_transform_lambda_with_datetimetz\u001b[0m\u001b[1;33m\u001b[0m\u001b[1;33m\u001b[0m\u001b[0m\n\u001b[0;32m    458\u001b[0m             \u001b[0mobject\u001b[0m\u001b[1;33m.\u001b[0m\u001b[0m__setattr__\u001b[0m\u001b[1;33m(\u001b[0m\u001b[0mgroup\u001b[0m\u001b[1;33m,\u001b[0m \u001b[1;34m\"name\"\u001b[0m\u001b[1;33m,\u001b[0m \u001b[0mname\u001b[0m\u001b[1;33m)\u001b[0m\u001b[1;33m\u001b[0m\u001b[1;33m\u001b[0m\u001b[0m\n\u001b[1;32m--> 459\u001b[1;33m             \u001b[0mres\u001b[0m \u001b[1;33m=\u001b[0m \u001b[0mfunc\u001b[0m\u001b[1;33m(\u001b[0m\u001b[0mgroup\u001b[0m\u001b[1;33m,\u001b[0m \u001b[1;33m*\u001b[0m\u001b[0margs\u001b[0m\u001b[1;33m,\u001b[0m \u001b[1;33m**\u001b[0m\u001b[0mkwargs\u001b[0m\u001b[1;33m)\u001b[0m\u001b[1;33m\u001b[0m\u001b[1;33m\u001b[0m\u001b[0m\n\u001b[0m\u001b[0;32m    460\u001b[0m \u001b[1;33m\u001b[0m\u001b[0m\n\u001b[0;32m    461\u001b[0m             \u001b[0mresults\u001b[0m\u001b[1;33m.\u001b[0m\u001b[0mappend\u001b[0m\u001b[1;33m(\u001b[0m\u001b[0mklass\u001b[0m\u001b[1;33m(\u001b[0m\u001b[0mres\u001b[0m\u001b[1;33m,\u001b[0m \u001b[0mindex\u001b[0m\u001b[1;33m=\u001b[0m\u001b[0mgroup\u001b[0m\u001b[1;33m.\u001b[0m\u001b[0mindex\u001b[0m\u001b[1;33m)\u001b[0m\u001b[1;33m)\u001b[0m\u001b[1;33m\u001b[0m\u001b[1;33m\u001b[0m\u001b[0m\n",
      "\u001b[1;32m~\\AppData\\Local\\Temp\\ipykernel_4772\\808397422.py\u001b[0m in \u001b[0;36m<lambda>\u001b[1;34m(x)\u001b[0m\n\u001b[0;32m     12\u001b[0m \u001b[1;33m\u001b[0m\u001b[0m\n\u001b[0;32m     13\u001b[0m \u001b[1;31m# Calcular los valores faltantes interpolando los valores conocidos\u001b[0m\u001b[1;33m\u001b[0m\u001b[1;33m\u001b[0m\u001b[0m\n\u001b[1;32m---> 14\u001b[1;33m \u001b[0mtulancingo_completo\u001b[0m\u001b[1;33m[\u001b[0m\u001b[1;34m'precio_promedio'\u001b[0m\u001b[1;33m]\u001b[0m \u001b[1;33m=\u001b[0m \u001b[0mtulancingo_completo\u001b[0m\u001b[1;33m.\u001b[0m\u001b[0mgroupby\u001b[0m\u001b[1;33m(\u001b[0m\u001b[1;34m'año'\u001b[0m\u001b[1;33m)\u001b[0m\u001b[1;33m[\u001b[0m\u001b[1;34m'precio_promedio'\u001b[0m\u001b[1;33m]\u001b[0m\u001b[1;33m.\u001b[0m\u001b[0mtransform\u001b[0m\u001b[1;33m(\u001b[0m\u001b[1;32mlambda\u001b[0m \u001b[0mx\u001b[0m\u001b[1;33m:\u001b[0m \u001b[0mx\u001b[0m\u001b[1;33m.\u001b[0m\u001b[0minterpolate\u001b[0m\u001b[1;33m(\u001b[0m\u001b[0mmethod\u001b[0m\u001b[1;33m=\u001b[0m\u001b[1;34m'spline'\u001b[0m\u001b[1;33m,\u001b[0m \u001b[0morder\u001b[0m\u001b[1;33m=\u001b[0m\u001b[1;36m3\u001b[0m\u001b[1;33m)\u001b[0m\u001b[1;33m)\u001b[0m\u001b[1;33m\u001b[0m\u001b[1;33m\u001b[0m\u001b[0m\n\u001b[0m\u001b[0;32m     15\u001b[0m \u001b[1;33m\u001b[0m\u001b[0m\n\u001b[0;32m     16\u001b[0m \u001b[1;31m# Eliminar registros con valores NaN\u001b[0m\u001b[1;33m\u001b[0m\u001b[1;33m\u001b[0m\u001b[0m\n",
      "\u001b[1;32mc:\\Users\\yoe11\\anaconda3\\lib\\site-packages\\pandas\\util\\_decorators.py\u001b[0m in \u001b[0;36mwrapper\u001b[1;34m(*args, **kwargs)\u001b[0m\n\u001b[0;32m    309\u001b[0m                     \u001b[0mstacklevel\u001b[0m\u001b[1;33m=\u001b[0m\u001b[0mstacklevel\u001b[0m\u001b[1;33m,\u001b[0m\u001b[1;33m\u001b[0m\u001b[1;33m\u001b[0m\u001b[0m\n\u001b[0;32m    310\u001b[0m                 )\n\u001b[1;32m--> 311\u001b[1;33m             \u001b[1;32mreturn\u001b[0m \u001b[0mfunc\u001b[0m\u001b[1;33m(\u001b[0m\u001b[1;33m*\u001b[0m\u001b[0margs\u001b[0m\u001b[1;33m,\u001b[0m \u001b[1;33m**\u001b[0m\u001b[0mkwargs\u001b[0m\u001b[1;33m)\u001b[0m\u001b[1;33m\u001b[0m\u001b[1;33m\u001b[0m\u001b[0m\n\u001b[0m\u001b[0;32m    312\u001b[0m \u001b[1;33m\u001b[0m\u001b[0m\n\u001b[0;32m    313\u001b[0m         \u001b[1;32mreturn\u001b[0m \u001b[0mwrapper\u001b[0m\u001b[1;33m\u001b[0m\u001b[1;33m\u001b[0m\u001b[0m\n",
      "\u001b[1;32mc:\\Users\\yoe11\\anaconda3\\lib\\site-packages\\pandas\\core\\series.py\u001b[0m in \u001b[0;36minterpolate\u001b[1;34m(self, method, axis, limit, inplace, limit_direction, limit_area, downcast, **kwargs)\u001b[0m\n\u001b[0;32m   5543\u001b[0m         \u001b[1;33m**\u001b[0m\u001b[0mkwargs\u001b[0m\u001b[1;33m,\u001b[0m\u001b[1;33m\u001b[0m\u001b[1;33m\u001b[0m\u001b[0m\n\u001b[0;32m   5544\u001b[0m     ) -> Series | None:\n\u001b[1;32m-> 5545\u001b[1;33m         return super().interpolate(\n\u001b[0m\u001b[0;32m   5546\u001b[0m             \u001b[0mmethod\u001b[0m\u001b[1;33m,\u001b[0m\u001b[1;33m\u001b[0m\u001b[1;33m\u001b[0m\u001b[0m\n\u001b[0;32m   5547\u001b[0m             \u001b[0maxis\u001b[0m\u001b[1;33m,\u001b[0m\u001b[1;33m\u001b[0m\u001b[1;33m\u001b[0m\u001b[0m\n",
      "\u001b[1;32mc:\\Users\\yoe11\\anaconda3\\lib\\site-packages\\pandas\\core\\generic.py\u001b[0m in \u001b[0;36minterpolate\u001b[1;34m(self, method, axis, limit, inplace, limit_direction, limit_area, downcast, **kwargs)\u001b[0m\n\u001b[0;32m   7039\u001b[0m                 \u001b[1;34m\"those NaNs before interpolating.\"\u001b[0m\u001b[1;33m\u001b[0m\u001b[1;33m\u001b[0m\u001b[0m\n\u001b[0;32m   7040\u001b[0m             )\n\u001b[1;32m-> 7041\u001b[1;33m         new_data = obj._mgr.interpolate(\n\u001b[0m\u001b[0;32m   7042\u001b[0m             \u001b[0mmethod\u001b[0m\u001b[1;33m=\u001b[0m\u001b[0mmethod\u001b[0m\u001b[1;33m,\u001b[0m\u001b[1;33m\u001b[0m\u001b[1;33m\u001b[0m\u001b[0m\n\u001b[0;32m   7043\u001b[0m             \u001b[0maxis\u001b[0m\u001b[1;33m=\u001b[0m\u001b[0maxis\u001b[0m\u001b[1;33m,\u001b[0m\u001b[1;33m\u001b[0m\u001b[1;33m\u001b[0m\u001b[0m\n",
      "\u001b[1;32mc:\\Users\\yoe11\\anaconda3\\lib\\site-packages\\pandas\\core\\internals\\managers.py\u001b[0m in \u001b[0;36minterpolate\u001b[1;34m(self, **kwargs)\u001b[0m\n\u001b[0;32m    357\u001b[0m \u001b[1;33m\u001b[0m\u001b[0m\n\u001b[0;32m    358\u001b[0m     \u001b[1;32mdef\u001b[0m \u001b[0minterpolate\u001b[0m\u001b[1;33m(\u001b[0m\u001b[0mself\u001b[0m\u001b[1;33m:\u001b[0m \u001b[0mT\u001b[0m\u001b[1;33m,\u001b[0m \u001b[1;33m**\u001b[0m\u001b[0mkwargs\u001b[0m\u001b[1;33m)\u001b[0m \u001b[1;33m->\u001b[0m \u001b[0mT\u001b[0m\u001b[1;33m:\u001b[0m\u001b[1;33m\u001b[0m\u001b[1;33m\u001b[0m\u001b[0m\n\u001b[1;32m--> 359\u001b[1;33m         \u001b[1;32mreturn\u001b[0m \u001b[0mself\u001b[0m\u001b[1;33m.\u001b[0m\u001b[0mapply\u001b[0m\u001b[1;33m(\u001b[0m\u001b[1;34m\"interpolate\"\u001b[0m\u001b[1;33m,\u001b[0m \u001b[1;33m**\u001b[0m\u001b[0mkwargs\u001b[0m\u001b[1;33m)\u001b[0m\u001b[1;33m\u001b[0m\u001b[1;33m\u001b[0m\u001b[0m\n\u001b[0m\u001b[0;32m    360\u001b[0m \u001b[1;33m\u001b[0m\u001b[0m\n\u001b[0;32m    361\u001b[0m     \u001b[1;32mdef\u001b[0m \u001b[0mshift\u001b[0m\u001b[1;33m(\u001b[0m\u001b[0mself\u001b[0m\u001b[1;33m:\u001b[0m \u001b[0mT\u001b[0m\u001b[1;33m,\u001b[0m \u001b[0mperiods\u001b[0m\u001b[1;33m:\u001b[0m \u001b[0mint\u001b[0m\u001b[1;33m,\u001b[0m \u001b[0maxis\u001b[0m\u001b[1;33m:\u001b[0m \u001b[0mint\u001b[0m\u001b[1;33m,\u001b[0m \u001b[0mfill_value\u001b[0m\u001b[1;33m)\u001b[0m \u001b[1;33m->\u001b[0m \u001b[0mT\u001b[0m\u001b[1;33m:\u001b[0m\u001b[1;33m\u001b[0m\u001b[1;33m\u001b[0m\u001b[0m\n",
      "\u001b[1;32mc:\\Users\\yoe11\\anaconda3\\lib\\site-packages\\pandas\\core\\internals\\managers.py\u001b[0m in \u001b[0;36mapply\u001b[1;34m(self, f, align_keys, ignore_failures, **kwargs)\u001b[0m\n\u001b[0;32m    302\u001b[0m                     \u001b[0mapplied\u001b[0m \u001b[1;33m=\u001b[0m \u001b[0mb\u001b[0m\u001b[1;33m.\u001b[0m\u001b[0mapply\u001b[0m\u001b[1;33m(\u001b[0m\u001b[0mf\u001b[0m\u001b[1;33m,\u001b[0m \u001b[1;33m**\u001b[0m\u001b[0mkwargs\u001b[0m\u001b[1;33m)\u001b[0m\u001b[1;33m\u001b[0m\u001b[1;33m\u001b[0m\u001b[0m\n\u001b[0;32m    303\u001b[0m                 \u001b[1;32melse\u001b[0m\u001b[1;33m:\u001b[0m\u001b[1;33m\u001b[0m\u001b[1;33m\u001b[0m\u001b[0m\n\u001b[1;32m--> 304\u001b[1;33m                     \u001b[0mapplied\u001b[0m \u001b[1;33m=\u001b[0m \u001b[0mgetattr\u001b[0m\u001b[1;33m(\u001b[0m\u001b[0mb\u001b[0m\u001b[1;33m,\u001b[0m \u001b[0mf\u001b[0m\u001b[1;33m)\u001b[0m\u001b[1;33m(\u001b[0m\u001b[1;33m**\u001b[0m\u001b[0mkwargs\u001b[0m\u001b[1;33m)\u001b[0m\u001b[1;33m\u001b[0m\u001b[1;33m\u001b[0m\u001b[0m\n\u001b[0m\u001b[0;32m    305\u001b[0m             \u001b[1;32mexcept\u001b[0m \u001b[1;33m(\u001b[0m\u001b[0mTypeError\u001b[0m\u001b[1;33m,\u001b[0m \u001b[0mNotImplementedError\u001b[0m\u001b[1;33m)\u001b[0m\u001b[1;33m:\u001b[0m\u001b[1;33m\u001b[0m\u001b[1;33m\u001b[0m\u001b[0m\n\u001b[0;32m    306\u001b[0m                 \u001b[1;32mif\u001b[0m \u001b[1;32mnot\u001b[0m \u001b[0mignore_failures\u001b[0m\u001b[1;33m:\u001b[0m\u001b[1;33m\u001b[0m\u001b[1;33m\u001b[0m\u001b[0m\n",
      "\u001b[1;32mc:\\Users\\yoe11\\anaconda3\\lib\\site-packages\\pandas\\core\\internals\\blocks.py\u001b[0m in \u001b[0;36minterpolate\u001b[1;34m(self, method, axis, index, inplace, limit, limit_direction, limit_area, fill_value, coerce, downcast, **kwargs)\u001b[0m\n\u001b[0;32m   1099\u001b[0m         \u001b[0mdata\u001b[0m \u001b[1;33m=\u001b[0m \u001b[0mcast\u001b[0m\u001b[1;33m(\u001b[0m\u001b[0mnp\u001b[0m\u001b[1;33m.\u001b[0m\u001b[0mndarray\u001b[0m\u001b[1;33m,\u001b[0m \u001b[0mdata\u001b[0m\u001b[1;33m)\u001b[0m  \u001b[1;31m# bc overridden by ExtensionBlock\u001b[0m\u001b[1;33m\u001b[0m\u001b[1;33m\u001b[0m\u001b[0m\n\u001b[0;32m   1100\u001b[0m \u001b[1;33m\u001b[0m\u001b[0m\n\u001b[1;32m-> 1101\u001b[1;33m         missing.interpolate_array_2d(\n\u001b[0m\u001b[0;32m   1102\u001b[0m             \u001b[0mdata\u001b[0m\u001b[1;33m,\u001b[0m\u001b[1;33m\u001b[0m\u001b[1;33m\u001b[0m\u001b[0m\n\u001b[0;32m   1103\u001b[0m             \u001b[0mmethod\u001b[0m\u001b[1;33m=\u001b[0m\u001b[0mmethod\u001b[0m\u001b[1;33m,\u001b[0m\u001b[1;33m\u001b[0m\u001b[1;33m\u001b[0m\u001b[0m\n",
      "\u001b[1;32mc:\\Users\\yoe11\\anaconda3\\lib\\site-packages\\pandas\\core\\missing.py\u001b[0m in \u001b[0;36minterpolate_array_2d\u001b[1;34m(data, method, axis, index, limit, limit_direction, limit_area, fill_value, coerce, downcast, **kwargs)\u001b[0m\n\u001b[0;32m    247\u001b[0m         \u001b[1;32massert\u001b[0m \u001b[0mindex\u001b[0m \u001b[1;32mis\u001b[0m \u001b[1;32mnot\u001b[0m \u001b[1;32mNone\u001b[0m  \u001b[1;31m# for mypy\u001b[0m\u001b[1;33m\u001b[0m\u001b[1;33m\u001b[0m\u001b[0m\n\u001b[0;32m    248\u001b[0m \u001b[1;33m\u001b[0m\u001b[0m\n\u001b[1;32m--> 249\u001b[1;33m         _interpolate_2d_with_fill(\n\u001b[0m\u001b[0;32m    250\u001b[0m             \u001b[0mdata\u001b[0m\u001b[1;33m=\u001b[0m\u001b[0mdata\u001b[0m\u001b[1;33m,\u001b[0m\u001b[1;33m\u001b[0m\u001b[1;33m\u001b[0m\u001b[0m\n\u001b[0;32m    251\u001b[0m             \u001b[0mindex\u001b[0m\u001b[1;33m=\u001b[0m\u001b[0mindex\u001b[0m\u001b[1;33m,\u001b[0m\u001b[1;33m\u001b[0m\u001b[1;33m\u001b[0m\u001b[0m\n",
      "\u001b[1;32mc:\\Users\\yoe11\\anaconda3\\lib\\site-packages\\pandas\\core\\missing.py\u001b[0m in \u001b[0;36m_interpolate_2d_with_fill\u001b[1;34m(data, index, axis, method, limit, limit_direction, limit_area, fill_value, **kwargs)\u001b[0m\n\u001b[0;32m    342\u001b[0m     \u001b[1;31m# Sequence[Sequence[Sequence[Sequence[_SupportsArray[dtype[<nothing>]]]]]]]]\"\u001b[0m\u001b[1;33m\u001b[0m\u001b[1;33m\u001b[0m\u001b[0m\n\u001b[0;32m    343\u001b[0m     \u001b[1;31m# interp each column independently\u001b[0m\u001b[1;33m\u001b[0m\u001b[1;33m\u001b[0m\u001b[0m\n\u001b[1;32m--> 344\u001b[1;33m     \u001b[0mnp\u001b[0m\u001b[1;33m.\u001b[0m\u001b[0mapply_along_axis\u001b[0m\u001b[1;33m(\u001b[0m\u001b[0mfunc\u001b[0m\u001b[1;33m,\u001b[0m \u001b[0maxis\u001b[0m\u001b[1;33m,\u001b[0m \u001b[0mdata\u001b[0m\u001b[1;33m)\u001b[0m  \u001b[1;31m# type: ignore[arg-type]\u001b[0m\u001b[1;33m\u001b[0m\u001b[1;33m\u001b[0m\u001b[0m\n\u001b[0m\u001b[0;32m    345\u001b[0m     \u001b[1;32mreturn\u001b[0m\u001b[1;33m\u001b[0m\u001b[1;33m\u001b[0m\u001b[0m\n\u001b[0;32m    346\u001b[0m \u001b[1;33m\u001b[0m\u001b[0m\n",
      "\u001b[1;32mc:\\Users\\yoe11\\anaconda3\\lib\\site-packages\\numpy\\core\\overrides.py\u001b[0m in \u001b[0;36mapply_along_axis\u001b[1;34m(*args, **kwargs)\u001b[0m\n",
      "\u001b[1;32mc:\\Users\\yoe11\\anaconda3\\lib\\site-packages\\numpy\\lib\\shape_base.py\u001b[0m in \u001b[0;36mapply_along_axis\u001b[1;34m(func1d, axis, arr, *args, **kwargs)\u001b[0m\n\u001b[0;32m    377\u001b[0m             \u001b[1;34m'Cannot apply_along_axis when any iteration dimensions are 0'\u001b[0m\u001b[1;33m\u001b[0m\u001b[1;33m\u001b[0m\u001b[0m\n\u001b[0;32m    378\u001b[0m         ) from None\n\u001b[1;32m--> 379\u001b[1;33m     \u001b[0mres\u001b[0m \u001b[1;33m=\u001b[0m \u001b[0masanyarray\u001b[0m\u001b[1;33m(\u001b[0m\u001b[0mfunc1d\u001b[0m\u001b[1;33m(\u001b[0m\u001b[0minarr_view\u001b[0m\u001b[1;33m[\u001b[0m\u001b[0mind0\u001b[0m\u001b[1;33m]\u001b[0m\u001b[1;33m,\u001b[0m \u001b[1;33m*\u001b[0m\u001b[0margs\u001b[0m\u001b[1;33m,\u001b[0m \u001b[1;33m**\u001b[0m\u001b[0mkwargs\u001b[0m\u001b[1;33m)\u001b[0m\u001b[1;33m)\u001b[0m\u001b[1;33m\u001b[0m\u001b[1;33m\u001b[0m\u001b[0m\n\u001b[0m\u001b[0;32m    380\u001b[0m \u001b[1;33m\u001b[0m\u001b[0m\n\u001b[0;32m    381\u001b[0m     \u001b[1;31m# build a buffer for storing evaluations of func1d.\u001b[0m\u001b[1;33m\u001b[0m\u001b[1;33m\u001b[0m\u001b[0m\n",
      "\u001b[1;32mc:\\Users\\yoe11\\anaconda3\\lib\\site-packages\\pandas\\core\\missing.py\u001b[0m in \u001b[0;36mfunc\u001b[1;34m(yvalues)\u001b[0m\n\u001b[0;32m    322\u001b[0m         \u001b[1;31m# process 1-d slices in the axis direction\u001b[0m\u001b[1;33m\u001b[0m\u001b[1;33m\u001b[0m\u001b[0m\n\u001b[0;32m    323\u001b[0m \u001b[1;33m\u001b[0m\u001b[0m\n\u001b[1;32m--> 324\u001b[1;33m         _interpolate_1d(\n\u001b[0m\u001b[0;32m    325\u001b[0m             \u001b[0mindices\u001b[0m\u001b[1;33m=\u001b[0m\u001b[0mindices\u001b[0m\u001b[1;33m,\u001b[0m\u001b[1;33m\u001b[0m\u001b[1;33m\u001b[0m\u001b[0m\n\u001b[0;32m    326\u001b[0m             \u001b[0myvalues\u001b[0m\u001b[1;33m=\u001b[0m\u001b[0myvalues\u001b[0m\u001b[1;33m,\u001b[0m\u001b[1;33m\u001b[0m\u001b[1;33m\u001b[0m\u001b[0m\n",
      "\u001b[1;32mc:\\Users\\yoe11\\anaconda3\\lib\\site-packages\\pandas\\core\\missing.py\u001b[0m in \u001b[0;36m_interpolate_1d\u001b[1;34m(indices, yvalues, method, limit, limit_direction, limit_area, fill_value, bounds_error, order, **kwargs)\u001b[0m\n\u001b[0;32m    453\u001b[0m         )\n\u001b[0;32m    454\u001b[0m     \u001b[1;32melse\u001b[0m\u001b[1;33m:\u001b[0m\u001b[1;33m\u001b[0m\u001b[1;33m\u001b[0m\u001b[0m\n\u001b[1;32m--> 455\u001b[1;33m         yvalues[invalid] = _interpolate_scipy_wrapper(\n\u001b[0m\u001b[0;32m    456\u001b[0m             \u001b[0mindices\u001b[0m\u001b[1;33m[\u001b[0m\u001b[0mvalid\u001b[0m\u001b[1;33m]\u001b[0m\u001b[1;33m,\u001b[0m\u001b[1;33m\u001b[0m\u001b[1;33m\u001b[0m\u001b[0m\n\u001b[0;32m    457\u001b[0m             \u001b[0myvalues\u001b[0m\u001b[1;33m[\u001b[0m\u001b[0mvalid\u001b[0m\u001b[1;33m]\u001b[0m\u001b[1;33m,\u001b[0m\u001b[1;33m\u001b[0m\u001b[1;33m\u001b[0m\u001b[0m\n",
      "\u001b[1;32mc:\\Users\\yoe11\\anaconda3\\lib\\site-packages\\pandas\\core\\missing.py\u001b[0m in \u001b[0;36m_interpolate_scipy_wrapper\u001b[1;34m(x, y, new_x, method, fill_value, bounds_error, order, **kwargs)\u001b[0m\n\u001b[0;32m    522\u001b[0m                 \u001b[1;34mf\"order needs to be specified and greater than 0; got order: {order}\"\u001b[0m\u001b[1;33m\u001b[0m\u001b[1;33m\u001b[0m\u001b[0m\n\u001b[0;32m    523\u001b[0m             )\n\u001b[1;32m--> 524\u001b[1;33m         \u001b[0mterp\u001b[0m \u001b[1;33m=\u001b[0m \u001b[0minterpolate\u001b[0m\u001b[1;33m.\u001b[0m\u001b[0mUnivariateSpline\u001b[0m\u001b[1;33m(\u001b[0m\u001b[0mx\u001b[0m\u001b[1;33m,\u001b[0m \u001b[0my\u001b[0m\u001b[1;33m,\u001b[0m \u001b[0mk\u001b[0m\u001b[1;33m=\u001b[0m\u001b[0morder\u001b[0m\u001b[1;33m,\u001b[0m \u001b[1;33m**\u001b[0m\u001b[0mkwargs\u001b[0m\u001b[1;33m)\u001b[0m\u001b[1;33m\u001b[0m\u001b[1;33m\u001b[0m\u001b[0m\n\u001b[0m\u001b[0;32m    525\u001b[0m         \u001b[0mnew_y\u001b[0m \u001b[1;33m=\u001b[0m \u001b[0mterp\u001b[0m\u001b[1;33m(\u001b[0m\u001b[0mnew_x\u001b[0m\u001b[1;33m)\u001b[0m\u001b[1;33m\u001b[0m\u001b[1;33m\u001b[0m\u001b[0m\n\u001b[0;32m    526\u001b[0m     \u001b[1;32melse\u001b[0m\u001b[1;33m:\u001b[0m\u001b[1;33m\u001b[0m\u001b[1;33m\u001b[0m\u001b[0m\n",
      "\u001b[1;32mc:\\Users\\yoe11\\anaconda3\\lib\\site-packages\\scipy\\interpolate\\_fitpack2.py\u001b[0m in \u001b[0;36m__init__\u001b[1;34m(self, x, y, w, bbox, k, s, ext, check_finite)\u001b[0m\n\u001b[0;32m    201\u001b[0m \u001b[1;33m\u001b[0m\u001b[0m\n\u001b[0;32m    202\u001b[0m         \u001b[1;31m# _data == x,y,w,xb,xe,k,s,n,t,c,fp,fpint,nrdata,ier\u001b[0m\u001b[1;33m\u001b[0m\u001b[1;33m\u001b[0m\u001b[0m\n\u001b[1;32m--> 203\u001b[1;33m         data = dfitpack.fpcurf0(x, y, k, w=w, xb=bbox[0],\n\u001b[0m\u001b[0;32m    204\u001b[0m                                 xe=bbox[1], s=s)\n\u001b[0;32m    205\u001b[0m         \u001b[1;32mif\u001b[0m \u001b[0mdata\u001b[0m\u001b[1;33m[\u001b[0m\u001b[1;33m-\u001b[0m\u001b[1;36m1\u001b[0m\u001b[1;33m]\u001b[0m \u001b[1;33m==\u001b[0m \u001b[1;36m1\u001b[0m\u001b[1;33m:\u001b[0m\u001b[1;33m\u001b[0m\u001b[1;33m\u001b[0m\u001b[0m\n",
      "\u001b[1;31merror\u001b[0m: (m>k) failed for hidden m: fpcurf0:m=3"
     ]
    }
   ],
   "source": [
    "# Crear un DataFrame con todas las combinaciones de meses y años posibles\n",
    "meses = ['Enero', 'Febrero', 'Marzo', 'Abril', 'Mayo', 'Junio', 'Julio', 'Agosto', 'Septiembre', 'Octubre', 'Noviembre', 'Diciembre']\n",
    "años = [2022, 2023]  # Años presentes \n",
    "combinaciones = [(mes, año) for mes in meses for año in años]\n",
    "df_combinaciones = pd.DataFrame(combinaciones, columns=['mes', 'año'])\n",
    "\n",
    "# Fusionar tulancingo_months para llenar los valores faltantes\n",
    "tulancingo_completo = pd.merge(df_combinaciones, tulancingo_months, on=['mes', 'año'], how='left')\n",
    "\n",
    "# Ordenar por año y mes\n",
    "tulancingo_completo = tulancingo_completo.sort_values(by=['año', 'mes']).reset_index(drop=True)\n",
    "\n",
    "# Calcular los valores faltantes interpolando los valores conocidos\n",
    "tulancingo_completo['precio_promedio'] = tulancingo_completo.groupby('año')['precio_promedio'].transform(lambda x: x.interpolate(method='spline', order=3))\n",
    "\n",
    "# Eliminar registros con valores NaN\n",
    "tulancingo_completo = tulancingo_completo.dropna().reset_index(drop=True)\n",
    "tulancingo_completo"
   ]
  },
  {
   "cell_type": "markdown",
   "metadata": {},
   "source": [
    "lineal"
   ]
  },
  {
   "cell_type": "code",
   "execution_count": 113,
   "metadata": {},
   "outputs": [
    {
     "name": "stdout",
     "output_type": "stream",
     "text": [
      "           mes   año  precio_promedio\n",
      "0        Julio  2022     1.365000e+06\n",
      "1        Junio  2022     1.383333e+06\n",
      "2        Marzo  2022     1.401667e+06\n",
      "3         Mayo  2022     1.420000e+06\n",
      "4    Noviembre  2022     1.385000e+06\n",
      "5      Octubre  2022     1.350000e+06\n",
      "6   Septiembre  2022     1.350000e+06\n",
      "7        Julio  2023     1.149950e+06\n",
      "8        Junio  2023     1.500000e+06\n",
      "9        Marzo  2023     1.045000e+06\n",
      "10        Mayo  2023     1.200000e+06\n",
      "11   Noviembre  2023     1.200000e+06\n",
      "12     Octubre  2023     1.200000e+06\n",
      "13  Septiembre  2023     1.222500e+06\n"
     ]
    }
   ],
   "source": [
    "import pandas as pd\n",
    "\n",
    "# Crear un DataFrame con todas las combinaciones de meses y años posibles\n",
    "meses = ['Enero', 'Febrero', 'Marzo', 'Abril', 'Mayo', 'Junio', 'Julio', 'Agosto', 'Septiembre', 'Octubre', 'Noviembre', 'Diciembre']\n",
    "años = [2022, 2023]  # Años presentes \n",
    "combinaciones = [(mes, año) for año in años for mes in meses]\n",
    "\n",
    "# Creamos un DataFrame con todas las combinaciones posibles de meses y años\n",
    "df_combinaciones = pd.DataFrame(combinaciones, columns=['mes', 'año'])\n",
    "\n",
    "# Fusionar con los datos reales\n",
    "tulancingo_completo = pd.merge(df_combinaciones, tulancingo_months, on=['mes', 'año'], how='left')\n",
    "\n",
    "# Ordenar por año y mes\n",
    "tulancingo_completo = tulancingo_completo.sort_values(by=['año', 'mes']).reset_index(drop=True)\n",
    "\n",
    "# Calcular los valores faltantes interpolando los valores conocidos\n",
    "tulancingo_completo['precio_promedio'] = tulancingo_completo.groupby('año')['precio_promedio'].transform(lambda x: x.interpolate())\n",
    "\n",
    "# Eliminar registros con valores NaN\n",
    "tulancingo_completo = tulancingo_completo.dropna().reset_index(drop=True)\n",
    "\n",
    "# Imprimir el DataFrame completo\n",
    "print(tulancingo_completo)\n"
   ]
  },
  {
   "cell_type": "code",
   "execution_count": 112,
   "metadata": {},
   "outputs": [
    {
     "name": "stdout",
     "output_type": "stream",
     "text": [
      "           mes   año  precio_promedio\n",
      "0        Abril  2022              NaN\n",
      "1       Agosto  2022              NaN\n",
      "2    Diciembre  2022              NaN\n",
      "3        Enero  2022              NaN\n",
      "4      Febrero  2022              NaN\n",
      "5        Julio  2022        1365000.0\n",
      "6        Junio  2022              NaN\n",
      "7        Marzo  2022              NaN\n",
      "8         Mayo  2022        1420000.0\n",
      "9    Noviembre  2022              NaN\n",
      "10     Octubre  2022        1350000.0\n",
      "11  Septiembre  2022              NaN\n",
      "12       Abril  2023              NaN\n",
      "13      Agosto  2023              NaN\n",
      "14   Diciembre  2023              NaN\n",
      "15       Enero  2023              NaN\n",
      "16     Febrero  2023              NaN\n",
      "17       Julio  2023        1149950.0\n",
      "18       Junio  2023        1500000.0\n",
      "19       Marzo  2023        1045000.0\n",
      "20        Mayo  2023        1200000.0\n",
      "21   Noviembre  2023              NaN\n",
      "22     Octubre  2023        1200000.0\n",
      "23  Septiembre  2023        1222500.0\n"
     ]
    }
   ],
   "source": [
    "import pandas as pd\n",
    "\n",
    "# Crear un DataFrame con todas las combinaciones de meses y años posibles\n",
    "meses = ['Enero', 'Febrero', 'Marzo', 'Abril', 'Mayo', 'Junio', 'Julio', 'Agosto', 'Septiembre', 'Octubre', 'Noviembre', 'Diciembre']\n",
    "años = [2022, 2023]  # Años presentes \n",
    "combinaciones = [(mes, año) for año in años for mes in meses]\n",
    "\n",
    "# Creamos un DataFrame con todas las combinaciones posibles de meses y años\n",
    "df_combinaciones = pd.DataFrame(combinaciones, columns=['mes', 'año'])\n",
    "\n",
    "# Fusionar con los datos reales\n",
    "tulancingo_completo = pd.merge(df_combinaciones, tulancingo_months, on=['mes', 'año'], how='left')\n",
    "\n",
    "# Ordenar por año y mes\n",
    "tulancingo_completo = tulancingo_completo.sort_values(by=['año', 'mes']).reset_index(drop=True)\n",
    "\n",
    "# Imprimir el DataFrame completo\n",
    "print(tulancingo_completo)\n"
   ]
  },
  {
   "cell_type": "code",
   "execution_count": 111,
   "metadata": {},
   "outputs": [
    {
     "name": "stdout",
     "output_type": "stream",
     "text": [
      "           mes   año  precio_promedio\n",
      "0        Julio  2022     1.365000e+06\n",
      "1        Junio  2022     1.383333e+06\n",
      "2        Marzo  2022     1.401667e+06\n",
      "3         Mayo  2022     1.420000e+06\n",
      "4    Noviembre  2022     1.385000e+06\n",
      "5      Octubre  2022     1.350000e+06\n",
      "6   Septiembre  2022     1.350000e+06\n",
      "7        Julio  2023     1.149950e+06\n",
      "8        Junio  2023     1.500000e+06\n",
      "9        Marzo  2023     1.045000e+06\n",
      "10        Mayo  2023     1.200000e+06\n",
      "11   Noviembre  2023     1.200000e+06\n",
      "12     Octubre  2023     1.200000e+06\n",
      "13  Septiembre  2023     1.222500e+06\n"
     ]
    }
   ],
   "source": [
    "# Importar pandas\n",
    "import pandas as pd\n",
    "\n",
    "# Crear un DataFrame con todas las combinaciones de meses y años posibles\n",
    "meses = ['Enero', 'Febrero', 'Marzo', 'Abril', 'Mayo', 'Junio', 'Julio', 'Agosto', 'Septiembre', 'Octubre', 'Noviembre', 'Diciembre']\n",
    "años = [2022, 2023]  # Años presentes \n",
    "combinaciones = [(mes, año) for mes in meses for año in años]\n",
    "df_combinaciones = pd.DataFrame(combinaciones, columns=['mes', 'año'])\n",
    "\n",
    "# Fusionar tulancingo_months para llenar los valores faltantes\n",
    "tulancingo_completo = pd.merge(df_combinaciones, tulancingo_months, on=['mes', 'año'], how='left')\n",
    "\n",
    "# Ordenar por año y mes\n",
    "tulancingo_completo = tulancingo_completo.sort_values(by=['año', 'mes']).reset_index(drop=True)\n",
    "\n",
    "# Calcular los valores faltantes interpolando los valores conocidos\n",
    "tulancingo_completo['precio_promedio'] = tulancingo_completo.groupby('año')['precio_promedio'].transform(lambda x: x.interpolate(method='linear'))\n",
    "\n",
    "# Eliminar registros con valores NaN\n",
    "tulancingo_completo = tulancingo_completo.dropna().reset_index(drop=True)\n",
    "\n",
    "# Imprimir el DataFrame completo\n",
    "print(tulancingo_completo)\n"
   ]
  },
  {
   "cell_type": "code",
   "execution_count": 109,
   "metadata": {},
   "outputs": [
    {
     "data": {
      "text/html": [
       "<div>\n",
       "<style scoped>\n",
       "    .dataframe tbody tr th:only-of-type {\n",
       "        vertical-align: middle;\n",
       "    }\n",
       "\n",
       "    .dataframe tbody tr th {\n",
       "        vertical-align: top;\n",
       "    }\n",
       "\n",
       "    .dataframe thead th {\n",
       "        text-align: right;\n",
       "    }\n",
       "</style>\n",
       "<table border=\"1\" class=\"dataframe\">\n",
       "  <thead>\n",
       "    <tr style=\"text-align: right;\">\n",
       "      <th></th>\n",
       "      <th>mes</th>\n",
       "      <th>año</th>\n",
       "      <th>precio_promedio</th>\n",
       "    </tr>\n",
       "  </thead>\n",
       "  <tbody>\n",
       "    <tr>\n",
       "      <th>0</th>\n",
       "      <td>Agosto</td>\n",
       "      <td>2022</td>\n",
       "      <td>1.351000e+06</td>\n",
       "    </tr>\n",
       "    <tr>\n",
       "      <th>1</th>\n",
       "      <td>Julio</td>\n",
       "      <td>2022</td>\n",
       "      <td>1.365000e+06</td>\n",
       "    </tr>\n",
       "    <tr>\n",
       "      <th>2</th>\n",
       "      <td>Junio</td>\n",
       "      <td>2022</td>\n",
       "      <td>1.388000e+06</td>\n",
       "    </tr>\n",
       "    <tr>\n",
       "      <th>3</th>\n",
       "      <td>Mayo</td>\n",
       "      <td>2022</td>\n",
       "      <td>1.420000e+06</td>\n",
       "    </tr>\n",
       "    <tr>\n",
       "      <th>4</th>\n",
       "      <td>Octubre</td>\n",
       "      <td>2022</td>\n",
       "      <td>1.350000e+06</td>\n",
       "    </tr>\n",
       "    <tr>\n",
       "      <th>5</th>\n",
       "      <td>Septiembre</td>\n",
       "      <td>2022</td>\n",
       "      <td>1.346000e+06</td>\n",
       "    </tr>\n",
       "    <tr>\n",
       "      <th>6</th>\n",
       "      <td>Abril</td>\n",
       "      <td>2023</td>\n",
       "      <td>9.966094e+05</td>\n",
       "    </tr>\n",
       "    <tr>\n",
       "      <th>7</th>\n",
       "      <td>Agosto</td>\n",
       "      <td>2023</td>\n",
       "      <td>1.100905e+06</td>\n",
       "    </tr>\n",
       "    <tr>\n",
       "      <th>8</th>\n",
       "      <td>Julio</td>\n",
       "      <td>2023</td>\n",
       "      <td>1.149950e+06</td>\n",
       "    </tr>\n",
       "    <tr>\n",
       "      <th>9</th>\n",
       "      <td>Junio</td>\n",
       "      <td>2023</td>\n",
       "      <td>1.500000e+06</td>\n",
       "    </tr>\n",
       "    <tr>\n",
       "      <th>10</th>\n",
       "      <td>Marzo</td>\n",
       "      <td>2023</td>\n",
       "      <td>1.045000e+06</td>\n",
       "    </tr>\n",
       "    <tr>\n",
       "      <th>11</th>\n",
       "      <td>Mayo</td>\n",
       "      <td>2023</td>\n",
       "      <td>1.200000e+06</td>\n",
       "    </tr>\n",
       "    <tr>\n",
       "      <th>12</th>\n",
       "      <td>Octubre</td>\n",
       "      <td>2023</td>\n",
       "      <td>1.200000e+06</td>\n",
       "    </tr>\n",
       "    <tr>\n",
       "      <th>13</th>\n",
       "      <td>Septiembre</td>\n",
       "      <td>2023</td>\n",
       "      <td>1.222500e+06</td>\n",
       "    </tr>\n",
       "  </tbody>\n",
       "</table>\n",
       "</div>"
      ],
      "text/plain": [
       "           mes   año  precio_promedio\n",
       "0       Agosto  2022     1.351000e+06\n",
       "1        Julio  2022     1.365000e+06\n",
       "2        Junio  2022     1.388000e+06\n",
       "3         Mayo  2022     1.420000e+06\n",
       "4      Octubre  2022     1.350000e+06\n",
       "5   Septiembre  2022     1.346000e+06\n",
       "6        Abril  2023     9.966094e+05\n",
       "7       Agosto  2023     1.100905e+06\n",
       "8        Julio  2023     1.149950e+06\n",
       "9        Junio  2023     1.500000e+06\n",
       "10       Marzo  2023     1.045000e+06\n",
       "11        Mayo  2023     1.200000e+06\n",
       "12     Octubre  2023     1.200000e+06\n",
       "13  Septiembre  2023     1.222500e+06"
      ]
     },
     "execution_count": 109,
     "metadata": {},
     "output_type": "execute_result"
    }
   ],
   "source": [
    "# Crear un DataFrame con todas las combinaciones de meses y años posibles\n",
    "meses = ['Enero', 'Febrero', 'Marzo', 'Abril', 'Mayo', 'Junio', 'Julio', 'Agosto', 'Septiembre', 'Octubre', 'Noviembre', 'Diciembre']\n",
    "años = [2022, 2023]  # Años presentes \n",
    "combinaciones = [(mes, año) for mes in meses for año in años]\n",
    "\n",
    "# Creamos un DataFrame con todas las combinaciones posibles de meses y años\n",
    "df_combinaciones = pd.DataFrame(combinaciones, columns=['mes', 'año'])\n",
    "\n",
    "# Inicializamos un DataFrame vacío para almacenar los datos interpolados\n",
    "tulancingo_completo = pd.DataFrame()\n",
    "\n",
    "# Iteramos sobre cada año para completar los datos\n",
    "for año in años:\n",
    "    # Filtrar los datos correspondientes a este año\n",
    "    datos_año = tulancingo_months[tulancingo_months['año'] == año]\n",
    "    # Fusionar con todas las combinaciones de meses y años para asegurarnos de tener todas las combinaciones\n",
    "    datos_completos_año = pd.merge(df_combinaciones[df_combinaciones['año'] == año], datos_año, on=['mes', 'año'], how='left')\n",
    "    # Calcular los valores faltantes interpolando los valores conocidos para este año\n",
    "    datos_completos_año['precio_promedio'] = datos_completos_año['precio_promedio'].interpolate(method='quadratic')\n",
    "    # Agregar al DataFrame completo\n",
    "    tulancingo_completo = pd.concat([tulancingo_completo, datos_completos_año])\n",
    "\n",
    "# Eliminar registros con valores NaN\n",
    "tulancingo_completo = tulancingo_completo.dropna().reset_index(drop=True)\n",
    "\n",
    "# Ordenar por año y mes\n",
    "tulancingo_completo = tulancingo_completo.sort_values(by=['año', 'mes']).reset_index(drop=True)\n",
    "tulancingo_completo"
   ]
  },
  {
   "cell_type": "code",
   "execution_count": null,
   "metadata": {},
   "outputs": [],
   "source": []
  },
  {
   "cell_type": "code",
   "execution_count": null,
   "metadata": {},
   "outputs": [],
   "source": []
  },
  {
   "cell_type": "code",
   "execution_count": null,
   "metadata": {},
   "outputs": [],
   "source": [
    "import numpy as np\n",
    "import tensorflow as tf\n",
    "from tensorflow.keras.models import Sequential\n",
    "from tensorflow.keras.layers import Dense, LSTM\n",
    "\n",
    "# Datos de entrenamiento\n",
    "# Supongamos que tienes tus datos en forma de array numpy 'X_train' de dimensiones (número de muestras, 12) \n",
    "# donde cada fila representa los precios promedio de los 12 meses para un año.\n",
    "# Y 'y_train' es un array numpy con las etiquetas correspondientes para predecir el siguiente año.\n",
    "\n",
    "# Preparar datos para LSTM (requieren una estructura 3D)\n",
    "X_train_lstm = X_train.reshape(X_train.shape[0], X_train.shape[1], 1)\n",
    "\n",
    "# Definir modelo LSTM\n",
    "model = Sequential([\n",
    "    LSTM(64, input_shape=(12, 1)),  # 12 meses como entrada\n",
    "    Dense(1)  # Una neurona de salida para la predicción del precio promedio siguiente\n",
    "])\n",
    "\n",
    "# Compilar modelo\n",
    "model.compile(optimizer='adam', loss='mean_squared_error')\n",
    "\n",
    "# Entrenar modelo\n",
    "model.fit(X_train_lstm, y_train, epochs=100, batch_size=32)\n",
    "\n",
    "# Generar datos de prueba para los años 2024, 2025, 2026\n",
    "# Supongamos que tienes tus datos de prueba en forma de array numpy 'X_test' de dimensiones (número de muestras, 12)\n",
    "# donde cada fila representa los precios promedio de los 12 meses para un año.\n",
    "\n",
    "# Preparar datos de prueba para LSTM (requieren una estructura 3D)\n",
    "X_test_lstm = X_test.reshape(X_test.shape[0], X_test.shape[1], 1)\n",
    "\n",
    "# Predecir precios para los años 2024, 2025, 2026\n",
    "predicted_prices = model.predict(X_test_lstm)\n",
    "\n",
    "# Aquí tendrías las predicciones para los años 2024, 2025, 2026 en 'predicted_prices'\n"
   ]
  },
  {
   "cell_type": "code",
   "execution_count": 114,
   "metadata": {},
   "outputs": [],
   "source": [
    "import numpy as np\n",
    "import tensorflow as tf\n",
    "from tensorflow.keras.models import Sequential\n",
    "from tensorflow.keras.layers import Dense, LSTM\n",
    "\n",
    "# Suponiendo que tienes el DataFrame completo con los datos interpolados llamado 'tulancingo_completo'\n",
    "\n",
    "# Convertir los meses a números\n",
    "meses_numeros = {'Enero': 1, 'Febrero': 2, 'Marzo': 3, 'Abril': 4, 'Mayo': 5, 'Junio': 6, 'Julio': 7, 'Agosto': 8, 'Septiembre': 9, 'Octubre': 10, 'Noviembre': 11, 'Diciembre': 12}\n",
    "tulancingo_completo['mes_numero'] = tulancingo_completo['mes'].map(meses_numeros)\n",
    "\n",
    "# Preparar los datos para la LSTM\n",
    "X = tulancingo_completo[['año', 'mes_numero']].values\n",
    "y = tulancingo_completo['precio_promedio'].values"
   ]
  },
  {
   "cell_type": "code",
   "execution_count": 115,
   "metadata": {},
   "outputs": [],
   "source": [
    "\n",
    "# Reestructurar los datos para la entrada de la LSTM\n",
    "X_lstm = X.reshape((X.shape[0], 1, X.shape[1]))\n",
    "\n",
    "# Definir el modelo LSTM\n",
    "model = Sequential([\n",
    "    LSTM(64, input_shape=(X_lstm.shape[1], X_lstm.shape[2])),\n",
    "    Dense(1)\n",
    "])\n"
   ]
  },
  {
   "cell_type": "code",
   "execution_count": 117,
   "metadata": {},
   "outputs": [
    {
     "name": "stdout",
     "output_type": "stream",
     "text": [
      "Epoch 1/100\n",
      "1/1 [==============================] - 6s 6s/step - loss: 1700003053568.0000\n",
      "Epoch 2/100\n",
      "1/1 [==============================] - 0s 10ms/step - loss: 1700002660352.0000\n",
      "Epoch 3/100\n",
      "1/1 [==============================] - 0s 2ms/step - loss: 1700002660352.0000\n",
      "Epoch 4/100\n",
      "1/1 [==============================] - 0s 14ms/step - loss: 1700002660352.0000\n",
      "Epoch 5/100\n",
      "1/1 [==============================] - 0s 10ms/step - loss: 1700002660352.0000\n",
      "Epoch 6/100\n",
      "1/1 [==============================] - 0s 2ms/step - loss: 1700002660352.0000\n",
      "Epoch 7/100\n",
      "1/1 [==============================] - 0s 17ms/step - loss: 1700002398208.0000\n",
      "Epoch 8/100\n",
      "1/1 [==============================] - 0s 15ms/step - loss: 1700002398208.0000\n",
      "Epoch 9/100\n",
      "1/1 [==============================] - 0s 0s/step - loss: 1700002398208.0000\n",
      "Epoch 10/100\n",
      "1/1 [==============================] - 0s 2ms/step - loss: 1700002398208.0000\n",
      "Epoch 11/100\n",
      "1/1 [==============================] - 0s 6ms/step - loss: 1700002398208.0000\n",
      "Epoch 12/100\n",
      "1/1 [==============================] - 0s 16ms/step - loss: 1700002398208.0000\n",
      "Epoch 13/100\n",
      "1/1 [==============================] - 0s 14ms/step - loss: 1700002398208.0000\n",
      "Epoch 14/100\n",
      "1/1 [==============================] - 0s 10ms/step - loss: 1700002398208.0000\n",
      "Epoch 15/100\n",
      "1/1 [==============================] - 0s 3ms/step - loss: 1700002004992.0000\n",
      "Epoch 16/100\n",
      "1/1 [==============================] - 0s 10ms/step - loss: 1700002004992.0000\n",
      "Epoch 17/100\n",
      "1/1 [==============================] - 0s 0s/step - loss: 1700002004992.0000\n",
      "Epoch 18/100\n",
      "1/1 [==============================] - 0s 4ms/step - loss: 1700002004992.0000\n",
      "Epoch 19/100\n",
      "1/1 [==============================] - 0s 13ms/step - loss: 1700002004992.0000\n",
      "Epoch 20/100\n",
      "1/1 [==============================] - 0s 12ms/step - loss: 1700002004992.0000\n",
      "Epoch 21/100\n",
      "1/1 [==============================] - 0s 0s/step - loss: 1700001742848.0000\n",
      "Epoch 22/100\n",
      "1/1 [==============================] - 0s 6ms/step - loss: 1700001742848.0000\n",
      "Epoch 23/100\n",
      "1/1 [==============================] - 0s 14ms/step - loss: 1700001742848.0000\n",
      "Epoch 24/100\n",
      "1/1 [==============================] - 0s 0s/step - loss: 1700001480704.0000\n",
      "Epoch 25/100\n",
      "1/1 [==============================] - 0s 2ms/step - loss: 1700001087488.0000\n",
      "Epoch 26/100\n",
      "1/1 [==============================] - 0s 16ms/step - loss: 1700001087488.0000\n",
      "Epoch 27/100\n",
      "1/1 [==============================] - 0s 9ms/step - loss: 1700000694272.0000\n",
      "Epoch 28/100\n",
      "1/1 [==============================] - 0s 10ms/step - loss: 1700000694272.0000\n",
      "Epoch 29/100\n",
      "1/1 [==============================] - 0s 9ms/step - loss: 1700000825344.0000\n",
      "Epoch 30/100\n",
      "1/1 [==============================] - 0s 17ms/step - loss: 1700000694272.0000\n",
      "Epoch 31/100\n",
      "1/1 [==============================] - 0s 0s/step - loss: 1700000563200.0000\n",
      "Epoch 32/100\n",
      "1/1 [==============================] - 0s 4ms/step - loss: 1700000694272.0000\n",
      "Epoch 33/100\n",
      "1/1 [==============================] - 0s 15ms/step - loss: 1700000563200.0000\n",
      "Epoch 34/100\n",
      "1/1 [==============================] - 0s 10ms/step - loss: 1700000432128.0000\n",
      "Epoch 35/100\n",
      "1/1 [==============================] - 0s 16ms/step - loss: 1700000432128.0000\n",
      "Epoch 36/100\n",
      "1/1 [==============================] - 0s 16ms/step - loss: 1700000432128.0000\n",
      "Epoch 37/100\n",
      "1/1 [==============================] - 0s 16ms/step - loss: 1700000432128.0000\n",
      "Epoch 38/100\n",
      "1/1 [==============================] - 0s 16ms/step - loss: 1700000432128.0000\n",
      "Epoch 39/100\n",
      "1/1 [==============================] - 0s 12ms/step - loss: 1700000563200.0000\n",
      "Epoch 40/100\n",
      "1/1 [==============================] - 0s 18ms/step - loss: 1700000038912.0000\n",
      "Epoch 41/100\n",
      "1/1 [==============================] - 0s 10ms/step - loss: 1700000301056.0000\n",
      "Epoch 42/100\n",
      "1/1 [==============================] - 0s 10ms/step - loss: 1700000038912.0000\n",
      "Epoch 43/100\n",
      "1/1 [==============================] - 0s 5ms/step - loss: 1700000301056.0000\n",
      "Epoch 44/100\n",
      "1/1 [==============================] - 0s 15ms/step - loss: 1700000301056.0000\n",
      "Epoch 45/100\n",
      "1/1 [==============================] - 0s 8ms/step - loss: 1699999907840.0000\n",
      "Epoch 46/100\n",
      "1/1 [==============================] - 0s 13ms/step - loss: 1700000301056.0000\n",
      "Epoch 47/100\n",
      "1/1 [==============================] - 0s 13ms/step - loss: 1699999776768.0000\n",
      "Epoch 48/100\n",
      "1/1 [==============================] - 0s 10ms/step - loss: 1699999776768.0000\n",
      "Epoch 49/100\n",
      "1/1 [==============================] - 0s 12ms/step - loss: 1699999776768.0000\n",
      "Epoch 50/100\n",
      "1/1 [==============================] - 0s 11ms/step - loss: 1699999645696.0000\n",
      "Epoch 51/100\n",
      "1/1 [==============================] - 0s 16ms/step - loss: 1699999645696.0000\n",
      "Epoch 52/100\n",
      "1/1 [==============================] - 0s 14ms/step - loss: 1699999776768.0000\n",
      "Epoch 53/100\n",
      "1/1 [==============================] - 0s 7ms/step - loss: 1699999514624.0000\n",
      "Epoch 54/100\n",
      "1/1 [==============================] - 0s 14ms/step - loss: 1699999383552.0000\n",
      "Epoch 55/100\n",
      "1/1 [==============================] - 0s 22ms/step - loss: 1699999514624.0000\n",
      "Epoch 56/100\n",
      "1/1 [==============================] - 0s 128ms/step - loss: 1699999514624.0000\n",
      "Epoch 57/100\n",
      "1/1 [==============================] - 0s 82ms/step - loss: 1699999514624.0000\n",
      "Epoch 58/100\n",
      "1/1 [==============================] - 0s 0s/step - loss: 1699999514624.0000\n",
      "Epoch 59/100\n",
      "1/1 [==============================] - 0s 0s/step - loss: 1699999383552.0000\n",
      "Epoch 60/100\n",
      "1/1 [==============================] - 0s 7ms/step - loss: 1699998990336.0000\n",
      "Epoch 61/100\n",
      "1/1 [==============================] - 0s 17ms/step - loss: 1699998990336.0000\n",
      "Epoch 62/100\n",
      "1/1 [==============================] - 0s 13ms/step - loss: 1699998990336.0000\n",
      "Epoch 63/100\n",
      "1/1 [==============================] - 0s 10ms/step - loss: 1699999252480.0000\n",
      "Epoch 64/100\n",
      "1/1 [==============================] - 0s 7ms/step - loss: 1699999252480.0000\n",
      "Epoch 65/100\n",
      "1/1 [==============================] - 0s 5ms/step - loss: 1699998990336.0000\n",
      "Epoch 66/100\n",
      "1/1 [==============================] - 0s 4ms/step - loss: 1699998990336.0000\n",
      "Epoch 67/100\n",
      "1/1 [==============================] - 0s 8ms/step - loss: 1699998728192.0000\n",
      "Epoch 68/100\n",
      "1/1 [==============================] - 0s 15ms/step - loss: 1699998728192.0000\n",
      "Epoch 69/100\n",
      "1/1 [==============================] - 0s 0s/step - loss: 1699998728192.0000\n",
      "Epoch 70/100\n",
      "1/1 [==============================] - 0s 16ms/step - loss: 1699998728192.0000\n",
      "Epoch 71/100\n",
      "1/1 [==============================] - 0s 0s/step - loss: 1699998728192.0000\n",
      "Epoch 72/100\n",
      "1/1 [==============================] - 0s 16ms/step - loss: 1699998728192.0000\n",
      "Epoch 73/100\n",
      "1/1 [==============================] - 0s 0s/step - loss: 1699998728192.0000\n",
      "Epoch 74/100\n",
      "1/1 [==============================] - 0s 0s/step - loss: 1699998466048.0000\n",
      "Epoch 75/100\n",
      "1/1 [==============================] - 0s 0s/step - loss: 1699998466048.0000\n",
      "Epoch 76/100\n",
      "1/1 [==============================] - 0s 13ms/step - loss: 1699998466048.0000\n",
      "Epoch 77/100\n",
      "1/1 [==============================] - 0s 14ms/step - loss: 1699998466048.0000\n",
      "Epoch 78/100\n",
      "1/1 [==============================] - 0s 16ms/step - loss: 1699998466048.0000\n",
      "Epoch 79/100\n",
      "1/1 [==============================] - 0s 8ms/step - loss: 1699998466048.0000\n",
      "Epoch 80/100\n",
      "1/1 [==============================] - 0s 9ms/step - loss: 1699998466048.0000\n",
      "Epoch 81/100\n",
      "1/1 [==============================] - 0s 8ms/step - loss: 1699998203904.0000\n",
      "Epoch 82/100\n",
      "1/1 [==============================] - 0s 6ms/step - loss: 1699998203904.0000\n",
      "Epoch 83/100\n",
      "1/1 [==============================] - 0s 10ms/step - loss: 1699998203904.0000\n",
      "Epoch 84/100\n",
      "1/1 [==============================] - 0s 11ms/step - loss: 1699998203904.0000\n",
      "Epoch 85/100\n",
      "1/1 [==============================] - 0s 0s/step - loss: 1699998203904.0000\n",
      "Epoch 86/100\n",
      "1/1 [==============================] - 0s 16ms/step - loss: 1699998203904.0000\n",
      "Epoch 87/100\n",
      "1/1 [==============================] - 0s 24ms/step - loss: 1699998203904.0000\n",
      "Epoch 88/100\n",
      "1/1 [==============================] - 0s 8ms/step - loss: 1699997810688.0000\n",
      "Epoch 89/100\n",
      "1/1 [==============================] - 0s 15ms/step - loss: 1699997810688.0000\n",
      "Epoch 90/100\n",
      "1/1 [==============================] - 0s 120ms/step - loss: 1699997810688.0000\n",
      "Epoch 91/100\n",
      "1/1 [==============================] - 0s 19ms/step - loss: 1699997810688.0000\n",
      "Epoch 92/100\n",
      "1/1 [==============================] - 0s 14ms/step - loss: 1699997810688.0000\n",
      "Epoch 93/100\n",
      "1/1 [==============================] - 0s 33ms/step - loss: 1699997810688.0000\n",
      "Epoch 94/100\n",
      "1/1 [==============================] - 0s 7ms/step - loss: 1699997810688.0000\n",
      "Epoch 95/100\n",
      "1/1 [==============================] - 0s 6ms/step - loss: 1699997548544.0000\n",
      "Epoch 96/100\n",
      "1/1 [==============================] - 0s 16ms/step - loss: 1699997548544.0000\n",
      "Epoch 97/100\n",
      "1/1 [==============================] - 0s 11ms/step - loss: 1699997548544.0000\n",
      "Epoch 98/100\n",
      "1/1 [==============================] - 0s 16ms/step - loss: 1699997548544.0000\n",
      "Epoch 99/100\n",
      "1/1 [==============================] - 0s 0s/step - loss: 1699997417472.0000\n",
      "Epoch 100/100\n",
      "1/1 [==============================] - 0s 16ms/step - loss: 1699997548544.0000\n"
     ]
    },
    {
     "data": {
      "text/plain": [
       "<keras.callbacks.History at 0x1d766b65d30>"
      ]
     },
     "execution_count": 117,
     "metadata": {},
     "output_type": "execute_result"
    }
   ],
   "source": [
    "# Compilar el modelo\n",
    "model.compile(optimizer='adam', loss='mean_squared_error')\n",
    "# Entrenar el modelo\n",
    "model.fit(X_lstm, y, epochs=100, batch_size=32)"
   ]
  },
  {
   "cell_type": "code",
   "execution_count": 120,
   "metadata": {},
   "outputs": [
    {
     "name": "stdout",
     "output_type": "stream",
     "text": [
      "2/2 [==============================] - 0s 13ms/step\n",
      "     año         mes  precio_promedio_predicho\n",
      "0   2024       Enero                 -0.555135\n",
      "1   2024     Febrero                 -0.556814\n",
      "2   2024       Marzo                 -0.558360\n",
      "3   2024       Abril                 -0.559777\n",
      "4   2024        Mayo                 -0.561067\n",
      "5   2024       Junio                 -0.562234\n",
      "6   2024       Julio                 -0.563283\n",
      "7   2024      Agosto                 -0.564219\n",
      "8   2024  Septiembre                 -0.565047\n",
      "9   2024     Octubre                 -0.565773\n",
      "10  2024   Noviembre                 -0.566402\n",
      "11  2024   Diciembre                 -0.566940\n",
      "12  2025       Enero                 -0.555149\n",
      "13  2025     Febrero                 -0.556828\n",
      "14  2025       Marzo                 -0.558374\n",
      "15  2025       Abril                 -0.559790\n",
      "16  2025        Mayo                 -0.561079\n",
      "17  2025       Junio                 -0.562246\n",
      "18  2025       Julio                 -0.563295\n",
      "19  2025      Agosto                 -0.564231\n",
      "20  2025  Septiembre                 -0.565059\n",
      "21  2025     Octubre                 -0.565784\n",
      "22  2025   Noviembre                 -0.566413\n",
      "23  2025   Diciembre                 -0.566951\n",
      "24  2026       Enero                 -0.555164\n",
      "25  2026     Febrero                 -0.556842\n",
      "26  2026       Marzo                 -0.558388\n",
      "27  2026       Abril                 -0.559803\n",
      "28  2026        Mayo                 -0.561092\n",
      "29  2026       Junio                 -0.562259\n",
      "30  2026       Julio                 -0.563307\n",
      "31  2026      Agosto                 -0.564243\n",
      "32  2026  Septiembre                 -0.565070\n",
      "33  2026     Octubre                 -0.565796\n",
      "34  2026   Noviembre                 -0.566424\n",
      "35  2026   Diciembre                 -0.566962\n"
     ]
    }
   ],
   "source": [
    "# Crear una lista para almacenar los resultados de la predicción\n",
    "resultados_prediccion = []\n",
    "\n",
    "# Generar datos de prueba para los años 2024, 2025, 2026\n",
    "años_prueba = [2024, 2025, 2026]\n",
    "meses_prueba = np.arange(1, 13)\n",
    "combinaciones_prueba = [(mes, año) for año in años_prueba for mes in meses_prueba]\n",
    "X_prueba = np.array(combinaciones_prueba)\n",
    "X_prueba_lstm = X_prueba.reshape((X_prueba.shape[0], 1, X_prueba.shape[1]))\n",
    "\n",
    "# Predecir precios para los años 2024, 2025, 2026\n",
    "predicted_prices = model.predict(X_prueba_lstm)\n",
    "\n",
    "# Almacenar las predicciones en una lista\n",
    "for i, precio in enumerate(predicted_prices):\n",
    "    año = años_prueba[i // 12]\n",
    "    mes = meses[i % 12]\n",
    "    # Guardar solo el número sin formato adicional\n",
    "    resultados_prediccion.append({'año': año, 'mes': mes, 'precio_promedio_predicho': precio[0]})  # Acceder al valor con [0]\n",
    "\n",
    "# Crear un DataFrame con los resultados de la predicción\n",
    "predicciones_datos = pd.DataFrame(resultados_prediccion)\n",
    "\n",
    "# Imprimir el DataFrame con las predicciones\n",
    "print(predicciones_datos)\n"
   ]
  },
  {
   "cell_type": "code",
   "execution_count": null,
   "metadata": {},
   "outputs": [],
   "source": [
    "\n",
    "\n",
    "# Escalar los datos (opcional, dependiendo de la magnitud de los precios)\n",
    "# from sklearn.preprocessing import MinMaxScaler\n",
    "# scaler = MinMaxScaler()\n",
    "# X_scaled = scaler.fit_transform(X)\n",
    "# y_scaled = scaler.fit_transform(y.reshape(-1, 1))\n",
    "\n",
    "# Reestructurar los datos para la entrada de la LSTM\n",
    "X_lstm = X.reshape((X.shape[0], 1, X.shape[1]))\n",
    "\n",
    "# Definir el modelo LSTM\n",
    "model = Sequential([\n",
    "    LSTM(64, input_shape=(X_lstm.shape[1], X_lstm.shape[2])),\n",
    "    Dense(1)\n",
    "])\n",
    "\n",
    "# Compilar el modelo\n",
    "model.compile(optimizer='adam', loss='mean_squared_error')\n",
    "\n",
    "# Entrenar el modelo\n",
    "model.fit(X_lstm, y, epochs=100, batch_size=32)\n",
    "\n",
    "# Generar datos de prueba para los años 2024, 2025, 2026\n",
    "años_prueba = [2024, 2025, 2026]\n",
    "meses_prueba = np.arange(1, 13)\n",
    "combinaciones_prueba = [(mes, año) for año in años_prueba for mes in meses_prueba]\n",
    "X_prueba = np.array(combinaciones_prueba)\n",
    "X_prueba_lstm = X_prueba.reshape((X_prueba.shape[0], 1, X_prueba.shape[1]))\n",
    "\n",
    "# Predecir precios para los años 2024, 2025, 2026\n",
    "predicted_prices = model.predict(X_prueba_lstm)\n",
    "\n",
    "# Imprimir las predicciones\n",
    "for i, precio in enumerate(predicted_prices):\n",
    "    año = años_prueba[i // 12]\n",
    "    mes = meses[i % 12]\n",
    "    print(f\"Precio promedio predicho para {mes}-{año}: {precio}\")\n"
   ]
  },
  {
   "cell_type": "code",
   "execution_count": 121,
   "metadata": {},
   "outputs": [
    {
     "data": {
      "text/html": [
       "<div>\n",
       "<style scoped>\n",
       "    .dataframe tbody tr th:only-of-type {\n",
       "        vertical-align: middle;\n",
       "    }\n",
       "\n",
       "    .dataframe tbody tr th {\n",
       "        vertical-align: top;\n",
       "    }\n",
       "\n",
       "    .dataframe thead th {\n",
       "        text-align: right;\n",
       "    }\n",
       "</style>\n",
       "<table border=\"1\" class=\"dataframe\">\n",
       "  <thead>\n",
       "    <tr style=\"text-align: right;\">\n",
       "      <th></th>\n",
       "      <th>año</th>\n",
       "      <th>mes</th>\n",
       "      <th>precio_promedio_predicho</th>\n",
       "    </tr>\n",
       "  </thead>\n",
       "  <tbody>\n",
       "    <tr>\n",
       "      <th>0</th>\n",
       "      <td>2024</td>\n",
       "      <td>Enero</td>\n",
       "      <td>-0.555135</td>\n",
       "    </tr>\n",
       "    <tr>\n",
       "      <th>1</th>\n",
       "      <td>2024</td>\n",
       "      <td>Febrero</td>\n",
       "      <td>-0.556814</td>\n",
       "    </tr>\n",
       "    <tr>\n",
       "      <th>2</th>\n",
       "      <td>2024</td>\n",
       "      <td>Marzo</td>\n",
       "      <td>-0.558360</td>\n",
       "    </tr>\n",
       "    <tr>\n",
       "      <th>3</th>\n",
       "      <td>2024</td>\n",
       "      <td>Abril</td>\n",
       "      <td>-0.559777</td>\n",
       "    </tr>\n",
       "    <tr>\n",
       "      <th>4</th>\n",
       "      <td>2024</td>\n",
       "      <td>Mayo</td>\n",
       "      <td>-0.561067</td>\n",
       "    </tr>\n",
       "    <tr>\n",
       "      <th>5</th>\n",
       "      <td>2024</td>\n",
       "      <td>Junio</td>\n",
       "      <td>-0.562234</td>\n",
       "    </tr>\n",
       "    <tr>\n",
       "      <th>6</th>\n",
       "      <td>2024</td>\n",
       "      <td>Julio</td>\n",
       "      <td>-0.563283</td>\n",
       "    </tr>\n",
       "    <tr>\n",
       "      <th>7</th>\n",
       "      <td>2024</td>\n",
       "      <td>Agosto</td>\n",
       "      <td>-0.564219</td>\n",
       "    </tr>\n",
       "    <tr>\n",
       "      <th>8</th>\n",
       "      <td>2024</td>\n",
       "      <td>Septiembre</td>\n",
       "      <td>-0.565047</td>\n",
       "    </tr>\n",
       "    <tr>\n",
       "      <th>9</th>\n",
       "      <td>2024</td>\n",
       "      <td>Octubre</td>\n",
       "      <td>-0.565773</td>\n",
       "    </tr>\n",
       "    <tr>\n",
       "      <th>10</th>\n",
       "      <td>2024</td>\n",
       "      <td>Noviembre</td>\n",
       "      <td>-0.566402</td>\n",
       "    </tr>\n",
       "    <tr>\n",
       "      <th>11</th>\n",
       "      <td>2024</td>\n",
       "      <td>Diciembre</td>\n",
       "      <td>-0.566940</td>\n",
       "    </tr>\n",
       "    <tr>\n",
       "      <th>12</th>\n",
       "      <td>2025</td>\n",
       "      <td>Enero</td>\n",
       "      <td>-0.555149</td>\n",
       "    </tr>\n",
       "    <tr>\n",
       "      <th>13</th>\n",
       "      <td>2025</td>\n",
       "      <td>Febrero</td>\n",
       "      <td>-0.556828</td>\n",
       "    </tr>\n",
       "    <tr>\n",
       "      <th>14</th>\n",
       "      <td>2025</td>\n",
       "      <td>Marzo</td>\n",
       "      <td>-0.558374</td>\n",
       "    </tr>\n",
       "    <tr>\n",
       "      <th>15</th>\n",
       "      <td>2025</td>\n",
       "      <td>Abril</td>\n",
       "      <td>-0.559790</td>\n",
       "    </tr>\n",
       "    <tr>\n",
       "      <th>16</th>\n",
       "      <td>2025</td>\n",
       "      <td>Mayo</td>\n",
       "      <td>-0.561079</td>\n",
       "    </tr>\n",
       "    <tr>\n",
       "      <th>17</th>\n",
       "      <td>2025</td>\n",
       "      <td>Junio</td>\n",
       "      <td>-0.562246</td>\n",
       "    </tr>\n",
       "    <tr>\n",
       "      <th>18</th>\n",
       "      <td>2025</td>\n",
       "      <td>Julio</td>\n",
       "      <td>-0.563295</td>\n",
       "    </tr>\n",
       "    <tr>\n",
       "      <th>19</th>\n",
       "      <td>2025</td>\n",
       "      <td>Agosto</td>\n",
       "      <td>-0.564231</td>\n",
       "    </tr>\n",
       "    <tr>\n",
       "      <th>20</th>\n",
       "      <td>2025</td>\n",
       "      <td>Septiembre</td>\n",
       "      <td>-0.565059</td>\n",
       "    </tr>\n",
       "    <tr>\n",
       "      <th>21</th>\n",
       "      <td>2025</td>\n",
       "      <td>Octubre</td>\n",
       "      <td>-0.565784</td>\n",
       "    </tr>\n",
       "    <tr>\n",
       "      <th>22</th>\n",
       "      <td>2025</td>\n",
       "      <td>Noviembre</td>\n",
       "      <td>-0.566413</td>\n",
       "    </tr>\n",
       "    <tr>\n",
       "      <th>23</th>\n",
       "      <td>2025</td>\n",
       "      <td>Diciembre</td>\n",
       "      <td>-0.566951</td>\n",
       "    </tr>\n",
       "    <tr>\n",
       "      <th>24</th>\n",
       "      <td>2026</td>\n",
       "      <td>Enero</td>\n",
       "      <td>-0.555164</td>\n",
       "    </tr>\n",
       "    <tr>\n",
       "      <th>25</th>\n",
       "      <td>2026</td>\n",
       "      <td>Febrero</td>\n",
       "      <td>-0.556842</td>\n",
       "    </tr>\n",
       "    <tr>\n",
       "      <th>26</th>\n",
       "      <td>2026</td>\n",
       "      <td>Marzo</td>\n",
       "      <td>-0.558388</td>\n",
       "    </tr>\n",
       "    <tr>\n",
       "      <th>27</th>\n",
       "      <td>2026</td>\n",
       "      <td>Abril</td>\n",
       "      <td>-0.559803</td>\n",
       "    </tr>\n",
       "    <tr>\n",
       "      <th>28</th>\n",
       "      <td>2026</td>\n",
       "      <td>Mayo</td>\n",
       "      <td>-0.561092</td>\n",
       "    </tr>\n",
       "    <tr>\n",
       "      <th>29</th>\n",
       "      <td>2026</td>\n",
       "      <td>Junio</td>\n",
       "      <td>-0.562259</td>\n",
       "    </tr>\n",
       "    <tr>\n",
       "      <th>30</th>\n",
       "      <td>2026</td>\n",
       "      <td>Julio</td>\n",
       "      <td>-0.563307</td>\n",
       "    </tr>\n",
       "    <tr>\n",
       "      <th>31</th>\n",
       "      <td>2026</td>\n",
       "      <td>Agosto</td>\n",
       "      <td>-0.564243</td>\n",
       "    </tr>\n",
       "    <tr>\n",
       "      <th>32</th>\n",
       "      <td>2026</td>\n",
       "      <td>Septiembre</td>\n",
       "      <td>-0.565070</td>\n",
       "    </tr>\n",
       "    <tr>\n",
       "      <th>33</th>\n",
       "      <td>2026</td>\n",
       "      <td>Octubre</td>\n",
       "      <td>-0.565796</td>\n",
       "    </tr>\n",
       "    <tr>\n",
       "      <th>34</th>\n",
       "      <td>2026</td>\n",
       "      <td>Noviembre</td>\n",
       "      <td>-0.566424</td>\n",
       "    </tr>\n",
       "    <tr>\n",
       "      <th>35</th>\n",
       "      <td>2026</td>\n",
       "      <td>Diciembre</td>\n",
       "      <td>-0.566962</td>\n",
       "    </tr>\n",
       "  </tbody>\n",
       "</table>\n",
       "</div>"
      ],
      "text/plain": [
       "     año         mes  precio_promedio_predicho\n",
       "0   2024       Enero                 -0.555135\n",
       "1   2024     Febrero                 -0.556814\n",
       "2   2024       Marzo                 -0.558360\n",
       "3   2024       Abril                 -0.559777\n",
       "4   2024        Mayo                 -0.561067\n",
       "5   2024       Junio                 -0.562234\n",
       "6   2024       Julio                 -0.563283\n",
       "7   2024      Agosto                 -0.564219\n",
       "8   2024  Septiembre                 -0.565047\n",
       "9   2024     Octubre                 -0.565773\n",
       "10  2024   Noviembre                 -0.566402\n",
       "11  2024   Diciembre                 -0.566940\n",
       "12  2025       Enero                 -0.555149\n",
       "13  2025     Febrero                 -0.556828\n",
       "14  2025       Marzo                 -0.558374\n",
       "15  2025       Abril                 -0.559790\n",
       "16  2025        Mayo                 -0.561079\n",
       "17  2025       Junio                 -0.562246\n",
       "18  2025       Julio                 -0.563295\n",
       "19  2025      Agosto                 -0.564231\n",
       "20  2025  Septiembre                 -0.565059\n",
       "21  2025     Octubre                 -0.565784\n",
       "22  2025   Noviembre                 -0.566413\n",
       "23  2025   Diciembre                 -0.566951\n",
       "24  2026       Enero                 -0.555164\n",
       "25  2026     Febrero                 -0.556842\n",
       "26  2026       Marzo                 -0.558388\n",
       "27  2026       Abril                 -0.559803\n",
       "28  2026        Mayo                 -0.561092\n",
       "29  2026       Junio                 -0.562259\n",
       "30  2026       Julio                 -0.563307\n",
       "31  2026      Agosto                 -0.564243\n",
       "32  2026  Septiembre                 -0.565070\n",
       "33  2026     Octubre                 -0.565796\n",
       "34  2026   Noviembre                 -0.566424\n",
       "35  2026   Diciembre                 -0.566962"
      ]
     },
     "execution_count": 121,
     "metadata": {},
     "output_type": "execute_result"
    }
   ],
   "source": [
    "predicciones_datos"
   ]
  },
  {
   "cell_type": "code",
   "execution_count": 125,
   "metadata": {},
   "outputs": [
    {
     "data": {
      "text/html": [
       "<div>\n",
       "<style scoped>\n",
       "    .dataframe tbody tr th:only-of-type {\n",
       "        vertical-align: middle;\n",
       "    }\n",
       "\n",
       "    .dataframe tbody tr th {\n",
       "        vertical-align: top;\n",
       "    }\n",
       "\n",
       "    .dataframe thead th {\n",
       "        text-align: right;\n",
       "    }\n",
       "</style>\n",
       "<table border=\"1\" class=\"dataframe\">\n",
       "  <thead>\n",
       "    <tr style=\"text-align: right;\">\n",
       "      <th></th>\n",
       "      <th>mes</th>\n",
       "      <th>año</th>\n",
       "      <th>precio_promedio</th>\n",
       "    </tr>\n",
       "  </thead>\n",
       "  <tbody>\n",
       "    <tr>\n",
       "      <th>0</th>\n",
       "      <td>Julio</td>\n",
       "      <td>2022</td>\n",
       "      <td>1.365000e+06</td>\n",
       "    </tr>\n",
       "    <tr>\n",
       "      <th>1</th>\n",
       "      <td>Junio</td>\n",
       "      <td>2022</td>\n",
       "      <td>1.383333e+06</td>\n",
       "    </tr>\n",
       "    <tr>\n",
       "      <th>2</th>\n",
       "      <td>Marzo</td>\n",
       "      <td>2022</td>\n",
       "      <td>1.401667e+06</td>\n",
       "    </tr>\n",
       "    <tr>\n",
       "      <th>3</th>\n",
       "      <td>Mayo</td>\n",
       "      <td>2022</td>\n",
       "      <td>1.420000e+06</td>\n",
       "    </tr>\n",
       "    <tr>\n",
       "      <th>4</th>\n",
       "      <td>Noviembre</td>\n",
       "      <td>2022</td>\n",
       "      <td>1.385000e+06</td>\n",
       "    </tr>\n",
       "    <tr>\n",
       "      <th>...</th>\n",
       "      <td>...</td>\n",
       "      <td>...</td>\n",
       "      <td>...</td>\n",
       "    </tr>\n",
       "    <tr>\n",
       "      <th>153</th>\n",
       "      <td>Octubre</td>\n",
       "      <td>2026</td>\n",
       "      <td>-5.657957e-01</td>\n",
       "    </tr>\n",
       "    <tr>\n",
       "      <th>154</th>\n",
       "      <td>Septiembre</td>\n",
       "      <td>2026</td>\n",
       "      <td>-5.650703e-01</td>\n",
       "    </tr>\n",
       "    <tr>\n",
       "      <th>155</th>\n",
       "      <td>Septiembre</td>\n",
       "      <td>2026</td>\n",
       "      <td>-5.650703e-01</td>\n",
       "    </tr>\n",
       "    <tr>\n",
       "      <th>156</th>\n",
       "      <td>Septiembre</td>\n",
       "      <td>2026</td>\n",
       "      <td>-5.650703e-01</td>\n",
       "    </tr>\n",
       "    <tr>\n",
       "      <th>157</th>\n",
       "      <td>Septiembre</td>\n",
       "      <td>2026</td>\n",
       "      <td>-5.650703e-01</td>\n",
       "    </tr>\n",
       "  </tbody>\n",
       "</table>\n",
       "<p>158 rows × 3 columns</p>\n",
       "</div>"
      ],
      "text/plain": [
       "            mes   año  precio_promedio\n",
       "0         Julio  2022     1.365000e+06\n",
       "1         Junio  2022     1.383333e+06\n",
       "2         Marzo  2022     1.401667e+06\n",
       "3          Mayo  2022     1.420000e+06\n",
       "4     Noviembre  2022     1.385000e+06\n",
       "..          ...   ...              ...\n",
       "153     Octubre  2026    -5.657957e-01\n",
       "154  Septiembre  2026    -5.650703e-01\n",
       "155  Septiembre  2026    -5.650703e-01\n",
       "156  Septiembre  2026    -5.650703e-01\n",
       "157  Septiembre  2026    -5.650703e-01\n",
       "\n",
       "[158 rows x 3 columns]"
      ]
     },
     "execution_count": 125,
     "metadata": {},
     "output_type": "execute_result"
    }
   ],
   "source": [
    "# Renombrar la columna 'precio_promedio_predicho' a 'precio_promedio' en predicciones_datos\n",
    "predicciones_datos = predicciones_datos.rename(columns={'precio_promedio_predicho': 'precio_promedio'})\n",
    "\n",
    "# Concatenar predicciones_datos con tulancingo_completo\n",
    "tulancingo_completo = pd.concat([tulancingo_completo, predicciones_datos], ignore_index=True)\n",
    "\n",
    "# Ordenar por año y mes\n",
    "tulancingo_completo = tulancingo_completo.sort_values(by=['año', 'mes']).reset_index(drop=True)\n",
    "tulancingo_completo = tulancingo_completo.drop(columns=['mes_numero'])\n",
    "\n",
    "tulancingo_completo"
   ]
  },
  {
   "cell_type": "code",
   "execution_count": 127,
   "metadata": {},
   "outputs": [
    {
     "data": {
      "text/html": [
       "<div>\n",
       "<style scoped>\n",
       "    .dataframe tbody tr th:only-of-type {\n",
       "        vertical-align: middle;\n",
       "    }\n",
       "\n",
       "    .dataframe tbody tr th {\n",
       "        vertical-align: top;\n",
       "    }\n",
       "\n",
       "    .dataframe thead th {\n",
       "        text-align: right;\n",
       "    }\n",
       "</style>\n",
       "<table border=\"1\" class=\"dataframe\">\n",
       "  <thead>\n",
       "    <tr style=\"text-align: right;\">\n",
       "      <th></th>\n",
       "      <th>año</th>\n",
       "      <th>precio</th>\n",
       "    </tr>\n",
       "  </thead>\n",
       "  <tbody>\n",
       "    <tr>\n",
       "      <th>0</th>\n",
       "      <td>2022</td>\n",
       "      <td>1.383333e+06</td>\n",
       "    </tr>\n",
       "    <tr>\n",
       "      <th>1</th>\n",
       "      <td>2023</td>\n",
       "      <td>1.200000e+06</td>\n",
       "    </tr>\n",
       "    <tr>\n",
       "      <th>2</th>\n",
       "      <td>2024</td>\n",
       "      <td>-5.627583e-01</td>\n",
       "    </tr>\n",
       "    <tr>\n",
       "      <th>3</th>\n",
       "      <td>2025</td>\n",
       "      <td>-5.627707e-01</td>\n",
       "    </tr>\n",
       "    <tr>\n",
       "      <th>4</th>\n",
       "      <td>2026</td>\n",
       "      <td>-5.627830e-01</td>\n",
       "    </tr>\n",
       "  </tbody>\n",
       "</table>\n",
       "</div>"
      ],
      "text/plain": [
       "    año        precio\n",
       "0  2022  1.383333e+06\n",
       "1  2023  1.200000e+06\n",
       "2  2024 -5.627583e-01\n",
       "3  2025 -5.627707e-01\n",
       "4  2026 -5.627830e-01"
      ]
     },
     "execution_count": 127,
     "metadata": {},
     "output_type": "execute_result"
    }
   ],
   "source": [
    "precio_media_anual_tulancingo = tulancingo_completo.groupby('año')['precio_promedio'].median().reset_index()\n",
    "precio_media_anual_tulancingo.rename(columns={'precio_promedio': 'precio'}, inplace=True)\n",
    "precio_media_anual_tulancingo"
   ]
  },
  {
   "cell_type": "code",
   "execution_count": null,
   "metadata": {},
   "outputs": [],
   "source": []
  },
  {
   "cell_type": "code",
   "execution_count": 24,
   "metadata": {},
   "outputs": [
    {
     "data": {
      "text/html": [
       "<div>\n",
       "<style scoped>\n",
       "    .dataframe tbody tr th:only-of-type {\n",
       "        vertical-align: middle;\n",
       "    }\n",
       "\n",
       "    .dataframe tbody tr th {\n",
       "        vertical-align: top;\n",
       "    }\n",
       "\n",
       "    .dataframe thead th {\n",
       "        text-align: right;\n",
       "    }\n",
       "</style>\n",
       "<table border=\"1\" class=\"dataframe\">\n",
       "  <thead>\n",
       "    <tr style=\"text-align: right;\">\n",
       "      <th></th>\n",
       "      <th>mes</th>\n",
       "      <th>año</th>\n",
       "      <th>precio_promedio</th>\n",
       "    </tr>\n",
       "  </thead>\n",
       "  <tbody>\n",
       "    <tr>\n",
       "      <th>6</th>\n",
       "      <td>Abril</td>\n",
       "      <td>2022</td>\n",
       "      <td>1.382549e+06</td>\n",
       "    </tr>\n",
       "    <tr>\n",
       "      <th>14</th>\n",
       "      <td>Agosto</td>\n",
       "      <td>2022</td>\n",
       "      <td>1.027664e+06</td>\n",
       "    </tr>\n",
       "    <tr>\n",
       "      <th>12</th>\n",
       "      <td>Julio</td>\n",
       "      <td>2022</td>\n",
       "      <td>1.365000e+06</td>\n",
       "    </tr>\n",
       "    <tr>\n",
       "      <th>10</th>\n",
       "      <td>Junio</td>\n",
       "      <td>2022</td>\n",
       "      <td>1.328141e+06</td>\n",
       "    </tr>\n",
       "    <tr>\n",
       "      <th>8</th>\n",
       "      <td>Mayo</td>\n",
       "      <td>2022</td>\n",
       "      <td>1.420000e+06</td>\n",
       "    </tr>\n",
       "    <tr>\n",
       "      <th>18</th>\n",
       "      <td>Octubre</td>\n",
       "      <td>2022</td>\n",
       "      <td>1.350000e+06</td>\n",
       "    </tr>\n",
       "    <tr>\n",
       "      <th>16</th>\n",
       "      <td>Septiembre</td>\n",
       "      <td>2022</td>\n",
       "      <td>1.097381e+06</td>\n",
       "    </tr>\n",
       "    <tr>\n",
       "      <th>7</th>\n",
       "      <td>Abril</td>\n",
       "      <td>2023</td>\n",
       "      <td>1.507549e+06</td>\n",
       "    </tr>\n",
       "    <tr>\n",
       "      <th>15</th>\n",
       "      <td>Agosto</td>\n",
       "      <td>2023</td>\n",
       "      <td>1.021288e+06</td>\n",
       "    </tr>\n",
       "    <tr>\n",
       "      <th>13</th>\n",
       "      <td>Julio</td>\n",
       "      <td>2023</td>\n",
       "      <td>1.149950e+06</td>\n",
       "    </tr>\n",
       "    <tr>\n",
       "      <th>11</th>\n",
       "      <td>Junio</td>\n",
       "      <td>2023</td>\n",
       "      <td>1.500000e+06</td>\n",
       "    </tr>\n",
       "    <tr>\n",
       "      <th>5</th>\n",
       "      <td>Marzo</td>\n",
       "      <td>2023</td>\n",
       "      <td>1.045000e+06</td>\n",
       "    </tr>\n",
       "    <tr>\n",
       "      <th>9</th>\n",
       "      <td>Mayo</td>\n",
       "      <td>2023</td>\n",
       "      <td>1.200000e+06</td>\n",
       "    </tr>\n",
       "    <tr>\n",
       "      <th>19</th>\n",
       "      <td>Octubre</td>\n",
       "      <td>2023</td>\n",
       "      <td>1.200000e+06</td>\n",
       "    </tr>\n",
       "    <tr>\n",
       "      <th>17</th>\n",
       "      <td>Septiembre</td>\n",
       "      <td>2023</td>\n",
       "      <td>1.222500e+06</td>\n",
       "    </tr>\n",
       "  </tbody>\n",
       "</table>\n",
       "</div>"
      ],
      "text/plain": [
       "           mes   año  precio_promedio\n",
       "6        Abril  2022     1.382549e+06\n",
       "14      Agosto  2022     1.027664e+06\n",
       "12       Julio  2022     1.365000e+06\n",
       "10       Junio  2022     1.328141e+06\n",
       "8         Mayo  2022     1.420000e+06\n",
       "18     Octubre  2022     1.350000e+06\n",
       "16  Septiembre  2022     1.097381e+06\n",
       "7        Abril  2023     1.507549e+06\n",
       "15      Agosto  2023     1.021288e+06\n",
       "13       Julio  2023     1.149950e+06\n",
       "11       Junio  2023     1.500000e+06\n",
       "5        Marzo  2023     1.045000e+06\n",
       "9         Mayo  2023     1.200000e+06\n",
       "19     Octubre  2023     1.200000e+06\n",
       "17  Septiembre  2023     1.222500e+06"
      ]
     },
     "execution_count": 24,
     "metadata": {},
     "output_type": "execute_result"
    }
   ],
   "source": [
    "tulancingo_completo"
   ]
  },
  {
   "cell_type": "code",
   "execution_count": 20,
   "metadata": {},
   "outputs": [
    {
     "ename": "ValueError",
     "evalue": "Length of values (0) does not match length of index (1)",
     "output_type": "error",
     "traceback": [
      "\u001b[1;31m---------------------------------------------------------------------------\u001b[0m",
      "\u001b[1;31mValueError\u001b[0m                                Traceback (most recent call last)",
      "\u001b[1;32m~\\AppData\\Local\\Temp\\ipykernel_8372\\1861425963.py\u001b[0m in \u001b[0;36m<module>\u001b[1;34m\u001b[0m\n\u001b[0;32m     16\u001b[0m     \u001b[0mprecio_predicho\u001b[0m \u001b[1;33m=\u001b[0m \u001b[0mprecios_ultimo_mes_2023\u001b[0m \u001b[1;33m*\u001b[0m \u001b[1;33m(\u001b[0m\u001b[1;36m1\u001b[0m \u001b[1;33m+\u001b[0m \u001b[0mporcentaje_cambio_acumulado\u001b[0m\u001b[1;33m)\u001b[0m\u001b[1;33m\u001b[0m\u001b[1;33m\u001b[0m\u001b[0m\n\u001b[0;32m     17\u001b[0m     \u001b[1;31m# Crea un DataFrame con el precio predicho para el primer mes del año de predicción\u001b[0m\u001b[1;33m\u001b[0m\u001b[1;33m\u001b[0m\u001b[0m\n\u001b[1;32m---> 18\u001b[1;33m     \u001b[0mdf_prediccion\u001b[0m \u001b[1;33m=\u001b[0m \u001b[0mpd\u001b[0m\u001b[1;33m.\u001b[0m\u001b[0mDataFrame\u001b[0m\u001b[1;33m(\u001b[0m\u001b[1;33m{\u001b[0m\u001b[1;34m'mes'\u001b[0m\u001b[1;33m:\u001b[0m \u001b[1;34m'Enero'\u001b[0m\u001b[1;33m,\u001b[0m \u001b[1;34m'año'\u001b[0m\u001b[1;33m:\u001b[0m \u001b[0maño_prediccion\u001b[0m\u001b[1;33m,\u001b[0m \u001b[1;34m'precio_promedio'\u001b[0m\u001b[1;33m:\u001b[0m \u001b[0mprecio_predicho\u001b[0m\u001b[1;33m}\u001b[0m\u001b[1;33m,\u001b[0m \u001b[0mindex\u001b[0m\u001b[1;33m=\u001b[0m\u001b[1;33m[\u001b[0m\u001b[1;36m0\u001b[0m\u001b[1;33m]\u001b[0m\u001b[1;33m)\u001b[0m\u001b[1;33m\u001b[0m\u001b[1;33m\u001b[0m\u001b[0m\n\u001b[0m\u001b[0;32m     19\u001b[0m     \u001b[1;31m# Concatena el DataFrame de predicción con tulancingo_completo\u001b[0m\u001b[1;33m\u001b[0m\u001b[1;33m\u001b[0m\u001b[0m\n\u001b[0;32m     20\u001b[0m     \u001b[0mtulancingo_completo\u001b[0m \u001b[1;33m=\u001b[0m \u001b[0mpd\u001b[0m\u001b[1;33m.\u001b[0m\u001b[0mconcat\u001b[0m\u001b[1;33m(\u001b[0m\u001b[1;33m[\u001b[0m\u001b[0mtulancingo_completo\u001b[0m\u001b[1;33m,\u001b[0m \u001b[0mdf_prediccion\u001b[0m\u001b[1;33m]\u001b[0m\u001b[1;33m,\u001b[0m \u001b[0mignore_index\u001b[0m\u001b[1;33m=\u001b[0m\u001b[1;32mTrue\u001b[0m\u001b[1;33m)\u001b[0m\u001b[1;33m\u001b[0m\u001b[1;33m\u001b[0m\u001b[0m\n",
      "\u001b[1;32mc:\\Users\\yoe11\\anaconda3\\lib\\site-packages\\pandas\\core\\frame.py\u001b[0m in \u001b[0;36m__init__\u001b[1;34m(self, data, index, columns, dtype, copy)\u001b[0m\n\u001b[0;32m    634\u001b[0m         \u001b[1;32melif\u001b[0m \u001b[0misinstance\u001b[0m\u001b[1;33m(\u001b[0m\u001b[0mdata\u001b[0m\u001b[1;33m,\u001b[0m \u001b[0mdict\u001b[0m\u001b[1;33m)\u001b[0m\u001b[1;33m:\u001b[0m\u001b[1;33m\u001b[0m\u001b[1;33m\u001b[0m\u001b[0m\n\u001b[0;32m    635\u001b[0m             \u001b[1;31m# GH#38939 de facto copy defaults to False only in non-dict cases\u001b[0m\u001b[1;33m\u001b[0m\u001b[1;33m\u001b[0m\u001b[0m\n\u001b[1;32m--> 636\u001b[1;33m             \u001b[0mmgr\u001b[0m \u001b[1;33m=\u001b[0m \u001b[0mdict_to_mgr\u001b[0m\u001b[1;33m(\u001b[0m\u001b[0mdata\u001b[0m\u001b[1;33m,\u001b[0m \u001b[0mindex\u001b[0m\u001b[1;33m,\u001b[0m \u001b[0mcolumns\u001b[0m\u001b[1;33m,\u001b[0m \u001b[0mdtype\u001b[0m\u001b[1;33m=\u001b[0m\u001b[0mdtype\u001b[0m\u001b[1;33m,\u001b[0m \u001b[0mcopy\u001b[0m\u001b[1;33m=\u001b[0m\u001b[0mcopy\u001b[0m\u001b[1;33m,\u001b[0m \u001b[0mtyp\u001b[0m\u001b[1;33m=\u001b[0m\u001b[0mmanager\u001b[0m\u001b[1;33m)\u001b[0m\u001b[1;33m\u001b[0m\u001b[1;33m\u001b[0m\u001b[0m\n\u001b[0m\u001b[0;32m    637\u001b[0m         \u001b[1;32melif\u001b[0m \u001b[0misinstance\u001b[0m\u001b[1;33m(\u001b[0m\u001b[0mdata\u001b[0m\u001b[1;33m,\u001b[0m \u001b[0mma\u001b[0m\u001b[1;33m.\u001b[0m\u001b[0mMaskedArray\u001b[0m\u001b[1;33m)\u001b[0m\u001b[1;33m:\u001b[0m\u001b[1;33m\u001b[0m\u001b[1;33m\u001b[0m\u001b[0m\n\u001b[0;32m    638\u001b[0m             \u001b[1;32mimport\u001b[0m \u001b[0mnumpy\u001b[0m\u001b[1;33m.\u001b[0m\u001b[0mma\u001b[0m\u001b[1;33m.\u001b[0m\u001b[0mmrecords\u001b[0m \u001b[1;32mas\u001b[0m \u001b[0mmrecords\u001b[0m\u001b[1;33m\u001b[0m\u001b[1;33m\u001b[0m\u001b[0m\n",
      "\u001b[1;32mc:\\Users\\yoe11\\anaconda3\\lib\\site-packages\\pandas\\core\\internals\\construction.py\u001b[0m in \u001b[0;36mdict_to_mgr\u001b[1;34m(data, index, columns, dtype, typ, copy)\u001b[0m\n\u001b[0;32m    500\u001b[0m         \u001b[1;31m# TODO: can we get rid of the dt64tz special case above?\u001b[0m\u001b[1;33m\u001b[0m\u001b[1;33m\u001b[0m\u001b[0m\n\u001b[0;32m    501\u001b[0m \u001b[1;33m\u001b[0m\u001b[0m\n\u001b[1;32m--> 502\u001b[1;33m     \u001b[1;32mreturn\u001b[0m \u001b[0marrays_to_mgr\u001b[0m\u001b[1;33m(\u001b[0m\u001b[0marrays\u001b[0m\u001b[1;33m,\u001b[0m \u001b[0mcolumns\u001b[0m\u001b[1;33m,\u001b[0m \u001b[0mindex\u001b[0m\u001b[1;33m,\u001b[0m \u001b[0mdtype\u001b[0m\u001b[1;33m=\u001b[0m\u001b[0mdtype\u001b[0m\u001b[1;33m,\u001b[0m \u001b[0mtyp\u001b[0m\u001b[1;33m=\u001b[0m\u001b[0mtyp\u001b[0m\u001b[1;33m,\u001b[0m \u001b[0mconsolidate\u001b[0m\u001b[1;33m=\u001b[0m\u001b[0mcopy\u001b[0m\u001b[1;33m)\u001b[0m\u001b[1;33m\u001b[0m\u001b[1;33m\u001b[0m\u001b[0m\n\u001b[0m\u001b[0;32m    503\u001b[0m \u001b[1;33m\u001b[0m\u001b[0m\n\u001b[0;32m    504\u001b[0m \u001b[1;33m\u001b[0m\u001b[0m\n",
      "\u001b[1;32mc:\\Users\\yoe11\\anaconda3\\lib\\site-packages\\pandas\\core\\internals\\construction.py\u001b[0m in \u001b[0;36marrays_to_mgr\u001b[1;34m(arrays, columns, index, dtype, verify_integrity, typ, consolidate)\u001b[0m\n\u001b[0;32m    123\u001b[0m \u001b[1;33m\u001b[0m\u001b[0m\n\u001b[0;32m    124\u001b[0m         \u001b[1;31m# don't force copy because getting jammed in an ndarray anyway\u001b[0m\u001b[1;33m\u001b[0m\u001b[1;33m\u001b[0m\u001b[0m\n\u001b[1;32m--> 125\u001b[1;33m         \u001b[0marrays\u001b[0m \u001b[1;33m=\u001b[0m \u001b[0m_homogenize\u001b[0m\u001b[1;33m(\u001b[0m\u001b[0marrays\u001b[0m\u001b[1;33m,\u001b[0m \u001b[0mindex\u001b[0m\u001b[1;33m,\u001b[0m \u001b[0mdtype\u001b[0m\u001b[1;33m)\u001b[0m\u001b[1;33m\u001b[0m\u001b[1;33m\u001b[0m\u001b[0m\n\u001b[0m\u001b[0;32m    126\u001b[0m         \u001b[1;31m# _homogenize ensures\u001b[0m\u001b[1;33m\u001b[0m\u001b[1;33m\u001b[0m\u001b[0m\n\u001b[0;32m    127\u001b[0m         \u001b[1;31m#  - all(len(x) == len(index) for x in arrays)\u001b[0m\u001b[1;33m\u001b[0m\u001b[1;33m\u001b[0m\u001b[0m\n",
      "\u001b[1;32mc:\\Users\\yoe11\\anaconda3\\lib\\site-packages\\pandas\\core\\internals\\construction.py\u001b[0m in \u001b[0;36m_homogenize\u001b[1;34m(data, index, dtype)\u001b[0m\n\u001b[0;32m    626\u001b[0m                 \u001b[0mval\u001b[0m\u001b[1;33m,\u001b[0m \u001b[0mindex\u001b[0m\u001b[1;33m,\u001b[0m \u001b[0mdtype\u001b[0m\u001b[1;33m=\u001b[0m\u001b[0mdtype\u001b[0m\u001b[1;33m,\u001b[0m \u001b[0mcopy\u001b[0m\u001b[1;33m=\u001b[0m\u001b[1;32mFalse\u001b[0m\u001b[1;33m,\u001b[0m \u001b[0mraise_cast_failure\u001b[0m\u001b[1;33m=\u001b[0m\u001b[1;32mFalse\u001b[0m\u001b[1;33m\u001b[0m\u001b[1;33m\u001b[0m\u001b[0m\n\u001b[0;32m    627\u001b[0m             )\n\u001b[1;32m--> 628\u001b[1;33m             \u001b[0mcom\u001b[0m\u001b[1;33m.\u001b[0m\u001b[0mrequire_length_match\u001b[0m\u001b[1;33m(\u001b[0m\u001b[0mval\u001b[0m\u001b[1;33m,\u001b[0m \u001b[0mindex\u001b[0m\u001b[1;33m)\u001b[0m\u001b[1;33m\u001b[0m\u001b[1;33m\u001b[0m\u001b[0m\n\u001b[0m\u001b[0;32m    629\u001b[0m \u001b[1;33m\u001b[0m\u001b[0m\n\u001b[0;32m    630\u001b[0m         \u001b[0mhomogenized\u001b[0m\u001b[1;33m.\u001b[0m\u001b[0mappend\u001b[0m\u001b[1;33m(\u001b[0m\u001b[0mval\u001b[0m\u001b[1;33m)\u001b[0m\u001b[1;33m\u001b[0m\u001b[1;33m\u001b[0m\u001b[0m\n",
      "\u001b[1;32mc:\\Users\\yoe11\\anaconda3\\lib\\site-packages\\pandas\\core\\common.py\u001b[0m in \u001b[0;36mrequire_length_match\u001b[1;34m(data, index)\u001b[0m\n\u001b[0;32m    555\u001b[0m     \"\"\"\n\u001b[0;32m    556\u001b[0m     \u001b[1;32mif\u001b[0m \u001b[0mlen\u001b[0m\u001b[1;33m(\u001b[0m\u001b[0mdata\u001b[0m\u001b[1;33m)\u001b[0m \u001b[1;33m!=\u001b[0m \u001b[0mlen\u001b[0m\u001b[1;33m(\u001b[0m\u001b[0mindex\u001b[0m\u001b[1;33m)\u001b[0m\u001b[1;33m:\u001b[0m\u001b[1;33m\u001b[0m\u001b[1;33m\u001b[0m\u001b[0m\n\u001b[1;32m--> 557\u001b[1;33m         raise ValueError(\n\u001b[0m\u001b[0;32m    558\u001b[0m             \u001b[1;34m\"Length of values \"\u001b[0m\u001b[1;33m\u001b[0m\u001b[1;33m\u001b[0m\u001b[0m\n\u001b[0;32m    559\u001b[0m             \u001b[1;34mf\"({len(data)}) \"\u001b[0m\u001b[1;33m\u001b[0m\u001b[1;33m\u001b[0m\u001b[0m\n",
      "\u001b[1;31mValueError\u001b[0m: Length of values (0) does not match length of index (1)"
     ]
    }
   ],
   "source": [
    "# Paso 1: Completa los datos de los años 2022 y 2023 utilizando la interpolación\n",
    "# (ya tienes este paso completado con tu código existente)\n",
    "\n",
    "# Paso 2: Calcula el porcentaje de cambio entre cada par de meses consecutivos para los años 2022 y 2023\n",
    "tulancingo_completo['porcentaje_cambio'] = tulancingo_completo.groupby('año')['precio_promedio'].pct_change()\n",
    "\n",
    "# Paso 3: Aplica el porcentaje de cambio a los precios de los últimos meses conocidos de 2023 para predecir los precios de los siguientes años (2024, 2025, 2026)\n",
    "# Obtiene los precios de los últimos meses conocidos de 2023\n",
    "precios_ultimo_mes_2023 = tulancingo_completo[(tulancingo_completo['año'] == 2023) & (tulancingo_completo['mes'] == 'Diciembre')]['precio_promedio'].values\n",
    "\n",
    "# Aplica el porcentaje de cambio a los precios del último mes conocido de 2023 para predecir los precios de los siguientes años\n",
    "for año_prediccion in [2024, 2025, 2026]:\n",
    "    # Calcula el porcentaje de cambio acumulado hasta el último mes conocido de 2023 para este año de predicción\n",
    "    porcentaje_cambio_acumulado = tulancingo_completo[tulancingo_completo['año'] == 2023]['porcentaje_cambio'].cumsum().iloc[-1]\n",
    "    # Aplica el porcentaje de cambio acumulado al precio del último mes conocido de 2023 para obtener el precio predicho para el primer mes del año de predicción\n",
    "    precio_predicho = precios_ultimo_mes_2023 * (1 + porcentaje_cambio_acumulado)\n",
    "    # Crea un DataFrame con el precio predicho para el primer mes del año de predicción\n",
    "    df_prediccion = pd.DataFrame({'mes': 'Enero', 'año': año_prediccion, 'precio_promedio': precio_predicho}, index=[0])\n",
    "    # Concatena el DataFrame de predicción con tulancingo_completo\n",
    "    tulancingo_completo = pd.concat([tulancingo_completo, df_prediccion], ignore_index=True)\n",
    "\n",
    "# Ordenar por año y mes\n",
    "tulancingo_completo = tulancingo_completo.sort_values(by=['año', 'mes']).reset_index(drop=True)\n",
    "\n",
    "# Imprimir el DataFrame completo actualizado\n",
    "print(tulancingo_completo)\n"
   ]
  },
  {
   "cell_type": "code",
   "execution_count": 45,
   "metadata": {},
   "outputs": [
    {
     "data": {
      "text/html": [
       "<div>\n",
       "<style scoped>\n",
       "    .dataframe tbody tr th:only-of-type {\n",
       "        vertical-align: middle;\n",
       "    }\n",
       "\n",
       "    .dataframe tbody tr th {\n",
       "        vertical-align: top;\n",
       "    }\n",
       "\n",
       "    .dataframe thead th {\n",
       "        text-align: right;\n",
       "    }\n",
       "</style>\n",
       "<table border=\"1\" class=\"dataframe\">\n",
       "  <thead>\n",
       "    <tr style=\"text-align: right;\">\n",
       "      <th></th>\n",
       "      <th>mes</th>\n",
       "      <th>año</th>\n",
       "      <th>precio_promedio</th>\n",
       "    </tr>\n",
       "  </thead>\n",
       "  <tbody>\n",
       "    <tr>\n",
       "      <th>6</th>\n",
       "      <td>Abril</td>\n",
       "      <td>2022</td>\n",
       "      <td>1170000.0</td>\n",
       "    </tr>\n",
       "    <tr>\n",
       "      <th>14</th>\n",
       "      <td>Agosto</td>\n",
       "      <td>2022</td>\n",
       "      <td>1168087.5</td>\n",
       "    </tr>\n",
       "    <tr>\n",
       "      <th>22</th>\n",
       "      <td>Diciembre</td>\n",
       "      <td>2022</td>\n",
       "      <td>1200000.0</td>\n",
       "    </tr>\n",
       "    <tr>\n",
       "      <th>12</th>\n",
       "      <td>Julio</td>\n",
       "      <td>2022</td>\n",
       "      <td>1365000.0</td>\n",
       "    </tr>\n",
       "    <tr>\n",
       "      <th>10</th>\n",
       "      <td>Junio</td>\n",
       "      <td>2022</td>\n",
       "      <td>1350000.0</td>\n",
       "    </tr>\n",
       "    <tr>\n",
       "      <th>8</th>\n",
       "      <td>Mayo</td>\n",
       "      <td>2022</td>\n",
       "      <td>1420000.0</td>\n",
       "    </tr>\n",
       "    <tr>\n",
       "      <th>20</th>\n",
       "      <td>Noviembre</td>\n",
       "      <td>2022</td>\n",
       "      <td>1200000.0</td>\n",
       "    </tr>\n",
       "    <tr>\n",
       "      <th>18</th>\n",
       "      <td>Octubre</td>\n",
       "      <td>2022</td>\n",
       "      <td>1350000.0</td>\n",
       "    </tr>\n",
       "    <tr>\n",
       "      <th>16</th>\n",
       "      <td>Septiembre</td>\n",
       "      <td>2022</td>\n",
       "      <td>1204362.5</td>\n",
       "    </tr>\n",
       "    <tr>\n",
       "      <th>7</th>\n",
       "      <td>Abril</td>\n",
       "      <td>2023</td>\n",
       "      <td>1295000.0</td>\n",
       "    </tr>\n",
       "    <tr>\n",
       "      <th>15</th>\n",
       "      <td>Agosto</td>\n",
       "      <td>2023</td>\n",
       "      <td>1186225.0</td>\n",
       "    </tr>\n",
       "    <tr>\n",
       "      <th>23</th>\n",
       "      <td>Diciembre</td>\n",
       "      <td>2023</td>\n",
       "      <td>1200000.0</td>\n",
       "    </tr>\n",
       "    <tr>\n",
       "      <th>13</th>\n",
       "      <td>Julio</td>\n",
       "      <td>2023</td>\n",
       "      <td>1149950.0</td>\n",
       "    </tr>\n",
       "    <tr>\n",
       "      <th>11</th>\n",
       "      <td>Junio</td>\n",
       "      <td>2023</td>\n",
       "      <td>1500000.0</td>\n",
       "    </tr>\n",
       "    <tr>\n",
       "      <th>5</th>\n",
       "      <td>Marzo</td>\n",
       "      <td>2023</td>\n",
       "      <td>1045000.0</td>\n",
       "    </tr>\n",
       "    <tr>\n",
       "      <th>9</th>\n",
       "      <td>Mayo</td>\n",
       "      <td>2023</td>\n",
       "      <td>1200000.0</td>\n",
       "    </tr>\n",
       "    <tr>\n",
       "      <th>21</th>\n",
       "      <td>Noviembre</td>\n",
       "      <td>2023</td>\n",
       "      <td>1200000.0</td>\n",
       "    </tr>\n",
       "    <tr>\n",
       "      <th>19</th>\n",
       "      <td>Octubre</td>\n",
       "      <td>2023</td>\n",
       "      <td>1200000.0</td>\n",
       "    </tr>\n",
       "    <tr>\n",
       "      <th>17</th>\n",
       "      <td>Septiembre</td>\n",
       "      <td>2023</td>\n",
       "      <td>1222500.0</td>\n",
       "    </tr>\n",
       "  </tbody>\n",
       "</table>\n",
       "</div>"
      ],
      "text/plain": [
       "           mes   año  precio_promedio\n",
       "6        Abril  2022        1170000.0\n",
       "14      Agosto  2022        1168087.5\n",
       "22   Diciembre  2022        1200000.0\n",
       "12       Julio  2022        1365000.0\n",
       "10       Junio  2022        1350000.0\n",
       "8         Mayo  2022        1420000.0\n",
       "20   Noviembre  2022        1200000.0\n",
       "18     Octubre  2022        1350000.0\n",
       "16  Septiembre  2022        1204362.5\n",
       "7        Abril  2023        1295000.0\n",
       "15      Agosto  2023        1186225.0\n",
       "23   Diciembre  2023        1200000.0\n",
       "13       Julio  2023        1149950.0\n",
       "11       Junio  2023        1500000.0\n",
       "5        Marzo  2023        1045000.0\n",
       "9         Mayo  2023        1200000.0\n",
       "21   Noviembre  2023        1200000.0\n",
       "19     Octubre  2023        1200000.0\n",
       "17  Septiembre  2023        1222500.0"
      ]
     },
     "execution_count": 45,
     "metadata": {},
     "output_type": "execute_result"
    }
   ],
   "source": [
    "tulancingo_completo"
   ]
  },
  {
   "cell_type": "code",
   "execution_count": 61,
   "metadata": {},
   "outputs": [
    {
     "data": {
      "text/html": [
       "<div>\n",
       "<style scoped>\n",
       "    .dataframe tbody tr th:only-of-type {\n",
       "        vertical-align: middle;\n",
       "    }\n",
       "\n",
       "    .dataframe tbody tr th {\n",
       "        vertical-align: top;\n",
       "    }\n",
       "\n",
       "    .dataframe thead th {\n",
       "        text-align: right;\n",
       "    }\n",
       "</style>\n",
       "<table border=\"1\" class=\"dataframe\">\n",
       "  <thead>\n",
       "    <tr style=\"text-align: right;\">\n",
       "      <th></th>\n",
       "      <th>mes</th>\n",
       "      <th>año</th>\n",
       "      <th>precio_promedio</th>\n",
       "      <th>cambio_porcentaje</th>\n",
       "    </tr>\n",
       "  </thead>\n",
       "  <tbody>\n",
       "    <tr>\n",
       "      <th>6</th>\n",
       "      <td>Abril</td>\n",
       "      <td>2022</td>\n",
       "      <td>1170000.0</td>\n",
       "      <td>NaN</td>\n",
       "    </tr>\n",
       "    <tr>\n",
       "      <th>14</th>\n",
       "      <td>Agosto</td>\n",
       "      <td>2022</td>\n",
       "      <td>1168087.5</td>\n",
       "      <td>-0.163462</td>\n",
       "    </tr>\n",
       "    <tr>\n",
       "      <th>22</th>\n",
       "      <td>Diciembre</td>\n",
       "      <td>2022</td>\n",
       "      <td>1200000.0</td>\n",
       "      <td>2.732030</td>\n",
       "    </tr>\n",
       "    <tr>\n",
       "      <th>12</th>\n",
       "      <td>Julio</td>\n",
       "      <td>2022</td>\n",
       "      <td>1365000.0</td>\n",
       "      <td>13.750000</td>\n",
       "    </tr>\n",
       "    <tr>\n",
       "      <th>10</th>\n",
       "      <td>Junio</td>\n",
       "      <td>2022</td>\n",
       "      <td>1350000.0</td>\n",
       "      <td>-1.098901</td>\n",
       "    </tr>\n",
       "    <tr>\n",
       "      <th>8</th>\n",
       "      <td>Mayo</td>\n",
       "      <td>2022</td>\n",
       "      <td>1420000.0</td>\n",
       "      <td>5.185185</td>\n",
       "    </tr>\n",
       "    <tr>\n",
       "      <th>20</th>\n",
       "      <td>Noviembre</td>\n",
       "      <td>2022</td>\n",
       "      <td>1200000.0</td>\n",
       "      <td>-15.492958</td>\n",
       "    </tr>\n",
       "    <tr>\n",
       "      <th>18</th>\n",
       "      <td>Octubre</td>\n",
       "      <td>2022</td>\n",
       "      <td>1350000.0</td>\n",
       "      <td>12.500000</td>\n",
       "    </tr>\n",
       "    <tr>\n",
       "      <th>16</th>\n",
       "      <td>Septiembre</td>\n",
       "      <td>2022</td>\n",
       "      <td>1204362.5</td>\n",
       "      <td>-10.787963</td>\n",
       "    </tr>\n",
       "    <tr>\n",
       "      <th>7</th>\n",
       "      <td>Abril</td>\n",
       "      <td>2023</td>\n",
       "      <td>1295000.0</td>\n",
       "      <td>7.525766</td>\n",
       "    </tr>\n",
       "    <tr>\n",
       "      <th>15</th>\n",
       "      <td>Agosto</td>\n",
       "      <td>2023</td>\n",
       "      <td>1186225.0</td>\n",
       "      <td>-8.399614</td>\n",
       "    </tr>\n",
       "    <tr>\n",
       "      <th>23</th>\n",
       "      <td>Diciembre</td>\n",
       "      <td>2023</td>\n",
       "      <td>1200000.0</td>\n",
       "      <td>1.161247</td>\n",
       "    </tr>\n",
       "    <tr>\n",
       "      <th>13</th>\n",
       "      <td>Julio</td>\n",
       "      <td>2023</td>\n",
       "      <td>1149950.0</td>\n",
       "      <td>-4.170833</td>\n",
       "    </tr>\n",
       "    <tr>\n",
       "      <th>11</th>\n",
       "      <td>Junio</td>\n",
       "      <td>2023</td>\n",
       "      <td>1500000.0</td>\n",
       "      <td>30.440454</td>\n",
       "    </tr>\n",
       "    <tr>\n",
       "      <th>5</th>\n",
       "      <td>Marzo</td>\n",
       "      <td>2023</td>\n",
       "      <td>1045000.0</td>\n",
       "      <td>-30.333333</td>\n",
       "    </tr>\n",
       "    <tr>\n",
       "      <th>9</th>\n",
       "      <td>Mayo</td>\n",
       "      <td>2023</td>\n",
       "      <td>1200000.0</td>\n",
       "      <td>14.832536</td>\n",
       "    </tr>\n",
       "    <tr>\n",
       "      <th>21</th>\n",
       "      <td>Noviembre</td>\n",
       "      <td>2023</td>\n",
       "      <td>1200000.0</td>\n",
       "      <td>0.000000</td>\n",
       "    </tr>\n",
       "    <tr>\n",
       "      <th>19</th>\n",
       "      <td>Octubre</td>\n",
       "      <td>2023</td>\n",
       "      <td>1200000.0</td>\n",
       "      <td>0.000000</td>\n",
       "    </tr>\n",
       "    <tr>\n",
       "      <th>17</th>\n",
       "      <td>Septiembre</td>\n",
       "      <td>2023</td>\n",
       "      <td>1222500.0</td>\n",
       "      <td>1.875000</td>\n",
       "    </tr>\n",
       "  </tbody>\n",
       "</table>\n",
       "</div>"
      ],
      "text/plain": [
       "           mes   año  precio_promedio  cambio_porcentaje\n",
       "6        Abril  2022        1170000.0                NaN\n",
       "14      Agosto  2022        1168087.5          -0.163462\n",
       "22   Diciembre  2022        1200000.0           2.732030\n",
       "12       Julio  2022        1365000.0          13.750000\n",
       "10       Junio  2022        1350000.0          -1.098901\n",
       "8         Mayo  2022        1420000.0           5.185185\n",
       "20   Noviembre  2022        1200000.0         -15.492958\n",
       "18     Octubre  2022        1350000.0          12.500000\n",
       "16  Septiembre  2022        1204362.5         -10.787963\n",
       "7        Abril  2023        1295000.0           7.525766\n",
       "15      Agosto  2023        1186225.0          -8.399614\n",
       "23   Diciembre  2023        1200000.0           1.161247\n",
       "13       Julio  2023        1149950.0          -4.170833\n",
       "11       Junio  2023        1500000.0          30.440454\n",
       "5        Marzo  2023        1045000.0         -30.333333\n",
       "9         Mayo  2023        1200000.0          14.832536\n",
       "21   Noviembre  2023        1200000.0           0.000000\n",
       "19     Octubre  2023        1200000.0           0.000000\n",
       "17  Septiembre  2023        1222500.0           1.875000"
      ]
     },
     "execution_count": 61,
     "metadata": {},
     "output_type": "execute_result"
    }
   ],
   "source": [
    "tulancingo_completo['cambio_porcentaje'] = tulancingo_completo['precio_promedio'].pct_change() * 100\n",
    "tulancingo_completo"
   ]
  },
  {
   "cell_type": "code",
   "execution_count": 62,
   "metadata": {},
   "outputs": [
    {
     "name": "stdout",
     "output_type": "stream",
     "text": [
      "    precio_promedio         mes   año\n",
      "0      1.392459e+06       Abril  2024\n",
      "1      1.135436e+06      Agosto  2024\n",
      "2      1.223360e+06   Diciembre  2024\n",
      "3      1.205028e+06       Julio  2024\n",
      "4      1.720062e+06       Junio  2024\n",
      "5      7.280167e+05       Marzo  2024\n",
      "6      1.320106e+06        Mayo  2024\n",
      "7      1.107042e+06   Noviembre  2024\n",
      "8      1.275000e+06     Octubre  2024\n",
      "9      1.168020e+06  Septiembre  2024\n",
      "10     1.392459e+06       Abril  2025\n",
      "11     1.135436e+06      Agosto  2025\n",
      "12     1.223360e+06   Diciembre  2025\n",
      "13     1.205028e+06       Julio  2025\n",
      "14     1.720062e+06       Junio  2025\n",
      "15     7.280167e+05       Marzo  2025\n",
      "16     1.320106e+06        Mayo  2025\n",
      "17     1.107042e+06   Noviembre  2025\n",
      "18     1.275000e+06     Octubre  2025\n",
      "19     1.168020e+06  Septiembre  2025\n",
      "20     1.392459e+06       Abril  2026\n",
      "21     1.135436e+06      Agosto  2026\n",
      "22     1.223360e+06   Diciembre  2026\n",
      "23     1.205028e+06       Julio  2026\n",
      "24     1.720062e+06       Junio  2026\n",
      "25     7.280167e+05       Marzo  2026\n",
      "26     1.320106e+06        Mayo  2026\n",
      "27     1.107042e+06   Noviembre  2026\n",
      "28     1.275000e+06     Octubre  2026\n",
      "29     1.168020e+06  Septiembre  2026\n"
     ]
    }
   ],
   "source": [
    "import itertools\n",
    "\n",
    "# Generar las combinaciones de meses para los años 2024, 2025 y 2026\n",
    "combinaciones_meses = list(itertools.product(tulancingo_completo['mes'].unique(), [2024, 2025, 2026]))\n",
    "\n",
    "# Calcular los precios promedio predichos para los años siguientes (2024, 2025, 2026)\n",
    "precios_predichos = {}\n",
    "for mes, año in combinaciones_meses:\n",
    "    cambio_porcentaje = tulancingo_completo[tulancingo_completo['mes'] == mes]['cambio_porcentaje'].mean()\n",
    "    ultimo_precio_conocido = tulancingo_completo[(tulancingo_completo['mes'] == mes) & (tulancingo_completo['año'] == 2023)]['precio_promedio'].iloc[0]\n",
    "    precio_predicho = ultimo_precio_conocido * (1 + cambio_porcentaje / 100)\n",
    "    precios_predichos[(mes, año)] = precio_predicho\n",
    "\n",
    "# Convertir los resultados en un DataFrame\n",
    "df_predicciones = pd.DataFrame(list(precios_predichos.items()), columns=['mes_año', 'precio_promedio'])\n",
    "\n",
    "# Dividir la columna mes_año en dos columnas separadas para mes y año\n",
    "df_predicciones[['mes', 'año']] = pd.DataFrame(df_predicciones['mes_año'].tolist(), index=df_predicciones.index)\n",
    "\n",
    "# Eliminar la columna mes_año ahora que ya está dividida\n",
    "df_predicciones.drop(columns=['mes_año'], inplace=True)\n",
    "\n",
    "# Ordenar el DataFrame por año y mes\n",
    "df_predicciones.sort_values(by=['año', 'mes'], inplace=True)\n",
    "\n",
    "# Reiniciar el índice del DataFrame\n",
    "df_predicciones.reset_index(drop=True, inplace=True)\n",
    "\n",
    "# Mostrar el DataFrame resultante\n",
    "print(df_predicciones)\n"
   ]
  },
  {
   "cell_type": "code",
   "execution_count": 64,
   "metadata": {},
   "outputs": [
    {
     "data": {
      "text/html": [
       "<div>\n",
       "<style scoped>\n",
       "    .dataframe tbody tr th:only-of-type {\n",
       "        vertical-align: middle;\n",
       "    }\n",
       "\n",
       "    .dataframe tbody tr th {\n",
       "        vertical-align: top;\n",
       "    }\n",
       "\n",
       "    .dataframe thead th {\n",
       "        text-align: right;\n",
       "    }\n",
       "</style>\n",
       "<table border=\"1\" class=\"dataframe\">\n",
       "  <thead>\n",
       "    <tr style=\"text-align: right;\">\n",
       "      <th></th>\n",
       "      <th>mes</th>\n",
       "      <th>año</th>\n",
       "      <th>precio_promedio</th>\n",
       "    </tr>\n",
       "  </thead>\n",
       "  <tbody>\n",
       "    <tr>\n",
       "      <th>0</th>\n",
       "      <td>Abril</td>\n",
       "      <td>2022</td>\n",
       "      <td>1.170000e+06</td>\n",
       "    </tr>\n",
       "    <tr>\n",
       "      <th>1</th>\n",
       "      <td>Agosto</td>\n",
       "      <td>2022</td>\n",
       "      <td>1.168088e+06</td>\n",
       "    </tr>\n",
       "    <tr>\n",
       "      <th>2</th>\n",
       "      <td>Diciembre</td>\n",
       "      <td>2022</td>\n",
       "      <td>1.200000e+06</td>\n",
       "    </tr>\n",
       "    <tr>\n",
       "      <th>3</th>\n",
       "      <td>Julio</td>\n",
       "      <td>2022</td>\n",
       "      <td>1.365000e+06</td>\n",
       "    </tr>\n",
       "    <tr>\n",
       "      <th>4</th>\n",
       "      <td>Junio</td>\n",
       "      <td>2022</td>\n",
       "      <td>1.350000e+06</td>\n",
       "    </tr>\n",
       "    <tr>\n",
       "      <th>5</th>\n",
       "      <td>Mayo</td>\n",
       "      <td>2022</td>\n",
       "      <td>1.420000e+06</td>\n",
       "    </tr>\n",
       "    <tr>\n",
       "      <th>6</th>\n",
       "      <td>Noviembre</td>\n",
       "      <td>2022</td>\n",
       "      <td>1.200000e+06</td>\n",
       "    </tr>\n",
       "    <tr>\n",
       "      <th>7</th>\n",
       "      <td>Octubre</td>\n",
       "      <td>2022</td>\n",
       "      <td>1.350000e+06</td>\n",
       "    </tr>\n",
       "    <tr>\n",
       "      <th>8</th>\n",
       "      <td>Septiembre</td>\n",
       "      <td>2022</td>\n",
       "      <td>1.204362e+06</td>\n",
       "    </tr>\n",
       "    <tr>\n",
       "      <th>9</th>\n",
       "      <td>Abril</td>\n",
       "      <td>2023</td>\n",
       "      <td>1.295000e+06</td>\n",
       "    </tr>\n",
       "    <tr>\n",
       "      <th>10</th>\n",
       "      <td>Agosto</td>\n",
       "      <td>2023</td>\n",
       "      <td>1.186225e+06</td>\n",
       "    </tr>\n",
       "    <tr>\n",
       "      <th>11</th>\n",
       "      <td>Diciembre</td>\n",
       "      <td>2023</td>\n",
       "      <td>1.200000e+06</td>\n",
       "    </tr>\n",
       "    <tr>\n",
       "      <th>12</th>\n",
       "      <td>Julio</td>\n",
       "      <td>2023</td>\n",
       "      <td>1.149950e+06</td>\n",
       "    </tr>\n",
       "    <tr>\n",
       "      <th>13</th>\n",
       "      <td>Junio</td>\n",
       "      <td>2023</td>\n",
       "      <td>1.500000e+06</td>\n",
       "    </tr>\n",
       "    <tr>\n",
       "      <th>14</th>\n",
       "      <td>Marzo</td>\n",
       "      <td>2023</td>\n",
       "      <td>1.045000e+06</td>\n",
       "    </tr>\n",
       "    <tr>\n",
       "      <th>15</th>\n",
       "      <td>Mayo</td>\n",
       "      <td>2023</td>\n",
       "      <td>1.200000e+06</td>\n",
       "    </tr>\n",
       "    <tr>\n",
       "      <th>16</th>\n",
       "      <td>Noviembre</td>\n",
       "      <td>2023</td>\n",
       "      <td>1.200000e+06</td>\n",
       "    </tr>\n",
       "    <tr>\n",
       "      <th>17</th>\n",
       "      <td>Octubre</td>\n",
       "      <td>2023</td>\n",
       "      <td>1.200000e+06</td>\n",
       "    </tr>\n",
       "    <tr>\n",
       "      <th>18</th>\n",
       "      <td>Septiembre</td>\n",
       "      <td>2023</td>\n",
       "      <td>1.222500e+06</td>\n",
       "    </tr>\n",
       "    <tr>\n",
       "      <th>19</th>\n",
       "      <td>Abril</td>\n",
       "      <td>2024</td>\n",
       "      <td>1.392459e+06</td>\n",
       "    </tr>\n",
       "    <tr>\n",
       "      <th>20</th>\n",
       "      <td>Agosto</td>\n",
       "      <td>2024</td>\n",
       "      <td>1.135436e+06</td>\n",
       "    </tr>\n",
       "    <tr>\n",
       "      <th>21</th>\n",
       "      <td>Diciembre</td>\n",
       "      <td>2024</td>\n",
       "      <td>1.223360e+06</td>\n",
       "    </tr>\n",
       "    <tr>\n",
       "      <th>22</th>\n",
       "      <td>Julio</td>\n",
       "      <td>2024</td>\n",
       "      <td>1.205028e+06</td>\n",
       "    </tr>\n",
       "    <tr>\n",
       "      <th>23</th>\n",
       "      <td>Junio</td>\n",
       "      <td>2024</td>\n",
       "      <td>1.720062e+06</td>\n",
       "    </tr>\n",
       "    <tr>\n",
       "      <th>24</th>\n",
       "      <td>Marzo</td>\n",
       "      <td>2024</td>\n",
       "      <td>7.280167e+05</td>\n",
       "    </tr>\n",
       "    <tr>\n",
       "      <th>25</th>\n",
       "      <td>Mayo</td>\n",
       "      <td>2024</td>\n",
       "      <td>1.320106e+06</td>\n",
       "    </tr>\n",
       "    <tr>\n",
       "      <th>26</th>\n",
       "      <td>Noviembre</td>\n",
       "      <td>2024</td>\n",
       "      <td>1.107042e+06</td>\n",
       "    </tr>\n",
       "    <tr>\n",
       "      <th>27</th>\n",
       "      <td>Octubre</td>\n",
       "      <td>2024</td>\n",
       "      <td>1.275000e+06</td>\n",
       "    </tr>\n",
       "    <tr>\n",
       "      <th>28</th>\n",
       "      <td>Septiembre</td>\n",
       "      <td>2024</td>\n",
       "      <td>1.168020e+06</td>\n",
       "    </tr>\n",
       "    <tr>\n",
       "      <th>29</th>\n",
       "      <td>Abril</td>\n",
       "      <td>2025</td>\n",
       "      <td>1.392459e+06</td>\n",
       "    </tr>\n",
       "    <tr>\n",
       "      <th>30</th>\n",
       "      <td>Agosto</td>\n",
       "      <td>2025</td>\n",
       "      <td>1.135436e+06</td>\n",
       "    </tr>\n",
       "    <tr>\n",
       "      <th>31</th>\n",
       "      <td>Diciembre</td>\n",
       "      <td>2025</td>\n",
       "      <td>1.223360e+06</td>\n",
       "    </tr>\n",
       "    <tr>\n",
       "      <th>32</th>\n",
       "      <td>Julio</td>\n",
       "      <td>2025</td>\n",
       "      <td>1.205028e+06</td>\n",
       "    </tr>\n",
       "    <tr>\n",
       "      <th>33</th>\n",
       "      <td>Junio</td>\n",
       "      <td>2025</td>\n",
       "      <td>1.720062e+06</td>\n",
       "    </tr>\n",
       "    <tr>\n",
       "      <th>34</th>\n",
       "      <td>Marzo</td>\n",
       "      <td>2025</td>\n",
       "      <td>7.280167e+05</td>\n",
       "    </tr>\n",
       "    <tr>\n",
       "      <th>35</th>\n",
       "      <td>Mayo</td>\n",
       "      <td>2025</td>\n",
       "      <td>1.320106e+06</td>\n",
       "    </tr>\n",
       "    <tr>\n",
       "      <th>36</th>\n",
       "      <td>Noviembre</td>\n",
       "      <td>2025</td>\n",
       "      <td>1.107042e+06</td>\n",
       "    </tr>\n",
       "    <tr>\n",
       "      <th>37</th>\n",
       "      <td>Octubre</td>\n",
       "      <td>2025</td>\n",
       "      <td>1.275000e+06</td>\n",
       "    </tr>\n",
       "    <tr>\n",
       "      <th>38</th>\n",
       "      <td>Septiembre</td>\n",
       "      <td>2025</td>\n",
       "      <td>1.168020e+06</td>\n",
       "    </tr>\n",
       "    <tr>\n",
       "      <th>39</th>\n",
       "      <td>Abril</td>\n",
       "      <td>2026</td>\n",
       "      <td>1.392459e+06</td>\n",
       "    </tr>\n",
       "    <tr>\n",
       "      <th>40</th>\n",
       "      <td>Agosto</td>\n",
       "      <td>2026</td>\n",
       "      <td>1.135436e+06</td>\n",
       "    </tr>\n",
       "    <tr>\n",
       "      <th>41</th>\n",
       "      <td>Diciembre</td>\n",
       "      <td>2026</td>\n",
       "      <td>1.223360e+06</td>\n",
       "    </tr>\n",
       "    <tr>\n",
       "      <th>42</th>\n",
       "      <td>Julio</td>\n",
       "      <td>2026</td>\n",
       "      <td>1.205028e+06</td>\n",
       "    </tr>\n",
       "    <tr>\n",
       "      <th>43</th>\n",
       "      <td>Junio</td>\n",
       "      <td>2026</td>\n",
       "      <td>1.720062e+06</td>\n",
       "    </tr>\n",
       "    <tr>\n",
       "      <th>44</th>\n",
       "      <td>Marzo</td>\n",
       "      <td>2026</td>\n",
       "      <td>7.280167e+05</td>\n",
       "    </tr>\n",
       "    <tr>\n",
       "      <th>45</th>\n",
       "      <td>Mayo</td>\n",
       "      <td>2026</td>\n",
       "      <td>1.320106e+06</td>\n",
       "    </tr>\n",
       "    <tr>\n",
       "      <th>46</th>\n",
       "      <td>Noviembre</td>\n",
       "      <td>2026</td>\n",
       "      <td>1.107042e+06</td>\n",
       "    </tr>\n",
       "    <tr>\n",
       "      <th>47</th>\n",
       "      <td>Octubre</td>\n",
       "      <td>2026</td>\n",
       "      <td>1.275000e+06</td>\n",
       "    </tr>\n",
       "    <tr>\n",
       "      <th>48</th>\n",
       "      <td>Septiembre</td>\n",
       "      <td>2026</td>\n",
       "      <td>1.168020e+06</td>\n",
       "    </tr>\n",
       "  </tbody>\n",
       "</table>\n",
       "</div>"
      ],
      "text/plain": [
       "           mes   año  precio_promedio\n",
       "0        Abril  2022     1.170000e+06\n",
       "1       Agosto  2022     1.168088e+06\n",
       "2    Diciembre  2022     1.200000e+06\n",
       "3        Julio  2022     1.365000e+06\n",
       "4        Junio  2022     1.350000e+06\n",
       "5         Mayo  2022     1.420000e+06\n",
       "6    Noviembre  2022     1.200000e+06\n",
       "7      Octubre  2022     1.350000e+06\n",
       "8   Septiembre  2022     1.204362e+06\n",
       "9        Abril  2023     1.295000e+06\n",
       "10      Agosto  2023     1.186225e+06\n",
       "11   Diciembre  2023     1.200000e+06\n",
       "12       Julio  2023     1.149950e+06\n",
       "13       Junio  2023     1.500000e+06\n",
       "14       Marzo  2023     1.045000e+06\n",
       "15        Mayo  2023     1.200000e+06\n",
       "16   Noviembre  2023     1.200000e+06\n",
       "17     Octubre  2023     1.200000e+06\n",
       "18  Septiembre  2023     1.222500e+06\n",
       "19       Abril  2024     1.392459e+06\n",
       "20      Agosto  2024     1.135436e+06\n",
       "21   Diciembre  2024     1.223360e+06\n",
       "22       Julio  2024     1.205028e+06\n",
       "23       Junio  2024     1.720062e+06\n",
       "24       Marzo  2024     7.280167e+05\n",
       "25        Mayo  2024     1.320106e+06\n",
       "26   Noviembre  2024     1.107042e+06\n",
       "27     Octubre  2024     1.275000e+06\n",
       "28  Septiembre  2024     1.168020e+06\n",
       "29       Abril  2025     1.392459e+06\n",
       "30      Agosto  2025     1.135436e+06\n",
       "31   Diciembre  2025     1.223360e+06\n",
       "32       Julio  2025     1.205028e+06\n",
       "33       Junio  2025     1.720062e+06\n",
       "34       Marzo  2025     7.280167e+05\n",
       "35        Mayo  2025     1.320106e+06\n",
       "36   Noviembre  2025     1.107042e+06\n",
       "37     Octubre  2025     1.275000e+06\n",
       "38  Septiembre  2025     1.168020e+06\n",
       "39       Abril  2026     1.392459e+06\n",
       "40      Agosto  2026     1.135436e+06\n",
       "41   Diciembre  2026     1.223360e+06\n",
       "42       Julio  2026     1.205028e+06\n",
       "43       Junio  2026     1.720062e+06\n",
       "44       Marzo  2026     7.280167e+05\n",
       "45        Mayo  2026     1.320106e+06\n",
       "46   Noviembre  2026     1.107042e+06\n",
       "47     Octubre  2026     1.275000e+06\n",
       "48  Septiembre  2026     1.168020e+06"
      ]
     },
     "execution_count": 64,
     "metadata": {},
     "output_type": "execute_result"
    }
   ],
   "source": [
    "# Concatenar tulancingo_completo con df_predicciones\n",
    "tulancingo_completo_predicciones = pd.concat([tulancingo_completo, df_predicciones], ignore_index=True)\n",
    "\n",
    "# Ordenar el DataFrame por año y mes\n",
    "tulancingo_completo_predicciones.sort_values(by=['año', 'mes'], inplace=True)\n",
    "\n",
    "# Reiniciar el índice del DataFrame\n",
    "tulancingo_completo_predicciones.reset_index(drop=True, inplace=True)\n",
    "tulancingo_completo_predicciones.drop(columns=['cambio_porcentaje'], inplace=True)\n",
    "tulancingo_completo_predicciones"
   ]
  },
  {
   "cell_type": "code",
   "execution_count": 50,
   "metadata": {},
   "outputs": [
    {
     "data": {
      "text/plain": [
       "array(['Abril', 'Agosto', 'Diciembre', 'Julio', 'Junio', 'Mayo',\n",
       "       'Noviembre', 'Octubre', 'Septiembre', 'Marzo'], dtype=object)"
      ]
     },
     "execution_count": 50,
     "metadata": {},
     "output_type": "execute_result"
    }
   ],
   "source": [
    "meses_unicos = tulancingo_completo['mes'].unique()\n",
    "meses_unicos"
   ]
  },
  {
   "cell_type": "code",
   "execution_count": 51,
   "metadata": {},
   "outputs": [
    {
     "data": {
      "text/plain": [
       "[('Abril', 2024),\n",
       " ('Abril', 2025),\n",
       " ('Abril', 2026),\n",
       " ('Agosto', 2024),\n",
       " ('Agosto', 2025),\n",
       " ('Agosto', 2026),\n",
       " ('Diciembre', 2024),\n",
       " ('Diciembre', 2025),\n",
       " ('Diciembre', 2026),\n",
       " ('Julio', 2024),\n",
       " ('Julio', 2025),\n",
       " ('Julio', 2026),\n",
       " ('Junio', 2024),\n",
       " ('Junio', 2025),\n",
       " ('Junio', 2026),\n",
       " ('Mayo', 2024),\n",
       " ('Mayo', 2025),\n",
       " ('Mayo', 2026),\n",
       " ('Noviembre', 2024),\n",
       " ('Noviembre', 2025),\n",
       " ('Noviembre', 2026),\n",
       " ('Octubre', 2024),\n",
       " ('Octubre', 2025),\n",
       " ('Octubre', 2026),\n",
       " ('Septiembre', 2024),\n",
       " ('Septiembre', 2025),\n",
       " ('Septiembre', 2026),\n",
       " ('Marzo', 2024),\n",
       " ('Marzo', 2025),\n",
       " ('Marzo', 2026)]"
      ]
     },
     "execution_count": 51,
     "metadata": {},
     "output_type": "execute_result"
    }
   ],
   "source": [
    "import itertools\n",
    "# Genera todas las combinaciones de meses para los años siguientes\n",
    "combinaciones_meses = list(itertools.product(meses_unicos, [2024, 2025, 2026]))\n",
    "combinaciones_meses"
   ]
  },
  {
   "cell_type": "code",
   "execution_count": 58,
   "metadata": {},
   "outputs": [
    {
     "data": {
      "text/plain": [
       "6          NaN\n",
       "14         NaN\n",
       "22         NaN\n",
       "12         NaN\n",
       "10         NaN\n",
       "8          NaN\n",
       "20         NaN\n",
       "18         NaN\n",
       "16         NaN\n",
       "7     0.106838\n",
       "15    0.015528\n",
       "23    0.000000\n",
       "13   -0.157546\n",
       "11    0.111111\n",
       "5          NaN\n",
       "9    -0.154930\n",
       "21    0.000000\n",
       "19   -0.111111\n",
       "17    0.015060\n",
       "Name: precio_promedio, dtype: float64"
      ]
     },
     "execution_count": 58,
     "metadata": {},
     "output_type": "execute_result"
    }
   ],
   "source": [
    "# Obtener los datos de los meses de 2022 y 2023\n",
    "datos_2022_2023 = tulancingo_completo[(tulancingo_completo['año'] >= 2022) & (tulancingo_completo['año'] <= 2023)]\n",
    "\n",
    "# Calcular el porcentaje de cambio acumulado hasta el último mes conocido de 2023\n",
    "# Calcular el porcentaje de cambio acumulado hasta el último mes conocido de 2023\n",
    "porcentaje_cambio_acumulado = tulancingo_completo.groupby('mes')['precio_promedio'].pct_change().groupby(tulancingo_completo['mes']).cumsum()\n",
    "porcentaje_cambio_acumulado"
   ]
  },
  {
   "cell_type": "code",
   "execution_count": 57,
   "metadata": {},
   "outputs": [
    {
     "name": "stdout",
     "output_type": "stream",
     "text": [
      "Mes: Abril, Porcentaje de cambio acumulado: 0\n",
      "Mes: Abril, Porcentaje de cambio acumulado: 0\n",
      "Mes: Abril, Porcentaje de cambio acumulado: 0\n",
      "Mes: Agosto, Porcentaje de cambio acumulado: 0\n",
      "Mes: Agosto, Porcentaje de cambio acumulado: 0\n",
      "Mes: Agosto, Porcentaje de cambio acumulado: 0\n",
      "Mes: Diciembre, Porcentaje de cambio acumulado: 0\n",
      "Mes: Diciembre, Porcentaje de cambio acumulado: 0\n",
      "Mes: Diciembre, Porcentaje de cambio acumulado: 0\n",
      "Mes: Julio, Porcentaje de cambio acumulado: 0\n",
      "Mes: Julio, Porcentaje de cambio acumulado: 0\n",
      "Mes: Julio, Porcentaje de cambio acumulado: 0\n",
      "Mes: Junio, Porcentaje de cambio acumulado: 0\n",
      "Mes: Junio, Porcentaje de cambio acumulado: 0\n",
      "Mes: Junio, Porcentaje de cambio acumulado: 0\n",
      "Mes: Mayo, Porcentaje de cambio acumulado: 0\n",
      "Mes: Mayo, Porcentaje de cambio acumulado: 0\n",
      "Mes: Mayo, Porcentaje de cambio acumulado: 0\n",
      "Mes: Noviembre, Porcentaje de cambio acumulado: 0\n",
      "Mes: Noviembre, Porcentaje de cambio acumulado: 0\n",
      "Mes: Noviembre, Porcentaje de cambio acumulado: 0\n",
      "Mes: Octubre, Porcentaje de cambio acumulado: 0\n",
      "Mes: Octubre, Porcentaje de cambio acumulado: 0\n",
      "Mes: Octubre, Porcentaje de cambio acumulado: 0\n",
      "Mes: Septiembre, Porcentaje de cambio acumulado: 0\n",
      "Mes: Septiembre, Porcentaje de cambio acumulado: 0\n",
      "Mes: Septiembre, Porcentaje de cambio acumulado: 0\n",
      "Mes: Marzo, Porcentaje de cambio acumulado: 0\n",
      "Mes: Marzo, Porcentaje de cambio acumulado: 0\n",
      "Mes: Marzo, Porcentaje de cambio acumulado: 0\n"
     ]
    }
   ],
   "source": [
    "# Calcular los precios promedio predichos para los años siguientes (2024, 2025, 2026)\n",
    "precios_predichos = {}\n",
    "for mes, año in combinaciones_meses:\n",
    "    ultimo_precio_conocido_2023 = datos_2022_2023[(datos_2022_2023['año'] == 2023) & (datos_2022_2023['mes'] == mes)]['precio_promedio'].iloc[0]\n",
    "    porcentaje_cambio_acumulado_mes = porcentaje_cambio_acumulado.get(mes, 0)  # Obtener el porcentaje de cambio acumulado para el mes, o 0 si no está presente\n",
    "    print(f\"Mes: {mes}, Porcentaje de cambio acumulado: {porcentaje_cambio_acumulado_mes}\")\n",
    "    precio_predicho = ultimo_precio_conocido_2023 * (1 + porcentaje_cambio_acumulado_mes)\n",
    "    precios_predichos[(mes, año)] = precio_predicho\n"
   ]
  },
  {
   "cell_type": "code",
   "execution_count": null,
   "metadata": {},
   "outputs": [],
   "source": []
  },
  {
   "cell_type": "code",
   "execution_count": null,
   "metadata": {},
   "outputs": [],
   "source": [
    "# Importar pandas\n",
    "import pandas as pd\n",
    "\n",
    "# Convertir el diccionario de precios predichos a un DataFrame\n",
    "df_predicciones = pd.DataFrame(list(precios_predichos.items()), columns=['mes_año', 'precio_promedio'])\n",
    "\n",
    "# Dividir la columna mes_año en dos columnas separadas para mes y año\n",
    "df_predicciones[['mes', 'año']] = pd.DataFrame(df_predicciones['mes_año'].tolist(), index=df_predicciones.index)\n",
    "\n",
    "# Eliminar la columna mes_año ahora que ya está dividida\n",
    "df_predicciones.drop(columns=['mes_año'], inplace=True)\n",
    "\n",
    "# Ordenar el DataFrame por año y mes\n",
    "df_predicciones.sort_values(by=['año', 'mes'], inplace=True)\n",
    "\n",
    "# Reiniciar el índice del DataFrame\n",
    "df_predicciones.reset_index(drop=True, inplace=True)\n",
    "\n",
    "# Mostrar el DataFrame resultante\n",
    "print(df_predicciones)\n"
   ]
  },
  {
   "cell_type": "code",
   "execution_count": null,
   "metadata": {},
   "outputs": [],
   "source": []
  },
  {
   "cell_type": "code",
   "execution_count": 67,
   "metadata": {},
   "outputs": [
    {
     "data": {
      "text/html": [
       "<div>\n",
       "<style scoped>\n",
       "    .dataframe tbody tr th:only-of-type {\n",
       "        vertical-align: middle;\n",
       "    }\n",
       "\n",
       "    .dataframe tbody tr th {\n",
       "        vertical-align: top;\n",
       "    }\n",
       "\n",
       "    .dataframe thead th {\n",
       "        text-align: right;\n",
       "    }\n",
       "</style>\n",
       "<table border=\"1\" class=\"dataframe\">\n",
       "  <thead>\n",
       "    <tr style=\"text-align: right;\">\n",
       "      <th></th>\n",
       "      <th>año</th>\n",
       "      <th>precio_promedio</th>\n",
       "    </tr>\n",
       "  </thead>\n",
       "  <tbody>\n",
       "    <tr>\n",
       "      <th>0</th>\n",
       "      <td>2022</td>\n",
       "      <td>1.204362e+06</td>\n",
       "    </tr>\n",
       "    <tr>\n",
       "      <th>1</th>\n",
       "      <td>2023</td>\n",
       "      <td>1.200000e+06</td>\n",
       "    </tr>\n",
       "    <tr>\n",
       "      <th>2</th>\n",
       "      <td>2024</td>\n",
       "      <td>1.214194e+06</td>\n",
       "    </tr>\n",
       "    <tr>\n",
       "      <th>3</th>\n",
       "      <td>2025</td>\n",
       "      <td>1.214194e+06</td>\n",
       "    </tr>\n",
       "    <tr>\n",
       "      <th>4</th>\n",
       "      <td>2026</td>\n",
       "      <td>1.214194e+06</td>\n",
       "    </tr>\n",
       "  </tbody>\n",
       "</table>\n",
       "</div>"
      ],
      "text/plain": [
       "    año  precio_promedio\n",
       "0  2022     1.204362e+06\n",
       "1  2023     1.200000e+06\n",
       "2  2024     1.214194e+06\n",
       "3  2025     1.214194e+06\n",
       "4  2026     1.214194e+06"
      ]
     },
     "execution_count": 67,
     "metadata": {},
     "output_type": "execute_result"
    }
   ],
   "source": [
    "tulancingo_predicciones = tulancingo_completo_predicciones.groupby('año')['precio_promedio'].median().reset_index()\n",
    "tulancingo_predicciones.rename(columns={'precio_promedio': 'precio_promedio'}, inplace=True)\n",
    "tulancingo_predicciones"
   ]
  },
  {
   "cell_type": "code",
   "execution_count": 36,
   "metadata": {},
   "outputs": [],
   "source": [
    "# Calcula el porcentaje de cambio mensual promedio para cada mes\n",
    "porcentaje_cambio_mensual_promedio = tulancingo_months.groupby('mes')['precio_promedio'].pct_change().mean()\n"
   ]
  },
  {
   "cell_type": "code",
   "execution_count": 37,
   "metadata": {},
   "outputs": [],
   "source": [
    "# Calcula los precios promedio predichos para los años siguientes (2024, 2025, 2026) ajustando los precios según el porcentaje de cambio mensual promedio\n",
    "predicciones = []\n",
    "for año_prediccion in [2024, 2025, 2026]:\n",
    "    precio_predicho = ultimo_precio_conocido\n",
    "    for _ in range(12):  # Para cada mes en el año\n",
    "        precio_predicho *= (1 + porcentaje_cambio_mensual_promedio)\n",
    "    predicciones.append((año_prediccion, precio_predicho))\n"
   ]
  },
  {
   "cell_type": "code",
   "execution_count": 44,
   "metadata": {},
   "outputs": [
    {
     "data": {
      "application/vnd.plotly.v1+json": {
       "config": {
        "plotlyServerURL": "https://plot.ly"
       },
       "data": [
        {
         "name": "Observado y Predicho",
         "type": "bar",
         "x": [
          0,
          1,
          2024,
          2025,
          2026
         ],
         "y": [
          1269716.6666666667,
          1219867.5,
          196309.03959820129,
          196309.03959820129,
          196309.03959820129
         ]
        }
       ],
       "layout": {
        "template": {
         "data": {
          "bar": [
           {
            "error_x": {
             "color": "#2a3f5f"
            },
            "error_y": {
             "color": "#2a3f5f"
            },
            "marker": {
             "line": {
              "color": "#E5ECF6",
              "width": 0.5
             },
             "pattern": {
              "fillmode": "overlay",
              "size": 10,
              "solidity": 0.2
             }
            },
            "type": "bar"
           }
          ],
          "barpolar": [
           {
            "marker": {
             "line": {
              "color": "#E5ECF6",
              "width": 0.5
             },
             "pattern": {
              "fillmode": "overlay",
              "size": 10,
              "solidity": 0.2
             }
            },
            "type": "barpolar"
           }
          ],
          "carpet": [
           {
            "aaxis": {
             "endlinecolor": "#2a3f5f",
             "gridcolor": "white",
             "linecolor": "white",
             "minorgridcolor": "white",
             "startlinecolor": "#2a3f5f"
            },
            "baxis": {
             "endlinecolor": "#2a3f5f",
             "gridcolor": "white",
             "linecolor": "white",
             "minorgridcolor": "white",
             "startlinecolor": "#2a3f5f"
            },
            "type": "carpet"
           }
          ],
          "choropleth": [
           {
            "colorbar": {
             "outlinewidth": 0,
             "ticks": ""
            },
            "type": "choropleth"
           }
          ],
          "contour": [
           {
            "colorbar": {
             "outlinewidth": 0,
             "ticks": ""
            },
            "colorscale": [
             [
              0,
              "#0d0887"
             ],
             [
              0.1111111111111111,
              "#46039f"
             ],
             [
              0.2222222222222222,
              "#7201a8"
             ],
             [
              0.3333333333333333,
              "#9c179e"
             ],
             [
              0.4444444444444444,
              "#bd3786"
             ],
             [
              0.5555555555555556,
              "#d8576b"
             ],
             [
              0.6666666666666666,
              "#ed7953"
             ],
             [
              0.7777777777777778,
              "#fb9f3a"
             ],
             [
              0.8888888888888888,
              "#fdca26"
             ],
             [
              1,
              "#f0f921"
             ]
            ],
            "type": "contour"
           }
          ],
          "contourcarpet": [
           {
            "colorbar": {
             "outlinewidth": 0,
             "ticks": ""
            },
            "type": "contourcarpet"
           }
          ],
          "heatmap": [
           {
            "colorbar": {
             "outlinewidth": 0,
             "ticks": ""
            },
            "colorscale": [
             [
              0,
              "#0d0887"
             ],
             [
              0.1111111111111111,
              "#46039f"
             ],
             [
              0.2222222222222222,
              "#7201a8"
             ],
             [
              0.3333333333333333,
              "#9c179e"
             ],
             [
              0.4444444444444444,
              "#bd3786"
             ],
             [
              0.5555555555555556,
              "#d8576b"
             ],
             [
              0.6666666666666666,
              "#ed7953"
             ],
             [
              0.7777777777777778,
              "#fb9f3a"
             ],
             [
              0.8888888888888888,
              "#fdca26"
             ],
             [
              1,
              "#f0f921"
             ]
            ],
            "type": "heatmap"
           }
          ],
          "heatmapgl": [
           {
            "colorbar": {
             "outlinewidth": 0,
             "ticks": ""
            },
            "colorscale": [
             [
              0,
              "#0d0887"
             ],
             [
              0.1111111111111111,
              "#46039f"
             ],
             [
              0.2222222222222222,
              "#7201a8"
             ],
             [
              0.3333333333333333,
              "#9c179e"
             ],
             [
              0.4444444444444444,
              "#bd3786"
             ],
             [
              0.5555555555555556,
              "#d8576b"
             ],
             [
              0.6666666666666666,
              "#ed7953"
             ],
             [
              0.7777777777777778,
              "#fb9f3a"
             ],
             [
              0.8888888888888888,
              "#fdca26"
             ],
             [
              1,
              "#f0f921"
             ]
            ],
            "type": "heatmapgl"
           }
          ],
          "histogram": [
           {
            "marker": {
             "pattern": {
              "fillmode": "overlay",
              "size": 10,
              "solidity": 0.2
             }
            },
            "type": "histogram"
           }
          ],
          "histogram2d": [
           {
            "colorbar": {
             "outlinewidth": 0,
             "ticks": ""
            },
            "colorscale": [
             [
              0,
              "#0d0887"
             ],
             [
              0.1111111111111111,
              "#46039f"
             ],
             [
              0.2222222222222222,
              "#7201a8"
             ],
             [
              0.3333333333333333,
              "#9c179e"
             ],
             [
              0.4444444444444444,
              "#bd3786"
             ],
             [
              0.5555555555555556,
              "#d8576b"
             ],
             [
              0.6666666666666666,
              "#ed7953"
             ],
             [
              0.7777777777777778,
              "#fb9f3a"
             ],
             [
              0.8888888888888888,
              "#fdca26"
             ],
             [
              1,
              "#f0f921"
             ]
            ],
            "type": "histogram2d"
           }
          ],
          "histogram2dcontour": [
           {
            "colorbar": {
             "outlinewidth": 0,
             "ticks": ""
            },
            "colorscale": [
             [
              0,
              "#0d0887"
             ],
             [
              0.1111111111111111,
              "#46039f"
             ],
             [
              0.2222222222222222,
              "#7201a8"
             ],
             [
              0.3333333333333333,
              "#9c179e"
             ],
             [
              0.4444444444444444,
              "#bd3786"
             ],
             [
              0.5555555555555556,
              "#d8576b"
             ],
             [
              0.6666666666666666,
              "#ed7953"
             ],
             [
              0.7777777777777778,
              "#fb9f3a"
             ],
             [
              0.8888888888888888,
              "#fdca26"
             ],
             [
              1,
              "#f0f921"
             ]
            ],
            "type": "histogram2dcontour"
           }
          ],
          "mesh3d": [
           {
            "colorbar": {
             "outlinewidth": 0,
             "ticks": ""
            },
            "type": "mesh3d"
           }
          ],
          "parcoords": [
           {
            "line": {
             "colorbar": {
              "outlinewidth": 0,
              "ticks": ""
             }
            },
            "type": "parcoords"
           }
          ],
          "pie": [
           {
            "automargin": true,
            "type": "pie"
           }
          ],
          "scatter": [
           {
            "fillpattern": {
             "fillmode": "overlay",
             "size": 10,
             "solidity": 0.2
            },
            "type": "scatter"
           }
          ],
          "scatter3d": [
           {
            "line": {
             "colorbar": {
              "outlinewidth": 0,
              "ticks": ""
             }
            },
            "marker": {
             "colorbar": {
              "outlinewidth": 0,
              "ticks": ""
             }
            },
            "type": "scatter3d"
           }
          ],
          "scattercarpet": [
           {
            "marker": {
             "colorbar": {
              "outlinewidth": 0,
              "ticks": ""
             }
            },
            "type": "scattercarpet"
           }
          ],
          "scattergeo": [
           {
            "marker": {
             "colorbar": {
              "outlinewidth": 0,
              "ticks": ""
             }
            },
            "type": "scattergeo"
           }
          ],
          "scattergl": [
           {
            "marker": {
             "colorbar": {
              "outlinewidth": 0,
              "ticks": ""
             }
            },
            "type": "scattergl"
           }
          ],
          "scattermapbox": [
           {
            "marker": {
             "colorbar": {
              "outlinewidth": 0,
              "ticks": ""
             }
            },
            "type": "scattermapbox"
           }
          ],
          "scatterpolar": [
           {
            "marker": {
             "colorbar": {
              "outlinewidth": 0,
              "ticks": ""
             }
            },
            "type": "scatterpolar"
           }
          ],
          "scatterpolargl": [
           {
            "marker": {
             "colorbar": {
              "outlinewidth": 0,
              "ticks": ""
             }
            },
            "type": "scatterpolargl"
           }
          ],
          "scatterternary": [
           {
            "marker": {
             "colorbar": {
              "outlinewidth": 0,
              "ticks": ""
             }
            },
            "type": "scatterternary"
           }
          ],
          "surface": [
           {
            "colorbar": {
             "outlinewidth": 0,
             "ticks": ""
            },
            "colorscale": [
             [
              0,
              "#0d0887"
             ],
             [
              0.1111111111111111,
              "#46039f"
             ],
             [
              0.2222222222222222,
              "#7201a8"
             ],
             [
              0.3333333333333333,
              "#9c179e"
             ],
             [
              0.4444444444444444,
              "#bd3786"
             ],
             [
              0.5555555555555556,
              "#d8576b"
             ],
             [
              0.6666666666666666,
              "#ed7953"
             ],
             [
              0.7777777777777778,
              "#fb9f3a"
             ],
             [
              0.8888888888888888,
              "#fdca26"
             ],
             [
              1,
              "#f0f921"
             ]
            ],
            "type": "surface"
           }
          ],
          "table": [
           {
            "cells": {
             "fill": {
              "color": "#EBF0F8"
             },
             "line": {
              "color": "white"
             }
            },
            "header": {
             "fill": {
              "color": "#C8D4E3"
             },
             "line": {
              "color": "white"
             }
            },
            "type": "table"
           }
          ]
         },
         "layout": {
          "annotationdefaults": {
           "arrowcolor": "#2a3f5f",
           "arrowhead": 0,
           "arrowwidth": 1
          },
          "autotypenumbers": "strict",
          "coloraxis": {
           "colorbar": {
            "outlinewidth": 0,
            "ticks": ""
           }
          },
          "colorscale": {
           "diverging": [
            [
             0,
             "#8e0152"
            ],
            [
             0.1,
             "#c51b7d"
            ],
            [
             0.2,
             "#de77ae"
            ],
            [
             0.3,
             "#f1b6da"
            ],
            [
             0.4,
             "#fde0ef"
            ],
            [
             0.5,
             "#f7f7f7"
            ],
            [
             0.6,
             "#e6f5d0"
            ],
            [
             0.7,
             "#b8e186"
            ],
            [
             0.8,
             "#7fbc41"
            ],
            [
             0.9,
             "#4d9221"
            ],
            [
             1,
             "#276419"
            ]
           ],
           "sequential": [
            [
             0,
             "#0d0887"
            ],
            [
             0.1111111111111111,
             "#46039f"
            ],
            [
             0.2222222222222222,
             "#7201a8"
            ],
            [
             0.3333333333333333,
             "#9c179e"
            ],
            [
             0.4444444444444444,
             "#bd3786"
            ],
            [
             0.5555555555555556,
             "#d8576b"
            ],
            [
             0.6666666666666666,
             "#ed7953"
            ],
            [
             0.7777777777777778,
             "#fb9f3a"
            ],
            [
             0.8888888888888888,
             "#fdca26"
            ],
            [
             1,
             "#f0f921"
            ]
           ],
           "sequentialminus": [
            [
             0,
             "#0d0887"
            ],
            [
             0.1111111111111111,
             "#46039f"
            ],
            [
             0.2222222222222222,
             "#7201a8"
            ],
            [
             0.3333333333333333,
             "#9c179e"
            ],
            [
             0.4444444444444444,
             "#bd3786"
            ],
            [
             0.5555555555555556,
             "#d8576b"
            ],
            [
             0.6666666666666666,
             "#ed7953"
            ],
            [
             0.7777777777777778,
             "#fb9f3a"
            ],
            [
             0.8888888888888888,
             "#fdca26"
            ],
            [
             1,
             "#f0f921"
            ]
           ]
          },
          "colorway": [
           "#636efa",
           "#EF553B",
           "#00cc96",
           "#ab63fa",
           "#FFA15A",
           "#19d3f3",
           "#FF6692",
           "#B6E880",
           "#FF97FF",
           "#FECB52"
          ],
          "font": {
           "color": "#2a3f5f"
          },
          "geo": {
           "bgcolor": "white",
           "lakecolor": "white",
           "landcolor": "#E5ECF6",
           "showlakes": true,
           "showland": true,
           "subunitcolor": "white"
          },
          "hoverlabel": {
           "align": "left"
          },
          "hovermode": "closest",
          "mapbox": {
           "style": "light"
          },
          "paper_bgcolor": "white",
          "plot_bgcolor": "#E5ECF6",
          "polar": {
           "angularaxis": {
            "gridcolor": "white",
            "linecolor": "white",
            "ticks": ""
           },
           "bgcolor": "#E5ECF6",
           "radialaxis": {
            "gridcolor": "white",
            "linecolor": "white",
            "ticks": ""
           }
          },
          "scene": {
           "xaxis": {
            "backgroundcolor": "#E5ECF6",
            "gridcolor": "white",
            "gridwidth": 2,
            "linecolor": "white",
            "showbackground": true,
            "ticks": "",
            "zerolinecolor": "white"
           },
           "yaxis": {
            "backgroundcolor": "#E5ECF6",
            "gridcolor": "white",
            "gridwidth": 2,
            "linecolor": "white",
            "showbackground": true,
            "ticks": "",
            "zerolinecolor": "white"
           },
           "zaxis": {
            "backgroundcolor": "#E5ECF6",
            "gridcolor": "white",
            "gridwidth": 2,
            "linecolor": "white",
            "showbackground": true,
            "ticks": "",
            "zerolinecolor": "white"
           }
          },
          "shapedefaults": {
           "line": {
            "color": "#2a3f5f"
           }
          },
          "ternary": {
           "aaxis": {
            "gridcolor": "white",
            "linecolor": "white",
            "ticks": ""
           },
           "baxis": {
            "gridcolor": "white",
            "linecolor": "white",
            "ticks": ""
           },
           "bgcolor": "#E5ECF6",
           "caxis": {
            "gridcolor": "white",
            "linecolor": "white",
            "ticks": ""
           }
          },
          "title": {
           "x": 0.05
          },
          "xaxis": {
           "automargin": true,
           "gridcolor": "white",
           "linecolor": "white",
           "ticks": "",
           "title": {
            "standoff": 15
           },
           "zerolinecolor": "white",
           "zerolinewidth": 2
          },
          "yaxis": {
           "automargin": true,
           "gridcolor": "white",
           "linecolor": "white",
           "ticks": "",
           "title": {
            "standoff": 15
           },
           "zerolinecolor": "white",
           "zerolinewidth": 2
          }
         }
        }
       }
      }
     },
     "metadata": {},
     "output_type": "display_data"
    }
   ],
   "source": [
    "\n",
    "# Crea un DataFrame a partir de las predicciones\n",
    "predicciones_df = pd.DataFrame(predicciones, columns=['año', 'precio_promedio'])\n",
    "\n",
    "# Concatena los valores observados y predichos en un solo DataFrame\n",
    "valores_grafica = pd.concat([precio_media_anual_tulancingo_pred, predicciones_df.set_index('año')], axis=0)\n",
    "\n",
    "# Crea una figura de barras\n",
    "fig = go.Figure()\n",
    "\n",
    "# Agrega la serie observada\n",
    "fig.add_trace(go.Bar(\n",
    "    x=valores_grafica.index,\n",
    "    y=valores_grafica['precio_promedio'],\n",
    "    name='Observado y Predicho'\n",
    "))"
   ]
  },
  {
   "cell_type": "markdown",
   "metadata": {},
   "source": []
  },
  {
   "cell_type": "code",
   "execution_count": null,
   "metadata": {},
   "outputs": [
    {
     "data": {
      "text/html": [
       "<div>\n",
       "<style scoped>\n",
       "    .dataframe tbody tr th:only-of-type {\n",
       "        vertical-align: middle;\n",
       "    }\n",
       "\n",
       "    .dataframe tbody tr th {\n",
       "        vertical-align: top;\n",
       "    }\n",
       "\n",
       "    .dataframe thead th {\n",
       "        text-align: right;\n",
       "    }\n",
       "</style>\n",
       "<table border=\"1\" class=\"dataframe\">\n",
       "  <thead>\n",
       "    <tr style=\"text-align: right;\">\n",
       "      <th></th>\n",
       "      <th>porcentage</th>\n",
       "      <th>year_month</th>\n",
       "    </tr>\n",
       "  </thead>\n",
       "  <tbody>\n",
       "    <tr>\n",
       "      <th>0</th>\n",
       "      <td>-13</td>\n",
       "      <td>2022,11</td>\n",
       "    </tr>\n",
       "    <tr>\n",
       "      <th>1</th>\n",
       "      <td>15</td>\n",
       "      <td>2023,2</td>\n",
       "    </tr>\n",
       "    <tr>\n",
       "      <th>2</th>\n",
       "      <td>-12</td>\n",
       "      <td>2023,3</td>\n",
       "    </tr>\n",
       "    <tr>\n",
       "      <th>3</th>\n",
       "      <td>12</td>\n",
       "      <td>2023,6</td>\n",
       "    </tr>\n",
       "    <tr>\n",
       "      <th>4</th>\n",
       "      <td>-2</td>\n",
       "      <td>2023,7</td>\n",
       "    </tr>\n",
       "    <tr>\n",
       "      <th>5</th>\n",
       "      <td>2</td>\n",
       "      <td>2023,9</td>\n",
       "    </tr>\n",
       "    <tr>\n",
       "      <th>6</th>\n",
       "      <td>-15</td>\n",
       "      <td>2023,12</td>\n",
       "    </tr>\n",
       "  </tbody>\n",
       "</table>\n",
       "</div>"
      ],
      "text/plain": [
       "   porcentage year_month\n",
       "0         -13    2022,11\n",
       "1          15     2023,2\n",
       "2         -12     2023,3\n",
       "3          12     2023,6\n",
       "4          -2     2023,7\n",
       "5           2     2023,9\n",
       "6         -15    2023,12"
      ]
     },
     "metadata": {},
     "output_type": "display_data"
    }
   ],
   "source": []
  },
  {
   "cell_type": "code",
   "execution_count": null,
   "metadata": {},
   "outputs": [
    {
     "data": {
      "application/vnd.plotly.v1+json": {
       "config": {
        "plotlyServerURL": "https://plot.ly"
       },
       "data": [
        {
         "base": 0,
         "hoverinfo": "none",
         "marker": {
          "color": [
           "#3d45c0",
           "#ff4853",
           "#ffb038",
           "#7cc668",
           "#67c2df",
           "#6773df",
           "#939fad"
          ]
         },
         "text": [
          -13,
          15,
          -12,
          12,
          -2,
          2,
          -15
         ],
         "textposition": "inside",
         "texttemplate": "%{text}%",
         "type": "bar",
         "x": [
          "2022,11",
          "2023,2",
          "2023,3",
          "2023,6",
          "2023,7",
          "2023,9",
          "2023,12"
         ],
         "y": [
          -13,
          15,
          -12,
          12,
          -2,
          2,
          -15
         ]
        }
       ],
       "layout": {
        "plot_bgcolor": "rgba(0,0,0,0)",
        "template": {
         "data": {
          "bar": [
           {
            "error_x": {
             "color": "#2a3f5f"
            },
            "error_y": {
             "color": "#2a3f5f"
            },
            "marker": {
             "line": {
              "color": "#E5ECF6",
              "width": 0.5
             },
             "pattern": {
              "fillmode": "overlay",
              "size": 10,
              "solidity": 0.2
             }
            },
            "type": "bar"
           }
          ],
          "barpolar": [
           {
            "marker": {
             "line": {
              "color": "#E5ECF6",
              "width": 0.5
             },
             "pattern": {
              "fillmode": "overlay",
              "size": 10,
              "solidity": 0.2
             }
            },
            "type": "barpolar"
           }
          ],
          "carpet": [
           {
            "aaxis": {
             "endlinecolor": "#2a3f5f",
             "gridcolor": "white",
             "linecolor": "white",
             "minorgridcolor": "white",
             "startlinecolor": "#2a3f5f"
            },
            "baxis": {
             "endlinecolor": "#2a3f5f",
             "gridcolor": "white",
             "linecolor": "white",
             "minorgridcolor": "white",
             "startlinecolor": "#2a3f5f"
            },
            "type": "carpet"
           }
          ],
          "choropleth": [
           {
            "colorbar": {
             "outlinewidth": 0,
             "ticks": ""
            },
            "type": "choropleth"
           }
          ],
          "contour": [
           {
            "colorbar": {
             "outlinewidth": 0,
             "ticks": ""
            },
            "colorscale": [
             [
              0,
              "#0d0887"
             ],
             [
              0.1111111111111111,
              "#46039f"
             ],
             [
              0.2222222222222222,
              "#7201a8"
             ],
             [
              0.3333333333333333,
              "#9c179e"
             ],
             [
              0.4444444444444444,
              "#bd3786"
             ],
             [
              0.5555555555555556,
              "#d8576b"
             ],
             [
              0.6666666666666666,
              "#ed7953"
             ],
             [
              0.7777777777777778,
              "#fb9f3a"
             ],
             [
              0.8888888888888888,
              "#fdca26"
             ],
             [
              1,
              "#f0f921"
             ]
            ],
            "type": "contour"
           }
          ],
          "contourcarpet": [
           {
            "colorbar": {
             "outlinewidth": 0,
             "ticks": ""
            },
            "type": "contourcarpet"
           }
          ],
          "heatmap": [
           {
            "colorbar": {
             "outlinewidth": 0,
             "ticks": ""
            },
            "colorscale": [
             [
              0,
              "#0d0887"
             ],
             [
              0.1111111111111111,
              "#46039f"
             ],
             [
              0.2222222222222222,
              "#7201a8"
             ],
             [
              0.3333333333333333,
              "#9c179e"
             ],
             [
              0.4444444444444444,
              "#bd3786"
             ],
             [
              0.5555555555555556,
              "#d8576b"
             ],
             [
              0.6666666666666666,
              "#ed7953"
             ],
             [
              0.7777777777777778,
              "#fb9f3a"
             ],
             [
              0.8888888888888888,
              "#fdca26"
             ],
             [
              1,
              "#f0f921"
             ]
            ],
            "type": "heatmap"
           }
          ],
          "heatmapgl": [
           {
            "colorbar": {
             "outlinewidth": 0,
             "ticks": ""
            },
            "colorscale": [
             [
              0,
              "#0d0887"
             ],
             [
              0.1111111111111111,
              "#46039f"
             ],
             [
              0.2222222222222222,
              "#7201a8"
             ],
             [
              0.3333333333333333,
              "#9c179e"
             ],
             [
              0.4444444444444444,
              "#bd3786"
             ],
             [
              0.5555555555555556,
              "#d8576b"
             ],
             [
              0.6666666666666666,
              "#ed7953"
             ],
             [
              0.7777777777777778,
              "#fb9f3a"
             ],
             [
              0.8888888888888888,
              "#fdca26"
             ],
             [
              1,
              "#f0f921"
             ]
            ],
            "type": "heatmapgl"
           }
          ],
          "histogram": [
           {
            "marker": {
             "pattern": {
              "fillmode": "overlay",
              "size": 10,
              "solidity": 0.2
             }
            },
            "type": "histogram"
           }
          ],
          "histogram2d": [
           {
            "colorbar": {
             "outlinewidth": 0,
             "ticks": ""
            },
            "colorscale": [
             [
              0,
              "#0d0887"
             ],
             [
              0.1111111111111111,
              "#46039f"
             ],
             [
              0.2222222222222222,
              "#7201a8"
             ],
             [
              0.3333333333333333,
              "#9c179e"
             ],
             [
              0.4444444444444444,
              "#bd3786"
             ],
             [
              0.5555555555555556,
              "#d8576b"
             ],
             [
              0.6666666666666666,
              "#ed7953"
             ],
             [
              0.7777777777777778,
              "#fb9f3a"
             ],
             [
              0.8888888888888888,
              "#fdca26"
             ],
             [
              1,
              "#f0f921"
             ]
            ],
            "type": "histogram2d"
           }
          ],
          "histogram2dcontour": [
           {
            "colorbar": {
             "outlinewidth": 0,
             "ticks": ""
            },
            "colorscale": [
             [
              0,
              "#0d0887"
             ],
             [
              0.1111111111111111,
              "#46039f"
             ],
             [
              0.2222222222222222,
              "#7201a8"
             ],
             [
              0.3333333333333333,
              "#9c179e"
             ],
             [
              0.4444444444444444,
              "#bd3786"
             ],
             [
              0.5555555555555556,
              "#d8576b"
             ],
             [
              0.6666666666666666,
              "#ed7953"
             ],
             [
              0.7777777777777778,
              "#fb9f3a"
             ],
             [
              0.8888888888888888,
              "#fdca26"
             ],
             [
              1,
              "#f0f921"
             ]
            ],
            "type": "histogram2dcontour"
           }
          ],
          "mesh3d": [
           {
            "colorbar": {
             "outlinewidth": 0,
             "ticks": ""
            },
            "type": "mesh3d"
           }
          ],
          "parcoords": [
           {
            "line": {
             "colorbar": {
              "outlinewidth": 0,
              "ticks": ""
             }
            },
            "type": "parcoords"
           }
          ],
          "pie": [
           {
            "automargin": true,
            "type": "pie"
           }
          ],
          "scatter": [
           {
            "fillpattern": {
             "fillmode": "overlay",
             "size": 10,
             "solidity": 0.2
            },
            "type": "scatter"
           }
          ],
          "scatter3d": [
           {
            "line": {
             "colorbar": {
              "outlinewidth": 0,
              "ticks": ""
             }
            },
            "marker": {
             "colorbar": {
              "outlinewidth": 0,
              "ticks": ""
             }
            },
            "type": "scatter3d"
           }
          ],
          "scattercarpet": [
           {
            "marker": {
             "colorbar": {
              "outlinewidth": 0,
              "ticks": ""
             }
            },
            "type": "scattercarpet"
           }
          ],
          "scattergeo": [
           {
            "marker": {
             "colorbar": {
              "outlinewidth": 0,
              "ticks": ""
             }
            },
            "type": "scattergeo"
           }
          ],
          "scattergl": [
           {
            "marker": {
             "colorbar": {
              "outlinewidth": 0,
              "ticks": ""
             }
            },
            "type": "scattergl"
           }
          ],
          "scattermapbox": [
           {
            "marker": {
             "colorbar": {
              "outlinewidth": 0,
              "ticks": ""
             }
            },
            "type": "scattermapbox"
           }
          ],
          "scatterpolar": [
           {
            "marker": {
             "colorbar": {
              "outlinewidth": 0,
              "ticks": ""
             }
            },
            "type": "scatterpolar"
           }
          ],
          "scatterpolargl": [
           {
            "marker": {
             "colorbar": {
              "outlinewidth": 0,
              "ticks": ""
             }
            },
            "type": "scatterpolargl"
           }
          ],
          "scatterternary": [
           {
            "marker": {
             "colorbar": {
              "outlinewidth": 0,
              "ticks": ""
             }
            },
            "type": "scatterternary"
           }
          ],
          "surface": [
           {
            "colorbar": {
             "outlinewidth": 0,
             "ticks": ""
            },
            "colorscale": [
             [
              0,
              "#0d0887"
             ],
             [
              0.1111111111111111,
              "#46039f"
             ],
             [
              0.2222222222222222,
              "#7201a8"
             ],
             [
              0.3333333333333333,
              "#9c179e"
             ],
             [
              0.4444444444444444,
              "#bd3786"
             ],
             [
              0.5555555555555556,
              "#d8576b"
             ],
             [
              0.6666666666666666,
              "#ed7953"
             ],
             [
              0.7777777777777778,
              "#fb9f3a"
             ],
             [
              0.8888888888888888,
              "#fdca26"
             ],
             [
              1,
              "#f0f921"
             ]
            ],
            "type": "surface"
           }
          ],
          "table": [
           {
            "cells": {
             "fill": {
              "color": "#EBF0F8"
             },
             "line": {
              "color": "white"
             }
            },
            "header": {
             "fill": {
              "color": "#C8D4E3"
             },
             "line": {
              "color": "white"
             }
            },
            "type": "table"
           }
          ]
         },
         "layout": {
          "annotationdefaults": {
           "arrowcolor": "#2a3f5f",
           "arrowhead": 0,
           "arrowwidth": 1
          },
          "autotypenumbers": "strict",
          "coloraxis": {
           "colorbar": {
            "outlinewidth": 0,
            "ticks": ""
           }
          },
          "colorscale": {
           "diverging": [
            [
             0,
             "#8e0152"
            ],
            [
             0.1,
             "#c51b7d"
            ],
            [
             0.2,
             "#de77ae"
            ],
            [
             0.3,
             "#f1b6da"
            ],
            [
             0.4,
             "#fde0ef"
            ],
            [
             0.5,
             "#f7f7f7"
            ],
            [
             0.6,
             "#e6f5d0"
            ],
            [
             0.7,
             "#b8e186"
            ],
            [
             0.8,
             "#7fbc41"
            ],
            [
             0.9,
             "#4d9221"
            ],
            [
             1,
             "#276419"
            ]
           ],
           "sequential": [
            [
             0,
             "#0d0887"
            ],
            [
             0.1111111111111111,
             "#46039f"
            ],
            [
             0.2222222222222222,
             "#7201a8"
            ],
            [
             0.3333333333333333,
             "#9c179e"
            ],
            [
             0.4444444444444444,
             "#bd3786"
            ],
            [
             0.5555555555555556,
             "#d8576b"
            ],
            [
             0.6666666666666666,
             "#ed7953"
            ],
            [
             0.7777777777777778,
             "#fb9f3a"
            ],
            [
             0.8888888888888888,
             "#fdca26"
            ],
            [
             1,
             "#f0f921"
            ]
           ],
           "sequentialminus": [
            [
             0,
             "#0d0887"
            ],
            [
             0.1111111111111111,
             "#46039f"
            ],
            [
             0.2222222222222222,
             "#7201a8"
            ],
            [
             0.3333333333333333,
             "#9c179e"
            ],
            [
             0.4444444444444444,
             "#bd3786"
            ],
            [
             0.5555555555555556,
             "#d8576b"
            ],
            [
             0.6666666666666666,
             "#ed7953"
            ],
            [
             0.7777777777777778,
             "#fb9f3a"
            ],
            [
             0.8888888888888888,
             "#fdca26"
            ],
            [
             1,
             "#f0f921"
            ]
           ]
          },
          "colorway": [
           "#636efa",
           "#EF553B",
           "#00cc96",
           "#ab63fa",
           "#FFA15A",
           "#19d3f3",
           "#FF6692",
           "#B6E880",
           "#FF97FF",
           "#FECB52"
          ],
          "font": {
           "color": "#2a3f5f"
          },
          "geo": {
           "bgcolor": "white",
           "lakecolor": "white",
           "landcolor": "#E5ECF6",
           "showlakes": true,
           "showland": true,
           "subunitcolor": "white"
          },
          "hoverlabel": {
           "align": "left"
          },
          "hovermode": "closest",
          "mapbox": {
           "style": "light"
          },
          "paper_bgcolor": "white",
          "plot_bgcolor": "#E5ECF6",
          "polar": {
           "angularaxis": {
            "gridcolor": "white",
            "linecolor": "white",
            "ticks": ""
           },
           "bgcolor": "#E5ECF6",
           "radialaxis": {
            "gridcolor": "white",
            "linecolor": "white",
            "ticks": ""
           }
          },
          "scene": {
           "xaxis": {
            "backgroundcolor": "#E5ECF6",
            "gridcolor": "white",
            "gridwidth": 2,
            "linecolor": "white",
            "showbackground": true,
            "ticks": "",
            "zerolinecolor": "white"
           },
           "yaxis": {
            "backgroundcolor": "#E5ECF6",
            "gridcolor": "white",
            "gridwidth": 2,
            "linecolor": "white",
            "showbackground": true,
            "ticks": "",
            "zerolinecolor": "white"
           },
           "zaxis": {
            "backgroundcolor": "#E5ECF6",
            "gridcolor": "white",
            "gridwidth": 2,
            "linecolor": "white",
            "showbackground": true,
            "ticks": "",
            "zerolinecolor": "white"
           }
          },
          "shapedefaults": {
           "line": {
            "color": "#2a3f5f"
           }
          },
          "ternary": {
           "aaxis": {
            "gridcolor": "white",
            "linecolor": "white",
            "ticks": ""
           },
           "baxis": {
            "gridcolor": "white",
            "linecolor": "white",
            "ticks": ""
           },
           "bgcolor": "#E5ECF6",
           "caxis": {
            "gridcolor": "white",
            "linecolor": "white",
            "ticks": ""
           }
          },
          "title": {
           "x": 0.05
          },
          "xaxis": {
           "automargin": true,
           "gridcolor": "white",
           "linecolor": "white",
           "ticks": "",
           "title": {
            "standoff": 15
           },
           "zerolinecolor": "white",
           "zerolinewidth": 2
          },
          "yaxis": {
           "automargin": true,
           "gridcolor": "white",
           "linecolor": "white",
           "ticks": "",
           "title": {
            "standoff": 15
           },
           "zerolinecolor": "white",
           "zerolinewidth": 2
          }
         }
        },
        "title": {
         "text": "Variación Mensual de Precios en el Mercado Inmobiliario de Pachuca"
        },
        "xaxis": {
         "title": {
          "text": "Año-Mes"
         }
        },
        "yaxis": {
         "gridcolor": "#dddcda",
         "title": {
          "text": "%"
         }
        }
       }
      }
     },
     "metadata": {},
     "output_type": "display_data"
    }
   ],
   "source": []
  },
  {
   "cell_type": "markdown",
   "metadata": {},
   "source": [
    "### *DIRECTOS*"
   ]
  },
  {
   "cell_type": "code",
   "execution_count": 7,
   "metadata": {},
   "outputs": [
    {
     "data": {
      "text/html": [
       "<div>\n",
       "<style scoped>\n",
       "    .dataframe tbody tr th:only-of-type {\n",
       "        vertical-align: middle;\n",
       "    }\n",
       "\n",
       "    .dataframe tbody tr th {\n",
       "        vertical-align: top;\n",
       "    }\n",
       "\n",
       "    .dataframe thead th {\n",
       "        text-align: right;\n",
       "    }\n",
       "</style>\n",
       "<table border=\"1\" class=\"dataframe\">\n",
       "  <thead>\n",
       "    <tr style=\"text-align: right;\">\n",
       "      <th></th>\n",
       "      <th>año</th>\n",
       "      <th>conteo</th>\n",
       "    </tr>\n",
       "  </thead>\n",
       "  <tbody>\n",
       "    <tr>\n",
       "      <th>0</th>\n",
       "      <td>2023</td>\n",
       "      <td>1377000.00</td>\n",
       "    </tr>\n",
       "    <tr>\n",
       "      <th>1</th>\n",
       "      <td>2024</td>\n",
       "      <td>1441988.04</td>\n",
       "    </tr>\n",
       "    <tr>\n",
       "      <th>2</th>\n",
       "      <td>2025</td>\n",
       "      <td>1510043.21</td>\n",
       "    </tr>\n",
       "    <tr>\n",
       "      <th>3</th>\n",
       "      <td>2026</td>\n",
       "      <td>1581310.28</td>\n",
       "    </tr>\n",
       "    <tr>\n",
       "      <th>4</th>\n",
       "      <td>2027</td>\n",
       "      <td>1655940.82</td>\n",
       "    </tr>\n",
       "  </tbody>\n",
       "</table>\n",
       "</div>"
      ],
      "text/plain": [
       "    año      conteo\n",
       "0  2023  1377000.00\n",
       "1  2024  1441988.04\n",
       "2  2025  1510043.21\n",
       "3  2026  1581310.28\n",
       "4  2027  1655940.82"
      ]
     },
     "execution_count": 7,
     "metadata": {},
     "output_type": "execute_result"
    }
   ],
   "source": [
    "datos_directos_tulancingo = {\n",
    "    'año': [2023,\t2024,\t2025,\t2026,\t2027],\n",
    "    'conteo': [1377000.00,\t1441988.04,\t1510043.21,\t1581310.28,\t1655940.82]\n",
    "}\n",
    "precio_medianual_tulancingo_direct = pd.DataFrame(datos_directos_tulancingo)\n",
    "precio_medianual_tulancingo_direct"
   ]
  },
  {
   "cell_type": "code",
   "execution_count": 11,
   "metadata": {},
   "outputs": [
    {
     "data": {
      "application/vnd.plotly.v1+json": {
       "config": {
        "plotlyServerURL": "https://plot.ly"
       },
       "data": [
        {
         "marker": {
          "color": "blue"
         },
         "mode": "markers+lines",
         "type": "scatter",
         "x": [
          2023,
          2024,
          2025,
          2026,
          2027
         ],
         "y": [
          1377000,
          1441988.04,
          1510043.21,
          1581310.28,
          1655940.82
         ]
        }
       ],
       "layout": {
        "annotations": [
         {
          "font": {
           "color": "black",
           "size": 12
          },
          "showarrow": false,
          "text": "$1,377,000.00",
          "textangle": 0,
          "x": 2023,
          "xshift": 0,
          "y": 1377000,
          "yshift": 17
         },
         {
          "font": {
           "color": "black",
           "size": 12
          },
          "showarrow": false,
          "text": "$1,441,988.04",
          "textangle": 0,
          "x": 2024,
          "xshift": 0,
          "y": 1441988.04,
          "yshift": 17
         },
         {
          "font": {
           "color": "black",
           "size": 12
          },
          "showarrow": false,
          "text": "$1,510,043.21",
          "textangle": 0,
          "x": 2025,
          "xshift": 0,
          "y": 1510043.21,
          "yshift": 17
         },
         {
          "font": {
           "color": "black",
           "size": 12
          },
          "showarrow": false,
          "text": "$1,581,310.28",
          "textangle": 0,
          "x": 2026,
          "xshift": 0,
          "y": 1581310.28,
          "yshift": 17
         },
         {
          "font": {
           "color": "black",
           "size": 12
          },
          "showarrow": false,
          "text": "$1,655,940.82",
          "textangle": 0,
          "x": 2027,
          "xshift": 0,
          "y": 1655940.82,
          "yshift": 17
         }
        ],
        "plot_bgcolor": "rgba(0,0,0,0)",
        "template": {
         "data": {
          "bar": [
           {
            "error_x": {
             "color": "#2a3f5f"
            },
            "error_y": {
             "color": "#2a3f5f"
            },
            "marker": {
             "line": {
              "color": "#E5ECF6",
              "width": 0.5
             },
             "pattern": {
              "fillmode": "overlay",
              "size": 10,
              "solidity": 0.2
             }
            },
            "type": "bar"
           }
          ],
          "barpolar": [
           {
            "marker": {
             "line": {
              "color": "#E5ECF6",
              "width": 0.5
             },
             "pattern": {
              "fillmode": "overlay",
              "size": 10,
              "solidity": 0.2
             }
            },
            "type": "barpolar"
           }
          ],
          "carpet": [
           {
            "aaxis": {
             "endlinecolor": "#2a3f5f",
             "gridcolor": "white",
             "linecolor": "white",
             "minorgridcolor": "white",
             "startlinecolor": "#2a3f5f"
            },
            "baxis": {
             "endlinecolor": "#2a3f5f",
             "gridcolor": "white",
             "linecolor": "white",
             "minorgridcolor": "white",
             "startlinecolor": "#2a3f5f"
            },
            "type": "carpet"
           }
          ],
          "choropleth": [
           {
            "colorbar": {
             "outlinewidth": 0,
             "ticks": ""
            },
            "type": "choropleth"
           }
          ],
          "contour": [
           {
            "colorbar": {
             "outlinewidth": 0,
             "ticks": ""
            },
            "colorscale": [
             [
              0,
              "#0d0887"
             ],
             [
              0.1111111111111111,
              "#46039f"
             ],
             [
              0.2222222222222222,
              "#7201a8"
             ],
             [
              0.3333333333333333,
              "#9c179e"
             ],
             [
              0.4444444444444444,
              "#bd3786"
             ],
             [
              0.5555555555555556,
              "#d8576b"
             ],
             [
              0.6666666666666666,
              "#ed7953"
             ],
             [
              0.7777777777777778,
              "#fb9f3a"
             ],
             [
              0.8888888888888888,
              "#fdca26"
             ],
             [
              1,
              "#f0f921"
             ]
            ],
            "type": "contour"
           }
          ],
          "contourcarpet": [
           {
            "colorbar": {
             "outlinewidth": 0,
             "ticks": ""
            },
            "type": "contourcarpet"
           }
          ],
          "heatmap": [
           {
            "colorbar": {
             "outlinewidth": 0,
             "ticks": ""
            },
            "colorscale": [
             [
              0,
              "#0d0887"
             ],
             [
              0.1111111111111111,
              "#46039f"
             ],
             [
              0.2222222222222222,
              "#7201a8"
             ],
             [
              0.3333333333333333,
              "#9c179e"
             ],
             [
              0.4444444444444444,
              "#bd3786"
             ],
             [
              0.5555555555555556,
              "#d8576b"
             ],
             [
              0.6666666666666666,
              "#ed7953"
             ],
             [
              0.7777777777777778,
              "#fb9f3a"
             ],
             [
              0.8888888888888888,
              "#fdca26"
             ],
             [
              1,
              "#f0f921"
             ]
            ],
            "type": "heatmap"
           }
          ],
          "heatmapgl": [
           {
            "colorbar": {
             "outlinewidth": 0,
             "ticks": ""
            },
            "colorscale": [
             [
              0,
              "#0d0887"
             ],
             [
              0.1111111111111111,
              "#46039f"
             ],
             [
              0.2222222222222222,
              "#7201a8"
             ],
             [
              0.3333333333333333,
              "#9c179e"
             ],
             [
              0.4444444444444444,
              "#bd3786"
             ],
             [
              0.5555555555555556,
              "#d8576b"
             ],
             [
              0.6666666666666666,
              "#ed7953"
             ],
             [
              0.7777777777777778,
              "#fb9f3a"
             ],
             [
              0.8888888888888888,
              "#fdca26"
             ],
             [
              1,
              "#f0f921"
             ]
            ],
            "type": "heatmapgl"
           }
          ],
          "histogram": [
           {
            "marker": {
             "pattern": {
              "fillmode": "overlay",
              "size": 10,
              "solidity": 0.2
             }
            },
            "type": "histogram"
           }
          ],
          "histogram2d": [
           {
            "colorbar": {
             "outlinewidth": 0,
             "ticks": ""
            },
            "colorscale": [
             [
              0,
              "#0d0887"
             ],
             [
              0.1111111111111111,
              "#46039f"
             ],
             [
              0.2222222222222222,
              "#7201a8"
             ],
             [
              0.3333333333333333,
              "#9c179e"
             ],
             [
              0.4444444444444444,
              "#bd3786"
             ],
             [
              0.5555555555555556,
              "#d8576b"
             ],
             [
              0.6666666666666666,
              "#ed7953"
             ],
             [
              0.7777777777777778,
              "#fb9f3a"
             ],
             [
              0.8888888888888888,
              "#fdca26"
             ],
             [
              1,
              "#f0f921"
             ]
            ],
            "type": "histogram2d"
           }
          ],
          "histogram2dcontour": [
           {
            "colorbar": {
             "outlinewidth": 0,
             "ticks": ""
            },
            "colorscale": [
             [
              0,
              "#0d0887"
             ],
             [
              0.1111111111111111,
              "#46039f"
             ],
             [
              0.2222222222222222,
              "#7201a8"
             ],
             [
              0.3333333333333333,
              "#9c179e"
             ],
             [
              0.4444444444444444,
              "#bd3786"
             ],
             [
              0.5555555555555556,
              "#d8576b"
             ],
             [
              0.6666666666666666,
              "#ed7953"
             ],
             [
              0.7777777777777778,
              "#fb9f3a"
             ],
             [
              0.8888888888888888,
              "#fdca26"
             ],
             [
              1,
              "#f0f921"
             ]
            ],
            "type": "histogram2dcontour"
           }
          ],
          "mesh3d": [
           {
            "colorbar": {
             "outlinewidth": 0,
             "ticks": ""
            },
            "type": "mesh3d"
           }
          ],
          "parcoords": [
           {
            "line": {
             "colorbar": {
              "outlinewidth": 0,
              "ticks": ""
             }
            },
            "type": "parcoords"
           }
          ],
          "pie": [
           {
            "automargin": true,
            "type": "pie"
           }
          ],
          "scatter": [
           {
            "fillpattern": {
             "fillmode": "overlay",
             "size": 10,
             "solidity": 0.2
            },
            "type": "scatter"
           }
          ],
          "scatter3d": [
           {
            "line": {
             "colorbar": {
              "outlinewidth": 0,
              "ticks": ""
             }
            },
            "marker": {
             "colorbar": {
              "outlinewidth": 0,
              "ticks": ""
             }
            },
            "type": "scatter3d"
           }
          ],
          "scattercarpet": [
           {
            "marker": {
             "colorbar": {
              "outlinewidth": 0,
              "ticks": ""
             }
            },
            "type": "scattercarpet"
           }
          ],
          "scattergeo": [
           {
            "marker": {
             "colorbar": {
              "outlinewidth": 0,
              "ticks": ""
             }
            },
            "type": "scattergeo"
           }
          ],
          "scattergl": [
           {
            "marker": {
             "colorbar": {
              "outlinewidth": 0,
              "ticks": ""
             }
            },
            "type": "scattergl"
           }
          ],
          "scattermapbox": [
           {
            "marker": {
             "colorbar": {
              "outlinewidth": 0,
              "ticks": ""
             }
            },
            "type": "scattermapbox"
           }
          ],
          "scatterpolar": [
           {
            "marker": {
             "colorbar": {
              "outlinewidth": 0,
              "ticks": ""
             }
            },
            "type": "scatterpolar"
           }
          ],
          "scatterpolargl": [
           {
            "marker": {
             "colorbar": {
              "outlinewidth": 0,
              "ticks": ""
             }
            },
            "type": "scatterpolargl"
           }
          ],
          "scatterternary": [
           {
            "marker": {
             "colorbar": {
              "outlinewidth": 0,
              "ticks": ""
             }
            },
            "type": "scatterternary"
           }
          ],
          "surface": [
           {
            "colorbar": {
             "outlinewidth": 0,
             "ticks": ""
            },
            "colorscale": [
             [
              0,
              "#0d0887"
             ],
             [
              0.1111111111111111,
              "#46039f"
             ],
             [
              0.2222222222222222,
              "#7201a8"
             ],
             [
              0.3333333333333333,
              "#9c179e"
             ],
             [
              0.4444444444444444,
              "#bd3786"
             ],
             [
              0.5555555555555556,
              "#d8576b"
             ],
             [
              0.6666666666666666,
              "#ed7953"
             ],
             [
              0.7777777777777778,
              "#fb9f3a"
             ],
             [
              0.8888888888888888,
              "#fdca26"
             ],
             [
              1,
              "#f0f921"
             ]
            ],
            "type": "surface"
           }
          ],
          "table": [
           {
            "cells": {
             "fill": {
              "color": "#EBF0F8"
             },
             "line": {
              "color": "white"
             }
            },
            "header": {
             "fill": {
              "color": "#C8D4E3"
             },
             "line": {
              "color": "white"
             }
            },
            "type": "table"
           }
          ]
         },
         "layout": {
          "annotationdefaults": {
           "arrowcolor": "#2a3f5f",
           "arrowhead": 0,
           "arrowwidth": 1
          },
          "autotypenumbers": "strict",
          "coloraxis": {
           "colorbar": {
            "outlinewidth": 0,
            "ticks": ""
           }
          },
          "colorscale": {
           "diverging": [
            [
             0,
             "#8e0152"
            ],
            [
             0.1,
             "#c51b7d"
            ],
            [
             0.2,
             "#de77ae"
            ],
            [
             0.3,
             "#f1b6da"
            ],
            [
             0.4,
             "#fde0ef"
            ],
            [
             0.5,
             "#f7f7f7"
            ],
            [
             0.6,
             "#e6f5d0"
            ],
            [
             0.7,
             "#b8e186"
            ],
            [
             0.8,
             "#7fbc41"
            ],
            [
             0.9,
             "#4d9221"
            ],
            [
             1,
             "#276419"
            ]
           ],
           "sequential": [
            [
             0,
             "#0d0887"
            ],
            [
             0.1111111111111111,
             "#46039f"
            ],
            [
             0.2222222222222222,
             "#7201a8"
            ],
            [
             0.3333333333333333,
             "#9c179e"
            ],
            [
             0.4444444444444444,
             "#bd3786"
            ],
            [
             0.5555555555555556,
             "#d8576b"
            ],
            [
             0.6666666666666666,
             "#ed7953"
            ],
            [
             0.7777777777777778,
             "#fb9f3a"
            ],
            [
             0.8888888888888888,
             "#fdca26"
            ],
            [
             1,
             "#f0f921"
            ]
           ],
           "sequentialminus": [
            [
             0,
             "#0d0887"
            ],
            [
             0.1111111111111111,
             "#46039f"
            ],
            [
             0.2222222222222222,
             "#7201a8"
            ],
            [
             0.3333333333333333,
             "#9c179e"
            ],
            [
             0.4444444444444444,
             "#bd3786"
            ],
            [
             0.5555555555555556,
             "#d8576b"
            ],
            [
             0.6666666666666666,
             "#ed7953"
            ],
            [
             0.7777777777777778,
             "#fb9f3a"
            ],
            [
             0.8888888888888888,
             "#fdca26"
            ],
            [
             1,
             "#f0f921"
            ]
           ]
          },
          "colorway": [
           "#636efa",
           "#EF553B",
           "#00cc96",
           "#ab63fa",
           "#FFA15A",
           "#19d3f3",
           "#FF6692",
           "#B6E880",
           "#FF97FF",
           "#FECB52"
          ],
          "font": {
           "color": "#2a3f5f"
          },
          "geo": {
           "bgcolor": "white",
           "lakecolor": "white",
           "landcolor": "#E5ECF6",
           "showlakes": true,
           "showland": true,
           "subunitcolor": "white"
          },
          "hoverlabel": {
           "align": "left"
          },
          "hovermode": "closest",
          "mapbox": {
           "style": "light"
          },
          "paper_bgcolor": "white",
          "plot_bgcolor": "#E5ECF6",
          "polar": {
           "angularaxis": {
            "gridcolor": "white",
            "linecolor": "white",
            "ticks": ""
           },
           "bgcolor": "#E5ECF6",
           "radialaxis": {
            "gridcolor": "white",
            "linecolor": "white",
            "ticks": ""
           }
          },
          "scene": {
           "xaxis": {
            "backgroundcolor": "#E5ECF6",
            "gridcolor": "white",
            "gridwidth": 2,
            "linecolor": "white",
            "showbackground": true,
            "ticks": "",
            "zerolinecolor": "white"
           },
           "yaxis": {
            "backgroundcolor": "#E5ECF6",
            "gridcolor": "white",
            "gridwidth": 2,
            "linecolor": "white",
            "showbackground": true,
            "ticks": "",
            "zerolinecolor": "white"
           },
           "zaxis": {
            "backgroundcolor": "#E5ECF6",
            "gridcolor": "white",
            "gridwidth": 2,
            "linecolor": "white",
            "showbackground": true,
            "ticks": "",
            "zerolinecolor": "white"
           }
          },
          "shapedefaults": {
           "line": {
            "color": "#2a3f5f"
           }
          },
          "ternary": {
           "aaxis": {
            "gridcolor": "white",
            "linecolor": "white",
            "ticks": ""
           },
           "baxis": {
            "gridcolor": "white",
            "linecolor": "white",
            "ticks": ""
           },
           "bgcolor": "#E5ECF6",
           "caxis": {
            "gridcolor": "white",
            "linecolor": "white",
            "ticks": ""
           }
          },
          "title": {
           "x": 0.05
          },
          "xaxis": {
           "automargin": true,
           "gridcolor": "white",
           "linecolor": "white",
           "ticks": "",
           "title": {
            "standoff": 15
           },
           "zerolinecolor": "white",
           "zerolinewidth": 2
          },
          "yaxis": {
           "automargin": true,
           "gridcolor": "white",
           "linecolor": "white",
           "ticks": "",
           "title": {
            "standoff": 15
           },
           "zerolinecolor": "white",
           "zerolinewidth": 2
          }
         }
        },
        "title": {
         "text": "Precio Media Anual"
        },
        "xaxis": {
         "gridcolor": "#dddcda",
         "tickmode": "array",
         "ticktext": [
          2023,
          2024,
          2025,
          2026,
          2027
         ],
         "tickvals": [
          2023,
          2024,
          2025,
          2026,
          2027
         ]
        },
        "yaxis": {
         "gridcolor": "#dddcda",
         "gridwidth": 1,
         "range": [
          0,
          2000000
         ],
         "ticktext": [
          "$0.00",
          "$500,000.00",
          "$1,000,000.00",
          "$1,500,000.00",
          "$2,000,000.00"
         ],
         "tickvals": [
          0,
          500000,
          1000000,
          1500000,
          2000000
         ]
        }
       }
      }
     },
     "metadata": {},
     "output_type": "display_data"
    }
   ],
   "source": [
    "\n",
    "# Datos\n",
    "año = precio_medianual_tulancingo_direct['año']\n",
    "promedio = precio_medianual_tulancingo_direct['conteo']\n",
    "\n",
    "fig = go.Figure()\n",
    "fig.add_trace(go.Scatter(\n",
    "    x=año,\n",
    "    y=promedio,\n",
    "    mode='markers+lines',\n",
    "    marker=dict(color='blue'),\n",
    "))\n",
    "# Agregar anotaciones para mostrar los valores encima de los puntos\n",
    "for a, p in zip(año, promedio):\n",
    "    fig.add_annotation(\n",
    "        x=a,\n",
    "        y=p,\n",
    "        text=f\"${p:,.2f}\",  # Formatear el valor del promedio como moneda\n",
    "        showarrow=False,\n",
    "        font=dict(color='black', size=12),\n",
    "        xshift=0,\n",
    "        yshift=17,\n",
    "        textangle=0\n",
    "    )\n",
    "# Actualizar diseño\n",
    "fig.update_layout(\n",
    "    title='Precio Media Anual',\n",
    "    yaxis=dict(\n",
    "        range=[0, 2000000],  # Establecer el rango del eje y\n",
    "        tickvals=[0,500000,1000000,1500000,2000000],  # Definir los valores de las marcas en el eje y\n",
    "        ticktext=['$0.00', '$500,000.00', '$1,000,000.00', '$1,500,000.00', '$2,000,000.00'],  # Definir el texto de las marcas en el eje y\n",
    "        gridcolor='#dddcda',   # Color de las líneas de la cuadrícula\n",
    "        gridwidth=1  # Ancho de las líneas de la cuadrícula\n",
    "    ),\n",
    "    xaxis=dict(\n",
    "        gridcolor='#dddcda', \n",
    "        tickmode='array',\n",
    "        tickvals=año,\n",
    "        ticktext=año\n",
    "    ),\n",
    "    plot_bgcolor='rgba(0,0,0,0)'\n",
    ")\n",
    "# Exportar gráfica como archivo HTML\n",
    "def guardar_grafico_como_html(fig, nombre_archivo, carpeta='graficas'):\n",
    "    # Crear la carpeta si no existe\n",
    "    if not os.path.exists(carpeta):\n",
    "        os.makedirs(carpeta)\n",
    "    \n",
    "    # Gráfica como archivo HTML en la carpeta especificada\n",
    "    pio.write_html(fig, f'{carpeta}/{nombre_archivo}.html')\n",
    "\n",
    "guardar_grafico_como_html(fig, 'g_scatt_preciomediaanual_prom_direct_tulancingo', carpeta='graficas')\n",
    "fig.show()"
   ]
  },
  {
   "cell_type": "code",
   "execution_count": null,
   "metadata": {},
   "outputs": [],
   "source": []
  },
  {
   "cell_type": "code",
   "execution_count": null,
   "metadata": {},
   "outputs": [],
   "source": []
  }
 ],
 "metadata": {
  "kernelspec": {
   "display_name": "base",
   "language": "python",
   "name": "python3"
  },
  "language_info": {
   "codemirror_mode": {
    "name": "ipython",
    "version": 3
   },
   "file_extension": ".py",
   "mimetype": "text/x-python",
   "name": "python",
   "nbconvert_exporter": "python",
   "pygments_lexer": "ipython3",
   "version": "3.9.13"
  }
 },
 "nbformat": 4,
 "nbformat_minor": 2
}
